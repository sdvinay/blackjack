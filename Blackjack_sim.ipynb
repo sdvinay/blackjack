{
 "cells": [
  {
   "cell_type": "code",
   "execution_count": 1,
   "id": "middle-scenario",
   "metadata": {
    "ExecuteTime": {
     "end_time": "2021-07-08T03:28:22.900524Z",
     "start_time": "2021-07-08T03:28:22.269544Z"
    }
   },
   "outputs": [],
   "source": [
    "import pandas as pd\n",
    "import matplotlib.pyplot as plt\n",
    "import seaborn as sns\n",
    "\n",
    "\n",
    "import blackjack as bj\n",
    "from blackjack import Hand, HandScore, Action, make_hand"
   ]
  },
  {
   "cell_type": "code",
   "execution_count": 2,
   "id": "floating-forge",
   "metadata": {
    "ExecuteTime": {
     "end_time": "2021-07-08T03:28:22.907416Z",
     "start_time": "2021-07-08T03:28:22.901786Z"
    }
   },
   "outputs": [
    {
     "data": {
      "text/plain": [
       "s11"
      ]
     },
     "execution_count": 2,
     "metadata": {},
     "output_type": "execute_result"
    }
   ],
   "source": [
    "h = HandScore(11, True)\n",
    "h"
   ]
  },
  {
   "cell_type": "code",
   "execution_count": 3,
   "id": "pointed-judge",
   "metadata": {
    "ExecuteTime": {
     "end_time": "2021-07-08T03:28:22.914864Z",
     "start_time": "2021-07-08T03:28:22.911986Z"
    }
   },
   "outputs": [
    {
     "data": {
      "text/plain": [
       "s21"
      ]
     },
     "execution_count": 3,
     "metadata": {},
     "output_type": "execute_result"
    }
   ],
   "source": [
    "h.add_card(10)"
   ]
  },
  {
   "cell_type": "code",
   "execution_count": 4,
   "id": "mounted-kernel",
   "metadata": {
    "ExecuteTime": {
     "end_time": "2021-07-08T03:28:22.920015Z",
     "start_time": "2021-07-08T03:28:22.917133Z"
    }
   },
   "outputs": [
    {
     "data": {
      "text/plain": [
       "h21"
      ]
     },
     "execution_count": 4,
     "metadata": {},
     "output_type": "execute_result"
    }
   ],
   "source": [
    "h.add_card(10).add_card(10)"
   ]
  },
  {
   "cell_type": "code",
   "execution_count": 5,
   "id": "static-printer",
   "metadata": {
    "ExecuteTime": {
     "end_time": "2021-07-08T03:28:22.927810Z",
     "start_time": "2021-07-08T03:28:22.924023Z"
    }
   },
   "outputs": [
    {
     "data": {
      "text/plain": [
       "s11"
      ]
     },
     "execution_count": 5,
     "metadata": {},
     "output_type": "execute_result"
    }
   ],
   "source": [
    "h"
   ]
  },
  {
   "cell_type": "code",
   "execution_count": 6,
   "id": "turkish-state",
   "metadata": {
    "ExecuteTime": {
     "end_time": "2021-07-08T03:28:22.933904Z",
     "start_time": "2021-07-08T03:28:22.929668Z"
    }
   },
   "outputs": [
    {
     "data": {
      "text/plain": [
       "s14"
      ]
     },
     "execution_count": 6,
     "metadata": {},
     "output_type": "execute_result"
    }
   ],
   "source": [
    "h.add_card(3)"
   ]
  },
  {
   "cell_type": "code",
   "execution_count": 7,
   "id": "cubic-object",
   "metadata": {
    "ExecuteTime": {
     "end_time": "2021-07-08T03:28:22.943844Z",
     "start_time": "2021-07-08T03:28:22.936833Z"
    }
   },
   "outputs": [
    {
     "data": {
      "text/plain": [
       "h14"
      ]
     },
     "execution_count": 7,
     "metadata": {},
     "output_type": "execute_result"
    }
   ],
   "source": [
    "h.add_card(3).add_card(10)"
   ]
  },
  {
   "cell_type": "code",
   "execution_count": 8,
   "id": "afraid-bristol",
   "metadata": {
    "ExecuteTime": {
     "end_time": "2021-07-08T03:28:22.950798Z",
     "start_time": "2021-07-08T03:28:22.947528Z"
    }
   },
   "outputs": [
    {
     "data": {
      "text/plain": [
       "[h00,\n",
       " h01,\n",
       " h02,\n",
       " h03,\n",
       " h04,\n",
       " h05,\n",
       " h06,\n",
       " h07,\n",
       " h08,\n",
       " h09,\n",
       " h10,\n",
       " h11,\n",
       " h12,\n",
       " h13,\n",
       " h14,\n",
       " h15,\n",
       " h16,\n",
       " h17,\n",
       " h18,\n",
       " h19,\n",
       " h20,\n",
       " h21,\n",
       " h22,\n",
       " s11,\n",
       " s12,\n",
       " s13,\n",
       " s14,\n",
       " s15,\n",
       " s16,\n",
       " s17,\n",
       " s18,\n",
       " s19,\n",
       " s20,\n",
       " s21]"
      ]
     },
     "execution_count": 8,
     "metadata": {},
     "output_type": "execute_result"
    }
   ],
   "source": [
    "all_scores = [HandScore(i, False) for i in range(0, 23)] + [HandScore(i, True) for i in range(11, 22)]\n",
    "all_scores"
   ]
  },
  {
   "cell_type": "code",
   "execution_count": 9,
   "id": "initial-harrison",
   "metadata": {
    "ExecuteTime": {
     "end_time": "2021-07-08T03:28:22.957772Z",
     "start_time": "2021-07-08T03:28:22.955185Z"
    }
   },
   "outputs": [
    {
     "data": {
      "text/plain": [
       "Hand(score=h00, cards=[], doubled=False, drawn=False)"
      ]
     },
     "execution_count": 9,
     "metadata": {},
     "output_type": "execute_result"
    }
   ],
   "source": [
    "h = Hand()\n",
    "h"
   ]
  },
  {
   "cell_type": "code",
   "execution_count": 10,
   "id": "reduced-cover",
   "metadata": {
    "ExecuteTime": {
     "end_time": "2021-07-08T03:28:22.961240Z",
     "start_time": "2021-07-08T03:28:22.959022Z"
    }
   },
   "outputs": [
    {
     "data": {
      "text/plain": [
       "Hand(score=h06, cards=[6], doubled=False, drawn=True)"
      ]
     },
     "execution_count": 10,
     "metadata": {},
     "output_type": "execute_result"
    }
   ],
   "source": [
    "h.add_card(6) # start a hand with a 6"
   ]
  },
  {
   "cell_type": "code",
   "execution_count": 11,
   "id": "aging-green",
   "metadata": {
    "ExecuteTime": {
     "end_time": "2021-07-08T03:28:22.964484Z",
     "start_time": "2021-07-08T03:28:22.962295Z"
    }
   },
   "outputs": [
    {
     "data": {
      "text/plain": [
       "Hand(score=h16, cards=[6, 11], doubled=False, drawn=True)"
      ]
     },
     "execution_count": 11,
     "metadata": {},
     "output_type": "execute_result"
    }
   ],
   "source": [
    "h.add_card(11) # show that J (11) counts as 10 points"
   ]
  },
  {
   "cell_type": "code",
   "execution_count": 12,
   "id": "humanitarian-chair",
   "metadata": {
    "ExecuteTime": {
     "end_time": "2021-07-08T03:28:22.967660Z",
     "start_time": "2021-07-08T03:28:22.965566Z"
    }
   },
   "outputs": [
    {
     "data": {
      "text/plain": [
       "(Hand(score=h22, cards=[6, 11, 7], doubled=False, drawn=True), True)"
      ]
     },
     "execution_count": 12,
     "metadata": {},
     "output_type": "execute_result"
    }
   ],
   "source": [
    "h.add_card(7), bj.is_busted(h) # bust (show that 23 is counted as 22)"
   ]
  },
  {
   "cell_type": "code",
   "execution_count": 13,
   "id": "accompanied-perspective",
   "metadata": {
    "ExecuteTime": {
     "end_time": "2021-07-08T03:28:22.971682Z",
     "start_time": "2021-07-08T03:28:22.968618Z"
    }
   },
   "outputs": [
    {
     "data": {
      "text/plain": [
       "Hand(score=s11, cards=[1], doubled=False, drawn=True)"
      ]
     },
     "execution_count": 13,
     "metadata": {},
     "output_type": "execute_result"
    }
   ],
   "source": [
    "# OK, now let's try another hand with aces\n",
    "h = Hand()\n",
    "h.add_card(1) # should be a soft 11"
   ]
  },
  {
   "cell_type": "code",
   "execution_count": 14,
   "id": "exotic-checkout",
   "metadata": {
    "ExecuteTime": {
     "end_time": "2021-07-08T03:28:22.976399Z",
     "start_time": "2021-07-08T03:28:22.972867Z"
    }
   },
   "outputs": [
    {
     "data": {
      "text/plain": [
       "Hand(score=s12, cards=[1, 1], doubled=False, drawn=True)"
      ]
     },
     "execution_count": 14,
     "metadata": {},
     "output_type": "execute_result"
    }
   ],
   "source": [
    "h.add_card(1) # two aces: should be a soft 12"
   ]
  },
  {
   "cell_type": "code",
   "execution_count": 15,
   "id": "italian-beads",
   "metadata": {
    "ExecuteTime": {
     "end_time": "2021-07-08T03:28:22.979526Z",
     "start_time": "2021-07-08T03:28:22.977355Z"
    }
   },
   "outputs": [
    {
     "data": {
      "text/plain": [
       "Hand(score=h12, cards=[1, 1, 11], doubled=False, drawn=True)"
      ]
     },
     "execution_count": 15,
     "metadata": {},
     "output_type": "execute_result"
    }
   ],
   "source": [
    "h.add_card(11) # two aces and a J: should be a hard 12"
   ]
  },
  {
   "cell_type": "code",
   "execution_count": 16,
   "id": "neutral-sugar",
   "metadata": {
    "ExecuteTime": {
     "end_time": "2021-07-08T03:28:22.983309Z",
     "start_time": "2021-07-08T03:28:22.980392Z"
    }
   },
   "outputs": [
    {
     "data": {
      "text/plain": [
       "(Hand(score=s21, cards=[1, 10], doubled=False, drawn=True), True)"
      ]
     },
     "execution_count": 16,
     "metadata": {},
     "output_type": "execute_result"
    }
   ],
   "source": [
    "# OK, now let's try another hand with a blackjack\n",
    "h = Hand()\n",
    "h.add_card(1) # should be a soft 11\n",
    "h.add_card(10)\n",
    "h, bj.is_blackjack(h)"
   ]
  },
  {
   "cell_type": "markdown",
   "id": "dental-kelly",
   "metadata": {},
   "source": [
    "## Now define gameplay and strategy"
   ]
  },
  {
   "cell_type": "code",
   "execution_count": 17,
   "id": "secondary-crown",
   "metadata": {
    "ExecuteTime": {
     "end_time": "2021-07-08T03:28:22.986820Z",
     "start_time": "2021-07-08T03:28:22.984198Z"
    }
   },
   "outputs": [
    {
     "data": {
      "text/plain": [
       "[6, 10, 2, 2, 8, 6, 5, 1, 6, 11]"
      ]
     },
     "execution_count": 17,
     "metadata": {},
     "output_type": "execute_result"
    }
   ],
   "source": [
    "[bj.deal_card() for _ in range(10)]"
   ]
  },
  {
   "cell_type": "code",
   "execution_count": null,
   "id": "adopted-miami",
   "metadata": {
    "ExecuteTime": {
     "end_time": "2021-07-07T22:43:27.944357Z",
     "start_time": "2021-07-07T22:43:27.941879Z"
    }
   },
   "outputs": [],
   "source": []
  },
  {
   "cell_type": "code",
   "execution_count": null,
   "id": "violent-quality",
   "metadata": {
    "ExecuteTime": {
     "end_time": "2021-07-07T22:43:27.953435Z",
     "start_time": "2021-07-07T22:43:27.950609Z"
    }
   },
   "outputs": [],
   "source": []
  },
  {
   "cell_type": "code",
   "execution_count": 18,
   "id": "atomic-plaintiff",
   "metadata": {
    "ExecuteTime": {
     "end_time": "2021-07-08T03:28:22.992151Z",
     "start_time": "2021-07-08T03:28:22.987901Z"
    }
   },
   "outputs": [
    {
     "data": {
      "text/plain": [
       "[('strat_nobust',\n",
       "  Hand(score=h15, cards=[5, 12], doubled=False, drawn=True),\n",
       "  Hand(score=h22, cards=[13, 3, 11], doubled=False, drawn=True),\n",
       "  <HandOutcome.WIN: 1>),\n",
       " ('strat_nobust',\n",
       "  Hand(score=h15, cards=[5, 12], doubled=False, drawn=True),\n",
       "  Hand(score=h22, cards=[13, 3, 11], doubled=False, drawn=True),\n",
       "  <HandOutcome.WIN: 1>)]"
      ]
     },
     "execution_count": 18,
     "metadata": {},
     "output_type": "execute_result"
    }
   ],
   "source": [
    "bj.play_one_round([bj.strat_nobust, bj.strat_nobust])"
   ]
  },
  {
   "cell_type": "markdown",
   "id": "looking-jewelry",
   "metadata": {},
   "source": [
    "## Aggregate and summarize the data from the simulations"
   ]
  },
  {
   "cell_type": "code",
   "execution_count": 19,
   "id": "juvenile-joshua",
   "metadata": {
    "ExecuteTime": {
     "end_time": "2021-07-08T03:28:22.997373Z",
     "start_time": "2021-07-08T03:28:22.993342Z"
    }
   },
   "outputs": [
    {
     "data": {
      "text/plain": [
       "[{'strategy': 'strat_nobust',\n",
       "  'hand_start': [9, 13],\n",
       "  'dealer_card': 2,\n",
       "  'hand_end': [9, 13],\n",
       "  'dealer_hand': [2, 13, 10],\n",
       "  'outcome': <HandOutcome.WIN: 1>},\n",
       " {'strategy': 'strat_dealer',\n",
       "  'hand_start': [9, 13],\n",
       "  'dealer_card': 2,\n",
       "  'hand_end': [9, 13],\n",
       "  'dealer_hand': [2, 13, 10],\n",
       "  'outcome': <HandOutcome.WIN: 1>}]"
      ]
     },
     "execution_count": 19,
     "metadata": {},
     "output_type": "execute_result"
    }
   ],
   "source": [
    "\n",
    "def generate_row_from_player(player):\n",
    "    (strat, hand_p, hand_d, outcome) = player\n",
    "    return {'strategy': strat, 'hand_start': hand_p.cards[:2], 'dealer_card': hand_d.cards[0], 'hand_end': hand_p.cards, 'dealer_hand': hand_d.cards, 'outcome': outcome}\n",
    "\n",
    "def generate_rows_from_round(r):\n",
    "    return [generate_row_from_player(player) for player in r]\n",
    "\n",
    "strat_nobust = bj.strat_nobust\n",
    "strat_dealer = bj.strat_dealer\n",
    "generate_rows_from_round(bj.play_one_round([bj.strat_nobust, bj.strat_dealer]))\n"
   ]
  },
  {
   "cell_type": "code",
   "execution_count": 20,
   "id": "approved-broadway",
   "metadata": {
    "ExecuteTime": {
     "end_time": "2021-07-08T03:28:30.754099Z",
     "start_time": "2021-07-08T03:28:22.998692Z"
    }
   },
   "outputs": [
    {
     "name": "stdout",
     "output_type": "stream",
     "text": [
      " "
     ]
    }
   ],
   "source": [
    "def run_n_sim_trials(strats, n):\n",
    "    sims = [generate_rows_from_round(bj.play_one_round(strats)) for _ in range(n)]\n",
    "    results = pd.DataFrame([player for round in sims for player in round])\n",
    "    results['outcome_value'] = results['outcome'].apply(lambda x: x.value)\n",
    "    results['outcome_name'] = results['outcome'].apply(lambda x: str(x)[12:])\n",
    "    return results\n",
    "\n",
    "def summarize_totals(sims):\n",
    "    def outcome_name(x): return x.head(1) # The function name will be used as the column name\n",
    "    outcome_counts = sims.groupby(['strategy', 'outcome_value'])['outcome_name'].agg([len, outcome_name])\n",
    "    outcome_summary = outcome_counts.reset_index().set_index('strategy').drop(['outcome_value'], axis=1).pivot(columns=['outcome_name'])\n",
    "\n",
    "    # The empty cells are NaNs; fill the NaNs and convert back to int\n",
    "    for col in outcome_summary.columns:\n",
    "        outcome_summary[col] = outcome_summary[col].fillna(0).apply(int)\n",
    "        \n",
    "    outcome_summary['mean_outcome'] = sims.groupby('strategy')['outcome_value'].mean()\n",
    "    \n",
    "    return outcome_summary\n",
    "\n",
    "\n",
    "sim_results = run_n_sim_trials([strat_nobust, strat_dealer], 100000)\n",
    "%prun -s cumulative sim_results, summarize_totals(sim_results)"
   ]
  },
  {
   "cell_type": "code",
   "execution_count": 21,
   "id": "varied-devil",
   "metadata": {
    "ExecuteTime": {
     "end_time": "2021-07-08T03:28:30.830524Z",
     "start_time": "2021-07-08T03:28:30.755400Z"
    }
   },
   "outputs": [
    {
     "data": {
      "text/plain": [
       "(  strategy hand_start  dealer_card    hand_end    dealer_hand  \\\n",
       " 0   simple    [9, 12]            3     [9, 12]     [3, 13, 5]   \n",
       " 1   simple    [9, 10]            1     [9, 10]  [1, 5, 11, 2]   \n",
       " 2   simple    [7, 11]            7     [7, 11]      [7, 5, 7]   \n",
       " 3   simple     [2, 3]            3  [2, 3, 12]      [3, 5, 9]   \n",
       " 4   simple    [12, 2]           10  [12, 2, 5]        [10, 8]   \n",
       " 5   simple     [3, 3]            6   [3, 3, 7]      [6, 9, 3]   \n",
       " 6   simple     [3, 3]            6  [3, 3, 10]      [6, 6, 8]   \n",
       " 7   simple    [13, 4]            3     [13, 4]     [3, 5, 11]   \n",
       " 8   simple     [4, 1]            5      [4, 1]     [5, 9, 10]   \n",
       " 9   simple   [12, 13]            5    [12, 13]  [5, 6, 5, 11]   \n",
       " \n",
       "             outcome  outcome_value outcome_name  \n",
       " 0   HandOutcome.WIN            1.0          WIN  \n",
       " 1   HandOutcome.WIN            1.0          WIN  \n",
       " 2  HandOutcome.LOSE           -1.0         LOSE  \n",
       " 3  HandOutcome.LOSE           -1.0         LOSE  \n",
       " 4  HandOutcome.LOSE           -1.0         LOSE  \n",
       " 5  HandOutcome.LOSE           -1.0         LOSE  \n",
       " 6  HandOutcome.LOSE           -1.0         LOSE  \n",
       " 7  HandOutcome.LOSE           -1.0         LOSE  \n",
       " 8   HandOutcome.WIN            1.0          WIN  \n",
       " 9   HandOutcome.WIN            1.0          WIN  ,\n",
       "                    len                mean_outcome\n",
       " outcome_name BLACKJACK LOSE PUSH  WIN             \n",
       " strategy                                          \n",
       " simple              47  473  107  373      -0.0295)"
      ]
     },
     "execution_count": 21,
     "metadata": {},
     "output_type": "execute_result"
    }
   ],
   "source": [
    "def strat_simple(score_p, score_d):\n",
    "    if score_p.points == 11:  return Action.DOUBLE\n",
    "    if score_p.points >= 17:  return Action.STAND\n",
    "    if score_p.points <= 11:  return Action.HIT\n",
    "    if score_d.points in (range(3,7)):  return Action.STAND\n",
    "    else:  return Action.HIT\n",
    "        \n",
    "strat_simple.name = 'simple'\n",
    "\n",
    "\n",
    "sims = run_n_sim_trials([strat_simple], 1000)\n",
    "sims.head(10), summarize_totals(sims)"
   ]
  },
  {
   "cell_type": "code",
   "execution_count": 22,
   "id": "confirmed-passing",
   "metadata": {
    "ExecuteTime": {
     "end_time": "2021-07-08T03:28:33.076584Z",
     "start_time": "2021-07-08T03:28:30.831773Z"
    }
   },
   "outputs": [
    {
     "name": "stdout",
     "output_type": "stream",
     "text": [
      " "
     ]
    }
   ],
   "source": [
    "%prun -s cumulative summarize_totals(run_n_sim_trials([strat_dealer, strat_nobust, strat_simple], 10000))\n"
   ]
  },
  {
   "cell_type": "markdown",
   "id": "fluid-writing",
   "metadata": {},
   "source": [
    "## Simulate specific situations to determine strategy"
   ]
  },
  {
   "cell_type": "code",
   "execution_count": 23,
   "id": "otherwise-sheffield",
   "metadata": {
    "ExecuteTime": {
     "end_time": "2021-07-08T03:28:33.082941Z",
     "start_time": "2021-07-08T03:28:33.080649Z"
    }
   },
   "outputs": [
    {
     "data": {
      "text/plain": [
       "(Hand(score=h12, cards=[5, 7], doubled=False, drawn=True),\n",
       " Hand(score=h02, cards=[2], doubled=False, drawn=True))"
      ]
     },
     "execution_count": 23,
     "metadata": {},
     "output_type": "execute_result"
    }
   ],
   "source": [
    "# 12 vs deuce\n",
    "\n",
    "hand_p = make_hand([5, 7])\n",
    "hand_d = make_hand([2])\n",
    "\n",
    "hand_p, hand_d"
   ]
  },
  {
   "cell_type": "code",
   "execution_count": 24,
   "id": "gross-kennedy",
   "metadata": {
    "ExecuteTime": {
     "end_time": "2021-07-08T03:28:33.087768Z",
     "start_time": "2021-07-08T03:28:33.084926Z"
    }
   },
   "outputs": [],
   "source": [
    "# Implement a strategy that composes conditions and actions\n",
    "\n",
    "def cond_12_2(score_p, score_d):\n",
    "    return score_p.points == 12 and score_d.points == 2 and not score_p.soft\n",
    "conditions = [(cond_12_2, Action.STAND)]\n",
    "\n",
    "def generate_strat_conditional(strat_base, conditions):\n",
    "    def strat_cond(score_p, score_d):\n",
    "        for (condition, action) in conditions:\n",
    "            if condition(score_p, score_d): return action\n",
    "        return strat_base(score_p, score_d)\n",
    "    strat_cond.name = 'strat_cond'\n",
    "    return strat_cond\n",
    "    \n",
    "strat_cond = generate_strat_conditional(strat_simple, conditions)"
   ]
  },
  {
   "cell_type": "code",
   "execution_count": 25,
   "id": "virgin-mining",
   "metadata": {
    "ExecuteTime": {
     "end_time": "2021-07-08T03:28:33.092976Z",
     "start_time": "2021-07-08T03:28:33.089285Z"
    }
   },
   "outputs": [
    {
     "data": {
      "text/plain": [
       "[<function __main__.generate_strat_conditional.<locals>.strat_cond(score_p, score_d)>,\n",
       " <function __main__.generate_strat_conditional.<locals>.strat_cond(score_p, score_d)>,\n",
       " <function __main__.generate_strat_conditional.<locals>.strat_cond(score_p, score_d)>]"
      ]
     },
     "execution_count": 25,
     "metadata": {},
     "output_type": "execute_result"
    }
   ],
   "source": [
    "def gen_cond_strategies(strat_base, condition, actions):\n",
    "    def gen_strat_action(strat_base, condition, action):\n",
    "        strat = generate_strat_conditional(strat_base, [(condition, action)])\n",
    "        strat.name = repr(action)\n",
    "        return strat\n",
    "    \n",
    "    strats = [gen_strat_action(strat_base, condition, a) for a in actions]\n",
    "    return strats\n",
    "    \n",
    "\n",
    "\n",
    "\n",
    "strats = gen_cond_strategies(strat_simple, cond_12_2, [Action.HIT, Action.STAND, Action.DOUBLE])\n",
    "strats"
   ]
  },
  {
   "cell_type": "code",
   "execution_count": 26,
   "id": "acoustic-warrant",
   "metadata": {
    "ExecuteTime": {
     "end_time": "2021-07-08T03:28:33.097696Z",
     "start_time": "2021-07-08T03:28:33.094126Z"
    }
   },
   "outputs": [
    {
     "data": {
      "text/plain": [
       "[('<Action.HIT: 2>',\n",
       "  Hand(score=h22, cards=[5, 7, 11], doubled=False, drawn=True),\n",
       "  Hand(score=h21, cards=[2, 4, 5, 13], doubled=False, drawn=True),\n",
       "  <HandOutcome.LOSE: -1>),\n",
       " ('<Action.STAND: 1>',\n",
       "  Hand(score=h12, cards=[5, 7], doubled=False, drawn=True),\n",
       "  Hand(score=h21, cards=[2, 4, 5, 13], doubled=False, drawn=True),\n",
       "  <HandOutcome.LOSE: -1>),\n",
       " ('<Action.DOUBLE: 3>',\n",
       "  Hand(score=h18, cards=[5, 7, 6], doubled=False, drawn=True),\n",
       "  Hand(score=h21, cards=[2, 4, 5, 13], doubled=False, drawn=True),\n",
       "  <HandOutcome.LOSE: -1>)]"
      ]
     },
     "execution_count": 26,
     "metadata": {},
     "output_type": "execute_result"
    }
   ],
   "source": [
    "bj.complete_one_round(strats, hand_p, hand_d, bj.deal_card())"
   ]
  },
  {
   "cell_type": "code",
   "execution_count": 27,
   "id": "economic-greene",
   "metadata": {
    "ExecuteTime": {
     "end_time": "2021-07-08T03:28:34.080634Z",
     "start_time": "2021-07-08T03:28:33.099573Z"
    }
   },
   "outputs": [
    {
     "data": {
      "text/html": [
       "<div>\n",
       "<style scoped>\n",
       "    .dataframe tbody tr th:only-of-type {\n",
       "        vertical-align: middle;\n",
       "    }\n",
       "\n",
       "    .dataframe tbody tr th {\n",
       "        vertical-align: top;\n",
       "    }\n",
       "\n",
       "    .dataframe thead tr th {\n",
       "        text-align: left;\n",
       "    }\n",
       "\n",
       "    .dataframe thead tr:last-of-type th {\n",
       "        text-align: right;\n",
       "    }\n",
       "</style>\n",
       "<table border=\"1\" class=\"dataframe\">\n",
       "  <thead>\n",
       "    <tr>\n",
       "      <th></th>\n",
       "      <th colspan=\"3\" halign=\"left\">len</th>\n",
       "      <th>mean_outcome</th>\n",
       "    </tr>\n",
       "    <tr>\n",
       "      <th>outcome_name</th>\n",
       "      <th>LOSE</th>\n",
       "      <th>PUSH</th>\n",
       "      <th>WIN</th>\n",
       "      <th></th>\n",
       "    </tr>\n",
       "    <tr>\n",
       "      <th>strategy</th>\n",
       "      <th></th>\n",
       "      <th></th>\n",
       "      <th></th>\n",
       "      <th></th>\n",
       "    </tr>\n",
       "  </thead>\n",
       "  <tbody>\n",
       "    <tr>\n",
       "      <th>&lt;Action.DOUBLE: 3&gt;</th>\n",
       "      <td>6035</td>\n",
       "      <td>667</td>\n",
       "      <td>3298</td>\n",
       "      <td>-0.2737</td>\n",
       "    </tr>\n",
       "    <tr>\n",
       "      <th>&lt;Action.HIT: 2&gt;</th>\n",
       "      <td>6027</td>\n",
       "      <td>621</td>\n",
       "      <td>3352</td>\n",
       "      <td>-0.2675</td>\n",
       "    </tr>\n",
       "    <tr>\n",
       "      <th>&lt;Action.STAND: 1&gt;</th>\n",
       "      <td>6316</td>\n",
       "      <td>0</td>\n",
       "      <td>3684</td>\n",
       "      <td>-0.2632</td>\n",
       "    </tr>\n",
       "  </tbody>\n",
       "</table>\n",
       "</div>"
      ],
      "text/plain": [
       "                     len            mean_outcome\n",
       "outcome_name        LOSE PUSH   WIN             \n",
       "strategy                                        \n",
       "<Action.DOUBLE: 3>  6035  667  3298      -0.2737\n",
       "<Action.HIT: 2>     6027  621  3352      -0.2675\n",
       "<Action.STAND: 1>   6316    0  3684      -0.2632"
      ]
     },
     "execution_count": 27,
     "metadata": {},
     "output_type": "execute_result"
    }
   ],
   "source": [
    "# TODO reduce duplication with run_n_sim_trials\n",
    "def run_n_sim_trials_from_state(strats, hand_p, hand_d, n):\n",
    "    sims = [generate_rows_from_round(bj.complete_one_round(strats, hand_p, hand_d, bj.deal_card())) for _ in range(n)]\n",
    "    results = pd.DataFrame([player for round in sims for player in round])\n",
    "    results['outcome_value'] = results['outcome'].apply(lambda x: x.value)\n",
    "    results['outcome_name'] = results['outcome'].apply(lambda x: str(x)[12:])\n",
    "    return results\n",
    "\n",
    "sims = run_n_sim_trials_from_state(strats, hand_p, hand_d, 10000)\n",
    "summarize_totals(sims)"
   ]
  },
  {
   "cell_type": "code",
   "execution_count": 28,
   "id": "institutional-grain",
   "metadata": {
    "ExecuteTime": {
     "end_time": "2021-07-08T03:28:34.083599Z",
     "start_time": "2021-07-08T03:28:34.081505Z"
    }
   },
   "outputs": [
    {
     "data": {
      "text/plain": [
       "(Hand(score=s12, cards=[1, 1], doubled=False, drawn=True),\n",
       " Hand(score=h02, cards=[2], doubled=False, drawn=True))"
      ]
     },
     "execution_count": 28,
     "metadata": {},
     "output_type": "execute_result"
    }
   ],
   "source": [
    "# Soft 12 vs 2\n",
    "hand_12s = make_hand([1, 1])\n",
    "\n",
    "hand_12s, hand_d"
   ]
  },
  {
   "cell_type": "code",
   "execution_count": 29,
   "id": "legal-uniform",
   "metadata": {
    "ExecuteTime": {
     "end_time": "2021-07-08T03:28:34.086883Z",
     "start_time": "2021-07-08T03:28:34.084366Z"
    }
   },
   "outputs": [
    {
     "data": {
      "text/plain": [
       "[<function __main__.generate_strat_conditional.<locals>.strat_cond(score_p, score_d)>,\n",
       " <function __main__.generate_strat_conditional.<locals>.strat_cond(score_p, score_d)>,\n",
       " <function __main__.generate_strat_conditional.<locals>.strat_cond(score_p, score_d)>]"
      ]
     },
     "execution_count": 29,
     "metadata": {},
     "output_type": "execute_result"
    }
   ],
   "source": [
    "def cond_12s_2(score_p, score_d):\n",
    "    return score_p == HandScore(12, True) and score_d.points == 2\n",
    "\n",
    "strats = gen_cond_strategies(strat_simple, cond_12s_2, [Action.HIT, Action.STAND, Action.DOUBLE])\n",
    "strats"
   ]
  },
  {
   "cell_type": "code",
   "execution_count": 30,
   "id": "british-logging",
   "metadata": {
    "ExecuteTime": {
     "end_time": "2021-07-08T03:28:35.505397Z",
     "start_time": "2021-07-08T03:28:34.088066Z"
    }
   },
   "outputs": [
    {
     "data": {
      "text/html": [
       "<div>\n",
       "<style scoped>\n",
       "    .dataframe tbody tr th:only-of-type {\n",
       "        vertical-align: middle;\n",
       "    }\n",
       "\n",
       "    .dataframe tbody tr th {\n",
       "        vertical-align: top;\n",
       "    }\n",
       "\n",
       "    .dataframe thead tr th {\n",
       "        text-align: left;\n",
       "    }\n",
       "\n",
       "    .dataframe thead tr:last-of-type th {\n",
       "        text-align: right;\n",
       "    }\n",
       "</style>\n",
       "<table border=\"1\" class=\"dataframe\">\n",
       "  <thead>\n",
       "    <tr>\n",
       "      <th></th>\n",
       "      <th colspan=\"3\" halign=\"left\">len</th>\n",
       "      <th>mean_outcome</th>\n",
       "    </tr>\n",
       "    <tr>\n",
       "      <th>outcome_name</th>\n",
       "      <th>LOSE</th>\n",
       "      <th>PUSH</th>\n",
       "      <th>WIN</th>\n",
       "      <th></th>\n",
       "    </tr>\n",
       "    <tr>\n",
       "      <th>strategy</th>\n",
       "      <th></th>\n",
       "      <th></th>\n",
       "      <th></th>\n",
       "      <th></th>\n",
       "    </tr>\n",
       "  </thead>\n",
       "  <tbody>\n",
       "    <tr>\n",
       "      <th>&lt;Action.DOUBLE: 3&gt;</th>\n",
       "      <td>5288</td>\n",
       "      <td>818</td>\n",
       "      <td>3894</td>\n",
       "      <td>-0.1394</td>\n",
       "    </tr>\n",
       "    <tr>\n",
       "      <th>&lt;Action.HIT: 2&gt;</th>\n",
       "      <td>5304</td>\n",
       "      <td>822</td>\n",
       "      <td>3874</td>\n",
       "      <td>-0.1430</td>\n",
       "    </tr>\n",
       "    <tr>\n",
       "      <th>&lt;Action.STAND: 1&gt;</th>\n",
       "      <td>6413</td>\n",
       "      <td>0</td>\n",
       "      <td>3587</td>\n",
       "      <td>-0.2826</td>\n",
       "    </tr>\n",
       "    <tr>\n",
       "      <th>simple</th>\n",
       "      <td>5227</td>\n",
       "      <td>825</td>\n",
       "      <td>3948</td>\n",
       "      <td>-0.1279</td>\n",
       "    </tr>\n",
       "  </tbody>\n",
       "</table>\n",
       "</div>"
      ],
      "text/plain": [
       "                     len            mean_outcome\n",
       "outcome_name        LOSE PUSH   WIN             \n",
       "strategy                                        \n",
       "<Action.DOUBLE: 3>  5288  818  3894      -0.1394\n",
       "<Action.HIT: 2>     5304  822  3874      -0.1430\n",
       "<Action.STAND: 1>   6413    0  3587      -0.2826\n",
       "simple              5227  825  3948      -0.1279"
      ]
     },
     "execution_count": 30,
     "metadata": {},
     "output_type": "execute_result"
    }
   ],
   "source": [
    "sims = run_n_sim_trials_from_state(strats+[strat_simple], hand_12s, hand_d, 10000)\n",
    "summarize_totals(sims)"
   ]
  },
  {
   "cell_type": "code",
   "execution_count": 31,
   "id": "based-subscription",
   "metadata": {
    "ExecuteTime": {
     "end_time": "2021-07-08T03:28:36.356353Z",
     "start_time": "2021-07-08T03:28:35.506432Z"
    }
   },
   "outputs": [
    {
     "data": {
      "text/html": [
       "<div>\n",
       "<style scoped>\n",
       "    .dataframe tbody tr th:only-of-type {\n",
       "        vertical-align: middle;\n",
       "    }\n",
       "\n",
       "    .dataframe tbody tr th {\n",
       "        vertical-align: top;\n",
       "    }\n",
       "\n",
       "    .dataframe thead tr th {\n",
       "        text-align: left;\n",
       "    }\n",
       "\n",
       "    .dataframe thead tr:last-of-type th {\n",
       "        text-align: right;\n",
       "    }\n",
       "</style>\n",
       "<table border=\"1\" class=\"dataframe\">\n",
       "  <thead>\n",
       "    <tr>\n",
       "      <th></th>\n",
       "      <th colspan=\"3\" halign=\"left\">len</th>\n",
       "      <th>mean_outcome</th>\n",
       "    </tr>\n",
       "    <tr>\n",
       "      <th>outcome_name</th>\n",
       "      <th>LOSE</th>\n",
       "      <th>PUSH</th>\n",
       "      <th>WIN</th>\n",
       "      <th></th>\n",
       "    </tr>\n",
       "    <tr>\n",
       "      <th>strategy</th>\n",
       "      <th></th>\n",
       "      <th></th>\n",
       "      <th></th>\n",
       "      <th></th>\n",
       "    </tr>\n",
       "  </thead>\n",
       "  <tbody>\n",
       "    <tr>\n",
       "      <th>simple</th>\n",
       "      <td>6051</td>\n",
       "      <td>636</td>\n",
       "      <td>3313</td>\n",
       "      <td>-0.2738</td>\n",
       "    </tr>\n",
       "    <tr>\n",
       "      <th>strat_cond</th>\n",
       "      <td>6389</td>\n",
       "      <td>0</td>\n",
       "      <td>3611</td>\n",
       "      <td>-0.2778</td>\n",
       "    </tr>\n",
       "  </tbody>\n",
       "</table>\n",
       "</div>"
      ],
      "text/plain": [
       "               len            mean_outcome\n",
       "outcome_name  LOSE PUSH   WIN             \n",
       "strategy                                  \n",
       "simple        6051  636  3313      -0.2738\n",
       "strat_cond    6389    0  3611      -0.2778"
      ]
     },
     "execution_count": 31,
     "metadata": {},
     "output_type": "execute_result"
    }
   ],
   "source": [
    "summarize_totals(run_n_sim_trials_from_state([strat_simple, strat_cond], hand_p, hand_d, 10*1000))"
   ]
  },
  {
   "cell_type": "code",
   "execution_count": 32,
   "id": "vietnamese-spray",
   "metadata": {
    "ExecuteTime": {
     "end_time": "2021-07-08T03:28:37.538306Z",
     "start_time": "2021-07-08T03:28:36.357264Z"
    }
   },
   "outputs": [
    {
     "data": {
      "text/html": [
       "<div>\n",
       "<style scoped>\n",
       "    .dataframe tbody tr th:only-of-type {\n",
       "        vertical-align: middle;\n",
       "    }\n",
       "\n",
       "    .dataframe tbody tr th {\n",
       "        vertical-align: top;\n",
       "    }\n",
       "\n",
       "    .dataframe thead tr th {\n",
       "        text-align: left;\n",
       "    }\n",
       "\n",
       "    .dataframe thead tr:last-of-type th {\n",
       "        text-align: right;\n",
       "    }\n",
       "</style>\n",
       "<table border=\"1\" class=\"dataframe\">\n",
       "  <thead>\n",
       "    <tr>\n",
       "      <th></th>\n",
       "      <th colspan=\"3\" halign=\"left\">len</th>\n",
       "      <th>mean_outcome</th>\n",
       "    </tr>\n",
       "    <tr>\n",
       "      <th>outcome_name</th>\n",
       "      <th>LOSE</th>\n",
       "      <th>PUSH</th>\n",
       "      <th>WIN</th>\n",
       "      <th></th>\n",
       "    </tr>\n",
       "    <tr>\n",
       "      <th>strategy</th>\n",
       "      <th></th>\n",
       "      <th></th>\n",
       "      <th></th>\n",
       "      <th></th>\n",
       "    </tr>\n",
       "  </thead>\n",
       "  <tbody>\n",
       "    <tr>\n",
       "      <th>&lt;Action.DOUBLE: 3&gt;</th>\n",
       "      <td>4847</td>\n",
       "      <td>307</td>\n",
       "      <td>4846</td>\n",
       "      <td>-0.0001</td>\n",
       "    </tr>\n",
       "    <tr>\n",
       "      <th>&lt;Action.HIT: 2&gt;</th>\n",
       "      <td>4836</td>\n",
       "      <td>328</td>\n",
       "      <td>4836</td>\n",
       "      <td>0.0000</td>\n",
       "    </tr>\n",
       "    <tr>\n",
       "      <th>&lt;Action.STAND: 1&gt;</th>\n",
       "      <td>5779</td>\n",
       "      <td>0</td>\n",
       "      <td>4221</td>\n",
       "      <td>-0.1558</td>\n",
       "    </tr>\n",
       "    <tr>\n",
       "      <th>simple</th>\n",
       "      <td>5779</td>\n",
       "      <td>0</td>\n",
       "      <td>4221</td>\n",
       "      <td>-0.1558</td>\n",
       "    </tr>\n",
       "  </tbody>\n",
       "</table>\n",
       "</div>"
      ],
      "text/plain": [
       "                     len            mean_outcome\n",
       "outcome_name        LOSE PUSH   WIN             \n",
       "strategy                                        \n",
       "<Action.DOUBLE: 3>  4847  307  4846      -0.0001\n",
       "<Action.HIT: 2>     4836  328  4836       0.0000\n",
       "<Action.STAND: 1>   5779    0  4221      -0.1558\n",
       "simple              5779    0  4221      -0.1558"
      ]
     },
     "execution_count": 32,
     "metadata": {},
     "output_type": "execute_result"
    }
   ],
   "source": [
    "# soft 13 vs 6\n",
    "def cond_13s_6(score_p, score_d):\n",
    "    return score_p == HandScore(13, True) and score_d.points == 6\n",
    "\n",
    "\n",
    "\n",
    "strats = gen_cond_strategies(strat_simple, cond_13s_6, [Action.HIT, Action.STAND, Action.DOUBLE])\n",
    "sims = run_n_sim_trials_from_state(strats+[strat_simple], bj.make_hand([1, 2]), bj.make_hand([6]), 10000)\n",
    "summarize_totals(sims)"
   ]
  },
  {
   "cell_type": "code",
   "execution_count": 33,
   "id": "liable-painting",
   "metadata": {
    "ExecuteTime": {
     "end_time": "2021-07-08T03:28:38.785236Z",
     "start_time": "2021-07-08T03:28:37.539677Z"
    }
   },
   "outputs": [
    {
     "data": {
      "text/html": [
       "<div>\n",
       "<style scoped>\n",
       "    .dataframe tbody tr th:only-of-type {\n",
       "        vertical-align: middle;\n",
       "    }\n",
       "\n",
       "    .dataframe tbody tr th {\n",
       "        vertical-align: top;\n",
       "    }\n",
       "\n",
       "    .dataframe thead tr th {\n",
       "        text-align: left;\n",
       "    }\n",
       "\n",
       "    .dataframe thead tr:last-of-type th {\n",
       "        text-align: right;\n",
       "    }\n",
       "</style>\n",
       "<table border=\"1\" class=\"dataframe\">\n",
       "  <thead>\n",
       "    <tr>\n",
       "      <th></th>\n",
       "      <th colspan=\"3\" halign=\"left\">len</th>\n",
       "      <th>mean_outcome</th>\n",
       "    </tr>\n",
       "    <tr>\n",
       "      <th>outcome_name</th>\n",
       "      <th>LOSE</th>\n",
       "      <th>PUSH</th>\n",
       "      <th>WIN</th>\n",
       "      <th></th>\n",
       "    </tr>\n",
       "    <tr>\n",
       "      <th>strategy</th>\n",
       "      <th></th>\n",
       "      <th></th>\n",
       "      <th></th>\n",
       "      <th></th>\n",
       "    </tr>\n",
       "  </thead>\n",
       "  <tbody>\n",
       "    <tr>\n",
       "      <th>&lt;Action.DOUBLE: 3&gt;</th>\n",
       "      <td>3194</td>\n",
       "      <td>688</td>\n",
       "      <td>6118</td>\n",
       "      <td>0.2924</td>\n",
       "    </tr>\n",
       "    <tr>\n",
       "      <th>&lt;Action.HIT: 2&gt;</th>\n",
       "      <td>3185</td>\n",
       "      <td>697</td>\n",
       "      <td>6118</td>\n",
       "      <td>0.2933</td>\n",
       "    </tr>\n",
       "    <tr>\n",
       "      <th>&lt;Action.STAND: 1&gt;</th>\n",
       "      <td>5757</td>\n",
       "      <td>0</td>\n",
       "      <td>4243</td>\n",
       "      <td>-0.1514</td>\n",
       "    </tr>\n",
       "    <tr>\n",
       "      <th>simple</th>\n",
       "      <td>3214</td>\n",
       "      <td>685</td>\n",
       "      <td>6101</td>\n",
       "      <td>0.2887</td>\n",
       "    </tr>\n",
       "  </tbody>\n",
       "</table>\n",
       "</div>"
      ],
      "text/plain": [
       "                     len            mean_outcome\n",
       "outcome_name        LOSE PUSH   WIN             \n",
       "strategy                                        \n",
       "<Action.DOUBLE: 3>  3194  688  6118       0.2924\n",
       "<Action.HIT: 2>     3185  697  6118       0.2933\n",
       "<Action.STAND: 1>   5757    0  4243      -0.1514\n",
       "simple              3214  685  6101       0.2887"
      ]
     },
     "execution_count": 33,
     "metadata": {},
     "output_type": "execute_result"
    }
   ],
   "source": [
    "# 10 v 6\n",
    "def cond_10_6(score_p, score_d):\n",
    "    return score_p.points == 10 and score_d.points == 6\n",
    "\n",
    "strats = gen_cond_strategies(strat_simple, cond_10_6, [Action.HIT, Action.STAND, Action.DOUBLE])\n",
    "sims = run_n_sim_trials_from_state(strats+[strat_simple], make_hand([5, 5]), make_hand([6]), 10000)\n",
    "summarize_totals(sims)"
   ]
  },
  {
   "cell_type": "code",
   "execution_count": 34,
   "id": "serious-briefs",
   "metadata": {
    "ExecuteTime": {
     "end_time": "2021-07-08T03:28:39.831234Z",
     "start_time": "2021-07-08T03:28:38.786170Z"
    }
   },
   "outputs": [
    {
     "data": {
      "text/plain": [
       "(<function __main__.test_cond.<locals>.cond(p, d)>,\n",
       "                      len                                   mean_outcome\n",
       " outcome_name        LOSE LOSE_DOUBLE PUSH   WIN WIN_DOUBLE             \n",
       " strategy                                                               \n",
       " <Action.DOUBLE: 3>     0        3215  730     0       6055       0.5680\n",
       " <Action.HIT: 2>     3186           0  678  6136          0       0.2950\n",
       " <Action.STAND: 1>   5811           0    0  4189          0      -0.1622)"
      ]
     },
     "execution_count": 34,
     "metadata": {},
     "output_type": "execute_result"
    }
   ],
   "source": [
    "ACTIONS = [Action.HIT, Action.STAND, Action.DOUBLE]\n",
    "\n",
    "def test_cond(score_p, score_d, n, strat_base = strat_simple):\n",
    "    def cond(p, d):\n",
    "        return p == score_p and d == score_d\n",
    "    strats = gen_cond_strategies(strat_base, cond, ACTIONS)\n",
    "    hand_p = Hand(score_p) \n",
    "    hand_d = make_hand([score_d.points if score_d.points< 11 else 1])\n",
    "    sims = run_n_sim_trials_from_state(strats, hand_p, hand_d, n)\n",
    "    return cond, summarize_totals(sims)\n",
    "\n",
    "test_cond(HandScore(10), HandScore(6), 10000, strat_simple)"
   ]
  },
  {
   "cell_type": "code",
   "execution_count": 35,
   "id": "square-binary",
   "metadata": {
    "ExecuteTime": {
     "end_time": "2021-07-08T03:28:39.864356Z",
     "start_time": "2021-07-08T03:28:39.832124Z"
    }
   },
   "outputs": [
    {
     "data": {
      "text/plain": [
       "(<function __main__.test_cond.<locals>.cond(p, d)>,\n",
       "                     len                                  mean_outcome\n",
       " outcome_name       LOSE LOSE_DOUBLE PUSH  WIN WIN_DOUBLE             \n",
       " strategy                                                             \n",
       " <Action.DOUBLE: 3>    0         166    1    0         33       -1.330\n",
       " <Action.HIT: 2>     160           0    3   37          0       -0.615\n",
       " <Action.STAND: 1>    64           0   21  115          0        0.255)"
      ]
     },
     "execution_count": 35,
     "metadata": {},
     "output_type": "execute_result"
    }
   ],
   "source": [
    "test_cond(HandScore(18), HandScore(6), 200)"
   ]
  },
  {
   "cell_type": "code",
   "execution_count": 36,
   "id": "recent-harvey",
   "metadata": {
    "ExecuteTime": {
     "end_time": "2021-07-08T03:28:39.897948Z",
     "start_time": "2021-07-08T03:28:39.865365Z"
    }
   },
   "outputs": [
    {
     "data": {
      "text/plain": [
       "(<function __main__.test_cond.<locals>.cond(p, d)>,\n",
       "                     len                                  mean_outcome\n",
       " outcome_name       LOSE LOSE_DOUBLE PUSH  WIN WIN_DOUBLE             \n",
       " strategy                                                             \n",
       " <Action.DOUBLE: 3>    0          65   13    0        122        0.570\n",
       " <Action.HIT: 2>      67           0   17  116          0        0.245\n",
       " <Action.STAND: 1>     0           0   19  181          0        0.905)"
      ]
     },
     "execution_count": 36,
     "metadata": {},
     "output_type": "execute_result"
    }
   ],
   "source": [
    "test_cond(HandScore(21, True), HandScore(6), 200)"
   ]
  },
  {
   "cell_type": "code",
   "execution_count": 37,
   "id": "manual-anime",
   "metadata": {
    "ExecuteTime": {
     "end_time": "2021-07-08T03:28:39.937276Z",
     "start_time": "2021-07-08T03:28:39.898917Z"
    }
   },
   "outputs": [
    {
     "data": {
      "text/plain": [
       "{'<Action.DOUBLE: 3>': 0.7,\n",
       " '<Action.HIT: 2>': 0.32,\n",
       " '<Action.STAND: 1>': -0.04,\n",
       " 'score_p': 'h10',\n",
       " 'score_d': 'h06',\n",
       " 'winning_act': <Action.DOUBLE: 3>,\n",
       " 'winning_act_outcome': 0.7}"
      ]
     },
     "execution_count": 37,
     "metadata": {},
     "output_type": "execute_result"
    }
   ],
   "source": [
    "def find_winning_action(score_p, score_d, n, strat_base = strat_simple):\n",
    "    cond, summary = test_cond(score_p, score_d, n, strat_base)\n",
    "    outcomes = summary['mean_outcome']\n",
    "    # Find the winning strategy\n",
    "    winner = outcomes[outcomes==outcomes.max()].index[0]\n",
    "    winning_act = [a for a in ACTIONS if repr(a)==winner][0]\n",
    "\n",
    "    # Convert results to a dict\n",
    "    output = outcomes.to_dict()\n",
    "    output['score_p'] = repr(score_p)\n",
    "    output['score_d'] = repr(score_d)\n",
    "    output['winning_act'] = winning_act\n",
    "    output['winning_act_outcome'] = outcomes.max()\n",
    "\n",
    "    return output\n",
    "\n",
    "find_winning_action(HandScore(10), HandScore(6), 200)"
   ]
  },
  {
   "cell_type": "code",
   "execution_count": 38,
   "id": "supported-herald",
   "metadata": {
    "ExecuteTime": {
     "end_time": "2021-07-08T03:28:40.041851Z",
     "start_time": "2021-07-08T03:28:39.938313Z"
    }
   },
   "outputs": [
    {
     "data": {
      "text/plain": [
       "(<function __main__.test_cond.<locals>.cond(p, d)>,\n",
       "                     len                                  mean_outcome\n",
       " outcome_name       LOSE LOSE_DOUBLE PUSH  WIN WIN_DOUBLE             \n",
       " strategy                                                             \n",
       " <Action.DOUBLE: 3>    0         862   24    0        114       -1.496\n",
       " <Action.HIT: 2>     868           0   22  110          0       -0.758\n",
       " <Action.STAND: 1>   605           0  121  274          0       -0.331)"
      ]
     },
     "execution_count": 38,
     "metadata": {},
     "output_type": "execute_result"
    }
   ],
   "source": [
    "test_cond(HandScore(18), HandScore(11, True), 1000)"
   ]
  },
  {
   "cell_type": "code",
   "execution_count": 39,
   "id": "adopted-respondent",
   "metadata": {
    "ExecuteTime": {
     "end_time": "2021-07-08T03:28:40.045184Z",
     "start_time": "2021-07-08T03:28:40.042892Z"
    }
   },
   "outputs": [],
   "source": [
    "def compute_instructions(n, strat_base = strat_simple):\n",
    "    return [find_winning_action(p, make_hand([d]).score, n, strat_base) for p in all_scores for d in range(1, 11) if p.points>=9]"
   ]
  },
  {
   "cell_type": "code",
   "execution_count": 40,
   "id": "behind-seattle",
   "metadata": {
    "ExecuteTime": {
     "end_time": "2021-07-08T03:28:44.102519Z",
     "start_time": "2021-07-08T03:28:40.046212Z"
    }
   },
   "outputs": [
    {
     "name": "stdout",
     "output_type": "stream",
     "text": [
      " "
     ]
    },
    {
     "data": {
      "text/html": [
       "<div>\n",
       "<style scoped>\n",
       "    .dataframe tbody tr th:only-of-type {\n",
       "        vertical-align: middle;\n",
       "    }\n",
       "\n",
       "    .dataframe tbody tr th {\n",
       "        vertical-align: top;\n",
       "    }\n",
       "\n",
       "    .dataframe thead th {\n",
       "        text-align: right;\n",
       "    }\n",
       "</style>\n",
       "<table border=\"1\" class=\"dataframe\">\n",
       "  <thead>\n",
       "    <tr style=\"text-align: right;\">\n",
       "      <th></th>\n",
       "      <th></th>\n",
       "      <th>&lt;Action.DOUBLE: 3&gt;</th>\n",
       "      <th>&lt;Action.HIT: 2&gt;</th>\n",
       "      <th>&lt;Action.STAND: 1&gt;</th>\n",
       "      <th>winning_act</th>\n",
       "      <th>winning_act_outcome</th>\n",
       "    </tr>\n",
       "    <tr>\n",
       "      <th>score_p</th>\n",
       "      <th>score_d</th>\n",
       "      <th></th>\n",
       "      <th></th>\n",
       "      <th></th>\n",
       "      <th></th>\n",
       "      <th></th>\n",
       "    </tr>\n",
       "  </thead>\n",
       "  <tbody>\n",
       "    <tr>\n",
       "      <th rowspan=\"5\" valign=\"top\">h09</th>\n",
       "      <th>s11</th>\n",
       "      <td>-1.4</td>\n",
       "      <td>-0.70</td>\n",
       "      <td>-1.0</td>\n",
       "      <td>Action.HIT</td>\n",
       "      <td>-0.7</td>\n",
       "    </tr>\n",
       "    <tr>\n",
       "      <th>h02</th>\n",
       "      <td>0.4</td>\n",
       "      <td>0.20</td>\n",
       "      <td>-0.2</td>\n",
       "      <td>Action.DOUBLE</td>\n",
       "      <td>0.4</td>\n",
       "    </tr>\n",
       "    <tr>\n",
       "      <th>h03</th>\n",
       "      <td>-0.2</td>\n",
       "      <td>0.00</td>\n",
       "      <td>-0.2</td>\n",
       "      <td>Action.HIT</td>\n",
       "      <td>0.0</td>\n",
       "    </tr>\n",
       "    <tr>\n",
       "      <th>h04</th>\n",
       "      <td>0.0</td>\n",
       "      <td>-0.10</td>\n",
       "      <td>-0.8</td>\n",
       "      <td>Action.DOUBLE</td>\n",
       "      <td>0.0</td>\n",
       "    </tr>\n",
       "    <tr>\n",
       "      <th>h05</th>\n",
       "      <td>0.4</td>\n",
       "      <td>0.40</td>\n",
       "      <td>0.2</td>\n",
       "      <td>Action.DOUBLE</td>\n",
       "      <td>0.4</td>\n",
       "    </tr>\n",
       "    <tr>\n",
       "      <th>...</th>\n",
       "      <th>...</th>\n",
       "      <td>...</td>\n",
       "      <td>...</td>\n",
       "      <td>...</td>\n",
       "      <td>...</td>\n",
       "      <td>...</td>\n",
       "    </tr>\n",
       "    <tr>\n",
       "      <th rowspan=\"5\" valign=\"top\">s21</th>\n",
       "      <th>h06</th>\n",
       "      <td>0.6</td>\n",
       "      <td>0.00</td>\n",
       "      <td>0.8</td>\n",
       "      <td>Action.STAND</td>\n",
       "      <td>0.8</td>\n",
       "    </tr>\n",
       "    <tr>\n",
       "      <th>h07</th>\n",
       "      <td>0.8</td>\n",
       "      <td>0.55</td>\n",
       "      <td>0.9</td>\n",
       "      <td>Action.STAND</td>\n",
       "      <td>0.9</td>\n",
       "    </tr>\n",
       "    <tr>\n",
       "      <th>h08</th>\n",
       "      <td>0.8</td>\n",
       "      <td>-0.20</td>\n",
       "      <td>0.9</td>\n",
       "      <td>Action.STAND</td>\n",
       "      <td>0.9</td>\n",
       "    </tr>\n",
       "    <tr>\n",
       "      <th>h09</th>\n",
       "      <td>0.4</td>\n",
       "      <td>0.20</td>\n",
       "      <td>1.0</td>\n",
       "      <td>Action.STAND</td>\n",
       "      <td>1.0</td>\n",
       "    </tr>\n",
       "    <tr>\n",
       "      <th>h10</th>\n",
       "      <td>-0.4</td>\n",
       "      <td>-0.50</td>\n",
       "      <td>1.0</td>\n",
       "      <td>Action.STAND</td>\n",
       "      <td>1.0</td>\n",
       "    </tr>\n",
       "  </tbody>\n",
       "</table>\n",
       "<p>250 rows × 5 columns</p>\n",
       "</div>"
      ],
      "text/plain": [
       "                 <Action.DOUBLE: 3>  <Action.HIT: 2>  <Action.STAND: 1>  \\\n",
       "score_p score_d                                                           \n",
       "h09     s11                    -1.4            -0.70               -1.0   \n",
       "        h02                     0.4             0.20               -0.2   \n",
       "        h03                    -0.2             0.00               -0.2   \n",
       "        h04                     0.0            -0.10               -0.8   \n",
       "        h05                     0.4             0.40                0.2   \n",
       "...                             ...              ...                ...   \n",
       "s21     h06                     0.6             0.00                0.8   \n",
       "        h07                     0.8             0.55                0.9   \n",
       "        h08                     0.8            -0.20                0.9   \n",
       "        h09                     0.4             0.20                1.0   \n",
       "        h10                    -0.4            -0.50                1.0   \n",
       "\n",
       "                   winning_act  winning_act_outcome  \n",
       "score_p score_d                                      \n",
       "h09     s11         Action.HIT                 -0.7  \n",
       "        h02      Action.DOUBLE                  0.4  \n",
       "        h03         Action.HIT                  0.0  \n",
       "        h04      Action.DOUBLE                  0.0  \n",
       "        h05      Action.DOUBLE                  0.4  \n",
       "...                        ...                  ...  \n",
       "s21     h06       Action.STAND                  0.8  \n",
       "        h07       Action.STAND                  0.9  \n",
       "        h08       Action.STAND                  0.9  \n",
       "        h09       Action.STAND                  1.0  \n",
       "        h10       Action.STAND                  1.0  \n",
       "\n",
       "[250 rows x 5 columns]"
      ]
     },
     "execution_count": 40,
     "metadata": {},
     "output_type": "execute_result"
    }
   ],
   "source": [
    "%prun -s cumulative conds = compute_instructions(10)\n",
    "pd.DataFrame(conds).set_index(['score_p', 'score_d'])"
   ]
  },
  {
   "cell_type": "code",
   "execution_count": 41,
   "id": "comparative-morgan",
   "metadata": {
    "ExecuteTime": {
     "end_time": "2021-07-08T03:28:44.107848Z",
     "start_time": "2021-07-08T03:28:44.104707Z"
    }
   },
   "outputs": [],
   "source": [
    "def run_iteration(n, strat_base, previous_instructions):\n",
    "    comput = compute_instructions(n, strat_base)\n",
    "    outputs = pd.DataFrame(comput).set_index(['score_p', 'score_d'])\n",
    "    \n",
    "    instructions = {(output['score_p'], output['score_d']): output['winning_act'] for output in comput}\n",
    "    \n",
    "    fig = plt.figure()\n",
    "    # Visualize the winning action by starting condition\n",
    "    sns.heatmap(outputs['winning_act'].apply(lambda x: x.value).unstack(), ax=fig.add_subplot(1, 2, 1))\n",
    "    \n",
    "    # Visualize the average outcome by starting condition\n",
    "    sns.heatmap(outputs['winning_act_outcome'].unstack(), ax=fig.add_subplot(1, 2, 2))\n",
    "    \n",
    "    if previous_instructions:\n",
    "        for k in instructions:\n",
    "            if instructions[k] != previous_instructions[k]:\n",
    "                print(k, instructions[k], previous_instructions[k])\n",
    "    \n",
    "    return instructions\n",
    "        "
   ]
  },
  {
   "cell_type": "code",
   "execution_count": 42,
   "id": "challenging-producer",
   "metadata": {
    "ExecuteTime": {
     "end_time": "2021-07-08T03:28:53.179240Z",
     "start_time": "2021-07-08T03:28:44.108769Z"
    }
   },
   "outputs": [
    {
     "name": "stdout",
     "output_type": "stream",
     "text": [
      " "
     ]
    },
    {
     "data": {
      "image/png": "[encoded data removed]",
      "text/plain": [
       "<Figure size 432x288 with 4 Axes>"
      ]
     },
     "metadata": {
      "needs_background": "light"
     },
     "output_type": "display_data"
    }
   ],
   "source": [
    "%prun -s cumulative run_iteration(100, strat_simple, None)"
   ]
  },
  {
   "cell_type": "code",
   "execution_count": 43,
   "id": "typical-murder",
   "metadata": {
    "ExecuteTime": {
     "end_time": "2021-07-08T03:28:53.290469Z",
     "start_time": "2021-07-08T03:28:53.181140Z"
    }
   },
   "outputs": [
    {
     "data": {
      "text/plain": [
       "(   strategy hand_start  dealer_card         hand_end   dealer_hand  \\\n",
       " 0    simple    [1, 11]            5          [1, 11]    [5, 11, 7]   \n",
       " 1  memoized    [1, 11]            5          [1, 11]    [5, 11, 7]   \n",
       " 2    simple     [2, 6]           13       [2, 6, 12]       [13, 7]   \n",
       " 3  memoized     [2, 6]           13  [2, 6, 5, 3, 2]       [13, 7]   \n",
       " 4    simple     [3, 9]            7       [3, 9, 13]  [7, 8, 1, 1]   \n",
       " 5  memoized     [3, 9]            7        [3, 9, 5]  [7, 8, 1, 1]   \n",
       " 6    simple     [8, 7]            1        [8, 7, 5]       [1, 11]   \n",
       " 7  memoized     [8, 7]            1       [8, 7, 10]       [1, 11]   \n",
       " 8    simple    [10, 1]           10          [10, 1]      [10, 12]   \n",
       " 9  memoized    [10, 1]           10          [10, 1]      [10, 12]   \n",
       " \n",
       "                  outcome  outcome_value outcome_name  \n",
       " 0  HandOutcome.BLACKJACK            1.5    BLACKJACK  \n",
       " 1  HandOutcome.BLACKJACK            1.5    BLACKJACK  \n",
       " 2        HandOutcome.WIN            1.0          WIN  \n",
       " 3        HandOutcome.WIN            1.0          WIN  \n",
       " 4       HandOutcome.LOSE           -1.0         LOSE  \n",
       " 5       HandOutcome.PUSH            0.0         PUSH  \n",
       " 6       HandOutcome.LOSE           -1.0         LOSE  \n",
       " 7       HandOutcome.LOSE           -1.0         LOSE  \n",
       " 8  HandOutcome.BLACKJACK            1.5    BLACKJACK  \n",
       " 9  HandOutcome.BLACKJACK            1.5    BLACKJACK  ,\n",
       "                    len                mean_outcome\n",
       " outcome_name BLACKJACK LOSE PUSH  WIN             \n",
       " strategy                                          \n",
       " memoized            56  467   78  399        0.016\n",
       " simple              56  472   80  392        0.004)"
      ]
     },
     "execution_count": 43,
     "metadata": {},
     "output_type": "execute_result"
    }
   ],
   "source": [
    "# Memoized strategy\n",
    "# Rather than generic conditions, just use an array indexed on player and dealer scores\n",
    "# Since that's how we're generating our strategy anyway (one square at a time)\n",
    "\n",
    "def gen_strat_memoized(instructions, strat_base):\n",
    "    def strat_memoized(score_p, score_d):\n",
    "        k = (repr(score_p), repr(score_d))\n",
    "        if k in instructions:\n",
    "            return instructions[k]\n",
    "        else:\n",
    "            return strat_base(score_p, score_d)\n",
    "    strat_memoized.name = 'memoized'\n",
    "    return strat_memoized\n",
    "\n",
    "instructions = {(repr(HandScore(13, True)), repr(HandScore(6))): Action.HIT}\n",
    "strat_memoized = gen_strat_memoized(instructions, strat_simple)\n",
    "\n",
    "sims = run_n_sim_trials([strat_simple, strat_memoized], 1000)\n",
    "sims.head(10), summarize_totals(sims)"
   ]
  },
  {
   "cell_type": "code",
   "execution_count": 44,
   "id": "imposed-cinema",
   "metadata": {
    "ExecuteTime": {
     "end_time": "2021-07-08T03:31:26.135261Z",
     "start_time": "2021-07-08T03:28:53.291527Z"
    }
   },
   "outputs": [
    {
     "name": "stdout",
     "output_type": "stream",
     "text": [
      "0\n",
      "1\n",
      "('h09', 'h02') Action.DOUBLE Action.HIT\n",
      "('h09', 'h03') Action.DOUBLE Action.HIT\n",
      "('h09', 'h05') Action.HIT Action.DOUBLE\n",
      "('h09', 'h06') Action.DOUBLE Action.HIT\n",
      "('h09', 'h10') Action.HIT Action.DOUBLE\n",
      "('h10', 'h02') Action.DOUBLE Action.HIT\n",
      "('h10', 'h07') Action.DOUBLE Action.HIT\n",
      "('h10', 'h08') Action.HIT Action.DOUBLE\n",
      "('h10', 'h09') Action.DOUBLE Action.HIT\n",
      "('h11', 'h02') Action.DOUBLE Action.HIT\n",
      "('h11', 'h07') Action.HIT Action.DOUBLE\n",
      "('h11', 'h08') Action.DOUBLE Action.HIT\n",
      "('h11', 'h10') Action.DOUBLE Action.HIT\n",
      "('h12', 'h03') Action.HIT Action.STAND\n",
      "('h12', 'h10') Action.HIT Action.DOUBLE\n",
      "('h13', 'h02') Action.DOUBLE Action.HIT\n",
      "('h13', 'h05') Action.STAND Action.HIT\n",
      "('h13', 'h09') Action.HIT Action.STAND\n",
      "('h14', 'h02') Action.HIT Action.STAND\n",
      "('h14', 'h06') Action.STAND Action.HIT\n",
      "('h14', 'h10') Action.HIT Action.STAND\n",
      "('h15', 'h02') Action.STAND Action.HIT\n",
      "('h15', 'h06') Action.STAND Action.HIT\n",
      "('h15', 'h09') Action.HIT Action.STAND\n",
      "('h16', 'h08') Action.HIT Action.STAND\n",
      "('s11', 'h02') Action.DOUBLE Action.HIT\n",
      "('s11', 'h09') Action.DOUBLE Action.HIT\n",
      "('s12', 'h02') Action.HIT Action.DOUBLE\n",
      "('s13', 'h02') Action.HIT Action.STAND\n",
      "('s16', 'h02') Action.HIT Action.STAND\n",
      "('s16', 'h05') Action.HIT Action.DOUBLE\n",
      "('s17', 'h02') Action.HIT Action.STAND\n",
      "('s17', 'h04') Action.HIT Action.STAND\n",
      "('s17', 'h05') Action.HIT Action.DOUBLE\n",
      "('s18', 'h03') Action.STAND Action.DOUBLE\n",
      "('s18', 'h05') Action.STAND Action.DOUBLE\n",
      "('s18', 'h09') Action.HIT Action.STAND\n",
      "('s19', 'h07') Action.STAND Action.DOUBLE\n",
      "2\n",
      "('h09', 'h02') Action.HIT Action.DOUBLE\n",
      "('h09', 'h05') Action.DOUBLE Action.HIT\n",
      "('h09', 'h08') Action.DOUBLE Action.HIT\n",
      "('h10', 'h08') Action.DOUBLE Action.HIT\n",
      "('h11', 'h07') Action.DOUBLE Action.HIT\n",
      "('h12', 'h02') Action.HIT Action.STAND\n",
      "('h12', 'h03') Action.STAND Action.HIT\n",
      "('h12', 'h04') Action.HIT Action.STAND\n",
      "('h12', 'h06') Action.STAND Action.DOUBLE\n",
      "('h13', 'h02') Action.STAND Action.DOUBLE\n",
      "('h13', 'h03') Action.HIT Action.STAND\n",
      "('h14', 'h02') Action.STAND Action.HIT\n",
      "('h15', 'h10') Action.STAND Action.HIT\n",
      "('h16', 's11') Action.STAND Action.HIT\n",
      "('h16', 'h10') Action.HIT Action.STAND\n",
      "('h17', 'h08') Action.STAND Action.HIT\n",
      "('s11', 'h09') Action.HIT Action.DOUBLE\n",
      "('s18', 's11') Action.STAND Action.HIT\n",
      "('s18', 'h09') Action.STAND Action.HIT\n",
      "('s18', 'h10') Action.STAND Action.HIT\n",
      "3\n",
      "('h09', 'h08') Action.HIT Action.DOUBLE\n",
      "('h10', 'h08') Action.HIT Action.DOUBLE\n",
      "('h11', 'h10') Action.HIT Action.DOUBLE\n",
      "('h12', 'h03') Action.HIT Action.STAND\n",
      "('h13', 'h02') Action.HIT Action.STAND\n",
      "('h13', 'h03') Action.STAND Action.HIT\n",
      "('h15', 'h10') Action.HIT Action.STAND\n",
      "('h16', 's11') Action.HIT Action.STAND\n",
      "('s11', 'h09') Action.DOUBLE Action.HIT\n",
      "('s20', 'h05') Action.STAND Action.DOUBLE\n",
      "4\n",
      "('h10', 'h08') Action.DOUBLE Action.HIT\n",
      "('h12', 'h04') Action.STAND Action.HIT\n",
      "('h12', 'h06') Action.HIT Action.STAND\n",
      "('h13', 'h02') Action.STAND Action.HIT\n",
      "('h16', 'h10') Action.STAND Action.HIT\n",
      "('s18', 'h09') Action.HIT Action.STAND\n"
     ]
    },
    {
     "data": {
      "text/plain": [
       "[<function __main__.strat_simple(score_p, score_d)>,\n",
       " <function __main__.gen_strat_memoized.<locals>.strat_memoized(score_p, score_d)>,\n",
       " <function __main__.gen_strat_memoized.<locals>.strat_memoized(score_p, score_d)>,\n",
       " <function __main__.gen_strat_memoized.<locals>.strat_memoized(score_p, score_d)>,\n",
       " <function __main__.gen_strat_memoized.<locals>.strat_memoized(score_p, score_d)>,\n",
       " <function __main__.gen_strat_memoized.<locals>.strat_memoized(score_p, score_d)>]"
      ]
     },
     "execution_count": 44,
     "metadata": {},
     "output_type": "execute_result"
    },
    {
     "data": {
      "image/png": "[encoded data removed]",
      "text/plain": [
       "<Figure size 432x288 with 4 Axes>"
      ]
     },
     "metadata": {
      "needs_background": "light"
     },
     "output_type": "display_data"
    },
    {
     "data": {
      "image/png": "[encoded data removed]",
      "text/plain": [
       "<Figure size 432x288 with 4 Axes>"
      ]
     },
     "metadata": {
      "needs_background": "light"
     },
     "output_type": "display_data"
    },
    {
     "data": {
      "image/png": "[encoded data removed]",
      "text/plain": [
       "<Figure size 432x288 with 4 Axes>"
      ]
     },
     "metadata": {
      "needs_background": "light"
     },
     "output_type": "display_data"
    },
    {
     "data": {
      "image/png": "[encoded data removed]",
      "text/plain": [
       "<Figure size 432x288 with 4 Axes>"
      ]
     },
     "metadata": {
      "needs_background": "light"
     },
     "output_type": "display_data"
    },
    {
     "data": {
      "image/png": "[encoded data removed]",
      "text/plain": [
       "<Figure size 432x288 with 4 Axes>"
      ]
     },
     "metadata": {
      "needs_background": "light"
     },
     "output_type": "display_data"
    }
   ],
   "source": [
    "n = 50\n",
    "strat_base = strat_simple\n",
    "previous_instructions = None\n",
    "strategies = [strat_simple]\n",
    "\n",
    "for i in range(5):\n",
    "    print(i)\n",
    "    instructions = run_iteration(n, strat_base, previous_instructions)\n",
    "    strat_new  = gen_strat_memoized(instructions, strat_base)\n",
    "    strat_new.name = f'iter({i+1})'\n",
    "    strategies.append(strat_new)\n",
    "    previous_instructions = instructions\n",
    "    strat_base = strat_new\n",
    "    n = n*3\n",
    "\n",
    "strategies"
   ]
  },
  {
   "cell_type": "code",
   "execution_count": 45,
   "id": "lucky-account",
   "metadata": {
    "ExecuteTime": {
     "end_time": "2021-07-08T03:32:17.744959Z",
     "start_time": "2021-07-08T03:31:26.136212Z"
    }
   },
   "outputs": [
    {
     "data": {
      "text/plain": [
       "(  strategy hand_start  dealer_card            hand_end  dealer_hand  \\\n",
       " 0   simple     [4, 1]            4              [4, 1]   [4, 5, 11]   \n",
       " 1  iter(1)     [4, 1]            4           [4, 1, 7]   [4, 5, 11]   \n",
       " 2  iter(2)     [4, 1]            4          [4, 1, 12]   [4, 5, 11]   \n",
       " 3  iter(3)     [4, 1]            4  [4, 1, 2, 2, 2, 7]   [4, 5, 11]   \n",
       " 4  iter(4)     [4, 1]            4          [4, 1, 11]   [4, 5, 11]   \n",
       " 5  iter(5)     [4, 1]            4           [4, 1, 9]   [4, 5, 11]   \n",
       " 6   simple     [1, 8]           13              [1, 8]  [13, 2, 10]   \n",
       " 7  iter(1)     [1, 8]           13              [1, 8]  [13, 2, 10]   \n",
       " 8  iter(2)     [1, 8]           13              [1, 8]  [13, 2, 10]   \n",
       " 9  iter(3)     [1, 8]           13              [1, 8]  [13, 2, 10]   \n",
       " \n",
       "             outcome  outcome_value outcome_name  \n",
       " 0  HandOutcome.LOSE           -1.0         LOSE  \n",
       " 1  HandOutcome.LOSE           -1.0         LOSE  \n",
       " 2  HandOutcome.LOSE           -1.0         LOSE  \n",
       " 3  HandOutcome.LOSE           -1.0         LOSE  \n",
       " 4  HandOutcome.LOSE           -1.0         LOSE  \n",
       " 5  HandOutcome.LOSE           -1.0         LOSE  \n",
       " 6   HandOutcome.WIN            1.0          WIN  \n",
       " 7   HandOutcome.WIN            1.0          WIN  \n",
       " 8   HandOutcome.WIN            1.0          WIN  \n",
       " 9   HandOutcome.WIN            1.0          WIN  ,\n",
       "                    len                        mean_outcome\n",
       " outcome_name BLACKJACK    LOSE   PUSH     WIN             \n",
       " strategy                                                  \n",
       " iter(1)          13560  147515  24279  114646    -0.041763\n",
       " iter(2)          13560  145694  25116  115630    -0.032413\n",
       " iter(3)          13560  145584  25279  115577    -0.032223\n",
       " iter(4)          13560  144302  26117  116021    -0.026470\n",
       " iter(5)          13560  145186  25303  115951    -0.029650\n",
       " simple           13560  145368  26502  114570    -0.034860)"
      ]
     },
     "execution_count": 45,
     "metadata": {},
     "output_type": "execute_result"
    }
   ],
   "source": [
    "sims = run_n_sim_trials(strategies, 300*1000)\n",
    "sims.head(10), summarize_totals(sims)"
   ]
  },
  {
   "cell_type": "code",
   "execution_count": null,
   "id": "separated-spank",
   "metadata": {},
   "outputs": [],
   "source": []
  }
 ],
 "metadata": {
  "kernelspec": {
   "display_name": "Python 3",
   "language": "python",
   "name": "python3"
  },
  "language_info": {
   "codemirror_mode": {
    "name": "ipython",
    "version": 3
   },
   "file_extension": ".py",
   "mimetype": "text/x-python",
   "name": "python",
   "nbconvert_exporter": "python",
   "pygments_lexer": "ipython3",
   "version": "3.8.8"
  }
 },
 "nbformat": 4,
 "nbformat_minor": 5
}
