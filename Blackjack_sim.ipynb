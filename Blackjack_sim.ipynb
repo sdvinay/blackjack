{
 "cells": [
  {
   "cell_type": "code",
   "execution_count": 1,
   "id": "middle-scenario",
   "metadata": {
    "ExecuteTime": {
     "end_time": "2021-07-16T23:57:11.908148Z",
     "start_time": "2021-07-16T23:57:11.284557Z"
    }
   },
   "outputs": [],
   "source": [
    "import pandas as pd\n",
    "import matplotlib.pyplot as plt\n",
    "import seaborn as sns\n",
    "\n",
    "\n",
    "import blackjack as bj\n",
    "from blackjack import Hand, HandScore, Action, make_hand\n",
    "import simulator as sim"
   ]
  },
  {
   "cell_type": "code",
   "execution_count": 2,
   "id": "floating-forge",
   "metadata": {
    "ExecuteTime": {
     "end_time": "2021-07-16T23:57:11.913183Z",
     "start_time": "2021-07-16T23:57:11.909390Z"
    }
   },
   "outputs": [
    {
     "data": {
      "text/plain": [
       "s11"
      ]
     },
     "execution_count": 2,
     "metadata": {},
     "output_type": "execute_result"
    }
   ],
   "source": [
    "h = HandScore(11, True)\n",
    "h"
   ]
  },
  {
   "cell_type": "code",
   "execution_count": 3,
   "id": "pointed-judge",
   "metadata": {
    "ExecuteTime": {
     "end_time": "2021-07-16T23:57:11.917242Z",
     "start_time": "2021-07-16T23:57:11.914728Z"
    }
   },
   "outputs": [
    {
     "data": {
      "text/plain": [
       "s21"
      ]
     },
     "execution_count": 3,
     "metadata": {},
     "output_type": "execute_result"
    }
   ],
   "source": [
    "h.add_card(10)"
   ]
  },
  {
   "cell_type": "code",
   "execution_count": 4,
   "id": "mounted-kernel",
   "metadata": {
    "ExecuteTime": {
     "end_time": "2021-07-16T23:57:11.920874Z",
     "start_time": "2021-07-16T23:57:11.918573Z"
    }
   },
   "outputs": [
    {
     "data": {
      "text/plain": [
       "h21"
      ]
     },
     "execution_count": 4,
     "metadata": {},
     "output_type": "execute_result"
    }
   ],
   "source": [
    "h.add_card(10).add_card(10)"
   ]
  },
  {
   "cell_type": "code",
   "execution_count": 5,
   "id": "static-printer",
   "metadata": {
    "ExecuteTime": {
     "end_time": "2021-07-16T23:57:11.924189Z",
     "start_time": "2021-07-16T23:57:11.921789Z"
    }
   },
   "outputs": [
    {
     "data": {
      "text/plain": [
       "s11"
      ]
     },
     "execution_count": 5,
     "metadata": {},
     "output_type": "execute_result"
    }
   ],
   "source": [
    "h"
   ]
  },
  {
   "cell_type": "code",
   "execution_count": 6,
   "id": "turkish-state",
   "metadata": {
    "ExecuteTime": {
     "end_time": "2021-07-16T23:57:11.928630Z",
     "start_time": "2021-07-16T23:57:11.925282Z"
    }
   },
   "outputs": [
    {
     "data": {
      "text/plain": [
       "s14"
      ]
     },
     "execution_count": 6,
     "metadata": {},
     "output_type": "execute_result"
    }
   ],
   "source": [
    "h.add_card(3)"
   ]
  },
  {
   "cell_type": "code",
   "execution_count": 7,
   "id": "cubic-object",
   "metadata": {
    "ExecuteTime": {
     "end_time": "2021-07-16T23:57:11.932070Z",
     "start_time": "2021-07-16T23:57:11.929591Z"
    }
   },
   "outputs": [
    {
     "data": {
      "text/plain": [
       "h14"
      ]
     },
     "execution_count": 7,
     "metadata": {},
     "output_type": "execute_result"
    }
   ],
   "source": [
    "h.add_card(3).add_card(10)"
   ]
  },
  {
   "cell_type": "code",
   "execution_count": 8,
   "id": "afraid-bristol",
   "metadata": {
    "ExecuteTime": {
     "end_time": "2021-07-16T23:57:11.937288Z",
     "start_time": "2021-07-16T23:57:11.934315Z"
    }
   },
   "outputs": [
    {
     "data": {
      "text/plain": [
       "[h00,\n",
       " h01,\n",
       " h02,\n",
       " h03,\n",
       " h04,\n",
       " h05,\n",
       " h06,\n",
       " h07,\n",
       " h08,\n",
       " h09,\n",
       " h10,\n",
       " h11,\n",
       " h12,\n",
       " h13,\n",
       " h14,\n",
       " h15,\n",
       " h16,\n",
       " h17,\n",
       " h18,\n",
       " h19,\n",
       " h20,\n",
       " h21,\n",
       " h22,\n",
       " s11,\n",
       " s12,\n",
       " s13,\n",
       " s14,\n",
       " s15,\n",
       " s16,\n",
       " s17,\n",
       " s18,\n",
       " s19,\n",
       " s20,\n",
       " s21]"
      ]
     },
     "execution_count": 8,
     "metadata": {},
     "output_type": "execute_result"
    }
   ],
   "source": [
    "all_scores = [HandScore(i, False) for i in range(0, 23)] + [HandScore(i, True) for i in range(11, 22)]\n",
    "all_scores"
   ]
  },
  {
   "cell_type": "code",
   "execution_count": 9,
   "id": "initial-harrison",
   "metadata": {
    "ExecuteTime": {
     "end_time": "2021-07-16T23:57:11.942319Z",
     "start_time": "2021-07-16T23:57:11.939269Z"
    }
   },
   "outputs": [
    {
     "data": {
      "text/plain": [
       "Hand(score=h00, cards=[], doubled=False, drawn=False)"
      ]
     },
     "execution_count": 9,
     "metadata": {},
     "output_type": "execute_result"
    }
   ],
   "source": [
    "h = Hand()\n",
    "h"
   ]
  },
  {
   "cell_type": "code",
   "execution_count": 10,
   "id": "reduced-cover",
   "metadata": {
    "ExecuteTime": {
     "end_time": "2021-07-16T23:57:11.946021Z",
     "start_time": "2021-07-16T23:57:11.943734Z"
    }
   },
   "outputs": [
    {
     "data": {
      "text/plain": [
       "Hand(score=h06, cards=[6], doubled=False, drawn=True)"
      ]
     },
     "execution_count": 10,
     "metadata": {},
     "output_type": "execute_result"
    }
   ],
   "source": [
    "h.add_card(6) # start a hand with a 6"
   ]
  },
  {
   "cell_type": "code",
   "execution_count": 11,
   "id": "aging-green",
   "metadata": {
    "ExecuteTime": {
     "end_time": "2021-07-16T23:57:11.949504Z",
     "start_time": "2021-07-16T23:57:11.946986Z"
    }
   },
   "outputs": [
    {
     "data": {
      "text/plain": [
       "Hand(score=h16, cards=[6, 11], doubled=False, drawn=True)"
      ]
     },
     "execution_count": 11,
     "metadata": {},
     "output_type": "execute_result"
    }
   ],
   "source": [
    "h.add_card(11) # show that J (11) counts as 10 points"
   ]
  },
  {
   "cell_type": "code",
   "execution_count": 12,
   "id": "humanitarian-chair",
   "metadata": {
    "ExecuteTime": {
     "end_time": "2021-07-16T23:57:11.953122Z",
     "start_time": "2021-07-16T23:57:11.950485Z"
    }
   },
   "outputs": [
    {
     "data": {
      "text/plain": [
       "(Hand(score=h22, cards=[6, 11, 7], doubled=False, drawn=True), True)"
      ]
     },
     "execution_count": 12,
     "metadata": {},
     "output_type": "execute_result"
    }
   ],
   "source": [
    "h.add_card(7), bj.is_busted(h) # bust (show that 23 is counted as 22)"
   ]
  },
  {
   "cell_type": "code",
   "execution_count": 13,
   "id": "accompanied-perspective",
   "metadata": {
    "ExecuteTime": {
     "end_time": "2021-07-16T23:57:11.957456Z",
     "start_time": "2021-07-16T23:57:11.954115Z"
    }
   },
   "outputs": [
    {
     "data": {
      "text/plain": [
       "Hand(score=s11, cards=[1], doubled=False, drawn=True)"
      ]
     },
     "execution_count": 13,
     "metadata": {},
     "output_type": "execute_result"
    }
   ],
   "source": [
    "# OK, now let's try another hand with aces\n",
    "h = Hand()\n",
    "h.add_card(1) # should be a soft 11"
   ]
  },
  {
   "cell_type": "code",
   "execution_count": 14,
   "id": "exotic-checkout",
   "metadata": {
    "ExecuteTime": {
     "end_time": "2021-07-16T23:57:11.961462Z",
     "start_time": "2021-07-16T23:57:11.958841Z"
    }
   },
   "outputs": [
    {
     "data": {
      "text/plain": [
       "Hand(score=s12, cards=[1, 1], doubled=False, drawn=True)"
      ]
     },
     "execution_count": 14,
     "metadata": {},
     "output_type": "execute_result"
    }
   ],
   "source": [
    "h.add_card(1) # two aces: should be a soft 12"
   ]
  },
  {
   "cell_type": "code",
   "execution_count": 15,
   "id": "italian-beads",
   "metadata": {
    "ExecuteTime": {
     "end_time": "2021-07-16T23:57:11.965126Z",
     "start_time": "2021-07-16T23:57:11.962452Z"
    }
   },
   "outputs": [
    {
     "data": {
      "text/plain": [
       "Hand(score=h12, cards=[1, 1, 11], doubled=False, drawn=True)"
      ]
     },
     "execution_count": 15,
     "metadata": {},
     "output_type": "execute_result"
    }
   ],
   "source": [
    "h.add_card(11) # two aces and a J: should be a hard 12"
   ]
  },
  {
   "cell_type": "code",
   "execution_count": 16,
   "id": "neutral-sugar",
   "metadata": {
    "ExecuteTime": {
     "end_time": "2021-07-16T23:57:11.968698Z",
     "start_time": "2021-07-16T23:57:11.966110Z"
    }
   },
   "outputs": [
    {
     "data": {
      "text/plain": [
       "(Hand(score=s21, cards=[1, 10], doubled=False, drawn=True), True)"
      ]
     },
     "execution_count": 16,
     "metadata": {},
     "output_type": "execute_result"
    }
   ],
   "source": [
    "# OK, now let's try another hand with a blackjack\n",
    "h = Hand()\n",
    "h.add_card(1) # should be a soft 11\n",
    "h.add_card(10)\n",
    "h, bj.is_blackjack(h)"
   ]
  },
  {
   "cell_type": "markdown",
   "id": "dental-kelly",
   "metadata": {},
   "source": [
    "## Now define gameplay and strategy"
   ]
  },
  {
   "cell_type": "code",
   "execution_count": 17,
   "id": "secondary-crown",
   "metadata": {
    "ExecuteTime": {
     "end_time": "2021-07-16T23:57:11.972237Z",
     "start_time": "2021-07-16T23:57:11.969574Z"
    }
   },
   "outputs": [
    {
     "data": {
      "text/plain": [
       "[4, 13, 7, 4, 9, 3, 11, 5, 6, 1]"
      ]
     },
     "execution_count": 17,
     "metadata": {},
     "output_type": "execute_result"
    }
   ],
   "source": [
    "[bj.deal_card() for _ in range(10)]"
   ]
  },
  {
   "cell_type": "code",
   "execution_count": 18,
   "id": "atomic-plaintiff",
   "metadata": {
    "ExecuteTime": {
     "end_time": "2021-07-16T23:57:11.977014Z",
     "start_time": "2021-07-16T23:57:11.973545Z"
    }
   },
   "outputs": [
    {
     "data": {
      "text/plain": [
       "[('strat_nobust',\n",
       "  Hand(score=h16, cards=[4, 2, 11], doubled=False, drawn=True),\n",
       "  Hand(score=h19, cards=[12, 5, 4], doubled=False, drawn=True),\n",
       "  <HandOutcome.LOSE: -1>),\n",
       " ('strat_nobust',\n",
       "  Hand(score=h12, cards=[4, 2, 6], doubled=False, drawn=True),\n",
       "  Hand(score=h19, cards=[12, 5, 4], doubled=False, drawn=True),\n",
       "  <HandOutcome.LOSE: -1>)]"
      ]
     },
     "execution_count": 18,
     "metadata": {},
     "output_type": "execute_result"
    }
   ],
   "source": [
    "bj.play_one_round([bj.strat_nobust, bj.strat_nobust])"
   ]
  },
  {
   "cell_type": "markdown",
   "id": "looking-jewelry",
   "metadata": {},
   "source": [
    "## Aggregate and summarize the data from the simulations"
   ]
  },
  {
   "cell_type": "code",
   "execution_count": 19,
   "id": "juvenile-joshua",
   "metadata": {
    "ExecuteTime": {
     "end_time": "2021-07-16T23:57:11.981711Z",
     "start_time": "2021-07-16T23:57:11.978172Z"
    }
   },
   "outputs": [
    {
     "data": {
      "text/plain": [
       "[{'strategy': 'strat_nobust',\n",
       "  'hand_start': [3, 13],\n",
       "  'dealer_card': 1,\n",
       "  'hand_end': [3, 13],\n",
       "  'dealer_hand': [1, 11],\n",
       "  'outcome': <HandOutcome.LOSE: -1>},\n",
       " {'strategy': 'strat_dealer',\n",
       "  'hand_start': [3, 13],\n",
       "  'dealer_card': 1,\n",
       "  'hand_end': [3, 13, 2, 6],\n",
       "  'dealer_hand': [1, 11],\n",
       "  'outcome': <HandOutcome.LOSE: -1>}]"
      ]
     },
     "execution_count": 19,
     "metadata": {},
     "output_type": "execute_result"
    }
   ],
   "source": [
    "\n",
    "\n",
    "strat_nobust = bj.strat_nobust\n",
    "strat_dealer = bj.strat_dealer\n",
    "sim.generate_rows_from_round(bj.play_one_round([bj.strat_nobust, bj.strat_dealer]))\n"
   ]
  },
  {
   "cell_type": "code",
   "execution_count": 20,
   "id": "approved-broadway",
   "metadata": {
    "ExecuteTime": {
     "end_time": "2021-07-16T23:57:12.291662Z",
     "start_time": "2021-07-16T23:57:11.982693Z"
    }
   },
   "outputs": [],
   "source": [
    "\n",
    "\n",
    "sim_results = sim.run_n_sim_trials([strat_nobust, strat_dealer], 10000)\n",
    "#%prun -s cumulative sim_results, sim.summarize_totals(sim_results)"
   ]
  },
  {
   "cell_type": "code",
   "execution_count": 21,
   "id": "varied-devil",
   "metadata": {
    "ExecuteTime": {
     "end_time": "2021-07-16T23:57:12.334697Z",
     "start_time": "2021-07-16T23:57:12.292525Z"
    }
   },
   "outputs": [
    {
     "data": {
      "text/plain": [
       "(  strategy hand_start  dealer_card         hand_end    dealer_hand  \\\n",
       " 0   simple    [12, 6]           13       [12, 6, 5]  [13, 2, 3, 8]   \n",
       " 1   simple   [12, 11]            9         [12, 11]      [9, 2, 8]   \n",
       " 2   simple     [9, 5]           13       [9, 5, 10]       [13, 11]   \n",
       " 3   simple    [11, 7]           13          [11, 7]        [13, 9]   \n",
       " 4   simple     [6, 8]           10       [6, 8, 13]    [10, 2, 12]   \n",
       " 5   simple    [10, 1]            3          [10, 1]     [3, 7, 13]   \n",
       " 6   simple     [4, 3]            4        [4, 3, 6]     [4, 8, 10]   \n",
       " 7   simple    [5, 11]            8       [5, 11, 8]     [8, 2, 12]   \n",
       " 8   simple     [9, 6]           10        [9, 6, 2]       [10, 11]   \n",
       " 9   simple     [1, 5]           10  [1, 5, 3, 3, 9]        [10, 8]   \n",
       " \n",
       "                  outcome  outcome_value outcome_name  \n",
       " 0        HandOutcome.WIN            1.0          WIN  \n",
       " 1        HandOutcome.WIN            1.0          WIN  \n",
       " 2       HandOutcome.LOSE           -1.0         LOSE  \n",
       " 3       HandOutcome.LOSE           -1.0         LOSE  \n",
       " 4       HandOutcome.LOSE           -1.0         LOSE  \n",
       " 5  HandOutcome.BLACKJACK            1.5    BLACKJACK  \n",
       " 6        HandOutcome.WIN            1.0          WIN  \n",
       " 7       HandOutcome.LOSE           -1.0         LOSE  \n",
       " 8       HandOutcome.LOSE           -1.0         LOSE  \n",
       " 9        HandOutcome.WIN            1.0          WIN  ,\n",
       "                    len                mean_outcome\n",
       " outcome_name BLACKJACK LOSE PUSH  WIN             \n",
       " strategy                                          \n",
       " simple              41  506   93  360      -0.0845)"
      ]
     },
     "execution_count": 21,
     "metadata": {},
     "output_type": "execute_result"
    }
   ],
   "source": [
    "def strat_simple(score_p, score_d):\n",
    "    if score_p.points == 11:  return Action.DOUBLE\n",
    "    if score_p.points >= 17:  return Action.STAND\n",
    "    if score_p.points <= 11:  return Action.HIT\n",
    "    if score_d.points in (range(3,7)):  return Action.STAND\n",
    "    else:  return Action.HIT\n",
    "        \n",
    "strat_simple.name = 'simple'\n",
    "\n",
    "\n",
    "sims = sim.run_n_sim_trials([strat_simple], 1000)\n",
    "sims.head(10), sim.summarize_totals(sims)"
   ]
  },
  {
   "cell_type": "code",
   "execution_count": 22,
   "id": "confirmed-passing",
   "metadata": {
    "ExecuteTime": {
     "end_time": "2021-07-16T23:57:13.186773Z",
     "start_time": "2021-07-16T23:57:12.335645Z"
    }
   },
   "outputs": [
    {
     "name": "stdout",
     "output_type": "stream",
     "text": [
      " "
     ]
    }
   ],
   "source": [
    "%prun -s cumulative sim.summarize_totals(sim.run_n_sim_trials([strat_dealer, strat_nobust, strat_simple], 10000))\n"
   ]
  },
  {
   "cell_type": "markdown",
   "id": "fluid-writing",
   "metadata": {},
   "source": [
    "## Simulate specific situations to determine strategy"
   ]
  },
  {
   "cell_type": "code",
   "execution_count": 23,
   "id": "otherwise-sheffield",
   "metadata": {
    "ExecuteTime": {
     "end_time": "2021-07-16T23:57:13.192792Z",
     "start_time": "2021-07-16T23:57:13.190661Z"
    }
   },
   "outputs": [
    {
     "data": {
      "text/plain": [
       "(Hand(score=h12, cards=[5, 7], doubled=False, drawn=True),\n",
       " Hand(score=h02, cards=[2], doubled=False, drawn=True))"
      ]
     },
     "execution_count": 23,
     "metadata": {},
     "output_type": "execute_result"
    }
   ],
   "source": [
    "# 12 vs deuce\n",
    "\n",
    "hand_p = make_hand([5, 7])\n",
    "hand_d = make_hand([2])\n",
    "\n",
    "hand_p, hand_d"
   ]
  },
  {
   "cell_type": "code",
   "execution_count": 24,
   "id": "gross-kennedy",
   "metadata": {
    "ExecuteTime": {
     "end_time": "2021-07-16T23:57:13.197378Z",
     "start_time": "2021-07-16T23:57:13.194445Z"
    }
   },
   "outputs": [
    {
     "data": {
      "text/plain": [
       "<function simulator.generate_strat_conditional.<locals>.strat_cond(score_p, score_d)>"
      ]
     },
     "execution_count": 24,
     "metadata": {},
     "output_type": "execute_result"
    }
   ],
   "source": [
    "# Implement a strategy that composes conditions and actions\n",
    "\n",
    "def cond_12_2(score_p, score_d):\n",
    "    return score_p.points == 12 and score_d.points == 2 and not score_p.soft\n",
    "conditions = [(cond_12_2, Action.STAND)]\n",
    "\n",
    "\n",
    "    \n",
    "strat_cond = sim.generate_strat_conditional(strat_simple, conditions)\n",
    "strat_cond"
   ]
  },
  {
   "cell_type": "code",
   "execution_count": 25,
   "id": "virgin-mining",
   "metadata": {
    "ExecuteTime": {
     "end_time": "2021-07-16T23:57:13.202237Z",
     "start_time": "2021-07-16T23:57:13.198792Z"
    }
   },
   "outputs": [
    {
     "data": {
      "text/plain": [
       "[<function simulator.generate_strat_conditional.<locals>.strat_cond(score_p, score_d)>,\n",
       " <function simulator.generate_strat_conditional.<locals>.strat_cond(score_p, score_d)>,\n",
       " <function simulator.generate_strat_conditional.<locals>.strat_cond(score_p, score_d)>]"
      ]
     },
     "execution_count": 25,
     "metadata": {},
     "output_type": "execute_result"
    }
   ],
   "source": [
    "# Generate a conditional strategy for each action\n",
    "    \n",
    "strats = sim.gen_cond_strategies(strat_simple, cond_12_2, [Action.HIT, Action.STAND, Action.DOUBLE])\n",
    "strats"
   ]
  },
  {
   "cell_type": "code",
   "execution_count": 26,
   "id": "acoustic-warrant",
   "metadata": {
    "ExecuteTime": {
     "end_time": "2021-07-16T23:57:13.206083Z",
     "start_time": "2021-07-16T23:57:13.203347Z"
    }
   },
   "outputs": [
    {
     "data": {
      "text/plain": [
       "[('<Action.HIT: 2>',\n",
       "  Hand(score=h18, cards=[5, 7, 6], doubled=False, drawn=True),\n",
       "  Hand(score=h20, cards=[2, 12, 8], doubled=False, drawn=True),\n",
       "  <HandOutcome.LOSE: -1>),\n",
       " ('<Action.STAND: 1>',\n",
       "  Hand(score=h12, cards=[5, 7], doubled=False, drawn=True),\n",
       "  Hand(score=h20, cards=[2, 12, 8], doubled=False, drawn=True),\n",
       "  <HandOutcome.LOSE: -1>),\n",
       " ('<Action.DOUBLE: 3>',\n",
       "  Hand(score=h20, cards=[5, 7, 8], doubled=False, drawn=True),\n",
       "  Hand(score=h20, cards=[2, 12, 8], doubled=False, drawn=True),\n",
       "  <HandOutcome.PUSH: 0>)]"
      ]
     },
     "execution_count": 26,
     "metadata": {},
     "output_type": "execute_result"
    }
   ],
   "source": [
    "bj.complete_one_round(strats, hand_p, hand_d, bj.deal_card())"
   ]
  },
  {
   "cell_type": "code",
   "execution_count": 27,
   "id": "economic-greene",
   "metadata": {
    "ExecuteTime": {
     "end_time": "2021-07-16T23:57:13.662445Z",
     "start_time": "2021-07-16T23:57:13.206904Z"
    }
   },
   "outputs": [
    {
     "data": {
      "text/html": [
       "<div>\n",
       "<style scoped>\n",
       "    .dataframe tbody tr th:only-of-type {\n",
       "        vertical-align: middle;\n",
       "    }\n",
       "\n",
       "    .dataframe tbody tr th {\n",
       "        vertical-align: top;\n",
       "    }\n",
       "\n",
       "    .dataframe thead tr th {\n",
       "        text-align: left;\n",
       "    }\n",
       "\n",
       "    .dataframe thead tr:last-of-type th {\n",
       "        text-align: right;\n",
       "    }\n",
       "</style>\n",
       "<table border=\"1\" class=\"dataframe\">\n",
       "  <thead>\n",
       "    <tr>\n",
       "      <th></th>\n",
       "      <th colspan=\"3\" halign=\"left\">len</th>\n",
       "      <th>mean_outcome</th>\n",
       "    </tr>\n",
       "    <tr>\n",
       "      <th>outcome_name</th>\n",
       "      <th>LOSE</th>\n",
       "      <th>PUSH</th>\n",
       "      <th>WIN</th>\n",
       "      <th></th>\n",
       "    </tr>\n",
       "    <tr>\n",
       "      <th>strategy</th>\n",
       "      <th></th>\n",
       "      <th></th>\n",
       "      <th></th>\n",
       "      <th></th>\n",
       "    </tr>\n",
       "  </thead>\n",
       "  <tbody>\n",
       "    <tr>\n",
       "      <th>&lt;Action.DOUBLE: 3&gt;</th>\n",
       "      <td>6150</td>\n",
       "      <td>684</td>\n",
       "      <td>3166</td>\n",
       "      <td>-0.2984</td>\n",
       "    </tr>\n",
       "    <tr>\n",
       "      <th>&lt;Action.HIT: 2&gt;</th>\n",
       "      <td>6171</td>\n",
       "      <td>657</td>\n",
       "      <td>3172</td>\n",
       "      <td>-0.2999</td>\n",
       "    </tr>\n",
       "    <tr>\n",
       "      <th>&lt;Action.STAND: 1&gt;</th>\n",
       "      <td>6468</td>\n",
       "      <td>0</td>\n",
       "      <td>3532</td>\n",
       "      <td>-0.2936</td>\n",
       "    </tr>\n",
       "  </tbody>\n",
       "</table>\n",
       "</div>"
      ],
      "text/plain": [
       "                     len            mean_outcome\n",
       "outcome_name        LOSE PUSH   WIN             \n",
       "strategy                                        \n",
       "<Action.DOUBLE: 3>  6150  684  3166      -0.2984\n",
       "<Action.HIT: 2>     6171  657  3172      -0.2999\n",
       "<Action.STAND: 1>   6468    0  3532      -0.2936"
      ]
     },
     "execution_count": 27,
     "metadata": {},
     "output_type": "execute_result"
    }
   ],
   "source": [
    "\n",
    "\n",
    "sims = sim.run_n_sim_trials_from_state(strats, hand_p, hand_d, 10000)\n",
    "sim.summarize_totals(sims)"
   ]
  },
  {
   "cell_type": "code",
   "execution_count": 28,
   "id": "institutional-grain",
   "metadata": {
    "ExecuteTime": {
     "end_time": "2021-07-16T23:57:13.665847Z",
     "start_time": "2021-07-16T23:57:13.663405Z"
    }
   },
   "outputs": [
    {
     "data": {
      "text/plain": [
       "(Hand(score=s12, cards=[1, 1], doubled=False, drawn=True),\n",
       " Hand(score=h02, cards=[2], doubled=False, drawn=True))"
      ]
     },
     "execution_count": 28,
     "metadata": {},
     "output_type": "execute_result"
    }
   ],
   "source": [
    "# Soft 12 vs 2\n",
    "hand_12s = make_hand([1, 1])\n",
    "\n",
    "hand_12s, hand_d"
   ]
  },
  {
   "cell_type": "code",
   "execution_count": 29,
   "id": "legal-uniform",
   "metadata": {
    "ExecuteTime": {
     "end_time": "2021-07-16T23:57:13.670037Z",
     "start_time": "2021-07-16T23:57:13.666906Z"
    }
   },
   "outputs": [
    {
     "data": {
      "text/plain": [
       "[<function simulator.generate_strat_conditional.<locals>.strat_cond(score_p, score_d)>,\n",
       " <function simulator.generate_strat_conditional.<locals>.strat_cond(score_p, score_d)>,\n",
       " <function simulator.generate_strat_conditional.<locals>.strat_cond(score_p, score_d)>]"
      ]
     },
     "execution_count": 29,
     "metadata": {},
     "output_type": "execute_result"
    }
   ],
   "source": [
    "def cond_12s_2(score_p, score_d):\n",
    "    return score_p == HandScore(12, True) and score_d.points == 2\n",
    "\n",
    "strats = sim.gen_cond_strategies(strat_simple, cond_12s_2, [Action.HIT, Action.STAND, Action.DOUBLE])\n",
    "strats"
   ]
  },
  {
   "cell_type": "code",
   "execution_count": 30,
   "id": "british-logging",
   "metadata": {
    "ExecuteTime": {
     "end_time": "2021-07-16T23:57:14.414068Z",
     "start_time": "2021-07-16T23:57:13.670977Z"
    }
   },
   "outputs": [
    {
     "data": {
      "text/html": [
       "<div>\n",
       "<style scoped>\n",
       "    .dataframe tbody tr th:only-of-type {\n",
       "        vertical-align: middle;\n",
       "    }\n",
       "\n",
       "    .dataframe tbody tr th {\n",
       "        vertical-align: top;\n",
       "    }\n",
       "\n",
       "    .dataframe thead tr th {\n",
       "        text-align: left;\n",
       "    }\n",
       "\n",
       "    .dataframe thead tr:last-of-type th {\n",
       "        text-align: right;\n",
       "    }\n",
       "</style>\n",
       "<table border=\"1\" class=\"dataframe\">\n",
       "  <thead>\n",
       "    <tr>\n",
       "      <th></th>\n",
       "      <th colspan=\"3\" halign=\"left\">len</th>\n",
       "      <th>mean_outcome</th>\n",
       "    </tr>\n",
       "    <tr>\n",
       "      <th>outcome_name</th>\n",
       "      <th>LOSE</th>\n",
       "      <th>PUSH</th>\n",
       "      <th>WIN</th>\n",
       "      <th></th>\n",
       "    </tr>\n",
       "    <tr>\n",
       "      <th>strategy</th>\n",
       "      <th></th>\n",
       "      <th></th>\n",
       "      <th></th>\n",
       "      <th></th>\n",
       "    </tr>\n",
       "  </thead>\n",
       "  <tbody>\n",
       "    <tr>\n",
       "      <th>&lt;Action.DOUBLE: 3&gt;</th>\n",
       "      <td>5278</td>\n",
       "      <td>835</td>\n",
       "      <td>3887</td>\n",
       "      <td>-0.1391</td>\n",
       "    </tr>\n",
       "    <tr>\n",
       "      <th>&lt;Action.HIT: 2&gt;</th>\n",
       "      <td>5259</td>\n",
       "      <td>825</td>\n",
       "      <td>3916</td>\n",
       "      <td>-0.1343</td>\n",
       "    </tr>\n",
       "    <tr>\n",
       "      <th>&lt;Action.STAND: 1&gt;</th>\n",
       "      <td>6358</td>\n",
       "      <td>0</td>\n",
       "      <td>3642</td>\n",
       "      <td>-0.2716</td>\n",
       "    </tr>\n",
       "    <tr>\n",
       "      <th>simple</th>\n",
       "      <td>5218</td>\n",
       "      <td>810</td>\n",
       "      <td>3972</td>\n",
       "      <td>-0.1246</td>\n",
       "    </tr>\n",
       "  </tbody>\n",
       "</table>\n",
       "</div>"
      ],
      "text/plain": [
       "                     len            mean_outcome\n",
       "outcome_name        LOSE PUSH   WIN             \n",
       "strategy                                        \n",
       "<Action.DOUBLE: 3>  5278  835  3887      -0.1391\n",
       "<Action.HIT: 2>     5259  825  3916      -0.1343\n",
       "<Action.STAND: 1>   6358    0  3642      -0.2716\n",
       "simple              5218  810  3972      -0.1246"
      ]
     },
     "execution_count": 30,
     "metadata": {},
     "output_type": "execute_result"
    }
   ],
   "source": [
    "sims = sim.run_n_sim_trials_from_state(strats+[strat_simple], hand_12s, hand_d, 10000)\n",
    "sim.summarize_totals(sims)"
   ]
  },
  {
   "cell_type": "code",
   "execution_count": 31,
   "id": "based-subscription",
   "metadata": {
    "ExecuteTime": {
     "end_time": "2021-07-16T23:57:14.717272Z",
     "start_time": "2021-07-16T23:57:14.414948Z"
    }
   },
   "outputs": [
    {
     "data": {
      "text/html": [
       "<div>\n",
       "<style scoped>\n",
       "    .dataframe tbody tr th:only-of-type {\n",
       "        vertical-align: middle;\n",
       "    }\n",
       "\n",
       "    .dataframe tbody tr th {\n",
       "        vertical-align: top;\n",
       "    }\n",
       "\n",
       "    .dataframe thead tr th {\n",
       "        text-align: left;\n",
       "    }\n",
       "\n",
       "    .dataframe thead tr:last-of-type th {\n",
       "        text-align: right;\n",
       "    }\n",
       "</style>\n",
       "<table border=\"1\" class=\"dataframe\">\n",
       "  <thead>\n",
       "    <tr>\n",
       "      <th></th>\n",
       "      <th colspan=\"3\" halign=\"left\">len</th>\n",
       "      <th>mean_outcome</th>\n",
       "    </tr>\n",
       "    <tr>\n",
       "      <th>outcome_name</th>\n",
       "      <th>LOSE</th>\n",
       "      <th>PUSH</th>\n",
       "      <th>WIN</th>\n",
       "      <th></th>\n",
       "    </tr>\n",
       "    <tr>\n",
       "      <th>strategy</th>\n",
       "      <th></th>\n",
       "      <th></th>\n",
       "      <th></th>\n",
       "      <th></th>\n",
       "    </tr>\n",
       "  </thead>\n",
       "  <tbody>\n",
       "    <tr>\n",
       "      <th>simple</th>\n",
       "      <td>6106</td>\n",
       "      <td>645</td>\n",
       "      <td>3249</td>\n",
       "      <td>-0.2857</td>\n",
       "    </tr>\n",
       "    <tr>\n",
       "      <th>strat_cond</th>\n",
       "      <td>6299</td>\n",
       "      <td>0</td>\n",
       "      <td>3701</td>\n",
       "      <td>-0.2598</td>\n",
       "    </tr>\n",
       "  </tbody>\n",
       "</table>\n",
       "</div>"
      ],
      "text/plain": [
       "               len            mean_outcome\n",
       "outcome_name  LOSE PUSH   WIN             \n",
       "strategy                                  \n",
       "simple        6106  645  3249      -0.2857\n",
       "strat_cond    6299    0  3701      -0.2598"
      ]
     },
     "execution_count": 31,
     "metadata": {},
     "output_type": "execute_result"
    }
   ],
   "source": [
    "sim.summarize_totals(sim.run_n_sim_trials_from_state([strat_simple, strat_cond], hand_p, hand_d, 10*1000))"
   ]
  },
  {
   "cell_type": "code",
   "execution_count": 32,
   "id": "vietnamese-spray",
   "metadata": {
    "ExecuteTime": {
     "end_time": "2021-07-16T23:57:15.351297Z",
     "start_time": "2021-07-16T23:57:14.718440Z"
    }
   },
   "outputs": [
    {
     "data": {
      "text/html": [
       "<div>\n",
       "<style scoped>\n",
       "    .dataframe tbody tr th:only-of-type {\n",
       "        vertical-align: middle;\n",
       "    }\n",
       "\n",
       "    .dataframe tbody tr th {\n",
       "        vertical-align: top;\n",
       "    }\n",
       "\n",
       "    .dataframe thead tr th {\n",
       "        text-align: left;\n",
       "    }\n",
       "\n",
       "    .dataframe thead tr:last-of-type th {\n",
       "        text-align: right;\n",
       "    }\n",
       "</style>\n",
       "<table border=\"1\" class=\"dataframe\">\n",
       "  <thead>\n",
       "    <tr>\n",
       "      <th></th>\n",
       "      <th colspan=\"3\" halign=\"left\">len</th>\n",
       "      <th>mean_outcome</th>\n",
       "    </tr>\n",
       "    <tr>\n",
       "      <th>outcome_name</th>\n",
       "      <th>LOSE</th>\n",
       "      <th>PUSH</th>\n",
       "      <th>WIN</th>\n",
       "      <th></th>\n",
       "    </tr>\n",
       "    <tr>\n",
       "      <th>strategy</th>\n",
       "      <th></th>\n",
       "      <th></th>\n",
       "      <th></th>\n",
       "      <th></th>\n",
       "    </tr>\n",
       "  </thead>\n",
       "  <tbody>\n",
       "    <tr>\n",
       "      <th>&lt;Action.DOUBLE: 3&gt;</th>\n",
       "      <td>4807</td>\n",
       "      <td>292</td>\n",
       "      <td>4901</td>\n",
       "      <td>0.0094</td>\n",
       "    </tr>\n",
       "    <tr>\n",
       "      <th>&lt;Action.HIT: 2&gt;</th>\n",
       "      <td>4845</td>\n",
       "      <td>290</td>\n",
       "      <td>4865</td>\n",
       "      <td>0.0020</td>\n",
       "    </tr>\n",
       "    <tr>\n",
       "      <th>&lt;Action.STAND: 1&gt;</th>\n",
       "      <td>5747</td>\n",
       "      <td>0</td>\n",
       "      <td>4253</td>\n",
       "      <td>-0.1494</td>\n",
       "    </tr>\n",
       "    <tr>\n",
       "      <th>simple</th>\n",
       "      <td>5747</td>\n",
       "      <td>0</td>\n",
       "      <td>4253</td>\n",
       "      <td>-0.1494</td>\n",
       "    </tr>\n",
       "  </tbody>\n",
       "</table>\n",
       "</div>"
      ],
      "text/plain": [
       "                     len            mean_outcome\n",
       "outcome_name        LOSE PUSH   WIN             \n",
       "strategy                                        \n",
       "<Action.DOUBLE: 3>  4807  292  4901       0.0094\n",
       "<Action.HIT: 2>     4845  290  4865       0.0020\n",
       "<Action.STAND: 1>   5747    0  4253      -0.1494\n",
       "simple              5747    0  4253      -0.1494"
      ]
     },
     "execution_count": 32,
     "metadata": {},
     "output_type": "execute_result"
    }
   ],
   "source": [
    "# soft 13 vs 6\n",
    "def cond_13s_6(score_p, score_d):\n",
    "    return score_p == HandScore(13, True) and score_d.points == 6\n",
    "\n",
    "\n",
    "\n",
    "strats = sim.gen_cond_strategies(strat_simple, cond_13s_6, [Action.HIT, Action.STAND, Action.DOUBLE])\n",
    "sims = sim.run_n_sim_trials_from_state(strats+[strat_simple], bj.make_hand([1, 2]), bj.make_hand([6]), 10000)\n",
    "sim.summarize_totals(sims)"
   ]
  },
  {
   "cell_type": "code",
   "execution_count": 33,
   "id": "liable-painting",
   "metadata": {
    "ExecuteTime": {
     "end_time": "2021-07-16T23:57:15.888769Z",
     "start_time": "2021-07-16T23:57:15.352244Z"
    }
   },
   "outputs": [
    {
     "data": {
      "text/html": [
       "<div>\n",
       "<style scoped>\n",
       "    .dataframe tbody tr th:only-of-type {\n",
       "        vertical-align: middle;\n",
       "    }\n",
       "\n",
       "    .dataframe tbody tr th {\n",
       "        vertical-align: top;\n",
       "    }\n",
       "\n",
       "    .dataframe thead tr th {\n",
       "        text-align: left;\n",
       "    }\n",
       "\n",
       "    .dataframe thead tr:last-of-type th {\n",
       "        text-align: right;\n",
       "    }\n",
       "</style>\n",
       "<table border=\"1\" class=\"dataframe\">\n",
       "  <thead>\n",
       "    <tr>\n",
       "      <th></th>\n",
       "      <th colspan=\"3\" halign=\"left\">len</th>\n",
       "      <th>mean_outcome</th>\n",
       "    </tr>\n",
       "    <tr>\n",
       "      <th>outcome_name</th>\n",
       "      <th>LOSE</th>\n",
       "      <th>PUSH</th>\n",
       "      <th>WIN</th>\n",
       "      <th></th>\n",
       "    </tr>\n",
       "    <tr>\n",
       "      <th>strategy</th>\n",
       "      <th></th>\n",
       "      <th></th>\n",
       "      <th></th>\n",
       "      <th></th>\n",
       "    </tr>\n",
       "  </thead>\n",
       "  <tbody>\n",
       "    <tr>\n",
       "      <th>&lt;Action.DOUBLE: 3&gt;</th>\n",
       "      <td>3249</td>\n",
       "      <td>691</td>\n",
       "      <td>6060</td>\n",
       "      <td>0.2811</td>\n",
       "    </tr>\n",
       "    <tr>\n",
       "      <th>&lt;Action.HIT: 2&gt;</th>\n",
       "      <td>3193</td>\n",
       "      <td>701</td>\n",
       "      <td>6106</td>\n",
       "      <td>0.2913</td>\n",
       "    </tr>\n",
       "    <tr>\n",
       "      <th>&lt;Action.STAND: 1&gt;</th>\n",
       "      <td>5793</td>\n",
       "      <td>0</td>\n",
       "      <td>4207</td>\n",
       "      <td>-0.1586</td>\n",
       "    </tr>\n",
       "    <tr>\n",
       "      <th>simple</th>\n",
       "      <td>3220</td>\n",
       "      <td>696</td>\n",
       "      <td>6084</td>\n",
       "      <td>0.2864</td>\n",
       "    </tr>\n",
       "  </tbody>\n",
       "</table>\n",
       "</div>"
      ],
      "text/plain": [
       "                     len            mean_outcome\n",
       "outcome_name        LOSE PUSH   WIN             \n",
       "strategy                                        \n",
       "<Action.DOUBLE: 3>  3249  691  6060       0.2811\n",
       "<Action.HIT: 2>     3193  701  6106       0.2913\n",
       "<Action.STAND: 1>   5793    0  4207      -0.1586\n",
       "simple              3220  696  6084       0.2864"
      ]
     },
     "execution_count": 33,
     "metadata": {},
     "output_type": "execute_result"
    }
   ],
   "source": [
    "# 10 v 6\n",
    "def cond_10_6(score_p, score_d):\n",
    "    return score_p.points == 10 and score_d.points == 6\n",
    "\n",
    "strats = sim.gen_cond_strategies(strat_simple, cond_10_6, [Action.HIT, Action.STAND, Action.DOUBLE])\n",
    "sims = sim.run_n_sim_trials_from_state(strats+[strat_simple], make_hand([5, 5]), make_hand([6]), 10000)\n",
    "sim.summarize_totals(sims)"
   ]
  },
  {
   "cell_type": "code",
   "execution_count": 34,
   "id": "serious-briefs",
   "metadata": {
    "ExecuteTime": {
     "end_time": "2021-07-16T23:57:16.323434Z",
     "start_time": "2021-07-16T23:57:15.889689Z"
    }
   },
   "outputs": [
    {
     "data": {
      "text/plain": [
       "(<function simulator.test_cond.<locals>.cond(p, d)>,\n",
       "                      len                                   mean_outcome\n",
       " outcome_name        LOSE LOSE_DOUBLE PUSH   WIN WIN_DOUBLE             \n",
       " strategy                                                               \n",
       " <Action.DOUBLE: 3>     0        3295  672     0       6033       0.5476\n",
       " <Action.HIT: 2>     3258           0  697  6045          0       0.2787\n",
       " <Action.STAND: 1>   5757           0    0  4243          0      -0.1514)"
      ]
     },
     "execution_count": 34,
     "metadata": {},
     "output_type": "execute_result"
    }
   ],
   "source": [
    "sim.test_cond(HandScore(10), HandScore(6), 10000, strat_simple)"
   ]
  },
  {
   "cell_type": "code",
   "execution_count": 35,
   "id": "square-binary",
   "metadata": {
    "ExecuteTime": {
     "end_time": "2021-07-16T23:57:16.345537Z",
     "start_time": "2021-07-16T23:57:16.324301Z"
    }
   },
   "outputs": [
    {
     "data": {
      "text/plain": [
       "(<function simulator.test_cond.<locals>.cond(p, d)>,\n",
       "                     len                                  mean_outcome\n",
       " outcome_name       LOSE LOSE_DOUBLE PUSH  WIN WIN_DOUBLE             \n",
       " strategy                                                             \n",
       " <Action.DOUBLE: 3>    0         154    5    0         41       -1.130\n",
       " <Action.HIT: 2>     165           0    5   30          0       -0.675\n",
       " <Action.STAND: 1>    57           0   13  130          0        0.365)"
      ]
     },
     "execution_count": 35,
     "metadata": {},
     "output_type": "execute_result"
    }
   ],
   "source": [
    "sim.test_cond(HandScore(18), HandScore(6), 200, strat_simple)"
   ]
  },
  {
   "cell_type": "code",
   "execution_count": 36,
   "id": "recent-harvey",
   "metadata": {
    "ExecuteTime": {
     "end_time": "2021-07-16T23:57:16.368052Z",
     "start_time": "2021-07-16T23:57:16.346541Z"
    }
   },
   "outputs": [
    {
     "data": {
      "text/plain": [
       "(<function simulator.test_cond.<locals>.cond(p, d)>,\n",
       "                     len                                  mean_outcome\n",
       " outcome_name       LOSE LOSE_DOUBLE PUSH  WIN WIN_DOUBLE             \n",
       " strategy                                                             \n",
       " <Action.DOUBLE: 3>    0          74   18    0        108         0.34\n",
       " <Action.HIT: 2>      71           0   20  109          0         0.19\n",
       " <Action.STAND: 1>     0           0   18  182          0         0.91)"
      ]
     },
     "execution_count": 36,
     "metadata": {},
     "output_type": "execute_result"
    }
   ],
   "source": [
    "sim.test_cond(HandScore(21, True), HandScore(6), 200, strat_simple)"
   ]
  },
  {
   "cell_type": "code",
   "execution_count": 37,
   "id": "manual-anime",
   "metadata": {
    "ExecuteTime": {
     "end_time": "2021-07-16T23:57:16.440987Z",
     "start_time": "2021-07-16T23:57:16.369016Z"
    }
   },
   "outputs": [
    {
     "data": {
      "text/plain": [
       "{'<Action.DOUBLE: 3>': 0.56,\n",
       " '<Action.HIT: 2>': 0.27,\n",
       " '<Action.STAND: 1>': -0.11,\n",
       " 'score_p': 'h10',\n",
       " 'score_d': 'h06',\n",
       " 'winning_act': <Action.DOUBLE: 3>,\n",
       " 'winning_act_outcome': 0.56}"
      ]
     },
     "execution_count": 37,
     "metadata": {},
     "output_type": "execute_result"
    }
   ],
   "source": [
    "\n",
    "sim.find_winning_action(HandScore(10), HandScore(6), 200)"
   ]
  },
  {
   "cell_type": "code",
   "execution_count": 38,
   "id": "supported-herald",
   "metadata": {
    "ExecuteTime": {
     "end_time": "2021-07-16T23:57:16.491167Z",
     "start_time": "2021-07-16T23:57:16.441939Z"
    }
   },
   "outputs": [
    {
     "data": {
      "text/plain": [
       "(<function simulator.test_cond.<locals>.cond(p, d)>,\n",
       "                     len                                  mean_outcome\n",
       " outcome_name       LOSE LOSE_DOUBLE PUSH  WIN WIN_DOUBLE             \n",
       " strategy                                                             \n",
       " <Action.DOUBLE: 3>    0         862   23    0        115       -1.494\n",
       " <Action.HIT: 2>     830           0   28  142          0       -0.688\n",
       " <Action.STAND: 1>   590           0  126  284          0       -0.306)"
      ]
     },
     "execution_count": 38,
     "metadata": {},
     "output_type": "execute_result"
    }
   ],
   "source": [
    "sim.test_cond(HandScore(18), HandScore(11, True), 1000)"
   ]
  },
  {
   "cell_type": "code",
   "execution_count": 39,
   "id": "behind-seattle",
   "metadata": {
    "ExecuteTime": {
     "end_time": "2021-07-16T23:57:20.416696Z",
     "start_time": "2021-07-16T23:57:16.492193Z"
    }
   },
   "outputs": [
    {
     "name": "stdout",
     "output_type": "stream",
     "text": [
      " "
     ]
    },
    {
     "data": {
      "text/html": [
       "<div>\n",
       "<style scoped>\n",
       "    .dataframe tbody tr th:only-of-type {\n",
       "        vertical-align: middle;\n",
       "    }\n",
       "\n",
       "    .dataframe tbody tr th {\n",
       "        vertical-align: top;\n",
       "    }\n",
       "\n",
       "    .dataframe thead th {\n",
       "        text-align: right;\n",
       "    }\n",
       "</style>\n",
       "<table border=\"1\" class=\"dataframe\">\n",
       "  <thead>\n",
       "    <tr style=\"text-align: right;\">\n",
       "      <th></th>\n",
       "      <th></th>\n",
       "      <th>&lt;Action.DOUBLE: 3&gt;</th>\n",
       "      <th>&lt;Action.HIT: 2&gt;</th>\n",
       "      <th>&lt;Action.STAND: 1&gt;</th>\n",
       "      <th>winning_act</th>\n",
       "      <th>winning_act_outcome</th>\n",
       "    </tr>\n",
       "    <tr>\n",
       "      <th>score_p</th>\n",
       "      <th>score_d</th>\n",
       "      <th></th>\n",
       "      <th></th>\n",
       "      <th></th>\n",
       "      <th></th>\n",
       "      <th></th>\n",
       "    </tr>\n",
       "  </thead>\n",
       "  <tbody>\n",
       "    <tr>\n",
       "      <th rowspan=\"5\" valign=\"top\">h09</th>\n",
       "      <th>s11</th>\n",
       "      <td>-0.3</td>\n",
       "      <td>-0.050</td>\n",
       "      <td>-0.40</td>\n",
       "      <td>Action.HIT</td>\n",
       "      <td>-0.05</td>\n",
       "    </tr>\n",
       "    <tr>\n",
       "      <th>h02</th>\n",
       "      <td>0.2</td>\n",
       "      <td>0.000</td>\n",
       "      <td>-0.30</td>\n",
       "      <td>Action.DOUBLE</td>\n",
       "      <td>0.20</td>\n",
       "    </tr>\n",
       "    <tr>\n",
       "      <th>h03</th>\n",
       "      <td>-0.2</td>\n",
       "      <td>0.100</td>\n",
       "      <td>-0.30</td>\n",
       "      <td>Action.HIT</td>\n",
       "      <td>0.10</td>\n",
       "    </tr>\n",
       "    <tr>\n",
       "      <th>h04</th>\n",
       "      <td>0.7</td>\n",
       "      <td>0.450</td>\n",
       "      <td>0.20</td>\n",
       "      <td>Action.DOUBLE</td>\n",
       "      <td>0.70</td>\n",
       "    </tr>\n",
       "    <tr>\n",
       "      <th>h05</th>\n",
       "      <td>0.4</td>\n",
       "      <td>0.050</td>\n",
       "      <td>-0.20</td>\n",
       "      <td>Action.DOUBLE</td>\n",
       "      <td>0.40</td>\n",
       "    </tr>\n",
       "    <tr>\n",
       "      <th>...</th>\n",
       "      <th>...</th>\n",
       "      <td>...</td>\n",
       "      <td>...</td>\n",
       "      <td>...</td>\n",
       "      <td>...</td>\n",
       "      <td>...</td>\n",
       "    </tr>\n",
       "    <tr>\n",
       "      <th rowspan=\"5\" valign=\"top\">s21</th>\n",
       "      <th>h06</th>\n",
       "      <td>0.5</td>\n",
       "      <td>0.300</td>\n",
       "      <td>0.80</td>\n",
       "      <td>Action.STAND</td>\n",
       "      <td>0.80</td>\n",
       "    </tr>\n",
       "    <tr>\n",
       "      <th>h07</th>\n",
       "      <td>0.2</td>\n",
       "      <td>0.400</td>\n",
       "      <td>1.00</td>\n",
       "      <td>Action.STAND</td>\n",
       "      <td>1.00</td>\n",
       "    </tr>\n",
       "    <tr>\n",
       "      <th>h08</th>\n",
       "      <td>-0.2</td>\n",
       "      <td>0.300</td>\n",
       "      <td>0.95</td>\n",
       "      <td>Action.STAND</td>\n",
       "      <td>0.95</td>\n",
       "    </tr>\n",
       "    <tr>\n",
       "      <th>h09</th>\n",
       "      <td>-0.1</td>\n",
       "      <td>-0.200</td>\n",
       "      <td>0.90</td>\n",
       "      <td>Action.STAND</td>\n",
       "      <td>0.90</td>\n",
       "    </tr>\n",
       "    <tr>\n",
       "      <th>h10</th>\n",
       "      <td>-0.9</td>\n",
       "      <td>-0.125</td>\n",
       "      <td>0.90</td>\n",
       "      <td>Action.STAND</td>\n",
       "      <td>0.90</td>\n",
       "    </tr>\n",
       "  </tbody>\n",
       "</table>\n",
       "<p>250 rows × 5 columns</p>\n",
       "</div>"
      ],
      "text/plain": [
       "                 <Action.DOUBLE: 3>  <Action.HIT: 2>  <Action.STAND: 1>  \\\n",
       "score_p score_d                                                           \n",
       "h09     s11                    -0.3           -0.050              -0.40   \n",
       "        h02                     0.2            0.000              -0.30   \n",
       "        h03                    -0.2            0.100              -0.30   \n",
       "        h04                     0.7            0.450               0.20   \n",
       "        h05                     0.4            0.050              -0.20   \n",
       "...                             ...              ...                ...   \n",
       "s21     h06                     0.5            0.300               0.80   \n",
       "        h07                     0.2            0.400               1.00   \n",
       "        h08                    -0.2            0.300               0.95   \n",
       "        h09                    -0.1           -0.200               0.90   \n",
       "        h10                    -0.9           -0.125               0.90   \n",
       "\n",
       "                   winning_act  winning_act_outcome  \n",
       "score_p score_d                                      \n",
       "h09     s11         Action.HIT                -0.05  \n",
       "        h02      Action.DOUBLE                 0.20  \n",
       "        h03         Action.HIT                 0.10  \n",
       "        h04      Action.DOUBLE                 0.70  \n",
       "        h05      Action.DOUBLE                 0.40  \n",
       "...                        ...                  ...  \n",
       "s21     h06       Action.STAND                 0.80  \n",
       "        h07       Action.STAND                 1.00  \n",
       "        h08       Action.STAND                 0.95  \n",
       "        h09       Action.STAND                 0.90  \n",
       "        h10       Action.STAND                 0.90  \n",
       "\n",
       "[250 rows x 5 columns]"
      ]
     },
     "execution_count": 39,
     "metadata": {},
     "output_type": "execute_result"
    }
   ],
   "source": [
    "%prun -s cumulative conds = sim.compute_instructions(20)\n",
    "pd.DataFrame(conds).set_index(['score_p', 'score_d'])"
   ]
  },
  {
   "cell_type": "code",
   "execution_count": 40,
   "id": "challenging-producer",
   "metadata": {
    "ExecuteTime": {
     "end_time": "2021-07-16T23:57:25.755633Z",
     "start_time": "2021-07-16T23:57:20.418808Z"
    }
   },
   "outputs": [
    {
     "name": "stdout",
     "output_type": "stream",
     "text": [
      " "
     ]
    }
   ],
   "source": [
    "\n",
    "%prun -s cumulative sim.compute_instructions(100, strat_simple)"
   ]
  },
  {
   "cell_type": "code",
   "execution_count": 41,
   "id": "foster-december",
   "metadata": {
    "ExecuteTime": {
     "end_time": "2021-07-16T23:57:25.760214Z",
     "start_time": "2021-07-16T23:57:25.756947Z"
    }
   },
   "outputs": [],
   "source": [
    "def run_iteration(n, strat_base, previous_instructions):\n",
    "    comput = sim.compute_instructions(n, strat_base)\n",
    "    outputs = pd.DataFrame(comput).set_index(['score_p', 'score_d'])\n",
    "    \n",
    "    instructions = {(output['score_p'], output['score_d']): output['winning_act'] for output in comput}\n",
    "    \n",
    "    fig = plt.figure()\n",
    "    # Visualize the winning action by starting condition\n",
    "    sns.heatmap(outputs['winning_act'].apply(lambda x: x.value).unstack(), ax=fig.add_subplot(1, 2, 1))\n",
    "    \n",
    "    # Visualize the average outcome by starting condition\n",
    "    sns.heatmap(outputs['winning_act_outcome'].unstack(), ax=fig.add_subplot(1, 2, 2))\n",
    "    \n",
    "    if previous_instructions:\n",
    "        for k in instructions:\n",
    "            if instructions[k] != previous_instructions[k]:\n",
    "                print(k, instructions[k], previous_instructions[k])\n",
    "    \n",
    "    return instructions\n",
    "\n",
    "#%prun -s cumulative run_iteration(1, strat_simple, None)"
   ]
  },
  {
   "cell_type": "code",
   "execution_count": 42,
   "id": "typical-murder",
   "metadata": {
    "ExecuteTime": {
     "end_time": "2021-07-16T23:57:25.819090Z",
     "start_time": "2021-07-16T23:57:25.761091Z"
    }
   },
   "outputs": [
    {
     "data": {
      "text/plain": [
       "(   strategy hand_start  dealer_card      hand_end dealer_hand  \\\n",
       " 0    simple    [10, 5]            1    [10, 5, 7]     [1, 10]   \n",
       " 1  memoized    [10, 5]            1   [10, 5, 11]     [1, 10]   \n",
       " 2    simple     [2, 6]            9    [2, 6, 10]     [9, 13]   \n",
       " 3  memoized     [2, 6]            9  [2, 6, 3, 8]     [9, 13]   \n",
       " 4    simple   [11, 10]            5      [11, 10]  [5, 12, 3]   \n",
       " 5  memoized   [11, 10]            5      [11, 10]  [5, 12, 3]   \n",
       " 6    simple     [4, 8]           12    [4, 8, 11]    [12, 12]   \n",
       " 7  memoized     [4, 8]           12     [4, 8, 6]    [12, 12]   \n",
       " 8    simple    [1, 10]            5       [1, 10]  [5, 13, 8]   \n",
       " 9  memoized    [1, 10]            5       [1, 10]  [5, 13, 8]   \n",
       " \n",
       "                  outcome  outcome_value outcome_name  \n",
       " 0       HandOutcome.LOSE           -1.0         LOSE  \n",
       " 1       HandOutcome.LOSE           -1.0         LOSE  \n",
       " 2       HandOutcome.LOSE           -1.0         LOSE  \n",
       " 3       HandOutcome.PUSH            0.0         PUSH  \n",
       " 4        HandOutcome.WIN            1.0          WIN  \n",
       " 5        HandOutcome.WIN            1.0          WIN  \n",
       " 6       HandOutcome.LOSE           -1.0         LOSE  \n",
       " 7       HandOutcome.LOSE           -1.0         LOSE  \n",
       " 8  HandOutcome.BLACKJACK            1.5    BLACKJACK  \n",
       " 9  HandOutcome.BLACKJACK            1.5    BLACKJACK  ,\n",
       "                    len                mean_outcome\n",
       " outcome_name BLACKJACK LOSE PUSH  WIN             \n",
       " strategy                                          \n",
       " memoized            25  516   98  361      -0.1175\n",
       " simple              25  490  101  384      -0.0685)"
      ]
     },
     "execution_count": 42,
     "metadata": {},
     "output_type": "execute_result"
    }
   ],
   "source": [
    "# Memoized strategy\n",
    "# Rather than generic conditions, just use an array indexed on player and dealer scores\n",
    "# Since that's how we're generating our strategy anyway (one square at a time)\n",
    "\n",
    "def gen_strat_memoized(instructions, strat_base):\n",
    "    def strat_memoized(score_p, score_d):\n",
    "        k = (repr(score_p), repr(score_d))\n",
    "        if k in instructions:\n",
    "            return instructions[k]\n",
    "        else:\n",
    "            return strat_base(score_p, score_d)\n",
    "    strat_memoized.name = 'memoized'\n",
    "    return strat_memoized\n",
    "\n",
    "instructions = {(repr(HandScore(13, True)), repr(HandScore(6))): Action.HIT}\n",
    "strat_memoized = gen_strat_memoized(instructions, strat_simple)\n",
    "\n",
    "sims = sim.run_n_sim_trials([strat_simple, strat_memoized], 1000)\n",
    "sims.head(10), sim.summarize_totals(sims)"
   ]
  },
  {
   "cell_type": "code",
   "execution_count": 43,
   "id": "imposed-cinema",
   "metadata": {
    "ExecuteTime": {
     "end_time": "2021-07-16T23:58:41.729775Z",
     "start_time": "2021-07-16T23:57:25.820901Z"
    }
   },
   "outputs": [
    {
     "name": "stdout",
     "output_type": "stream",
     "text": [
      "0\n",
      "1\n",
      "('h09', 'h03') Action.DOUBLE Action.HIT\n",
      "('h09', 'h07') Action.HIT Action.DOUBLE\n",
      "('h10', 'h04') Action.DOUBLE Action.HIT\n",
      "('h10', 'h09') Action.DOUBLE Action.HIT\n",
      "('h10', 'h10') Action.HIT Action.DOUBLE\n",
      "('h11', 's11') Action.HIT Action.DOUBLE\n",
      "('h11', 'h04') Action.DOUBLE Action.HIT\n",
      "('h11', 'h09') Action.HIT Action.DOUBLE\n",
      "('h12', 'h02') Action.STAND Action.HIT\n",
      "('h12', 'h03') Action.HIT Action.STAND\n",
      "('h12', 'h04') Action.HIT Action.DOUBLE\n",
      "('h12', 'h05') Action.STAND Action.DOUBLE\n",
      "('h12', 'h07') Action.HIT Action.DOUBLE\n",
      "('h13', 'h06') Action.HIT Action.STAND\n",
      "('h13', 'h08') Action.HIT Action.STAND\n",
      "('h14', 'h03') Action.DOUBLE Action.STAND\n",
      "('h14', 'h04') Action.STAND Action.HIT\n",
      "('h14', 'h05') Action.STAND Action.DOUBLE\n",
      "('h14', 'h08') Action.HIT Action.STAND\n",
      "('h15', 's11') Action.HIT Action.STAND\n",
      "('h15', 'h03') Action.HIT Action.STAND\n",
      "('h15', 'h08') Action.STAND Action.HIT\n",
      "('h15', 'h09') Action.STAND Action.HIT\n",
      "('h15', 'h10') Action.HIT Action.STAND\n",
      "('h16', 'h08') Action.HIT Action.STAND\n",
      "('h16', 'h09') Action.STAND Action.HIT\n",
      "('s11', 's11') Action.HIT Action.DOUBLE\n",
      "('s11', 'h02') Action.DOUBLE Action.HIT\n",
      "('s11', 'h10') Action.HIT Action.DOUBLE\n",
      "('s14', 'h05') Action.HIT Action.DOUBLE\n",
      "('s15', 's11') Action.HIT Action.STAND\n",
      "('s16', 'h02') Action.HIT Action.STAND\n",
      "('s17', 'h04') Action.STAND Action.HIT\n",
      "('s17', 'h06') Action.STAND Action.DOUBLE\n",
      "('s17', 'h07') Action.STAND Action.HIT\n",
      "('s18', 'h04') Action.STAND Action.DOUBLE\n",
      "('s18', 'h09') Action.STAND Action.HIT\n",
      "('s19', 'h04') Action.STAND Action.DOUBLE\n",
      "2\n",
      "('h09', 'h03') Action.HIT Action.DOUBLE\n",
      "('h10', 'h08') Action.HIT Action.DOUBLE\n",
      "('h11', 'h09') Action.DOUBLE Action.HIT\n",
      "('h12', 'h02') Action.HIT Action.STAND\n",
      "('h12', 'h03') Action.STAND Action.HIT\n",
      "('h12', 'h04') Action.STAND Action.HIT\n",
      "('h12', 'h05') Action.HIT Action.STAND\n",
      "('h13', 'h06') Action.STAND Action.HIT\n",
      "('h14', 'h03') Action.STAND Action.DOUBLE\n",
      "('h15', 'h03') Action.STAND Action.HIT\n",
      "('h15', 'h08') Action.HIT Action.STAND\n",
      "('h15', 'h09') Action.HIT Action.STAND\n",
      "('h15', 'h10') Action.STAND Action.HIT\n",
      "('h16', 'h08') Action.STAND Action.HIT\n",
      "('h16', 'h09') Action.HIT Action.STAND\n",
      "('s11', 'h07') Action.DOUBLE Action.HIT\n",
      "('s11', 'h08') Action.HIT Action.DOUBLE\n",
      "('s17', 'h04') Action.HIT Action.STAND\n",
      "('s17', 'h06') Action.HIT Action.STAND\n",
      "3\n",
      "('h09', 'h03') Action.DOUBLE Action.HIT\n",
      "('h09', 'h04') Action.HIT Action.DOUBLE\n",
      "('h10', 'h08') Action.DOUBLE Action.HIT\n",
      "('h10', 'h09') Action.HIT Action.DOUBLE\n",
      "('h11', 'h09') Action.HIT Action.DOUBLE\n",
      "('h11', 'h10') Action.HIT Action.DOUBLE\n",
      "('h12', 'h03') Action.HIT Action.STAND\n",
      "('h12', 'h04') Action.HIT Action.STAND\n",
      "('h12', 'h05') Action.STAND Action.HIT\n",
      "('h15', 'h10') Action.HIT Action.STAND\n",
      "('h16', 'h08') Action.HIT Action.STAND\n",
      "('h16', 'h10') Action.HIT Action.STAND\n",
      "('s11', 'h08') Action.DOUBLE Action.HIT\n",
      "('s11', 'h09') Action.DOUBLE Action.HIT\n",
      "('s17', 'h07') Action.HIT Action.STAND\n",
      "('s18', 'h09') Action.HIT Action.STAND\n",
      "('s20', 'h05') Action.STAND Action.DOUBLE\n",
      "4\n",
      "('h09', 'h03') Action.HIT Action.DOUBLE\n",
      "('h09', 'h04') Action.DOUBLE Action.HIT\n",
      "('h10', 'h09') Action.DOUBLE Action.HIT\n",
      "('h11', 'h09') Action.DOUBLE Action.HIT\n",
      "('h12', 'h03') Action.STAND Action.HIT\n",
      "('h12', 'h04') Action.STAND Action.HIT\n"
     ]
    },
    {
     "data": {
      "text/plain": [
       "[<function __main__.strat_simple(score_p, score_d)>,\n",
       " <function __main__.gen_strat_memoized.<locals>.strat_memoized(score_p, score_d)>,\n",
       " <function __main__.gen_strat_memoized.<locals>.strat_memoized(score_p, score_d)>,\n",
       " <function __main__.gen_strat_memoized.<locals>.strat_memoized(score_p, score_d)>,\n",
       " <function __main__.gen_strat_memoized.<locals>.strat_memoized(score_p, score_d)>,\n",
       " <function __main__.gen_strat_memoized.<locals>.strat_memoized(score_p, score_d)>]"
      ]
     },
     "execution_count": 43,
     "metadata": {},
     "output_type": "execute_result"
    },
    {
     "data": {
      "image/png": "[encoded data removed]",
      "text/plain": [
       "<Figure size 432x288 with 4 Axes>"
      ]
     },
     "metadata": {
      "needs_background": "light"
     },
     "output_type": "display_data"
    },
    {
     "data": {
      "image/png": "[encoded data removed]",
      "text/plain": [
       "<Figure size 432x288 with 4 Axes>"
      ]
     },
     "metadata": {
      "needs_background": "light"
     },
     "output_type": "display_data"
    },
    {
     "data": {
      "image/png": "[encoded data removed]",
      "text/plain": [
       "<Figure size 432x288 with 4 Axes>"
      ]
     },
     "metadata": {
      "needs_background": "light"
     },
     "output_type": "display_data"
    },
    {
     "data": {
      "image/png": "[encoded data removed]",
      "text/plain": [
       "<Figure size 432x288 with 4 Axes>"
      ]
     },
     "metadata": {
      "needs_background": "light"
     },
     "output_type": "display_data"
    },
    {
     "data": {
      "image/png": "[encoded data removed]",
      "text/plain": [
       "<Figure size 432x288 with 4 Axes>"
      ]
     },
     "metadata": {
      "needs_background": "light"
     },
     "output_type": "display_data"
    }
   ],
   "source": [
    "n = 50\n",
    "strat_base = strat_simple\n",
    "previous_instructions = None\n",
    "strategies = [strat_simple]\n",
    "\n",
    "for i in range(5):\n",
    "    print(i)\n",
    "    instructions = run_iteration(n, strat_base, previous_instructions)\n",
    "    strat_new  = gen_strat_memoized(instructions, strat_base)\n",
    "    strat_new.name = f'iter({i+1})'\n",
    "    strategies.append(strat_new)\n",
    "    previous_instructions = instructions\n",
    "    strat_base = strat_new\n",
    "    n = n*3\n",
    "\n",
    "strategies"
   ]
  },
  {
   "cell_type": "code",
   "execution_count": 44,
   "id": "lucky-account",
   "metadata": {
    "ExecuteTime": {
     "end_time": "2021-07-17T00:00:06.535440Z",
     "start_time": "2021-07-16T23:58:41.730676Z"
    }
   },
   "outputs": [
    {
     "data": {
      "text/plain": [
       "(  strategy hand_start  dealer_card     hand_end  dealer_hand  \\\n",
       " 0   simple    [13, 6]            2  [13, 6, 11]  [2, 10, 11]   \n",
       " 1  iter(1)    [13, 6]            2      [13, 6]  [2, 10, 11]   \n",
       " 2  iter(2)    [13, 6]            2      [13, 6]  [2, 10, 11]   \n",
       " 3  iter(3)    [13, 6]            2      [13, 6]  [2, 10, 11]   \n",
       " 4  iter(4)    [13, 6]            2      [13, 6]  [2, 10, 11]   \n",
       " 5  iter(5)    [13, 6]            2      [13, 6]  [2, 10, 11]   \n",
       " 6   simple    [12, 9]            1      [12, 9]       [1, 6]   \n",
       " 7  iter(1)    [12, 9]            1      [12, 9]       [1, 6]   \n",
       " 8  iter(2)    [12, 9]            1      [12, 9]       [1, 6]   \n",
       " 9  iter(3)    [12, 9]            1      [12, 9]       [1, 6]   \n",
       " \n",
       "             outcome  outcome_value outcome_name  \n",
       " 0  HandOutcome.LOSE           -1.0         LOSE  \n",
       " 1   HandOutcome.WIN            1.0          WIN  \n",
       " 2   HandOutcome.WIN            1.0          WIN  \n",
       " 3   HandOutcome.WIN            1.0          WIN  \n",
       " 4   HandOutcome.WIN            1.0          WIN  \n",
       " 5   HandOutcome.WIN            1.0          WIN  \n",
       " 6   HandOutcome.WIN            1.0          WIN  \n",
       " 7   HandOutcome.WIN            1.0          WIN  \n",
       " 8   HandOutcome.WIN            1.0          WIN  \n",
       " 9   HandOutcome.WIN            1.0          WIN  ,\n",
       "                    len                        mean_outcome\n",
       " outcome_name BLACKJACK    LOSE   PUSH     WIN             \n",
       " strategy                                                  \n",
       " iter(1)          44935  489757  80676  384632    -0.037722\n",
       " iter(2)          44935  486243  83738  385084    -0.033757\n",
       " iter(3)          44935  485560  81717  387788    -0.030370\n",
       " iter(4)          44935  482048  86987  386030    -0.028615\n",
       " iter(5)          44935  482360  85647  387058    -0.027900\n",
       " simple           44935  485784  87705  381576    -0.036805)"
      ]
     },
     "execution_count": 44,
     "metadata": {},
     "output_type": "execute_result"
    }
   ],
   "source": [
    "sims = sim.run_n_sim_trials(strategies, 1000*1000)\n",
    "sims.head(10), sim.summarize_totals(sims)"
   ]
  },
  {
   "cell_type": "code",
   "execution_count": null,
   "id": "hispanic-illinois",
   "metadata": {},
   "outputs": [],
   "source": []
  }
 ],
 "metadata": {
  "kernelspec": {
   "display_name": "Python 3",
   "language": "python",
   "name": "python3"
  },
  "language_info": {
   "codemirror_mode": {
    "name": "ipython",
    "version": 3
   },
   "file_extension": ".py",
   "mimetype": "text/x-python",
   "name": "python",
   "nbconvert_exporter": "python",
   "pygments_lexer": "ipython3",
   "version": "3.8.8"
  }
 },
 "nbformat": 4,
 "nbformat_minor": 5
}
