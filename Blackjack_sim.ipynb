{
 "cells": [
  {
   "cell_type": "code",
   "execution_count": 1,
   "id": "middle-scenario",
   "metadata": {
    "ExecuteTime": {
     "end_time": "2021-07-07T19:41:06.235531Z",
     "start_time": "2021-07-07T19:41:05.430544Z"
    }
   },
   "outputs": [],
   "source": [
    "from dataclasses import dataclass, field\n",
    "import copy\n",
    "from enum import Enum, auto\n",
    "import random\n",
    "import pandas as pd\n",
    "import seaborn as sns\n",
    "\n",
    "\n",
    "import blackjack as bj\n",
    "from blackjack import Hand, make_hand"
   ]
  },
  {
   "cell_type": "code",
   "execution_count": 2,
   "id": "initial-harrison",
   "metadata": {
    "ExecuteTime": {
     "end_time": "2021-07-07T19:41:06.239510Z",
     "start_time": "2021-07-07T19:41:06.236668Z"
    }
   },
   "outputs": [
    {
     "data": {
      "text/plain": [
       "Hand(score=0, soft=False, cards=[], doubled=False)"
      ]
     },
     "execution_count": 2,
     "metadata": {},
     "output_type": "execute_result"
    }
   ],
   "source": [
    "h = Hand()\n",
    "h"
   ]
  },
  {
   "cell_type": "code",
   "execution_count": 3,
   "id": "reduced-cover",
   "metadata": {
    "ExecuteTime": {
     "end_time": "2021-07-07T19:41:06.242755Z",
     "start_time": "2021-07-07T19:41:06.240774Z"
    }
   },
   "outputs": [
    {
     "data": {
      "text/plain": [
       "Hand(score=6, soft=False, cards=[6], doubled=False)"
      ]
     },
     "execution_count": 3,
     "metadata": {},
     "output_type": "execute_result"
    }
   ],
   "source": [
    "h.add_card(6) # start a hand with a 6"
   ]
  },
  {
   "cell_type": "code",
   "execution_count": 4,
   "id": "aging-green",
   "metadata": {
    "ExecuteTime": {
     "end_time": "2021-07-07T19:41:06.245694Z",
     "start_time": "2021-07-07T19:41:06.243822Z"
    }
   },
   "outputs": [
    {
     "data": {
      "text/plain": [
       "Hand(score=16, soft=False, cards=[6, 11], doubled=False)"
      ]
     },
     "execution_count": 4,
     "metadata": {},
     "output_type": "execute_result"
    }
   ],
   "source": [
    "h.add_card(11) # show that J (11) counts as 10 points"
   ]
  },
  {
   "cell_type": "code",
   "execution_count": 5,
   "id": "humanitarian-chair",
   "metadata": {
    "ExecuteTime": {
     "end_time": "2021-07-07T19:41:06.249941Z",
     "start_time": "2021-07-07T19:41:06.246861Z"
    }
   },
   "outputs": [
    {
     "data": {
      "text/plain": [
       "(Hand(score=22, soft=False, cards=[6, 11, 7], doubled=False), True)"
      ]
     },
     "execution_count": 5,
     "metadata": {},
     "output_type": "execute_result"
    }
   ],
   "source": [
    "h.add_card(7), bj.is_busted(h) # bust (show that 23 is counted as 22)"
   ]
  },
  {
   "cell_type": "code",
   "execution_count": 6,
   "id": "accompanied-perspective",
   "metadata": {
    "ExecuteTime": {
     "end_time": "2021-07-07T19:41:06.254128Z",
     "start_time": "2021-07-07T19:41:06.251428Z"
    }
   },
   "outputs": [
    {
     "data": {
      "text/plain": [
       "Hand(score=11, soft=True, cards=[1], doubled=False)"
      ]
     },
     "execution_count": 6,
     "metadata": {},
     "output_type": "execute_result"
    }
   ],
   "source": [
    "# OK, now let's try another hand with aces\n",
    "h = Hand()\n",
    "h.add_card(1) # should be a soft 11"
   ]
  },
  {
   "cell_type": "code",
   "execution_count": 7,
   "id": "exotic-checkout",
   "metadata": {
    "ExecuteTime": {
     "end_time": "2021-07-07T19:41:06.257202Z",
     "start_time": "2021-07-07T19:41:06.255052Z"
    }
   },
   "outputs": [
    {
     "data": {
      "text/plain": [
       "Hand(score=12, soft=True, cards=[1, 1], doubled=False)"
      ]
     },
     "execution_count": 7,
     "metadata": {},
     "output_type": "execute_result"
    }
   ],
   "source": [
    "h.add_card(1) # two aces: should be a soft 12"
   ]
  },
  {
   "cell_type": "code",
   "execution_count": 8,
   "id": "italian-beads",
   "metadata": {
    "ExecuteTime": {
     "end_time": "2021-07-07T19:41:06.261378Z",
     "start_time": "2021-07-07T19:41:06.259335Z"
    }
   },
   "outputs": [
    {
     "data": {
      "text/plain": [
       "Hand(score=12, soft=False, cards=[1, 1, 11], doubled=False)"
      ]
     },
     "execution_count": 8,
     "metadata": {},
     "output_type": "execute_result"
    }
   ],
   "source": [
    "h.add_card(11) # two aces and a J: should be a hard 12"
   ]
  },
  {
   "cell_type": "code",
   "execution_count": 9,
   "id": "neutral-sugar",
   "metadata": {
    "ExecuteTime": {
     "end_time": "2021-07-07T19:41:06.265694Z",
     "start_time": "2021-07-07T19:41:06.263015Z"
    }
   },
   "outputs": [
    {
     "data": {
      "text/plain": [
       "(Hand(score=21, soft=True, cards=[1, 10], doubled=False), True)"
      ]
     },
     "execution_count": 9,
     "metadata": {},
     "output_type": "execute_result"
    }
   ],
   "source": [
    "# OK, now let's try another hand with a blackjack\n",
    "h = Hand()\n",
    "h.add_card(1) # should be a soft 11\n",
    "h.add_card(10)\n",
    "h, bj.is_blackjack(h)"
   ]
  },
  {
   "cell_type": "markdown",
   "id": "dental-kelly",
   "metadata": {},
   "source": [
    "## Now define gameplay and strategy"
   ]
  },
  {
   "cell_type": "code",
   "execution_count": 10,
   "id": "alternative-blast",
   "metadata": {
    "ExecuteTime": {
     "end_time": "2021-07-07T19:41:06.268875Z",
     "start_time": "2021-07-07T19:41:06.266722Z"
    }
   },
   "outputs": [],
   "source": [
    "\n",
    "# TODO I might want a Flag class later, to provide a set of possible Actions\n",
    "class Action(Enum):\n",
    "    STAND = auto()\n",
    "    HIT = auto()\n",
    "    DOUBLE = auto()\n",
    "    #SPLIT = auto()\n",
    "    \n",
    "    "
   ]
  },
  {
   "cell_type": "code",
   "execution_count": 11,
   "id": "experimental-roulette",
   "metadata": {
    "ExecuteTime": {
     "end_time": "2021-07-07T19:41:06.271950Z",
     "start_time": "2021-07-07T19:41:06.269854Z"
    }
   },
   "outputs": [],
   "source": [
    "# Most simple/conservative strategy imaginable:\n",
    "def strat_nobust(hand, dealer):\n",
    "    if hand.score > 11:\n",
    "        return Action.STAND\n",
    "    else:\n",
    "        return Action.HIT\n",
    "        \n",
    "strat_nobust.name = 'strat_nobust'"
   ]
  },
  {
   "cell_type": "code",
   "execution_count": 12,
   "id": "constitutional-audit",
   "metadata": {
    "ExecuteTime": {
     "end_time": "2021-07-07T19:41:06.274960Z",
     "start_time": "2021-07-07T19:41:06.272922Z"
    }
   },
   "outputs": [],
   "source": [
    "# Dealer strategy\n",
    "def strat_dealer(hand, dealer):\n",
    "    if hand.score < 17:\n",
    "        return Action.HIT\n",
    "    # TODO handle soft hands\n",
    "    else:\n",
    "        return Action.STAND\n",
    "    \n",
    "strat_dealer.name='strat_dealer'\n",
    "        "
   ]
  },
  {
   "cell_type": "code",
   "execution_count": 13,
   "id": "illegal-eclipse",
   "metadata": {
    "ExecuteTime": {
     "end_time": "2021-07-07T19:41:06.277745Z",
     "start_time": "2021-07-07T19:41:06.275912Z"
    }
   },
   "outputs": [],
   "source": [
    "class HandOutcome(Enum):\n",
    "    WIN = 1\n",
    "    LOSE = -1\n",
    "    WIN_DOUBLE = 2\n",
    "    LOSE_DOUBLE = -2\n",
    "    PUSH = 0\n",
    "    BLACKJACK = 1.5"
   ]
  },
  {
   "cell_type": "code",
   "execution_count": 14,
   "id": "rubber-cartoon",
   "metadata": {
    "ExecuteTime": {
     "end_time": "2021-07-07T19:41:06.280392Z",
     "start_time": "2021-07-07T19:41:06.278657Z"
    }
   },
   "outputs": [],
   "source": [
    "# Deck; completely random (i.e., infinite) for now\n",
    "\n",
    "\n",
    "def deal_card():\n",
    "    return random.randrange(13)+1"
   ]
  },
  {
   "cell_type": "code",
   "execution_count": 15,
   "id": "secondary-crown",
   "metadata": {
    "ExecuteTime": {
     "end_time": "2021-07-07T19:41:06.284459Z",
     "start_time": "2021-07-07T19:41:06.281354Z"
    }
   },
   "outputs": [
    {
     "data": {
      "text/plain": [
       "[10, 13, 3, 8, 1, 11, 12, 10, 2, 10]"
      ]
     },
     "execution_count": 15,
     "metadata": {},
     "output_type": "execute_result"
    }
   ],
   "source": [
    "[deal_card() for _ in range(10)]"
   ]
  },
  {
   "cell_type": "code",
   "execution_count": 16,
   "id": "adopted-miami",
   "metadata": {
    "ExecuteTime": {
     "end_time": "2021-07-07T19:41:06.288524Z",
     "start_time": "2021-07-07T19:41:06.285402Z"
    }
   },
   "outputs": [],
   "source": [
    "# return the final hand after playing\n",
    "def player_play_hand(strategy, hand, dealer, deck):\n",
    "    while True:\n",
    "        decision = strategy(hand, dealer)\n",
    "        if decision == Action.STAND:\n",
    "            return hand\n",
    "        if decision == Action.HIT:\n",
    "            hand.add_card(deck())\n",
    "            if bj.is_busted(hand):\n",
    "                return hand\n",
    "        if decision == Action.DOUBLE:\n",
    "            hand.doubled = True\n",
    "            hand.add_card(deck())\n",
    "            return hand\n",
    "\n"
   ]
  },
  {
   "cell_type": "code",
   "execution_count": 17,
   "id": "recent-notion",
   "metadata": {
    "ExecuteTime": {
     "end_time": "2021-07-07T19:41:06.293758Z",
     "start_time": "2021-07-07T19:41:06.290221Z"
    }
   },
   "outputs": [],
   "source": [
    "def player_hand_outcome(player_hand, dealer_hand):\n",
    "    # First compute the initial outcome, then double it if necessary for a double-down\n",
    "    def initial_outcome():\n",
    "        if bj.is_blackjack(player_hand):\n",
    "            if bj.is_blackjack(dealer_hand):\n",
    "                return HandOutcome.PUSH\n",
    "            else:\n",
    "                return HandOutcome.BLACKJACK\n",
    "        if bj.is_busted(player_hand) or bj.is_blackjack(dealer_hand):\n",
    "            return HandOutcome.LOSE\n",
    "        if bj.is_busted(dealer_hand):\n",
    "            return HandOutcome.WIN\n",
    "        if player_hand.score > dealer_hand.score:\n",
    "            return HandOutcome.WIN\n",
    "        if player_hand.score == dealer_hand.score:\n",
    "            return HandOutcome.PUSH\n",
    "        if player_hand.score < dealer_hand.score:\n",
    "            return HandOutcome.LOSE\n",
    "\n",
    "    outcome = initial_outcome()\n",
    "\n",
    "    outcome_doubler = {HandOutcome.WIN: HandOutcome.WIN_DOUBLE, HandOutcome.LOSE: HandOutcome.LOSE_DOUBLE}\n",
    "\n",
    "    if player_hand.doubled:\n",
    "        outcome = outcome_doubler.get(outcome) or outcome\n",
    "    return outcome\n",
    "        \n"
   ]
  },
  {
   "cell_type": "code",
   "execution_count": 18,
   "id": "violent-quality",
   "metadata": {
    "ExecuteTime": {
     "end_time": "2021-07-07T19:41:06.296674Z",
     "start_time": "2021-07-07T19:41:06.294872Z"
    }
   },
   "outputs": [],
   "source": [
    "def get_strat_name(strat):\n",
    "    if hasattr(strat, 'name'):\n",
    "        return strat.name\n",
    "    return repr(strat)"
   ]
  },
  {
   "cell_type": "code",
   "execution_count": 19,
   "id": "atomic-plaintiff",
   "metadata": {
    "ExecuteTime": {
     "end_time": "2021-07-07T19:41:06.303712Z",
     "start_time": "2021-07-07T19:41:06.297842Z"
    }
   },
   "outputs": [
    {
     "data": {
      "text/plain": [
       "[('strat_nobust',\n",
       "  Hand(score=20, soft=False, cards=[6, 4, 10], doubled=False),\n",
       "  Hand(score=19, soft=False, cards=[6, 7, 6], doubled=False),\n",
       "  <HandOutcome.WIN: 1>),\n",
       " ('strat_nobust',\n",
       "  Hand(score=19, soft=False, cards=[6, 4, 9], doubled=False),\n",
       "  Hand(score=19, soft=False, cards=[6, 7, 6], doubled=False),\n",
       "  <HandOutcome.PUSH: 0>)]"
      ]
     },
     "execution_count": 19,
     "metadata": {},
     "output_type": "execute_result"
    }
   ],
   "source": [
    "# Goal is to evaluate strategies, so make comparisons simple\n",
    "\n",
    "# For each round:\n",
    "# Multiple players all play with a copy of the same starting hand\n",
    "# Each player has a strategy that they play\n",
    "# Dealer plays dealer strategy\n",
    "\n",
    "# For now, we're using an infinite deck and strategies without knowledge, so\n",
    "# the interaction of players/strategies should be a wash\n",
    "\n",
    "def deal_one_round():\n",
    "    hand_p = Hand()\n",
    "    hand_d = Hand()\n",
    "\n",
    "    hand_p.add_card(deal_card())\n",
    "    hand_d.add_card(deal_card())\n",
    "    hand_p.add_card(deal_card())\n",
    "    \n",
    "    dealer_hole_card = deal_card()\n",
    "    \n",
    "    return hand_p, hand_d, dealer_hole_card\n",
    "\n",
    "\n",
    "# Play multiple strategies on one starting point\n",
    "def complete_one_round(strats, player_hand, dealer_hand, dealer_hole_card):\n",
    "    hand_p = copy.deepcopy(player_hand)\n",
    "    hand_d = copy.deepcopy(dealer_hand)\n",
    "    \n",
    "    # represent each player as a hand and a strategy\n",
    "    players = [(player_play_hand(strat, copy.deepcopy(hand_p), hand_d, deal_card), get_strat_name(strat)) for strat in strats]\n",
    "    \n",
    "    # dealer\n",
    "    player_play_hand(strat_dealer, hand_d.add_card(dealer_hole_card), None, deal_card)\n",
    "    \n",
    "    return [(strat, hand_p, hand_d, player_hand_outcome(hand_p, hand_d)) for (hand_p, strat) in players]\n",
    "\n",
    "    \n",
    "def play_one_round(strats):\n",
    "    hand_p, hand_d, dealer_hole_card = deal_one_round()\n",
    "    return complete_one_round(strats, hand_p, hand_d, dealer_hole_card)\n",
    "\n",
    "play_one_round([strat_nobust, strat_nobust])"
   ]
  },
  {
   "cell_type": "markdown",
   "id": "looking-jewelry",
   "metadata": {},
   "source": [
    "## Aggregate and summarize the data from the simulations"
   ]
  },
  {
   "cell_type": "code",
   "execution_count": 20,
   "id": "juvenile-joshua",
   "metadata": {
    "ExecuteTime": {
     "end_time": "2021-07-07T19:41:06.308726Z",
     "start_time": "2021-07-07T19:41:06.304692Z"
    }
   },
   "outputs": [
    {
     "data": {
      "text/plain": [
       "[{'strategy': 'strat_nobust',\n",
       "  'hand_start': [4, 3],\n",
       "  'dealer_card': 5,\n",
       "  'hand_end': [4, 3, 3, 13],\n",
       "  'dealer_hand': [5, 13, 13],\n",
       "  'outcome': <HandOutcome.WIN: 1>},\n",
       " {'strategy': 'strat_dealer',\n",
       "  'hand_start': [4, 3],\n",
       "  'dealer_card': 5,\n",
       "  'hand_end': [4, 3, 11],\n",
       "  'dealer_hand': [5, 13, 13],\n",
       "  'outcome': <HandOutcome.WIN: 1>}]"
      ]
     },
     "execution_count": 20,
     "metadata": {},
     "output_type": "execute_result"
    }
   ],
   "source": [
    "\n",
    "def generate_row_from_player(player):\n",
    "    (strat, hand_p, hand_d, outcome) = player\n",
    "    return {'strategy': strat, 'hand_start': hand_p.cards[:2], 'dealer_card': hand_d.cards[0], 'hand_end': hand_p.cards, 'dealer_hand': hand_d.cards, 'outcome': outcome}\n",
    "\n",
    "def generate_rows_from_round(r):\n",
    "    return [generate_row_from_player(player) for player in r]\n",
    "\n",
    "\n",
    "generate_rows_from_round(play_one_round([strat_nobust, strat_dealer]))\n"
   ]
  },
  {
   "cell_type": "code",
   "execution_count": 21,
   "id": "approved-broadway",
   "metadata": {
    "ExecuteTime": {
     "end_time": "2021-07-07T19:41:06.387410Z",
     "start_time": "2021-07-07T19:41:06.309870Z"
    }
   },
   "outputs": [
    {
     "data": {
      "text/plain": [
       "(          strategy hand_start  dealer_card          hand_end  dealer_hand  \\\n",
       " 0     strat_nobust    [6, 13]            2           [6, 13]  [2, 11, 10]   \n",
       " 1     strat_dealer    [6, 13]            2        [6, 13, 3]  [2, 11, 10]   \n",
       " 2     strat_nobust     [8, 3]            5         [8, 3, 8]  [5, 12, 10]   \n",
       " 3     strat_dealer     [8, 3]            5      [8, 3, 5, 1]  [5, 12, 10]   \n",
       " 4     strat_nobust     [5, 9]            5            [5, 9]    [5, 8, 7]   \n",
       " ...            ...        ...          ...               ...          ...   \n",
       " 1995  strat_dealer    [8, 13]           12           [8, 13]   [12, 2, 5]   \n",
       " 1996  strat_nobust     [1, 5]           11            [1, 5]     [11, 11]   \n",
       " 1997  strat_dealer     [1, 5]           11  [1, 5, 2, 3, 10]     [11, 11]   \n",
       " 1998  strat_nobust     [8, 8]           13            [8, 8]      [13, 9]   \n",
       " 1999  strat_dealer     [8, 8]           13        [8, 8, 11]      [13, 9]   \n",
       " \n",
       "                outcome  outcome_value outcome_name  \n",
       " 0      HandOutcome.WIN            1.0          WIN  \n",
       " 1      HandOutcome.WIN            1.0          WIN  \n",
       " 2      HandOutcome.WIN            1.0          WIN  \n",
       " 3      HandOutcome.WIN            1.0          WIN  \n",
       " 4     HandOutcome.LOSE           -1.0         LOSE  \n",
       " ...                ...            ...          ...  \n",
       " 1995   HandOutcome.WIN            1.0          WIN  \n",
       " 1996  HandOutcome.LOSE           -1.0         LOSE  \n",
       " 1997   HandOutcome.WIN            1.0          WIN  \n",
       " 1998  HandOutcome.LOSE           -1.0         LOSE  \n",
       " 1999  HandOutcome.LOSE           -1.0         LOSE  \n",
       " \n",
       " [2000 rows x 8 columns],\n",
       "                    len                mean_outcome\n",
       " outcome_name BLACKJACK LOSE PUSH  WIN             \n",
       " strategy                                          \n",
       " strat_dealer        48  517   88  347       -0.098\n",
       " strat_nobust        48  548   54  350       -0.126)"
      ]
     },
     "execution_count": 21,
     "metadata": {},
     "output_type": "execute_result"
    }
   ],
   "source": [
    "def run_n_sim_trials(strats, n):\n",
    "    sims = [generate_rows_from_round(play_one_round(strats)) for _ in range(n)]\n",
    "    results = pd.DataFrame([player for round in sims for player in round])\n",
    "    results['outcome_value'] = results['outcome'].apply(lambda x: x.value)\n",
    "    results['outcome_name'] = results['outcome'].apply(lambda x: str(x)[12:])\n",
    "    return results\n",
    "\n",
    "def summarize_totals(sims):\n",
    "    def outcome_name(x): return x.head(1) # The function name will be used as the column name\n",
    "    outcome_counts = sims.groupby(['strategy', 'outcome_value'])['outcome_name'].agg([len, outcome_name])\n",
    "    outcome_summary = outcome_counts.reset_index().set_index('strategy').drop(['outcome_value'], axis=1).pivot(columns=['outcome_name'])\n",
    "\n",
    "    # The empty cells are NaNs; fill the NaNs and convert back to int\n",
    "    for col in outcome_summary.columns:\n",
    "        outcome_summary[col] = outcome_summary[col].fillna(0).apply(int)\n",
    "        \n",
    "    outcome_summary['mean_outcome'] = sims.groupby('strategy')['outcome_value'].mean()\n",
    "    \n",
    "    return outcome_summary\n",
    "\n",
    "\n",
    "sim_results = run_n_sim_trials([strat_nobust, strat_dealer], 1000)\n",
    "sim_results, summarize_totals(sim_results)"
   ]
  },
  {
   "cell_type": "code",
   "execution_count": 22,
   "id": "varied-devil",
   "metadata": {
    "ExecuteTime": {
     "end_time": "2021-07-07T19:41:06.446144Z",
     "start_time": "2021-07-07T19:41:06.388537Z"
    }
   },
   "outputs": [
    {
     "data": {
      "text/plain": [
       "(  strategy hand_start  dealer_card          hand_end     dealer_hand  \\\n",
       " 0   simple     [5, 7]           10        [5, 7, 10]     [10, 6, 13]   \n",
       " 1   simple     [4, 7]           10         [4, 7, 7]        [10, 12]   \n",
       " 2   simple     [9, 2]            5         [9, 2, 9]   [5, 4, 5, 13]   \n",
       " 3   simple     [1, 1]            5            [1, 1]       [5, 8, 6]   \n",
       " 4   simple    [5, 11]            9        [5, 11, 7]         [9, 13]   \n",
       " 5   simple    [13, 5]            8        [13, 5, 2]      [8, 8, 12]   \n",
       " 6   simple     [5, 4]            8  [5, 4, 3, 1, 12]       [8, 2, 7]   \n",
       " 7   simple    [9, 10]            7           [9, 10]      [7, 4, 12]   \n",
       " 8   simple    [9, 11]            1           [9, 11]         [1, 13]   \n",
       " 9   simple     [8, 9]            4            [8, 9]  [4, 2, 12, 11]   \n",
       " \n",
       "                    outcome  outcome_value outcome_name  \n",
       " 0         HandOutcome.LOSE           -1.0         LOSE  \n",
       " 1  HandOutcome.LOSE_DOUBLE           -2.0  LOSE_DOUBLE  \n",
       " 2   HandOutcome.WIN_DOUBLE            2.0   WIN_DOUBLE  \n",
       " 3         HandOutcome.LOSE           -1.0         LOSE  \n",
       " 4         HandOutcome.LOSE           -1.0         LOSE  \n",
       " 5          HandOutcome.WIN            1.0          WIN  \n",
       " 6         HandOutcome.LOSE           -1.0         LOSE  \n",
       " 7         HandOutcome.LOSE           -1.0         LOSE  \n",
       " 8         HandOutcome.LOSE           -1.0         LOSE  \n",
       " 9          HandOutcome.WIN            1.0          WIN  ,\n",
       "                    len                                       mean_outcome\n",
       " outcome_name BLACKJACK LOSE LOSE_DOUBLE PUSH  WIN WIN_DOUBLE             \n",
       " strategy                                                                 \n",
       " simple              46  479          29   81  337         28       -0.075)"
      ]
     },
     "execution_count": 22,
     "metadata": {},
     "output_type": "execute_result"
    }
   ],
   "source": [
    "def strat_simple(hand, dealer):\n",
    "    if hand.score == 11:  return Action.DOUBLE\n",
    "    if hand.score >= 17:  return Action.STAND\n",
    "    if hand.score <= 11:  return Action.HIT\n",
    "    if dealer.score in (range(3,7)):  return Action.STAND\n",
    "    else:  return Action.HIT\n",
    "        \n",
    "strat_simple.name = 'simple'\n",
    "\n",
    "\n",
    "sims = run_n_sim_trials([strat_simple], 1000)\n",
    "sims.head(10), summarize_totals(sims)"
   ]
  },
  {
   "cell_type": "code",
   "execution_count": 23,
   "id": "confirmed-passing",
   "metadata": {
    "ExecuteTime": {
     "end_time": "2021-07-07T19:41:07.157269Z",
     "start_time": "2021-07-07T19:41:06.450645Z"
    }
   },
   "outputs": [
    {
     "data": {
      "text/html": [
       "<div>\n",
       "<style scoped>\n",
       "    .dataframe tbody tr th:only-of-type {\n",
       "        vertical-align: middle;\n",
       "    }\n",
       "\n",
       "    .dataframe tbody tr th {\n",
       "        vertical-align: top;\n",
       "    }\n",
       "\n",
       "    .dataframe thead tr th {\n",
       "        text-align: left;\n",
       "    }\n",
       "\n",
       "    .dataframe thead tr:last-of-type th {\n",
       "        text-align: right;\n",
       "    }\n",
       "</style>\n",
       "<table border=\"1\" class=\"dataframe\">\n",
       "  <thead>\n",
       "    <tr>\n",
       "      <th></th>\n",
       "      <th colspan=\"6\" halign=\"left\">len</th>\n",
       "      <th>mean_outcome</th>\n",
       "    </tr>\n",
       "    <tr>\n",
       "      <th>outcome_name</th>\n",
       "      <th>BLACKJACK</th>\n",
       "      <th>LOSE</th>\n",
       "      <th>LOSE_DOUBLE</th>\n",
       "      <th>PUSH</th>\n",
       "      <th>WIN</th>\n",
       "      <th>WIN_DOUBLE</th>\n",
       "      <th></th>\n",
       "    </tr>\n",
       "    <tr>\n",
       "      <th>strategy</th>\n",
       "      <th></th>\n",
       "      <th></th>\n",
       "      <th></th>\n",
       "      <th></th>\n",
       "      <th></th>\n",
       "      <th></th>\n",
       "      <th></th>\n",
       "    </tr>\n",
       "  </thead>\n",
       "  <tbody>\n",
       "    <tr>\n",
       "      <th>simple</th>\n",
       "      <td>461</td>\n",
       "      <td>4613</td>\n",
       "      <td>261</td>\n",
       "      <td>868</td>\n",
       "      <td>3477</td>\n",
       "      <td>320</td>\n",
       "      <td>-0.03265</td>\n",
       "    </tr>\n",
       "    <tr>\n",
       "      <th>strat_dealer</th>\n",
       "      <td>461</td>\n",
       "      <td>4986</td>\n",
       "      <td>0</td>\n",
       "      <td>990</td>\n",
       "      <td>3563</td>\n",
       "      <td>0</td>\n",
       "      <td>-0.07315</td>\n",
       "    </tr>\n",
       "    <tr>\n",
       "      <th>strat_nobust</th>\n",
       "      <td>461</td>\n",
       "      <td>5206</td>\n",
       "      <td>0</td>\n",
       "      <td>625</td>\n",
       "      <td>3708</td>\n",
       "      <td>0</td>\n",
       "      <td>-0.08065</td>\n",
       "    </tr>\n",
       "  </tbody>\n",
       "</table>\n",
       "</div>"
      ],
      "text/plain": [
       "                   len                                         mean_outcome\n",
       "outcome_name BLACKJACK  LOSE LOSE_DOUBLE PUSH   WIN WIN_DOUBLE             \n",
       "strategy                                                                   \n",
       "simple             461  4613         261  868  3477        320     -0.03265\n",
       "strat_dealer       461  4986           0  990  3563          0     -0.07315\n",
       "strat_nobust       461  5206           0  625  3708          0     -0.08065"
      ]
     },
     "execution_count": 23,
     "metadata": {},
     "output_type": "execute_result"
    }
   ],
   "source": [
    "summarize_totals(run_n_sim_trials([strat_dealer, strat_nobust, strat_simple], 10000))\n"
   ]
  },
  {
   "cell_type": "markdown",
   "id": "fluid-writing",
   "metadata": {},
   "source": [
    "## Simulate specific situations to determine strategy"
   ]
  },
  {
   "cell_type": "code",
   "execution_count": 24,
   "id": "otherwise-sheffield",
   "metadata": {
    "ExecuteTime": {
     "end_time": "2021-07-07T19:41:07.161226Z",
     "start_time": "2021-07-07T19:41:07.158972Z"
    }
   },
   "outputs": [
    {
     "data": {
      "text/plain": [
       "(Hand(score=12, soft=False, cards=[5, 7], doubled=False),\n",
       " Hand(score=2, soft=False, cards=[2], doubled=False))"
      ]
     },
     "execution_count": 24,
     "metadata": {},
     "output_type": "execute_result"
    }
   ],
   "source": [
    "# 12 vs deuce\n",
    "\n",
    "hand_p = bj.make_hand([5, 7])\n",
    "hand_d = bj.make_hand([2])\n",
    "\n",
    "hand_p, hand_d"
   ]
  },
  {
   "cell_type": "code",
   "execution_count": 25,
   "id": "gross-kennedy",
   "metadata": {
    "ExecuteTime": {
     "end_time": "2021-07-07T19:41:07.164427Z",
     "start_time": "2021-07-07T19:41:07.162107Z"
    }
   },
   "outputs": [],
   "source": [
    "# Implement a strategy that composes conditions and actions\n",
    "\n",
    "def cond_12_2(hand, dealer):\n",
    "    return hand.score == 12 and dealer.score == 2 and not hand.soft\n",
    "conditions = [(cond_12_2, Action.STAND)]\n",
    "\n",
    "def generate_strat_conditional(strat_base, conditions):\n",
    "    def strat_cond(hand, dealer):\n",
    "        for (condition, action) in conditions:\n",
    "            if condition(hand, dealer): return action\n",
    "        return strat_base(hand, dealer)\n",
    "    strat_cond.name = 'strat_cond'\n",
    "    return strat_cond\n",
    "    \n",
    "strat_cond = generate_strat_conditional(strat_simple, conditions)"
   ]
  },
  {
   "cell_type": "code",
   "execution_count": 26,
   "id": "virgin-mining",
   "metadata": {
    "ExecuteTime": {
     "end_time": "2021-07-07T19:41:07.168392Z",
     "start_time": "2021-07-07T19:41:07.165216Z"
    }
   },
   "outputs": [
    {
     "data": {
      "text/plain": [
       "[<function __main__.generate_strat_conditional.<locals>.strat_cond(hand, dealer)>,\n",
       " <function __main__.generate_strat_conditional.<locals>.strat_cond(hand, dealer)>,\n",
       " <function __main__.generate_strat_conditional.<locals>.strat_cond(hand, dealer)>]"
      ]
     },
     "execution_count": 26,
     "metadata": {},
     "output_type": "execute_result"
    }
   ],
   "source": [
    "def gen_cond_strategies(strat_base, condition, actions):\n",
    "    def gen_strat_action(strat_base, condition, action):\n",
    "        strat = generate_strat_conditional(strat_base, [(condition, action)])\n",
    "        strat.name = repr(action)\n",
    "        return strat\n",
    "    \n",
    "    strats = [gen_strat_action(strat_base, condition, a) for a in actions]\n",
    "    return strats\n",
    "    \n",
    "\n",
    "\n",
    "\n",
    "strats = gen_cond_strategies(strat_simple, cond_12_2, [Action.HIT, Action.STAND, Action.DOUBLE])\n",
    "strats"
   ]
  },
  {
   "cell_type": "code",
   "execution_count": 27,
   "id": "acoustic-warrant",
   "metadata": {
    "ExecuteTime": {
     "end_time": "2021-07-07T19:41:07.173026Z",
     "start_time": "2021-07-07T19:41:07.169447Z"
    }
   },
   "outputs": [
    {
     "data": {
      "text/plain": [
       "[('<Action.HIT: 2>',\n",
       "  Hand(score=17, soft=False, cards=[5, 7, 5], doubled=False),\n",
       "  Hand(score=22, soft=False, cards=[2, 2, 4, 6, 2, 11], doubled=False),\n",
       "  <HandOutcome.WIN: 1>),\n",
       " ('<Action.STAND: 1>',\n",
       "  Hand(score=12, soft=False, cards=[5, 7], doubled=False),\n",
       "  Hand(score=22, soft=False, cards=[2, 2, 4, 6, 2, 11], doubled=False),\n",
       "  <HandOutcome.WIN: 1>),\n",
       " ('<Action.DOUBLE: 3>',\n",
       "  Hand(score=14, soft=False, cards=[5, 7, 2], doubled=True),\n",
       "  Hand(score=22, soft=False, cards=[2, 2, 4, 6, 2, 11], doubled=False),\n",
       "  <HandOutcome.WIN_DOUBLE: 2>)]"
      ]
     },
     "execution_count": 27,
     "metadata": {},
     "output_type": "execute_result"
    }
   ],
   "source": [
    "complete_one_round(strats, hand_p, hand_d, deal_card())"
   ]
  },
  {
   "cell_type": "code",
   "execution_count": 28,
   "id": "economic-greene",
   "metadata": {
    "ExecuteTime": {
     "end_time": "2021-07-07T19:41:07.865236Z",
     "start_time": "2021-07-07T19:41:07.174221Z"
    }
   },
   "outputs": [
    {
     "data": {
      "text/html": [
       "<div>\n",
       "<style scoped>\n",
       "    .dataframe tbody tr th:only-of-type {\n",
       "        vertical-align: middle;\n",
       "    }\n",
       "\n",
       "    .dataframe tbody tr th {\n",
       "        vertical-align: top;\n",
       "    }\n",
       "\n",
       "    .dataframe thead tr th {\n",
       "        text-align: left;\n",
       "    }\n",
       "\n",
       "    .dataframe thead tr:last-of-type th {\n",
       "        text-align: right;\n",
       "    }\n",
       "</style>\n",
       "<table border=\"1\" class=\"dataframe\">\n",
       "  <thead>\n",
       "    <tr>\n",
       "      <th></th>\n",
       "      <th colspan=\"5\" halign=\"left\">len</th>\n",
       "      <th>mean_outcome</th>\n",
       "    </tr>\n",
       "    <tr>\n",
       "      <th>outcome_name</th>\n",
       "      <th>LOSE</th>\n",
       "      <th>LOSE_DOUBLE</th>\n",
       "      <th>PUSH</th>\n",
       "      <th>WIN</th>\n",
       "      <th>WIN_DOUBLE</th>\n",
       "      <th></th>\n",
       "    </tr>\n",
       "    <tr>\n",
       "      <th>strategy</th>\n",
       "      <th></th>\n",
       "      <th></th>\n",
       "      <th></th>\n",
       "      <th></th>\n",
       "      <th></th>\n",
       "      <th></th>\n",
       "    </tr>\n",
       "  </thead>\n",
       "  <tbody>\n",
       "    <tr>\n",
       "      <th>&lt;Action.DOUBLE: 3&gt;</th>\n",
       "      <td>0</td>\n",
       "      <td>6046</td>\n",
       "      <td>475</td>\n",
       "      <td>0</td>\n",
       "      <td>3479</td>\n",
       "      <td>-0.5134</td>\n",
       "    </tr>\n",
       "    <tr>\n",
       "      <th>&lt;Action.HIT: 2&gt;</th>\n",
       "      <td>6075</td>\n",
       "      <td>0</td>\n",
       "      <td>683</td>\n",
       "      <td>3242</td>\n",
       "      <td>0</td>\n",
       "      <td>-0.2833</td>\n",
       "    </tr>\n",
       "    <tr>\n",
       "      <th>&lt;Action.STAND: 1&gt;</th>\n",
       "      <td>6365</td>\n",
       "      <td>0</td>\n",
       "      <td>0</td>\n",
       "      <td>3635</td>\n",
       "      <td>0</td>\n",
       "      <td>-0.2730</td>\n",
       "    </tr>\n",
       "  </tbody>\n",
       "</table>\n",
       "</div>"
      ],
      "text/plain": [
       "                     len                                   mean_outcome\n",
       "outcome_name        LOSE LOSE_DOUBLE PUSH   WIN WIN_DOUBLE             \n",
       "strategy                                                               \n",
       "<Action.DOUBLE: 3>     0        6046  475     0       3479      -0.5134\n",
       "<Action.HIT: 2>     6075           0  683  3242          0      -0.2833\n",
       "<Action.STAND: 1>   6365           0    0  3635          0      -0.2730"
      ]
     },
     "execution_count": 28,
     "metadata": {},
     "output_type": "execute_result"
    }
   ],
   "source": [
    "# TODO reduce duplication with run_n_sim_trials\n",
    "def run_n_sim_trials_from_state(strats, hand_p, hand_d, n):\n",
    "    sims = [generate_rows_from_round(complete_one_round(strats, hand_p, hand_d, deal_card())) for _ in range(n)]\n",
    "    results = pd.DataFrame([player for round in sims for player in round])\n",
    "    results['outcome_value'] = results['outcome'].apply(lambda x: x.value)\n",
    "    results['outcome_name'] = results['outcome'].apply(lambda x: str(x)[12:])\n",
    "    return results\n",
    "\n",
    "sims = run_n_sim_trials_from_state(strats, hand_p, hand_d, 10000)\n",
    "summarize_totals(sims)"
   ]
  },
  {
   "cell_type": "code",
   "execution_count": 29,
   "id": "institutional-grain",
   "metadata": {
    "ExecuteTime": {
     "end_time": "2021-07-07T19:41:07.868374Z",
     "start_time": "2021-07-07T19:41:07.866165Z"
    }
   },
   "outputs": [
    {
     "data": {
      "text/plain": [
       "(Hand(score=12, soft=True, cards=[1, 1], doubled=False),\n",
       " Hand(score=2, soft=False, cards=[2], doubled=False))"
      ]
     },
     "execution_count": 29,
     "metadata": {},
     "output_type": "execute_result"
    }
   ],
   "source": [
    "# Soft 12 vs 2\n",
    "hand_12s = bj.make_hand([1, 1])\n",
    "\n",
    "hand_12s, hand_d"
   ]
  },
  {
   "cell_type": "code",
   "execution_count": 30,
   "id": "legal-uniform",
   "metadata": {
    "ExecuteTime": {
     "end_time": "2021-07-07T19:41:07.871770Z",
     "start_time": "2021-07-07T19:41:07.869239Z"
    }
   },
   "outputs": [
    {
     "data": {
      "text/plain": [
       "[<function __main__.generate_strat_conditional.<locals>.strat_cond(hand, dealer)>,\n",
       " <function __main__.generate_strat_conditional.<locals>.strat_cond(hand, dealer)>,\n",
       " <function __main__.generate_strat_conditional.<locals>.strat_cond(hand, dealer)>]"
      ]
     },
     "execution_count": 30,
     "metadata": {},
     "output_type": "execute_result"
    }
   ],
   "source": [
    "def cond_12s_2(hand, dealer):\n",
    "    return hand.score == 12 and dealer.score == 2 and hand.soft\n",
    "\n",
    "strats = gen_cond_strategies(strat_simple, cond_12s_2, [Action.HIT, Action.STAND, Action.DOUBLE])\n",
    "strats"
   ]
  },
  {
   "cell_type": "code",
   "execution_count": 31,
   "id": "british-logging",
   "metadata": {
    "ExecuteTime": {
     "end_time": "2021-07-07T19:41:08.817196Z",
     "start_time": "2021-07-07T19:41:07.872539Z"
    }
   },
   "outputs": [
    {
     "data": {
      "text/html": [
       "<div>\n",
       "<style scoped>\n",
       "    .dataframe tbody tr th:only-of-type {\n",
       "        vertical-align: middle;\n",
       "    }\n",
       "\n",
       "    .dataframe tbody tr th {\n",
       "        vertical-align: top;\n",
       "    }\n",
       "\n",
       "    .dataframe thead tr th {\n",
       "        text-align: left;\n",
       "    }\n",
       "\n",
       "    .dataframe thead tr:last-of-type th {\n",
       "        text-align: right;\n",
       "    }\n",
       "</style>\n",
       "<table border=\"1\" class=\"dataframe\">\n",
       "  <thead>\n",
       "    <tr>\n",
       "      <th></th>\n",
       "      <th colspan=\"5\" halign=\"left\">len</th>\n",
       "      <th>mean_outcome</th>\n",
       "    </tr>\n",
       "    <tr>\n",
       "      <th>outcome_name</th>\n",
       "      <th>LOSE</th>\n",
       "      <th>LOSE_DOUBLE</th>\n",
       "      <th>PUSH</th>\n",
       "      <th>WIN</th>\n",
       "      <th>WIN_DOUBLE</th>\n",
       "      <th></th>\n",
       "    </tr>\n",
       "    <tr>\n",
       "      <th>strategy</th>\n",
       "      <th></th>\n",
       "      <th></th>\n",
       "      <th></th>\n",
       "      <th></th>\n",
       "      <th></th>\n",
       "      <th></th>\n",
       "    </tr>\n",
       "  </thead>\n",
       "  <tbody>\n",
       "    <tr>\n",
       "      <th>&lt;Action.DOUBLE: 3&gt;</th>\n",
       "      <td>0</td>\n",
       "      <td>6360</td>\n",
       "      <td>0</td>\n",
       "      <td>0</td>\n",
       "      <td>3640</td>\n",
       "      <td>-0.5440</td>\n",
       "    </tr>\n",
       "    <tr>\n",
       "      <th>&lt;Action.HIT: 2&gt;</th>\n",
       "      <td>4815</td>\n",
       "      <td>440</td>\n",
       "      <td>760</td>\n",
       "      <td>3256</td>\n",
       "      <td>729</td>\n",
       "      <td>-0.0981</td>\n",
       "    </tr>\n",
       "    <tr>\n",
       "      <th>&lt;Action.STAND: 1&gt;</th>\n",
       "      <td>6360</td>\n",
       "      <td>0</td>\n",
       "      <td>0</td>\n",
       "      <td>3640</td>\n",
       "      <td>0</td>\n",
       "      <td>-0.2720</td>\n",
       "    </tr>\n",
       "    <tr>\n",
       "      <th>simple</th>\n",
       "      <td>4870</td>\n",
       "      <td>419</td>\n",
       "      <td>776</td>\n",
       "      <td>3166</td>\n",
       "      <td>769</td>\n",
       "      <td>-0.1004</td>\n",
       "    </tr>\n",
       "  </tbody>\n",
       "</table>\n",
       "</div>"
      ],
      "text/plain": [
       "                     len                                   mean_outcome\n",
       "outcome_name        LOSE LOSE_DOUBLE PUSH   WIN WIN_DOUBLE             \n",
       "strategy                                                               \n",
       "<Action.DOUBLE: 3>     0        6360    0     0       3640      -0.5440\n",
       "<Action.HIT: 2>     4815         440  760  3256        729      -0.0981\n",
       "<Action.STAND: 1>   6360           0    0  3640          0      -0.2720\n",
       "simple              4870         419  776  3166        769      -0.1004"
      ]
     },
     "execution_count": 31,
     "metadata": {},
     "output_type": "execute_result"
    }
   ],
   "source": [
    "sims = run_n_sim_trials_from_state(strats+[strat_simple], hand_12s, hand_d, 10000)\n",
    "summarize_totals(sims)"
   ]
  },
  {
   "cell_type": "code",
   "execution_count": 32,
   "id": "based-subscription",
   "metadata": {
    "ExecuteTime": {
     "end_time": "2021-07-07T19:41:14.187850Z",
     "start_time": "2021-07-07T19:41:08.818330Z"
    }
   },
   "outputs": [
    {
     "data": {
      "text/html": [
       "<div>\n",
       "<style scoped>\n",
       "    .dataframe tbody tr th:only-of-type {\n",
       "        vertical-align: middle;\n",
       "    }\n",
       "\n",
       "    .dataframe tbody tr th {\n",
       "        vertical-align: top;\n",
       "    }\n",
       "\n",
       "    .dataframe thead tr th {\n",
       "        text-align: left;\n",
       "    }\n",
       "\n",
       "    .dataframe thead tr:last-of-type th {\n",
       "        text-align: right;\n",
       "    }\n",
       "</style>\n",
       "<table border=\"1\" class=\"dataframe\">\n",
       "  <thead>\n",
       "    <tr>\n",
       "      <th></th>\n",
       "      <th colspan=\"3\" halign=\"left\">len</th>\n",
       "      <th>mean_outcome</th>\n",
       "    </tr>\n",
       "    <tr>\n",
       "      <th>outcome_name</th>\n",
       "      <th>LOSE</th>\n",
       "      <th>PUSH</th>\n",
       "      <th>WIN</th>\n",
       "      <th></th>\n",
       "    </tr>\n",
       "    <tr>\n",
       "      <th>strategy</th>\n",
       "      <th></th>\n",
       "      <th></th>\n",
       "      <th></th>\n",
       "      <th></th>\n",
       "    </tr>\n",
       "  </thead>\n",
       "  <tbody>\n",
       "    <tr>\n",
       "      <th>simple</th>\n",
       "      <td>60851</td>\n",
       "      <td>6551</td>\n",
       "      <td>32598</td>\n",
       "      <td>-0.28253</td>\n",
       "    </tr>\n",
       "    <tr>\n",
       "      <th>strat_cond</th>\n",
       "      <td>63711</td>\n",
       "      <td>0</td>\n",
       "      <td>36289</td>\n",
       "      <td>-0.27422</td>\n",
       "    </tr>\n",
       "  </tbody>\n",
       "</table>\n",
       "</div>"
      ],
      "text/plain": [
       "                len              mean_outcome\n",
       "outcome_name   LOSE  PUSH    WIN             \n",
       "strategy                                     \n",
       "simple        60851  6551  32598     -0.28253\n",
       "strat_cond    63711     0  36289     -0.27422"
      ]
     },
     "execution_count": 32,
     "metadata": {},
     "output_type": "execute_result"
    }
   ],
   "source": [
    "summarize_totals(run_n_sim_trials_from_state([strat_simple, strat_cond], hand_p, hand_d, 100*1000))"
   ]
  },
  {
   "cell_type": "code",
   "execution_count": 33,
   "id": "vietnamese-spray",
   "metadata": {
    "ExecuteTime": {
     "end_time": "2021-07-07T19:41:22.506416Z",
     "start_time": "2021-07-07T19:41:14.188785Z"
    }
   },
   "outputs": [
    {
     "data": {
      "text/html": [
       "<div>\n",
       "<style scoped>\n",
       "    .dataframe tbody tr th:only-of-type {\n",
       "        vertical-align: middle;\n",
       "    }\n",
       "\n",
       "    .dataframe tbody tr th {\n",
       "        vertical-align: top;\n",
       "    }\n",
       "\n",
       "    .dataframe thead tr th {\n",
       "        text-align: left;\n",
       "    }\n",
       "\n",
       "    .dataframe thead tr:last-of-type th {\n",
       "        text-align: right;\n",
       "    }\n",
       "</style>\n",
       "<table border=\"1\" class=\"dataframe\">\n",
       "  <thead>\n",
       "    <tr>\n",
       "      <th></th>\n",
       "      <th colspan=\"5\" halign=\"left\">len</th>\n",
       "      <th>mean_outcome</th>\n",
       "    </tr>\n",
       "    <tr>\n",
       "      <th>outcome_name</th>\n",
       "      <th>LOSE</th>\n",
       "      <th>LOSE_DOUBLE</th>\n",
       "      <th>PUSH</th>\n",
       "      <th>WIN</th>\n",
       "      <th>WIN_DOUBLE</th>\n",
       "      <th></th>\n",
       "    </tr>\n",
       "    <tr>\n",
       "      <th>strategy</th>\n",
       "      <th></th>\n",
       "      <th></th>\n",
       "      <th></th>\n",
       "      <th></th>\n",
       "      <th></th>\n",
       "      <th></th>\n",
       "    </tr>\n",
       "  </thead>\n",
       "  <tbody>\n",
       "    <tr>\n",
       "      <th>&lt;Action.DOUBLE: 3&gt;</th>\n",
       "      <td>0</td>\n",
       "      <td>57809</td>\n",
       "      <td>0</td>\n",
       "      <td>0</td>\n",
       "      <td>42191</td>\n",
       "      <td>-0.31236</td>\n",
       "    </tr>\n",
       "    <tr>\n",
       "      <th>&lt;Action.HIT: 2&gt;</th>\n",
       "      <td>45425</td>\n",
       "      <td>3262</td>\n",
       "      <td>2974</td>\n",
       "      <td>41293</td>\n",
       "      <td>7046</td>\n",
       "      <td>0.03436</td>\n",
       "    </tr>\n",
       "    <tr>\n",
       "      <th>&lt;Action.STAND: 1&gt;</th>\n",
       "      <td>57809</td>\n",
       "      <td>0</td>\n",
       "      <td>0</td>\n",
       "      <td>42191</td>\n",
       "      <td>0</td>\n",
       "      <td>-0.15618</td>\n",
       "    </tr>\n",
       "    <tr>\n",
       "      <th>simple</th>\n",
       "      <td>57809</td>\n",
       "      <td>0</td>\n",
       "      <td>0</td>\n",
       "      <td>42191</td>\n",
       "      <td>0</td>\n",
       "      <td>-0.15618</td>\n",
       "    </tr>\n",
       "  </tbody>\n",
       "</table>\n",
       "</div>"
      ],
      "text/plain": [
       "                      len                                     mean_outcome\n",
       "outcome_name         LOSE LOSE_DOUBLE  PUSH    WIN WIN_DOUBLE             \n",
       "strategy                                                                  \n",
       "<Action.DOUBLE: 3>      0       57809     0      0      42191     -0.31236\n",
       "<Action.HIT: 2>     45425        3262  2974  41293       7046      0.03436\n",
       "<Action.STAND: 1>   57809           0     0  42191          0     -0.15618\n",
       "simple              57809           0     0  42191          0     -0.15618"
      ]
     },
     "execution_count": 33,
     "metadata": {},
     "output_type": "execute_result"
    }
   ],
   "source": [
    "# soft 13 vs 6\n",
    "def cond_13s_6(hand, dealer):\n",
    "    return hand.score == 13 and dealer.score == 6 and hand.soft\n",
    "\n",
    "\n",
    "\n",
    "strats = gen_cond_strategies(strat_simple, cond_13s_6, [Action.HIT, Action.STAND, Action.DOUBLE])\n",
    "sims = run_n_sim_trials_from_state(strats+[strat_simple], bj.make_hand([1, 2]), bj.make_hand([6]), 100000)\n",
    "summarize_totals(sims)"
   ]
  },
  {
   "cell_type": "code",
   "execution_count": 34,
   "id": "liable-painting",
   "metadata": {
    "ExecuteTime": {
     "end_time": "2021-07-07T19:41:23.341715Z",
     "start_time": "2021-07-07T19:41:22.507343Z"
    }
   },
   "outputs": [
    {
     "data": {
      "text/html": [
       "<div>\n",
       "<style scoped>\n",
       "    .dataframe tbody tr th:only-of-type {\n",
       "        vertical-align: middle;\n",
       "    }\n",
       "\n",
       "    .dataframe tbody tr th {\n",
       "        vertical-align: top;\n",
       "    }\n",
       "\n",
       "    .dataframe thead tr th {\n",
       "        text-align: left;\n",
       "    }\n",
       "\n",
       "    .dataframe thead tr:last-of-type th {\n",
       "        text-align: right;\n",
       "    }\n",
       "</style>\n",
       "<table border=\"1\" class=\"dataframe\">\n",
       "  <thead>\n",
       "    <tr>\n",
       "      <th></th>\n",
       "      <th colspan=\"5\" halign=\"left\">len</th>\n",
       "      <th>mean_outcome</th>\n",
       "    </tr>\n",
       "    <tr>\n",
       "      <th>outcome_name</th>\n",
       "      <th>LOSE</th>\n",
       "      <th>LOSE_DOUBLE</th>\n",
       "      <th>PUSH</th>\n",
       "      <th>WIN</th>\n",
       "      <th>WIN_DOUBLE</th>\n",
       "      <th></th>\n",
       "    </tr>\n",
       "    <tr>\n",
       "      <th>strategy</th>\n",
       "      <th></th>\n",
       "      <th></th>\n",
       "      <th></th>\n",
       "      <th></th>\n",
       "      <th></th>\n",
       "      <th></th>\n",
       "    </tr>\n",
       "  </thead>\n",
       "  <tbody>\n",
       "    <tr>\n",
       "      <th>&lt;Action.DOUBLE: 3&gt;</th>\n",
       "      <td>0</td>\n",
       "      <td>3259</td>\n",
       "      <td>654</td>\n",
       "      <td>0</td>\n",
       "      <td>6087</td>\n",
       "      <td>0.5656</td>\n",
       "    </tr>\n",
       "    <tr>\n",
       "      <th>&lt;Action.HIT: 2&gt;</th>\n",
       "      <td>3241</td>\n",
       "      <td>0</td>\n",
       "      <td>687</td>\n",
       "      <td>6072</td>\n",
       "      <td>0</td>\n",
       "      <td>0.2831</td>\n",
       "    </tr>\n",
       "    <tr>\n",
       "      <th>&lt;Action.STAND: 1&gt;</th>\n",
       "      <td>5826</td>\n",
       "      <td>0</td>\n",
       "      <td>0</td>\n",
       "      <td>4174</td>\n",
       "      <td>0</td>\n",
       "      <td>-0.1652</td>\n",
       "    </tr>\n",
       "    <tr>\n",
       "      <th>simple</th>\n",
       "      <td>3206</td>\n",
       "      <td>0</td>\n",
       "      <td>713</td>\n",
       "      <td>6081</td>\n",
       "      <td>0</td>\n",
       "      <td>0.2875</td>\n",
       "    </tr>\n",
       "  </tbody>\n",
       "</table>\n",
       "</div>"
      ],
      "text/plain": [
       "                     len                                   mean_outcome\n",
       "outcome_name        LOSE LOSE_DOUBLE PUSH   WIN WIN_DOUBLE             \n",
       "strategy                                                               \n",
       "<Action.DOUBLE: 3>     0        3259  654     0       6087       0.5656\n",
       "<Action.HIT: 2>     3241           0  687  6072          0       0.2831\n",
       "<Action.STAND: 1>   5826           0    0  4174          0      -0.1652\n",
       "simple              3206           0  713  6081          0       0.2875"
      ]
     },
     "execution_count": 34,
     "metadata": {},
     "output_type": "execute_result"
    }
   ],
   "source": [
    "# 10 v 6\n",
    "def cond_10_6(hand, dealer):\n",
    "    return hand.score == 10 and dealer.score == 6 and not hand.soft\n",
    "\n",
    "strats = gen_cond_strategies(strat_simple, cond_10_6, [Action.HIT, Action.STAND, Action.DOUBLE])\n",
    "sims = run_n_sim_trials_from_state(strats+[strat_simple], make_hand([5, 5]), make_hand([6]), 10000)\n",
    "summarize_totals(sims)"
   ]
  },
  {
   "cell_type": "code",
   "execution_count": 35,
   "id": "serious-briefs",
   "metadata": {
    "ExecuteTime": {
     "end_time": "2021-07-07T19:41:23.371283Z",
     "start_time": "2021-07-07T19:41:23.342672Z"
    }
   },
   "outputs": [
    {
     "data": {
      "text/plain": [
       "(<function __main__.test_cond.<locals>.cond(h, d)>,\n",
       "                     len                                  mean_outcome\n",
       " outcome_name       LOSE LOSE_DOUBLE PUSH  WIN WIN_DOUBLE             \n",
       " strategy                                                             \n",
       " <Action.DOUBLE: 3>    0          66   18    0        116         0.50\n",
       " <Action.HIT: 2>      65           0   22  113          0         0.24\n",
       " <Action.STAND: 1>   115           0    0   85          0        -0.15)"
      ]
     },
     "execution_count": 35,
     "metadata": {},
     "output_type": "execute_result"
    }
   ],
   "source": [
    "ACTIONS = [Action.HIT, Action.STAND, Action.DOUBLE]\n",
    "\n",
    "def test_cond(score_p, score_d, n):\n",
    "    def cond(h, d):\n",
    "        return h.score == score_p and d.score == score_d\n",
    "    strats = gen_cond_strategies(strat_simple, cond, ACTIONS)\n",
    "    hand = make_hand([8, score_p-8]) # This will only work for 10 through 18 \n",
    "    sims = run_n_sim_trials_from_state(strats, hand, make_hand([score_d]), n)\n",
    "    return cond, summarize_totals(sims)\n",
    "\n",
    "test_cond(10, 6, 200)"
   ]
  },
  {
   "cell_type": "code",
   "execution_count": 36,
   "id": "manual-anime",
   "metadata": {
    "ExecuteTime": {
     "end_time": "2021-07-07T19:41:23.406314Z",
     "start_time": "2021-07-07T19:41:23.372287Z"
    }
   },
   "outputs": [
    {
     "data": {
      "text/plain": [
       "(<function __main__.test_cond.<locals>.cond(h, d)>,\n",
       " {'<Action.DOUBLE: 3>': 0.28,\n",
       "  '<Action.HIT: 2>': 0.25,\n",
       "  '<Action.STAND: 1>': -0.23,\n",
       "  'score_p': 10,\n",
       "  'score_d': 6,\n",
       "  'winning_act': <Action.DOUBLE: 3>,\n",
       "  'winning_act_outcome': 0.28})"
      ]
     },
     "execution_count": 36,
     "metadata": {},
     "output_type": "execute_result"
    }
   ],
   "source": [
    "def find_winning_action(score_p, score_d, n):\n",
    "    cond, summary = test_cond(score_p, score_d, n)\n",
    "    outcomes = summary['mean_outcome']\n",
    "    # Find the winning strategy\n",
    "    winner = outcomes[outcomes==outcomes.max()].index[0]\n",
    "    winning_act = [a for a in ACTIONS if repr(a)==winner][0]\n",
    "\n",
    "    # Convert results to a dict\n",
    "    run = outcomes.to_dict()\n",
    "    run['score_p'] = score_p\n",
    "    run['score_d'] = score_d\n",
    "    run['winning_act'] = winning_act\n",
    "    run['winning_act_outcome'] = outcomes.max()\n",
    "\n",
    "    return (cond, run)\n",
    "\n",
    "find_winning_action(10, 6, 200)"
   ]
  },
  {
   "cell_type": "code",
   "execution_count": 37,
   "id": "behind-seattle",
   "metadata": {
    "ExecuteTime": {
     "end_time": "2021-07-07T19:41:23.438040Z",
     "start_time": "2021-07-07T19:41:23.407292Z"
    }
   },
   "outputs": [
    {
     "data": {
      "text/html": [
       "<div>\n",
       "<style scoped>\n",
       "    .dataframe tbody tr th:only-of-type {\n",
       "        vertical-align: middle;\n",
       "    }\n",
       "\n",
       "    .dataframe tbody tr th {\n",
       "        vertical-align: top;\n",
       "    }\n",
       "\n",
       "    .dataframe thead th {\n",
       "        text-align: right;\n",
       "    }\n",
       "</style>\n",
       "<table border=\"1\" class=\"dataframe\">\n",
       "  <thead>\n",
       "    <tr style=\"text-align: right;\">\n",
       "      <th></th>\n",
       "      <th></th>\n",
       "      <th>&lt;Action.DOUBLE: 3&gt;</th>\n",
       "      <th>&lt;Action.HIT: 2&gt;</th>\n",
       "      <th>&lt;Action.STAND: 1&gt;</th>\n",
       "      <th>winning_act</th>\n",
       "      <th>winning_act_outcome</th>\n",
       "    </tr>\n",
       "    <tr>\n",
       "      <th>score_p</th>\n",
       "      <th>score_d</th>\n",
       "      <th></th>\n",
       "      <th></th>\n",
       "      <th></th>\n",
       "      <th></th>\n",
       "      <th></th>\n",
       "    </tr>\n",
       "  </thead>\n",
       "  <tbody>\n",
       "    <tr>\n",
       "      <th rowspan=\"2\" valign=\"top\">10</th>\n",
       "      <th>1</th>\n",
       "      <td>0.1</td>\n",
       "      <td>-0.2</td>\n",
       "      <td>-0.5</td>\n",
       "      <td>Action.DOUBLE</td>\n",
       "      <td>0.1</td>\n",
       "    </tr>\n",
       "    <tr>\n",
       "      <th>2</th>\n",
       "      <td>-1.2</td>\n",
       "      <td>0.1</td>\n",
       "      <td>-0.8</td>\n",
       "      <td>Action.HIT</td>\n",
       "      <td>0.1</td>\n",
       "    </tr>\n",
       "  </tbody>\n",
       "</table>\n",
       "</div>"
      ],
      "text/plain": [
       "                 <Action.DOUBLE: 3>  <Action.HIT: 2>  <Action.STAND: 1>  \\\n",
       "score_p score_d                                                           \n",
       "10      1                       0.1             -0.2               -0.5   \n",
       "        2                      -1.2              0.1               -0.8   \n",
       "\n",
       "                   winning_act  winning_act_outcome  \n",
       "score_p score_d                                      \n",
       "10      1        Action.DOUBLE                  0.1  \n",
       "        2           Action.HIT                  0.1  "
      ]
     },
     "execution_count": 37,
     "metadata": {},
     "output_type": "execute_result"
    }
   ],
   "source": [
    "conds = [find_winning_action(p, d, 10) for p in range(10, 11) for d in range(1, 3)]\n",
    "pd.DataFrame([data for _, data in conds]).set_index(['score_p', 'score_d'])"
   ]
  },
  {
   "cell_type": "code",
   "execution_count": 38,
   "id": "german-congo",
   "metadata": {
    "ExecuteTime": {
     "end_time": "2021-07-07T19:50:39.114117Z",
     "start_time": "2021-07-07T19:41:23.438908Z"
    }
   },
   "outputs": [
    {
     "data": {
      "text/plain": [
       "[(<function __main__.test_cond.<locals>.cond(h, d)>,\n",
       "  {'<Action.DOUBLE: 3>': 0.3877,\n",
       "   '<Action.HIT: 2>': 0.15444,\n",
       "   '<Action.STAND: 1>': -0.26922,\n",
       "   'score_p': 10,\n",
       "   'score_d': 2,\n",
       "   'winning_act': <Action.DOUBLE: 3>,\n",
       "   'winning_act_outcome': 0.3877}),\n",
       " (<function __main__.test_cond.<locals>.cond(h, d)>,\n",
       "  {'<Action.DOUBLE: 3>': 0.43644,\n",
       "   '<Action.HIT: 2>': 0.21752,\n",
       "   '<Action.STAND: 1>': -0.23476,\n",
       "   'score_p': 10,\n",
       "   'score_d': 3,\n",
       "   'winning_act': <Action.DOUBLE: 3>,\n",
       "   'winning_act_outcome': 0.43644}),\n",
       " (<function __main__.test_cond.<locals>.cond(h, d)>,\n",
       "  {'<Action.DOUBLE: 3>': 0.48452,\n",
       "   '<Action.HIT: 2>': 0.24156,\n",
       "   '<Action.STAND: 1>': -0.19304,\n",
       "   'score_p': 10,\n",
       "   'score_d': 4,\n",
       "   'winning_act': <Action.DOUBLE: 3>,\n",
       "   'winning_act_outcome': 0.48452}),\n",
       " (<function __main__.test_cond.<locals>.cond(h, d)>,\n",
       "  {'<Action.DOUBLE: 3>': 0.52946,\n",
       "   '<Action.HIT: 2>': 0.26484,\n",
       "   '<Action.STAND: 1>': -0.15932,\n",
       "   'score_p': 10,\n",
       "   'score_d': 5,\n",
       "   'winning_act': <Action.DOUBLE: 3>,\n",
       "   'winning_act_outcome': 0.52946}),\n",
       " (<function __main__.test_cond.<locals>.cond(h, d)>,\n",
       "  {'<Action.DOUBLE: 3>': 0.56378,\n",
       "   '<Action.HIT: 2>': 0.28794,\n",
       "   '<Action.STAND: 1>': -0.155,\n",
       "   'score_p': 10,\n",
       "   'score_d': 6,\n",
       "   'winning_act': <Action.DOUBLE: 3>,\n",
       "   'winning_act_outcome': 0.56378}),\n",
       " (<function __main__.test_cond.<locals>.cond(h, d)>,\n",
       "  {'<Action.DOUBLE: 3>': 0.39616,\n",
       "   '<Action.HIT: 2>': 0.25788,\n",
       "   '<Action.STAND: 1>': -0.47508,\n",
       "   'score_p': 10,\n",
       "   'score_d': 7,\n",
       "   'winning_act': <Action.DOUBLE: 3>,\n",
       "   'winning_act_outcome': 0.39616}),\n",
       " (<function __main__.test_cond.<locals>.cond(h, d)>,\n",
       "  {'<Action.DOUBLE: 3>': 0.29072,\n",
       "   '<Action.HIT: 2>': 0.20144,\n",
       "   '<Action.STAND: 1>': -0.506,\n",
       "   'score_p': 10,\n",
       "   'score_d': 8,\n",
       "   'winning_act': <Action.DOUBLE: 3>,\n",
       "   'winning_act_outcome': 0.29072}),\n",
       " (<function __main__.test_cond.<locals>.cond(h, d)>,\n",
       "  {'<Action.DOUBLE: 3>': 0.1308,\n",
       "   '<Action.HIT: 2>': 0.11626,\n",
       "   '<Action.STAND: 1>': -0.54664,\n",
       "   'score_p': 10,\n",
       "   'score_d': 9,\n",
       "   'winning_act': <Action.DOUBLE: 3>,\n",
       "   'winning_act_outcome': 0.1308}),\n",
       " (<function __main__.test_cond.<locals>.cond(h, d)>,\n",
       "  {'<Action.DOUBLE: 3>': -0.16204,\n",
       "   '<Action.HIT: 2>': -0.05328,\n",
       "   '<Action.STAND: 1>': -0.57498,\n",
       "   'score_p': 10,\n",
       "   'score_d': 10,\n",
       "   'winning_act': <Action.HIT: 2>,\n",
       "   'winning_act_outcome': -0.05328}),\n",
       " (<function __main__.test_cond.<locals>.cond(h, d)>,\n",
       "  {'<Action.DOUBLE: 3>': 0.49874,\n",
       "   '<Action.HIT: 2>': 0.20706,\n",
       "   '<Action.STAND: 1>': -0.26998,\n",
       "   'score_p': 11,\n",
       "   'score_d': 2,\n",
       "   'winning_act': <Action.DOUBLE: 3>,\n",
       "   'winning_act_outcome': 0.49874}),\n",
       " (<function __main__.test_cond.<locals>.cond(h, d)>,\n",
       "  {'<Action.DOUBLE: 3>': 0.53946,\n",
       "   '<Action.HIT: 2>': 0.26994,\n",
       "   '<Action.STAND: 1>': -0.23706,\n",
       "   'score_p': 11,\n",
       "   'score_d': 3,\n",
       "   'winning_act': <Action.DOUBLE: 3>,\n",
       "   'winning_act_outcome': 0.53946}),\n",
       " (<function __main__.test_cond.<locals>.cond(h, d)>,\n",
       "  {'<Action.DOUBLE: 3>': 0.57854,\n",
       "   '<Action.HIT: 2>': 0.29114,\n",
       "   '<Action.STAND: 1>': -0.19852,\n",
       "   'score_p': 11,\n",
       "   'score_d': 4,\n",
       "   'winning_act': <Action.DOUBLE: 3>,\n",
       "   'winning_act_outcome': 0.57854}),\n",
       " (<function __main__.test_cond.<locals>.cond(h, d)>,\n",
       "  {'<Action.DOUBLE: 3>': 0.6358,\n",
       "   '<Action.HIT: 2>': 0.31541,\n",
       "   '<Action.STAND: 1>': -0.15742,\n",
       "   'score_p': 11,\n",
       "   'score_d': 5,\n",
       "   'winning_act': <Action.DOUBLE: 3>,\n",
       "   'winning_act_outcome': 0.6358}),\n",
       " (<function __main__.test_cond.<locals>.cond(h, d)>,\n",
       "  {'<Action.DOUBLE: 3>': 0.66506,\n",
       "   '<Action.HIT: 2>': 0.33614,\n",
       "   '<Action.STAND: 1>': -0.15272,\n",
       "   'score_p': 11,\n",
       "   'score_d': 6,\n",
       "   'winning_act': <Action.DOUBLE: 3>,\n",
       "   'winning_act_outcome': 0.66506}),\n",
       " (<function __main__.test_cond.<locals>.cond(h, d)>,\n",
       "  {'<Action.DOUBLE: 3>': 0.46544,\n",
       "   '<Action.HIT: 2>': 0.29308,\n",
       "   '<Action.STAND: 1>': -0.47868,\n",
       "   'score_p': 11,\n",
       "   'score_d': 7,\n",
       "   'winning_act': <Action.DOUBLE: 3>,\n",
       "   'winning_act_outcome': 0.46544}),\n",
       " (<function __main__.test_cond.<locals>.cond(h, d)>,\n",
       "  {'<Action.DOUBLE: 3>': 0.3579,\n",
       "   '<Action.HIT: 2>': 0.22959,\n",
       "   '<Action.STAND: 1>': -0.50542,\n",
       "   'score_p': 11,\n",
       "   'score_d': 8,\n",
       "   'winning_act': <Action.DOUBLE: 3>,\n",
       "   'winning_act_outcome': 0.3579}),\n",
       " (<function __main__.test_cond.<locals>.cond(h, d)>,\n",
       "  {'<Action.DOUBLE: 3>': 0.2274,\n",
       "   '<Action.HIT: 2>': 0.15959,\n",
       "   '<Action.STAND: 1>': -0.54118,\n",
       "   'score_p': 11,\n",
       "   'score_d': 9,\n",
       "   'winning_act': <Action.DOUBLE: 3>,\n",
       "   'winning_act_outcome': 0.2274}),\n",
       " (<function __main__.test_cond.<locals>.cond(h, d)>,\n",
       "  {'<Action.DOUBLE: 3>': 0.00428,\n",
       "   '<Action.HIT: 2>': 0.03022,\n",
       "   '<Action.STAND: 1>': -0.57568,\n",
       "   'score_p': 11,\n",
       "   'score_d': 10,\n",
       "   'winning_act': <Action.HIT: 2>,\n",
       "   'winning_act_outcome': 0.03022}),\n",
       " (<function __main__.test_cond.<locals>.cond(h, d)>,\n",
       "  {'<Action.DOUBLE: 3>': -0.48922,\n",
       "   '<Action.HIT: 2>': -0.2819,\n",
       "   '<Action.STAND: 1>': -0.27212,\n",
       "   'score_p': 12,\n",
       "   'score_d': 2,\n",
       "   'winning_act': <Action.STAND: 1>,\n",
       "   'winning_act_outcome': -0.27212}),\n",
       " (<function __main__.test_cond.<locals>.cond(h, d)>,\n",
       "  {'<Action.DOUBLE: 3>': -0.45226,\n",
       "   '<Action.HIT: 2>': -0.22112,\n",
       "   '<Action.STAND: 1>': -0.23786,\n",
       "   'score_p': 12,\n",
       "   'score_d': 3,\n",
       "   'winning_act': <Action.HIT: 2>,\n",
       "   'winning_act_outcome': -0.22112}),\n",
       " (<function __main__.test_cond.<locals>.cond(h, d)>,\n",
       "  {'<Action.DOUBLE: 3>': -0.40646,\n",
       "   '<Action.HIT: 2>': -0.20267,\n",
       "   '<Action.STAND: 1>': -0.19168,\n",
       "   'score_p': 12,\n",
       "   'score_d': 4,\n",
       "   'winning_act': <Action.STAND: 1>,\n",
       "   'winning_act_outcome': -0.19168}),\n",
       " (<function __main__.test_cond.<locals>.cond(h, d)>,\n",
       "  {'<Action.DOUBLE: 3>': -0.37238,\n",
       "   '<Action.HIT: 2>': -0.18846,\n",
       "   '<Action.STAND: 1>': -0.15598,\n",
       "   'score_p': 12,\n",
       "   'score_d': 5,\n",
       "   'winning_act': <Action.STAND: 1>,\n",
       "   'winning_act_outcome': -0.15598}),\n",
       " (<function __main__.test_cond.<locals>.cond(h, d)>,\n",
       "  {'<Action.DOUBLE: 3>': -0.34464,\n",
       "   '<Action.HIT: 2>': -0.17148,\n",
       "   '<Action.STAND: 1>': -0.15418,\n",
       "   'score_p': 12,\n",
       "   'score_d': 6,\n",
       "   'winning_act': <Action.STAND: 1>,\n",
       "   'winning_act_outcome': -0.15418}),\n",
       " (<function __main__.test_cond.<locals>.cond(h, d)>,\n",
       "  {'<Action.DOUBLE: 3>': -0.50694,\n",
       "   '<Action.HIT: 2>': -0.21408,\n",
       "   '<Action.STAND: 1>': -0.47228,\n",
       "   'score_p': 12,\n",
       "   'score_d': 7,\n",
       "   'winning_act': <Action.HIT: 2>,\n",
       "   'winning_act_outcome': -0.21408}),\n",
       " (<function __main__.test_cond.<locals>.cond(h, d)>,\n",
       "  {'<Action.DOUBLE: 3>': -0.62354,\n",
       "   '<Action.HIT: 2>': -0.27482,\n",
       "   '<Action.STAND: 1>': -0.50956,\n",
       "   'score_p': 12,\n",
       "   'score_d': 8,\n",
       "   'winning_act': <Action.HIT: 2>,\n",
       "   'winning_act_outcome': -0.27482}),\n",
       " (<function __main__.test_cond.<locals>.cond(h, d)>,\n",
       "  {'<Action.DOUBLE: 3>': -0.74268,\n",
       "   '<Action.HIT: 2>': -0.34065,\n",
       "   '<Action.STAND: 1>': -0.54394,\n",
       "   'score_p': 12,\n",
       "   'score_d': 9,\n",
       "   'winning_act': <Action.HIT: 2>,\n",
       "   'winning_act_outcome': -0.34065}),\n",
       " (<function __main__.test_cond.<locals>.cond(h, d)>,\n",
       "  {'<Action.DOUBLE: 3>': -0.89176,\n",
       "   '<Action.HIT: 2>': -0.43039,\n",
       "   '<Action.STAND: 1>': -0.57464,\n",
       "   'score_p': 12,\n",
       "   'score_d': 10,\n",
       "   'winning_act': <Action.HIT: 2>,\n",
       "   'winning_act_outcome': -0.43039}),\n",
       " (<function __main__.test_cond.<locals>.cond(h, d)>,\n",
       "  {'<Action.DOUBLE: 3>': -0.5957,\n",
       "   '<Action.HIT: 2>': -0.33349,\n",
       "   '<Action.STAND: 1>': -0.2691,\n",
       "   'score_p': 13,\n",
       "   'score_d': 2,\n",
       "   'winning_act': <Action.STAND: 1>,\n",
       "   'winning_act_outcome': -0.2691}),\n",
       " (<function __main__.test_cond.<locals>.cond(h, d)>,\n",
       "  {'<Action.DOUBLE: 3>': -0.56372,\n",
       "   '<Action.HIT: 2>': -0.28079,\n",
       "   '<Action.STAND: 1>': -0.23536,\n",
       "   'score_p': 13,\n",
       "   'score_d': 3,\n",
       "   'winning_act': <Action.STAND: 1>,\n",
       "   'winning_act_outcome': -0.23536}),\n",
       " (<function __main__.test_cond.<locals>.cond(h, d)>,\n",
       "  {'<Action.DOUBLE: 3>': -0.52856,\n",
       "   '<Action.HIT: 2>': -0.26467,\n",
       "   '<Action.STAND: 1>': -0.19492,\n",
       "   'score_p': 13,\n",
       "   'score_d': 4,\n",
       "   'winning_act': <Action.STAND: 1>,\n",
       "   'winning_act_outcome': -0.19492}),\n",
       " (<function __main__.test_cond.<locals>.cond(h, d)>,\n",
       "  {'<Action.DOUBLE: 3>': -0.50106,\n",
       "   '<Action.HIT: 2>': -0.24515,\n",
       "   '<Action.STAND: 1>': -0.1544,\n",
       "   'score_p': 13,\n",
       "   'score_d': 5,\n",
       "   'winning_act': <Action.STAND: 1>,\n",
       "   'winning_act_outcome': -0.1544}),\n",
       " (<function __main__.test_cond.<locals>.cond(h, d)>,\n",
       "  {'<Action.DOUBLE: 3>': -0.47246,\n",
       "   '<Action.HIT: 2>': -0.23676,\n",
       "   '<Action.STAND: 1>': -0.15388,\n",
       "   'score_p': 13,\n",
       "   'score_d': 6,\n",
       "   'winning_act': <Action.STAND: 1>,\n",
       "   'winning_act_outcome': -0.15388}),\n",
       " (<function __main__.test_cond.<locals>.cond(h, d)>,\n",
       "  {'<Action.DOUBLE: 3>': -0.58972,\n",
       "   '<Action.HIT: 2>': -0.27412,\n",
       "   '<Action.STAND: 1>': -0.47812,\n",
       "   'score_p': 13,\n",
       "   'score_d': 7,\n",
       "   'winning_act': <Action.HIT: 2>,\n",
       "   'winning_act_outcome': -0.27412}),\n",
       " (<function __main__.test_cond.<locals>.cond(h, d)>,\n",
       "  {'<Action.DOUBLE: 3>': -0.6927,\n",
       "   '<Action.HIT: 2>': -0.32292,\n",
       "   '<Action.STAND: 1>': -0.51076,\n",
       "   'score_p': 13,\n",
       "   'score_d': 8,\n",
       "   'winning_act': <Action.HIT: 2>,\n",
       "   'winning_act_outcome': -0.32292}),\n",
       " (<function __main__.test_cond.<locals>.cond(h, d)>,\n",
       "  {'<Action.DOUBLE: 3>': -0.80822,\n",
       "   '<Action.HIT: 2>': -0.3829,\n",
       "   '<Action.STAND: 1>': -0.54134,\n",
       "   'score_p': 13,\n",
       "   'score_d': 9,\n",
       "   'winning_act': <Action.HIT: 2>,\n",
       "   'winning_act_outcome': -0.3829}),\n",
       " (<function __main__.test_cond.<locals>.cond(h, d)>,\n",
       "  {'<Action.DOUBLE: 3>': -0.95096,\n",
       "   '<Action.HIT: 2>': -0.4699,\n",
       "   '<Action.STAND: 1>': -0.57368,\n",
       "   'score_p': 13,\n",
       "   'score_d': 10,\n",
       "   'winning_act': <Action.HIT: 2>,\n",
       "   'winning_act_outcome': -0.4699}),\n",
       " (<function __main__.test_cond.<locals>.cond(h, d)>,\n",
       "  {'<Action.DOUBLE: 3>': -0.70592,\n",
       "   '<Action.HIT: 2>': -0.37856,\n",
       "   '<Action.STAND: 1>': -0.27346,\n",
       "   'score_p': 14,\n",
       "   'score_d': 2,\n",
       "   'winning_act': <Action.STAND: 1>,\n",
       "   'winning_act_outcome': -0.27346}),\n",
       " (<function __main__.test_cond.<locals>.cond(h, d)>,\n",
       "  {'<Action.DOUBLE: 3>': -0.68202,\n",
       "   '<Action.HIT: 2>': -0.34391,\n",
       "   '<Action.STAND: 1>': -0.2339,\n",
       "   'score_p': 14,\n",
       "   'score_d': 3,\n",
       "   'winning_act': <Action.STAND: 1>,\n",
       "   'winning_act_outcome': -0.2339}),\n",
       " (<function __main__.test_cond.<locals>.cond(h, d)>,\n",
       "  {'<Action.DOUBLE: 3>': -0.65902,\n",
       "   '<Action.HIT: 2>': -0.32797,\n",
       "   '<Action.STAND: 1>': -0.19544,\n",
       "   'score_p': 14,\n",
       "   'score_d': 4,\n",
       "   'winning_act': <Action.STAND: 1>,\n",
       "   'winning_act_outcome': -0.19544}),\n",
       " (<function __main__.test_cond.<locals>.cond(h, d)>,\n",
       "  {'<Action.DOUBLE: 3>': -0.63382,\n",
       "   '<Action.HIT: 2>': -0.31147,\n",
       "   '<Action.STAND: 1>': -0.15622,\n",
       "   'score_p': 14,\n",
       "   'score_d': 5,\n",
       "   'winning_act': <Action.STAND: 1>,\n",
       "   'winning_act_outcome': -0.15622}),\n",
       " (<function __main__.test_cond.<locals>.cond(h, d)>,\n",
       "  {'<Action.DOUBLE: 3>': -0.5976,\n",
       "   '<Action.HIT: 2>': -0.30093,\n",
       "   '<Action.STAND: 1>': -0.15414,\n",
       "   'score_p': 14,\n",
       "   'score_d': 6,\n",
       "   'winning_act': <Action.STAND: 1>,\n",
       "   'winning_act_outcome': -0.15414}),\n",
       " (<function __main__.test_cond.<locals>.cond(h, d)>,\n",
       "  {'<Action.DOUBLE: 3>': -0.67516,\n",
       "   '<Action.HIT: 2>': -0.32187,\n",
       "   '<Action.STAND: 1>': -0.47506,\n",
       "   'score_p': 14,\n",
       "   'score_d': 7,\n",
       "   'winning_act': <Action.HIT: 2>,\n",
       "   'winning_act_outcome': -0.32187}),\n",
       " (<function __main__.test_cond.<locals>.cond(h, d)>,\n",
       "  {'<Action.DOUBLE: 3>': -0.75956,\n",
       "   '<Action.HIT: 2>': -0.37063,\n",
       "   '<Action.STAND: 1>': -0.51,\n",
       "   'score_p': 14,\n",
       "   'score_d': 8,\n",
       "   'winning_act': <Action.HIT: 2>,\n",
       "   'winning_act_outcome': -0.37063}),\n",
       " (<function __main__.test_cond.<locals>.cond(h, d)>,\n",
       "  {'<Action.DOUBLE: 3>': -0.8836,\n",
       "   '<Action.HIT: 2>': -0.42905,\n",
       "   '<Action.STAND: 1>': -0.54002,\n",
       "   'score_p': 14,\n",
       "   'score_d': 9,\n",
       "   'winning_act': <Action.HIT: 2>,\n",
       "   'winning_act_outcome': -0.42905}),\n",
       " (<function __main__.test_cond.<locals>.cond(h, d)>,\n",
       "  {'<Action.DOUBLE: 3>': -1.02534,\n",
       "   '<Action.HIT: 2>': -0.51015,\n",
       "   '<Action.STAND: 1>': -0.57892,\n",
       "   'score_p': 14,\n",
       "   'score_d': 10,\n",
       "   'winning_act': <Action.HIT: 2>,\n",
       "   'winning_act_outcome': -0.51015}),\n",
       " (<function __main__.test_cond.<locals>.cond(h, d)>,\n",
       "  {'<Action.DOUBLE: 3>': -0.81724,\n",
       "   '<Action.HIT: 2>': -0.42492,\n",
       "   '<Action.STAND: 1>': -0.2797,\n",
       "   'score_p': 15,\n",
       "   'score_d': 2,\n",
       "   'winning_act': <Action.STAND: 1>,\n",
       "   'winning_act_outcome': -0.2797}),\n",
       " (<function __main__.test_cond.<locals>.cond(h, d)>,\n",
       "  {'<Action.DOUBLE: 3>': -0.8079,\n",
       "   '<Action.HIT: 2>': -0.39684,\n",
       "   '<Action.STAND: 1>': -0.23664,\n",
       "   'score_p': 15,\n",
       "   'score_d': 3,\n",
       "   'winning_act': <Action.STAND: 1>,\n",
       "   'winning_act_outcome': -0.23664}),\n",
       " (<function __main__.test_cond.<locals>.cond(h, d)>,\n",
       "  {'<Action.DOUBLE: 3>': -0.79362,\n",
       "   '<Action.HIT: 2>': -0.3917,\n",
       "   '<Action.STAND: 1>': -0.1992,\n",
       "   'score_p': 15,\n",
       "   'score_d': 4,\n",
       "   'winning_act': <Action.STAND: 1>,\n",
       "   'winning_act_outcome': -0.1992}),\n",
       " (<function __main__.test_cond.<locals>.cond(h, d)>,\n",
       "  {'<Action.DOUBLE: 3>': -0.7571,\n",
       "   '<Action.HIT: 2>': -0.37969,\n",
       "   '<Action.STAND: 1>': -0.15244,\n",
       "   'score_p': 15,\n",
       "   'score_d': 5,\n",
       "   'winning_act': <Action.STAND: 1>,\n",
       "   'winning_act_outcome': -0.15244}),\n",
       " (<function __main__.test_cond.<locals>.cond(h, d)>,\n",
       "  {'<Action.DOUBLE: 3>': -0.72496,\n",
       "   '<Action.HIT: 2>': -0.36851,\n",
       "   '<Action.STAND: 1>': -0.15288,\n",
       "   'score_p': 15,\n",
       "   'score_d': 6,\n",
       "   'winning_act': <Action.STAND: 1>,\n",
       "   'winning_act_outcome': -0.15288}),\n",
       " (<function __main__.test_cond.<locals>.cond(h, d)>,\n",
       "  {'<Action.DOUBLE: 3>': -0.7494,\n",
       "   '<Action.HIT: 2>': -0.36738,\n",
       "   '<Action.STAND: 1>': -0.48006,\n",
       "   'score_p': 15,\n",
       "   'score_d': 7,\n",
       "   'winning_act': <Action.HIT: 2>,\n",
       "   'winning_act_outcome': -0.36738}),\n",
       " (<function __main__.test_cond.<locals>.cond(h, d)>,\n",
       "  {'<Action.DOUBLE: 3>': -0.84832,\n",
       "   '<Action.HIT: 2>': -0.41698,\n",
       "   '<Action.STAND: 1>': -0.51466,\n",
       "   'score_p': 15,\n",
       "   'score_d': 8,\n",
       "   'winning_act': <Action.HIT: 2>,\n",
       "   'winning_act_outcome': -0.41698}),\n",
       " (<function __main__.test_cond.<locals>.cond(h, d)>,\n",
       "  {'<Action.DOUBLE: 3>': -0.94344,\n",
       "   '<Action.HIT: 2>': -0.46826,\n",
       "   '<Action.STAND: 1>': -0.53572,\n",
       "   'score_p': 15,\n",
       "   'score_d': 9,\n",
       "   'winning_act': <Action.HIT: 2>,\n",
       "   'winning_act_outcome': -0.46826}),\n",
       " (<function __main__.test_cond.<locals>.cond(h, d)>,\n",
       "  {'<Action.DOUBLE: 3>': -1.08302,\n",
       "   '<Action.HIT: 2>': -0.53831,\n",
       "   '<Action.STAND: 1>': -0.57162,\n",
       "   'score_p': 15,\n",
       "   'score_d': 10,\n",
       "   'winning_act': <Action.HIT: 2>,\n",
       "   'winning_act_outcome': -0.53831}),\n",
       " (<function __main__.test_cond.<locals>.cond(h, d)>,\n",
       "  {'<Action.DOUBLE: 3>': -0.93258,\n",
       "   '<Action.HIT: 2>': -0.46828,\n",
       "   '<Action.STAND: 1>': -0.2726,\n",
       "   'score_p': 16,\n",
       "   'score_d': 2,\n",
       "   'winning_act': <Action.STAND: 1>,\n",
       "   'winning_act_outcome': -0.2726}),\n",
       " (<function __main__.test_cond.<locals>.cond(h, d)>,\n",
       "  {'<Action.DOUBLE: 3>': -0.91856,\n",
       "   '<Action.HIT: 2>': -0.45751,\n",
       "   '<Action.STAND: 1>': -0.23262,\n",
       "   'score_p': 16,\n",
       "   'score_d': 3,\n",
       "   'winning_act': <Action.STAND: 1>,\n",
       "   'winning_act_outcome': -0.23262}),\n",
       " (<function __main__.test_cond.<locals>.cond(h, d)>,\n",
       "  {'<Action.DOUBLE: 3>': -0.9062,\n",
       "   '<Action.HIT: 2>': -0.44927,\n",
       "   '<Action.STAND: 1>': -0.1981,\n",
       "   'score_p': 16,\n",
       "   'score_d': 4,\n",
       "   'winning_act': <Action.STAND: 1>,\n",
       "   'winning_act_outcome': -0.1981}),\n",
       " (<function __main__.test_cond.<locals>.cond(h, d)>,\n",
       "  {'<Action.DOUBLE: 3>': -0.89038,\n",
       "   '<Action.HIT: 2>': -0.44501,\n",
       "   '<Action.STAND: 1>': -0.1537,\n",
       "   'score_p': 16,\n",
       "   'score_d': 5,\n",
       "   'winning_act': <Action.STAND: 1>,\n",
       "   'winning_act_outcome': -0.1537}),\n",
       " (<function __main__.test_cond.<locals>.cond(h, d)>,\n",
       "  {'<Action.DOUBLE: 3>': -0.86598,\n",
       "   '<Action.HIT: 2>': -0.43718,\n",
       "   '<Action.STAND: 1>': -0.16008,\n",
       "   'score_p': 16,\n",
       "   'score_d': 6,\n",
       "   'winning_act': <Action.STAND: 1>,\n",
       "   'winning_act_outcome': -0.16008}),\n",
       " (<function __main__.test_cond.<locals>.cond(h, d)>,\n",
       "  {'<Action.DOUBLE: 3>': -0.82922,\n",
       "   '<Action.HIT: 2>': -0.41387,\n",
       "   '<Action.STAND: 1>': -0.47202,\n",
       "   'score_p': 16,\n",
       "   'score_d': 7,\n",
       "   'winning_act': <Action.HIT: 2>,\n",
       "   'winning_act_outcome': -0.41387}),\n",
       " (<function __main__.test_cond.<locals>.cond(h, d)>,\n",
       "  {'<Action.DOUBLE: 3>': -0.92338,\n",
       "   '<Action.HIT: 2>': -0.46201,\n",
       "   '<Action.STAND: 1>': -0.50718,\n",
       "   'score_p': 16,\n",
       "   'score_d': 8,\n",
       "   'winning_act': <Action.HIT: 2>,\n",
       "   'winning_act_outcome': -0.46201}),\n",
       " (<function __main__.test_cond.<locals>.cond(h, d)>,\n",
       "  {'<Action.DOUBLE: 3>': -1.02224,\n",
       "   '<Action.HIT: 2>': -0.51305,\n",
       "   '<Action.STAND: 1>': -0.54576,\n",
       "   'score_p': 16,\n",
       "   'score_d': 9,\n",
       "   'winning_act': <Action.HIT: 2>,\n",
       "   'winning_act_outcome': -0.51305}),\n",
       " (<function __main__.test_cond.<locals>.cond(h, d)>,\n",
       "  {'<Action.DOUBLE: 3>': -1.1506,\n",
       "   '<Action.HIT: 2>': -0.57283,\n",
       "   '<Action.STAND: 1>': -0.5715,\n",
       "   'score_p': 16,\n",
       "   'score_d': 10,\n",
       "   'winning_act': <Action.STAND: 1>,\n",
       "   'winning_act_outcome': -0.5715}),\n",
       " (<function __main__.test_cond.<locals>.cond(h, d)>,\n",
       "  {'<Action.DOUBLE: 3>': -1.06656,\n",
       "   '<Action.HIT: 2>': -0.53413,\n",
       "   '<Action.STAND: 1>': -0.12645,\n",
       "   'score_p': 17,\n",
       "   'score_d': 2,\n",
       "   'winning_act': <Action.STAND: 1>,\n",
       "   'winning_act_outcome': -0.12645}),\n",
       " (<function __main__.test_cond.<locals>.cond(h, d)>,\n",
       "  {'<Action.DOUBLE: 3>': -1.04538,\n",
       "   '<Action.HIT: 2>': -0.5315,\n",
       "   '<Action.STAND: 1>': -0.09812,\n",
       "   'score_p': 17,\n",
       "   'score_d': 3,\n",
       "   'winning_act': <Action.STAND: 1>,\n",
       "   'winning_act_outcome': -0.09812}),\n",
       " (<function __main__.test_cond.<locals>.cond(h, d)>,\n",
       "  {'<Action.DOUBLE: 3>': -1.05204,\n",
       "   '<Action.HIT: 2>': -0.52256,\n",
       "   '<Action.STAND: 1>': -0.0658,\n",
       "   'score_p': 17,\n",
       "   'score_d': 4,\n",
       "   'winning_act': <Action.STAND: 1>,\n",
       "   'winning_act_outcome': -0.0658}),\n",
       " (<function __main__.test_cond.<locals>.cond(h, d)>,\n",
       "  {'<Action.DOUBLE: 3>': -1.04218,\n",
       "   '<Action.HIT: 2>': -0.52014,\n",
       "   '<Action.STAND: 1>': -0.02817,\n",
       "   'score_p': 17,\n",
       "   'score_d': 5,\n",
       "   'winning_act': <Action.STAND: 1>,\n",
       "   'winning_act_outcome': -0.02817}),\n",
       " (<function __main__.test_cond.<locals>.cond(h, d)>,\n",
       "  {'<Action.DOUBLE: 3>': -1.02604,\n",
       "   '<Action.HIT: 2>': -0.51322,\n",
       "   '<Action.STAND: 1>': 0.00898,\n",
       "   'score_p': 17,\n",
       "   'score_d': 6,\n",
       "   'winning_act': <Action.STAND: 1>,\n",
       "   'winning_act_outcome': 0.00898}),\n",
       " (<function __main__.test_cond.<locals>.cond(h, d)>,\n",
       "  {'<Action.DOUBLE: 3>': -0.95544,\n",
       "   '<Action.HIT: 2>': -0.48802,\n",
       "   '<Action.STAND: 1>': -0.10654,\n",
       "   'score_p': 17,\n",
       "   'score_d': 7,\n",
       "   'winning_act': <Action.STAND: 1>,\n",
       "   'winning_act_outcome': -0.10654}),\n",
       " (<function __main__.test_cond.<locals>.cond(h, d)>,\n",
       "  {'<Action.DOUBLE: 3>': -1.0104,\n",
       "   '<Action.HIT: 2>': -0.50815,\n",
       "   '<Action.STAND: 1>': -0.37828,\n",
       "   'score_p': 17,\n",
       "   'score_d': 8,\n",
       "   'winning_act': <Action.STAND: 1>,\n",
       "   'winning_act_outcome': -0.37828}),\n",
       " (<function __main__.test_cond.<locals>.cond(h, d)>,\n",
       "  {'<Action.DOUBLE: 3>': -1.1062,\n",
       "   '<Action.HIT: 2>': -0.55538,\n",
       "   '<Action.STAND: 1>': -0.42559,\n",
       "   'score_p': 17,\n",
       "   'score_d': 9,\n",
       "   'winning_act': <Action.STAND: 1>,\n",
       "   'winning_act_outcome': -0.42559}),\n",
       " (<function __main__.test_cond.<locals>.cond(h, d)>,\n",
       "  {'<Action.DOUBLE: 3>': -1.2251,\n",
       "   '<Action.HIT: 2>': -0.61343,\n",
       "   '<Action.STAND: 1>': -0.46361,\n",
       "   'score_p': 17,\n",
       "   'score_d': 10,\n",
       "   'winning_act': <Action.STAND: 1>,\n",
       "   'winning_act_outcome': -0.46361}),\n",
       " (<function __main__.test_cond.<locals>.cond(h, d)>,\n",
       "  {'<Action.DOUBLE: 3>': -1.23278,\n",
       "   '<Action.HIT: 2>': -0.62112,\n",
       "   '<Action.STAND: 1>': 0.14001,\n",
       "   'score_p': 18,\n",
       "   'score_d': 2,\n",
       "   'winning_act': <Action.STAND: 1>,\n",
       "   'winning_act_outcome': 0.14001}),\n",
       " (<function __main__.test_cond.<locals>.cond(h, d)>,\n",
       "  {'<Action.DOUBLE: 3>': -1.24384,\n",
       "   '<Action.HIT: 2>': -0.61489,\n",
       "   '<Action.STAND: 1>': 0.15575,\n",
       "   'score_p': 18,\n",
       "   'score_d': 3,\n",
       "   'winning_act': <Action.STAND: 1>,\n",
       "   'winning_act_outcome': 0.15575}),\n",
       " (<function __main__.test_cond.<locals>.cond(h, d)>,\n",
       "  {'<Action.DOUBLE: 3>': -1.24324,\n",
       "   '<Action.HIT: 2>': -0.61241,\n",
       "   '<Action.STAND: 1>': 0.18644,\n",
       "   'score_p': 18,\n",
       "   'score_d': 4,\n",
       "   'winning_act': <Action.STAND: 1>,\n",
       "   'winning_act_outcome': 0.18644}),\n",
       " (<function __main__.test_cond.<locals>.cond(h, d)>,\n",
       "  {'<Action.DOUBLE: 3>': -1.2131,\n",
       "   '<Action.HIT: 2>': -0.60917,\n",
       "   '<Action.STAND: 1>': 0.21636,\n",
       "   'score_p': 18,\n",
       "   'score_d': 5,\n",
       "   'winning_act': <Action.STAND: 1>,\n",
       "   'winning_act_outcome': 0.21636}),\n",
       " (<function __main__.test_cond.<locals>.cond(h, d)>,\n",
       "  {'<Action.DOUBLE: 3>': -1.21936,\n",
       "   '<Action.HIT: 2>': -0.60454,\n",
       "   '<Action.STAND: 1>': 0.28456,\n",
       "   'score_p': 18,\n",
       "   'score_d': 6,\n",
       "   'winning_act': <Action.STAND: 1>,\n",
       "   'winning_act_outcome': 0.28456}),\n",
       " (<function __main__.test_cond.<locals>.cond(h, d)>,\n",
       "  {'<Action.DOUBLE: 3>': -1.17954,\n",
       "   '<Action.HIT: 2>': -0.59194,\n",
       "   '<Action.STAND: 1>': 0.40141,\n",
       "   'score_p': 18,\n",
       "   'score_d': 7,\n",
       "   'winning_act': <Action.STAND: 1>,\n",
       "   'winning_act_outcome': 0.40141}),\n",
       " (<function __main__.test_cond.<locals>.cond(h, d)>,\n",
       "  {'<Action.DOUBLE: 3>': -1.17918,\n",
       "   '<Action.HIT: 2>': -0.58634,\n",
       "   '<Action.STAND: 1>': 0.10364,\n",
       "   'score_p': 18,\n",
       "   'score_d': 8,\n",
       "   'winning_act': <Action.STAND: 1>,\n",
       "   'winning_act_outcome': 0.10364}),\n",
       " (<function __main__.test_cond.<locals>.cond(h, d)>,\n",
       "  {'<Action.DOUBLE: 3>': -1.22594,\n",
       "   '<Action.HIT: 2>': -0.61822,\n",
       "   '<Action.STAND: 1>': -0.18295,\n",
       "   'score_p': 18,\n",
       "   'score_d': 9,\n",
       "   'winning_act': <Action.STAND: 1>,\n",
       "   'winning_act_outcome': -0.18295}),\n",
       " (<function __main__.test_cond.<locals>.cond(h, d)>,\n",
       "  {'<Action.DOUBLE: 3>': -1.34586,\n",
       "   '<Action.HIT: 2>': -0.67302,\n",
       "   '<Action.STAND: 1>': -0.23871,\n",
       "   'score_p': 18,\n",
       "   'score_d': 10,\n",
       "   'winning_act': <Action.STAND: 1>,\n",
       "   'winning_act_outcome': -0.23871})]"
      ]
     },
     "execution_count": 38,
     "metadata": {},
     "output_type": "execute_result"
    }
   ],
   "source": [
    "conds = [find_winning_action(p, d, 100*1000) for p in range(10, 19) for d in range(2, 11)]\n",
    "conds"
   ]
  },
  {
   "cell_type": "code",
   "execution_count": 39,
   "id": "matched-niger",
   "metadata": {
    "ExecuteTime": {
     "end_time": "2021-07-07T19:50:39.125596Z",
     "start_time": "2021-07-07T19:50:39.115030Z"
    }
   },
   "outputs": [
    {
     "data": {
      "text/html": [
       "<div>\n",
       "<style scoped>\n",
       "    .dataframe tbody tr th:only-of-type {\n",
       "        vertical-align: middle;\n",
       "    }\n",
       "\n",
       "    .dataframe tbody tr th {\n",
       "        vertical-align: top;\n",
       "    }\n",
       "\n",
       "    .dataframe thead th {\n",
       "        text-align: right;\n",
       "    }\n",
       "</style>\n",
       "<table border=\"1\" class=\"dataframe\">\n",
       "  <thead>\n",
       "    <tr style=\"text-align: right;\">\n",
       "      <th></th>\n",
       "      <th></th>\n",
       "      <th>&lt;Action.DOUBLE: 3&gt;</th>\n",
       "      <th>&lt;Action.HIT: 2&gt;</th>\n",
       "      <th>&lt;Action.STAND: 1&gt;</th>\n",
       "      <th>winning_act</th>\n",
       "      <th>winning_act_outcome</th>\n",
       "    </tr>\n",
       "    <tr>\n",
       "      <th>score_p</th>\n",
       "      <th>score_d</th>\n",
       "      <th></th>\n",
       "      <th></th>\n",
       "      <th></th>\n",
       "      <th></th>\n",
       "      <th></th>\n",
       "    </tr>\n",
       "  </thead>\n",
       "  <tbody>\n",
       "    <tr>\n",
       "      <th rowspan=\"5\" valign=\"top\">10</th>\n",
       "      <th>2</th>\n",
       "      <td>0.38770</td>\n",
       "      <td>0.15444</td>\n",
       "      <td>-0.26922</td>\n",
       "      <td>Action.DOUBLE</td>\n",
       "      <td>0.38770</td>\n",
       "    </tr>\n",
       "    <tr>\n",
       "      <th>3</th>\n",
       "      <td>0.43644</td>\n",
       "      <td>0.21752</td>\n",
       "      <td>-0.23476</td>\n",
       "      <td>Action.DOUBLE</td>\n",
       "      <td>0.43644</td>\n",
       "    </tr>\n",
       "    <tr>\n",
       "      <th>4</th>\n",
       "      <td>0.48452</td>\n",
       "      <td>0.24156</td>\n",
       "      <td>-0.19304</td>\n",
       "      <td>Action.DOUBLE</td>\n",
       "      <td>0.48452</td>\n",
       "    </tr>\n",
       "    <tr>\n",
       "      <th>5</th>\n",
       "      <td>0.52946</td>\n",
       "      <td>0.26484</td>\n",
       "      <td>-0.15932</td>\n",
       "      <td>Action.DOUBLE</td>\n",
       "      <td>0.52946</td>\n",
       "    </tr>\n",
       "    <tr>\n",
       "      <th>6</th>\n",
       "      <td>0.56378</td>\n",
       "      <td>0.28794</td>\n",
       "      <td>-0.15500</td>\n",
       "      <td>Action.DOUBLE</td>\n",
       "      <td>0.56378</td>\n",
       "    </tr>\n",
       "    <tr>\n",
       "      <th>...</th>\n",
       "      <th>...</th>\n",
       "      <td>...</td>\n",
       "      <td>...</td>\n",
       "      <td>...</td>\n",
       "      <td>...</td>\n",
       "      <td>...</td>\n",
       "    </tr>\n",
       "    <tr>\n",
       "      <th rowspan=\"5\" valign=\"top\">18</th>\n",
       "      <th>6</th>\n",
       "      <td>-1.21936</td>\n",
       "      <td>-0.60454</td>\n",
       "      <td>0.28456</td>\n",
       "      <td>Action.STAND</td>\n",
       "      <td>0.28456</td>\n",
       "    </tr>\n",
       "    <tr>\n",
       "      <th>7</th>\n",
       "      <td>-1.17954</td>\n",
       "      <td>-0.59194</td>\n",
       "      <td>0.40141</td>\n",
       "      <td>Action.STAND</td>\n",
       "      <td>0.40141</td>\n",
       "    </tr>\n",
       "    <tr>\n",
       "      <th>8</th>\n",
       "      <td>-1.17918</td>\n",
       "      <td>-0.58634</td>\n",
       "      <td>0.10364</td>\n",
       "      <td>Action.STAND</td>\n",
       "      <td>0.10364</td>\n",
       "    </tr>\n",
       "    <tr>\n",
       "      <th>9</th>\n",
       "      <td>-1.22594</td>\n",
       "      <td>-0.61822</td>\n",
       "      <td>-0.18295</td>\n",
       "      <td>Action.STAND</td>\n",
       "      <td>-0.18295</td>\n",
       "    </tr>\n",
       "    <tr>\n",
       "      <th>10</th>\n",
       "      <td>-1.34586</td>\n",
       "      <td>-0.67302</td>\n",
       "      <td>-0.23871</td>\n",
       "      <td>Action.STAND</td>\n",
       "      <td>-0.23871</td>\n",
       "    </tr>\n",
       "  </tbody>\n",
       "</table>\n",
       "<p>81 rows × 5 columns</p>\n",
       "</div>"
      ],
      "text/plain": [
       "                 <Action.DOUBLE: 3>  <Action.HIT: 2>  <Action.STAND: 1>  \\\n",
       "score_p score_d                                                           \n",
       "10      2                   0.38770          0.15444           -0.26922   \n",
       "        3                   0.43644          0.21752           -0.23476   \n",
       "        4                   0.48452          0.24156           -0.19304   \n",
       "        5                   0.52946          0.26484           -0.15932   \n",
       "        6                   0.56378          0.28794           -0.15500   \n",
       "...                             ...              ...                ...   \n",
       "18      6                  -1.21936         -0.60454            0.28456   \n",
       "        7                  -1.17954         -0.59194            0.40141   \n",
       "        8                  -1.17918         -0.58634            0.10364   \n",
       "        9                  -1.22594         -0.61822           -0.18295   \n",
       "        10                 -1.34586         -0.67302           -0.23871   \n",
       "\n",
       "                   winning_act  winning_act_outcome  \n",
       "score_p score_d                                      \n",
       "10      2        Action.DOUBLE              0.38770  \n",
       "        3        Action.DOUBLE              0.43644  \n",
       "        4        Action.DOUBLE              0.48452  \n",
       "        5        Action.DOUBLE              0.52946  \n",
       "        6        Action.DOUBLE              0.56378  \n",
       "...                        ...                  ...  \n",
       "18      6         Action.STAND              0.28456  \n",
       "        7         Action.STAND              0.40141  \n",
       "        8         Action.STAND              0.10364  \n",
       "        9         Action.STAND             -0.18295  \n",
       "        10        Action.STAND             -0.23871  \n",
       "\n",
       "[81 rows x 5 columns]"
      ]
     },
     "execution_count": 39,
     "metadata": {},
     "output_type": "execute_result"
    }
   ],
   "source": [
    "outputs = pd.DataFrame([data for _, data in conds]).set_index(['score_p', 'score_d'])\n",
    "outputs"
   ]
  },
  {
   "cell_type": "code",
   "execution_count": 40,
   "id": "handed-springer",
   "metadata": {
    "ExecuteTime": {
     "end_time": "2021-07-07T19:50:39.269173Z",
     "start_time": "2021-07-07T19:50:39.126517Z"
    }
   },
   "outputs": [
    {
     "data": {
      "text/plain": [
       "<AxesSubplot:xlabel='score_d', ylabel='score_p'>"
      ]
     },
     "execution_count": 40,
     "metadata": {},
     "output_type": "execute_result"
    },
    {
     "data": {
      "image/png": "[encoded data removed]",
      "text/plain": [
       "<Figure size 432x288 with 2 Axes>"
      ]
     },
     "metadata": {
      "needs_background": "light"
     },
     "output_type": "display_data"
    }
   ],
   "source": [
    "# Visualize the winning action by starting condition\n",
    "sns.heatmap(outputs['winning_act'].apply(lambda x: x.value).unstack())\n"
   ]
  },
  {
   "cell_type": "code",
   "execution_count": 41,
   "id": "based-creativity",
   "metadata": {
    "ExecuteTime": {
     "end_time": "2021-07-07T19:50:39.384523Z",
     "start_time": "2021-07-07T19:50:39.270107Z"
    }
   },
   "outputs": [
    {
     "data": {
      "text/plain": [
       "<AxesSubplot:xlabel='score_d', ylabel='score_p'>"
      ]
     },
     "execution_count": 41,
     "metadata": {},
     "output_type": "execute_result"
    },
    {
     "data": {
      "image/png": "[encoded data removed]",
      "text/plain": [
       "<Figure size 432x288 with 2 Axes>"
      ]
     },
     "metadata": {
      "needs_background": "light"
     },
     "output_type": "display_data"
    }
   ],
   "source": [
    "# Visualize the average outcome by starting condition\n",
    "sns.heatmap(outputs['winning_act_outcome'].unstack())"
   ]
  },
  {
   "cell_type": "code",
   "execution_count": 42,
   "id": "external-algeria",
   "metadata": {
    "ExecuteTime": {
     "end_time": "2021-07-07T19:50:39.390271Z",
     "start_time": "2021-07-07T19:50:39.385448Z"
    }
   },
   "outputs": [
    {
     "data": {
      "text/plain": [
       "[(<function __main__.test_cond.<locals>.cond(h, d)>, <Action.DOUBLE: 3>),\n",
       " (<function __main__.test_cond.<locals>.cond(h, d)>, <Action.DOUBLE: 3>),\n",
       " (<function __main__.test_cond.<locals>.cond(h, d)>, <Action.DOUBLE: 3>),\n",
       " (<function __main__.test_cond.<locals>.cond(h, d)>, <Action.DOUBLE: 3>),\n",
       " (<function __main__.test_cond.<locals>.cond(h, d)>, <Action.DOUBLE: 3>),\n",
       " (<function __main__.test_cond.<locals>.cond(h, d)>, <Action.DOUBLE: 3>),\n",
       " (<function __main__.test_cond.<locals>.cond(h, d)>, <Action.DOUBLE: 3>),\n",
       " (<function __main__.test_cond.<locals>.cond(h, d)>, <Action.DOUBLE: 3>),\n",
       " (<function __main__.test_cond.<locals>.cond(h, d)>, <Action.HIT: 2>),\n",
       " (<function __main__.test_cond.<locals>.cond(h, d)>, <Action.DOUBLE: 3>),\n",
       " (<function __main__.test_cond.<locals>.cond(h, d)>, <Action.DOUBLE: 3>),\n",
       " (<function __main__.test_cond.<locals>.cond(h, d)>, <Action.DOUBLE: 3>),\n",
       " (<function __main__.test_cond.<locals>.cond(h, d)>, <Action.DOUBLE: 3>),\n",
       " (<function __main__.test_cond.<locals>.cond(h, d)>, <Action.DOUBLE: 3>),\n",
       " (<function __main__.test_cond.<locals>.cond(h, d)>, <Action.DOUBLE: 3>),\n",
       " (<function __main__.test_cond.<locals>.cond(h, d)>, <Action.DOUBLE: 3>),\n",
       " (<function __main__.test_cond.<locals>.cond(h, d)>, <Action.DOUBLE: 3>),\n",
       " (<function __main__.test_cond.<locals>.cond(h, d)>, <Action.HIT: 2>),\n",
       " (<function __main__.test_cond.<locals>.cond(h, d)>, <Action.STAND: 1>),\n",
       " (<function __main__.test_cond.<locals>.cond(h, d)>, <Action.HIT: 2>),\n",
       " (<function __main__.test_cond.<locals>.cond(h, d)>, <Action.STAND: 1>),\n",
       " (<function __main__.test_cond.<locals>.cond(h, d)>, <Action.STAND: 1>),\n",
       " (<function __main__.test_cond.<locals>.cond(h, d)>, <Action.STAND: 1>),\n",
       " (<function __main__.test_cond.<locals>.cond(h, d)>, <Action.HIT: 2>),\n",
       " (<function __main__.test_cond.<locals>.cond(h, d)>, <Action.HIT: 2>),\n",
       " (<function __main__.test_cond.<locals>.cond(h, d)>, <Action.HIT: 2>),\n",
       " (<function __main__.test_cond.<locals>.cond(h, d)>, <Action.HIT: 2>),\n",
       " (<function __main__.test_cond.<locals>.cond(h, d)>, <Action.STAND: 1>),\n",
       " (<function __main__.test_cond.<locals>.cond(h, d)>, <Action.STAND: 1>),\n",
       " (<function __main__.test_cond.<locals>.cond(h, d)>, <Action.STAND: 1>),\n",
       " (<function __main__.test_cond.<locals>.cond(h, d)>, <Action.STAND: 1>),\n",
       " (<function __main__.test_cond.<locals>.cond(h, d)>, <Action.STAND: 1>),\n",
       " (<function __main__.test_cond.<locals>.cond(h, d)>, <Action.HIT: 2>),\n",
       " (<function __main__.test_cond.<locals>.cond(h, d)>, <Action.HIT: 2>),\n",
       " (<function __main__.test_cond.<locals>.cond(h, d)>, <Action.HIT: 2>),\n",
       " (<function __main__.test_cond.<locals>.cond(h, d)>, <Action.HIT: 2>),\n",
       " (<function __main__.test_cond.<locals>.cond(h, d)>, <Action.STAND: 1>),\n",
       " (<function __main__.test_cond.<locals>.cond(h, d)>, <Action.STAND: 1>),\n",
       " (<function __main__.test_cond.<locals>.cond(h, d)>, <Action.STAND: 1>),\n",
       " (<function __main__.test_cond.<locals>.cond(h, d)>, <Action.STAND: 1>),\n",
       " (<function __main__.test_cond.<locals>.cond(h, d)>, <Action.STAND: 1>),\n",
       " (<function __main__.test_cond.<locals>.cond(h, d)>, <Action.HIT: 2>),\n",
       " (<function __main__.test_cond.<locals>.cond(h, d)>, <Action.HIT: 2>),\n",
       " (<function __main__.test_cond.<locals>.cond(h, d)>, <Action.HIT: 2>),\n",
       " (<function __main__.test_cond.<locals>.cond(h, d)>, <Action.HIT: 2>),\n",
       " (<function __main__.test_cond.<locals>.cond(h, d)>, <Action.STAND: 1>),\n",
       " (<function __main__.test_cond.<locals>.cond(h, d)>, <Action.STAND: 1>),\n",
       " (<function __main__.test_cond.<locals>.cond(h, d)>, <Action.STAND: 1>),\n",
       " (<function __main__.test_cond.<locals>.cond(h, d)>, <Action.STAND: 1>),\n",
       " (<function __main__.test_cond.<locals>.cond(h, d)>, <Action.STAND: 1>),\n",
       " (<function __main__.test_cond.<locals>.cond(h, d)>, <Action.HIT: 2>),\n",
       " (<function __main__.test_cond.<locals>.cond(h, d)>, <Action.HIT: 2>),\n",
       " (<function __main__.test_cond.<locals>.cond(h, d)>, <Action.HIT: 2>),\n",
       " (<function __main__.test_cond.<locals>.cond(h, d)>, <Action.HIT: 2>),\n",
       " (<function __main__.test_cond.<locals>.cond(h, d)>, <Action.STAND: 1>),\n",
       " (<function __main__.test_cond.<locals>.cond(h, d)>, <Action.STAND: 1>),\n",
       " (<function __main__.test_cond.<locals>.cond(h, d)>, <Action.STAND: 1>),\n",
       " (<function __main__.test_cond.<locals>.cond(h, d)>, <Action.STAND: 1>),\n",
       " (<function __main__.test_cond.<locals>.cond(h, d)>, <Action.STAND: 1>),\n",
       " (<function __main__.test_cond.<locals>.cond(h, d)>, <Action.HIT: 2>),\n",
       " (<function __main__.test_cond.<locals>.cond(h, d)>, <Action.HIT: 2>),\n",
       " (<function __main__.test_cond.<locals>.cond(h, d)>, <Action.HIT: 2>),\n",
       " (<function __main__.test_cond.<locals>.cond(h, d)>, <Action.STAND: 1>),\n",
       " (<function __main__.test_cond.<locals>.cond(h, d)>, <Action.STAND: 1>),\n",
       " (<function __main__.test_cond.<locals>.cond(h, d)>, <Action.STAND: 1>),\n",
       " (<function __main__.test_cond.<locals>.cond(h, d)>, <Action.STAND: 1>),\n",
       " (<function __main__.test_cond.<locals>.cond(h, d)>, <Action.STAND: 1>),\n",
       " (<function __main__.test_cond.<locals>.cond(h, d)>, <Action.STAND: 1>),\n",
       " (<function __main__.test_cond.<locals>.cond(h, d)>, <Action.STAND: 1>),\n",
       " (<function __main__.test_cond.<locals>.cond(h, d)>, <Action.STAND: 1>),\n",
       " (<function __main__.test_cond.<locals>.cond(h, d)>, <Action.STAND: 1>),\n",
       " (<function __main__.test_cond.<locals>.cond(h, d)>, <Action.STAND: 1>),\n",
       " (<function __main__.test_cond.<locals>.cond(h, d)>, <Action.STAND: 1>),\n",
       " (<function __main__.test_cond.<locals>.cond(h, d)>, <Action.STAND: 1>),\n",
       " (<function __main__.test_cond.<locals>.cond(h, d)>, <Action.STAND: 1>),\n",
       " (<function __main__.test_cond.<locals>.cond(h, d)>, <Action.STAND: 1>),\n",
       " (<function __main__.test_cond.<locals>.cond(h, d)>, <Action.STAND: 1>),\n",
       " (<function __main__.test_cond.<locals>.cond(h, d)>, <Action.STAND: 1>),\n",
       " (<function __main__.test_cond.<locals>.cond(h, d)>, <Action.STAND: 1>),\n",
       " (<function __main__.test_cond.<locals>.cond(h, d)>, <Action.STAND: 1>),\n",
       " (<function __main__.test_cond.<locals>.cond(h, d)>, <Action.STAND: 1>)]"
      ]
     },
     "execution_count": 42,
     "metadata": {},
     "output_type": "execute_result"
    }
   ],
   "source": [
    "[(cond, output['winning_act']) for cond, output in conds]"
   ]
  },
  {
   "cell_type": "code",
   "execution_count": 43,
   "id": "portable-niger",
   "metadata": {
    "ExecuteTime": {
     "end_time": "2021-07-07T19:50:39.393864Z",
     "start_time": "2021-07-07T19:50:39.391755Z"
    }
   },
   "outputs": [],
   "source": [
    "strat_derived = generate_strat_conditional(strat_simple, [(cond, output['winning_act']) for cond, output in conds])\n",
    "strat_derived.name = 'strat_derived'"
   ]
  },
  {
   "cell_type": "code",
   "execution_count": 44,
   "id": "english-distance",
   "metadata": {
    "ExecuteTime": {
     "end_time": "2021-07-07T19:50:39.424726Z",
     "start_time": "2021-07-07T19:50:39.395038Z"
    },
    "scrolled": true
   },
   "outputs": [
    {
     "data": {
      "text/plain": [
       "(        strategy hand_start  dealer_card            hand_end   dealer_hand  \\\n",
       " 0         simple    [11, 8]            6             [11, 8]    [6, 9, 12]   \n",
       " 1  strat_derived    [11, 8]            6             [11, 8]    [6, 9, 12]   \n",
       " 2         simple    [10, 6]            4             [10, 6]  [4, 1, 3, 9]   \n",
       " 3  strat_derived    [10, 6]            4             [10, 6]  [4, 1, 3, 9]   \n",
       " 4         simple     [1, 4]            4              [1, 4]  [4, 9, 1, 6]   \n",
       " 5  strat_derived     [1, 4]            4              [1, 4]  [4, 9, 1, 6]   \n",
       " 6         simple     [7, 2]           10  [7, 2, 3, 2, 2, 8]       [10, 8]   \n",
       " 7  strat_derived     [7, 2]           10        [7, 2, 3, 6]       [10, 8]   \n",
       " 8         simple     [7, 1]           12              [7, 1]    [12, 5, 9]   \n",
       " 9  strat_derived     [7, 1]           12              [7, 1]    [12, 5, 9]   \n",
       " \n",
       "             outcome  outcome_value outcome_name  \n",
       " 0   HandOutcome.WIN            1.0          WIN  \n",
       " 1   HandOutcome.WIN            1.0          WIN  \n",
       " 2  HandOutcome.LOSE           -1.0         LOSE  \n",
       " 3  HandOutcome.LOSE           -1.0         LOSE  \n",
       " 4  HandOutcome.LOSE           -1.0         LOSE  \n",
       " 5  HandOutcome.LOSE           -1.0         LOSE  \n",
       " 6  HandOutcome.LOSE           -1.0         LOSE  \n",
       " 7  HandOutcome.PUSH            0.0         PUSH  \n",
       " 8   HandOutcome.WIN            1.0          WIN  \n",
       " 9   HandOutcome.WIN            1.0          WIN  ,\n",
       "                     len                                      mean_outcome\n",
       " outcome_name  BLACKJACK LOSE LOSE_DOUBLE PUSH WIN WIN_DOUBLE             \n",
       " strategy                                                                 \n",
       " simple                4   46           2    9  38          1        -0.04\n",
       " strat_derived         4   46           0    9  39          2         0.03)"
      ]
     },
     "execution_count": 44,
     "metadata": {},
     "output_type": "execute_result"
    }
   ],
   "source": [
    "sims = run_n_sim_trials([strat_simple, strat_derived], 100)\n",
    "sims.head(10), summarize_totals(sims)"
   ]
  },
  {
   "cell_type": "code",
   "execution_count": 46,
   "id": "mexican-tuning",
   "metadata": {
    "ExecuteTime": {
     "end_time": "2021-07-07T19:51:52.554881Z",
     "start_time": "2021-07-07T19:50:45.962198Z"
    },
    "scrolled": true
   },
   "outputs": [
    {
     "data": {
      "text/plain": [
       "(        strategy hand_start  dealer_card    hand_end    dealer_hand  \\\n",
       " 0         simple    [7, 13]           13     [7, 13]        [13, 8]   \n",
       " 1  strat_derived    [7, 13]           13     [7, 13]        [13, 8]   \n",
       " 2         simple    [13, 5]            6     [13, 5]      [6, 7, 8]   \n",
       " 3  strat_derived    [13, 5]            6     [13, 5]      [6, 7, 8]   \n",
       " 4         simple     [6, 6]            3      [6, 6]   [3, 1, 6, 9]   \n",
       " 5  strat_derived     [6, 6]            3  [6, 6, 10]   [3, 1, 6, 9]   \n",
       " 6         simple   [10, 13]            3    [10, 13]  [3, 2, 13, 9]   \n",
       " 7  strat_derived   [10, 13]            3    [10, 13]  [3, 2, 13, 9]   \n",
       " 8         simple   [12, 12]            9    [12, 12]         [9, 9]   \n",
       " 9  strat_derived   [12, 12]            9    [12, 12]         [9, 9]   \n",
       " \n",
       "             outcome  outcome_value outcome_name  \n",
       " 0  HandOutcome.LOSE           -1.0         LOSE  \n",
       " 1  HandOutcome.LOSE           -1.0         LOSE  \n",
       " 2  HandOutcome.LOSE           -1.0         LOSE  \n",
       " 3  HandOutcome.LOSE           -1.0         LOSE  \n",
       " 4  HandOutcome.LOSE           -1.0         LOSE  \n",
       " 5  HandOutcome.LOSE           -1.0         LOSE  \n",
       " 6   HandOutcome.WIN            1.0          WIN  \n",
       " 7   HandOutcome.WIN            1.0          WIN  \n",
       " 8   HandOutcome.WIN            1.0          WIN  \n",
       " 9   HandOutcome.WIN            1.0          WIN  ,\n",
       "                     len                                                \\\n",
       " outcome_name  BLACKJACK    LOSE LOSE_DOUBLE   PUSH     WIN WIN_DOUBLE   \n",
       " strategy                                                                \n",
       " simple            45134  461925       24632  86566  348651      33092   \n",
       " strat_derived     45134  460465       26825  82375  344216      40985   \n",
       " \n",
       "               mean_outcome  \n",
       " outcome_name                \n",
       " strategy                    \n",
       " simple           -0.028653  \n",
       " strat_derived    -0.020228  )"
      ]
     },
     "execution_count": 46,
     "metadata": {},
     "output_type": "execute_result"
    }
   ],
   "source": [
    "sims = run_n_sim_trials([strat_simple, strat_derived], 1000*1000)\n",
    "sims.head(10), summarize_totals(sims)"
   ]
  },
  {
   "cell_type": "code",
   "execution_count": null,
   "id": "timely-bicycle",
   "metadata": {},
   "outputs": [],
   "source": []
  }
 ],
 "metadata": {
  "kernelspec": {
   "display_name": "Python 3",
   "language": "python",
   "name": "python3"
  },
  "language_info": {
   "codemirror_mode": {
    "name": "ipython",
    "version": 3
   },
   "file_extension": ".py",
   "mimetype": "text/x-python",
   "name": "python",
   "nbconvert_exporter": "python",
   "pygments_lexer": "ipython3",
   "version": "3.8.8"
  }
 },
 "nbformat": 4,
 "nbformat_minor": 5
}
