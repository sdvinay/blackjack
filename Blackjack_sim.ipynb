{
 "cells": [
  {
   "cell_type": "code",
   "execution_count": 1,
   "id": "middle-scenario",
   "metadata": {
    "ExecuteTime": {
     "end_time": "2021-07-08T03:03:41.374899Z",
     "start_time": "2021-07-08T03:03:40.549461Z"
    }
   },
   "outputs": [],
   "source": [
    "import pandas as pd\n",
    "import matplotlib.pyplot as plt\n",
    "import seaborn as sns\n",
    "\n",
    "\n",
    "import blackjack as bj\n",
    "from blackjack import Hand, HandScore, Action, make_hand"
   ]
  },
  {
   "cell_type": "code",
   "execution_count": 2,
   "id": "manufactured-reading",
   "metadata": {
    "ExecuteTime": {
     "end_time": "2021-07-08T03:03:41.378819Z",
     "start_time": "2021-07-08T03:03:41.376040Z"
    }
   },
   "outputs": [
    {
     "data": {
      "text/plain": [
       "s11"
      ]
     },
     "execution_count": 2,
     "metadata": {},
     "output_type": "execute_result"
    }
   ],
   "source": [
    "h = HandScore(11, True)\n",
    "h"
   ]
  },
  {
   "cell_type": "code",
   "execution_count": 3,
   "id": "technological-difficulty",
   "metadata": {
    "ExecuteTime": {
     "end_time": "2021-07-08T03:03:41.383144Z",
     "start_time": "2021-07-08T03:03:41.381273Z"
    }
   },
   "outputs": [
    {
     "data": {
      "text/plain": [
       "s21"
      ]
     },
     "execution_count": 3,
     "metadata": {},
     "output_type": "execute_result"
    }
   ],
   "source": [
    "h.add_card(10)"
   ]
  },
  {
   "cell_type": "code",
   "execution_count": 4,
   "id": "norwegian-skating",
   "metadata": {
    "ExecuteTime": {
     "end_time": "2021-07-08T03:03:41.387139Z",
     "start_time": "2021-07-08T03:03:41.384240Z"
    }
   },
   "outputs": [
    {
     "data": {
      "text/plain": [
       "h21"
      ]
     },
     "execution_count": 4,
     "metadata": {},
     "output_type": "execute_result"
    }
   ],
   "source": [
    "h.add_card(10).add_card(10)"
   ]
  },
  {
   "cell_type": "code",
   "execution_count": 5,
   "id": "demonstrated-overall",
   "metadata": {
    "ExecuteTime": {
     "end_time": "2021-07-08T03:03:41.390461Z",
     "start_time": "2021-07-08T03:03:41.388131Z"
    }
   },
   "outputs": [
    {
     "data": {
      "text/plain": [
       "s11"
      ]
     },
     "execution_count": 5,
     "metadata": {},
     "output_type": "execute_result"
    }
   ],
   "source": [
    "h"
   ]
  },
  {
   "cell_type": "code",
   "execution_count": 6,
   "id": "inappropriate-coral",
   "metadata": {
    "ExecuteTime": {
     "end_time": "2021-07-08T03:03:41.393763Z",
     "start_time": "2021-07-08T03:03:41.391558Z"
    }
   },
   "outputs": [
    {
     "data": {
      "text/plain": [
       "s14"
      ]
     },
     "execution_count": 6,
     "metadata": {},
     "output_type": "execute_result"
    }
   ],
   "source": [
    "h.add_card(3)"
   ]
  },
  {
   "cell_type": "code",
   "execution_count": 7,
   "id": "oriental-chicken",
   "metadata": {
    "ExecuteTime": {
     "end_time": "2021-07-08T03:03:41.399040Z",
     "start_time": "2021-07-08T03:03:41.396871Z"
    }
   },
   "outputs": [
    {
     "data": {
      "text/plain": [
       "h14"
      ]
     },
     "execution_count": 7,
     "metadata": {},
     "output_type": "execute_result"
    }
   ],
   "source": [
    "h.add_card(3).add_card(10)"
   ]
  },
  {
   "cell_type": "code",
   "execution_count": 8,
   "id": "dress-jackson",
   "metadata": {
    "ExecuteTime": {
     "end_time": "2021-07-08T03:03:41.403584Z",
     "start_time": "2021-07-08T03:03:41.400824Z"
    }
   },
   "outputs": [
    {
     "data": {
      "text/plain": [
       "[h00,\n",
       " h01,\n",
       " h02,\n",
       " h03,\n",
       " h04,\n",
       " h05,\n",
       " h06,\n",
       " h07,\n",
       " h08,\n",
       " h09,\n",
       " h10,\n",
       " h11,\n",
       " h12,\n",
       " h13,\n",
       " h14,\n",
       " h15,\n",
       " h16,\n",
       " h17,\n",
       " h18,\n",
       " h19,\n",
       " h20,\n",
       " h21,\n",
       " h22,\n",
       " s11,\n",
       " s12,\n",
       " s13,\n",
       " s14,\n",
       " s15,\n",
       " s16,\n",
       " s17,\n",
       " s18,\n",
       " s19,\n",
       " s20,\n",
       " s21]"
      ]
     },
     "execution_count": 8,
     "metadata": {},
     "output_type": "execute_result"
    }
   ],
   "source": [
    "all_scores = [HandScore(i, False) for i in range(0, 23)] + [HandScore(i, True) for i in range(11, 22)]\n",
    "all_scores"
   ]
  },
  {
   "cell_type": "code",
   "execution_count": 9,
   "id": "initial-harrison",
   "metadata": {
    "ExecuteTime": {
     "end_time": "2021-07-08T03:03:41.406742Z",
     "start_time": "2021-07-08T03:03:41.404538Z"
    }
   },
   "outputs": [
    {
     "data": {
      "text/plain": [
       "Hand(score=h00, cards=[], doubled=False)"
      ]
     },
     "execution_count": 9,
     "metadata": {},
     "output_type": "execute_result"
    }
   ],
   "source": [
    "h = Hand()\n",
    "h"
   ]
  },
  {
   "cell_type": "code",
   "execution_count": 10,
   "id": "reduced-cover",
   "metadata": {
    "ExecuteTime": {
     "end_time": "2021-07-08T03:03:41.412150Z",
     "start_time": "2021-07-08T03:03:41.408620Z"
    }
   },
   "outputs": [
    {
     "data": {
      "text/plain": [
       "Hand(score=h06, cards=[6], doubled=False)"
      ]
     },
     "execution_count": 10,
     "metadata": {},
     "output_type": "execute_result"
    }
   ],
   "source": [
    "h.add_card(6) # start a hand with a 6"
   ]
  },
  {
   "cell_type": "code",
   "execution_count": 11,
   "id": "aging-green",
   "metadata": {
    "ExecuteTime": {
     "end_time": "2021-07-08T03:03:41.415301Z",
     "start_time": "2021-07-08T03:03:41.413170Z"
    }
   },
   "outputs": [
    {
     "data": {
      "text/plain": [
       "Hand(score=h16, cards=[6, 11], doubled=False)"
      ]
     },
     "execution_count": 11,
     "metadata": {},
     "output_type": "execute_result"
    }
   ],
   "source": [
    "h.add_card(11) # show that J (11) counts as 10 points"
   ]
  },
  {
   "cell_type": "code",
   "execution_count": 12,
   "id": "humanitarian-chair",
   "metadata": {
    "ExecuteTime": {
     "end_time": "2021-07-08T03:03:41.418517Z",
     "start_time": "2021-07-08T03:03:41.416206Z"
    }
   },
   "outputs": [
    {
     "data": {
      "text/plain": [
       "(Hand(score=h22, cards=[6, 11, 7], doubled=False), True)"
      ]
     },
     "execution_count": 12,
     "metadata": {},
     "output_type": "execute_result"
    }
   ],
   "source": [
    "h.add_card(7), bj.is_busted(h) # bust (show that 23 is counted as 22)"
   ]
  },
  {
   "cell_type": "code",
   "execution_count": 13,
   "id": "accompanied-perspective",
   "metadata": {
    "ExecuteTime": {
     "end_time": "2021-07-08T03:03:41.421480Z",
     "start_time": "2021-07-08T03:03:41.419478Z"
    }
   },
   "outputs": [
    {
     "data": {
      "text/plain": [
       "Hand(score=s11, cards=[1], doubled=False)"
      ]
     },
     "execution_count": 13,
     "metadata": {},
     "output_type": "execute_result"
    }
   ],
   "source": [
    "# OK, now let's try another hand with aces\n",
    "h = Hand()\n",
    "h.add_card(1) # should be a soft 11"
   ]
  },
  {
   "cell_type": "code",
   "execution_count": 14,
   "id": "exotic-checkout",
   "metadata": {
    "ExecuteTime": {
     "end_time": "2021-07-08T03:03:41.425615Z",
     "start_time": "2021-07-08T03:03:41.422305Z"
    }
   },
   "outputs": [
    {
     "data": {
      "text/plain": [
       "Hand(score=s12, cards=[1, 1], doubled=False)"
      ]
     },
     "execution_count": 14,
     "metadata": {},
     "output_type": "execute_result"
    }
   ],
   "source": [
    "h.add_card(1) # two aces: should be a soft 12"
   ]
  },
  {
   "cell_type": "code",
   "execution_count": 15,
   "id": "italian-beads",
   "metadata": {
    "ExecuteTime": {
     "end_time": "2021-07-08T03:03:41.430133Z",
     "start_time": "2021-07-08T03:03:41.427298Z"
    }
   },
   "outputs": [
    {
     "data": {
      "text/plain": [
       "Hand(score=h12, cards=[1, 1, 11], doubled=False)"
      ]
     },
     "execution_count": 15,
     "metadata": {},
     "output_type": "execute_result"
    }
   ],
   "source": [
    "h.add_card(11) # two aces and a J: should be a hard 12"
   ]
  },
  {
   "cell_type": "code",
   "execution_count": 16,
   "id": "neutral-sugar",
   "metadata": {
    "ExecuteTime": {
     "end_time": "2021-07-08T03:03:41.433846Z",
     "start_time": "2021-07-08T03:03:41.431299Z"
    }
   },
   "outputs": [
    {
     "data": {
      "text/plain": [
       "(Hand(score=s21, cards=[1, 10], doubled=False), True)"
      ]
     },
     "execution_count": 16,
     "metadata": {},
     "output_type": "execute_result"
    }
   ],
   "source": [
    "# OK, now let's try another hand with a blackjack\n",
    "h = Hand()\n",
    "h.add_card(1) # should be a soft 11\n",
    "h.add_card(10)\n",
    "h, bj.is_blackjack(h)"
   ]
  },
  {
   "cell_type": "markdown",
   "id": "dental-kelly",
   "metadata": {},
   "source": [
    "## Now define gameplay and strategy"
   ]
  },
  {
   "cell_type": "code",
   "execution_count": 17,
   "id": "secondary-crown",
   "metadata": {
    "ExecuteTime": {
     "end_time": "2021-07-08T03:03:41.437257Z",
     "start_time": "2021-07-08T03:03:41.434803Z"
    }
   },
   "outputs": [
    {
     "data": {
      "text/plain": [
       "[4, 9, 6, 11, 12, 10, 6, 3, 13, 7]"
      ]
     },
     "execution_count": 17,
     "metadata": {},
     "output_type": "execute_result"
    }
   ],
   "source": [
    "[bj.deal_card() for _ in range(10)]"
   ]
  },
  {
   "cell_type": "code",
   "execution_count": null,
   "id": "adopted-miami",
   "metadata": {
    "ExecuteTime": {
     "end_time": "2021-07-07T22:43:27.944357Z",
     "start_time": "2021-07-07T22:43:27.941879Z"
    }
   },
   "outputs": [],
   "source": []
  },
  {
   "cell_type": "code",
   "execution_count": null,
   "id": "violent-quality",
   "metadata": {
    "ExecuteTime": {
     "end_time": "2021-07-07T22:43:27.953435Z",
     "start_time": "2021-07-07T22:43:27.950609Z"
    }
   },
   "outputs": [],
   "source": []
  },
  {
   "cell_type": "code",
   "execution_count": 18,
   "id": "atomic-plaintiff",
   "metadata": {
    "ExecuteTime": {
     "end_time": "2021-07-08T03:03:41.441479Z",
     "start_time": "2021-07-08T03:03:41.438170Z"
    }
   },
   "outputs": [
    {
     "data": {
      "text/plain": [
       "[('strat_nobust',\n",
       "  Hand(score=h15, cards=[7, 8], doubled=False),\n",
       "  Hand(score=h22, cards=[11, 4, 1, 10], doubled=False),\n",
       "  <HandOutcome.WIN: 1>),\n",
       " ('strat_nobust',\n",
       "  Hand(score=h15, cards=[7, 8], doubled=False),\n",
       "  Hand(score=h22, cards=[11, 4, 1, 10], doubled=False),\n",
       "  <HandOutcome.WIN: 1>)]"
      ]
     },
     "execution_count": 18,
     "metadata": {},
     "output_type": "execute_result"
    }
   ],
   "source": [
    "bj.play_one_round([bj.strat_nobust, bj.strat_nobust])"
   ]
  },
  {
   "cell_type": "markdown",
   "id": "looking-jewelry",
   "metadata": {},
   "source": [
    "## Aggregate and summarize the data from the simulations"
   ]
  },
  {
   "cell_type": "code",
   "execution_count": 19,
   "id": "juvenile-joshua",
   "metadata": {
    "ExecuteTime": {
     "end_time": "2021-07-08T03:03:41.449555Z",
     "start_time": "2021-07-08T03:03:41.444899Z"
    }
   },
   "outputs": [
    {
     "data": {
      "text/plain": [
       "[{'strategy': 'strat_nobust',\n",
       "  'hand_start': [8, 5],\n",
       "  'dealer_card': 13,\n",
       "  'hand_end': [8, 5],\n",
       "  'dealer_hand': [13, 11],\n",
       "  'outcome': <HandOutcome.LOSE: -1>},\n",
       " {'strategy': 'strat_dealer',\n",
       "  'hand_start': [8, 5],\n",
       "  'dealer_card': 13,\n",
       "  'hand_end': [8, 5, 11],\n",
       "  'dealer_hand': [13, 11],\n",
       "  'outcome': <HandOutcome.LOSE: -1>}]"
      ]
     },
     "execution_count": 19,
     "metadata": {},
     "output_type": "execute_result"
    }
   ],
   "source": [
    "\n",
    "def generate_row_from_player(player):\n",
    "    (strat, hand_p, hand_d, outcome) = player\n",
    "    return {'strategy': strat, 'hand_start': hand_p.cards[:2], 'dealer_card': hand_d.cards[0], 'hand_end': hand_p.cards, 'dealer_hand': hand_d.cards, 'outcome': outcome}\n",
    "\n",
    "def generate_rows_from_round(r):\n",
    "    return [generate_row_from_player(player) for player in r]\n",
    "\n",
    "strat_nobust = bj.strat_nobust\n",
    "strat_dealer = bj.strat_dealer\n",
    "generate_rows_from_round(bj.play_one_round([bj.strat_nobust, bj.strat_dealer]))\n"
   ]
  },
  {
   "cell_type": "code",
   "execution_count": 20,
   "id": "approved-broadway",
   "metadata": {
    "ExecuteTime": {
     "end_time": "2021-07-08T03:03:48.707565Z",
     "start_time": "2021-07-08T03:03:41.450528Z"
    }
   },
   "outputs": [
    {
     "name": "stdout",
     "output_type": "stream",
     "text": [
      " "
     ]
    }
   ],
   "source": [
    "def run_n_sim_trials(strats, n):\n",
    "    sims = [generate_rows_from_round(bj.play_one_round(strats)) for _ in range(n)]\n",
    "    results = pd.DataFrame([player for round in sims for player in round])\n",
    "    results['outcome_value'] = results['outcome'].apply(lambda x: x.value)\n",
    "    results['outcome_name'] = results['outcome'].apply(lambda x: str(x)[12:])\n",
    "    return results\n",
    "\n",
    "def summarize_totals(sims):\n",
    "    def outcome_name(x): return x.head(1) # The function name will be used as the column name\n",
    "    outcome_counts = sims.groupby(['strategy', 'outcome_value'])['outcome_name'].agg([len, outcome_name])\n",
    "    outcome_summary = outcome_counts.reset_index().set_index('strategy').drop(['outcome_value'], axis=1).pivot(columns=['outcome_name'])\n",
    "\n",
    "    # The empty cells are NaNs; fill the NaNs and convert back to int\n",
    "    for col in outcome_summary.columns:\n",
    "        outcome_summary[col] = outcome_summary[col].fillna(0).apply(int)\n",
    "        \n",
    "    outcome_summary['mean_outcome'] = sims.groupby('strategy')['outcome_value'].mean()\n",
    "    \n",
    "    return outcome_summary\n",
    "\n",
    "\n",
    "sim_results = run_n_sim_trials([strat_nobust, strat_dealer], 100000)\n",
    "%prun -s cumulative sim_results, summarize_totals(sim_results)"
   ]
  },
  {
   "cell_type": "code",
   "execution_count": 21,
   "id": "varied-devil",
   "metadata": {
    "ExecuteTime": {
     "end_time": "2021-07-08T03:03:48.783036Z",
     "start_time": "2021-07-08T03:03:48.708799Z"
    }
   },
   "outputs": [
    {
     "data": {
      "text/plain": [
       "(  strategy hand_start  dealer_card       hand_end    dealer_hand  \\\n",
       " 0   simple     [4, 1]            2  [4, 1, 10, 9]  [2, 2, 13, 7]   \n",
       " 1   simple    [5, 11]            2  [5, 11, 1, 4]    [2, 11, 12]   \n",
       " 2   simple     [6, 5]            7      [6, 5, 7]     [7, 6, 13]   \n",
       " 3   simple     [2, 3]            5     [2, 3, 11]    [5, 10, 11]   \n",
       " 4   simple     [3, 2]            1   [3, 2, 9, 9]         [1, 6]   \n",
       " 5   simple     [8, 1]            2         [8, 1]  [2, 2, 8, 10]   \n",
       " 6   simple    [1, 12]           11        [1, 12]       [11, 12]   \n",
       " 7   simple    [9, 13]            3        [9, 13]  [3, 3, 2, 11]   \n",
       " 8   simple     [5, 7]            9  [5, 7, 1, 11]        [9, 12]   \n",
       " 9   simple     [3, 3]            8  [3, 3, 3, 12]        [8, 11]   \n",
       " \n",
       "                   outcome  outcome_value outcome_name  \n",
       " 0        HandOutcome.LOSE           -1.0         LOSE  \n",
       " 1         HandOutcome.WIN            1.0          WIN  \n",
       " 2  HandOutcome.WIN_DOUBLE            2.0   WIN_DOUBLE  \n",
       " 3         HandOutcome.WIN            1.0          WIN  \n",
       " 4        HandOutcome.LOSE           -1.0         LOSE  \n",
       " 5         HandOutcome.WIN            1.0          WIN  \n",
       " 6   HandOutcome.BLACKJACK            1.5    BLACKJACK  \n",
       " 7         HandOutcome.WIN            1.0          WIN  \n",
       " 8        HandOutcome.LOSE           -1.0         LOSE  \n",
       " 9         HandOutcome.WIN            1.0          WIN  ,\n",
       "                    len                                       mean_outcome\n",
       " outcome_name BLACKJACK LOSE LOSE_DOUBLE PUSH  WIN WIN_DOUBLE             \n",
       " strategy                                                                 \n",
       " simple              44  473          21   71  357         34       -0.024)"
      ]
     },
     "execution_count": 21,
     "metadata": {},
     "output_type": "execute_result"
    }
   ],
   "source": [
    "def strat_simple(score_p, score_d):\n",
    "    if score_p.points == 11:  return Action.DOUBLE\n",
    "    if score_p.points >= 17:  return Action.STAND\n",
    "    if score_p.points <= 11:  return Action.HIT\n",
    "    if score_d.points in (range(3,7)):  return Action.STAND\n",
    "    else:  return Action.HIT\n",
    "        \n",
    "strat_simple.name = 'simple'\n",
    "\n",
    "\n",
    "sims = run_n_sim_trials([strat_simple], 1000)\n",
    "sims.head(10), summarize_totals(sims)"
   ]
  },
  {
   "cell_type": "code",
   "execution_count": 22,
   "id": "confirmed-passing",
   "metadata": {
    "ExecuteTime": {
     "end_time": "2021-07-08T03:03:50.919787Z",
     "start_time": "2021-07-08T03:03:48.787429Z"
    }
   },
   "outputs": [
    {
     "name": "stdout",
     "output_type": "stream",
     "text": [
      " "
     ]
    }
   ],
   "source": [
    "%prun -s cumulative summarize_totals(run_n_sim_trials([strat_dealer, strat_nobust, strat_simple], 10000))\n"
   ]
  },
  {
   "cell_type": "markdown",
   "id": "fluid-writing",
   "metadata": {},
   "source": [
    "## Simulate specific situations to determine strategy"
   ]
  },
  {
   "cell_type": "code",
   "execution_count": 23,
   "id": "otherwise-sheffield",
   "metadata": {
    "ExecuteTime": {
     "end_time": "2021-07-08T03:03:50.924508Z",
     "start_time": "2021-07-08T03:03:50.922154Z"
    }
   },
   "outputs": [
    {
     "data": {
      "text/plain": [
       "(Hand(score=h12, cards=[5, 7], doubled=False),\n",
       " Hand(score=h02, cards=[2], doubled=False))"
      ]
     },
     "execution_count": 23,
     "metadata": {},
     "output_type": "execute_result"
    }
   ],
   "source": [
    "# 12 vs deuce\n",
    "\n",
    "hand_p = make_hand([5, 7])\n",
    "hand_d = make_hand([2])\n",
    "\n",
    "hand_p, hand_d"
   ]
  },
  {
   "cell_type": "code",
   "execution_count": 24,
   "id": "gross-kennedy",
   "metadata": {
    "ExecuteTime": {
     "end_time": "2021-07-08T03:03:50.927938Z",
     "start_time": "2021-07-08T03:03:50.925445Z"
    }
   },
   "outputs": [],
   "source": [
    "# Implement a strategy that composes conditions and actions\n",
    "\n",
    "def cond_12_2(score_p, score_d):\n",
    "    return score_p.points == 12 and score_d.points == 2 and not score_p.soft\n",
    "conditions = [(cond_12_2, Action.STAND)]\n",
    "\n",
    "def generate_strat_conditional(strat_base, conditions):\n",
    "    def strat_cond(score_p, score_d):\n",
    "        for (condition, action) in conditions:\n",
    "            if condition(score_p, score_d): return action\n",
    "        return strat_base(score_p, score_d)\n",
    "    strat_cond.name = 'strat_cond'\n",
    "    return strat_cond\n",
    "    \n",
    "strat_cond = generate_strat_conditional(strat_simple, conditions)"
   ]
  },
  {
   "cell_type": "code",
   "execution_count": 25,
   "id": "virgin-mining",
   "metadata": {
    "ExecuteTime": {
     "end_time": "2021-07-08T03:03:50.935782Z",
     "start_time": "2021-07-08T03:03:50.929044Z"
    }
   },
   "outputs": [
    {
     "data": {
      "text/plain": [
       "[<function __main__.generate_strat_conditional.<locals>.strat_cond(score_p, score_d)>,\n",
       " <function __main__.generate_strat_conditional.<locals>.strat_cond(score_p, score_d)>,\n",
       " <function __main__.generate_strat_conditional.<locals>.strat_cond(score_p, score_d)>]"
      ]
     },
     "execution_count": 25,
     "metadata": {},
     "output_type": "execute_result"
    }
   ],
   "source": [
    "def gen_cond_strategies(strat_base, condition, actions):\n",
    "    def gen_strat_action(strat_base, condition, action):\n",
    "        strat = generate_strat_conditional(strat_base, [(condition, action)])\n",
    "        strat.name = repr(action)\n",
    "        return strat\n",
    "    \n",
    "    strats = [gen_strat_action(strat_base, condition, a) for a in actions]\n",
    "    return strats\n",
    "    \n",
    "\n",
    "\n",
    "\n",
    "strats = gen_cond_strategies(strat_simple, cond_12_2, [Action.HIT, Action.STAND, Action.DOUBLE])\n",
    "strats"
   ]
  },
  {
   "cell_type": "code",
   "execution_count": 26,
   "id": "acoustic-warrant",
   "metadata": {
    "ExecuteTime": {
     "end_time": "2021-07-08T03:03:50.941481Z",
     "start_time": "2021-07-08T03:03:50.937797Z"
    }
   },
   "outputs": [
    {
     "data": {
      "text/plain": [
       "[('<Action.HIT: 2>',\n",
       "  Hand(score=h17, cards=[5, 7, 5], doubled=False),\n",
       "  Hand(score=h20, cards=[2, 8, 13], doubled=False),\n",
       "  <HandOutcome.LOSE: -1>),\n",
       " ('<Action.STAND: 1>',\n",
       "  Hand(score=h12, cards=[5, 7], doubled=False),\n",
       "  Hand(score=h20, cards=[2, 8, 13], doubled=False),\n",
       "  <HandOutcome.LOSE: -1>),\n",
       " ('<Action.DOUBLE: 3>',\n",
       "  Hand(score=h18, cards=[5, 7, 6], doubled=True),\n",
       "  Hand(score=h20, cards=[2, 8, 13], doubled=False),\n",
       "  <HandOutcome.LOSE_DOUBLE: -2>)]"
      ]
     },
     "execution_count": 26,
     "metadata": {},
     "output_type": "execute_result"
    }
   ],
   "source": [
    "bj.complete_one_round(strats, hand_p, hand_d, bj.deal_card())"
   ]
  },
  {
   "cell_type": "code",
   "execution_count": 27,
   "id": "economic-greene",
   "metadata": {
    "ExecuteTime": {
     "end_time": "2021-07-08T03:03:51.843009Z",
     "start_time": "2021-07-08T03:03:50.943836Z"
    }
   },
   "outputs": [
    {
     "data": {
      "text/html": [
       "<div>\n",
       "<style scoped>\n",
       "    .dataframe tbody tr th:only-of-type {\n",
       "        vertical-align: middle;\n",
       "    }\n",
       "\n",
       "    .dataframe tbody tr th {\n",
       "        vertical-align: top;\n",
       "    }\n",
       "\n",
       "    .dataframe thead tr th {\n",
       "        text-align: left;\n",
       "    }\n",
       "\n",
       "    .dataframe thead tr:last-of-type th {\n",
       "        text-align: right;\n",
       "    }\n",
       "</style>\n",
       "<table border=\"1\" class=\"dataframe\">\n",
       "  <thead>\n",
       "    <tr>\n",
       "      <th></th>\n",
       "      <th colspan=\"5\" halign=\"left\">len</th>\n",
       "      <th>mean_outcome</th>\n",
       "    </tr>\n",
       "    <tr>\n",
       "      <th>outcome_name</th>\n",
       "      <th>LOSE</th>\n",
       "      <th>LOSE_DOUBLE</th>\n",
       "      <th>PUSH</th>\n",
       "      <th>WIN</th>\n",
       "      <th>WIN_DOUBLE</th>\n",
       "      <th></th>\n",
       "    </tr>\n",
       "    <tr>\n",
       "      <th>strategy</th>\n",
       "      <th></th>\n",
       "      <th></th>\n",
       "      <th></th>\n",
       "      <th></th>\n",
       "      <th></th>\n",
       "      <th></th>\n",
       "    </tr>\n",
       "  </thead>\n",
       "  <tbody>\n",
       "    <tr>\n",
       "      <th>&lt;Action.DOUBLE: 3&gt;</th>\n",
       "      <td>0</td>\n",
       "      <td>5918</td>\n",
       "      <td>512</td>\n",
       "      <td>0</td>\n",
       "      <td>3570</td>\n",
       "      <td>-0.4696</td>\n",
       "    </tr>\n",
       "    <tr>\n",
       "      <th>&lt;Action.HIT: 2&gt;</th>\n",
       "      <td>6087</td>\n",
       "      <td>0</td>\n",
       "      <td>673</td>\n",
       "      <td>3240</td>\n",
       "      <td>0</td>\n",
       "      <td>-0.2847</td>\n",
       "    </tr>\n",
       "    <tr>\n",
       "      <th>&lt;Action.STAND: 1&gt;</th>\n",
       "      <td>6394</td>\n",
       "      <td>0</td>\n",
       "      <td>0</td>\n",
       "      <td>3606</td>\n",
       "      <td>0</td>\n",
       "      <td>-0.2788</td>\n",
       "    </tr>\n",
       "  </tbody>\n",
       "</table>\n",
       "</div>"
      ],
      "text/plain": [
       "                     len                                   mean_outcome\n",
       "outcome_name        LOSE LOSE_DOUBLE PUSH   WIN WIN_DOUBLE             \n",
       "strategy                                                               \n",
       "<Action.DOUBLE: 3>     0        5918  512     0       3570      -0.4696\n",
       "<Action.HIT: 2>     6087           0  673  3240          0      -0.2847\n",
       "<Action.STAND: 1>   6394           0    0  3606          0      -0.2788"
      ]
     },
     "execution_count": 27,
     "metadata": {},
     "output_type": "execute_result"
    }
   ],
   "source": [
    "# TODO reduce duplication with run_n_sim_trials\n",
    "def run_n_sim_trials_from_state(strats, hand_p, hand_d, n):\n",
    "    sims = [generate_rows_from_round(bj.complete_one_round(strats, hand_p, hand_d, bj.deal_card())) for _ in range(n)]\n",
    "    results = pd.DataFrame([player for round in sims for player in round])\n",
    "    results['outcome_value'] = results['outcome'].apply(lambda x: x.value)\n",
    "    results['outcome_name'] = results['outcome'].apply(lambda x: str(x)[12:])\n",
    "    return results\n",
    "\n",
    "sims = run_n_sim_trials_from_state(strats, hand_p, hand_d, 10000)\n",
    "summarize_totals(sims)"
   ]
  },
  {
   "cell_type": "code",
   "execution_count": 28,
   "id": "institutional-grain",
   "metadata": {
    "ExecuteTime": {
     "end_time": "2021-07-08T03:03:51.845956Z",
     "start_time": "2021-07-08T03:03:51.843883Z"
    }
   },
   "outputs": [
    {
     "data": {
      "text/plain": [
       "(Hand(score=s12, cards=[1, 1], doubled=False),\n",
       " Hand(score=h02, cards=[2], doubled=False))"
      ]
     },
     "execution_count": 28,
     "metadata": {},
     "output_type": "execute_result"
    }
   ],
   "source": [
    "# Soft 12 vs 2\n",
    "hand_12s = make_hand([1, 1])\n",
    "\n",
    "hand_12s, hand_d"
   ]
  },
  {
   "cell_type": "code",
   "execution_count": 29,
   "id": "legal-uniform",
   "metadata": {
    "ExecuteTime": {
     "end_time": "2021-07-08T03:03:51.849261Z",
     "start_time": "2021-07-08T03:03:51.846721Z"
    }
   },
   "outputs": [
    {
     "data": {
      "text/plain": [
       "[<function __main__.generate_strat_conditional.<locals>.strat_cond(score_p, score_d)>,\n",
       " <function __main__.generate_strat_conditional.<locals>.strat_cond(score_p, score_d)>,\n",
       " <function __main__.generate_strat_conditional.<locals>.strat_cond(score_p, score_d)>]"
      ]
     },
     "execution_count": 29,
     "metadata": {},
     "output_type": "execute_result"
    }
   ],
   "source": [
    "def cond_12s_2(score_p, score_d):\n",
    "    return score_p == HandScore(12, True) and score_d.points == 2\n",
    "\n",
    "strats = gen_cond_strategies(strat_simple, cond_12s_2, [Action.HIT, Action.STAND, Action.DOUBLE])\n",
    "strats"
   ]
  },
  {
   "cell_type": "code",
   "execution_count": 30,
   "id": "british-logging",
   "metadata": {
    "ExecuteTime": {
     "end_time": "2021-07-08T03:03:53.125976Z",
     "start_time": "2021-07-08T03:03:51.850076Z"
    }
   },
   "outputs": [
    {
     "data": {
      "text/html": [
       "<div>\n",
       "<style scoped>\n",
       "    .dataframe tbody tr th:only-of-type {\n",
       "        vertical-align: middle;\n",
       "    }\n",
       "\n",
       "    .dataframe tbody tr th {\n",
       "        vertical-align: top;\n",
       "    }\n",
       "\n",
       "    .dataframe thead tr th {\n",
       "        text-align: left;\n",
       "    }\n",
       "\n",
       "    .dataframe thead tr:last-of-type th {\n",
       "        text-align: right;\n",
       "    }\n",
       "</style>\n",
       "<table border=\"1\" class=\"dataframe\">\n",
       "  <thead>\n",
       "    <tr>\n",
       "      <th></th>\n",
       "      <th colspan=\"5\" halign=\"left\">len</th>\n",
       "      <th>mean_outcome</th>\n",
       "    </tr>\n",
       "    <tr>\n",
       "      <th>outcome_name</th>\n",
       "      <th>LOSE</th>\n",
       "      <th>LOSE_DOUBLE</th>\n",
       "      <th>PUSH</th>\n",
       "      <th>WIN</th>\n",
       "      <th>WIN_DOUBLE</th>\n",
       "      <th></th>\n",
       "    </tr>\n",
       "    <tr>\n",
       "      <th>strategy</th>\n",
       "      <th></th>\n",
       "      <th></th>\n",
       "      <th></th>\n",
       "      <th></th>\n",
       "      <th></th>\n",
       "      <th></th>\n",
       "    </tr>\n",
       "  </thead>\n",
       "  <tbody>\n",
       "    <tr>\n",
       "      <th>&lt;Action.DOUBLE: 3&gt;</th>\n",
       "      <td>0</td>\n",
       "      <td>6435</td>\n",
       "      <td>0</td>\n",
       "      <td>0</td>\n",
       "      <td>3565</td>\n",
       "      <td>-0.5740</td>\n",
       "    </tr>\n",
       "    <tr>\n",
       "      <th>&lt;Action.HIT: 2&gt;</th>\n",
       "      <td>4810</td>\n",
       "      <td>424</td>\n",
       "      <td>778</td>\n",
       "      <td>3235</td>\n",
       "      <td>753</td>\n",
       "      <td>-0.0917</td>\n",
       "    </tr>\n",
       "    <tr>\n",
       "      <th>&lt;Action.STAND: 1&gt;</th>\n",
       "      <td>6435</td>\n",
       "      <td>0</td>\n",
       "      <td>0</td>\n",
       "      <td>3565</td>\n",
       "      <td>0</td>\n",
       "      <td>-0.2870</td>\n",
       "    </tr>\n",
       "    <tr>\n",
       "      <th>simple</th>\n",
       "      <td>4721</td>\n",
       "      <td>482</td>\n",
       "      <td>790</td>\n",
       "      <td>3262</td>\n",
       "      <td>745</td>\n",
       "      <td>-0.0933</td>\n",
       "    </tr>\n",
       "  </tbody>\n",
       "</table>\n",
       "</div>"
      ],
      "text/plain": [
       "                     len                                   mean_outcome\n",
       "outcome_name        LOSE LOSE_DOUBLE PUSH   WIN WIN_DOUBLE             \n",
       "strategy                                                               \n",
       "<Action.DOUBLE: 3>     0        6435    0     0       3565      -0.5740\n",
       "<Action.HIT: 2>     4810         424  778  3235        753      -0.0917\n",
       "<Action.STAND: 1>   6435           0    0  3565          0      -0.2870\n",
       "simple              4721         482  790  3262        745      -0.0933"
      ]
     },
     "execution_count": 30,
     "metadata": {},
     "output_type": "execute_result"
    }
   ],
   "source": [
    "sims = run_n_sim_trials_from_state(strats+[strat_simple], hand_12s, hand_d, 10000)\n",
    "summarize_totals(sims)"
   ]
  },
  {
   "cell_type": "code",
   "execution_count": 31,
   "id": "based-subscription",
   "metadata": {
    "ExecuteTime": {
     "end_time": "2021-07-08T03:03:53.930876Z",
     "start_time": "2021-07-08T03:03:53.126993Z"
    }
   },
   "outputs": [
    {
     "data": {
      "text/html": [
       "<div>\n",
       "<style scoped>\n",
       "    .dataframe tbody tr th:only-of-type {\n",
       "        vertical-align: middle;\n",
       "    }\n",
       "\n",
       "    .dataframe tbody tr th {\n",
       "        vertical-align: top;\n",
       "    }\n",
       "\n",
       "    .dataframe thead tr th {\n",
       "        text-align: left;\n",
       "    }\n",
       "\n",
       "    .dataframe thead tr:last-of-type th {\n",
       "        text-align: right;\n",
       "    }\n",
       "</style>\n",
       "<table border=\"1\" class=\"dataframe\">\n",
       "  <thead>\n",
       "    <tr>\n",
       "      <th></th>\n",
       "      <th colspan=\"3\" halign=\"left\">len</th>\n",
       "      <th>mean_outcome</th>\n",
       "    </tr>\n",
       "    <tr>\n",
       "      <th>outcome_name</th>\n",
       "      <th>LOSE</th>\n",
       "      <th>PUSH</th>\n",
       "      <th>WIN</th>\n",
       "      <th></th>\n",
       "    </tr>\n",
       "    <tr>\n",
       "      <th>strategy</th>\n",
       "      <th></th>\n",
       "      <th></th>\n",
       "      <th></th>\n",
       "      <th></th>\n",
       "    </tr>\n",
       "  </thead>\n",
       "  <tbody>\n",
       "    <tr>\n",
       "      <th>simple</th>\n",
       "      <td>6198</td>\n",
       "      <td>639</td>\n",
       "      <td>3163</td>\n",
       "      <td>-0.3035</td>\n",
       "    </tr>\n",
       "    <tr>\n",
       "      <th>strat_cond</th>\n",
       "      <td>6355</td>\n",
       "      <td>0</td>\n",
       "      <td>3645</td>\n",
       "      <td>-0.2710</td>\n",
       "    </tr>\n",
       "  </tbody>\n",
       "</table>\n",
       "</div>"
      ],
      "text/plain": [
       "               len            mean_outcome\n",
       "outcome_name  LOSE PUSH   WIN             \n",
       "strategy                                  \n",
       "simple        6198  639  3163      -0.3035\n",
       "strat_cond    6355    0  3645      -0.2710"
      ]
     },
     "execution_count": 31,
     "metadata": {},
     "output_type": "execute_result"
    }
   ],
   "source": [
    "summarize_totals(run_n_sim_trials_from_state([strat_simple, strat_cond], hand_p, hand_d, 10*1000))"
   ]
  },
  {
   "cell_type": "code",
   "execution_count": 32,
   "id": "vietnamese-spray",
   "metadata": {
    "ExecuteTime": {
     "end_time": "2021-07-08T03:03:55.021043Z",
     "start_time": "2021-07-08T03:03:53.931775Z"
    }
   },
   "outputs": [
    {
     "data": {
      "text/html": [
       "<div>\n",
       "<style scoped>\n",
       "    .dataframe tbody tr th:only-of-type {\n",
       "        vertical-align: middle;\n",
       "    }\n",
       "\n",
       "    .dataframe tbody tr th {\n",
       "        vertical-align: top;\n",
       "    }\n",
       "\n",
       "    .dataframe thead tr th {\n",
       "        text-align: left;\n",
       "    }\n",
       "\n",
       "    .dataframe thead tr:last-of-type th {\n",
       "        text-align: right;\n",
       "    }\n",
       "</style>\n",
       "<table border=\"1\" class=\"dataframe\">\n",
       "  <thead>\n",
       "    <tr>\n",
       "      <th></th>\n",
       "      <th colspan=\"5\" halign=\"left\">len</th>\n",
       "      <th>mean_outcome</th>\n",
       "    </tr>\n",
       "    <tr>\n",
       "      <th>outcome_name</th>\n",
       "      <th>LOSE</th>\n",
       "      <th>LOSE_DOUBLE</th>\n",
       "      <th>PUSH</th>\n",
       "      <th>WIN</th>\n",
       "      <th>WIN_DOUBLE</th>\n",
       "      <th></th>\n",
       "    </tr>\n",
       "    <tr>\n",
       "      <th>strategy</th>\n",
       "      <th></th>\n",
       "      <th></th>\n",
       "      <th></th>\n",
       "      <th></th>\n",
       "      <th></th>\n",
       "      <th></th>\n",
       "    </tr>\n",
       "  </thead>\n",
       "  <tbody>\n",
       "    <tr>\n",
       "      <th>&lt;Action.DOUBLE: 3&gt;</th>\n",
       "      <td>0</td>\n",
       "      <td>5800</td>\n",
       "      <td>0</td>\n",
       "      <td>0</td>\n",
       "      <td>4200</td>\n",
       "      <td>-0.3200</td>\n",
       "    </tr>\n",
       "    <tr>\n",
       "      <th>&lt;Action.HIT: 2&gt;</th>\n",
       "      <td>4603</td>\n",
       "      <td>315</td>\n",
       "      <td>281</td>\n",
       "      <td>4087</td>\n",
       "      <td>714</td>\n",
       "      <td>0.0282</td>\n",
       "    </tr>\n",
       "    <tr>\n",
       "      <th>&lt;Action.STAND: 1&gt;</th>\n",
       "      <td>5800</td>\n",
       "      <td>0</td>\n",
       "      <td>0</td>\n",
       "      <td>4200</td>\n",
       "      <td>0</td>\n",
       "      <td>-0.1600</td>\n",
       "    </tr>\n",
       "    <tr>\n",
       "      <th>simple</th>\n",
       "      <td>5800</td>\n",
       "      <td>0</td>\n",
       "      <td>0</td>\n",
       "      <td>4200</td>\n",
       "      <td>0</td>\n",
       "      <td>-0.1600</td>\n",
       "    </tr>\n",
       "  </tbody>\n",
       "</table>\n",
       "</div>"
      ],
      "text/plain": [
       "                     len                                   mean_outcome\n",
       "outcome_name        LOSE LOSE_DOUBLE PUSH   WIN WIN_DOUBLE             \n",
       "strategy                                                               \n",
       "<Action.DOUBLE: 3>     0        5800    0     0       4200      -0.3200\n",
       "<Action.HIT: 2>     4603         315  281  4087        714       0.0282\n",
       "<Action.STAND: 1>   5800           0    0  4200          0      -0.1600\n",
       "simple              5800           0    0  4200          0      -0.1600"
      ]
     },
     "execution_count": 32,
     "metadata": {},
     "output_type": "execute_result"
    }
   ],
   "source": [
    "# soft 13 vs 6\n",
    "def cond_13s_6(score_p, score_d):\n",
    "    return score_p == HandScore(13, True) and score_d.points == 6\n",
    "\n",
    "\n",
    "\n",
    "strats = gen_cond_strategies(strat_simple, cond_13s_6, [Action.HIT, Action.STAND, Action.DOUBLE])\n",
    "sims = run_n_sim_trials_from_state(strats+[strat_simple], bj.make_hand([1, 2]), bj.make_hand([6]), 10000)\n",
    "summarize_totals(sims)"
   ]
  },
  {
   "cell_type": "code",
   "execution_count": 33,
   "id": "liable-painting",
   "metadata": {
    "ExecuteTime": {
     "end_time": "2021-07-08T03:03:56.188197Z",
     "start_time": "2021-07-08T03:03:55.022001Z"
    }
   },
   "outputs": [
    {
     "data": {
      "text/html": [
       "<div>\n",
       "<style scoped>\n",
       "    .dataframe tbody tr th:only-of-type {\n",
       "        vertical-align: middle;\n",
       "    }\n",
       "\n",
       "    .dataframe tbody tr th {\n",
       "        vertical-align: top;\n",
       "    }\n",
       "\n",
       "    .dataframe thead tr th {\n",
       "        text-align: left;\n",
       "    }\n",
       "\n",
       "    .dataframe thead tr:last-of-type th {\n",
       "        text-align: right;\n",
       "    }\n",
       "</style>\n",
       "<table border=\"1\" class=\"dataframe\">\n",
       "  <thead>\n",
       "    <tr>\n",
       "      <th></th>\n",
       "      <th colspan=\"5\" halign=\"left\">len</th>\n",
       "      <th>mean_outcome</th>\n",
       "    </tr>\n",
       "    <tr>\n",
       "      <th>outcome_name</th>\n",
       "      <th>LOSE</th>\n",
       "      <th>LOSE_DOUBLE</th>\n",
       "      <th>PUSH</th>\n",
       "      <th>WIN</th>\n",
       "      <th>WIN_DOUBLE</th>\n",
       "      <th></th>\n",
       "    </tr>\n",
       "    <tr>\n",
       "      <th>strategy</th>\n",
       "      <th></th>\n",
       "      <th></th>\n",
       "      <th></th>\n",
       "      <th></th>\n",
       "      <th></th>\n",
       "      <th></th>\n",
       "    </tr>\n",
       "  </thead>\n",
       "  <tbody>\n",
       "    <tr>\n",
       "      <th>&lt;Action.DOUBLE: 3&gt;</th>\n",
       "      <td>0</td>\n",
       "      <td>3263</td>\n",
       "      <td>691</td>\n",
       "      <td>0</td>\n",
       "      <td>6046</td>\n",
       "      <td>0.5566</td>\n",
       "    </tr>\n",
       "    <tr>\n",
       "      <th>&lt;Action.HIT: 2&gt;</th>\n",
       "      <td>3205</td>\n",
       "      <td>0</td>\n",
       "      <td>682</td>\n",
       "      <td>6113</td>\n",
       "      <td>0</td>\n",
       "      <td>0.2908</td>\n",
       "    </tr>\n",
       "    <tr>\n",
       "      <th>&lt;Action.STAND: 1&gt;</th>\n",
       "      <td>5817</td>\n",
       "      <td>0</td>\n",
       "      <td>0</td>\n",
       "      <td>4183</td>\n",
       "      <td>0</td>\n",
       "      <td>-0.1634</td>\n",
       "    </tr>\n",
       "    <tr>\n",
       "      <th>simple</th>\n",
       "      <td>3247</td>\n",
       "      <td>0</td>\n",
       "      <td>704</td>\n",
       "      <td>6049</td>\n",
       "      <td>0</td>\n",
       "      <td>0.2802</td>\n",
       "    </tr>\n",
       "  </tbody>\n",
       "</table>\n",
       "</div>"
      ],
      "text/plain": [
       "                     len                                   mean_outcome\n",
       "outcome_name        LOSE LOSE_DOUBLE PUSH   WIN WIN_DOUBLE             \n",
       "strategy                                                               \n",
       "<Action.DOUBLE: 3>     0        3263  691     0       6046       0.5566\n",
       "<Action.HIT: 2>     3205           0  682  6113          0       0.2908\n",
       "<Action.STAND: 1>   5817           0    0  4183          0      -0.1634\n",
       "simple              3247           0  704  6049          0       0.2802"
      ]
     },
     "execution_count": 33,
     "metadata": {},
     "output_type": "execute_result"
    }
   ],
   "source": [
    "# 10 v 6\n",
    "def cond_10_6(score_p, score_d):\n",
    "    return score_p.points == 10 and score_d.points == 6\n",
    "\n",
    "strats = gen_cond_strategies(strat_simple, cond_10_6, [Action.HIT, Action.STAND, Action.DOUBLE])\n",
    "sims = run_n_sim_trials_from_state(strats+[strat_simple], make_hand([5, 5]), make_hand([6]), 10000)\n",
    "summarize_totals(sims)"
   ]
  },
  {
   "cell_type": "code",
   "execution_count": 34,
   "id": "serious-briefs",
   "metadata": {
    "ExecuteTime": {
     "end_time": "2021-07-08T03:03:57.185283Z",
     "start_time": "2021-07-08T03:03:56.189069Z"
    }
   },
   "outputs": [
    {
     "data": {
      "text/plain": [
       "(<function __main__.test_cond.<locals>.cond(p, d)>,\n",
       "                      len                                   mean_outcome\n",
       " outcome_name        LOSE LOSE_DOUBLE PUSH   WIN WIN_DOUBLE             \n",
       " strategy                                                               \n",
       " <Action.DOUBLE: 3>     0        3334  695     0       5971       0.5274\n",
       " <Action.HIT: 2>     3319           0  698  5983          0       0.2664\n",
       " <Action.STAND: 1>   5918           0    0  4082          0      -0.1836)"
      ]
     },
     "execution_count": 34,
     "metadata": {},
     "output_type": "execute_result"
    }
   ],
   "source": [
    "ACTIONS = [Action.HIT, Action.STAND, Action.DOUBLE]\n",
    "\n",
    "def test_cond(score_p, score_d, n, strat_base = strat_simple):\n",
    "    def cond(p, d):\n",
    "        return p == score_p and d == score_d\n",
    "    strats = gen_cond_strategies(strat_base, cond, ACTIONS)\n",
    "    hand_p = Hand(score_p) \n",
    "    hand_d = make_hand([score_d.points if score_d.points< 11 else 1])\n",
    "    sims = run_n_sim_trials_from_state(strats, hand_p, hand_d, n)\n",
    "    return cond, summarize_totals(sims)\n",
    "\n",
    "test_cond(HandScore(10), HandScore(6), 10000, strat_simple)"
   ]
  },
  {
   "cell_type": "code",
   "execution_count": 35,
   "id": "median-maryland",
   "metadata": {
    "ExecuteTime": {
     "end_time": "2021-07-08T03:03:57.220763Z",
     "start_time": "2021-07-08T03:03:57.186899Z"
    }
   },
   "outputs": [
    {
     "data": {
      "text/plain": [
       "(<function __main__.test_cond.<locals>.cond(p, d)>,\n",
       "                     len                                  mean_outcome\n",
       " outcome_name       LOSE LOSE_DOUBLE PUSH  WIN WIN_DOUBLE             \n",
       " strategy                                                             \n",
       " <Action.DOUBLE: 3>    0         157    5    0         38       -1.190\n",
       " <Action.HIT: 2>     157           0    6   37          0       -0.600\n",
       " <Action.STAND: 1>    55           0   27  118          0        0.315)"
      ]
     },
     "execution_count": 35,
     "metadata": {},
     "output_type": "execute_result"
    }
   ],
   "source": [
    "test_cond(HandScore(18), HandScore(6), 200)"
   ]
  },
  {
   "cell_type": "code",
   "execution_count": 36,
   "id": "protecting-cartoon",
   "metadata": {
    "ExecuteTime": {
     "end_time": "2021-07-08T03:03:57.258232Z",
     "start_time": "2021-07-08T03:03:57.224001Z"
    }
   },
   "outputs": [
    {
     "data": {
      "text/plain": [
       "(<function __main__.test_cond.<locals>.cond(p, d)>,\n",
       "                     len                                  mean_outcome\n",
       " outcome_name       LOSE LOSE_DOUBLE PUSH  WIN WIN_DOUBLE             \n",
       " strategy                                                             \n",
       " <Action.DOUBLE: 3>    0          72   12    0        116         0.44\n",
       " <Action.HIT: 2>      71           0   12  117          0         0.23\n",
       " <Action.STAND: 1>     0           0   18  182          0         0.91)"
      ]
     },
     "execution_count": 36,
     "metadata": {},
     "output_type": "execute_result"
    }
   ],
   "source": [
    "test_cond(HandScore(21, True), HandScore(6), 200)"
   ]
  },
  {
   "cell_type": "code",
   "execution_count": 37,
   "id": "manual-anime",
   "metadata": {
    "ExecuteTime": {
     "end_time": "2021-07-08T03:03:57.298440Z",
     "start_time": "2021-07-08T03:03:57.259421Z"
    }
   },
   "outputs": [
    {
     "data": {
      "text/plain": [
       "{'<Action.DOUBLE: 3>': 0.57,\n",
       " '<Action.HIT: 2>': 0.265,\n",
       " '<Action.STAND: 1>': -0.22,\n",
       " 'score_p': 'h10',\n",
       " 'score_d': 'h06',\n",
       " 'winning_act': <Action.DOUBLE: 3>,\n",
       " 'winning_act_outcome': 0.57}"
      ]
     },
     "execution_count": 37,
     "metadata": {},
     "output_type": "execute_result"
    }
   ],
   "source": [
    "def find_winning_action(score_p, score_d, n, strat_base = strat_simple):\n",
    "    cond, summary = test_cond(score_p, score_d, n, strat_base)\n",
    "    outcomes = summary['mean_outcome']\n",
    "    # Find the winning strategy\n",
    "    winner = outcomes[outcomes==outcomes.max()].index[0]\n",
    "    winning_act = [a for a in ACTIONS if repr(a)==winner][0]\n",
    "\n",
    "    # Convert results to a dict\n",
    "    output = outcomes.to_dict()\n",
    "    output['score_p'] = repr(score_p)\n",
    "    output['score_d'] = repr(score_d)\n",
    "    output['winning_act'] = winning_act\n",
    "    output['winning_act_outcome'] = outcomes.max()\n",
    "\n",
    "    return output\n",
    "\n",
    "find_winning_action(HandScore(10), HandScore(6), 200)"
   ]
  },
  {
   "cell_type": "code",
   "execution_count": 38,
   "id": "trying-house",
   "metadata": {
    "ExecuteTime": {
     "end_time": "2021-07-08T03:03:57.398413Z",
     "start_time": "2021-07-08T03:03:57.299556Z"
    }
   },
   "outputs": [
    {
     "data": {
      "text/plain": [
       "(<function __main__.test_cond.<locals>.cond(p, d)>,\n",
       "                     len                                  mean_outcome\n",
       " outcome_name       LOSE LOSE_DOUBLE PUSH  WIN WIN_DOUBLE             \n",
       " strategy                                                             \n",
       " <Action.DOUBLE: 3>    0         868   20    0        112       -1.512\n",
       " <Action.HIT: 2>     881           0   19  100          0       -0.781\n",
       " <Action.STAND: 1>   603           0  119  278          0       -0.325)"
      ]
     },
     "execution_count": 38,
     "metadata": {},
     "output_type": "execute_result"
    }
   ],
   "source": [
    "test_cond(HandScore(18), HandScore(11, True), 1000)"
   ]
  },
  {
   "cell_type": "code",
   "execution_count": 39,
   "id": "committed-expert",
   "metadata": {
    "ExecuteTime": {
     "end_time": "2021-07-08T03:03:57.401661Z",
     "start_time": "2021-07-08T03:03:57.399441Z"
    }
   },
   "outputs": [],
   "source": [
    "def compute_instructions(n, strat_base = strat_simple):\n",
    "    return [find_winning_action(p, make_hand([d]).score, n, strat_base) for p in all_scores for d in range(1, 11) if p.points>=9]"
   ]
  },
  {
   "cell_type": "code",
   "execution_count": 40,
   "id": "behind-seattle",
   "metadata": {
    "ExecuteTime": {
     "end_time": "2021-07-08T03:04:01.368629Z",
     "start_time": "2021-07-08T03:03:57.403141Z"
    }
   },
   "outputs": [
    {
     "name": "stdout",
     "output_type": "stream",
     "text": [
      " "
     ]
    },
    {
     "data": {
      "text/html": [
       "<div>\n",
       "<style scoped>\n",
       "    .dataframe tbody tr th:only-of-type {\n",
       "        vertical-align: middle;\n",
       "    }\n",
       "\n",
       "    .dataframe tbody tr th {\n",
       "        vertical-align: top;\n",
       "    }\n",
       "\n",
       "    .dataframe thead th {\n",
       "        text-align: right;\n",
       "    }\n",
       "</style>\n",
       "<table border=\"1\" class=\"dataframe\">\n",
       "  <thead>\n",
       "    <tr style=\"text-align: right;\">\n",
       "      <th></th>\n",
       "      <th></th>\n",
       "      <th>&lt;Action.DOUBLE: 3&gt;</th>\n",
       "      <th>&lt;Action.HIT: 2&gt;</th>\n",
       "      <th>&lt;Action.STAND: 1&gt;</th>\n",
       "      <th>winning_act</th>\n",
       "      <th>winning_act_outcome</th>\n",
       "    </tr>\n",
       "    <tr>\n",
       "      <th>score_p</th>\n",
       "      <th>score_d</th>\n",
       "      <th></th>\n",
       "      <th></th>\n",
       "      <th></th>\n",
       "      <th></th>\n",
       "      <th></th>\n",
       "    </tr>\n",
       "  </thead>\n",
       "  <tbody>\n",
       "    <tr>\n",
       "      <th rowspan=\"5\" valign=\"top\">h09</th>\n",
       "      <th>s11</th>\n",
       "      <td>-0.4</td>\n",
       "      <td>-0.20</td>\n",
       "      <td>-0.6</td>\n",
       "      <td>Action.HIT</td>\n",
       "      <td>-0.20</td>\n",
       "    </tr>\n",
       "    <tr>\n",
       "      <th>h02</th>\n",
       "      <td>-0.4</td>\n",
       "      <td>-0.10</td>\n",
       "      <td>-0.6</td>\n",
       "      <td>Action.HIT</td>\n",
       "      <td>-0.10</td>\n",
       "    </tr>\n",
       "    <tr>\n",
       "      <th>h03</th>\n",
       "      <td>-0.2</td>\n",
       "      <td>0.20</td>\n",
       "      <td>-0.2</td>\n",
       "      <td>Action.HIT</td>\n",
       "      <td>0.20</td>\n",
       "    </tr>\n",
       "    <tr>\n",
       "      <th>h04</th>\n",
       "      <td>-0.2</td>\n",
       "      <td>0.25</td>\n",
       "      <td>-0.6</td>\n",
       "      <td>Action.HIT</td>\n",
       "      <td>0.25</td>\n",
       "    </tr>\n",
       "    <tr>\n",
       "      <th>h05</th>\n",
       "      <td>0.6</td>\n",
       "      <td>-0.15</td>\n",
       "      <td>-0.4</td>\n",
       "      <td>Action.DOUBLE</td>\n",
       "      <td>0.60</td>\n",
       "    </tr>\n",
       "    <tr>\n",
       "      <th>...</th>\n",
       "      <th>...</th>\n",
       "      <td>...</td>\n",
       "      <td>...</td>\n",
       "      <td>...</td>\n",
       "      <td>...</td>\n",
       "      <td>...</td>\n",
       "    </tr>\n",
       "    <tr>\n",
       "      <th rowspan=\"5\" valign=\"top\">s21</th>\n",
       "      <th>h06</th>\n",
       "      <td>0.2</td>\n",
       "      <td>0.20</td>\n",
       "      <td>0.9</td>\n",
       "      <td>Action.STAND</td>\n",
       "      <td>0.90</td>\n",
       "    </tr>\n",
       "    <tr>\n",
       "      <th>h07</th>\n",
       "      <td>0.0</td>\n",
       "      <td>0.00</td>\n",
       "      <td>0.8</td>\n",
       "      <td>Action.STAND</td>\n",
       "      <td>0.80</td>\n",
       "    </tr>\n",
       "    <tr>\n",
       "      <th>h08</th>\n",
       "      <td>0.0</td>\n",
       "      <td>-0.60</td>\n",
       "      <td>1.0</td>\n",
       "      <td>Action.STAND</td>\n",
       "      <td>1.00</td>\n",
       "    </tr>\n",
       "    <tr>\n",
       "      <th>h09</th>\n",
       "      <td>0.2</td>\n",
       "      <td>0.30</td>\n",
       "      <td>1.0</td>\n",
       "      <td>Action.STAND</td>\n",
       "      <td>1.00</td>\n",
       "    </tr>\n",
       "    <tr>\n",
       "      <th>h10</th>\n",
       "      <td>0.0</td>\n",
       "      <td>0.60</td>\n",
       "      <td>1.0</td>\n",
       "      <td>Action.STAND</td>\n",
       "      <td>1.00</td>\n",
       "    </tr>\n",
       "  </tbody>\n",
       "</table>\n",
       "<p>250 rows × 5 columns</p>\n",
       "</div>"
      ],
      "text/plain": [
       "                 <Action.DOUBLE: 3>  <Action.HIT: 2>  <Action.STAND: 1>  \\\n",
       "score_p score_d                                                           \n",
       "h09     s11                    -0.4            -0.20               -0.6   \n",
       "        h02                    -0.4            -0.10               -0.6   \n",
       "        h03                    -0.2             0.20               -0.2   \n",
       "        h04                    -0.2             0.25               -0.6   \n",
       "        h05                     0.6            -0.15               -0.4   \n",
       "...                             ...              ...                ...   \n",
       "s21     h06                     0.2             0.20                0.9   \n",
       "        h07                     0.0             0.00                0.8   \n",
       "        h08                     0.0            -0.60                1.0   \n",
       "        h09                     0.2             0.30                1.0   \n",
       "        h10                     0.0             0.60                1.0   \n",
       "\n",
       "                   winning_act  winning_act_outcome  \n",
       "score_p score_d                                      \n",
       "h09     s11         Action.HIT                -0.20  \n",
       "        h02         Action.HIT                -0.10  \n",
       "        h03         Action.HIT                 0.20  \n",
       "        h04         Action.HIT                 0.25  \n",
       "        h05      Action.DOUBLE                 0.60  \n",
       "...                        ...                  ...  \n",
       "s21     h06       Action.STAND                 0.90  \n",
       "        h07       Action.STAND                 0.80  \n",
       "        h08       Action.STAND                 1.00  \n",
       "        h09       Action.STAND                 1.00  \n",
       "        h10       Action.STAND                 1.00  \n",
       "\n",
       "[250 rows x 5 columns]"
      ]
     },
     "execution_count": 40,
     "metadata": {},
     "output_type": "execute_result"
    }
   ],
   "source": [
    "%prun -s cumulative conds = compute_instructions(10)\n",
    "pd.DataFrame(conds).set_index(['score_p', 'score_d'])"
   ]
  },
  {
   "cell_type": "code",
   "execution_count": 41,
   "id": "electrical-neighbor",
   "metadata": {
    "ExecuteTime": {
     "end_time": "2021-07-08T03:04:01.374541Z",
     "start_time": "2021-07-08T03:04:01.371509Z"
    }
   },
   "outputs": [],
   "source": [
    "def run_iteration(n, strat_base, previous_instructions):\n",
    "    comput = compute_instructions(n, strat_base)\n",
    "    outputs = pd.DataFrame(comput).set_index(['score_p', 'score_d'])\n",
    "    \n",
    "    instructions = {(output['score_p'], output['score_d']): output['winning_act'] for output in comput}\n",
    "    \n",
    "    fig = plt.figure()\n",
    "    # Visualize the winning action by starting condition\n",
    "    sns.heatmap(outputs['winning_act'].apply(lambda x: x.value).unstack(), ax=fig.add_subplot(1, 2, 1))\n",
    "    \n",
    "    # Visualize the average outcome by starting condition\n",
    "    sns.heatmap(outputs['winning_act_outcome'].unstack(), ax=fig.add_subplot(1, 2, 2))\n",
    "    \n",
    "    if previous_instructions:\n",
    "        for k in instructions:\n",
    "            if instructions[k] != previous_instructions[k]:\n",
    "                print(k, instructions[k], previous_instructions[k])\n",
    "    \n",
    "    return instructions\n",
    "        "
   ]
  },
  {
   "cell_type": "code",
   "execution_count": 42,
   "id": "ruled-adolescent",
   "metadata": {
    "ExecuteTime": {
     "end_time": "2021-07-08T03:04:10.158698Z",
     "start_time": "2021-07-08T03:04:01.375391Z"
    }
   },
   "outputs": [
    {
     "name": "stdout",
     "output_type": "stream",
     "text": [
      " "
     ]
    },
    {
     "data": {
      "image/png": "[encoded data removed]",
      "text/plain": [
       "<Figure size 432x288 with 4 Axes>"
      ]
     },
     "metadata": {
      "needs_background": "light"
     },
     "output_type": "display_data"
    }
   ],
   "source": [
    "%prun -s cumulative run_iteration(100, strat_simple, None)"
   ]
  },
  {
   "cell_type": "code",
   "execution_count": 43,
   "id": "hispanic-colorado",
   "metadata": {
    "ExecuteTime": {
     "end_time": "2021-07-08T03:04:10.266040Z",
     "start_time": "2021-07-08T03:04:10.160541Z"
    }
   },
   "outputs": [
    {
     "data": {
      "text/plain": [
       "(   strategy hand_start  dealer_card        hand_end  dealer_hand  \\\n",
       " 0    simple     [3, 2]           12  [3, 2, 13, 11]     [12, 12]   \n",
       " 1  memoized     [3, 2]           12   [3, 2, 10, 7]     [12, 12]   \n",
       " 2    simple    [2, 11]            9      [2, 11, 8]    [9, 7, 1]   \n",
       " 3  memoized    [2, 11]            9      [2, 11, 5]    [9, 7, 1]   \n",
       " 4    simple     [4, 5]            6       [4, 5, 7]  [6, 13, 12]   \n",
       " 5  memoized     [4, 5]            6       [4, 5, 9]  [6, 13, 12]   \n",
       " 6    simple     [3, 1]            7   [3, 1, 5, 11]   [7, 4, 12]   \n",
       " 7  memoized     [3, 1]            7   [3, 1, 13, 8]   [7, 4, 12]   \n",
       " 8    simple     [1, 8]           11          [1, 8]   [11, 2, 6]   \n",
       " 9  memoized     [1, 8]           11          [1, 8]   [11, 2, 6]   \n",
       " \n",
       "             outcome  outcome_value outcome_name  \n",
       " 0  HandOutcome.LOSE           -1.0         LOSE  \n",
       " 1  HandOutcome.LOSE           -1.0         LOSE  \n",
       " 2   HandOutcome.WIN            1.0          WIN  \n",
       " 3  HandOutcome.PUSH            0.0         PUSH  \n",
       " 4   HandOutcome.WIN            1.0          WIN  \n",
       " 5   HandOutcome.WIN            1.0          WIN  \n",
       " 6  HandOutcome.LOSE           -1.0         LOSE  \n",
       " 7  HandOutcome.LOSE           -1.0         LOSE  \n",
       " 8   HandOutcome.WIN            1.0          WIN  \n",
       " 9   HandOutcome.WIN            1.0          WIN  ,\n",
       "                    len                                       mean_outcome\n",
       " outcome_name BLACKJACK LOSE LOSE_DOUBLE PUSH  WIN WIN_DOUBLE             \n",
       " strategy                                                                 \n",
       " memoized            40  439          21   95  377         28        0.012\n",
       " simple              40  438          23   94  369         36        0.017)"
      ]
     },
     "execution_count": 43,
     "metadata": {},
     "output_type": "execute_result"
    }
   ],
   "source": [
    "# Memoized strategy\n",
    "# Rather than generic conditions, just use an array indexed on player and dealer scores\n",
    "# Since that's how we're generating our strategy anyway (one square at a time)\n",
    "\n",
    "def gen_strat_memoized(instructions, strat_base):\n",
    "    def strat_memoized(score_p, score_d):\n",
    "        k = (repr(score_p), repr(score_d))\n",
    "        if k in instructions:\n",
    "            return instructions[k]\n",
    "        else:\n",
    "            return strat_base(score_p, score_d)\n",
    "    strat_memoized.name = 'memoized'\n",
    "    return strat_memoized\n",
    "\n",
    "instructions = {(repr(HandScore(13, True)), repr(HandScore(6))): Action.HIT}\n",
    "strat_memoized = gen_strat_memoized(instructions, strat_simple)\n",
    "\n",
    "sims = run_n_sim_trials([strat_simple, strat_memoized], 1000)\n",
    "sims.head(10), summarize_totals(sims)"
   ]
  },
  {
   "cell_type": "code",
   "execution_count": 44,
   "id": "dirty-employer",
   "metadata": {
    "ExecuteTime": {
     "end_time": "2021-07-08T03:11:09.814120Z",
     "start_time": "2021-07-08T03:04:10.267186Z"
    }
   },
   "outputs": [
    {
     "name": "stdout",
     "output_type": "stream",
     "text": [
      "0\n",
      "1\n",
      "('h09', 'h03') Action.DOUBLE Action.HIT\n",
      "('h09', 'h06') Action.HIT Action.DOUBLE\n",
      "('h09', 'h07') Action.HIT Action.DOUBLE\n",
      "('h09', 'h08') Action.HIT Action.DOUBLE\n",
      "('h10', 'h02') Action.DOUBLE Action.HIT\n",
      "('h10', 'h04') Action.DOUBLE Action.HIT\n",
      "('h10', 'h07') Action.DOUBLE Action.HIT\n",
      "('h11', 'h07') Action.DOUBLE Action.HIT\n",
      "('h11', 'h08') Action.HIT Action.DOUBLE\n",
      "('h11', 'h09') Action.DOUBLE Action.HIT\n",
      "('h11', 'h10') Action.DOUBLE Action.HIT\n",
      "('h12', 'h05') Action.STAND Action.HIT\n",
      "('h12', 'h07') Action.HIT Action.DOUBLE\n",
      "('h13', 'h05') Action.STAND Action.HIT\n",
      "('h13', 'h06') Action.HIT Action.STAND\n",
      "('h14', 'h03') Action.STAND Action.HIT\n",
      "('h15', 'h04') Action.STAND Action.HIT\n",
      "('h16', 'h02') Action.STAND Action.HIT\n",
      "('h16', 'h09') Action.HIT Action.STAND\n",
      "('h17', 's11') Action.STAND Action.HIT\n",
      "('h17', 'h10') Action.STAND Action.HIT\n",
      "('s11', 'h04') Action.HIT Action.DOUBLE\n",
      "('s11', 'h08') Action.DOUBLE Action.HIT\n",
      "('s11', 'h10') Action.HIT Action.DOUBLE\n",
      "('s12', 'h02') Action.HIT Action.STAND\n",
      "('s15', 'h08') Action.HIT Action.STAND\n",
      "('s16', 'h02') Action.STAND Action.HIT\n",
      "('s17', 's11') Action.STAND Action.HIT\n",
      "('s17', 'h02') Action.HIT Action.STAND\n",
      "('s18', 'h05') Action.HIT Action.STAND\n",
      "('s20', 'h05') Action.STAND Action.DOUBLE\n",
      "2\n",
      "('h09', 'h04') Action.DOUBLE Action.HIT\n",
      "('h09', 'h06') Action.DOUBLE Action.HIT\n",
      "('h10', 'h08') Action.HIT Action.DOUBLE\n",
      "('h10', 'h09') Action.DOUBLE Action.HIT\n",
      "('h11', 'h08') Action.DOUBLE Action.HIT\n",
      "('h11', 'h10') Action.HIT Action.DOUBLE\n",
      "('h12', 'h03') Action.STAND Action.HIT\n",
      "('h12', 'h04') Action.HIT Action.STAND\n",
      "('h12', 'h05') Action.HIT Action.STAND\n",
      "('h12', 'h06') Action.HIT Action.STAND\n",
      "('h13', 'h02') Action.STAND Action.HIT\n",
      "('h13', 'h06') Action.STAND Action.HIT\n",
      "('h15', 'h10') Action.HIT Action.STAND\n",
      "('h16', 's11') Action.STAND Action.HIT\n",
      "('h16', 'h07') Action.HIT Action.STAND\n",
      "('h16', 'h08') Action.STAND Action.HIT\n",
      "('s11', 'h04') Action.DOUBLE Action.HIT\n",
      "('s11', 'h08') Action.HIT Action.DOUBLE\n",
      "('s11', 'h09') Action.HIT Action.DOUBLE\n",
      "('s16', 'h02') Action.HIT Action.STAND\n",
      "('s17', 's11') Action.HIT Action.STAND\n",
      "('s18', 'h05') Action.STAND Action.HIT\n",
      "('s18', 'h09') Action.HIT Action.STAND\n",
      "('s18', 'h10') Action.STAND Action.HIT\n",
      "3\n",
      "('h10', 'h08') Action.DOUBLE Action.HIT\n",
      "('h11', 'h09') Action.HIT Action.DOUBLE\n",
      "('h12', 'h03') Action.HIT Action.STAND\n",
      "('h12', 'h04') Action.STAND Action.HIT\n",
      "('h12', 'h06') Action.STAND Action.HIT\n",
      "('h13', 'h02') Action.HIT Action.STAND\n",
      "('h13', 'h03') Action.HIT Action.STAND\n",
      "('h16', 's11') Action.HIT Action.STAND\n",
      "('h16', 'h08') Action.HIT Action.STAND\n",
      "('s11', 'h08') Action.DOUBLE Action.HIT\n",
      "('s18', 'h09') Action.STAND Action.HIT\n",
      "('s18', 'h10') Action.HIT Action.STAND\n",
      "4\n",
      "('h09', 'h02') Action.HIT Action.DOUBLE\n",
      "('h09', 'h04') Action.HIT Action.DOUBLE\n",
      "('h11', 'h09') Action.DOUBLE Action.HIT\n",
      "('h12', 'h03') Action.STAND Action.HIT\n",
      "('h12', 'h05') Action.STAND Action.HIT\n",
      "('h13', 'h02') Action.STAND Action.HIT\n",
      "('h13', 'h03') Action.STAND Action.HIT\n",
      "('h16', 'h10') Action.STAND Action.HIT\n",
      "('s18', 'h09') Action.HIT Action.STAND\n",
      "('s18', 'h10') Action.STAND Action.HIT\n",
      "5\n",
      "('h09', 'h04') Action.DOUBLE Action.HIT\n",
      "('h16', 'h10') Action.HIT Action.STAND\n",
      "('s18', 'h09') Action.STAND Action.HIT\n"
     ]
    },
    {
     "data": {
      "text/plain": [
       "[<function __main__.strat_simple(score_p, score_d)>,\n",
       " <function __main__.gen_strat_memoized.<locals>.strat_memoized(score_p, score_d)>,\n",
       " <function __main__.gen_strat_memoized.<locals>.strat_memoized(score_p, score_d)>,\n",
       " <function __main__.gen_strat_memoized.<locals>.strat_memoized(score_p, score_d)>,\n",
       " <function __main__.gen_strat_memoized.<locals>.strat_memoized(score_p, score_d)>,\n",
       " <function __main__.gen_strat_memoized.<locals>.strat_memoized(score_p, score_d)>,\n",
       " <function __main__.gen_strat_memoized.<locals>.strat_memoized(score_p, score_d)>]"
      ]
     },
     "execution_count": 44,
     "metadata": {},
     "output_type": "execute_result"
    },
    {
     "data": {
      "image/png": "[encoded data removed]",
      "text/plain": [
       "<Figure size 432x288 with 4 Axes>"
      ]
     },
     "metadata": {
      "needs_background": "light"
     },
     "output_type": "display_data"
    },
    {
     "data": {
      "image/png": "[encoded data removed]",
      "text/plain": [
       "<Figure size 432x288 with 4 Axes>"
      ]
     },
     "metadata": {
      "needs_background": "light"
     },
     "output_type": "display_data"
    },
    {
     "data": {
      "image/png": "[encoded data removed]",
      "text/plain": [
       "<Figure size 432x288 with 4 Axes>"
      ]
     },
     "metadata": {
      "needs_background": "light"
     },
     "output_type": "display_data"
    },
    {
     "data": {
      "image/png": "[encoded data removed]",
      "text/plain": [
       "<Figure size 432x288 with 4 Axes>"
      ]
     },
     "metadata": {
      "needs_background": "light"
     },
     "output_type": "display_data"
    },
    {
     "data": {
      "image/png": "[encoded data removed]",
      "text/plain": [
       "<Figure size 432x288 with 4 Axes>"
      ]
     },
     "metadata": {
      "needs_background": "light"
     },
     "output_type": "display_data"
    },
    {
     "data": {
      "image/png": "[encoded data removed]",
      "text/plain": [
       "<Figure size 432x288 with 4 Axes>"
      ]
     },
     "metadata": {
      "needs_background": "light"
     },
     "output_type": "display_data"
    }
   ],
   "source": [
    "n = 50\n",
    "strat_base = strat_simple\n",
    "previous_instructions = None\n",
    "strategies = [strat_simple]\n",
    "\n",
    "for i in range(6):\n",
    "    print(i)\n",
    "    instructions = run_iteration(n, strat_base, previous_instructions)\n",
    "    strat_new  = gen_strat_memoized(instructions, strat_base)\n",
    "    strat_new.name = f'iter({i+1})'\n",
    "    strategies.append(strat_new)\n",
    "    previous_instructions = instructions\n",
    "    strat_base = strat_new\n",
    "    n = n*3\n",
    "\n",
    "strategies"
   ]
  },
  {
   "cell_type": "code",
   "execution_count": 45,
   "id": "reverse-combination",
   "metadata": {
    "ExecuteTime": {
     "end_time": "2021-07-08T03:12:05.641770Z",
     "start_time": "2021-07-08T03:11:09.815105Z"
    }
   },
   "outputs": [
    {
     "data": {
      "text/plain": [
       "(  strategy hand_start  dealer_card       hand_end  dealer_hand  \\\n",
       " 0   simple     [4, 7]           12      [4, 7, 7]      [12, 1]   \n",
       " 1  iter(1)     [4, 7]           12     [4, 7, 12]      [12, 1]   \n",
       " 2  iter(2)     [4, 7]           12      [4, 7, 1]      [12, 1]   \n",
       " 3  iter(3)     [4, 7]           12      [4, 7, 6]      [12, 1]   \n",
       " 4  iter(4)     [4, 7]           12   [4, 7, 3, 8]      [12, 1]   \n",
       " 5  iter(5)     [4, 7]           12     [4, 7, 10]      [12, 1]   \n",
       " 6  iter(6)     [4, 7]           12  [4, 7, 5, 13]      [12, 1]   \n",
       " 7   simple   [10, 12]           11       [10, 12]  [11, 2, 11]   \n",
       " 8  iter(1)   [10, 12]           11       [10, 12]  [11, 2, 11]   \n",
       " 9  iter(2)   [10, 12]           11       [10, 12]  [11, 2, 11]   \n",
       " \n",
       "                    outcome  outcome_value outcome_name  \n",
       " 0  HandOutcome.LOSE_DOUBLE           -2.0  LOSE_DOUBLE  \n",
       " 1         HandOutcome.LOSE           -1.0         LOSE  \n",
       " 2  HandOutcome.LOSE_DOUBLE           -2.0  LOSE_DOUBLE  \n",
       " 3         HandOutcome.LOSE           -1.0         LOSE  \n",
       " 4         HandOutcome.LOSE           -1.0         LOSE  \n",
       " 5         HandOutcome.LOSE           -1.0         LOSE  \n",
       " 6         HandOutcome.LOSE           -1.0         LOSE  \n",
       " 7          HandOutcome.WIN            1.0          WIN  \n",
       " 8          HandOutcome.WIN            1.0          WIN  \n",
       " 9          HandOutcome.WIN            1.0          WIN  ,\n",
       "                    len                                                \\\n",
       " outcome_name BLACKJACK    LOSE LOSE_DOUBLE   PUSH     WIN WIN_DOUBLE   \n",
       " strategy                                                               \n",
       " iter(1)          13644  139535        8598  24067  102291      11865   \n",
       " iter(2)          13644  135330       10721  24684   99843      15778   \n",
       " iter(3)          13644  136108        9343  25380  100861      14664   \n",
       " iter(4)          13644  135625        9305  25968  100997      14461   \n",
       " iter(5)          13644  136291        9029  24865  101829      14342   \n",
       " iter(6)          13644  135553        9490  25591  100996      14726   \n",
       " simple           13644  138780        7347  25787  104609       9833   \n",
       " \n",
       "              mean_outcome  \n",
       " outcome_name               \n",
       " strategy                   \n",
       " iter(1)         -0.034147  \n",
       " iter(2)         -0.016357  \n",
       " iter(3)         -0.013797  \n",
       " iter(4)         -0.012833  \n",
       " iter(5)         -0.011233  \n",
       " iter(6)         -0.012063  \n",
       " simple          -0.029110  )"
      ]
     },
     "execution_count": 45,
     "metadata": {},
     "output_type": "execute_result"
    }
   ],
   "source": [
    "sims = run_n_sim_trials(strategies, 300*1000)\n",
    "sims.head(10), summarize_totals(sims)"
   ]
  },
  {
   "cell_type": "code",
   "execution_count": null,
   "id": "institutional-buffalo",
   "metadata": {},
   "outputs": [],
   "source": []
  }
 ],
 "metadata": {
  "kernelspec": {
   "display_name": "Python 3",
   "language": "python",
   "name": "python3"
  },
  "language_info": {
   "codemirror_mode": {
    "name": "ipython",
    "version": 3
   },
   "file_extension": ".py",
   "mimetype": "text/x-python",
   "name": "python",
   "nbconvert_exporter": "python",
   "pygments_lexer": "ipython3",
   "version": "3.8.8"
  }
 },
 "nbformat": 4,
 "nbformat_minor": 5
}
