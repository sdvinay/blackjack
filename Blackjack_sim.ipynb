{
 "cells": [
  {
   "cell_type": "code",
   "execution_count": 1,
   "id": "middle-scenario",
   "metadata": {
    "ExecuteTime": {
     "end_time": "2021-07-07T21:55:51.380586Z",
     "start_time": "2021-07-07T21:55:50.533430Z"
    }
   },
   "outputs": [],
   "source": [
    "from dataclasses import dataclass, field\n",
    "import copy\n",
    "from enum import Enum, auto\n",
    "import random\n",
    "import pandas as pd\n",
    "import seaborn as sns\n",
    "\n",
    "\n",
    "import blackjack as bj\n",
    "from blackjack import Hand, make_hand, HandScore, add_card"
   ]
  },
  {
   "cell_type": "code",
   "execution_count": 2,
   "id": "vanilla-witness",
   "metadata": {
    "ExecuteTime": {
     "end_time": "2021-07-07T21:55:51.384803Z",
     "start_time": "2021-07-07T21:55:51.381735Z"
    }
   },
   "outputs": [
    {
     "data": {
      "text/plain": [
       "s11"
      ]
     },
     "execution_count": 2,
     "metadata": {},
     "output_type": "execute_result"
    }
   ],
   "source": [
    "h = HandScore(11, True)\n",
    "h"
   ]
  },
  {
   "cell_type": "code",
   "execution_count": 3,
   "id": "distributed-survival",
   "metadata": {
    "ExecuteTime": {
     "end_time": "2021-07-07T21:55:51.389619Z",
     "start_time": "2021-07-07T21:55:51.387553Z"
    }
   },
   "outputs": [
    {
     "data": {
      "text/plain": [
       "s21"
      ]
     },
     "execution_count": 3,
     "metadata": {},
     "output_type": "execute_result"
    }
   ],
   "source": [
    "h.add_card(10)"
   ]
  },
  {
   "cell_type": "code",
   "execution_count": 4,
   "id": "israeli-phenomenon",
   "metadata": {
    "ExecuteTime": {
     "end_time": "2021-07-07T21:55:51.392511Z",
     "start_time": "2021-07-07T21:55:51.390502Z"
    }
   },
   "outputs": [
    {
     "data": {
      "text/plain": [
       "h21"
      ]
     },
     "execution_count": 4,
     "metadata": {},
     "output_type": "execute_result"
    }
   ],
   "source": [
    "h.add_card(10).add_card(10)"
   ]
  },
  {
   "cell_type": "code",
   "execution_count": 5,
   "id": "confused-trance",
   "metadata": {
    "ExecuteTime": {
     "end_time": "2021-07-07T21:55:51.395264Z",
     "start_time": "2021-07-07T21:55:51.393385Z"
    }
   },
   "outputs": [
    {
     "data": {
      "text/plain": [
       "s11"
      ]
     },
     "execution_count": 5,
     "metadata": {},
     "output_type": "execute_result"
    }
   ],
   "source": [
    "h"
   ]
  },
  {
   "cell_type": "code",
   "execution_count": 6,
   "id": "logical-glass",
   "metadata": {
    "ExecuteTime": {
     "end_time": "2021-07-07T21:55:51.398135Z",
     "start_time": "2021-07-07T21:55:51.396260Z"
    }
   },
   "outputs": [
    {
     "data": {
      "text/plain": [
       "s14"
      ]
     },
     "execution_count": 6,
     "metadata": {},
     "output_type": "execute_result"
    }
   ],
   "source": [
    "h.add_card(3)"
   ]
  },
  {
   "cell_type": "code",
   "execution_count": 7,
   "id": "expanded-quest",
   "metadata": {
    "ExecuteTime": {
     "end_time": "2021-07-07T21:55:51.402450Z",
     "start_time": "2021-07-07T21:55:51.400218Z"
    }
   },
   "outputs": [
    {
     "data": {
      "text/plain": [
       "h14"
      ]
     },
     "execution_count": 7,
     "metadata": {},
     "output_type": "execute_result"
    }
   ],
   "source": [
    "h.add_card(3).add_card(10)"
   ]
  },
  {
   "cell_type": "code",
   "execution_count": 8,
   "id": "coupled-location",
   "metadata": {
    "ExecuteTime": {
     "end_time": "2021-07-07T21:55:51.406999Z",
     "start_time": "2021-07-07T21:55:51.404106Z"
    }
   },
   "outputs": [
    {
     "data": {
      "text/plain": [
       "[h00,\n",
       " h01,\n",
       " h02,\n",
       " h03,\n",
       " h04,\n",
       " h05,\n",
       " h06,\n",
       " h07,\n",
       " h08,\n",
       " h09,\n",
       " h10,\n",
       " h11,\n",
       " h12,\n",
       " h13,\n",
       " h14,\n",
       " h15,\n",
       " h16,\n",
       " h17,\n",
       " h18,\n",
       " h19,\n",
       " h20,\n",
       " h21,\n",
       " h22,\n",
       " s11,\n",
       " s12,\n",
       " s13,\n",
       " s14,\n",
       " s15,\n",
       " s16,\n",
       " s17,\n",
       " s18,\n",
       " s19,\n",
       " s20,\n",
       " s21]"
      ]
     },
     "execution_count": 8,
     "metadata": {},
     "output_type": "execute_result"
    }
   ],
   "source": [
    "all_scores = [HandScore(i, False) for i in range(0, 23)] + [HandScore(i, True) for i in range(11, 22)]\n",
    "all_scores"
   ]
  },
  {
   "cell_type": "code",
   "execution_count": 9,
   "id": "alpine-notice",
   "metadata": {
    "ExecuteTime": {
     "end_time": "2021-07-07T21:55:51.412028Z",
     "start_time": "2021-07-07T21:55:51.407898Z"
    }
   },
   "outputs": [],
   "source": [
    "@dataclass\n",
    "class Hand:\n",
    "    \"\"\"Class for representing a blackjack hand.\"\"\"\n",
    "    score: HandScore = HandScore()\n",
    "    cards: [int] = field(default_factory=list)\n",
    "    doubled: bool = False\n",
    "\n",
    "    def add_card(self, card):\n",
    "        self.score = add_card(self.score, card)\n",
    "        self.cards += [card]\n",
    "        return self\n"
   ]
  },
  {
   "cell_type": "code",
   "execution_count": 10,
   "id": "initial-harrison",
   "metadata": {
    "ExecuteTime": {
     "end_time": "2021-07-07T21:55:51.417342Z",
     "start_time": "2021-07-07T21:55:51.413768Z"
    }
   },
   "outputs": [
    {
     "data": {
      "text/plain": [
       "Hand(score=h00, cards=[], doubled=False)"
      ]
     },
     "execution_count": 10,
     "metadata": {},
     "output_type": "execute_result"
    }
   ],
   "source": [
    "h = Hand()\n",
    "h"
   ]
  },
  {
   "cell_type": "code",
   "execution_count": 11,
   "id": "reduced-cover",
   "metadata": {
    "ExecuteTime": {
     "end_time": "2021-07-07T21:55:51.422012Z",
     "start_time": "2021-07-07T21:55:51.418800Z"
    }
   },
   "outputs": [
    {
     "data": {
      "text/plain": [
       "Hand(score=h06, cards=[6], doubled=False)"
      ]
     },
     "execution_count": 11,
     "metadata": {},
     "output_type": "execute_result"
    }
   ],
   "source": [
    "h.add_card(6) # start a hand with a 6"
   ]
  },
  {
   "cell_type": "code",
   "execution_count": 12,
   "id": "aging-green",
   "metadata": {
    "ExecuteTime": {
     "end_time": "2021-07-07T21:55:51.427030Z",
     "start_time": "2021-07-07T21:55:51.423162Z"
    }
   },
   "outputs": [
    {
     "data": {
      "text/plain": [
       "Hand(score=h16, cards=[6, 11], doubled=False)"
      ]
     },
     "execution_count": 12,
     "metadata": {},
     "output_type": "execute_result"
    }
   ],
   "source": [
    "h.add_card(11) # show that J (11) counts as 10 points"
   ]
  },
  {
   "cell_type": "code",
   "execution_count": 13,
   "id": "humanitarian-chair",
   "metadata": {
    "ExecuteTime": {
     "end_time": "2021-07-07T21:55:51.432887Z",
     "start_time": "2021-07-07T21:55:51.429187Z"
    }
   },
   "outputs": [
    {
     "data": {
      "text/plain": [
       "(Hand(score=h22, cards=[6, 11, 7], doubled=False), True)"
      ]
     },
     "execution_count": 13,
     "metadata": {},
     "output_type": "execute_result"
    }
   ],
   "source": [
    "h.add_card(7), bj.is_busted(h) # bust (show that 23 is counted as 22)"
   ]
  },
  {
   "cell_type": "code",
   "execution_count": 14,
   "id": "accompanied-perspective",
   "metadata": {
    "ExecuteTime": {
     "end_time": "2021-07-07T21:55:51.438133Z",
     "start_time": "2021-07-07T21:55:51.434894Z"
    }
   },
   "outputs": [
    {
     "data": {
      "text/plain": [
       "Hand(score=s11, cards=[1], doubled=False)"
      ]
     },
     "execution_count": 14,
     "metadata": {},
     "output_type": "execute_result"
    }
   ],
   "source": [
    "# OK, now let's try another hand with aces\n",
    "h = Hand()\n",
    "h.add_card(1) # should be a soft 11"
   ]
  },
  {
   "cell_type": "code",
   "execution_count": 15,
   "id": "exotic-checkout",
   "metadata": {
    "ExecuteTime": {
     "end_time": "2021-07-07T21:55:51.442333Z",
     "start_time": "2021-07-07T21:55:51.439440Z"
    }
   },
   "outputs": [
    {
     "data": {
      "text/plain": [
       "Hand(score=h12, cards=[1, 1], doubled=False)"
      ]
     },
     "execution_count": 15,
     "metadata": {},
     "output_type": "execute_result"
    }
   ],
   "source": [
    "h.add_card(1) # two aces: should be a soft 12"
   ]
  },
  {
   "cell_type": "code",
   "execution_count": 16,
   "id": "italian-beads",
   "metadata": {
    "ExecuteTime": {
     "end_time": "2021-07-07T21:55:51.447702Z",
     "start_time": "2021-07-07T21:55:51.444081Z"
    }
   },
   "outputs": [
    {
     "data": {
      "text/plain": [
       "Hand(score=h22, cards=[1, 1, 11], doubled=False)"
      ]
     },
     "execution_count": 16,
     "metadata": {},
     "output_type": "execute_result"
    }
   ],
   "source": [
    "h.add_card(11) # two aces and a J: should be a hard 12"
   ]
  },
  {
   "cell_type": "code",
   "execution_count": 17,
   "id": "neutral-sugar",
   "metadata": {
    "ExecuteTime": {
     "end_time": "2021-07-07T21:55:51.452879Z",
     "start_time": "2021-07-07T21:55:51.450078Z"
    }
   },
   "outputs": [
    {
     "data": {
      "text/plain": [
       "(Hand(score=s21, cards=[1, 10], doubled=False), True)"
      ]
     },
     "execution_count": 17,
     "metadata": {},
     "output_type": "execute_result"
    }
   ],
   "source": [
    "# OK, now let's try another hand with a blackjack\n",
    "h = Hand()\n",
    "h.add_card(1) # should be a soft 11\n",
    "h.add_card(10)\n",
    "h, bj.is_blackjack(h)"
   ]
  },
  {
   "cell_type": "markdown",
   "id": "dental-kelly",
   "metadata": {},
   "source": [
    "## Now define gameplay and strategy"
   ]
  },
  {
   "cell_type": "code",
   "execution_count": 18,
   "id": "alternative-blast",
   "metadata": {
    "ExecuteTime": {
     "end_time": "2021-07-07T21:55:51.456215Z",
     "start_time": "2021-07-07T21:55:51.453925Z"
    }
   },
   "outputs": [],
   "source": [
    "\n",
    "# TODO I might want a Flag class later, to provide a set of possible Actions\n",
    "class Action(Enum):\n",
    "    STAND = auto()\n",
    "    HIT = auto()\n",
    "    DOUBLE = auto()\n",
    "    #SPLIT = auto()\n",
    "    \n",
    "    "
   ]
  },
  {
   "cell_type": "code",
   "execution_count": 19,
   "id": "experimental-roulette",
   "metadata": {
    "ExecuteTime": {
     "end_time": "2021-07-07T21:55:51.463285Z",
     "start_time": "2021-07-07T21:55:51.457643Z"
    }
   },
   "outputs": [],
   "source": [
    "# Most simple/conservative strategy imaginable:\n",
    "def strat_nobust(score_p, _):\n",
    "    if score_p.points > 11:\n",
    "        return Action.STAND\n",
    "    else:\n",
    "        return Action.HIT\n",
    "        \n",
    "strat_nobust.name = 'strat_nobust'"
   ]
  },
  {
   "cell_type": "code",
   "execution_count": 20,
   "id": "constitutional-audit",
   "metadata": {
    "ExecuteTime": {
     "end_time": "2021-07-07T21:55:51.470594Z",
     "start_time": "2021-07-07T21:55:51.467880Z"
    }
   },
   "outputs": [],
   "source": [
    "# Dealer strategy\n",
    "def strat_dealer(score_p, _):\n",
    "    if score_p.points < 17:\n",
    "        return Action.HIT\n",
    "    if score_p.points == 16 and score_p.soft:\n",
    "        return Action.HIT\n",
    "    else:\n",
    "        return Action.STAND\n",
    "    \n",
    "strat_dealer.name='strat_dealer'\n",
    "        "
   ]
  },
  {
   "cell_type": "code",
   "execution_count": 21,
   "id": "illegal-eclipse",
   "metadata": {
    "ExecuteTime": {
     "end_time": "2021-07-07T21:55:51.473667Z",
     "start_time": "2021-07-07T21:55:51.471603Z"
    }
   },
   "outputs": [],
   "source": [
    "class HandOutcome(Enum):\n",
    "    WIN = 1\n",
    "    LOSE = -1\n",
    "    WIN_DOUBLE = 2\n",
    "    LOSE_DOUBLE = -2\n",
    "    PUSH = 0\n",
    "    BLACKJACK = 1.5"
   ]
  },
  {
   "cell_type": "code",
   "execution_count": 22,
   "id": "rubber-cartoon",
   "metadata": {
    "ExecuteTime": {
     "end_time": "2021-07-07T21:55:51.480811Z",
     "start_time": "2021-07-07T21:55:51.478574Z"
    }
   },
   "outputs": [],
   "source": [
    "# Deck; completely random (i.e., infinite) for now\n",
    "\n",
    "\n",
    "def deal_card():\n",
    "    return random.randrange(13)+1"
   ]
  },
  {
   "cell_type": "code",
   "execution_count": 23,
   "id": "secondary-crown",
   "metadata": {
    "ExecuteTime": {
     "end_time": "2021-07-07T21:55:51.486365Z",
     "start_time": "2021-07-07T21:55:51.483934Z"
    }
   },
   "outputs": [
    {
     "data": {
      "text/plain": [
       "[12, 1, 5, 9, 1, 1, 4, 1, 5, 1]"
      ]
     },
     "execution_count": 23,
     "metadata": {},
     "output_type": "execute_result"
    }
   ],
   "source": [
    "[deal_card() for _ in range(10)]"
   ]
  },
  {
   "cell_type": "code",
   "execution_count": 24,
   "id": "adopted-miami",
   "metadata": {
    "ExecuteTime": {
     "end_time": "2021-07-07T21:55:51.490396Z",
     "start_time": "2021-07-07T21:55:51.487343Z"
    }
   },
   "outputs": [],
   "source": [
    "# return the final hand after playing\n",
    "def player_play_hand(strategy, hand_p, hand_d, deck):\n",
    "    while True:\n",
    "        decision = strategy(hand_p.score, hand_d.score)\n",
    "        if decision == Action.STAND:\n",
    "            return hand_p\n",
    "        if decision == Action.HIT:\n",
    "            hand_p.add_card(deck())\n",
    "            if bj.is_busted(hand_p):\n",
    "                return hand_p\n",
    "        if decision == Action.DOUBLE:\n",
    "            hand_p.doubled = True\n",
    "            hand_p.add_card(deck())\n",
    "            return hand_p\n",
    "\n"
   ]
  },
  {
   "cell_type": "code",
   "execution_count": 25,
   "id": "recent-notion",
   "metadata": {
    "ExecuteTime": {
     "end_time": "2021-07-07T21:55:51.495505Z",
     "start_time": "2021-07-07T21:55:51.491352Z"
    }
   },
   "outputs": [],
   "source": [
    "def player_hand_outcome(player_hand, dealer_hand):\n",
    "    # First compute the initial outcome, then double it if necessary for a double-down\n",
    "    def initial_outcome():\n",
    "        if bj.is_blackjack(player_hand):\n",
    "            if bj.is_blackjack(dealer_hand):\n",
    "                return HandOutcome.PUSH\n",
    "            else:\n",
    "                return HandOutcome.BLACKJACK\n",
    "        if bj.is_busted(player_hand) or bj.is_blackjack(dealer_hand):\n",
    "            return HandOutcome.LOSE\n",
    "        if bj.is_busted(dealer_hand):\n",
    "            return HandOutcome.WIN\n",
    "        if player_hand.score.points > dealer_hand.score.points:\n",
    "            return HandOutcome.WIN\n",
    "        if player_hand.score.points == dealer_hand.score.points:\n",
    "            return HandOutcome.PUSH\n",
    "        if player_hand.score.points < dealer_hand.score.points:\n",
    "            return HandOutcome.LOSE\n",
    "\n",
    "    outcome = initial_outcome()\n",
    "\n",
    "    outcome_doubler = {HandOutcome.WIN: HandOutcome.WIN_DOUBLE, HandOutcome.LOSE: HandOutcome.LOSE_DOUBLE}\n",
    "\n",
    "    if player_hand.doubled:\n",
    "        outcome = outcome_doubler.get(outcome) or outcome\n",
    "    return outcome\n",
    "        \n"
   ]
  },
  {
   "cell_type": "code",
   "execution_count": 26,
   "id": "violent-quality",
   "metadata": {
    "ExecuteTime": {
     "end_time": "2021-07-07T21:55:51.499292Z",
     "start_time": "2021-07-07T21:55:51.496708Z"
    }
   },
   "outputs": [],
   "source": [
    "def get_strat_name(strat):\n",
    "    if hasattr(strat, 'name'):\n",
    "        return strat.name\n",
    "    return repr(strat)"
   ]
  },
  {
   "cell_type": "code",
   "execution_count": 27,
   "id": "atomic-plaintiff",
   "metadata": {
    "ExecuteTime": {
     "end_time": "2021-07-07T21:55:51.506007Z",
     "start_time": "2021-07-07T21:55:51.500513Z"
    }
   },
   "outputs": [
    {
     "data": {
      "text/plain": [
       "[('strat_nobust',\n",
       "  Hand(score=h12, cards=[1, 1], doubled=False),\n",
       "  Hand(score=h20, cards=[13, 10], doubled=False),\n",
       "  <HandOutcome.LOSE: -1>),\n",
       " ('strat_nobust',\n",
       "  Hand(score=h12, cards=[1, 1], doubled=False),\n",
       "  Hand(score=h20, cards=[13, 10], doubled=False),\n",
       "  <HandOutcome.LOSE: -1>)]"
      ]
     },
     "execution_count": 27,
     "metadata": {},
     "output_type": "execute_result"
    }
   ],
   "source": [
    "# Goal is to evaluate strategies, so make comparisons simple\n",
    "\n",
    "# For each round:\n",
    "# Multiple players all play with a copy of the same starting hand\n",
    "# Each player has a strategy that they play\n",
    "# Dealer plays dealer strategy\n",
    "\n",
    "# For now, we're using an infinite deck and strategies without knowledge, so\n",
    "# the interaction of players/strategies should be a wash\n",
    "\n",
    "def deal_one_round():\n",
    "    hand_p = Hand()\n",
    "    hand_d = Hand()\n",
    "\n",
    "    hand_p.add_card(deal_card())\n",
    "    hand_d.add_card(deal_card())\n",
    "    hand_p.add_card(deal_card())\n",
    "    \n",
    "    dealer_hole_card = deal_card()\n",
    "    \n",
    "    return hand_p, hand_d, dealer_hole_card\n",
    "\n",
    "\n",
    "# Play multiple strategies on one starting point\n",
    "def complete_one_round(strats, player_hand, dealer_hand, dealer_hole_card):\n",
    "    hand_p = copy.deepcopy(player_hand)\n",
    "    hand_d = copy.deepcopy(dealer_hand)\n",
    "    \n",
    "    # represent each player as a hand and a strategy\n",
    "    players = [(player_play_hand(strat, copy.deepcopy(hand_p), hand_d, deal_card), get_strat_name(strat)) for strat in strats]\n",
    "    \n",
    "    # dealer\n",
    "    player_play_hand(strat_dealer, hand_d.add_card(dealer_hole_card), Hand(), deal_card)\n",
    "    \n",
    "    return [(strat, hand_p, hand_d, player_hand_outcome(hand_p, hand_d)) for (hand_p, strat) in players]\n",
    "\n",
    "    \n",
    "def play_one_round(strats):\n",
    "    hand_p, hand_d, dealer_hole_card = deal_one_round()\n",
    "    return complete_one_round(strats, hand_p, hand_d, dealer_hole_card)\n",
    "\n",
    "play_one_round([strat_nobust, strat_nobust])"
   ]
  },
  {
   "cell_type": "markdown",
   "id": "looking-jewelry",
   "metadata": {},
   "source": [
    "## Aggregate and summarize the data from the simulations"
   ]
  },
  {
   "cell_type": "code",
   "execution_count": 28,
   "id": "juvenile-joshua",
   "metadata": {
    "ExecuteTime": {
     "end_time": "2021-07-07T21:55:51.512389Z",
     "start_time": "2021-07-07T21:55:51.507033Z"
    }
   },
   "outputs": [
    {
     "data": {
      "text/plain": [
       "[{'strategy': 'strat_nobust',\n",
       "  'hand_start': [8, 13],\n",
       "  'dealer_card': 10,\n",
       "  'hand_end': [8, 13],\n",
       "  'dealer_hand': [10, 3, 10],\n",
       "  'outcome': <HandOutcome.WIN: 1>},\n",
       " {'strategy': 'strat_dealer',\n",
       "  'hand_start': [8, 13],\n",
       "  'dealer_card': 10,\n",
       "  'hand_end': [8, 13],\n",
       "  'dealer_hand': [10, 3, 10],\n",
       "  'outcome': <HandOutcome.WIN: 1>}]"
      ]
     },
     "execution_count": 28,
     "metadata": {},
     "output_type": "execute_result"
    }
   ],
   "source": [
    "\n",
    "def generate_row_from_player(player):\n",
    "    (strat, hand_p, hand_d, outcome) = player\n",
    "    return {'strategy': strat, 'hand_start': hand_p.cards[:2], 'dealer_card': hand_d.cards[0], 'hand_end': hand_p.cards, 'dealer_hand': hand_d.cards, 'outcome': outcome}\n",
    "\n",
    "def generate_rows_from_round(r):\n",
    "    return [generate_row_from_player(player) for player in r]\n",
    "\n",
    "\n",
    "generate_rows_from_round(play_one_round([strat_nobust, strat_dealer]))\n"
   ]
  },
  {
   "cell_type": "code",
   "execution_count": 29,
   "id": "approved-broadway",
   "metadata": {
    "ExecuteTime": {
     "end_time": "2021-07-07T21:55:51.615375Z",
     "start_time": "2021-07-07T21:55:51.514188Z"
    }
   },
   "outputs": [
    {
     "data": {
      "text/plain": [
       "(          strategy hand_start  dealer_card          hand_end   dealer_hand  \\\n",
       " 0     strat_nobust    [6, 12]            7           [6, 12]     [7, 7, 4]   \n",
       " 1     strat_dealer    [6, 12]            7       [6, 12, 13]     [7, 7, 4]   \n",
       " 2     strat_nobust    [11, 2]            6           [11, 2]     [6, 8, 9]   \n",
       " 3     strat_dealer    [11, 2]            6        [11, 2, 5]     [6, 8, 9]   \n",
       " 4     strat_nobust    [2, 10]            6           [2, 10]    [6, 11, 4]   \n",
       " ...            ...        ...          ...               ...           ...   \n",
       " 1995  strat_dealer    [11, 7]            1           [11, 7]       [1, 11]   \n",
       " 1996  strat_nobust     [9, 5]            8            [9, 5]     [8, 4, 9]   \n",
       " 1997  strat_dealer     [9, 5]            8         [9, 5, 8]     [8, 4, 9]   \n",
       " 1998  strat_nobust     [3, 5]            5     [3, 5, 2, 12]  [5, 2, 8, 2]   \n",
       " 1999  strat_dealer     [3, 5]            5  [3, 5, 3, 1, 12]  [5, 2, 8, 2]   \n",
       " \n",
       "                outcome  outcome_value outcome_name  \n",
       " 0     HandOutcome.LOSE           -1.0         LOSE  \n",
       " 1     HandOutcome.LOSE           -1.0         LOSE  \n",
       " 2      HandOutcome.WIN            1.0          WIN  \n",
       " 3      HandOutcome.WIN            1.0          WIN  \n",
       " 4     HandOutcome.LOSE           -1.0         LOSE  \n",
       " ...                ...            ...          ...  \n",
       " 1995  HandOutcome.LOSE           -1.0         LOSE  \n",
       " 1996  HandOutcome.LOSE           -1.0         LOSE  \n",
       " 1997  HandOutcome.LOSE           -1.0         LOSE  \n",
       " 1998   HandOutcome.WIN            1.0          WIN  \n",
       " 1999  HandOutcome.LOSE           -1.0         LOSE  \n",
       " \n",
       " [2000 rows x 8 columns],\n",
       "                    len                mean_outcome\n",
       " outcome_name BLACKJACK LOSE PUSH  WIN             \n",
       " strategy                                          \n",
       " strat_dealer        45  475  103  377      -0.0305\n",
       " strat_nobust        45  497   74  384      -0.0455)"
      ]
     },
     "execution_count": 29,
     "metadata": {},
     "output_type": "execute_result"
    }
   ],
   "source": [
    "def run_n_sim_trials(strats, n):\n",
    "    sims = [generate_rows_from_round(play_one_round(strats)) for _ in range(n)]\n",
    "    results = pd.DataFrame([player for round in sims for player in round])\n",
    "    results['outcome_value'] = results['outcome'].apply(lambda x: x.value)\n",
    "    results['outcome_name'] = results['outcome'].apply(lambda x: str(x)[12:])\n",
    "    return results\n",
    "\n",
    "def summarize_totals(sims):\n",
    "    def outcome_name(x): return x.head(1) # The function name will be used as the column name\n",
    "    outcome_counts = sims.groupby(['strategy', 'outcome_value'])['outcome_name'].agg([len, outcome_name])\n",
    "    outcome_summary = outcome_counts.reset_index().set_index('strategy').drop(['outcome_value'], axis=1).pivot(columns=['outcome_name'])\n",
    "\n",
    "    # The empty cells are NaNs; fill the NaNs and convert back to int\n",
    "    for col in outcome_summary.columns:\n",
    "        outcome_summary[col] = outcome_summary[col].fillna(0).apply(int)\n",
    "        \n",
    "    outcome_summary['mean_outcome'] = sims.groupby('strategy')['outcome_value'].mean()\n",
    "    \n",
    "    return outcome_summary\n",
    "\n",
    "\n",
    "sim_results = run_n_sim_trials([strat_nobust, strat_dealer], 1000)\n",
    "sim_results, summarize_totals(sim_results)"
   ]
  },
  {
   "cell_type": "code",
   "execution_count": 30,
   "id": "varied-devil",
   "metadata": {
    "ExecuteTime": {
     "end_time": "2021-07-07T21:55:51.689756Z",
     "start_time": "2021-07-07T21:55:51.616357Z"
    }
   },
   "outputs": [
    {
     "data": {
      "text/plain": [
       "(  strategy hand_start  dealer_card       hand_end    dealer_hand  \\\n",
       " 0   simple    [11, 5]            4        [11, 5]  [4, 10, 1, 7]   \n",
       " 1   simple     [8, 3]            4     [8, 3, 12]   [4, 4, 8, 5]   \n",
       " 2   simple     [2, 2]            1  [2, 2, 12, 4]  [1, 5, 7, 10]   \n",
       " 3   simple    [8, 10]            1        [8, 10]         [1, 6]   \n",
       " 4   simple     [8, 6]           13     [8, 6, 11]       [13, 13]   \n",
       " 5   simple   [11, 12]            1       [11, 12]   [1, 3, 3, 1]   \n",
       " 6   simple    [12, 8]            3        [12, 8]   [3, 8, 4, 4]   \n",
       " 7   simple    [1, 10]            6        [1, 10]    [6, 10, 11]   \n",
       " 8   simple    [13, 5]            4        [13, 5]  [4, 2, 6, 11]   \n",
       " 9   simple    [11, 6]            1    [11, 6, 10]        [1, 13]   \n",
       " \n",
       "                  outcome  outcome_value outcome_name  \n",
       " 0        HandOutcome.WIN            1.0          WIN  \n",
       " 1       HandOutcome.PUSH            0.0         PUSH  \n",
       " 2        HandOutcome.WIN            1.0          WIN  \n",
       " 3        HandOutcome.WIN            1.0          WIN  \n",
       " 4       HandOutcome.LOSE           -1.0         LOSE  \n",
       " 5        HandOutcome.WIN            1.0          WIN  \n",
       " 6       HandOutcome.LOSE           -1.0         LOSE  \n",
       " 7  HandOutcome.BLACKJACK            1.5    BLACKJACK  \n",
       " 8        HandOutcome.WIN            1.0          WIN  \n",
       " 9       HandOutcome.LOSE           -1.0         LOSE  ,\n",
       "                    len                                       mean_outcome\n",
       " outcome_name BLACKJACK LOSE LOSE_DOUBLE PUSH  WIN WIN_DOUBLE             \n",
       " strategy                                                                 \n",
       " simple              44  443          25   92  360         36        0.005)"
      ]
     },
     "execution_count": 30,
     "metadata": {},
     "output_type": "execute_result"
    }
   ],
   "source": [
    "def strat_simple(score_p, score_d):\n",
    "    if score_p.points == 11:  return Action.DOUBLE\n",
    "    if score_p.points >= 17:  return Action.STAND\n",
    "    if score_p.points <= 11:  return Action.HIT\n",
    "    if score_d.points in (range(3,7)):  return Action.STAND\n",
    "    else:  return Action.HIT\n",
    "        \n",
    "strat_simple.name = 'simple'\n",
    "\n",
    "\n",
    "sims = run_n_sim_trials([strat_simple], 1000)\n",
    "sims.head(10), summarize_totals(sims)"
   ]
  },
  {
   "cell_type": "code",
   "execution_count": 31,
   "id": "confirmed-passing",
   "metadata": {
    "ExecuteTime": {
     "end_time": "2021-07-07T21:55:52.653534Z",
     "start_time": "2021-07-07T21:55:51.690951Z"
    }
   },
   "outputs": [
    {
     "data": {
      "text/html": [
       "<div>\n",
       "<style scoped>\n",
       "    .dataframe tbody tr th:only-of-type {\n",
       "        vertical-align: middle;\n",
       "    }\n",
       "\n",
       "    .dataframe tbody tr th {\n",
       "        vertical-align: top;\n",
       "    }\n",
       "\n",
       "    .dataframe thead tr th {\n",
       "        text-align: left;\n",
       "    }\n",
       "\n",
       "    .dataframe thead tr:last-of-type th {\n",
       "        text-align: right;\n",
       "    }\n",
       "</style>\n",
       "<table border=\"1\" class=\"dataframe\">\n",
       "  <thead>\n",
       "    <tr>\n",
       "      <th></th>\n",
       "      <th colspan=\"6\" halign=\"left\">len</th>\n",
       "      <th>mean_outcome</th>\n",
       "    </tr>\n",
       "    <tr>\n",
       "      <th>outcome_name</th>\n",
       "      <th>BLACKJACK</th>\n",
       "      <th>LOSE</th>\n",
       "      <th>LOSE_DOUBLE</th>\n",
       "      <th>PUSH</th>\n",
       "      <th>WIN</th>\n",
       "      <th>WIN_DOUBLE</th>\n",
       "      <th></th>\n",
       "    </tr>\n",
       "    <tr>\n",
       "      <th>strategy</th>\n",
       "      <th></th>\n",
       "      <th></th>\n",
       "      <th></th>\n",
       "      <th></th>\n",
       "      <th></th>\n",
       "      <th></th>\n",
       "      <th></th>\n",
       "    </tr>\n",
       "  </thead>\n",
       "  <tbody>\n",
       "    <tr>\n",
       "      <th>simple</th>\n",
       "      <td>459</td>\n",
       "      <td>4648</td>\n",
       "      <td>256</td>\n",
       "      <td>865</td>\n",
       "      <td>3443</td>\n",
       "      <td>329</td>\n",
       "      <td>-0.03705</td>\n",
       "    </tr>\n",
       "    <tr>\n",
       "      <th>strat_dealer</th>\n",
       "      <td>459</td>\n",
       "      <td>4954</td>\n",
       "      <td>0</td>\n",
       "      <td>959</td>\n",
       "      <td>3628</td>\n",
       "      <td>0</td>\n",
       "      <td>-0.06375</td>\n",
       "    </tr>\n",
       "    <tr>\n",
       "      <th>strat_nobust</th>\n",
       "      <td>459</td>\n",
       "      <td>5169</td>\n",
       "      <td>0</td>\n",
       "      <td>630</td>\n",
       "      <td>3742</td>\n",
       "      <td>0</td>\n",
       "      <td>-0.07385</td>\n",
       "    </tr>\n",
       "  </tbody>\n",
       "</table>\n",
       "</div>"
      ],
      "text/plain": [
       "                   len                                         mean_outcome\n",
       "outcome_name BLACKJACK  LOSE LOSE_DOUBLE PUSH   WIN WIN_DOUBLE             \n",
       "strategy                                                                   \n",
       "simple             459  4648         256  865  3443        329     -0.03705\n",
       "strat_dealer       459  4954           0  959  3628          0     -0.06375\n",
       "strat_nobust       459  5169           0  630  3742          0     -0.07385"
      ]
     },
     "execution_count": 31,
     "metadata": {},
     "output_type": "execute_result"
    }
   ],
   "source": [
    "summarize_totals(run_n_sim_trials([strat_dealer, strat_nobust, strat_simple], 10000))\n"
   ]
  },
  {
   "cell_type": "markdown",
   "id": "fluid-writing",
   "metadata": {},
   "source": [
    "## Simulate specific situations to determine strategy"
   ]
  },
  {
   "cell_type": "code",
   "execution_count": 32,
   "id": "superb-keeping",
   "metadata": {
    "ExecuteTime": {
     "end_time": "2021-07-07T21:55:52.656018Z",
     "start_time": "2021-07-07T21:55:52.654415Z"
    }
   },
   "outputs": [],
   "source": [
    "def make_hand(cards):\n",
    "    h = Hand()\n",
    "    for c in cards:\n",
    "        h = h.add_card(c)\n",
    "    return h"
   ]
  },
  {
   "cell_type": "code",
   "execution_count": 33,
   "id": "otherwise-sheffield",
   "metadata": {
    "ExecuteTime": {
     "end_time": "2021-07-07T21:55:52.658926Z",
     "start_time": "2021-07-07T21:55:52.656786Z"
    }
   },
   "outputs": [
    {
     "data": {
      "text/plain": [
       "(Hand(score=h12, cards=[5, 7], doubled=False),\n",
       " Hand(score=h02, cards=[2], doubled=False))"
      ]
     },
     "execution_count": 33,
     "metadata": {},
     "output_type": "execute_result"
    }
   ],
   "source": [
    "# 12 vs deuce\n",
    "\n",
    "hand_p = make_hand([5, 7])\n",
    "hand_d = make_hand([2])\n",
    "\n",
    "hand_p, hand_d"
   ]
  },
  {
   "cell_type": "code",
   "execution_count": 34,
   "id": "gross-kennedy",
   "metadata": {
    "ExecuteTime": {
     "end_time": "2021-07-07T21:55:52.662169Z",
     "start_time": "2021-07-07T21:55:52.659780Z"
    }
   },
   "outputs": [],
   "source": [
    "# Implement a strategy that composes conditions and actions\n",
    "\n",
    "def cond_12_2(score_p, score_d):\n",
    "    return score_p.points == 12 and score_d.points == 2 and not score_p.soft\n",
    "conditions = [(cond_12_2, Action.STAND)]\n",
    "\n",
    "def generate_strat_conditional(strat_base, conditions):\n",
    "    def strat_cond(score_p, score_d):\n",
    "        for (condition, action) in conditions:\n",
    "            if condition(score_p, score_d): return action\n",
    "        return strat_base(score_p, score_d)\n",
    "    strat_cond.name = 'strat_cond'\n",
    "    return strat_cond\n",
    "    \n",
    "strat_cond = generate_strat_conditional(strat_simple, conditions)"
   ]
  },
  {
   "cell_type": "code",
   "execution_count": 35,
   "id": "virgin-mining",
   "metadata": {
    "ExecuteTime": {
     "end_time": "2021-07-07T21:55:52.666302Z",
     "start_time": "2021-07-07T21:55:52.663036Z"
    }
   },
   "outputs": [
    {
     "data": {
      "text/plain": [
       "[<function __main__.generate_strat_conditional.<locals>.strat_cond(score_p, score_d)>,\n",
       " <function __main__.generate_strat_conditional.<locals>.strat_cond(score_p, score_d)>,\n",
       " <function __main__.generate_strat_conditional.<locals>.strat_cond(score_p, score_d)>]"
      ]
     },
     "execution_count": 35,
     "metadata": {},
     "output_type": "execute_result"
    }
   ],
   "source": [
    "def gen_cond_strategies(strat_base, condition, actions):\n",
    "    def gen_strat_action(strat_base, condition, action):\n",
    "        strat = generate_strat_conditional(strat_base, [(condition, action)])\n",
    "        strat.name = repr(action)\n",
    "        return strat\n",
    "    \n",
    "    strats = [gen_strat_action(strat_base, condition, a) for a in actions]\n",
    "    return strats\n",
    "    \n",
    "\n",
    "\n",
    "\n",
    "strats = gen_cond_strategies(strat_simple, cond_12_2, [Action.HIT, Action.STAND, Action.DOUBLE])\n",
    "strats"
   ]
  },
  {
   "cell_type": "code",
   "execution_count": 36,
   "id": "acoustic-warrant",
   "metadata": {
    "ExecuteTime": {
     "end_time": "2021-07-07T21:55:52.669311Z",
     "start_time": "2021-07-07T21:55:52.667127Z"
    }
   },
   "outputs": [
    {
     "data": {
      "text/plain": [
       "[('<Action.HIT: 2>',\n",
       "  Hand(score=h20, cards=[5, 7, 8], doubled=False),\n",
       "  Hand(score=h22, cards=[2, 8, 6, 13], doubled=False),\n",
       "  <HandOutcome.WIN: 1>),\n",
       " ('<Action.STAND: 1>',\n",
       "  Hand(score=h12, cards=[5, 7], doubled=False),\n",
       "  Hand(score=h22, cards=[2, 8, 6, 13], doubled=False),\n",
       "  <HandOutcome.WIN: 1>),\n",
       " ('<Action.DOUBLE: 3>',\n",
       "  Hand(score=h15, cards=[5, 7, 3], doubled=True),\n",
       "  Hand(score=h22, cards=[2, 8, 6, 13], doubled=False),\n",
       "  <HandOutcome.WIN_DOUBLE: 2>)]"
      ]
     },
     "execution_count": 36,
     "metadata": {},
     "output_type": "execute_result"
    }
   ],
   "source": [
    "complete_one_round(strats, hand_p, hand_d, deal_card())"
   ]
  },
  {
   "cell_type": "code",
   "execution_count": 37,
   "id": "economic-greene",
   "metadata": {
    "ExecuteTime": {
     "end_time": "2021-07-07T21:55:53.605732Z",
     "start_time": "2021-07-07T21:55:52.670068Z"
    }
   },
   "outputs": [
    {
     "data": {
      "text/html": [
       "<div>\n",
       "<style scoped>\n",
       "    .dataframe tbody tr th:only-of-type {\n",
       "        vertical-align: middle;\n",
       "    }\n",
       "\n",
       "    .dataframe tbody tr th {\n",
       "        vertical-align: top;\n",
       "    }\n",
       "\n",
       "    .dataframe thead tr th {\n",
       "        text-align: left;\n",
       "    }\n",
       "\n",
       "    .dataframe thead tr:last-of-type th {\n",
       "        text-align: right;\n",
       "    }\n",
       "</style>\n",
       "<table border=\"1\" class=\"dataframe\">\n",
       "  <thead>\n",
       "    <tr>\n",
       "      <th></th>\n",
       "      <th colspan=\"5\" halign=\"left\">len</th>\n",
       "      <th>mean_outcome</th>\n",
       "    </tr>\n",
       "    <tr>\n",
       "      <th>outcome_name</th>\n",
       "      <th>LOSE</th>\n",
       "      <th>LOSE_DOUBLE</th>\n",
       "      <th>PUSH</th>\n",
       "      <th>WIN</th>\n",
       "      <th>WIN_DOUBLE</th>\n",
       "      <th></th>\n",
       "    </tr>\n",
       "    <tr>\n",
       "      <th>strategy</th>\n",
       "      <th></th>\n",
       "      <th></th>\n",
       "      <th></th>\n",
       "      <th></th>\n",
       "      <th></th>\n",
       "      <th></th>\n",
       "    </tr>\n",
       "  </thead>\n",
       "  <tbody>\n",
       "    <tr>\n",
       "      <th>&lt;Action.DOUBLE: 3&gt;</th>\n",
       "      <td>0</td>\n",
       "      <td>6013</td>\n",
       "      <td>476</td>\n",
       "      <td>0</td>\n",
       "      <td>3511</td>\n",
       "      <td>-0.5004</td>\n",
       "    </tr>\n",
       "    <tr>\n",
       "      <th>&lt;Action.HIT: 2&gt;</th>\n",
       "      <td>6118</td>\n",
       "      <td>0</td>\n",
       "      <td>666</td>\n",
       "      <td>3216</td>\n",
       "      <td>0</td>\n",
       "      <td>-0.2902</td>\n",
       "    </tr>\n",
       "    <tr>\n",
       "      <th>&lt;Action.STAND: 1&gt;</th>\n",
       "      <td>6382</td>\n",
       "      <td>0</td>\n",
       "      <td>0</td>\n",
       "      <td>3618</td>\n",
       "      <td>0</td>\n",
       "      <td>-0.2764</td>\n",
       "    </tr>\n",
       "  </tbody>\n",
       "</table>\n",
       "</div>"
      ],
      "text/plain": [
       "                     len                                   mean_outcome\n",
       "outcome_name        LOSE LOSE_DOUBLE PUSH   WIN WIN_DOUBLE             \n",
       "strategy                                                               \n",
       "<Action.DOUBLE: 3>     0        6013  476     0       3511      -0.5004\n",
       "<Action.HIT: 2>     6118           0  666  3216          0      -0.2902\n",
       "<Action.STAND: 1>   6382           0    0  3618          0      -0.2764"
      ]
     },
     "execution_count": 37,
     "metadata": {},
     "output_type": "execute_result"
    }
   ],
   "source": [
    "# TODO reduce duplication with run_n_sim_trials\n",
    "def run_n_sim_trials_from_state(strats, hand_p, hand_d, n):\n",
    "    sims = [generate_rows_from_round(complete_one_round(strats, hand_p, hand_d, deal_card())) for _ in range(n)]\n",
    "    results = pd.DataFrame([player for round in sims for player in round])\n",
    "    results['outcome_value'] = results['outcome'].apply(lambda x: x.value)\n",
    "    results['outcome_name'] = results['outcome'].apply(lambda x: str(x)[12:])\n",
    "    return results\n",
    "\n",
    "sims = run_n_sim_trials_from_state(strats, hand_p, hand_d, 10000)\n",
    "summarize_totals(sims)"
   ]
  },
  {
   "cell_type": "code",
   "execution_count": 38,
   "id": "institutional-grain",
   "metadata": {
    "ExecuteTime": {
     "end_time": "2021-07-07T21:55:53.608839Z",
     "start_time": "2021-07-07T21:55:53.606714Z"
    }
   },
   "outputs": [
    {
     "data": {
      "text/plain": [
       "(Hand(score=h12, cards=[1, 1], doubled=False),\n",
       " Hand(score=h02, cards=[2], doubled=False))"
      ]
     },
     "execution_count": 38,
     "metadata": {},
     "output_type": "execute_result"
    }
   ],
   "source": [
    "# Soft 12 vs 2\n",
    "hand_12s = make_hand([1, 1])\n",
    "\n",
    "hand_12s, hand_d"
   ]
  },
  {
   "cell_type": "code",
   "execution_count": 39,
   "id": "legal-uniform",
   "metadata": {
    "ExecuteTime": {
     "end_time": "2021-07-07T21:55:53.612240Z",
     "start_time": "2021-07-07T21:55:53.609715Z"
    }
   },
   "outputs": [
    {
     "data": {
      "text/plain": [
       "[<function __main__.generate_strat_conditional.<locals>.strat_cond(score_p, score_d)>,\n",
       " <function __main__.generate_strat_conditional.<locals>.strat_cond(score_p, score_d)>,\n",
       " <function __main__.generate_strat_conditional.<locals>.strat_cond(score_p, score_d)>]"
      ]
     },
     "execution_count": 39,
     "metadata": {},
     "output_type": "execute_result"
    }
   ],
   "source": [
    "def cond_12s_2(score_p, score_d):\n",
    "    return score_p == HandScore(12, True) and score_d.points == 2\n",
    "\n",
    "strats = gen_cond_strategies(strat_simple, cond_12s_2, [Action.HIT, Action.STAND, Action.DOUBLE])\n",
    "strats"
   ]
  },
  {
   "cell_type": "code",
   "execution_count": 40,
   "id": "british-logging",
   "metadata": {
    "ExecuteTime": {
     "end_time": "2021-07-07T21:55:54.857346Z",
     "start_time": "2021-07-07T21:55:53.613011Z"
    }
   },
   "outputs": [
    {
     "data": {
      "text/html": [
       "<div>\n",
       "<style scoped>\n",
       "    .dataframe tbody tr th:only-of-type {\n",
       "        vertical-align: middle;\n",
       "    }\n",
       "\n",
       "    .dataframe tbody tr th {\n",
       "        vertical-align: top;\n",
       "    }\n",
       "\n",
       "    .dataframe thead tr th {\n",
       "        text-align: left;\n",
       "    }\n",
       "\n",
       "    .dataframe thead tr:last-of-type th {\n",
       "        text-align: right;\n",
       "    }\n",
       "</style>\n",
       "<table border=\"1\" class=\"dataframe\">\n",
       "  <thead>\n",
       "    <tr>\n",
       "      <th></th>\n",
       "      <th colspan=\"3\" halign=\"left\">len</th>\n",
       "      <th>mean_outcome</th>\n",
       "    </tr>\n",
       "    <tr>\n",
       "      <th>outcome_name</th>\n",
       "      <th>LOSE</th>\n",
       "      <th>PUSH</th>\n",
       "      <th>WIN</th>\n",
       "      <th></th>\n",
       "    </tr>\n",
       "    <tr>\n",
       "      <th>strategy</th>\n",
       "      <th></th>\n",
       "      <th></th>\n",
       "      <th></th>\n",
       "      <th></th>\n",
       "    </tr>\n",
       "  </thead>\n",
       "  <tbody>\n",
       "    <tr>\n",
       "      <th>&lt;Action.DOUBLE: 3&gt;</th>\n",
       "      <td>6146</td>\n",
       "      <td>651</td>\n",
       "      <td>3203</td>\n",
       "      <td>-0.2943</td>\n",
       "    </tr>\n",
       "    <tr>\n",
       "      <th>&lt;Action.HIT: 2&gt;</th>\n",
       "      <td>6069</td>\n",
       "      <td>672</td>\n",
       "      <td>3259</td>\n",
       "      <td>-0.2810</td>\n",
       "    </tr>\n",
       "    <tr>\n",
       "      <th>&lt;Action.STAND: 1&gt;</th>\n",
       "      <td>6027</td>\n",
       "      <td>659</td>\n",
       "      <td>3314</td>\n",
       "      <td>-0.2713</td>\n",
       "    </tr>\n",
       "    <tr>\n",
       "      <th>simple</th>\n",
       "      <td>6083</td>\n",
       "      <td>685</td>\n",
       "      <td>3232</td>\n",
       "      <td>-0.2851</td>\n",
       "    </tr>\n",
       "  </tbody>\n",
       "</table>\n",
       "</div>"
      ],
      "text/plain": [
       "                     len            mean_outcome\n",
       "outcome_name        LOSE PUSH   WIN             \n",
       "strategy                                        \n",
       "<Action.DOUBLE: 3>  6146  651  3203      -0.2943\n",
       "<Action.HIT: 2>     6069  672  3259      -0.2810\n",
       "<Action.STAND: 1>   6027  659  3314      -0.2713\n",
       "simple              6083  685  3232      -0.2851"
      ]
     },
     "execution_count": 40,
     "metadata": {},
     "output_type": "execute_result"
    }
   ],
   "source": [
    "sims = run_n_sim_trials_from_state(strats+[strat_simple], hand_12s, hand_d, 10000)\n",
    "summarize_totals(sims)"
   ]
  },
  {
   "cell_type": "code",
   "execution_count": 41,
   "id": "based-subscription",
   "metadata": {
    "ExecuteTime": {
     "end_time": "2021-07-07T21:55:55.602319Z",
     "start_time": "2021-07-07T21:55:54.858307Z"
    }
   },
   "outputs": [
    {
     "data": {
      "text/html": [
       "<div>\n",
       "<style scoped>\n",
       "    .dataframe tbody tr th:only-of-type {\n",
       "        vertical-align: middle;\n",
       "    }\n",
       "\n",
       "    .dataframe tbody tr th {\n",
       "        vertical-align: top;\n",
       "    }\n",
       "\n",
       "    .dataframe thead tr th {\n",
       "        text-align: left;\n",
       "    }\n",
       "\n",
       "    .dataframe thead tr:last-of-type th {\n",
       "        text-align: right;\n",
       "    }\n",
       "</style>\n",
       "<table border=\"1\" class=\"dataframe\">\n",
       "  <thead>\n",
       "    <tr>\n",
       "      <th></th>\n",
       "      <th colspan=\"3\" halign=\"left\">len</th>\n",
       "      <th>mean_outcome</th>\n",
       "    </tr>\n",
       "    <tr>\n",
       "      <th>outcome_name</th>\n",
       "      <th>LOSE</th>\n",
       "      <th>PUSH</th>\n",
       "      <th>WIN</th>\n",
       "      <th></th>\n",
       "    </tr>\n",
       "    <tr>\n",
       "      <th>strategy</th>\n",
       "      <th></th>\n",
       "      <th></th>\n",
       "      <th></th>\n",
       "      <th></th>\n",
       "    </tr>\n",
       "  </thead>\n",
       "  <tbody>\n",
       "    <tr>\n",
       "      <th>simple</th>\n",
       "      <td>6113</td>\n",
       "      <td>679</td>\n",
       "      <td>3208</td>\n",
       "      <td>-0.2905</td>\n",
       "    </tr>\n",
       "    <tr>\n",
       "      <th>strat_cond</th>\n",
       "      <td>6478</td>\n",
       "      <td>0</td>\n",
       "      <td>3522</td>\n",
       "      <td>-0.2956</td>\n",
       "    </tr>\n",
       "  </tbody>\n",
       "</table>\n",
       "</div>"
      ],
      "text/plain": [
       "               len            mean_outcome\n",
       "outcome_name  LOSE PUSH   WIN             \n",
       "strategy                                  \n",
       "simple        6113  679  3208      -0.2905\n",
       "strat_cond    6478    0  3522      -0.2956"
      ]
     },
     "execution_count": 41,
     "metadata": {},
     "output_type": "execute_result"
    }
   ],
   "source": [
    "summarize_totals(run_n_sim_trials_from_state([strat_simple, strat_cond], hand_p, hand_d, 10*1000))"
   ]
  },
  {
   "cell_type": "code",
   "execution_count": 42,
   "id": "vietnamese-spray",
   "metadata": {
    "ExecuteTime": {
     "end_time": "2021-07-07T21:55:56.740100Z",
     "start_time": "2021-07-07T21:55:55.603273Z"
    }
   },
   "outputs": [
    {
     "data": {
      "text/html": [
       "<div>\n",
       "<style scoped>\n",
       "    .dataframe tbody tr th:only-of-type {\n",
       "        vertical-align: middle;\n",
       "    }\n",
       "\n",
       "    .dataframe tbody tr th {\n",
       "        vertical-align: top;\n",
       "    }\n",
       "\n",
       "    .dataframe thead tr th {\n",
       "        text-align: left;\n",
       "    }\n",
       "\n",
       "    .dataframe thead tr:last-of-type th {\n",
       "        text-align: right;\n",
       "    }\n",
       "</style>\n",
       "<table border=\"1\" class=\"dataframe\">\n",
       "  <thead>\n",
       "    <tr>\n",
       "      <th></th>\n",
       "      <th colspan=\"5\" halign=\"left\">len</th>\n",
       "      <th>mean_outcome</th>\n",
       "    </tr>\n",
       "    <tr>\n",
       "      <th>outcome_name</th>\n",
       "      <th>LOSE</th>\n",
       "      <th>LOSE_DOUBLE</th>\n",
       "      <th>PUSH</th>\n",
       "      <th>WIN</th>\n",
       "      <th>WIN_DOUBLE</th>\n",
       "      <th></th>\n",
       "    </tr>\n",
       "    <tr>\n",
       "      <th>strategy</th>\n",
       "      <th></th>\n",
       "      <th></th>\n",
       "      <th></th>\n",
       "      <th></th>\n",
       "      <th></th>\n",
       "      <th></th>\n",
       "    </tr>\n",
       "  </thead>\n",
       "  <tbody>\n",
       "    <tr>\n",
       "      <th>&lt;Action.DOUBLE: 3&gt;</th>\n",
       "      <td>0</td>\n",
       "      <td>5830</td>\n",
       "      <td>0</td>\n",
       "      <td>0</td>\n",
       "      <td>4170</td>\n",
       "      <td>-0.3320</td>\n",
       "    </tr>\n",
       "    <tr>\n",
       "      <th>&lt;Action.HIT: 2&gt;</th>\n",
       "      <td>4553</td>\n",
       "      <td>331</td>\n",
       "      <td>287</td>\n",
       "      <td>4114</td>\n",
       "      <td>715</td>\n",
       "      <td>0.0329</td>\n",
       "    </tr>\n",
       "    <tr>\n",
       "      <th>&lt;Action.STAND: 1&gt;</th>\n",
       "      <td>5830</td>\n",
       "      <td>0</td>\n",
       "      <td>0</td>\n",
       "      <td>4170</td>\n",
       "      <td>0</td>\n",
       "      <td>-0.1660</td>\n",
       "    </tr>\n",
       "    <tr>\n",
       "      <th>simple</th>\n",
       "      <td>5830</td>\n",
       "      <td>0</td>\n",
       "      <td>0</td>\n",
       "      <td>4170</td>\n",
       "      <td>0</td>\n",
       "      <td>-0.1660</td>\n",
       "    </tr>\n",
       "  </tbody>\n",
       "</table>\n",
       "</div>"
      ],
      "text/plain": [
       "                     len                                   mean_outcome\n",
       "outcome_name        LOSE LOSE_DOUBLE PUSH   WIN WIN_DOUBLE             \n",
       "strategy                                                               \n",
       "<Action.DOUBLE: 3>     0        5830    0     0       4170      -0.3320\n",
       "<Action.HIT: 2>     4553         331  287  4114        715       0.0329\n",
       "<Action.STAND: 1>   5830           0    0  4170          0      -0.1660\n",
       "simple              5830           0    0  4170          0      -0.1660"
      ]
     },
     "execution_count": 42,
     "metadata": {},
     "output_type": "execute_result"
    }
   ],
   "source": [
    "# soft 13 vs 6\n",
    "def cond_13s_6(score_p, score_d):\n",
    "    return score_p == HandScore(13, True) and score_d.points == 6\n",
    "\n",
    "\n",
    "\n",
    "strats = gen_cond_strategies(strat_simple, cond_13s_6, [Action.HIT, Action.STAND, Action.DOUBLE])\n",
    "sims = run_n_sim_trials_from_state(strats+[strat_simple], bj.make_hand([1, 2]), bj.make_hand([6]), 10000)\n",
    "summarize_totals(sims)"
   ]
  },
  {
   "cell_type": "code",
   "execution_count": 43,
   "id": "liable-painting",
   "metadata": {
    "ExecuteTime": {
     "end_time": "2021-07-07T21:55:57.924196Z",
     "start_time": "2021-07-07T21:55:56.741022Z"
    }
   },
   "outputs": [
    {
     "data": {
      "text/html": [
       "<div>\n",
       "<style scoped>\n",
       "    .dataframe tbody tr th:only-of-type {\n",
       "        vertical-align: middle;\n",
       "    }\n",
       "\n",
       "    .dataframe tbody tr th {\n",
       "        vertical-align: top;\n",
       "    }\n",
       "\n",
       "    .dataframe thead tr th {\n",
       "        text-align: left;\n",
       "    }\n",
       "\n",
       "    .dataframe thead tr:last-of-type th {\n",
       "        text-align: right;\n",
       "    }\n",
       "</style>\n",
       "<table border=\"1\" class=\"dataframe\">\n",
       "  <thead>\n",
       "    <tr>\n",
       "      <th></th>\n",
       "      <th colspan=\"5\" halign=\"left\">len</th>\n",
       "      <th>mean_outcome</th>\n",
       "    </tr>\n",
       "    <tr>\n",
       "      <th>outcome_name</th>\n",
       "      <th>LOSE</th>\n",
       "      <th>LOSE_DOUBLE</th>\n",
       "      <th>PUSH</th>\n",
       "      <th>WIN</th>\n",
       "      <th>WIN_DOUBLE</th>\n",
       "      <th></th>\n",
       "    </tr>\n",
       "    <tr>\n",
       "      <th>strategy</th>\n",
       "      <th></th>\n",
       "      <th></th>\n",
       "      <th></th>\n",
       "      <th></th>\n",
       "      <th></th>\n",
       "      <th></th>\n",
       "    </tr>\n",
       "  </thead>\n",
       "  <tbody>\n",
       "    <tr>\n",
       "      <th>&lt;Action.DOUBLE: 3&gt;</th>\n",
       "      <td>0</td>\n",
       "      <td>3200</td>\n",
       "      <td>692</td>\n",
       "      <td>0</td>\n",
       "      <td>6108</td>\n",
       "      <td>0.5816</td>\n",
       "    </tr>\n",
       "    <tr>\n",
       "      <th>&lt;Action.HIT: 2&gt;</th>\n",
       "      <td>3144</td>\n",
       "      <td>0</td>\n",
       "      <td>720</td>\n",
       "      <td>6136</td>\n",
       "      <td>0</td>\n",
       "      <td>0.2992</td>\n",
       "    </tr>\n",
       "    <tr>\n",
       "      <th>&lt;Action.STAND: 1&gt;</th>\n",
       "      <td>5739</td>\n",
       "      <td>0</td>\n",
       "      <td>0</td>\n",
       "      <td>4261</td>\n",
       "      <td>0</td>\n",
       "      <td>-0.1478</td>\n",
       "    </tr>\n",
       "    <tr>\n",
       "      <th>simple</th>\n",
       "      <td>3166</td>\n",
       "      <td>0</td>\n",
       "      <td>700</td>\n",
       "      <td>6134</td>\n",
       "      <td>0</td>\n",
       "      <td>0.2968</td>\n",
       "    </tr>\n",
       "  </tbody>\n",
       "</table>\n",
       "</div>"
      ],
      "text/plain": [
       "                     len                                   mean_outcome\n",
       "outcome_name        LOSE LOSE_DOUBLE PUSH   WIN WIN_DOUBLE             \n",
       "strategy                                                               \n",
       "<Action.DOUBLE: 3>     0        3200  692     0       6108       0.5816\n",
       "<Action.HIT: 2>     3144           0  720  6136          0       0.2992\n",
       "<Action.STAND: 1>   5739           0    0  4261          0      -0.1478\n",
       "simple              3166           0  700  6134          0       0.2968"
      ]
     },
     "execution_count": 43,
     "metadata": {},
     "output_type": "execute_result"
    }
   ],
   "source": [
    "# 10 v 6\n",
    "def cond_10_6(score_p, score_d):\n",
    "    return score_p.points == 10 and score_d.points == 6\n",
    "\n",
    "strats = gen_cond_strategies(strat_simple, cond_10_6, [Action.HIT, Action.STAND, Action.DOUBLE])\n",
    "sims = run_n_sim_trials_from_state(strats+[strat_simple], make_hand([5, 5]), make_hand([6]), 10000)\n",
    "summarize_totals(sims)"
   ]
  },
  {
   "cell_type": "code",
   "execution_count": 44,
   "id": "serious-briefs",
   "metadata": {
    "ExecuteTime": {
     "end_time": "2021-07-07T21:55:58.842004Z",
     "start_time": "2021-07-07T21:55:57.925136Z"
    }
   },
   "outputs": [
    {
     "data": {
      "text/plain": [
       "(<function __main__.test_cond.<locals>.cond(p, d)>,\n",
       "                      len                                   mean_outcome\n",
       " outcome_name        LOSE LOSE_DOUBLE PUSH   WIN WIN_DOUBLE             \n",
       " strategy                                                               \n",
       " <Action.DOUBLE: 3>     0        3212  712     0       6076       0.5728\n",
       " <Action.HIT: 2>     3269           0  636  6095          0       0.2826\n",
       " <Action.STAND: 1>   5754           0    0  4246          0      -0.1508)"
      ]
     },
     "execution_count": 44,
     "metadata": {},
     "output_type": "execute_result"
    }
   ],
   "source": [
    "ACTIONS = [Action.HIT, Action.STAND, Action.DOUBLE]\n",
    "\n",
    "def test_cond(score_p, score_d, n):\n",
    "    def cond(p, d):\n",
    "        return p == score_p and d == score_d\n",
    "    strats = gen_cond_strategies(strat_simple, cond, ACTIONS)\n",
    "    hand = Hand(score_p) # This will only work for 10 through 18 \n",
    "    sims = run_n_sim_trials_from_state(strats, hand, make_hand([score_d.points]), n)\n",
    "    return cond, summarize_totals(sims)\n",
    "\n",
    "test_cond(HandScore(10), HandScore(6), 10000)"
   ]
  },
  {
   "cell_type": "code",
   "execution_count": 45,
   "id": "economic-magnet",
   "metadata": {
    "ExecuteTime": {
     "end_time": "2021-07-07T21:55:58.871866Z",
     "start_time": "2021-07-07T21:55:58.842947Z"
    }
   },
   "outputs": [
    {
     "data": {
      "text/plain": [
       "(<function __main__.test_cond.<locals>.cond(p, d)>,\n",
       "                     len                                  mean_outcome\n",
       " outcome_name       LOSE LOSE_DOUBLE PUSH  WIN WIN_DOUBLE             \n",
       " strategy                                                             \n",
       " <Action.DOUBLE: 3>    0         163    3    0         34        -1.29\n",
       " <Action.HIT: 2>     162           0    6   32          0        -0.65\n",
       " <Action.STAND: 1>    66           0   26  108          0         0.21)"
      ]
     },
     "execution_count": 45,
     "metadata": {},
     "output_type": "execute_result"
    }
   ],
   "source": [
    "test_cond(HandScore(18), HandScore(6), 200)"
   ]
  },
  {
   "cell_type": "code",
   "execution_count": 46,
   "id": "underlying-chile",
   "metadata": {
    "ExecuteTime": {
     "end_time": "2021-07-07T21:55:58.902498Z",
     "start_time": "2021-07-07T21:55:58.872907Z"
    }
   },
   "outputs": [
    {
     "data": {
      "text/plain": [
       "(<function __main__.test_cond.<locals>.cond(p, d)>,\n",
       "                     len                                  mean_outcome\n",
       " outcome_name       LOSE LOSE_DOUBLE PUSH  WIN WIN_DOUBLE             \n",
       " strategy                                                             \n",
       " <Action.DOUBLE: 3>    0          61   14    0        125        0.640\n",
       " <Action.HIT: 2>      54           0   13  133          0        0.395\n",
       " <Action.STAND: 1>     0           0   15  185          0        0.925)"
      ]
     },
     "execution_count": 46,
     "metadata": {},
     "output_type": "execute_result"
    }
   ],
   "source": [
    "test_cond(HandScore(21, True), HandScore(6), 200)"
   ]
  },
  {
   "cell_type": "code",
   "execution_count": null,
   "id": "separated-contents",
   "metadata": {},
   "outputs": [],
   "source": []
  },
  {
   "cell_type": "code",
   "execution_count": 47,
   "id": "rubber-vulnerability",
   "metadata": {
    "ExecuteTime": {
     "end_time": "2021-07-07T21:55:58.905675Z",
     "start_time": "2021-07-07T21:55:58.903373Z"
    }
   },
   "outputs": [
    {
     "data": {
      "text/plain": [
       "[h00,\n",
       " h01,\n",
       " h02,\n",
       " h03,\n",
       " h04,\n",
       " h05,\n",
       " h06,\n",
       " h07,\n",
       " h08,\n",
       " h09,\n",
       " h10,\n",
       " h11,\n",
       " h12,\n",
       " h13,\n",
       " h14,\n",
       " h15,\n",
       " h16,\n",
       " h17,\n",
       " h18,\n",
       " h19,\n",
       " h20,\n",
       " h21,\n",
       " h22,\n",
       " s11,\n",
       " s12,\n",
       " s13,\n",
       " s14,\n",
       " s15,\n",
       " s16,\n",
       " s17,\n",
       " s18,\n",
       " s19,\n",
       " s20,\n",
       " s21]"
      ]
     },
     "execution_count": 47,
     "metadata": {},
     "output_type": "execute_result"
    }
   ],
   "source": [
    "all_scores"
   ]
  },
  {
   "cell_type": "code",
   "execution_count": 48,
   "id": "manual-anime",
   "metadata": {
    "ExecuteTime": {
     "end_time": "2021-07-07T21:55:58.946950Z",
     "start_time": "2021-07-07T21:55:58.908001Z"
    }
   },
   "outputs": [
    {
     "data": {
      "text/plain": [
       "(<function __main__.test_cond.<locals>.cond(p, d)>,\n",
       " {'<Action.DOUBLE: 3>': 0.46,\n",
       "  '<Action.HIT: 2>': 0.13,\n",
       "  '<Action.STAND: 1>': -0.3,\n",
       "  'score_p': 'h10',\n",
       "  'score_d': 'h06',\n",
       "  'winning_act': <Action.DOUBLE: 3>,\n",
       "  'winning_act_outcome': 0.46})"
      ]
     },
     "execution_count": 48,
     "metadata": {},
     "output_type": "execute_result"
    }
   ],
   "source": [
    "def find_winning_action(score_p, score_d, n):\n",
    "    cond, summary = test_cond(score_p, score_d, n)\n",
    "    outcomes = summary['mean_outcome']\n",
    "    # Find the winning strategy\n",
    "    winner = outcomes[outcomes==outcomes.max()].index[0]\n",
    "    winning_act = [a for a in ACTIONS if repr(a)==winner][0]\n",
    "\n",
    "    # Convert results to a dict\n",
    "    run = outcomes.to_dict()\n",
    "    run['score_p'] = repr(score_p)\n",
    "    run['score_d'] = repr(score_d)\n",
    "    run['winning_act'] = winning_act\n",
    "    run['winning_act_outcome'] = outcomes.max()\n",
    "\n",
    "    return (cond, run)\n",
    "\n",
    "find_winning_action(HandScore(10), HandScore(6), 200)"
   ]
  },
  {
   "cell_type": "code",
   "execution_count": 49,
   "id": "behind-seattle",
   "metadata": {
    "ExecuteTime": {
     "end_time": "2021-07-07T21:55:59.564898Z",
     "start_time": "2021-07-07T21:55:58.947842Z"
    }
   },
   "outputs": [
    {
     "data": {
      "text/html": [
       "<div>\n",
       "<style scoped>\n",
       "    .dataframe tbody tr th:only-of-type {\n",
       "        vertical-align: middle;\n",
       "    }\n",
       "\n",
       "    .dataframe tbody tr th {\n",
       "        vertical-align: top;\n",
       "    }\n",
       "\n",
       "    .dataframe thead th {\n",
       "        text-align: right;\n",
       "    }\n",
       "</style>\n",
       "<table border=\"1\" class=\"dataframe\">\n",
       "  <thead>\n",
       "    <tr style=\"text-align: right;\">\n",
       "      <th></th>\n",
       "      <th></th>\n",
       "      <th>&lt;Action.DOUBLE: 3&gt;</th>\n",
       "      <th>&lt;Action.HIT: 2&gt;</th>\n",
       "      <th>&lt;Action.STAND: 1&gt;</th>\n",
       "      <th>winning_act</th>\n",
       "      <th>winning_act_outcome</th>\n",
       "    </tr>\n",
       "    <tr>\n",
       "      <th>score_p</th>\n",
       "      <th>score_d</th>\n",
       "      <th></th>\n",
       "      <th></th>\n",
       "      <th></th>\n",
       "      <th></th>\n",
       "      <th></th>\n",
       "    </tr>\n",
       "  </thead>\n",
       "  <tbody>\n",
       "    <tr>\n",
       "      <th rowspan=\"2\" valign=\"top\">h00</th>\n",
       "      <th>s11</th>\n",
       "      <td>-0.60</td>\n",
       "      <td>0.25</td>\n",
       "      <td>-0.20</td>\n",
       "      <td>Action.HIT</td>\n",
       "      <td>0.25</td>\n",
       "    </tr>\n",
       "    <tr>\n",
       "      <th>h02</th>\n",
       "      <td>0.80</td>\n",
       "      <td>0.00</td>\n",
       "      <td>0.40</td>\n",
       "      <td>Action.DOUBLE</td>\n",
       "      <td>0.80</td>\n",
       "    </tr>\n",
       "    <tr>\n",
       "      <th rowspan=\"2\" valign=\"top\">h01</th>\n",
       "      <th>s11</th>\n",
       "      <td>-0.35</td>\n",
       "      <td>-0.20</td>\n",
       "      <td>-0.95</td>\n",
       "      <td>Action.HIT</td>\n",
       "      <td>-0.20</td>\n",
       "    </tr>\n",
       "    <tr>\n",
       "      <th>h02</th>\n",
       "      <td>-0.80</td>\n",
       "      <td>-0.05</td>\n",
       "      <td>-0.40</td>\n",
       "      <td>Action.HIT</td>\n",
       "      <td>-0.05</td>\n",
       "    </tr>\n",
       "    <tr>\n",
       "      <th>h02</th>\n",
       "      <th>s11</th>\n",
       "      <td>0.50</td>\n",
       "      <td>0.10</td>\n",
       "      <td>0.30</td>\n",
       "      <td>Action.DOUBLE</td>\n",
       "      <td>0.50</td>\n",
       "    </tr>\n",
       "    <tr>\n",
       "      <th>...</th>\n",
       "      <th>...</th>\n",
       "      <td>...</td>\n",
       "      <td>...</td>\n",
       "      <td>...</td>\n",
       "      <td>...</td>\n",
       "      <td>...</td>\n",
       "    </tr>\n",
       "    <tr>\n",
       "      <th>s19</th>\n",
       "      <th>h02</th>\n",
       "      <td>0.00</td>\n",
       "      <td>0.40</td>\n",
       "      <td>0.30</td>\n",
       "      <td>Action.HIT</td>\n",
       "      <td>0.40</td>\n",
       "    </tr>\n",
       "    <tr>\n",
       "      <th rowspan=\"2\" valign=\"top\">s20</th>\n",
       "      <th>s11</th>\n",
       "      <td>0.50</td>\n",
       "      <td>0.50</td>\n",
       "      <td>0.50</td>\n",
       "      <td>Action.DOUBLE</td>\n",
       "      <td>0.50</td>\n",
       "    </tr>\n",
       "    <tr>\n",
       "      <th>h02</th>\n",
       "      <td>0.80</td>\n",
       "      <td>0.65</td>\n",
       "      <td>0.80</td>\n",
       "      <td>Action.DOUBLE</td>\n",
       "      <td>0.80</td>\n",
       "    </tr>\n",
       "    <tr>\n",
       "      <th rowspan=\"2\" valign=\"top\">s21</th>\n",
       "      <th>s11</th>\n",
       "      <td>1.00</td>\n",
       "      <td>1.00</td>\n",
       "      <td>1.00</td>\n",
       "      <td>Action.DOUBLE</td>\n",
       "      <td>1.00</td>\n",
       "    </tr>\n",
       "    <tr>\n",
       "      <th>h02</th>\n",
       "      <td>0.80</td>\n",
       "      <td>0.40</td>\n",
       "      <td>1.00</td>\n",
       "      <td>Action.STAND</td>\n",
       "      <td>1.00</td>\n",
       "    </tr>\n",
       "  </tbody>\n",
       "</table>\n",
       "<p>68 rows × 5 columns</p>\n",
       "</div>"
      ],
      "text/plain": [
       "                 <Action.DOUBLE: 3>  <Action.HIT: 2>  <Action.STAND: 1>  \\\n",
       "score_p score_d                                                           \n",
       "h00     s11                   -0.60             0.25              -0.20   \n",
       "        h02                    0.80             0.00               0.40   \n",
       "h01     s11                   -0.35            -0.20              -0.95   \n",
       "        h02                   -0.80            -0.05              -0.40   \n",
       "h02     s11                    0.50             0.10               0.30   \n",
       "...                             ...              ...                ...   \n",
       "s19     h02                    0.00             0.40               0.30   \n",
       "s20     s11                    0.50             0.50               0.50   \n",
       "        h02                    0.80             0.65               0.80   \n",
       "s21     s11                    1.00             1.00               1.00   \n",
       "        h02                    0.80             0.40               1.00   \n",
       "\n",
       "                   winning_act  winning_act_outcome  \n",
       "score_p score_d                                      \n",
       "h00     s11         Action.HIT                 0.25  \n",
       "        h02      Action.DOUBLE                 0.80  \n",
       "h01     s11         Action.HIT                -0.20  \n",
       "        h02         Action.HIT                -0.05  \n",
       "h02     s11      Action.DOUBLE                 0.50  \n",
       "...                        ...                  ...  \n",
       "s19     h02         Action.HIT                 0.40  \n",
       "s20     s11      Action.DOUBLE                 0.50  \n",
       "        h02      Action.DOUBLE                 0.80  \n",
       "s21     s11      Action.DOUBLE                 1.00  \n",
       "        h02       Action.STAND                 1.00  \n",
       "\n",
       "[68 rows x 5 columns]"
      ]
     },
     "execution_count": 49,
     "metadata": {},
     "output_type": "execute_result"
    }
   ],
   "source": [
    "conds = [find_winning_action(p, make_hand([d]).score, 10) for p in all_scores for d in range(1, 3)]\n",
    "pd.DataFrame([data for _, data in conds]).set_index(['score_p', 'score_d'])"
   ]
  },
  {
   "cell_type": "code",
   "execution_count": null,
   "id": "intensive-participation",
   "metadata": {},
   "outputs": [],
   "source": []
  },
  {
   "cell_type": "code",
   "execution_count": 50,
   "id": "synthetic-agreement",
   "metadata": {
    "ExecuteTime": {
     "end_time": "2021-07-07T21:56:08.274195Z",
     "start_time": "2021-07-07T21:55:59.565841Z"
    }
   },
   "outputs": [
    {
     "data": {
      "text/plain": [
       "[(<function __main__.test_cond.<locals>.cond(p, d)>,\n",
       "  {'<Action.DOUBLE: 3>': -0.033,\n",
       "   '<Action.HIT: 2>': -0.0455,\n",
       "   '<Action.STAND: 1>': -0.065,\n",
       "   'score_p': 'h10',\n",
       "   'score_d': 's11',\n",
       "   'winning_act': <Action.DOUBLE: 3>,\n",
       "   'winning_act_outcome': -0.033}),\n",
       " (<function __main__.test_cond.<locals>.cond(p, d)>,\n",
       "  {'<Action.DOUBLE: 3>': 0.388,\n",
       "   '<Action.HIT: 2>': 0.2145,\n",
       "   '<Action.STAND: 1>': -0.286,\n",
       "   'score_p': 'h10',\n",
       "   'score_d': 'h02',\n",
       "   'winning_act': <Action.DOUBLE: 3>,\n",
       "   'winning_act_outcome': 0.388}),\n",
       " (<function __main__.test_cond.<locals>.cond(p, d)>,\n",
       "  {'<Action.DOUBLE: 3>': 0.416,\n",
       "   '<Action.HIT: 2>': 0.228,\n",
       "   '<Action.STAND: 1>': -0.234,\n",
       "   'score_p': 'h10',\n",
       "   'score_d': 'h03',\n",
       "   'winning_act': <Action.DOUBLE: 3>,\n",
       "   'winning_act_outcome': 0.416}),\n",
       " (<function __main__.test_cond.<locals>.cond(p, d)>,\n",
       "  {'<Action.DOUBLE: 3>': 0.58,\n",
       "   '<Action.HIT: 2>': 0.265,\n",
       "   '<Action.STAND: 1>': -0.148,\n",
       "   'score_p': 'h10',\n",
       "   'score_d': 'h04',\n",
       "   'winning_act': <Action.DOUBLE: 3>,\n",
       "   'winning_act_outcome': 0.58}),\n",
       " (<function __main__.test_cond.<locals>.cond(p, d)>,\n",
       "  {'<Action.DOUBLE: 3>': 0.652,\n",
       "   '<Action.HIT: 2>': 0.294,\n",
       "   '<Action.STAND: 1>': -0.14,\n",
       "   'score_p': 'h10',\n",
       "   'score_d': 'h05',\n",
       "   'winning_act': <Action.DOUBLE: 3>,\n",
       "   'winning_act_outcome': 0.652}),\n",
       " (<function __main__.test_cond.<locals>.cond(p, d)>,\n",
       "  {'<Action.DOUBLE: 3>': 0.604,\n",
       "   '<Action.HIT: 2>': 0.269,\n",
       "   '<Action.STAND: 1>': -0.168,\n",
       "   'score_p': 'h10',\n",
       "   'score_d': 'h06',\n",
       "   'winning_act': <Action.DOUBLE: 3>,\n",
       "   'winning_act_outcome': 0.604}),\n",
       " (<function __main__.test_cond.<locals>.cond(p, d)>,\n",
       "  {'<Action.DOUBLE: 3>': 0.282,\n",
       "   '<Action.HIT: 2>': 0.2635,\n",
       "   '<Action.STAND: 1>': -0.512,\n",
       "   'score_p': 'h10',\n",
       "   'score_d': 'h07',\n",
       "   'winning_act': <Action.DOUBLE: 3>,\n",
       "   'winning_act_outcome': 0.282}),\n",
       " (<function __main__.test_cond.<locals>.cond(p, d)>,\n",
       "  {'<Action.DOUBLE: 3>': 0.322,\n",
       "   '<Action.HIT: 2>': 0.2135,\n",
       "   '<Action.STAND: 1>': -0.5,\n",
       "   'score_p': 'h10',\n",
       "   'score_d': 'h08',\n",
       "   'winning_act': <Action.DOUBLE: 3>,\n",
       "   'winning_act_outcome': 0.322}),\n",
       " (<function __main__.test_cond.<locals>.cond(p, d)>,\n",
       "  {'<Action.DOUBLE: 3>': 0.174,\n",
       "   '<Action.HIT: 2>': 0.1325,\n",
       "   '<Action.STAND: 1>': -0.542,\n",
       "   'score_p': 'h10',\n",
       "   'score_d': 'h09',\n",
       "   'winning_act': <Action.DOUBLE: 3>,\n",
       "   'winning_act_outcome': 0.174}),\n",
       " (<function __main__.test_cond.<locals>.cond(p, d)>,\n",
       "  {'<Action.DOUBLE: 3>': -0.108,\n",
       "   '<Action.HIT: 2>': 0.026,\n",
       "   '<Action.STAND: 1>': -0.59,\n",
       "   'score_p': 'h10',\n",
       "   'score_d': 'h10',\n",
       "   'winning_act': <Action.HIT: 2>,\n",
       "   'winning_act_outcome': 0.026}),\n",
       " (<function __main__.test_cond.<locals>.cond(p, d)>,\n",
       "  {'<Action.DOUBLE: 3>': 0.004,\n",
       "   '<Action.HIT: 2>': -0.002,\n",
       "   '<Action.STAND: 1>': 0.074,\n",
       "   'score_p': 'h11',\n",
       "   'score_d': 's11',\n",
       "   'winning_act': <Action.STAND: 1>,\n",
       "   'winning_act_outcome': 0.074}),\n",
       " (<function __main__.test_cond.<locals>.cond(p, d)>,\n",
       "  {'<Action.DOUBLE: 3>': 0.538,\n",
       "   '<Action.HIT: 2>': 0.2465,\n",
       "   '<Action.STAND: 1>': -0.262,\n",
       "   'score_p': 'h11',\n",
       "   'score_d': 'h02',\n",
       "   'winning_act': <Action.DOUBLE: 3>,\n",
       "   'winning_act_outcome': 0.538}),\n",
       " (<function __main__.test_cond.<locals>.cond(p, d)>,\n",
       "  {'<Action.DOUBLE: 3>': 0.532,\n",
       "   '<Action.HIT: 2>': 0.28,\n",
       "   '<Action.STAND: 1>': -0.174,\n",
       "   'score_p': 'h11',\n",
       "   'score_d': 'h03',\n",
       "   'winning_act': <Action.DOUBLE: 3>,\n",
       "   'winning_act_outcome': 0.532}),\n",
       " (<function __main__.test_cond.<locals>.cond(p, d)>,\n",
       "  {'<Action.DOUBLE: 3>': 0.572,\n",
       "   '<Action.HIT: 2>': 0.307,\n",
       "   '<Action.STAND: 1>': -0.198,\n",
       "   'score_p': 'h11',\n",
       "   'score_d': 'h04',\n",
       "   'winning_act': <Action.DOUBLE: 3>,\n",
       "   'winning_act_outcome': 0.572}),\n",
       " (<function __main__.test_cond.<locals>.cond(p, d)>,\n",
       "  {'<Action.DOUBLE: 3>': 0.732,\n",
       "   '<Action.HIT: 2>': 0.298,\n",
       "   '<Action.STAND: 1>': -0.13,\n",
       "   'score_p': 'h11',\n",
       "   'score_d': 'h05',\n",
       "   'winning_act': <Action.DOUBLE: 3>,\n",
       "   'winning_act_outcome': 0.732}),\n",
       " (<function __main__.test_cond.<locals>.cond(p, d)>,\n",
       "  {'<Action.DOUBLE: 3>': 0.672,\n",
       "   '<Action.HIT: 2>': 0.338,\n",
       "   '<Action.STAND: 1>': -0.15,\n",
       "   'score_p': 'h11',\n",
       "   'score_d': 'h06',\n",
       "   'winning_act': <Action.DOUBLE: 3>,\n",
       "   'winning_act_outcome': 0.672}),\n",
       " (<function __main__.test_cond.<locals>.cond(p, d)>,\n",
       "  {'<Action.DOUBLE: 3>': 0.388,\n",
       "   '<Action.HIT: 2>': 0.2415,\n",
       "   '<Action.STAND: 1>': -0.47,\n",
       "   'score_p': 'h11',\n",
       "   'score_d': 'h07',\n",
       "   'winning_act': <Action.DOUBLE: 3>,\n",
       "   'winning_act_outcome': 0.388}),\n",
       " (<function __main__.test_cond.<locals>.cond(p, d)>,\n",
       "  {'<Action.DOUBLE: 3>': 0.418,\n",
       "   '<Action.HIT: 2>': 0.289,\n",
       "   '<Action.STAND: 1>': -0.472,\n",
       "   'score_p': 'h11',\n",
       "   'score_d': 'h08',\n",
       "   'winning_act': <Action.DOUBLE: 3>,\n",
       "   'winning_act_outcome': 0.418}),\n",
       " (<function __main__.test_cond.<locals>.cond(p, d)>,\n",
       "  {'<Action.DOUBLE: 3>': 0.242,\n",
       "   '<Action.HIT: 2>': 0.2025,\n",
       "   '<Action.STAND: 1>': -0.512,\n",
       "   'score_p': 'h11',\n",
       "   'score_d': 'h09',\n",
       "   'winning_act': <Action.DOUBLE: 3>,\n",
       "   'winning_act_outcome': 0.242}),\n",
       " (<function __main__.test_cond.<locals>.cond(p, d)>,\n",
       "  {'<Action.DOUBLE: 3>': 0.05,\n",
       "   '<Action.HIT: 2>': 0.057,\n",
       "   '<Action.STAND: 1>': -0.552,\n",
       "   'score_p': 'h11',\n",
       "   'score_d': 'h10',\n",
       "   'winning_act': <Action.HIT: 2>,\n",
       "   'winning_act_outcome': 0.057}),\n",
       " (<function __main__.test_cond.<locals>.cond(p, d)>,\n",
       "  {'<Action.DOUBLE: 3>': -0.395,\n",
       "   '<Action.HIT: 2>': -0.4005,\n",
       "   '<Action.STAND: 1>': -0.4095,\n",
       "   'score_p': 'h12',\n",
       "   'score_d': 's11',\n",
       "   'winning_act': <Action.DOUBLE: 3>,\n",
       "   'winning_act_outcome': -0.395}),\n",
       " (<function __main__.test_cond.<locals>.cond(p, d)>,\n",
       "  {'<Action.DOUBLE: 3>': -0.394,\n",
       "   '<Action.HIT: 2>': -0.273,\n",
       "   '<Action.STAND: 1>': -0.244,\n",
       "   'score_p': 'h12',\n",
       "   'score_d': 'h02',\n",
       "   'winning_act': <Action.STAND: 1>,\n",
       "   'winning_act_outcome': -0.244}),\n",
       " (<function __main__.test_cond.<locals>.cond(p, d)>,\n",
       "  {'<Action.DOUBLE: 3>': -0.516,\n",
       "   '<Action.HIT: 2>': -0.247,\n",
       "   '<Action.STAND: 1>': -0.218,\n",
       "   'score_p': 'h12',\n",
       "   'score_d': 'h03',\n",
       "   'winning_act': <Action.STAND: 1>,\n",
       "   'winning_act_outcome': -0.218}),\n",
       " (<function __main__.test_cond.<locals>.cond(p, d)>,\n",
       "  {'<Action.DOUBLE: 3>': -0.352,\n",
       "   '<Action.HIT: 2>': -0.2,\n",
       "   '<Action.STAND: 1>': -0.156,\n",
       "   'score_p': 'h12',\n",
       "   'score_d': 'h04',\n",
       "   'winning_act': <Action.STAND: 1>,\n",
       "   'winning_act_outcome': -0.156}),\n",
       " (<function __main__.test_cond.<locals>.cond(p, d)>,\n",
       "  {'<Action.DOUBLE: 3>': -0.284,\n",
       "   '<Action.HIT: 2>': -0.228,\n",
       "   '<Action.STAND: 1>': -0.136,\n",
       "   'score_p': 'h12',\n",
       "   'score_d': 'h05',\n",
       "   'winning_act': <Action.STAND: 1>,\n",
       "   'winning_act_outcome': -0.136}),\n",
       " (<function __main__.test_cond.<locals>.cond(p, d)>,\n",
       "  {'<Action.DOUBLE: 3>': -0.282,\n",
       "   '<Action.HIT: 2>': -0.153,\n",
       "   '<Action.STAND: 1>': -0.116,\n",
       "   'score_p': 'h12',\n",
       "   'score_d': 'h06',\n",
       "   'winning_act': <Action.STAND: 1>,\n",
       "   'winning_act_outcome': -0.116}),\n",
       " (<function __main__.test_cond.<locals>.cond(p, d)>,\n",
       "  {'<Action.DOUBLE: 3>': -0.58,\n",
       "   '<Action.HIT: 2>': -0.134,\n",
       "   '<Action.STAND: 1>': -0.432,\n",
       "   'score_p': 'h12',\n",
       "   'score_d': 'h07',\n",
       "   'winning_act': <Action.HIT: 2>,\n",
       "   'winning_act_outcome': -0.134}),\n",
       " (<function __main__.test_cond.<locals>.cond(p, d)>,\n",
       "  {'<Action.DOUBLE: 3>': -0.598,\n",
       "   '<Action.HIT: 2>': -0.2075,\n",
       "   '<Action.STAND: 1>': -0.5,\n",
       "   'score_p': 'h12',\n",
       "   'score_d': 'h08',\n",
       "   'winning_act': <Action.HIT: 2>,\n",
       "   'winning_act_outcome': -0.2075}),\n",
       " (<function __main__.test_cond.<locals>.cond(p, d)>,\n",
       "  {'<Action.DOUBLE: 3>': -0.608,\n",
       "   '<Action.HIT: 2>': -0.3165,\n",
       "   '<Action.STAND: 1>': -0.532,\n",
       "   'score_p': 'h12',\n",
       "   'score_d': 'h09',\n",
       "   'winning_act': <Action.HIT: 2>,\n",
       "   'winning_act_outcome': -0.3165}),\n",
       " (<function __main__.test_cond.<locals>.cond(p, d)>,\n",
       "  {'<Action.DOUBLE: 3>': -0.88,\n",
       "   '<Action.HIT: 2>': -0.4445,\n",
       "   '<Action.STAND: 1>': -0.588,\n",
       "   'score_p': 'h12',\n",
       "   'score_d': 'h10',\n",
       "   'winning_act': <Action.HIT: 2>,\n",
       "   'winning_act_outcome': -0.4445}),\n",
       " (<function __main__.test_cond.<locals>.cond(p, d)>,\n",
       "  {'<Action.DOUBLE: 3>': -0.4315,\n",
       "   '<Action.HIT: 2>': -0.408,\n",
       "   '<Action.STAND: 1>': -0.467,\n",
       "   'score_p': 'h13',\n",
       "   'score_d': 's11',\n",
       "   'winning_act': <Action.HIT: 2>,\n",
       "   'winning_act_outcome': -0.408}),\n",
       " (<function __main__.test_cond.<locals>.cond(p, d)>,\n",
       "  {'<Action.DOUBLE: 3>': -0.598,\n",
       "   '<Action.HIT: 2>': -0.3165,\n",
       "   '<Action.STAND: 1>': -0.282,\n",
       "   'score_p': 'h13',\n",
       "   'score_d': 'h02',\n",
       "   'winning_act': <Action.STAND: 1>,\n",
       "   'winning_act_outcome': -0.282}),\n",
       " (<function __main__.test_cond.<locals>.cond(p, d)>,\n",
       "  {'<Action.DOUBLE: 3>': -0.592,\n",
       "   '<Action.HIT: 2>': -0.254,\n",
       "   '<Action.STAND: 1>': -0.194,\n",
       "   'score_p': 'h13',\n",
       "   'score_d': 'h03',\n",
       "   'winning_act': <Action.STAND: 1>,\n",
       "   'winning_act_outcome': -0.194}),\n",
       " (<function __main__.test_cond.<locals>.cond(p, d)>,\n",
       "  {'<Action.DOUBLE: 3>': -0.636,\n",
       "   '<Action.HIT: 2>': -0.287,\n",
       "   '<Action.STAND: 1>': -0.242,\n",
       "   'score_p': 'h13',\n",
       "   'score_d': 'h04',\n",
       "   'winning_act': <Action.STAND: 1>,\n",
       "   'winning_act_outcome': -0.242}),\n",
       " (<function __main__.test_cond.<locals>.cond(p, d)>,\n",
       "  {'<Action.DOUBLE: 3>': -0.522,\n",
       "   '<Action.HIT: 2>': -0.234,\n",
       "   '<Action.STAND: 1>': -0.14,\n",
       "   'score_p': 'h13',\n",
       "   'score_d': 'h05',\n",
       "   'winning_act': <Action.STAND: 1>,\n",
       "   'winning_act_outcome': -0.14}),\n",
       " (<function __main__.test_cond.<locals>.cond(p, d)>,\n",
       "  {'<Action.DOUBLE: 3>': -0.438,\n",
       "   '<Action.HIT: 2>': -0.247,\n",
       "   '<Action.STAND: 1>': -0.174,\n",
       "   'score_p': 'h13',\n",
       "   'score_d': 'h06',\n",
       "   'winning_act': <Action.STAND: 1>,\n",
       "   'winning_act_outcome': -0.174}),\n",
       " (<function __main__.test_cond.<locals>.cond(p, d)>,\n",
       "  {'<Action.DOUBLE: 3>': -0.612,\n",
       "   '<Action.HIT: 2>': -0.2605,\n",
       "   '<Action.STAND: 1>': -0.424,\n",
       "   'score_p': 'h13',\n",
       "   'score_d': 'h07',\n",
       "   'winning_act': <Action.HIT: 2>,\n",
       "   'winning_act_outcome': -0.2605}),\n",
       " (<function __main__.test_cond.<locals>.cond(p, d)>,\n",
       "  {'<Action.DOUBLE: 3>': -0.646,\n",
       "   '<Action.HIT: 2>': -0.322,\n",
       "   '<Action.STAND: 1>': -0.46,\n",
       "   'score_p': 'h13',\n",
       "   'score_d': 'h08',\n",
       "   'winning_act': <Action.HIT: 2>,\n",
       "   'winning_act_outcome': -0.322}),\n",
       " (<function __main__.test_cond.<locals>.cond(p, d)>,\n",
       "  {'<Action.DOUBLE: 3>': -0.856,\n",
       "   '<Action.HIT: 2>': -0.3815,\n",
       "   '<Action.STAND: 1>': -0.554,\n",
       "   'score_p': 'h13',\n",
       "   'score_d': 'h09',\n",
       "   'winning_act': <Action.HIT: 2>,\n",
       "   'winning_act_outcome': -0.3815}),\n",
       " (<function __main__.test_cond.<locals>.cond(p, d)>,\n",
       "  {'<Action.DOUBLE: 3>': -1.022,\n",
       "   '<Action.HIT: 2>': -0.5085,\n",
       "   '<Action.STAND: 1>': -0.652,\n",
       "   'score_p': 'h13',\n",
       "   'score_d': 'h10',\n",
       "   'winning_act': <Action.HIT: 2>,\n",
       "   'winning_act_outcome': -0.5085}),\n",
       " (<function __main__.test_cond.<locals>.cond(p, d)>,\n",
       "  {'<Action.DOUBLE: 3>': -0.506,\n",
       "   '<Action.HIT: 2>': -0.485,\n",
       "   '<Action.STAND: 1>': -0.5025,\n",
       "   'score_p': 'h14',\n",
       "   'score_d': 's11',\n",
       "   'winning_act': <Action.HIT: 2>,\n",
       "   'winning_act_outcome': -0.485}),\n",
       " (<function __main__.test_cond.<locals>.cond(p, d)>,\n",
       "  {'<Action.DOUBLE: 3>': -0.808,\n",
       "   '<Action.HIT: 2>': -0.3925,\n",
       "   '<Action.STAND: 1>': -0.332,\n",
       "   'score_p': 'h14',\n",
       "   'score_d': 'h02',\n",
       "   'winning_act': <Action.STAND: 1>,\n",
       "   'winning_act_outcome': -0.332}),\n",
       " (<function __main__.test_cond.<locals>.cond(p, d)>,\n",
       "  {'<Action.DOUBLE: 3>': -0.67,\n",
       "   '<Action.HIT: 2>': -0.305,\n",
       "   '<Action.STAND: 1>': -0.2,\n",
       "   'score_p': 'h14',\n",
       "   'score_d': 'h03',\n",
       "   'winning_act': <Action.STAND: 1>,\n",
       "   'winning_act_outcome': -0.2}),\n",
       " (<function __main__.test_cond.<locals>.cond(p, d)>,\n",
       "  {'<Action.DOUBLE: 3>': -0.534,\n",
       "   '<Action.HIT: 2>': -0.34,\n",
       "   '<Action.STAND: 1>': -0.23,\n",
       "   'score_p': 'h14',\n",
       "   'score_d': 'h04',\n",
       "   'winning_act': <Action.STAND: 1>,\n",
       "   'winning_act_outcome': -0.23}),\n",
       " (<function __main__.test_cond.<locals>.cond(p, d)>,\n",
       "  {'<Action.DOUBLE: 3>': -0.698,\n",
       "   '<Action.HIT: 2>': -0.28,\n",
       "   '<Action.STAND: 1>': -0.154,\n",
       "   'score_p': 'h14',\n",
       "   'score_d': 'h05',\n",
       "   'winning_act': <Action.STAND: 1>,\n",
       "   'winning_act_outcome': -0.154}),\n",
       " (<function __main__.test_cond.<locals>.cond(p, d)>,\n",
       "  {'<Action.DOUBLE: 3>': -0.668,\n",
       "   '<Action.HIT: 2>': -0.318,\n",
       "   '<Action.STAND: 1>': -0.134,\n",
       "   'score_p': 'h14',\n",
       "   'score_d': 'h06',\n",
       "   'winning_act': <Action.STAND: 1>,\n",
       "   'winning_act_outcome': -0.134}),\n",
       " (<function __main__.test_cond.<locals>.cond(p, d)>,\n",
       "  {'<Action.DOUBLE: 3>': -0.632,\n",
       "   '<Action.HIT: 2>': -0.2925,\n",
       "   '<Action.STAND: 1>': -0.474,\n",
       "   'score_p': 'h14',\n",
       "   'score_d': 'h07',\n",
       "   'winning_act': <Action.HIT: 2>,\n",
       "   'winning_act_outcome': -0.2925}),\n",
       " (<function __main__.test_cond.<locals>.cond(p, d)>,\n",
       "  {'<Action.DOUBLE: 3>': -0.794,\n",
       "   '<Action.HIT: 2>': -0.3575,\n",
       "   '<Action.STAND: 1>': -0.554,\n",
       "   'score_p': 'h14',\n",
       "   'score_d': 'h08',\n",
       "   'winning_act': <Action.HIT: 2>,\n",
       "   'winning_act_outcome': -0.3575}),\n",
       " (<function __main__.test_cond.<locals>.cond(p, d)>,\n",
       "  {'<Action.DOUBLE: 3>': -0.93,\n",
       "   '<Action.HIT: 2>': -0.452,\n",
       "   '<Action.STAND: 1>': -0.56,\n",
       "   'score_p': 'h14',\n",
       "   'score_d': 'h09',\n",
       "   'winning_act': <Action.HIT: 2>,\n",
       "   'winning_act_outcome': -0.452}),\n",
       " (<function __main__.test_cond.<locals>.cond(p, d)>,\n",
       "  {'<Action.DOUBLE: 3>': -1.076,\n",
       "   '<Action.HIT: 2>': -0.5215,\n",
       "   '<Action.STAND: 1>': -0.57,\n",
       "   'score_p': 'h14',\n",
       "   'score_d': 'h10',\n",
       "   'winning_act': <Action.HIT: 2>,\n",
       "   'winning_act_outcome': -0.5215}),\n",
       " (<function __main__.test_cond.<locals>.cond(p, d)>,\n",
       "  {'<Action.DOUBLE: 3>': -0.5915,\n",
       "   '<Action.HIT: 2>': -0.5315,\n",
       "   '<Action.STAND: 1>': -0.575,\n",
       "   'score_p': 'h15',\n",
       "   'score_d': 's11',\n",
       "   'winning_act': <Action.HIT: 2>,\n",
       "   'winning_act_outcome': -0.5315}),\n",
       " (<function __main__.test_cond.<locals>.cond(p, d)>,\n",
       "  {'<Action.DOUBLE: 3>': -0.844,\n",
       "   '<Action.HIT: 2>': -0.415,\n",
       "   '<Action.STAND: 1>': -0.258,\n",
       "   'score_p': 'h15',\n",
       "   'score_d': 'h02',\n",
       "   'winning_act': <Action.STAND: 1>,\n",
       "   'winning_act_outcome': -0.258}),\n",
       " (<function __main__.test_cond.<locals>.cond(p, d)>,\n",
       "  {'<Action.DOUBLE: 3>': -0.81,\n",
       "   '<Action.HIT: 2>': -0.357,\n",
       "   '<Action.STAND: 1>': -0.202,\n",
       "   'score_p': 'h15',\n",
       "   'score_d': 'h03',\n",
       "   'winning_act': <Action.STAND: 1>,\n",
       "   'winning_act_outcome': -0.202}),\n",
       " (<function __main__.test_cond.<locals>.cond(p, d)>,\n",
       "  {'<Action.DOUBLE: 3>': -0.834,\n",
       "   '<Action.HIT: 2>': -0.399,\n",
       "   '<Action.STAND: 1>': -0.208,\n",
       "   'score_p': 'h15',\n",
       "   'score_d': 'h04',\n",
       "   'winning_act': <Action.STAND: 1>,\n",
       "   'winning_act_outcome': -0.208}),\n",
       " (<function __main__.test_cond.<locals>.cond(p, d)>,\n",
       "  {'<Action.DOUBLE: 3>': -0.834,\n",
       "   '<Action.HIT: 2>': -0.349,\n",
       "   '<Action.STAND: 1>': -0.188,\n",
       "   'score_p': 'h15',\n",
       "   'score_d': 'h05',\n",
       "   'winning_act': <Action.STAND: 1>,\n",
       "   'winning_act_outcome': -0.188}),\n",
       " (<function __main__.test_cond.<locals>.cond(p, d)>,\n",
       "  {'<Action.DOUBLE: 3>': -0.73,\n",
       "   '<Action.HIT: 2>': -0.312,\n",
       "   '<Action.STAND: 1>': -0.124,\n",
       "   'score_p': 'h15',\n",
       "   'score_d': 'h06',\n",
       "   'winning_act': <Action.STAND: 1>,\n",
       "   'winning_act_outcome': -0.124}),\n",
       " (<function __main__.test_cond.<locals>.cond(p, d)>,\n",
       "  {'<Action.DOUBLE: 3>': -0.712,\n",
       "   '<Action.HIT: 2>': -0.368,\n",
       "   '<Action.STAND: 1>': -0.49,\n",
       "   'score_p': 'h15',\n",
       "   'score_d': 'h07',\n",
       "   'winning_act': <Action.HIT: 2>,\n",
       "   'winning_act_outcome': -0.368}),\n",
       " (<function __main__.test_cond.<locals>.cond(p, d)>,\n",
       "  {'<Action.DOUBLE: 3>': -0.88,\n",
       "   '<Action.HIT: 2>': -0.3895,\n",
       "   '<Action.STAND: 1>': -0.552,\n",
       "   'score_p': 'h15',\n",
       "   'score_d': 'h08',\n",
       "   'winning_act': <Action.HIT: 2>,\n",
       "   'winning_act_outcome': -0.3895}),\n",
       " (<function __main__.test_cond.<locals>.cond(p, d)>,\n",
       "  {'<Action.DOUBLE: 3>': -0.956,\n",
       "   '<Action.HIT: 2>': -0.456,\n",
       "   '<Action.STAND: 1>': -0.516,\n",
       "   'score_p': 'h15',\n",
       "   'score_d': 'h09',\n",
       "   'winning_act': <Action.HIT: 2>,\n",
       "   'winning_act_outcome': -0.456}),\n",
       " (<function __main__.test_cond.<locals>.cond(p, d)>,\n",
       "  {'<Action.DOUBLE: 3>': -1.17,\n",
       "   '<Action.HIT: 2>': -0.5165,\n",
       "   '<Action.STAND: 1>': -0.526,\n",
       "   'score_p': 'h15',\n",
       "   'score_d': 'h10',\n",
       "   'winning_act': <Action.HIT: 2>,\n",
       "   'winning_act_outcome': -0.5165}),\n",
       " (<function __main__.test_cond.<locals>.cond(p, d)>,\n",
       "  {'<Action.DOUBLE: 3>': -0.573,\n",
       "   '<Action.HIT: 2>': -0.605,\n",
       "   '<Action.STAND: 1>': -0.556,\n",
       "   'score_p': 'h16',\n",
       "   'score_d': 's11',\n",
       "   'winning_act': <Action.STAND: 1>,\n",
       "   'winning_act_outcome': -0.556}),\n",
       " (<function __main__.test_cond.<locals>.cond(p, d)>,\n",
       "  {'<Action.DOUBLE: 3>': -0.872,\n",
       "   '<Action.HIT: 2>': -0.464,\n",
       "   '<Action.STAND: 1>': -0.256,\n",
       "   'score_p': 'h16',\n",
       "   'score_d': 'h02',\n",
       "   'winning_act': <Action.STAND: 1>,\n",
       "   'winning_act_outcome': -0.256}),\n",
       " (<function __main__.test_cond.<locals>.cond(p, d)>,\n",
       "  {'<Action.DOUBLE: 3>': -0.864,\n",
       "   '<Action.HIT: 2>': -0.451,\n",
       "   '<Action.STAND: 1>': -0.276,\n",
       "   'score_p': 'h16',\n",
       "   'score_d': 'h03',\n",
       "   'winning_act': <Action.STAND: 1>,\n",
       "   'winning_act_outcome': -0.276}),\n",
       " (<function __main__.test_cond.<locals>.cond(p, d)>,\n",
       "  {'<Action.DOUBLE: 3>': -0.87,\n",
       "   '<Action.HIT: 2>': -0.487,\n",
       "   '<Action.STAND: 1>': -0.142,\n",
       "   'score_p': 'h16',\n",
       "   'score_d': 'h04',\n",
       "   'winning_act': <Action.STAND: 1>,\n",
       "   'winning_act_outcome': -0.142}),\n",
       " (<function __main__.test_cond.<locals>.cond(p, d)>,\n",
       "  {'<Action.DOUBLE: 3>': -0.84,\n",
       "   '<Action.HIT: 2>': -0.478,\n",
       "   '<Action.STAND: 1>': -0.152,\n",
       "   'score_p': 'h16',\n",
       "   'score_d': 'h05',\n",
       "   'winning_act': <Action.STAND: 1>,\n",
       "   'winning_act_outcome': -0.152}),\n",
       " (<function __main__.test_cond.<locals>.cond(p, d)>,\n",
       "  {'<Action.DOUBLE: 3>': -0.896,\n",
       "   '<Action.HIT: 2>': -0.449,\n",
       "   '<Action.STAND: 1>': -0.176,\n",
       "   'score_p': 'h16',\n",
       "   'score_d': 'h06',\n",
       "   'winning_act': <Action.STAND: 1>,\n",
       "   'winning_act_outcome': -0.176}),\n",
       " (<function __main__.test_cond.<locals>.cond(p, d)>,\n",
       "  {'<Action.DOUBLE: 3>': -0.928,\n",
       "   '<Action.HIT: 2>': -0.461,\n",
       "   '<Action.STAND: 1>': -0.478,\n",
       "   'score_p': 'h16',\n",
       "   'score_d': 'h07',\n",
       "   'winning_act': <Action.HIT: 2>,\n",
       "   'winning_act_outcome': -0.461}),\n",
       " (<function __main__.test_cond.<locals>.cond(p, d)>,\n",
       "  {'<Action.DOUBLE: 3>': -0.884,\n",
       "   '<Action.HIT: 2>': -0.471,\n",
       "   '<Action.STAND: 1>': -0.464,\n",
       "   'score_p': 'h16',\n",
       "   'score_d': 'h08',\n",
       "   'winning_act': <Action.STAND: 1>,\n",
       "   'winning_act_outcome': -0.464}),\n",
       " (<function __main__.test_cond.<locals>.cond(p, d)>,\n",
       "  {'<Action.DOUBLE: 3>': -0.98,\n",
       "   '<Action.HIT: 2>': -0.473,\n",
       "   '<Action.STAND: 1>': -0.472,\n",
       "   'score_p': 'h16',\n",
       "   'score_d': 'h09',\n",
       "   'winning_act': <Action.STAND: 1>,\n",
       "   'winning_act_outcome': -0.472}),\n",
       " (<function __main__.test_cond.<locals>.cond(p, d)>,\n",
       "  {'<Action.DOUBLE: 3>': -1.192,\n",
       "   '<Action.HIT: 2>': -0.588,\n",
       "   '<Action.STAND: 1>': -0.584,\n",
       "   'score_p': 'h16',\n",
       "   'score_d': 'h10',\n",
       "   'winning_act': <Action.STAND: 1>,\n",
       "   'winning_act_outcome': -0.584}),\n",
       " (<function __main__.test_cond.<locals>.cond(p, d)>,\n",
       "  {'<Action.DOUBLE: 3>': -0.476,\n",
       "   '<Action.HIT: 2>': -0.476,\n",
       "   '<Action.STAND: 1>': -0.476,\n",
       "   'score_p': 'h17',\n",
       "   'score_d': 's11',\n",
       "   'winning_act': <Action.DOUBLE: 3>,\n",
       "   'winning_act_outcome': -0.476}),\n",
       " (<function __main__.test_cond.<locals>.cond(p, d)>,\n",
       "  {'<Action.DOUBLE: 3>': -1.136,\n",
       "   '<Action.HIT: 2>': -0.544,\n",
       "   '<Action.STAND: 1>': -0.104,\n",
       "   'score_p': 'h17',\n",
       "   'score_d': 'h02',\n",
       "   'winning_act': <Action.STAND: 1>,\n",
       "   'winning_act_outcome': -0.104}),\n",
       " (<function __main__.test_cond.<locals>.cond(p, d)>,\n",
       "  {'<Action.DOUBLE: 3>': -1.03,\n",
       "   '<Action.HIT: 2>': -0.512,\n",
       "   '<Action.STAND: 1>': -0.081,\n",
       "   'score_p': 'h17',\n",
       "   'score_d': 'h03',\n",
       "   'winning_act': <Action.STAND: 1>,\n",
       "   'winning_act_outcome': -0.081}),\n",
       " (<function __main__.test_cond.<locals>.cond(p, d)>,\n",
       "  {'<Action.DOUBLE: 3>': -1.094,\n",
       "   '<Action.HIT: 2>': -0.504,\n",
       "   '<Action.STAND: 1>': -0.079,\n",
       "   'score_p': 'h17',\n",
       "   'score_d': 'h04',\n",
       "   'winning_act': <Action.STAND: 1>,\n",
       "   'winning_act_outcome': -0.079}),\n",
       " (<function __main__.test_cond.<locals>.cond(p, d)>,\n",
       "  {'<Action.DOUBLE: 3>': -1.05,\n",
       "   '<Action.HIT: 2>': -0.493,\n",
       "   '<Action.STAND: 1>': -0.089,\n",
       "   'score_p': 'h17',\n",
       "   'score_d': 'h05',\n",
       "   'winning_act': <Action.STAND: 1>,\n",
       "   'winning_act_outcome': -0.089}),\n",
       " (<function __main__.test_cond.<locals>.cond(p, d)>,\n",
       "  {'<Action.DOUBLE: 3>': -0.998,\n",
       "   '<Action.HIT: 2>': -0.504,\n",
       "   '<Action.STAND: 1>': -0.005,\n",
       "   'score_p': 'h17',\n",
       "   'score_d': 'h06',\n",
       "   'winning_act': <Action.STAND: 1>,\n",
       "   'winning_act_outcome': -0.005}),\n",
       " (<function __main__.test_cond.<locals>.cond(p, d)>,\n",
       "  {'<Action.DOUBLE: 3>': -0.95,\n",
       "   '<Action.HIT: 2>': -0.451,\n",
       "   '<Action.STAND: 1>': -0.092,\n",
       "   'score_p': 'h17',\n",
       "   'score_d': 'h07',\n",
       "   'winning_act': <Action.STAND: 1>,\n",
       "   'winning_act_outcome': -0.092}),\n",
       " (<function __main__.test_cond.<locals>.cond(p, d)>,\n",
       "  {'<Action.DOUBLE: 3>': -1.084,\n",
       "   '<Action.HIT: 2>': -0.458,\n",
       "   '<Action.STAND: 1>': -0.343,\n",
       "   'score_p': 'h17',\n",
       "   'score_d': 'h08',\n",
       "   'winning_act': <Action.STAND: 1>,\n",
       "   'winning_act_outcome': -0.343}),\n",
       " (<function __main__.test_cond.<locals>.cond(p, d)>,\n",
       "  {'<Action.DOUBLE: 3>': -1.054,\n",
       "   '<Action.HIT: 2>': -0.534,\n",
       "   '<Action.STAND: 1>': -0.442,\n",
       "   'score_p': 'h17',\n",
       "   'score_d': 'h09',\n",
       "   'winning_act': <Action.STAND: 1>,\n",
       "   'winning_act_outcome': -0.442}),\n",
       " (<function __main__.test_cond.<locals>.cond(p, d)>,\n",
       "  {'<Action.DOUBLE: 3>': -1.148,\n",
       "   '<Action.HIT: 2>': -0.621,\n",
       "   '<Action.STAND: 1>': -0.438,\n",
       "   'score_p': 'h17',\n",
       "   'score_d': 'h10',\n",
       "   'winning_act': <Action.STAND: 1>,\n",
       "   'winning_act_outcome': -0.438}),\n",
       " (<function __main__.test_cond.<locals>.cond(p, d)>,\n",
       "  {'<Action.DOUBLE: 3>': -0.267,\n",
       "   '<Action.HIT: 2>': -0.267,\n",
       "   '<Action.STAND: 1>': -0.267,\n",
       "   'score_p': 'h18',\n",
       "   'score_d': 's11',\n",
       "   'winning_act': <Action.DOUBLE: 3>,\n",
       "   'winning_act_outcome': -0.267}),\n",
       " (<function __main__.test_cond.<locals>.cond(p, d)>,\n",
       "  {'<Action.DOUBLE: 3>': -1.3,\n",
       "   '<Action.HIT: 2>': -0.621,\n",
       "   '<Action.STAND: 1>': 0.134,\n",
       "   'score_p': 'h18',\n",
       "   'score_d': 'h02',\n",
       "   'winning_act': <Action.STAND: 1>,\n",
       "   'winning_act_outcome': 0.134}),\n",
       " (<function __main__.test_cond.<locals>.cond(p, d)>,\n",
       "  {'<Action.DOUBLE: 3>': -1.276,\n",
       "   '<Action.HIT: 2>': -0.619,\n",
       "   '<Action.STAND: 1>': 0.144,\n",
       "   'score_p': 'h18',\n",
       "   'score_d': 'h03',\n",
       "   'winning_act': <Action.STAND: 1>,\n",
       "   'winning_act_outcome': 0.144}),\n",
       " (<function __main__.test_cond.<locals>.cond(p, d)>,\n",
       "  {'<Action.DOUBLE: 3>': -1.264,\n",
       "   '<Action.HIT: 2>': -0.628,\n",
       "   '<Action.STAND: 1>': 0.181,\n",
       "   'score_p': 'h18',\n",
       "   'score_d': 'h04',\n",
       "   'winning_act': <Action.STAND: 1>,\n",
       "   'winning_act_outcome': 0.181}),\n",
       " (<function __main__.test_cond.<locals>.cond(p, d)>,\n",
       "  {'<Action.DOUBLE: 3>': -1.324,\n",
       "   '<Action.HIT: 2>': -0.645,\n",
       "   '<Action.STAND: 1>': 0.175,\n",
       "   'score_p': 'h18',\n",
       "   'score_d': 'h05',\n",
       "   'winning_act': <Action.STAND: 1>,\n",
       "   'winning_act_outcome': 0.175}),\n",
       " (<function __main__.test_cond.<locals>.cond(p, d)>,\n",
       "  {'<Action.DOUBLE: 3>': -1.218,\n",
       "   '<Action.HIT: 2>': -0.619,\n",
       "   '<Action.STAND: 1>': 0.296,\n",
       "   'score_p': 'h18',\n",
       "   'score_d': 'h06',\n",
       "   'winning_act': <Action.STAND: 1>,\n",
       "   'winning_act_outcome': 0.296}),\n",
       " (<function __main__.test_cond.<locals>.cond(p, d)>,\n",
       "  {'<Action.DOUBLE: 3>': -1.126,\n",
       "   '<Action.HIT: 2>': -0.552,\n",
       "   '<Action.STAND: 1>': 0.418,\n",
       "   'score_p': 'h18',\n",
       "   'score_d': 'h07',\n",
       "   'winning_act': <Action.STAND: 1>,\n",
       "   'winning_act_outcome': 0.418}),\n",
       " (<function __main__.test_cond.<locals>.cond(p, d)>,\n",
       "  {'<Action.DOUBLE: 3>': -1.172,\n",
       "   '<Action.HIT: 2>': -0.563,\n",
       "   '<Action.STAND: 1>': 0.109,\n",
       "   'score_p': 'h18',\n",
       "   'score_d': 'h08',\n",
       "   'winning_act': <Action.STAND: 1>,\n",
       "   'winning_act_outcome': 0.109}),\n",
       " (<function __main__.test_cond.<locals>.cond(p, d)>,\n",
       "  {'<Action.DOUBLE: 3>': -1.206,\n",
       "   '<Action.HIT: 2>': -0.614,\n",
       "   '<Action.STAND: 1>': -0.166,\n",
       "   'score_p': 'h18',\n",
       "   'score_d': 'h09',\n",
       "   'winning_act': <Action.STAND: 1>,\n",
       "   'winning_act_outcome': -0.166}),\n",
       " (<function __main__.test_cond.<locals>.cond(p, d)>,\n",
       "  {'<Action.DOUBLE: 3>': -1.358,\n",
       "   '<Action.HIT: 2>': -0.665,\n",
       "   '<Action.STAND: 1>': -0.282,\n",
       "   'score_p': 'h18',\n",
       "   'score_d': 'h10',\n",
       "   'winning_act': <Action.STAND: 1>,\n",
       "   'winning_act_outcome': -0.282})]"
      ]
     },
     "execution_count": 50,
     "metadata": {},
     "output_type": "execute_result"
    }
   ],
   "source": [
    "conds = [find_winning_action(HandScore(p), make_hand([d]).score, 1*1000) for p in range(10, 19) for d in range(1, 11)]\n",
    "conds"
   ]
  },
  {
   "cell_type": "code",
   "execution_count": 51,
   "id": "matched-niger",
   "metadata": {
    "ExecuteTime": {
     "end_time": "2021-07-07T21:56:08.285843Z",
     "start_time": "2021-07-07T21:56:08.275116Z"
    }
   },
   "outputs": [
    {
     "data": {
      "text/html": [
       "<div>\n",
       "<style scoped>\n",
       "    .dataframe tbody tr th:only-of-type {\n",
       "        vertical-align: middle;\n",
       "    }\n",
       "\n",
       "    .dataframe tbody tr th {\n",
       "        vertical-align: top;\n",
       "    }\n",
       "\n",
       "    .dataframe thead th {\n",
       "        text-align: right;\n",
       "    }\n",
       "</style>\n",
       "<table border=\"1\" class=\"dataframe\">\n",
       "  <thead>\n",
       "    <tr style=\"text-align: right;\">\n",
       "      <th></th>\n",
       "      <th></th>\n",
       "      <th>&lt;Action.DOUBLE: 3&gt;</th>\n",
       "      <th>&lt;Action.HIT: 2&gt;</th>\n",
       "      <th>&lt;Action.STAND: 1&gt;</th>\n",
       "      <th>winning_act</th>\n",
       "      <th>winning_act_outcome</th>\n",
       "    </tr>\n",
       "    <tr>\n",
       "      <th>score_p</th>\n",
       "      <th>score_d</th>\n",
       "      <th></th>\n",
       "      <th></th>\n",
       "      <th></th>\n",
       "      <th></th>\n",
       "      <th></th>\n",
       "    </tr>\n",
       "  </thead>\n",
       "  <tbody>\n",
       "    <tr>\n",
       "      <th rowspan=\"5\" valign=\"top\">h10</th>\n",
       "      <th>s11</th>\n",
       "      <td>-0.033</td>\n",
       "      <td>-0.0455</td>\n",
       "      <td>-0.065</td>\n",
       "      <td>Action.DOUBLE</td>\n",
       "      <td>-0.033</td>\n",
       "    </tr>\n",
       "    <tr>\n",
       "      <th>h02</th>\n",
       "      <td>0.388</td>\n",
       "      <td>0.2145</td>\n",
       "      <td>-0.286</td>\n",
       "      <td>Action.DOUBLE</td>\n",
       "      <td>0.388</td>\n",
       "    </tr>\n",
       "    <tr>\n",
       "      <th>h03</th>\n",
       "      <td>0.416</td>\n",
       "      <td>0.2280</td>\n",
       "      <td>-0.234</td>\n",
       "      <td>Action.DOUBLE</td>\n",
       "      <td>0.416</td>\n",
       "    </tr>\n",
       "    <tr>\n",
       "      <th>h04</th>\n",
       "      <td>0.580</td>\n",
       "      <td>0.2650</td>\n",
       "      <td>-0.148</td>\n",
       "      <td>Action.DOUBLE</td>\n",
       "      <td>0.580</td>\n",
       "    </tr>\n",
       "    <tr>\n",
       "      <th>h05</th>\n",
       "      <td>0.652</td>\n",
       "      <td>0.2940</td>\n",
       "      <td>-0.140</td>\n",
       "      <td>Action.DOUBLE</td>\n",
       "      <td>0.652</td>\n",
       "    </tr>\n",
       "    <tr>\n",
       "      <th>...</th>\n",
       "      <th>...</th>\n",
       "      <td>...</td>\n",
       "      <td>...</td>\n",
       "      <td>...</td>\n",
       "      <td>...</td>\n",
       "      <td>...</td>\n",
       "    </tr>\n",
       "    <tr>\n",
       "      <th rowspan=\"5\" valign=\"top\">h18</th>\n",
       "      <th>h06</th>\n",
       "      <td>-1.218</td>\n",
       "      <td>-0.6190</td>\n",
       "      <td>0.296</td>\n",
       "      <td>Action.STAND</td>\n",
       "      <td>0.296</td>\n",
       "    </tr>\n",
       "    <tr>\n",
       "      <th>h07</th>\n",
       "      <td>-1.126</td>\n",
       "      <td>-0.5520</td>\n",
       "      <td>0.418</td>\n",
       "      <td>Action.STAND</td>\n",
       "      <td>0.418</td>\n",
       "    </tr>\n",
       "    <tr>\n",
       "      <th>h08</th>\n",
       "      <td>-1.172</td>\n",
       "      <td>-0.5630</td>\n",
       "      <td>0.109</td>\n",
       "      <td>Action.STAND</td>\n",
       "      <td>0.109</td>\n",
       "    </tr>\n",
       "    <tr>\n",
       "      <th>h09</th>\n",
       "      <td>-1.206</td>\n",
       "      <td>-0.6140</td>\n",
       "      <td>-0.166</td>\n",
       "      <td>Action.STAND</td>\n",
       "      <td>-0.166</td>\n",
       "    </tr>\n",
       "    <tr>\n",
       "      <th>h10</th>\n",
       "      <td>-1.358</td>\n",
       "      <td>-0.6650</td>\n",
       "      <td>-0.282</td>\n",
       "      <td>Action.STAND</td>\n",
       "      <td>-0.282</td>\n",
       "    </tr>\n",
       "  </tbody>\n",
       "</table>\n",
       "<p>90 rows × 5 columns</p>\n",
       "</div>"
      ],
      "text/plain": [
       "                 <Action.DOUBLE: 3>  <Action.HIT: 2>  <Action.STAND: 1>  \\\n",
       "score_p score_d                                                           \n",
       "h10     s11                  -0.033          -0.0455             -0.065   \n",
       "        h02                   0.388           0.2145             -0.286   \n",
       "        h03                   0.416           0.2280             -0.234   \n",
       "        h04                   0.580           0.2650             -0.148   \n",
       "        h05                   0.652           0.2940             -0.140   \n",
       "...                             ...              ...                ...   \n",
       "h18     h06                  -1.218          -0.6190              0.296   \n",
       "        h07                  -1.126          -0.5520              0.418   \n",
       "        h08                  -1.172          -0.5630              0.109   \n",
       "        h09                  -1.206          -0.6140             -0.166   \n",
       "        h10                  -1.358          -0.6650             -0.282   \n",
       "\n",
       "                   winning_act  winning_act_outcome  \n",
       "score_p score_d                                      \n",
       "h10     s11      Action.DOUBLE               -0.033  \n",
       "        h02      Action.DOUBLE                0.388  \n",
       "        h03      Action.DOUBLE                0.416  \n",
       "        h04      Action.DOUBLE                0.580  \n",
       "        h05      Action.DOUBLE                0.652  \n",
       "...                        ...                  ...  \n",
       "h18     h06       Action.STAND                0.296  \n",
       "        h07       Action.STAND                0.418  \n",
       "        h08       Action.STAND                0.109  \n",
       "        h09       Action.STAND               -0.166  \n",
       "        h10       Action.STAND               -0.282  \n",
       "\n",
       "[90 rows x 5 columns]"
      ]
     },
     "execution_count": 51,
     "metadata": {},
     "output_type": "execute_result"
    }
   ],
   "source": [
    "outputs = pd.DataFrame([data for _, data in conds]).set_index(['score_p', 'score_d'])\n",
    "outputs"
   ]
  },
  {
   "cell_type": "code",
   "execution_count": 52,
   "id": "matched-milan",
   "metadata": {
    "ExecuteTime": {
     "end_time": "2021-07-07T21:56:08.432279Z",
     "start_time": "2021-07-07T21:56:08.286694Z"
    }
   },
   "outputs": [
    {
     "data": {
      "text/plain": [
       "<AxesSubplot:xlabel='score_d', ylabel='score_p'>"
      ]
     },
     "execution_count": 52,
     "metadata": {},
     "output_type": "execute_result"
    },
    {
     "data": {
      "image/png": "[encoded data removed]",
      "text/plain": [
       "<Figure size 432x288 with 2 Axes>"
      ]
     },
     "metadata": {
      "needs_background": "light"
     },
     "output_type": "display_data"
    }
   ],
   "source": [
    "# Visualize the winning action by starting condition\n",
    "sns.heatmap(outputs['winning_act'].apply(lambda x: x.value).unstack())\n"
   ]
  },
  {
   "cell_type": "code",
   "execution_count": 53,
   "id": "naval-northwest",
   "metadata": {
    "ExecuteTime": {
     "end_time": "2021-07-07T21:56:08.592341Z",
     "start_time": "2021-07-07T21:56:08.433315Z"
    }
   },
   "outputs": [
    {
     "data": {
      "text/plain": [
       "<AxesSubplot:xlabel='score_d', ylabel='score_p'>"
      ]
     },
     "execution_count": 53,
     "metadata": {},
     "output_type": "execute_result"
    },
    {
     "data": {
      "image/png": "[encoded data removed]",
      "text/plain": [
       "<Figure size 432x288 with 2 Axes>"
      ]
     },
     "metadata": {
      "needs_background": "light"
     },
     "output_type": "display_data"
    }
   ],
   "source": [
    "# Visualize the average outcome by starting condition\n",
    "sns.heatmap(outputs['winning_act_outcome'].unstack())"
   ]
  },
  {
   "cell_type": "code",
   "execution_count": 54,
   "id": "disturbed-wright",
   "metadata": {
    "ExecuteTime": {
     "end_time": "2021-07-07T21:56:08.598360Z",
     "start_time": "2021-07-07T21:56:08.593206Z"
    }
   },
   "outputs": [
    {
     "data": {
      "text/plain": [
       "[(<function __main__.test_cond.<locals>.cond(p, d)>, <Action.DOUBLE: 3>),\n",
       " (<function __main__.test_cond.<locals>.cond(p, d)>, <Action.DOUBLE: 3>),\n",
       " (<function __main__.test_cond.<locals>.cond(p, d)>, <Action.DOUBLE: 3>),\n",
       " (<function __main__.test_cond.<locals>.cond(p, d)>, <Action.DOUBLE: 3>),\n",
       " (<function __main__.test_cond.<locals>.cond(p, d)>, <Action.DOUBLE: 3>),\n",
       " (<function __main__.test_cond.<locals>.cond(p, d)>, <Action.DOUBLE: 3>),\n",
       " (<function __main__.test_cond.<locals>.cond(p, d)>, <Action.DOUBLE: 3>),\n",
       " (<function __main__.test_cond.<locals>.cond(p, d)>, <Action.DOUBLE: 3>),\n",
       " (<function __main__.test_cond.<locals>.cond(p, d)>, <Action.DOUBLE: 3>),\n",
       " (<function __main__.test_cond.<locals>.cond(p, d)>, <Action.HIT: 2>),\n",
       " (<function __main__.test_cond.<locals>.cond(p, d)>, <Action.STAND: 1>),\n",
       " (<function __main__.test_cond.<locals>.cond(p, d)>, <Action.DOUBLE: 3>),\n",
       " (<function __main__.test_cond.<locals>.cond(p, d)>, <Action.DOUBLE: 3>),\n",
       " (<function __main__.test_cond.<locals>.cond(p, d)>, <Action.DOUBLE: 3>),\n",
       " (<function __main__.test_cond.<locals>.cond(p, d)>, <Action.DOUBLE: 3>),\n",
       " (<function __main__.test_cond.<locals>.cond(p, d)>, <Action.DOUBLE: 3>),\n",
       " (<function __main__.test_cond.<locals>.cond(p, d)>, <Action.DOUBLE: 3>),\n",
       " (<function __main__.test_cond.<locals>.cond(p, d)>, <Action.DOUBLE: 3>),\n",
       " (<function __main__.test_cond.<locals>.cond(p, d)>, <Action.DOUBLE: 3>),\n",
       " (<function __main__.test_cond.<locals>.cond(p, d)>, <Action.HIT: 2>),\n",
       " (<function __main__.test_cond.<locals>.cond(p, d)>, <Action.DOUBLE: 3>),\n",
       " (<function __main__.test_cond.<locals>.cond(p, d)>, <Action.STAND: 1>),\n",
       " (<function __main__.test_cond.<locals>.cond(p, d)>, <Action.STAND: 1>),\n",
       " (<function __main__.test_cond.<locals>.cond(p, d)>, <Action.STAND: 1>),\n",
       " (<function __main__.test_cond.<locals>.cond(p, d)>, <Action.STAND: 1>),\n",
       " (<function __main__.test_cond.<locals>.cond(p, d)>, <Action.STAND: 1>),\n",
       " (<function __main__.test_cond.<locals>.cond(p, d)>, <Action.HIT: 2>),\n",
       " (<function __main__.test_cond.<locals>.cond(p, d)>, <Action.HIT: 2>),\n",
       " (<function __main__.test_cond.<locals>.cond(p, d)>, <Action.HIT: 2>),\n",
       " (<function __main__.test_cond.<locals>.cond(p, d)>, <Action.HIT: 2>),\n",
       " (<function __main__.test_cond.<locals>.cond(p, d)>, <Action.HIT: 2>),\n",
       " (<function __main__.test_cond.<locals>.cond(p, d)>, <Action.STAND: 1>),\n",
       " (<function __main__.test_cond.<locals>.cond(p, d)>, <Action.STAND: 1>),\n",
       " (<function __main__.test_cond.<locals>.cond(p, d)>, <Action.STAND: 1>),\n",
       " (<function __main__.test_cond.<locals>.cond(p, d)>, <Action.STAND: 1>),\n",
       " (<function __main__.test_cond.<locals>.cond(p, d)>, <Action.STAND: 1>),\n",
       " (<function __main__.test_cond.<locals>.cond(p, d)>, <Action.HIT: 2>),\n",
       " (<function __main__.test_cond.<locals>.cond(p, d)>, <Action.HIT: 2>),\n",
       " (<function __main__.test_cond.<locals>.cond(p, d)>, <Action.HIT: 2>),\n",
       " (<function __main__.test_cond.<locals>.cond(p, d)>, <Action.HIT: 2>),\n",
       " (<function __main__.test_cond.<locals>.cond(p, d)>, <Action.HIT: 2>),\n",
       " (<function __main__.test_cond.<locals>.cond(p, d)>, <Action.STAND: 1>),\n",
       " (<function __main__.test_cond.<locals>.cond(p, d)>, <Action.STAND: 1>),\n",
       " (<function __main__.test_cond.<locals>.cond(p, d)>, <Action.STAND: 1>),\n",
       " (<function __main__.test_cond.<locals>.cond(p, d)>, <Action.STAND: 1>),\n",
       " (<function __main__.test_cond.<locals>.cond(p, d)>, <Action.STAND: 1>),\n",
       " (<function __main__.test_cond.<locals>.cond(p, d)>, <Action.HIT: 2>),\n",
       " (<function __main__.test_cond.<locals>.cond(p, d)>, <Action.HIT: 2>),\n",
       " (<function __main__.test_cond.<locals>.cond(p, d)>, <Action.HIT: 2>),\n",
       " (<function __main__.test_cond.<locals>.cond(p, d)>, <Action.HIT: 2>),\n",
       " (<function __main__.test_cond.<locals>.cond(p, d)>, <Action.HIT: 2>),\n",
       " (<function __main__.test_cond.<locals>.cond(p, d)>, <Action.STAND: 1>),\n",
       " (<function __main__.test_cond.<locals>.cond(p, d)>, <Action.STAND: 1>),\n",
       " (<function __main__.test_cond.<locals>.cond(p, d)>, <Action.STAND: 1>),\n",
       " (<function __main__.test_cond.<locals>.cond(p, d)>, <Action.STAND: 1>),\n",
       " (<function __main__.test_cond.<locals>.cond(p, d)>, <Action.STAND: 1>),\n",
       " (<function __main__.test_cond.<locals>.cond(p, d)>, <Action.HIT: 2>),\n",
       " (<function __main__.test_cond.<locals>.cond(p, d)>, <Action.HIT: 2>),\n",
       " (<function __main__.test_cond.<locals>.cond(p, d)>, <Action.HIT: 2>),\n",
       " (<function __main__.test_cond.<locals>.cond(p, d)>, <Action.HIT: 2>),\n",
       " (<function __main__.test_cond.<locals>.cond(p, d)>, <Action.STAND: 1>),\n",
       " (<function __main__.test_cond.<locals>.cond(p, d)>, <Action.STAND: 1>),\n",
       " (<function __main__.test_cond.<locals>.cond(p, d)>, <Action.STAND: 1>),\n",
       " (<function __main__.test_cond.<locals>.cond(p, d)>, <Action.STAND: 1>),\n",
       " (<function __main__.test_cond.<locals>.cond(p, d)>, <Action.STAND: 1>),\n",
       " (<function __main__.test_cond.<locals>.cond(p, d)>, <Action.STAND: 1>),\n",
       " (<function __main__.test_cond.<locals>.cond(p, d)>, <Action.HIT: 2>),\n",
       " (<function __main__.test_cond.<locals>.cond(p, d)>, <Action.STAND: 1>),\n",
       " (<function __main__.test_cond.<locals>.cond(p, d)>, <Action.STAND: 1>),\n",
       " (<function __main__.test_cond.<locals>.cond(p, d)>, <Action.STAND: 1>),\n",
       " (<function __main__.test_cond.<locals>.cond(p, d)>, <Action.DOUBLE: 3>),\n",
       " (<function __main__.test_cond.<locals>.cond(p, d)>, <Action.STAND: 1>),\n",
       " (<function __main__.test_cond.<locals>.cond(p, d)>, <Action.STAND: 1>),\n",
       " (<function __main__.test_cond.<locals>.cond(p, d)>, <Action.STAND: 1>),\n",
       " (<function __main__.test_cond.<locals>.cond(p, d)>, <Action.STAND: 1>),\n",
       " (<function __main__.test_cond.<locals>.cond(p, d)>, <Action.STAND: 1>),\n",
       " (<function __main__.test_cond.<locals>.cond(p, d)>, <Action.STAND: 1>),\n",
       " (<function __main__.test_cond.<locals>.cond(p, d)>, <Action.STAND: 1>),\n",
       " (<function __main__.test_cond.<locals>.cond(p, d)>, <Action.STAND: 1>),\n",
       " (<function __main__.test_cond.<locals>.cond(p, d)>, <Action.STAND: 1>),\n",
       " (<function __main__.test_cond.<locals>.cond(p, d)>, <Action.DOUBLE: 3>),\n",
       " (<function __main__.test_cond.<locals>.cond(p, d)>, <Action.STAND: 1>),\n",
       " (<function __main__.test_cond.<locals>.cond(p, d)>, <Action.STAND: 1>),\n",
       " (<function __main__.test_cond.<locals>.cond(p, d)>, <Action.STAND: 1>),\n",
       " (<function __main__.test_cond.<locals>.cond(p, d)>, <Action.STAND: 1>),\n",
       " (<function __main__.test_cond.<locals>.cond(p, d)>, <Action.STAND: 1>),\n",
       " (<function __main__.test_cond.<locals>.cond(p, d)>, <Action.STAND: 1>),\n",
       " (<function __main__.test_cond.<locals>.cond(p, d)>, <Action.STAND: 1>),\n",
       " (<function __main__.test_cond.<locals>.cond(p, d)>, <Action.STAND: 1>),\n",
       " (<function __main__.test_cond.<locals>.cond(p, d)>, <Action.STAND: 1>)]"
      ]
     },
     "execution_count": 54,
     "metadata": {},
     "output_type": "execute_result"
    }
   ],
   "source": [
    "[(cond, output['winning_act']) for cond, output in conds]"
   ]
  },
  {
   "cell_type": "code",
   "execution_count": 55,
   "id": "portable-niger",
   "metadata": {
    "ExecuteTime": {
     "end_time": "2021-07-07T21:56:08.600946Z",
     "start_time": "2021-07-07T21:56:08.599253Z"
    }
   },
   "outputs": [],
   "source": [
    "strat_derived = generate_strat_conditional(strat_simple, [(cond, output['winning_act']) for cond, output in conds])\n",
    "strat_derived.name = 'strat_derived'"
   ]
  },
  {
   "cell_type": "code",
   "execution_count": 56,
   "id": "english-distance",
   "metadata": {
    "ExecuteTime": {
     "end_time": "2021-07-07T21:56:08.634585Z",
     "start_time": "2021-07-07T21:56:08.601778Z"
    },
    "scrolled": true
   },
   "outputs": [
    {
     "data": {
      "text/plain": [
       "(        strategy hand_start  dealer_card          hand_end  dealer_hand  \\\n",
       " 0         simple    [1, 13]            2           [1, 13]   [2, 13, 8]   \n",
       " 1  strat_derived    [1, 13]            2           [1, 13]   [2, 13, 8]   \n",
       " 2         simple    [3, 11]            4           [3, 11]   [4, 13, 9]   \n",
       " 3  strat_derived    [3, 11]            4           [3, 11]   [4, 13, 9]   \n",
       " 4         simple     [5, 2]           12        [5, 2, 12]      [12, 9]   \n",
       " 5  strat_derived     [5, 2]           12     [5, 2, 7, 12]      [12, 9]   \n",
       " 6         simple     [3, 3]            6        [3, 3, 12]   [6, 10, 8]   \n",
       " 7  strat_derived     [3, 3]            6  [3, 3, 2, 3, 10]   [6, 10, 8]   \n",
       " 8         simple    [1, 11]           10           [1, 11]  [10, 2, 10]   \n",
       " 9  strat_derived    [1, 11]           10           [1, 11]  [10, 2, 10]   \n",
       " \n",
       "                   outcome  outcome_value outcome_name  \n",
       " 0   HandOutcome.BLACKJACK            1.5    BLACKJACK  \n",
       " 1   HandOutcome.BLACKJACK            1.5    BLACKJACK  \n",
       " 2         HandOutcome.WIN            1.0          WIN  \n",
       " 3         HandOutcome.WIN            1.0          WIN  \n",
       " 4        HandOutcome.LOSE           -1.0         LOSE  \n",
       " 5        HandOutcome.LOSE           -1.0         LOSE  \n",
       " 6         HandOutcome.WIN            1.0          WIN  \n",
       " 7  HandOutcome.WIN_DOUBLE            2.0   WIN_DOUBLE  \n",
       " 8   HandOutcome.BLACKJACK            1.5    BLACKJACK  \n",
       " 9   HandOutcome.BLACKJACK            1.5    BLACKJACK  ,\n",
       "                     len                                      mean_outcome\n",
       " outcome_name  BLACKJACK LOSE LOSE_DOUBLE PUSH WIN WIN_DOUBLE             \n",
       " strategy                                                                 \n",
       " simple                8   37           2   10  38          5         0.19\n",
       " strat_derived         8   38           1   11  36          6         0.20)"
      ]
     },
     "execution_count": 56,
     "metadata": {},
     "output_type": "execute_result"
    }
   ],
   "source": [
    "sims = run_n_sim_trials([strat_simple, strat_derived], 100)\n",
    "sims.head(10), summarize_totals(sims)"
   ]
  },
  {
   "cell_type": "code",
   "execution_count": 57,
   "id": "modified-reason",
   "metadata": {
    "ExecuteTime": {
     "end_time": "2021-07-07T21:56:19.412575Z",
     "start_time": "2021-07-07T21:56:08.635777Z"
    },
    "scrolled": true
   },
   "outputs": [
    {
     "data": {
      "text/plain": [
       "(        strategy hand_start  dealer_card     hand_end       dealer_hand  \\\n",
       " 0         simple   [11, 11]           10     [11, 11]           [10, 8]   \n",
       " 1  strat_derived   [11, 11]           10     [11, 11]           [10, 8]   \n",
       " 2         simple    [13, 2]            2  [13, 2, 10]         [2, 9, 6]   \n",
       " 3  strat_derived    [13, 2]            2      [13, 2]         [2, 9, 6]   \n",
       " 4         simple     [7, 6]            4       [7, 6]         [4, 7, 8]   \n",
       " 5  strat_derived     [7, 6]            4       [7, 6]         [4, 7, 8]   \n",
       " 6         simple     [5, 6]           13    [5, 6, 6]          [13, 13]   \n",
       " 7  strat_derived     [5, 6]           13    [5, 6, 5]          [13, 13]   \n",
       " 8         simple     [3, 7]            1   [3, 7, 11]  [1, 3, 2, 4, 11]   \n",
       " 9  strat_derived     [3, 7]            1    [3, 7, 7]  [1, 3, 2, 4, 11]   \n",
       " \n",
       "                    outcome  outcome_value outcome_name  \n",
       " 0          HandOutcome.WIN            1.0          WIN  \n",
       " 1          HandOutcome.WIN            1.0          WIN  \n",
       " 2         HandOutcome.LOSE           -1.0         LOSE  \n",
       " 3         HandOutcome.LOSE           -1.0         LOSE  \n",
       " 4         HandOutcome.LOSE           -1.0         LOSE  \n",
       " 5         HandOutcome.LOSE           -1.0         LOSE  \n",
       " 6  HandOutcome.LOSE_DOUBLE           -2.0  LOSE_DOUBLE  \n",
       " 7         HandOutcome.LOSE           -1.0         LOSE  \n",
       " 8         HandOutcome.PUSH            0.0         PUSH  \n",
       " 9  HandOutcome.LOSE_DOUBLE           -2.0  LOSE_DOUBLE  ,\n",
       "                     len                                             \\\n",
       " outcome_name  BLACKJACK   LOSE LOSE_DOUBLE  PUSH    WIN WIN_DOUBLE   \n",
       " strategy                                                             \n",
       " simple             4385  46060        2422  8735  35179       3219   \n",
       " strat_derived      4385  44875        4523  7914  33918       4385   \n",
       " \n",
       "               mean_outcome  \n",
       " outcome_name                \n",
       " strategy                    \n",
       " simple           -0.027095  \n",
       " strat_derived    -0.046555  )"
      ]
     },
     "execution_count": 57,
     "metadata": {},
     "output_type": "execute_result"
    }
   ],
   "source": [
    "sims = run_n_sim_trials([strat_simple, strat_derived], 100*1000)\n",
    "sims.head(10), summarize_totals(sims)"
   ]
  },
  {
   "cell_type": "code",
   "execution_count": null,
   "id": "timely-bicycle",
   "metadata": {},
   "outputs": [],
   "source": []
  }
 ],
 "metadata": {
  "kernelspec": {
   "display_name": "Python 3",
   "language": "python",
   "name": "python3"
  },
  "language_info": {
   "codemirror_mode": {
    "name": "ipython",
    "version": 3
   },
   "file_extension": ".py",
   "mimetype": "text/x-python",
   "name": "python",
   "nbconvert_exporter": "python",
   "pygments_lexer": "ipython3",
   "version": "3.8.8"
  }
 },
 "nbformat": 4,
 "nbformat_minor": 5
}
