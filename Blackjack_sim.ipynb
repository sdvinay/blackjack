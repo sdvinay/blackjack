{
 "cells": [
  {
   "cell_type": "code",
   "execution_count": 1,
   "id": "middle-scenario",
   "metadata": {
    "ExecuteTime": {
     "end_time": "2021-07-25T01:23:31.167083Z",
     "start_time": "2021-07-25T01:23:30.505300Z"
    }
   },
   "outputs": [],
   "source": [
    "import pandas as pd\n",
    "import matplotlib.pyplot as plt\n",
    "import seaborn as sns\n",
    "\n",
    "\n",
    "import blackjack as bj\n",
    "from blackjack import Hand, HandScore, Action, make_hand\n",
    "import simulator as sim\n",
    "import optimizer as opt"
   ]
  },
  {
   "cell_type": "code",
   "execution_count": 2,
   "id": "floating-forge",
   "metadata": {
    "ExecuteTime": {
     "end_time": "2021-07-25T01:23:31.171495Z",
     "start_time": "2021-07-25T01:23:31.168230Z"
    }
   },
   "outputs": [
    {
     "data": {
      "text/plain": [
       "s11"
      ]
     },
     "execution_count": 2,
     "metadata": {},
     "output_type": "execute_result"
    }
   ],
   "source": [
    "h = HandScore(11, True)\n",
    "h"
   ]
  },
  {
   "cell_type": "code",
   "execution_count": 3,
   "id": "pointed-judge",
   "metadata": {
    "ExecuteTime": {
     "end_time": "2021-07-25T01:23:31.176113Z",
     "start_time": "2021-07-25T01:23:31.173753Z"
    }
   },
   "outputs": [
    {
     "data": {
      "text/plain": [
       "s21"
      ]
     },
     "execution_count": 3,
     "metadata": {},
     "output_type": "execute_result"
    }
   ],
   "source": [
    "h.add_card(10)"
   ]
  },
  {
   "cell_type": "code",
   "execution_count": 4,
   "id": "mounted-kernel",
   "metadata": {
    "ExecuteTime": {
     "end_time": "2021-07-25T01:23:31.179552Z",
     "start_time": "2021-07-25T01:23:31.177446Z"
    }
   },
   "outputs": [
    {
     "data": {
      "text/plain": [
       "h21"
      ]
     },
     "execution_count": 4,
     "metadata": {},
     "output_type": "execute_result"
    }
   ],
   "source": [
    "h.add_card(10).add_card(10)"
   ]
  },
  {
   "cell_type": "code",
   "execution_count": 5,
   "id": "static-printer",
   "metadata": {
    "ExecuteTime": {
     "end_time": "2021-07-25T01:23:31.183720Z",
     "start_time": "2021-07-25T01:23:31.180916Z"
    }
   },
   "outputs": [
    {
     "data": {
      "text/plain": [
       "s11"
      ]
     },
     "execution_count": 5,
     "metadata": {},
     "output_type": "execute_result"
    }
   ],
   "source": [
    "h"
   ]
  },
  {
   "cell_type": "code",
   "execution_count": 6,
   "id": "turkish-state",
   "metadata": {
    "ExecuteTime": {
     "end_time": "2021-07-25T01:23:31.187415Z",
     "start_time": "2021-07-25T01:23:31.185110Z"
    }
   },
   "outputs": [
    {
     "data": {
      "text/plain": [
       "s14"
      ]
     },
     "execution_count": 6,
     "metadata": {},
     "output_type": "execute_result"
    }
   ],
   "source": [
    "h.add_card(3)"
   ]
  },
  {
   "cell_type": "code",
   "execution_count": 7,
   "id": "cubic-object",
   "metadata": {
    "ExecuteTime": {
     "end_time": "2021-07-25T01:23:31.190942Z",
     "start_time": "2021-07-25T01:23:31.188456Z"
    }
   },
   "outputs": [
    {
     "data": {
      "text/plain": [
       "h14"
      ]
     },
     "execution_count": 7,
     "metadata": {},
     "output_type": "execute_result"
    }
   ],
   "source": [
    "h.add_card(3).add_card(10)"
   ]
  },
  {
   "cell_type": "code",
   "execution_count": 8,
   "id": "afraid-bristol",
   "metadata": {
    "ExecuteTime": {
     "end_time": "2021-07-25T01:23:31.195999Z",
     "start_time": "2021-07-25T01:23:31.193191Z"
    }
   },
   "outputs": [
    {
     "data": {
      "text/plain": [
       "[h00,\n",
       " h01,\n",
       " h02,\n",
       " h03,\n",
       " h04,\n",
       " h05,\n",
       " h06,\n",
       " h07,\n",
       " h08,\n",
       " h09,\n",
       " h10,\n",
       " h11,\n",
       " h12,\n",
       " h13,\n",
       " h14,\n",
       " h15,\n",
       " h16,\n",
       " h17,\n",
       " h18,\n",
       " h19,\n",
       " h20,\n",
       " h21,\n",
       " h22,\n",
       " s11,\n",
       " s12,\n",
       " s13,\n",
       " s14,\n",
       " s15,\n",
       " s16,\n",
       " s17,\n",
       " s18,\n",
       " s19,\n",
       " s20,\n",
       " s21]"
      ]
     },
     "execution_count": 8,
     "metadata": {},
     "output_type": "execute_result"
    }
   ],
   "source": [
    "all_scores = [HandScore(i, False) for i in range(0, 23)] + [HandScore(i, True) for i in range(11, 22)]\n",
    "all_scores"
   ]
  },
  {
   "cell_type": "code",
   "execution_count": 9,
   "id": "initial-harrison",
   "metadata": {
    "ExecuteTime": {
     "end_time": "2021-07-25T01:23:31.201050Z",
     "start_time": "2021-07-25T01:23:31.198130Z"
    }
   },
   "outputs": [
    {
     "data": {
      "text/plain": [
       "Hand(score=h00, cards=[], doubled=False, drawn=False)"
      ]
     },
     "execution_count": 9,
     "metadata": {},
     "output_type": "execute_result"
    }
   ],
   "source": [
    "h = Hand()\n",
    "h"
   ]
  },
  {
   "cell_type": "code",
   "execution_count": 10,
   "id": "reduced-cover",
   "metadata": {
    "ExecuteTime": {
     "end_time": "2021-07-25T01:23:31.205498Z",
     "start_time": "2021-07-25T01:23:31.202910Z"
    }
   },
   "outputs": [
    {
     "data": {
      "text/plain": [
       "Hand(score=h06, cards=[6], doubled=False, drawn=False)"
      ]
     },
     "execution_count": 10,
     "metadata": {},
     "output_type": "execute_result"
    }
   ],
   "source": [
    "h.add_card(6) # start a hand with a 6"
   ]
  },
  {
   "cell_type": "code",
   "execution_count": 11,
   "id": "aging-green",
   "metadata": {
    "ExecuteTime": {
     "end_time": "2021-07-25T01:23:31.209100Z",
     "start_time": "2021-07-25T01:23:31.206532Z"
    }
   },
   "outputs": [
    {
     "data": {
      "text/plain": [
       "Hand(score=h16, cards=[6, 11], doubled=False, drawn=False)"
      ]
     },
     "execution_count": 11,
     "metadata": {},
     "output_type": "execute_result"
    }
   ],
   "source": [
    "h.add_card(11) # show that J (11) counts as 10 points"
   ]
  },
  {
   "cell_type": "code",
   "execution_count": 12,
   "id": "humanitarian-chair",
   "metadata": {
    "ExecuteTime": {
     "end_time": "2021-07-25T01:23:31.212749Z",
     "start_time": "2021-07-25T01:23:31.210200Z"
    }
   },
   "outputs": [
    {
     "data": {
      "text/plain": [
       "(Hand(score=h22, cards=[6, 11, 7], doubled=False, drawn=False), True)"
      ]
     },
     "execution_count": 12,
     "metadata": {},
     "output_type": "execute_result"
    }
   ],
   "source": [
    "h.add_card(7), bj.is_busted(h) # bust (show that 23 is counted as 22)"
   ]
  },
  {
   "cell_type": "code",
   "execution_count": 13,
   "id": "accompanied-perspective",
   "metadata": {
    "ExecuteTime": {
     "end_time": "2021-07-25T01:23:31.217106Z",
     "start_time": "2021-07-25T01:23:31.213760Z"
    }
   },
   "outputs": [
    {
     "data": {
      "text/plain": [
       "Hand(score=s11, cards=[1], doubled=False, drawn=False)"
      ]
     },
     "execution_count": 13,
     "metadata": {},
     "output_type": "execute_result"
    }
   ],
   "source": [
    "# OK, now let's try another hand with aces\n",
    "h = Hand()\n",
    "h.add_card(1) # should be a soft 11"
   ]
  },
  {
   "cell_type": "code",
   "execution_count": 14,
   "id": "exotic-checkout",
   "metadata": {
    "ExecuteTime": {
     "end_time": "2021-07-25T01:23:31.220766Z",
     "start_time": "2021-07-25T01:23:31.218636Z"
    }
   },
   "outputs": [
    {
     "data": {
      "text/plain": [
       "Hand(score=s12, cards=[1, 1], doubled=False, drawn=False)"
      ]
     },
     "execution_count": 14,
     "metadata": {},
     "output_type": "execute_result"
    }
   ],
   "source": [
    "h.add_card(1) # two aces: should be a soft 12"
   ]
  },
  {
   "cell_type": "code",
   "execution_count": 15,
   "id": "italian-beads",
   "metadata": {
    "ExecuteTime": {
     "end_time": "2021-07-25T01:23:31.223977Z",
     "start_time": "2021-07-25T01:23:31.221770Z"
    }
   },
   "outputs": [
    {
     "data": {
      "text/plain": [
       "Hand(score=h12, cards=[1, 1, 11], doubled=False, drawn=False)"
      ]
     },
     "execution_count": 15,
     "metadata": {},
     "output_type": "execute_result"
    }
   ],
   "source": [
    "h.add_card(11) # two aces and a J: should be a hard 12"
   ]
  },
  {
   "cell_type": "code",
   "execution_count": 16,
   "id": "neutral-sugar",
   "metadata": {
    "ExecuteTime": {
     "end_time": "2021-07-25T01:23:31.227623Z",
     "start_time": "2021-07-25T01:23:31.224923Z"
    }
   },
   "outputs": [
    {
     "data": {
      "text/plain": [
       "(Hand(score=s21, cards=[1, 10], doubled=False, drawn=False), True)"
      ]
     },
     "execution_count": 16,
     "metadata": {},
     "output_type": "execute_result"
    }
   ],
   "source": [
    "# OK, now let's try another hand with a blackjack\n",
    "h = Hand()\n",
    "h.add_card(1) # should be a soft 11\n",
    "h.add_card(10)\n",
    "h, bj.is_blackjack(h)"
   ]
  },
  {
   "cell_type": "markdown",
   "id": "dental-kelly",
   "metadata": {},
   "source": [
    "## Now define gameplay and strategy"
   ]
  },
  {
   "cell_type": "code",
   "execution_count": 17,
   "id": "secondary-crown",
   "metadata": {
    "ExecuteTime": {
     "end_time": "2021-07-25T01:23:31.231438Z",
     "start_time": "2021-07-25T01:23:31.228577Z"
    }
   },
   "outputs": [
    {
     "data": {
      "text/plain": [
       "[4, 13, 7, 3, 11, 8, 8, 1, 9, 3]"
      ]
     },
     "execution_count": 17,
     "metadata": {},
     "output_type": "execute_result"
    }
   ],
   "source": [
    "[bj.deal_card() for _ in range(10)]"
   ]
  },
  {
   "cell_type": "code",
   "execution_count": 18,
   "id": "atomic-plaintiff",
   "metadata": {
    "ExecuteTime": {
     "end_time": "2021-07-25T01:23:31.236340Z",
     "start_time": "2021-07-25T01:23:31.232882Z"
    }
   },
   "outputs": [
    {
     "data": {
      "text/plain": [
       "[('strat_nobust',\n",
       "  Hand(score=h15, cards=[12, 5], doubled=False, drawn=False),\n",
       "  Hand(score=h19, cards=[5, 5, 9], doubled=False, drawn=True),\n",
       "  <HandOutcome.LOSE: -1>),\n",
       " ('strat_nobust',\n",
       "  Hand(score=h15, cards=[12, 5], doubled=False, drawn=False),\n",
       "  Hand(score=h19, cards=[5, 5, 9], doubled=False, drawn=True),\n",
       "  <HandOutcome.LOSE: -1>)]"
      ]
     },
     "execution_count": 18,
     "metadata": {},
     "output_type": "execute_result"
    }
   ],
   "source": [
    "bj.play_one_round([bj.strat_nobust, bj.strat_nobust])"
   ]
  },
  {
   "cell_type": "markdown",
   "id": "looking-jewelry",
   "metadata": {},
   "source": [
    "## Aggregate and summarize the data from the simulations"
   ]
  },
  {
   "cell_type": "code",
   "execution_count": 19,
   "id": "juvenile-joshua",
   "metadata": {
    "ExecuteTime": {
     "end_time": "2021-07-25T01:23:31.240283Z",
     "start_time": "2021-07-25T01:23:31.237403Z"
    }
   },
   "outputs": [
    {
     "data": {
      "text/plain": [
       "[{'strategy': 'strat_nobust',\n",
       "  'hand_start': [7, 13],\n",
       "  'dealer_card': 11,\n",
       "  'hand_end': [7, 13],\n",
       "  'dealer_hand': [11, 2, 6],\n",
       "  'outcome': <HandOutcome.LOSE: -1>},\n",
       " {'strategy': 'strat_dealer',\n",
       "  'hand_start': [7, 13],\n",
       "  'dealer_card': 11,\n",
       "  'hand_end': [7, 13],\n",
       "  'dealer_hand': [11, 2, 6],\n",
       "  'outcome': <HandOutcome.LOSE: -1>}]"
      ]
     },
     "execution_count": 19,
     "metadata": {},
     "output_type": "execute_result"
    }
   ],
   "source": [
    "\n",
    "\n",
    "strat_nobust = bj.strat_nobust\n",
    "strat_dealer = bj.strat_dealer\n",
    "sim.generate_rows_from_round(bj.play_one_round([bj.strat_nobust, bj.strat_dealer]))\n"
   ]
  },
  {
   "cell_type": "code",
   "execution_count": 20,
   "id": "approved-broadway",
   "metadata": {
    "ExecuteTime": {
     "end_time": "2021-07-25T01:23:31.535432Z",
     "start_time": "2021-07-25T01:23:31.241159Z"
    }
   },
   "outputs": [],
   "source": [
    "\n",
    "\n",
    "sim_results = sim.run_n_sim_trials([strat_nobust, strat_dealer], 10000)\n",
    "#%prun -s cumulative sim_results, sim.summarize_totals(sim_results)"
   ]
  },
  {
   "cell_type": "code",
   "execution_count": 21,
   "id": "varied-devil",
   "metadata": {
    "ExecuteTime": {
     "end_time": "2021-07-25T01:23:31.578695Z",
     "start_time": "2021-07-25T01:23:31.536352Z"
    }
   },
   "outputs": [
    {
     "data": {
      "text/plain": [
       "(  strategy hand_start  dealer_card       hand_end    dealer_hand  \\\n",
       " 0   simple    [10, 9]           12        [10, 9]     [12, 4, 8]   \n",
       " 1   simple     [6, 4]            3      [6, 4, 1]  [3, 4, 4, 10]   \n",
       " 2   simple     [8, 4]            5         [8, 4]      [5, 6, 7]   \n",
       " 3   simple    [8, 13]            7        [8, 13]      [7, 5, 5]   \n",
       " 4   simple    [7, 11]            3        [7, 11]  [3, 6, 5, 10]   \n",
       " 5   simple     [3, 3]           13  [3, 3, 6, 13]       [13, 10]   \n",
       " 6   simple    [10, 1]           13        [10, 1]     [13, 5, 5]   \n",
       " 7   simple    [11, 7]            7        [11, 7]        [7, 12]   \n",
       " 8   simple    [12, 9]            6        [12, 9]     [6, 6, 12]   \n",
       " 9   simple    [13, 1]            1        [13, 1]         [1, 8]   \n",
       " \n",
       "                  outcome  outcome_value outcome_name  \n",
       " 0        HandOutcome.WIN            1.0          WIN  \n",
       " 1       HandOutcome.PUSH            0.0         PUSH  \n",
       " 2       HandOutcome.LOSE           -1.0         LOSE  \n",
       " 3        HandOutcome.WIN            1.0          WIN  \n",
       " 4        HandOutcome.WIN            1.0          WIN  \n",
       " 5       HandOutcome.LOSE           -1.0         LOSE  \n",
       " 6  HandOutcome.BLACKJACK            1.5    BLACKJACK  \n",
       " 7       HandOutcome.PUSH            0.0         PUSH  \n",
       " 8        HandOutcome.WIN            1.0          WIN  \n",
       " 9  HandOutcome.BLACKJACK            1.5    BLACKJACK  ,\n",
       "                    len                                       mean_outcome\n",
       " outcome_name BLACKJACK LOSE LOSE_DOUBLE PUSH  WIN WIN_DOUBLE             \n",
       " strategy                                                                 \n",
       " simple              42  481          23   97  332         25       -0.082)"
      ]
     },
     "execution_count": 21,
     "metadata": {},
     "output_type": "execute_result"
    }
   ],
   "source": [
    "def strat_simple_func(score_p, score_d):\n",
    "    if score_p.points == 11:  return Action.DOUBLE\n",
    "    if score_p.points >= 17:  return Action.STAND\n",
    "    if score_p.points <= 11:  return Action.HIT\n",
    "    if score_d.points in (range(3,7)):  return Action.STAND\n",
    "    else:  return Action.HIT\n",
    "        \n",
    "strat_simple_func.name = 'simple'\n",
    "\n",
    "strat_simple = bj.Strategy_wrapper(strat_simple_func)\n",
    "sims = sim.run_n_sim_trials([strat_simple], 1000)\n",
    "sims.head(10), sim.summarize_totals(sims)"
   ]
  },
  {
   "cell_type": "code",
   "execution_count": 22,
   "id": "confirmed-passing",
   "metadata": {
    "ExecuteTime": {
     "end_time": "2021-07-25T01:23:32.399759Z",
     "start_time": "2021-07-25T01:23:31.579522Z"
    }
   },
   "outputs": [
    {
     "name": "stdout",
     "output_type": "stream",
     "text": [
      " "
     ]
    }
   ],
   "source": [
    "%prun -s cumulative sim.summarize_totals(sim.run_n_sim_trials([strat_dealer, strat_nobust, strat_simple], 10000))\n"
   ]
  },
  {
   "cell_type": "markdown",
   "id": "fluid-writing",
   "metadata": {},
   "source": [
    "## Simulate specific situations to determine strategy"
   ]
  },
  {
   "cell_type": "code",
   "execution_count": 23,
   "id": "otherwise-sheffield",
   "metadata": {
    "ExecuteTime": {
     "end_time": "2021-07-25T01:23:32.406093Z",
     "start_time": "2021-07-25T01:23:32.403863Z"
    }
   },
   "outputs": [
    {
     "data": {
      "text/plain": [
       "(Hand(score=h12, cards=[5, 7], doubled=False, drawn=False),\n",
       " Hand(score=h02, cards=[2], doubled=False, drawn=False))"
      ]
     },
     "execution_count": 23,
     "metadata": {},
     "output_type": "execute_result"
    }
   ],
   "source": [
    "# 12 vs deuce\n",
    "\n",
    "hand_p = make_hand([5, 7])\n",
    "hand_d = make_hand([2])\n",
    "\n",
    "hand_p, hand_d"
   ]
  },
  {
   "cell_type": "code",
   "execution_count": 24,
   "id": "gross-kennedy",
   "metadata": {
    "ExecuteTime": {
     "end_time": "2021-07-25T01:23:32.411053Z",
     "start_time": "2021-07-25T01:23:32.407806Z"
    }
   },
   "outputs": [
    {
     "data": {
      "text/plain": [
       "<blackjack.Strategy_wrapper at 0x7ffdd0290d90>"
      ]
     },
     "execution_count": 24,
     "metadata": {},
     "output_type": "execute_result"
    }
   ],
   "source": [
    "# Implement a strategy that composes conditions and actions\n",
    "\n",
    "def cond_12_2(score_p, score_d):\n",
    "    return score_p.points == 12 and score_d.points == 2 and not score_p.soft\n",
    "conditions = [(cond_12_2, Action.STAND)]\n",
    "\n",
    "\n",
    "    \n",
    "strat_cond = sim.generate_strat_conditional(strat_simple, conditions)\n",
    "strat_cond"
   ]
  },
  {
   "cell_type": "code",
   "execution_count": 25,
   "id": "virgin-mining",
   "metadata": {
    "ExecuteTime": {
     "end_time": "2021-07-25T01:23:32.416110Z",
     "start_time": "2021-07-25T01:23:32.412505Z"
    }
   },
   "outputs": [
    {
     "data": {
      "text/plain": [
       "[<blackjack.Strategy_wrapper at 0x7ffdc0a854f0>,\n",
       " <blackjack.Strategy_wrapper at 0x7ffdc0a85e80>,\n",
       " <blackjack.Strategy_wrapper at 0x7ffdc0a85700>]"
      ]
     },
     "execution_count": 25,
     "metadata": {},
     "output_type": "execute_result"
    }
   ],
   "source": [
    "# Generate a conditional strategy for each action\n",
    "    \n",
    "strats = sim.gen_cond_strategies(strat_simple, cond_12_2, [Action.HIT, Action.STAND, Action.DOUBLE])\n",
    "strats"
   ]
  },
  {
   "cell_type": "code",
   "execution_count": 26,
   "id": "acoustic-warrant",
   "metadata": {
    "ExecuteTime": {
     "end_time": "2021-07-25T01:23:32.420017Z",
     "start_time": "2021-07-25T01:23:32.417415Z"
    }
   },
   "outputs": [
    {
     "data": {
      "text/plain": [
       "[('<Action.HIT: 2>',\n",
       "  Hand(score=h22, cards=[5, 7, 12], doubled=False, drawn=True),\n",
       "  Hand(score=h18, cards=[2, 7, 6, 3], doubled=False, drawn=True),\n",
       "  <HandOutcome.LOSE: -1>),\n",
       " ('<Action.STAND: 1>',\n",
       "  Hand(score=h12, cards=[5, 7], doubled=False, drawn=False),\n",
       "  Hand(score=h18, cards=[2, 7, 6, 3], doubled=False, drawn=True),\n",
       "  <HandOutcome.LOSE: -1>),\n",
       " ('<Action.DOUBLE: 3>',\n",
       "  Hand(score=h22, cards=[5, 7, 10], doubled=True, drawn=True),\n",
       "  Hand(score=h18, cards=[2, 7, 6, 3], doubled=False, drawn=True),\n",
       "  <HandOutcome.LOSE_DOUBLE: -2>)]"
      ]
     },
     "execution_count": 26,
     "metadata": {},
     "output_type": "execute_result"
    }
   ],
   "source": [
    "bj.complete_one_round(strats, hand_p, hand_d, bj.deal_card())"
   ]
  },
  {
   "cell_type": "code",
   "execution_count": 27,
   "id": "economic-greene",
   "metadata": {
    "ExecuteTime": {
     "end_time": "2021-07-25T01:23:32.836920Z",
     "start_time": "2021-07-25T01:23:32.421381Z"
    }
   },
   "outputs": [
    {
     "data": {
      "text/html": [
       "<div>\n",
       "<style scoped>\n",
       "    .dataframe tbody tr th:only-of-type {\n",
       "        vertical-align: middle;\n",
       "    }\n",
       "\n",
       "    .dataframe tbody tr th {\n",
       "        vertical-align: top;\n",
       "    }\n",
       "\n",
       "    .dataframe thead tr th {\n",
       "        text-align: left;\n",
       "    }\n",
       "\n",
       "    .dataframe thead tr:last-of-type th {\n",
       "        text-align: right;\n",
       "    }\n",
       "</style>\n",
       "<table border=\"1\" class=\"dataframe\">\n",
       "  <thead>\n",
       "    <tr>\n",
       "      <th></th>\n",
       "      <th colspan=\"5\" halign=\"left\">len</th>\n",
       "      <th>mean_outcome</th>\n",
       "    </tr>\n",
       "    <tr>\n",
       "      <th>outcome_name</th>\n",
       "      <th>LOSE</th>\n",
       "      <th>LOSE_DOUBLE</th>\n",
       "      <th>PUSH</th>\n",
       "      <th>WIN</th>\n",
       "      <th>WIN_DOUBLE</th>\n",
       "      <th></th>\n",
       "    </tr>\n",
       "    <tr>\n",
       "      <th>strategy</th>\n",
       "      <th></th>\n",
       "      <th></th>\n",
       "      <th></th>\n",
       "      <th></th>\n",
       "      <th></th>\n",
       "      <th></th>\n",
       "    </tr>\n",
       "  </thead>\n",
       "  <tbody>\n",
       "    <tr>\n",
       "      <th>&lt;Action.DOUBLE: 3&gt;</th>\n",
       "      <td>0</td>\n",
       "      <td>5935</td>\n",
       "      <td>482</td>\n",
       "      <td>0</td>\n",
       "      <td>3583</td>\n",
       "      <td>-0.4704</td>\n",
       "    </tr>\n",
       "    <tr>\n",
       "      <th>&lt;Action.HIT: 2&gt;</th>\n",
       "      <td>6078</td>\n",
       "      <td>0</td>\n",
       "      <td>665</td>\n",
       "      <td>3257</td>\n",
       "      <td>0</td>\n",
       "      <td>-0.2821</td>\n",
       "    </tr>\n",
       "    <tr>\n",
       "      <th>&lt;Action.STAND: 1&gt;</th>\n",
       "      <td>6300</td>\n",
       "      <td>0</td>\n",
       "      <td>0</td>\n",
       "      <td>3700</td>\n",
       "      <td>0</td>\n",
       "      <td>-0.2600</td>\n",
       "    </tr>\n",
       "  </tbody>\n",
       "</table>\n",
       "</div>"
      ],
      "text/plain": [
       "                     len                                   mean_outcome\n",
       "outcome_name        LOSE LOSE_DOUBLE PUSH   WIN WIN_DOUBLE             \n",
       "strategy                                                               \n",
       "<Action.DOUBLE: 3>     0        5935  482     0       3583      -0.4704\n",
       "<Action.HIT: 2>     6078           0  665  3257          0      -0.2821\n",
       "<Action.STAND: 1>   6300           0    0  3700          0      -0.2600"
      ]
     },
     "execution_count": 27,
     "metadata": {},
     "output_type": "execute_result"
    }
   ],
   "source": [
    "\n",
    "\n",
    "sims = sim.run_n_sim_trials_from_state(strats, hand_p, hand_d, 10000)\n",
    "sim.summarize_totals(sims)"
   ]
  },
  {
   "cell_type": "code",
   "execution_count": 28,
   "id": "institutional-grain",
   "metadata": {
    "ExecuteTime": {
     "end_time": "2021-07-25T01:23:32.840593Z",
     "start_time": "2021-07-25T01:23:32.838039Z"
    }
   },
   "outputs": [
    {
     "data": {
      "text/plain": [
       "(Hand(score=s12, cards=[1, 1], doubled=False, drawn=False),\n",
       " Hand(score=h02, cards=[2], doubled=False, drawn=False))"
      ]
     },
     "execution_count": 28,
     "metadata": {},
     "output_type": "execute_result"
    }
   ],
   "source": [
    "# Soft 12 vs 2\n",
    "hand_12s = make_hand([1, 1])\n",
    "\n",
    "hand_12s, hand_d"
   ]
  },
  {
   "cell_type": "code",
   "execution_count": 29,
   "id": "legal-uniform",
   "metadata": {
    "ExecuteTime": {
     "end_time": "2021-07-25T01:23:32.845018Z",
     "start_time": "2021-07-25T01:23:32.841808Z"
    }
   },
   "outputs": [
    {
     "data": {
      "text/plain": [
       "[<blackjack.Strategy_wrapper at 0x7ffde028ef70>,\n",
       " <blackjack.Strategy_wrapper at 0x7ffde028edc0>,\n",
       " <blackjack.Strategy_wrapper at 0x7ffdf34d7070>]"
      ]
     },
     "execution_count": 29,
     "metadata": {},
     "output_type": "execute_result"
    }
   ],
   "source": [
    "def cond_12s_2(score_p, score_d):\n",
    "    return score_p == HandScore(12, True) and score_d.points == 2\n",
    "\n",
    "strats = sim.gen_cond_strategies(strat_simple, cond_12s_2, [Action.HIT, Action.STAND, Action.DOUBLE])\n",
    "strats"
   ]
  },
  {
   "cell_type": "code",
   "execution_count": 30,
   "id": "british-logging",
   "metadata": {
    "ExecuteTime": {
     "end_time": "2021-07-25T01:23:33.517137Z",
     "start_time": "2021-07-25T01:23:32.846021Z"
    }
   },
   "outputs": [
    {
     "data": {
      "text/html": [
       "<div>\n",
       "<style scoped>\n",
       "    .dataframe tbody tr th:only-of-type {\n",
       "        vertical-align: middle;\n",
       "    }\n",
       "\n",
       "    .dataframe tbody tr th {\n",
       "        vertical-align: top;\n",
       "    }\n",
       "\n",
       "    .dataframe thead tr th {\n",
       "        text-align: left;\n",
       "    }\n",
       "\n",
       "    .dataframe thead tr:last-of-type th {\n",
       "        text-align: right;\n",
       "    }\n",
       "</style>\n",
       "<table border=\"1\" class=\"dataframe\">\n",
       "  <thead>\n",
       "    <tr>\n",
       "      <th></th>\n",
       "      <th colspan=\"5\" halign=\"left\">len</th>\n",
       "      <th>mean_outcome</th>\n",
       "    </tr>\n",
       "    <tr>\n",
       "      <th>outcome_name</th>\n",
       "      <th>LOSE</th>\n",
       "      <th>LOSE_DOUBLE</th>\n",
       "      <th>PUSH</th>\n",
       "      <th>WIN</th>\n",
       "      <th>WIN_DOUBLE</th>\n",
       "      <th></th>\n",
       "    </tr>\n",
       "    <tr>\n",
       "      <th>strategy</th>\n",
       "      <th></th>\n",
       "      <th></th>\n",
       "      <th></th>\n",
       "      <th></th>\n",
       "      <th></th>\n",
       "      <th></th>\n",
       "    </tr>\n",
       "  </thead>\n",
       "  <tbody>\n",
       "    <tr>\n",
       "      <th>&lt;Action.DOUBLE: 3&gt;</th>\n",
       "      <td>0</td>\n",
       "      <td>6346</td>\n",
       "      <td>0</td>\n",
       "      <td>0</td>\n",
       "      <td>3654</td>\n",
       "      <td>-0.5384</td>\n",
       "    </tr>\n",
       "    <tr>\n",
       "      <th>&lt;Action.HIT: 2&gt;</th>\n",
       "      <td>5264</td>\n",
       "      <td>0</td>\n",
       "      <td>812</td>\n",
       "      <td>3924</td>\n",
       "      <td>0</td>\n",
       "      <td>-0.1340</td>\n",
       "    </tr>\n",
       "    <tr>\n",
       "      <th>&lt;Action.STAND: 1&gt;</th>\n",
       "      <td>6346</td>\n",
       "      <td>0</td>\n",
       "      <td>0</td>\n",
       "      <td>3654</td>\n",
       "      <td>0</td>\n",
       "      <td>-0.2692</td>\n",
       "    </tr>\n",
       "    <tr>\n",
       "      <th>simple</th>\n",
       "      <td>5310</td>\n",
       "      <td>0</td>\n",
       "      <td>762</td>\n",
       "      <td>3928</td>\n",
       "      <td>0</td>\n",
       "      <td>-0.1382</td>\n",
       "    </tr>\n",
       "  </tbody>\n",
       "</table>\n",
       "</div>"
      ],
      "text/plain": [
       "                     len                                   mean_outcome\n",
       "outcome_name        LOSE LOSE_DOUBLE PUSH   WIN WIN_DOUBLE             \n",
       "strategy                                                               \n",
       "<Action.DOUBLE: 3>     0        6346    0     0       3654      -0.5384\n",
       "<Action.HIT: 2>     5264           0  812  3924          0      -0.1340\n",
       "<Action.STAND: 1>   6346           0    0  3654          0      -0.2692\n",
       "simple              5310           0  762  3928          0      -0.1382"
      ]
     },
     "execution_count": 30,
     "metadata": {},
     "output_type": "execute_result"
    }
   ],
   "source": [
    "sims = sim.run_n_sim_trials_from_state(strats+[strat_simple], hand_12s, hand_d, 10000)\n",
    "sim.summarize_totals(sims)"
   ]
  },
  {
   "cell_type": "code",
   "execution_count": 31,
   "id": "based-subscription",
   "metadata": {
    "ExecuteTime": {
     "end_time": "2021-07-25T01:23:33.804874Z",
     "start_time": "2021-07-25T01:23:33.518079Z"
    }
   },
   "outputs": [
    {
     "data": {
      "text/html": [
       "<div>\n",
       "<style scoped>\n",
       "    .dataframe tbody tr th:only-of-type {\n",
       "        vertical-align: middle;\n",
       "    }\n",
       "\n",
       "    .dataframe tbody tr th {\n",
       "        vertical-align: top;\n",
       "    }\n",
       "\n",
       "    .dataframe thead tr th {\n",
       "        text-align: left;\n",
       "    }\n",
       "\n",
       "    .dataframe thead tr:last-of-type th {\n",
       "        text-align: right;\n",
       "    }\n",
       "</style>\n",
       "<table border=\"1\" class=\"dataframe\">\n",
       "  <thead>\n",
       "    <tr>\n",
       "      <th></th>\n",
       "      <th colspan=\"3\" halign=\"left\">len</th>\n",
       "      <th>mean_outcome</th>\n",
       "    </tr>\n",
       "    <tr>\n",
       "      <th>outcome_name</th>\n",
       "      <th>LOSE</th>\n",
       "      <th>PUSH</th>\n",
       "      <th>WIN</th>\n",
       "      <th></th>\n",
       "    </tr>\n",
       "    <tr>\n",
       "      <th>strategy</th>\n",
       "      <th></th>\n",
       "      <th></th>\n",
       "      <th></th>\n",
       "      <th></th>\n",
       "    </tr>\n",
       "  </thead>\n",
       "  <tbody>\n",
       "    <tr>\n",
       "      <th>simple</th>\n",
       "      <td>6053</td>\n",
       "      <td>642</td>\n",
       "      <td>3305</td>\n",
       "      <td>-0.2748</td>\n",
       "    </tr>\n",
       "    <tr>\n",
       "      <th>strat_cond</th>\n",
       "      <td>6289</td>\n",
       "      <td>0</td>\n",
       "      <td>3711</td>\n",
       "      <td>-0.2578</td>\n",
       "    </tr>\n",
       "  </tbody>\n",
       "</table>\n",
       "</div>"
      ],
      "text/plain": [
       "               len            mean_outcome\n",
       "outcome_name  LOSE PUSH   WIN             \n",
       "strategy                                  \n",
       "simple        6053  642  3305      -0.2748\n",
       "strat_cond    6289    0  3711      -0.2578"
      ]
     },
     "execution_count": 31,
     "metadata": {},
     "output_type": "execute_result"
    }
   ],
   "source": [
    "sim.summarize_totals(sim.run_n_sim_trials_from_state([strat_simple, strat_cond], hand_p, hand_d, 10*1000))"
   ]
  },
  {
   "cell_type": "code",
   "execution_count": 32,
   "id": "vietnamese-spray",
   "metadata": {
    "ExecuteTime": {
     "end_time": "2021-07-25T01:23:34.371685Z",
     "start_time": "2021-07-25T01:23:33.805821Z"
    }
   },
   "outputs": [
    {
     "data": {
      "text/html": [
       "<div>\n",
       "<style scoped>\n",
       "    .dataframe tbody tr th:only-of-type {\n",
       "        vertical-align: middle;\n",
       "    }\n",
       "\n",
       "    .dataframe tbody tr th {\n",
       "        vertical-align: top;\n",
       "    }\n",
       "\n",
       "    .dataframe thead tr th {\n",
       "        text-align: left;\n",
       "    }\n",
       "\n",
       "    .dataframe thead tr:last-of-type th {\n",
       "        text-align: right;\n",
       "    }\n",
       "</style>\n",
       "<table border=\"1\" class=\"dataframe\">\n",
       "  <thead>\n",
       "    <tr>\n",
       "      <th></th>\n",
       "      <th colspan=\"5\" halign=\"left\">len</th>\n",
       "      <th>mean_outcome</th>\n",
       "    </tr>\n",
       "    <tr>\n",
       "      <th>outcome_name</th>\n",
       "      <th>LOSE</th>\n",
       "      <th>LOSE_DOUBLE</th>\n",
       "      <th>PUSH</th>\n",
       "      <th>WIN</th>\n",
       "      <th>WIN_DOUBLE</th>\n",
       "      <th></th>\n",
       "    </tr>\n",
       "    <tr>\n",
       "      <th>strategy</th>\n",
       "      <th></th>\n",
       "      <th></th>\n",
       "      <th></th>\n",
       "      <th></th>\n",
       "      <th></th>\n",
       "      <th></th>\n",
       "    </tr>\n",
       "  </thead>\n",
       "  <tbody>\n",
       "    <tr>\n",
       "      <th>&lt;Action.DOUBLE: 3&gt;</th>\n",
       "      <td>0</td>\n",
       "      <td>5827</td>\n",
       "      <td>0</td>\n",
       "      <td>0</td>\n",
       "      <td>4173</td>\n",
       "      <td>-0.3308</td>\n",
       "    </tr>\n",
       "    <tr>\n",
       "      <th>&lt;Action.HIT: 2&gt;</th>\n",
       "      <td>4877</td>\n",
       "      <td>0</td>\n",
       "      <td>326</td>\n",
       "      <td>4797</td>\n",
       "      <td>0</td>\n",
       "      <td>-0.0080</td>\n",
       "    </tr>\n",
       "    <tr>\n",
       "      <th>&lt;Action.STAND: 1&gt;</th>\n",
       "      <td>5827</td>\n",
       "      <td>0</td>\n",
       "      <td>0</td>\n",
       "      <td>4173</td>\n",
       "      <td>0</td>\n",
       "      <td>-0.1654</td>\n",
       "    </tr>\n",
       "    <tr>\n",
       "      <th>simple</th>\n",
       "      <td>5827</td>\n",
       "      <td>0</td>\n",
       "      <td>0</td>\n",
       "      <td>4173</td>\n",
       "      <td>0</td>\n",
       "      <td>-0.1654</td>\n",
       "    </tr>\n",
       "  </tbody>\n",
       "</table>\n",
       "</div>"
      ],
      "text/plain": [
       "                     len                                   mean_outcome\n",
       "outcome_name        LOSE LOSE_DOUBLE PUSH   WIN WIN_DOUBLE             \n",
       "strategy                                                               \n",
       "<Action.DOUBLE: 3>     0        5827    0     0       4173      -0.3308\n",
       "<Action.HIT: 2>     4877           0  326  4797          0      -0.0080\n",
       "<Action.STAND: 1>   5827           0    0  4173          0      -0.1654\n",
       "simple              5827           0    0  4173          0      -0.1654"
      ]
     },
     "execution_count": 32,
     "metadata": {},
     "output_type": "execute_result"
    }
   ],
   "source": [
    "# soft 13 vs 6\n",
    "def cond_13s_6(score_p, score_d):\n",
    "    return score_p == HandScore(13, True) and score_d.points == 6\n",
    "\n",
    "\n",
    "\n",
    "strats = sim.gen_cond_strategies(strat_simple, cond_13s_6, [Action.HIT, Action.STAND, Action.DOUBLE])\n",
    "sims = sim.run_n_sim_trials_from_state(strats+[strat_simple], bj.make_hand([1, 2]), bj.make_hand([6]), 10000)\n",
    "sim.summarize_totals(sims)"
   ]
  },
  {
   "cell_type": "code",
   "execution_count": 33,
   "id": "liable-painting",
   "metadata": {
    "ExecuteTime": {
     "end_time": "2021-07-25T01:23:34.880018Z",
     "start_time": "2021-07-25T01:23:34.372582Z"
    }
   },
   "outputs": [
    {
     "data": {
      "text/html": [
       "<div>\n",
       "<style scoped>\n",
       "    .dataframe tbody tr th:only-of-type {\n",
       "        vertical-align: middle;\n",
       "    }\n",
       "\n",
       "    .dataframe tbody tr th {\n",
       "        vertical-align: top;\n",
       "    }\n",
       "\n",
       "    .dataframe thead tr th {\n",
       "        text-align: left;\n",
       "    }\n",
       "\n",
       "    .dataframe thead tr:last-of-type th {\n",
       "        text-align: right;\n",
       "    }\n",
       "</style>\n",
       "<table border=\"1\" class=\"dataframe\">\n",
       "  <thead>\n",
       "    <tr>\n",
       "      <th></th>\n",
       "      <th colspan=\"5\" halign=\"left\">len</th>\n",
       "      <th>mean_outcome</th>\n",
       "    </tr>\n",
       "    <tr>\n",
       "      <th>outcome_name</th>\n",
       "      <th>LOSE</th>\n",
       "      <th>LOSE_DOUBLE</th>\n",
       "      <th>PUSH</th>\n",
       "      <th>WIN</th>\n",
       "      <th>WIN_DOUBLE</th>\n",
       "      <th></th>\n",
       "    </tr>\n",
       "    <tr>\n",
       "      <th>strategy</th>\n",
       "      <th></th>\n",
       "      <th></th>\n",
       "      <th></th>\n",
       "      <th></th>\n",
       "      <th></th>\n",
       "      <th></th>\n",
       "    </tr>\n",
       "  </thead>\n",
       "  <tbody>\n",
       "    <tr>\n",
       "      <th>&lt;Action.DOUBLE: 3&gt;</th>\n",
       "      <td>0</td>\n",
       "      <td>3262</td>\n",
       "      <td>707</td>\n",
       "      <td>0</td>\n",
       "      <td>6031</td>\n",
       "      <td>0.5538</td>\n",
       "    </tr>\n",
       "    <tr>\n",
       "      <th>&lt;Action.HIT: 2&gt;</th>\n",
       "      <td>3251</td>\n",
       "      <td>0</td>\n",
       "      <td>698</td>\n",
       "      <td>6051</td>\n",
       "      <td>0</td>\n",
       "      <td>0.2800</td>\n",
       "    </tr>\n",
       "    <tr>\n",
       "      <th>&lt;Action.STAND: 1&gt;</th>\n",
       "      <td>5778</td>\n",
       "      <td>0</td>\n",
       "      <td>0</td>\n",
       "      <td>4222</td>\n",
       "      <td>0</td>\n",
       "      <td>-0.1556</td>\n",
       "    </tr>\n",
       "    <tr>\n",
       "      <th>simple</th>\n",
       "      <td>3236</td>\n",
       "      <td>0</td>\n",
       "      <td>699</td>\n",
       "      <td>6065</td>\n",
       "      <td>0</td>\n",
       "      <td>0.2829</td>\n",
       "    </tr>\n",
       "  </tbody>\n",
       "</table>\n",
       "</div>"
      ],
      "text/plain": [
       "                     len                                   mean_outcome\n",
       "outcome_name        LOSE LOSE_DOUBLE PUSH   WIN WIN_DOUBLE             \n",
       "strategy                                                               \n",
       "<Action.DOUBLE: 3>     0        3262  707     0       6031       0.5538\n",
       "<Action.HIT: 2>     3251           0  698  6051          0       0.2800\n",
       "<Action.STAND: 1>   5778           0    0  4222          0      -0.1556\n",
       "simple              3236           0  699  6065          0       0.2829"
      ]
     },
     "execution_count": 33,
     "metadata": {},
     "output_type": "execute_result"
    }
   ],
   "source": [
    "# 10 v 6\n",
    "def cond_10_6(score_p, score_d):\n",
    "    return score_p.points == 10 and score_d.points == 6\n",
    "\n",
    "strats = sim.gen_cond_strategies(strat_simple, cond_10_6, [Action.HIT, Action.STAND, Action.DOUBLE])\n",
    "sims = sim.run_n_sim_trials_from_state(strats+[strat_simple], make_hand([5, 5]), make_hand([6]), 10000)\n",
    "sim.summarize_totals(sims)"
   ]
  },
  {
   "cell_type": "code",
   "execution_count": 34,
   "id": "serious-briefs",
   "metadata": {
    "ExecuteTime": {
     "end_time": "2021-07-25T01:23:35.303639Z",
     "start_time": "2021-07-25T01:23:34.880898Z"
    }
   },
   "outputs": [
    {
     "data": {
      "text/plain": [
       "(<function simulator.test_cond.<locals>.cond(p, d)>,\n",
       "                      len                                   mean_outcome\n",
       " outcome_name        LOSE LOSE_DOUBLE PUSH   WIN WIN_DOUBLE             \n",
       " strategy                                                               \n",
       " <Action.DOUBLE: 3>     0        3276  671     0       6053       0.5554\n",
       " <Action.HIT: 2>     3266           0  707  6027          0       0.2761\n",
       " <Action.STAND: 1>   5839           0    0  4161          0      -0.1678)"
      ]
     },
     "execution_count": 34,
     "metadata": {},
     "output_type": "execute_result"
    }
   ],
   "source": [
    "sim.test_cond(HandScore(10), HandScore(6), 10000, strat_simple)"
   ]
  },
  {
   "cell_type": "code",
   "execution_count": 35,
   "id": "square-binary",
   "metadata": {
    "ExecuteTime": {
     "end_time": "2021-07-25T01:23:35.324781Z",
     "start_time": "2021-07-25T01:23:35.304573Z"
    }
   },
   "outputs": [
    {
     "data": {
      "text/plain": [
       "(<function simulator.test_cond.<locals>.cond(p, d)>,\n",
       "                     len                                  mean_outcome\n",
       " outcome_name       LOSE LOSE_DOUBLE PUSH  WIN WIN_DOUBLE             \n",
       " strategy                                                             \n",
       " <Action.DOUBLE: 3>    0         159    5    0         36       -1.230\n",
       " <Action.HIT: 2>     157           0    6   37          0       -0.600\n",
       " <Action.STAND: 1>    53           0   21  126          0        0.365)"
      ]
     },
     "execution_count": 35,
     "metadata": {},
     "output_type": "execute_result"
    }
   ],
   "source": [
    "sim.test_cond(HandScore(18), HandScore(6), 200, strat_simple)"
   ]
  },
  {
   "cell_type": "code",
   "execution_count": 36,
   "id": "recent-harvey",
   "metadata": {
    "ExecuteTime": {
     "end_time": "2021-07-25T01:23:35.346664Z",
     "start_time": "2021-07-25T01:23:35.325943Z"
    }
   },
   "outputs": [
    {
     "data": {
      "text/plain": [
       "(<function simulator.test_cond.<locals>.cond(p, d)>,\n",
       "                     len                                  mean_outcome\n",
       " outcome_name       LOSE LOSE_DOUBLE PUSH  WIN WIN_DOUBLE             \n",
       " strategy                                                             \n",
       " <Action.DOUBLE: 3>    0          76    5    0        119        0.430\n",
       " <Action.HIT: 2>      78           0   15  107          0        0.145\n",
       " <Action.STAND: 1>     0           0   17  183          0        0.915)"
      ]
     },
     "execution_count": 36,
     "metadata": {},
     "output_type": "execute_result"
    }
   ],
   "source": [
    "sim.test_cond(HandScore(21, True), HandScore(6), 200, strat_simple)"
   ]
  },
  {
   "cell_type": "code",
   "execution_count": 37,
   "id": "manual-anime",
   "metadata": {
    "ExecuteTime": {
     "end_time": "2021-07-25T01:23:35.375444Z",
     "start_time": "2021-07-25T01:23:35.347702Z"
    }
   },
   "outputs": [
    {
     "data": {
      "text/plain": [
       "{'<Action.DOUBLE: 3>': 0.69,\n",
       " '<Action.HIT: 2>': 0.425,\n",
       " '<Action.STAND: 1>': -0.11,\n",
       " 'score_p': 'h10',\n",
       " 'score_d': 'h06',\n",
       " 'winning_act': <Action.DOUBLE: 3>,\n",
       " 'winning_act_outcome': 0.69}"
      ]
     },
     "execution_count": 37,
     "metadata": {},
     "output_type": "execute_result"
    }
   ],
   "source": [
    "\n",
    "sim.find_winning_action(HandScore(10), HandScore(6), 200)"
   ]
  },
  {
   "cell_type": "code",
   "execution_count": 38,
   "id": "supported-herald",
   "metadata": {
    "ExecuteTime": {
     "end_time": "2021-07-25T01:23:35.477025Z",
     "start_time": "2021-07-25T01:23:35.376798Z"
    }
   },
   "outputs": [
    {
     "data": {
      "text/plain": [
       "(<function simulator.test_cond.<locals>.cond(p, d)>,\n",
       "                     len                                  mean_outcome\n",
       " outcome_name       LOSE LOSE_DOUBLE PUSH  WIN WIN_DOUBLE             \n",
       " strategy                                                             \n",
       " <Action.DOUBLE: 3>    0         878   18    0        104       -1.548\n",
       " <Action.HIT: 2>     861           0   31  108          0       -0.753\n",
       " <Action.STAND: 1>   612           0  105  283          0       -0.329)"
      ]
     },
     "execution_count": 38,
     "metadata": {},
     "output_type": "execute_result"
    }
   ],
   "source": [
    "sim.test_cond(HandScore(18), HandScore(11, True), 1000)"
   ]
  },
  {
   "cell_type": "code",
   "execution_count": 39,
   "id": "behind-seattle",
   "metadata": {
    "ExecuteTime": {
     "end_time": "2021-07-25T01:23:39.363690Z",
     "start_time": "2021-07-25T01:23:35.478077Z"
    }
   },
   "outputs": [
    {
     "name": "stdout",
     "output_type": "stream",
     "text": [
      " "
     ]
    },
    {
     "data": {
      "text/html": [
       "<div>\n",
       "<style scoped>\n",
       "    .dataframe tbody tr th:only-of-type {\n",
       "        vertical-align: middle;\n",
       "    }\n",
       "\n",
       "    .dataframe tbody tr th {\n",
       "        vertical-align: top;\n",
       "    }\n",
       "\n",
       "    .dataframe thead th {\n",
       "        text-align: right;\n",
       "    }\n",
       "</style>\n",
       "<table border=\"1\" class=\"dataframe\">\n",
       "  <thead>\n",
       "    <tr style=\"text-align: right;\">\n",
       "      <th></th>\n",
       "      <th></th>\n",
       "      <th>&lt;Action.DOUBLE: 3&gt;</th>\n",
       "      <th>&lt;Action.HIT: 2&gt;</th>\n",
       "      <th>&lt;Action.STAND: 1&gt;</th>\n",
       "      <th>winning_act</th>\n",
       "      <th>winning_act_outcome</th>\n",
       "    </tr>\n",
       "    <tr>\n",
       "      <th>score_p</th>\n",
       "      <th>score_d</th>\n",
       "      <th></th>\n",
       "      <th></th>\n",
       "      <th></th>\n",
       "      <th></th>\n",
       "      <th></th>\n",
       "    </tr>\n",
       "  </thead>\n",
       "  <tbody>\n",
       "    <tr>\n",
       "      <th rowspan=\"5\" valign=\"top\">h09</th>\n",
       "      <th>s11</th>\n",
       "      <td>-0.7</td>\n",
       "      <td>-0.300</td>\n",
       "      <td>-0.70</td>\n",
       "      <td>Action.HIT</td>\n",
       "      <td>-0.300</td>\n",
       "    </tr>\n",
       "    <tr>\n",
       "      <th>h02</th>\n",
       "      <td>0.0</td>\n",
       "      <td>-0.250</td>\n",
       "      <td>-0.50</td>\n",
       "      <td>Action.DOUBLE</td>\n",
       "      <td>0.000</td>\n",
       "    </tr>\n",
       "    <tr>\n",
       "      <th>h03</th>\n",
       "      <td>0.2</td>\n",
       "      <td>0.250</td>\n",
       "      <td>-0.10</td>\n",
       "      <td>Action.HIT</td>\n",
       "      <td>0.250</td>\n",
       "    </tr>\n",
       "    <tr>\n",
       "      <th>h04</th>\n",
       "      <td>0.2</td>\n",
       "      <td>-0.100</td>\n",
       "      <td>-0.30</td>\n",
       "      <td>Action.DOUBLE</td>\n",
       "      <td>0.200</td>\n",
       "    </tr>\n",
       "    <tr>\n",
       "      <th>h05</th>\n",
       "      <td>-0.1</td>\n",
       "      <td>0.275</td>\n",
       "      <td>-0.30</td>\n",
       "      <td>Action.HIT</td>\n",
       "      <td>0.275</td>\n",
       "    </tr>\n",
       "    <tr>\n",
       "      <th>...</th>\n",
       "      <th>...</th>\n",
       "      <td>...</td>\n",
       "      <td>...</td>\n",
       "      <td>...</td>\n",
       "      <td>...</td>\n",
       "      <td>...</td>\n",
       "    </tr>\n",
       "    <tr>\n",
       "      <th rowspan=\"5\" valign=\"top\">s21</th>\n",
       "      <th>h06</th>\n",
       "      <td>0.3</td>\n",
       "      <td>0.300</td>\n",
       "      <td>0.90</td>\n",
       "      <td>Action.STAND</td>\n",
       "      <td>0.900</td>\n",
       "    </tr>\n",
       "    <tr>\n",
       "      <th>h07</th>\n",
       "      <td>0.7</td>\n",
       "      <td>0.050</td>\n",
       "      <td>0.85</td>\n",
       "      <td>Action.STAND</td>\n",
       "      <td>0.850</td>\n",
       "    </tr>\n",
       "    <tr>\n",
       "      <th>h08</th>\n",
       "      <td>0.2</td>\n",
       "      <td>0.475</td>\n",
       "      <td>1.00</td>\n",
       "      <td>Action.STAND</td>\n",
       "      <td>1.000</td>\n",
       "    </tr>\n",
       "    <tr>\n",
       "      <th>h09</th>\n",
       "      <td>-0.5</td>\n",
       "      <td>0.400</td>\n",
       "      <td>0.85</td>\n",
       "      <td>Action.STAND</td>\n",
       "      <td>0.850</td>\n",
       "    </tr>\n",
       "    <tr>\n",
       "      <th>h10</th>\n",
       "      <td>-0.4</td>\n",
       "      <td>-0.250</td>\n",
       "      <td>0.60</td>\n",
       "      <td>Action.STAND</td>\n",
       "      <td>0.600</td>\n",
       "    </tr>\n",
       "  </tbody>\n",
       "</table>\n",
       "<p>250 rows × 5 columns</p>\n",
       "</div>"
      ],
      "text/plain": [
       "                 <Action.DOUBLE: 3>  <Action.HIT: 2>  <Action.STAND: 1>  \\\n",
       "score_p score_d                                                           \n",
       "h09     s11                    -0.7           -0.300              -0.70   \n",
       "        h02                     0.0           -0.250              -0.50   \n",
       "        h03                     0.2            0.250              -0.10   \n",
       "        h04                     0.2           -0.100              -0.30   \n",
       "        h05                    -0.1            0.275              -0.30   \n",
       "...                             ...              ...                ...   \n",
       "s21     h06                     0.3            0.300               0.90   \n",
       "        h07                     0.7            0.050               0.85   \n",
       "        h08                     0.2            0.475               1.00   \n",
       "        h09                    -0.5            0.400               0.85   \n",
       "        h10                    -0.4           -0.250               0.60   \n",
       "\n",
       "                   winning_act  winning_act_outcome  \n",
       "score_p score_d                                      \n",
       "h09     s11         Action.HIT               -0.300  \n",
       "        h02      Action.DOUBLE                0.000  \n",
       "        h03         Action.HIT                0.250  \n",
       "        h04      Action.DOUBLE                0.200  \n",
       "        h05         Action.HIT                0.275  \n",
       "...                        ...                  ...  \n",
       "s21     h06       Action.STAND                0.900  \n",
       "        h07       Action.STAND                0.850  \n",
       "        h08       Action.STAND                1.000  \n",
       "        h09       Action.STAND                0.850  \n",
       "        h10       Action.STAND                0.600  \n",
       "\n",
       "[250 rows x 5 columns]"
      ]
     },
     "execution_count": 39,
     "metadata": {},
     "output_type": "execute_result"
    }
   ],
   "source": [
    "%prun -s cumulative conds = sim.compute_instructions(20)\n",
    "pd.DataFrame(conds).set_index(['score_p', 'score_d'])"
   ]
  },
  {
   "cell_type": "code",
   "execution_count": 40,
   "id": "challenging-producer",
   "metadata": {
    "ExecuteTime": {
     "end_time": "2021-07-25T01:23:44.658772Z",
     "start_time": "2021-07-25T01:23:39.366577Z"
    }
   },
   "outputs": [
    {
     "name": "stdout",
     "output_type": "stream",
     "text": [
      " "
     ]
    }
   ],
   "source": [
    "\n",
    "%prun -s cumulative sim.compute_instructions(100, strat_simple)"
   ]
  },
  {
   "cell_type": "code",
   "execution_count": 41,
   "id": "foster-december",
   "metadata": {
    "ExecuteTime": {
     "end_time": "2021-07-25T01:23:48.058843Z",
     "start_time": "2021-07-25T01:23:44.660189Z"
    },
    "scrolled": true
   },
   "outputs": [
    {
     "name": "stdout",
     "output_type": "stream",
     "text": [
      " "
     ]
    },
    {
     "data": {
      "image/png": "[encoded data removed]",
      "text/plain": [
       "<Figure size 432x288 with 4 Axes>"
      ]
     },
     "metadata": {
      "needs_background": "light"
     },
     "output_type": "display_data"
    }
   ],
   "source": [
    "\n",
    "\n",
    "%prun -s cumulative opt.run_iteration(1, strat_simple, None)"
   ]
  },
  {
   "cell_type": "code",
   "execution_count": 42,
   "id": "typical-murder",
   "metadata": {
    "ExecuteTime": {
     "end_time": "2021-07-25T01:23:48.118932Z",
     "start_time": "2021-07-25T01:23:48.060706Z"
    }
   },
   "outputs": [
    {
     "data": {
      "text/plain": [
       "(   strategy hand_start  dealer_card   hand_end       dealer_hand  \\\n",
       " 0    simple     [9, 1]            7     [9, 1]   [7, 4, 4, 1, 7]   \n",
       " 1  memoized     [9, 1]            7     [9, 1]   [7, 4, 4, 1, 7]   \n",
       " 2    simple     [4, 7]            3  [4, 7, 1]     [3, 3, 12, 1]   \n",
       " 3  memoized     [4, 7]            3  [4, 7, 7]     [3, 3, 12, 1]   \n",
       " 4    simple    [13, 2]            3    [13, 2]      [3, 2, 7, 7]   \n",
       " 5  memoized    [13, 2]            3    [13, 2]      [3, 2, 7, 7]   \n",
       " 6    simple    [9, 11]           13    [9, 11]        [13, 3, 4]   \n",
       " 7  memoized    [9, 11]           13    [9, 11]        [13, 3, 4]   \n",
       " 8    simple   [13, 13]            5   [13, 13]  [5, 5, 5, 1, 11]   \n",
       " 9  memoized   [13, 13]            5   [13, 13]  [5, 5, 5, 1, 11]   \n",
       " \n",
       "                    outcome  outcome_value outcome_name  \n",
       " 0          HandOutcome.WIN            1.0          WIN  \n",
       " 1          HandOutcome.WIN            1.0          WIN  \n",
       " 2  HandOutcome.LOSE_DOUBLE           -2.0  LOSE_DOUBLE  \n",
       " 3   HandOutcome.WIN_DOUBLE            2.0   WIN_DOUBLE  \n",
       " 4         HandOutcome.LOSE           -1.0         LOSE  \n",
       " 5         HandOutcome.LOSE           -1.0         LOSE  \n",
       " 6          HandOutcome.WIN            1.0          WIN  \n",
       " 7          HandOutcome.WIN            1.0          WIN  \n",
       " 8          HandOutcome.WIN            1.0          WIN  \n",
       " 9          HandOutcome.WIN            1.0          WIN  ,\n",
       "                    len                                       mean_outcome\n",
       " outcome_name BLACKJACK LOSE LOSE_DOUBLE PUSH  WIN WIN_DOUBLE             \n",
       " strategy                                                                 \n",
       " memoized            42  445          15  100  364         34        0.020\n",
       " simple              42  474          24   92  341         27       -0.064)"
      ]
     },
     "execution_count": 42,
     "metadata": {},
     "output_type": "execute_result"
    }
   ],
   "source": [
    "# Memoized strategy\n",
    "# Rather than generic conditions, just use an array indexed on player and dealer scores\n",
    "# Since that's how we're generating our strategy anyway (one square at a time)\n",
    "\n",
    "instructions = {(repr(HandScore(13, True)), repr(HandScore(6))): Action.HIT}\n",
    "strat_memoized = opt.gen_strat_memoized(instructions, strat_simple)\n",
    "\n",
    "sims = sim.run_n_sim_trials([strat_simple, strat_memoized], 1000)\n",
    "sims.head(10), sim.summarize_totals(sims)"
   ]
  },
  {
   "cell_type": "code",
   "execution_count": 43,
   "id": "imposed-cinema",
   "metadata": {
    "ExecuteTime": {
     "end_time": "2021-07-25T01:25:02.180382Z",
     "start_time": "2021-07-25T01:23:48.119959Z"
    }
   },
   "outputs": [
    {
     "name": "stdout",
     "output_type": "stream",
     "text": [
      "0\n",
      "1\n",
      "('h09', 'h05') Action.HIT Action.DOUBLE\n",
      "('h09', 'h06') Action.DOUBLE Action.HIT\n",
      "('h09', 'h09') Action.HIT Action.DOUBLE\n",
      "('h10', 'h02') Action.DOUBLE Action.HIT\n",
      "('h10', 'h03') Action.DOUBLE Action.HIT\n",
      "('h10', 'h08') Action.DOUBLE Action.HIT\n",
      "('h10', 'h09') Action.DOUBLE Action.HIT\n",
      "('h10', 'h10') Action.HIT Action.DOUBLE\n",
      "('h11', 'h07') Action.HIT Action.DOUBLE\n",
      "('h11', 'h09') Action.HIT Action.DOUBLE\n",
      "('h12', 'h04') Action.HIT Action.STAND\n",
      "('h12', 'h06') Action.HIT Action.STAND\n",
      "('h12', 'h08') Action.HIT Action.DOUBLE\n",
      "('h13', 'h03') Action.HIT Action.STAND\n",
      "('h13', 'h05') Action.STAND Action.HIT\n",
      "('h13', 'h06') Action.STAND Action.HIT\n",
      "('h13', 'h10') Action.HIT Action.DOUBLE\n",
      "('h14', 'h06') Action.STAND Action.DOUBLE\n",
      "('h14', 'h07') Action.HIT Action.STAND\n",
      "('h15', 's11') Action.STAND Action.HIT\n",
      "('h15', 'h02') Action.STAND Action.HIT\n",
      "('h15', 'h07') Action.HIT Action.STAND\n",
      "('h15', 'h08') Action.STAND Action.HIT\n",
      "('h16', 's11') Action.STAND Action.HIT\n",
      "('h16', 'h09') Action.HIT Action.STAND\n",
      "('h16', 'h10') Action.HIT Action.STAND\n",
      "('h17', 'h09') Action.HIT Action.STAND\n",
      "('s11', 'h07') Action.HIT Action.DOUBLE\n",
      "('s11', 'h08') Action.HIT Action.DOUBLE\n",
      "('s11', 'h09') Action.DOUBLE Action.HIT\n",
      "('s14', 'h06') Action.DOUBLE Action.HIT\n",
      "('s17', 's11') Action.HIT Action.STAND\n",
      "('s17', 'h02') Action.HIT Action.STAND\n",
      "('s17', 'h03') Action.HIT Action.STAND\n",
      "('s17', 'h06') Action.STAND Action.HIT\n",
      "('s18', 'h02') Action.STAND Action.DOUBLE\n",
      "('s18', 'h10') Action.STAND Action.HIT\n",
      "('s19', 'h04') Action.STAND Action.DOUBLE\n",
      "('s19', 'h06') Action.STAND Action.DOUBLE\n",
      "('s20', 'h04') Action.STAND Action.DOUBLE\n",
      "('s20', 'h06') Action.STAND Action.DOUBLE\n",
      "2\n",
      "('h09', 'h03') Action.HIT Action.DOUBLE\n",
      "('h09', 'h05') Action.DOUBLE Action.HIT\n",
      "('h09', 'h07') Action.DOUBLE Action.HIT\n",
      "('h10', 'h08') Action.HIT Action.DOUBLE\n",
      "('h11', 'h07') Action.DOUBLE Action.HIT\n",
      "('h11', 'h09') Action.DOUBLE Action.HIT\n",
      "('h12', 'h04') Action.STAND Action.HIT\n",
      "('h12', 'h06') Action.STAND Action.HIT\n",
      "('h13', 'h03') Action.STAND Action.HIT\n",
      "('h15', 's11') Action.HIT Action.STAND\n",
      "('h15', 'h08') Action.HIT Action.STAND\n",
      "('h16', 's11') Action.HIT Action.STAND\n",
      "('h16', 'h10') Action.STAND Action.HIT\n",
      "('h17', 'h09') Action.STAND Action.HIT\n",
      "('s11', 'h07') Action.DOUBLE Action.HIT\n",
      "('s11', 'h08') Action.DOUBLE Action.HIT\n",
      "('s11', 'h09') Action.HIT Action.DOUBLE\n",
      "('s14', 'h06') Action.HIT Action.DOUBLE\n",
      "('s17', 'h06') Action.HIT Action.STAND\n",
      "('s18', 'h03') Action.STAND Action.HIT\n",
      "('s18', 'h09') Action.HIT Action.STAND\n",
      "3\n",
      "('h09', 'h02') Action.DOUBLE Action.HIT\n",
      "('h09', 'h03') Action.DOUBLE Action.HIT\n",
      "('h09', 'h05') Action.HIT Action.DOUBLE\n",
      "('h09', 'h07') Action.HIT Action.DOUBLE\n",
      "('h10', 'h08') Action.DOUBLE Action.HIT\n",
      "('h10', 'h09') Action.HIT Action.DOUBLE\n",
      "('h11', 'h09') Action.HIT Action.DOUBLE\n",
      "('h11', 'h10') Action.HIT Action.DOUBLE\n",
      "('h12', 'h02') Action.STAND Action.HIT\n",
      "('h12', 'h03') Action.STAND Action.HIT\n",
      "('s11', 'h08') Action.HIT Action.DOUBLE\n",
      "('s11', 'h10') Action.HIT Action.DOUBLE\n",
      "4\n",
      "('h09', 'h02') Action.HIT Action.DOUBLE\n",
      "('h09', 'h05') Action.DOUBLE Action.HIT\n",
      "('h10', 'h09') Action.DOUBLE Action.HIT\n",
      "('h11', 'h09') Action.DOUBLE Action.HIT\n",
      "('h12', 'h02') Action.HIT Action.STAND\n",
      "('h12', 'h03') Action.HIT Action.STAND\n",
      "('s11', 'h08') Action.DOUBLE Action.HIT\n",
      "('s18', 'h09') Action.STAND Action.HIT\n"
     ]
    },
    {
     "data": {
      "text/plain": [
       "[<blackjack.Strategy_wrapper at 0x7ffdc120dc40>,\n",
       " <optimizer.Strat_memoized at 0x7ffdf3603130>,\n",
       " <optimizer.Strat_memoized at 0x7ffde07fb550>,\n",
       " <optimizer.Strat_memoized at 0x7ffdf30c7280>,\n",
       " <optimizer.Strat_memoized at 0x7ffdf3940910>,\n",
       " <optimizer.Strat_memoized at 0x7ffdf3557220>]"
      ]
     },
     "execution_count": 43,
     "metadata": {},
     "output_type": "execute_result"
    },
    {
     "data": {
      "image/png": "[encoded data removed]",
      "text/plain": [
       "<Figure size 432x288 with 4 Axes>"
      ]
     },
     "metadata": {
      "needs_background": "light"
     },
     "output_type": "display_data"
    },
    {
     "data": {
      "image/png": "[encoded data removed]",
      "text/plain": [
       "<Figure size 432x288 with 4 Axes>"
      ]
     },
     "metadata": {
      "needs_background": "light"
     },
     "output_type": "display_data"
    },
    {
     "data": {
      "image/png": "[encoded data removed]",
      "text/plain": [
       "<Figure size 432x288 with 4 Axes>"
      ]
     },
     "metadata": {
      "needs_background": "light"
     },
     "output_type": "display_data"
    },
    {
     "data": {
      "image/png": "[encoded data removed]",
      "text/plain": [
       "<Figure size 432x288 with 4 Axes>"
      ]
     },
     "metadata": {
      "needs_background": "light"
     },
     "output_type": "display_data"
    },
    {
     "data": {
      "image/png": "[encoded data removed]",
      "text/plain": [
       "<Figure size 432x288 with 4 Axes>"
      ]
     },
     "metadata": {
      "needs_background": "light"
     },
     "output_type": "display_data"
    }
   ],
   "source": [
    "\n",
    "\n",
    "strategies = opt.derive_iterative_strategies(strat_simple, 5)\n",
    "strategies"
   ]
  },
  {
   "cell_type": "code",
   "execution_count": 44,
   "id": "lucky-account",
   "metadata": {
    "ExecuteTime": {
     "end_time": "2021-07-25T01:26:25.456950Z",
     "start_time": "2021-07-25T01:25:02.181336Z"
    }
   },
   "outputs": [
    {
     "data": {
      "text/plain": [
       "(  strategy hand_start  dealer_card             hand_end dealer_hand  \\\n",
       " 0   simple   [10, 11]           11             [10, 11]  [11, 2, 6]   \n",
       " 1  iter(1)   [10, 11]           11             [10, 11]  [11, 2, 6]   \n",
       " 2  iter(2)   [10, 11]           11             [10, 11]  [11, 2, 6]   \n",
       " 3  iter(3)   [10, 11]           11             [10, 11]  [11, 2, 6]   \n",
       " 4  iter(4)   [10, 11]           11             [10, 11]  [11, 2, 6]   \n",
       " 5  iter(5)   [10, 11]           11             [10, 11]  [11, 2, 6]   \n",
       " 6   simple     [3, 7]            8            [3, 7, 8]   [8, 3, 8]   \n",
       " 7  iter(1)     [3, 7]            8      [3, 7, 5, 1, 6]   [8, 3, 8]   \n",
       " 8  iter(2)     [3, 7]            8            [3, 7, 6]   [8, 3, 8]   \n",
       " 9  iter(3)     [3, 7]            8  [3, 7, 4, 1, 1, 12]   [8, 3, 8]   \n",
       " \n",
       "                    outcome  outcome_value outcome_name  \n",
       " 0          HandOutcome.WIN            1.0          WIN  \n",
       " 1          HandOutcome.WIN            1.0          WIN  \n",
       " 2          HandOutcome.WIN            1.0          WIN  \n",
       " 3          HandOutcome.WIN            1.0          WIN  \n",
       " 4          HandOutcome.WIN            1.0          WIN  \n",
       " 5          HandOutcome.WIN            1.0          WIN  \n",
       " 6         HandOutcome.LOSE           -1.0         LOSE  \n",
       " 7         HandOutcome.LOSE           -1.0         LOSE  \n",
       " 8  HandOutcome.LOSE_DOUBLE           -2.0  LOSE_DOUBLE  \n",
       " 9         HandOutcome.LOSE           -1.0         LOSE  ,\n",
       "                    len                                                \\\n",
       " outcome_name BLACKJACK    LOSE LOSE_DOUBLE   PUSH     WIN WIN_DOUBLE   \n",
       " strategy                                                               \n",
       " iter(1)          44895  430399       59777  82232  328728      53969   \n",
       " iter(2)          44895  458479       27065  84488  345934      39139   \n",
       " iter(3)          44895  455357       29452  83032  345058      42206   \n",
       " iter(4)          44895  463110       21129  82600  354591      33675   \n",
       " iter(5)          44895  459995       23809  83462  350486      37353   \n",
       " simple           44895  467034       19050  87054  356776      25191   \n",
       " \n",
       "              mean_outcome  \n",
       " outcome_name               \n",
       " strategy                   \n",
       " iter(1)         -0.045944  \n",
       " iter(2)         -0.021055  \n",
       " iter(3)         -0.017448  \n",
       " iter(4)         -0.016085  \n",
       " iter(5)         -0.015078  \n",
       " simple          -0.030634  )"
      ]
     },
     "execution_count": 44,
     "metadata": {},
     "output_type": "execute_result"
    }
   ],
   "source": [
    "sims = sim.run_n_sim_trials(strategies, 1000*1000)\n",
    "sims.head(10), sim.summarize_totals(sims)"
   ]
  },
  {
   "cell_type": "code",
   "execution_count": 45,
   "id": "periodic-huntington",
   "metadata": {
    "ExecuteTime": {
     "end_time": "2021-07-25T01:26:25.460761Z",
     "start_time": "2021-07-25T01:26:25.458301Z"
    }
   },
   "outputs": [
    {
     "data": {
      "text/plain": [
       "[<blackjack.Strategy_wrapper at 0x7ffdc120dc40>,\n",
       " <optimizer.Strat_memoized at 0x7ffdf3603130>,\n",
       " <optimizer.Strat_memoized at 0x7ffde07fb550>,\n",
       " <optimizer.Strat_memoized at 0x7ffdf30c7280>,\n",
       " <optimizer.Strat_memoized at 0x7ffdf3940910>,\n",
       " <optimizer.Strat_memoized at 0x7ffdf3557220>]"
      ]
     },
     "execution_count": 45,
     "metadata": {},
     "output_type": "execute_result"
    }
   ],
   "source": [
    "strategies"
   ]
  },
  {
   "cell_type": "code",
   "execution_count": 46,
   "id": "announced-charter",
   "metadata": {
    "ExecuteTime": {
     "end_time": "2021-07-25T01:27:24.223707Z",
     "start_time": "2021-07-25T01:27:24.208192Z"
    }
   },
   "outputs": [],
   "source": [
    "import pickle"
   ]
  },
  {
   "cell_type": "code",
   "execution_count": 47,
   "id": "judicial-organizer",
   "metadata": {
    "ExecuteTime": {
     "end_time": "2021-07-25T01:27:44.137300Z",
     "start_time": "2021-07-25T01:27:44.124942Z"
    }
   },
   "outputs": [],
   "source": [
    "with open('strategies.pickle', 'wb') as handle:\n",
    "    pickle.dump(strategies, handle, protocol=pickle.HIGHEST_PROTOCOL)"
   ]
  },
  {
   "cell_type": "code",
   "execution_count": null,
   "id": "scheduled-ultimate",
   "metadata": {},
   "outputs": [],
   "source": []
  }
 ],
 "metadata": {
  "kernelspec": {
   "display_name": "Python 3",
   "language": "python",
   "name": "python3"
  },
  "language_info": {
   "codemirror_mode": {
    "name": "ipython",
    "version": 3
   },
   "file_extension": ".py",
   "mimetype": "text/x-python",
   "name": "python",
   "nbconvert_exporter": "python",
   "pygments_lexer": "ipython3",
   "version": "3.8.8"
  }
 },
 "nbformat": 4,
 "nbformat_minor": 5
}
