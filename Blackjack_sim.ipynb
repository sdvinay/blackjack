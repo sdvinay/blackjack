{
 "cells": [
  {
   "cell_type": "code",
   "execution_count": 1,
   "id": "middle-scenario",
   "metadata": {
    "ExecuteTime": {
     "end_time": "2021-07-07T22:58:17.900637Z",
     "start_time": "2021-07-07T22:58:17.273870Z"
    }
   },
   "outputs": [],
   "source": [
    "from dataclasses import dataclass, field\n",
    "import copy\n",
    "from enum import Enum, auto\n",
    "import random\n",
    "import pandas as pd\n",
    "import seaborn as sns\n",
    "\n",
    "\n",
    "import blackjack as bj\n",
    "from blackjack import Hand, HandScore, Action, make_hand"
   ]
  },
  {
   "cell_type": "code",
   "execution_count": 2,
   "id": "advanced-sheep",
   "metadata": {
    "ExecuteTime": {
     "end_time": "2021-07-07T22:58:17.904542Z",
     "start_time": "2021-07-07T22:58:17.901796Z"
    }
   },
   "outputs": [
    {
     "data": {
      "text/plain": [
       "s11"
      ]
     },
     "execution_count": 2,
     "metadata": {},
     "output_type": "execute_result"
    }
   ],
   "source": [
    "h = HandScore(11, True)\n",
    "h"
   ]
  },
  {
   "cell_type": "code",
   "execution_count": 3,
   "id": "smaller-thermal",
   "metadata": {
    "ExecuteTime": {
     "end_time": "2021-07-07T22:58:17.908799Z",
     "start_time": "2021-07-07T22:58:17.906242Z"
    }
   },
   "outputs": [
    {
     "data": {
      "text/plain": [
       "s21"
      ]
     },
     "execution_count": 3,
     "metadata": {},
     "output_type": "execute_result"
    }
   ],
   "source": [
    "h.add_card(10)"
   ]
  },
  {
   "cell_type": "code",
   "execution_count": 4,
   "id": "combined-report",
   "metadata": {
    "ExecuteTime": {
     "end_time": "2021-07-07T22:58:17.912406Z",
     "start_time": "2021-07-07T22:58:17.910248Z"
    }
   },
   "outputs": [
    {
     "data": {
      "text/plain": [
       "h21"
      ]
     },
     "execution_count": 4,
     "metadata": {},
     "output_type": "execute_result"
    }
   ],
   "source": [
    "h.add_card(10).add_card(10)"
   ]
  },
  {
   "cell_type": "code",
   "execution_count": 5,
   "id": "undefined-sense",
   "metadata": {
    "ExecuteTime": {
     "end_time": "2021-07-07T22:58:17.915710Z",
     "start_time": "2021-07-07T22:58:17.913388Z"
    }
   },
   "outputs": [
    {
     "data": {
      "text/plain": [
       "s11"
      ]
     },
     "execution_count": 5,
     "metadata": {},
     "output_type": "execute_result"
    }
   ],
   "source": [
    "h"
   ]
  },
  {
   "cell_type": "code",
   "execution_count": 6,
   "id": "executive-firewall",
   "metadata": {
    "ExecuteTime": {
     "end_time": "2021-07-07T22:58:17.919101Z",
     "start_time": "2021-07-07T22:58:17.916640Z"
    }
   },
   "outputs": [
    {
     "data": {
      "text/plain": [
       "s14"
      ]
     },
     "execution_count": 6,
     "metadata": {},
     "output_type": "execute_result"
    }
   ],
   "source": [
    "h.add_card(3)"
   ]
  },
  {
   "cell_type": "code",
   "execution_count": 7,
   "id": "handmade-acrylic",
   "metadata": {
    "ExecuteTime": {
     "end_time": "2021-07-07T22:58:17.923258Z",
     "start_time": "2021-07-07T22:58:17.920337Z"
    }
   },
   "outputs": [
    {
     "data": {
      "text/plain": [
       "h14"
      ]
     },
     "execution_count": 7,
     "metadata": {},
     "output_type": "execute_result"
    }
   ],
   "source": [
    "h.add_card(3).add_card(10)"
   ]
  },
  {
   "cell_type": "code",
   "execution_count": 8,
   "id": "touched-texture",
   "metadata": {
    "ExecuteTime": {
     "end_time": "2021-07-07T22:58:17.928681Z",
     "start_time": "2021-07-07T22:58:17.925553Z"
    }
   },
   "outputs": [
    {
     "data": {
      "text/plain": [
       "[h00,\n",
       " h01,\n",
       " h02,\n",
       " h03,\n",
       " h04,\n",
       " h05,\n",
       " h06,\n",
       " h07,\n",
       " h08,\n",
       " h09,\n",
       " h10,\n",
       " h11,\n",
       " h12,\n",
       " h13,\n",
       " h14,\n",
       " h15,\n",
       " h16,\n",
       " h17,\n",
       " h18,\n",
       " h19,\n",
       " h20,\n",
       " h21,\n",
       " h22,\n",
       " s11,\n",
       " s12,\n",
       " s13,\n",
       " s14,\n",
       " s15,\n",
       " s16,\n",
       " s17,\n",
       " s18,\n",
       " s19,\n",
       " s20,\n",
       " s21]"
      ]
     },
     "execution_count": 8,
     "metadata": {},
     "output_type": "execute_result"
    }
   ],
   "source": [
    "all_scores = [HandScore(i, False) for i in range(0, 23)] + [HandScore(i, True) for i in range(11, 22)]\n",
    "all_scores"
   ]
  },
  {
   "cell_type": "code",
   "execution_count": 9,
   "id": "initial-harrison",
   "metadata": {
    "ExecuteTime": {
     "end_time": "2021-07-07T22:58:17.932893Z",
     "start_time": "2021-07-07T22:58:17.930770Z"
    }
   },
   "outputs": [
    {
     "data": {
      "text/plain": [
       "Hand(score=h00, cards=[], doubled=False)"
      ]
     },
     "execution_count": 9,
     "metadata": {},
     "output_type": "execute_result"
    }
   ],
   "source": [
    "h = Hand()\n",
    "h"
   ]
  },
  {
   "cell_type": "code",
   "execution_count": 10,
   "id": "reduced-cover",
   "metadata": {
    "ExecuteTime": {
     "end_time": "2021-07-07T22:58:17.936156Z",
     "start_time": "2021-07-07T22:58:17.933808Z"
    }
   },
   "outputs": [
    {
     "data": {
      "text/plain": [
       "Hand(score=h06, cards=[6], doubled=False)"
      ]
     },
     "execution_count": 10,
     "metadata": {},
     "output_type": "execute_result"
    }
   ],
   "source": [
    "h.add_card(6) # start a hand with a 6"
   ]
  },
  {
   "cell_type": "code",
   "execution_count": 11,
   "id": "aging-green",
   "metadata": {
    "ExecuteTime": {
     "end_time": "2021-07-07T22:58:17.941474Z",
     "start_time": "2021-07-07T22:58:17.937633Z"
    }
   },
   "outputs": [
    {
     "data": {
      "text/plain": [
       "Hand(score=h16, cards=[6, 11], doubled=False)"
      ]
     },
     "execution_count": 11,
     "metadata": {},
     "output_type": "execute_result"
    }
   ],
   "source": [
    "h.add_card(11) # show that J (11) counts as 10 points"
   ]
  },
  {
   "cell_type": "code",
   "execution_count": 12,
   "id": "humanitarian-chair",
   "metadata": {
    "ExecuteTime": {
     "end_time": "2021-07-07T22:58:17.944896Z",
     "start_time": "2021-07-07T22:58:17.942396Z"
    }
   },
   "outputs": [
    {
     "data": {
      "text/plain": [
       "(Hand(score=h22, cards=[6, 11, 7], doubled=False), True)"
      ]
     },
     "execution_count": 12,
     "metadata": {},
     "output_type": "execute_result"
    }
   ],
   "source": [
    "h.add_card(7), bj.is_busted(h) # bust (show that 23 is counted as 22)"
   ]
  },
  {
   "cell_type": "code",
   "execution_count": 13,
   "id": "accompanied-perspective",
   "metadata": {
    "ExecuteTime": {
     "end_time": "2021-07-07T22:58:17.948082Z",
     "start_time": "2021-07-07T22:58:17.945833Z"
    }
   },
   "outputs": [
    {
     "data": {
      "text/plain": [
       "Hand(score=s11, cards=[1], doubled=False)"
      ]
     },
     "execution_count": 13,
     "metadata": {},
     "output_type": "execute_result"
    }
   ],
   "source": [
    "# OK, now let's try another hand with aces\n",
    "h = Hand()\n",
    "h.add_card(1) # should be a soft 11"
   ]
  },
  {
   "cell_type": "code",
   "execution_count": 14,
   "id": "exotic-checkout",
   "metadata": {
    "ExecuteTime": {
     "end_time": "2021-07-07T22:58:17.951266Z",
     "start_time": "2021-07-07T22:58:17.949133Z"
    }
   },
   "outputs": [
    {
     "data": {
      "text/plain": [
       "Hand(score=s12, cards=[1, 1], doubled=False)"
      ]
     },
     "execution_count": 14,
     "metadata": {},
     "output_type": "execute_result"
    }
   ],
   "source": [
    "h.add_card(1) # two aces: should be a soft 12"
   ]
  },
  {
   "cell_type": "code",
   "execution_count": 15,
   "id": "italian-beads",
   "metadata": {
    "ExecuteTime": {
     "end_time": "2021-07-07T22:58:17.955815Z",
     "start_time": "2021-07-07T22:58:17.952527Z"
    }
   },
   "outputs": [
    {
     "data": {
      "text/plain": [
       "Hand(score=h12, cards=[1, 1, 11], doubled=False)"
      ]
     },
     "execution_count": 15,
     "metadata": {},
     "output_type": "execute_result"
    }
   ],
   "source": [
    "h.add_card(11) # two aces and a J: should be a hard 12"
   ]
  },
  {
   "cell_type": "code",
   "execution_count": 16,
   "id": "neutral-sugar",
   "metadata": {
    "ExecuteTime": {
     "end_time": "2021-07-07T22:58:17.960924Z",
     "start_time": "2021-07-07T22:58:17.958162Z"
    }
   },
   "outputs": [
    {
     "data": {
      "text/plain": [
       "(Hand(score=s21, cards=[1, 10], doubled=False), True)"
      ]
     },
     "execution_count": 16,
     "metadata": {},
     "output_type": "execute_result"
    }
   ],
   "source": [
    "# OK, now let's try another hand with a blackjack\n",
    "h = Hand()\n",
    "h.add_card(1) # should be a soft 11\n",
    "h.add_card(10)\n",
    "h, bj.is_blackjack(h)"
   ]
  },
  {
   "cell_type": "markdown",
   "id": "dental-kelly",
   "metadata": {},
   "source": [
    "## Now define gameplay and strategy"
   ]
  },
  {
   "cell_type": "code",
   "execution_count": 17,
   "id": "secondary-crown",
   "metadata": {
    "ExecuteTime": {
     "end_time": "2021-07-07T22:58:17.964520Z",
     "start_time": "2021-07-07T22:58:17.962020Z"
    }
   },
   "outputs": [
    {
     "data": {
      "text/plain": [
       "[3, 7, 4, 2, 8, 12, 11, 10, 9, 9]"
      ]
     },
     "execution_count": 17,
     "metadata": {},
     "output_type": "execute_result"
    }
   ],
   "source": [
    "[bj.deal_card() for _ in range(10)]"
   ]
  },
  {
   "cell_type": "code",
   "execution_count": null,
   "id": "adopted-miami",
   "metadata": {
    "ExecuteTime": {
     "end_time": "2021-07-07T22:43:27.944357Z",
     "start_time": "2021-07-07T22:43:27.941879Z"
    }
   },
   "outputs": [],
   "source": []
  },
  {
   "cell_type": "code",
   "execution_count": null,
   "id": "violent-quality",
   "metadata": {
    "ExecuteTime": {
     "end_time": "2021-07-07T22:43:27.953435Z",
     "start_time": "2021-07-07T22:43:27.950609Z"
    }
   },
   "outputs": [],
   "source": []
  },
  {
   "cell_type": "code",
   "execution_count": 18,
   "id": "atomic-plaintiff",
   "metadata": {
    "ExecuteTime": {
     "end_time": "2021-07-07T22:58:17.967887Z",
     "start_time": "2021-07-07T22:58:17.965466Z"
    }
   },
   "outputs": [
    {
     "data": {
      "text/plain": [
       "[('strat_nobust',\n",
       "  Hand(score=h12, cards=[4, 8], doubled=False),\n",
       "  Hand(score=s18, cards=[1, 7], doubled=False),\n",
       "  <HandOutcome.LOSE: -1>),\n",
       " ('strat_nobust',\n",
       "  Hand(score=h12, cards=[4, 8], doubled=False),\n",
       "  Hand(score=s18, cards=[1, 7], doubled=False),\n",
       "  <HandOutcome.LOSE: -1>)]"
      ]
     },
     "execution_count": 18,
     "metadata": {},
     "output_type": "execute_result"
    }
   ],
   "source": [
    "bj.play_one_round([bj.strat_nobust, bj.strat_nobust])"
   ]
  },
  {
   "cell_type": "markdown",
   "id": "looking-jewelry",
   "metadata": {},
   "source": [
    "## Aggregate and summarize the data from the simulations"
   ]
  },
  {
   "cell_type": "code",
   "execution_count": 19,
   "id": "juvenile-joshua",
   "metadata": {
    "ExecuteTime": {
     "end_time": "2021-07-07T22:58:17.974924Z",
     "start_time": "2021-07-07T22:58:17.969212Z"
    }
   },
   "outputs": [
    {
     "data": {
      "text/plain": [
       "[{'strategy': 'strat_nobust',\n",
       "  'hand_start': [1, 13],\n",
       "  'dealer_card': 2,\n",
       "  'hand_end': [1, 13],\n",
       "  'dealer_hand': [2, 7, 8],\n",
       "  'outcome': <HandOutcome.BLACKJACK: 1.5>},\n",
       " {'strategy': 'strat_dealer',\n",
       "  'hand_start': [1, 13],\n",
       "  'dealer_card': 2,\n",
       "  'hand_end': [1, 13],\n",
       "  'dealer_hand': [2, 7, 8],\n",
       "  'outcome': <HandOutcome.BLACKJACK: 1.5>}]"
      ]
     },
     "execution_count": 19,
     "metadata": {},
     "output_type": "execute_result"
    }
   ],
   "source": [
    "\n",
    "def generate_row_from_player(player):\n",
    "    (strat, hand_p, hand_d, outcome) = player\n",
    "    return {'strategy': strat, 'hand_start': hand_p.cards[:2], 'dealer_card': hand_d.cards[0], 'hand_end': hand_p.cards, 'dealer_hand': hand_d.cards, 'outcome': outcome}\n",
    "\n",
    "def generate_rows_from_round(r):\n",
    "    return [generate_row_from_player(player) for player in r]\n",
    "\n",
    "strat_nobust = bj.strat_nobust\n",
    "strat_dealer = bj.strat_dealer\n",
    "generate_rows_from_round(bj.play_one_round([bj.strat_nobust, bj.strat_dealer]))\n"
   ]
  },
  {
   "cell_type": "code",
   "execution_count": 20,
   "id": "approved-broadway",
   "metadata": {
    "ExecuteTime": {
     "end_time": "2021-07-07T22:58:18.070409Z",
     "start_time": "2021-07-07T22:58:17.975923Z"
    }
   },
   "outputs": [
    {
     "data": {
      "text/plain": [
       "(          strategy hand_start  dealer_card          hand_end    dealer_hand  \\\n",
       " 0     strat_nobust    [8, 13]           12           [8, 13]  [12, 5, 1, 9]   \n",
       " 1     strat_dealer    [8, 13]           12           [8, 13]  [12, 5, 1, 9]   \n",
       " 2     strat_nobust     [5, 1]            2            [5, 1]  [2, 4, 5, 13]   \n",
       " 3     strat_dealer     [5, 1]            2  [5, 1, 6, 4, 12]  [2, 4, 5, 13]   \n",
       " 4     strat_nobust    [5, 11]            8           [5, 11]         [8, 1]   \n",
       " ...            ...        ...          ...               ...            ...   \n",
       " 1995  strat_dealer    [3, 12]           10        [3, 12, 5]        [10, 8]   \n",
       " 1996  strat_nobust     [9, 9]            8            [9, 9]      [8, 5, 7]   \n",
       " 1997  strat_dealer     [9, 9]            8            [9, 9]      [8, 5, 7]   \n",
       " 1998  strat_nobust     [9, 1]            3            [9, 1]    [3, 11, 11]   \n",
       " 1999  strat_dealer     [9, 1]            3            [9, 1]    [3, 11, 11]   \n",
       " \n",
       "                outcome  outcome_value outcome_name  \n",
       " 0      HandOutcome.WIN            1.0          WIN  \n",
       " 1      HandOutcome.WIN            1.0          WIN  \n",
       " 2     HandOutcome.LOSE           -1.0         LOSE  \n",
       " 3     HandOutcome.LOSE           -1.0         LOSE  \n",
       " 4     HandOutcome.LOSE           -1.0         LOSE  \n",
       " ...                ...            ...          ...  \n",
       " 1995  HandOutcome.PUSH            0.0         PUSH  \n",
       " 1996  HandOutcome.LOSE           -1.0         LOSE  \n",
       " 1997  HandOutcome.LOSE           -1.0         LOSE  \n",
       " 1998   HandOutcome.WIN            1.0          WIN  \n",
       " 1999   HandOutcome.WIN            1.0          WIN  \n",
       " \n",
       " [2000 rows x 8 columns],\n",
       "                    len                mean_outcome\n",
       " outcome_name BLACKJACK LOSE PUSH  WIN             \n",
       " strategy                                          \n",
       " strat_dealer        36  509  100  355       -0.100\n",
       " strat_nobust        36  512   69  383       -0.075)"
      ]
     },
     "execution_count": 20,
     "metadata": {},
     "output_type": "execute_result"
    }
   ],
   "source": [
    "def run_n_sim_trials(strats, n):\n",
    "    sims = [generate_rows_from_round(bj.play_one_round(strats)) for _ in range(n)]\n",
    "    results = pd.DataFrame([player for round in sims for player in round])\n",
    "    results['outcome_value'] = results['outcome'].apply(lambda x: x.value)\n",
    "    results['outcome_name'] = results['outcome'].apply(lambda x: str(x)[12:])\n",
    "    return results\n",
    "\n",
    "def summarize_totals(sims):\n",
    "    def outcome_name(x): return x.head(1) # The function name will be used as the column name\n",
    "    outcome_counts = sims.groupby(['strategy', 'outcome_value'])['outcome_name'].agg([len, outcome_name])\n",
    "    outcome_summary = outcome_counts.reset_index().set_index('strategy').drop(['outcome_value'], axis=1).pivot(columns=['outcome_name'])\n",
    "\n",
    "    # The empty cells are NaNs; fill the NaNs and convert back to int\n",
    "    for col in outcome_summary.columns:\n",
    "        outcome_summary[col] = outcome_summary[col].fillna(0).apply(int)\n",
    "        \n",
    "    outcome_summary['mean_outcome'] = sims.groupby('strategy')['outcome_value'].mean()\n",
    "    \n",
    "    return outcome_summary\n",
    "\n",
    "\n",
    "sim_results = run_n_sim_trials([strat_nobust, strat_dealer], 1000)\n",
    "sim_results, summarize_totals(sim_results)"
   ]
  },
  {
   "cell_type": "code",
   "execution_count": 21,
   "id": "varied-devil",
   "metadata": {
    "ExecuteTime": {
     "end_time": "2021-07-07T22:58:18.141002Z",
     "start_time": "2021-07-07T22:58:18.071445Z"
    }
   },
   "outputs": [
    {
     "data": {
      "text/plain": [
       "(  strategy hand_start  dealer_card    hand_end      dealer_hand  \\\n",
       " 0   simple     [2, 5]            3   [2, 5, 9]    [3, 9, 3, 11]   \n",
       " 1   simple    [3, 10]            7  [3, 10, 7]       [7, 2, 10]   \n",
       " 2   simple     [4, 7]            8  [4, 7, 12]       [8, 8, 12]   \n",
       " 3   simple    [10, 9]            4     [10, 9]  [4, 2, 4, 5, 8]   \n",
       " 4   simple    [4, 12]            6     [4, 12]        [6, 9, 6]   \n",
       " 5   simple     [3, 6]            6   [3, 6, 4]      [6, 10, 12]   \n",
       " 6   simple     [7, 3]            5  [7, 3, 10]     [5, 7, 3, 4]   \n",
       " 7   simple     [7, 7]           13   [7, 7, 3]       [13, 5, 4]   \n",
       " 8   simple     [9, 4]           13  [9, 4, 12]       [13, 5, 6]   \n",
       " 9   simple     [7, 4]           11   [7, 4, 7]          [11, 9]   \n",
       " \n",
       "                    outcome  outcome_value outcome_name  \n",
       " 0          HandOutcome.WIN            1.0          WIN  \n",
       " 1          HandOutcome.WIN            1.0          WIN  \n",
       " 2   HandOutcome.WIN_DOUBLE            2.0   WIN_DOUBLE  \n",
       " 3          HandOutcome.WIN            1.0          WIN  \n",
       " 4         HandOutcome.LOSE           -1.0         LOSE  \n",
       " 5          HandOutcome.WIN            1.0          WIN  \n",
       " 6          HandOutcome.WIN            1.0          WIN  \n",
       " 7         HandOutcome.LOSE           -1.0         LOSE  \n",
       " 8         HandOutcome.LOSE           -1.0         LOSE  \n",
       " 9  HandOutcome.LOSE_DOUBLE           -2.0  LOSE_DOUBLE  ,\n",
       "                    len                                       mean_outcome\n",
       " outcome_name BLACKJACK LOSE LOSE_DOUBLE PUSH  WIN WIN_DOUBLE             \n",
       " strategy                                                                 \n",
       " simple              42  427          33   86  381         31        0.013)"
      ]
     },
     "execution_count": 21,
     "metadata": {},
     "output_type": "execute_result"
    }
   ],
   "source": [
    "def strat_simple(score_p, score_d):\n",
    "    if score_p.points == 11:  return Action.DOUBLE\n",
    "    if score_p.points >= 17:  return Action.STAND\n",
    "    if score_p.points <= 11:  return Action.HIT\n",
    "    if score_d.points in (range(3,7)):  return Action.STAND\n",
    "    else:  return Action.HIT\n",
    "        \n",
    "strat_simple.name = 'simple'\n",
    "\n",
    "\n",
    "sims = run_n_sim_trials([strat_simple], 1000)\n",
    "sims.head(10), summarize_totals(sims)"
   ]
  },
  {
   "cell_type": "code",
   "execution_count": 22,
   "id": "confirmed-passing",
   "metadata": {
    "ExecuteTime": {
     "end_time": "2021-07-07T22:58:19.054607Z",
     "start_time": "2021-07-07T22:58:18.142034Z"
    }
   },
   "outputs": [
    {
     "data": {
      "text/html": [
       "<div>\n",
       "<style scoped>\n",
       "    .dataframe tbody tr th:only-of-type {\n",
       "        vertical-align: middle;\n",
       "    }\n",
       "\n",
       "    .dataframe tbody tr th {\n",
       "        vertical-align: top;\n",
       "    }\n",
       "\n",
       "    .dataframe thead tr th {\n",
       "        text-align: left;\n",
       "    }\n",
       "\n",
       "    .dataframe thead tr:last-of-type th {\n",
       "        text-align: right;\n",
       "    }\n",
       "</style>\n",
       "<table border=\"1\" class=\"dataframe\">\n",
       "  <thead>\n",
       "    <tr>\n",
       "      <th></th>\n",
       "      <th colspan=\"6\" halign=\"left\">len</th>\n",
       "      <th>mean_outcome</th>\n",
       "    </tr>\n",
       "    <tr>\n",
       "      <th>outcome_name</th>\n",
       "      <th>BLACKJACK</th>\n",
       "      <th>LOSE</th>\n",
       "      <th>LOSE_DOUBLE</th>\n",
       "      <th>PUSH</th>\n",
       "      <th>WIN</th>\n",
       "      <th>WIN_DOUBLE</th>\n",
       "      <th></th>\n",
       "    </tr>\n",
       "    <tr>\n",
       "      <th>strategy</th>\n",
       "      <th></th>\n",
       "      <th></th>\n",
       "      <th></th>\n",
       "      <th></th>\n",
       "      <th></th>\n",
       "      <th></th>\n",
       "      <th></th>\n",
       "    </tr>\n",
       "  </thead>\n",
       "  <tbody>\n",
       "    <tr>\n",
       "      <th>simple</th>\n",
       "      <td>444</td>\n",
       "      <td>4673</td>\n",
       "      <td>246</td>\n",
       "      <td>830</td>\n",
       "      <td>3494</td>\n",
       "      <td>313</td>\n",
       "      <td>-0.0379</td>\n",
       "    </tr>\n",
       "    <tr>\n",
       "      <th>strat_dealer</th>\n",
       "      <td>444</td>\n",
       "      <td>4910</td>\n",
       "      <td>0</td>\n",
       "      <td>936</td>\n",
       "      <td>3710</td>\n",
       "      <td>0</td>\n",
       "      <td>-0.0534</td>\n",
       "    </tr>\n",
       "    <tr>\n",
       "      <th>strat_nobust</th>\n",
       "      <td>444</td>\n",
       "      <td>5165</td>\n",
       "      <td>0</td>\n",
       "      <td>617</td>\n",
       "      <td>3774</td>\n",
       "      <td>0</td>\n",
       "      <td>-0.0725</td>\n",
       "    </tr>\n",
       "  </tbody>\n",
       "</table>\n",
       "</div>"
      ],
      "text/plain": [
       "                   len                                         mean_outcome\n",
       "outcome_name BLACKJACK  LOSE LOSE_DOUBLE PUSH   WIN WIN_DOUBLE             \n",
       "strategy                                                                   \n",
       "simple             444  4673         246  830  3494        313      -0.0379\n",
       "strat_dealer       444  4910           0  936  3710          0      -0.0534\n",
       "strat_nobust       444  5165           0  617  3774          0      -0.0725"
      ]
     },
     "execution_count": 22,
     "metadata": {},
     "output_type": "execute_result"
    }
   ],
   "source": [
    "summarize_totals(run_n_sim_trials([strat_dealer, strat_nobust, strat_simple], 10000))\n"
   ]
  },
  {
   "cell_type": "markdown",
   "id": "fluid-writing",
   "metadata": {},
   "source": [
    "## Simulate specific situations to determine strategy"
   ]
  },
  {
   "cell_type": "code",
   "execution_count": 23,
   "id": "otherwise-sheffield",
   "metadata": {
    "ExecuteTime": {
     "end_time": "2021-07-07T22:58:19.060255Z",
     "start_time": "2021-07-07T22:58:19.058128Z"
    }
   },
   "outputs": [
    {
     "data": {
      "text/plain": [
       "(Hand(score=h12, cards=[5, 7], doubled=False),\n",
       " Hand(score=h02, cards=[2], doubled=False))"
      ]
     },
     "execution_count": 23,
     "metadata": {},
     "output_type": "execute_result"
    }
   ],
   "source": [
    "# 12 vs deuce\n",
    "\n",
    "hand_p = make_hand([5, 7])\n",
    "hand_d = make_hand([2])\n",
    "\n",
    "hand_p, hand_d"
   ]
  },
  {
   "cell_type": "code",
   "execution_count": 24,
   "id": "gross-kennedy",
   "metadata": {
    "ExecuteTime": {
     "end_time": "2021-07-07T22:58:19.064360Z",
     "start_time": "2021-07-07T22:58:19.062045Z"
    }
   },
   "outputs": [],
   "source": [
    "# Implement a strategy that composes conditions and actions\n",
    "\n",
    "def cond_12_2(score_p, score_d):\n",
    "    return score_p.points == 12 and score_d.points == 2 and not score_p.soft\n",
    "conditions = [(cond_12_2, Action.STAND)]\n",
    "\n",
    "def generate_strat_conditional(strat_base, conditions):\n",
    "    def strat_cond(score_p, score_d):\n",
    "        for (condition, action) in conditions:\n",
    "            if condition(score_p, score_d): return action\n",
    "        return strat_base(score_p, score_d)\n",
    "    strat_cond.name = 'strat_cond'\n",
    "    return strat_cond\n",
    "    \n",
    "strat_cond = generate_strat_conditional(strat_simple, conditions)"
   ]
  },
  {
   "cell_type": "code",
   "execution_count": 25,
   "id": "virgin-mining",
   "metadata": {
    "ExecuteTime": {
     "end_time": "2021-07-07T22:58:19.069800Z",
     "start_time": "2021-07-07T22:58:19.065377Z"
    }
   },
   "outputs": [
    {
     "data": {
      "text/plain": [
       "[<function __main__.generate_strat_conditional.<locals>.strat_cond(score_p, score_d)>,\n",
       " <function __main__.generate_strat_conditional.<locals>.strat_cond(score_p, score_d)>,\n",
       " <function __main__.generate_strat_conditional.<locals>.strat_cond(score_p, score_d)>]"
      ]
     },
     "execution_count": 25,
     "metadata": {},
     "output_type": "execute_result"
    }
   ],
   "source": [
    "def gen_cond_strategies(strat_base, condition, actions):\n",
    "    def gen_strat_action(strat_base, condition, action):\n",
    "        strat = generate_strat_conditional(strat_base, [(condition, action)])\n",
    "        strat.name = repr(action)\n",
    "        return strat\n",
    "    \n",
    "    strats = [gen_strat_action(strat_base, condition, a) for a in actions]\n",
    "    return strats\n",
    "    \n",
    "\n",
    "\n",
    "\n",
    "strats = gen_cond_strategies(strat_simple, cond_12_2, [Action.HIT, Action.STAND, Action.DOUBLE])\n",
    "strats"
   ]
  },
  {
   "cell_type": "code",
   "execution_count": 26,
   "id": "acoustic-warrant",
   "metadata": {
    "ExecuteTime": {
     "end_time": "2021-07-07T22:58:19.075137Z",
     "start_time": "2021-07-07T22:58:19.071170Z"
    }
   },
   "outputs": [
    {
     "data": {
      "text/plain": [
       "[('<Action.HIT: 2>',\n",
       "  Hand(score=h22, cards=[5, 7, 12], doubled=False),\n",
       "  Hand(score=s18, cards=[2, 5, 1], doubled=False),\n",
       "  <HandOutcome.LOSE: -1>),\n",
       " ('<Action.STAND: 1>',\n",
       "  Hand(score=h12, cards=[5, 7], doubled=False),\n",
       "  Hand(score=s18, cards=[2, 5, 1], doubled=False),\n",
       "  <HandOutcome.LOSE: -1>),\n",
       " ('<Action.DOUBLE: 3>',\n",
       "  Hand(score=h14, cards=[5, 7, 2], doubled=True),\n",
       "  Hand(score=s18, cards=[2, 5, 1], doubled=False),\n",
       "  <HandOutcome.LOSE_DOUBLE: -2>)]"
      ]
     },
     "execution_count": 26,
     "metadata": {},
     "output_type": "execute_result"
    }
   ],
   "source": [
    "bj.complete_one_round(strats, hand_p, hand_d, bj.deal_card())"
   ]
  },
  {
   "cell_type": "code",
   "execution_count": 27,
   "id": "economic-greene",
   "metadata": {
    "ExecuteTime": {
     "end_time": "2021-07-07T22:58:19.963512Z",
     "start_time": "2021-07-07T22:58:19.076134Z"
    }
   },
   "outputs": [
    {
     "data": {
      "text/html": [
       "<div>\n",
       "<style scoped>\n",
       "    .dataframe tbody tr th:only-of-type {\n",
       "        vertical-align: middle;\n",
       "    }\n",
       "\n",
       "    .dataframe tbody tr th {\n",
       "        vertical-align: top;\n",
       "    }\n",
       "\n",
       "    .dataframe thead tr th {\n",
       "        text-align: left;\n",
       "    }\n",
       "\n",
       "    .dataframe thead tr:last-of-type th {\n",
       "        text-align: right;\n",
       "    }\n",
       "</style>\n",
       "<table border=\"1\" class=\"dataframe\">\n",
       "  <thead>\n",
       "    <tr>\n",
       "      <th></th>\n",
       "      <th colspan=\"5\" halign=\"left\">len</th>\n",
       "      <th>mean_outcome</th>\n",
       "    </tr>\n",
       "    <tr>\n",
       "      <th>outcome_name</th>\n",
       "      <th>LOSE</th>\n",
       "      <th>LOSE_DOUBLE</th>\n",
       "      <th>PUSH</th>\n",
       "      <th>WIN</th>\n",
       "      <th>WIN_DOUBLE</th>\n",
       "      <th></th>\n",
       "    </tr>\n",
       "    <tr>\n",
       "      <th>strategy</th>\n",
       "      <th></th>\n",
       "      <th></th>\n",
       "      <th></th>\n",
       "      <th></th>\n",
       "      <th></th>\n",
       "      <th></th>\n",
       "    </tr>\n",
       "  </thead>\n",
       "  <tbody>\n",
       "    <tr>\n",
       "      <th>&lt;Action.DOUBLE: 3&gt;</th>\n",
       "      <td>0</td>\n",
       "      <td>5950</td>\n",
       "      <td>444</td>\n",
       "      <td>0</td>\n",
       "      <td>3606</td>\n",
       "      <td>-0.4688</td>\n",
       "    </tr>\n",
       "    <tr>\n",
       "      <th>&lt;Action.HIT: 2&gt;</th>\n",
       "      <td>6063</td>\n",
       "      <td>0</td>\n",
       "      <td>632</td>\n",
       "      <td>3305</td>\n",
       "      <td>0</td>\n",
       "      <td>-0.2758</td>\n",
       "    </tr>\n",
       "    <tr>\n",
       "      <th>&lt;Action.STAND: 1&gt;</th>\n",
       "      <td>6312</td>\n",
       "      <td>0</td>\n",
       "      <td>0</td>\n",
       "      <td>3688</td>\n",
       "      <td>0</td>\n",
       "      <td>-0.2624</td>\n",
       "    </tr>\n",
       "  </tbody>\n",
       "</table>\n",
       "</div>"
      ],
      "text/plain": [
       "                     len                                   mean_outcome\n",
       "outcome_name        LOSE LOSE_DOUBLE PUSH   WIN WIN_DOUBLE             \n",
       "strategy                                                               \n",
       "<Action.DOUBLE: 3>     0        5950  444     0       3606      -0.4688\n",
       "<Action.HIT: 2>     6063           0  632  3305          0      -0.2758\n",
       "<Action.STAND: 1>   6312           0    0  3688          0      -0.2624"
      ]
     },
     "execution_count": 27,
     "metadata": {},
     "output_type": "execute_result"
    }
   ],
   "source": [
    "# TODO reduce duplication with run_n_sim_trials\n",
    "def run_n_sim_trials_from_state(strats, hand_p, hand_d, n):\n",
    "    sims = [generate_rows_from_round(bj.complete_one_round(strats, hand_p, hand_d, bj.deal_card())) for _ in range(n)]\n",
    "    results = pd.DataFrame([player for round in sims for player in round])\n",
    "    results['outcome_value'] = results['outcome'].apply(lambda x: x.value)\n",
    "    results['outcome_name'] = results['outcome'].apply(lambda x: str(x)[12:])\n",
    "    return results\n",
    "\n",
    "sims = run_n_sim_trials_from_state(strats, hand_p, hand_d, 10000)\n",
    "summarize_totals(sims)"
   ]
  },
  {
   "cell_type": "code",
   "execution_count": 28,
   "id": "institutional-grain",
   "metadata": {
    "ExecuteTime": {
     "end_time": "2021-07-07T22:58:19.966423Z",
     "start_time": "2021-07-07T22:58:19.964402Z"
    }
   },
   "outputs": [
    {
     "data": {
      "text/plain": [
       "(Hand(score=s12, cards=[1, 1], doubled=False),\n",
       " Hand(score=h02, cards=[2], doubled=False))"
      ]
     },
     "execution_count": 28,
     "metadata": {},
     "output_type": "execute_result"
    }
   ],
   "source": [
    "# Soft 12 vs 2\n",
    "hand_12s = make_hand([1, 1])\n",
    "\n",
    "hand_12s, hand_d"
   ]
  },
  {
   "cell_type": "code",
   "execution_count": 29,
   "id": "legal-uniform",
   "metadata": {
    "ExecuteTime": {
     "end_time": "2021-07-07T22:58:19.969798Z",
     "start_time": "2021-07-07T22:58:19.967173Z"
    }
   },
   "outputs": [
    {
     "data": {
      "text/plain": [
       "[<function __main__.generate_strat_conditional.<locals>.strat_cond(score_p, score_d)>,\n",
       " <function __main__.generate_strat_conditional.<locals>.strat_cond(score_p, score_d)>,\n",
       " <function __main__.generate_strat_conditional.<locals>.strat_cond(score_p, score_d)>]"
      ]
     },
     "execution_count": 29,
     "metadata": {},
     "output_type": "execute_result"
    }
   ],
   "source": [
    "def cond_12s_2(score_p, score_d):\n",
    "    return score_p == HandScore(12, True) and score_d.points == 2\n",
    "\n",
    "strats = gen_cond_strategies(strat_simple, cond_12s_2, [Action.HIT, Action.STAND, Action.DOUBLE])\n",
    "strats"
   ]
  },
  {
   "cell_type": "code",
   "execution_count": 30,
   "id": "british-logging",
   "metadata": {
    "ExecuteTime": {
     "end_time": "2021-07-07T22:58:21.188230Z",
     "start_time": "2021-07-07T22:58:19.970629Z"
    }
   },
   "outputs": [
    {
     "data": {
      "text/html": [
       "<div>\n",
       "<style scoped>\n",
       "    .dataframe tbody tr th:only-of-type {\n",
       "        vertical-align: middle;\n",
       "    }\n",
       "\n",
       "    .dataframe tbody tr th {\n",
       "        vertical-align: top;\n",
       "    }\n",
       "\n",
       "    .dataframe thead tr th {\n",
       "        text-align: left;\n",
       "    }\n",
       "\n",
       "    .dataframe thead tr:last-of-type th {\n",
       "        text-align: right;\n",
       "    }\n",
       "</style>\n",
       "<table border=\"1\" class=\"dataframe\">\n",
       "  <thead>\n",
       "    <tr>\n",
       "      <th></th>\n",
       "      <th colspan=\"5\" halign=\"left\">len</th>\n",
       "      <th>mean_outcome</th>\n",
       "    </tr>\n",
       "    <tr>\n",
       "      <th>outcome_name</th>\n",
       "      <th>LOSE</th>\n",
       "      <th>LOSE_DOUBLE</th>\n",
       "      <th>PUSH</th>\n",
       "      <th>WIN</th>\n",
       "      <th>WIN_DOUBLE</th>\n",
       "      <th></th>\n",
       "    </tr>\n",
       "    <tr>\n",
       "      <th>strategy</th>\n",
       "      <th></th>\n",
       "      <th></th>\n",
       "      <th></th>\n",
       "      <th></th>\n",
       "      <th></th>\n",
       "      <th></th>\n",
       "    </tr>\n",
       "  </thead>\n",
       "  <tbody>\n",
       "    <tr>\n",
       "      <th>&lt;Action.DOUBLE: 3&gt;</th>\n",
       "      <td>0</td>\n",
       "      <td>6335</td>\n",
       "      <td>0</td>\n",
       "      <td>0</td>\n",
       "      <td>3665</td>\n",
       "      <td>-0.5340</td>\n",
       "    </tr>\n",
       "    <tr>\n",
       "      <th>&lt;Action.HIT: 2&gt;</th>\n",
       "      <td>4817</td>\n",
       "      <td>428</td>\n",
       "      <td>746</td>\n",
       "      <td>3281</td>\n",
       "      <td>728</td>\n",
       "      <td>-0.0936</td>\n",
       "    </tr>\n",
       "    <tr>\n",
       "      <th>&lt;Action.STAND: 1&gt;</th>\n",
       "      <td>6335</td>\n",
       "      <td>0</td>\n",
       "      <td>0</td>\n",
       "      <td>3665</td>\n",
       "      <td>0</td>\n",
       "      <td>-0.2670</td>\n",
       "    </tr>\n",
       "    <tr>\n",
       "      <th>simple</th>\n",
       "      <td>4836</td>\n",
       "      <td>401</td>\n",
       "      <td>762</td>\n",
       "      <td>3290</td>\n",
       "      <td>711</td>\n",
       "      <td>-0.0926</td>\n",
       "    </tr>\n",
       "  </tbody>\n",
       "</table>\n",
       "</div>"
      ],
      "text/plain": [
       "                     len                                   mean_outcome\n",
       "outcome_name        LOSE LOSE_DOUBLE PUSH   WIN WIN_DOUBLE             \n",
       "strategy                                                               \n",
       "<Action.DOUBLE: 3>     0        6335    0     0       3665      -0.5340\n",
       "<Action.HIT: 2>     4817         428  746  3281        728      -0.0936\n",
       "<Action.STAND: 1>   6335           0    0  3665          0      -0.2670\n",
       "simple              4836         401  762  3290        711      -0.0926"
      ]
     },
     "execution_count": 30,
     "metadata": {},
     "output_type": "execute_result"
    }
   ],
   "source": [
    "sims = run_n_sim_trials_from_state(strats+[strat_simple], hand_12s, hand_d, 10000)\n",
    "summarize_totals(sims)"
   ]
  },
  {
   "cell_type": "code",
   "execution_count": 31,
   "id": "based-subscription",
   "metadata": {
    "ExecuteTime": {
     "end_time": "2021-07-07T22:58:21.898034Z",
     "start_time": "2021-07-07T22:58:21.189183Z"
    }
   },
   "outputs": [
    {
     "data": {
      "text/html": [
       "<div>\n",
       "<style scoped>\n",
       "    .dataframe tbody tr th:only-of-type {\n",
       "        vertical-align: middle;\n",
       "    }\n",
       "\n",
       "    .dataframe tbody tr th {\n",
       "        vertical-align: top;\n",
       "    }\n",
       "\n",
       "    .dataframe thead tr th {\n",
       "        text-align: left;\n",
       "    }\n",
       "\n",
       "    .dataframe thead tr:last-of-type th {\n",
       "        text-align: right;\n",
       "    }\n",
       "</style>\n",
       "<table border=\"1\" class=\"dataframe\">\n",
       "  <thead>\n",
       "    <tr>\n",
       "      <th></th>\n",
       "      <th colspan=\"3\" halign=\"left\">len</th>\n",
       "      <th>mean_outcome</th>\n",
       "    </tr>\n",
       "    <tr>\n",
       "      <th>outcome_name</th>\n",
       "      <th>LOSE</th>\n",
       "      <th>PUSH</th>\n",
       "      <th>WIN</th>\n",
       "      <th></th>\n",
       "    </tr>\n",
       "    <tr>\n",
       "      <th>strategy</th>\n",
       "      <th></th>\n",
       "      <th></th>\n",
       "      <th></th>\n",
       "      <th></th>\n",
       "    </tr>\n",
       "  </thead>\n",
       "  <tbody>\n",
       "    <tr>\n",
       "      <th>simple</th>\n",
       "      <td>6124</td>\n",
       "      <td>702</td>\n",
       "      <td>3174</td>\n",
       "      <td>-0.2950</td>\n",
       "    </tr>\n",
       "    <tr>\n",
       "      <th>strat_cond</th>\n",
       "      <td>6397</td>\n",
       "      <td>0</td>\n",
       "      <td>3603</td>\n",
       "      <td>-0.2794</td>\n",
       "    </tr>\n",
       "  </tbody>\n",
       "</table>\n",
       "</div>"
      ],
      "text/plain": [
       "               len            mean_outcome\n",
       "outcome_name  LOSE PUSH   WIN             \n",
       "strategy                                  \n",
       "simple        6124  702  3174      -0.2950\n",
       "strat_cond    6397    0  3603      -0.2794"
      ]
     },
     "execution_count": 31,
     "metadata": {},
     "output_type": "execute_result"
    }
   ],
   "source": [
    "summarize_totals(run_n_sim_trials_from_state([strat_simple, strat_cond], hand_p, hand_d, 10*1000))"
   ]
  },
  {
   "cell_type": "code",
   "execution_count": 32,
   "id": "vietnamese-spray",
   "metadata": {
    "ExecuteTime": {
     "end_time": "2021-07-07T22:58:22.989008Z",
     "start_time": "2021-07-07T22:58:21.898936Z"
    }
   },
   "outputs": [
    {
     "data": {
      "text/html": [
       "<div>\n",
       "<style scoped>\n",
       "    .dataframe tbody tr th:only-of-type {\n",
       "        vertical-align: middle;\n",
       "    }\n",
       "\n",
       "    .dataframe tbody tr th {\n",
       "        vertical-align: top;\n",
       "    }\n",
       "\n",
       "    .dataframe thead tr th {\n",
       "        text-align: left;\n",
       "    }\n",
       "\n",
       "    .dataframe thead tr:last-of-type th {\n",
       "        text-align: right;\n",
       "    }\n",
       "</style>\n",
       "<table border=\"1\" class=\"dataframe\">\n",
       "  <thead>\n",
       "    <tr>\n",
       "      <th></th>\n",
       "      <th colspan=\"5\" halign=\"left\">len</th>\n",
       "      <th>mean_outcome</th>\n",
       "    </tr>\n",
       "    <tr>\n",
       "      <th>outcome_name</th>\n",
       "      <th>LOSE</th>\n",
       "      <th>LOSE_DOUBLE</th>\n",
       "      <th>PUSH</th>\n",
       "      <th>WIN</th>\n",
       "      <th>WIN_DOUBLE</th>\n",
       "      <th></th>\n",
       "    </tr>\n",
       "    <tr>\n",
       "      <th>strategy</th>\n",
       "      <th></th>\n",
       "      <th></th>\n",
       "      <th></th>\n",
       "      <th></th>\n",
       "      <th></th>\n",
       "      <th></th>\n",
       "    </tr>\n",
       "  </thead>\n",
       "  <tbody>\n",
       "    <tr>\n",
       "      <th>&lt;Action.DOUBLE: 3&gt;</th>\n",
       "      <td>0</td>\n",
       "      <td>5790</td>\n",
       "      <td>0</td>\n",
       "      <td>0</td>\n",
       "      <td>4210</td>\n",
       "      <td>-0.3160</td>\n",
       "    </tr>\n",
       "    <tr>\n",
       "      <th>&lt;Action.HIT: 2&gt;</th>\n",
       "      <td>4550</td>\n",
       "      <td>327</td>\n",
       "      <td>326</td>\n",
       "      <td>4134</td>\n",
       "      <td>663</td>\n",
       "      <td>0.0256</td>\n",
       "    </tr>\n",
       "    <tr>\n",
       "      <th>&lt;Action.STAND: 1&gt;</th>\n",
       "      <td>5790</td>\n",
       "      <td>0</td>\n",
       "      <td>0</td>\n",
       "      <td>4210</td>\n",
       "      <td>0</td>\n",
       "      <td>-0.1580</td>\n",
       "    </tr>\n",
       "    <tr>\n",
       "      <th>simple</th>\n",
       "      <td>5790</td>\n",
       "      <td>0</td>\n",
       "      <td>0</td>\n",
       "      <td>4210</td>\n",
       "      <td>0</td>\n",
       "      <td>-0.1580</td>\n",
       "    </tr>\n",
       "  </tbody>\n",
       "</table>\n",
       "</div>"
      ],
      "text/plain": [
       "                     len                                   mean_outcome\n",
       "outcome_name        LOSE LOSE_DOUBLE PUSH   WIN WIN_DOUBLE             \n",
       "strategy                                                               \n",
       "<Action.DOUBLE: 3>     0        5790    0     0       4210      -0.3160\n",
       "<Action.HIT: 2>     4550         327  326  4134        663       0.0256\n",
       "<Action.STAND: 1>   5790           0    0  4210          0      -0.1580\n",
       "simple              5790           0    0  4210          0      -0.1580"
      ]
     },
     "execution_count": 32,
     "metadata": {},
     "output_type": "execute_result"
    }
   ],
   "source": [
    "# soft 13 vs 6\n",
    "def cond_13s_6(score_p, score_d):\n",
    "    return score_p == HandScore(13, True) and score_d.points == 6\n",
    "\n",
    "\n",
    "\n",
    "strats = gen_cond_strategies(strat_simple, cond_13s_6, [Action.HIT, Action.STAND, Action.DOUBLE])\n",
    "sims = run_n_sim_trials_from_state(strats+[strat_simple], bj.make_hand([1, 2]), bj.make_hand([6]), 10000)\n",
    "summarize_totals(sims)"
   ]
  },
  {
   "cell_type": "code",
   "execution_count": 33,
   "id": "liable-painting",
   "metadata": {
    "ExecuteTime": {
     "end_time": "2021-07-07T22:58:24.115701Z",
     "start_time": "2021-07-07T22:58:22.989915Z"
    }
   },
   "outputs": [
    {
     "data": {
      "text/html": [
       "<div>\n",
       "<style scoped>\n",
       "    .dataframe tbody tr th:only-of-type {\n",
       "        vertical-align: middle;\n",
       "    }\n",
       "\n",
       "    .dataframe tbody tr th {\n",
       "        vertical-align: top;\n",
       "    }\n",
       "\n",
       "    .dataframe thead tr th {\n",
       "        text-align: left;\n",
       "    }\n",
       "\n",
       "    .dataframe thead tr:last-of-type th {\n",
       "        text-align: right;\n",
       "    }\n",
       "</style>\n",
       "<table border=\"1\" class=\"dataframe\">\n",
       "  <thead>\n",
       "    <tr>\n",
       "      <th></th>\n",
       "      <th colspan=\"5\" halign=\"left\">len</th>\n",
       "      <th>mean_outcome</th>\n",
       "    </tr>\n",
       "    <tr>\n",
       "      <th>outcome_name</th>\n",
       "      <th>LOSE</th>\n",
       "      <th>LOSE_DOUBLE</th>\n",
       "      <th>PUSH</th>\n",
       "      <th>WIN</th>\n",
       "      <th>WIN_DOUBLE</th>\n",
       "      <th></th>\n",
       "    </tr>\n",
       "    <tr>\n",
       "      <th>strategy</th>\n",
       "      <th></th>\n",
       "      <th></th>\n",
       "      <th></th>\n",
       "      <th></th>\n",
       "      <th></th>\n",
       "      <th></th>\n",
       "    </tr>\n",
       "  </thead>\n",
       "  <tbody>\n",
       "    <tr>\n",
       "      <th>&lt;Action.DOUBLE: 3&gt;</th>\n",
       "      <td>0</td>\n",
       "      <td>3281</td>\n",
       "      <td>667</td>\n",
       "      <td>0</td>\n",
       "      <td>6052</td>\n",
       "      <td>0.5542</td>\n",
       "    </tr>\n",
       "    <tr>\n",
       "      <th>&lt;Action.HIT: 2&gt;</th>\n",
       "      <td>3273</td>\n",
       "      <td>0</td>\n",
       "      <td>730</td>\n",
       "      <td>5997</td>\n",
       "      <td>0</td>\n",
       "      <td>0.2724</td>\n",
       "    </tr>\n",
       "    <tr>\n",
       "      <th>&lt;Action.STAND: 1&gt;</th>\n",
       "      <td>5883</td>\n",
       "      <td>0</td>\n",
       "      <td>0</td>\n",
       "      <td>4117</td>\n",
       "      <td>0</td>\n",
       "      <td>-0.1766</td>\n",
       "    </tr>\n",
       "    <tr>\n",
       "      <th>simple</th>\n",
       "      <td>3360</td>\n",
       "      <td>0</td>\n",
       "      <td>704</td>\n",
       "      <td>5936</td>\n",
       "      <td>0</td>\n",
       "      <td>0.2576</td>\n",
       "    </tr>\n",
       "  </tbody>\n",
       "</table>\n",
       "</div>"
      ],
      "text/plain": [
       "                     len                                   mean_outcome\n",
       "outcome_name        LOSE LOSE_DOUBLE PUSH   WIN WIN_DOUBLE             \n",
       "strategy                                                               \n",
       "<Action.DOUBLE: 3>     0        3281  667     0       6052       0.5542\n",
       "<Action.HIT: 2>     3273           0  730  5997          0       0.2724\n",
       "<Action.STAND: 1>   5883           0    0  4117          0      -0.1766\n",
       "simple              3360           0  704  5936          0       0.2576"
      ]
     },
     "execution_count": 33,
     "metadata": {},
     "output_type": "execute_result"
    }
   ],
   "source": [
    "# 10 v 6\n",
    "def cond_10_6(score_p, score_d):\n",
    "    return score_p.points == 10 and score_d.points == 6\n",
    "\n",
    "strats = gen_cond_strategies(strat_simple, cond_10_6, [Action.HIT, Action.STAND, Action.DOUBLE])\n",
    "sims = run_n_sim_trials_from_state(strats+[strat_simple], make_hand([5, 5]), make_hand([6]), 10000)\n",
    "summarize_totals(sims)"
   ]
  },
  {
   "cell_type": "code",
   "execution_count": 34,
   "id": "serious-briefs",
   "metadata": {
    "ExecuteTime": {
     "end_time": "2021-07-07T22:58:24.985535Z",
     "start_time": "2021-07-07T22:58:24.116567Z"
    }
   },
   "outputs": [
    {
     "data": {
      "text/plain": [
       "(<function __main__.test_cond.<locals>.cond(p, d)>,\n",
       "                      len                                   mean_outcome\n",
       " outcome_name        LOSE LOSE_DOUBLE PUSH   WIN WIN_DOUBLE             \n",
       " strategy                                                               \n",
       " <Action.DOUBLE: 3>     0        3256  680     0       6064       0.5616\n",
       " <Action.HIT: 2>     3206           0  658  6136          0       0.2930\n",
       " <Action.STAND: 1>   5811           0    0  4189          0      -0.1622)"
      ]
     },
     "execution_count": 34,
     "metadata": {},
     "output_type": "execute_result"
    }
   ],
   "source": [
    "ACTIONS = [Action.HIT, Action.STAND, Action.DOUBLE]\n",
    "\n",
    "def test_cond(score_p, score_d, n):\n",
    "    def cond(p, d):\n",
    "        return p == score_p and d == score_d\n",
    "    strats = gen_cond_strategies(strat_simple, cond, ACTIONS)\n",
    "    hand = Hand(score_p) # This will only work for 10 through 18 \n",
    "    sims = run_n_sim_trials_from_state(strats, hand, make_hand([score_d.points]), n)\n",
    "    return cond, summarize_totals(sims)\n",
    "\n",
    "test_cond(HandScore(10), HandScore(6), 10000)"
   ]
  },
  {
   "cell_type": "code",
   "execution_count": 35,
   "id": "determined-birthday",
   "metadata": {
    "ExecuteTime": {
     "end_time": "2021-07-07T22:58:25.016290Z",
     "start_time": "2021-07-07T22:58:24.986403Z"
    }
   },
   "outputs": [
    {
     "data": {
      "text/plain": [
       "(<function __main__.test_cond.<locals>.cond(p, d)>,\n",
       "                     len                                  mean_outcome\n",
       " outcome_name       LOSE LOSE_DOUBLE PUSH  WIN WIN_DOUBLE             \n",
       " strategy                                                             \n",
       " <Action.DOUBLE: 3>    0         152    7    0         41       -1.110\n",
       " <Action.HIT: 2>     160           0    5   35          0       -0.625\n",
       " <Action.STAND: 1>    61           0   25  114          0        0.265)"
      ]
     },
     "execution_count": 35,
     "metadata": {},
     "output_type": "execute_result"
    }
   ],
   "source": [
    "test_cond(HandScore(18), HandScore(6), 200)"
   ]
  },
  {
   "cell_type": "code",
   "execution_count": 36,
   "id": "young-swift",
   "metadata": {
    "ExecuteTime": {
     "end_time": "2021-07-07T22:58:25.047900Z",
     "start_time": "2021-07-07T22:58:25.017372Z"
    }
   },
   "outputs": [
    {
     "data": {
      "text/plain": [
       "(<function __main__.test_cond.<locals>.cond(p, d)>,\n",
       "                     len                                  mean_outcome\n",
       " outcome_name       LOSE LOSE_DOUBLE PUSH  WIN WIN_DOUBLE             \n",
       " strategy                                                             \n",
       " <Action.DOUBLE: 3>    0          72   10    0        118         0.46\n",
       " <Action.HIT: 2>      51           0   20  129          0         0.39\n",
       " <Action.STAND: 1>     0           0   20  180          0         0.90)"
      ]
     },
     "execution_count": 36,
     "metadata": {},
     "output_type": "execute_result"
    }
   ],
   "source": [
    "test_cond(HandScore(21, True), HandScore(6), 200)"
   ]
  },
  {
   "cell_type": "code",
   "execution_count": 38,
   "id": "manual-anime",
   "metadata": {
    "ExecuteTime": {
     "end_time": "2021-07-07T22:58:25.087922Z",
     "start_time": "2021-07-07T22:58:25.052236Z"
    }
   },
   "outputs": [
    {
     "data": {
      "text/plain": [
       "(<function __main__.test_cond.<locals>.cond(p, d)>,\n",
       " {'<Action.DOUBLE: 3>': 0.6,\n",
       "  '<Action.HIT: 2>': 0.245,\n",
       "  '<Action.STAND: 1>': -0.23,\n",
       "  'score_p': 'h10',\n",
       "  'score_d': 'h06',\n",
       "  'winning_act': <Action.DOUBLE: 3>,\n",
       "  'winning_act_outcome': 0.6})"
      ]
     },
     "execution_count": 38,
     "metadata": {},
     "output_type": "execute_result"
    }
   ],
   "source": [
    "def find_winning_action(score_p, score_d, n):\n",
    "    cond, summary = test_cond(score_p, score_d, n)\n",
    "    outcomes = summary['mean_outcome']\n",
    "    # Find the winning strategy\n",
    "    winner = outcomes[outcomes==outcomes.max()].index[0]\n",
    "    winning_act = [a for a in ACTIONS if repr(a)==winner][0]\n",
    "\n",
    "    # Convert results to a dict\n",
    "    run = outcomes.to_dict()\n",
    "    run['score_p'] = repr(score_p)\n",
    "    run['score_d'] = repr(score_d)\n",
    "    run['winning_act'] = winning_act\n",
    "    run['winning_act_outcome'] = outcomes.max()\n",
    "\n",
    "    return (cond, run)\n",
    "\n",
    "find_winning_action(HandScore(10), HandScore(6), 200)"
   ]
  },
  {
   "cell_type": "code",
   "execution_count": 39,
   "id": "behind-seattle",
   "metadata": {
    "ExecuteTime": {
     "end_time": "2021-07-07T22:58:25.698784Z",
     "start_time": "2021-07-07T22:58:25.088986Z"
    }
   },
   "outputs": [
    {
     "data": {
      "text/html": [
       "<div>\n",
       "<style scoped>\n",
       "    .dataframe tbody tr th:only-of-type {\n",
       "        vertical-align: middle;\n",
       "    }\n",
       "\n",
       "    .dataframe tbody tr th {\n",
       "        vertical-align: top;\n",
       "    }\n",
       "\n",
       "    .dataframe thead th {\n",
       "        text-align: right;\n",
       "    }\n",
       "</style>\n",
       "<table border=\"1\" class=\"dataframe\">\n",
       "  <thead>\n",
       "    <tr style=\"text-align: right;\">\n",
       "      <th></th>\n",
       "      <th></th>\n",
       "      <th>&lt;Action.DOUBLE: 3&gt;</th>\n",
       "      <th>&lt;Action.HIT: 2&gt;</th>\n",
       "      <th>&lt;Action.STAND: 1&gt;</th>\n",
       "      <th>winning_act</th>\n",
       "      <th>winning_act_outcome</th>\n",
       "    </tr>\n",
       "    <tr>\n",
       "      <th>score_p</th>\n",
       "      <th>score_d</th>\n",
       "      <th></th>\n",
       "      <th></th>\n",
       "      <th></th>\n",
       "      <th></th>\n",
       "      <th></th>\n",
       "    </tr>\n",
       "  </thead>\n",
       "  <tbody>\n",
       "    <tr>\n",
       "      <th rowspan=\"2\" valign=\"top\">h00</th>\n",
       "      <th>s11</th>\n",
       "      <td>0.05</td>\n",
       "      <td>-0.20</td>\n",
       "      <td>-1.0</td>\n",
       "      <td>Action.DOUBLE</td>\n",
       "      <td>0.05</td>\n",
       "    </tr>\n",
       "    <tr>\n",
       "      <th>h02</th>\n",
       "      <td>-0.80</td>\n",
       "      <td>0.30</td>\n",
       "      <td>-0.4</td>\n",
       "      <td>Action.HIT</td>\n",
       "      <td>0.30</td>\n",
       "    </tr>\n",
       "    <tr>\n",
       "      <th rowspan=\"2\" valign=\"top\">h01</th>\n",
       "      <th>s11</th>\n",
       "      <td>-0.20</td>\n",
       "      <td>0.10</td>\n",
       "      <td>0.2</td>\n",
       "      <td>Action.STAND</td>\n",
       "      <td>0.20</td>\n",
       "    </tr>\n",
       "    <tr>\n",
       "      <th>h02</th>\n",
       "      <td>-0.40</td>\n",
       "      <td>0.25</td>\n",
       "      <td>-0.2</td>\n",
       "      <td>Action.HIT</td>\n",
       "      <td>0.25</td>\n",
       "    </tr>\n",
       "    <tr>\n",
       "      <th>h02</th>\n",
       "      <th>s11</th>\n",
       "      <td>0.25</td>\n",
       "      <td>0.10</td>\n",
       "      <td>-0.4</td>\n",
       "      <td>Action.DOUBLE</td>\n",
       "      <td>0.25</td>\n",
       "    </tr>\n",
       "    <tr>\n",
       "      <th>...</th>\n",
       "      <th>...</th>\n",
       "      <td>...</td>\n",
       "      <td>...</td>\n",
       "      <td>...</td>\n",
       "      <td>...</td>\n",
       "      <td>...</td>\n",
       "    </tr>\n",
       "    <tr>\n",
       "      <th>s19</th>\n",
       "      <th>h02</th>\n",
       "      <td>0.00</td>\n",
       "      <td>-0.15</td>\n",
       "      <td>0.2</td>\n",
       "      <td>Action.STAND</td>\n",
       "      <td>0.20</td>\n",
       "    </tr>\n",
       "    <tr>\n",
       "      <th rowspan=\"2\" valign=\"top\">s20</th>\n",
       "      <th>s11</th>\n",
       "      <td>0.60</td>\n",
       "      <td>0.60</td>\n",
       "      <td>0.6</td>\n",
       "      <td>Action.DOUBLE</td>\n",
       "      <td>0.60</td>\n",
       "    </tr>\n",
       "    <tr>\n",
       "      <th>h02</th>\n",
       "      <td>0.40</td>\n",
       "      <td>0.00</td>\n",
       "      <td>0.6</td>\n",
       "      <td>Action.STAND</td>\n",
       "      <td>0.60</td>\n",
       "    </tr>\n",
       "    <tr>\n",
       "      <th rowspan=\"2\" valign=\"top\">s21</th>\n",
       "      <th>s11</th>\n",
       "      <td>0.30</td>\n",
       "      <td>0.30</td>\n",
       "      <td>0.3</td>\n",
       "      <td>Action.DOUBLE</td>\n",
       "      <td>0.30</td>\n",
       "    </tr>\n",
       "    <tr>\n",
       "      <th>h02</th>\n",
       "      <td>-1.20</td>\n",
       "      <td>0.30</td>\n",
       "      <td>0.8</td>\n",
       "      <td>Action.STAND</td>\n",
       "      <td>0.80</td>\n",
       "    </tr>\n",
       "  </tbody>\n",
       "</table>\n",
       "<p>68 rows × 5 columns</p>\n",
       "</div>"
      ],
      "text/plain": [
       "                 <Action.DOUBLE: 3>  <Action.HIT: 2>  <Action.STAND: 1>  \\\n",
       "score_p score_d                                                           \n",
       "h00     s11                    0.05            -0.20               -1.0   \n",
       "        h02                   -0.80             0.30               -0.4   \n",
       "h01     s11                   -0.20             0.10                0.2   \n",
       "        h02                   -0.40             0.25               -0.2   \n",
       "h02     s11                    0.25             0.10               -0.4   \n",
       "...                             ...              ...                ...   \n",
       "s19     h02                    0.00            -0.15                0.2   \n",
       "s20     s11                    0.60             0.60                0.6   \n",
       "        h02                    0.40             0.00                0.6   \n",
       "s21     s11                    0.30             0.30                0.3   \n",
       "        h02                   -1.20             0.30                0.8   \n",
       "\n",
       "                   winning_act  winning_act_outcome  \n",
       "score_p score_d                                      \n",
       "h00     s11      Action.DOUBLE                 0.05  \n",
       "        h02         Action.HIT                 0.30  \n",
       "h01     s11       Action.STAND                 0.20  \n",
       "        h02         Action.HIT                 0.25  \n",
       "h02     s11      Action.DOUBLE                 0.25  \n",
       "...                        ...                  ...  \n",
       "s19     h02       Action.STAND                 0.20  \n",
       "s20     s11      Action.DOUBLE                 0.60  \n",
       "        h02       Action.STAND                 0.60  \n",
       "s21     s11      Action.DOUBLE                 0.30  \n",
       "        h02       Action.STAND                 0.80  \n",
       "\n",
       "[68 rows x 5 columns]"
      ]
     },
     "execution_count": 39,
     "metadata": {},
     "output_type": "execute_result"
    }
   ],
   "source": [
    "conds = [find_winning_action(p, make_hand([d]).score, 10) for p in all_scores for d in range(1, 3)]\n",
    "pd.DataFrame([data for _, data in conds]).set_index(['score_p', 'score_d'])"
   ]
  },
  {
   "cell_type": "code",
   "execution_count": null,
   "id": "worth-snapshot",
   "metadata": {},
   "outputs": [],
   "source": []
  },
  {
   "cell_type": "code",
   "execution_count": 40,
   "id": "formal-freeware",
   "metadata": {
    "ExecuteTime": {
     "end_time": "2021-07-07T22:58:34.087552Z",
     "start_time": "2021-07-07T22:58:25.699692Z"
    }
   },
   "outputs": [
    {
     "data": {
      "text/plain": [
       "[(<function __main__.test_cond.<locals>.cond(p, d)>,\n",
       "  {'<Action.DOUBLE: 3>': -0.0415,\n",
       "   '<Action.HIT: 2>': -0.0055,\n",
       "   '<Action.STAND: 1>': -0.015,\n",
       "   'score_p': 'h10',\n",
       "   'score_d': 's11',\n",
       "   'winning_act': <Action.HIT: 2>,\n",
       "   'winning_act_outcome': -0.0055}),\n",
       " (<function __main__.test_cond.<locals>.cond(p, d)>,\n",
       "  {'<Action.DOUBLE: 3>': 0.336,\n",
       "   '<Action.HIT: 2>': 0.156,\n",
       "   '<Action.STAND: 1>': -0.292,\n",
       "   'score_p': 'h10',\n",
       "   'score_d': 'h02',\n",
       "   'winning_act': <Action.DOUBLE: 3>,\n",
       "   'winning_act_outcome': 0.336}),\n",
       " (<function __main__.test_cond.<locals>.cond(p, d)>,\n",
       "  {'<Action.DOUBLE: 3>': 0.462,\n",
       "   '<Action.HIT: 2>': 0.216,\n",
       "   '<Action.STAND: 1>': -0.222,\n",
       "   'score_p': 'h10',\n",
       "   'score_d': 'h03',\n",
       "   'winning_act': <Action.DOUBLE: 3>,\n",
       "   'winning_act_outcome': 0.462}),\n",
       " (<function __main__.test_cond.<locals>.cond(p, d)>,\n",
       "  {'<Action.DOUBLE: 3>': 0.422,\n",
       "   '<Action.HIT: 2>': 0.195,\n",
       "   '<Action.STAND: 1>': -0.23,\n",
       "   'score_p': 'h10',\n",
       "   'score_d': 'h04',\n",
       "   'winning_act': <Action.DOUBLE: 3>,\n",
       "   'winning_act_outcome': 0.422}),\n",
       " (<function __main__.test_cond.<locals>.cond(p, d)>,\n",
       "  {'<Action.DOUBLE: 3>': 0.41,\n",
       "   '<Action.HIT: 2>': 0.281,\n",
       "   '<Action.STAND: 1>': -0.174,\n",
       "   'score_p': 'h10',\n",
       "   'score_d': 'h05',\n",
       "   'winning_act': <Action.DOUBLE: 3>,\n",
       "   'winning_act_outcome': 0.41}),\n",
       " (<function __main__.test_cond.<locals>.cond(p, d)>,\n",
       "  {'<Action.DOUBLE: 3>': 0.562,\n",
       "   '<Action.HIT: 2>': 0.296,\n",
       "   '<Action.STAND: 1>': -0.118,\n",
       "   'score_p': 'h10',\n",
       "   'score_d': 'h06',\n",
       "   'winning_act': <Action.DOUBLE: 3>,\n",
       "   'winning_act_outcome': 0.562}),\n",
       " (<function __main__.test_cond.<locals>.cond(p, d)>,\n",
       "  {'<Action.DOUBLE: 3>': 0.424,\n",
       "   '<Action.HIT: 2>': 0.31,\n",
       "   '<Action.STAND: 1>': -0.41,\n",
       "   'score_p': 'h10',\n",
       "   'score_d': 'h07',\n",
       "   'winning_act': <Action.DOUBLE: 3>,\n",
       "   'winning_act_outcome': 0.424}),\n",
       " (<function __main__.test_cond.<locals>.cond(p, d)>,\n",
       "  {'<Action.DOUBLE: 3>': 0.372,\n",
       "   '<Action.HIT: 2>': 0.25,\n",
       "   '<Action.STAND: 1>': -0.492,\n",
       "   'score_p': 'h10',\n",
       "   'score_d': 'h08',\n",
       "   'winning_act': <Action.DOUBLE: 3>,\n",
       "   'winning_act_outcome': 0.372}),\n",
       " (<function __main__.test_cond.<locals>.cond(p, d)>,\n",
       "  {'<Action.DOUBLE: 3>': 0.234,\n",
       "   '<Action.HIT: 2>': 0.1895,\n",
       "   '<Action.STAND: 1>': -0.552,\n",
       "   'score_p': 'h10',\n",
       "   'score_d': 'h09',\n",
       "   'winning_act': <Action.DOUBLE: 3>,\n",
       "   'winning_act_outcome': 0.234}),\n",
       " (<function __main__.test_cond.<locals>.cond(p, d)>,\n",
       "  {'<Action.DOUBLE: 3>': -0.084,\n",
       "   '<Action.HIT: 2>': -0.014,\n",
       "   '<Action.STAND: 1>': -0.55,\n",
       "   'score_p': 'h10',\n",
       "   'score_d': 'h10',\n",
       "   'winning_act': <Action.HIT: 2>,\n",
       "   'winning_act_outcome': -0.014}),\n",
       " (<function __main__.test_cond.<locals>.cond(p, d)>,\n",
       "  {'<Action.DOUBLE: 3>': 0.02,\n",
       "   '<Action.HIT: 2>': 0.07,\n",
       "   '<Action.STAND: 1>': -0.052,\n",
       "   'score_p': 'h11',\n",
       "   'score_d': 's11',\n",
       "   'winning_act': <Action.HIT: 2>,\n",
       "   'winning_act_outcome': 0.07}),\n",
       " (<function __main__.test_cond.<locals>.cond(p, d)>,\n",
       "  {'<Action.DOUBLE: 3>': 0.58,\n",
       "   '<Action.HIT: 2>': 0.1685,\n",
       "   '<Action.STAND: 1>': -0.26,\n",
       "   'score_p': 'h11',\n",
       "   'score_d': 'h02',\n",
       "   'winning_act': <Action.DOUBLE: 3>,\n",
       "   'winning_act_outcome': 0.58}),\n",
       " (<function __main__.test_cond.<locals>.cond(p, d)>,\n",
       "  {'<Action.DOUBLE: 3>': 0.502,\n",
       "   '<Action.HIT: 2>': 0.277,\n",
       "   '<Action.STAND: 1>': -0.232,\n",
       "   'score_p': 'h11',\n",
       "   'score_d': 'h03',\n",
       "   'winning_act': <Action.DOUBLE: 3>,\n",
       "   'winning_act_outcome': 0.502}),\n",
       " (<function __main__.test_cond.<locals>.cond(p, d)>,\n",
       "  {'<Action.DOUBLE: 3>': 0.658,\n",
       "   '<Action.HIT: 2>': 0.305,\n",
       "   '<Action.STAND: 1>': -0.17,\n",
       "   'score_p': 'h11',\n",
       "   'score_d': 'h04',\n",
       "   'winning_act': <Action.DOUBLE: 3>,\n",
       "   'winning_act_outcome': 0.658}),\n",
       " (<function __main__.test_cond.<locals>.cond(p, d)>,\n",
       "  {'<Action.DOUBLE: 3>': 0.642,\n",
       "   '<Action.HIT: 2>': 0.252,\n",
       "   '<Action.STAND: 1>': -0.176,\n",
       "   'score_p': 'h11',\n",
       "   'score_d': 'h05',\n",
       "   'winning_act': <Action.DOUBLE: 3>,\n",
       "   'winning_act_outcome': 0.642}),\n",
       " (<function __main__.test_cond.<locals>.cond(p, d)>,\n",
       "  {'<Action.DOUBLE: 3>': 0.714,\n",
       "   '<Action.HIT: 2>': 0.376,\n",
       "   '<Action.STAND: 1>': -0.122,\n",
       "   'score_p': 'h11',\n",
       "   'score_d': 'h06',\n",
       "   'winning_act': <Action.DOUBLE: 3>,\n",
       "   'winning_act_outcome': 0.714}),\n",
       " (<function __main__.test_cond.<locals>.cond(p, d)>,\n",
       "  {'<Action.DOUBLE: 3>': 0.546,\n",
       "   '<Action.HIT: 2>': 0.346,\n",
       "   '<Action.STAND: 1>': -0.524,\n",
       "   'score_p': 'h11',\n",
       "   'score_d': 'h07',\n",
       "   'winning_act': <Action.DOUBLE: 3>,\n",
       "   'winning_act_outcome': 0.546}),\n",
       " (<function __main__.test_cond.<locals>.cond(p, d)>,\n",
       "  {'<Action.DOUBLE: 3>': 0.27,\n",
       "   '<Action.HIT: 2>': 0.2585,\n",
       "   '<Action.STAND: 1>': -0.526,\n",
       "   'score_p': 'h11',\n",
       "   'score_d': 'h08',\n",
       "   'winning_act': <Action.DOUBLE: 3>,\n",
       "   'winning_act_outcome': 0.27}),\n",
       " (<function __main__.test_cond.<locals>.cond(p, d)>,\n",
       "  {'<Action.DOUBLE: 3>': 0.25,\n",
       "   '<Action.HIT: 2>': 0.176,\n",
       "   '<Action.STAND: 1>': -0.586,\n",
       "   'score_p': 'h11',\n",
       "   'score_d': 'h09',\n",
       "   'winning_act': <Action.DOUBLE: 3>,\n",
       "   'winning_act_outcome': 0.25}),\n",
       " (<function __main__.test_cond.<locals>.cond(p, d)>,\n",
       "  {'<Action.DOUBLE: 3>': -0.016,\n",
       "   '<Action.HIT: 2>': -0.0085,\n",
       "   '<Action.STAND: 1>': -0.584,\n",
       "   'score_p': 'h11',\n",
       "   'score_d': 'h10',\n",
       "   'winning_act': <Action.HIT: 2>,\n",
       "   'winning_act_outcome': -0.0085}),\n",
       " (<function __main__.test_cond.<locals>.cond(p, d)>,\n",
       "  {'<Action.DOUBLE: 3>': -0.3725,\n",
       "   '<Action.HIT: 2>': -0.438,\n",
       "   '<Action.STAND: 1>': -0.3965,\n",
       "   'score_p': 'h12',\n",
       "   'score_d': 's11',\n",
       "   'winning_act': <Action.DOUBLE: 3>,\n",
       "   'winning_act_outcome': -0.3725}),\n",
       " (<function __main__.test_cond.<locals>.cond(p, d)>,\n",
       "  {'<Action.DOUBLE: 3>': -0.482,\n",
       "   '<Action.HIT: 2>': -0.2375,\n",
       "   '<Action.STAND: 1>': -0.258,\n",
       "   'score_p': 'h12',\n",
       "   'score_d': 'h02',\n",
       "   'winning_act': <Action.HIT: 2>,\n",
       "   'winning_act_outcome': -0.2375}),\n",
       " (<function __main__.test_cond.<locals>.cond(p, d)>,\n",
       "  {'<Action.DOUBLE: 3>': -0.436,\n",
       "   '<Action.HIT: 2>': -0.29,\n",
       "   '<Action.STAND: 1>': -0.242,\n",
       "   'score_p': 'h12',\n",
       "   'score_d': 'h03',\n",
       "   'winning_act': <Action.STAND: 1>,\n",
       "   'winning_act_outcome': -0.242}),\n",
       " (<function __main__.test_cond.<locals>.cond(p, d)>,\n",
       "  {'<Action.DOUBLE: 3>': -0.376,\n",
       "   '<Action.HIT: 2>': -0.176,\n",
       "   '<Action.STAND: 1>': -0.164,\n",
       "   'score_p': 'h12',\n",
       "   'score_d': 'h04',\n",
       "   'winning_act': <Action.STAND: 1>,\n",
       "   'winning_act_outcome': -0.164}),\n",
       " (<function __main__.test_cond.<locals>.cond(p, d)>,\n",
       "  {'<Action.DOUBLE: 3>': -0.344,\n",
       "   '<Action.HIT: 2>': -0.174,\n",
       "   '<Action.STAND: 1>': -0.12,\n",
       "   'score_p': 'h12',\n",
       "   'score_d': 'h05',\n",
       "   'winning_act': <Action.STAND: 1>,\n",
       "   'winning_act_outcome': -0.12}),\n",
       " (<function __main__.test_cond.<locals>.cond(p, d)>,\n",
       "  {'<Action.DOUBLE: 3>': -0.368,\n",
       "   '<Action.HIT: 2>': -0.215,\n",
       "   '<Action.STAND: 1>': -0.196,\n",
       "   'score_p': 'h12',\n",
       "   'score_d': 'h06',\n",
       "   'winning_act': <Action.STAND: 1>,\n",
       "   'winning_act_outcome': -0.196}),\n",
       " (<function __main__.test_cond.<locals>.cond(p, d)>,\n",
       "  {'<Action.DOUBLE: 3>': -0.438,\n",
       "   '<Action.HIT: 2>': -0.1735,\n",
       "   '<Action.STAND: 1>': -0.448,\n",
       "   'score_p': 'h12',\n",
       "   'score_d': 'h07',\n",
       "   'winning_act': <Action.HIT: 2>,\n",
       "   'winning_act_outcome': -0.1735}),\n",
       " (<function __main__.test_cond.<locals>.cond(p, d)>,\n",
       "  {'<Action.DOUBLE: 3>': -0.524,\n",
       "   '<Action.HIT: 2>': -0.2185,\n",
       "   '<Action.STAND: 1>': -0.462,\n",
       "   'score_p': 'h12',\n",
       "   'score_d': 'h08',\n",
       "   'winning_act': <Action.HIT: 2>,\n",
       "   'winning_act_outcome': -0.2185}),\n",
       " (<function __main__.test_cond.<locals>.cond(p, d)>,\n",
       "  {'<Action.DOUBLE: 3>': -0.706,\n",
       "   '<Action.HIT: 2>': -0.3025,\n",
       "   '<Action.STAND: 1>': -0.504,\n",
       "   'score_p': 'h12',\n",
       "   'score_d': 'h09',\n",
       "   'winning_act': <Action.HIT: 2>,\n",
       "   'winning_act_outcome': -0.3025}),\n",
       " (<function __main__.test_cond.<locals>.cond(p, d)>,\n",
       "  {'<Action.DOUBLE: 3>': -0.874,\n",
       "   '<Action.HIT: 2>': -0.427,\n",
       "   '<Action.STAND: 1>': -0.558,\n",
       "   'score_p': 'h12',\n",
       "   'score_d': 'h10',\n",
       "   'winning_act': <Action.HIT: 2>,\n",
       "   'winning_act_outcome': -0.427}),\n",
       " (<function __main__.test_cond.<locals>.cond(p, d)>,\n",
       "  {'<Action.DOUBLE: 3>': -0.4705,\n",
       "   '<Action.HIT: 2>': -0.477,\n",
       "   '<Action.STAND: 1>': -0.4855,\n",
       "   'score_p': 'h13',\n",
       "   'score_d': 's11',\n",
       "   'winning_act': <Action.DOUBLE: 3>,\n",
       "   'winning_act_outcome': -0.4705}),\n",
       " (<function __main__.test_cond.<locals>.cond(p, d)>,\n",
       "  {'<Action.DOUBLE: 3>': -0.556,\n",
       "   '<Action.HIT: 2>': -0.279,\n",
       "   '<Action.STAND: 1>': -0.264,\n",
       "   'score_p': 'h13',\n",
       "   'score_d': 'h02',\n",
       "   'winning_act': <Action.STAND: 1>,\n",
       "   'winning_act_outcome': -0.264}),\n",
       " (<function __main__.test_cond.<locals>.cond(p, d)>,\n",
       "  {'<Action.DOUBLE: 3>': -0.464,\n",
       "   '<Action.HIT: 2>': -0.306,\n",
       "   '<Action.STAND: 1>': -0.21,\n",
       "   'score_p': 'h13',\n",
       "   'score_d': 'h03',\n",
       "   'winning_act': <Action.STAND: 1>,\n",
       "   'winning_act_outcome': -0.21}),\n",
       " (<function __main__.test_cond.<locals>.cond(p, d)>,\n",
       "  {'<Action.DOUBLE: 3>': -0.492,\n",
       "   '<Action.HIT: 2>': -0.311,\n",
       "   '<Action.STAND: 1>': -0.154,\n",
       "   'score_p': 'h13',\n",
       "   'score_d': 'h04',\n",
       "   'winning_act': <Action.STAND: 1>,\n",
       "   'winning_act_outcome': -0.154}),\n",
       " (<function __main__.test_cond.<locals>.cond(p, d)>,\n",
       "  {'<Action.DOUBLE: 3>': -0.572,\n",
       "   '<Action.HIT: 2>': -0.222,\n",
       "   '<Action.STAND: 1>': -0.176,\n",
       "   'score_p': 'h13',\n",
       "   'score_d': 'h05',\n",
       "   'winning_act': <Action.STAND: 1>,\n",
       "   'winning_act_outcome': -0.176}),\n",
       " (<function __main__.test_cond.<locals>.cond(p, d)>,\n",
       "  {'<Action.DOUBLE: 3>': -0.57,\n",
       "   '<Action.HIT: 2>': -0.242,\n",
       "   '<Action.STAND: 1>': -0.184,\n",
       "   'score_p': 'h13',\n",
       "   'score_d': 'h06',\n",
       "   'winning_act': <Action.STAND: 1>,\n",
       "   'winning_act_outcome': -0.184}),\n",
       " (<function __main__.test_cond.<locals>.cond(p, d)>,\n",
       "  {'<Action.DOUBLE: 3>': -0.47,\n",
       "   '<Action.HIT: 2>': -0.225,\n",
       "   '<Action.STAND: 1>': -0.49,\n",
       "   'score_p': 'h13',\n",
       "   'score_d': 'h07',\n",
       "   'winning_act': <Action.HIT: 2>,\n",
       "   'winning_act_outcome': -0.225}),\n",
       " (<function __main__.test_cond.<locals>.cond(p, d)>,\n",
       "  {'<Action.DOUBLE: 3>': -0.69,\n",
       "   '<Action.HIT: 2>': -0.3285,\n",
       "   '<Action.STAND: 1>': -0.54,\n",
       "   'score_p': 'h13',\n",
       "   'score_d': 'h08',\n",
       "   'winning_act': <Action.HIT: 2>,\n",
       "   'winning_act_outcome': -0.3285}),\n",
       " (<function __main__.test_cond.<locals>.cond(p, d)>,\n",
       "  {'<Action.DOUBLE: 3>': -0.864,\n",
       "   '<Action.HIT: 2>': -0.37,\n",
       "   '<Action.STAND: 1>': -0.576,\n",
       "   'score_p': 'h13',\n",
       "   'score_d': 'h09',\n",
       "   'winning_act': <Action.HIT: 2>,\n",
       "   'winning_act_outcome': -0.37}),\n",
       " (<function __main__.test_cond.<locals>.cond(p, d)>,\n",
       "  {'<Action.DOUBLE: 3>': -1.002,\n",
       "   '<Action.HIT: 2>': -0.443,\n",
       "   '<Action.STAND: 1>': -0.6,\n",
       "   'score_p': 'h13',\n",
       "   'score_d': 'h10',\n",
       "   'winning_act': <Action.HIT: 2>,\n",
       "   'winning_act_outcome': -0.443}),\n",
       " (<function __main__.test_cond.<locals>.cond(p, d)>,\n",
       "  {'<Action.DOUBLE: 3>': -0.4845,\n",
       "   '<Action.HIT: 2>': -0.5285,\n",
       "   '<Action.STAND: 1>': -0.491,\n",
       "   'score_p': 'h14',\n",
       "   'score_d': 's11',\n",
       "   'winning_act': <Action.DOUBLE: 3>,\n",
       "   'winning_act_outcome': -0.4845}),\n",
       " (<function __main__.test_cond.<locals>.cond(p, d)>,\n",
       "  {'<Action.DOUBLE: 3>': -0.768,\n",
       "   '<Action.HIT: 2>': -0.3605,\n",
       "   '<Action.STAND: 1>': -0.274,\n",
       "   'score_p': 'h14',\n",
       "   'score_d': 'h02',\n",
       "   'winning_act': <Action.STAND: 1>,\n",
       "   'winning_act_outcome': -0.274}),\n",
       " (<function __main__.test_cond.<locals>.cond(p, d)>,\n",
       "  {'<Action.DOUBLE: 3>': -0.702,\n",
       "   '<Action.HIT: 2>': -0.346,\n",
       "   '<Action.STAND: 1>': -0.256,\n",
       "   'score_p': 'h14',\n",
       "   'score_d': 'h03',\n",
       "   'winning_act': <Action.STAND: 1>,\n",
       "   'winning_act_outcome': -0.256}),\n",
       " (<function __main__.test_cond.<locals>.cond(p, d)>,\n",
       "  {'<Action.DOUBLE: 3>': -0.676,\n",
       "   '<Action.HIT: 2>': -0.361,\n",
       "   '<Action.STAND: 1>': -0.232,\n",
       "   'score_p': 'h14',\n",
       "   'score_d': 'h04',\n",
       "   'winning_act': <Action.STAND: 1>,\n",
       "   'winning_act_outcome': -0.232}),\n",
       " (<function __main__.test_cond.<locals>.cond(p, d)>,\n",
       "  {'<Action.DOUBLE: 3>': -0.602,\n",
       "   '<Action.HIT: 2>': -0.38,\n",
       "   '<Action.STAND: 1>': -0.17,\n",
       "   'score_p': 'h14',\n",
       "   'score_d': 'h05',\n",
       "   'winning_act': <Action.STAND: 1>,\n",
       "   'winning_act_outcome': -0.17}),\n",
       " (<function __main__.test_cond.<locals>.cond(p, d)>,\n",
       "  {'<Action.DOUBLE: 3>': -0.518,\n",
       "   '<Action.HIT: 2>': -0.275,\n",
       "   '<Action.STAND: 1>': -0.188,\n",
       "   'score_p': 'h14',\n",
       "   'score_d': 'h06',\n",
       "   'winning_act': <Action.STAND: 1>,\n",
       "   'winning_act_outcome': -0.188}),\n",
       " (<function __main__.test_cond.<locals>.cond(p, d)>,\n",
       "  {'<Action.DOUBLE: 3>': -0.686,\n",
       "   '<Action.HIT: 2>': -0.3385,\n",
       "   '<Action.STAND: 1>': -0.502,\n",
       "   'score_p': 'h14',\n",
       "   'score_d': 'h07',\n",
       "   'winning_act': <Action.HIT: 2>,\n",
       "   'winning_act_outcome': -0.3385}),\n",
       " (<function __main__.test_cond.<locals>.cond(p, d)>,\n",
       "  {'<Action.DOUBLE: 3>': -0.774,\n",
       "   '<Action.HIT: 2>': -0.3495,\n",
       "   '<Action.STAND: 1>': -0.482,\n",
       "   'score_p': 'h14',\n",
       "   'score_d': 'h08',\n",
       "   'winning_act': <Action.HIT: 2>,\n",
       "   'winning_act_outcome': -0.3495}),\n",
       " (<function __main__.test_cond.<locals>.cond(p, d)>,\n",
       "  {'<Action.DOUBLE: 3>': -0.904,\n",
       "   '<Action.HIT: 2>': -0.4955,\n",
       "   '<Action.STAND: 1>': -0.574,\n",
       "   'score_p': 'h14',\n",
       "   'score_d': 'h09',\n",
       "   'winning_act': <Action.HIT: 2>,\n",
       "   'winning_act_outcome': -0.4955}),\n",
       " (<function __main__.test_cond.<locals>.cond(p, d)>,\n",
       "  {'<Action.DOUBLE: 3>': -0.978,\n",
       "   '<Action.HIT: 2>': -0.489,\n",
       "   '<Action.STAND: 1>': -0.53,\n",
       "   'score_p': 'h14',\n",
       "   'score_d': 'h10',\n",
       "   'winning_act': <Action.HIT: 2>,\n",
       "   'winning_act_outcome': -0.489}),\n",
       " (<function __main__.test_cond.<locals>.cond(p, d)>,\n",
       "  {'<Action.DOUBLE: 3>': -0.533,\n",
       "   '<Action.HIT: 2>': -0.526,\n",
       "   '<Action.STAND: 1>': -0.4975,\n",
       "   'score_p': 'h15',\n",
       "   'score_d': 's11',\n",
       "   'winning_act': <Action.STAND: 1>,\n",
       "   'winning_act_outcome': -0.4975}),\n",
       " (<function __main__.test_cond.<locals>.cond(p, d)>,\n",
       "  {'<Action.DOUBLE: 3>': -0.854,\n",
       "   '<Action.HIT: 2>': -0.427,\n",
       "   '<Action.STAND: 1>': -0.328,\n",
       "   'score_p': 'h15',\n",
       "   'score_d': 'h02',\n",
       "   'winning_act': <Action.STAND: 1>,\n",
       "   'winning_act_outcome': -0.328}),\n",
       " (<function __main__.test_cond.<locals>.cond(p, d)>,\n",
       "  {'<Action.DOUBLE: 3>': -0.762,\n",
       "   '<Action.HIT: 2>': -0.341,\n",
       "   '<Action.STAND: 1>': -0.172,\n",
       "   'score_p': 'h15',\n",
       "   'score_d': 'h03',\n",
       "   'winning_act': <Action.STAND: 1>,\n",
       "   'winning_act_outcome': -0.172}),\n",
       " (<function __main__.test_cond.<locals>.cond(p, d)>,\n",
       "  {'<Action.DOUBLE: 3>': -0.782,\n",
       "   '<Action.HIT: 2>': -0.462,\n",
       "   '<Action.STAND: 1>': -0.238,\n",
       "   'score_p': 'h15',\n",
       "   'score_d': 'h04',\n",
       "   'winning_act': <Action.STAND: 1>,\n",
       "   'winning_act_outcome': -0.238}),\n",
       " (<function __main__.test_cond.<locals>.cond(p, d)>,\n",
       "  {'<Action.DOUBLE: 3>': -0.794,\n",
       "   '<Action.HIT: 2>': -0.373,\n",
       "   '<Action.STAND: 1>': -0.15,\n",
       "   'score_p': 'h15',\n",
       "   'score_d': 'h05',\n",
       "   'winning_act': <Action.STAND: 1>,\n",
       "   'winning_act_outcome': -0.15}),\n",
       " (<function __main__.test_cond.<locals>.cond(p, d)>,\n",
       "  {'<Action.DOUBLE: 3>': -0.734,\n",
       "   '<Action.HIT: 2>': -0.406,\n",
       "   '<Action.STAND: 1>': -0.244,\n",
       "   'score_p': 'h15',\n",
       "   'score_d': 'h06',\n",
       "   'winning_act': <Action.STAND: 1>,\n",
       "   'winning_act_outcome': -0.244}),\n",
       " (<function __main__.test_cond.<locals>.cond(p, d)>,\n",
       "  {'<Action.DOUBLE: 3>': -0.804,\n",
       "   '<Action.HIT: 2>': -0.4075,\n",
       "   '<Action.STAND: 1>': -0.49,\n",
       "   'score_p': 'h15',\n",
       "   'score_d': 'h07',\n",
       "   'winning_act': <Action.HIT: 2>,\n",
       "   'winning_act_outcome': -0.4075}),\n",
       " (<function __main__.test_cond.<locals>.cond(p, d)>,\n",
       "  {'<Action.DOUBLE: 3>': -0.854,\n",
       "   '<Action.HIT: 2>': -0.386,\n",
       "   '<Action.STAND: 1>': -0.53,\n",
       "   'score_p': 'h15',\n",
       "   'score_d': 'h08',\n",
       "   'winning_act': <Action.HIT: 2>,\n",
       "   'winning_act_outcome': -0.386}),\n",
       " (<function __main__.test_cond.<locals>.cond(p, d)>,\n",
       "  {'<Action.DOUBLE: 3>': -1.016,\n",
       "   '<Action.HIT: 2>': -0.4465,\n",
       "   '<Action.STAND: 1>': -0.53,\n",
       "   'score_p': 'h15',\n",
       "   'score_d': 'h09',\n",
       "   'winning_act': <Action.HIT: 2>,\n",
       "   'winning_act_outcome': -0.4465}),\n",
       " (<function __main__.test_cond.<locals>.cond(p, d)>,\n",
       "  {'<Action.DOUBLE: 3>': -1.11,\n",
       "   '<Action.HIT: 2>': -0.517,\n",
       "   '<Action.STAND: 1>': -0.584,\n",
       "   'score_p': 'h15',\n",
       "   'score_d': 'h10',\n",
       "   'winning_act': <Action.HIT: 2>,\n",
       "   'winning_act_outcome': -0.517}),\n",
       " (<function __main__.test_cond.<locals>.cond(p, d)>,\n",
       "  {'<Action.DOUBLE: 3>': -0.558,\n",
       "   '<Action.HIT: 2>': -0.568,\n",
       "   '<Action.STAND: 1>': -0.586,\n",
       "   'score_p': 'h16',\n",
       "   'score_d': 's11',\n",
       "   'winning_act': <Action.DOUBLE: 3>,\n",
       "   'winning_act_outcome': -0.558}),\n",
       " (<function __main__.test_cond.<locals>.cond(p, d)>,\n",
       "  {'<Action.DOUBLE: 3>': -0.984,\n",
       "   '<Action.HIT: 2>': -0.465,\n",
       "   '<Action.STAND: 1>': -0.306,\n",
       "   'score_p': 'h16',\n",
       "   'score_d': 'h02',\n",
       "   'winning_act': <Action.STAND: 1>,\n",
       "   'winning_act_outcome': -0.306}),\n",
       " (<function __main__.test_cond.<locals>.cond(p, d)>,\n",
       "  {'<Action.DOUBLE: 3>': -0.972,\n",
       "   '<Action.HIT: 2>': -0.451,\n",
       "   '<Action.STAND: 1>': -0.288,\n",
       "   'score_p': 'h16',\n",
       "   'score_d': 'h03',\n",
       "   'winning_act': <Action.STAND: 1>,\n",
       "   'winning_act_outcome': -0.288}),\n",
       " (<function __main__.test_cond.<locals>.cond(p, d)>,\n",
       "  {'<Action.DOUBLE: 3>': -0.84,\n",
       "   '<Action.HIT: 2>': -0.447,\n",
       "   '<Action.STAND: 1>': -0.166,\n",
       "   'score_p': 'h16',\n",
       "   'score_d': 'h04',\n",
       "   'winning_act': <Action.STAND: 1>,\n",
       "   'winning_act_outcome': -0.166}),\n",
       " (<function __main__.test_cond.<locals>.cond(p, d)>,\n",
       "  {'<Action.DOUBLE: 3>': -0.836,\n",
       "   '<Action.HIT: 2>': -0.491,\n",
       "   '<Action.STAND: 1>': -0.168,\n",
       "   'score_p': 'h16',\n",
       "   'score_d': 'h05',\n",
       "   'winning_act': <Action.STAND: 1>,\n",
       "   'winning_act_outcome': -0.168}),\n",
       " (<function __main__.test_cond.<locals>.cond(p, d)>,\n",
       "  {'<Action.DOUBLE: 3>': -0.896,\n",
       "   '<Action.HIT: 2>': -0.439,\n",
       "   '<Action.STAND: 1>': -0.156,\n",
       "   'score_p': 'h16',\n",
       "   'score_d': 'h06',\n",
       "   'winning_act': <Action.STAND: 1>,\n",
       "   'winning_act_outcome': -0.156}),\n",
       " (<function __main__.test_cond.<locals>.cond(p, d)>,\n",
       "  {'<Action.DOUBLE: 3>': -0.832,\n",
       "   '<Action.HIT: 2>': -0.46,\n",
       "   '<Action.STAND: 1>': -0.54,\n",
       "   'score_p': 'h16',\n",
       "   'score_d': 'h07',\n",
       "   'winning_act': <Action.HIT: 2>,\n",
       "   'winning_act_outcome': -0.46}),\n",
       " (<function __main__.test_cond.<locals>.cond(p, d)>,\n",
       "  {'<Action.DOUBLE: 3>': -0.994,\n",
       "   '<Action.HIT: 2>': -0.463,\n",
       "   '<Action.STAND: 1>': -0.478,\n",
       "   'score_p': 'h16',\n",
       "   'score_d': 'h08',\n",
       "   'winning_act': <Action.HIT: 2>,\n",
       "   'winning_act_outcome': -0.463}),\n",
       " (<function __main__.test_cond.<locals>.cond(p, d)>,\n",
       "  {'<Action.DOUBLE: 3>': -1.144,\n",
       "   '<Action.HIT: 2>': -0.485,\n",
       "   '<Action.STAND: 1>': -0.588,\n",
       "   'score_p': 'h16',\n",
       "   'score_d': 'h09',\n",
       "   'winning_act': <Action.HIT: 2>,\n",
       "   'winning_act_outcome': -0.485}),\n",
       " (<function __main__.test_cond.<locals>.cond(p, d)>,\n",
       "  {'<Action.DOUBLE: 3>': -1.168,\n",
       "   '<Action.HIT: 2>': -0.573,\n",
       "   '<Action.STAND: 1>': -0.558,\n",
       "   'score_p': 'h16',\n",
       "   'score_d': 'h10',\n",
       "   'winning_act': <Action.STAND: 1>,\n",
       "   'winning_act_outcome': -0.558}),\n",
       " (<function __main__.test_cond.<locals>.cond(p, d)>,\n",
       "  {'<Action.DOUBLE: 3>': -0.447,\n",
       "   '<Action.HIT: 2>': -0.447,\n",
       "   '<Action.STAND: 1>': -0.447,\n",
       "   'score_p': 'h17',\n",
       "   'score_d': 's11',\n",
       "   'winning_act': <Action.DOUBLE: 3>,\n",
       "   'winning_act_outcome': -0.447}),\n",
       " (<function __main__.test_cond.<locals>.cond(p, d)>,\n",
       "  {'<Action.DOUBLE: 3>': -1.054,\n",
       "   '<Action.HIT: 2>': -0.553,\n",
       "   '<Action.STAND: 1>': -0.165,\n",
       "   'score_p': 'h17',\n",
       "   'score_d': 'h02',\n",
       "   'winning_act': <Action.STAND: 1>,\n",
       "   'winning_act_outcome': -0.165}),\n",
       " (<function __main__.test_cond.<locals>.cond(p, d)>,\n",
       "  {'<Action.DOUBLE: 3>': -1.042,\n",
       "   '<Action.HIT: 2>': -0.537,\n",
       "   '<Action.STAND: 1>': -0.126,\n",
       "   'score_p': 'h17',\n",
       "   'score_d': 'h03',\n",
       "   'winning_act': <Action.STAND: 1>,\n",
       "   'winning_act_outcome': -0.126}),\n",
       " (<function __main__.test_cond.<locals>.cond(p, d)>,\n",
       "  {'<Action.DOUBLE: 3>': -1.046,\n",
       "   '<Action.HIT: 2>': -0.522,\n",
       "   '<Action.STAND: 1>': -0.044,\n",
       "   'score_p': 'h17',\n",
       "   'score_d': 'h04',\n",
       "   'winning_act': <Action.STAND: 1>,\n",
       "   'winning_act_outcome': -0.044}),\n",
       " (<function __main__.test_cond.<locals>.cond(p, d)>,\n",
       "  {'<Action.DOUBLE: 3>': -1.02,\n",
       "   '<Action.HIT: 2>': -0.46,\n",
       "   '<Action.STAND: 1>': -0.065,\n",
       "   'score_p': 'h17',\n",
       "   'score_d': 'h05',\n",
       "   'winning_act': <Action.STAND: 1>,\n",
       "   'winning_act_outcome': -0.065}),\n",
       " (<function __main__.test_cond.<locals>.cond(p, d)>,\n",
       "  {'<Action.DOUBLE: 3>': -1.074,\n",
       "   '<Action.HIT: 2>': -0.465,\n",
       "   '<Action.STAND: 1>': 0.038,\n",
       "   'score_p': 'h17',\n",
       "   'score_d': 'h06',\n",
       "   'winning_act': <Action.STAND: 1>,\n",
       "   'winning_act_outcome': 0.038}),\n",
       " (<function __main__.test_cond.<locals>.cond(p, d)>,\n",
       "  {'<Action.DOUBLE: 3>': -0.892,\n",
       "   '<Action.HIT: 2>': -0.491,\n",
       "   '<Action.STAND: 1>': -0.108,\n",
       "   'score_p': 'h17',\n",
       "   'score_d': 'h07',\n",
       "   'winning_act': <Action.STAND: 1>,\n",
       "   'winning_act_outcome': -0.108}),\n",
       " (<function __main__.test_cond.<locals>.cond(p, d)>,\n",
       "  {'<Action.DOUBLE: 3>': -0.966,\n",
       "   '<Action.HIT: 2>': -0.485,\n",
       "   '<Action.STAND: 1>': -0.402,\n",
       "   'score_p': 'h17',\n",
       "   'score_d': 'h08',\n",
       "   'winning_act': <Action.STAND: 1>,\n",
       "   'winning_act_outcome': -0.402}),\n",
       " (<function __main__.test_cond.<locals>.cond(p, d)>,\n",
       "  {'<Action.DOUBLE: 3>': -1.16,\n",
       "   '<Action.HIT: 2>': -0.497,\n",
       "   '<Action.STAND: 1>': -0.476,\n",
       "   'score_p': 'h17',\n",
       "   'score_d': 'h09',\n",
       "   'winning_act': <Action.STAND: 1>,\n",
       "   'winning_act_outcome': -0.476}),\n",
       " (<function __main__.test_cond.<locals>.cond(p, d)>,\n",
       "  {'<Action.DOUBLE: 3>': -1.338,\n",
       "   '<Action.HIT: 2>': -0.624,\n",
       "   '<Action.STAND: 1>': -0.481,\n",
       "   'score_p': 'h17',\n",
       "   'score_d': 'h10',\n",
       "   'winning_act': <Action.STAND: 1>,\n",
       "   'winning_act_outcome': -0.481}),\n",
       " (<function __main__.test_cond.<locals>.cond(p, d)>,\n",
       "  {'<Action.DOUBLE: 3>': -0.205,\n",
       "   '<Action.HIT: 2>': -0.205,\n",
       "   '<Action.STAND: 1>': -0.205,\n",
       "   'score_p': 'h18',\n",
       "   'score_d': 's11',\n",
       "   'winning_act': <Action.DOUBLE: 3>,\n",
       "   'winning_act_outcome': -0.205}),\n",
       " (<function __main__.test_cond.<locals>.cond(p, d)>,\n",
       "  {'<Action.DOUBLE: 3>': -1.204,\n",
       "   '<Action.HIT: 2>': -0.64,\n",
       "   '<Action.STAND: 1>': 0.121,\n",
       "   'score_p': 'h18',\n",
       "   'score_d': 'h02',\n",
       "   'winning_act': <Action.STAND: 1>,\n",
       "   'winning_act_outcome': 0.121}),\n",
       " (<function __main__.test_cond.<locals>.cond(p, d)>,\n",
       "  {'<Action.DOUBLE: 3>': -1.25,\n",
       "   '<Action.HIT: 2>': -0.637,\n",
       "   '<Action.STAND: 1>': 0.118,\n",
       "   'score_p': 'h18',\n",
       "   'score_d': 'h03',\n",
       "   'winning_act': <Action.STAND: 1>,\n",
       "   'winning_act_outcome': 0.118}),\n",
       " (<function __main__.test_cond.<locals>.cond(p, d)>,\n",
       "  {'<Action.DOUBLE: 3>': -1.178,\n",
       "   '<Action.HIT: 2>': -0.59,\n",
       "   '<Action.STAND: 1>': 0.185,\n",
       "   'score_p': 'h18',\n",
       "   'score_d': 'h04',\n",
       "   'winning_act': <Action.STAND: 1>,\n",
       "   'winning_act_outcome': 0.185}),\n",
       " (<function __main__.test_cond.<locals>.cond(p, d)>,\n",
       "  {'<Action.DOUBLE: 3>': -1.286,\n",
       "   '<Action.HIT: 2>': -0.623,\n",
       "   '<Action.STAND: 1>': 0.207,\n",
       "   'score_p': 'h18',\n",
       "   'score_d': 'h05',\n",
       "   'winning_act': <Action.STAND: 1>,\n",
       "   'winning_act_outcome': 0.207}),\n",
       " (<function __main__.test_cond.<locals>.cond(p, d)>,\n",
       "  {'<Action.DOUBLE: 3>': -1.174,\n",
       "   '<Action.HIT: 2>': -0.614,\n",
       "   '<Action.STAND: 1>': 0.222,\n",
       "   'score_p': 'h18',\n",
       "   'score_d': 'h06',\n",
       "   'winning_act': <Action.STAND: 1>,\n",
       "   'winning_act_outcome': 0.222}),\n",
       " (<function __main__.test_cond.<locals>.cond(p, d)>,\n",
       "  {'<Action.DOUBLE: 3>': -1.2,\n",
       "   '<Action.HIT: 2>': -0.626,\n",
       "   '<Action.STAND: 1>': 0.379,\n",
       "   'score_p': 'h18',\n",
       "   'score_d': 'h07',\n",
       "   'winning_act': <Action.STAND: 1>,\n",
       "   'winning_act_outcome': 0.379}),\n",
       " (<function __main__.test_cond.<locals>.cond(p, d)>,\n",
       "  {'<Action.DOUBLE: 3>': -1.262,\n",
       "   '<Action.HIT: 2>': -0.61,\n",
       "   '<Action.STAND: 1>': 0.124,\n",
       "   'score_p': 'h18',\n",
       "   'score_d': 'h08',\n",
       "   'winning_act': <Action.STAND: 1>,\n",
       "   'winning_act_outcome': 0.124}),\n",
       " (<function __main__.test_cond.<locals>.cond(p, d)>,\n",
       "  {'<Action.DOUBLE: 3>': -1.288,\n",
       "   '<Action.HIT: 2>': -0.62,\n",
       "   '<Action.STAND: 1>': -0.189,\n",
       "   'score_p': 'h18',\n",
       "   'score_d': 'h09',\n",
       "   'winning_act': <Action.STAND: 1>,\n",
       "   'winning_act_outcome': -0.189}),\n",
       " (<function __main__.test_cond.<locals>.cond(p, d)>,\n",
       "  {'<Action.DOUBLE: 3>': -1.336,\n",
       "   '<Action.HIT: 2>': -0.663,\n",
       "   '<Action.STAND: 1>': -0.203,\n",
       "   'score_p': 'h18',\n",
       "   'score_d': 'h10',\n",
       "   'winning_act': <Action.STAND: 1>,\n",
       "   'winning_act_outcome': -0.203})]"
      ]
     },
     "execution_count": 40,
     "metadata": {},
     "output_type": "execute_result"
    }
   ],
   "source": [
    "conds = [find_winning_action(HandScore(p), make_hand([d]).score, 1*1000) for p in range(10, 19) for d in range(1, 11)]\n",
    "conds"
   ]
  },
  {
   "cell_type": "code",
   "execution_count": 41,
   "id": "matched-niger",
   "metadata": {
    "ExecuteTime": {
     "end_time": "2021-07-07T22:58:34.098934Z",
     "start_time": "2021-07-07T22:58:34.088432Z"
    }
   },
   "outputs": [
    {
     "data": {
      "text/html": [
       "<div>\n",
       "<style scoped>\n",
       "    .dataframe tbody tr th:only-of-type {\n",
       "        vertical-align: middle;\n",
       "    }\n",
       "\n",
       "    .dataframe tbody tr th {\n",
       "        vertical-align: top;\n",
       "    }\n",
       "\n",
       "    .dataframe thead th {\n",
       "        text-align: right;\n",
       "    }\n",
       "</style>\n",
       "<table border=\"1\" class=\"dataframe\">\n",
       "  <thead>\n",
       "    <tr style=\"text-align: right;\">\n",
       "      <th></th>\n",
       "      <th></th>\n",
       "      <th>&lt;Action.DOUBLE: 3&gt;</th>\n",
       "      <th>&lt;Action.HIT: 2&gt;</th>\n",
       "      <th>&lt;Action.STAND: 1&gt;</th>\n",
       "      <th>winning_act</th>\n",
       "      <th>winning_act_outcome</th>\n",
       "    </tr>\n",
       "    <tr>\n",
       "      <th>score_p</th>\n",
       "      <th>score_d</th>\n",
       "      <th></th>\n",
       "      <th></th>\n",
       "      <th></th>\n",
       "      <th></th>\n",
       "      <th></th>\n",
       "    </tr>\n",
       "  </thead>\n",
       "  <tbody>\n",
       "    <tr>\n",
       "      <th rowspan=\"5\" valign=\"top\">h10</th>\n",
       "      <th>s11</th>\n",
       "      <td>-0.0415</td>\n",
       "      <td>-0.0055</td>\n",
       "      <td>-0.015</td>\n",
       "      <td>Action.HIT</td>\n",
       "      <td>-0.0055</td>\n",
       "    </tr>\n",
       "    <tr>\n",
       "      <th>h02</th>\n",
       "      <td>0.3360</td>\n",
       "      <td>0.1560</td>\n",
       "      <td>-0.292</td>\n",
       "      <td>Action.DOUBLE</td>\n",
       "      <td>0.3360</td>\n",
       "    </tr>\n",
       "    <tr>\n",
       "      <th>h03</th>\n",
       "      <td>0.4620</td>\n",
       "      <td>0.2160</td>\n",
       "      <td>-0.222</td>\n",
       "      <td>Action.DOUBLE</td>\n",
       "      <td>0.4620</td>\n",
       "    </tr>\n",
       "    <tr>\n",
       "      <th>h04</th>\n",
       "      <td>0.4220</td>\n",
       "      <td>0.1950</td>\n",
       "      <td>-0.230</td>\n",
       "      <td>Action.DOUBLE</td>\n",
       "      <td>0.4220</td>\n",
       "    </tr>\n",
       "    <tr>\n",
       "      <th>h05</th>\n",
       "      <td>0.4100</td>\n",
       "      <td>0.2810</td>\n",
       "      <td>-0.174</td>\n",
       "      <td>Action.DOUBLE</td>\n",
       "      <td>0.4100</td>\n",
       "    </tr>\n",
       "    <tr>\n",
       "      <th>...</th>\n",
       "      <th>...</th>\n",
       "      <td>...</td>\n",
       "      <td>...</td>\n",
       "      <td>...</td>\n",
       "      <td>...</td>\n",
       "      <td>...</td>\n",
       "    </tr>\n",
       "    <tr>\n",
       "      <th rowspan=\"5\" valign=\"top\">h18</th>\n",
       "      <th>h06</th>\n",
       "      <td>-1.1740</td>\n",
       "      <td>-0.6140</td>\n",
       "      <td>0.222</td>\n",
       "      <td>Action.STAND</td>\n",
       "      <td>0.2220</td>\n",
       "    </tr>\n",
       "    <tr>\n",
       "      <th>h07</th>\n",
       "      <td>-1.2000</td>\n",
       "      <td>-0.6260</td>\n",
       "      <td>0.379</td>\n",
       "      <td>Action.STAND</td>\n",
       "      <td>0.3790</td>\n",
       "    </tr>\n",
       "    <tr>\n",
       "      <th>h08</th>\n",
       "      <td>-1.2620</td>\n",
       "      <td>-0.6100</td>\n",
       "      <td>0.124</td>\n",
       "      <td>Action.STAND</td>\n",
       "      <td>0.1240</td>\n",
       "    </tr>\n",
       "    <tr>\n",
       "      <th>h09</th>\n",
       "      <td>-1.2880</td>\n",
       "      <td>-0.6200</td>\n",
       "      <td>-0.189</td>\n",
       "      <td>Action.STAND</td>\n",
       "      <td>-0.1890</td>\n",
       "    </tr>\n",
       "    <tr>\n",
       "      <th>h10</th>\n",
       "      <td>-1.3360</td>\n",
       "      <td>-0.6630</td>\n",
       "      <td>-0.203</td>\n",
       "      <td>Action.STAND</td>\n",
       "      <td>-0.2030</td>\n",
       "    </tr>\n",
       "  </tbody>\n",
       "</table>\n",
       "<p>90 rows × 5 columns</p>\n",
       "</div>"
      ],
      "text/plain": [
       "                 <Action.DOUBLE: 3>  <Action.HIT: 2>  <Action.STAND: 1>  \\\n",
       "score_p score_d                                                           \n",
       "h10     s11                 -0.0415          -0.0055             -0.015   \n",
       "        h02                  0.3360           0.1560             -0.292   \n",
       "        h03                  0.4620           0.2160             -0.222   \n",
       "        h04                  0.4220           0.1950             -0.230   \n",
       "        h05                  0.4100           0.2810             -0.174   \n",
       "...                             ...              ...                ...   \n",
       "h18     h06                 -1.1740          -0.6140              0.222   \n",
       "        h07                 -1.2000          -0.6260              0.379   \n",
       "        h08                 -1.2620          -0.6100              0.124   \n",
       "        h09                 -1.2880          -0.6200             -0.189   \n",
       "        h10                 -1.3360          -0.6630             -0.203   \n",
       "\n",
       "                   winning_act  winning_act_outcome  \n",
       "score_p score_d                                      \n",
       "h10     s11         Action.HIT              -0.0055  \n",
       "        h02      Action.DOUBLE               0.3360  \n",
       "        h03      Action.DOUBLE               0.4620  \n",
       "        h04      Action.DOUBLE               0.4220  \n",
       "        h05      Action.DOUBLE               0.4100  \n",
       "...                        ...                  ...  \n",
       "h18     h06       Action.STAND               0.2220  \n",
       "        h07       Action.STAND               0.3790  \n",
       "        h08       Action.STAND               0.1240  \n",
       "        h09       Action.STAND              -0.1890  \n",
       "        h10       Action.STAND              -0.2030  \n",
       "\n",
       "[90 rows x 5 columns]"
      ]
     },
     "execution_count": 41,
     "metadata": {},
     "output_type": "execute_result"
    }
   ],
   "source": [
    "outputs = pd.DataFrame([data for _, data in conds]).set_index(['score_p', 'score_d'])\n",
    "outputs"
   ]
  },
  {
   "cell_type": "code",
   "execution_count": 42,
   "id": "failing-undergraduate",
   "metadata": {
    "ExecuteTime": {
     "end_time": "2021-07-07T22:58:34.238437Z",
     "start_time": "2021-07-07T22:58:34.100114Z"
    }
   },
   "outputs": [
    {
     "data": {
      "text/plain": [
       "<AxesSubplot:xlabel='score_d', ylabel='score_p'>"
      ]
     },
     "execution_count": 42,
     "metadata": {},
     "output_type": "execute_result"
    },
    {
     "data": {
      "image/png": "[encoded data removed]",
      "text/plain": [
       "<Figure size 432x288 with 2 Axes>"
      ]
     },
     "metadata": {
      "needs_background": "light"
     },
     "output_type": "display_data"
    }
   ],
   "source": [
    "# Visualize the winning action by starting condition\n",
    "sns.heatmap(outputs['winning_act'].apply(lambda x: x.value).unstack())\n"
   ]
  },
  {
   "cell_type": "code",
   "execution_count": 43,
   "id": "alike-despite",
   "metadata": {
    "ExecuteTime": {
     "end_time": "2021-07-07T22:58:34.397524Z",
     "start_time": "2021-07-07T22:58:34.239505Z"
    }
   },
   "outputs": [
    {
     "data": {
      "text/plain": [
       "<AxesSubplot:xlabel='score_d', ylabel='score_p'>"
      ]
     },
     "execution_count": 43,
     "metadata": {},
     "output_type": "execute_result"
    },
    {
     "data": {
      "image/png": "[encoded data removed]",
      "text/plain": [
       "<Figure size 432x288 with 2 Axes>"
      ]
     },
     "metadata": {
      "needs_background": "light"
     },
     "output_type": "display_data"
    }
   ],
   "source": [
    "# Visualize the average outcome by starting condition\n",
    "sns.heatmap(outputs['winning_act_outcome'].unstack())"
   ]
  },
  {
   "cell_type": "code",
   "execution_count": 44,
   "id": "optimum-dollar",
   "metadata": {
    "ExecuteTime": {
     "end_time": "2021-07-07T22:58:34.403547Z",
     "start_time": "2021-07-07T22:58:34.398469Z"
    }
   },
   "outputs": [
    {
     "data": {
      "text/plain": [
       "[(<function __main__.test_cond.<locals>.cond(p, d)>, <Action.HIT: 2>),\n",
       " (<function __main__.test_cond.<locals>.cond(p, d)>, <Action.DOUBLE: 3>),\n",
       " (<function __main__.test_cond.<locals>.cond(p, d)>, <Action.DOUBLE: 3>),\n",
       " (<function __main__.test_cond.<locals>.cond(p, d)>, <Action.DOUBLE: 3>),\n",
       " (<function __main__.test_cond.<locals>.cond(p, d)>, <Action.DOUBLE: 3>),\n",
       " (<function __main__.test_cond.<locals>.cond(p, d)>, <Action.DOUBLE: 3>),\n",
       " (<function __main__.test_cond.<locals>.cond(p, d)>, <Action.DOUBLE: 3>),\n",
       " (<function __main__.test_cond.<locals>.cond(p, d)>, <Action.DOUBLE: 3>),\n",
       " (<function __main__.test_cond.<locals>.cond(p, d)>, <Action.DOUBLE: 3>),\n",
       " (<function __main__.test_cond.<locals>.cond(p, d)>, <Action.HIT: 2>),\n",
       " (<function __main__.test_cond.<locals>.cond(p, d)>, <Action.HIT: 2>),\n",
       " (<function __main__.test_cond.<locals>.cond(p, d)>, <Action.DOUBLE: 3>),\n",
       " (<function __main__.test_cond.<locals>.cond(p, d)>, <Action.DOUBLE: 3>),\n",
       " (<function __main__.test_cond.<locals>.cond(p, d)>, <Action.DOUBLE: 3>),\n",
       " (<function __main__.test_cond.<locals>.cond(p, d)>, <Action.DOUBLE: 3>),\n",
       " (<function __main__.test_cond.<locals>.cond(p, d)>, <Action.DOUBLE: 3>),\n",
       " (<function __main__.test_cond.<locals>.cond(p, d)>, <Action.DOUBLE: 3>),\n",
       " (<function __main__.test_cond.<locals>.cond(p, d)>, <Action.DOUBLE: 3>),\n",
       " (<function __main__.test_cond.<locals>.cond(p, d)>, <Action.DOUBLE: 3>),\n",
       " (<function __main__.test_cond.<locals>.cond(p, d)>, <Action.HIT: 2>),\n",
       " (<function __main__.test_cond.<locals>.cond(p, d)>, <Action.DOUBLE: 3>),\n",
       " (<function __main__.test_cond.<locals>.cond(p, d)>, <Action.HIT: 2>),\n",
       " (<function __main__.test_cond.<locals>.cond(p, d)>, <Action.STAND: 1>),\n",
       " (<function __main__.test_cond.<locals>.cond(p, d)>, <Action.STAND: 1>),\n",
       " (<function __main__.test_cond.<locals>.cond(p, d)>, <Action.STAND: 1>),\n",
       " (<function __main__.test_cond.<locals>.cond(p, d)>, <Action.STAND: 1>),\n",
       " (<function __main__.test_cond.<locals>.cond(p, d)>, <Action.HIT: 2>),\n",
       " (<function __main__.test_cond.<locals>.cond(p, d)>, <Action.HIT: 2>),\n",
       " (<function __main__.test_cond.<locals>.cond(p, d)>, <Action.HIT: 2>),\n",
       " (<function __main__.test_cond.<locals>.cond(p, d)>, <Action.HIT: 2>),\n",
       " (<function __main__.test_cond.<locals>.cond(p, d)>, <Action.DOUBLE: 3>),\n",
       " (<function __main__.test_cond.<locals>.cond(p, d)>, <Action.STAND: 1>),\n",
       " (<function __main__.test_cond.<locals>.cond(p, d)>, <Action.STAND: 1>),\n",
       " (<function __main__.test_cond.<locals>.cond(p, d)>, <Action.STAND: 1>),\n",
       " (<function __main__.test_cond.<locals>.cond(p, d)>, <Action.STAND: 1>),\n",
       " (<function __main__.test_cond.<locals>.cond(p, d)>, <Action.STAND: 1>),\n",
       " (<function __main__.test_cond.<locals>.cond(p, d)>, <Action.HIT: 2>),\n",
       " (<function __main__.test_cond.<locals>.cond(p, d)>, <Action.HIT: 2>),\n",
       " (<function __main__.test_cond.<locals>.cond(p, d)>, <Action.HIT: 2>),\n",
       " (<function __main__.test_cond.<locals>.cond(p, d)>, <Action.HIT: 2>),\n",
       " (<function __main__.test_cond.<locals>.cond(p, d)>, <Action.DOUBLE: 3>),\n",
       " (<function __main__.test_cond.<locals>.cond(p, d)>, <Action.STAND: 1>),\n",
       " (<function __main__.test_cond.<locals>.cond(p, d)>, <Action.STAND: 1>),\n",
       " (<function __main__.test_cond.<locals>.cond(p, d)>, <Action.STAND: 1>),\n",
       " (<function __main__.test_cond.<locals>.cond(p, d)>, <Action.STAND: 1>),\n",
       " (<function __main__.test_cond.<locals>.cond(p, d)>, <Action.STAND: 1>),\n",
       " (<function __main__.test_cond.<locals>.cond(p, d)>, <Action.HIT: 2>),\n",
       " (<function __main__.test_cond.<locals>.cond(p, d)>, <Action.HIT: 2>),\n",
       " (<function __main__.test_cond.<locals>.cond(p, d)>, <Action.HIT: 2>),\n",
       " (<function __main__.test_cond.<locals>.cond(p, d)>, <Action.HIT: 2>),\n",
       " (<function __main__.test_cond.<locals>.cond(p, d)>, <Action.STAND: 1>),\n",
       " (<function __main__.test_cond.<locals>.cond(p, d)>, <Action.STAND: 1>),\n",
       " (<function __main__.test_cond.<locals>.cond(p, d)>, <Action.STAND: 1>),\n",
       " (<function __main__.test_cond.<locals>.cond(p, d)>, <Action.STAND: 1>),\n",
       " (<function __main__.test_cond.<locals>.cond(p, d)>, <Action.STAND: 1>),\n",
       " (<function __main__.test_cond.<locals>.cond(p, d)>, <Action.STAND: 1>),\n",
       " (<function __main__.test_cond.<locals>.cond(p, d)>, <Action.HIT: 2>),\n",
       " (<function __main__.test_cond.<locals>.cond(p, d)>, <Action.HIT: 2>),\n",
       " (<function __main__.test_cond.<locals>.cond(p, d)>, <Action.HIT: 2>),\n",
       " (<function __main__.test_cond.<locals>.cond(p, d)>, <Action.HIT: 2>),\n",
       " (<function __main__.test_cond.<locals>.cond(p, d)>, <Action.DOUBLE: 3>),\n",
       " (<function __main__.test_cond.<locals>.cond(p, d)>, <Action.STAND: 1>),\n",
       " (<function __main__.test_cond.<locals>.cond(p, d)>, <Action.STAND: 1>),\n",
       " (<function __main__.test_cond.<locals>.cond(p, d)>, <Action.STAND: 1>),\n",
       " (<function __main__.test_cond.<locals>.cond(p, d)>, <Action.STAND: 1>),\n",
       " (<function __main__.test_cond.<locals>.cond(p, d)>, <Action.STAND: 1>),\n",
       " (<function __main__.test_cond.<locals>.cond(p, d)>, <Action.HIT: 2>),\n",
       " (<function __main__.test_cond.<locals>.cond(p, d)>, <Action.HIT: 2>),\n",
       " (<function __main__.test_cond.<locals>.cond(p, d)>, <Action.HIT: 2>),\n",
       " (<function __main__.test_cond.<locals>.cond(p, d)>, <Action.STAND: 1>),\n",
       " (<function __main__.test_cond.<locals>.cond(p, d)>, <Action.DOUBLE: 3>),\n",
       " (<function __main__.test_cond.<locals>.cond(p, d)>, <Action.STAND: 1>),\n",
       " (<function __main__.test_cond.<locals>.cond(p, d)>, <Action.STAND: 1>),\n",
       " (<function __main__.test_cond.<locals>.cond(p, d)>, <Action.STAND: 1>),\n",
       " (<function __main__.test_cond.<locals>.cond(p, d)>, <Action.STAND: 1>),\n",
       " (<function __main__.test_cond.<locals>.cond(p, d)>, <Action.STAND: 1>),\n",
       " (<function __main__.test_cond.<locals>.cond(p, d)>, <Action.STAND: 1>),\n",
       " (<function __main__.test_cond.<locals>.cond(p, d)>, <Action.STAND: 1>),\n",
       " (<function __main__.test_cond.<locals>.cond(p, d)>, <Action.STAND: 1>),\n",
       " (<function __main__.test_cond.<locals>.cond(p, d)>, <Action.STAND: 1>),\n",
       " (<function __main__.test_cond.<locals>.cond(p, d)>, <Action.DOUBLE: 3>),\n",
       " (<function __main__.test_cond.<locals>.cond(p, d)>, <Action.STAND: 1>),\n",
       " (<function __main__.test_cond.<locals>.cond(p, d)>, <Action.STAND: 1>),\n",
       " (<function __main__.test_cond.<locals>.cond(p, d)>, <Action.STAND: 1>),\n",
       " (<function __main__.test_cond.<locals>.cond(p, d)>, <Action.STAND: 1>),\n",
       " (<function __main__.test_cond.<locals>.cond(p, d)>, <Action.STAND: 1>),\n",
       " (<function __main__.test_cond.<locals>.cond(p, d)>, <Action.STAND: 1>),\n",
       " (<function __main__.test_cond.<locals>.cond(p, d)>, <Action.STAND: 1>),\n",
       " (<function __main__.test_cond.<locals>.cond(p, d)>, <Action.STAND: 1>),\n",
       " (<function __main__.test_cond.<locals>.cond(p, d)>, <Action.STAND: 1>)]"
      ]
     },
     "execution_count": 44,
     "metadata": {},
     "output_type": "execute_result"
    }
   ],
   "source": [
    "[(cond, output['winning_act']) for cond, output in conds]"
   ]
  },
  {
   "cell_type": "code",
   "execution_count": 45,
   "id": "portable-niger",
   "metadata": {
    "ExecuteTime": {
     "end_time": "2021-07-07T22:58:34.407179Z",
     "start_time": "2021-07-07T22:58:34.404929Z"
    }
   },
   "outputs": [],
   "source": [
    "strat_derived = generate_strat_conditional(strat_simple, [(cond, output['winning_act']) for cond, output in conds])\n",
    "strat_derived.name = 'strat_derived'"
   ]
  },
  {
   "cell_type": "code",
   "execution_count": 46,
   "id": "english-distance",
   "metadata": {
    "ExecuteTime": {
     "end_time": "2021-07-07T22:58:34.442236Z",
     "start_time": "2021-07-07T22:58:34.408235Z"
    },
    "scrolled": true
   },
   "outputs": [
    {
     "data": {
      "text/plain": [
       "(        strategy hand_start  dealer_card      hand_end dealer_hand  \\\n",
       " 0         simple    [5, 12]            7    [5, 12, 7]   [7, 3, 9]   \n",
       " 1  strat_derived    [5, 12]            7   [5, 12, 12]   [7, 3, 9]   \n",
       " 2         simple    [11, 9]            2       [11, 9]  [2, 6, 13]   \n",
       " 3  strat_derived    [11, 9]            2       [11, 9]  [2, 6, 13]   \n",
       " 4         simple     [3, 6]           11    [3, 6, 13]     [11, 7]   \n",
       " 5  strat_derived     [3, 6]           11    [3, 6, 12]     [11, 7]   \n",
       " 6         simple    [8, 11]            9       [8, 11]   [9, 5, 3]   \n",
       " 7  strat_derived    [8, 11]            9       [8, 11]   [9, 5, 3]   \n",
       " 8         simple     [4, 9]           13     [4, 9, 8]  [13, 4, 9]   \n",
       " 9  strat_derived     [4, 9]           13  [4, 9, 1, 4]  [13, 4, 9]   \n",
       " \n",
       "             outcome  outcome_value outcome_name  \n",
       " 0  HandOutcome.LOSE           -1.0         LOSE  \n",
       " 1  HandOutcome.LOSE           -1.0         LOSE  \n",
       " 2   HandOutcome.WIN            1.0          WIN  \n",
       " 3   HandOutcome.WIN            1.0          WIN  \n",
       " 4   HandOutcome.WIN            1.0          WIN  \n",
       " 5   HandOutcome.WIN            1.0          WIN  \n",
       " 6   HandOutcome.WIN            1.0          WIN  \n",
       " 7   HandOutcome.WIN            1.0          WIN  \n",
       " 8   HandOutcome.WIN            1.0          WIN  \n",
       " 9   HandOutcome.WIN            1.0          WIN  ,\n",
       "                     len                                      mean_outcome\n",
       " outcome_name  BLACKJACK LOSE LOSE_DOUBLE PUSH WIN WIN_DOUBLE             \n",
       " strategy                                                                 \n",
       " simple                7   44           1    6  38          4        0.105\n",
       " strat_derived         7   47           2    3  37          4        0.045)"
      ]
     },
     "execution_count": 46,
     "metadata": {},
     "output_type": "execute_result"
    }
   ],
   "source": [
    "sims = run_n_sim_trials([strat_simple, strat_derived], 100)\n",
    "sims.head(10), summarize_totals(sims)"
   ]
  },
  {
   "cell_type": "code",
   "execution_count": 47,
   "id": "bright-pepper",
   "metadata": {
    "ExecuteTime": {
     "end_time": "2021-07-07T22:58:44.894838Z",
     "start_time": "2021-07-07T22:58:34.443131Z"
    },
    "scrolled": true
   },
   "outputs": [
    {
     "data": {
      "text/plain": [
       "(        strategy hand_start  dealer_card    hand_end     dealer_hand  \\\n",
       " 0         simple   [10, 13]           12    [10, 13]        [12, 13]   \n",
       " 1  strat_derived   [10, 13]           12    [10, 13]        [12, 13]   \n",
       " 2         simple     [7, 7]            4      [7, 7]  [4, 13, 1, 10]   \n",
       " 3  strat_derived     [7, 7]            4      [7, 7]  [4, 13, 1, 10]   \n",
       " 4         simple     [7, 8]           10   [7, 8, 6]         [10, 1]   \n",
       " 5  strat_derived     [7, 8]           10   [7, 8, 7]         [10, 1]   \n",
       " 6         simple    [9, 13]            8     [9, 13]          [8, 1]   \n",
       " 7  strat_derived    [9, 13]            8     [9, 13]          [8, 1]   \n",
       " 8         simple     [3, 6]           11   [3, 6, 8]         [11, 7]   \n",
       " 9  strat_derived     [3, 6]           11  [3, 6, 13]         [11, 7]   \n",
       " \n",
       "             outcome  outcome_value outcome_name  \n",
       " 0  HandOutcome.PUSH            0.0         PUSH  \n",
       " 1  HandOutcome.PUSH            0.0         PUSH  \n",
       " 2   HandOutcome.WIN            1.0          WIN  \n",
       " 3   HandOutcome.WIN            1.0          WIN  \n",
       " 4  HandOutcome.LOSE           -1.0         LOSE  \n",
       " 5  HandOutcome.LOSE           -1.0         LOSE  \n",
       " 6  HandOutcome.PUSH            0.0         PUSH  \n",
       " 7  HandOutcome.PUSH            0.0         PUSH  \n",
       " 8  HandOutcome.PUSH            0.0         PUSH  \n",
       " 9   HandOutcome.WIN            1.0          WIN  ,\n",
       "                     len                                             \\\n",
       " outcome_name  BLACKJACK   LOSE LOSE_DOUBLE  PUSH    WIN WIN_DOUBLE   \n",
       " strategy                                                             \n",
       " simple             4559  46248        2530  8697  34731       3235   \n",
       " strat_derived      4559  43017        6035  8116  33664       4609   \n",
       " \n",
       "               mean_outcome  \n",
       " outcome_name                \n",
       " strategy                    \n",
       " simple           -0.032685  \n",
       " strat_derived    -0.053665  )"
      ]
     },
     "execution_count": 47,
     "metadata": {},
     "output_type": "execute_result"
    }
   ],
   "source": [
    "sims = run_n_sim_trials([strat_simple, strat_derived], 100*1000)\n",
    "sims.head(10), summarize_totals(sims)"
   ]
  },
  {
   "cell_type": "code",
   "execution_count": 48,
   "id": "timely-bicycle",
   "metadata": {
    "ExecuteTime": {
     "end_time": "2021-07-07T22:58:44.909603Z",
     "start_time": "2021-07-07T22:58:44.895761Z"
    }
   },
   "outputs": [
    {
     "data": {
      "text/html": [
       "<div>\n",
       "<style scoped>\n",
       "    .dataframe tbody tr th:only-of-type {\n",
       "        vertical-align: middle;\n",
       "    }\n",
       "\n",
       "    .dataframe tbody tr th {\n",
       "        vertical-align: top;\n",
       "    }\n",
       "\n",
       "    .dataframe thead th {\n",
       "        text-align: right;\n",
       "    }\n",
       "</style>\n",
       "<table border=\"1\" class=\"dataframe\">\n",
       "  <thead>\n",
       "    <tr style=\"text-align: right;\">\n",
       "      <th></th>\n",
       "      <th>strategy</th>\n",
       "      <th>hand_start</th>\n",
       "      <th>dealer_card</th>\n",
       "      <th>hand_end</th>\n",
       "      <th>dealer_hand</th>\n",
       "      <th>outcome</th>\n",
       "      <th>outcome_value</th>\n",
       "      <th>outcome_name</th>\n",
       "    </tr>\n",
       "  </thead>\n",
       "  <tbody>\n",
       "    <tr>\n",
       "      <th>0</th>\n",
       "      <td>simple</td>\n",
       "      <td>[10, 13]</td>\n",
       "      <td>12</td>\n",
       "      <td>[10, 13]</td>\n",
       "      <td>[12, 13]</td>\n",
       "      <td>HandOutcome.PUSH</td>\n",
       "      <td>0.0</td>\n",
       "      <td>PUSH</td>\n",
       "    </tr>\n",
       "    <tr>\n",
       "      <th>1</th>\n",
       "      <td>strat_derived</td>\n",
       "      <td>[10, 13]</td>\n",
       "      <td>12</td>\n",
       "      <td>[10, 13]</td>\n",
       "      <td>[12, 13]</td>\n",
       "      <td>HandOutcome.PUSH</td>\n",
       "      <td>0.0</td>\n",
       "      <td>PUSH</td>\n",
       "    </tr>\n",
       "    <tr>\n",
       "      <th>2</th>\n",
       "      <td>simple</td>\n",
       "      <td>[7, 7]</td>\n",
       "      <td>4</td>\n",
       "      <td>[7, 7]</td>\n",
       "      <td>[4, 13, 1, 10]</td>\n",
       "      <td>HandOutcome.WIN</td>\n",
       "      <td>1.0</td>\n",
       "      <td>WIN</td>\n",
       "    </tr>\n",
       "    <tr>\n",
       "      <th>3</th>\n",
       "      <td>strat_derived</td>\n",
       "      <td>[7, 7]</td>\n",
       "      <td>4</td>\n",
       "      <td>[7, 7]</td>\n",
       "      <td>[4, 13, 1, 10]</td>\n",
       "      <td>HandOutcome.WIN</td>\n",
       "      <td>1.0</td>\n",
       "      <td>WIN</td>\n",
       "    </tr>\n",
       "    <tr>\n",
       "      <th>4</th>\n",
       "      <td>simple</td>\n",
       "      <td>[7, 8]</td>\n",
       "      <td>10</td>\n",
       "      <td>[7, 8, 6]</td>\n",
       "      <td>[10, 1]</td>\n",
       "      <td>HandOutcome.LOSE</td>\n",
       "      <td>-1.0</td>\n",
       "      <td>LOSE</td>\n",
       "    </tr>\n",
       "    <tr>\n",
       "      <th>...</th>\n",
       "      <td>...</td>\n",
       "      <td>...</td>\n",
       "      <td>...</td>\n",
       "      <td>...</td>\n",
       "      <td>...</td>\n",
       "      <td>...</td>\n",
       "      <td>...</td>\n",
       "      <td>...</td>\n",
       "    </tr>\n",
       "    <tr>\n",
       "      <th>199995</th>\n",
       "      <td>strat_derived</td>\n",
       "      <td>[10, 8]</td>\n",
       "      <td>6</td>\n",
       "      <td>[10, 8]</td>\n",
       "      <td>[6, 9, 2]</td>\n",
       "      <td>HandOutcome.WIN</td>\n",
       "      <td>1.0</td>\n",
       "      <td>WIN</td>\n",
       "    </tr>\n",
       "    <tr>\n",
       "      <th>199996</th>\n",
       "      <td>simple</td>\n",
       "      <td>[3, 6]</td>\n",
       "      <td>8</td>\n",
       "      <td>[3, 6, 2, 5]</td>\n",
       "      <td>[8, 11]</td>\n",
       "      <td>HandOutcome.LOSE_DOUBLE</td>\n",
       "      <td>-2.0</td>\n",
       "      <td>LOSE_DOUBLE</td>\n",
       "    </tr>\n",
       "    <tr>\n",
       "      <th>199997</th>\n",
       "      <td>strat_derived</td>\n",
       "      <td>[3, 6]</td>\n",
       "      <td>8</td>\n",
       "      <td>[3, 6, 1]</td>\n",
       "      <td>[8, 11]</td>\n",
       "      <td>HandOutcome.WIN</td>\n",
       "      <td>1.0</td>\n",
       "      <td>WIN</td>\n",
       "    </tr>\n",
       "    <tr>\n",
       "      <th>199998</th>\n",
       "      <td>simple</td>\n",
       "      <td>[4, 8]</td>\n",
       "      <td>5</td>\n",
       "      <td>[4, 8]</td>\n",
       "      <td>[5, 10, 4]</td>\n",
       "      <td>HandOutcome.LOSE</td>\n",
       "      <td>-1.0</td>\n",
       "      <td>LOSE</td>\n",
       "    </tr>\n",
       "    <tr>\n",
       "      <th>199999</th>\n",
       "      <td>strat_derived</td>\n",
       "      <td>[4, 8]</td>\n",
       "      <td>5</td>\n",
       "      <td>[4, 8]</td>\n",
       "      <td>[5, 10, 4]</td>\n",
       "      <td>HandOutcome.LOSE</td>\n",
       "      <td>-1.0</td>\n",
       "      <td>LOSE</td>\n",
       "    </tr>\n",
       "  </tbody>\n",
       "</table>\n",
       "<p>200000 rows × 8 columns</p>\n",
       "</div>"
      ],
      "text/plain": [
       "             strategy hand_start  dealer_card      hand_end     dealer_hand  \\\n",
       "0              simple   [10, 13]           12      [10, 13]        [12, 13]   \n",
       "1       strat_derived   [10, 13]           12      [10, 13]        [12, 13]   \n",
       "2              simple     [7, 7]            4        [7, 7]  [4, 13, 1, 10]   \n",
       "3       strat_derived     [7, 7]            4        [7, 7]  [4, 13, 1, 10]   \n",
       "4              simple     [7, 8]           10     [7, 8, 6]         [10, 1]   \n",
       "...               ...        ...          ...           ...             ...   \n",
       "199995  strat_derived    [10, 8]            6       [10, 8]       [6, 9, 2]   \n",
       "199996         simple     [3, 6]            8  [3, 6, 2, 5]         [8, 11]   \n",
       "199997  strat_derived     [3, 6]            8     [3, 6, 1]         [8, 11]   \n",
       "199998         simple     [4, 8]            5        [4, 8]      [5, 10, 4]   \n",
       "199999  strat_derived     [4, 8]            5        [4, 8]      [5, 10, 4]   \n",
       "\n",
       "                        outcome  outcome_value outcome_name  \n",
       "0              HandOutcome.PUSH            0.0         PUSH  \n",
       "1              HandOutcome.PUSH            0.0         PUSH  \n",
       "2               HandOutcome.WIN            1.0          WIN  \n",
       "3               HandOutcome.WIN            1.0          WIN  \n",
       "4              HandOutcome.LOSE           -1.0         LOSE  \n",
       "...                         ...            ...          ...  \n",
       "199995          HandOutcome.WIN            1.0          WIN  \n",
       "199996  HandOutcome.LOSE_DOUBLE           -2.0  LOSE_DOUBLE  \n",
       "199997          HandOutcome.WIN            1.0          WIN  \n",
       "199998         HandOutcome.LOSE           -1.0         LOSE  \n",
       "199999         HandOutcome.LOSE           -1.0         LOSE  \n",
       "\n",
       "[200000 rows x 8 columns]"
      ]
     },
     "execution_count": 48,
     "metadata": {},
     "output_type": "execute_result"
    }
   ],
   "source": [
    "sims"
   ]
  },
  {
   "cell_type": "code",
   "execution_count": null,
   "id": "continental-rebound",
   "metadata": {},
   "outputs": [],
   "source": []
  }
 ],
 "metadata": {
  "kernelspec": {
   "display_name": "Python 3",
   "language": "python",
   "name": "python3"
  },
  "language_info": {
   "codemirror_mode": {
    "name": "ipython",
    "version": 3
   },
   "file_extension": ".py",
   "mimetype": "text/x-python",
   "name": "python",
   "nbconvert_exporter": "python",
   "pygments_lexer": "ipython3",
   "version": "3.8.8"
  }
 },
 "nbformat": 4,
 "nbformat_minor": 5
}
