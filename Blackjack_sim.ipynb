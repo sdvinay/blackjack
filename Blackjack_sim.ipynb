{
 "cells": [
  {
   "cell_type": "code",
   "execution_count": 1,
   "id": "middle-scenario",
   "metadata": {
    "ExecuteTime": {
     "end_time": "2021-06-28T01:45:22.640862Z",
     "start_time": "2021-06-28T01:45:22.635661Z"
    }
   },
   "outputs": [],
   "source": [
    "from dataclasses import dataclass, field\n",
    "from enum import Enum, auto\n",
    "import random\n",
    "import pandas as pd"
   ]
  },
  {
   "cell_type": "code",
   "execution_count": 2,
   "id": "annoying-pepper",
   "metadata": {
    "ExecuteTime": {
     "end_time": "2021-06-28T01:45:22.646269Z",
     "start_time": "2021-06-28T01:45:22.643078Z"
    }
   },
   "outputs": [],
   "source": [
    "# cards are numbers from 1 to 13\n",
    "# the score is capped at 10"
   ]
  },
  {
   "cell_type": "code",
   "execution_count": 3,
   "id": "compound-summit",
   "metadata": {
    "ExecuteTime": {
     "end_time": "2021-06-28T01:45:22.652914Z",
     "start_time": "2021-06-28T01:45:22.649543Z"
    }
   },
   "outputs": [],
   "source": [
    "@dataclass\n",
    "class Hand:\n",
    "    \"\"\"Class for representing a blackjack hand.\"\"\"\n",
    "    score: int = 0\n",
    "    soft: bool = False\n",
    "    cards: [int] = field(default_factory=list)\n"
   ]
  },
  {
   "cell_type": "code",
   "execution_count": 4,
   "id": "initial-harrison",
   "metadata": {
    "ExecuteTime": {
     "end_time": "2021-06-28T01:45:22.661056Z",
     "start_time": "2021-06-28T01:45:22.654763Z"
    }
   },
   "outputs": [
    {
     "data": {
      "text/plain": [
       "Hand(score=6, soft=False, cards=[])"
      ]
     },
     "execution_count": 4,
     "metadata": {},
     "output_type": "execute_result"
    }
   ],
   "source": [
    "h = Hand(6)\n",
    "h"
   ]
  },
  {
   "cell_type": "code",
   "execution_count": 5,
   "id": "recorded-leadership",
   "metadata": {
    "ExecuteTime": {
     "end_time": "2021-06-28T01:45:22.664405Z",
     "start_time": "2021-06-28T01:45:22.662172Z"
    }
   },
   "outputs": [
    {
     "data": {
      "text/plain": [
       "Hand(score=17, soft=True, cards=[])"
      ]
     },
     "execution_count": 5,
     "metadata": {},
     "output_type": "execute_result"
    }
   ],
   "source": [
    "s17 = Hand(17, True)\n",
    "s17"
   ]
  },
  {
   "cell_type": "code",
   "execution_count": 6,
   "id": "educational-height",
   "metadata": {
    "ExecuteTime": {
     "end_time": "2021-06-28T01:45:22.667392Z",
     "start_time": "2021-06-28T01:45:22.665391Z"
    }
   },
   "outputs": [],
   "source": [
    "# For now, assume aces are always 1\n",
    "def add_card(hand, card):\n",
    "    new_score = min(hand.score+min(10, card), 22) # cap busted hands at 22\n",
    "    hand.score = new_score\n",
    "    hand.cards += [card]\n",
    "    return hand"
   ]
  },
  {
   "cell_type": "code",
   "execution_count": 7,
   "id": "approximate-macintosh",
   "metadata": {
    "ExecuteTime": {
     "end_time": "2021-06-28T01:45:22.673400Z",
     "start_time": "2021-06-28T01:45:22.668705Z"
    }
   },
   "outputs": [
    {
     "data": {
      "text/plain": [
       "[(1, Hand(score=7, soft=False, cards=[1])),\n",
       " (2, Hand(score=8, soft=False, cards=[2])),\n",
       " (3, Hand(score=9, soft=False, cards=[3])),\n",
       " (4, Hand(score=10, soft=False, cards=[4])),\n",
       " (5, Hand(score=11, soft=False, cards=[5])),\n",
       " (6, Hand(score=12, soft=False, cards=[6])),\n",
       " (7, Hand(score=13, soft=False, cards=[7])),\n",
       " (8, Hand(score=14, soft=False, cards=[8])),\n",
       " (9, Hand(score=15, soft=False, cards=[9])),\n",
       " (10, Hand(score=16, soft=False, cards=[10])),\n",
       " (11, Hand(score=16, soft=False, cards=[11])),\n",
       " (12, Hand(score=16, soft=False, cards=[12])),\n",
       " (13, Hand(score=16, soft=False, cards=[13]))]"
      ]
     },
     "execution_count": 7,
     "metadata": {},
     "output_type": "execute_result"
    }
   ],
   "source": [
    "[(c, add_card(Hand(6), c)) for c in range(1,14)]"
   ]
  },
  {
   "cell_type": "code",
   "execution_count": 8,
   "id": "invisible-camera",
   "metadata": {
    "ExecuteTime": {
     "end_time": "2021-06-28T01:45:22.679413Z",
     "start_time": "2021-06-28T01:45:22.676609Z"
    }
   },
   "outputs": [
    {
     "data": {
      "text/plain": [
       "[(1, Hand(score=17, soft=False, cards=[1])),\n",
       " (2, Hand(score=18, soft=False, cards=[2])),\n",
       " (3, Hand(score=19, soft=False, cards=[3])),\n",
       " (4, Hand(score=20, soft=False, cards=[4])),\n",
       " (5, Hand(score=21, soft=False, cards=[5])),\n",
       " (6, Hand(score=22, soft=False, cards=[6])),\n",
       " (7, Hand(score=22, soft=False, cards=[7])),\n",
       " (8, Hand(score=22, soft=False, cards=[8])),\n",
       " (9, Hand(score=22, soft=False, cards=[9])),\n",
       " (10, Hand(score=22, soft=False, cards=[10])),\n",
       " (11, Hand(score=22, soft=False, cards=[11])),\n",
       " (12, Hand(score=22, soft=False, cards=[12])),\n",
       " (13, Hand(score=22, soft=False, cards=[13]))]"
      ]
     },
     "execution_count": 8,
     "metadata": {},
     "output_type": "execute_result"
    }
   ],
   "source": [
    "[(c, add_card(Hand(16), c)) for c in range(1,14)]"
   ]
  },
  {
   "cell_type": "code",
   "execution_count": 9,
   "id": "wicked-delhi",
   "metadata": {
    "ExecuteTime": {
     "end_time": "2021-06-28T01:45:22.682593Z",
     "start_time": "2021-06-28T01:45:22.681012Z"
    }
   },
   "outputs": [],
   "source": [
    "def is_busted(hand):\n",
    "    return hand.score > 21"
   ]
  },
  {
   "cell_type": "code",
   "execution_count": 10,
   "id": "elegant-outline",
   "metadata": {
    "ExecuteTime": {
     "end_time": "2021-06-28T01:45:22.686799Z",
     "start_time": "2021-06-28T01:45:22.683703Z"
    }
   },
   "outputs": [
    {
     "data": {
      "text/plain": [
       "8"
      ]
     },
     "execution_count": 10,
     "metadata": {},
     "output_type": "execute_result"
    }
   ],
   "source": [
    "[is_busted(add_card(Hand(16), c)) for c in range(1,14)].count(True)"
   ]
  },
  {
   "cell_type": "code",
   "execution_count": 11,
   "id": "automated-candle",
   "metadata": {
    "ExecuteTime": {
     "end_time": "2021-06-28T01:45:22.691288Z",
     "start_time": "2021-06-28T01:45:22.688172Z"
    }
   },
   "outputs": [],
   "source": [
    "\n",
    "\n",
    "class Action(Enum):\n",
    "    STAND = auto()\n",
    "    HIT = auto()\n",
    "    DOUBLE = auto()\n",
    "    SPLIT = auto()\n",
    "    \n",
    "    "
   ]
  },
  {
   "cell_type": "code",
   "execution_count": 20,
   "id": "experimental-roulette",
   "metadata": {
    "ExecuteTime": {
     "end_time": "2021-06-28T01:46:07.548409Z",
     "start_time": "2021-06-28T01:46:07.544795Z"
    }
   },
   "outputs": [],
   "source": [
    "# return an Action\n",
    "def strat_nobust(hand, dealer):\n",
    "    if hand.score > 11:\n",
    "        return Action.STAND\n",
    "    else:\n",
    "        return Action.HIT\n",
    "        "
   ]
  },
  {
   "cell_type": "code",
   "execution_count": 21,
   "id": "french-excess",
   "metadata": {
    "ExecuteTime": {
     "end_time": "2021-06-28T01:46:07.940695Z",
     "start_time": "2021-06-28T01:46:07.936107Z"
    }
   },
   "outputs": [],
   "source": [
    "# return an Action\n",
    "def strat_dealer(hand, dealer):\n",
    "    if hand.score < 17:\n",
    "        return Action.HIT\n",
    "    # TODO handle soft hands\n",
    "    else:\n",
    "        return Action.STAND\n",
    "        "
   ]
  },
  {
   "cell_type": "code",
   "execution_count": 14,
   "id": "coastal-rugby",
   "metadata": {
    "ExecuteTime": {
     "end_time": "2021-06-28T01:45:22.699841Z",
     "start_time": "2021-06-28T01:45:22.698076Z"
    }
   },
   "outputs": [],
   "source": [
    "class HandOutcome(Enum):\n",
    "    WIN = 1\n",
    "    LOSE = -1\n",
    "    PUSH = 0"
   ]
  },
  {
   "cell_type": "code",
   "execution_count": 15,
   "id": "racial-library",
   "metadata": {
    "ExecuteTime": {
     "end_time": "2021-06-28T01:45:22.703064Z",
     "start_time": "2021-06-28T01:45:22.700874Z"
    }
   },
   "outputs": [],
   "source": [
    "# Deck; completely random (i.e., infinite) for now\n",
    "\n",
    "\n",
    "def deal_card():\n",
    "    return random.randrange(13)+1"
   ]
  },
  {
   "cell_type": "code",
   "execution_count": 16,
   "id": "consistent-pregnancy",
   "metadata": {
    "ExecuteTime": {
     "end_time": "2021-06-28T01:45:22.709151Z",
     "start_time": "2021-06-28T01:45:22.704963Z"
    }
   },
   "outputs": [
    {
     "data": {
      "text/plain": [
       "[2, 13, 6, 1, 12, 8, 10, 7, 6, 8]"
      ]
     },
     "execution_count": 16,
     "metadata": {},
     "output_type": "execute_result"
    }
   ],
   "source": [
    "[deal_card() for _ in range(10)]"
   ]
  },
  {
   "cell_type": "code",
   "execution_count": 23,
   "id": "established-retail",
   "metadata": {
    "ExecuteTime": {
     "end_time": "2021-06-28T01:46:27.090780Z",
     "start_time": "2021-06-28T01:46:27.081737Z"
    }
   },
   "outputs": [
    {
     "data": {
      "text/plain": [
       "(Hand(score=16, soft=False, cards=[9, 7]),\n",
       " Hand(score=22, soft=False, cards=[9, 5, 8]))"
      ]
     },
     "execution_count": 23,
     "metadata": {},
     "output_type": "execute_result"
    }
   ],
   "source": [
    "# player and dealer play their strategies\n",
    "\n",
    "# return the final hand after playing\n",
    "def player_play_hand(strategy, hand, dealer, deck): \n",
    "    while True:\n",
    "        decision = strategy(hand, dealer)\n",
    "        if decision == Action.STAND:\n",
    "            return hand\n",
    "        if decision == Action.HIT:\n",
    "            add_card(hand, deck())\n",
    "            if is_busted(hand):\n",
    "                return hand\n",
    "\n",
    "\n",
    "\n",
    "hand_p, hand_d"
   ]
  },
  {
   "cell_type": "code",
   "execution_count": 24,
   "id": "emotional-alexander",
   "metadata": {
    "ExecuteTime": {
     "end_time": "2021-06-28T01:46:36.154571Z",
     "start_time": "2021-06-28T01:46:36.149497Z"
    }
   },
   "outputs": [],
   "source": [
    "def player_hand_outcome(player_hand, dealer_hand):\n",
    "    # TODO blackjack\n",
    "    if is_busted(player_hand):\n",
    "        return HandOutcome.LOSE\n",
    "    if is_busted(dealer_hand):\n",
    "        return HandOutcome.WIN\n",
    "    if player_hand.score > dealer_hand.score:\n",
    "        return HandOutcome.WIN\n",
    "    if player_hand.score == dealer_hand.score:\n",
    "        return HandOutcome.PUSH\n",
    "    if player_hand.score < dealer_hand.score:\n",
    "        return HandOutcome.LOSE\n",
    "    \n",
    "        "
   ]
  },
  {
   "cell_type": "code",
   "execution_count": 51,
   "id": "unlikely-graphics",
   "metadata": {
    "ExecuteTime": {
     "end_time": "2021-06-28T02:01:25.664509Z",
     "start_time": "2021-06-28T02:01:25.655133Z"
    }
   },
   "outputs": [
    {
     "data": {
      "text/plain": [
       "(Hand(score=16, soft=False, cards=[10, 6]),\n",
       " Hand(score=17, soft=False, cards=[5, 4, 8]),\n",
       " <HandOutcome.LOSE: -1>)"
      ]
     },
     "execution_count": 51,
     "metadata": {},
     "output_type": "execute_result"
    }
   ],
   "source": [
    "# One player and a dealer\n",
    "# Player has a strategy\n",
    "# Each gets dealt cards and plays according to strategy\n",
    "# Emit all the data, and figure the rest out later\n",
    "\n",
    "def play_one_hand(strat):\n",
    "    hand_p = Hand()\n",
    "    hand_d = Hand()\n",
    "\n",
    "    add_card(hand_p, deal_card())\n",
    "    add_card(hand_d, deal_card())\n",
    "    add_card(hand_p, deal_card())\n",
    "    dealer_hole_card = deal_card()\n",
    "    \n",
    "    # player\n",
    "    player_play_hand(strat, hand_p, hand_d, deal_card)\n",
    "    # dealer\n",
    "    player_play_hand(strat_dealer, add_card(hand_d, dealer_hole_card), None, deal_card)\n",
    "    \n",
    "    return (hand_p, hand_d, player_hand_outcome(hand_p, hand_d))\n",
    "\n",
    "\n",
    "play_one_hand(strat_nobust)"
   ]
  },
  {
   "cell_type": "code",
   "execution_count": 52,
   "id": "induced-understanding",
   "metadata": {
    "ExecuteTime": {
     "end_time": "2021-06-28T02:02:23.328653Z",
     "start_time": "2021-06-28T02:02:23.320092Z"
    }
   },
   "outputs": [
    {
     "data": {
      "text/plain": [
       "{'hand_start': [12, 10],\n",
       " 'dealer_card': 11,\n",
       " 'hand_end': [12, 10],\n",
       " 'dealer_hand': [11, 13],\n",
       " 'outcome': <HandOutcome.PUSH: 0>}"
      ]
     },
     "execution_count": 52,
     "metadata": {},
     "output_type": "execute_result"
    }
   ],
   "source": [
    "\n",
    "def generate_row_from_hand(h):\n",
    "    (hand_p, hand_d, outcome) = h\n",
    "    return {'hand_start': hand_p.cards[:2], 'dealer_card': hand_d.cards[0], 'hand_end': hand_p.cards, 'dealer_hand': hand_d.cards, 'outcome': outcome}\n",
    "\n",
    "generate_row_from_hand(play_one_hand(strat_nobust))"
   ]
  },
  {
   "cell_type": "code",
   "execution_count": 56,
   "id": "irish-thompson",
   "metadata": {
    "ExecuteTime": {
     "end_time": "2021-06-28T02:03:40.371049Z",
     "start_time": "2021-06-28T02:03:28.537718Z"
    }
   },
   "outputs": [
    {
     "data": {
      "text/plain": [
       "HandOutcome.LOSE    498689\n",
       "HandOutcome.WIN     402807\n",
       "HandOutcome.PUSH     98504\n",
       "Name: outcome, dtype: int64"
      ]
     },
     "execution_count": 56,
     "metadata": {},
     "output_type": "execute_result"
    }
   ],
   "source": [
    "sims = pd.DataFrame([generate_row_from_hand(play_one_hand(strat_dealer)) for _ in range(1000000)])\n",
    "sims['outcome'].value_counts()"
   ]
  },
  {
   "cell_type": "code",
   "execution_count": 63,
   "id": "durable-understanding",
   "metadata": {
    "ExecuteTime": {
     "end_time": "2021-06-28T02:08:15.678746Z",
     "start_time": "2021-06-28T02:08:15.673254Z"
    }
   },
   "outputs": [],
   "source": [
    "def run_n_sim_trials(strat, n):\n",
    "    sims = pd.DataFrame([generate_row_from_hand(play_one_hand(strat)) for _ in range(n)])\n",
    "    return sims['outcome'].value_counts(), sims['outcome'].apply(lambda x: x.value).mean()"
   ]
  },
  {
   "cell_type": "code",
   "execution_count": 61,
   "id": "eligible-seafood",
   "metadata": {
    "ExecuteTime": {
     "end_time": "2021-06-28T02:07:21.303673Z",
     "start_time": "2021-06-28T02:07:10.530907Z"
    }
   },
   "outputs": [
    {
     "data": {
      "text/plain": [
       "(HandOutcome.LOSE    511949\n",
       " HandOutcome.WIN     424909\n",
       " HandOutcome.PUSH     63142\n",
       " Name: outcome, dtype: int64,\n",
       " -0.08704)"
      ]
     },
     "execution_count": 61,
     "metadata": {},
     "output_type": "execute_result"
    }
   ],
   "source": [
    "sims = pd.DataFrame([generate_row_from_hand(play_one_hand(strat_nobust)) for _ in range(1000000)])\n",
    "sims['outcome'].value_counts(), sims['outcome'].apply(lambda x: x.value).mean()"
   ]
  },
  {
   "cell_type": "code",
   "execution_count": 88,
   "id": "modern-melbourne",
   "metadata": {
    "ExecuteTime": {
     "end_time": "2021-06-28T02:26:57.111554Z",
     "start_time": "2021-06-28T02:26:57.070575Z"
    }
   },
   "outputs": [
    {
     "data": {
      "text/html": [
       "<div>\n",
       "<style scoped>\n",
       "    .dataframe tbody tr th:only-of-type {\n",
       "        vertical-align: middle;\n",
       "    }\n",
       "\n",
       "    .dataframe tbody tr th {\n",
       "        vertical-align: top;\n",
       "    }\n",
       "\n",
       "    .dataframe thead th {\n",
       "        text-align: right;\n",
       "    }\n",
       "</style>\n",
       "<table border=\"1\" class=\"dataframe\">\n",
       "  <thead>\n",
       "    <tr style=\"text-align: right;\">\n",
       "      <th></th>\n",
       "      <th>hand_start</th>\n",
       "      <th>dealer_card</th>\n",
       "      <th>hand_end</th>\n",
       "      <th>dealer_hand</th>\n",
       "      <th>outcome</th>\n",
       "    </tr>\n",
       "  </thead>\n",
       "  <tbody>\n",
       "    <tr>\n",
       "      <th>0</th>\n",
       "      <td>[3, 12]</td>\n",
       "      <td>4</td>\n",
       "      <td>[3, 12]</td>\n",
       "      <td>[4, 1, 7, 13]</td>\n",
       "      <td>HandOutcome.WIN</td>\n",
       "    </tr>\n",
       "    <tr>\n",
       "      <th>1</th>\n",
       "      <td>[10, 8]</td>\n",
       "      <td>4</td>\n",
       "      <td>[10, 8]</td>\n",
       "      <td>[4, 5, 4, 6]</td>\n",
       "      <td>HandOutcome.LOSE</td>\n",
       "    </tr>\n",
       "    <tr>\n",
       "      <th>2</th>\n",
       "      <td>[10, 10]</td>\n",
       "      <td>8</td>\n",
       "      <td>[10, 10]</td>\n",
       "      <td>[8, 13]</td>\n",
       "      <td>HandOutcome.WIN</td>\n",
       "    </tr>\n",
       "    <tr>\n",
       "      <th>3</th>\n",
       "      <td>[2, 5]</td>\n",
       "      <td>3</td>\n",
       "      <td>[2, 5, 2, 7]</td>\n",
       "      <td>[3, 13, 7]</td>\n",
       "      <td>HandOutcome.LOSE</td>\n",
       "    </tr>\n",
       "    <tr>\n",
       "      <th>4</th>\n",
       "      <td>[10, 10]</td>\n",
       "      <td>1</td>\n",
       "      <td>[10, 10]</td>\n",
       "      <td>[1, 3, 7, 1, 12]</td>\n",
       "      <td>HandOutcome.WIN</td>\n",
       "    </tr>\n",
       "    <tr>\n",
       "      <th>5</th>\n",
       "      <td>[7, 11]</td>\n",
       "      <td>7</td>\n",
       "      <td>[7, 11]</td>\n",
       "      <td>[7, 4, 11]</td>\n",
       "      <td>HandOutcome.LOSE</td>\n",
       "    </tr>\n",
       "    <tr>\n",
       "      <th>6</th>\n",
       "      <td>[10, 1]</td>\n",
       "      <td>1</td>\n",
       "      <td>[10, 1, 8]</td>\n",
       "      <td>[1, 3, 9, 4]</td>\n",
       "      <td>HandOutcome.WIN</td>\n",
       "    </tr>\n",
       "    <tr>\n",
       "      <th>7</th>\n",
       "      <td>[11, 13]</td>\n",
       "      <td>12</td>\n",
       "      <td>[11, 13]</td>\n",
       "      <td>[12, 2, 1, 12]</td>\n",
       "      <td>HandOutcome.WIN</td>\n",
       "    </tr>\n",
       "    <tr>\n",
       "      <th>8</th>\n",
       "      <td>[8, 3]</td>\n",
       "      <td>9</td>\n",
       "      <td>[8, 3, 9]</td>\n",
       "      <td>[9, 7, 12]</td>\n",
       "      <td>HandOutcome.WIN</td>\n",
       "    </tr>\n",
       "    <tr>\n",
       "      <th>9</th>\n",
       "      <td>[6, 4]</td>\n",
       "      <td>3</td>\n",
       "      <td>[6, 4, 8]</td>\n",
       "      <td>[3, 6, 4, 6]</td>\n",
       "      <td>HandOutcome.LOSE</td>\n",
       "    </tr>\n",
       "    <tr>\n",
       "      <th>10</th>\n",
       "      <td>[9, 11]</td>\n",
       "      <td>12</td>\n",
       "      <td>[9, 11]</td>\n",
       "      <td>[12, 6, 7]</td>\n",
       "      <td>HandOutcome.WIN</td>\n",
       "    </tr>\n",
       "    <tr>\n",
       "      <th>11</th>\n",
       "      <td>[6, 4]</td>\n",
       "      <td>3</td>\n",
       "      <td>[6, 4, 1, 9]</td>\n",
       "      <td>[3, 8, 3, 3]</td>\n",
       "      <td>HandOutcome.WIN</td>\n",
       "    </tr>\n",
       "    <tr>\n",
       "      <th>12</th>\n",
       "      <td>[5, 6]</td>\n",
       "      <td>3</td>\n",
       "      <td>[5, 6, 1]</td>\n",
       "      <td>[3, 13, 7]</td>\n",
       "      <td>HandOutcome.LOSE</td>\n",
       "    </tr>\n",
       "    <tr>\n",
       "      <th>13</th>\n",
       "      <td>[11, 6]</td>\n",
       "      <td>13</td>\n",
       "      <td>[11, 6, 8]</td>\n",
       "      <td>[13, 9]</td>\n",
       "      <td>HandOutcome.LOSE</td>\n",
       "    </tr>\n",
       "    <tr>\n",
       "      <th>14</th>\n",
       "      <td>[7, 1]</td>\n",
       "      <td>11</td>\n",
       "      <td>[7, 1, 1, 9]</td>\n",
       "      <td>[11, 4, 12]</td>\n",
       "      <td>HandOutcome.WIN</td>\n",
       "    </tr>\n",
       "    <tr>\n",
       "      <th>15</th>\n",
       "      <td>[8, 3]</td>\n",
       "      <td>6</td>\n",
       "      <td>[8, 3, 7]</td>\n",
       "      <td>[6, 10, 5]</td>\n",
       "      <td>HandOutcome.LOSE</td>\n",
       "    </tr>\n",
       "    <tr>\n",
       "      <th>16</th>\n",
       "      <td>[9, 4]</td>\n",
       "      <td>11</td>\n",
       "      <td>[9, 4, 13]</td>\n",
       "      <td>[11, 11]</td>\n",
       "      <td>HandOutcome.LOSE</td>\n",
       "    </tr>\n",
       "    <tr>\n",
       "      <th>17</th>\n",
       "      <td>[6, 8]</td>\n",
       "      <td>6</td>\n",
       "      <td>[6, 8]</td>\n",
       "      <td>[6, 5, 9]</td>\n",
       "      <td>HandOutcome.LOSE</td>\n",
       "    </tr>\n",
       "    <tr>\n",
       "      <th>18</th>\n",
       "      <td>[13, 7]</td>\n",
       "      <td>1</td>\n",
       "      <td>[13, 7]</td>\n",
       "      <td>[1, 13, 1, 2, 12]</td>\n",
       "      <td>HandOutcome.WIN</td>\n",
       "    </tr>\n",
       "    <tr>\n",
       "      <th>19</th>\n",
       "      <td>[5, 6]</td>\n",
       "      <td>4</td>\n",
       "      <td>[5, 6, 9]</td>\n",
       "      <td>[4, 9, 10]</td>\n",
       "      <td>HandOutcome.WIN</td>\n",
       "    </tr>\n",
       "  </tbody>\n",
       "</table>\n",
       "</div>"
      ],
      "text/plain": [
       "   hand_start  dealer_card      hand_end        dealer_hand           outcome\n",
       "0     [3, 12]            4       [3, 12]      [4, 1, 7, 13]   HandOutcome.WIN\n",
       "1     [10, 8]            4       [10, 8]       [4, 5, 4, 6]  HandOutcome.LOSE\n",
       "2    [10, 10]            8      [10, 10]            [8, 13]   HandOutcome.WIN\n",
       "3      [2, 5]            3  [2, 5, 2, 7]         [3, 13, 7]  HandOutcome.LOSE\n",
       "4    [10, 10]            1      [10, 10]   [1, 3, 7, 1, 12]   HandOutcome.WIN\n",
       "5     [7, 11]            7       [7, 11]         [7, 4, 11]  HandOutcome.LOSE\n",
       "6     [10, 1]            1    [10, 1, 8]       [1, 3, 9, 4]   HandOutcome.WIN\n",
       "7    [11, 13]           12      [11, 13]     [12, 2, 1, 12]   HandOutcome.WIN\n",
       "8      [8, 3]            9     [8, 3, 9]         [9, 7, 12]   HandOutcome.WIN\n",
       "9      [6, 4]            3     [6, 4, 8]       [3, 6, 4, 6]  HandOutcome.LOSE\n",
       "10    [9, 11]           12       [9, 11]         [12, 6, 7]   HandOutcome.WIN\n",
       "11     [6, 4]            3  [6, 4, 1, 9]       [3, 8, 3, 3]   HandOutcome.WIN\n",
       "12     [5, 6]            3     [5, 6, 1]         [3, 13, 7]  HandOutcome.LOSE\n",
       "13    [11, 6]           13    [11, 6, 8]            [13, 9]  HandOutcome.LOSE\n",
       "14     [7, 1]           11  [7, 1, 1, 9]        [11, 4, 12]   HandOutcome.WIN\n",
       "15     [8, 3]            6     [8, 3, 7]         [6, 10, 5]  HandOutcome.LOSE\n",
       "16     [9, 4]           11    [9, 4, 13]           [11, 11]  HandOutcome.LOSE\n",
       "17     [6, 8]            6        [6, 8]          [6, 5, 9]  HandOutcome.LOSE\n",
       "18    [13, 7]            1       [13, 7]  [1, 13, 1, 2, 12]   HandOutcome.WIN\n",
       "19     [5, 6]            4     [5, 6, 9]         [4, 9, 10]   HandOutcome.WIN"
      ]
     },
     "execution_count": 88,
     "metadata": {},
     "output_type": "execute_result"
    }
   ],
   "source": [
    "def strat_simple(hand, dealer):\n",
    "    if hand.score >= 17:  return Action.STAND\n",
    "    if hand.score <= 11:  return Action.HIT\n",
    "    if dealer.score in (range(3,7)):  return Action.STAND\n",
    "    else:  return Action.HIT\n",
    "        \n",
    "sims = pd.DataFrame([generate_row_from_hand(play_one_hand(strat_simple)) for _ in range(20)])\n",
    "sims"
   ]
  },
  {
   "cell_type": "code",
   "execution_count": 87,
   "id": "minimal-domestic",
   "metadata": {
    "ExecuteTime": {
     "end_time": "2021-06-28T02:24:02.306748Z",
     "start_time": "2021-06-28T02:23:27.095644Z"
    }
   },
   "outputs": [
    {
     "name": "stdout",
     "output_type": "stream",
     "text": [
      "(HandOutcome.LOSE    499582\n",
      "HandOutcome.WIN     401818\n",
      "HandOutcome.PUSH     98600\n",
      "Name: outcome, dtype: int64, -0.097764)\n",
      "(HandOutcome.LOSE    512527\n",
      "HandOutcome.WIN     424365\n",
      "HandOutcome.PUSH     63108\n",
      "Name: outcome, dtype: int64, -0.088162)\n",
      "(HandOutcome.LOSE    487225\n",
      "HandOutcome.WIN     423243\n",
      "HandOutcome.PUSH     89532\n",
      "Name: outcome, dtype: int64, -0.063982)\n"
     ]
    }
   ],
   "source": [
    "for strat in [strat_dealer, strat_nobust, strat_simple]:\n",
    "    print(run_n_sim_trials(strat, 1000000))\n",
    "\n",
    "    "
   ]
  },
  {
   "cell_type": "code",
   "execution_count": null,
   "id": "tamil-dylan",
   "metadata": {},
   "outputs": [],
   "source": []
  }
 ],
 "metadata": {
  "kernelspec": {
   "display_name": "Python 3",
   "language": "python",
   "name": "python3"
  },
  "language_info": {
   "codemirror_mode": {
    "name": "ipython",
    "version": 3
   },
   "file_extension": ".py",
   "mimetype": "text/x-python",
   "name": "python",
   "nbconvert_exporter": "python",
   "pygments_lexer": "ipython3",
   "version": "3.8.8"
  }
 },
 "nbformat": 4,
 "nbformat_minor": 5
}
