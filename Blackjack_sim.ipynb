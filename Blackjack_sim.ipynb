{
 "cells": [
  {
   "cell_type": "code",
   "execution_count": 1,
   "id": "middle-scenario",
   "metadata": {
    "ExecuteTime": {
     "end_time": "2021-06-28T22:47:02.049359Z",
     "start_time": "2021-06-28T22:47:01.647544Z"
    }
   },
   "outputs": [],
   "source": [
    "from dataclasses import dataclass, field\n",
    "import copy\n",
    "from enum import Enum, auto\n",
    "import random\n",
    "import pandas as pd"
   ]
  },
  {
   "cell_type": "code",
   "execution_count": 2,
   "id": "annoying-pepper",
   "metadata": {
    "ExecuteTime": {
     "end_time": "2021-06-28T22:47:02.051660Z",
     "start_time": "2021-06-28T22:47:02.050467Z"
    }
   },
   "outputs": [],
   "source": [
    "# cards are numbers from 1 to 13\n",
    "# the score is capped at 10"
   ]
  },
  {
   "cell_type": "markdown",
   "id": "progressive-sterling",
   "metadata": {},
   "source": [
    "## Define a Hand class and functions on it"
   ]
  },
  {
   "cell_type": "code",
   "execution_count": 3,
   "id": "compound-summit",
   "metadata": {
    "ExecuteTime": {
     "end_time": "2021-06-28T22:47:02.055133Z",
     "start_time": "2021-06-28T22:47:02.052891Z"
    }
   },
   "outputs": [],
   "source": [
    "@dataclass\n",
    "class Hand:\n",
    "    \"\"\"Class for representing a blackjack hand.\"\"\"\n",
    "    score: int = 0\n",
    "    soft: bool = False\n",
    "    cards: [int] = field(default_factory=list)\n",
    "    doubled: bool = False\n"
   ]
  },
  {
   "cell_type": "code",
   "execution_count": 4,
   "id": "educational-height",
   "metadata": {
    "ExecuteTime": {
     "end_time": "2021-06-28T22:47:02.059604Z",
     "start_time": "2021-06-28T22:47:02.056454Z"
    }
   },
   "outputs": [],
   "source": [
    "def add_card(hand, card):\n",
    "    if card != 1:  \n",
    "        if (not hand.soft) or (hand.score <= 11): # simple case\n",
    "            new_score = min(hand.score+min(10, card), 22) # cap busted hands at 22\n",
    "        else: # make a soft hand hard\n",
    "            new_score = hand.score+min(10, card) - 10 \n",
    "            hand.soft = False\n",
    "    else: # card is an ace\n",
    "        if hand.score >= 11: # 11s and up count an ace as 1 (hard or soft)\n",
    "            new_score = min(hand.score+min(10, card), 22) # cap busted hands at 22\n",
    "        else: # soft ace\n",
    "            new_score = hand.score+11\n",
    "            hand.soft = True\n",
    "\n",
    "    hand.score = new_score\n",
    "    hand.cards += [card]\n",
    "    return hand"
   ]
  },
  {
   "cell_type": "code",
   "execution_count": 5,
   "id": "wicked-delhi",
   "metadata": {
    "ExecuteTime": {
     "end_time": "2021-06-28T22:47:02.062198Z",
     "start_time": "2021-06-28T22:47:02.060581Z"
    }
   },
   "outputs": [],
   "source": [
    "def is_busted(hand):\n",
    "    return hand.score > 21"
   ]
  },
  {
   "cell_type": "code",
   "execution_count": 6,
   "id": "guided-garbage",
   "metadata": {
    "ExecuteTime": {
     "end_time": "2021-06-28T22:47:02.065057Z",
     "start_time": "2021-06-28T22:47:02.063262Z"
    }
   },
   "outputs": [],
   "source": [
    "def is_blackjack(hand):\n",
    "    return hand.score==21 and len(hand.cards)==2"
   ]
  },
  {
   "cell_type": "code",
   "execution_count": null,
   "id": "strong-treat",
   "metadata": {},
   "outputs": [],
   "source": []
  },
  {
   "cell_type": "code",
   "execution_count": 7,
   "id": "initial-harrison",
   "metadata": {
    "ExecuteTime": {
     "end_time": "2021-06-28T22:47:02.071760Z",
     "start_time": "2021-06-28T22:47:02.066278Z"
    }
   },
   "outputs": [
    {
     "data": {
      "text/plain": [
       "Hand(score=0, soft=False, cards=[], doubled=False)"
      ]
     },
     "execution_count": 7,
     "metadata": {},
     "output_type": "execute_result"
    }
   ],
   "source": [
    "h = Hand()\n",
    "h"
   ]
  },
  {
   "cell_type": "code",
   "execution_count": 8,
   "id": "aerial-simulation",
   "metadata": {
    "ExecuteTime": {
     "end_time": "2021-06-28T22:47:02.076215Z",
     "start_time": "2021-06-28T22:47:02.074095Z"
    }
   },
   "outputs": [
    {
     "data": {
      "text/plain": [
       "Hand(score=6, soft=False, cards=[6], doubled=False)"
      ]
     },
     "execution_count": 8,
     "metadata": {},
     "output_type": "execute_result"
    }
   ],
   "source": [
    "add_card(h, 6) # start a hand with a 6"
   ]
  },
  {
   "cell_type": "code",
   "execution_count": 9,
   "id": "controlled-courage",
   "metadata": {
    "ExecuteTime": {
     "end_time": "2021-06-28T22:47:02.080481Z",
     "start_time": "2021-06-28T22:47:02.077878Z"
    }
   },
   "outputs": [
    {
     "data": {
      "text/plain": [
       "Hand(score=16, soft=False, cards=[6, 11], doubled=False)"
      ]
     },
     "execution_count": 9,
     "metadata": {},
     "output_type": "execute_result"
    }
   ],
   "source": [
    "add_card(h, 11) # show that J (11) counts as 10 points"
   ]
  },
  {
   "cell_type": "code",
   "execution_count": 10,
   "id": "retired-agenda",
   "metadata": {
    "ExecuteTime": {
     "end_time": "2021-06-28T22:47:02.084997Z",
     "start_time": "2021-06-28T22:47:02.081508Z"
    }
   },
   "outputs": [
    {
     "data": {
      "text/plain": [
       "(Hand(score=22, soft=False, cards=[6, 11, 7], doubled=False), True)"
      ]
     },
     "execution_count": 10,
     "metadata": {},
     "output_type": "execute_result"
    }
   ],
   "source": [
    "add_card(h, 7), is_busted(h) # bust (show that 23 is counted as 22)"
   ]
  },
  {
   "cell_type": "code",
   "execution_count": 11,
   "id": "completed-mortality",
   "metadata": {
    "ExecuteTime": {
     "end_time": "2021-06-28T22:47:02.088481Z",
     "start_time": "2021-06-28T22:47:02.085980Z"
    }
   },
   "outputs": [
    {
     "data": {
      "text/plain": [
       "Hand(score=11, soft=True, cards=[1], doubled=False)"
      ]
     },
     "execution_count": 11,
     "metadata": {},
     "output_type": "execute_result"
    }
   ],
   "source": [
    "# OK, now let's try another hand with aces\n",
    "h = Hand()\n",
    "add_card(h, 1) # should be a soft 11"
   ]
  },
  {
   "cell_type": "code",
   "execution_count": 12,
   "id": "improved-emergency",
   "metadata": {
    "ExecuteTime": {
     "end_time": "2021-06-28T22:47:02.091899Z",
     "start_time": "2021-06-28T22:47:02.089618Z"
    }
   },
   "outputs": [
    {
     "data": {
      "text/plain": [
       "Hand(score=12, soft=True, cards=[1, 1], doubled=False)"
      ]
     },
     "execution_count": 12,
     "metadata": {},
     "output_type": "execute_result"
    }
   ],
   "source": [
    "add_card(h, 1) # two aces: should be a soft 12"
   ]
  },
  {
   "cell_type": "code",
   "execution_count": 13,
   "id": "collaborative-diploma",
   "metadata": {
    "ExecuteTime": {
     "end_time": "2021-06-28T22:47:02.095197Z",
     "start_time": "2021-06-28T22:47:02.092928Z"
    }
   },
   "outputs": [
    {
     "data": {
      "text/plain": [
       "Hand(score=12, soft=False, cards=[1, 1, 11], doubled=False)"
      ]
     },
     "execution_count": 13,
     "metadata": {},
     "output_type": "execute_result"
    }
   ],
   "source": [
    "add_card(h, 11) # two aces and a J: should be a hard 12"
   ]
  },
  {
   "cell_type": "code",
   "execution_count": 14,
   "id": "hispanic-equity",
   "metadata": {
    "ExecuteTime": {
     "end_time": "2021-06-28T22:47:02.101323Z",
     "start_time": "2021-06-28T22:47:02.096447Z"
    }
   },
   "outputs": [
    {
     "data": {
      "text/plain": [
       "(Hand(score=21, soft=True, cards=[1, 10], doubled=False), True)"
      ]
     },
     "execution_count": 14,
     "metadata": {},
     "output_type": "execute_result"
    }
   ],
   "source": [
    "# OK, now let's try another hand with a blackjack\n",
    "h = Hand()\n",
    "add_card(h, 1) # should be a soft 11\n",
    "add_card(h, 10)\n",
    "h, is_blackjack(h)"
   ]
  },
  {
   "cell_type": "code",
   "execution_count": null,
   "id": "guilty-integer",
   "metadata": {},
   "outputs": [],
   "source": []
  },
  {
   "cell_type": "markdown",
   "id": "disciplinary-progressive",
   "metadata": {},
   "source": [
    "## Now define gameplay and strategy"
   ]
  },
  {
   "cell_type": "code",
   "execution_count": 15,
   "id": "aging-kruger",
   "metadata": {
    "ExecuteTime": {
     "end_time": "2021-06-28T22:47:02.104208Z",
     "start_time": "2021-06-28T22:47:02.102355Z"
    }
   },
   "outputs": [],
   "source": [
    "\n",
    "# TODO I might want a Flag class later, to provide a set of possible Actions\n",
    "class Action(Enum):\n",
    "    STAND = auto()\n",
    "    HIT = auto()\n",
    "    DOUBLE = auto()\n",
    "    #SPLIT = auto()\n",
    "    \n",
    "    "
   ]
  },
  {
   "cell_type": "code",
   "execution_count": 16,
   "id": "experimental-roulette",
   "metadata": {
    "ExecuteTime": {
     "end_time": "2021-06-28T22:47:02.107042Z",
     "start_time": "2021-06-28T22:47:02.105282Z"
    }
   },
   "outputs": [],
   "source": [
    "# Most simple/conservative strategy imaginable:\n",
    "def strat_nobust(hand, dealer):\n",
    "    if hand.score > 11:\n",
    "        return Action.STAND\n",
    "    else:\n",
    "        return Action.HIT\n",
    "        "
   ]
  },
  {
   "cell_type": "code",
   "execution_count": 17,
   "id": "clean-bride",
   "metadata": {
    "ExecuteTime": {
     "end_time": "2021-06-28T22:47:02.110172Z",
     "start_time": "2021-06-28T22:47:02.107995Z"
    }
   },
   "outputs": [],
   "source": [
    "# Dealer strategy\n",
    "def strat_dealer(hand, dealer):\n",
    "    if hand.score < 17:\n",
    "        return Action.HIT\n",
    "    # TODO handle soft hands\n",
    "    else:\n",
    "        return Action.STAND\n",
    "        "
   ]
  },
  {
   "cell_type": "code",
   "execution_count": 18,
   "id": "quick-quebec",
   "metadata": {
    "ExecuteTime": {
     "end_time": "2021-06-28T22:47:02.114154Z",
     "start_time": "2021-06-28T22:47:02.111208Z"
    }
   },
   "outputs": [],
   "source": [
    "class HandOutcome(Enum):\n",
    "    WIN = 1\n",
    "    LOSE = -1\n",
    "    WIN_DOUBLE = 2\n",
    "    LOSE_DOUBLE = -2\n",
    "    PUSH = 0\n",
    "    BLACKJACK = 1.5"
   ]
  },
  {
   "cell_type": "code",
   "execution_count": 19,
   "id": "pointed-company",
   "metadata": {
    "ExecuteTime": {
     "end_time": "2021-06-28T22:47:02.119101Z",
     "start_time": "2021-06-28T22:47:02.115671Z"
    }
   },
   "outputs": [],
   "source": [
    "# Deck; completely random (i.e., infinite) for now\n",
    "\n",
    "\n",
    "def deal_card():\n",
    "    return random.randrange(13)+1"
   ]
  },
  {
   "cell_type": "code",
   "execution_count": 20,
   "id": "correct-bulgaria",
   "metadata": {
    "ExecuteTime": {
     "end_time": "2021-06-28T22:47:02.122985Z",
     "start_time": "2021-06-28T22:47:02.120075Z"
    }
   },
   "outputs": [
    {
     "data": {
      "text/plain": [
       "[4, 9, 3, 8, 4, 8, 2, 10, 7, 1]"
      ]
     },
     "execution_count": 20,
     "metadata": {},
     "output_type": "execute_result"
    }
   ],
   "source": [
    "[deal_card() for _ in range(10)]"
   ]
  },
  {
   "cell_type": "code",
   "execution_count": 21,
   "id": "premier-number",
   "metadata": {
    "ExecuteTime": {
     "end_time": "2021-06-28T22:47:02.127266Z",
     "start_time": "2021-06-28T22:47:02.124321Z"
    }
   },
   "outputs": [],
   "source": [
    "# return the final hand after playing\n",
    "def player_play_hand(strategy, hand, dealer, deck): \n",
    "    while True:\n",
    "        decision = strategy(hand, dealer)\n",
    "        if decision == Action.STAND:\n",
    "            return hand\n",
    "        if decision == Action.HIT:\n",
    "            add_card(hand, deck())\n",
    "            if is_busted(hand):\n",
    "                return hand\n",
    "        if decision == Action.DOUBLE:\n",
    "            hand.doubled = True\n",
    "            add_card(hand, deck())\n",
    "            return hand\n",
    "\n"
   ]
  },
  {
   "cell_type": "code",
   "execution_count": 22,
   "id": "provincial-notebook",
   "metadata": {
    "ExecuteTime": {
     "end_time": "2021-06-28T22:47:02.134056Z",
     "start_time": "2021-06-28T22:47:02.129074Z"
    }
   },
   "outputs": [],
   "source": [
    "def player_hand_outcome(player_hand, dealer_hand):\n",
    "    # First compute the initial outcome, then double it if necessary for a double-down\n",
    "    def initial_outcome():\n",
    "        if is_blackjack(player_hand):\n",
    "            if is_blackjack(dealer_hand):\n",
    "                return HandOutcome.PUSH\n",
    "            else:\n",
    "                return HandOutcome.BLACKJACK\n",
    "        if is_busted(player_hand) or is_blackjack(dealer_hand):\n",
    "            return HandOutcome.LOSE\n",
    "        if is_busted(dealer_hand):\n",
    "            return HandOutcome.WIN\n",
    "        if player_hand.score > dealer_hand.score:\n",
    "            return HandOutcome.WIN\n",
    "        if player_hand.score == dealer_hand.score:\n",
    "            return HandOutcome.PUSH\n",
    "        if player_hand.score < dealer_hand.score:\n",
    "            return HandOutcome.LOSE\n",
    "\n",
    "    outcome = initial_outcome()\n",
    "\n",
    "    outcome_doubler = {HandOutcome.WIN: HandOutcome.WIN_DOUBLE, HandOutcome.LOSE: HandOutcome.LOSE_DOUBLE}\n",
    "\n",
    "    if player_hand.doubled:\n",
    "        outcome = outcome_doubler.get(outcome) or outcome\n",
    "    return outcome\n",
    "        \n"
   ]
  },
  {
   "cell_type": "code",
   "execution_count": 41,
   "id": "engaging-violation",
   "metadata": {
    "ExecuteTime": {
     "end_time": "2021-06-28T22:56:18.874600Z",
     "start_time": "2021-06-28T22:56:18.869265Z"
    }
   },
   "outputs": [],
   "source": [
    "# One player and a dealer\n",
    "# Player has a strategy\n",
    "# Each gets dealt cards and plays according to strategy\n",
    "# Emit all the data, and figure the rest out later\n",
    "\n",
    "def complete_one_hand(strat, player_hand, dealer_hand, dealer_hole_card):\n",
    "\n",
    "    hand_p = copy.deepcopy(player_hand)\n",
    "    hand_d = copy.deepcopy(dealer_hand)\n",
    "    \n",
    "\n",
    "    \n",
    "    # player\n",
    "    player_play_hand(strat, hand_p, hand_d, deal_card)\n",
    "    # dealer\n",
    "    player_play_hand(strat_dealer, add_card(hand_d, dealer_hole_card), None, deal_card)\n",
    "    \n",
    "    return (hand_p, hand_d, player_hand_outcome(hand_p, hand_d))\n",
    "\n"
   ]
  },
  {
   "cell_type": "code",
   "execution_count": 43,
   "id": "massive-tonight",
   "metadata": {
    "ExecuteTime": {
     "end_time": "2021-06-28T22:56:28.001987Z",
     "start_time": "2021-06-28T22:56:27.992062Z"
    }
   },
   "outputs": [
    {
     "data": {
      "text/plain": [
       "(Hand(score=14, soft=False, cards=[8, 6], doubled=False),\n",
       " Hand(score=22, soft=False, cards=[13, 2, 1, 11], doubled=False),\n",
       " <HandOutcome.WIN: 1>)"
      ]
     },
     "execution_count": 43,
     "metadata": {},
     "output_type": "execute_result"
    }
   ],
   "source": [
    "# One player and a dealer\n",
    "# Player has a strategy\n",
    "# Each gets dealt cards and plays according to strategy\n",
    "# Emit all the data, and figure the rest out later\n",
    "\n",
    "def deal_one_hand():\n",
    "    hand_p = Hand()\n",
    "    hand_d = Hand()\n",
    "\n",
    "    add_card(hand_p, deal_card())\n",
    "    add_card(hand_d, deal_card())\n",
    "    add_card(hand_p, deal_card())\n",
    "    \n",
    "    return hand_p, hand_d, dealer_hole_card\n",
    "\n",
    "    dealer_hole_card = deal_card()\n",
    "def play_one_hand(strat):\n",
    "    hand_p, hand_d, dealer_hole_card = deal_one_hand()\n",
    "    return complete_one_hand(strat, hand_p, hand_d, dealer_hole_card)\n",
    "\n",
    "play_one_hand(strat_nobust)"
   ]
  },
  {
   "cell_type": "markdown",
   "id": "dense-northwest",
   "metadata": {},
   "source": [
    "## Aggregate and summarize the data from the simulations"
   ]
  },
  {
   "cell_type": "code",
   "execution_count": 25,
   "id": "greenhouse-township",
   "metadata": {
    "ExecuteTime": {
     "end_time": "2021-06-28T22:47:02.153231Z",
     "start_time": "2021-06-28T22:47:02.147939Z"
    }
   },
   "outputs": [
    {
     "data": {
      "text/plain": [
       "{'hand_start': [8, 7],\n",
       " 'dealer_card': 6,\n",
       " 'hand_end': [8, 7],\n",
       " 'dealer_hand': [6, 2, 1],\n",
       " 'outcome': <HandOutcome.LOSE: -1>}"
      ]
     },
     "execution_count": 25,
     "metadata": {},
     "output_type": "execute_result"
    }
   ],
   "source": [
    "\n",
    "def generate_row_from_hand(h):\n",
    "    (hand_p, hand_d, outcome) = h\n",
    "    return {'hand_start': hand_p.cards[:2], 'dealer_card': hand_d.cards[0], 'hand_end': hand_p.cards, 'dealer_hand': hand_d.cards, 'outcome': outcome}\n",
    "\n",
    "generate_row_from_hand(play_one_hand(strat_nobust))"
   ]
  },
  {
   "cell_type": "code",
   "execution_count": 26,
   "id": "charitable-command",
   "metadata": {
    "ExecuteTime": {
     "end_time": "2021-06-28T22:47:02.196666Z",
     "start_time": "2021-06-28T22:47:02.155161Z"
    }
   },
   "outputs": [
    {
     "data": {
      "text/plain": [
       "(    hand_start  dealer_card         hand_end         dealer_hand  \\\n",
       " 0     [13, 12]            9         [13, 12]             [9, 11]   \n",
       " 1      [12, 9]            1          [12, 9]              [1, 7]   \n",
       " 2      [13, 6]            6      [13, 6, 11]          [6, 5, 11]   \n",
       " 3       [6, 4]           13     [6, 4, 2, 9]          [13, 6, 2]   \n",
       " 4      [6, 11]            9       [6, 11, 2]           [9, 5, 6]   \n",
       " ..         ...          ...              ...                 ...   \n",
       " 995     [2, 2]           11  [2, 2, 1, 3, 9]             [11, 9]   \n",
       " 996     [1, 1]            2  [1, 1, 6, 7, 6]        [2, 2, 8, 5]   \n",
       " 997     [1, 3]            2    [1, 3, 8, 10]  [2, 1, 6, 2, 2, 4]   \n",
       " 998    [6, 10]            2      [6, 10, 10]          [2, 10, 7]   \n",
       " 999     [2, 9]            7        [2, 9, 9]           [7, 8, 5]   \n",
       " \n",
       "               outcome  \n",
       " 0     HandOutcome.WIN  \n",
       " 1     HandOutcome.WIN  \n",
       " 2    HandOutcome.LOSE  \n",
       " 3     HandOutcome.WIN  \n",
       " 4    HandOutcome.LOSE  \n",
       " ..                ...  \n",
       " 995  HandOutcome.LOSE  \n",
       " 996   HandOutcome.WIN  \n",
       " 997  HandOutcome.LOSE  \n",
       " 998  HandOutcome.LOSE  \n",
       " 999  HandOutcome.PUSH  \n",
       " \n",
       " [1000 rows x 5 columns],\n",
       " (HandOutcome.LOSE         507\n",
       "  HandOutcome.WIN          368\n",
       "  HandOutcome.PUSH          80\n",
       "  HandOutcome.BLACKJACK     45\n",
       "  Name: outcome, dtype: int64,\n",
       "  -0.0715))"
      ]
     },
     "execution_count": 26,
     "metadata": {},
     "output_type": "execute_result"
    }
   ],
   "source": [
    "def run_n_sim_trials(strat, n):\n",
    "    sims = pd.DataFrame([generate_row_from_hand(play_one_hand(strat)) for _ in range(n)])\n",
    "    return sims\n",
    "\n",
    "def summarize_totals(sims):\n",
    "    return sims['outcome'].value_counts(), sims['outcome'].apply(lambda x: x.value).mean()\n",
    "\n",
    "sims = run_n_sim_trials(strat_dealer, 1000)\n",
    "sims, summarize_totals(sims)"
   ]
  },
  {
   "cell_type": "code",
   "execution_count": 27,
   "id": "varied-trance",
   "metadata": {
    "ExecuteTime": {
     "end_time": "2021-06-28T22:47:02.236251Z",
     "start_time": "2021-06-28T22:47:02.197999Z"
    }
   },
   "outputs": [
    {
     "data": {
      "text/plain": [
       "(    hand_start  dealer_card     hand_end dealer_hand                 outcome\n",
       " 0       [8, 5]            8    [8, 5, 9]  [8, 8, 13]        HandOutcome.LOSE\n",
       " 1      [12, 6]            8   [12, 6, 8]     [8, 13]        HandOutcome.LOSE\n",
       " 2       [2, 9]           12   [2, 9, 13]     [12, 8]  HandOutcome.WIN_DOUBLE\n",
       " 3       [8, 8]            8   [8, 8, 12]   [8, 7, 3]        HandOutcome.LOSE\n",
       " 4      [2, 11]           13  [2, 11, 11]     [13, 8]        HandOutcome.LOSE\n",
       " ..         ...          ...          ...         ...                     ...\n",
       " 995    [10, 7]            5      [10, 7]   [5, 8, 6]        HandOutcome.LOSE\n",
       " 996    [2, 10]            5      [2, 10]  [5, 8, 12]         HandOutcome.WIN\n",
       " 997    [10, 6]           10   [10, 6, 2]  [10, 5, 8]         HandOutcome.WIN\n",
       " 998    [12, 4]            5      [12, 4]  [5, 2, 12]        HandOutcome.LOSE\n",
       " 999     [3, 6]           10   [3, 6, 10]  [10, 5, 6]        HandOutcome.LOSE\n",
       " \n",
       " [1000 rows x 5 columns],\n",
       " (HandOutcome.LOSE           477\n",
       "  HandOutcome.WIN            328\n",
       "  HandOutcome.PUSH            91\n",
       "  HandOutcome.BLACKJACK       45\n",
       "  HandOutcome.WIN_DOUBLE      34\n",
       "  HandOutcome.LOSE_DOUBLE     25\n",
       "  Name: outcome, dtype: int64,\n",
       "  -0.0635))"
      ]
     },
     "execution_count": 27,
     "metadata": {},
     "output_type": "execute_result"
    }
   ],
   "source": [
    "def strat_simple(hand, dealer):\n",
    "    if hand.score == 11:  return Action.DOUBLE\n",
    "    if hand.score >= 17:  return Action.STAND\n",
    "    if hand.score <= 11:  return Action.HIT\n",
    "    if dealer.score in (range(3,7)):  return Action.STAND\n",
    "    else:  return Action.HIT\n",
    "        \n",
    "sims = run_n_sim_trials(strat_simple, 1000)\n",
    "sims, summarize_totals(sims)"
   ]
  },
  {
   "cell_type": "code",
   "execution_count": 44,
   "id": "distinguished-input",
   "metadata": {
    "ExecuteTime": {
     "end_time": "2021-06-28T23:03:41.306774Z",
     "start_time": "2021-06-28T23:03:32.766370Z"
    }
   },
   "outputs": [
    {
     "name": "stdout",
     "output_type": "stream",
     "text": [
      "(HandOutcome.LOSE         49252\n",
      "HandOutcome.WIN          36375\n",
      "HandOutcome.PUSH          9764\n",
      "HandOutcome.BLACKJACK     4609\n",
      "Name: outcome, dtype: int64, -0.059635)\n",
      "(HandOutcome.LOSE         51666\n",
      "HandOutcome.WIN          37516\n",
      "HandOutcome.PUSH          6389\n",
      "HandOutcome.BLACKJACK     4429\n",
      "Name: outcome, dtype: int64, -0.075065)\n",
      "(HandOutcome.LOSE           46050\n",
      "HandOutcome.WIN            34815\n",
      "HandOutcome.PUSH            8874\n",
      "HandOutcome.BLACKJACK       4506\n",
      "HandOutcome.WIN_DOUBLE      3330\n",
      "HandOutcome.LOSE_DOUBLE     2425\n",
      "Name: outcome, dtype: int64, -0.02666)\n"
     ]
    }
   ],
   "source": [
    "for strat in [strat_dealer, strat_nobust, strat_simple]:\n",
    "    print(summarize_totals(run_n_sim_trials(strat, 100000)))\n"
   ]
  },
  {
   "cell_type": "markdown",
   "id": "naked-anime",
   "metadata": {},
   "source": [
    "## Simulate specific situations to determine strategy"
   ]
  },
  {
   "cell_type": "code",
   "execution_count": 29,
   "id": "recreational-america",
   "metadata": {
    "ExecuteTime": {
     "end_time": "2021-06-28T22:48:26.277038Z",
     "start_time": "2021-06-28T22:48:26.274666Z"
    }
   },
   "outputs": [
    {
     "data": {
      "text/plain": [
       "(Hand(score=12, soft=False, cards=[5, 7], doubled=False),\n",
       " Hand(score=2, soft=False, cards=[2], doubled=False))"
      ]
     },
     "execution_count": 29,
     "metadata": {},
     "output_type": "execute_result"
    }
   ],
   "source": [
    "# 12 vs deuce\n",
    "\n",
    "hand_p = add_card(add_card(Hand(), 5), 7)\n",
    "hand_d = add_card(Hand(), 2)\n",
    "\n",
    "hand_p, hand_d"
   ]
  },
  {
   "cell_type": "code",
   "execution_count": 30,
   "id": "motivated-launch",
   "metadata": {
    "ExecuteTime": {
     "end_time": "2021-06-28T22:48:26.280299Z",
     "start_time": "2021-06-28T22:48:26.277860Z"
    }
   },
   "outputs": [],
   "source": [
    "# Generate a set of strategies (one strategy per action) that default to strat_base, but\n",
    "# when condition is true, always performs the specific action\n",
    "def gen_cond_strategy(strat_base, condition, action):\n",
    "    def strat_cond(hand, dealer):\n",
    "        if condition(hand, dealer):\n",
    "            return action\n",
    "        else: return strat_base(hand, dealer)\n",
    "    \n",
    "    return strat_cond\n",
    "\n",
    "def gen_cond_strategies(strat_base, condition, actions):\n",
    "    return [gen_cond_strategy(strat_base, condition, a) for a in actions]\n",
    "\n",
    "def cond_12_2(hand, dealer):\n",
    "    return hand.score == 12 and dealer.score == 2 and not hand.soft"
   ]
  },
  {
   "cell_type": "code",
   "execution_count": null,
   "id": "developmental-button",
   "metadata": {},
   "outputs": [],
   "source": []
  },
  {
   "cell_type": "code",
   "execution_count": 31,
   "id": "indirect-institute",
   "metadata": {
    "ExecuteTime": {
     "end_time": "2021-06-28T22:48:26.283729Z",
     "start_time": "2021-06-28T22:48:26.281085Z"
    }
   },
   "outputs": [
    {
     "data": {
      "text/plain": [
       "[<function __main__.gen_cond_strategy.<locals>.strat_cond(hand, dealer)>,\n",
       " <function __main__.gen_cond_strategy.<locals>.strat_cond(hand, dealer)>,\n",
       " <function __main__.gen_cond_strategy.<locals>.strat_cond(hand, dealer)>]"
      ]
     },
     "execution_count": 31,
     "metadata": {},
     "output_type": "execute_result"
    }
   ],
   "source": [
    "strats = gen_cond_strategies(strat_simple, cond_12_2, [Action.HIT, Action.STAND, Action.DOUBLE])\n",
    "strats"
   ]
  },
  {
   "cell_type": "code",
   "execution_count": 32,
   "id": "cleared-lambda",
   "metadata": {
    "ExecuteTime": {
     "end_time": "2021-06-28T22:48:26.287363Z",
     "start_time": "2021-06-28T22:48:26.284777Z"
    }
   },
   "outputs": [
    {
     "data": {
      "text/plain": [
       "(Hand(score=19, soft=False, cards=[5, 7, 7], doubled=False),\n",
       " Hand(score=19, soft=False, cards=[2, 7, 12], doubled=False),\n",
       " <HandOutcome.PUSH: 0>)"
      ]
     },
     "execution_count": 32,
     "metadata": {},
     "output_type": "execute_result"
    }
   ],
   "source": [
    "complete_one_hand(strats[0], hand_p, hand_d)"
   ]
  },
  {
   "cell_type": "code",
   "execution_count": 33,
   "id": "requested-preparation",
   "metadata": {
    "ExecuteTime": {
     "end_time": "2021-06-28T22:48:26.299746Z",
     "start_time": "2021-06-28T22:48:26.288362Z"
    }
   },
   "outputs": [
    {
     "data": {
      "text/html": [
       "<div>\n",
       "<style scoped>\n",
       "    .dataframe tbody tr th:only-of-type {\n",
       "        vertical-align: middle;\n",
       "    }\n",
       "\n",
       "    .dataframe tbody tr th {\n",
       "        vertical-align: top;\n",
       "    }\n",
       "\n",
       "    .dataframe thead th {\n",
       "        text-align: right;\n",
       "    }\n",
       "</style>\n",
       "<table border=\"1\" class=\"dataframe\">\n",
       "  <thead>\n",
       "    <tr style=\"text-align: right;\">\n",
       "      <th></th>\n",
       "      <th>hand_start</th>\n",
       "      <th>dealer_card</th>\n",
       "      <th>hand_end</th>\n",
       "      <th>dealer_hand</th>\n",
       "      <th>outcome</th>\n",
       "    </tr>\n",
       "  </thead>\n",
       "  <tbody>\n",
       "    <tr>\n",
       "      <th>0</th>\n",
       "      <td>[5, 7]</td>\n",
       "      <td>2</td>\n",
       "      <td>[5, 7, 13]</td>\n",
       "      <td>[2, 7, 9]</td>\n",
       "      <td>HandOutcome.LOSE</td>\n",
       "    </tr>\n",
       "    <tr>\n",
       "      <th>1</th>\n",
       "      <td>[5, 7]</td>\n",
       "      <td>2</td>\n",
       "      <td>[5, 7, 1, 13]</td>\n",
       "      <td>[2, 11, 5]</td>\n",
       "      <td>HandOutcome.LOSE</td>\n",
       "    </tr>\n",
       "    <tr>\n",
       "      <th>2</th>\n",
       "      <td>[5, 7]</td>\n",
       "      <td>2</td>\n",
       "      <td>[5, 7, 12]</td>\n",
       "      <td>[2, 2, 12, 9]</td>\n",
       "      <td>HandOutcome.LOSE</td>\n",
       "    </tr>\n",
       "    <tr>\n",
       "      <th>3</th>\n",
       "      <td>[5, 7]</td>\n",
       "      <td>2</td>\n",
       "      <td>[5, 7, 9]</td>\n",
       "      <td>[2, 13, 9]</td>\n",
       "      <td>HandOutcome.PUSH</td>\n",
       "    </tr>\n",
       "    <tr>\n",
       "      <th>4</th>\n",
       "      <td>[5, 7]</td>\n",
       "      <td>2</td>\n",
       "      <td>[5, 7, 10]</td>\n",
       "      <td>[2, 4, 5, 6]</td>\n",
       "      <td>HandOutcome.LOSE</td>\n",
       "    </tr>\n",
       "    <tr>\n",
       "      <th>5</th>\n",
       "      <td>[5, 7]</td>\n",
       "      <td>2</td>\n",
       "      <td>[5, 7, 9]</td>\n",
       "      <td>[2, 4, 13, 5]</td>\n",
       "      <td>HandOutcome.PUSH</td>\n",
       "    </tr>\n",
       "    <tr>\n",
       "      <th>6</th>\n",
       "      <td>[5, 7]</td>\n",
       "      <td>2</td>\n",
       "      <td>[5, 7, 12]</td>\n",
       "      <td>[2, 2, 4, 2, 8]</td>\n",
       "      <td>HandOutcome.LOSE</td>\n",
       "    </tr>\n",
       "    <tr>\n",
       "      <th>7</th>\n",
       "      <td>[5, 7]</td>\n",
       "      <td>2</td>\n",
       "      <td>[5, 7, 4, 1]</td>\n",
       "      <td>[2, 13, 13]</td>\n",
       "      <td>HandOutcome.WIN</td>\n",
       "    </tr>\n",
       "    <tr>\n",
       "      <th>8</th>\n",
       "      <td>[5, 7]</td>\n",
       "      <td>2</td>\n",
       "      <td>[5, 7, 13]</td>\n",
       "      <td>[2, 11, 7]</td>\n",
       "      <td>HandOutcome.LOSE</td>\n",
       "    </tr>\n",
       "    <tr>\n",
       "      <th>9</th>\n",
       "      <td>[5, 7]</td>\n",
       "      <td>2</td>\n",
       "      <td>[5, 7, 11]</td>\n",
       "      <td>[2, 1, 12, 4]</td>\n",
       "      <td>HandOutcome.LOSE</td>\n",
       "    </tr>\n",
       "  </tbody>\n",
       "</table>\n",
       "</div>"
      ],
      "text/plain": [
       "  hand_start  dealer_card       hand_end      dealer_hand           outcome\n",
       "0     [5, 7]            2     [5, 7, 13]        [2, 7, 9]  HandOutcome.LOSE\n",
       "1     [5, 7]            2  [5, 7, 1, 13]       [2, 11, 5]  HandOutcome.LOSE\n",
       "2     [5, 7]            2     [5, 7, 12]    [2, 2, 12, 9]  HandOutcome.LOSE\n",
       "3     [5, 7]            2      [5, 7, 9]       [2, 13, 9]  HandOutcome.PUSH\n",
       "4     [5, 7]            2     [5, 7, 10]     [2, 4, 5, 6]  HandOutcome.LOSE\n",
       "5     [5, 7]            2      [5, 7, 9]    [2, 4, 13, 5]  HandOutcome.PUSH\n",
       "6     [5, 7]            2     [5, 7, 12]  [2, 2, 4, 2, 8]  HandOutcome.LOSE\n",
       "7     [5, 7]            2   [5, 7, 4, 1]      [2, 13, 13]   HandOutcome.WIN\n",
       "8     [5, 7]            2     [5, 7, 13]       [2, 11, 7]  HandOutcome.LOSE\n",
       "9     [5, 7]            2     [5, 7, 11]    [2, 1, 12, 4]  HandOutcome.LOSE"
      ]
     },
     "execution_count": 33,
     "metadata": {},
     "output_type": "execute_result"
    }
   ],
   "source": [
    "\n",
    "\n",
    "def run_n_sim_trials_from_state(strat, hand_p, hand_d, n):\n",
    "    sims = pd.DataFrame([generate_row_from_hand(complete_one_hand(strat, hand_p, hand_d)) for _ in range(n)])\n",
    "    return sims\n",
    "\n",
    "run_n_sim_trials_from_state(strats[0], hand_p, hand_d, 10)"
   ]
  },
  {
   "cell_type": "code",
   "execution_count": 34,
   "id": "convertible-african",
   "metadata": {
    "ExecuteTime": {
     "end_time": "2021-06-28T22:48:36.814033Z",
     "start_time": "2021-06-28T22:48:26.300650Z"
    }
   },
   "outputs": [
    {
     "name": "stdout",
     "output_type": "stream",
     "text": [
      "(HandOutcome.LOSE    60938\n",
      "HandOutcome.WIN     32311\n",
      "HandOutcome.PUSH     6751\n",
      "Name: outcome, dtype: int64, -0.28627)\n",
      "(HandOutcome.LOSE    64035\n",
      "HandOutcome.WIN     35965\n",
      "Name: outcome, dtype: int64, -0.2807)\n",
      "(HandOutcome.LOSE_DOUBLE    59646\n",
      "HandOutcome.WIN_DOUBLE     35459\n",
      "HandOutcome.PUSH            4895\n",
      "Name: outcome, dtype: int64, -0.48374)\n",
      "(HandOutcome.LOSE    60968\n",
      "HandOutcome.WIN     32672\n",
      "HandOutcome.PUSH     6360\n",
      "Name: outcome, dtype: int64, -0.28296)\n"
     ]
    }
   ],
   "source": [
    "for strat in [strats[0], strats[1], strats[2], strat_simple]:\n",
    "    print(summarize_totals(run_n_sim_trials_from_state(strat, hand_p, hand_d, 100000)))"
   ]
  },
  {
   "cell_type": "code",
   "execution_count": 35,
   "id": "south-harvest",
   "metadata": {
    "ExecuteTime": {
     "end_time": "2021-06-28T22:48:36.828168Z",
     "start_time": "2021-06-28T22:48:36.815116Z"
    }
   },
   "outputs": [
    {
     "name": "stdout",
     "output_type": "stream",
     "text": [
      "(HandOutcome.LOSE    60\n",
      "HandOutcome.WIN     37\n",
      "HandOutcome.PUSH     3\n",
      "Name: outcome, dtype: int64, -0.23)\n",
      "(HandOutcome.LOSE    67\n",
      "HandOutcome.WIN     33\n",
      "Name: outcome, dtype: int64, -0.34)\n",
      "(HandOutcome.LOSE    59\n",
      "HandOutcome.WIN     37\n",
      "HandOutcome.PUSH     4\n",
      "Name: outcome, dtype: int64, -0.22)\n"
     ]
    }
   ],
   "source": [
    "for strat in [strats[0], strats[1], strat_simple]:\n",
    "    print(summarize_totals(run_n_sim_trials_from_state(strat, hand_p, hand_d, 100)))"
   ]
  },
  {
   "cell_type": "code",
   "execution_count": 36,
   "id": "induced-gazette",
   "metadata": {
    "ExecuteTime": {
     "end_time": "2021-06-28T22:48:36.831817Z",
     "start_time": "2021-06-28T22:48:36.829228Z"
    }
   },
   "outputs": [
    {
     "data": {
      "text/plain": [
       "(Hand(score=12, soft=True, cards=[1, 1], doubled=False),\n",
       " Hand(score=2, soft=False, cards=[2], doubled=False))"
      ]
     },
     "execution_count": 36,
     "metadata": {},
     "output_type": "execute_result"
    }
   ],
   "source": [
    "# Soft 12 vs 2\n",
    "hand_p = add_card(add_card(Hand(), 1), 1)\n",
    "hand_d = add_card(Hand(), 2)\n",
    "hand_p, hand_d"
   ]
  },
  {
   "cell_type": "code",
   "execution_count": 37,
   "id": "strong-recycling",
   "metadata": {
    "ExecuteTime": {
     "end_time": "2021-06-28T22:50:35.628752Z",
     "start_time": "2021-06-28T22:48:36.832814Z"
    }
   },
   "outputs": [
    {
     "name": "stdout",
     "output_type": "stream",
     "text": [
      "(HandOutcome.LOSE           480345\n",
      "HandOutcome.WIN            322751\n",
      "HandOutcome.PUSH            78836\n",
      "HandOutcome.WIN_DOUBLE      74827\n",
      "HandOutcome.LOSE_DOUBLE     43241\n",
      "Name: outcome, dtype: int64, -0.094422)\n",
      "(HandOutcome.LOSE           491299\n",
      "HandOutcome.WIN            335824\n",
      "HandOutcome.WIN_DOUBLE      74979\n",
      "HandOutcome.PUSH            54634\n",
      "HandOutcome.LOSE_DOUBLE     43264\n",
      "Name: outcome, dtype: int64, -0.092045)\n",
      "(HandOutcome.LOSE_DOUBLE    261701\n",
      "HandOutcome.LOSE           258409\n",
      "HandOutcome.WIN_DOUBLE     204718\n",
      "HandOutcome.WIN            202930\n",
      "HandOutcome.PUSH            72242\n",
      "Name: outcome, dtype: int64, -0.169445)\n",
      "(HandOutcome.LOSE           480573\n",
      "HandOutcome.WIN            322564\n",
      "HandOutcome.PUSH            78935\n",
      "HandOutcome.WIN_DOUBLE      74517\n",
      "HandOutcome.LOSE_DOUBLE     43411\n",
      "Name: outcome, dtype: int64, -0.095797)\n"
     ]
    }
   ],
   "source": [
    "for strat in [strats[0], strats[1], strats[2], strat_simple]:\n",
    "    print(summarize_totals(run_n_sim_trials_from_state(strat, hand_p, hand_d, 1000*1000)))"
   ]
  },
  {
   "cell_type": "code",
   "execution_count": null,
   "id": "finite-advance",
   "metadata": {},
   "outputs": [],
   "source": []
  },
  {
   "cell_type": "code",
   "execution_count": 38,
   "id": "joint-ancient",
   "metadata": {
    "ExecuteTime": {
     "end_time": "2021-06-28T22:50:35.631781Z",
     "start_time": "2021-06-28T22:50:35.629638Z"
    }
   },
   "outputs": [],
   "source": [
    "# Implement a strategy that composes conditions and actions\n",
    "conditions = [(cond_12_2, Action.STAND)]\n",
    "\n",
    "def generate_strat_conditional(strat_base, conditions):\n",
    "    def strat_cond(hand, dealer):\n",
    "        for (condition, action) in conditions:\n",
    "            if condition(hand, dealer): return action\n",
    "        return strat_base(hand, dealer)\n",
    "    return strat_cond\n",
    "    \n",
    "strat_cond = generate_strat_conditional(strat_simple, conditions)"
   ]
  },
  {
   "cell_type": "code",
   "execution_count": 39,
   "id": "labeled-suggestion",
   "metadata": {
    "ExecuteTime": {
     "end_time": "2021-06-28T22:50:41.246856Z",
     "start_time": "2021-06-28T22:50:35.632638Z"
    }
   },
   "outputs": [
    {
     "name": "stdout",
     "output_type": "stream",
     "text": [
      "(HandOutcome.LOSE           48041\n",
      "HandOutcome.WIN            32236\n",
      "HandOutcome.PUSH            7908\n",
      "HandOutcome.WIN_DOUBLE      7431\n",
      "HandOutcome.LOSE_DOUBLE     4384\n",
      "Name: outcome, dtype: int64, -0.09711)\n",
      "(HandOutcome.LOSE           49325\n",
      "HandOutcome.WIN            33514\n",
      "HandOutcome.WIN_DOUBLE      7408\n",
      "HandOutcome.PUSH            5482\n",
      "HandOutcome.LOSE_DOUBLE     4271\n",
      "Name: outcome, dtype: int64, -0.09537)\n"
     ]
    }
   ],
   "source": [
    "for strat in [strat_simple, strat_cond]:\n",
    "    print(summarize_totals(run_n_sim_trials_from_state(strat, hand_p, hand_d, 100*1000)))"
   ]
  },
  {
   "cell_type": "code",
   "execution_count": 40,
   "id": "disturbed-negotiation",
   "metadata": {
    "ExecuteTime": {
     "end_time": "2021-06-28T22:51:38.434221Z",
     "start_time": "2021-06-28T22:50:41.247784Z"
    }
   },
   "outputs": [
    {
     "name": "stdout",
     "output_type": "stream",
     "text": [
      "(HandOutcome.LOSE           461026\n",
      "HandOutcome.WIN            349006\n",
      "HandOutcome.PUSH            87049\n",
      "HandOutcome.BLACKJACK       45142\n",
      "HandOutcome.WIN_DOUBLE      32813\n",
      "HandOutcome.LOSE_DOUBLE     24964\n",
      "Name: outcome, dtype: int64, -0.028609)\n",
      "(HandOutcome.LOSE           461292\n",
      "HandOutcome.WIN            349707\n",
      "HandOutcome.PUSH            86323\n",
      "HandOutcome.BLACKJACK       44990\n",
      "HandOutcome.WIN_DOUBLE      33089\n",
      "HandOutcome.LOSE_DOUBLE     24599\n",
      "Name: outcome, dtype: int64, -0.02712)\n"
     ]
    }
   ],
   "source": [
    "for strat in [strat_simple, strat_cond]:\n",
    "    print(summarize_totals(run_n_sim_trials(strat, 1000000)))\n"
   ]
  },
  {
   "cell_type": "code",
   "execution_count": null,
   "id": "viral-crazy",
   "metadata": {},
   "outputs": [],
   "source": []
  }
 ],
 "metadata": {
  "kernelspec": {
   "display_name": "Python 3",
   "language": "python",
   "name": "python3"
  },
  "language_info": {
   "codemirror_mode": {
    "name": "ipython",
    "version": 3
   },
   "file_extension": ".py",
   "mimetype": "text/x-python",
   "name": "python",
   "nbconvert_exporter": "python",
   "pygments_lexer": "ipython3",
   "version": "3.8.8"
  }
 },
 "nbformat": 4,
 "nbformat_minor": 5
}
