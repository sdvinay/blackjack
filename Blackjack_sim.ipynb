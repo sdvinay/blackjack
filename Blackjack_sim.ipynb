{
 "cells": [
  {
   "cell_type": "code",
   "execution_count": 1,
   "id": "middle-scenario",
   "metadata": {
    "ExecuteTime": {
     "end_time": "2021-07-25T01:13:18.598236Z",
     "start_time": "2021-07-25T01:13:17.831037Z"
    }
   },
   "outputs": [],
   "source": [
    "import pandas as pd\n",
    "import matplotlib.pyplot as plt\n",
    "import seaborn as sns\n",
    "\n",
    "\n",
    "import blackjack as bj\n",
    "from blackjack import Hand, HandScore, Action, make_hand\n",
    "import simulator as sim\n",
    "import optimizer as opt"
   ]
  },
  {
   "cell_type": "code",
   "execution_count": 2,
   "id": "floating-forge",
   "metadata": {
    "ExecuteTime": {
     "end_time": "2021-07-25T01:13:18.602187Z",
     "start_time": "2021-07-25T01:13:18.599359Z"
    }
   },
   "outputs": [
    {
     "data": {
      "text/plain": [
       "s11"
      ]
     },
     "execution_count": 2,
     "metadata": {},
     "output_type": "execute_result"
    }
   ],
   "source": [
    "h = HandScore(11, True)\n",
    "h"
   ]
  },
  {
   "cell_type": "code",
   "execution_count": 3,
   "id": "pointed-judge",
   "metadata": {
    "ExecuteTime": {
     "end_time": "2021-07-25T01:13:18.605468Z",
     "start_time": "2021-07-25T01:13:18.603475Z"
    }
   },
   "outputs": [
    {
     "data": {
      "text/plain": [
       "s21"
      ]
     },
     "execution_count": 3,
     "metadata": {},
     "output_type": "execute_result"
    }
   ],
   "source": [
    "h.add_card(10)"
   ]
  },
  {
   "cell_type": "code",
   "execution_count": 4,
   "id": "mounted-kernel",
   "metadata": {
    "ExecuteTime": {
     "end_time": "2021-07-25T01:13:18.608351Z",
     "start_time": "2021-07-25T01:13:18.606517Z"
    }
   },
   "outputs": [
    {
     "data": {
      "text/plain": [
       "h21"
      ]
     },
     "execution_count": 4,
     "metadata": {},
     "output_type": "execute_result"
    }
   ],
   "source": [
    "h.add_card(10).add_card(10)"
   ]
  },
  {
   "cell_type": "code",
   "execution_count": 5,
   "id": "static-printer",
   "metadata": {
    "ExecuteTime": {
     "end_time": "2021-07-25T01:13:18.612401Z",
     "start_time": "2021-07-25T01:13:18.609656Z"
    }
   },
   "outputs": [
    {
     "data": {
      "text/plain": [
       "s11"
      ]
     },
     "execution_count": 5,
     "metadata": {},
     "output_type": "execute_result"
    }
   ],
   "source": [
    "h"
   ]
  },
  {
   "cell_type": "code",
   "execution_count": 6,
   "id": "turkish-state",
   "metadata": {
    "ExecuteTime": {
     "end_time": "2021-07-25T01:13:18.616214Z",
     "start_time": "2021-07-25T01:13:18.613810Z"
    }
   },
   "outputs": [
    {
     "data": {
      "text/plain": [
       "s14"
      ]
     },
     "execution_count": 6,
     "metadata": {},
     "output_type": "execute_result"
    }
   ],
   "source": [
    "h.add_card(3)"
   ]
  },
  {
   "cell_type": "code",
   "execution_count": 7,
   "id": "cubic-object",
   "metadata": {
    "ExecuteTime": {
     "end_time": "2021-07-25T01:13:18.619358Z",
     "start_time": "2021-07-25T01:13:18.617119Z"
    }
   },
   "outputs": [
    {
     "data": {
      "text/plain": [
       "h14"
      ]
     },
     "execution_count": 7,
     "metadata": {},
     "output_type": "execute_result"
    }
   ],
   "source": [
    "h.add_card(3).add_card(10)"
   ]
  },
  {
   "cell_type": "code",
   "execution_count": 8,
   "id": "afraid-bristol",
   "metadata": {
    "ExecuteTime": {
     "end_time": "2021-07-25T01:13:18.624597Z",
     "start_time": "2021-07-25T01:13:18.621607Z"
    }
   },
   "outputs": [
    {
     "data": {
      "text/plain": [
       "[h00,\n",
       " h01,\n",
       " h02,\n",
       " h03,\n",
       " h04,\n",
       " h05,\n",
       " h06,\n",
       " h07,\n",
       " h08,\n",
       " h09,\n",
       " h10,\n",
       " h11,\n",
       " h12,\n",
       " h13,\n",
       " h14,\n",
       " h15,\n",
       " h16,\n",
       " h17,\n",
       " h18,\n",
       " h19,\n",
       " h20,\n",
       " h21,\n",
       " h22,\n",
       " s11,\n",
       " s12,\n",
       " s13,\n",
       " s14,\n",
       " s15,\n",
       " s16,\n",
       " s17,\n",
       " s18,\n",
       " s19,\n",
       " s20,\n",
       " s21]"
      ]
     },
     "execution_count": 8,
     "metadata": {},
     "output_type": "execute_result"
    }
   ],
   "source": [
    "all_scores = [HandScore(i, False) for i in range(0, 23)] + [HandScore(i, True) for i in range(11, 22)]\n",
    "all_scores"
   ]
  },
  {
   "cell_type": "code",
   "execution_count": 9,
   "id": "initial-harrison",
   "metadata": {
    "ExecuteTime": {
     "end_time": "2021-07-25T01:13:18.628464Z",
     "start_time": "2021-07-25T01:13:18.626336Z"
    }
   },
   "outputs": [
    {
     "data": {
      "text/plain": [
       "Hand(score=h00, cards=[], doubled=False, drawn=False)"
      ]
     },
     "execution_count": 9,
     "metadata": {},
     "output_type": "execute_result"
    }
   ],
   "source": [
    "h = Hand()\n",
    "h"
   ]
  },
  {
   "cell_type": "code",
   "execution_count": 10,
   "id": "reduced-cover",
   "metadata": {
    "ExecuteTime": {
     "end_time": "2021-07-25T01:13:18.631764Z",
     "start_time": "2021-07-25T01:13:18.629393Z"
    }
   },
   "outputs": [
    {
     "data": {
      "text/plain": [
       "Hand(score=h06, cards=[6], doubled=False, drawn=False)"
      ]
     },
     "execution_count": 10,
     "metadata": {},
     "output_type": "execute_result"
    }
   ],
   "source": [
    "h.add_card(6) # start a hand with a 6"
   ]
  },
  {
   "cell_type": "code",
   "execution_count": 11,
   "id": "aging-green",
   "metadata": {
    "ExecuteTime": {
     "end_time": "2021-07-25T01:13:18.635093Z",
     "start_time": "2021-07-25T01:13:18.632770Z"
    }
   },
   "outputs": [
    {
     "data": {
      "text/plain": [
       "Hand(score=h16, cards=[6, 11], doubled=False, drawn=False)"
      ]
     },
     "execution_count": 11,
     "metadata": {},
     "output_type": "execute_result"
    }
   ],
   "source": [
    "h.add_card(11) # show that J (11) counts as 10 points"
   ]
  },
  {
   "cell_type": "code",
   "execution_count": 12,
   "id": "humanitarian-chair",
   "metadata": {
    "ExecuteTime": {
     "end_time": "2021-07-25T01:13:18.638388Z",
     "start_time": "2021-07-25T01:13:18.635998Z"
    }
   },
   "outputs": [
    {
     "data": {
      "text/plain": [
       "(Hand(score=h22, cards=[6, 11, 7], doubled=False, drawn=False), True)"
      ]
     },
     "execution_count": 12,
     "metadata": {},
     "output_type": "execute_result"
    }
   ],
   "source": [
    "h.add_card(7), bj.is_busted(h) # bust (show that 23 is counted as 22)"
   ]
  },
  {
   "cell_type": "code",
   "execution_count": 13,
   "id": "accompanied-perspective",
   "metadata": {
    "ExecuteTime": {
     "end_time": "2021-07-25T01:13:18.641818Z",
     "start_time": "2021-07-25T01:13:18.639404Z"
    }
   },
   "outputs": [
    {
     "data": {
      "text/plain": [
       "Hand(score=s11, cards=[1], doubled=False, drawn=False)"
      ]
     },
     "execution_count": 13,
     "metadata": {},
     "output_type": "execute_result"
    }
   ],
   "source": [
    "# OK, now let's try another hand with aces\n",
    "h = Hand()\n",
    "h.add_card(1) # should be a soft 11"
   ]
  },
  {
   "cell_type": "code",
   "execution_count": 14,
   "id": "exotic-checkout",
   "metadata": {
    "ExecuteTime": {
     "end_time": "2021-07-25T01:13:18.645894Z",
     "start_time": "2021-07-25T01:13:18.642908Z"
    }
   },
   "outputs": [
    {
     "data": {
      "text/plain": [
       "Hand(score=s12, cards=[1, 1], doubled=False, drawn=False)"
      ]
     },
     "execution_count": 14,
     "metadata": {},
     "output_type": "execute_result"
    }
   ],
   "source": [
    "h.add_card(1) # two aces: should be a soft 12"
   ]
  },
  {
   "cell_type": "code",
   "execution_count": 15,
   "id": "italian-beads",
   "metadata": {
    "ExecuteTime": {
     "end_time": "2021-07-25T01:13:18.649269Z",
     "start_time": "2021-07-25T01:13:18.646803Z"
    }
   },
   "outputs": [
    {
     "data": {
      "text/plain": [
       "Hand(score=h12, cards=[1, 1, 11], doubled=False, drawn=False)"
      ]
     },
     "execution_count": 15,
     "metadata": {},
     "output_type": "execute_result"
    }
   ],
   "source": [
    "h.add_card(11) # two aces and a J: should be a hard 12"
   ]
  },
  {
   "cell_type": "code",
   "execution_count": 16,
   "id": "neutral-sugar",
   "metadata": {
    "ExecuteTime": {
     "end_time": "2021-07-25T01:13:18.652828Z",
     "start_time": "2021-07-25T01:13:18.650399Z"
    }
   },
   "outputs": [
    {
     "data": {
      "text/plain": [
       "(Hand(score=s21, cards=[1, 10], doubled=False, drawn=False), True)"
      ]
     },
     "execution_count": 16,
     "metadata": {},
     "output_type": "execute_result"
    }
   ],
   "source": [
    "# OK, now let's try another hand with a blackjack\n",
    "h = Hand()\n",
    "h.add_card(1) # should be a soft 11\n",
    "h.add_card(10)\n",
    "h, bj.is_blackjack(h)"
   ]
  },
  {
   "cell_type": "markdown",
   "id": "dental-kelly",
   "metadata": {},
   "source": [
    "## Now define gameplay and strategy"
   ]
  },
  {
   "cell_type": "code",
   "execution_count": 17,
   "id": "secondary-crown",
   "metadata": {
    "ExecuteTime": {
     "end_time": "2021-07-25T01:13:18.657627Z",
     "start_time": "2021-07-25T01:13:18.653739Z"
    }
   },
   "outputs": [
    {
     "data": {
      "text/plain": [
       "[1, 10, 5, 11, 6, 7, 1, 2, 9, 10]"
      ]
     },
     "execution_count": 17,
     "metadata": {},
     "output_type": "execute_result"
    }
   ],
   "source": [
    "[bj.deal_card() for _ in range(10)]"
   ]
  },
  {
   "cell_type": "code",
   "execution_count": 18,
   "id": "atomic-plaintiff",
   "metadata": {
    "ExecuteTime": {
     "end_time": "2021-07-25T01:13:18.662338Z",
     "start_time": "2021-07-25T01:13:18.659574Z"
    }
   },
   "outputs": [
    {
     "data": {
      "text/plain": [
       "[('strat_nobust',\n",
       "  Hand(score=h14, cards=[2, 9, 3], doubled=False, drawn=True),\n",
       "  Hand(score=h17, cards=[10, 7], doubled=False, drawn=False),\n",
       "  <HandOutcome.LOSE: -1>),\n",
       " ('strat_nobust',\n",
       "  Hand(score=h21, cards=[2, 9, 10], doubled=False, drawn=True),\n",
       "  Hand(score=h17, cards=[10, 7], doubled=False, drawn=False),\n",
       "  <HandOutcome.WIN: 1>)]"
      ]
     },
     "execution_count": 18,
     "metadata": {},
     "output_type": "execute_result"
    }
   ],
   "source": [
    "bj.play_one_round([bj.strat_nobust, bj.strat_nobust])"
   ]
  },
  {
   "cell_type": "markdown",
   "id": "looking-jewelry",
   "metadata": {},
   "source": [
    "## Aggregate and summarize the data from the simulations"
   ]
  },
  {
   "cell_type": "code",
   "execution_count": 19,
   "id": "juvenile-joshua",
   "metadata": {
    "ExecuteTime": {
     "end_time": "2021-07-25T01:13:18.666882Z",
     "start_time": "2021-07-25T01:13:18.663603Z"
    }
   },
   "outputs": [
    {
     "data": {
      "text/plain": [
       "[{'strategy': 'strat_nobust',\n",
       "  'hand_start': [7, 7],\n",
       "  'dealer_card': 4,\n",
       "  'hand_end': [7, 7],\n",
       "  'dealer_hand': [4, 5, 11],\n",
       "  'outcome': <HandOutcome.LOSE: -1>},\n",
       " {'strategy': 'strat_dealer',\n",
       "  'hand_start': [7, 7],\n",
       "  'dealer_card': 4,\n",
       "  'hand_end': [7, 7, 2, 4],\n",
       "  'dealer_hand': [4, 5, 11],\n",
       "  'outcome': <HandOutcome.WIN: 1>}]"
      ]
     },
     "execution_count": 19,
     "metadata": {},
     "output_type": "execute_result"
    }
   ],
   "source": [
    "\n",
    "\n",
    "strat_nobust = bj.strat_nobust\n",
    "strat_dealer = bj.strat_dealer\n",
    "sim.generate_rows_from_round(bj.play_one_round([bj.strat_nobust, bj.strat_dealer]))\n"
   ]
  },
  {
   "cell_type": "code",
   "execution_count": 20,
   "id": "approved-broadway",
   "metadata": {
    "ExecuteTime": {
     "end_time": "2021-07-25T01:13:18.962491Z",
     "start_time": "2021-07-25T01:13:18.667826Z"
    }
   },
   "outputs": [],
   "source": [
    "\n",
    "\n",
    "sim_results = sim.run_n_sim_trials([strat_nobust, strat_dealer], 10000)\n",
    "#%prun -s cumulative sim_results, sim.summarize_totals(sim_results)"
   ]
  },
  {
   "cell_type": "code",
   "execution_count": 21,
   "id": "varied-devil",
   "metadata": {
    "ExecuteTime": {
     "end_time": "2021-07-25T01:13:19.005790Z",
     "start_time": "2021-07-25T01:13:18.963361Z"
    }
   },
   "outputs": [
    {
     "data": {
      "text/plain": [
       "(  strategy hand_start  dealer_card          hand_end    dealer_hand  \\\n",
       " 0   simple     [3, 9]           13        [3, 9, 12]     [13, 2, 7]   \n",
       " 1   simple     [8, 3]            4         [8, 3, 5]      [4, 5, 9]   \n",
       " 2   simple   [10, 11]           10          [10, 11]        [10, 9]   \n",
       " 3   simple    [3, 12]           10       [3, 12, 13]  [10, 2, 2, 8]   \n",
       " 4   simple     [2, 8]            8        [2, 8, 12]         [8, 9]   \n",
       " 5   simple     [7, 3]           12  [7, 3, 2, 4, 11]        [12, 9]   \n",
       " 6   simple     [5, 6]            3        [5, 6, 12]  [3, 13, 3, 5]   \n",
       " 7   simple     [2, 8]           13         [2, 8, 9]    [13, 5, 10]   \n",
       " 8   simple    [10, 8]           12           [10, 8]        [12, 8]   \n",
       " 9   simple     [3, 8]           11         [3, 8, 9]       [11, 10]   \n",
       " \n",
       "                    outcome  outcome_value outcome_name  \n",
       " 0         HandOutcome.LOSE           -1.0         LOSE  \n",
       " 1  HandOutcome.LOSE_DOUBLE           -2.0  LOSE_DOUBLE  \n",
       " 2          HandOutcome.WIN            1.0          WIN  \n",
       " 3         HandOutcome.LOSE           -1.0         LOSE  \n",
       " 4          HandOutcome.WIN            1.0          WIN  \n",
       " 5         HandOutcome.LOSE           -1.0         LOSE  \n",
       " 6         HandOutcome.PUSH            0.0         PUSH  \n",
       " 7          HandOutcome.WIN            1.0          WIN  \n",
       " 8         HandOutcome.PUSH            0.0         PUSH  \n",
       " 9         HandOutcome.PUSH            0.0         PUSH  ,\n",
       "                    len                                       mean_outcome\n",
       " outcome_name BLACKJACK LOSE LOSE_DOUBLE PUSH  WIN WIN_DOUBLE             \n",
       " strategy                                                                 \n",
       " simple              51  467          16   92  352         22      -0.0265)"
      ]
     },
     "execution_count": 21,
     "metadata": {},
     "output_type": "execute_result"
    }
   ],
   "source": [
    "def strat_simple_func(score_p, score_d):\n",
    "    if score_p.points == 11:  return Action.DOUBLE\n",
    "    if score_p.points >= 17:  return Action.STAND\n",
    "    if score_p.points <= 11:  return Action.HIT\n",
    "    if score_d.points in (range(3,7)):  return Action.STAND\n",
    "    else:  return Action.HIT\n",
    "        \n",
    "strat_simple_func.name = 'simple'\n",
    "\n",
    "strat_simple = bj.Strategy_wrapper(strat_simple_func)\n",
    "sims = sim.run_n_sim_trials([strat_simple], 1000)\n",
    "sims.head(10), sim.summarize_totals(sims)"
   ]
  },
  {
   "cell_type": "code",
   "execution_count": 22,
   "id": "confirmed-passing",
   "metadata": {
    "ExecuteTime": {
     "end_time": "2021-07-25T01:13:19.825777Z",
     "start_time": "2021-07-25T01:13:19.006750Z"
    }
   },
   "outputs": [
    {
     "name": "stdout",
     "output_type": "stream",
     "text": [
      " "
     ]
    }
   ],
   "source": [
    "%prun -s cumulative sim.summarize_totals(sim.run_n_sim_trials([strat_dealer, strat_nobust, strat_simple], 10000))\n"
   ]
  },
  {
   "cell_type": "markdown",
   "id": "fluid-writing",
   "metadata": {},
   "source": [
    "## Simulate specific situations to determine strategy"
   ]
  },
  {
   "cell_type": "code",
   "execution_count": 23,
   "id": "otherwise-sheffield",
   "metadata": {
    "ExecuteTime": {
     "end_time": "2021-07-25T01:13:19.831881Z",
     "start_time": "2021-07-25T01:13:19.829772Z"
    }
   },
   "outputs": [
    {
     "data": {
      "text/plain": [
       "(Hand(score=h12, cards=[5, 7], doubled=False, drawn=False),\n",
       " Hand(score=h02, cards=[2], doubled=False, drawn=False))"
      ]
     },
     "execution_count": 23,
     "metadata": {},
     "output_type": "execute_result"
    }
   ],
   "source": [
    "# 12 vs deuce\n",
    "\n",
    "hand_p = make_hand([5, 7])\n",
    "hand_d = make_hand([2])\n",
    "\n",
    "hand_p, hand_d"
   ]
  },
  {
   "cell_type": "code",
   "execution_count": 24,
   "id": "gross-kennedy",
   "metadata": {
    "ExecuteTime": {
     "end_time": "2021-07-25T01:13:19.836583Z",
     "start_time": "2021-07-25T01:13:19.833531Z"
    }
   },
   "outputs": [
    {
     "data": {
      "text/plain": [
       "<blackjack.Strategy_wrapper at 0x7f8c7b75a9a0>"
      ]
     },
     "execution_count": 24,
     "metadata": {},
     "output_type": "execute_result"
    }
   ],
   "source": [
    "# Implement a strategy that composes conditions and actions\n",
    "\n",
    "def cond_12_2(score_p, score_d):\n",
    "    return score_p.points == 12 and score_d.points == 2 and not score_p.soft\n",
    "conditions = [(cond_12_2, Action.STAND)]\n",
    "\n",
    "\n",
    "    \n",
    "strat_cond = sim.generate_strat_conditional(strat_simple, conditions)\n",
    "strat_cond"
   ]
  },
  {
   "cell_type": "code",
   "execution_count": 25,
   "id": "virgin-mining",
   "metadata": {
    "ExecuteTime": {
     "end_time": "2021-07-25T01:13:19.842323Z",
     "start_time": "2021-07-25T01:13:19.837983Z"
    }
   },
   "outputs": [
    {
     "data": {
      "text/plain": [
       "[<blackjack.Strategy_wrapper at 0x7f8c797df730>,\n",
       " <blackjack.Strategy_wrapper at 0x7f8c797df9d0>,\n",
       " <blackjack.Strategy_wrapper at 0x7f8c58602e20>]"
      ]
     },
     "execution_count": 25,
     "metadata": {},
     "output_type": "execute_result"
    }
   ],
   "source": [
    "# Generate a conditional strategy for each action\n",
    "    \n",
    "strats = sim.gen_cond_strategies(strat_simple, cond_12_2, [Action.HIT, Action.STAND, Action.DOUBLE])\n",
    "strats"
   ]
  },
  {
   "cell_type": "code",
   "execution_count": 26,
   "id": "acoustic-warrant",
   "metadata": {
    "ExecuteTime": {
     "end_time": "2021-07-25T01:13:19.846007Z",
     "start_time": "2021-07-25T01:13:19.843259Z"
    }
   },
   "outputs": [
    {
     "data": {
      "text/plain": [
       "[('<Action.HIT: 2>',\n",
       "  Hand(score=h22, cards=[5, 7, 2, 13], doubled=False, drawn=True),\n",
       "  Hand(score=h21, cards=[2, 12, 2, 7], doubled=False, drawn=True),\n",
       "  <HandOutcome.LOSE: -1>),\n",
       " ('<Action.STAND: 1>',\n",
       "  Hand(score=h12, cards=[5, 7], doubled=False, drawn=False),\n",
       "  Hand(score=h21, cards=[2, 12, 2, 7], doubled=False, drawn=True),\n",
       "  <HandOutcome.LOSE: -1>),\n",
       " ('<Action.DOUBLE: 3>',\n",
       "  Hand(score=h20, cards=[5, 7, 8], doubled=True, drawn=True),\n",
       "  Hand(score=h21, cards=[2, 12, 2, 7], doubled=False, drawn=True),\n",
       "  <HandOutcome.LOSE_DOUBLE: -2>)]"
      ]
     },
     "execution_count": 26,
     "metadata": {},
     "output_type": "execute_result"
    }
   ],
   "source": [
    "bj.complete_one_round(strats, hand_p, hand_d, bj.deal_card())"
   ]
  },
  {
   "cell_type": "code",
   "execution_count": 27,
   "id": "economic-greene",
   "metadata": {
    "ExecuteTime": {
     "end_time": "2021-07-25T01:13:20.260628Z",
     "start_time": "2021-07-25T01:13:19.847015Z"
    }
   },
   "outputs": [
    {
     "data": {
      "text/html": [
       "<div>\n",
       "<style scoped>\n",
       "    .dataframe tbody tr th:only-of-type {\n",
       "        vertical-align: middle;\n",
       "    }\n",
       "\n",
       "    .dataframe tbody tr th {\n",
       "        vertical-align: top;\n",
       "    }\n",
       "\n",
       "    .dataframe thead tr th {\n",
       "        text-align: left;\n",
       "    }\n",
       "\n",
       "    .dataframe thead tr:last-of-type th {\n",
       "        text-align: right;\n",
       "    }\n",
       "</style>\n",
       "<table border=\"1\" class=\"dataframe\">\n",
       "  <thead>\n",
       "    <tr>\n",
       "      <th></th>\n",
       "      <th colspan=\"5\" halign=\"left\">len</th>\n",
       "      <th>mean_outcome</th>\n",
       "    </tr>\n",
       "    <tr>\n",
       "      <th>outcome_name</th>\n",
       "      <th>LOSE</th>\n",
       "      <th>LOSE_DOUBLE</th>\n",
       "      <th>PUSH</th>\n",
       "      <th>WIN</th>\n",
       "      <th>WIN_DOUBLE</th>\n",
       "      <th></th>\n",
       "    </tr>\n",
       "    <tr>\n",
       "      <th>strategy</th>\n",
       "      <th></th>\n",
       "      <th></th>\n",
       "      <th></th>\n",
       "      <th></th>\n",
       "      <th></th>\n",
       "      <th></th>\n",
       "    </tr>\n",
       "  </thead>\n",
       "  <tbody>\n",
       "    <tr>\n",
       "      <th>&lt;Action.DOUBLE: 3&gt;</th>\n",
       "      <td>0</td>\n",
       "      <td>5939</td>\n",
       "      <td>486</td>\n",
       "      <td>0</td>\n",
       "      <td>3575</td>\n",
       "      <td>-0.4728</td>\n",
       "    </tr>\n",
       "    <tr>\n",
       "      <th>&lt;Action.HIT: 2&gt;</th>\n",
       "      <td>6056</td>\n",
       "      <td>0</td>\n",
       "      <td>655</td>\n",
       "      <td>3289</td>\n",
       "      <td>0</td>\n",
       "      <td>-0.2767</td>\n",
       "    </tr>\n",
       "    <tr>\n",
       "      <th>&lt;Action.STAND: 1&gt;</th>\n",
       "      <td>6332</td>\n",
       "      <td>0</td>\n",
       "      <td>0</td>\n",
       "      <td>3668</td>\n",
       "      <td>0</td>\n",
       "      <td>-0.2664</td>\n",
       "    </tr>\n",
       "  </tbody>\n",
       "</table>\n",
       "</div>"
      ],
      "text/plain": [
       "                     len                                   mean_outcome\n",
       "outcome_name        LOSE LOSE_DOUBLE PUSH   WIN WIN_DOUBLE             \n",
       "strategy                                                               \n",
       "<Action.DOUBLE: 3>     0        5939  486     0       3575      -0.4728\n",
       "<Action.HIT: 2>     6056           0  655  3289          0      -0.2767\n",
       "<Action.STAND: 1>   6332           0    0  3668          0      -0.2664"
      ]
     },
     "execution_count": 27,
     "metadata": {},
     "output_type": "execute_result"
    }
   ],
   "source": [
    "\n",
    "\n",
    "sims = sim.run_n_sim_trials_from_state(strats, hand_p, hand_d, 10000)\n",
    "sim.summarize_totals(sims)"
   ]
  },
  {
   "cell_type": "code",
   "execution_count": 28,
   "id": "institutional-grain",
   "metadata": {
    "ExecuteTime": {
     "end_time": "2021-07-25T01:13:20.264487Z",
     "start_time": "2021-07-25T01:13:20.261615Z"
    }
   },
   "outputs": [
    {
     "data": {
      "text/plain": [
       "(Hand(score=s12, cards=[1, 1], doubled=False, drawn=False),\n",
       " Hand(score=h02, cards=[2], doubled=False, drawn=False))"
      ]
     },
     "execution_count": 28,
     "metadata": {},
     "output_type": "execute_result"
    }
   ],
   "source": [
    "# Soft 12 vs 2\n",
    "hand_12s = make_hand([1, 1])\n",
    "\n",
    "hand_12s, hand_d"
   ]
  },
  {
   "cell_type": "code",
   "execution_count": 29,
   "id": "legal-uniform",
   "metadata": {
    "ExecuteTime": {
     "end_time": "2021-07-25T01:13:20.268667Z",
     "start_time": "2021-07-25T01:13:20.265750Z"
    }
   },
   "outputs": [
    {
     "data": {
      "text/plain": [
       "[<blackjack.Strategy_wrapper at 0x7f8c6031e220>,\n",
       " <blackjack.Strategy_wrapper at 0x7f8c6031e2e0>,\n",
       " <blackjack.Strategy_wrapper at 0x7f8c6031e3a0>]"
      ]
     },
     "execution_count": 29,
     "metadata": {},
     "output_type": "execute_result"
    }
   ],
   "source": [
    "def cond_12s_2(score_p, score_d):\n",
    "    return score_p == HandScore(12, True) and score_d.points == 2\n",
    "\n",
    "strats = sim.gen_cond_strategies(strat_simple, cond_12s_2, [Action.HIT, Action.STAND, Action.DOUBLE])\n",
    "strats"
   ]
  },
  {
   "cell_type": "code",
   "execution_count": 30,
   "id": "british-logging",
   "metadata": {
    "ExecuteTime": {
     "end_time": "2021-07-25T01:13:20.929476Z",
     "start_time": "2021-07-25T01:13:20.269681Z"
    }
   },
   "outputs": [
    {
     "data": {
      "text/html": [
       "<div>\n",
       "<style scoped>\n",
       "    .dataframe tbody tr th:only-of-type {\n",
       "        vertical-align: middle;\n",
       "    }\n",
       "\n",
       "    .dataframe tbody tr th {\n",
       "        vertical-align: top;\n",
       "    }\n",
       "\n",
       "    .dataframe thead tr th {\n",
       "        text-align: left;\n",
       "    }\n",
       "\n",
       "    .dataframe thead tr:last-of-type th {\n",
       "        text-align: right;\n",
       "    }\n",
       "</style>\n",
       "<table border=\"1\" class=\"dataframe\">\n",
       "  <thead>\n",
       "    <tr>\n",
       "      <th></th>\n",
       "      <th colspan=\"5\" halign=\"left\">len</th>\n",
       "      <th>mean_outcome</th>\n",
       "    </tr>\n",
       "    <tr>\n",
       "      <th>outcome_name</th>\n",
       "      <th>LOSE</th>\n",
       "      <th>LOSE_DOUBLE</th>\n",
       "      <th>PUSH</th>\n",
       "      <th>WIN</th>\n",
       "      <th>WIN_DOUBLE</th>\n",
       "      <th></th>\n",
       "    </tr>\n",
       "    <tr>\n",
       "      <th>strategy</th>\n",
       "      <th></th>\n",
       "      <th></th>\n",
       "      <th></th>\n",
       "      <th></th>\n",
       "      <th></th>\n",
       "      <th></th>\n",
       "    </tr>\n",
       "  </thead>\n",
       "  <tbody>\n",
       "    <tr>\n",
       "      <th>&lt;Action.DOUBLE: 3&gt;</th>\n",
       "      <td>0</td>\n",
       "      <td>6397</td>\n",
       "      <td>0</td>\n",
       "      <td>0</td>\n",
       "      <td>3603</td>\n",
       "      <td>-0.5588</td>\n",
       "    </tr>\n",
       "    <tr>\n",
       "      <th>&lt;Action.HIT: 2&gt;</th>\n",
       "      <td>5312</td>\n",
       "      <td>0</td>\n",
       "      <td>821</td>\n",
       "      <td>3867</td>\n",
       "      <td>0</td>\n",
       "      <td>-0.1445</td>\n",
       "    </tr>\n",
       "    <tr>\n",
       "      <th>&lt;Action.STAND: 1&gt;</th>\n",
       "      <td>6397</td>\n",
       "      <td>0</td>\n",
       "      <td>0</td>\n",
       "      <td>3603</td>\n",
       "      <td>0</td>\n",
       "      <td>-0.2794</td>\n",
       "    </tr>\n",
       "    <tr>\n",
       "      <th>simple</th>\n",
       "      <td>5233</td>\n",
       "      <td>0</td>\n",
       "      <td>829</td>\n",
       "      <td>3938</td>\n",
       "      <td>0</td>\n",
       "      <td>-0.1295</td>\n",
       "    </tr>\n",
       "  </tbody>\n",
       "</table>\n",
       "</div>"
      ],
      "text/plain": [
       "                     len                                   mean_outcome\n",
       "outcome_name        LOSE LOSE_DOUBLE PUSH   WIN WIN_DOUBLE             \n",
       "strategy                                                               \n",
       "<Action.DOUBLE: 3>     0        6397    0     0       3603      -0.5588\n",
       "<Action.HIT: 2>     5312           0  821  3867          0      -0.1445\n",
       "<Action.STAND: 1>   6397           0    0  3603          0      -0.2794\n",
       "simple              5233           0  829  3938          0      -0.1295"
      ]
     },
     "execution_count": 30,
     "metadata": {},
     "output_type": "execute_result"
    }
   ],
   "source": [
    "sims = sim.run_n_sim_trials_from_state(strats+[strat_simple], hand_12s, hand_d, 10000)\n",
    "sim.summarize_totals(sims)"
   ]
  },
  {
   "cell_type": "code",
   "execution_count": 31,
   "id": "based-subscription",
   "metadata": {
    "ExecuteTime": {
     "end_time": "2021-07-25T01:13:21.214763Z",
     "start_time": "2021-07-25T01:13:20.930362Z"
    }
   },
   "outputs": [
    {
     "data": {
      "text/html": [
       "<div>\n",
       "<style scoped>\n",
       "    .dataframe tbody tr th:only-of-type {\n",
       "        vertical-align: middle;\n",
       "    }\n",
       "\n",
       "    .dataframe tbody tr th {\n",
       "        vertical-align: top;\n",
       "    }\n",
       "\n",
       "    .dataframe thead tr th {\n",
       "        text-align: left;\n",
       "    }\n",
       "\n",
       "    .dataframe thead tr:last-of-type th {\n",
       "        text-align: right;\n",
       "    }\n",
       "</style>\n",
       "<table border=\"1\" class=\"dataframe\">\n",
       "  <thead>\n",
       "    <tr>\n",
       "      <th></th>\n",
       "      <th colspan=\"3\" halign=\"left\">len</th>\n",
       "      <th>mean_outcome</th>\n",
       "    </tr>\n",
       "    <tr>\n",
       "      <th>outcome_name</th>\n",
       "      <th>LOSE</th>\n",
       "      <th>PUSH</th>\n",
       "      <th>WIN</th>\n",
       "      <th></th>\n",
       "    </tr>\n",
       "    <tr>\n",
       "      <th>strategy</th>\n",
       "      <th></th>\n",
       "      <th></th>\n",
       "      <th></th>\n",
       "      <th></th>\n",
       "    </tr>\n",
       "  </thead>\n",
       "  <tbody>\n",
       "    <tr>\n",
       "      <th>simple</th>\n",
       "      <td>6014</td>\n",
       "      <td>683</td>\n",
       "      <td>3303</td>\n",
       "      <td>-0.2711</td>\n",
       "    </tr>\n",
       "    <tr>\n",
       "      <th>strat_cond</th>\n",
       "      <td>6333</td>\n",
       "      <td>0</td>\n",
       "      <td>3667</td>\n",
       "      <td>-0.2666</td>\n",
       "    </tr>\n",
       "  </tbody>\n",
       "</table>\n",
       "</div>"
      ],
      "text/plain": [
       "               len            mean_outcome\n",
       "outcome_name  LOSE PUSH   WIN             \n",
       "strategy                                  \n",
       "simple        6014  683  3303      -0.2711\n",
       "strat_cond    6333    0  3667      -0.2666"
      ]
     },
     "execution_count": 31,
     "metadata": {},
     "output_type": "execute_result"
    }
   ],
   "source": [
    "sim.summarize_totals(sim.run_n_sim_trials_from_state([strat_simple, strat_cond], hand_p, hand_d, 10*1000))"
   ]
  },
  {
   "cell_type": "code",
   "execution_count": 32,
   "id": "vietnamese-spray",
   "metadata": {
    "ExecuteTime": {
     "end_time": "2021-07-25T01:13:21.786292Z",
     "start_time": "2021-07-25T01:13:21.215738Z"
    }
   },
   "outputs": [
    {
     "data": {
      "text/html": [
       "<div>\n",
       "<style scoped>\n",
       "    .dataframe tbody tr th:only-of-type {\n",
       "        vertical-align: middle;\n",
       "    }\n",
       "\n",
       "    .dataframe tbody tr th {\n",
       "        vertical-align: top;\n",
       "    }\n",
       "\n",
       "    .dataframe thead tr th {\n",
       "        text-align: left;\n",
       "    }\n",
       "\n",
       "    .dataframe thead tr:last-of-type th {\n",
       "        text-align: right;\n",
       "    }\n",
       "</style>\n",
       "<table border=\"1\" class=\"dataframe\">\n",
       "  <thead>\n",
       "    <tr>\n",
       "      <th></th>\n",
       "      <th colspan=\"5\" halign=\"left\">len</th>\n",
       "      <th>mean_outcome</th>\n",
       "    </tr>\n",
       "    <tr>\n",
       "      <th>outcome_name</th>\n",
       "      <th>LOSE</th>\n",
       "      <th>LOSE_DOUBLE</th>\n",
       "      <th>PUSH</th>\n",
       "      <th>WIN</th>\n",
       "      <th>WIN_DOUBLE</th>\n",
       "      <th></th>\n",
       "    </tr>\n",
       "    <tr>\n",
       "      <th>strategy</th>\n",
       "      <th></th>\n",
       "      <th></th>\n",
       "      <th></th>\n",
       "      <th></th>\n",
       "      <th></th>\n",
       "      <th></th>\n",
       "    </tr>\n",
       "  </thead>\n",
       "  <tbody>\n",
       "    <tr>\n",
       "      <th>&lt;Action.DOUBLE: 3&gt;</th>\n",
       "      <td>0</td>\n",
       "      <td>5895</td>\n",
       "      <td>0</td>\n",
       "      <td>0</td>\n",
       "      <td>4105</td>\n",
       "      <td>-0.3580</td>\n",
       "    </tr>\n",
       "    <tr>\n",
       "      <th>&lt;Action.HIT: 2&gt;</th>\n",
       "      <td>5001</td>\n",
       "      <td>0</td>\n",
       "      <td>291</td>\n",
       "      <td>4708</td>\n",
       "      <td>0</td>\n",
       "      <td>-0.0293</td>\n",
       "    </tr>\n",
       "    <tr>\n",
       "      <th>&lt;Action.STAND: 1&gt;</th>\n",
       "      <td>5895</td>\n",
       "      <td>0</td>\n",
       "      <td>0</td>\n",
       "      <td>4105</td>\n",
       "      <td>0</td>\n",
       "      <td>-0.1790</td>\n",
       "    </tr>\n",
       "    <tr>\n",
       "      <th>simple</th>\n",
       "      <td>5895</td>\n",
       "      <td>0</td>\n",
       "      <td>0</td>\n",
       "      <td>4105</td>\n",
       "      <td>0</td>\n",
       "      <td>-0.1790</td>\n",
       "    </tr>\n",
       "  </tbody>\n",
       "</table>\n",
       "</div>"
      ],
      "text/plain": [
       "                     len                                   mean_outcome\n",
       "outcome_name        LOSE LOSE_DOUBLE PUSH   WIN WIN_DOUBLE             \n",
       "strategy                                                               \n",
       "<Action.DOUBLE: 3>     0        5895    0     0       4105      -0.3580\n",
       "<Action.HIT: 2>     5001           0  291  4708          0      -0.0293\n",
       "<Action.STAND: 1>   5895           0    0  4105          0      -0.1790\n",
       "simple              5895           0    0  4105          0      -0.1790"
      ]
     },
     "execution_count": 32,
     "metadata": {},
     "output_type": "execute_result"
    }
   ],
   "source": [
    "# soft 13 vs 6\n",
    "def cond_13s_6(score_p, score_d):\n",
    "    return score_p == HandScore(13, True) and score_d.points == 6\n",
    "\n",
    "\n",
    "\n",
    "strats = sim.gen_cond_strategies(strat_simple, cond_13s_6, [Action.HIT, Action.STAND, Action.DOUBLE])\n",
    "sims = sim.run_n_sim_trials_from_state(strats+[strat_simple], bj.make_hand([1, 2]), bj.make_hand([6]), 10000)\n",
    "sim.summarize_totals(sims)"
   ]
  },
  {
   "cell_type": "code",
   "execution_count": 33,
   "id": "liable-painting",
   "metadata": {
    "ExecuteTime": {
     "end_time": "2021-07-25T01:13:22.285477Z",
     "start_time": "2021-07-25T01:13:21.787142Z"
    }
   },
   "outputs": [
    {
     "data": {
      "text/html": [
       "<div>\n",
       "<style scoped>\n",
       "    .dataframe tbody tr th:only-of-type {\n",
       "        vertical-align: middle;\n",
       "    }\n",
       "\n",
       "    .dataframe tbody tr th {\n",
       "        vertical-align: top;\n",
       "    }\n",
       "\n",
       "    .dataframe thead tr th {\n",
       "        text-align: left;\n",
       "    }\n",
       "\n",
       "    .dataframe thead tr:last-of-type th {\n",
       "        text-align: right;\n",
       "    }\n",
       "</style>\n",
       "<table border=\"1\" class=\"dataframe\">\n",
       "  <thead>\n",
       "    <tr>\n",
       "      <th></th>\n",
       "      <th colspan=\"5\" halign=\"left\">len</th>\n",
       "      <th>mean_outcome</th>\n",
       "    </tr>\n",
       "    <tr>\n",
       "      <th>outcome_name</th>\n",
       "      <th>LOSE</th>\n",
       "      <th>LOSE_DOUBLE</th>\n",
       "      <th>PUSH</th>\n",
       "      <th>WIN</th>\n",
       "      <th>WIN_DOUBLE</th>\n",
       "      <th></th>\n",
       "    </tr>\n",
       "    <tr>\n",
       "      <th>strategy</th>\n",
       "      <th></th>\n",
       "      <th></th>\n",
       "      <th></th>\n",
       "      <th></th>\n",
       "      <th></th>\n",
       "      <th></th>\n",
       "    </tr>\n",
       "  </thead>\n",
       "  <tbody>\n",
       "    <tr>\n",
       "      <th>&lt;Action.DOUBLE: 3&gt;</th>\n",
       "      <td>0</td>\n",
       "      <td>3225</td>\n",
       "      <td>691</td>\n",
       "      <td>0</td>\n",
       "      <td>6084</td>\n",
       "      <td>0.5718</td>\n",
       "    </tr>\n",
       "    <tr>\n",
       "      <th>&lt;Action.HIT: 2&gt;</th>\n",
       "      <td>3260</td>\n",
       "      <td>0</td>\n",
       "      <td>673</td>\n",
       "      <td>6067</td>\n",
       "      <td>0</td>\n",
       "      <td>0.2807</td>\n",
       "    </tr>\n",
       "    <tr>\n",
       "      <th>&lt;Action.STAND: 1&gt;</th>\n",
       "      <td>5778</td>\n",
       "      <td>0</td>\n",
       "      <td>0</td>\n",
       "      <td>4222</td>\n",
       "      <td>0</td>\n",
       "      <td>-0.1556</td>\n",
       "    </tr>\n",
       "    <tr>\n",
       "      <th>simple</th>\n",
       "      <td>3156</td>\n",
       "      <td>0</td>\n",
       "      <td>679</td>\n",
       "      <td>6165</td>\n",
       "      <td>0</td>\n",
       "      <td>0.3009</td>\n",
       "    </tr>\n",
       "  </tbody>\n",
       "</table>\n",
       "</div>"
      ],
      "text/plain": [
       "                     len                                   mean_outcome\n",
       "outcome_name        LOSE LOSE_DOUBLE PUSH   WIN WIN_DOUBLE             \n",
       "strategy                                                               \n",
       "<Action.DOUBLE: 3>     0        3225  691     0       6084       0.5718\n",
       "<Action.HIT: 2>     3260           0  673  6067          0       0.2807\n",
       "<Action.STAND: 1>   5778           0    0  4222          0      -0.1556\n",
       "simple              3156           0  679  6165          0       0.3009"
      ]
     },
     "execution_count": 33,
     "metadata": {},
     "output_type": "execute_result"
    }
   ],
   "source": [
    "# 10 v 6\n",
    "def cond_10_6(score_p, score_d):\n",
    "    return score_p.points == 10 and score_d.points == 6\n",
    "\n",
    "strats = sim.gen_cond_strategies(strat_simple, cond_10_6, [Action.HIT, Action.STAND, Action.DOUBLE])\n",
    "sims = sim.run_n_sim_trials_from_state(strats+[strat_simple], make_hand([5, 5]), make_hand([6]), 10000)\n",
    "sim.summarize_totals(sims)"
   ]
  },
  {
   "cell_type": "code",
   "execution_count": 34,
   "id": "serious-briefs",
   "metadata": {
    "ExecuteTime": {
     "end_time": "2021-07-25T01:13:22.699418Z",
     "start_time": "2021-07-25T01:13:22.286331Z"
    }
   },
   "outputs": [
    {
     "data": {
      "text/plain": [
       "(<function simulator.test_cond.<locals>.cond(p, d)>,\n",
       "                      len                                   mean_outcome\n",
       " outcome_name        LOSE LOSE_DOUBLE PUSH   WIN WIN_DOUBLE             \n",
       " strategy                                                               \n",
       " <Action.DOUBLE: 3>     0        3237  663     0       6100       0.5726\n",
       " <Action.HIT: 2>     3244           0  687  6069          0       0.2825\n",
       " <Action.STAND: 1>   5750           0    0  4250          0      -0.1500)"
      ]
     },
     "execution_count": 34,
     "metadata": {},
     "output_type": "execute_result"
    }
   ],
   "source": [
    "sim.test_cond(HandScore(10), HandScore(6), 10000, strat_simple)"
   ]
  },
  {
   "cell_type": "code",
   "execution_count": 35,
   "id": "square-binary",
   "metadata": {
    "ExecuteTime": {
     "end_time": "2021-07-25T01:13:22.720467Z",
     "start_time": "2021-07-25T01:13:22.700434Z"
    }
   },
   "outputs": [
    {
     "data": {
      "text/plain": [
       "(<function simulator.test_cond.<locals>.cond(p, d)>,\n",
       "                     len                                  mean_outcome\n",
       " outcome_name       LOSE LOSE_DOUBLE PUSH  WIN WIN_DOUBLE             \n",
       " strategy                                                             \n",
       " <Action.DOUBLE: 3>    0         152    8    0         40       -1.120\n",
       " <Action.HIT: 2>     159           0    6   35          0       -0.620\n",
       " <Action.STAND: 1>    70           0   21  109          0        0.195)"
      ]
     },
     "execution_count": 35,
     "metadata": {},
     "output_type": "execute_result"
    }
   ],
   "source": [
    "sim.test_cond(HandScore(18), HandScore(6), 200, strat_simple)"
   ]
  },
  {
   "cell_type": "code",
   "execution_count": 36,
   "id": "recent-harvey",
   "metadata": {
    "ExecuteTime": {
     "end_time": "2021-07-25T01:13:22.742121Z",
     "start_time": "2021-07-25T01:13:22.721421Z"
    }
   },
   "outputs": [
    {
     "data": {
      "text/plain": [
       "(<function simulator.test_cond.<locals>.cond(p, d)>,\n",
       "                     len                                  mean_outcome\n",
       " outcome_name       LOSE LOSE_DOUBLE PUSH  WIN WIN_DOUBLE             \n",
       " strategy                                                             \n",
       " <Action.DOUBLE: 3>    0          67    9    0        124         0.57\n",
       " <Action.HIT: 2>      53           0   10  137          0         0.42\n",
       " <Action.STAND: 1>     0           0   18  182          0         0.91)"
      ]
     },
     "execution_count": 36,
     "metadata": {},
     "output_type": "execute_result"
    }
   ],
   "source": [
    "sim.test_cond(HandScore(21, True), HandScore(6), 200, strat_simple)"
   ]
  },
  {
   "cell_type": "code",
   "execution_count": 37,
   "id": "manual-anime",
   "metadata": {
    "ExecuteTime": {
     "end_time": "2021-07-25T01:13:22.770351Z",
     "start_time": "2021-07-25T01:13:22.743559Z"
    }
   },
   "outputs": [
    {
     "data": {
      "text/plain": [
       "{'<Action.DOUBLE: 3>': 0.61,\n",
       " '<Action.HIT: 2>': 0.355,\n",
       " '<Action.STAND: 1>': -0.28,\n",
       " 'score_p': 'h10',\n",
       " 'score_d': 'h06',\n",
       " 'winning_act': <Action.DOUBLE: 3>,\n",
       " 'winning_act_outcome': 0.61}"
      ]
     },
     "execution_count": 37,
     "metadata": {},
     "output_type": "execute_result"
    }
   ],
   "source": [
    "\n",
    "sim.find_winning_action(HandScore(10), HandScore(6), 200)"
   ]
  },
  {
   "cell_type": "code",
   "execution_count": 38,
   "id": "supported-herald",
   "metadata": {
    "ExecuteTime": {
     "end_time": "2021-07-25T01:13:22.862232Z",
     "start_time": "2021-07-25T01:13:22.771218Z"
    }
   },
   "outputs": [
    {
     "data": {
      "text/plain": [
       "(<function simulator.test_cond.<locals>.cond(p, d)>,\n",
       "                     len                                  mean_outcome\n",
       " outcome_name       LOSE LOSE_DOUBLE PUSH  WIN WIN_DOUBLE             \n",
       " strategy                                                             \n",
       " <Action.DOUBLE: 3>    0         858   18    0        124       -1.468\n",
       " <Action.HIT: 2>     831           0   24  145          0       -0.686\n",
       " <Action.STAND: 1>   568           0  140  292          0       -0.276)"
      ]
     },
     "execution_count": 38,
     "metadata": {},
     "output_type": "execute_result"
    }
   ],
   "source": [
    "sim.test_cond(HandScore(18), HandScore(11, True), 1000)"
   ]
  },
  {
   "cell_type": "code",
   "execution_count": 39,
   "id": "behind-seattle",
   "metadata": {
    "ExecuteTime": {
     "end_time": "2021-07-25T01:13:26.724282Z",
     "start_time": "2021-07-25T01:13:22.863167Z"
    }
   },
   "outputs": [
    {
     "name": "stdout",
     "output_type": "stream",
     "text": [
      " "
     ]
    },
    {
     "data": {
      "text/html": [
       "<div>\n",
       "<style scoped>\n",
       "    .dataframe tbody tr th:only-of-type {\n",
       "        vertical-align: middle;\n",
       "    }\n",
       "\n",
       "    .dataframe tbody tr th {\n",
       "        vertical-align: top;\n",
       "    }\n",
       "\n",
       "    .dataframe thead th {\n",
       "        text-align: right;\n",
       "    }\n",
       "</style>\n",
       "<table border=\"1\" class=\"dataframe\">\n",
       "  <thead>\n",
       "    <tr style=\"text-align: right;\">\n",
       "      <th></th>\n",
       "      <th></th>\n",
       "      <th>&lt;Action.DOUBLE: 3&gt;</th>\n",
       "      <th>&lt;Action.HIT: 2&gt;</th>\n",
       "      <th>&lt;Action.STAND: 1&gt;</th>\n",
       "      <th>winning_act</th>\n",
       "      <th>winning_act_outcome</th>\n",
       "    </tr>\n",
       "    <tr>\n",
       "      <th>score_p</th>\n",
       "      <th>score_d</th>\n",
       "      <th></th>\n",
       "      <th></th>\n",
       "      <th></th>\n",
       "      <th></th>\n",
       "      <th></th>\n",
       "    </tr>\n",
       "  </thead>\n",
       "  <tbody>\n",
       "    <tr>\n",
       "      <th rowspan=\"5\" valign=\"top\">h09</th>\n",
       "      <th>s11</th>\n",
       "      <td>-0.8</td>\n",
       "      <td>-0.300</td>\n",
       "      <td>-0.80</td>\n",
       "      <td>Action.HIT</td>\n",
       "      <td>-0.30</td>\n",
       "    </tr>\n",
       "    <tr>\n",
       "      <th>h02</th>\n",
       "      <td>0.2</td>\n",
       "      <td>0.200</td>\n",
       "      <td>-0.20</td>\n",
       "      <td>Action.DOUBLE</td>\n",
       "      <td>0.20</td>\n",
       "    </tr>\n",
       "    <tr>\n",
       "      <th>h03</th>\n",
       "      <td>1.0</td>\n",
       "      <td>0.450</td>\n",
       "      <td>0.30</td>\n",
       "      <td>Action.DOUBLE</td>\n",
       "      <td>1.00</td>\n",
       "    </tr>\n",
       "    <tr>\n",
       "      <th>h04</th>\n",
       "      <td>0.4</td>\n",
       "      <td>0.100</td>\n",
       "      <td>-0.20</td>\n",
       "      <td>Action.DOUBLE</td>\n",
       "      <td>0.40</td>\n",
       "    </tr>\n",
       "    <tr>\n",
       "      <th>h05</th>\n",
       "      <td>0.8</td>\n",
       "      <td>0.425</td>\n",
       "      <td>0.00</td>\n",
       "      <td>Action.DOUBLE</td>\n",
       "      <td>0.80</td>\n",
       "    </tr>\n",
       "    <tr>\n",
       "      <th>...</th>\n",
       "      <th>...</th>\n",
       "      <td>...</td>\n",
       "      <td>...</td>\n",
       "      <td>...</td>\n",
       "      <td>...</td>\n",
       "      <td>...</td>\n",
       "    </tr>\n",
       "    <tr>\n",
       "      <th rowspan=\"5\" valign=\"top\">s21</th>\n",
       "      <th>h06</th>\n",
       "      <td>0.1</td>\n",
       "      <td>0.050</td>\n",
       "      <td>0.90</td>\n",
       "      <td>Action.STAND</td>\n",
       "      <td>0.90</td>\n",
       "    </tr>\n",
       "    <tr>\n",
       "      <th>h07</th>\n",
       "      <td>1.6</td>\n",
       "      <td>0.400</td>\n",
       "      <td>1.00</td>\n",
       "      <td>Action.DOUBLE</td>\n",
       "      <td>1.60</td>\n",
       "    </tr>\n",
       "    <tr>\n",
       "      <th>h08</th>\n",
       "      <td>0.4</td>\n",
       "      <td>0.125</td>\n",
       "      <td>0.90</td>\n",
       "      <td>Action.STAND</td>\n",
       "      <td>0.90</td>\n",
       "    </tr>\n",
       "    <tr>\n",
       "      <th>h09</th>\n",
       "      <td>0.9</td>\n",
       "      <td>0.400</td>\n",
       "      <td>0.95</td>\n",
       "      <td>Action.STAND</td>\n",
       "      <td>0.95</td>\n",
       "    </tr>\n",
       "    <tr>\n",
       "      <th>h10</th>\n",
       "      <td>0.4</td>\n",
       "      <td>-0.450</td>\n",
       "      <td>0.65</td>\n",
       "      <td>Action.STAND</td>\n",
       "      <td>0.65</td>\n",
       "    </tr>\n",
       "  </tbody>\n",
       "</table>\n",
       "<p>250 rows × 5 columns</p>\n",
       "</div>"
      ],
      "text/plain": [
       "                 <Action.DOUBLE: 3>  <Action.HIT: 2>  <Action.STAND: 1>  \\\n",
       "score_p score_d                                                           \n",
       "h09     s11                    -0.8           -0.300              -0.80   \n",
       "        h02                     0.2            0.200              -0.20   \n",
       "        h03                     1.0            0.450               0.30   \n",
       "        h04                     0.4            0.100              -0.20   \n",
       "        h05                     0.8            0.425               0.00   \n",
       "...                             ...              ...                ...   \n",
       "s21     h06                     0.1            0.050               0.90   \n",
       "        h07                     1.6            0.400               1.00   \n",
       "        h08                     0.4            0.125               0.90   \n",
       "        h09                     0.9            0.400               0.95   \n",
       "        h10                     0.4           -0.450               0.65   \n",
       "\n",
       "                   winning_act  winning_act_outcome  \n",
       "score_p score_d                                      \n",
       "h09     s11         Action.HIT                -0.30  \n",
       "        h02      Action.DOUBLE                 0.20  \n",
       "        h03      Action.DOUBLE                 1.00  \n",
       "        h04      Action.DOUBLE                 0.40  \n",
       "        h05      Action.DOUBLE                 0.80  \n",
       "...                        ...                  ...  \n",
       "s21     h06       Action.STAND                 0.90  \n",
       "        h07      Action.DOUBLE                 1.60  \n",
       "        h08       Action.STAND                 0.90  \n",
       "        h09       Action.STAND                 0.95  \n",
       "        h10       Action.STAND                 0.65  \n",
       "\n",
       "[250 rows x 5 columns]"
      ]
     },
     "execution_count": 39,
     "metadata": {},
     "output_type": "execute_result"
    }
   ],
   "source": [
    "%prun -s cumulative conds = sim.compute_instructions(20)\n",
    "pd.DataFrame(conds).set_index(['score_p', 'score_d'])"
   ]
  },
  {
   "cell_type": "code",
   "execution_count": 40,
   "id": "challenging-producer",
   "metadata": {
    "ExecuteTime": {
     "end_time": "2021-07-25T01:13:32.042953Z",
     "start_time": "2021-07-25T01:13:26.728255Z"
    }
   },
   "outputs": [
    {
     "name": "stdout",
     "output_type": "stream",
     "text": [
      " "
     ]
    }
   ],
   "source": [
    "\n",
    "%prun -s cumulative sim.compute_instructions(100, strat_simple)"
   ]
  },
  {
   "cell_type": "code",
   "execution_count": 41,
   "id": "foster-december",
   "metadata": {
    "ExecuteTime": {
     "end_time": "2021-07-25T01:13:35.411711Z",
     "start_time": "2021-07-25T01:13:32.044375Z"
    },
    "scrolled": true
   },
   "outputs": [
    {
     "name": "stdout",
     "output_type": "stream",
     "text": [
      " "
     ]
    },
    {
     "data": {
      "image/png": "[encoded data removed]",
      "text/plain": [
       "<Figure size 432x288 with 4 Axes>"
      ]
     },
     "metadata": {
      "needs_background": "light"
     },
     "output_type": "display_data"
    }
   ],
   "source": [
    "\n",
    "\n",
    "%prun -s cumulative opt.run_iteration(1, strat_simple, None)"
   ]
  },
  {
   "cell_type": "code",
   "execution_count": 42,
   "id": "typical-murder",
   "metadata": {
    "ExecuteTime": {
     "end_time": "2021-07-25T01:13:35.470756Z",
     "start_time": "2021-07-25T01:13:35.413608Z"
    }
   },
   "outputs": [
    {
     "data": {
      "text/plain": [
       "(   strategy hand_start  dealer_card      hand_end  dealer_hand  \\\n",
       " 0    simple    [6, 10]            6       [6, 10]    [6, 6, 7]   \n",
       " 1  memoized    [6, 10]            6       [6, 10]    [6, 6, 7]   \n",
       " 2    simple     [5, 2]            7    [5, 2, 12]   [7, 3, 10]   \n",
       " 3  memoized     [5, 2]            7  [5, 2, 5, 5]   [7, 3, 10]   \n",
       " 4    simple    [13, 6]            7    [13, 6, 1]       [7, 1]   \n",
       " 5  memoized    [13, 6]            7    [13, 6, 2]       [7, 1]   \n",
       " 6    simple     [3, 6]            6     [3, 6, 8]  [6, 12, 12]   \n",
       " 7  memoized     [3, 6]            6    [3, 6, 10]  [6, 12, 12]   \n",
       " 8    simple   [11, 13]            6      [11, 13]    [6, 7, 9]   \n",
       " 9  memoized   [11, 13]            6      [11, 13]    [6, 7, 9]   \n",
       " \n",
       "             outcome  outcome_value outcome_name  \n",
       " 0  HandOutcome.LOSE           -1.0         LOSE  \n",
       " 1  HandOutcome.LOSE           -1.0         LOSE  \n",
       " 2  HandOutcome.LOSE           -1.0         LOSE  \n",
       " 3  HandOutcome.LOSE           -1.0         LOSE  \n",
       " 4  HandOutcome.LOSE           -1.0         LOSE  \n",
       " 5  HandOutcome.PUSH            0.0         PUSH  \n",
       " 6   HandOutcome.WIN            1.0          WIN  \n",
       " 7   HandOutcome.WIN            1.0          WIN  \n",
       " 8   HandOutcome.WIN            1.0          WIN  \n",
       " 9   HandOutcome.WIN            1.0          WIN  ,\n",
       "                    len                                       mean_outcome\n",
       " outcome_name BLACKJACK LOSE LOSE_DOUBLE PUSH  WIN WIN_DOUBLE             \n",
       " strategy                                                                 \n",
       " memoized            50  458          14   76  373         29        0.020\n",
       " simple              50  471          15   77  361         26       -0.013)"
      ]
     },
     "execution_count": 42,
     "metadata": {},
     "output_type": "execute_result"
    }
   ],
   "source": [
    "# Memoized strategy\n",
    "# Rather than generic conditions, just use an array indexed on player and dealer scores\n",
    "# Since that's how we're generating our strategy anyway (one square at a time)\n",
    "\n",
    "instructions = {(repr(HandScore(13, True)), repr(HandScore(6))): Action.HIT}\n",
    "strat_memoized = opt.gen_strat_memoized(instructions, strat_simple)\n",
    "\n",
    "sims = sim.run_n_sim_trials([strat_simple, strat_memoized], 1000)\n",
    "sims.head(10), sim.summarize_totals(sims)"
   ]
  },
  {
   "cell_type": "code",
   "execution_count": 43,
   "id": "imposed-cinema",
   "metadata": {
    "ExecuteTime": {
     "end_time": "2021-07-25T01:14:49.178347Z",
     "start_time": "2021-07-25T01:13:35.472521Z"
    }
   },
   "outputs": [
    {
     "name": "stdout",
     "output_type": "stream",
     "text": [
      "0\n",
      "1\n",
      "('h09', 'h04') Action.DOUBLE Action.HIT\n",
      "('h09', 'h05') Action.DOUBLE Action.HIT\n",
      "('h09', 'h07') Action.HIT Action.DOUBLE\n",
      "('h09', 'h08') Action.DOUBLE Action.HIT\n",
      "('h10', 'h04') Action.DOUBLE Action.HIT\n",
      "('h10', 'h05') Action.DOUBLE Action.HIT\n",
      "('h10', 'h07') Action.DOUBLE Action.HIT\n",
      "('h10', 'h08') Action.DOUBLE Action.HIT\n",
      "('h10', 'h10') Action.HIT Action.DOUBLE\n",
      "('h11', 's11') Action.HIT Action.DOUBLE\n",
      "('h11', 'h08') Action.DOUBLE Action.HIT\n",
      "('h11', 'h09') Action.DOUBLE Action.HIT\n",
      "('h11', 'h10') Action.DOUBLE Action.HIT\n",
      "('h12', 'h02') Action.HIT Action.STAND\n",
      "('h13', 'h02') Action.STAND Action.HIT\n",
      "('h13', 'h03') Action.STAND Action.HIT\n",
      "('h13', 'h04') Action.HIT Action.STAND\n",
      "('h13', 'h05') Action.STAND Action.HIT\n",
      "('h13', 'h06') Action.STAND Action.HIT\n",
      "('h13', 'h09') Action.HIT Action.DOUBLE\n",
      "('h13', 'h10') Action.HIT Action.STAND\n",
      "('h14', 'h03') Action.STAND Action.HIT\n",
      "('h14', 'h06') Action.STAND Action.HIT\n",
      "('h14', 'h07') Action.HIT Action.DOUBLE\n",
      "('h14', 'h09') Action.STAND Action.HIT\n",
      "('h14', 'h10') Action.STAND Action.HIT\n",
      "('h15', 'h02') Action.HIT Action.STAND\n",
      "('h15', 'h06') Action.STAND Action.DOUBLE\n",
      "('h15', 'h10') Action.HIT Action.STAND\n",
      "('h16', 'h07') Action.HIT Action.STAND\n",
      "('h16', 'h09') Action.STAND Action.HIT\n",
      "('h17', 's11') Action.STAND Action.HIT\n",
      "('h17', 'h08') Action.STAND Action.HIT\n",
      "('h17', 'h09') Action.STAND Action.HIT\n",
      "('s11', 'h07') Action.DOUBLE Action.HIT\n",
      "('s11', 'h09') Action.HIT Action.DOUBLE\n",
      "('s11', 'h10') Action.HIT Action.DOUBLE\n",
      "('s12', 'h04') Action.HIT Action.DOUBLE\n",
      "('s13', 'h02') Action.HIT Action.STAND\n",
      "('s13', 'h03') Action.STAND Action.HIT\n",
      "('s14', 'h06') Action.STAND Action.HIT\n",
      "('s15', 'h02') Action.HIT Action.STAND\n",
      "('s15', 'h06') Action.STAND Action.HIT\n",
      "('s17', 'h04') Action.HIT Action.STAND\n",
      "('s17', 'h05') Action.HIT Action.DOUBLE\n",
      "('s18', 'h08') Action.STAND Action.HIT\n",
      "('s20', 'h06') Action.STAND Action.DOUBLE\n",
      "('s21', 'h06') Action.STAND Action.DOUBLE\n",
      "2\n",
      "('h09', 'h08') Action.HIT Action.DOUBLE\n",
      "('h10', 'h08') Action.HIT Action.DOUBLE\n",
      "('h11', 'h03') Action.DOUBLE Action.HIT\n",
      "('h11', 'h09') Action.HIT Action.DOUBLE\n",
      "('h11', 'h10') Action.HIT Action.DOUBLE\n",
      "('h12', 'h03') Action.STAND Action.HIT\n",
      "('h12', 'h04') Action.STAND Action.HIT\n",
      "('h13', 'h03') Action.HIT Action.STAND\n",
      "('h13', 'h04') Action.STAND Action.HIT\n",
      "('h14', 's11') Action.HIT Action.STAND\n",
      "('h14', 'h02') Action.HIT Action.STAND\n",
      "('h14', 'h09') Action.HIT Action.STAND\n",
      "('h14', 'h10') Action.HIT Action.STAND\n",
      "('h15', 'h02') Action.STAND Action.HIT\n",
      "('s11', 'h07') Action.HIT Action.DOUBLE\n",
      "('s11', 'h08') Action.HIT Action.DOUBLE\n",
      "('s13', 'h03') Action.HIT Action.STAND\n",
      "('s14', 'h06') Action.HIT Action.STAND\n",
      "('s15', 'h06') Action.HIT Action.STAND\n",
      "3\n",
      "('h10', 'h08') Action.DOUBLE Action.HIT\n",
      "('h11', 'h09') Action.DOUBLE Action.HIT\n",
      "('h12', 'h03') Action.HIT Action.STAND\n",
      "('h13', 'h03') Action.STAND Action.HIT\n",
      "('h14', 'h02') Action.STAND Action.HIT\n",
      "('h16', 'h09') Action.HIT Action.STAND\n",
      "('h16', 'h10') Action.STAND Action.HIT\n",
      "('s11', 'h07') Action.DOUBLE Action.HIT\n",
      "4\n",
      "('h09', 'h02') Action.HIT Action.DOUBLE\n",
      "('h09', 'h03') Action.HIT Action.DOUBLE\n",
      "('h12', 'h03') Action.STAND Action.HIT\n",
      "('h16', 'h10') Action.HIT Action.STAND\n",
      "('s11', 'h08') Action.DOUBLE Action.HIT\n"
     ]
    },
    {
     "data": {
      "text/plain": [
       "[<blackjack.Strategy_wrapper at 0x7f8c6889f610>,\n",
       " <blackjack.Strategy_wrapper at 0x7f8c60123a30>,\n",
       " <blackjack.Strategy_wrapper at 0x7f8c68b80220>,\n",
       " <blackjack.Strategy_wrapper at 0x7f8c60270d30>,\n",
       " <blackjack.Strategy_wrapper at 0x7f8c6845c040>,\n",
       " <blackjack.Strategy_wrapper at 0x7f8c6850fc70>]"
      ]
     },
     "execution_count": 43,
     "metadata": {},
     "output_type": "execute_result"
    },
    {
     "data": {
      "image/png": "[encoded data removed]",
      "text/plain": [
       "<Figure size 432x288 with 4 Axes>"
      ]
     },
     "metadata": {
      "needs_background": "light"
     },
     "output_type": "display_data"
    },
    {
     "data": {
      "image/png": "[encoded data removed]",
      "text/plain": [
       "<Figure size 432x288 with 4 Axes>"
      ]
     },
     "metadata": {
      "needs_background": "light"
     },
     "output_type": "display_data"
    },
    {
     "data": {
      "image/png": "[encoded data removed]",
      "text/plain": [
       "<Figure size 432x288 with 4 Axes>"
      ]
     },
     "metadata": {
      "needs_background": "light"
     },
     "output_type": "display_data"
    },
    {
     "data": {
      "image/png": "[encoded data removed]",
      "text/plain": [
       "<Figure size 432x288 with 4 Axes>"
      ]
     },
     "metadata": {
      "needs_background": "light"
     },
     "output_type": "display_data"
    },
    {
     "data": {
      "image/png": "[encoded data removed]",
      "text/plain": [
       "<Figure size 432x288 with 4 Axes>"
      ]
     },
     "metadata": {
      "needs_background": "light"
     },
     "output_type": "display_data"
    }
   ],
   "source": [
    "\n",
    "\n",
    "strategies = opt.derive_iterative_strategies(strat_simple, 5)\n",
    "strategies"
   ]
  },
  {
   "cell_type": "code",
   "execution_count": 44,
   "id": "lucky-account",
   "metadata": {
    "ExecuteTime": {
     "end_time": "2021-07-25T01:16:15.365693Z",
     "start_time": "2021-07-25T01:14:49.179281Z"
    }
   },
   "outputs": [
    {
     "data": {
      "text/plain": [
       "(  strategy hand_start  dealer_card  hand_end dealer_hand           outcome  \\\n",
       " 0   simple   [13, 11]           10  [13, 11]  [10, 4, 6]  HandOutcome.PUSH   \n",
       " 1  iter(1)   [13, 11]           10  [13, 11]  [10, 4, 6]  HandOutcome.PUSH   \n",
       " 2  iter(2)   [13, 11]           10  [13, 11]  [10, 4, 6]  HandOutcome.PUSH   \n",
       " 3  iter(3)   [13, 11]           10  [13, 11]  [10, 4, 6]  HandOutcome.PUSH   \n",
       " 4  iter(4)   [13, 11]           10  [13, 11]  [10, 4, 6]  HandOutcome.PUSH   \n",
       " 5  iter(5)   [13, 11]           10  [13, 11]  [10, 4, 6]  HandOutcome.PUSH   \n",
       " 6   simple    [8, 11]            6   [8, 11]   [6, 8, 9]   HandOutcome.WIN   \n",
       " 7  iter(1)    [8, 11]            6   [8, 11]   [6, 8, 9]   HandOutcome.WIN   \n",
       " 8  iter(2)    [8, 11]            6   [8, 11]   [6, 8, 9]   HandOutcome.WIN   \n",
       " 9  iter(3)    [8, 11]            6   [8, 11]   [6, 8, 9]   HandOutcome.WIN   \n",
       " \n",
       "    outcome_value outcome_name  \n",
       " 0            0.0         PUSH  \n",
       " 1            0.0         PUSH  \n",
       " 2            0.0         PUSH  \n",
       " 3            0.0         PUSH  \n",
       " 4            0.0         PUSH  \n",
       " 5            0.0         PUSH  \n",
       " 6            1.0          WIN  \n",
       " 7            1.0          WIN  \n",
       " 8            1.0          WIN  \n",
       " 9            1.0          WIN  ,\n",
       "                    len                                                \\\n",
       " outcome_name BLACKJACK    LOSE LOSE_DOUBLE   PUSH     WIN WIN_DOUBLE   \n",
       " strategy                                                               \n",
       " iter(1)          41535  459566       35901  79923  346230      36845   \n",
       " iter(2)          45213  458004       30196  81963  341650      42974   \n",
       " iter(3)          45213  462590       20827  85385  352895      33090   \n",
       " iter(4)          45213  460174       23617  83387  350809      36800   \n",
       " iter(5)          45213  461117       21175  85365  353092      34038   \n",
       " simple           45213  467279       18845  86628  356690      25345   \n",
       " \n",
       "              mean_outcome  \n",
       " outcome_name               \n",
       " strategy                   \n",
       " iter(1)         -0.049146  \n",
       " iter(2)         -0.022978  \n",
       " iter(3)         -0.017350  \n",
       " iter(4)         -0.015180  \n",
       " iter(5)         -0.014479  \n",
       " simple          -0.029770  )"
      ]
     },
     "execution_count": 44,
     "metadata": {},
     "output_type": "execute_result"
    }
   ],
   "source": [
    "sims = sim.run_n_sim_trials(strategies, 1000*1000)\n",
    "sims.head(10), sim.summarize_totals(sims)"
   ]
  },
  {
   "cell_type": "code",
   "execution_count": 45,
   "id": "periodic-huntington",
   "metadata": {
    "ExecuteTime": {
     "end_time": "2021-07-25T01:16:56.259762Z",
     "start_time": "2021-07-25T01:16:56.241244Z"
    }
   },
   "outputs": [
    {
     "data": {
      "text/plain": [
       "[<blackjack.Strategy_wrapper at 0x7f8c6889f610>,\n",
       " <blackjack.Strategy_wrapper at 0x7f8c60123a30>,\n",
       " <blackjack.Strategy_wrapper at 0x7f8c68b80220>,\n",
       " <blackjack.Strategy_wrapper at 0x7f8c60270d30>,\n",
       " <blackjack.Strategy_wrapper at 0x7f8c6845c040>,\n",
       " <blackjack.Strategy_wrapper at 0x7f8c6850fc70>]"
      ]
     },
     "execution_count": 45,
     "metadata": {},
     "output_type": "execute_result"
    }
   ],
   "source": [
    "strategies"
   ]
  },
  {
   "cell_type": "code",
   "execution_count": null,
   "id": "flying-asset",
   "metadata": {},
   "outputs": [],
   "source": []
  }
 ],
 "metadata": {
  "kernelspec": {
   "display_name": "Python 3",
   "language": "python",
   "name": "python3"
  },
  "language_info": {
   "codemirror_mode": {
    "name": "ipython",
    "version": 3
   },
   "file_extension": ".py",
   "mimetype": "text/x-python",
   "name": "python",
   "nbconvert_exporter": "python",
   "pygments_lexer": "ipython3",
   "version": "3.8.8"
  }
 },
 "nbformat": 4,
 "nbformat_minor": 5
}
