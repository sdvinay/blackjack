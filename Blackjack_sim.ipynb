{
 "cells": [
  {
   "cell_type": "code",
   "execution_count": 1,
   "id": "middle-scenario",
   "metadata": {
    "ExecuteTime": {
     "end_time": "2021-07-02T23:40:34.814960Z",
     "start_time": "2021-07-02T23:40:34.468413Z"
    }
   },
   "outputs": [],
   "source": [
    "from dataclasses import dataclass, field\n",
    "import copy\n",
    "from enum import Enum, auto\n",
    "import random\n",
    "import pandas as pd"
   ]
  },
  {
   "cell_type": "code",
   "execution_count": 2,
   "id": "annoying-pepper",
   "metadata": {
    "ExecuteTime": {
     "end_time": "2021-07-02T23:40:34.817326Z",
     "start_time": "2021-07-02T23:40:34.816085Z"
    }
   },
   "outputs": [],
   "source": [
    "# cards are numbers from 1 to 13\n",
    "# the score is capped at 10"
   ]
  },
  {
   "cell_type": "markdown",
   "id": "extended-firmware",
   "metadata": {},
   "source": [
    "## Define a Hand class and functions on it"
   ]
  },
  {
   "cell_type": "code",
   "execution_count": 3,
   "id": "compound-summit",
   "metadata": {
    "ExecuteTime": {
     "end_time": "2021-07-02T23:40:34.820786Z",
     "start_time": "2021-07-02T23:40:34.818580Z"
    }
   },
   "outputs": [],
   "source": [
    "@dataclass\n",
    "class Hand:\n",
    "    \"\"\"Class for representing a blackjack hand.\"\"\"\n",
    "    score: int = 0\n",
    "    soft: bool = False\n",
    "    cards: [int] = field(default_factory=list)\n",
    "    doubled: bool = False\n"
   ]
  },
  {
   "cell_type": "code",
   "execution_count": 4,
   "id": "educational-height",
   "metadata": {
    "ExecuteTime": {
     "end_time": "2021-07-02T23:40:34.824834Z",
     "start_time": "2021-07-02T23:40:34.821962Z"
    }
   },
   "outputs": [],
   "source": [
    "def add_card(hand, card):\n",
    "    if card != 1:  \n",
    "        if (not hand.soft) or (hand.score <= 11): # simple case\n",
    "            new_score = min(hand.score+min(10, card), 22) # cap busted hands at 22\n",
    "        else: # make a soft hand hard\n",
    "            new_score = hand.score+min(10, card) - 10 \n",
    "            hand.soft = False\n",
    "    else: # card is an ace\n",
    "        if hand.score >= 11: # 11s and up count an ace as 1 (hard or soft)\n",
    "            new_score = min(hand.score+min(10, card), 22) # cap busted hands at 22\n",
    "        else: # soft ace\n",
    "            new_score = hand.score+11\n",
    "            hand.soft = True\n",
    "\n",
    "    hand.score = new_score\n",
    "    hand.cards += [card]\n",
    "    return hand"
   ]
  },
  {
   "cell_type": "code",
   "execution_count": 5,
   "id": "healthy-pollution",
   "metadata": {
    "ExecuteTime": {
     "end_time": "2021-07-02T23:40:34.832307Z",
     "start_time": "2021-07-02T23:40:34.826253Z"
    }
   },
   "outputs": [
    {
     "data": {
      "text/plain": [
       "Hand(score=10, soft=False, cards=[4, 6], doubled=False)"
      ]
     },
     "execution_count": 5,
     "metadata": {},
     "output_type": "execute_result"
    }
   ],
   "source": [
    "def make_hand(cards):\n",
    "    h = Hand()\n",
    "    for c in cards:\n",
    "        h = add_card(h, c)\n",
    "    return h\n",
    "\n",
    "make_hand([4,6])"
   ]
  },
  {
   "cell_type": "code",
   "execution_count": 6,
   "id": "wicked-delhi",
   "metadata": {
    "ExecuteTime": {
     "end_time": "2021-07-02T23:40:34.835346Z",
     "start_time": "2021-07-02T23:40:34.833362Z"
    }
   },
   "outputs": [],
   "source": [
    "def is_busted(hand):\n",
    "    return hand.score > 21"
   ]
  },
  {
   "cell_type": "code",
   "execution_count": 7,
   "id": "premier-imaging",
   "metadata": {
    "ExecuteTime": {
     "end_time": "2021-07-02T23:40:34.837951Z",
     "start_time": "2021-07-02T23:40:34.836281Z"
    }
   },
   "outputs": [],
   "source": [
    "def is_blackjack(hand):\n",
    "    return hand.score==21 and len(hand.cards)==2"
   ]
  },
  {
   "cell_type": "code",
   "execution_count": null,
   "id": "threatened-electric",
   "metadata": {},
   "outputs": [],
   "source": []
  },
  {
   "cell_type": "code",
   "execution_count": 8,
   "id": "initial-harrison",
   "metadata": {
    "ExecuteTime": {
     "end_time": "2021-07-02T23:40:34.842373Z",
     "start_time": "2021-07-02T23:40:34.840500Z"
    }
   },
   "outputs": [
    {
     "data": {
      "text/plain": [
       "Hand(score=0, soft=False, cards=[], doubled=False)"
      ]
     },
     "execution_count": 8,
     "metadata": {},
     "output_type": "execute_result"
    }
   ],
   "source": [
    "h = Hand()\n",
    "h"
   ]
  },
  {
   "cell_type": "code",
   "execution_count": 9,
   "id": "reduced-cover",
   "metadata": {
    "ExecuteTime": {
     "end_time": "2021-07-02T23:40:34.846098Z",
     "start_time": "2021-07-02T23:40:34.844034Z"
    }
   },
   "outputs": [
    {
     "data": {
      "text/plain": [
       "Hand(score=6, soft=False, cards=[6], doubled=False)"
      ]
     },
     "execution_count": 9,
     "metadata": {},
     "output_type": "execute_result"
    }
   ],
   "source": [
    "add_card(h, 6) # start a hand with a 6"
   ]
  },
  {
   "cell_type": "code",
   "execution_count": 10,
   "id": "aging-green",
   "metadata": {
    "ExecuteTime": {
     "end_time": "2021-07-02T23:40:34.849330Z",
     "start_time": "2021-07-02T23:40:34.847094Z"
    }
   },
   "outputs": [
    {
     "data": {
      "text/plain": [
       "Hand(score=16, soft=False, cards=[6, 11], doubled=False)"
      ]
     },
     "execution_count": 10,
     "metadata": {},
     "output_type": "execute_result"
    }
   ],
   "source": [
    "add_card(h, 11) # show that J (11) counts as 10 points"
   ]
  },
  {
   "cell_type": "code",
   "execution_count": 11,
   "id": "humanitarian-chair",
   "metadata": {
    "ExecuteTime": {
     "end_time": "2021-07-02T23:40:34.852737Z",
     "start_time": "2021-07-02T23:40:34.850314Z"
    }
   },
   "outputs": [
    {
     "data": {
      "text/plain": [
       "(Hand(score=22, soft=False, cards=[6, 11, 7], doubled=False), True)"
      ]
     },
     "execution_count": 11,
     "metadata": {},
     "output_type": "execute_result"
    }
   ],
   "source": [
    "add_card(h, 7), is_busted(h) # bust (show that 23 is counted as 22)"
   ]
  },
  {
   "cell_type": "code",
   "execution_count": 12,
   "id": "accompanied-perspective",
   "metadata": {
    "ExecuteTime": {
     "end_time": "2021-07-02T23:40:34.856057Z",
     "start_time": "2021-07-02T23:40:34.853680Z"
    }
   },
   "outputs": [
    {
     "data": {
      "text/plain": [
       "Hand(score=11, soft=True, cards=[1], doubled=False)"
      ]
     },
     "execution_count": 12,
     "metadata": {},
     "output_type": "execute_result"
    }
   ],
   "source": [
    "# OK, now let's try another hand with aces\n",
    "h = Hand()\n",
    "add_card(h, 1) # should be a soft 11"
   ]
  },
  {
   "cell_type": "code",
   "execution_count": 13,
   "id": "exotic-checkout",
   "metadata": {
    "ExecuteTime": {
     "end_time": "2021-07-02T23:40:34.859434Z",
     "start_time": "2021-07-02T23:40:34.857049Z"
    }
   },
   "outputs": [
    {
     "data": {
      "text/plain": [
       "Hand(score=12, soft=True, cards=[1, 1], doubled=False)"
      ]
     },
     "execution_count": 13,
     "metadata": {},
     "output_type": "execute_result"
    }
   ],
   "source": [
    "add_card(h, 1) # two aces: should be a soft 12"
   ]
  },
  {
   "cell_type": "code",
   "execution_count": 14,
   "id": "italian-beads",
   "metadata": {
    "ExecuteTime": {
     "end_time": "2021-07-02T23:40:34.863677Z",
     "start_time": "2021-07-02T23:40:34.860598Z"
    }
   },
   "outputs": [
    {
     "data": {
      "text/plain": [
       "Hand(score=12, soft=False, cards=[1, 1, 11], doubled=False)"
      ]
     },
     "execution_count": 14,
     "metadata": {},
     "output_type": "execute_result"
    }
   ],
   "source": [
    "add_card(h, 11) # two aces and a J: should be a hard 12"
   ]
  },
  {
   "cell_type": "code",
   "execution_count": 15,
   "id": "neutral-sugar",
   "metadata": {
    "ExecuteTime": {
     "end_time": "2021-07-02T23:40:34.867094Z",
     "start_time": "2021-07-02T23:40:34.864597Z"
    }
   },
   "outputs": [
    {
     "data": {
      "text/plain": [
       "(Hand(score=21, soft=True, cards=[1, 10], doubled=False), True)"
      ]
     },
     "execution_count": 15,
     "metadata": {},
     "output_type": "execute_result"
    }
   ],
   "source": [
    "# OK, now let's try another hand with a blackjack\n",
    "h = Hand()\n",
    "add_card(h, 1) # should be a soft 11\n",
    "add_card(h, 10)\n",
    "h, is_blackjack(h)"
   ]
  },
  {
   "cell_type": "markdown",
   "id": "dental-kelly",
   "metadata": {},
   "source": [
    "## Now define gameplay and strategy"
   ]
  },
  {
   "cell_type": "code",
   "execution_count": 16,
   "id": "alternative-blast",
   "metadata": {
    "ExecuteTime": {
     "end_time": "2021-07-02T23:40:34.869850Z",
     "start_time": "2021-07-02T23:40:34.868102Z"
    }
   },
   "outputs": [],
   "source": [
    "\n",
    "# TODO I might want a Flag class later, to provide a set of possible Actions\n",
    "class Action(Enum):\n",
    "    STAND = auto()\n",
    "    HIT = auto()\n",
    "    DOUBLE = auto()\n",
    "    #SPLIT = auto()\n",
    "    \n",
    "    "
   ]
  },
  {
   "cell_type": "code",
   "execution_count": 17,
   "id": "experimental-roulette",
   "metadata": {
    "ExecuteTime": {
     "end_time": "2021-07-02T23:40:34.873083Z",
     "start_time": "2021-07-02T23:40:34.870909Z"
    }
   },
   "outputs": [],
   "source": [
    "# Most simple/conservative strategy imaginable:\n",
    "def strat_nobust(hand, dealer):\n",
    "    if hand.score > 11:\n",
    "        return Action.STAND\n",
    "    else:\n",
    "        return Action.HIT\n",
    "        \n",
    "strat_nobust.name = 'strat_nobust'"
   ]
  },
  {
   "cell_type": "code",
   "execution_count": 18,
   "id": "constitutional-audit",
   "metadata": {
    "ExecuteTime": {
     "end_time": "2021-07-02T23:40:34.877681Z",
     "start_time": "2021-07-02T23:40:34.875032Z"
    }
   },
   "outputs": [],
   "source": [
    "# Dealer strategy\n",
    "def strat_dealer(hand, dealer):\n",
    "    if hand.score < 17:\n",
    "        return Action.HIT\n",
    "    # TODO handle soft hands\n",
    "    else:\n",
    "        return Action.STAND\n",
    "    \n",
    "strat_dealer.name='strat_dealer'\n",
    "        "
   ]
  },
  {
   "cell_type": "code",
   "execution_count": 19,
   "id": "illegal-eclipse",
   "metadata": {
    "ExecuteTime": {
     "end_time": "2021-07-02T23:40:34.880775Z",
     "start_time": "2021-07-02T23:40:34.878708Z"
    }
   },
   "outputs": [],
   "source": [
    "class HandOutcome(Enum):\n",
    "    WIN = 1\n",
    "    LOSE = -1\n",
    "    WIN_DOUBLE = 2\n",
    "    LOSE_DOUBLE = -2\n",
    "    PUSH = 0\n",
    "    BLACKJACK = 1.5"
   ]
  },
  {
   "cell_type": "code",
   "execution_count": 20,
   "id": "rubber-cartoon",
   "metadata": {
    "ExecuteTime": {
     "end_time": "2021-07-02T23:40:34.883237Z",
     "start_time": "2021-07-02T23:40:34.881711Z"
    }
   },
   "outputs": [],
   "source": [
    "# Deck; completely random (i.e., infinite) for now\n",
    "\n",
    "\n",
    "def deal_card():\n",
    "    return random.randrange(13)+1"
   ]
  },
  {
   "cell_type": "code",
   "execution_count": 21,
   "id": "secondary-crown",
   "metadata": {
    "ExecuteTime": {
     "end_time": "2021-07-02T23:40:34.886631Z",
     "start_time": "2021-07-02T23:40:34.884098Z"
    }
   },
   "outputs": [
    {
     "data": {
      "text/plain": [
       "[10, 13, 13, 10, 4, 3, 1, 3, 8, 3]"
      ]
     },
     "execution_count": 21,
     "metadata": {},
     "output_type": "execute_result"
    }
   ],
   "source": [
    "[deal_card() for _ in range(10)]"
   ]
  },
  {
   "cell_type": "code",
   "execution_count": 22,
   "id": "adopted-miami",
   "metadata": {
    "ExecuteTime": {
     "end_time": "2021-07-02T23:40:34.891241Z",
     "start_time": "2021-07-02T23:40:34.887662Z"
    }
   },
   "outputs": [],
   "source": [
    "# return the final hand after playing\n",
    "def player_play_hand(strategy, hand, dealer, deck):\n",
    "    while True:\n",
    "        decision = strategy(hand, dealer)\n",
    "        if decision == Action.STAND:\n",
    "            return hand\n",
    "        if decision == Action.HIT:\n",
    "            add_card(hand, deck())\n",
    "            if is_busted(hand):\n",
    "                return hand\n",
    "        if decision == Action.DOUBLE:\n",
    "            hand.doubled = True\n",
    "            add_card(hand, deck())\n",
    "            return hand\n",
    "\n"
   ]
  },
  {
   "cell_type": "code",
   "execution_count": 23,
   "id": "recent-notion",
   "metadata": {
    "ExecuteTime": {
     "end_time": "2021-07-02T23:40:34.899230Z",
     "start_time": "2021-07-02T23:40:34.896246Z"
    }
   },
   "outputs": [],
   "source": [
    "def player_hand_outcome(player_hand, dealer_hand):\n",
    "    # First compute the initial outcome, then double it if necessary for a double-down\n",
    "    def initial_outcome():\n",
    "        if is_blackjack(player_hand):\n",
    "            if is_blackjack(dealer_hand):\n",
    "                return HandOutcome.PUSH\n",
    "            else:\n",
    "                return HandOutcome.BLACKJACK\n",
    "        if is_busted(player_hand) or is_blackjack(dealer_hand):\n",
    "            return HandOutcome.LOSE\n",
    "        if is_busted(dealer_hand):\n",
    "            return HandOutcome.WIN\n",
    "        if player_hand.score > dealer_hand.score:\n",
    "            return HandOutcome.WIN\n",
    "        if player_hand.score == dealer_hand.score:\n",
    "            return HandOutcome.PUSH\n",
    "        if player_hand.score < dealer_hand.score:\n",
    "            return HandOutcome.LOSE\n",
    "\n",
    "    outcome = initial_outcome()\n",
    "\n",
    "    outcome_doubler = {HandOutcome.WIN: HandOutcome.WIN_DOUBLE, HandOutcome.LOSE: HandOutcome.LOSE_DOUBLE}\n",
    "\n",
    "    if player_hand.doubled:\n",
    "        outcome = outcome_doubler.get(outcome) or outcome\n",
    "    return outcome\n",
    "        \n"
   ]
  },
  {
   "cell_type": "code",
   "execution_count": 24,
   "id": "violent-quality",
   "metadata": {
    "ExecuteTime": {
     "end_time": "2021-07-02T23:40:34.902824Z",
     "start_time": "2021-07-02T23:40:34.901150Z"
    }
   },
   "outputs": [],
   "source": [
    "def get_strat_name(strat):\n",
    "    if hasattr(strat, 'name'):\n",
    "        return strat.name\n",
    "    return repr(strat)"
   ]
  },
  {
   "cell_type": "code",
   "execution_count": 25,
   "id": "atomic-plaintiff",
   "metadata": {
    "ExecuteTime": {
     "end_time": "2021-07-02T23:40:34.910833Z",
     "start_time": "2021-07-02T23:40:34.903711Z"
    }
   },
   "outputs": [
    {
     "data": {
      "text/plain": [
       "[('strat_nobust',\n",
       "  Hand(score=17, soft=False, cards=[8, 9], doubled=False),\n",
       "  Hand(score=17, soft=False, cards=[8, 9], doubled=False),\n",
       "  <HandOutcome.PUSH: 0>),\n",
       " ('strat_nobust',\n",
       "  Hand(score=17, soft=False, cards=[8, 9], doubled=False),\n",
       "  Hand(score=17, soft=False, cards=[8, 9], doubled=False),\n",
       "  <HandOutcome.PUSH: 0>)]"
      ]
     },
     "execution_count": 25,
     "metadata": {},
     "output_type": "execute_result"
    }
   ],
   "source": [
    "# Goal is to evaluate strategies, so make comparisons simple\n",
    "\n",
    "# For each round:\n",
    "# Multiple players all play with a copy of the same starting hand\n",
    "# Each player has a strategy that they play\n",
    "# Dealer plays dealer strategy\n",
    "\n",
    "# For now, we're using an infinite deck and strategies without knowledge, so\n",
    "# the interaction of players/strategies should be a wash\n",
    "\n",
    "def deal_one_round():\n",
    "    hand_p = Hand()\n",
    "    hand_d = Hand()\n",
    "\n",
    "    add_card(hand_p, deal_card())\n",
    "    add_card(hand_d, deal_card())\n",
    "    add_card(hand_p, deal_card())\n",
    "    \n",
    "    dealer_hole_card = deal_card()\n",
    "    \n",
    "    return hand_p, hand_d, dealer_hole_card\n",
    "\n",
    "\n",
    "# Play multiple strategies on one starting point\n",
    "def complete_one_round(strats, player_hand, dealer_hand, dealer_hole_card):\n",
    "    hand_p = copy.deepcopy(player_hand)\n",
    "    hand_d = copy.deepcopy(dealer_hand)\n",
    "    \n",
    "    # represent each player as a hand and a strategy\n",
    "    players = [(player_play_hand(strat, copy.deepcopy(hand_p), hand_d, deal_card), get_strat_name(strat)) for strat in strats]\n",
    "    \n",
    "    # dealer\n",
    "    player_play_hand(strat_dealer, add_card(hand_d, dealer_hole_card), None, deal_card)\n",
    "    \n",
    "    return [(strat, hand_p, hand_d, player_hand_outcome(hand_p, hand_d)) for (hand_p, strat) in players]\n",
    "\n",
    "    \n",
    "def play_one_round(strats):\n",
    "    hand_p, hand_d, dealer_hole_card = deal_one_round()\n",
    "    return complete_one_round(strats, hand_p, hand_d, dealer_hole_card)\n",
    "\n",
    "play_one_round([strat_nobust, strat_nobust])"
   ]
  },
  {
   "cell_type": "markdown",
   "id": "looking-jewelry",
   "metadata": {},
   "source": [
    "## Aggregate and summarize the data from the simulations"
   ]
  },
  {
   "cell_type": "code",
   "execution_count": 26,
   "id": "juvenile-joshua",
   "metadata": {
    "ExecuteTime": {
     "end_time": "2021-07-02T23:40:34.915928Z",
     "start_time": "2021-07-02T23:40:34.911933Z"
    }
   },
   "outputs": [
    {
     "data": {
      "text/plain": [
       "[{'strategy': 'strat_nobust',\n",
       "  'hand_start': [4, 7],\n",
       "  'dealer_card': 13,\n",
       "  'hand_end': [4, 7, 5],\n",
       "  'dealer_hand': [13, 12],\n",
       "  'outcome': <HandOutcome.LOSE: -1>},\n",
       " {'strategy': 'strat_dealer',\n",
       "  'hand_start': [4, 7],\n",
       "  'dealer_card': 13,\n",
       "  'hand_end': [4, 7, 2, 7],\n",
       "  'dealer_hand': [13, 12],\n",
       "  'outcome': <HandOutcome.PUSH: 0>}]"
      ]
     },
     "execution_count": 26,
     "metadata": {},
     "output_type": "execute_result"
    }
   ],
   "source": [
    "\n",
    "def generate_row_from_player(player):\n",
    "    (strat, hand_p, hand_d, outcome) = player\n",
    "    return {'strategy': strat, 'hand_start': hand_p.cards[:2], 'dealer_card': hand_d.cards[0], 'hand_end': hand_p.cards, 'dealer_hand': hand_d.cards, 'outcome': outcome}\n",
    "\n",
    "def generate_rows_from_round(r):\n",
    "    return [generate_row_from_player(player) for player in r]\n",
    "\n",
    "\n",
    "generate_rows_from_round(play_one_round([strat_nobust, strat_dealer]))\n"
   ]
  },
  {
   "cell_type": "code",
   "execution_count": 27,
   "id": "approved-broadway",
   "metadata": {
    "ExecuteTime": {
     "end_time": "2021-07-02T23:40:34.992869Z",
     "start_time": "2021-07-02T23:40:34.916858Z"
    }
   },
   "outputs": [
    {
     "data": {
      "text/plain": [
       "(          strategy hand_start  dealer_card    hand_end         dealer_hand  \\\n",
       " 0     strat_nobust     [8, 1]            6      [8, 1]          [6, 7, 12]   \n",
       " 1     strat_dealer     [8, 1]            6      [8, 1]          [6, 7, 12]   \n",
       " 2     strat_nobust     [9, 6]            8      [9, 6]          [8, 8, 12]   \n",
       " 3     strat_dealer     [9, 6]            8  [9, 6, 10]          [8, 8, 12]   \n",
       " 4     strat_nobust    [10, 6]            6     [10, 6]     [6, 2, 5, 3, 3]   \n",
       " ...            ...        ...          ...         ...                 ...   \n",
       " 1995  strat_dealer     [6, 8]            1   [6, 8, 7]  [1, 5, 2, 2, 5, 4]   \n",
       " 1996  strat_nobust    [9, 12]           13     [9, 12]         [13, 4, 11]   \n",
       " 1997  strat_dealer    [9, 12]           13     [9, 12]         [13, 4, 11]   \n",
       " 1998  strat_nobust    [11, 7]            4     [11, 7]        [4, 7, 3, 5]   \n",
       " 1999  strat_dealer    [11, 7]            4     [11, 7]        [4, 7, 3, 5]   \n",
       " \n",
       "                outcome  outcome_value outcome_name  \n",
       " 0      HandOutcome.WIN            1.0          WIN  \n",
       " 1      HandOutcome.WIN            1.0          WIN  \n",
       " 2      HandOutcome.WIN            1.0          WIN  \n",
       " 3     HandOutcome.LOSE           -1.0         LOSE  \n",
       " 4     HandOutcome.LOSE           -1.0         LOSE  \n",
       " ...                ...            ...          ...  \n",
       " 1995   HandOutcome.WIN            1.0          WIN  \n",
       " 1996   HandOutcome.WIN            1.0          WIN  \n",
       " 1997   HandOutcome.WIN            1.0          WIN  \n",
       " 1998  HandOutcome.LOSE           -1.0         LOSE  \n",
       " 1999  HandOutcome.LOSE           -1.0         LOSE  \n",
       " \n",
       " [2000 rows x 8 columns],\n",
       "                    len                mean_outcome\n",
       " outcome_name BLACKJACK LOSE PUSH  WIN             \n",
       " strategy                                          \n",
       " strat_dealer        46  487   91  376       -0.042\n",
       " strat_nobust        46  521   52  381       -0.071)"
      ]
     },
     "execution_count": 27,
     "metadata": {},
     "output_type": "execute_result"
    }
   ],
   "source": [
    "def run_n_sim_trials(strats, n):\n",
    "    sims = [generate_rows_from_round(play_one_round(strats)) for _ in range(n)]\n",
    "    results = pd.DataFrame([player for round in sims for player in round])\n",
    "    results['outcome_value'] = results['outcome'].apply(lambda x: x.value)\n",
    "    results['outcome_name'] = results['outcome'].apply(lambda x: str(x)[12:])\n",
    "    return results\n",
    "\n",
    "def summarize_totals(sims):\n",
    "    def outcome_name(x): return x.head(1) # The function name will be used as the column name\n",
    "    outcome_counts = sims.groupby(['strategy', 'outcome_value'])['outcome_name'].agg([len, outcome_name])\n",
    "    outcome_summary = outcome_counts.reset_index().set_index('strategy').drop(['outcome_value'], axis=1).pivot(columns=['outcome_name'])\n",
    "\n",
    "    # The empty cells are NaNs; fill the NaNs and convert back to int\n",
    "    for col in outcome_summary.columns:\n",
    "        outcome_summary[col] = outcome_summary[col].fillna(0).apply(int)\n",
    "        \n",
    "    outcome_summary['mean_outcome'] = sims.groupby('strategy')['outcome_value'].mean()\n",
    "    \n",
    "    return outcome_summary\n",
    "\n",
    "\n",
    "sim_results = run_n_sim_trials([strat_nobust, strat_dealer], 1000)\n",
    "sim_results, summarize_totals(sim_results)"
   ]
  },
  {
   "cell_type": "code",
   "execution_count": 28,
   "id": "varied-devil",
   "metadata": {
    "ExecuteTime": {
     "end_time": "2021-07-02T23:40:35.067570Z",
     "start_time": "2021-07-02T23:40:34.993941Z"
    }
   },
   "outputs": [
    {
     "data": {
      "text/plain": [
       "(  strategy hand_start  dealer_card       hand_end    dealer_hand  \\\n",
       " 0   simple    [13, 1]           12        [13, 1]     [12, 2, 8]   \n",
       " 1   simple    [4, 12]            9    [4, 12, 13]         [9, 1]   \n",
       " 2   simple     [1, 6]            4         [1, 6]     [4, 12, 9]   \n",
       " 3   simple   [12, 11]           11       [12, 11]       [11, 12]   \n",
       " 4   simple     [5, 3]           12      [5, 3, 1]  [12, 3, 3, 6]   \n",
       " 5   simple    [11, 7]            5        [11, 7]     [5, 8, 11]   \n",
       " 6   simple     [8, 9]           11         [8, 9]       [11, 13]   \n",
       " 7   simple     [4, 8]            2     [4, 8, 11]     [2, 9, 10]   \n",
       " 8   simple     [2, 1]            5         [2, 1]     [5, 10, 4]   \n",
       " 9   simple     [2, 1]            7  [2, 1, 9, 13]      [7, 8, 6]   \n",
       " \n",
       "                  outcome  outcome_value outcome_name  \n",
       " 0  HandOutcome.BLACKJACK            1.5    BLACKJACK  \n",
       " 1       HandOutcome.LOSE           -1.0         LOSE  \n",
       " 2        HandOutcome.WIN            1.0          WIN  \n",
       " 3       HandOutcome.PUSH            0.0         PUSH  \n",
       " 4        HandOutcome.WIN            1.0          WIN  \n",
       " 5        HandOutcome.WIN            1.0          WIN  \n",
       " 6       HandOutcome.LOSE           -1.0         LOSE  \n",
       " 7       HandOutcome.LOSE           -1.0         LOSE  \n",
       " 8       HandOutcome.LOSE           -1.0         LOSE  \n",
       " 9       HandOutcome.LOSE           -1.0         LOSE  ,\n",
       "                    len                                       mean_outcome\n",
       " outcome_name BLACKJACK LOSE LOSE_DOUBLE PUSH  WIN WIN_DOUBLE             \n",
       " strategy                                                                 \n",
       " simple              45  476          18   82  341         38      -0.0275)"
      ]
     },
     "execution_count": 28,
     "metadata": {},
     "output_type": "execute_result"
    }
   ],
   "source": [
    "def strat_simple(hand, dealer):\n",
    "    if hand.score == 11:  return Action.DOUBLE\n",
    "    if hand.score >= 17:  return Action.STAND\n",
    "    if hand.score <= 11:  return Action.HIT\n",
    "    if dealer.score in (range(3,7)):  return Action.STAND\n",
    "    else:  return Action.HIT\n",
    "        \n",
    "strat_simple.name = 'simple'\n",
    "\n",
    "\n",
    "sims = run_n_sim_trials([strat_simple], 1000)\n",
    "sims.head(10), summarize_totals(sims)"
   ]
  },
  {
   "cell_type": "code",
   "execution_count": 29,
   "id": "confirmed-passing",
   "metadata": {
    "ExecuteTime": {
     "end_time": "2021-07-02T23:40:35.743009Z",
     "start_time": "2021-07-02T23:40:35.068558Z"
    }
   },
   "outputs": [
    {
     "data": {
      "text/html": [
       "<div>\n",
       "<style scoped>\n",
       "    .dataframe tbody tr th:only-of-type {\n",
       "        vertical-align: middle;\n",
       "    }\n",
       "\n",
       "    .dataframe tbody tr th {\n",
       "        vertical-align: top;\n",
       "    }\n",
       "\n",
       "    .dataframe thead tr th {\n",
       "        text-align: left;\n",
       "    }\n",
       "\n",
       "    .dataframe thead tr:last-of-type th {\n",
       "        text-align: right;\n",
       "    }\n",
       "</style>\n",
       "<table border=\"1\" class=\"dataframe\">\n",
       "  <thead>\n",
       "    <tr>\n",
       "      <th></th>\n",
       "      <th colspan=\"6\" halign=\"left\">len</th>\n",
       "      <th>mean_outcome</th>\n",
       "    </tr>\n",
       "    <tr>\n",
       "      <th>outcome_name</th>\n",
       "      <th>BLACKJACK</th>\n",
       "      <th>LOSE</th>\n",
       "      <th>LOSE_DOUBLE</th>\n",
       "      <th>PUSH</th>\n",
       "      <th>WIN</th>\n",
       "      <th>WIN_DOUBLE</th>\n",
       "      <th></th>\n",
       "    </tr>\n",
       "    <tr>\n",
       "      <th>strategy</th>\n",
       "      <th></th>\n",
       "      <th></th>\n",
       "      <th></th>\n",
       "      <th></th>\n",
       "      <th></th>\n",
       "      <th></th>\n",
       "      <th></th>\n",
       "    </tr>\n",
       "  </thead>\n",
       "  <tbody>\n",
       "    <tr>\n",
       "      <th>simple</th>\n",
       "      <td>452</td>\n",
       "      <td>4655</td>\n",
       "      <td>224</td>\n",
       "      <td>862</td>\n",
       "      <td>3482</td>\n",
       "      <td>325</td>\n",
       "      <td>-0.0293</td>\n",
       "    </tr>\n",
       "    <tr>\n",
       "      <th>strat_dealer</th>\n",
       "      <td>452</td>\n",
       "      <td>5003</td>\n",
       "      <td>0</td>\n",
       "      <td>953</td>\n",
       "      <td>3592</td>\n",
       "      <td>0</td>\n",
       "      <td>-0.0733</td>\n",
       "    </tr>\n",
       "    <tr>\n",
       "      <th>strat_nobust</th>\n",
       "      <td>452</td>\n",
       "      <td>5221</td>\n",
       "      <td>0</td>\n",
       "      <td>601</td>\n",
       "      <td>3726</td>\n",
       "      <td>0</td>\n",
       "      <td>-0.0817</td>\n",
       "    </tr>\n",
       "  </tbody>\n",
       "</table>\n",
       "</div>"
      ],
      "text/plain": [
       "                   len                                         mean_outcome\n",
       "outcome_name BLACKJACK  LOSE LOSE_DOUBLE PUSH   WIN WIN_DOUBLE             \n",
       "strategy                                                                   \n",
       "simple             452  4655         224  862  3482        325      -0.0293\n",
       "strat_dealer       452  5003           0  953  3592          0      -0.0733\n",
       "strat_nobust       452  5221           0  601  3726          0      -0.0817"
      ]
     },
     "execution_count": 29,
     "metadata": {},
     "output_type": "execute_result"
    }
   ],
   "source": [
    "summarize_totals(run_n_sim_trials([strat_dealer, strat_nobust, strat_simple], 10000))\n"
   ]
  },
  {
   "cell_type": "markdown",
   "id": "fluid-writing",
   "metadata": {},
   "source": [
    "## Simulate specific situations to determine strategy"
   ]
  },
  {
   "cell_type": "code",
   "execution_count": 30,
   "id": "otherwise-sheffield",
   "metadata": {
    "ExecuteTime": {
     "end_time": "2021-07-02T23:40:35.746227Z",
     "start_time": "2021-07-02T23:40:35.743968Z"
    }
   },
   "outputs": [
    {
     "data": {
      "text/plain": [
       "(Hand(score=12, soft=False, cards=[5, 7], doubled=False),\n",
       " Hand(score=2, soft=False, cards=[2], doubled=False))"
      ]
     },
     "execution_count": 30,
     "metadata": {},
     "output_type": "execute_result"
    }
   ],
   "source": [
    "# 12 vs deuce\n",
    "\n",
    "hand_p = make_hand([5, 7])\n",
    "hand_d = make_hand([2])\n",
    "\n",
    "hand_p, hand_d"
   ]
  },
  {
   "cell_type": "code",
   "execution_count": 31,
   "id": "gross-kennedy",
   "metadata": {
    "ExecuteTime": {
     "end_time": "2021-07-02T23:40:35.749511Z",
     "start_time": "2021-07-02T23:40:35.747085Z"
    }
   },
   "outputs": [],
   "source": [
    "# Implement a strategy that composes conditions and actions\n",
    "\n",
    "def cond_12_2(hand, dealer):\n",
    "    return hand.score == 12 and dealer.score == 2 and not hand.soft\n",
    "conditions = [(cond_12_2, Action.STAND)]\n",
    "\n",
    "def generate_strat_conditional(strat_base, conditions):\n",
    "    def strat_cond(hand, dealer):\n",
    "        for (condition, action) in conditions:\n",
    "            if condition(hand, dealer): return action\n",
    "        return strat_base(hand, dealer)\n",
    "    strat_cond.name = 'strat_cond'\n",
    "    return strat_cond\n",
    "    \n",
    "strat_cond = generate_strat_conditional(strat_simple, conditions)"
   ]
  },
  {
   "cell_type": "code",
   "execution_count": 32,
   "id": "virgin-mining",
   "metadata": {
    "ExecuteTime": {
     "end_time": "2021-07-02T23:40:35.753642Z",
     "start_time": "2021-07-02T23:40:35.750269Z"
    }
   },
   "outputs": [
    {
     "data": {
      "text/plain": [
       "[<function __main__.generate_strat_conditional.<locals>.strat_cond(hand, dealer)>,\n",
       " <function __main__.generate_strat_conditional.<locals>.strat_cond(hand, dealer)>,\n",
       " <function __main__.generate_strat_conditional.<locals>.strat_cond(hand, dealer)>]"
      ]
     },
     "execution_count": 32,
     "metadata": {},
     "output_type": "execute_result"
    }
   ],
   "source": [
    "def gen_cond_strategies(strat_base, condition, actions):\n",
    "    def gen_strat_action(strat_base, condition, action):\n",
    "        strat = generate_strat_conditional(strat_base, [(condition, action)])\n",
    "        strat.name = repr(action)\n",
    "        return strat\n",
    "    \n",
    "    strats = [gen_strat_action(strat_base, condition, a) for a in actions]\n",
    "    return strats\n",
    "    \n",
    "\n",
    "\n",
    "\n",
    "strats = gen_cond_strategies(strat_simple, cond_12_2, [Action.HIT, Action.STAND, Action.DOUBLE])\n",
    "strats"
   ]
  },
  {
   "cell_type": "code",
   "execution_count": 33,
   "id": "acoustic-warrant",
   "metadata": {
    "ExecuteTime": {
     "end_time": "2021-07-02T23:40:35.758615Z",
     "start_time": "2021-07-02T23:40:35.754726Z"
    }
   },
   "outputs": [
    {
     "data": {
      "text/plain": [
       "[('<Action.HIT: 2>',\n",
       "  Hand(score=22, soft=False, cards=[5, 7, 4, 10], doubled=False),\n",
       "  Hand(score=20, soft=False, cards=[2, 4, 4, 4, 6], doubled=False),\n",
       "  <HandOutcome.LOSE: -1>),\n",
       " ('<Action.STAND: 1>',\n",
       "  Hand(score=12, soft=False, cards=[5, 7], doubled=False),\n",
       "  Hand(score=20, soft=False, cards=[2, 4, 4, 4, 6], doubled=False),\n",
       "  <HandOutcome.LOSE: -1>),\n",
       " ('<Action.DOUBLE: 3>',\n",
       "  Hand(score=13, soft=False, cards=[5, 7, 1], doubled=True),\n",
       "  Hand(score=20, soft=False, cards=[2, 4, 4, 4, 6], doubled=False),\n",
       "  <HandOutcome.LOSE_DOUBLE: -2>)]"
      ]
     },
     "execution_count": 33,
     "metadata": {},
     "output_type": "execute_result"
    }
   ],
   "source": [
    "complete_one_round(strats, hand_p, hand_d, deal_card())"
   ]
  },
  {
   "cell_type": "code",
   "execution_count": 34,
   "id": "economic-greene",
   "metadata": {
    "ExecuteTime": {
     "end_time": "2021-07-02T23:40:36.417319Z",
     "start_time": "2021-07-02T23:40:35.760882Z"
    }
   },
   "outputs": [
    {
     "data": {
      "text/html": [
       "<div>\n",
       "<style scoped>\n",
       "    .dataframe tbody tr th:only-of-type {\n",
       "        vertical-align: middle;\n",
       "    }\n",
       "\n",
       "    .dataframe tbody tr th {\n",
       "        vertical-align: top;\n",
       "    }\n",
       "\n",
       "    .dataframe thead tr th {\n",
       "        text-align: left;\n",
       "    }\n",
       "\n",
       "    .dataframe thead tr:last-of-type th {\n",
       "        text-align: right;\n",
       "    }\n",
       "</style>\n",
       "<table border=\"1\" class=\"dataframe\">\n",
       "  <thead>\n",
       "    <tr>\n",
       "      <th></th>\n",
       "      <th colspan=\"5\" halign=\"left\">len</th>\n",
       "      <th>mean_outcome</th>\n",
       "    </tr>\n",
       "    <tr>\n",
       "      <th>outcome_name</th>\n",
       "      <th>LOSE</th>\n",
       "      <th>LOSE_DOUBLE</th>\n",
       "      <th>PUSH</th>\n",
       "      <th>WIN</th>\n",
       "      <th>WIN_DOUBLE</th>\n",
       "      <th></th>\n",
       "    </tr>\n",
       "    <tr>\n",
       "      <th>strategy</th>\n",
       "      <th></th>\n",
       "      <th></th>\n",
       "      <th></th>\n",
       "      <th></th>\n",
       "      <th></th>\n",
       "      <th></th>\n",
       "    </tr>\n",
       "  </thead>\n",
       "  <tbody>\n",
       "    <tr>\n",
       "      <th>&lt;Action.DOUBLE: 3&gt;</th>\n",
       "      <td>0</td>\n",
       "      <td>5955</td>\n",
       "      <td>474</td>\n",
       "      <td>0</td>\n",
       "      <td>3571</td>\n",
       "      <td>-0.4768</td>\n",
       "    </tr>\n",
       "    <tr>\n",
       "      <th>&lt;Action.HIT: 2&gt;</th>\n",
       "      <td>6002</td>\n",
       "      <td>0</td>\n",
       "      <td>636</td>\n",
       "      <td>3362</td>\n",
       "      <td>0</td>\n",
       "      <td>-0.2640</td>\n",
       "    </tr>\n",
       "    <tr>\n",
       "      <th>&lt;Action.STAND: 1&gt;</th>\n",
       "      <td>6312</td>\n",
       "      <td>0</td>\n",
       "      <td>0</td>\n",
       "      <td>3688</td>\n",
       "      <td>0</td>\n",
       "      <td>-0.2624</td>\n",
       "    </tr>\n",
       "  </tbody>\n",
       "</table>\n",
       "</div>"
      ],
      "text/plain": [
       "                     len                                   mean_outcome\n",
       "outcome_name        LOSE LOSE_DOUBLE PUSH   WIN WIN_DOUBLE             \n",
       "strategy                                                               \n",
       "<Action.DOUBLE: 3>     0        5955  474     0       3571      -0.4768\n",
       "<Action.HIT: 2>     6002           0  636  3362          0      -0.2640\n",
       "<Action.STAND: 1>   6312           0    0  3688          0      -0.2624"
      ]
     },
     "execution_count": 34,
     "metadata": {},
     "output_type": "execute_result"
    }
   ],
   "source": [
    "# TODO reduce duplication with run_n_sim_trials\n",
    "def run_n_sim_trials_from_state(strats, hand_p, hand_d, n):\n",
    "    sims = [generate_rows_from_round(complete_one_round(strats, hand_p, hand_d, deal_card())) for _ in range(n)]\n",
    "    results = pd.DataFrame([player for round in sims for player in round])\n",
    "    results['outcome_value'] = results['outcome'].apply(lambda x: x.value)\n",
    "    results['outcome_name'] = results['outcome'].apply(lambda x: str(x)[12:])\n",
    "    return results\n",
    "\n",
    "sims = run_n_sim_trials_from_state(strats, hand_p, hand_d, 10000)\n",
    "summarize_totals(sims)"
   ]
  },
  {
   "cell_type": "code",
   "execution_count": 35,
   "id": "institutional-grain",
   "metadata": {
    "ExecuteTime": {
     "end_time": "2021-07-02T23:40:36.420418Z",
     "start_time": "2021-07-02T23:40:36.418229Z"
    }
   },
   "outputs": [
    {
     "data": {
      "text/plain": [
       "(Hand(score=12, soft=True, cards=[1, 1], doubled=False),\n",
       " Hand(score=2, soft=False, cards=[2], doubled=False))"
      ]
     },
     "execution_count": 35,
     "metadata": {},
     "output_type": "execute_result"
    }
   ],
   "source": [
    "# Soft 12 vs 2\n",
    "hand_12s = make_hand([1, 1])\n",
    "\n",
    "hand_12s, hand_d"
   ]
  },
  {
   "cell_type": "code",
   "execution_count": 36,
   "id": "legal-uniform",
   "metadata": {
    "ExecuteTime": {
     "end_time": "2021-07-02T23:40:36.423721Z",
     "start_time": "2021-07-02T23:40:36.421248Z"
    }
   },
   "outputs": [
    {
     "data": {
      "text/plain": [
       "[<function __main__.generate_strat_conditional.<locals>.strat_cond(hand, dealer)>,\n",
       " <function __main__.generate_strat_conditional.<locals>.strat_cond(hand, dealer)>,\n",
       " <function __main__.generate_strat_conditional.<locals>.strat_cond(hand, dealer)>]"
      ]
     },
     "execution_count": 36,
     "metadata": {},
     "output_type": "execute_result"
    }
   ],
   "source": [
    "def cond_12s_2(hand, dealer):\n",
    "    return hand.score == 12 and dealer.score == 2 and hand.soft\n",
    "\n",
    "strats = gen_cond_strategies(strat_simple, cond_12s_2, [Action.HIT, Action.STAND, Action.DOUBLE])\n",
    "strats"
   ]
  },
  {
   "cell_type": "code",
   "execution_count": 37,
   "id": "british-logging",
   "metadata": {
    "ExecuteTime": {
     "end_time": "2021-07-02T23:40:37.317207Z",
     "start_time": "2021-07-02T23:40:36.424459Z"
    }
   },
   "outputs": [
    {
     "data": {
      "text/html": [
       "<div>\n",
       "<style scoped>\n",
       "    .dataframe tbody tr th:only-of-type {\n",
       "        vertical-align: middle;\n",
       "    }\n",
       "\n",
       "    .dataframe tbody tr th {\n",
       "        vertical-align: top;\n",
       "    }\n",
       "\n",
       "    .dataframe thead tr th {\n",
       "        text-align: left;\n",
       "    }\n",
       "\n",
       "    .dataframe thead tr:last-of-type th {\n",
       "        text-align: right;\n",
       "    }\n",
       "</style>\n",
       "<table border=\"1\" class=\"dataframe\">\n",
       "  <thead>\n",
       "    <tr>\n",
       "      <th></th>\n",
       "      <th colspan=\"5\" halign=\"left\">len</th>\n",
       "      <th>mean_outcome</th>\n",
       "    </tr>\n",
       "    <tr>\n",
       "      <th>outcome_name</th>\n",
       "      <th>LOSE</th>\n",
       "      <th>LOSE_DOUBLE</th>\n",
       "      <th>PUSH</th>\n",
       "      <th>WIN</th>\n",
       "      <th>WIN_DOUBLE</th>\n",
       "      <th></th>\n",
       "    </tr>\n",
       "    <tr>\n",
       "      <th>strategy</th>\n",
       "      <th></th>\n",
       "      <th></th>\n",
       "      <th></th>\n",
       "      <th></th>\n",
       "      <th></th>\n",
       "      <th></th>\n",
       "    </tr>\n",
       "  </thead>\n",
       "  <tbody>\n",
       "    <tr>\n",
       "      <th>&lt;Action.DOUBLE: 3&gt;</th>\n",
       "      <td>0</td>\n",
       "      <td>6299</td>\n",
       "      <td>0</td>\n",
       "      <td>0</td>\n",
       "      <td>3701</td>\n",
       "      <td>-0.5196</td>\n",
       "    </tr>\n",
       "    <tr>\n",
       "      <th>&lt;Action.HIT: 2&gt;</th>\n",
       "      <td>4780</td>\n",
       "      <td>404</td>\n",
       "      <td>812</td>\n",
       "      <td>3325</td>\n",
       "      <td>679</td>\n",
       "      <td>-0.0905</td>\n",
       "    </tr>\n",
       "    <tr>\n",
       "      <th>&lt;Action.STAND: 1&gt;</th>\n",
       "      <td>6299</td>\n",
       "      <td>0</td>\n",
       "      <td>0</td>\n",
       "      <td>3701</td>\n",
       "      <td>0</td>\n",
       "      <td>-0.2598</td>\n",
       "    </tr>\n",
       "    <tr>\n",
       "      <th>simple</th>\n",
       "      <td>4760</td>\n",
       "      <td>443</td>\n",
       "      <td>760</td>\n",
       "      <td>3291</td>\n",
       "      <td>746</td>\n",
       "      <td>-0.0863</td>\n",
       "    </tr>\n",
       "  </tbody>\n",
       "</table>\n",
       "</div>"
      ],
      "text/plain": [
       "                     len                                   mean_outcome\n",
       "outcome_name        LOSE LOSE_DOUBLE PUSH   WIN WIN_DOUBLE             \n",
       "strategy                                                               \n",
       "<Action.DOUBLE: 3>     0        6299    0     0       3701      -0.5196\n",
       "<Action.HIT: 2>     4780         404  812  3325        679      -0.0905\n",
       "<Action.STAND: 1>   6299           0    0  3701          0      -0.2598\n",
       "simple              4760         443  760  3291        746      -0.0863"
      ]
     },
     "execution_count": 37,
     "metadata": {},
     "output_type": "execute_result"
    }
   ],
   "source": [
    "sims = run_n_sim_trials_from_state(strats+[strat_simple], hand_12s, hand_d, 10000)\n",
    "summarize_totals(sims)"
   ]
  },
  {
   "cell_type": "code",
   "execution_count": 38,
   "id": "based-subscription",
   "metadata": {
    "ExecuteTime": {
     "end_time": "2021-07-02T23:40:42.495917Z",
     "start_time": "2021-07-02T23:40:37.318100Z"
    }
   },
   "outputs": [
    {
     "data": {
      "text/html": [
       "<div>\n",
       "<style scoped>\n",
       "    .dataframe tbody tr th:only-of-type {\n",
       "        vertical-align: middle;\n",
       "    }\n",
       "\n",
       "    .dataframe tbody tr th {\n",
       "        vertical-align: top;\n",
       "    }\n",
       "\n",
       "    .dataframe thead tr th {\n",
       "        text-align: left;\n",
       "    }\n",
       "\n",
       "    .dataframe thead tr:last-of-type th {\n",
       "        text-align: right;\n",
       "    }\n",
       "</style>\n",
       "<table border=\"1\" class=\"dataframe\">\n",
       "  <thead>\n",
       "    <tr>\n",
       "      <th></th>\n",
       "      <th colspan=\"3\" halign=\"left\">len</th>\n",
       "      <th>mean_outcome</th>\n",
       "    </tr>\n",
       "    <tr>\n",
       "      <th>outcome_name</th>\n",
       "      <th>LOSE</th>\n",
       "      <th>PUSH</th>\n",
       "      <th>WIN</th>\n",
       "      <th></th>\n",
       "    </tr>\n",
       "    <tr>\n",
       "      <th>strategy</th>\n",
       "      <th></th>\n",
       "      <th></th>\n",
       "      <th></th>\n",
       "      <th></th>\n",
       "    </tr>\n",
       "  </thead>\n",
       "  <tbody>\n",
       "    <tr>\n",
       "      <th>simple</th>\n",
       "      <td>61158</td>\n",
       "      <td>6503</td>\n",
       "      <td>32339</td>\n",
       "      <td>-0.28819</td>\n",
       "    </tr>\n",
       "    <tr>\n",
       "      <th>strat_cond</th>\n",
       "      <td>63595</td>\n",
       "      <td>0</td>\n",
       "      <td>36405</td>\n",
       "      <td>-0.27190</td>\n",
       "    </tr>\n",
       "  </tbody>\n",
       "</table>\n",
       "</div>"
      ],
      "text/plain": [
       "                len              mean_outcome\n",
       "outcome_name   LOSE  PUSH    WIN             \n",
       "strategy                                     \n",
       "simple        61158  6503  32339     -0.28819\n",
       "strat_cond    63595     0  36405     -0.27190"
      ]
     },
     "execution_count": 38,
     "metadata": {},
     "output_type": "execute_result"
    }
   ],
   "source": [
    "summarize_totals(run_n_sim_trials_from_state([strat_simple, strat_cond], hand_p, hand_d, 100*1000))"
   ]
  },
  {
   "cell_type": "code",
   "execution_count": 39,
   "id": "vietnamese-spray",
   "metadata": {
    "ExecuteTime": {
     "end_time": "2021-07-02T23:40:50.524365Z",
     "start_time": "2021-07-02T23:40:42.496803Z"
    }
   },
   "outputs": [
    {
     "data": {
      "text/html": [
       "<div>\n",
       "<style scoped>\n",
       "    .dataframe tbody tr th:only-of-type {\n",
       "        vertical-align: middle;\n",
       "    }\n",
       "\n",
       "    .dataframe tbody tr th {\n",
       "        vertical-align: top;\n",
       "    }\n",
       "\n",
       "    .dataframe thead tr th {\n",
       "        text-align: left;\n",
       "    }\n",
       "\n",
       "    .dataframe thead tr:last-of-type th {\n",
       "        text-align: right;\n",
       "    }\n",
       "</style>\n",
       "<table border=\"1\" class=\"dataframe\">\n",
       "  <thead>\n",
       "    <tr>\n",
       "      <th></th>\n",
       "      <th colspan=\"5\" halign=\"left\">len</th>\n",
       "      <th>mean_outcome</th>\n",
       "    </tr>\n",
       "    <tr>\n",
       "      <th>outcome_name</th>\n",
       "      <th>LOSE</th>\n",
       "      <th>LOSE_DOUBLE</th>\n",
       "      <th>PUSH</th>\n",
       "      <th>WIN</th>\n",
       "      <th>WIN_DOUBLE</th>\n",
       "      <th></th>\n",
       "    </tr>\n",
       "    <tr>\n",
       "      <th>strategy</th>\n",
       "      <th></th>\n",
       "      <th></th>\n",
       "      <th></th>\n",
       "      <th></th>\n",
       "      <th></th>\n",
       "      <th></th>\n",
       "    </tr>\n",
       "  </thead>\n",
       "  <tbody>\n",
       "    <tr>\n",
       "      <th>&lt;Action.DOUBLE: 3&gt;</th>\n",
       "      <td>0</td>\n",
       "      <td>57993</td>\n",
       "      <td>0</td>\n",
       "      <td>0</td>\n",
       "      <td>42007</td>\n",
       "      <td>-0.31972</td>\n",
       "    </tr>\n",
       "    <tr>\n",
       "      <th>&lt;Action.HIT: 2&gt;</th>\n",
       "      <td>45447</td>\n",
       "      <td>3282</td>\n",
       "      <td>3103</td>\n",
       "      <td>41406</td>\n",
       "      <td>6762</td>\n",
       "      <td>0.02919</td>\n",
       "    </tr>\n",
       "    <tr>\n",
       "      <th>&lt;Action.STAND: 1&gt;</th>\n",
       "      <td>57993</td>\n",
       "      <td>0</td>\n",
       "      <td>0</td>\n",
       "      <td>42007</td>\n",
       "      <td>0</td>\n",
       "      <td>-0.15986</td>\n",
       "    </tr>\n",
       "    <tr>\n",
       "      <th>simple</th>\n",
       "      <td>57993</td>\n",
       "      <td>0</td>\n",
       "      <td>0</td>\n",
       "      <td>42007</td>\n",
       "      <td>0</td>\n",
       "      <td>-0.15986</td>\n",
       "    </tr>\n",
       "  </tbody>\n",
       "</table>\n",
       "</div>"
      ],
      "text/plain": [
       "                      len                                     mean_outcome\n",
       "outcome_name         LOSE LOSE_DOUBLE  PUSH    WIN WIN_DOUBLE             \n",
       "strategy                                                                  \n",
       "<Action.DOUBLE: 3>      0       57993     0      0      42007     -0.31972\n",
       "<Action.HIT: 2>     45447        3282  3103  41406       6762      0.02919\n",
       "<Action.STAND: 1>   57993           0     0  42007          0     -0.15986\n",
       "simple              57993           0     0  42007          0     -0.15986"
      ]
     },
     "execution_count": 39,
     "metadata": {},
     "output_type": "execute_result"
    }
   ],
   "source": [
    "# soft 13 vs 6\n",
    "def cond_13s_6(hand, dealer):\n",
    "    return hand.score == 13 and dealer.score == 6 and hand.soft\n",
    "\n",
    "\n",
    "\n",
    "strats = gen_cond_strategies(strat_simple, cond_13s_6, [Action.HIT, Action.STAND, Action.DOUBLE])\n",
    "sims = run_n_sim_trials_from_state(strats+[strat_simple], make_hand([1, 2]), make_hand([6]), 100000)\n",
    "summarize_totals(sims)"
   ]
  },
  {
   "cell_type": "code",
   "execution_count": 40,
   "id": "liable-painting",
   "metadata": {
    "ExecuteTime": {
     "end_time": "2021-07-02T23:40:51.430677Z",
     "start_time": "2021-07-02T23:40:50.525239Z"
    }
   },
   "outputs": [
    {
     "data": {
      "text/html": [
       "<div>\n",
       "<style scoped>\n",
       "    .dataframe tbody tr th:only-of-type {\n",
       "        vertical-align: middle;\n",
       "    }\n",
       "\n",
       "    .dataframe tbody tr th {\n",
       "        vertical-align: top;\n",
       "    }\n",
       "\n",
       "    .dataframe thead tr th {\n",
       "        text-align: left;\n",
       "    }\n",
       "\n",
       "    .dataframe thead tr:last-of-type th {\n",
       "        text-align: right;\n",
       "    }\n",
       "</style>\n",
       "<table border=\"1\" class=\"dataframe\">\n",
       "  <thead>\n",
       "    <tr>\n",
       "      <th></th>\n",
       "      <th colspan=\"5\" halign=\"left\">len</th>\n",
       "      <th>mean_outcome</th>\n",
       "    </tr>\n",
       "    <tr>\n",
       "      <th>outcome_name</th>\n",
       "      <th>LOSE</th>\n",
       "      <th>LOSE_DOUBLE</th>\n",
       "      <th>PUSH</th>\n",
       "      <th>WIN</th>\n",
       "      <th>WIN_DOUBLE</th>\n",
       "      <th></th>\n",
       "    </tr>\n",
       "    <tr>\n",
       "      <th>strategy</th>\n",
       "      <th></th>\n",
       "      <th></th>\n",
       "      <th></th>\n",
       "      <th></th>\n",
       "      <th></th>\n",
       "      <th></th>\n",
       "    </tr>\n",
       "  </thead>\n",
       "  <tbody>\n",
       "    <tr>\n",
       "      <th>&lt;Action.DOUBLE: 3&gt;</th>\n",
       "      <td>0</td>\n",
       "      <td>3249</td>\n",
       "      <td>667</td>\n",
       "      <td>0</td>\n",
       "      <td>6084</td>\n",
       "      <td>0.5670</td>\n",
       "    </tr>\n",
       "    <tr>\n",
       "      <th>&lt;Action.HIT: 2&gt;</th>\n",
       "      <td>3270</td>\n",
       "      <td>0</td>\n",
       "      <td>698</td>\n",
       "      <td>6032</td>\n",
       "      <td>0</td>\n",
       "      <td>0.2762</td>\n",
       "    </tr>\n",
       "    <tr>\n",
       "      <th>&lt;Action.STAND: 1&gt;</th>\n",
       "      <td>5805</td>\n",
       "      <td>0</td>\n",
       "      <td>0</td>\n",
       "      <td>4195</td>\n",
       "      <td>0</td>\n",
       "      <td>-0.1610</td>\n",
       "    </tr>\n",
       "    <tr>\n",
       "      <th>simple</th>\n",
       "      <td>3267</td>\n",
       "      <td>0</td>\n",
       "      <td>702</td>\n",
       "      <td>6031</td>\n",
       "      <td>0</td>\n",
       "      <td>0.2764</td>\n",
       "    </tr>\n",
       "  </tbody>\n",
       "</table>\n",
       "</div>"
      ],
      "text/plain": [
       "                     len                                   mean_outcome\n",
       "outcome_name        LOSE LOSE_DOUBLE PUSH   WIN WIN_DOUBLE             \n",
       "strategy                                                               \n",
       "<Action.DOUBLE: 3>     0        3249  667     0       6084       0.5670\n",
       "<Action.HIT: 2>     3270           0  698  6032          0       0.2762\n",
       "<Action.STAND: 1>   5805           0    0  4195          0      -0.1610\n",
       "simple              3267           0  702  6031          0       0.2764"
      ]
     },
     "execution_count": 40,
     "metadata": {},
     "output_type": "execute_result"
    }
   ],
   "source": [
    "# 10 v 6\n",
    "def cond_10_6(hand, dealer):\n",
    "    return hand.score == 10 and dealer.score == 6 and not hand.soft\n",
    "\n",
    "strats = gen_cond_strategies(strat_simple, cond_10_6, [Action.HIT, Action.STAND, Action.DOUBLE])\n",
    "sims = run_n_sim_trials_from_state(strats+[strat_simple], make_hand([5, 5]), make_hand([6]), 10000)\n",
    "summarize_totals(sims)"
   ]
  },
  {
   "cell_type": "code",
   "execution_count": 41,
   "id": "serious-briefs",
   "metadata": {
    "ExecuteTime": {
     "end_time": "2021-07-02T23:40:51.467869Z",
     "start_time": "2021-07-02T23:40:51.431574Z"
    }
   },
   "outputs": [
    {
     "name": "stdout",
     "output_type": "stream",
     "text": [
      "                    len                                  mean_outcome\n",
      "outcome_name       LOSE LOSE_DOUBLE PUSH  WIN WIN_DOUBLE             \n",
      "strategy                                                             \n",
      "<Action.DOUBLE: 3>    0          70   13    0        117        0.470\n",
      "<Action.HIT: 2>      57           0   13  130          0        0.365\n",
      "<Action.STAND: 1>   118           0    0   82          0       -0.180\n"
     ]
    },
    {
     "data": {
      "text/plain": [
       "(<function __main__.test_cond.<locals>.cond(h, d)>,\n",
       "                     len                                  mean_outcome\n",
       " outcome_name       LOSE LOSE_DOUBLE PUSH  WIN WIN_DOUBLE             \n",
       " strategy                                                             \n",
       " <Action.DOUBLE: 3>    0          70   13    0        117        0.470\n",
       " <Action.HIT: 2>      57           0   13  130          0        0.365\n",
       " <Action.STAND: 1>   118           0    0   82          0       -0.180)"
      ]
     },
     "execution_count": 41,
     "metadata": {},
     "output_type": "execute_result"
    }
   ],
   "source": [
    "ACTIONS = [Action.HIT, Action.STAND, Action.DOUBLE]\n",
    "\n",
    "def test_cond(score_p, score_d, n):\n",
    "    def cond(h, d):\n",
    "        return h.score == score_p and d.score == score_d\n",
    "    strats = gen_cond_strategies(strat_simple, cond, ACTIONS)\n",
    "    hand = make_hand([8, score_p-8]) # This will only work for 10 through 18 \n",
    "    sims = run_n_sim_trials_from_state(strats, hand, make_hand([score_d]), n)\n",
    "    print(summarize_totals(sims))\n",
    "    return cond, summarize_totals(sims)\n",
    "\n",
    "test_cond(10, 6, 200)"
   ]
  },
  {
   "cell_type": "code",
   "execution_count": 42,
   "id": "manual-anime",
   "metadata": {
    "ExecuteTime": {
     "end_time": "2021-07-02T23:40:51.513213Z",
     "start_time": "2021-07-02T23:40:51.469211Z"
    }
   },
   "outputs": [
    {
     "name": "stdout",
     "output_type": "stream",
     "text": [
      "                    len                                  mean_outcome\n",
      "outcome_name       LOSE LOSE_DOUBLE PUSH  WIN WIN_DOUBLE             \n",
      "strategy                                                             \n",
      "<Action.DOUBLE: 3>    0          65   14    0        121        0.560\n",
      "<Action.HIT: 2>      72           0   19  109          0        0.185\n",
      "<Action.STAND: 1>   121           0    0   79          0       -0.210\n"
     ]
    },
    {
     "data": {
      "text/plain": [
       "(<function __main__.test_cond.<locals>.cond(h, d)>, <Action.DOUBLE: 3>)"
      ]
     },
     "execution_count": 42,
     "metadata": {},
     "output_type": "execute_result"
    }
   ],
   "source": [
    "def find_winning_action(score_p, score_d, n):\n",
    "    cond, summary = test_cond(score_p, score_d, n)\n",
    "    outcomes = summary['mean_outcome']\n",
    "    winner = outcomes[outcomes==outcomes.max()].index[0]\n",
    "    winning_act = [a for a in ACTIONS if repr(a)==winner][0]\n",
    "    return (cond, winning_act)\n",
    "\n",
    "find_winning_action(10, 6, 200)"
   ]
  },
  {
   "cell_type": "code",
   "execution_count": 43,
   "id": "behind-seattle",
   "metadata": {
    "ExecuteTime": {
     "end_time": "2021-07-02T23:40:58.751285Z",
     "start_time": "2021-07-02T23:40:51.514185Z"
    }
   },
   "outputs": [
    {
     "name": "stdout",
     "output_type": "stream",
     "text": [
      "                    len           mean_outcome\n",
      "outcome_name       LOSE PUSH  WIN             \n",
      "strategy                                      \n",
      "<Action.DOUBLE: 3>  557   90  353       -0.204\n",
      "<Action.HIT: 2>     575   79  346       -0.229\n",
      "<Action.STAND: 1>   545   89  366       -0.179\n",
      "                    len                                  mean_outcome\n",
      "outcome_name       LOSE LOSE_DOUBLE PUSH  WIN WIN_DOUBLE             \n",
      "strategy                                                             \n",
      "<Action.DOUBLE: 3>    0         340   83    0        577        0.474\n",
      "<Action.HIT: 2>     356           0   91  553          0        0.197\n",
      "<Action.STAND: 1>   633           0    0  367          0       -0.266\n",
      "                    len                                  mean_outcome\n",
      "outcome_name       LOSE LOSE_DOUBLE PUSH  WIN WIN_DOUBLE             \n",
      "strategy                                                             \n",
      "<Action.DOUBLE: 3>    0         370   76    0        554        0.368\n",
      "<Action.HIT: 2>     353           0   74  573          0        0.220\n",
      "<Action.STAND: 1>   626           0    0  374          0       -0.252\n",
      "                    len                                  mean_outcome\n",
      "outcome_name       LOSE LOSE_DOUBLE PUSH  WIN WIN_DOUBLE             \n",
      "strategy                                                             \n",
      "<Action.DOUBLE: 3>    0         336   58    0        606        0.540\n",
      "<Action.HIT: 2>     349           0   68  583          0        0.234\n",
      "<Action.STAND: 1>   597           0    0  403          0       -0.194\n",
      "                    len                                  mean_outcome\n",
      "outcome_name       LOSE LOSE_DOUBLE PUSH  WIN WIN_DOUBLE             \n",
      "strategy                                                             \n",
      "<Action.DOUBLE: 3>    0         326   79    0        595        0.538\n",
      "<Action.HIT: 2>     347           0   69  584          0        0.237\n",
      "<Action.STAND: 1>   589           0    0  411          0       -0.178\n",
      "                    len                                  mean_outcome\n",
      "outcome_name       LOSE LOSE_DOUBLE PUSH  WIN WIN_DOUBLE             \n",
      "strategy                                                             \n",
      "<Action.DOUBLE: 3>    0         339   58    0        603        0.528\n",
      "<Action.HIT: 2>     342           0   65  593          0        0.251\n",
      "<Action.STAND: 1>   585           0    0  415          0       -0.170\n",
      "                    len                                  mean_outcome\n",
      "outcome_name       LOSE LOSE_DOUBLE PUSH  WIN WIN_DOUBLE             \n",
      "strategy                                                             \n",
      "<Action.DOUBLE: 3>    0         361   98    0        541        0.360\n",
      "<Action.HIT: 2>     314           0  113  573          0        0.259\n",
      "<Action.STAND: 1>   767           0    0  233          0       -0.534\n",
      "                    len                                  mean_outcome\n",
      "outcome_name       LOSE LOSE_DOUBLE PUSH  WIN WIN_DOUBLE             \n",
      "strategy                                                             \n",
      "<Action.DOUBLE: 3>    0         378   79    0        543        0.330\n",
      "<Action.HIT: 2>     335           0  110  555          0        0.220\n",
      "<Action.STAND: 1>   744           0    0  256          0       -0.488\n",
      "                    len                                  mean_outcome\n",
      "outcome_name       LOSE LOSE_DOUBLE PUSH  WIN WIN_DOUBLE             \n",
      "strategy                                                             \n",
      "<Action.DOUBLE: 3>    0         418   85    0        497        0.158\n",
      "<Action.HIT: 2>     364           0  140  496          0        0.132\n",
      "<Action.STAND: 1>   773           0    0  227          0       -0.546\n",
      "                    len                                  mean_outcome\n",
      "outcome_name       LOSE LOSE_DOUBLE PUSH  WIN WIN_DOUBLE             \n",
      "strategy                                                             \n",
      "<Action.DOUBLE: 3>    0         462  137    0        401       -0.122\n",
      "<Action.HIT: 2>     438           0  158  404          0       -0.034\n",
      "<Action.STAND: 1>   778           0    0  222          0       -0.556\n",
      "                           len                 mean_outcome\n",
      "outcome_name       LOSE_DOUBLE PUSH WIN_DOUBLE             \n",
      "strategy                                                   \n",
      "<Action.DOUBLE: 3>         589   48        363       -0.452\n",
      "<Action.HIT: 2>            604   41        355       -0.498\n",
      "<Action.STAND: 1>          573   56        371       -0.404\n",
      "                    len                                  mean_outcome\n",
      "outcome_name       LOSE LOSE_DOUBLE PUSH  WIN WIN_DOUBLE             \n",
      "strategy                                                             \n",
      "<Action.DOUBLE: 3>    0         343   54    0        603        0.520\n",
      "<Action.HIT: 2>     328           0   99  573          0        0.245\n",
      "<Action.STAND: 1>   631           0    0  369          0       -0.262\n",
      "                    len                                  mean_outcome\n",
      "outcome_name       LOSE LOSE_DOUBLE PUSH  WIN WIN_DOUBLE             \n",
      "strategy                                                             \n",
      "<Action.DOUBLE: 3>    0         311   71    0        618        0.614\n",
      "<Action.HIT: 2>     352           0   75  573          0        0.221\n",
      "<Action.STAND: 1>   628           0    0  372          0       -0.256\n",
      "                    len                                  mean_outcome\n",
      "outcome_name       LOSE LOSE_DOUBLE PUSH  WIN WIN_DOUBLE             \n",
      "strategy                                                             \n",
      "<Action.DOUBLE: 3>    0         312   75    0        613        0.602\n",
      "<Action.HIT: 2>     311           0   62  627          0        0.316\n",
      "<Action.STAND: 1>   606           0    0  394          0       -0.212\n",
      "                    len                                  mean_outcome\n",
      "outcome_name       LOSE LOSE_DOUBLE PUSH  WIN WIN_DOUBLE             \n",
      "strategy                                                             \n",
      "<Action.DOUBLE: 3>    0         322   70    0        608        0.572\n",
      "<Action.HIT: 2>     298           0   71  631          0        0.333\n",
      "<Action.STAND: 1>   578           0    0  422          0       -0.156\n",
      "                    len                                  mean_outcome\n",
      "outcome_name       LOSE LOSE_DOUBLE PUSH  WIN WIN_DOUBLE             \n",
      "strategy                                                             \n",
      "<Action.DOUBLE: 3>    0         302   65    0        633        0.662\n",
      "<Action.HIT: 2>     299           0   63  638          0        0.339\n",
      "<Action.STAND: 1>   575           0    0  425          0       -0.150\n",
      "                    len                                  mean_outcome\n",
      "outcome_name       LOSE LOSE_DOUBLE PUSH  WIN WIN_DOUBLE             \n",
      "strategy                                                             \n",
      "<Action.DOUBLE: 3>    0         340   65    0        595        0.510\n",
      "<Action.HIT: 2>     298           0   91  611          0        0.313\n",
      "<Action.STAND: 1>   729           0    0  271          0       -0.458\n",
      "                    len                                  mean_outcome\n",
      "outcome_name       LOSE LOSE_DOUBLE PUSH  WIN WIN_DOUBLE             \n",
      "strategy                                                             \n",
      "<Action.DOUBLE: 3>    0         370   79    0        551        0.362\n",
      "<Action.HIT: 2>     333           0   95  572          0        0.239\n",
      "<Action.STAND: 1>   744           0    0  256          0       -0.488\n",
      "                    len                                  mean_outcome\n",
      "outcome_name       LOSE LOSE_DOUBLE PUSH  WIN WIN_DOUBLE             \n",
      "strategy                                                             \n",
      "<Action.DOUBLE: 3>    0         373   84    0        543        0.340\n",
      "<Action.HIT: 2>     371           0   88  541          0        0.170\n",
      "<Action.STAND: 1>   752           0    0  248          0       -0.504\n",
      "                    len                                  mean_outcome\n",
      "outcome_name       LOSE LOSE_DOUBLE PUSH  WIN WIN_DOUBLE             \n",
      "strategy                                                             \n",
      "<Action.DOUBLE: 3>    0         478   68    0        454       -0.048\n",
      "<Action.HIT: 2>     452           0   85  463          0        0.011\n",
      "<Action.STAND: 1>   777           0    0  223          0       -0.554\n"
     ]
    },
    {
     "name": "stdout",
     "output_type": "stream",
     "text": [
      "                    len           mean_outcome\n",
      "outcome_name       LOSE PUSH  WIN             \n",
      "strategy                                      \n",
      "<Action.DOUBLE: 3>  755   59  186       -0.569\n",
      "<Action.HIT: 2>     748   47  205       -0.543\n",
      "<Action.STAND: 1>   747   52  201       -0.546\n",
      "                    len                                  mean_outcome\n",
      "outcome_name       LOSE LOSE_DOUBLE PUSH  WIN WIN_DOUBLE             \n",
      "strategy                                                             \n",
      "<Action.DOUBLE: 3>    0         609   40    0        351       -0.516\n",
      "<Action.HIT: 2>     609           0   71  320          0       -0.289\n",
      "<Action.STAND: 1>   646           0    0  354          0       -0.292\n",
      "                    len                                  mean_outcome\n",
      "outcome_name       LOSE LOSE_DOUBLE PUSH  WIN WIN_DOUBLE             \n",
      "strategy                                                             \n",
      "<Action.DOUBLE: 3>    0         600   46    0        354       -0.492\n",
      "<Action.HIT: 2>     588           0   37  375          0       -0.213\n",
      "<Action.STAND: 1>   608           0    0  392          0       -0.216\n",
      "                    len                                  mean_outcome\n",
      "outcome_name       LOSE LOSE_DOUBLE PUSH  WIN WIN_DOUBLE             \n",
      "strategy                                                             \n",
      "<Action.DOUBLE: 3>    0         573   44    0        383       -0.380\n",
      "<Action.HIT: 2>     601           0   37  362          0       -0.239\n",
      "<Action.STAND: 1>   611           0    0  389          0       -0.222\n",
      "                    len                                  mean_outcome\n",
      "outcome_name       LOSE LOSE_DOUBLE PUSH  WIN WIN_DOUBLE             \n",
      "strategy                                                             \n",
      "<Action.DOUBLE: 3>    0         569   47    0        384       -0.370\n",
      "<Action.HIT: 2>     566           0   40  394          0       -0.172\n",
      "<Action.STAND: 1>   581           0    0  419          0       -0.162\n",
      "                    len                                  mean_outcome\n",
      "outcome_name       LOSE LOSE_DOUBLE PUSH  WIN WIN_DOUBLE             \n",
      "strategy                                                             \n",
      "<Action.DOUBLE: 3>    0         547   49    0        404       -0.286\n",
      "<Action.HIT: 2>     578           0   49  373          0       -0.205\n",
      "<Action.STAND: 1>   585           0    0  415          0       -0.170\n",
      "                    len                                  mean_outcome\n",
      "outcome_name       LOSE LOSE_DOUBLE PUSH  WIN WIN_DOUBLE             \n",
      "strategy                                                             \n",
      "<Action.DOUBLE: 3>    0         599   43    0        358       -0.482\n",
      "<Action.HIT: 2>     566           0   79  355          0       -0.211\n",
      "<Action.STAND: 1>   733           0    0  267          0       -0.466\n",
      "                    len                                  mean_outcome\n",
      "outcome_name       LOSE LOSE_DOUBLE PUSH  WIN WIN_DOUBLE             \n",
      "strategy                                                             \n",
      "<Action.DOUBLE: 3>    0         612   69    0        319       -0.586\n",
      "<Action.HIT: 2>     581           0   76  343          0       -0.238\n",
      "<Action.STAND: 1>   755           0    0  245          0       -0.510\n",
      "                    len                                  mean_outcome\n",
      "outcome_name       LOSE LOSE_DOUBLE PUSH  WIN WIN_DOUBLE             \n",
      "strategy                                                             \n",
      "<Action.DOUBLE: 3>    0         655   70    0        275       -0.760\n",
      "<Action.HIT: 2>     630           0   78  292          0       -0.338\n",
      "<Action.STAND: 1>   761           0    0  239          0       -0.522\n",
      "                    len                                  mean_outcome\n",
      "outcome_name       LOSE LOSE_DOUBLE PUSH  WIN WIN_DOUBLE             \n",
      "strategy                                                             \n",
      "<Action.DOUBLE: 3>    0         681   49    0        270       -0.822\n",
      "<Action.HIT: 2>     669           0   74  257          0       -0.412\n",
      "<Action.STAND: 1>   770           0    0  230          0       -0.540\n",
      "                    len           mean_outcome\n",
      "outcome_name       LOSE PUSH  WIN             \n",
      "strategy                                      \n",
      "<Action.DOUBLE: 3>  773   41  186       -0.587\n",
      "<Action.HIT: 2>     748   50  202       -0.546\n",
      "<Action.STAND: 1>   785   37  178       -0.607\n",
      "                    len                                  mean_outcome\n",
      "outcome_name       LOSE LOSE_DOUBLE PUSH  WIN WIN_DOUBLE             \n",
      "strategy                                                             \n",
      "<Action.DOUBLE: 3>    0         644   53    0        303       -0.682\n",
      "<Action.HIT: 2>     629           0   63  308          0       -0.321\n",
      "<Action.STAND: 1>   653           0    0  347          0       -0.306\n",
      "                    len                                  mean_outcome\n",
      "outcome_name       LOSE LOSE_DOUBLE PUSH  WIN WIN_DOUBLE             \n",
      "strategy                                                             \n",
      "<Action.DOUBLE: 3>    0         644   41    0        315       -0.658\n",
      "<Action.HIT: 2>     631           0   39  330          0       -0.301\n",
      "<Action.STAND: 1>   612           0    0  388          0       -0.224\n",
      "                    len                                  mean_outcome\n",
      "outcome_name       LOSE LOSE_DOUBLE PUSH  WIN WIN_DOUBLE             \n",
      "strategy                                                             \n",
      "<Action.DOUBLE: 3>    0         634   45    0        321       -0.626\n",
      "<Action.HIT: 2>     616           0   46  338          0       -0.278\n",
      "<Action.STAND: 1>   611           0    0  389          0       -0.222\n",
      "                    len                                  mean_outcome\n",
      "outcome_name       LOSE LOSE_DOUBLE PUSH  WIN WIN_DOUBLE             \n",
      "strategy                                                             \n",
      "<Action.DOUBLE: 3>    0         598   37    0        365       -0.466\n",
      "<Action.HIT: 2>     595           0   40  365          0       -0.230\n",
      "<Action.STAND: 1>   577           0    0  423          0       -0.154\n",
      "                    len                                  mean_outcome\n",
      "outcome_name       LOSE LOSE_DOUBLE PUSH  WIN WIN_DOUBLE             \n",
      "strategy                                                             \n",
      "<Action.DOUBLE: 3>    0         563   52    0        385       -0.356\n",
      "<Action.HIT: 2>     607           0   40  353          0       -0.254\n",
      "<Action.STAND: 1>   576           0    0  424          0       -0.152\n",
      "                    len                                  mean_outcome\n",
      "outcome_name       LOSE LOSE_DOUBLE PUSH  WIN WIN_DOUBLE             \n",
      "strategy                                                             \n",
      "<Action.DOUBLE: 3>    0         606   72    0        322       -0.568\n",
      "<Action.HIT: 2>     601           0   66  333          0       -0.268\n",
      "<Action.STAND: 1>   729           0    0  271          0       -0.458\n",
      "                    len                                  mean_outcome\n",
      "outcome_name       LOSE LOSE_DOUBLE PUSH  WIN WIN_DOUBLE             \n",
      "strategy                                                             \n",
      "<Action.DOUBLE: 3>    0         641   55    0        304       -0.674\n",
      "<Action.HIT: 2>     609           0   77  314          0       -0.295\n",
      "<Action.STAND: 1>   757           0    0  243          0       -0.514\n",
      "                    len                                  mean_outcome\n",
      "outcome_name       LOSE LOSE_DOUBLE PUSH  WIN WIN_DOUBLE             \n",
      "strategy                                                             \n",
      "<Action.DOUBLE: 3>    0         680   56    0        264       -0.832\n",
      "<Action.HIT: 2>     645           0   77  278          0       -0.367\n",
      "<Action.STAND: 1>   776           0    0  224          0       -0.552\n",
      "                    len                                  mean_outcome\n",
      "outcome_name       LOSE LOSE_DOUBLE PUSH  WIN WIN_DOUBLE             \n",
      "strategy                                                             \n",
      "<Action.DOUBLE: 3>    0         709   60    0        231       -0.956\n",
      "<Action.HIT: 2>     677           0   78  245          0       -0.432\n",
      "<Action.STAND: 1>   780           0    0  220          0       -0.560\n",
      "                    len           mean_outcome\n",
      "outcome_name       LOSE PUSH  WIN             \n",
      "strategy                                      \n",
      "<Action.DOUBLE: 3>  772   48  180       -0.592\n",
      "<Action.HIT: 2>     767   42  191       -0.576\n",
      "<Action.STAND: 1>   774   46  180       -0.594\n"
     ]
    },
    {
     "name": "stdout",
     "output_type": "stream",
     "text": [
      "                    len                                  mean_outcome\n",
      "outcome_name       LOSE LOSE_DOUBLE PUSH  WIN WIN_DOUBLE             \n",
      "strategy                                                             \n",
      "<Action.DOUBLE: 3>    0         671   56    0        273       -0.796\n",
      "<Action.HIT: 2>     657           0   68  275          0       -0.382\n",
      "<Action.STAND: 1>   654           0    0  346          0       -0.308\n",
      "                    len                                  mean_outcome\n",
      "outcome_name       LOSE LOSE_DOUBLE PUSH  WIN WIN_DOUBLE             \n",
      "strategy                                                             \n",
      "<Action.DOUBLE: 3>    0         637   51    0        312       -0.650\n",
      "<Action.HIT: 2>     636           0   53  311          0       -0.325\n",
      "<Action.STAND: 1>   611           0    0  389          0       -0.222\n",
      "                    len                                  mean_outcome\n",
      "outcome_name       LOSE LOSE_DOUBLE PUSH  WIN WIN_DOUBLE             \n",
      "strategy                                                             \n",
      "<Action.DOUBLE: 3>    0         660   35    0        305       -0.710\n",
      "<Action.HIT: 2>     640           0   47  313          0       -0.327\n",
      "<Action.STAND: 1>   607           0    0  393          0       -0.214\n",
      "                    len                                  mean_outcome\n",
      "outcome_name       LOSE LOSE_DOUBLE PUSH  WIN WIN_DOUBLE             \n",
      "strategy                                                             \n",
      "<Action.DOUBLE: 3>    0         605   52    0        343       -0.524\n",
      "<Action.HIT: 2>     648           0   44  308          0       -0.340\n",
      "<Action.STAND: 1>   573           0    0  427          0       -0.146\n",
      "                    len                                  mean_outcome\n",
      "outcome_name       LOSE LOSE_DOUBLE PUSH  WIN WIN_DOUBLE             \n",
      "strategy                                                             \n",
      "<Action.DOUBLE: 3>    0         675   34    0        291       -0.768\n",
      "<Action.HIT: 2>     603           0   44  353          0       -0.250\n",
      "<Action.STAND: 1>   593           0    0  407          0       -0.186\n",
      "                    len                                  mean_outcome\n",
      "outcome_name       LOSE LOSE_DOUBLE PUSH  WIN WIN_DOUBLE             \n",
      "strategy                                                             \n",
      "<Action.DOUBLE: 3>    0         638   60    0        302       -0.672\n",
      "<Action.HIT: 2>     630           0   58  312          0       -0.318\n",
      "<Action.STAND: 1>   747           0    0  253          0       -0.494\n",
      "                    len                                  mean_outcome\n",
      "outcome_name       LOSE LOSE_DOUBLE PUSH  WIN WIN_DOUBLE             \n",
      "strategy                                                             \n",
      "<Action.DOUBLE: 3>    0         654   63    0        283       -0.742\n",
      "<Action.HIT: 2>     655           0   58  287          0       -0.368\n",
      "<Action.STAND: 1>   735           0    0  265          0       -0.470\n",
      "                    len                                  mean_outcome\n",
      "outcome_name       LOSE LOSE_DOUBLE PUSH  WIN WIN_DOUBLE             \n",
      "strategy                                                             \n",
      "<Action.DOUBLE: 3>    0         687   58    0        255       -0.864\n",
      "<Action.HIT: 2>     700           0   66  234          0       -0.466\n",
      "<Action.STAND: 1>   782           0    0  218          0       -0.564\n",
      "                    len                                  mean_outcome\n",
      "outcome_name       LOSE LOSE_DOUBLE PUSH  WIN WIN_DOUBLE             \n",
      "strategy                                                             \n",
      "<Action.DOUBLE: 3>    0         745   52    0        203       -1.084\n",
      "<Action.HIT: 2>     726           0   68  206          0       -0.520\n",
      "<Action.STAND: 1>   813           0    0  187          0       -0.626\n",
      "                    len           mean_outcome\n",
      "outcome_name       LOSE PUSH  WIN             \n",
      "strategy                                      \n",
      "<Action.DOUBLE: 3>  783   44  173       -0.610\n",
      "<Action.HIT: 2>     782   43  175       -0.607\n",
      "<Action.STAND: 1>   780   44  176       -0.604\n",
      "                    len                                  mean_outcome\n",
      "outcome_name       LOSE LOSE_DOUBLE PUSH  WIN WIN_DOUBLE             \n",
      "strategy                                                             \n",
      "<Action.DOUBLE: 3>    0         672   53    0        275       -0.794\n",
      "<Action.HIT: 2>     695           0   40  265          0       -0.430\n",
      "<Action.STAND: 1>   644           0    0  356          0       -0.288\n",
      "                    len                                  mean_outcome\n",
      "outcome_name       LOSE LOSE_DOUBLE PUSH  WIN WIN_DOUBLE             \n",
      "strategy                                                             \n",
      "<Action.DOUBLE: 3>    0         674   49    0        277       -0.794\n",
      "<Action.HIT: 2>     687           0   54  259          0       -0.428\n",
      "<Action.STAND: 1>   623           0    0  377          0       -0.246\n",
      "                    len                                  mean_outcome\n",
      "outcome_name       LOSE LOSE_DOUBLE PUSH  WIN WIN_DOUBLE             \n",
      "strategy                                                             \n",
      "<Action.DOUBLE: 3>    0         681   29    0        290       -0.782\n",
      "<Action.HIT: 2>     643           0   50  307          0       -0.336\n",
      "<Action.STAND: 1>   597           0    0  403          0       -0.194\n",
      "                    len                                  mean_outcome\n",
      "outcome_name       LOSE LOSE_DOUBLE PUSH  WIN WIN_DOUBLE             \n",
      "strategy                                                             \n",
      "<Action.DOUBLE: 3>    0         670   49    0        281       -0.778\n",
      "<Action.HIT: 2>     664           0   46  290          0       -0.374\n",
      "<Action.STAND: 1>   570           0    0  430          0       -0.140\n",
      "                    len                                  mean_outcome\n",
      "outcome_name       LOSE LOSE_DOUBLE PUSH  WIN WIN_DOUBLE             \n",
      "strategy                                                             \n",
      "<Action.DOUBLE: 3>    0         660   40    0        300       -0.720\n",
      "<Action.HIT: 2>     644           0   47  309          0       -0.335\n",
      "<Action.STAND: 1>   553           0    0  447          0       -0.106\n",
      "                    len                                  mean_outcome\n",
      "outcome_name       LOSE LOSE_DOUBLE PUSH  WIN WIN_DOUBLE             \n",
      "strategy                                                             \n",
      "<Action.DOUBLE: 3>    0         667   66    0        267       -0.800\n",
      "<Action.HIT: 2>     655           0   58  287          0       -0.368\n",
      "<Action.STAND: 1>   733           0    0  267          0       -0.466\n",
      "                    len                                  mean_outcome\n",
      "outcome_name       LOSE LOSE_DOUBLE PUSH  WIN WIN_DOUBLE             \n",
      "strategy                                                             \n",
      "<Action.DOUBLE: 3>    0         651   51    0        298       -0.706\n",
      "<Action.HIT: 2>     690           0   62  248          0       -0.442\n",
      "<Action.STAND: 1>   732           0    0  268          0       -0.464\n",
      "                    len                                  mean_outcome\n",
      "outcome_name       LOSE LOSE_DOUBLE PUSH  WIN WIN_DOUBLE             \n",
      "strategy                                                             \n",
      "<Action.DOUBLE: 3>    0         714   57    0        229       -0.970\n",
      "<Action.HIT: 2>     682           0   72  246          0       -0.436\n",
      "<Action.STAND: 1>   775           0    0  225          0       -0.550\n",
      "                    len                                  mean_outcome\n",
      "outcome_name       LOSE LOSE_DOUBLE PUSH  WIN WIN_DOUBLE             \n",
      "strategy                                                             \n",
      "<Action.DOUBLE: 3>    0         730   64    0        206       -1.048\n",
      "<Action.HIT: 2>     764           0   60  176          0       -0.588\n",
      "<Action.STAND: 1>   797           0    0  203          0       -0.594\n",
      "                    len           mean_outcome\n",
      "outcome_name       LOSE PUSH  WIN             \n",
      "strategy                                      \n",
      "<Action.DOUBLE: 3>  805   28  167       -0.638\n",
      "<Action.HIT: 2>     794   52  154       -0.640\n",
      "<Action.STAND: 1>   808   34  158       -0.650\n",
      "                    len                                  mean_outcome\n",
      "outcome_name       LOSE LOSE_DOUBLE PUSH  WIN WIN_DOUBLE             \n",
      "strategy                                                             \n",
      "<Action.DOUBLE: 3>    0         713   44    0        243       -0.940\n",
      "<Action.HIT: 2>     737           0   51  212          0       -0.525\n",
      "<Action.STAND: 1>   640           0    0  360          0       -0.280\n"
     ]
    },
    {
     "name": "stdout",
     "output_type": "stream",
     "text": [
      "                    len                                  mean_outcome\n",
      "outcome_name       LOSE LOSE_DOUBLE PUSH  WIN WIN_DOUBLE             \n",
      "strategy                                                             \n",
      "<Action.DOUBLE: 3>    0         704   43    0        253       -0.902\n",
      "<Action.HIT: 2>     710           0   51  239          0       -0.471\n",
      "<Action.STAND: 1>   616           0    0  384          0       -0.232\n",
      "                    len                                  mean_outcome\n",
      "outcome_name       LOSE LOSE_DOUBLE PUSH  WIN WIN_DOUBLE             \n",
      "strategy                                                             \n",
      "<Action.DOUBLE: 3>    0         729   36    0        235       -0.988\n",
      "<Action.HIT: 2>     677           0   50  273          0       -0.404\n",
      "<Action.STAND: 1>   594           0    0  406          0       -0.188\n",
      "                    len                                  mean_outcome\n",
      "outcome_name       LOSE LOSE_DOUBLE PUSH  WIN WIN_DOUBLE             \n",
      "strategy                                                             \n",
      "<Action.DOUBLE: 3>    0         673   48    0        279       -0.788\n",
      "<Action.HIT: 2>     706           0   53  241          0       -0.465\n",
      "<Action.STAND: 1>   581           0    0  419          0       -0.162\n",
      "                    len                                  mean_outcome\n",
      "outcome_name       LOSE LOSE_DOUBLE PUSH  WIN WIN_DOUBLE             \n",
      "strategy                                                             \n",
      "<Action.DOUBLE: 3>    0         690   30    0        280       -0.820\n",
      "<Action.HIT: 2>     707           0   35  258          0       -0.449\n",
      "<Action.STAND: 1>   564           0    0  436          0       -0.128\n",
      "                    len                                  mean_outcome\n",
      "outcome_name       LOSE LOSE_DOUBLE PUSH  WIN WIN_DOUBLE             \n",
      "strategy                                                             \n",
      "<Action.DOUBLE: 3>    0         692   47    0        261       -0.862\n",
      "<Action.HIT: 2>     677           0   52  271          0       -0.406\n",
      "<Action.STAND: 1>   732           0    0  268          0       -0.464\n",
      "                    len                                  mean_outcome\n",
      "outcome_name       LOSE LOSE_DOUBLE PUSH  WIN WIN_DOUBLE             \n",
      "strategy                                                             \n",
      "<Action.DOUBLE: 3>    0         698   48    0        254       -0.888\n",
      "<Action.HIT: 2>     698           0   53  249          0       -0.449\n",
      "<Action.STAND: 1>   753           0    0  247          0       -0.506\n",
      "                    len                                  mean_outcome\n",
      "outcome_name       LOSE LOSE_DOUBLE PUSH  WIN WIN_DOUBLE             \n",
      "strategy                                                             \n",
      "<Action.DOUBLE: 3>    0         731   56    0        213       -1.036\n",
      "<Action.HIT: 2>     744           0   54  202          0       -0.542\n",
      "<Action.STAND: 1>   760           0    0  240          0       -0.520\n",
      "                    len                                  mean_outcome\n",
      "outcome_name       LOSE LOSE_DOUBLE PUSH  WIN WIN_DOUBLE             \n",
      "strategy                                                             \n",
      "<Action.DOUBLE: 3>    0         764   53    0        183       -1.162\n",
      "<Action.HIT: 2>     766           0   46  188          0       -0.578\n",
      "<Action.STAND: 1>   789           0    0  211          0       -0.578\n",
      "                    len           mean_outcome\n",
      "outcome_name       LOSE PUSH  WIN             \n",
      "strategy                                      \n",
      "<Action.DOUBLE: 3>  723  134  143        -0.58\n",
      "<Action.HIT: 2>     723  134  143        -0.58\n",
      "<Action.STAND: 1>   723  134  143        -0.58\n",
      "                    len                                  mean_outcome\n",
      "outcome_name       LOSE LOSE_DOUBLE PUSH  WIN WIN_DOUBLE             \n",
      "strategy                                                             \n",
      "<Action.DOUBLE: 3>    0         729   58    0        213       -1.032\n",
      "<Action.HIT: 2>     744           0   42  214          0       -0.530\n",
      "<Action.STAND: 1>   522           0  124  354          0       -0.168\n",
      "                    len                                  mean_outcome\n",
      "outcome_name       LOSE LOSE_DOUBLE PUSH  WIN WIN_DOUBLE             \n",
      "strategy                                                             \n",
      "<Action.DOUBLE: 3>    0         734   46    0        220       -1.028\n",
      "<Action.HIT: 2>     748           0   50  202          0       -0.546\n",
      "<Action.STAND: 1>   519           0  113  368          0       -0.151\n",
      "                    len                                  mean_outcome\n",
      "outcome_name       LOSE LOSE_DOUBLE PUSH  WIN WIN_DOUBLE             \n",
      "strategy                                                             \n",
      "<Action.DOUBLE: 3>    0         729   34    0        237       -0.984\n",
      "<Action.HIT: 2>     734           0   34  232          0       -0.502\n",
      "<Action.STAND: 1>   435           0  138  427          0       -0.008\n",
      "                    len                                  mean_outcome\n",
      "outcome_name       LOSE LOSE_DOUBLE PUSH  WIN WIN_DOUBLE             \n",
      "strategy                                                             \n",
      "<Action.DOUBLE: 3>    0         733   42    0        225       -1.016\n",
      "<Action.HIT: 2>     737           0   28  235          0       -0.502\n",
      "<Action.STAND: 1>   479           0   96  425          0       -0.054\n",
      "                    len                                  mean_outcome\n",
      "outcome_name       LOSE LOSE_DOUBLE PUSH  WIN WIN_DOUBLE             \n",
      "strategy                                                             \n",
      "<Action.DOUBLE: 3>    0         754   27    0        219       -1.070\n",
      "<Action.HIT: 2>     748           0   28  224          0       -0.524\n",
      "<Action.STAND: 1>   405           0  176  419          0        0.014\n",
      "                    len                                  mean_outcome\n",
      "outcome_name       LOSE LOSE_DOUBLE PUSH  WIN WIN_DOUBLE             \n",
      "strategy                                                             \n",
      "<Action.DOUBLE: 3>    0         709   31    0        260       -0.898\n",
      "<Action.HIT: 2>     706           0   29  265          0       -0.441\n",
      "<Action.STAND: 1>   374           0  348  278          0       -0.096\n",
      "                    len                                  mean_outcome\n",
      "outcome_name       LOSE LOSE_DOUBLE PUSH  WIN WIN_DOUBLE             \n",
      "strategy                                                             \n",
      "<Action.DOUBLE: 3>    0         712   43    0        245       -0.934\n",
      "<Action.HIT: 2>     732           0   57  211          0       -0.521\n",
      "<Action.STAND: 1>   651           0  129  220          0       -0.431\n",
      "                    len                                  mean_outcome\n",
      "outcome_name       LOSE LOSE_DOUBLE PUSH  WIN WIN_DOUBLE             \n",
      "strategy                                                             \n",
      "<Action.DOUBLE: 3>    0         727   62    0        211       -1.032\n",
      "<Action.HIT: 2>     724           0   46  230          0       -0.494\n",
      "<Action.STAND: 1>   653           0  110  237          0       -0.416\n",
      "                    len                                  mean_outcome\n",
      "outcome_name       LOSE LOSE_DOUBLE PUSH  WIN WIN_DOUBLE             \n",
      "strategy                                                             \n",
      "<Action.DOUBLE: 3>    0         790   42    0        168       -1.244\n",
      "<Action.HIT: 2>     791           0   49  160          0       -0.631\n",
      "<Action.STAND: 1>   690           0  108  202          0       -0.488\n",
      "                    len           mean_outcome\n",
      "outcome_name       LOSE PUSH  WIN             \n",
      "strategy                                      \n",
      "<Action.DOUBLE: 3>  581  136  283       -0.298\n",
      "<Action.HIT: 2>     581  136  283       -0.298\n",
      "<Action.STAND: 1>   581  136  283       -0.298\n",
      "                    len                                  mean_outcome\n",
      "outcome_name       LOSE LOSE_DOUBLE PUSH  WIN WIN_DOUBLE             \n",
      "strategy                                                             \n",
      "<Action.DOUBLE: 3>    0         799   29    0        172       -1.254\n",
      "<Action.HIT: 2>     805           0   21  174          0       -0.631\n",
      "<Action.STAND: 1>   351           0  121  528          0        0.177\n",
      "                    len                                  mean_outcome\n",
      "outcome_name       LOSE LOSE_DOUBLE PUSH  WIN WIN_DOUBLE             \n",
      "strategy                                                             \n",
      "<Action.DOUBLE: 3>    0         794   20    0        186       -1.216\n",
      "<Action.HIT: 2>     805           0   25  170          0       -0.635\n",
      "<Action.STAND: 1>   345           0  127  528          0        0.183\n"
     ]
    },
    {
     "name": "stdout",
     "output_type": "stream",
     "text": [
      "                    len                                  mean_outcome\n",
      "outcome_name       LOSE LOSE_DOUBLE PUSH  WIN WIN_DOUBLE             \n",
      "strategy                                                             \n",
      "<Action.DOUBLE: 3>    0         801   27    0        172       -1.258\n",
      "<Action.HIT: 2>     784           0   19  197          0       -0.587\n",
      "<Action.STAND: 1>   358           0  126  516          0        0.158\n",
      "                    len                                  mean_outcome\n",
      "outcome_name       LOSE LOSE_DOUBLE PUSH  WIN WIN_DOUBLE             \n",
      "strategy                                                             \n",
      "<Action.DOUBLE: 3>    0         801   22    0        177       -1.248\n",
      "<Action.HIT: 2>     781           0   24  195          0       -0.586\n",
      "<Action.STAND: 1>   316           0  127  557          0        0.241\n",
      "                    len                                  mean_outcome\n",
      "outcome_name       LOSE LOSE_DOUBLE PUSH  WIN WIN_DOUBLE             \n",
      "strategy                                                             \n",
      "<Action.DOUBLE: 3>    0         773   23    0        204       -1.138\n",
      "<Action.HIT: 2>     787           0   19  194          0       -0.593\n",
      "<Action.STAND: 1>   304           0  105  591          0        0.287\n",
      "                    len                                  mean_outcome\n",
      "outcome_name       LOSE LOSE_DOUBLE PUSH  WIN WIN_DOUBLE             \n",
      "strategy                                                             \n",
      "<Action.DOUBLE: 3>    0         778   16    0        206       -1.144\n",
      "<Action.HIT: 2>     780           0   21  199          0       -0.581\n",
      "<Action.STAND: 1>   223           0  129  648          0        0.425\n",
      "                    len                                  mean_outcome\n",
      "outcome_name       LOSE LOSE_DOUBLE PUSH  WIN WIN_DOUBLE             \n",
      "strategy                                                             \n",
      "<Action.DOUBLE: 3>    0         761   15    0        224       -1.074\n",
      "<Action.HIT: 2>     807           0   29  164          0       -0.643\n",
      "<Action.STAND: 1>   258           0  349  393          0        0.135\n",
      "                    len                                  mean_outcome\n",
      "outcome_name       LOSE LOSE_DOUBLE PUSH  WIN WIN_DOUBLE             \n",
      "strategy                                                             \n",
      "<Action.DOUBLE: 3>    0         793   39    0        168       -1.250\n",
      "<Action.HIT: 2>     791           0   45  164          0       -0.627\n",
      "<Action.STAND: 1>   523           0  107  370          0       -0.153\n",
      "                    len                                  mean_outcome\n",
      "outcome_name       LOSE LOSE_DOUBLE PUSH  WIN WIN_DOUBLE             \n",
      "strategy                                                             \n",
      "<Action.DOUBLE: 3>    0         812   36    0        152       -1.320\n",
      "<Action.HIT: 2>     805           0   37  158          0       -0.647\n",
      "<Action.STAND: 1>   595           0  107  298          0       -0.297\n"
     ]
    }
   ],
   "source": [
    "conds = [find_winning_action(p, d, 1000) for p in range(10, 19) for d in range(1, 11)]"
   ]
  },
  {
   "cell_type": "code",
   "execution_count": 44,
   "id": "matched-niger",
   "metadata": {
    "ExecuteTime": {
     "end_time": "2021-07-02T23:40:58.757515Z",
     "start_time": "2021-07-02T23:40:58.752262Z"
    }
   },
   "outputs": [
    {
     "data": {
      "text/plain": [
       "[(<function __main__.test_cond.<locals>.cond(h, d)>, <Action.STAND: 1>),\n",
       " (<function __main__.test_cond.<locals>.cond(h, d)>, <Action.DOUBLE: 3>),\n",
       " (<function __main__.test_cond.<locals>.cond(h, d)>, <Action.DOUBLE: 3>),\n",
       " (<function __main__.test_cond.<locals>.cond(h, d)>, <Action.DOUBLE: 3>),\n",
       " (<function __main__.test_cond.<locals>.cond(h, d)>, <Action.DOUBLE: 3>),\n",
       " (<function __main__.test_cond.<locals>.cond(h, d)>, <Action.DOUBLE: 3>),\n",
       " (<function __main__.test_cond.<locals>.cond(h, d)>, <Action.DOUBLE: 3>),\n",
       " (<function __main__.test_cond.<locals>.cond(h, d)>, <Action.DOUBLE: 3>),\n",
       " (<function __main__.test_cond.<locals>.cond(h, d)>, <Action.DOUBLE: 3>),\n",
       " (<function __main__.test_cond.<locals>.cond(h, d)>, <Action.HIT: 2>),\n",
       " (<function __main__.test_cond.<locals>.cond(h, d)>, <Action.STAND: 1>),\n",
       " (<function __main__.test_cond.<locals>.cond(h, d)>, <Action.DOUBLE: 3>),\n",
       " (<function __main__.test_cond.<locals>.cond(h, d)>, <Action.DOUBLE: 3>),\n",
       " (<function __main__.test_cond.<locals>.cond(h, d)>, <Action.DOUBLE: 3>),\n",
       " (<function __main__.test_cond.<locals>.cond(h, d)>, <Action.DOUBLE: 3>),\n",
       " (<function __main__.test_cond.<locals>.cond(h, d)>, <Action.DOUBLE: 3>),\n",
       " (<function __main__.test_cond.<locals>.cond(h, d)>, <Action.DOUBLE: 3>),\n",
       " (<function __main__.test_cond.<locals>.cond(h, d)>, <Action.DOUBLE: 3>),\n",
       " (<function __main__.test_cond.<locals>.cond(h, d)>, <Action.DOUBLE: 3>),\n",
       " (<function __main__.test_cond.<locals>.cond(h, d)>, <Action.HIT: 2>),\n",
       " (<function __main__.test_cond.<locals>.cond(h, d)>, <Action.HIT: 2>),\n",
       " (<function __main__.test_cond.<locals>.cond(h, d)>, <Action.HIT: 2>),\n",
       " (<function __main__.test_cond.<locals>.cond(h, d)>, <Action.HIT: 2>),\n",
       " (<function __main__.test_cond.<locals>.cond(h, d)>, <Action.STAND: 1>),\n",
       " (<function __main__.test_cond.<locals>.cond(h, d)>, <Action.STAND: 1>),\n",
       " (<function __main__.test_cond.<locals>.cond(h, d)>, <Action.STAND: 1>),\n",
       " (<function __main__.test_cond.<locals>.cond(h, d)>, <Action.HIT: 2>),\n",
       " (<function __main__.test_cond.<locals>.cond(h, d)>, <Action.HIT: 2>),\n",
       " (<function __main__.test_cond.<locals>.cond(h, d)>, <Action.HIT: 2>),\n",
       " (<function __main__.test_cond.<locals>.cond(h, d)>, <Action.HIT: 2>),\n",
       " (<function __main__.test_cond.<locals>.cond(h, d)>, <Action.HIT: 2>),\n",
       " (<function __main__.test_cond.<locals>.cond(h, d)>, <Action.STAND: 1>),\n",
       " (<function __main__.test_cond.<locals>.cond(h, d)>, <Action.STAND: 1>),\n",
       " (<function __main__.test_cond.<locals>.cond(h, d)>, <Action.STAND: 1>),\n",
       " (<function __main__.test_cond.<locals>.cond(h, d)>, <Action.STAND: 1>),\n",
       " (<function __main__.test_cond.<locals>.cond(h, d)>, <Action.STAND: 1>),\n",
       " (<function __main__.test_cond.<locals>.cond(h, d)>, <Action.HIT: 2>),\n",
       " (<function __main__.test_cond.<locals>.cond(h, d)>, <Action.HIT: 2>),\n",
       " (<function __main__.test_cond.<locals>.cond(h, d)>, <Action.HIT: 2>),\n",
       " (<function __main__.test_cond.<locals>.cond(h, d)>, <Action.HIT: 2>),\n",
       " (<function __main__.test_cond.<locals>.cond(h, d)>, <Action.HIT: 2>),\n",
       " (<function __main__.test_cond.<locals>.cond(h, d)>, <Action.STAND: 1>),\n",
       " (<function __main__.test_cond.<locals>.cond(h, d)>, <Action.STAND: 1>),\n",
       " (<function __main__.test_cond.<locals>.cond(h, d)>, <Action.STAND: 1>),\n",
       " (<function __main__.test_cond.<locals>.cond(h, d)>, <Action.STAND: 1>),\n",
       " (<function __main__.test_cond.<locals>.cond(h, d)>, <Action.STAND: 1>),\n",
       " (<function __main__.test_cond.<locals>.cond(h, d)>, <Action.HIT: 2>),\n",
       " (<function __main__.test_cond.<locals>.cond(h, d)>, <Action.HIT: 2>),\n",
       " (<function __main__.test_cond.<locals>.cond(h, d)>, <Action.HIT: 2>),\n",
       " (<function __main__.test_cond.<locals>.cond(h, d)>, <Action.HIT: 2>),\n",
       " (<function __main__.test_cond.<locals>.cond(h, d)>, <Action.STAND: 1>),\n",
       " (<function __main__.test_cond.<locals>.cond(h, d)>, <Action.STAND: 1>),\n",
       " (<function __main__.test_cond.<locals>.cond(h, d)>, <Action.STAND: 1>),\n",
       " (<function __main__.test_cond.<locals>.cond(h, d)>, <Action.STAND: 1>),\n",
       " (<function __main__.test_cond.<locals>.cond(h, d)>, <Action.STAND: 1>),\n",
       " (<function __main__.test_cond.<locals>.cond(h, d)>, <Action.STAND: 1>),\n",
       " (<function __main__.test_cond.<locals>.cond(h, d)>, <Action.HIT: 2>),\n",
       " (<function __main__.test_cond.<locals>.cond(h, d)>, <Action.HIT: 2>),\n",
       " (<function __main__.test_cond.<locals>.cond(h, d)>, <Action.HIT: 2>),\n",
       " (<function __main__.test_cond.<locals>.cond(h, d)>, <Action.HIT: 2>),\n",
       " (<function __main__.test_cond.<locals>.cond(h, d)>, <Action.DOUBLE: 3>),\n",
       " (<function __main__.test_cond.<locals>.cond(h, d)>, <Action.STAND: 1>),\n",
       " (<function __main__.test_cond.<locals>.cond(h, d)>, <Action.STAND: 1>),\n",
       " (<function __main__.test_cond.<locals>.cond(h, d)>, <Action.STAND: 1>),\n",
       " (<function __main__.test_cond.<locals>.cond(h, d)>, <Action.STAND: 1>),\n",
       " (<function __main__.test_cond.<locals>.cond(h, d)>, <Action.STAND: 1>),\n",
       " (<function __main__.test_cond.<locals>.cond(h, d)>, <Action.HIT: 2>),\n",
       " (<function __main__.test_cond.<locals>.cond(h, d)>, <Action.HIT: 2>),\n",
       " (<function __main__.test_cond.<locals>.cond(h, d)>, <Action.STAND: 1>),\n",
       " (<function __main__.test_cond.<locals>.cond(h, d)>, <Action.HIT: 2>),\n",
       " (<function __main__.test_cond.<locals>.cond(h, d)>, <Action.DOUBLE: 3>),\n",
       " (<function __main__.test_cond.<locals>.cond(h, d)>, <Action.STAND: 1>),\n",
       " (<function __main__.test_cond.<locals>.cond(h, d)>, <Action.STAND: 1>),\n",
       " (<function __main__.test_cond.<locals>.cond(h, d)>, <Action.STAND: 1>),\n",
       " (<function __main__.test_cond.<locals>.cond(h, d)>, <Action.STAND: 1>),\n",
       " (<function __main__.test_cond.<locals>.cond(h, d)>, <Action.STAND: 1>),\n",
       " (<function __main__.test_cond.<locals>.cond(h, d)>, <Action.STAND: 1>),\n",
       " (<function __main__.test_cond.<locals>.cond(h, d)>, <Action.STAND: 1>),\n",
       " (<function __main__.test_cond.<locals>.cond(h, d)>, <Action.STAND: 1>),\n",
       " (<function __main__.test_cond.<locals>.cond(h, d)>, <Action.STAND: 1>),\n",
       " (<function __main__.test_cond.<locals>.cond(h, d)>, <Action.DOUBLE: 3>),\n",
       " (<function __main__.test_cond.<locals>.cond(h, d)>, <Action.STAND: 1>),\n",
       " (<function __main__.test_cond.<locals>.cond(h, d)>, <Action.STAND: 1>),\n",
       " (<function __main__.test_cond.<locals>.cond(h, d)>, <Action.STAND: 1>),\n",
       " (<function __main__.test_cond.<locals>.cond(h, d)>, <Action.STAND: 1>),\n",
       " (<function __main__.test_cond.<locals>.cond(h, d)>, <Action.STAND: 1>),\n",
       " (<function __main__.test_cond.<locals>.cond(h, d)>, <Action.STAND: 1>),\n",
       " (<function __main__.test_cond.<locals>.cond(h, d)>, <Action.STAND: 1>),\n",
       " (<function __main__.test_cond.<locals>.cond(h, d)>, <Action.STAND: 1>),\n",
       " (<function __main__.test_cond.<locals>.cond(h, d)>, <Action.STAND: 1>)]"
      ]
     },
     "execution_count": 44,
     "metadata": {},
     "output_type": "execute_result"
    }
   ],
   "source": [
    "conds"
   ]
  },
  {
   "cell_type": "code",
   "execution_count": 45,
   "id": "portable-niger",
   "metadata": {
    "ExecuteTime": {
     "end_time": "2021-07-02T23:40:58.761202Z",
     "start_time": "2021-07-02T23:40:58.758869Z"
    }
   },
   "outputs": [],
   "source": [
    "strat_derived = generate_strat_conditional(strat_simple, conds)\n",
    "strat_derived.name = 'strat_derived'"
   ]
  },
  {
   "cell_type": "code",
   "execution_count": 46,
   "id": "modular-hospital",
   "metadata": {
    "ExecuteTime": {
     "end_time": "2021-07-02T23:40:58.763724Z",
     "start_time": "2021-07-02T23:40:58.762250Z"
    }
   },
   "outputs": [],
   "source": [
    "strat_derived2 = generate_strat_conditional(strat_derived, conds)\n",
    "strat_derived2.name = 'strat_derived2'"
   ]
  },
  {
   "cell_type": "code",
   "execution_count": 47,
   "id": "english-distance",
   "metadata": {
    "ExecuteTime": {
     "end_time": "2021-07-02T23:41:08.453594Z",
     "start_time": "2021-07-02T23:40:58.764594Z"
    }
   },
   "outputs": [
    {
     "data": {
      "text/plain": [
       "(         strategy hand_start  dealer_card          hand_end dealer_hand  \\\n",
       " 0          simple    [12, 8]            7           [12, 8]     [7, 10]   \n",
       " 1   strat_derived    [12, 8]            7           [12, 8]     [7, 10]   \n",
       " 2  strat_derived2    [12, 8]            7           [12, 8]     [7, 10]   \n",
       " 3          simple    [4, 10]            6           [4, 10]  [6, 13, 1]   \n",
       " 4   strat_derived    [4, 10]            6           [4, 10]  [6, 13, 1]   \n",
       " 5  strat_derived2    [4, 10]            6           [4, 10]  [6, 13, 1]   \n",
       " 6          simple     [1, 4]           13  [1, 4, 1, 11, 1]     [13, 9]   \n",
       " 7   strat_derived     [1, 4]           13     [1, 4, 10, 3]     [13, 9]   \n",
       " 8  strat_derived2     [1, 4]           13      [1, 4, 4, 9]     [13, 9]   \n",
       " 9          simple     [4, 6]           10        [4, 6, 11]     [10, 8]   \n",
       " \n",
       "             outcome  outcome_value outcome_name  \n",
       " 0   HandOutcome.WIN            1.0          WIN  \n",
       " 1   HandOutcome.WIN            1.0          WIN  \n",
       " 2   HandOutcome.WIN            1.0          WIN  \n",
       " 3  HandOutcome.LOSE           -1.0         LOSE  \n",
       " 4  HandOutcome.LOSE           -1.0         LOSE  \n",
       " 5  HandOutcome.LOSE           -1.0         LOSE  \n",
       " 6  HandOutcome.LOSE           -1.0         LOSE  \n",
       " 7  HandOutcome.LOSE           -1.0         LOSE  \n",
       " 8  HandOutcome.LOSE           -1.0         LOSE  \n",
       " 9   HandOutcome.WIN            1.0          WIN  ,\n",
       "                      len                                             \\\n",
       " outcome_name   BLACKJACK   LOSE LOSE_DOUBLE  PUSH    WIN WIN_DOUBLE   \n",
       " strategy                                                              \n",
       " simple              4508  46308        2461  8659  34746       3318   \n",
       " strat_derived       4508  45803        2735  8514  34282       4158   \n",
       " strat_derived2      4508  46001        2658  8445  34202       4186   \n",
       " \n",
       "                mean_outcome  \n",
       " outcome_name                 \n",
       " strategy                     \n",
       " simple             -0.03086  \n",
       " strat_derived      -0.01913  \n",
       " strat_derived2     -0.01981  )"
      ]
     },
     "execution_count": 47,
     "metadata": {},
     "output_type": "execute_result"
    }
   ],
   "source": [
    "sims = run_n_sim_trials([strat_simple, strat_derived, strat_derived2], 100*1000)\n",
    "sims.head(10), summarize_totals(sims)"
   ]
  },
  {
   "cell_type": "code",
   "execution_count": null,
   "id": "timely-bicycle",
   "metadata": {},
   "outputs": [],
   "source": []
  }
 ],
 "metadata": {
  "kernelspec": {
   "display_name": "Python 3",
   "language": "python",
   "name": "python3"
  },
  "language_info": {
   "codemirror_mode": {
    "name": "ipython",
    "version": 3
   },
   "file_extension": ".py",
   "mimetype": "text/x-python",
   "name": "python",
   "nbconvert_exporter": "python",
   "pygments_lexer": "ipython3",
   "version": "3.8.8"
  }
 },
 "nbformat": 4,
 "nbformat_minor": 5
}
