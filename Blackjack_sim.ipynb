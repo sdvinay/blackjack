{
 "cells": [
  {
   "cell_type": "code",
   "execution_count": 1,
   "id": "middle-scenario",
   "metadata": {
    "ExecuteTime": {
     "end_time": "2021-06-28T19:53:45.474902Z",
     "start_time": "2021-06-28T19:53:45.063296Z"
    }
   },
   "outputs": [],
   "source": [
    "from dataclasses import dataclass, field\n",
    "import copy\n",
    "from enum import Enum, auto\n",
    "import random\n",
    "import pandas as pd"
   ]
  },
  {
   "cell_type": "code",
   "execution_count": 2,
   "id": "annoying-pepper",
   "metadata": {
    "ExecuteTime": {
     "end_time": "2021-06-28T19:53:45.477192Z",
     "start_time": "2021-06-28T19:53:45.475998Z"
    }
   },
   "outputs": [],
   "source": [
    "# cards are numbers from 1 to 13\n",
    "# the score is capped at 10"
   ]
  },
  {
   "cell_type": "markdown",
   "id": "lovely-humidity",
   "metadata": {},
   "source": [
    "## Define a Hand class and functions on it"
   ]
  },
  {
   "cell_type": "code",
   "execution_count": 3,
   "id": "compound-summit",
   "metadata": {
    "ExecuteTime": {
     "end_time": "2021-06-28T19:53:45.480586Z",
     "start_time": "2021-06-28T19:53:45.478458Z"
    }
   },
   "outputs": [],
   "source": [
    "@dataclass\n",
    "class Hand:\n",
    "    \"\"\"Class for representing a blackjack hand.\"\"\"\n",
    "    score: int = 0\n",
    "    soft: bool = False\n",
    "    cards: [int] = field(default_factory=list)\n"
   ]
  },
  {
   "cell_type": "code",
   "execution_count": 4,
   "id": "educational-height",
   "metadata": {
    "ExecuteTime": {
     "end_time": "2021-06-28T19:53:45.484402Z",
     "start_time": "2021-06-28T19:53:45.481731Z"
    }
   },
   "outputs": [],
   "source": [
    "def add_card(hand, card):\n",
    "    if card != 1:  \n",
    "        if (not hand.soft) or (hand.score <= 11): # simple case\n",
    "            new_score = min(hand.score+min(10, card), 22) # cap busted hands at 22\n",
    "        else: # make a soft hand hard\n",
    "            new_score = hand.score+min(10, card) - 10 \n",
    "            hand.soft = False\n",
    "    else: # card is an ace\n",
    "        if hand.score >= 11: # 11s and up count an ace as 1 (hard or soft)\n",
    "            new_score = min(hand.score+min(10, card), 22) # cap busted hands at 22\n",
    "        else: # soft ace\n",
    "            new_score = hand.score+11\n",
    "            hand.soft = True\n",
    "\n",
    "    hand.score = new_score\n",
    "    hand.cards += [card]\n",
    "    return hand"
   ]
  },
  {
   "cell_type": "code",
   "execution_count": 5,
   "id": "wicked-delhi",
   "metadata": {
    "ExecuteTime": {
     "end_time": "2021-06-28T19:53:45.487626Z",
     "start_time": "2021-06-28T19:53:45.485246Z"
    }
   },
   "outputs": [],
   "source": [
    "def is_busted(hand):\n",
    "    return hand.score > 21"
   ]
  },
  {
   "cell_type": "code",
   "execution_count": 6,
   "id": "senior-geometry",
   "metadata": {
    "ExecuteTime": {
     "end_time": "2021-06-28T19:53:45.490720Z",
     "start_time": "2021-06-28T19:53:45.488840Z"
    }
   },
   "outputs": [],
   "source": [
    "def is_blackjack(hand):\n",
    "    return hand.score==21 and len(hand.cards)==2"
   ]
  },
  {
   "cell_type": "code",
   "execution_count": 7,
   "id": "initial-harrison",
   "metadata": {
    "ExecuteTime": {
     "end_time": "2021-06-28T19:53:45.496855Z",
     "start_time": "2021-06-28T19:53:45.491670Z"
    }
   },
   "outputs": [
    {
     "data": {
      "text/plain": [
       "Hand(score=0, soft=False, cards=[])"
      ]
     },
     "execution_count": 7,
     "metadata": {},
     "output_type": "execute_result"
    }
   ],
   "source": [
    "h = Hand()\n",
    "h"
   ]
  },
  {
   "cell_type": "code",
   "execution_count": 8,
   "id": "aging-turner",
   "metadata": {
    "ExecuteTime": {
     "end_time": "2021-06-28T19:53:45.501431Z",
     "start_time": "2021-06-28T19:53:45.499036Z"
    }
   },
   "outputs": [
    {
     "data": {
      "text/plain": [
       "Hand(score=6, soft=False, cards=[6])"
      ]
     },
     "execution_count": 8,
     "metadata": {},
     "output_type": "execute_result"
    }
   ],
   "source": [
    "add_card(h, 6) # start a hand with a 6"
   ]
  },
  {
   "cell_type": "code",
   "execution_count": 9,
   "id": "sized-objective",
   "metadata": {
    "ExecuteTime": {
     "end_time": "2021-06-28T19:53:45.505469Z",
     "start_time": "2021-06-28T19:53:45.503287Z"
    }
   },
   "outputs": [
    {
     "data": {
      "text/plain": [
       "Hand(score=16, soft=False, cards=[6, 11])"
      ]
     },
     "execution_count": 9,
     "metadata": {},
     "output_type": "execute_result"
    }
   ],
   "source": [
    "add_card(h, 11) # show that J (11) counts as 10 points"
   ]
  },
  {
   "cell_type": "code",
   "execution_count": 10,
   "id": "informed-williams",
   "metadata": {
    "ExecuteTime": {
     "end_time": "2021-06-28T19:53:45.509618Z",
     "start_time": "2021-06-28T19:53:45.506456Z"
    }
   },
   "outputs": [
    {
     "data": {
      "text/plain": [
       "(Hand(score=22, soft=False, cards=[6, 11, 7]), True)"
      ]
     },
     "execution_count": 10,
     "metadata": {},
     "output_type": "execute_result"
    }
   ],
   "source": [
    "add_card(h, 7), is_busted(h) # bust (show that 23 is counted as 22)"
   ]
  },
  {
   "cell_type": "code",
   "execution_count": 11,
   "id": "smart-envelope",
   "metadata": {
    "ExecuteTime": {
     "end_time": "2021-06-28T19:53:45.513469Z",
     "start_time": "2021-06-28T19:53:45.510777Z"
    }
   },
   "outputs": [
    {
     "data": {
      "text/plain": [
       "Hand(score=11, soft=True, cards=[1])"
      ]
     },
     "execution_count": 11,
     "metadata": {},
     "output_type": "execute_result"
    }
   ],
   "source": [
    "# OK, now let's try another hand with aces\n",
    "h = Hand()\n",
    "add_card(h, 1) # should be a soft 11"
   ]
  },
  {
   "cell_type": "code",
   "execution_count": 12,
   "id": "crude-firmware",
   "metadata": {
    "ExecuteTime": {
     "end_time": "2021-06-28T19:53:45.516609Z",
     "start_time": "2021-06-28T19:53:45.514458Z"
    }
   },
   "outputs": [
    {
     "data": {
      "text/plain": [
       "Hand(score=12, soft=True, cards=[1, 1])"
      ]
     },
     "execution_count": 12,
     "metadata": {},
     "output_type": "execute_result"
    }
   ],
   "source": [
    "add_card(h, 1) # two aces: should be a soft 12"
   ]
  },
  {
   "cell_type": "code",
   "execution_count": 13,
   "id": "perfect-accent",
   "metadata": {
    "ExecuteTime": {
     "end_time": "2021-06-28T19:53:45.519877Z",
     "start_time": "2021-06-28T19:53:45.517655Z"
    }
   },
   "outputs": [
    {
     "data": {
      "text/plain": [
       "Hand(score=12, soft=False, cards=[1, 1, 11])"
      ]
     },
     "execution_count": 13,
     "metadata": {},
     "output_type": "execute_result"
    }
   ],
   "source": [
    "add_card(h, 11) # two aces and a J: should be a hard 12"
   ]
  },
  {
   "cell_type": "code",
   "execution_count": 14,
   "id": "violent-banking",
   "metadata": {
    "ExecuteTime": {
     "end_time": "2021-06-28T19:53:45.523616Z",
     "start_time": "2021-06-28T19:53:45.520935Z"
    }
   },
   "outputs": [
    {
     "data": {
      "text/plain": [
       "(Hand(score=21, soft=True, cards=[1, 10]), True)"
      ]
     },
     "execution_count": 14,
     "metadata": {},
     "output_type": "execute_result"
    }
   ],
   "source": [
    "# OK, now let's try another hand with a blackjack\n",
    "h = Hand()\n",
    "add_card(h, 1) # should be a soft 11\n",
    "add_card(h, 10)\n",
    "h, is_blackjack(h)"
   ]
  },
  {
   "cell_type": "code",
   "execution_count": null,
   "id": "signed-heater",
   "metadata": {},
   "outputs": [],
   "source": []
  },
  {
   "cell_type": "markdown",
   "id": "academic-antibody",
   "metadata": {},
   "source": [
    "## Now define gameplay and strategy"
   ]
  },
  {
   "cell_type": "code",
   "execution_count": 15,
   "id": "alike-halifax",
   "metadata": {
    "ExecuteTime": {
     "end_time": "2021-06-28T19:53:45.526710Z",
     "start_time": "2021-06-28T19:53:45.524627Z"
    }
   },
   "outputs": [],
   "source": [
    "\n",
    "# TODO I might want a Flag class later, to provide a set of possible Actions\n",
    "class Action(Enum):\n",
    "    STAND = auto()\n",
    "    HIT = auto()\n",
    "    #DOUBLE = auto()\n",
    "    #SPLIT = auto()\n",
    "    \n",
    "    "
   ]
  },
  {
   "cell_type": "code",
   "execution_count": 16,
   "id": "experimental-roulette",
   "metadata": {
    "ExecuteTime": {
     "end_time": "2021-06-28T19:53:45.530979Z",
     "start_time": "2021-06-28T19:53:45.528679Z"
    }
   },
   "outputs": [],
   "source": [
    "# Most simple/conservative strategy imaginable:\n",
    "def strat_nobust(hand, dealer):\n",
    "    if hand.score > 11:\n",
    "        return Action.STAND\n",
    "    else:\n",
    "        return Action.HIT\n",
    "        "
   ]
  },
  {
   "cell_type": "code",
   "execution_count": 17,
   "id": "entire-species",
   "metadata": {
    "ExecuteTime": {
     "end_time": "2021-06-28T19:53:45.534056Z",
     "start_time": "2021-06-28T19:53:45.532019Z"
    }
   },
   "outputs": [],
   "source": [
    "# Dealer strategy\n",
    "def strat_dealer(hand, dealer):\n",
    "    if hand.score < 17:\n",
    "        return Action.HIT\n",
    "    # TODO handle soft hands\n",
    "    else:\n",
    "        return Action.STAND\n",
    "        "
   ]
  },
  {
   "cell_type": "code",
   "execution_count": 18,
   "id": "quantitative-liberty",
   "metadata": {
    "ExecuteTime": {
     "end_time": "2021-06-28T19:53:45.537081Z",
     "start_time": "2021-06-28T19:53:45.535019Z"
    }
   },
   "outputs": [],
   "source": [
    "class HandOutcome(Enum):\n",
    "    WIN = 1\n",
    "    LOSE = -1\n",
    "    PUSH = 0\n",
    "    BLACKJACK = 1.5"
   ]
  },
  {
   "cell_type": "code",
   "execution_count": 19,
   "id": "intensive-pontiac",
   "metadata": {
    "ExecuteTime": {
     "end_time": "2021-06-28T19:53:45.539598Z",
     "start_time": "2021-06-28T19:53:45.538014Z"
    }
   },
   "outputs": [],
   "source": [
    "# Deck; completely random (i.e., infinite) for now\n",
    "\n",
    "\n",
    "def deal_card():\n",
    "    return random.randrange(13)+1"
   ]
  },
  {
   "cell_type": "code",
   "execution_count": 20,
   "id": "sunset-glasgow",
   "metadata": {
    "ExecuteTime": {
     "end_time": "2021-06-28T19:53:45.543374Z",
     "start_time": "2021-06-28T19:53:45.540445Z"
    }
   },
   "outputs": [
    {
     "data": {
      "text/plain": [
       "[9, 9, 3, 13, 7, 8, 7, 10, 4, 5]"
      ]
     },
     "execution_count": 20,
     "metadata": {},
     "output_type": "execute_result"
    }
   ],
   "source": [
    "[deal_card() for _ in range(10)]"
   ]
  },
  {
   "cell_type": "code",
   "execution_count": 21,
   "id": "stretch-westminster",
   "metadata": {
    "ExecuteTime": {
     "end_time": "2021-06-28T19:53:45.548208Z",
     "start_time": "2021-06-28T19:53:45.545006Z"
    }
   },
   "outputs": [],
   "source": [
    "# return the final hand after playing\n",
    "def player_play_hand(strategy, hand, dealer, deck): \n",
    "    while True:\n",
    "        decision = strategy(hand, dealer)\n",
    "        if decision == Action.STAND:\n",
    "            return hand\n",
    "        if decision == Action.HIT:\n",
    "            add_card(hand, deck())\n",
    "            if is_busted(hand):\n",
    "                return hand\n",
    "\n"
   ]
  },
  {
   "cell_type": "code",
   "execution_count": 22,
   "id": "alleged-rental",
   "metadata": {
    "ExecuteTime": {
     "end_time": "2021-06-28T19:53:45.551885Z",
     "start_time": "2021-06-28T19:53:45.549202Z"
    }
   },
   "outputs": [],
   "source": [
    "def player_hand_outcome(player_hand, dealer_hand):\n",
    "    if is_blackjack(player_hand):\n",
    "        if is_blackjack(dealer_hand):\n",
    "            return HandOutcome.PUSH\n",
    "        else:\n",
    "            return HandOutcome.BLACKJACK\n",
    "    if is_busted(player_hand) or is_blackjack(dealer_hand):\n",
    "        return HandOutcome.LOSE\n",
    "    if is_busted(dealer_hand):\n",
    "        return HandOutcome.WIN\n",
    "    if player_hand.score > dealer_hand.score:\n",
    "        return HandOutcome.WIN\n",
    "    if player_hand.score == dealer_hand.score:\n",
    "        return HandOutcome.PUSH\n",
    "    if player_hand.score < dealer_hand.score:\n",
    "        return HandOutcome.LOSE\n"
   ]
  },
  {
   "cell_type": "code",
   "execution_count": 23,
   "id": "automotive-indianapolis",
   "metadata": {
    "ExecuteTime": {
     "end_time": "2021-06-28T19:53:45.557541Z",
     "start_time": "2021-06-28T19:53:45.555383Z"
    }
   },
   "outputs": [],
   "source": [
    "# One player and a dealer\n",
    "# Player has a strategy\n",
    "# Each gets dealt cards and plays according to strategy\n",
    "# Emit all the data, and figure the rest out later\n",
    "\n",
    "def complete_one_hand(strat, player_hand, dealer_hand):\n",
    "\n",
    "    hand_p = copy.deepcopy(player_hand)\n",
    "    hand_d = copy.deepcopy(dealer_hand)\n",
    "    \n",
    "    dealer_hole_card = deal_card()\n",
    "    \n",
    "    # player\n",
    "    player_play_hand(strat, hand_p, hand_d, deal_card)\n",
    "    # dealer\n",
    "    player_play_hand(strat_dealer, add_card(hand_d, dealer_hole_card), None, deal_card)\n",
    "    \n",
    "    return (hand_p, hand_d, player_hand_outcome(hand_p, hand_d))\n",
    "\n"
   ]
  },
  {
   "cell_type": "code",
   "execution_count": 24,
   "id": "bibliographic-timing",
   "metadata": {
    "ExecuteTime": {
     "end_time": "2021-06-28T19:53:45.562863Z",
     "start_time": "2021-06-28T19:53:45.559504Z"
    }
   },
   "outputs": [
    {
     "data": {
      "text/plain": [
       "(Hand(score=21, soft=False, cards=[3, 8, 13]),\n",
       " Hand(score=17, soft=False, cards=[13, 7]),\n",
       " <HandOutcome.WIN: 1>)"
      ]
     },
     "execution_count": 24,
     "metadata": {},
     "output_type": "execute_result"
    }
   ],
   "source": [
    "# One player and a dealer\n",
    "# Player has a strategy\n",
    "# Each gets dealt cards and plays according to strategy\n",
    "# Emit all the data, and figure the rest out later\n",
    "\n",
    "def play_one_hand(strat):\n",
    "    hand_p = Hand()\n",
    "    hand_d = Hand()\n",
    "\n",
    "    add_card(hand_p, deal_card())\n",
    "    add_card(hand_d, deal_card())\n",
    "    add_card(hand_p, deal_card())\n",
    "\n",
    "    return complete_one_hand(strat, hand_p, hand_d)\n",
    "\n",
    "play_one_hand(strat_nobust)"
   ]
  },
  {
   "cell_type": "markdown",
   "id": "standard-drilling",
   "metadata": {},
   "source": [
    "## Aggregate and summarize the data from the simulations"
   ]
  },
  {
   "cell_type": "code",
   "execution_count": 25,
   "id": "compressed-planner",
   "metadata": {
    "ExecuteTime": {
     "end_time": "2021-06-28T19:53:45.567261Z",
     "start_time": "2021-06-28T19:53:45.564205Z"
    }
   },
   "outputs": [
    {
     "data": {
      "text/plain": [
       "{'hand_start': [5, 10],\n",
       " 'dealer_card': 7,\n",
       " 'hand_end': [5, 10],\n",
       " 'dealer_hand': [7, 10],\n",
       " 'outcome': <HandOutcome.LOSE: -1>}"
      ]
     },
     "execution_count": 25,
     "metadata": {},
     "output_type": "execute_result"
    }
   ],
   "source": [
    "\n",
    "def generate_row_from_hand(h):\n",
    "    (hand_p, hand_d, outcome) = h\n",
    "    return {'hand_start': hand_p.cards[:2], 'dealer_card': hand_d.cards[0], 'hand_end': hand_p.cards, 'dealer_hand': hand_d.cards, 'outcome': outcome}\n",
    "\n",
    "generate_row_from_hand(play_one_hand(strat_nobust))"
   ]
  },
  {
   "cell_type": "code",
   "execution_count": 26,
   "id": "focused-crystal",
   "metadata": {
    "ExecuteTime": {
     "end_time": "2021-06-28T19:53:45.606645Z",
     "start_time": "2021-06-28T19:53:45.568137Z"
    }
   },
   "outputs": [
    {
     "data": {
      "text/plain": [
       "(    hand_start  dealer_card          hand_end    dealer_hand           outcome\n",
       " 0     [13, 12]            7          [13, 12]      [7, 6, 6]   HandOutcome.WIN\n",
       " 1       [9, 5]           13         [9, 5, 9]        [13, 9]  HandOutcome.LOSE\n",
       " 2      [11, 4]            1  [11, 4, 1, 1, 3]  [1, 1, 5, 12]   HandOutcome.WIN\n",
       " 3       [5, 4]            1        [5, 4, 12]      [1, 5, 1]   HandOutcome.WIN\n",
       " 4      [9, 12]            8           [9, 12]      [8, 8, 5]  HandOutcome.LOSE\n",
       " ..         ...          ...               ...            ...               ...\n",
       " 995     [3, 2]           10     [3, 2, 13, 8]    [10, 6, 13]  HandOutcome.LOSE\n",
       " 996    [11, 3]            8       [11, 3, 10]     [8, 3, 12]  HandOutcome.LOSE\n",
       " 997    [12, 6]            5        [12, 6, 2]   [5, 6, 1, 7]  HandOutcome.LOSE\n",
       " 998     [7, 5]            1      [7, 5, 1, 4]         [1, 9]  HandOutcome.LOSE\n",
       " 999     [8, 3]            8        [8, 3, 13]        [8, 10]   HandOutcome.WIN\n",
       " \n",
       " [1000 rows x 5 columns],\n",
       " (HandOutcome.LOSE         507\n",
       "  HandOutcome.WIN          366\n",
       "  HandOutcome.PUSH          82\n",
       "  HandOutcome.BLACKJACK     45\n",
       "  Name: outcome, dtype: int64,\n",
       "  -0.0735))"
      ]
     },
     "execution_count": 26,
     "metadata": {},
     "output_type": "execute_result"
    }
   ],
   "source": [
    "def run_n_sim_trials(strat, n):\n",
    "    sims = pd.DataFrame([generate_row_from_hand(play_one_hand(strat)) for _ in range(n)])\n",
    "    return sims\n",
    "\n",
    "def summarize_totals(sims):\n",
    "    return sims['outcome'].value_counts(), sims['outcome'].apply(lambda x: x.value).mean()\n",
    "\n",
    "sims = run_n_sim_trials(strat_dealer, 1000)\n",
    "sims, summarize_totals(sims)"
   ]
  },
  {
   "cell_type": "code",
   "execution_count": 27,
   "id": "varied-navigator",
   "metadata": {
    "ExecuteTime": {
     "end_time": "2021-06-28T19:53:45.642358Z",
     "start_time": "2021-06-28T19:53:45.607620Z"
    }
   },
   "outputs": [
    {
     "data": {
      "text/plain": [
       "(    hand_start  dealer_card            hand_end  dealer_hand           outcome\n",
       " 0       [5, 6]           12          [5, 6, 11]     [12, 12]   HandOutcome.WIN\n",
       " 1       [3, 2]            9  [3, 2, 3, 2, 4, 5]      [9, 10]  HandOutcome.PUSH\n",
       " 2      [11, 5]            6             [11, 5]   [6, 13, 2]  HandOutcome.LOSE\n",
       " 3      [10, 8]            5             [10, 8]    [5, 8, 5]  HandOutcome.PUSH\n",
       " 4      [8, 10]           11             [8, 10]      [11, 1]  HandOutcome.LOSE\n",
       " ..         ...          ...                 ...          ...               ...\n",
       " 995    [7, 12]           10             [7, 12]     [10, 13]  HandOutcome.LOSE\n",
       " 996    [11, 5]           13          [11, 5, 2]  [13, 3, 12]   HandOutcome.WIN\n",
       " 997    [11, 9]            5             [11, 9]   [5, 11, 3]   HandOutcome.WIN\n",
       " 998    [6, 10]            8          [6, 10, 8]    [8, 5, 7]  HandOutcome.LOSE\n",
       " 999     [9, 3]           10        [9, 3, 1, 5]      [10, 8]  HandOutcome.PUSH\n",
       " \n",
       " [1000 rows x 5 columns],\n",
       " (HandOutcome.LOSE         491\n",
       "  HandOutcome.WIN          384\n",
       "  HandOutcome.PUSH          84\n",
       "  HandOutcome.BLACKJACK     41\n",
       "  Name: outcome, dtype: int64,\n",
       "  -0.0455))"
      ]
     },
     "execution_count": 27,
     "metadata": {},
     "output_type": "execute_result"
    }
   ],
   "source": [
    "def strat_simple(hand, dealer):\n",
    "    if hand.score >= 17:  return Action.STAND\n",
    "    if hand.score <= 11:  return Action.HIT\n",
    "    if dealer.score in (range(3,7)):  return Action.STAND\n",
    "    else:  return Action.HIT\n",
    "        \n",
    "sims = run_n_sim_trials(strat_simple, 1000)\n",
    "sims, summarize_totals(sims)"
   ]
  },
  {
   "cell_type": "code",
   "execution_count": 28,
   "id": "changed-spirituality",
   "metadata": {
    "ExecuteTime": {
     "end_time": "2021-06-28T19:55:02.554785Z",
     "start_time": "2021-06-28T19:53:45.643788Z"
    }
   },
   "outputs": [
    {
     "name": "stdout",
     "output_type": "stream",
     "text": [
      "(HandOutcome.LOSE         492234\n",
      "HandOutcome.WIN          365203\n",
      "HandOutcome.PUSH          97445\n",
      "HandOutcome.BLACKJACK     45118\n",
      "Name: outcome, dtype: int64, -0.059354)\n",
      "(HandOutcome.LOSE         515452\n",
      "HandOutcome.WIN          375607\n",
      "HandOutcome.PUSH          63849\n",
      "HandOutcome.BLACKJACK     45092\n",
      "Name: outcome, dtype: int64, -0.072207)\n",
      "(HandOutcome.LOSE         485753\n",
      "HandOutcome.WIN          381329\n",
      "HandOutcome.PUSH          87757\n",
      "HandOutcome.BLACKJACK     45161\n",
      "Name: outcome, dtype: int64, -0.0366825)\n"
     ]
    }
   ],
   "source": [
    "for strat in [strat_dealer, strat_nobust, strat_simple]:\n",
    "    print(summarize_totals(run_n_sim_trials(strat, 1000000)))\n"
   ]
  },
  {
   "cell_type": "code",
   "execution_count": 29,
   "id": "solid-mitchell",
   "metadata": {
    "ExecuteTime": {
     "end_time": "2021-06-28T19:56:19.919197Z",
     "start_time": "2021-06-28T19:55:02.555655Z"
    }
   },
   "outputs": [
    {
     "name": "stdout",
     "output_type": "stream",
     "text": [
      "(HandOutcome.LOSE         492813\n",
      "HandOutcome.WIN          364623\n",
      "HandOutcome.PUSH          97407\n",
      "HandOutcome.BLACKJACK     45157\n",
      "Name: outcome, dtype: int64, -0.0604545)\n",
      "(HandOutcome.LOSE         514865\n",
      "HandOutcome.WIN          375731\n",
      "HandOutcome.PUSH          63822\n",
      "HandOutcome.BLACKJACK     45582\n",
      "Name: outcome, dtype: int64, -0.070761)\n",
      "(HandOutcome.LOSE         485887\n",
      "HandOutcome.WIN          381598\n",
      "HandOutcome.PUSH          87533\n",
      "HandOutcome.BLACKJACK     44982\n",
      "Name: outcome, dtype: int64, -0.036816)\n"
     ]
    }
   ],
   "source": [
    "for strat in [strat_dealer, strat_nobust, strat_simple]:\n",
    "    print(summarize_totals(run_n_sim_trials(strat, 1000000)))\n"
   ]
  },
  {
   "cell_type": "markdown",
   "id": "impossible-marriage",
   "metadata": {},
   "source": [
    "## Simulate specific situations to determine strategy"
   ]
  },
  {
   "cell_type": "code",
   "execution_count": 30,
   "id": "miniature-contemporary",
   "metadata": {
    "ExecuteTime": {
     "end_time": "2021-06-28T19:56:19.922479Z",
     "start_time": "2021-06-28T19:56:19.920128Z"
    }
   },
   "outputs": [
    {
     "data": {
      "text/plain": [
       "(Hand(score=12, soft=False, cards=[5, 7]),\n",
       " Hand(score=2, soft=False, cards=[2]))"
      ]
     },
     "execution_count": 30,
     "metadata": {},
     "output_type": "execute_result"
    }
   ],
   "source": [
    "# 12 vs deuce\n",
    "\n",
    "hand_p = add_card(add_card(Hand(), 5), 7)\n",
    "hand_d = add_card(Hand(), 2)\n",
    "\n",
    "hand_p, hand_d"
   ]
  },
  {
   "cell_type": "code",
   "execution_count": 31,
   "id": "living-douglas",
   "metadata": {
    "ExecuteTime": {
     "end_time": "2021-06-28T19:56:19.926099Z",
     "start_time": "2021-06-28T19:56:19.923316Z"
    }
   },
   "outputs": [],
   "source": [
    "def strat_12_hit(hand, dealer):\n",
    "    # use the simple strategy for most things, but override the 12 vs 2 behavior\n",
    "    if hand.score == 12 and dealer.score == 2:\n",
    "        return Action.HIT\n",
    "    if hand.score >= 17:  return Action.STAND\n",
    "    if hand.score <= 11:  return Action.HIT\n",
    "    if dealer.score in (range(3,7)):  return Action.STAND\n",
    "    else:  return Action.HIT\n",
    "    \n",
    "def strat_12_stand(hand, dealer):\n",
    "    # use the simple strategy for most things, but override the 12 vs 2 behavior\n",
    "    if hand.score == 12 and dealer.score == 2:\n",
    "        return Action.STAND\n",
    "    if hand.score >= 17:  return Action.STAND\n",
    "    if hand.score <= 11:  return Action.HIT\n",
    "    if dealer.score in (range(3,7)):  return Action.STAND\n",
    "    else:  return Action.HIT\n",
    "    \n",
    "# TODO come up with a way to scale this"
   ]
  },
  {
   "cell_type": "code",
   "execution_count": 43,
   "id": "burning-alfred",
   "metadata": {
    "ExecuteTime": {
     "end_time": "2021-06-28T20:53:54.252103Z",
     "start_time": "2021-06-28T20:53:54.245478Z"
    }
   },
   "outputs": [],
   "source": [
    "# Generate a set of strategies (one strategy per action) that default to strat_base, but\n",
    "# when condition is true, always performs the specific action\n",
    "def gen_strategies(strat_base, condition, actions):\n",
    "    def strat_cond_hit(hand, dealer):\n",
    "        if condition(hand, dealer):\n",
    "            return Action.HIT\n",
    "        else: return strat_base(hand, dealer)\n",
    "    \n",
    "    def strat_cond_stand(hand, dealer):\n",
    "        if condition(hand, dealer):\n",
    "            return Action.STAND\n",
    "        else: return strat_base(hand, dealer)\n",
    "    return [strat_cond_hit, strat_cond_stand]\n",
    "\n",
    "def cond_12_2(hand, dealer):\n",
    "    return hand.score == 12 and dealer.score == 2 and not hand.soft"
   ]
  },
  {
   "cell_type": "code",
   "execution_count": 39,
   "id": "grateful-player",
   "metadata": {
    "ExecuteTime": {
     "end_time": "2021-06-28T20:43:36.330934Z",
     "start_time": "2021-06-28T20:43:36.325672Z"
    }
   },
   "outputs": [
    {
     "data": {
      "text/plain": [
       "[<function __main__.gen_strategies.<locals>.strat_cond_hit(hand, dealer)>,\n",
       " <function __main__.gen_strategies.<locals>.strat_cond_stand(hand, dealer)>]"
      ]
     },
     "execution_count": 39,
     "metadata": {},
     "output_type": "execute_result"
    }
   ],
   "source": [
    "strats = gen_strategies(strat_simple, cond_12_2, None)\n",
    "strats"
   ]
  },
  {
   "cell_type": "code",
   "execution_count": 32,
   "id": "artificial-finland",
   "metadata": {
    "ExecuteTime": {
     "end_time": "2021-06-28T19:56:19.930295Z",
     "start_time": "2021-06-28T19:56:19.926931Z"
    }
   },
   "outputs": [
    {
     "data": {
      "text/plain": [
       "(Hand(score=17, soft=False, cards=[5, 7, 5]),\n",
       " Hand(score=20, soft=False, cards=[2, 8, 11]),\n",
       " <HandOutcome.LOSE: -1>)"
      ]
     },
     "execution_count": 32,
     "metadata": {},
     "output_type": "execute_result"
    }
   ],
   "source": [
    "complete_one_hand(strat_12_hit, hand_p, hand_d)"
   ]
  },
  {
   "cell_type": "code",
   "execution_count": 33,
   "id": "animal-judgment",
   "metadata": {
    "ExecuteTime": {
     "end_time": "2021-06-28T19:56:19.945231Z",
     "start_time": "2021-06-28T19:56:19.932393Z"
    }
   },
   "outputs": [
    {
     "data": {
      "text/html": [
       "<div>\n",
       "<style scoped>\n",
       "    .dataframe tbody tr th:only-of-type {\n",
       "        vertical-align: middle;\n",
       "    }\n",
       "\n",
       "    .dataframe tbody tr th {\n",
       "        vertical-align: top;\n",
       "    }\n",
       "\n",
       "    .dataframe thead th {\n",
       "        text-align: right;\n",
       "    }\n",
       "</style>\n",
       "<table border=\"1\" class=\"dataframe\">\n",
       "  <thead>\n",
       "    <tr style=\"text-align: right;\">\n",
       "      <th></th>\n",
       "      <th>hand_start</th>\n",
       "      <th>dealer_card</th>\n",
       "      <th>hand_end</th>\n",
       "      <th>dealer_hand</th>\n",
       "      <th>outcome</th>\n",
       "    </tr>\n",
       "  </thead>\n",
       "  <tbody>\n",
       "    <tr>\n",
       "      <th>0</th>\n",
       "      <td>[5, 7]</td>\n",
       "      <td>2</td>\n",
       "      <td>[5, 7, 10]</td>\n",
       "      <td>[2, 12, 1, 12]</td>\n",
       "      <td>HandOutcome.LOSE</td>\n",
       "    </tr>\n",
       "    <tr>\n",
       "      <th>1</th>\n",
       "      <td>[5, 7]</td>\n",
       "      <td>2</td>\n",
       "      <td>[5, 7, 7]</td>\n",
       "      <td>[2, 5, 7, 13]</td>\n",
       "      <td>HandOutcome.WIN</td>\n",
       "    </tr>\n",
       "    <tr>\n",
       "      <th>2</th>\n",
       "      <td>[5, 7]</td>\n",
       "      <td>2</td>\n",
       "      <td>[5, 7, 5]</td>\n",
       "      <td>[2, 11, 5]</td>\n",
       "      <td>HandOutcome.PUSH</td>\n",
       "    </tr>\n",
       "    <tr>\n",
       "      <th>3</th>\n",
       "      <td>[5, 7]</td>\n",
       "      <td>2</td>\n",
       "      <td>[5, 7, 12]</td>\n",
       "      <td>[2, 8, 5, 7]</td>\n",
       "      <td>HandOutcome.LOSE</td>\n",
       "    </tr>\n",
       "    <tr>\n",
       "      <th>4</th>\n",
       "      <td>[5, 7]</td>\n",
       "      <td>2</td>\n",
       "      <td>[5, 7, 6]</td>\n",
       "      <td>[2, 10, 3, 8]</td>\n",
       "      <td>HandOutcome.WIN</td>\n",
       "    </tr>\n",
       "    <tr>\n",
       "      <th>5</th>\n",
       "      <td>[5, 7]</td>\n",
       "      <td>2</td>\n",
       "      <td>[5, 7, 11]</td>\n",
       "      <td>[2, 8, 2, 6]</td>\n",
       "      <td>HandOutcome.LOSE</td>\n",
       "    </tr>\n",
       "    <tr>\n",
       "      <th>6</th>\n",
       "      <td>[5, 7]</td>\n",
       "      <td>2</td>\n",
       "      <td>[5, 7, 11]</td>\n",
       "      <td>[2, 6, 5, 9]</td>\n",
       "      <td>HandOutcome.LOSE</td>\n",
       "    </tr>\n",
       "    <tr>\n",
       "      <th>7</th>\n",
       "      <td>[5, 7]</td>\n",
       "      <td>2</td>\n",
       "      <td>[5, 7, 8]</td>\n",
       "      <td>[2, 12, 1, 4]</td>\n",
       "      <td>HandOutcome.WIN</td>\n",
       "    </tr>\n",
       "    <tr>\n",
       "      <th>8</th>\n",
       "      <td>[5, 7]</td>\n",
       "      <td>2</td>\n",
       "      <td>[5, 7, 7]</td>\n",
       "      <td>[2, 13, 6]</td>\n",
       "      <td>HandOutcome.WIN</td>\n",
       "    </tr>\n",
       "    <tr>\n",
       "      <th>9</th>\n",
       "      <td>[5, 7]</td>\n",
       "      <td>2</td>\n",
       "      <td>[5, 7, 12]</td>\n",
       "      <td>[2, 11, 1, 12]</td>\n",
       "      <td>HandOutcome.LOSE</td>\n",
       "    </tr>\n",
       "  </tbody>\n",
       "</table>\n",
       "</div>"
      ],
      "text/plain": [
       "  hand_start  dealer_card    hand_end     dealer_hand           outcome\n",
       "0     [5, 7]            2  [5, 7, 10]  [2, 12, 1, 12]  HandOutcome.LOSE\n",
       "1     [5, 7]            2   [5, 7, 7]   [2, 5, 7, 13]   HandOutcome.WIN\n",
       "2     [5, 7]            2   [5, 7, 5]      [2, 11, 5]  HandOutcome.PUSH\n",
       "3     [5, 7]            2  [5, 7, 12]    [2, 8, 5, 7]  HandOutcome.LOSE\n",
       "4     [5, 7]            2   [5, 7, 6]   [2, 10, 3, 8]   HandOutcome.WIN\n",
       "5     [5, 7]            2  [5, 7, 11]    [2, 8, 2, 6]  HandOutcome.LOSE\n",
       "6     [5, 7]            2  [5, 7, 11]    [2, 6, 5, 9]  HandOutcome.LOSE\n",
       "7     [5, 7]            2   [5, 7, 8]   [2, 12, 1, 4]   HandOutcome.WIN\n",
       "8     [5, 7]            2   [5, 7, 7]      [2, 13, 6]   HandOutcome.WIN\n",
       "9     [5, 7]            2  [5, 7, 12]  [2, 11, 1, 12]  HandOutcome.LOSE"
      ]
     },
     "execution_count": 33,
     "metadata": {},
     "output_type": "execute_result"
    }
   ],
   "source": [
    "\n",
    "\n",
    "def run_n_sim_trials_from_state(strat, hand_p, hand_d, n):\n",
    "    sims = pd.DataFrame([generate_row_from_hand(complete_one_hand(strat, hand_p, hand_d)) for _ in range(n)])\n",
    "    return sims\n",
    "\n",
    "run_n_sim_trials_from_state(strat_12_hit, hand_p, hand_d, 10)"
   ]
  },
  {
   "cell_type": "code",
   "execution_count": 35,
   "id": "understanding-cigarette",
   "metadata": {
    "ExecuteTime": {
     "end_time": "2021-06-28T20:36:40.049670Z",
     "start_time": "2021-06-28T20:34:47.342298Z"
    }
   },
   "outputs": [
    {
     "name": "stdout",
     "output_type": "stream",
     "text": [
      "(HandOutcome.LOSE    607957\n",
      "HandOutcome.WIN     326492\n",
      "HandOutcome.PUSH     65551\n",
      "Name: outcome, dtype: int64, -0.281465)\n",
      "(HandOutcome.LOSE    637105\n",
      "HandOutcome.WIN     362895\n",
      "Name: outcome, dtype: int64, -0.27421)\n",
      "(HandOutcome.LOSE    608740\n",
      "HandOutcome.WIN     325259\n",
      "HandOutcome.PUSH     66001\n",
      "Name: outcome, dtype: int64, -0.283481)\n"
     ]
    }
   ],
   "source": [
    "for strat in [strat_12_hit, strat_12_stand, strat_simple]:\n",
    "    print(summarize_totals(run_n_sim_trials_from_state(strat, hand_p, hand_d, 1000000)))"
   ]
  },
  {
   "cell_type": "code",
   "execution_count": 40,
   "id": "legendary-occasions",
   "metadata": {
    "ExecuteTime": {
     "end_time": "2021-06-28T20:45:50.236279Z",
     "start_time": "2021-06-28T20:43:56.940734Z"
    }
   },
   "outputs": [
    {
     "name": "stdout",
     "output_type": "stream",
     "text": [
      "(HandOutcome.LOSE    608362\n",
      "HandOutcome.WIN     325782\n",
      "HandOutcome.PUSH     65856\n",
      "Name: outcome, dtype: int64, -0.28258)\n",
      "(HandOutcome.LOSE    636732\n",
      "HandOutcome.WIN     363268\n",
      "Name: outcome, dtype: int64, -0.273464)\n",
      "(HandOutcome.LOSE    607947\n",
      "HandOutcome.WIN     326050\n",
      "HandOutcome.PUSH     66003\n",
      "Name: outcome, dtype: int64, -0.281897)\n"
     ]
    }
   ],
   "source": [
    "for strat in [strats[0], strats[1], strat_simple]:\n",
    "    print(summarize_totals(run_n_sim_trials_from_state(strat, hand_p, hand_d, 1000000)))"
   ]
  },
  {
   "cell_type": "code",
   "execution_count": 41,
   "id": "rough-period",
   "metadata": {
    "ExecuteTime": {
     "end_time": "2021-06-28T20:45:55.104970Z",
     "start_time": "2021-06-28T20:45:55.097570Z"
    }
   },
   "outputs": [
    {
     "data": {
      "text/plain": [
       "(Hand(score=12, soft=True, cards=[1, 1]), Hand(score=2, soft=False, cards=[2]))"
      ]
     },
     "execution_count": 41,
     "metadata": {},
     "output_type": "execute_result"
    }
   ],
   "source": [
    "# Soft 12 vs 2\n",
    "hand_p = add_card(add_card(Hand(), 1), 1)\n",
    "hand_d = add_card(Hand(), 2)\n",
    "hand_p, hand_d"
   ]
  },
  {
   "cell_type": "code",
   "execution_count": 42,
   "id": "latest-ozone",
   "metadata": {
    "ExecuteTime": {
     "end_time": "2021-06-28T20:49:07.410277Z",
     "start_time": "2021-06-28T20:47:08.881198Z"
    }
   },
   "outputs": [
    {
     "name": "stdout",
     "output_type": "stream",
     "text": [
      "(HandOutcome.LOSE    525941\n",
      "HandOutcome.WIN     392525\n",
      "HandOutcome.PUSH     81534\n",
      "Name: outcome, dtype: int64, -0.133416)\n",
      "(HandOutcome.LOSE    636077\n",
      "HandOutcome.WIN     363923\n",
      "Name: outcome, dtype: int64, -0.272154)\n",
      "(HandOutcome.LOSE    525816\n",
      "HandOutcome.WIN     392721\n",
      "HandOutcome.PUSH     81463\n",
      "Name: outcome, dtype: int64, -0.133095)\n"
     ]
    }
   ],
   "source": [
    "for strat in [strats[0], strats[1], strat_simple]:\n",
    "    print(summarize_totals(run_n_sim_trials_from_state(strat, hand_p, hand_d, 1000000)))"
   ]
  },
  {
   "cell_type": "code",
   "execution_count": 48,
   "id": "deadly-blast",
   "metadata": {
    "ExecuteTime": {
     "end_time": "2021-06-28T20:57:56.178858Z",
     "start_time": "2021-06-28T20:57:56.173005Z"
    }
   },
   "outputs": [],
   "source": [
    "# Implement a strategy that composes conditions and actions\n",
    "conditions = [(cond_12_2, Action.HIT)]\n",
    "\n",
    "def generate_strat_conditional(strat_base, conditions):\n",
    "    def strat_cond(hand, dealer):\n",
    "        for (condition, action) in conditions:\n",
    "            if condition(hand, dealer): return action\n",
    "        return strat_base(hand, dealer)\n",
    "    return strat_cond\n",
    "    \n",
    "strat_cond = generate_strat_conditional(strat_simple, conditions)"
   ]
  },
  {
   "cell_type": "code",
   "execution_count": 50,
   "id": "smaller-palestine",
   "metadata": {
    "ExecuteTime": {
     "end_time": "2021-06-28T20:59:42.867619Z",
     "start_time": "2021-06-28T20:58:23.543139Z"
    }
   },
   "outputs": [
    {
     "name": "stdout",
     "output_type": "stream",
     "text": [
      "(HandOutcome.LOSE         492350\n",
      "HandOutcome.WIN          364833\n",
      "HandOutcome.PUSH          97220\n",
      "HandOutcome.BLACKJACK     45597\n",
      "Name: outcome, dtype: int64, -0.0591215)\n",
      "(HandOutcome.LOSE         484929\n",
      "HandOutcome.WIN          382169\n",
      "HandOutcome.PUSH          87545\n",
      "HandOutcome.BLACKJACK     45357\n",
      "Name: outcome, dtype: int64, -0.0347245)\n",
      "(HandOutcome.LOSE         485149\n",
      "HandOutcome.WIN          381988\n",
      "HandOutcome.PUSH          88111\n",
      "HandOutcome.BLACKJACK     44752\n",
      "Name: outcome, dtype: int64, -0.036033)\n"
     ]
    }
   ],
   "source": [
    "for strat in [strat_dealer, strat_simple, strat_cond]:\n",
    "    print(summarize_totals(run_n_sim_trials(strat, 1000000)))\n"
   ]
  },
  {
   "cell_type": "code",
   "execution_count": null,
   "id": "unauthorized-explorer",
   "metadata": {},
   "outputs": [],
   "source": []
  }
 ],
 "metadata": {
  "kernelspec": {
   "display_name": "Python 3",
   "language": "python",
   "name": "python3"
  },
  "language_info": {
   "codemirror_mode": {
    "name": "ipython",
    "version": 3
   },
   "file_extension": ".py",
   "mimetype": "text/x-python",
   "name": "python",
   "nbconvert_exporter": "python",
   "pygments_lexer": "ipython3",
   "version": "3.8.8"
  }
 },
 "nbformat": 4,
 "nbformat_minor": 5
}
