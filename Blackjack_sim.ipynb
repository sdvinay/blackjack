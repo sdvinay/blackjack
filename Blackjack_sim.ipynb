{
 "cells": [
  {
   "cell_type": "code",
   "execution_count": 1,
   "id": "middle-scenario",
   "metadata": {
    "ExecuteTime": {
     "end_time": "2021-07-07T03:47:34.111533Z",
     "start_time": "2021-07-07T03:47:33.789919Z"
    }
   },
   "outputs": [],
   "source": [
    "from dataclasses import dataclass, field\n",
    "import copy\n",
    "from enum import Enum, auto\n",
    "import random\n",
    "import pandas as pd\n",
    "\n",
    "import blackjack as bj\n",
    "from blackjack import Hand, make_hand"
   ]
  },
  {
   "cell_type": "code",
   "execution_count": 2,
   "id": "initial-harrison",
   "metadata": {
    "ExecuteTime": {
     "end_time": "2021-07-07T03:47:34.117359Z",
     "start_time": "2021-07-07T03:47:34.112692Z"
    }
   },
   "outputs": [
    {
     "data": {
      "text/plain": [
       "Hand(score=0, soft=False, cards=[], doubled=False)"
      ]
     },
     "execution_count": 2,
     "metadata": {},
     "output_type": "execute_result"
    }
   ],
   "source": [
    "h = Hand()\n",
    "h"
   ]
  },
  {
   "cell_type": "code",
   "execution_count": 3,
   "id": "reduced-cover",
   "metadata": {
    "ExecuteTime": {
     "end_time": "2021-07-07T03:47:34.122365Z",
     "start_time": "2021-07-07T03:47:34.119856Z"
    }
   },
   "outputs": [
    {
     "data": {
      "text/plain": [
       "Hand(score=6, soft=False, cards=[6], doubled=False)"
      ]
     },
     "execution_count": 3,
     "metadata": {},
     "output_type": "execute_result"
    }
   ],
   "source": [
    "h.add_card(6) # start a hand with a 6"
   ]
  },
  {
   "cell_type": "code",
   "execution_count": 4,
   "id": "aging-green",
   "metadata": {
    "ExecuteTime": {
     "end_time": "2021-07-07T03:47:34.125859Z",
     "start_time": "2021-07-07T03:47:34.123973Z"
    }
   },
   "outputs": [
    {
     "data": {
      "text/plain": [
       "Hand(score=16, soft=False, cards=[6, 11], doubled=False)"
      ]
     },
     "execution_count": 4,
     "metadata": {},
     "output_type": "execute_result"
    }
   ],
   "source": [
    "h.add_card(11) # show that J (11) counts as 10 points"
   ]
  },
  {
   "cell_type": "code",
   "execution_count": 5,
   "id": "humanitarian-chair",
   "metadata": {
    "ExecuteTime": {
     "end_time": "2021-07-07T03:47:34.129229Z",
     "start_time": "2021-07-07T03:47:34.126884Z"
    }
   },
   "outputs": [
    {
     "data": {
      "text/plain": [
       "(Hand(score=22, soft=False, cards=[6, 11, 7], doubled=False), True)"
      ]
     },
     "execution_count": 5,
     "metadata": {},
     "output_type": "execute_result"
    }
   ],
   "source": [
    "h.add_card(7), bj.is_busted(h) # bust (show that 23 is counted as 22)"
   ]
  },
  {
   "cell_type": "code",
   "execution_count": 6,
   "id": "accompanied-perspective",
   "metadata": {
    "ExecuteTime": {
     "end_time": "2021-07-07T03:47:34.132293Z",
     "start_time": "2021-07-07T03:47:34.130195Z"
    }
   },
   "outputs": [
    {
     "data": {
      "text/plain": [
       "Hand(score=11, soft=True, cards=[1], doubled=False)"
      ]
     },
     "execution_count": 6,
     "metadata": {},
     "output_type": "execute_result"
    }
   ],
   "source": [
    "# OK, now let's try another hand with aces\n",
    "h = Hand()\n",
    "h.add_card(1) # should be a soft 11"
   ]
  },
  {
   "cell_type": "code",
   "execution_count": 7,
   "id": "exotic-checkout",
   "metadata": {
    "ExecuteTime": {
     "end_time": "2021-07-07T03:47:34.135463Z",
     "start_time": "2021-07-07T03:47:34.133325Z"
    }
   },
   "outputs": [
    {
     "data": {
      "text/plain": [
       "Hand(score=12, soft=True, cards=[1, 1], doubled=False)"
      ]
     },
     "execution_count": 7,
     "metadata": {},
     "output_type": "execute_result"
    }
   ],
   "source": [
    "h.add_card(1) # two aces: should be a soft 12"
   ]
  },
  {
   "cell_type": "code",
   "execution_count": 8,
   "id": "italian-beads",
   "metadata": {
    "ExecuteTime": {
     "end_time": "2021-07-07T03:47:34.139684Z",
     "start_time": "2021-07-07T03:47:34.137635Z"
    }
   },
   "outputs": [
    {
     "data": {
      "text/plain": [
       "Hand(score=12, soft=False, cards=[1, 1, 11], doubled=False)"
      ]
     },
     "execution_count": 8,
     "metadata": {},
     "output_type": "execute_result"
    }
   ],
   "source": [
    "h.add_card(11) # two aces and a J: should be a hard 12"
   ]
  },
  {
   "cell_type": "code",
   "execution_count": 9,
   "id": "neutral-sugar",
   "metadata": {
    "ExecuteTime": {
     "end_time": "2021-07-07T03:47:34.144315Z",
     "start_time": "2021-07-07T03:47:34.141684Z"
    }
   },
   "outputs": [
    {
     "data": {
      "text/plain": [
       "(Hand(score=21, soft=True, cards=[1, 10], doubled=False), True)"
      ]
     },
     "execution_count": 9,
     "metadata": {},
     "output_type": "execute_result"
    }
   ],
   "source": [
    "# OK, now let's try another hand with a blackjack\n",
    "h = Hand()\n",
    "h.add_card(1) # should be a soft 11\n",
    "h.add_card(10)\n",
    "h, bj.is_blackjack(h)"
   ]
  },
  {
   "cell_type": "markdown",
   "id": "dental-kelly",
   "metadata": {},
   "source": [
    "## Now define gameplay and strategy"
   ]
  },
  {
   "cell_type": "code",
   "execution_count": 10,
   "id": "alternative-blast",
   "metadata": {
    "ExecuteTime": {
     "end_time": "2021-07-07T03:47:34.147239Z",
     "start_time": "2021-07-07T03:47:34.145260Z"
    }
   },
   "outputs": [],
   "source": [
    "\n",
    "# TODO I might want a Flag class later, to provide a set of possible Actions\n",
    "class Action(Enum):\n",
    "    STAND = auto()\n",
    "    HIT = auto()\n",
    "    DOUBLE = auto()\n",
    "    #SPLIT = auto()\n",
    "    \n",
    "    "
   ]
  },
  {
   "cell_type": "code",
   "execution_count": 11,
   "id": "experimental-roulette",
   "metadata": {
    "ExecuteTime": {
     "end_time": "2021-07-07T03:47:34.150059Z",
     "start_time": "2021-07-07T03:47:34.148080Z"
    }
   },
   "outputs": [],
   "source": [
    "# Most simple/conservative strategy imaginable:\n",
    "def strat_nobust(hand, dealer):\n",
    "    if hand.score > 11:\n",
    "        return Action.STAND\n",
    "    else:\n",
    "        return Action.HIT\n",
    "        \n",
    "strat_nobust.name = 'strat_nobust'"
   ]
  },
  {
   "cell_type": "code",
   "execution_count": 12,
   "id": "constitutional-audit",
   "metadata": {
    "ExecuteTime": {
     "end_time": "2021-07-07T03:47:34.153022Z",
     "start_time": "2021-07-07T03:47:34.150944Z"
    }
   },
   "outputs": [],
   "source": [
    "# Dealer strategy\n",
    "def strat_dealer(hand, dealer):\n",
    "    if hand.score < 17:\n",
    "        return Action.HIT\n",
    "    # TODO handle soft hands\n",
    "    else:\n",
    "        return Action.STAND\n",
    "    \n",
    "strat_dealer.name='strat_dealer'\n",
    "        "
   ]
  },
  {
   "cell_type": "code",
   "execution_count": 13,
   "id": "illegal-eclipse",
   "metadata": {
    "ExecuteTime": {
     "end_time": "2021-07-07T03:47:34.156185Z",
     "start_time": "2021-07-07T03:47:34.154065Z"
    }
   },
   "outputs": [],
   "source": [
    "class HandOutcome(Enum):\n",
    "    WIN = 1\n",
    "    LOSE = -1\n",
    "    WIN_DOUBLE = 2\n",
    "    LOSE_DOUBLE = -2\n",
    "    PUSH = 0\n",
    "    BLACKJACK = 1.5"
   ]
  },
  {
   "cell_type": "code",
   "execution_count": 14,
   "id": "rubber-cartoon",
   "metadata": {
    "ExecuteTime": {
     "end_time": "2021-07-07T03:47:34.160220Z",
     "start_time": "2021-07-07T03:47:34.157939Z"
    }
   },
   "outputs": [],
   "source": [
    "# Deck; completely random (i.e., infinite) for now\n",
    "\n",
    "\n",
    "def deal_card():\n",
    "    return random.randrange(13)+1"
   ]
  },
  {
   "cell_type": "code",
   "execution_count": 15,
   "id": "secondary-crown",
   "metadata": {
    "ExecuteTime": {
     "end_time": "2021-07-07T03:47:34.163588Z",
     "start_time": "2021-07-07T03:47:34.161137Z"
    }
   },
   "outputs": [
    {
     "data": {
      "text/plain": [
       "[9, 3, 2, 6, 4, 13, 4, 4, 8, 8]"
      ]
     },
     "execution_count": 15,
     "metadata": {},
     "output_type": "execute_result"
    }
   ],
   "source": [
    "[deal_card() for _ in range(10)]"
   ]
  },
  {
   "cell_type": "code",
   "execution_count": 16,
   "id": "adopted-miami",
   "metadata": {
    "ExecuteTime": {
     "end_time": "2021-07-07T03:47:34.167143Z",
     "start_time": "2021-07-07T03:47:34.164558Z"
    }
   },
   "outputs": [],
   "source": [
    "# return the final hand after playing\n",
    "def player_play_hand(strategy, hand, dealer, deck):\n",
    "    while True:\n",
    "        decision = strategy(hand, dealer)\n",
    "        if decision == Action.STAND:\n",
    "            return hand\n",
    "        if decision == Action.HIT:\n",
    "            hand.add_card(deck())\n",
    "            if bj.is_busted(hand):\n",
    "                return hand\n",
    "        if decision == Action.DOUBLE:\n",
    "            hand.doubled = True\n",
    "            hand.add_card(deck())\n",
    "            return hand\n",
    "\n"
   ]
  },
  {
   "cell_type": "code",
   "execution_count": 17,
   "id": "recent-notion",
   "metadata": {
    "ExecuteTime": {
     "end_time": "2021-07-07T03:47:34.171797Z",
     "start_time": "2021-07-07T03:47:34.168125Z"
    }
   },
   "outputs": [],
   "source": [
    "def player_hand_outcome(player_hand, dealer_hand):\n",
    "    # First compute the initial outcome, then double it if necessary for a double-down\n",
    "    def initial_outcome():\n",
    "        if bj.is_blackjack(player_hand):\n",
    "            if bj.is_blackjack(dealer_hand):\n",
    "                return HandOutcome.PUSH\n",
    "            else:\n",
    "                return HandOutcome.BLACKJACK\n",
    "        if bj.is_busted(player_hand) or bj.is_blackjack(dealer_hand):\n",
    "            return HandOutcome.LOSE\n",
    "        if bj.is_busted(dealer_hand):\n",
    "            return HandOutcome.WIN\n",
    "        if player_hand.score > dealer_hand.score:\n",
    "            return HandOutcome.WIN\n",
    "        if player_hand.score == dealer_hand.score:\n",
    "            return HandOutcome.PUSH\n",
    "        if player_hand.score < dealer_hand.score:\n",
    "            return HandOutcome.LOSE\n",
    "\n",
    "    outcome = initial_outcome()\n",
    "\n",
    "    outcome_doubler = {HandOutcome.WIN: HandOutcome.WIN_DOUBLE, HandOutcome.LOSE: HandOutcome.LOSE_DOUBLE}\n",
    "\n",
    "    if player_hand.doubled:\n",
    "        outcome = outcome_doubler.get(outcome) or outcome\n",
    "    return outcome\n",
    "        \n"
   ]
  },
  {
   "cell_type": "code",
   "execution_count": 18,
   "id": "violent-quality",
   "metadata": {
    "ExecuteTime": {
     "end_time": "2021-07-07T03:47:34.175264Z",
     "start_time": "2021-07-07T03:47:34.173039Z"
    }
   },
   "outputs": [],
   "source": [
    "def get_strat_name(strat):\n",
    "    if hasattr(strat, 'name'):\n",
    "        return strat.name\n",
    "    return repr(strat)"
   ]
  },
  {
   "cell_type": "code",
   "execution_count": 19,
   "id": "atomic-plaintiff",
   "metadata": {
    "ExecuteTime": {
     "end_time": "2021-07-07T03:47:34.182662Z",
     "start_time": "2021-07-07T03:47:34.176522Z"
    }
   },
   "outputs": [
    {
     "data": {
      "text/plain": [
       "[('strat_nobust',\n",
       "  Hand(score=15, soft=False, cards=[5, 10], doubled=False),\n",
       "  Hand(score=17, soft=False, cards=[7, 13], doubled=False),\n",
       "  <HandOutcome.LOSE: -1>),\n",
       " ('strat_nobust',\n",
       "  Hand(score=15, soft=False, cards=[5, 10], doubled=False),\n",
       "  Hand(score=17, soft=False, cards=[7, 13], doubled=False),\n",
       "  <HandOutcome.LOSE: -1>)]"
      ]
     },
     "execution_count": 19,
     "metadata": {},
     "output_type": "execute_result"
    }
   ],
   "source": [
    "# Goal is to evaluate strategies, so make comparisons simple\n",
    "\n",
    "# For each round:\n",
    "# Multiple players all play with a copy of the same starting hand\n",
    "# Each player has a strategy that they play\n",
    "# Dealer plays dealer strategy\n",
    "\n",
    "# For now, we're using an infinite deck and strategies without knowledge, so\n",
    "# the interaction of players/strategies should be a wash\n",
    "\n",
    "def deal_one_round():\n",
    "    hand_p = Hand()\n",
    "    hand_d = Hand()\n",
    "\n",
    "    hand_p.add_card(deal_card())\n",
    "    hand_d.add_card(deal_card())\n",
    "    hand_p.add_card(deal_card())\n",
    "    \n",
    "    dealer_hole_card = deal_card()\n",
    "    \n",
    "    return hand_p, hand_d, dealer_hole_card\n",
    "\n",
    "\n",
    "# Play multiple strategies on one starting point\n",
    "def complete_one_round(strats, player_hand, dealer_hand, dealer_hole_card):\n",
    "    hand_p = copy.deepcopy(player_hand)\n",
    "    hand_d = copy.deepcopy(dealer_hand)\n",
    "    \n",
    "    # represent each player as a hand and a strategy\n",
    "    players = [(player_play_hand(strat, copy.deepcopy(hand_p), hand_d, deal_card), get_strat_name(strat)) for strat in strats]\n",
    "    \n",
    "    # dealer\n",
    "    player_play_hand(strat_dealer, hand_d.add_card(dealer_hole_card), None, deal_card)\n",
    "    \n",
    "    return [(strat, hand_p, hand_d, player_hand_outcome(hand_p, hand_d)) for (hand_p, strat) in players]\n",
    "\n",
    "    \n",
    "def play_one_round(strats):\n",
    "    hand_p, hand_d, dealer_hole_card = deal_one_round()\n",
    "    return complete_one_round(strats, hand_p, hand_d, dealer_hole_card)\n",
    "\n",
    "play_one_round([strat_nobust, strat_nobust])"
   ]
  },
  {
   "cell_type": "markdown",
   "id": "looking-jewelry",
   "metadata": {},
   "source": [
    "## Aggregate and summarize the data from the simulations"
   ]
  },
  {
   "cell_type": "code",
   "execution_count": 20,
   "id": "juvenile-joshua",
   "metadata": {
    "ExecuteTime": {
     "end_time": "2021-07-07T03:47:34.187561Z",
     "start_time": "2021-07-07T03:47:34.183658Z"
    }
   },
   "outputs": [
    {
     "data": {
      "text/plain": [
       "[{'strategy': 'strat_nobust',\n",
       "  'hand_start': [4, 8],\n",
       "  'dealer_card': 11,\n",
       "  'hand_end': [4, 8],\n",
       "  'dealer_hand': [11, 13],\n",
       "  'outcome': <HandOutcome.LOSE: -1>},\n",
       " {'strategy': 'strat_dealer',\n",
       "  'hand_start': [4, 8],\n",
       "  'dealer_card': 11,\n",
       "  'hand_end': [4, 8, 6],\n",
       "  'dealer_hand': [11, 13],\n",
       "  'outcome': <HandOutcome.LOSE: -1>}]"
      ]
     },
     "execution_count": 20,
     "metadata": {},
     "output_type": "execute_result"
    }
   ],
   "source": [
    "\n",
    "def generate_row_from_player(player):\n",
    "    (strat, hand_p, hand_d, outcome) = player\n",
    "    return {'strategy': strat, 'hand_start': hand_p.cards[:2], 'dealer_card': hand_d.cards[0], 'hand_end': hand_p.cards, 'dealer_hand': hand_d.cards, 'outcome': outcome}\n",
    "\n",
    "def generate_rows_from_round(r):\n",
    "    return [generate_row_from_player(player) for player in r]\n",
    "\n",
    "\n",
    "generate_rows_from_round(play_one_round([strat_nobust, strat_dealer]))\n"
   ]
  },
  {
   "cell_type": "code",
   "execution_count": 21,
   "id": "approved-broadway",
   "metadata": {
    "ExecuteTime": {
     "end_time": "2021-07-07T03:47:34.265956Z",
     "start_time": "2021-07-07T03:47:34.189141Z"
    }
   },
   "outputs": [
    {
     "data": {
      "text/plain": [
       "(          strategy hand_start  dealer_card    hand_end       dealer_hand  \\\n",
       " 0     strat_nobust    [12, 5]            4     [12, 5]     [4, 5, 5, 13]   \n",
       " 1     strat_dealer    [12, 5]            4  [12, 5, 5]     [4, 5, 5, 13]   \n",
       " 2     strat_nobust   [12, 10]           10    [12, 10]        [10, 2, 7]   \n",
       " 3     strat_dealer   [12, 10]           10    [12, 10]        [10, 2, 7]   \n",
       " 4     strat_nobust    [6, 11]            8     [6, 11]            [8, 9]   \n",
       " ...            ...        ...          ...         ...               ...   \n",
       " 1995  strat_dealer    [1, 11]            3     [1, 11]  [3, 3, 6, 2, 13]   \n",
       " 1996  strat_nobust    [8, 10]           13     [8, 10]       [13, 3, 13]   \n",
       " 1997  strat_dealer    [8, 10]           13     [8, 10]       [13, 3, 13]   \n",
       " 1998  strat_nobust    [9, 12]            2     [9, 12]      [2, 2, 9, 7]   \n",
       " 1999  strat_dealer    [9, 12]            2     [9, 12]      [2, 2, 9, 7]   \n",
       " \n",
       "                     outcome  outcome_value outcome_name  \n",
       " 0           HandOutcome.WIN            1.0          WIN  \n",
       " 1           HandOutcome.WIN            1.0          WIN  \n",
       " 2           HandOutcome.WIN            1.0          WIN  \n",
       " 3           HandOutcome.WIN            1.0          WIN  \n",
       " 4          HandOutcome.LOSE           -1.0         LOSE  \n",
       " ...                     ...            ...          ...  \n",
       " 1995  HandOutcome.BLACKJACK            1.5    BLACKJACK  \n",
       " 1996        HandOutcome.WIN            1.0          WIN  \n",
       " 1997        HandOutcome.WIN            1.0          WIN  \n",
       " 1998       HandOutcome.LOSE           -1.0         LOSE  \n",
       " 1999       HandOutcome.LOSE           -1.0         LOSE  \n",
       " \n",
       " [2000 rows x 8 columns],\n",
       "                    len                mean_outcome\n",
       " outcome_name BLACKJACK LOSE PUSH  WIN             \n",
       " strategy                                          \n",
       " strat_dealer        47  483   94  376      -0.0365\n",
       " strat_nobust        47  520   59  374      -0.0755)"
      ]
     },
     "execution_count": 21,
     "metadata": {},
     "output_type": "execute_result"
    }
   ],
   "source": [
    "def run_n_sim_trials(strats, n):\n",
    "    sims = [generate_rows_from_round(play_one_round(strats)) for _ in range(n)]\n",
    "    results = pd.DataFrame([player for round in sims for player in round])\n",
    "    results['outcome_value'] = results['outcome'].apply(lambda x: x.value)\n",
    "    results['outcome_name'] = results['outcome'].apply(lambda x: str(x)[12:])\n",
    "    return results\n",
    "\n",
    "def summarize_totals(sims):\n",
    "    def outcome_name(x): return x.head(1) # The function name will be used as the column name\n",
    "    outcome_counts = sims.groupby(['strategy', 'outcome_value'])['outcome_name'].agg([len, outcome_name])\n",
    "    outcome_summary = outcome_counts.reset_index().set_index('strategy').drop(['outcome_value'], axis=1).pivot(columns=['outcome_name'])\n",
    "\n",
    "    # The empty cells are NaNs; fill the NaNs and convert back to int\n",
    "    for col in outcome_summary.columns:\n",
    "        outcome_summary[col] = outcome_summary[col].fillna(0).apply(int)\n",
    "        \n",
    "    outcome_summary['mean_outcome'] = sims.groupby('strategy')['outcome_value'].mean()\n",
    "    \n",
    "    return outcome_summary\n",
    "\n",
    "\n",
    "sim_results = run_n_sim_trials([strat_nobust, strat_dealer], 1000)\n",
    "sim_results, summarize_totals(sim_results)"
   ]
  },
  {
   "cell_type": "code",
   "execution_count": 22,
   "id": "varied-devil",
   "metadata": {
    "ExecuteTime": {
     "end_time": "2021-07-07T03:47:34.341161Z",
     "start_time": "2021-07-07T03:47:34.266889Z"
    }
   },
   "outputs": [
    {
     "data": {
      "text/plain": [
       "(  strategy hand_start  dealer_card     hand_end     dealer_hand  \\\n",
       " 0   simple     [7, 3]            8   [7, 3, 12]          [8, 9]   \n",
       " 1   simple     [4, 3]           11   [4, 3, 11]      [11, 3, 8]   \n",
       " 2   simple     [4, 7]            6    [4, 7, 2]       [6, 9, 8]   \n",
       " 3   simple     [6, 5]            9   [6, 5, 12]          [9, 8]   \n",
       " 4   simple    [13, 3]           13  [13, 3, 11]      [13, 6, 2]   \n",
       " 5   simple    [11, 2]            4      [11, 2]     [4, 11, 11]   \n",
       " 6   simple    [6, 11]            2   [6, 11, 7]      [2, 6, 12]   \n",
       " 7   simple    [6, 12]            2   [6, 12, 6]  [2, 11, 2, 11]   \n",
       " 8   simple     [8, 6]           10   [8, 6, 11]        [10, 11]   \n",
       " 9   simple     [8, 4]           13    [8, 4, 5]      [13, 3, 4]   \n",
       " \n",
       "                   outcome  outcome_value outcome_name  \n",
       " 0         HandOutcome.WIN            1.0          WIN  \n",
       " 1        HandOutcome.LOSE           -1.0         LOSE  \n",
       " 2  HandOutcome.WIN_DOUBLE            2.0   WIN_DOUBLE  \n",
       " 3  HandOutcome.WIN_DOUBLE            2.0   WIN_DOUBLE  \n",
       " 4        HandOutcome.LOSE           -1.0         LOSE  \n",
       " 5         HandOutcome.WIN            1.0          WIN  \n",
       " 6        HandOutcome.LOSE           -1.0         LOSE  \n",
       " 7        HandOutcome.LOSE           -1.0         LOSE  \n",
       " 8        HandOutcome.LOSE           -1.0         LOSE  \n",
       " 9        HandOutcome.PUSH            0.0         PUSH  ,\n",
       "                    len                                       mean_outcome\n",
       " outcome_name BLACKJACK LOSE LOSE_DOUBLE PUSH  WIN WIN_DOUBLE             \n",
       " strategy                                                                 \n",
       " simple              45  469          27   82  349         28      -0.0505)"
      ]
     },
     "execution_count": 22,
     "metadata": {},
     "output_type": "execute_result"
    }
   ],
   "source": [
    "def strat_simple(hand, dealer):\n",
    "    if hand.score == 11:  return Action.DOUBLE\n",
    "    if hand.score >= 17:  return Action.STAND\n",
    "    if hand.score <= 11:  return Action.HIT\n",
    "    if dealer.score in (range(3,7)):  return Action.STAND\n",
    "    else:  return Action.HIT\n",
    "        \n",
    "strat_simple.name = 'simple'\n",
    "\n",
    "\n",
    "sims = run_n_sim_trials([strat_simple], 1000)\n",
    "sims.head(10), summarize_totals(sims)"
   ]
  },
  {
   "cell_type": "code",
   "execution_count": 23,
   "id": "confirmed-passing",
   "metadata": {
    "ExecuteTime": {
     "end_time": "2021-07-07T03:47:35.044048Z",
     "start_time": "2021-07-07T03:47:34.345487Z"
    }
   },
   "outputs": [
    {
     "data": {
      "text/html": [
       "<div>\n",
       "<style scoped>\n",
       "    .dataframe tbody tr th:only-of-type {\n",
       "        vertical-align: middle;\n",
       "    }\n",
       "\n",
       "    .dataframe tbody tr th {\n",
       "        vertical-align: top;\n",
       "    }\n",
       "\n",
       "    .dataframe thead tr th {\n",
       "        text-align: left;\n",
       "    }\n",
       "\n",
       "    .dataframe thead tr:last-of-type th {\n",
       "        text-align: right;\n",
       "    }\n",
       "</style>\n",
       "<table border=\"1\" class=\"dataframe\">\n",
       "  <thead>\n",
       "    <tr>\n",
       "      <th></th>\n",
       "      <th colspan=\"6\" halign=\"left\">len</th>\n",
       "      <th>mean_outcome</th>\n",
       "    </tr>\n",
       "    <tr>\n",
       "      <th>outcome_name</th>\n",
       "      <th>BLACKJACK</th>\n",
       "      <th>LOSE</th>\n",
       "      <th>LOSE_DOUBLE</th>\n",
       "      <th>PUSH</th>\n",
       "      <th>WIN</th>\n",
       "      <th>WIN_DOUBLE</th>\n",
       "      <th></th>\n",
       "    </tr>\n",
       "    <tr>\n",
       "      <th>strategy</th>\n",
       "      <th></th>\n",
       "      <th></th>\n",
       "      <th></th>\n",
       "      <th></th>\n",
       "      <th></th>\n",
       "      <th></th>\n",
       "      <th></th>\n",
       "    </tr>\n",
       "  </thead>\n",
       "  <tbody>\n",
       "    <tr>\n",
       "      <th>simple</th>\n",
       "      <td>488</td>\n",
       "      <td>4598</td>\n",
       "      <td>255</td>\n",
       "      <td>841</td>\n",
       "      <td>3506</td>\n",
       "      <td>312</td>\n",
       "      <td>-0.0246</td>\n",
       "    </tr>\n",
       "    <tr>\n",
       "      <th>strat_dealer</th>\n",
       "      <td>488</td>\n",
       "      <td>4881</td>\n",
       "      <td>0</td>\n",
       "      <td>959</td>\n",
       "      <td>3672</td>\n",
       "      <td>0</td>\n",
       "      <td>-0.0477</td>\n",
       "    </tr>\n",
       "    <tr>\n",
       "      <th>strat_nobust</th>\n",
       "      <td>488</td>\n",
       "      <td>5155</td>\n",
       "      <td>0</td>\n",
       "      <td>618</td>\n",
       "      <td>3739</td>\n",
       "      <td>0</td>\n",
       "      <td>-0.0684</td>\n",
       "    </tr>\n",
       "  </tbody>\n",
       "</table>\n",
       "</div>"
      ],
      "text/plain": [
       "                   len                                         mean_outcome\n",
       "outcome_name BLACKJACK  LOSE LOSE_DOUBLE PUSH   WIN WIN_DOUBLE             \n",
       "strategy                                                                   \n",
       "simple             488  4598         255  841  3506        312      -0.0246\n",
       "strat_dealer       488  4881           0  959  3672          0      -0.0477\n",
       "strat_nobust       488  5155           0  618  3739          0      -0.0684"
      ]
     },
     "execution_count": 23,
     "metadata": {},
     "output_type": "execute_result"
    }
   ],
   "source": [
    "summarize_totals(run_n_sim_trials([strat_dealer, strat_nobust, strat_simple], 10000))\n"
   ]
  },
  {
   "cell_type": "markdown",
   "id": "fluid-writing",
   "metadata": {},
   "source": [
    "## Simulate specific situations to determine strategy"
   ]
  },
  {
   "cell_type": "code",
   "execution_count": 24,
   "id": "otherwise-sheffield",
   "metadata": {
    "ExecuteTime": {
     "end_time": "2021-07-07T03:47:35.048137Z",
     "start_time": "2021-07-07T03:47:35.045662Z"
    }
   },
   "outputs": [
    {
     "data": {
      "text/plain": [
       "(Hand(score=12, soft=False, cards=[5, 7], doubled=False),\n",
       " Hand(score=2, soft=False, cards=[2], doubled=False))"
      ]
     },
     "execution_count": 24,
     "metadata": {},
     "output_type": "execute_result"
    }
   ],
   "source": [
    "# 12 vs deuce\n",
    "\n",
    "hand_p = bj.make_hand([5, 7])\n",
    "hand_d = bj.make_hand([2])\n",
    "\n",
    "hand_p, hand_d"
   ]
  },
  {
   "cell_type": "code",
   "execution_count": 25,
   "id": "gross-kennedy",
   "metadata": {
    "ExecuteTime": {
     "end_time": "2021-07-07T03:47:35.051313Z",
     "start_time": "2021-07-07T03:47:35.048990Z"
    }
   },
   "outputs": [],
   "source": [
    "# Implement a strategy that composes conditions and actions\n",
    "\n",
    "def cond_12_2(hand, dealer):\n",
    "    return hand.score == 12 and dealer.score == 2 and not hand.soft\n",
    "conditions = [(cond_12_2, Action.STAND)]\n",
    "\n",
    "def generate_strat_conditional(strat_base, conditions):\n",
    "    def strat_cond(hand, dealer):\n",
    "        for (condition, action) in conditions:\n",
    "            if condition(hand, dealer): return action\n",
    "        return strat_base(hand, dealer)\n",
    "    strat_cond.name = 'strat_cond'\n",
    "    return strat_cond\n",
    "    \n",
    "strat_cond = generate_strat_conditional(strat_simple, conditions)"
   ]
  },
  {
   "cell_type": "code",
   "execution_count": 26,
   "id": "virgin-mining",
   "metadata": {
    "ExecuteTime": {
     "end_time": "2021-07-07T03:47:35.055589Z",
     "start_time": "2021-07-07T03:47:35.052153Z"
    }
   },
   "outputs": [
    {
     "data": {
      "text/plain": [
       "[<function __main__.generate_strat_conditional.<locals>.strat_cond(hand, dealer)>,\n",
       " <function __main__.generate_strat_conditional.<locals>.strat_cond(hand, dealer)>,\n",
       " <function __main__.generate_strat_conditional.<locals>.strat_cond(hand, dealer)>]"
      ]
     },
     "execution_count": 26,
     "metadata": {},
     "output_type": "execute_result"
    }
   ],
   "source": [
    "def gen_cond_strategies(strat_base, condition, actions):\n",
    "    def gen_strat_action(strat_base, condition, action):\n",
    "        strat = generate_strat_conditional(strat_base, [(condition, action)])\n",
    "        strat.name = repr(action)\n",
    "        return strat\n",
    "    \n",
    "    strats = [gen_strat_action(strat_base, condition, a) for a in actions]\n",
    "    return strats\n",
    "    \n",
    "\n",
    "\n",
    "\n",
    "strats = gen_cond_strategies(strat_simple, cond_12_2, [Action.HIT, Action.STAND, Action.DOUBLE])\n",
    "strats"
   ]
  },
  {
   "cell_type": "code",
   "execution_count": 27,
   "id": "acoustic-warrant",
   "metadata": {
    "ExecuteTime": {
     "end_time": "2021-07-07T03:47:35.060598Z",
     "start_time": "2021-07-07T03:47:35.056696Z"
    }
   },
   "outputs": [
    {
     "data": {
      "text/plain": [
       "[('<Action.HIT: 2>',\n",
       "  Hand(score=18, soft=False, cards=[5, 7, 6], doubled=False),\n",
       "  Hand(score=22, soft=False, cards=[2, 4, 2, 8, 7], doubled=False),\n",
       "  <HandOutcome.WIN: 1>),\n",
       " ('<Action.STAND: 1>',\n",
       "  Hand(score=12, soft=False, cards=[5, 7], doubled=False),\n",
       "  Hand(score=22, soft=False, cards=[2, 4, 2, 8, 7], doubled=False),\n",
       "  <HandOutcome.WIN: 1>),\n",
       " ('<Action.DOUBLE: 3>',\n",
       "  Hand(score=21, soft=False, cards=[5, 7, 9], doubled=True),\n",
       "  Hand(score=22, soft=False, cards=[2, 4, 2, 8, 7], doubled=False),\n",
       "  <HandOutcome.WIN_DOUBLE: 2>)]"
      ]
     },
     "execution_count": 27,
     "metadata": {},
     "output_type": "execute_result"
    }
   ],
   "source": [
    "complete_one_round(strats, hand_p, hand_d, deal_card())"
   ]
  },
  {
   "cell_type": "code",
   "execution_count": 28,
   "id": "economic-greene",
   "metadata": {
    "ExecuteTime": {
     "end_time": "2021-07-07T03:47:35.726279Z",
     "start_time": "2021-07-07T03:47:35.061701Z"
    }
   },
   "outputs": [
    {
     "data": {
      "text/html": [
       "<div>\n",
       "<style scoped>\n",
       "    .dataframe tbody tr th:only-of-type {\n",
       "        vertical-align: middle;\n",
       "    }\n",
       "\n",
       "    .dataframe tbody tr th {\n",
       "        vertical-align: top;\n",
       "    }\n",
       "\n",
       "    .dataframe thead tr th {\n",
       "        text-align: left;\n",
       "    }\n",
       "\n",
       "    .dataframe thead tr:last-of-type th {\n",
       "        text-align: right;\n",
       "    }\n",
       "</style>\n",
       "<table border=\"1\" class=\"dataframe\">\n",
       "  <thead>\n",
       "    <tr>\n",
       "      <th></th>\n",
       "      <th colspan=\"5\" halign=\"left\">len</th>\n",
       "      <th>mean_outcome</th>\n",
       "    </tr>\n",
       "    <tr>\n",
       "      <th>outcome_name</th>\n",
       "      <th>LOSE</th>\n",
       "      <th>LOSE_DOUBLE</th>\n",
       "      <th>PUSH</th>\n",
       "      <th>WIN</th>\n",
       "      <th>WIN_DOUBLE</th>\n",
       "      <th></th>\n",
       "    </tr>\n",
       "    <tr>\n",
       "      <th>strategy</th>\n",
       "      <th></th>\n",
       "      <th></th>\n",
       "      <th></th>\n",
       "      <th></th>\n",
       "      <th></th>\n",
       "      <th></th>\n",
       "    </tr>\n",
       "  </thead>\n",
       "  <tbody>\n",
       "    <tr>\n",
       "      <th>&lt;Action.DOUBLE: 3&gt;</th>\n",
       "      <td>0</td>\n",
       "      <td>5985</td>\n",
       "      <td>513</td>\n",
       "      <td>0</td>\n",
       "      <td>3502</td>\n",
       "      <td>-0.4966</td>\n",
       "    </tr>\n",
       "    <tr>\n",
       "      <th>&lt;Action.HIT: 2&gt;</th>\n",
       "      <td>6070</td>\n",
       "      <td>0</td>\n",
       "      <td>591</td>\n",
       "      <td>3339</td>\n",
       "      <td>0</td>\n",
       "      <td>-0.2731</td>\n",
       "    </tr>\n",
       "    <tr>\n",
       "      <th>&lt;Action.STAND: 1&gt;</th>\n",
       "      <td>6345</td>\n",
       "      <td>0</td>\n",
       "      <td>0</td>\n",
       "      <td>3655</td>\n",
       "      <td>0</td>\n",
       "      <td>-0.2690</td>\n",
       "    </tr>\n",
       "  </tbody>\n",
       "</table>\n",
       "</div>"
      ],
      "text/plain": [
       "                     len                                   mean_outcome\n",
       "outcome_name        LOSE LOSE_DOUBLE PUSH   WIN WIN_DOUBLE             \n",
       "strategy                                                               \n",
       "<Action.DOUBLE: 3>     0        5985  513     0       3502      -0.4966\n",
       "<Action.HIT: 2>     6070           0  591  3339          0      -0.2731\n",
       "<Action.STAND: 1>   6345           0    0  3655          0      -0.2690"
      ]
     },
     "execution_count": 28,
     "metadata": {},
     "output_type": "execute_result"
    }
   ],
   "source": [
    "# TODO reduce duplication with run_n_sim_trials\n",
    "def run_n_sim_trials_from_state(strats, hand_p, hand_d, n):\n",
    "    sims = [generate_rows_from_round(complete_one_round(strats, hand_p, hand_d, deal_card())) for _ in range(n)]\n",
    "    results = pd.DataFrame([player for round in sims for player in round])\n",
    "    results['outcome_value'] = results['outcome'].apply(lambda x: x.value)\n",
    "    results['outcome_name'] = results['outcome'].apply(lambda x: str(x)[12:])\n",
    "    return results\n",
    "\n",
    "sims = run_n_sim_trials_from_state(strats, hand_p, hand_d, 10000)\n",
    "summarize_totals(sims)"
   ]
  },
  {
   "cell_type": "code",
   "execution_count": 29,
   "id": "institutional-grain",
   "metadata": {
    "ExecuteTime": {
     "end_time": "2021-07-07T03:47:35.729335Z",
     "start_time": "2021-07-07T03:47:35.727198Z"
    }
   },
   "outputs": [
    {
     "data": {
      "text/plain": [
       "(Hand(score=12, soft=True, cards=[1, 1], doubled=False),\n",
       " Hand(score=2, soft=False, cards=[2], doubled=False))"
      ]
     },
     "execution_count": 29,
     "metadata": {},
     "output_type": "execute_result"
    }
   ],
   "source": [
    "# Soft 12 vs 2\n",
    "hand_12s = bj.make_hand([1, 1])\n",
    "\n",
    "hand_12s, hand_d"
   ]
  },
  {
   "cell_type": "code",
   "execution_count": 30,
   "id": "legal-uniform",
   "metadata": {
    "ExecuteTime": {
     "end_time": "2021-07-07T03:47:35.732713Z",
     "start_time": "2021-07-07T03:47:35.730211Z"
    }
   },
   "outputs": [
    {
     "data": {
      "text/plain": [
       "[<function __main__.generate_strat_conditional.<locals>.strat_cond(hand, dealer)>,\n",
       " <function __main__.generate_strat_conditional.<locals>.strat_cond(hand, dealer)>,\n",
       " <function __main__.generate_strat_conditional.<locals>.strat_cond(hand, dealer)>]"
      ]
     },
     "execution_count": 30,
     "metadata": {},
     "output_type": "execute_result"
    }
   ],
   "source": [
    "def cond_12s_2(hand, dealer):\n",
    "    return hand.score == 12 and dealer.score == 2 and hand.soft\n",
    "\n",
    "strats = gen_cond_strategies(strat_simple, cond_12s_2, [Action.HIT, Action.STAND, Action.DOUBLE])\n",
    "strats"
   ]
  },
  {
   "cell_type": "code",
   "execution_count": 31,
   "id": "british-logging",
   "metadata": {
    "ExecuteTime": {
     "end_time": "2021-07-07T03:47:36.663980Z",
     "start_time": "2021-07-07T03:47:35.733483Z"
    }
   },
   "outputs": [
    {
     "data": {
      "text/html": [
       "<div>\n",
       "<style scoped>\n",
       "    .dataframe tbody tr th:only-of-type {\n",
       "        vertical-align: middle;\n",
       "    }\n",
       "\n",
       "    .dataframe tbody tr th {\n",
       "        vertical-align: top;\n",
       "    }\n",
       "\n",
       "    .dataframe thead tr th {\n",
       "        text-align: left;\n",
       "    }\n",
       "\n",
       "    .dataframe thead tr:last-of-type th {\n",
       "        text-align: right;\n",
       "    }\n",
       "</style>\n",
       "<table border=\"1\" class=\"dataframe\">\n",
       "  <thead>\n",
       "    <tr>\n",
       "      <th></th>\n",
       "      <th colspan=\"5\" halign=\"left\">len</th>\n",
       "      <th>mean_outcome</th>\n",
       "    </tr>\n",
       "    <tr>\n",
       "      <th>outcome_name</th>\n",
       "      <th>LOSE</th>\n",
       "      <th>LOSE_DOUBLE</th>\n",
       "      <th>PUSH</th>\n",
       "      <th>WIN</th>\n",
       "      <th>WIN_DOUBLE</th>\n",
       "      <th></th>\n",
       "    </tr>\n",
       "    <tr>\n",
       "      <th>strategy</th>\n",
       "      <th></th>\n",
       "      <th></th>\n",
       "      <th></th>\n",
       "      <th></th>\n",
       "      <th></th>\n",
       "      <th></th>\n",
       "    </tr>\n",
       "  </thead>\n",
       "  <tbody>\n",
       "    <tr>\n",
       "      <th>&lt;Action.DOUBLE: 3&gt;</th>\n",
       "      <td>0</td>\n",
       "      <td>6420</td>\n",
       "      <td>0</td>\n",
       "      <td>0</td>\n",
       "      <td>3580</td>\n",
       "      <td>-0.5680</td>\n",
       "    </tr>\n",
       "    <tr>\n",
       "      <th>&lt;Action.HIT: 2&gt;</th>\n",
       "      <td>4829</td>\n",
       "      <td>459</td>\n",
       "      <td>783</td>\n",
       "      <td>3181</td>\n",
       "      <td>748</td>\n",
       "      <td>-0.1070</td>\n",
       "    </tr>\n",
       "    <tr>\n",
       "      <th>&lt;Action.STAND: 1&gt;</th>\n",
       "      <td>6420</td>\n",
       "      <td>0</td>\n",
       "      <td>0</td>\n",
       "      <td>3580</td>\n",
       "      <td>0</td>\n",
       "      <td>-0.2840</td>\n",
       "    </tr>\n",
       "    <tr>\n",
       "      <th>simple</th>\n",
       "      <td>4863</td>\n",
       "      <td>426</td>\n",
       "      <td>817</td>\n",
       "      <td>3160</td>\n",
       "      <td>734</td>\n",
       "      <td>-0.1087</td>\n",
       "    </tr>\n",
       "  </tbody>\n",
       "</table>\n",
       "</div>"
      ],
      "text/plain": [
       "                     len                                   mean_outcome\n",
       "outcome_name        LOSE LOSE_DOUBLE PUSH   WIN WIN_DOUBLE             \n",
       "strategy                                                               \n",
       "<Action.DOUBLE: 3>     0        6420    0     0       3580      -0.5680\n",
       "<Action.HIT: 2>     4829         459  783  3181        748      -0.1070\n",
       "<Action.STAND: 1>   6420           0    0  3580          0      -0.2840\n",
       "simple              4863         426  817  3160        734      -0.1087"
      ]
     },
     "execution_count": 31,
     "metadata": {},
     "output_type": "execute_result"
    }
   ],
   "source": [
    "sims = run_n_sim_trials_from_state(strats+[strat_simple], hand_12s, hand_d, 10000)\n",
    "summarize_totals(sims)"
   ]
  },
  {
   "cell_type": "code",
   "execution_count": 32,
   "id": "based-subscription",
   "metadata": {
    "ExecuteTime": {
     "end_time": "2021-07-07T03:47:41.993668Z",
     "start_time": "2021-07-07T03:47:36.665216Z"
    }
   },
   "outputs": [
    {
     "data": {
      "text/html": [
       "<div>\n",
       "<style scoped>\n",
       "    .dataframe tbody tr th:only-of-type {\n",
       "        vertical-align: middle;\n",
       "    }\n",
       "\n",
       "    .dataframe tbody tr th {\n",
       "        vertical-align: top;\n",
       "    }\n",
       "\n",
       "    .dataframe thead tr th {\n",
       "        text-align: left;\n",
       "    }\n",
       "\n",
       "    .dataframe thead tr:last-of-type th {\n",
       "        text-align: right;\n",
       "    }\n",
       "</style>\n",
       "<table border=\"1\" class=\"dataframe\">\n",
       "  <thead>\n",
       "    <tr>\n",
       "      <th></th>\n",
       "      <th colspan=\"3\" halign=\"left\">len</th>\n",
       "      <th>mean_outcome</th>\n",
       "    </tr>\n",
       "    <tr>\n",
       "      <th>outcome_name</th>\n",
       "      <th>LOSE</th>\n",
       "      <th>PUSH</th>\n",
       "      <th>WIN</th>\n",
       "      <th></th>\n",
       "    </tr>\n",
       "    <tr>\n",
       "      <th>strategy</th>\n",
       "      <th></th>\n",
       "      <th></th>\n",
       "      <th></th>\n",
       "      <th></th>\n",
       "    </tr>\n",
       "  </thead>\n",
       "  <tbody>\n",
       "    <tr>\n",
       "      <th>simple</th>\n",
       "      <td>60776</td>\n",
       "      <td>6618</td>\n",
       "      <td>32606</td>\n",
       "      <td>-0.28170</td>\n",
       "    </tr>\n",
       "    <tr>\n",
       "      <th>strat_cond</th>\n",
       "      <td>63799</td>\n",
       "      <td>0</td>\n",
       "      <td>36201</td>\n",
       "      <td>-0.27598</td>\n",
       "    </tr>\n",
       "  </tbody>\n",
       "</table>\n",
       "</div>"
      ],
      "text/plain": [
       "                len              mean_outcome\n",
       "outcome_name   LOSE  PUSH    WIN             \n",
       "strategy                                     \n",
       "simple        60776  6618  32606     -0.28170\n",
       "strat_cond    63799     0  36201     -0.27598"
      ]
     },
     "execution_count": 32,
     "metadata": {},
     "output_type": "execute_result"
    }
   ],
   "source": [
    "summarize_totals(run_n_sim_trials_from_state([strat_simple, strat_cond], hand_p, hand_d, 100*1000))"
   ]
  },
  {
   "cell_type": "code",
   "execution_count": 33,
   "id": "vietnamese-spray",
   "metadata": {
    "ExecuteTime": {
     "end_time": "2021-07-07T03:47:50.245920Z",
     "start_time": "2021-07-07T03:47:41.994597Z"
    }
   },
   "outputs": [
    {
     "data": {
      "text/html": [
       "<div>\n",
       "<style scoped>\n",
       "    .dataframe tbody tr th:only-of-type {\n",
       "        vertical-align: middle;\n",
       "    }\n",
       "\n",
       "    .dataframe tbody tr th {\n",
       "        vertical-align: top;\n",
       "    }\n",
       "\n",
       "    .dataframe thead tr th {\n",
       "        text-align: left;\n",
       "    }\n",
       "\n",
       "    .dataframe thead tr:last-of-type th {\n",
       "        text-align: right;\n",
       "    }\n",
       "</style>\n",
       "<table border=\"1\" class=\"dataframe\">\n",
       "  <thead>\n",
       "    <tr>\n",
       "      <th></th>\n",
       "      <th colspan=\"5\" halign=\"left\">len</th>\n",
       "      <th>mean_outcome</th>\n",
       "    </tr>\n",
       "    <tr>\n",
       "      <th>outcome_name</th>\n",
       "      <th>LOSE</th>\n",
       "      <th>LOSE_DOUBLE</th>\n",
       "      <th>PUSH</th>\n",
       "      <th>WIN</th>\n",
       "      <th>WIN_DOUBLE</th>\n",
       "      <th></th>\n",
       "    </tr>\n",
       "    <tr>\n",
       "      <th>strategy</th>\n",
       "      <th></th>\n",
       "      <th></th>\n",
       "      <th></th>\n",
       "      <th></th>\n",
       "      <th></th>\n",
       "      <th></th>\n",
       "    </tr>\n",
       "  </thead>\n",
       "  <tbody>\n",
       "    <tr>\n",
       "      <th>&lt;Action.DOUBLE: 3&gt;</th>\n",
       "      <td>0</td>\n",
       "      <td>57595</td>\n",
       "      <td>0</td>\n",
       "      <td>0</td>\n",
       "      <td>42405</td>\n",
       "      <td>-0.30380</td>\n",
       "    </tr>\n",
       "    <tr>\n",
       "      <th>&lt;Action.HIT: 2&gt;</th>\n",
       "      <td>45087</td>\n",
       "      <td>3265</td>\n",
       "      <td>3065</td>\n",
       "      <td>41728</td>\n",
       "      <td>6855</td>\n",
       "      <td>0.03821</td>\n",
       "    </tr>\n",
       "    <tr>\n",
       "      <th>&lt;Action.STAND: 1&gt;</th>\n",
       "      <td>57595</td>\n",
       "      <td>0</td>\n",
       "      <td>0</td>\n",
       "      <td>42405</td>\n",
       "      <td>0</td>\n",
       "      <td>-0.15190</td>\n",
       "    </tr>\n",
       "    <tr>\n",
       "      <th>simple</th>\n",
       "      <td>57595</td>\n",
       "      <td>0</td>\n",
       "      <td>0</td>\n",
       "      <td>42405</td>\n",
       "      <td>0</td>\n",
       "      <td>-0.15190</td>\n",
       "    </tr>\n",
       "  </tbody>\n",
       "</table>\n",
       "</div>"
      ],
      "text/plain": [
       "                      len                                     mean_outcome\n",
       "outcome_name         LOSE LOSE_DOUBLE  PUSH    WIN WIN_DOUBLE             \n",
       "strategy                                                                  \n",
       "<Action.DOUBLE: 3>      0       57595     0      0      42405     -0.30380\n",
       "<Action.HIT: 2>     45087        3265  3065  41728       6855      0.03821\n",
       "<Action.STAND: 1>   57595           0     0  42405          0     -0.15190\n",
       "simple              57595           0     0  42405          0     -0.15190"
      ]
     },
     "execution_count": 33,
     "metadata": {},
     "output_type": "execute_result"
    }
   ],
   "source": [
    "# soft 13 vs 6\n",
    "def cond_13s_6(hand, dealer):\n",
    "    return hand.score == 13 and dealer.score == 6 and hand.soft\n",
    "\n",
    "\n",
    "\n",
    "strats = gen_cond_strategies(strat_simple, cond_13s_6, [Action.HIT, Action.STAND, Action.DOUBLE])\n",
    "sims = run_n_sim_trials_from_state(strats+[strat_simple], bj.make_hand([1, 2]), bj.make_hand([6]), 100000)\n",
    "summarize_totals(sims)"
   ]
  },
  {
   "cell_type": "code",
   "execution_count": 34,
   "id": "liable-painting",
   "metadata": {
    "ExecuteTime": {
     "end_time": "2021-07-07T03:47:51.171674Z",
     "start_time": "2021-07-07T03:47:50.247105Z"
    }
   },
   "outputs": [
    {
     "data": {
      "text/html": [
       "<div>\n",
       "<style scoped>\n",
       "    .dataframe tbody tr th:only-of-type {\n",
       "        vertical-align: middle;\n",
       "    }\n",
       "\n",
       "    .dataframe tbody tr th {\n",
       "        vertical-align: top;\n",
       "    }\n",
       "\n",
       "    .dataframe thead tr th {\n",
       "        text-align: left;\n",
       "    }\n",
       "\n",
       "    .dataframe thead tr:last-of-type th {\n",
       "        text-align: right;\n",
       "    }\n",
       "</style>\n",
       "<table border=\"1\" class=\"dataframe\">\n",
       "  <thead>\n",
       "    <tr>\n",
       "      <th></th>\n",
       "      <th colspan=\"5\" halign=\"left\">len</th>\n",
       "      <th>mean_outcome</th>\n",
       "    </tr>\n",
       "    <tr>\n",
       "      <th>outcome_name</th>\n",
       "      <th>LOSE</th>\n",
       "      <th>LOSE_DOUBLE</th>\n",
       "      <th>PUSH</th>\n",
       "      <th>WIN</th>\n",
       "      <th>WIN_DOUBLE</th>\n",
       "      <th></th>\n",
       "    </tr>\n",
       "    <tr>\n",
       "      <th>strategy</th>\n",
       "      <th></th>\n",
       "      <th></th>\n",
       "      <th></th>\n",
       "      <th></th>\n",
       "      <th></th>\n",
       "      <th></th>\n",
       "    </tr>\n",
       "  </thead>\n",
       "  <tbody>\n",
       "    <tr>\n",
       "      <th>&lt;Action.DOUBLE: 3&gt;</th>\n",
       "      <td>0</td>\n",
       "      <td>3086</td>\n",
       "      <td>703</td>\n",
       "      <td>0</td>\n",
       "      <td>6211</td>\n",
       "      <td>0.6250</td>\n",
       "    </tr>\n",
       "    <tr>\n",
       "      <th>&lt;Action.HIT: 2&gt;</th>\n",
       "      <td>3164</td>\n",
       "      <td>0</td>\n",
       "      <td>686</td>\n",
       "      <td>6150</td>\n",
       "      <td>0</td>\n",
       "      <td>0.2986</td>\n",
       "    </tr>\n",
       "    <tr>\n",
       "      <th>&lt;Action.STAND: 1&gt;</th>\n",
       "      <td>5668</td>\n",
       "      <td>0</td>\n",
       "      <td>0</td>\n",
       "      <td>4332</td>\n",
       "      <td>0</td>\n",
       "      <td>-0.1336</td>\n",
       "    </tr>\n",
       "    <tr>\n",
       "      <th>simple</th>\n",
       "      <td>3152</td>\n",
       "      <td>0</td>\n",
       "      <td>710</td>\n",
       "      <td>6138</td>\n",
       "      <td>0</td>\n",
       "      <td>0.2986</td>\n",
       "    </tr>\n",
       "  </tbody>\n",
       "</table>\n",
       "</div>"
      ],
      "text/plain": [
       "                     len                                   mean_outcome\n",
       "outcome_name        LOSE LOSE_DOUBLE PUSH   WIN WIN_DOUBLE             \n",
       "strategy                                                               \n",
       "<Action.DOUBLE: 3>     0        3086  703     0       6211       0.6250\n",
       "<Action.HIT: 2>     3164           0  686  6150          0       0.2986\n",
       "<Action.STAND: 1>   5668           0    0  4332          0      -0.1336\n",
       "simple              3152           0  710  6138          0       0.2986"
      ]
     },
     "execution_count": 34,
     "metadata": {},
     "output_type": "execute_result"
    }
   ],
   "source": [
    "# 10 v 6\n",
    "def cond_10_6(hand, dealer):\n",
    "    return hand.score == 10 and dealer.score == 6 and not hand.soft\n",
    "\n",
    "strats = gen_cond_strategies(strat_simple, cond_10_6, [Action.HIT, Action.STAND, Action.DOUBLE])\n",
    "sims = run_n_sim_trials_from_state(strats+[strat_simple], make_hand([5, 5]), make_hand([6]), 10000)\n",
    "summarize_totals(sims)"
   ]
  },
  {
   "cell_type": "code",
   "execution_count": 35,
   "id": "serious-briefs",
   "metadata": {
    "ExecuteTime": {
     "end_time": "2021-07-07T03:47:51.209755Z",
     "start_time": "2021-07-07T03:47:51.172558Z"
    }
   },
   "outputs": [
    {
     "name": "stdout",
     "output_type": "stream",
     "text": [
      "                    len                                  mean_outcome\n",
      "outcome_name       LOSE LOSE_DOUBLE PUSH  WIN WIN_DOUBLE             \n",
      "strategy                                                             \n",
      "<Action.DOUBLE: 3>    0          62   12    0        126        0.640\n",
      "<Action.HIT: 2>      60           0   13  127          0        0.335\n",
      "<Action.STAND: 1>   110           0    0   90          0       -0.100\n"
     ]
    },
    {
     "data": {
      "text/plain": [
       "(<function __main__.test_cond.<locals>.cond(h, d)>,\n",
       "                     len                                  mean_outcome\n",
       " outcome_name       LOSE LOSE_DOUBLE PUSH  WIN WIN_DOUBLE             \n",
       " strategy                                                             \n",
       " <Action.DOUBLE: 3>    0          62   12    0        126        0.640\n",
       " <Action.HIT: 2>      60           0   13  127          0        0.335\n",
       " <Action.STAND: 1>   110           0    0   90          0       -0.100)"
      ]
     },
     "execution_count": 35,
     "metadata": {},
     "output_type": "execute_result"
    }
   ],
   "source": [
    "ACTIONS = [Action.HIT, Action.STAND, Action.DOUBLE]\n",
    "\n",
    "def test_cond(score_p, score_d, n):\n",
    "    def cond(h, d):\n",
    "        return h.score == score_p and d.score == score_d\n",
    "    strats = gen_cond_strategies(strat_simple, cond, ACTIONS)\n",
    "    hand = make_hand([8, score_p-8]) # This will only work for 10 through 18 \n",
    "    sims = run_n_sim_trials_from_state(strats, hand, make_hand([score_d]), n)\n",
    "    print(summarize_totals(sims))\n",
    "    return cond, summarize_totals(sims)\n",
    "\n",
    "test_cond(10, 6, 200)"
   ]
  },
  {
   "cell_type": "code",
   "execution_count": 36,
   "id": "manual-anime",
   "metadata": {
    "ExecuteTime": {
     "end_time": "2021-07-07T03:47:51.262149Z",
     "start_time": "2021-07-07T03:47:51.210799Z"
    }
   },
   "outputs": [
    {
     "name": "stdout",
     "output_type": "stream",
     "text": [
      "                    len                                  mean_outcome\n",
      "outcome_name       LOSE LOSE_DOUBLE PUSH  WIN WIN_DOUBLE             \n",
      "strategy                                                             \n",
      "<Action.DOUBLE: 3>    0          64   12    0        124        0.600\n",
      "<Action.HIT: 2>      67           0   15  118          0        0.255\n",
      "<Action.STAND: 1>   113           0    0   87          0       -0.130\n"
     ]
    },
    {
     "data": {
      "text/plain": [
       "(<function __main__.test_cond.<locals>.cond(h, d)>, <Action.DOUBLE: 3>)"
      ]
     },
     "execution_count": 36,
     "metadata": {},
     "output_type": "execute_result"
    }
   ],
   "source": [
    "def find_winning_action(score_p, score_d, n):\n",
    "    cond, summary = test_cond(score_p, score_d, n)\n",
    "    outcomes = summary['mean_outcome']\n",
    "    winner = outcomes[outcomes==outcomes.max()].index[0]\n",
    "    winning_act = [a for a in ACTIONS if repr(a)==winner][0]\n",
    "    return (cond, winning_act)\n",
    "\n",
    "find_winning_action(10, 6, 200)"
   ]
  },
  {
   "cell_type": "code",
   "execution_count": 37,
   "id": "behind-seattle",
   "metadata": {
    "ExecuteTime": {
     "end_time": "2021-07-07T03:47:58.720506Z",
     "start_time": "2021-07-07T03:47:51.263217Z"
    }
   },
   "outputs": [
    {
     "name": "stdout",
     "output_type": "stream",
     "text": [
      "                    len           mean_outcome\n",
      "outcome_name       LOSE PUSH  WIN             \n",
      "strategy                                      \n",
      "<Action.DOUBLE: 3>  562  108  330       -0.232\n",
      "<Action.HIT: 2>     549   94  357       -0.192\n",
      "<Action.STAND: 1>   539   90  371       -0.168\n",
      "                    len                                  mean_outcome\n",
      "outcome_name       LOSE LOSE_DOUBLE PUSH  WIN WIN_DOUBLE             \n",
      "strategy                                                             \n",
      "<Action.DOUBLE: 3>    0         368   73    0        559        0.382\n",
      "<Action.HIT: 2>     372           0  102  526          0        0.154\n",
      "<Action.STAND: 1>   651           0    0  349          0       -0.302\n",
      "                    len                                  mean_outcome\n",
      "outcome_name       LOSE LOSE_DOUBLE PUSH  WIN WIN_DOUBLE             \n",
      "strategy                                                             \n",
      "<Action.DOUBLE: 3>    0         345   77    0        578        0.466\n",
      "<Action.HIT: 2>     341           0   89  570          0        0.229\n",
      "<Action.STAND: 1>   606           0    0  394          0       -0.212\n",
      "                    len                                  mean_outcome\n",
      "outcome_name       LOSE LOSE_DOUBLE PUSH  WIN WIN_DOUBLE             \n",
      "strategy                                                             \n",
      "<Action.DOUBLE: 3>    0         357   60    0        583        0.452\n",
      "<Action.HIT: 2>     339           0   68  593          0        0.254\n",
      "<Action.STAND: 1>   602           0    0  398          0       -0.204\n",
      "                    len                                  mean_outcome\n",
      "outcome_name       LOSE LOSE_DOUBLE PUSH  WIN WIN_DOUBLE             \n",
      "strategy                                                             \n",
      "<Action.DOUBLE: 3>    0         341   67    0        592        0.502\n",
      "<Action.HIT: 2>     365           0   64  571          0        0.206\n",
      "<Action.STAND: 1>   578           0    0  422          0       -0.156\n",
      "                    len                                  mean_outcome\n",
      "outcome_name       LOSE LOSE_DOUBLE PUSH  WIN WIN_DOUBLE             \n",
      "strategy                                                             \n",
      "<Action.DOUBLE: 3>    0         296   78    0        626        0.660\n",
      "<Action.HIT: 2>     310           0   60  630          0        0.320\n",
      "<Action.STAND: 1>   571           0    0  429          0       -0.142\n",
      "                    len                                  mean_outcome\n",
      "outcome_name       LOSE LOSE_DOUBLE PUSH  WIN WIN_DOUBLE             \n",
      "strategy                                                             \n",
      "<Action.DOUBLE: 3>    0         385   72    0        543        0.316\n",
      "<Action.HIT: 2>     315           0  112  573          0        0.258\n",
      "<Action.STAND: 1>   757           0    0  243          0       -0.514\n",
      "                    len                                  mean_outcome\n",
      "outcome_name       LOSE LOSE_DOUBLE PUSH  WIN WIN_DOUBLE             \n",
      "strategy                                                             \n",
      "<Action.DOUBLE: 3>    0         402   68    0        530        0.256\n",
      "<Action.HIT: 2>     332           0  125  543          0        0.211\n",
      "<Action.STAND: 1>   761           0    0  239          0       -0.522\n",
      "                    len                                  mean_outcome\n",
      "outcome_name       LOSE LOSE_DOUBLE PUSH  WIN WIN_DOUBLE             \n",
      "strategy                                                             \n",
      "<Action.DOUBLE: 3>    0         406   87    0        507        0.202\n",
      "<Action.HIT: 2>     371           0  117  512          0        0.141\n",
      "<Action.STAND: 1>   763           0    0  237          0       -0.526\n",
      "                    len                                  mean_outcome\n",
      "outcome_name       LOSE LOSE_DOUBLE PUSH  WIN WIN_DOUBLE             \n",
      "strategy                                                             \n",
      "<Action.DOUBLE: 3>    0         486  148    0        366       -0.240\n",
      "<Action.HIT: 2>     445           0  178  377          0       -0.068\n",
      "<Action.STAND: 1>   797           0    0  203          0       -0.594\n",
      "                           len                 mean_outcome\n",
      "outcome_name       LOSE_DOUBLE PUSH WIN_DOUBLE             \n",
      "strategy                                                   \n",
      "<Action.DOUBLE: 3>         548   55        397       -0.302\n",
      "<Action.HIT: 2>            597   53        350       -0.494\n",
      "<Action.STAND: 1>          597   52        351       -0.492\n",
      "                    len                                  mean_outcome\n",
      "outcome_name       LOSE LOSE_DOUBLE PUSH  WIN WIN_DOUBLE             \n",
      "strategy                                                             \n",
      "<Action.DOUBLE: 3>    0         365   67    0        568        0.406\n",
      "<Action.HIT: 2>     371           0   93  536          0        0.165\n",
      "<Action.STAND: 1>   658           0    0  342          0       -0.316\n",
      "                    len                                  mean_outcome\n",
      "outcome_name       LOSE LOSE_DOUBLE PUSH  WIN WIN_DOUBLE             \n",
      "strategy                                                             \n",
      "<Action.DOUBLE: 3>    0         316   79    0        605        0.578\n",
      "<Action.HIT: 2>     319           0   79  602          0        0.283\n",
      "<Action.STAND: 1>   603           0    0  397          0       -0.206\n",
      "                    len                                  mean_outcome\n",
      "outcome_name       LOSE LOSE_DOUBLE PUSH  WIN WIN_DOUBLE             \n",
      "strategy                                                             \n",
      "<Action.DOUBLE: 3>    0         311   65    0        624        0.626\n",
      "<Action.HIT: 2>     313           0   73  614          0        0.301\n",
      "<Action.STAND: 1>   591           0    0  409          0       -0.182\n",
      "                    len                                  mean_outcome\n",
      "outcome_name       LOSE LOSE_DOUBLE PUSH  WIN WIN_DOUBLE             \n",
      "strategy                                                             \n",
      "<Action.DOUBLE: 3>    0         305   57    0        638        0.666\n",
      "<Action.HIT: 2>     291           0   70  639          0        0.348\n",
      "<Action.STAND: 1>   577           0    0  423          0       -0.154\n",
      "                    len                                  mean_outcome\n",
      "outcome_name       LOSE LOSE_DOUBLE PUSH  WIN WIN_DOUBLE             \n",
      "strategy                                                             \n",
      "<Action.DOUBLE: 3>    0         324   65    0        611        0.574\n",
      "<Action.HIT: 2>     298           0   64  638          0        0.340\n",
      "<Action.STAND: 1>   591           0    0  409          0       -0.182\n",
      "                    len                                  mean_outcome\n",
      "outcome_name       LOSE LOSE_DOUBLE PUSH  WIN WIN_DOUBLE             \n",
      "strategy                                                             \n",
      "<Action.DOUBLE: 3>    0         353   73    0        574        0.442\n",
      "<Action.HIT: 2>     285           0   98  617          0        0.332\n",
      "<Action.STAND: 1>   744           0    0  256          0       -0.488\n",
      "                    len                                  mean_outcome\n",
      "outcome_name       LOSE LOSE_DOUBLE PUSH  WIN WIN_DOUBLE             \n",
      "strategy                                                             \n",
      "<Action.DOUBLE: 3>    0         375   61    0        564        0.378\n",
      "<Action.HIT: 2>     333           0  106  561          0        0.228\n",
      "<Action.STAND: 1>   772           0    0  228          0       -0.544\n",
      "                    len                                  mean_outcome\n",
      "outcome_name       LOSE LOSE_DOUBLE PUSH  WIN WIN_DOUBLE             \n",
      "strategy                                                             \n",
      "<Action.DOUBLE: 3>    0         379   57    0        564        0.370\n",
      "<Action.HIT: 2>     354           0   94  552          0        0.198\n",
      "<Action.STAND: 1>   743           0    0  257          0       -0.486\n",
      "                    len                                  mean_outcome\n",
      "outcome_name       LOSE LOSE_DOUBLE PUSH  WIN WIN_DOUBLE             \n",
      "strategy                                                             \n",
      "<Action.DOUBLE: 3>    0         431   56    0        513        0.164\n",
      "<Action.HIT: 2>     434           0   89  477          0        0.043\n",
      "<Action.STAND: 1>   794           0    0  206          0       -0.588\n"
     ]
    },
    {
     "name": "stdout",
     "output_type": "stream",
     "text": [
      "                    len           mean_outcome\n",
      "outcome_name       LOSE PUSH  WIN             \n",
      "strategy                                      \n",
      "<Action.DOUBLE: 3>  736   49  215       -0.521\n",
      "<Action.HIT: 2>     715   56  229       -0.486\n",
      "<Action.STAND: 1>   721   64  215       -0.506\n",
      "                    len                                  mean_outcome\n",
      "outcome_name       LOSE LOSE_DOUBLE PUSH  WIN WIN_DOUBLE             \n",
      "strategy                                                             \n",
      "<Action.DOUBLE: 3>    0         607   49    0        344       -0.526\n",
      "<Action.HIT: 2>     582           0   66  352          0       -0.230\n",
      "<Action.STAND: 1>   662           0    0  338          0       -0.324\n",
      "                    len                                  mean_outcome\n",
      "outcome_name       LOSE LOSE_DOUBLE PUSH  WIN WIN_DOUBLE             \n",
      "strategy                                                             \n",
      "<Action.DOUBLE: 3>    0         577   47    0        376       -0.402\n",
      "<Action.HIT: 2>     566           0   49  385          0       -0.181\n",
      "<Action.STAND: 1>   588           0    0  412          0       -0.176\n",
      "                    len                                  mean_outcome\n",
      "outcome_name       LOSE LOSE_DOUBLE PUSH  WIN WIN_DOUBLE             \n",
      "strategy                                                             \n",
      "<Action.DOUBLE: 3>    0         566   64    0        370       -0.392\n",
      "<Action.HIT: 2>     585           0   37  378          0       -0.207\n",
      "<Action.STAND: 1>   623           0    0  377          0       -0.246\n",
      "                    len                                  mean_outcome\n",
      "outcome_name       LOSE LOSE_DOUBLE PUSH  WIN WIN_DOUBLE             \n",
      "strategy                                                             \n",
      "<Action.DOUBLE: 3>    0         549   38    0        413       -0.272\n",
      "<Action.HIT: 2>     586           0   30  384          0       -0.202\n",
      "<Action.STAND: 1>   572           0    0  428          0       -0.144\n",
      "                    len                                  mean_outcome\n",
      "outcome_name       LOSE LOSE_DOUBLE PUSH  WIN WIN_DOUBLE             \n",
      "strategy                                                             \n",
      "<Action.DOUBLE: 3>    0         574   52    0        374       -0.400\n",
      "<Action.HIT: 2>     556           0   67  377          0       -0.179\n",
      "<Action.STAND: 1>   580           0    0  420          0       -0.160\n",
      "                    len                                  mean_outcome\n",
      "outcome_name       LOSE LOSE_DOUBLE PUSH  WIN WIN_DOUBLE             \n",
      "strategy                                                             \n",
      "<Action.DOUBLE: 3>    0         596   53    0        351        -0.49\n",
      "<Action.HIT: 2>     524           0   82  394          0        -0.13\n",
      "<Action.STAND: 1>   740           0    0  260          0        -0.48\n",
      "                    len                                  mean_outcome\n",
      "outcome_name       LOSE LOSE_DOUBLE PUSH  WIN WIN_DOUBLE             \n",
      "strategy                                                             \n",
      "<Action.DOUBLE: 3>    0         615   60    0        325       -0.580\n",
      "<Action.HIT: 2>     600           0   68  332          0       -0.268\n",
      "<Action.STAND: 1>   757           0    0  243          0       -0.514\n",
      "                    len                                  mean_outcome\n",
      "outcome_name       LOSE LOSE_DOUBLE PUSH  WIN WIN_DOUBLE             \n",
      "strategy                                                             \n",
      "<Action.DOUBLE: 3>    0         656   51    0        293       -0.726\n",
      "<Action.HIT: 2>     615           0   92  293          0       -0.322\n",
      "<Action.STAND: 1>   755           0    0  245          0       -0.510\n",
      "                    len                                  mean_outcome\n",
      "outcome_name       LOSE LOSE_DOUBLE PUSH  WIN WIN_DOUBLE             \n",
      "strategy                                                             \n",
      "<Action.DOUBLE: 3>    0         683   40    0        277       -0.812\n",
      "<Action.HIT: 2>     676           0   78  246          0       -0.430\n",
      "<Action.STAND: 1>   769           0    0  231          0       -0.538\n",
      "                    len           mean_outcome\n",
      "outcome_name       LOSE PUSH  WIN             \n",
      "strategy                                      \n",
      "<Action.DOUBLE: 3>  748   36  216       -0.532\n",
      "<Action.HIT: 2>     753   57  190       -0.563\n",
      "<Action.STAND: 1>   731   60  209       -0.522\n",
      "                    len                                  mean_outcome\n",
      "outcome_name       LOSE LOSE_DOUBLE PUSH  WIN WIN_DOUBLE             \n",
      "strategy                                                             \n",
      "<Action.DOUBLE: 3>    0         602   48    0        350       -0.504\n",
      "<Action.HIT: 2>     634           0   56  310          0       -0.324\n",
      "<Action.STAND: 1>   632           0    0  368          0       -0.264\n",
      "                    len                                  mean_outcome\n",
      "outcome_name       LOSE LOSE_DOUBLE PUSH  WIN WIN_DOUBLE             \n",
      "strategy                                                             \n",
      "<Action.DOUBLE: 3>    0         606   52    0        342       -0.528\n",
      "<Action.HIT: 2>     637           0   53  310          0       -0.327\n",
      "<Action.STAND: 1>   615           0    0  385          0       -0.230\n",
      "                    len                                  mean_outcome\n",
      "outcome_name       LOSE LOSE_DOUBLE PUSH  WIN WIN_DOUBLE             \n",
      "strategy                                                             \n",
      "<Action.DOUBLE: 3>    0         613   48    0        339       -0.548\n",
      "<Action.HIT: 2>     608           0   57  335          0       -0.273\n",
      "<Action.STAND: 1>   605           0    0  395          0       -0.210\n",
      "                    len                                  mean_outcome\n",
      "outcome_name       LOSE LOSE_DOUBLE PUSH  WIN WIN_DOUBLE             \n",
      "strategy                                                             \n",
      "<Action.DOUBLE: 3>    0         586   42    0        372       -0.428\n",
      "<Action.HIT: 2>     577           0   52  371          0       -0.206\n",
      "<Action.STAND: 1>   539           0    0  461          0       -0.078\n",
      "                    len                                  mean_outcome\n",
      "outcome_name       LOSE LOSE_DOUBLE PUSH  WIN WIN_DOUBLE             \n",
      "strategy                                                             \n",
      "<Action.DOUBLE: 3>    0         590   36    0        374       -0.432\n",
      "<Action.HIT: 2>     576           0   37  387          0       -0.189\n",
      "<Action.STAND: 1>   548           0    0  452          0       -0.096\n",
      "                    len                                  mean_outcome\n",
      "outcome_name       LOSE LOSE_DOUBLE PUSH  WIN WIN_DOUBLE             \n",
      "strategy                                                             \n",
      "<Action.DOUBLE: 3>    0         614   54    0        332       -0.564\n",
      "<Action.HIT: 2>     614           0   68  318          0       -0.296\n",
      "<Action.STAND: 1>   749           0    0  251          0       -0.498\n",
      "                    len                                  mean_outcome\n",
      "outcome_name       LOSE LOSE_DOUBLE PUSH  WIN WIN_DOUBLE             \n",
      "strategy                                                             \n",
      "<Action.DOUBLE: 3>    0         642   42    0        316       -0.652\n",
      "<Action.HIT: 2>     633           0   66  301          0       -0.332\n",
      "<Action.STAND: 1>   755           0    0  245          0       -0.510\n",
      "                    len                                  mean_outcome\n",
      "outcome_name       LOSE LOSE_DOUBLE PUSH  WIN WIN_DOUBLE             \n",
      "strategy                                                             \n",
      "<Action.DOUBLE: 3>    0         681   50    0        269       -0.824\n",
      "<Action.HIT: 2>     660           0   76  264          0       -0.396\n",
      "<Action.STAND: 1>   782           0    0  218          0       -0.564\n",
      "                    len                                  mean_outcome\n",
      "outcome_name       LOSE LOSE_DOUBLE PUSH  WIN WIN_DOUBLE             \n",
      "strategy                                                             \n",
      "<Action.DOUBLE: 3>    0         727   56    0        217       -1.020\n",
      "<Action.HIT: 2>     713           0   82  205          0       -0.508\n",
      "<Action.STAND: 1>   815           0    0  185          0       -0.630\n",
      "                    len           mean_outcome\n",
      "outcome_name       LOSE PUSH  WIN             \n",
      "strategy                                      \n",
      "<Action.DOUBLE: 3>  775   47  178       -0.597\n",
      "<Action.HIT: 2>     806   50  144       -0.662\n",
      "<Action.STAND: 1>   782   42  176       -0.606\n"
     ]
    },
    {
     "name": "stdout",
     "output_type": "stream",
     "text": [
      "                    len                                  mean_outcome\n",
      "outcome_name       LOSE LOSE_DOUBLE PUSH  WIN WIN_DOUBLE             \n",
      "strategy                                                             \n",
      "<Action.DOUBLE: 3>    0         652   42    0        306       -0.692\n",
      "<Action.HIT: 2>     657           0   47  296          0       -0.361\n",
      "<Action.STAND: 1>   623           0    0  377          0       -0.246\n",
      "                    len                                  mean_outcome\n",
      "outcome_name       LOSE LOSE_DOUBLE PUSH  WIN WIN_DOUBLE             \n",
      "strategy                                                             \n",
      "<Action.DOUBLE: 3>    0         633   58    0        309       -0.648\n",
      "<Action.HIT: 2>     660           0   37  303          0       -0.357\n",
      "<Action.STAND: 1>   605           0    0  395          0       -0.210\n",
      "                    len                                  mean_outcome\n",
      "outcome_name       LOSE LOSE_DOUBLE PUSH  WIN WIN_DOUBLE             \n",
      "strategy                                                             \n",
      "<Action.DOUBLE: 3>    0         676   44    0        280       -0.792\n",
      "<Action.HIT: 2>     659           0   42  299          0       -0.360\n",
      "<Action.STAND: 1>   618           0    0  382          0       -0.236\n",
      "                    len                                  mean_outcome\n",
      "outcome_name       LOSE LOSE_DOUBLE PUSH  WIN WIN_DOUBLE             \n",
      "strategy                                                             \n",
      "<Action.DOUBLE: 3>    0         641   47    0        312       -0.658\n",
      "<Action.HIT: 2>     639           0   46  315          0       -0.324\n",
      "<Action.STAND: 1>   577           0    0  423          0       -0.154\n",
      "                    len                                  mean_outcome\n",
      "outcome_name       LOSE LOSE_DOUBLE PUSH  WIN WIN_DOUBLE             \n",
      "strategy                                                             \n",
      "<Action.DOUBLE: 3>    0         640   45    0        315       -0.650\n",
      "<Action.HIT: 2>     601           0   44  355          0       -0.246\n",
      "<Action.STAND: 1>   587           0    0  413          0       -0.174\n",
      "                    len                                  mean_outcome\n",
      "outcome_name       LOSE LOSE_DOUBLE PUSH  WIN WIN_DOUBLE             \n",
      "strategy                                                             \n",
      "<Action.DOUBLE: 3>    0         641   52    0        307       -0.668\n",
      "<Action.HIT: 2>     646           0   49  305          0       -0.341\n",
      "<Action.STAND: 1>   755           0    0  245          0       -0.510\n",
      "                    len                                  mean_outcome\n",
      "outcome_name       LOSE LOSE_DOUBLE PUSH  WIN WIN_DOUBLE             \n",
      "strategy                                                             \n",
      "<Action.DOUBLE: 3>    0         651   56    0        293       -0.716\n",
      "<Action.HIT: 2>     656           0   73  271          0       -0.385\n",
      "<Action.STAND: 1>   753           0    0  247          0       -0.506\n",
      "                    len                                  mean_outcome\n",
      "outcome_name       LOSE LOSE_DOUBLE PUSH  WIN WIN_DOUBLE             \n",
      "strategy                                                             \n",
      "<Action.DOUBLE: 3>    0         693   61    0        246       -0.894\n",
      "<Action.HIT: 2>     704           0   70  226          0       -0.478\n",
      "<Action.STAND: 1>   789           0    0  211          0       -0.578\n",
      "                    len                                  mean_outcome\n",
      "outcome_name       LOSE LOSE_DOUBLE PUSH  WIN WIN_DOUBLE             \n",
      "strategy                                                             \n",
      "<Action.DOUBLE: 3>    0         718   75    0        207       -1.022\n",
      "<Action.HIT: 2>     724           0   59  217          0       -0.507\n",
      "<Action.STAND: 1>   797           0    0  203          0       -0.594\n",
      "                    len           mean_outcome\n",
      "outcome_name       LOSE PUSH  WIN             \n",
      "strategy                                      \n",
      "<Action.DOUBLE: 3>  778   52  170       -0.608\n",
      "<Action.HIT: 2>     794   30  176       -0.618\n",
      "<Action.STAND: 1>   769   38  193       -0.576\n",
      "                    len                                  mean_outcome\n",
      "outcome_name       LOSE LOSE_DOUBLE PUSH  WIN WIN_DOUBLE             \n",
      "strategy                                                             \n",
      "<Action.DOUBLE: 3>    0         703   45    0        252       -0.902\n",
      "<Action.HIT: 2>     681           0   58  261          0       -0.420\n",
      "<Action.STAND: 1>   659           0    0  341          0       -0.318\n",
      "                    len                                  mean_outcome\n",
      "outcome_name       LOSE LOSE_DOUBLE PUSH  WIN WIN_DOUBLE             \n",
      "strategy                                                             \n",
      "<Action.DOUBLE: 3>    0         677   44    0        279       -0.796\n",
      "<Action.HIT: 2>     640           0   54  306          0       -0.334\n",
      "<Action.STAND: 1>   624           0    0  376          0       -0.248\n",
      "                    len                                  mean_outcome\n",
      "outcome_name       LOSE LOSE_DOUBLE PUSH  WIN WIN_DOUBLE             \n",
      "strategy                                                             \n",
      "<Action.DOUBLE: 3>    0         665   55    0        280       -0.770\n",
      "<Action.HIT: 2>     658           0   47  295          0       -0.363\n",
      "<Action.STAND: 1>   578           0    0  422          0       -0.156\n",
      "                    len                                  mean_outcome\n",
      "outcome_name       LOSE LOSE_DOUBLE PUSH  WIN WIN_DOUBLE             \n",
      "strategy                                                             \n",
      "<Action.DOUBLE: 3>    0         699   37    0        264       -0.870\n",
      "<Action.HIT: 2>     669           0   42  289          0       -0.380\n",
      "<Action.STAND: 1>   586           0    0  414          0       -0.172\n",
      "                    len                                  mean_outcome\n",
      "outcome_name       LOSE LOSE_DOUBLE PUSH  WIN WIN_DOUBLE             \n",
      "strategy                                                             \n",
      "<Action.DOUBLE: 3>    0         668   51    0        281       -0.774\n",
      "<Action.HIT: 2>     669           0   47  284          0       -0.385\n",
      "<Action.STAND: 1>   581           0    0  419          0       -0.162\n",
      "                    len                                  mean_outcome\n",
      "outcome_name       LOSE LOSE_DOUBLE PUSH  WIN WIN_DOUBLE             \n",
      "strategy                                                             \n",
      "<Action.DOUBLE: 3>    0         670   56    0        274       -0.792\n",
      "<Action.HIT: 2>     660           0   56  284          0       -0.376\n",
      "<Action.STAND: 1>   747           0    0  253          0       -0.494\n",
      "                    len                                  mean_outcome\n",
      "outcome_name       LOSE LOSE_DOUBLE PUSH  WIN WIN_DOUBLE             \n",
      "strategy                                                             \n",
      "<Action.DOUBLE: 3>    0         679   56    0        265       -0.828\n",
      "<Action.HIT: 2>     671           0   64  265          0       -0.406\n",
      "<Action.STAND: 1>   765           0    0  235          0       -0.530\n",
      "                    len                                  mean_outcome\n",
      "outcome_name       LOSE LOSE_DOUBLE PUSH  WIN WIN_DOUBLE             \n",
      "strategy                                                             \n",
      "<Action.DOUBLE: 3>    0         714   64    0        222       -0.984\n",
      "<Action.HIT: 2>     695           0   68  237          0       -0.458\n",
      "<Action.STAND: 1>   779           0    0  221          0       -0.558\n",
      "                    len                                  mean_outcome\n",
      "outcome_name       LOSE LOSE_DOUBLE PUSH  WIN WIN_DOUBLE             \n",
      "strategy                                                             \n",
      "<Action.DOUBLE: 3>    0         745   61    0        194       -1.102\n",
      "<Action.HIT: 2>     748           0   67  185          0       -0.563\n",
      "<Action.STAND: 1>   803           0    0  197          0       -0.606\n",
      "                    len           mean_outcome\n",
      "outcome_name       LOSE PUSH  WIN             \n",
      "strategy                                      \n",
      "<Action.DOUBLE: 3>  773   43  184       -0.589\n",
      "<Action.HIT: 2>     800   42  158       -0.642\n",
      "<Action.STAND: 1>   807   36  157       -0.650\n",
      "                    len                                  mean_outcome\n",
      "outcome_name       LOSE LOSE_DOUBLE PUSH  WIN WIN_DOUBLE             \n",
      "strategy                                                             \n",
      "<Action.DOUBLE: 3>    0         711   48    0        241       -0.940\n",
      "<Action.HIT: 2>     678           0   58  264          0       -0.414\n",
      "<Action.STAND: 1>   667           0    0  333          0       -0.334\n"
     ]
    },
    {
     "name": "stdout",
     "output_type": "stream",
     "text": [
      "                    len                                  mean_outcome\n",
      "outcome_name       LOSE LOSE_DOUBLE PUSH  WIN WIN_DOUBLE             \n",
      "strategy                                                             \n",
      "<Action.DOUBLE: 3>    0         716   33    0        251       -0.930\n",
      "<Action.HIT: 2>     689           0   61  250          0       -0.439\n",
      "<Action.STAND: 1>   599           0    0  401          0       -0.198\n",
      "                    len                                  mean_outcome\n",
      "outcome_name       LOSE LOSE_DOUBLE PUSH  WIN WIN_DOUBLE             \n",
      "strategy                                                             \n",
      "<Action.DOUBLE: 3>    0         697   45    0        258       -0.878\n",
      "<Action.HIT: 2>     735           0   39  226          0       -0.509\n",
      "<Action.STAND: 1>   611           0    0  389          0       -0.222\n",
      "                    len                                  mean_outcome\n",
      "outcome_name       LOSE LOSE_DOUBLE PUSH  WIN WIN_DOUBLE             \n",
      "strategy                                                             \n",
      "<Action.DOUBLE: 3>    0         671   53    0        276       -0.790\n",
      "<Action.HIT: 2>     708           0   44  248          0       -0.460\n",
      "<Action.STAND: 1>   556           0    0  444          0       -0.112\n",
      "                    len                                  mean_outcome\n",
      "outcome_name       LOSE LOSE_DOUBLE PUSH  WIN WIN_DOUBLE             \n",
      "strategy                                                             \n",
      "<Action.DOUBLE: 3>    0         699   34    0        267       -0.864\n",
      "<Action.HIT: 2>     677           0   38  285          0       -0.392\n",
      "<Action.STAND: 1>   545           0    0  455          0       -0.090\n",
      "                    len                                  mean_outcome\n",
      "outcome_name       LOSE LOSE_DOUBLE PUSH  WIN WIN_DOUBLE             \n",
      "strategy                                                             \n",
      "<Action.DOUBLE: 3>    0         692   51    0        257       -0.870\n",
      "<Action.HIT: 2>     715           0   55  230          0       -0.485\n",
      "<Action.STAND: 1>   720           0    0  280          0       -0.440\n",
      "                    len                                  mean_outcome\n",
      "outcome_name       LOSE LOSE_DOUBLE PUSH  WIN WIN_DOUBLE             \n",
      "strategy                                                             \n",
      "<Action.DOUBLE: 3>    0         699   55    0        246       -0.906\n",
      "<Action.HIT: 2>     706           0   53  241          0       -0.465\n",
      "<Action.STAND: 1>   738           0    0  262          0       -0.476\n",
      "                    len                                  mean_outcome\n",
      "outcome_name       LOSE LOSE_DOUBLE PUSH  WIN WIN_DOUBLE             \n",
      "strategy                                                             \n",
      "<Action.DOUBLE: 3>    0         720   63    0        217       -1.006\n",
      "<Action.HIT: 2>     741           0   55  204          0       -0.537\n",
      "<Action.STAND: 1>   774           0    0  226          0       -0.548\n",
      "                    len                                  mean_outcome\n",
      "outcome_name       LOSE LOSE_DOUBLE PUSH  WIN WIN_DOUBLE             \n",
      "strategy                                                             \n",
      "<Action.DOUBLE: 3>    0         778   51    0        171       -1.214\n",
      "<Action.HIT: 2>     751           0   60  189          0       -0.562\n",
      "<Action.STAND: 1>   807           0    0  193          0       -0.614\n",
      "                    len           mean_outcome\n",
      "outcome_name       LOSE PUSH  WIN             \n",
      "strategy                                      \n",
      "<Action.DOUBLE: 3>  701  142  157       -0.544\n",
      "<Action.HIT: 2>     701  142  157       -0.544\n",
      "<Action.STAND: 1>   701  142  157       -0.544\n",
      "                    len                                  mean_outcome\n",
      "outcome_name       LOSE LOSE_DOUBLE PUSH  WIN WIN_DOUBLE             \n",
      "strategy                                                             \n",
      "<Action.DOUBLE: 3>    0         742   43    0        215       -1.054\n",
      "<Action.HIT: 2>     751           0   34  215          0       -0.536\n",
      "<Action.STAND: 1>   485           0  143  372          0       -0.113\n",
      "                    len                                  mean_outcome\n",
      "outcome_name       LOSE LOSE_DOUBLE PUSH  WIN WIN_DOUBLE             \n",
      "strategy                                                             \n",
      "<Action.DOUBLE: 3>    0         713   41    0        246       -0.934\n",
      "<Action.HIT: 2>     759           0   36  205          0       -0.554\n",
      "<Action.STAND: 1>   501           0  136  363          0       -0.138\n",
      "                    len                                  mean_outcome\n",
      "outcome_name       LOSE LOSE_DOUBLE PUSH  WIN WIN_DOUBLE             \n",
      "strategy                                                             \n",
      "<Action.DOUBLE: 3>    0         725   37    0        238       -0.974\n",
      "<Action.HIT: 2>     762           0   29  209          0       -0.553\n",
      "<Action.STAND: 1>   456           0  119  425          0       -0.031\n",
      "                    len                                  mean_outcome\n",
      "outcome_name       LOSE LOSE_DOUBLE PUSH  WIN WIN_DOUBLE             \n",
      "strategy                                                             \n",
      "<Action.DOUBLE: 3>    0         731   33    0        236       -0.990\n",
      "<Action.HIT: 2>     737           0   41  222          0       -0.515\n",
      "<Action.STAND: 1>   473           0  111  416          0       -0.057\n",
      "                    len                                  mean_outcome\n",
      "outcome_name       LOSE LOSE_DOUBLE PUSH  WIN WIN_DOUBLE             \n",
      "strategy                                                             \n",
      "<Action.DOUBLE: 3>    0         765   28    0        207       -1.116\n",
      "<Action.HIT: 2>     727           0   36  237          0       -0.490\n",
      "<Action.STAND: 1>   414           0  170  416          0        0.002\n",
      "                    len                                  mean_outcome\n",
      "outcome_name       LOSE LOSE_DOUBLE PUSH  WIN WIN_DOUBLE             \n",
      "strategy                                                             \n",
      "<Action.DOUBLE: 3>    0         720   26    0        254       -0.932\n",
      "<Action.HIT: 2>     730           0   26  244          0       -0.486\n",
      "<Action.STAND: 1>   369           0  376  255          0       -0.114\n",
      "                    len                                  mean_outcome\n",
      "outcome_name       LOSE LOSE_DOUBLE PUSH  WIN WIN_DOUBLE             \n",
      "strategy                                                             \n",
      "<Action.DOUBLE: 3>    0         730   51    0        219       -1.022\n",
      "<Action.HIT: 2>     720           0   52  228          0       -0.492\n",
      "<Action.STAND: 1>   622           0  128  250          0       -0.372\n",
      "                    len                                  mean_outcome\n",
      "outcome_name       LOSE LOSE_DOUBLE PUSH  WIN WIN_DOUBLE             \n",
      "strategy                                                             \n",
      "<Action.DOUBLE: 3>    0         753   46    0        201       -1.104\n",
      "<Action.HIT: 2>     746           0   48  206          0       -0.540\n",
      "<Action.STAND: 1>   637           0  121  242          0       -0.395\n",
      "                    len                                  mean_outcome\n",
      "outcome_name       LOSE LOSE_DOUBLE PUSH  WIN WIN_DOUBLE             \n",
      "strategy                                                             \n",
      "<Action.DOUBLE: 3>    0         783   50    0        167       -1.232\n",
      "<Action.HIT: 2>     784           0   43  173          0       -0.611\n",
      "<Action.STAND: 1>   690           0  121  189          0       -0.501\n",
      "                    len           mean_outcome\n",
      "outcome_name       LOSE PUSH  WIN             \n",
      "strategy                                      \n",
      "<Action.DOUBLE: 3>  604  110  286       -0.318\n",
      "<Action.HIT: 2>     604  110  286       -0.318\n",
      "<Action.STAND: 1>   604  110  286       -0.318\n",
      "                    len                                  mean_outcome\n",
      "outcome_name       LOSE LOSE_DOUBLE PUSH  WIN WIN_DOUBLE             \n",
      "strategy                                                             \n",
      "<Action.DOUBLE: 3>    0         805   37    0        158       -1.294\n",
      "<Action.HIT: 2>     809           0   23  168          0       -0.641\n",
      "<Action.STAND: 1>   377           0  119  504          0        0.127\n",
      "                    len                                  mean_outcome\n",
      "outcome_name       LOSE LOSE_DOUBLE PUSH  WIN WIN_DOUBLE             \n",
      "strategy                                                             \n",
      "<Action.DOUBLE: 3>    0         776   28    0        196       -1.160\n",
      "<Action.HIT: 2>     796           0   27  177          0       -0.619\n",
      "<Action.STAND: 1>   329           0  139  532          0        0.203\n"
     ]
    },
    {
     "name": "stdout",
     "output_type": "stream",
     "text": [
      "                    len                                  mean_outcome\n",
      "outcome_name       LOSE LOSE_DOUBLE PUSH  WIN WIN_DOUBLE             \n",
      "strategy                                                             \n",
      "<Action.DOUBLE: 3>    0         789   30    0        181       -1.216\n",
      "<Action.HIT: 2>     785           0   29  186          0       -0.599\n",
      "<Action.STAND: 1>   324           0  139  537          0        0.213\n",
      "                    len                                  mean_outcome\n",
      "outcome_name       LOSE LOSE_DOUBLE PUSH  WIN WIN_DOUBLE             \n",
      "strategy                                                             \n",
      "<Action.DOUBLE: 3>    0         809   23    0        168       -1.282\n",
      "<Action.HIT: 2>     794           0   34  172          0       -0.622\n",
      "<Action.STAND: 1>   329           0  106  565          0        0.236\n",
      "                    len                                  mean_outcome\n",
      "outcome_name       LOSE LOSE_DOUBLE PUSH  WIN WIN_DOUBLE             \n",
      "strategy                                                             \n",
      "<Action.DOUBLE: 3>    0         776   32    0        192       -1.168\n",
      "<Action.HIT: 2>     786           0   18  196          0       -0.590\n",
      "<Action.STAND: 1>   323           0  113  564          0        0.241\n",
      "                    len                                  mean_outcome\n",
      "outcome_name       LOSE LOSE_DOUBLE PUSH  WIN WIN_DOUBLE             \n",
      "strategy                                                             \n",
      "<Action.DOUBLE: 3>    0         796   19    0        185       -1.222\n",
      "<Action.HIT: 2>     782           0   14  204          0       -0.578\n",
      "<Action.STAND: 1>   258           0  128  614          0        0.356\n",
      "                    len                                  mean_outcome\n",
      "outcome_name       LOSE LOSE_DOUBLE PUSH  WIN WIN_DOUBLE             \n",
      "strategy                                                             \n",
      "<Action.DOUBLE: 3>    0         791   23    0        186       -1.210\n",
      "<Action.HIT: 2>     780           0   21  199          0       -0.581\n",
      "<Action.STAND: 1>   261           0  365  374          0        0.113\n",
      "                    len                                  mean_outcome\n",
      "outcome_name       LOSE LOSE_DOUBLE PUSH  WIN WIN_DOUBLE             \n",
      "strategy                                                             \n",
      "<Action.DOUBLE: 3>    0         790   34    0        176       -1.228\n",
      "<Action.HIT: 2>     770           0   40  190          0       -0.580\n",
      "<Action.STAND: 1>   543           0  110  347          0       -0.196\n",
      "                    len                                  mean_outcome\n",
      "outcome_name       LOSE LOSE_DOUBLE PUSH  WIN WIN_DOUBLE             \n",
      "strategy                                                             \n",
      "<Action.DOUBLE: 3>    0         824   30    0        146       -1.356\n",
      "<Action.HIT: 2>     807           0   50  143          0       -0.664\n",
      "<Action.STAND: 1>   572           0  114  314          0       -0.258\n"
     ]
    }
   ],
   "source": [
    "conds = [find_winning_action(p, d, 1000) for p in range(10, 19) for d in range(1, 11)]"
   ]
  },
  {
   "cell_type": "code",
   "execution_count": 38,
   "id": "matched-niger",
   "metadata": {
    "ExecuteTime": {
     "end_time": "2021-07-07T03:47:58.727653Z",
     "start_time": "2021-07-07T03:47:58.721493Z"
    }
   },
   "outputs": [
    {
     "data": {
      "text/plain": [
       "[(<function __main__.test_cond.<locals>.cond(h, d)>, <Action.STAND: 1>),\n",
       " (<function __main__.test_cond.<locals>.cond(h, d)>, <Action.DOUBLE: 3>),\n",
       " (<function __main__.test_cond.<locals>.cond(h, d)>, <Action.DOUBLE: 3>),\n",
       " (<function __main__.test_cond.<locals>.cond(h, d)>, <Action.DOUBLE: 3>),\n",
       " (<function __main__.test_cond.<locals>.cond(h, d)>, <Action.DOUBLE: 3>),\n",
       " (<function __main__.test_cond.<locals>.cond(h, d)>, <Action.DOUBLE: 3>),\n",
       " (<function __main__.test_cond.<locals>.cond(h, d)>, <Action.DOUBLE: 3>),\n",
       " (<function __main__.test_cond.<locals>.cond(h, d)>, <Action.DOUBLE: 3>),\n",
       " (<function __main__.test_cond.<locals>.cond(h, d)>, <Action.DOUBLE: 3>),\n",
       " (<function __main__.test_cond.<locals>.cond(h, d)>, <Action.HIT: 2>),\n",
       " (<function __main__.test_cond.<locals>.cond(h, d)>, <Action.DOUBLE: 3>),\n",
       " (<function __main__.test_cond.<locals>.cond(h, d)>, <Action.DOUBLE: 3>),\n",
       " (<function __main__.test_cond.<locals>.cond(h, d)>, <Action.DOUBLE: 3>),\n",
       " (<function __main__.test_cond.<locals>.cond(h, d)>, <Action.DOUBLE: 3>),\n",
       " (<function __main__.test_cond.<locals>.cond(h, d)>, <Action.DOUBLE: 3>),\n",
       " (<function __main__.test_cond.<locals>.cond(h, d)>, <Action.DOUBLE: 3>),\n",
       " (<function __main__.test_cond.<locals>.cond(h, d)>, <Action.DOUBLE: 3>),\n",
       " (<function __main__.test_cond.<locals>.cond(h, d)>, <Action.DOUBLE: 3>),\n",
       " (<function __main__.test_cond.<locals>.cond(h, d)>, <Action.DOUBLE: 3>),\n",
       " (<function __main__.test_cond.<locals>.cond(h, d)>, <Action.DOUBLE: 3>),\n",
       " (<function __main__.test_cond.<locals>.cond(h, d)>, <Action.HIT: 2>),\n",
       " (<function __main__.test_cond.<locals>.cond(h, d)>, <Action.HIT: 2>),\n",
       " (<function __main__.test_cond.<locals>.cond(h, d)>, <Action.STAND: 1>),\n",
       " (<function __main__.test_cond.<locals>.cond(h, d)>, <Action.HIT: 2>),\n",
       " (<function __main__.test_cond.<locals>.cond(h, d)>, <Action.STAND: 1>),\n",
       " (<function __main__.test_cond.<locals>.cond(h, d)>, <Action.STAND: 1>),\n",
       " (<function __main__.test_cond.<locals>.cond(h, d)>, <Action.HIT: 2>),\n",
       " (<function __main__.test_cond.<locals>.cond(h, d)>, <Action.HIT: 2>),\n",
       " (<function __main__.test_cond.<locals>.cond(h, d)>, <Action.HIT: 2>),\n",
       " (<function __main__.test_cond.<locals>.cond(h, d)>, <Action.HIT: 2>),\n",
       " (<function __main__.test_cond.<locals>.cond(h, d)>, <Action.STAND: 1>),\n",
       " (<function __main__.test_cond.<locals>.cond(h, d)>, <Action.STAND: 1>),\n",
       " (<function __main__.test_cond.<locals>.cond(h, d)>, <Action.STAND: 1>),\n",
       " (<function __main__.test_cond.<locals>.cond(h, d)>, <Action.STAND: 1>),\n",
       " (<function __main__.test_cond.<locals>.cond(h, d)>, <Action.STAND: 1>),\n",
       " (<function __main__.test_cond.<locals>.cond(h, d)>, <Action.STAND: 1>),\n",
       " (<function __main__.test_cond.<locals>.cond(h, d)>, <Action.HIT: 2>),\n",
       " (<function __main__.test_cond.<locals>.cond(h, d)>, <Action.HIT: 2>),\n",
       " (<function __main__.test_cond.<locals>.cond(h, d)>, <Action.HIT: 2>),\n",
       " (<function __main__.test_cond.<locals>.cond(h, d)>, <Action.HIT: 2>),\n",
       " (<function __main__.test_cond.<locals>.cond(h, d)>, <Action.DOUBLE: 3>),\n",
       " (<function __main__.test_cond.<locals>.cond(h, d)>, <Action.STAND: 1>),\n",
       " (<function __main__.test_cond.<locals>.cond(h, d)>, <Action.STAND: 1>),\n",
       " (<function __main__.test_cond.<locals>.cond(h, d)>, <Action.STAND: 1>),\n",
       " (<function __main__.test_cond.<locals>.cond(h, d)>, <Action.STAND: 1>),\n",
       " (<function __main__.test_cond.<locals>.cond(h, d)>, <Action.STAND: 1>),\n",
       " (<function __main__.test_cond.<locals>.cond(h, d)>, <Action.HIT: 2>),\n",
       " (<function __main__.test_cond.<locals>.cond(h, d)>, <Action.HIT: 2>),\n",
       " (<function __main__.test_cond.<locals>.cond(h, d)>, <Action.HIT: 2>),\n",
       " (<function __main__.test_cond.<locals>.cond(h, d)>, <Action.HIT: 2>),\n",
       " (<function __main__.test_cond.<locals>.cond(h, d)>, <Action.STAND: 1>),\n",
       " (<function __main__.test_cond.<locals>.cond(h, d)>, <Action.STAND: 1>),\n",
       " (<function __main__.test_cond.<locals>.cond(h, d)>, <Action.STAND: 1>),\n",
       " (<function __main__.test_cond.<locals>.cond(h, d)>, <Action.STAND: 1>),\n",
       " (<function __main__.test_cond.<locals>.cond(h, d)>, <Action.STAND: 1>),\n",
       " (<function __main__.test_cond.<locals>.cond(h, d)>, <Action.STAND: 1>),\n",
       " (<function __main__.test_cond.<locals>.cond(h, d)>, <Action.HIT: 2>),\n",
       " (<function __main__.test_cond.<locals>.cond(h, d)>, <Action.HIT: 2>),\n",
       " (<function __main__.test_cond.<locals>.cond(h, d)>, <Action.HIT: 2>),\n",
       " (<function __main__.test_cond.<locals>.cond(h, d)>, <Action.HIT: 2>),\n",
       " (<function __main__.test_cond.<locals>.cond(h, d)>, <Action.DOUBLE: 3>),\n",
       " (<function __main__.test_cond.<locals>.cond(h, d)>, <Action.STAND: 1>),\n",
       " (<function __main__.test_cond.<locals>.cond(h, d)>, <Action.STAND: 1>),\n",
       " (<function __main__.test_cond.<locals>.cond(h, d)>, <Action.STAND: 1>),\n",
       " (<function __main__.test_cond.<locals>.cond(h, d)>, <Action.STAND: 1>),\n",
       " (<function __main__.test_cond.<locals>.cond(h, d)>, <Action.STAND: 1>),\n",
       " (<function __main__.test_cond.<locals>.cond(h, d)>, <Action.STAND: 1>),\n",
       " (<function __main__.test_cond.<locals>.cond(h, d)>, <Action.HIT: 2>),\n",
       " (<function __main__.test_cond.<locals>.cond(h, d)>, <Action.HIT: 2>),\n",
       " (<function __main__.test_cond.<locals>.cond(h, d)>, <Action.HIT: 2>),\n",
       " (<function __main__.test_cond.<locals>.cond(h, d)>, <Action.DOUBLE: 3>),\n",
       " (<function __main__.test_cond.<locals>.cond(h, d)>, <Action.STAND: 1>),\n",
       " (<function __main__.test_cond.<locals>.cond(h, d)>, <Action.STAND: 1>),\n",
       " (<function __main__.test_cond.<locals>.cond(h, d)>, <Action.STAND: 1>),\n",
       " (<function __main__.test_cond.<locals>.cond(h, d)>, <Action.STAND: 1>),\n",
       " (<function __main__.test_cond.<locals>.cond(h, d)>, <Action.STAND: 1>),\n",
       " (<function __main__.test_cond.<locals>.cond(h, d)>, <Action.STAND: 1>),\n",
       " (<function __main__.test_cond.<locals>.cond(h, d)>, <Action.STAND: 1>),\n",
       " (<function __main__.test_cond.<locals>.cond(h, d)>, <Action.STAND: 1>),\n",
       " (<function __main__.test_cond.<locals>.cond(h, d)>, <Action.STAND: 1>),\n",
       " (<function __main__.test_cond.<locals>.cond(h, d)>, <Action.DOUBLE: 3>),\n",
       " (<function __main__.test_cond.<locals>.cond(h, d)>, <Action.STAND: 1>),\n",
       " (<function __main__.test_cond.<locals>.cond(h, d)>, <Action.STAND: 1>),\n",
       " (<function __main__.test_cond.<locals>.cond(h, d)>, <Action.STAND: 1>),\n",
       " (<function __main__.test_cond.<locals>.cond(h, d)>, <Action.STAND: 1>),\n",
       " (<function __main__.test_cond.<locals>.cond(h, d)>, <Action.STAND: 1>),\n",
       " (<function __main__.test_cond.<locals>.cond(h, d)>, <Action.STAND: 1>),\n",
       " (<function __main__.test_cond.<locals>.cond(h, d)>, <Action.STAND: 1>),\n",
       " (<function __main__.test_cond.<locals>.cond(h, d)>, <Action.STAND: 1>),\n",
       " (<function __main__.test_cond.<locals>.cond(h, d)>, <Action.STAND: 1>)]"
      ]
     },
     "execution_count": 38,
     "metadata": {},
     "output_type": "execute_result"
    }
   ],
   "source": [
    "conds"
   ]
  },
  {
   "cell_type": "code",
   "execution_count": 39,
   "id": "portable-niger",
   "metadata": {
    "ExecuteTime": {
     "end_time": "2021-07-07T03:47:58.730439Z",
     "start_time": "2021-07-07T03:47:58.728738Z"
    }
   },
   "outputs": [],
   "source": [
    "strat_derived = generate_strat_conditional(strat_simple, conds)\n",
    "strat_derived.name = 'strat_derived'"
   ]
  },
  {
   "cell_type": "code",
   "execution_count": 40,
   "id": "modular-hospital",
   "metadata": {
    "ExecuteTime": {
     "end_time": "2021-07-07T03:47:58.732981Z",
     "start_time": "2021-07-07T03:47:58.731356Z"
    }
   },
   "outputs": [],
   "source": [
    "strat_derived2 = generate_strat_conditional(strat_derived, conds)\n",
    "strat_derived2.name = 'strat_derived2'"
   ]
  },
  {
   "cell_type": "code",
   "execution_count": 41,
   "id": "english-distance",
   "metadata": {
    "ExecuteTime": {
     "end_time": "2021-07-07T03:48:08.611695Z",
     "start_time": "2021-07-07T03:47:58.734031Z"
    }
   },
   "outputs": [
    {
     "data": {
      "text/plain": [
       "(         strategy hand_start  dealer_card       hand_end dealer_hand  \\\n",
       " 0          simple   [13, 13]            2       [13, 13]   [2, 6, 1]   \n",
       " 1   strat_derived   [13, 13]            2       [13, 13]   [2, 6, 1]   \n",
       " 2  strat_derived2   [13, 13]            2       [13, 13]   [2, 6, 1]   \n",
       " 3          simple     [6, 2]            3     [6, 2, 13]  [3, 12, 6]   \n",
       " 4   strat_derived     [6, 2]            3      [6, 2, 4]  [3, 12, 6]   \n",
       " 5  strat_derived2     [6, 2]            3  [6, 2, 2, 11]  [3, 12, 6]   \n",
       " 6          simple     [1, 4]            3         [1, 4]  [3, 11, 7]   \n",
       " 7   strat_derived     [1, 4]            3         [1, 4]  [3, 11, 7]   \n",
       " 8  strat_derived2     [1, 4]            3         [1, 4]  [3, 11, 7]   \n",
       " 9          simple     [7, 8]            9     [7, 8, 10]     [9, 13]   \n",
       " \n",
       "                   outcome  outcome_value outcome_name  \n",
       " 0         HandOutcome.WIN            1.0          WIN  \n",
       " 1         HandOutcome.WIN            1.0          WIN  \n",
       " 2         HandOutcome.WIN            1.0          WIN  \n",
       " 3        HandOutcome.LOSE           -1.0         LOSE  \n",
       " 4        HandOutcome.LOSE           -1.0         LOSE  \n",
       " 5  HandOutcome.WIN_DOUBLE            2.0   WIN_DOUBLE  \n",
       " 6        HandOutcome.LOSE           -1.0         LOSE  \n",
       " 7        HandOutcome.LOSE           -1.0         LOSE  \n",
       " 8        HandOutcome.LOSE           -1.0         LOSE  \n",
       " 9        HandOutcome.LOSE           -1.0         LOSE  ,\n",
       "                      len                                             \\\n",
       " outcome_name   BLACKJACK   LOSE LOSE_DOUBLE  PUSH    WIN WIN_DOUBLE   \n",
       " strategy                                                              \n",
       " simple              4551  46215        2434  8670  34868       3262   \n",
       " strat_derived       4551  45227        3483  8498  33230       5011   \n",
       " strat_derived2      4551  45214        3475  8380  33445       4935   \n",
       " \n",
       "                mean_outcome  \n",
       " outcome_name                 \n",
       " strategy                     \n",
       " simple            -0.028645  \n",
       " strat_derived     -0.021145  \n",
       " strat_derived2    -0.020225  )"
      ]
     },
     "execution_count": 41,
     "metadata": {},
     "output_type": "execute_result"
    }
   ],
   "source": [
    "sims = run_n_sim_trials([strat_simple, strat_derived, strat_derived2], 100*1000)\n",
    "sims.head(10), summarize_totals(sims)"
   ]
  },
  {
   "cell_type": "code",
   "execution_count": null,
   "id": "timely-bicycle",
   "metadata": {},
   "outputs": [],
   "source": []
  }
 ],
 "metadata": {
  "kernelspec": {
   "display_name": "Python 3",
   "language": "python",
   "name": "python3"
  },
  "language_info": {
   "codemirror_mode": {
    "name": "ipython",
    "version": 3
   },
   "file_extension": ".py",
   "mimetype": "text/x-python",
   "name": "python",
   "nbconvert_exporter": "python",
   "pygments_lexer": "ipython3",
   "version": "3.8.8"
  }
 },
 "nbformat": 4,
 "nbformat_minor": 5
}
