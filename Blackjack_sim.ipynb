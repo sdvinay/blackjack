{
 "cells": [
  {
   "cell_type": "code",
   "execution_count": 1,
   "id": "middle-scenario",
   "metadata": {
    "ExecuteTime": {
     "end_time": "2021-07-07T23:27:13.886762Z",
     "start_time": "2021-07-07T23:27:13.257281Z"
    }
   },
   "outputs": [],
   "source": [
    "from dataclasses import dataclass, field\n",
    "import copy\n",
    "from enum import Enum, auto\n",
    "import random\n",
    "import pandas as pd\n",
    "import seaborn as sns\n",
    "\n",
    "\n",
    "import blackjack as bj\n",
    "from blackjack import Hand, HandScore, Action, make_hand"
   ]
  },
  {
   "cell_type": "code",
   "execution_count": 2,
   "id": "pharmaceutical-warren",
   "metadata": {
    "ExecuteTime": {
     "end_time": "2021-07-07T23:27:13.890794Z",
     "start_time": "2021-07-07T23:27:13.887942Z"
    }
   },
   "outputs": [
    {
     "data": {
      "text/plain": [
       "s11"
      ]
     },
     "execution_count": 2,
     "metadata": {},
     "output_type": "execute_result"
    }
   ],
   "source": [
    "h = HandScore(11, True)\n",
    "h"
   ]
  },
  {
   "cell_type": "code",
   "execution_count": 3,
   "id": "greatest-potato",
   "metadata": {
    "ExecuteTime": {
     "end_time": "2021-07-07T23:27:13.894574Z",
     "start_time": "2021-07-07T23:27:13.892142Z"
    }
   },
   "outputs": [
    {
     "data": {
      "text/plain": [
       "s21"
      ]
     },
     "execution_count": 3,
     "metadata": {},
     "output_type": "execute_result"
    }
   ],
   "source": [
    "h.add_card(10)"
   ]
  },
  {
   "cell_type": "code",
   "execution_count": 4,
   "id": "bacterial-valley",
   "metadata": {
    "ExecuteTime": {
     "end_time": "2021-07-07T23:27:13.899130Z",
     "start_time": "2021-07-07T23:27:13.896698Z"
    }
   },
   "outputs": [
    {
     "data": {
      "text/plain": [
       "h21"
      ]
     },
     "execution_count": 4,
     "metadata": {},
     "output_type": "execute_result"
    }
   ],
   "source": [
    "h.add_card(10).add_card(10)"
   ]
  },
  {
   "cell_type": "code",
   "execution_count": 5,
   "id": "crazy-commonwealth",
   "metadata": {
    "ExecuteTime": {
     "end_time": "2021-07-07T23:27:13.902326Z",
     "start_time": "2021-07-07T23:27:13.900076Z"
    }
   },
   "outputs": [
    {
     "data": {
      "text/plain": [
       "s11"
      ]
     },
     "execution_count": 5,
     "metadata": {},
     "output_type": "execute_result"
    }
   ],
   "source": [
    "h"
   ]
  },
  {
   "cell_type": "code",
   "execution_count": 6,
   "id": "still-shelter",
   "metadata": {
    "ExecuteTime": {
     "end_time": "2021-07-07T23:27:13.905566Z",
     "start_time": "2021-07-07T23:27:13.903359Z"
    }
   },
   "outputs": [
    {
     "data": {
      "text/plain": [
       "s14"
      ]
     },
     "execution_count": 6,
     "metadata": {},
     "output_type": "execute_result"
    }
   ],
   "source": [
    "h.add_card(3)"
   ]
  },
  {
   "cell_type": "code",
   "execution_count": 7,
   "id": "premium-charge",
   "metadata": {
    "ExecuteTime": {
     "end_time": "2021-07-07T23:27:13.908852Z",
     "start_time": "2021-07-07T23:27:13.906569Z"
    }
   },
   "outputs": [
    {
     "data": {
      "text/plain": [
       "h14"
      ]
     },
     "execution_count": 7,
     "metadata": {},
     "output_type": "execute_result"
    }
   ],
   "source": [
    "h.add_card(3).add_card(10)"
   ]
  },
  {
   "cell_type": "code",
   "execution_count": 8,
   "id": "reasonable-mercy",
   "metadata": {
    "ExecuteTime": {
     "end_time": "2021-07-07T23:27:13.915282Z",
     "start_time": "2021-07-07T23:27:13.911640Z"
    }
   },
   "outputs": [
    {
     "data": {
      "text/plain": [
       "[h00,\n",
       " h01,\n",
       " h02,\n",
       " h03,\n",
       " h04,\n",
       " h05,\n",
       " h06,\n",
       " h07,\n",
       " h08,\n",
       " h09,\n",
       " h10,\n",
       " h11,\n",
       " h12,\n",
       " h13,\n",
       " h14,\n",
       " h15,\n",
       " h16,\n",
       " h17,\n",
       " h18,\n",
       " h19,\n",
       " h20,\n",
       " h21,\n",
       " h22,\n",
       " s11,\n",
       " s12,\n",
       " s13,\n",
       " s14,\n",
       " s15,\n",
       " s16,\n",
       " s17,\n",
       " s18,\n",
       " s19,\n",
       " s20,\n",
       " s21]"
      ]
     },
     "execution_count": 8,
     "metadata": {},
     "output_type": "execute_result"
    }
   ],
   "source": [
    "all_scores = [HandScore(i, False) for i in range(0, 23)] + [HandScore(i, True) for i in range(11, 22)]\n",
    "all_scores"
   ]
  },
  {
   "cell_type": "code",
   "execution_count": 9,
   "id": "initial-harrison",
   "metadata": {
    "ExecuteTime": {
     "end_time": "2021-07-07T23:27:13.919186Z",
     "start_time": "2021-07-07T23:27:13.916985Z"
    }
   },
   "outputs": [
    {
     "data": {
      "text/plain": [
       "Hand(score=h00, cards=[], doubled=False)"
      ]
     },
     "execution_count": 9,
     "metadata": {},
     "output_type": "execute_result"
    }
   ],
   "source": [
    "h = Hand()\n",
    "h"
   ]
  },
  {
   "cell_type": "code",
   "execution_count": 10,
   "id": "reduced-cover",
   "metadata": {
    "ExecuteTime": {
     "end_time": "2021-07-07T23:27:13.922421Z",
     "start_time": "2021-07-07T23:27:13.920206Z"
    }
   },
   "outputs": [
    {
     "data": {
      "text/plain": [
       "Hand(score=h06, cards=[6], doubled=False)"
      ]
     },
     "execution_count": 10,
     "metadata": {},
     "output_type": "execute_result"
    }
   ],
   "source": [
    "h.add_card(6) # start a hand with a 6"
   ]
  },
  {
   "cell_type": "code",
   "execution_count": 11,
   "id": "aging-green",
   "metadata": {
    "ExecuteTime": {
     "end_time": "2021-07-07T23:27:13.925995Z",
     "start_time": "2021-07-07T23:27:13.923409Z"
    }
   },
   "outputs": [
    {
     "data": {
      "text/plain": [
       "Hand(score=h16, cards=[6, 11], doubled=False)"
      ]
     },
     "execution_count": 11,
     "metadata": {},
     "output_type": "execute_result"
    }
   ],
   "source": [
    "h.add_card(11) # show that J (11) counts as 10 points"
   ]
  },
  {
   "cell_type": "code",
   "execution_count": 12,
   "id": "humanitarian-chair",
   "metadata": {
    "ExecuteTime": {
     "end_time": "2021-07-07T23:27:13.931480Z",
     "start_time": "2021-07-07T23:27:13.927324Z"
    }
   },
   "outputs": [
    {
     "data": {
      "text/plain": [
       "(Hand(score=h22, cards=[6, 11, 7], doubled=False), True)"
      ]
     },
     "execution_count": 12,
     "metadata": {},
     "output_type": "execute_result"
    }
   ],
   "source": [
    "h.add_card(7), bj.is_busted(h) # bust (show that 23 is counted as 22)"
   ]
  },
  {
   "cell_type": "code",
   "execution_count": 13,
   "id": "accompanied-perspective",
   "metadata": {
    "ExecuteTime": {
     "end_time": "2021-07-07T23:27:13.934877Z",
     "start_time": "2021-07-07T23:27:13.932539Z"
    }
   },
   "outputs": [
    {
     "data": {
      "text/plain": [
       "Hand(score=s11, cards=[1], doubled=False)"
      ]
     },
     "execution_count": 13,
     "metadata": {},
     "output_type": "execute_result"
    }
   ],
   "source": [
    "# OK, now let's try another hand with aces\n",
    "h = Hand()\n",
    "h.add_card(1) # should be a soft 11"
   ]
  },
  {
   "cell_type": "code",
   "execution_count": 14,
   "id": "exotic-checkout",
   "metadata": {
    "ExecuteTime": {
     "end_time": "2021-07-07T23:27:13.937954Z",
     "start_time": "2021-07-07T23:27:13.935776Z"
    }
   },
   "outputs": [
    {
     "data": {
      "text/plain": [
       "Hand(score=s12, cards=[1, 1], doubled=False)"
      ]
     },
     "execution_count": 14,
     "metadata": {},
     "output_type": "execute_result"
    }
   ],
   "source": [
    "h.add_card(1) # two aces: should be a soft 12"
   ]
  },
  {
   "cell_type": "code",
   "execution_count": 15,
   "id": "italian-beads",
   "metadata": {
    "ExecuteTime": {
     "end_time": "2021-07-07T23:27:13.940942Z",
     "start_time": "2021-07-07T23:27:13.938776Z"
    }
   },
   "outputs": [
    {
     "data": {
      "text/plain": [
       "Hand(score=h12, cards=[1, 1, 11], doubled=False)"
      ]
     },
     "execution_count": 15,
     "metadata": {},
     "output_type": "execute_result"
    }
   ],
   "source": [
    "h.add_card(11) # two aces and a J: should be a hard 12"
   ]
  },
  {
   "cell_type": "code",
   "execution_count": 16,
   "id": "neutral-sugar",
   "metadata": {
    "ExecuteTime": {
     "end_time": "2021-07-07T23:27:13.945456Z",
     "start_time": "2021-07-07T23:27:13.941962Z"
    }
   },
   "outputs": [
    {
     "data": {
      "text/plain": [
       "(Hand(score=s21, cards=[1, 10], doubled=False), True)"
      ]
     },
     "execution_count": 16,
     "metadata": {},
     "output_type": "execute_result"
    }
   ],
   "source": [
    "# OK, now let's try another hand with a blackjack\n",
    "h = Hand()\n",
    "h.add_card(1) # should be a soft 11\n",
    "h.add_card(10)\n",
    "h, bj.is_blackjack(h)"
   ]
  },
  {
   "cell_type": "markdown",
   "id": "dental-kelly",
   "metadata": {},
   "source": [
    "## Now define gameplay and strategy"
   ]
  },
  {
   "cell_type": "code",
   "execution_count": 17,
   "id": "secondary-crown",
   "metadata": {
    "ExecuteTime": {
     "end_time": "2021-07-07T23:27:13.949460Z",
     "start_time": "2021-07-07T23:27:13.946877Z"
    }
   },
   "outputs": [
    {
     "data": {
      "text/plain": [
       "[12, 8, 2, 8, 8, 7, 6, 9, 11, 1]"
      ]
     },
     "execution_count": 17,
     "metadata": {},
     "output_type": "execute_result"
    }
   ],
   "source": [
    "[bj.deal_card() for _ in range(10)]"
   ]
  },
  {
   "cell_type": "code",
   "execution_count": null,
   "id": "adopted-miami",
   "metadata": {
    "ExecuteTime": {
     "end_time": "2021-07-07T22:43:27.944357Z",
     "start_time": "2021-07-07T22:43:27.941879Z"
    }
   },
   "outputs": [],
   "source": []
  },
  {
   "cell_type": "code",
   "execution_count": null,
   "id": "violent-quality",
   "metadata": {
    "ExecuteTime": {
     "end_time": "2021-07-07T22:43:27.953435Z",
     "start_time": "2021-07-07T22:43:27.950609Z"
    }
   },
   "outputs": [],
   "source": []
  },
  {
   "cell_type": "code",
   "execution_count": 18,
   "id": "atomic-plaintiff",
   "metadata": {
    "ExecuteTime": {
     "end_time": "2021-07-07T23:27:13.953694Z",
     "start_time": "2021-07-07T23:27:13.950948Z"
    }
   },
   "outputs": [
    {
     "data": {
      "text/plain": [
       "[('strat_nobust',\n",
       "  Hand(score=s21, cards=[13, 1], doubled=False),\n",
       "  Hand(score=h19, cards=[9, 13], doubled=False),\n",
       "  <HandOutcome.BLACKJACK: 1.5>),\n",
       " ('strat_nobust',\n",
       "  Hand(score=s21, cards=[13, 1], doubled=False),\n",
       "  Hand(score=h19, cards=[9, 13], doubled=False),\n",
       "  <HandOutcome.BLACKJACK: 1.5>)]"
      ]
     },
     "execution_count": 18,
     "metadata": {},
     "output_type": "execute_result"
    }
   ],
   "source": [
    "bj.play_one_round([bj.strat_nobust, bj.strat_nobust])"
   ]
  },
  {
   "cell_type": "markdown",
   "id": "looking-jewelry",
   "metadata": {},
   "source": [
    "## Aggregate and summarize the data from the simulations"
   ]
  },
  {
   "cell_type": "code",
   "execution_count": 19,
   "id": "juvenile-joshua",
   "metadata": {
    "ExecuteTime": {
     "end_time": "2021-07-07T23:27:13.959806Z",
     "start_time": "2021-07-07T23:27:13.954651Z"
    }
   },
   "outputs": [
    {
     "data": {
      "text/plain": [
       "[{'strategy': 'strat_nobust',\n",
       "  'hand_start': [13, 11],\n",
       "  'dealer_card': 7,\n",
       "  'hand_end': [13, 11],\n",
       "  'dealer_hand': [7, 6, 2, 12],\n",
       "  'outcome': <HandOutcome.WIN: 1>},\n",
       " {'strategy': 'strat_dealer',\n",
       "  'hand_start': [13, 11],\n",
       "  'dealer_card': 7,\n",
       "  'hand_end': [13, 11],\n",
       "  'dealer_hand': [7, 6, 2, 12],\n",
       "  'outcome': <HandOutcome.WIN: 1>}]"
      ]
     },
     "execution_count": 19,
     "metadata": {},
     "output_type": "execute_result"
    }
   ],
   "source": [
    "\n",
    "def generate_row_from_player(player):\n",
    "    (strat, hand_p, hand_d, outcome) = player\n",
    "    return {'strategy': strat, 'hand_start': hand_p.cards[:2], 'dealer_card': hand_d.cards[0], 'hand_end': hand_p.cards, 'dealer_hand': hand_d.cards, 'outcome': outcome}\n",
    "\n",
    "def generate_rows_from_round(r):\n",
    "    return [generate_row_from_player(player) for player in r]\n",
    "\n",
    "strat_nobust = bj.strat_nobust\n",
    "strat_dealer = bj.strat_dealer\n",
    "generate_rows_from_round(bj.play_one_round([bj.strat_nobust, bj.strat_dealer]))\n"
   ]
  },
  {
   "cell_type": "code",
   "execution_count": 20,
   "id": "approved-broadway",
   "metadata": {
    "ExecuteTime": {
     "end_time": "2021-07-07T23:27:14.055866Z",
     "start_time": "2021-07-07T23:27:13.961037Z"
    }
   },
   "outputs": [
    {
     "data": {
      "text/plain": [
       "(          strategy hand_start  dealer_card        hand_end     dealer_hand  \\\n",
       " 0     strat_nobust     [2, 4]            2      [2, 4, 11]       [2, 9, 9]   \n",
       " 1     strat_dealer     [2, 4]            2  [2, 4, 12, 12]       [2, 9, 9]   \n",
       " 2     strat_nobust     [1, 9]           13          [1, 9]  [13, 2, 2, 13]   \n",
       " 3     strat_dealer     [1, 9]           13          [1, 9]  [13, 2, 2, 13]   \n",
       " 4     strat_nobust     [6, 4]           11       [6, 4, 9]         [11, 8]   \n",
       " ...            ...        ...          ...             ...             ...   \n",
       " 1995  strat_dealer    [4, 12]            4      [4, 12, 6]       [4, 6, 7]   \n",
       " 1996  strat_nobust    [10, 6]            4         [10, 6]       [4, 3, 1]   \n",
       " 1997  strat_dealer    [10, 6]            4      [10, 6, 3]       [4, 3, 1]   \n",
       " 1998  strat_nobust     [4, 1]            4          [4, 1]      [4, 8, 11]   \n",
       " 1999  strat_dealer     [4, 1]            4   [4, 1, 12, 6]      [4, 8, 11]   \n",
       " \n",
       "                outcome  outcome_value outcome_name  \n",
       " 0     HandOutcome.LOSE           -1.0         LOSE  \n",
       " 1     HandOutcome.LOSE           -1.0         LOSE  \n",
       " 2      HandOutcome.WIN            1.0          WIN  \n",
       " 3      HandOutcome.WIN            1.0          WIN  \n",
       " 4      HandOutcome.WIN            1.0          WIN  \n",
       " ...                ...            ...          ...  \n",
       " 1995   HandOutcome.WIN            1.0          WIN  \n",
       " 1996  HandOutcome.LOSE           -1.0         LOSE  \n",
       " 1997   HandOutcome.WIN            1.0          WIN  \n",
       " 1998   HandOutcome.WIN            1.0          WIN  \n",
       " 1999   HandOutcome.WIN            1.0          WIN  \n",
       " \n",
       " [2000 rows x 8 columns],\n",
       "                    len                mean_outcome\n",
       " outcome_name BLACKJACK LOSE PUSH  WIN             \n",
       " strategy                                          \n",
       " strat_dealer        56  543   92  309       -0.150\n",
       " strat_nobust        56  533   61  350       -0.099)"
      ]
     },
     "execution_count": 20,
     "metadata": {},
     "output_type": "execute_result"
    }
   ],
   "source": [
    "def run_n_sim_trials(strats, n):\n",
    "    sims = [generate_rows_from_round(bj.play_one_round(strats)) for _ in range(n)]\n",
    "    results = pd.DataFrame([player for round in sims for player in round])\n",
    "    results['outcome_value'] = results['outcome'].apply(lambda x: x.value)\n",
    "    results['outcome_name'] = results['outcome'].apply(lambda x: str(x)[12:])\n",
    "    return results\n",
    "\n",
    "def summarize_totals(sims):\n",
    "    def outcome_name(x): return x.head(1) # The function name will be used as the column name\n",
    "    outcome_counts = sims.groupby(['strategy', 'outcome_value'])['outcome_name'].agg([len, outcome_name])\n",
    "    outcome_summary = outcome_counts.reset_index().set_index('strategy').drop(['outcome_value'], axis=1).pivot(columns=['outcome_name'])\n",
    "\n",
    "    # The empty cells are NaNs; fill the NaNs and convert back to int\n",
    "    for col in outcome_summary.columns:\n",
    "        outcome_summary[col] = outcome_summary[col].fillna(0).apply(int)\n",
    "        \n",
    "    outcome_summary['mean_outcome'] = sims.groupby('strategy')['outcome_value'].mean()\n",
    "    \n",
    "    return outcome_summary\n",
    "\n",
    "\n",
    "sim_results = run_n_sim_trials([strat_nobust, strat_dealer], 1000)\n",
    "sim_results, summarize_totals(sim_results)"
   ]
  },
  {
   "cell_type": "code",
   "execution_count": 21,
   "id": "varied-devil",
   "metadata": {
    "ExecuteTime": {
     "end_time": "2021-07-07T23:27:14.127662Z",
     "start_time": "2021-07-07T23:27:14.056890Z"
    }
   },
   "outputs": [
    {
     "data": {
      "text/plain": [
       "(  strategy hand_start  dealer_card       hand_end   dealer_hand  \\\n",
       " 0   simple     [9, 1]            1         [9, 1]       [1, 12]   \n",
       " 1   simple    [6, 13]            7     [6, 13, 3]       [7, 10]   \n",
       " 2   simple    [11, 9]            2        [11, 9]     [2, 9, 7]   \n",
       " 3   simple    [3, 12]           10     [3, 12, 7]    [10, 4, 9]   \n",
       " 4   simple     [2, 8]            2  [2, 8, 5, 12]    [2, 10, 7]   \n",
       " 5   simple     [5, 5]            2     [5, 5, 13]   [2, 10, 10]   \n",
       " 6   simple    [9, 12]           11        [9, 12]       [11, 7]   \n",
       " 7   simple     [4, 9]            5         [4, 9]  [5, 2, 9, 5]   \n",
       " 8   simple     [9, 6]            4         [9, 6]    [4, 8, 13]   \n",
       " 9   simple    [7, 11]           11        [7, 11]   [11, 4, 12]   \n",
       " \n",
       "             outcome  outcome_value outcome_name  \n",
       " 0  HandOutcome.LOSE           -1.0         LOSE  \n",
       " 1   HandOutcome.WIN            1.0          WIN  \n",
       " 2   HandOutcome.WIN            1.0          WIN  \n",
       " 3   HandOutcome.WIN            1.0          WIN  \n",
       " 4  HandOutcome.LOSE           -1.0         LOSE  \n",
       " 5   HandOutcome.WIN            1.0          WIN  \n",
       " 6   HandOutcome.WIN            1.0          WIN  \n",
       " 7  HandOutcome.LOSE           -1.0         LOSE  \n",
       " 8   HandOutcome.WIN            1.0          WIN  \n",
       " 9   HandOutcome.WIN            1.0          WIN  ,\n",
       "                    len                                       mean_outcome\n",
       " outcome_name BLACKJACK LOSE LOSE_DOUBLE PUSH  WIN WIN_DOUBLE             \n",
       " strategy                                                                 \n",
       " simple              37  469          14   96  350         34      -0.0235)"
      ]
     },
     "execution_count": 21,
     "metadata": {},
     "output_type": "execute_result"
    }
   ],
   "source": [
    "def strat_simple(score_p, score_d):\n",
    "    if score_p.points == 11:  return Action.DOUBLE\n",
    "    if score_p.points >= 17:  return Action.STAND\n",
    "    if score_p.points <= 11:  return Action.HIT\n",
    "    if score_d.points in (range(3,7)):  return Action.STAND\n",
    "    else:  return Action.HIT\n",
    "        \n",
    "strat_simple.name = 'simple'\n",
    "\n",
    "\n",
    "sims = run_n_sim_trials([strat_simple], 1000)\n",
    "sims.head(10), summarize_totals(sims)"
   ]
  },
  {
   "cell_type": "code",
   "execution_count": 22,
   "id": "confirmed-passing",
   "metadata": {
    "ExecuteTime": {
     "end_time": "2021-07-07T23:27:15.052563Z",
     "start_time": "2021-07-07T23:27:14.129114Z"
    }
   },
   "outputs": [
    {
     "data": {
      "text/html": [
       "<div>\n",
       "<style scoped>\n",
       "    .dataframe tbody tr th:only-of-type {\n",
       "        vertical-align: middle;\n",
       "    }\n",
       "\n",
       "    .dataframe tbody tr th {\n",
       "        vertical-align: top;\n",
       "    }\n",
       "\n",
       "    .dataframe thead tr th {\n",
       "        text-align: left;\n",
       "    }\n",
       "\n",
       "    .dataframe thead tr:last-of-type th {\n",
       "        text-align: right;\n",
       "    }\n",
       "</style>\n",
       "<table border=\"1\" class=\"dataframe\">\n",
       "  <thead>\n",
       "    <tr>\n",
       "      <th></th>\n",
       "      <th colspan=\"6\" halign=\"left\">len</th>\n",
       "      <th>mean_outcome</th>\n",
       "    </tr>\n",
       "    <tr>\n",
       "      <th>outcome_name</th>\n",
       "      <th>BLACKJACK</th>\n",
       "      <th>LOSE</th>\n",
       "      <th>LOSE_DOUBLE</th>\n",
       "      <th>PUSH</th>\n",
       "      <th>WIN</th>\n",
       "      <th>WIN_DOUBLE</th>\n",
       "      <th></th>\n",
       "    </tr>\n",
       "    <tr>\n",
       "      <th>strategy</th>\n",
       "      <th></th>\n",
       "      <th></th>\n",
       "      <th></th>\n",
       "      <th></th>\n",
       "      <th></th>\n",
       "      <th></th>\n",
       "      <th></th>\n",
       "    </tr>\n",
       "  </thead>\n",
       "  <tbody>\n",
       "    <tr>\n",
       "      <th>simple</th>\n",
       "      <td>464</td>\n",
       "      <td>4574</td>\n",
       "      <td>238</td>\n",
       "      <td>792</td>\n",
       "      <td>3595</td>\n",
       "      <td>337</td>\n",
       "      <td>-0.0085</td>\n",
       "    </tr>\n",
       "    <tr>\n",
       "      <th>strat_dealer</th>\n",
       "      <td>464</td>\n",
       "      <td>4972</td>\n",
       "      <td>0</td>\n",
       "      <td>900</td>\n",
       "      <td>3664</td>\n",
       "      <td>0</td>\n",
       "      <td>-0.0612</td>\n",
       "    </tr>\n",
       "    <tr>\n",
       "      <th>strat_nobust</th>\n",
       "      <td>464</td>\n",
       "      <td>5128</td>\n",
       "      <td>0</td>\n",
       "      <td>586</td>\n",
       "      <td>3822</td>\n",
       "      <td>0</td>\n",
       "      <td>-0.0610</td>\n",
       "    </tr>\n",
       "  </tbody>\n",
       "</table>\n",
       "</div>"
      ],
      "text/plain": [
       "                   len                                         mean_outcome\n",
       "outcome_name BLACKJACK  LOSE LOSE_DOUBLE PUSH   WIN WIN_DOUBLE             \n",
       "strategy                                                                   \n",
       "simple             464  4574         238  792  3595        337      -0.0085\n",
       "strat_dealer       464  4972           0  900  3664          0      -0.0612\n",
       "strat_nobust       464  5128           0  586  3822          0      -0.0610"
      ]
     },
     "execution_count": 22,
     "metadata": {},
     "output_type": "execute_result"
    }
   ],
   "source": [
    "summarize_totals(run_n_sim_trials([strat_dealer, strat_nobust, strat_simple], 10000))\n"
   ]
  },
  {
   "cell_type": "markdown",
   "id": "fluid-writing",
   "metadata": {},
   "source": [
    "## Simulate specific situations to determine strategy"
   ]
  },
  {
   "cell_type": "code",
   "execution_count": 23,
   "id": "otherwise-sheffield",
   "metadata": {
    "ExecuteTime": {
     "end_time": "2021-07-07T23:27:15.058174Z",
     "start_time": "2021-07-07T23:27:15.056072Z"
    }
   },
   "outputs": [
    {
     "data": {
      "text/plain": [
       "(Hand(score=h12, cards=[5, 7], doubled=False),\n",
       " Hand(score=h02, cards=[2], doubled=False))"
      ]
     },
     "execution_count": 23,
     "metadata": {},
     "output_type": "execute_result"
    }
   ],
   "source": [
    "# 12 vs deuce\n",
    "\n",
    "hand_p = make_hand([5, 7])\n",
    "hand_d = make_hand([2])\n",
    "\n",
    "hand_p, hand_d"
   ]
  },
  {
   "cell_type": "code",
   "execution_count": 24,
   "id": "gross-kennedy",
   "metadata": {
    "ExecuteTime": {
     "end_time": "2021-07-07T23:27:15.063380Z",
     "start_time": "2021-07-07T23:27:15.060418Z"
    }
   },
   "outputs": [],
   "source": [
    "# Implement a strategy that composes conditions and actions\n",
    "\n",
    "def cond_12_2(score_p, score_d):\n",
    "    return score_p.points == 12 and score_d.points == 2 and not score_p.soft\n",
    "conditions = [(cond_12_2, Action.STAND)]\n",
    "\n",
    "def generate_strat_conditional(strat_base, conditions):\n",
    "    def strat_cond(score_p, score_d):\n",
    "        for (condition, action) in conditions:\n",
    "            if condition(score_p, score_d): return action\n",
    "        return strat_base(score_p, score_d)\n",
    "    strat_cond.name = 'strat_cond'\n",
    "    return strat_cond\n",
    "    \n",
    "strat_cond = generate_strat_conditional(strat_simple, conditions)"
   ]
  },
  {
   "cell_type": "code",
   "execution_count": 25,
   "id": "virgin-mining",
   "metadata": {
    "ExecuteTime": {
     "end_time": "2021-07-07T23:27:15.068747Z",
     "start_time": "2021-07-07T23:27:15.064841Z"
    }
   },
   "outputs": [
    {
     "data": {
      "text/plain": [
       "[<function __main__.generate_strat_conditional.<locals>.strat_cond(score_p, score_d)>,\n",
       " <function __main__.generate_strat_conditional.<locals>.strat_cond(score_p, score_d)>,\n",
       " <function __main__.generate_strat_conditional.<locals>.strat_cond(score_p, score_d)>]"
      ]
     },
     "execution_count": 25,
     "metadata": {},
     "output_type": "execute_result"
    }
   ],
   "source": [
    "def gen_cond_strategies(strat_base, condition, actions):\n",
    "    def gen_strat_action(strat_base, condition, action):\n",
    "        strat = generate_strat_conditional(strat_base, [(condition, action)])\n",
    "        strat.name = repr(action)\n",
    "        return strat\n",
    "    \n",
    "    strats = [gen_strat_action(strat_base, condition, a) for a in actions]\n",
    "    return strats\n",
    "    \n",
    "\n",
    "\n",
    "\n",
    "strats = gen_cond_strategies(strat_simple, cond_12_2, [Action.HIT, Action.STAND, Action.DOUBLE])\n",
    "strats"
   ]
  },
  {
   "cell_type": "code",
   "execution_count": 26,
   "id": "acoustic-warrant",
   "metadata": {
    "ExecuteTime": {
     "end_time": "2021-07-07T23:27:15.072422Z",
     "start_time": "2021-07-07T23:27:15.069652Z"
    }
   },
   "outputs": [
    {
     "data": {
      "text/plain": [
       "[('<Action.HIT: 2>',\n",
       "  Hand(score=h18, cards=[5, 7, 6], doubled=False),\n",
       "  Hand(score=h22, cards=[2, 3, 13, 13], doubled=False),\n",
       "  <HandOutcome.WIN: 1>),\n",
       " ('<Action.STAND: 1>',\n",
       "  Hand(score=h12, cards=[5, 7], doubled=False),\n",
       "  Hand(score=h22, cards=[2, 3, 13, 13], doubled=False),\n",
       "  <HandOutcome.WIN: 1>),\n",
       " ('<Action.DOUBLE: 3>',\n",
       "  Hand(score=h21, cards=[5, 7, 9], doubled=True),\n",
       "  Hand(score=h22, cards=[2, 3, 13, 13], doubled=False),\n",
       "  <HandOutcome.WIN_DOUBLE: 2>)]"
      ]
     },
     "execution_count": 26,
     "metadata": {},
     "output_type": "execute_result"
    }
   ],
   "source": [
    "bj.complete_one_round(strats, hand_p, hand_d, bj.deal_card())"
   ]
  },
  {
   "cell_type": "code",
   "execution_count": 27,
   "id": "economic-greene",
   "metadata": {
    "ExecuteTime": {
     "end_time": "2021-07-07T23:27:15.973524Z",
     "start_time": "2021-07-07T23:27:15.073424Z"
    }
   },
   "outputs": [
    {
     "data": {
      "text/html": [
       "<div>\n",
       "<style scoped>\n",
       "    .dataframe tbody tr th:only-of-type {\n",
       "        vertical-align: middle;\n",
       "    }\n",
       "\n",
       "    .dataframe tbody tr th {\n",
       "        vertical-align: top;\n",
       "    }\n",
       "\n",
       "    .dataframe thead tr th {\n",
       "        text-align: left;\n",
       "    }\n",
       "\n",
       "    .dataframe thead tr:last-of-type th {\n",
       "        text-align: right;\n",
       "    }\n",
       "</style>\n",
       "<table border=\"1\" class=\"dataframe\">\n",
       "  <thead>\n",
       "    <tr>\n",
       "      <th></th>\n",
       "      <th colspan=\"5\" halign=\"left\">len</th>\n",
       "      <th>mean_outcome</th>\n",
       "    </tr>\n",
       "    <tr>\n",
       "      <th>outcome_name</th>\n",
       "      <th>LOSE</th>\n",
       "      <th>LOSE_DOUBLE</th>\n",
       "      <th>PUSH</th>\n",
       "      <th>WIN</th>\n",
       "      <th>WIN_DOUBLE</th>\n",
       "      <th></th>\n",
       "    </tr>\n",
       "    <tr>\n",
       "      <th>strategy</th>\n",
       "      <th></th>\n",
       "      <th></th>\n",
       "      <th></th>\n",
       "      <th></th>\n",
       "      <th></th>\n",
       "      <th></th>\n",
       "    </tr>\n",
       "  </thead>\n",
       "  <tbody>\n",
       "    <tr>\n",
       "      <th>&lt;Action.DOUBLE: 3&gt;</th>\n",
       "      <td>0</td>\n",
       "      <td>5902</td>\n",
       "      <td>504</td>\n",
       "      <td>0</td>\n",
       "      <td>3594</td>\n",
       "      <td>-0.4616</td>\n",
       "    </tr>\n",
       "    <tr>\n",
       "      <th>&lt;Action.HIT: 2&gt;</th>\n",
       "      <td>6044</td>\n",
       "      <td>0</td>\n",
       "      <td>667</td>\n",
       "      <td>3289</td>\n",
       "      <td>0</td>\n",
       "      <td>-0.2755</td>\n",
       "    </tr>\n",
       "    <tr>\n",
       "      <th>&lt;Action.STAND: 1&gt;</th>\n",
       "      <td>6269</td>\n",
       "      <td>0</td>\n",
       "      <td>0</td>\n",
       "      <td>3731</td>\n",
       "      <td>0</td>\n",
       "      <td>-0.2538</td>\n",
       "    </tr>\n",
       "  </tbody>\n",
       "</table>\n",
       "</div>"
      ],
      "text/plain": [
       "                     len                                   mean_outcome\n",
       "outcome_name        LOSE LOSE_DOUBLE PUSH   WIN WIN_DOUBLE             \n",
       "strategy                                                               \n",
       "<Action.DOUBLE: 3>     0        5902  504     0       3594      -0.4616\n",
       "<Action.HIT: 2>     6044           0  667  3289          0      -0.2755\n",
       "<Action.STAND: 1>   6269           0    0  3731          0      -0.2538"
      ]
     },
     "execution_count": 27,
     "metadata": {},
     "output_type": "execute_result"
    }
   ],
   "source": [
    "# TODO reduce duplication with run_n_sim_trials\n",
    "def run_n_sim_trials_from_state(strats, hand_p, hand_d, n):\n",
    "    sims = [generate_rows_from_round(bj.complete_one_round(strats, hand_p, hand_d, bj.deal_card())) for _ in range(n)]\n",
    "    results = pd.DataFrame([player for round in sims for player in round])\n",
    "    results['outcome_value'] = results['outcome'].apply(lambda x: x.value)\n",
    "    results['outcome_name'] = results['outcome'].apply(lambda x: str(x)[12:])\n",
    "    return results\n",
    "\n",
    "sims = run_n_sim_trials_from_state(strats, hand_p, hand_d, 10000)\n",
    "summarize_totals(sims)"
   ]
  },
  {
   "cell_type": "code",
   "execution_count": 28,
   "id": "institutional-grain",
   "metadata": {
    "ExecuteTime": {
     "end_time": "2021-07-07T23:27:15.976347Z",
     "start_time": "2021-07-07T23:27:15.974369Z"
    }
   },
   "outputs": [
    {
     "data": {
      "text/plain": [
       "(Hand(score=s12, cards=[1, 1], doubled=False),\n",
       " Hand(score=h02, cards=[2], doubled=False))"
      ]
     },
     "execution_count": 28,
     "metadata": {},
     "output_type": "execute_result"
    }
   ],
   "source": [
    "# Soft 12 vs 2\n",
    "hand_12s = make_hand([1, 1])\n",
    "\n",
    "hand_12s, hand_d"
   ]
  },
  {
   "cell_type": "code",
   "execution_count": 29,
   "id": "legal-uniform",
   "metadata": {
    "ExecuteTime": {
     "end_time": "2021-07-07T23:27:15.979672Z",
     "start_time": "2021-07-07T23:27:15.977141Z"
    }
   },
   "outputs": [
    {
     "data": {
      "text/plain": [
       "[<function __main__.generate_strat_conditional.<locals>.strat_cond(score_p, score_d)>,\n",
       " <function __main__.generate_strat_conditional.<locals>.strat_cond(score_p, score_d)>,\n",
       " <function __main__.generate_strat_conditional.<locals>.strat_cond(score_p, score_d)>]"
      ]
     },
     "execution_count": 29,
     "metadata": {},
     "output_type": "execute_result"
    }
   ],
   "source": [
    "def cond_12s_2(score_p, score_d):\n",
    "    return score_p == HandScore(12, True) and score_d.points == 2\n",
    "\n",
    "strats = gen_cond_strategies(strat_simple, cond_12s_2, [Action.HIT, Action.STAND, Action.DOUBLE])\n",
    "strats"
   ]
  },
  {
   "cell_type": "code",
   "execution_count": 30,
   "id": "british-logging",
   "metadata": {
    "ExecuteTime": {
     "end_time": "2021-07-07T23:27:17.206823Z",
     "start_time": "2021-07-07T23:27:15.980506Z"
    }
   },
   "outputs": [
    {
     "data": {
      "text/html": [
       "<div>\n",
       "<style scoped>\n",
       "    .dataframe tbody tr th:only-of-type {\n",
       "        vertical-align: middle;\n",
       "    }\n",
       "\n",
       "    .dataframe tbody tr th {\n",
       "        vertical-align: top;\n",
       "    }\n",
       "\n",
       "    .dataframe thead tr th {\n",
       "        text-align: left;\n",
       "    }\n",
       "\n",
       "    .dataframe thead tr:last-of-type th {\n",
       "        text-align: right;\n",
       "    }\n",
       "</style>\n",
       "<table border=\"1\" class=\"dataframe\">\n",
       "  <thead>\n",
       "    <tr>\n",
       "      <th></th>\n",
       "      <th colspan=\"5\" halign=\"left\">len</th>\n",
       "      <th>mean_outcome</th>\n",
       "    </tr>\n",
       "    <tr>\n",
       "      <th>outcome_name</th>\n",
       "      <th>LOSE</th>\n",
       "      <th>LOSE_DOUBLE</th>\n",
       "      <th>PUSH</th>\n",
       "      <th>WIN</th>\n",
       "      <th>WIN_DOUBLE</th>\n",
       "      <th></th>\n",
       "    </tr>\n",
       "    <tr>\n",
       "      <th>strategy</th>\n",
       "      <th></th>\n",
       "      <th></th>\n",
       "      <th></th>\n",
       "      <th></th>\n",
       "      <th></th>\n",
       "      <th></th>\n",
       "    </tr>\n",
       "  </thead>\n",
       "  <tbody>\n",
       "    <tr>\n",
       "      <th>&lt;Action.DOUBLE: 3&gt;</th>\n",
       "      <td>0</td>\n",
       "      <td>6382</td>\n",
       "      <td>0</td>\n",
       "      <td>0</td>\n",
       "      <td>3618</td>\n",
       "      <td>-0.5528</td>\n",
       "    </tr>\n",
       "    <tr>\n",
       "      <th>&lt;Action.HIT: 2&gt;</th>\n",
       "      <td>4875</td>\n",
       "      <td>417</td>\n",
       "      <td>783</td>\n",
       "      <td>3205</td>\n",
       "      <td>720</td>\n",
       "      <td>-0.1064</td>\n",
       "    </tr>\n",
       "    <tr>\n",
       "      <th>&lt;Action.STAND: 1&gt;</th>\n",
       "      <td>6382</td>\n",
       "      <td>0</td>\n",
       "      <td>0</td>\n",
       "      <td>3618</td>\n",
       "      <td>0</td>\n",
       "      <td>-0.2764</td>\n",
       "    </tr>\n",
       "    <tr>\n",
       "      <th>simple</th>\n",
       "      <td>4826</td>\n",
       "      <td>427</td>\n",
       "      <td>814</td>\n",
       "      <td>3182</td>\n",
       "      <td>751</td>\n",
       "      <td>-0.0996</td>\n",
       "    </tr>\n",
       "  </tbody>\n",
       "</table>\n",
       "</div>"
      ],
      "text/plain": [
       "                     len                                   mean_outcome\n",
       "outcome_name        LOSE LOSE_DOUBLE PUSH   WIN WIN_DOUBLE             \n",
       "strategy                                                               \n",
       "<Action.DOUBLE: 3>     0        6382    0     0       3618      -0.5528\n",
       "<Action.HIT: 2>     4875         417  783  3205        720      -0.1064\n",
       "<Action.STAND: 1>   6382           0    0  3618          0      -0.2764\n",
       "simple              4826         427  814  3182        751      -0.0996"
      ]
     },
     "execution_count": 30,
     "metadata": {},
     "output_type": "execute_result"
    }
   ],
   "source": [
    "sims = run_n_sim_trials_from_state(strats+[strat_simple], hand_12s, hand_d, 10000)\n",
    "summarize_totals(sims)"
   ]
  },
  {
   "cell_type": "code",
   "execution_count": 31,
   "id": "based-subscription",
   "metadata": {
    "ExecuteTime": {
     "end_time": "2021-07-07T23:27:17.943616Z",
     "start_time": "2021-07-07T23:27:17.208064Z"
    }
   },
   "outputs": [
    {
     "data": {
      "text/html": [
       "<div>\n",
       "<style scoped>\n",
       "    .dataframe tbody tr th:only-of-type {\n",
       "        vertical-align: middle;\n",
       "    }\n",
       "\n",
       "    .dataframe tbody tr th {\n",
       "        vertical-align: top;\n",
       "    }\n",
       "\n",
       "    .dataframe thead tr th {\n",
       "        text-align: left;\n",
       "    }\n",
       "\n",
       "    .dataframe thead tr:last-of-type th {\n",
       "        text-align: right;\n",
       "    }\n",
       "</style>\n",
       "<table border=\"1\" class=\"dataframe\">\n",
       "  <thead>\n",
       "    <tr>\n",
       "      <th></th>\n",
       "      <th colspan=\"3\" halign=\"left\">len</th>\n",
       "      <th>mean_outcome</th>\n",
       "    </tr>\n",
       "    <tr>\n",
       "      <th>outcome_name</th>\n",
       "      <th>LOSE</th>\n",
       "      <th>PUSH</th>\n",
       "      <th>WIN</th>\n",
       "      <th></th>\n",
       "    </tr>\n",
       "    <tr>\n",
       "      <th>strategy</th>\n",
       "      <th></th>\n",
       "      <th></th>\n",
       "      <th></th>\n",
       "      <th></th>\n",
       "    </tr>\n",
       "  </thead>\n",
       "  <tbody>\n",
       "    <tr>\n",
       "      <th>simple</th>\n",
       "      <td>6066</td>\n",
       "      <td>637</td>\n",
       "      <td>3297</td>\n",
       "      <td>-0.2769</td>\n",
       "    </tr>\n",
       "    <tr>\n",
       "      <th>strat_cond</th>\n",
       "      <td>6416</td>\n",
       "      <td>0</td>\n",
       "      <td>3584</td>\n",
       "      <td>-0.2832</td>\n",
       "    </tr>\n",
       "  </tbody>\n",
       "</table>\n",
       "</div>"
      ],
      "text/plain": [
       "               len            mean_outcome\n",
       "outcome_name  LOSE PUSH   WIN             \n",
       "strategy                                  \n",
       "simple        6066  637  3297      -0.2769\n",
       "strat_cond    6416    0  3584      -0.2832"
      ]
     },
     "execution_count": 31,
     "metadata": {},
     "output_type": "execute_result"
    }
   ],
   "source": [
    "summarize_totals(run_n_sim_trials_from_state([strat_simple, strat_cond], hand_p, hand_d, 10*1000))"
   ]
  },
  {
   "cell_type": "code",
   "execution_count": 32,
   "id": "vietnamese-spray",
   "metadata": {
    "ExecuteTime": {
     "end_time": "2021-07-07T23:27:19.050648Z",
     "start_time": "2021-07-07T23:27:17.944686Z"
    }
   },
   "outputs": [
    {
     "data": {
      "text/html": [
       "<div>\n",
       "<style scoped>\n",
       "    .dataframe tbody tr th:only-of-type {\n",
       "        vertical-align: middle;\n",
       "    }\n",
       "\n",
       "    .dataframe tbody tr th {\n",
       "        vertical-align: top;\n",
       "    }\n",
       "\n",
       "    .dataframe thead tr th {\n",
       "        text-align: left;\n",
       "    }\n",
       "\n",
       "    .dataframe thead tr:last-of-type th {\n",
       "        text-align: right;\n",
       "    }\n",
       "</style>\n",
       "<table border=\"1\" class=\"dataframe\">\n",
       "  <thead>\n",
       "    <tr>\n",
       "      <th></th>\n",
       "      <th colspan=\"5\" halign=\"left\">len</th>\n",
       "      <th>mean_outcome</th>\n",
       "    </tr>\n",
       "    <tr>\n",
       "      <th>outcome_name</th>\n",
       "      <th>LOSE</th>\n",
       "      <th>LOSE_DOUBLE</th>\n",
       "      <th>PUSH</th>\n",
       "      <th>WIN</th>\n",
       "      <th>WIN_DOUBLE</th>\n",
       "      <th></th>\n",
       "    </tr>\n",
       "    <tr>\n",
       "      <th>strategy</th>\n",
       "      <th></th>\n",
       "      <th></th>\n",
       "      <th></th>\n",
       "      <th></th>\n",
       "      <th></th>\n",
       "      <th></th>\n",
       "    </tr>\n",
       "  </thead>\n",
       "  <tbody>\n",
       "    <tr>\n",
       "      <th>&lt;Action.DOUBLE: 3&gt;</th>\n",
       "      <td>0</td>\n",
       "      <td>5781</td>\n",
       "      <td>0</td>\n",
       "      <td>0</td>\n",
       "      <td>4219</td>\n",
       "      <td>-0.3124</td>\n",
       "    </tr>\n",
       "    <tr>\n",
       "      <th>&lt;Action.HIT: 2&gt;</th>\n",
       "      <td>4552</td>\n",
       "      <td>323</td>\n",
       "      <td>295</td>\n",
       "      <td>4105</td>\n",
       "      <td>725</td>\n",
       "      <td>0.0357</td>\n",
       "    </tr>\n",
       "    <tr>\n",
       "      <th>&lt;Action.STAND: 1&gt;</th>\n",
       "      <td>5781</td>\n",
       "      <td>0</td>\n",
       "      <td>0</td>\n",
       "      <td>4219</td>\n",
       "      <td>0</td>\n",
       "      <td>-0.1562</td>\n",
       "    </tr>\n",
       "    <tr>\n",
       "      <th>simple</th>\n",
       "      <td>5781</td>\n",
       "      <td>0</td>\n",
       "      <td>0</td>\n",
       "      <td>4219</td>\n",
       "      <td>0</td>\n",
       "      <td>-0.1562</td>\n",
       "    </tr>\n",
       "  </tbody>\n",
       "</table>\n",
       "</div>"
      ],
      "text/plain": [
       "                     len                                   mean_outcome\n",
       "outcome_name        LOSE LOSE_DOUBLE PUSH   WIN WIN_DOUBLE             \n",
       "strategy                                                               \n",
       "<Action.DOUBLE: 3>     0        5781    0     0       4219      -0.3124\n",
       "<Action.HIT: 2>     4552         323  295  4105        725       0.0357\n",
       "<Action.STAND: 1>   5781           0    0  4219          0      -0.1562\n",
       "simple              5781           0    0  4219          0      -0.1562"
      ]
     },
     "execution_count": 32,
     "metadata": {},
     "output_type": "execute_result"
    }
   ],
   "source": [
    "# soft 13 vs 6\n",
    "def cond_13s_6(score_p, score_d):\n",
    "    return score_p == HandScore(13, True) and score_d.points == 6\n",
    "\n",
    "\n",
    "\n",
    "strats = gen_cond_strategies(strat_simple, cond_13s_6, [Action.HIT, Action.STAND, Action.DOUBLE])\n",
    "sims = run_n_sim_trials_from_state(strats+[strat_simple], bj.make_hand([1, 2]), bj.make_hand([6]), 10000)\n",
    "summarize_totals(sims)"
   ]
  },
  {
   "cell_type": "code",
   "execution_count": 33,
   "id": "liable-painting",
   "metadata": {
    "ExecuteTime": {
     "end_time": "2021-07-07T23:27:20.194240Z",
     "start_time": "2021-07-07T23:27:19.051614Z"
    }
   },
   "outputs": [
    {
     "data": {
      "text/html": [
       "<div>\n",
       "<style scoped>\n",
       "    .dataframe tbody tr th:only-of-type {\n",
       "        vertical-align: middle;\n",
       "    }\n",
       "\n",
       "    .dataframe tbody tr th {\n",
       "        vertical-align: top;\n",
       "    }\n",
       "\n",
       "    .dataframe thead tr th {\n",
       "        text-align: left;\n",
       "    }\n",
       "\n",
       "    .dataframe thead tr:last-of-type th {\n",
       "        text-align: right;\n",
       "    }\n",
       "</style>\n",
       "<table border=\"1\" class=\"dataframe\">\n",
       "  <thead>\n",
       "    <tr>\n",
       "      <th></th>\n",
       "      <th colspan=\"5\" halign=\"left\">len</th>\n",
       "      <th>mean_outcome</th>\n",
       "    </tr>\n",
       "    <tr>\n",
       "      <th>outcome_name</th>\n",
       "      <th>LOSE</th>\n",
       "      <th>LOSE_DOUBLE</th>\n",
       "      <th>PUSH</th>\n",
       "      <th>WIN</th>\n",
       "      <th>WIN_DOUBLE</th>\n",
       "      <th></th>\n",
       "    </tr>\n",
       "    <tr>\n",
       "      <th>strategy</th>\n",
       "      <th></th>\n",
       "      <th></th>\n",
       "      <th></th>\n",
       "      <th></th>\n",
       "      <th></th>\n",
       "      <th></th>\n",
       "    </tr>\n",
       "  </thead>\n",
       "  <tbody>\n",
       "    <tr>\n",
       "      <th>&lt;Action.DOUBLE: 3&gt;</th>\n",
       "      <td>0</td>\n",
       "      <td>3237</td>\n",
       "      <td>682</td>\n",
       "      <td>0</td>\n",
       "      <td>6081</td>\n",
       "      <td>0.5688</td>\n",
       "    </tr>\n",
       "    <tr>\n",
       "      <th>&lt;Action.HIT: 2&gt;</th>\n",
       "      <td>3282</td>\n",
       "      <td>0</td>\n",
       "      <td>675</td>\n",
       "      <td>6043</td>\n",
       "      <td>0</td>\n",
       "      <td>0.2761</td>\n",
       "    </tr>\n",
       "    <tr>\n",
       "      <th>&lt;Action.STAND: 1&gt;</th>\n",
       "      <td>5802</td>\n",
       "      <td>0</td>\n",
       "      <td>0</td>\n",
       "      <td>4198</td>\n",
       "      <td>0</td>\n",
       "      <td>-0.1604</td>\n",
       "    </tr>\n",
       "    <tr>\n",
       "      <th>simple</th>\n",
       "      <td>3250</td>\n",
       "      <td>0</td>\n",
       "      <td>649</td>\n",
       "      <td>6101</td>\n",
       "      <td>0</td>\n",
       "      <td>0.2851</td>\n",
       "    </tr>\n",
       "  </tbody>\n",
       "</table>\n",
       "</div>"
      ],
      "text/plain": [
       "                     len                                   mean_outcome\n",
       "outcome_name        LOSE LOSE_DOUBLE PUSH   WIN WIN_DOUBLE             \n",
       "strategy                                                               \n",
       "<Action.DOUBLE: 3>     0        3237  682     0       6081       0.5688\n",
       "<Action.HIT: 2>     3282           0  675  6043          0       0.2761\n",
       "<Action.STAND: 1>   5802           0    0  4198          0      -0.1604\n",
       "simple              3250           0  649  6101          0       0.2851"
      ]
     },
     "execution_count": 33,
     "metadata": {},
     "output_type": "execute_result"
    }
   ],
   "source": [
    "# 10 v 6\n",
    "def cond_10_6(score_p, score_d):\n",
    "    return score_p.points == 10 and score_d.points == 6\n",
    "\n",
    "strats = gen_cond_strategies(strat_simple, cond_10_6, [Action.HIT, Action.STAND, Action.DOUBLE])\n",
    "sims = run_n_sim_trials_from_state(strats+[strat_simple], make_hand([5, 5]), make_hand([6]), 10000)\n",
    "summarize_totals(sims)"
   ]
  },
  {
   "cell_type": "code",
   "execution_count": 34,
   "id": "serious-briefs",
   "metadata": {
    "ExecuteTime": {
     "end_time": "2021-07-07T23:27:21.086337Z",
     "start_time": "2021-07-07T23:27:20.195178Z"
    }
   },
   "outputs": [
    {
     "data": {
      "text/plain": [
       "(<function __main__.test_cond.<locals>.cond(p, d)>,\n",
       "                      len                                   mean_outcome\n",
       " outcome_name        LOSE LOSE_DOUBLE PUSH   WIN WIN_DOUBLE             \n",
       " strategy                                                               \n",
       " <Action.DOUBLE: 3>     0        3245  660     0       6095       0.5700\n",
       " <Action.HIT: 2>     3229           0  696  6075          0       0.2846\n",
       " <Action.STAND: 1>   5809           0    0  4191          0      -0.1618)"
      ]
     },
     "execution_count": 34,
     "metadata": {},
     "output_type": "execute_result"
    }
   ],
   "source": [
    "ACTIONS = [Action.HIT, Action.STAND, Action.DOUBLE]\n",
    "\n",
    "def test_cond(score_p, score_d, n):\n",
    "    def cond(p, d):\n",
    "        return p == score_p and d == score_d\n",
    "    strats = gen_cond_strategies(strat_simple, cond, ACTIONS)\n",
    "    hand_p = Hand(score_p) \n",
    "    hand_d = make_hand([score_d.points if score_d.points< 11 else 1])\n",
    "    sims = run_n_sim_trials_from_state(strats, hand_p, hand_d, n)\n",
    "    return cond, summarize_totals(sims)\n",
    "\n",
    "test_cond(HandScore(10), HandScore(6), 10000)"
   ]
  },
  {
   "cell_type": "code",
   "execution_count": 35,
   "id": "initial-seating",
   "metadata": {
    "ExecuteTime": {
     "end_time": "2021-07-07T23:27:21.117668Z",
     "start_time": "2021-07-07T23:27:21.087274Z"
    }
   },
   "outputs": [
    {
     "data": {
      "text/plain": [
       "(<function __main__.test_cond.<locals>.cond(p, d)>,\n",
       "                     len                                  mean_outcome\n",
       " outcome_name       LOSE LOSE_DOUBLE PUSH  WIN WIN_DOUBLE             \n",
       " strategy                                                             \n",
       " <Action.DOUBLE: 3>    0         157    3    0         40       -1.170\n",
       " <Action.HIT: 2>     159           0    1   40          0       -0.595\n",
       " <Action.STAND: 1>    50           0   18  132          0        0.410)"
      ]
     },
     "execution_count": 35,
     "metadata": {},
     "output_type": "execute_result"
    }
   ],
   "source": [
    "test_cond(HandScore(18), HandScore(6), 200)"
   ]
  },
  {
   "cell_type": "code",
   "execution_count": 36,
   "id": "alleged-glossary",
   "metadata": {
    "ExecuteTime": {
     "end_time": "2021-07-07T23:27:21.149164Z",
     "start_time": "2021-07-07T23:27:21.118718Z"
    }
   },
   "outputs": [
    {
     "data": {
      "text/plain": [
       "(<function __main__.test_cond.<locals>.cond(p, d)>,\n",
       "                     len                                  mean_outcome\n",
       " outcome_name       LOSE LOSE_DOUBLE PUSH  WIN WIN_DOUBLE             \n",
       " strategy                                                             \n",
       " <Action.DOUBLE: 3>    0          69   11    0        120        0.510\n",
       " <Action.HIT: 2>      69           0   10  121          0        0.260\n",
       " <Action.STAND: 1>     0           0   19  181          0        0.905)"
      ]
     },
     "execution_count": 36,
     "metadata": {},
     "output_type": "execute_result"
    }
   ],
   "source": [
    "test_cond(HandScore(21, True), HandScore(6), 200)"
   ]
  },
  {
   "cell_type": "code",
   "execution_count": 37,
   "id": "manual-anime",
   "metadata": {
    "ExecuteTime": {
     "end_time": "2021-07-07T23:27:21.187927Z",
     "start_time": "2021-07-07T23:27:21.151079Z"
    }
   },
   "outputs": [
    {
     "data": {
      "text/plain": [
       "(<function __main__.test_cond.<locals>.cond(p, d)>,\n",
       " {'<Action.DOUBLE: 3>': 0.61,\n",
       "  '<Action.HIT: 2>': 0.405,\n",
       "  '<Action.STAND: 1>': -0.12,\n",
       "  'score_p': 'h10',\n",
       "  'score_d': 'h06',\n",
       "  'winning_act': <Action.DOUBLE: 3>,\n",
       "  'winning_act_outcome': 0.61})"
      ]
     },
     "execution_count": 37,
     "metadata": {},
     "output_type": "execute_result"
    }
   ],
   "source": [
    "def find_winning_action(score_p, score_d, n):\n",
    "    cond, summary = test_cond(score_p, score_d, n)\n",
    "    outcomes = summary['mean_outcome']\n",
    "    # Find the winning strategy\n",
    "    winner = outcomes[outcomes==outcomes.max()].index[0]\n",
    "    winning_act = [a for a in ACTIONS if repr(a)==winner][0]\n",
    "\n",
    "    # Convert results to a dict\n",
    "    run = outcomes.to_dict()\n",
    "    run['score_p'] = repr(score_p)\n",
    "    run['score_d'] = repr(score_d)\n",
    "    run['winning_act'] = winning_act\n",
    "    run['winning_act_outcome'] = outcomes.max()\n",
    "\n",
    "    return (cond, run)\n",
    "\n",
    "find_winning_action(HandScore(10), HandScore(6), 200)"
   ]
  },
  {
   "cell_type": "code",
   "execution_count": 38,
   "id": "behind-seattle",
   "metadata": {
    "ExecuteTime": {
     "end_time": "2021-07-07T23:27:21.820313Z",
     "start_time": "2021-07-07T23:27:21.188955Z"
    }
   },
   "outputs": [
    {
     "data": {
      "text/html": [
       "<div>\n",
       "<style scoped>\n",
       "    .dataframe tbody tr th:only-of-type {\n",
       "        vertical-align: middle;\n",
       "    }\n",
       "\n",
       "    .dataframe tbody tr th {\n",
       "        vertical-align: top;\n",
       "    }\n",
       "\n",
       "    .dataframe thead th {\n",
       "        text-align: right;\n",
       "    }\n",
       "</style>\n",
       "<table border=\"1\" class=\"dataframe\">\n",
       "  <thead>\n",
       "    <tr style=\"text-align: right;\">\n",
       "      <th></th>\n",
       "      <th></th>\n",
       "      <th>&lt;Action.DOUBLE: 3&gt;</th>\n",
       "      <th>&lt;Action.HIT: 2&gt;</th>\n",
       "      <th>&lt;Action.STAND: 1&gt;</th>\n",
       "      <th>winning_act</th>\n",
       "      <th>winning_act_outcome</th>\n",
       "    </tr>\n",
       "    <tr>\n",
       "      <th>score_p</th>\n",
       "      <th>score_d</th>\n",
       "      <th></th>\n",
       "      <th></th>\n",
       "      <th></th>\n",
       "      <th></th>\n",
       "      <th></th>\n",
       "    </tr>\n",
       "  </thead>\n",
       "  <tbody>\n",
       "    <tr>\n",
       "      <th rowspan=\"2\" valign=\"top\">h00</th>\n",
       "      <th>s11</th>\n",
       "      <td>-1.2</td>\n",
       "      <td>-0.40</td>\n",
       "      <td>-0.6</td>\n",
       "      <td>Action.HIT</td>\n",
       "      <td>-0.4</td>\n",
       "    </tr>\n",
       "    <tr>\n",
       "      <th>h02</th>\n",
       "      <td>0.4</td>\n",
       "      <td>0.25</td>\n",
       "      <td>0.2</td>\n",
       "      <td>Action.DOUBLE</td>\n",
       "      <td>0.4</td>\n",
       "    </tr>\n",
       "    <tr>\n",
       "      <th rowspan=\"2\" valign=\"top\">h01</th>\n",
       "      <th>s11</th>\n",
       "      <td>-2.0</td>\n",
       "      <td>-0.90</td>\n",
       "      <td>-1.0</td>\n",
       "      <td>Action.HIT</td>\n",
       "      <td>-0.9</td>\n",
       "    </tr>\n",
       "    <tr>\n",
       "      <th>h02</th>\n",
       "      <td>-0.8</td>\n",
       "      <td>-0.60</td>\n",
       "      <td>-0.4</td>\n",
       "      <td>Action.STAND</td>\n",
       "      <td>-0.4</td>\n",
       "    </tr>\n",
       "    <tr>\n",
       "      <th>h02</th>\n",
       "      <th>s11</th>\n",
       "      <td>-2.0</td>\n",
       "      <td>-0.20</td>\n",
       "      <td>-1.0</td>\n",
       "      <td>Action.HIT</td>\n",
       "      <td>-0.2</td>\n",
       "    </tr>\n",
       "    <tr>\n",
       "      <th>...</th>\n",
       "      <th>...</th>\n",
       "      <td>...</td>\n",
       "      <td>...</td>\n",
       "      <td>...</td>\n",
       "      <td>...</td>\n",
       "      <td>...</td>\n",
       "    </tr>\n",
       "    <tr>\n",
       "      <th>s19</th>\n",
       "      <th>h02</th>\n",
       "      <td>0.2</td>\n",
       "      <td>0.00</td>\n",
       "      <td>0.4</td>\n",
       "      <td>Action.STAND</td>\n",
       "      <td>0.4</td>\n",
       "    </tr>\n",
       "    <tr>\n",
       "      <th rowspan=\"2\" valign=\"top\">s20</th>\n",
       "      <th>s11</th>\n",
       "      <td>0.4</td>\n",
       "      <td>0.30</td>\n",
       "      <td>0.6</td>\n",
       "      <td>Action.STAND</td>\n",
       "      <td>0.6</td>\n",
       "    </tr>\n",
       "    <tr>\n",
       "      <th>h02</th>\n",
       "      <td>0.4</td>\n",
       "      <td>-0.10</td>\n",
       "      <td>0.8</td>\n",
       "      <td>Action.STAND</td>\n",
       "      <td>0.8</td>\n",
       "    </tr>\n",
       "    <tr>\n",
       "      <th rowspan=\"2\" valign=\"top\">s21</th>\n",
       "      <th>s11</th>\n",
       "      <td>-2.0</td>\n",
       "      <td>-0.40</td>\n",
       "      <td>0.2</td>\n",
       "      <td>Action.STAND</td>\n",
       "      <td>0.2</td>\n",
       "    </tr>\n",
       "    <tr>\n",
       "      <th>h02</th>\n",
       "      <td>-0.4</td>\n",
       "      <td>0.20</td>\n",
       "      <td>0.7</td>\n",
       "      <td>Action.STAND</td>\n",
       "      <td>0.7</td>\n",
       "    </tr>\n",
       "  </tbody>\n",
       "</table>\n",
       "<p>68 rows × 5 columns</p>\n",
       "</div>"
      ],
      "text/plain": [
       "                 <Action.DOUBLE: 3>  <Action.HIT: 2>  <Action.STAND: 1>  \\\n",
       "score_p score_d                                                           \n",
       "h00     s11                    -1.2            -0.40               -0.6   \n",
       "        h02                     0.4             0.25                0.2   \n",
       "h01     s11                    -2.0            -0.90               -1.0   \n",
       "        h02                    -0.8            -0.60               -0.4   \n",
       "h02     s11                    -2.0            -0.20               -1.0   \n",
       "...                             ...              ...                ...   \n",
       "s19     h02                     0.2             0.00                0.4   \n",
       "s20     s11                     0.4             0.30                0.6   \n",
       "        h02                     0.4            -0.10                0.8   \n",
       "s21     s11                    -2.0            -0.40                0.2   \n",
       "        h02                    -0.4             0.20                0.7   \n",
       "\n",
       "                   winning_act  winning_act_outcome  \n",
       "score_p score_d                                      \n",
       "h00     s11         Action.HIT                 -0.4  \n",
       "        h02      Action.DOUBLE                  0.4  \n",
       "h01     s11         Action.HIT                 -0.9  \n",
       "        h02       Action.STAND                 -0.4  \n",
       "h02     s11         Action.HIT                 -0.2  \n",
       "...                        ...                  ...  \n",
       "s19     h02       Action.STAND                  0.4  \n",
       "s20     s11       Action.STAND                  0.6  \n",
       "        h02       Action.STAND                  0.8  \n",
       "s21     s11       Action.STAND                  0.2  \n",
       "        h02       Action.STAND                  0.7  \n",
       "\n",
       "[68 rows x 5 columns]"
      ]
     },
     "execution_count": 38,
     "metadata": {},
     "output_type": "execute_result"
    }
   ],
   "source": [
    "conds = [find_winning_action(p, make_hand([d]).score, 10) for p in all_scores for d in range(1, 3)]\n",
    "pd.DataFrame([data for _, data in conds]).set_index(['score_p', 'score_d'])"
   ]
  },
  {
   "cell_type": "code",
   "execution_count": null,
   "id": "aerial-yahoo",
   "metadata": {},
   "outputs": [],
   "source": []
  },
  {
   "cell_type": "code",
   "execution_count": 39,
   "id": "impressive-product",
   "metadata": {
    "ExecuteTime": {
     "end_time": "2021-07-07T23:27:30.367654Z",
     "start_time": "2021-07-07T23:27:21.821201Z"
    }
   },
   "outputs": [
    {
     "data": {
      "text/plain": [
       "[(<function __main__.test_cond.<locals>.cond(p, d)>,\n",
       "  {'<Action.DOUBLE: 3>': -0.516,\n",
       "   '<Action.HIT: 2>': -0.1865,\n",
       "   '<Action.STAND: 1>': -0.716,\n",
       "   'score_p': 'h10',\n",
       "   'score_d': 's11',\n",
       "   'winning_act': <Action.HIT: 2>,\n",
       "   'winning_act_outcome': -0.1865}),\n",
       " (<function __main__.test_cond.<locals>.cond(p, d)>,\n",
       "  {'<Action.DOUBLE: 3>': 0.422,\n",
       "   '<Action.HIT: 2>': 0.1915,\n",
       "   '<Action.STAND: 1>': -0.24,\n",
       "   'score_p': 'h10',\n",
       "   'score_d': 'h02',\n",
       "   'winning_act': <Action.DOUBLE: 3>,\n",
       "   'winning_act_outcome': 0.422}),\n",
       " (<function __main__.test_cond.<locals>.cond(p, d)>,\n",
       "  {'<Action.DOUBLE: 3>': 0.398,\n",
       "   '<Action.HIT: 2>': 0.246,\n",
       "   '<Action.STAND: 1>': -0.21,\n",
       "   'score_p': 'h10',\n",
       "   'score_d': 'h03',\n",
       "   'winning_act': <Action.DOUBLE: 3>,\n",
       "   'winning_act_outcome': 0.398}),\n",
       " (<function __main__.test_cond.<locals>.cond(p, d)>,\n",
       "  {'<Action.DOUBLE: 3>': 0.38,\n",
       "   '<Action.HIT: 2>': 0.232,\n",
       "   '<Action.STAND: 1>': -0.248,\n",
       "   'score_p': 'h10',\n",
       "   'score_d': 'h04',\n",
       "   'winning_act': <Action.DOUBLE: 3>,\n",
       "   'winning_act_outcome': 0.38}),\n",
       " (<function __main__.test_cond.<locals>.cond(p, d)>,\n",
       "  {'<Action.DOUBLE: 3>': 0.542,\n",
       "   '<Action.HIT: 2>': 0.226,\n",
       "   '<Action.STAND: 1>': -0.174,\n",
       "   'score_p': 'h10',\n",
       "   'score_d': 'h05',\n",
       "   'winning_act': <Action.DOUBLE: 3>,\n",
       "   'winning_act_outcome': 0.542}),\n",
       " (<function __main__.test_cond.<locals>.cond(p, d)>,\n",
       "  {'<Action.DOUBLE: 3>': 0.514,\n",
       "   '<Action.HIT: 2>': 0.256,\n",
       "   '<Action.STAND: 1>': -0.192,\n",
       "   'score_p': 'h10',\n",
       "   'score_d': 'h06',\n",
       "   'winning_act': <Action.DOUBLE: 3>,\n",
       "   'winning_act_outcome': 0.514}),\n",
       " (<function __main__.test_cond.<locals>.cond(p, d)>,\n",
       "  {'<Action.DOUBLE: 3>': 0.39,\n",
       "   '<Action.HIT: 2>': 0.274,\n",
       "   '<Action.STAND: 1>': -0.476,\n",
       "   'score_p': 'h10',\n",
       "   'score_d': 'h07',\n",
       "   'winning_act': <Action.DOUBLE: 3>,\n",
       "   'winning_act_outcome': 0.39}),\n",
       " (<function __main__.test_cond.<locals>.cond(p, d)>,\n",
       "  {'<Action.DOUBLE: 3>': 0.242,\n",
       "   '<Action.HIT: 2>': 0.226,\n",
       "   '<Action.STAND: 1>': -0.52,\n",
       "   'score_p': 'h10',\n",
       "   'score_d': 'h08',\n",
       "   'winning_act': <Action.DOUBLE: 3>,\n",
       "   'winning_act_outcome': 0.242}),\n",
       " (<function __main__.test_cond.<locals>.cond(p, d)>,\n",
       "  {'<Action.DOUBLE: 3>': 0.146,\n",
       "   '<Action.HIT: 2>': 0.2165,\n",
       "   '<Action.STAND: 1>': -0.56,\n",
       "   'score_p': 'h10',\n",
       "   'score_d': 'h09',\n",
       "   'winning_act': <Action.HIT: 2>,\n",
       "   'winning_act_outcome': 0.2165}),\n",
       " (<function __main__.test_cond.<locals>.cond(p, d)>,\n",
       "  {'<Action.DOUBLE: 3>': -0.134,\n",
       "   '<Action.HIT: 2>': -0.057,\n",
       "   '<Action.STAND: 1>': -0.558,\n",
       "   'score_p': 'h10',\n",
       "   'score_d': 'h10',\n",
       "   'winning_act': <Action.HIT: 2>,\n",
       "   'winning_act_outcome': -0.057}),\n",
       " (<function __main__.test_cond.<locals>.cond(p, d)>,\n",
       "  {'<Action.DOUBLE: 3>': -0.468,\n",
       "   '<Action.HIT: 2>': -0.1635,\n",
       "   '<Action.STAND: 1>': -0.714,\n",
       "   'score_p': 'h11',\n",
       "   'score_d': 's11',\n",
       "   'winning_act': <Action.HIT: 2>,\n",
       "   'winning_act_outcome': -0.1635}),\n",
       " (<function __main__.test_cond.<locals>.cond(p, d)>,\n",
       "  {'<Action.DOUBLE: 3>': 0.516,\n",
       "   '<Action.HIT: 2>': 0.1795,\n",
       "   '<Action.STAND: 1>': -0.3,\n",
       "   'score_p': 'h11',\n",
       "   'score_d': 'h02',\n",
       "   'winning_act': <Action.DOUBLE: 3>,\n",
       "   'winning_act_outcome': 0.516}),\n",
       " (<function __main__.test_cond.<locals>.cond(p, d)>,\n",
       "  {'<Action.DOUBLE: 3>': 0.52,\n",
       "   '<Action.HIT: 2>': 0.295,\n",
       "   '<Action.STAND: 1>': -0.2,\n",
       "   'score_p': 'h11',\n",
       "   'score_d': 'h03',\n",
       "   'winning_act': <Action.DOUBLE: 3>,\n",
       "   'winning_act_outcome': 0.52}),\n",
       " (<function __main__.test_cond.<locals>.cond(p, d)>,\n",
       "  {'<Action.DOUBLE: 3>': 0.524,\n",
       "   '<Action.HIT: 2>': 0.279,\n",
       "   '<Action.STAND: 1>': -0.224,\n",
       "   'score_p': 'h11',\n",
       "   'score_d': 'h04',\n",
       "   'winning_act': <Action.DOUBLE: 3>,\n",
       "   'winning_act_outcome': 0.524}),\n",
       " (<function __main__.test_cond.<locals>.cond(p, d)>,\n",
       "  {'<Action.DOUBLE: 3>': 0.606,\n",
       "   '<Action.HIT: 2>': 0.282,\n",
       "   '<Action.STAND: 1>': -0.182,\n",
       "   'score_p': 'h11',\n",
       "   'score_d': 'h05',\n",
       "   'winning_act': <Action.DOUBLE: 3>,\n",
       "   'winning_act_outcome': 0.606}),\n",
       " (<function __main__.test_cond.<locals>.cond(p, d)>,\n",
       "  {'<Action.DOUBLE: 3>': 0.64,\n",
       "   '<Action.HIT: 2>': 0.302,\n",
       "   '<Action.STAND: 1>': -0.152,\n",
       "   'score_p': 'h11',\n",
       "   'score_d': 'h06',\n",
       "   'winning_act': <Action.DOUBLE: 3>,\n",
       "   'winning_act_outcome': 0.64}),\n",
       " (<function __main__.test_cond.<locals>.cond(p, d)>,\n",
       "  {'<Action.DOUBLE: 3>': 0.474,\n",
       "   '<Action.HIT: 2>': 0.3285,\n",
       "   '<Action.STAND: 1>': -0.48,\n",
       "   'score_p': 'h11',\n",
       "   'score_d': 'h07',\n",
       "   'winning_act': <Action.DOUBLE: 3>,\n",
       "   'winning_act_outcome': 0.474}),\n",
       " (<function __main__.test_cond.<locals>.cond(p, d)>,\n",
       "  {'<Action.DOUBLE: 3>': 0.352,\n",
       "   '<Action.HIT: 2>': 0.2855,\n",
       "   '<Action.STAND: 1>': -0.494,\n",
       "   'score_p': 'h11',\n",
       "   'score_d': 'h08',\n",
       "   'winning_act': <Action.DOUBLE: 3>,\n",
       "   'winning_act_outcome': 0.352}),\n",
       " (<function __main__.test_cond.<locals>.cond(p, d)>,\n",
       "  {'<Action.DOUBLE: 3>': 0.198,\n",
       "   '<Action.HIT: 2>': 0.184,\n",
       "   '<Action.STAND: 1>': -0.534,\n",
       "   'score_p': 'h11',\n",
       "   'score_d': 'h09',\n",
       "   'winning_act': <Action.DOUBLE: 3>,\n",
       "   'winning_act_outcome': 0.198}),\n",
       " (<function __main__.test_cond.<locals>.cond(p, d)>,\n",
       "  {'<Action.DOUBLE: 3>': -0.006,\n",
       "   '<Action.HIT: 2>': -0.0035,\n",
       "   '<Action.STAND: 1>': -0.606,\n",
       "   'score_p': 'h11',\n",
       "   'score_d': 'h10',\n",
       "   'winning_act': <Action.HIT: 2>,\n",
       "   'winning_act_outcome': -0.0035}),\n",
       " (<function __main__.test_cond.<locals>.cond(p, d)>,\n",
       "  {'<Action.DOUBLE: 3>': -1.15,\n",
       "   '<Action.HIT: 2>': -0.505,\n",
       "   '<Action.STAND: 1>': -0.704,\n",
       "   'score_p': 'h12',\n",
       "   'score_d': 's11',\n",
       "   'winning_act': <Action.HIT: 2>,\n",
       "   'winning_act_outcome': -0.505}),\n",
       " (<function __main__.test_cond.<locals>.cond(p, d)>,\n",
       "  {'<Action.DOUBLE: 3>': -0.462,\n",
       "   '<Action.HIT: 2>': -0.27,\n",
       "   '<Action.STAND: 1>': -0.274,\n",
       "   'score_p': 'h12',\n",
       "   'score_d': 'h02',\n",
       "   'winning_act': <Action.HIT: 2>,\n",
       "   'winning_act_outcome': -0.27}),\n",
       " (<function __main__.test_cond.<locals>.cond(p, d)>,\n",
       "  {'<Action.DOUBLE: 3>': -0.394,\n",
       "   '<Action.HIT: 2>': -0.18,\n",
       "   '<Action.STAND: 1>': -0.238,\n",
       "   'score_p': 'h12',\n",
       "   'score_d': 'h03',\n",
       "   'winning_act': <Action.HIT: 2>,\n",
       "   'winning_act_outcome': -0.18}),\n",
       " (<function __main__.test_cond.<locals>.cond(p, d)>,\n",
       "  {'<Action.DOUBLE: 3>': -0.42,\n",
       "   '<Action.HIT: 2>': -0.214,\n",
       "   '<Action.STAND: 1>': -0.178,\n",
       "   'score_p': 'h12',\n",
       "   'score_d': 'h04',\n",
       "   'winning_act': <Action.STAND: 1>,\n",
       "   'winning_act_outcome': -0.178}),\n",
       " (<function __main__.test_cond.<locals>.cond(p, d)>,\n",
       "  {'<Action.DOUBLE: 3>': -0.396,\n",
       "   '<Action.HIT: 2>': -0.105,\n",
       "   '<Action.STAND: 1>': -0.098,\n",
       "   'score_p': 'h12',\n",
       "   'score_d': 'h05',\n",
       "   'winning_act': <Action.STAND: 1>,\n",
       "   'winning_act_outcome': -0.098}),\n",
       " (<function __main__.test_cond.<locals>.cond(p, d)>,\n",
       "  {'<Action.DOUBLE: 3>': -0.346,\n",
       "   '<Action.HIT: 2>': -0.171,\n",
       "   '<Action.STAND: 1>': -0.128,\n",
       "   'score_p': 'h12',\n",
       "   'score_d': 'h06',\n",
       "   'winning_act': <Action.STAND: 1>,\n",
       "   'winning_act_outcome': -0.128}),\n",
       " (<function __main__.test_cond.<locals>.cond(p, d)>,\n",
       "  {'<Action.DOUBLE: 3>': -0.598,\n",
       "   '<Action.HIT: 2>': -0.1875,\n",
       "   '<Action.STAND: 1>': -0.476,\n",
       "   'score_p': 'h12',\n",
       "   'score_d': 'h07',\n",
       "   'winning_act': <Action.HIT: 2>,\n",
       "   'winning_act_outcome': -0.1875}),\n",
       " (<function __main__.test_cond.<locals>.cond(p, d)>,\n",
       "  {'<Action.DOUBLE: 3>': -0.616,\n",
       "   '<Action.HIT: 2>': -0.186,\n",
       "   '<Action.STAND: 1>': -0.488,\n",
       "   'score_p': 'h12',\n",
       "   'score_d': 'h08',\n",
       "   'winning_act': <Action.HIT: 2>,\n",
       "   'winning_act_outcome': -0.186}),\n",
       " (<function __main__.test_cond.<locals>.cond(p, d)>,\n",
       "  {'<Action.DOUBLE: 3>': -0.79,\n",
       "   '<Action.HIT: 2>': -0.329,\n",
       "   '<Action.STAND: 1>': -0.548,\n",
       "   'score_p': 'h12',\n",
       "   'score_d': 'h09',\n",
       "   'winning_act': <Action.HIT: 2>,\n",
       "   'winning_act_outcome': -0.329}),\n",
       " (<function __main__.test_cond.<locals>.cond(p, d)>,\n",
       "  {'<Action.DOUBLE: 3>': -0.98,\n",
       "   '<Action.HIT: 2>': -0.396,\n",
       "   '<Action.STAND: 1>': -0.594,\n",
       "   'score_p': 'h12',\n",
       "   'score_d': 'h10',\n",
       "   'winning_act': <Action.HIT: 2>,\n",
       "   'winning_act_outcome': -0.396}),\n",
       " (<function __main__.test_cond.<locals>.cond(p, d)>,\n",
       "  {'<Action.DOUBLE: 3>': -1.178,\n",
       "   '<Action.HIT: 2>': -0.514,\n",
       "   '<Action.STAND: 1>': -0.688,\n",
       "   'score_p': 'h13',\n",
       "   'score_d': 's11',\n",
       "   'winning_act': <Action.HIT: 2>,\n",
       "   'winning_act_outcome': -0.514}),\n",
       " (<function __main__.test_cond.<locals>.cond(p, d)>,\n",
       "  {'<Action.DOUBLE: 3>': -0.654,\n",
       "   '<Action.HIT: 2>': -0.3305,\n",
       "   '<Action.STAND: 1>': -0.256,\n",
       "   'score_p': 'h13',\n",
       "   'score_d': 'h02',\n",
       "   'winning_act': <Action.STAND: 1>,\n",
       "   'winning_act_outcome': -0.256}),\n",
       " (<function __main__.test_cond.<locals>.cond(p, d)>,\n",
       "  {'<Action.DOUBLE: 3>': -0.454,\n",
       "   '<Action.HIT: 2>': -0.297,\n",
       "   '<Action.STAND: 1>': -0.216,\n",
       "   'score_p': 'h13',\n",
       "   'score_d': 'h03',\n",
       "   'winning_act': <Action.STAND: 1>,\n",
       "   'winning_act_outcome': -0.216}),\n",
       " (<function __main__.test_cond.<locals>.cond(p, d)>,\n",
       "  {'<Action.DOUBLE: 3>': -0.504,\n",
       "   '<Action.HIT: 2>': -0.269,\n",
       "   '<Action.STAND: 1>': -0.212,\n",
       "   'score_p': 'h13',\n",
       "   'score_d': 'h04',\n",
       "   'winning_act': <Action.STAND: 1>,\n",
       "   'winning_act_outcome': -0.212}),\n",
       " (<function __main__.test_cond.<locals>.cond(p, d)>,\n",
       "  {'<Action.DOUBLE: 3>': -0.492,\n",
       "   '<Action.HIT: 2>': -0.234,\n",
       "   '<Action.STAND: 1>': -0.218,\n",
       "   'score_p': 'h13',\n",
       "   'score_d': 'h05',\n",
       "   'winning_act': <Action.STAND: 1>,\n",
       "   'winning_act_outcome': -0.218}),\n",
       " (<function __main__.test_cond.<locals>.cond(p, d)>,\n",
       "  {'<Action.DOUBLE: 3>': -0.474,\n",
       "   '<Action.HIT: 2>': -0.221,\n",
       "   '<Action.STAND: 1>': -0.088,\n",
       "   'score_p': 'h13',\n",
       "   'score_d': 'h06',\n",
       "   'winning_act': <Action.STAND: 1>,\n",
       "   'winning_act_outcome': -0.088}),\n",
       " (<function __main__.test_cond.<locals>.cond(p, d)>,\n",
       "  {'<Action.DOUBLE: 3>': -0.562,\n",
       "   '<Action.HIT: 2>': -0.2335,\n",
       "   '<Action.STAND: 1>': -0.492,\n",
       "   'score_p': 'h13',\n",
       "   'score_d': 'h07',\n",
       "   'winning_act': <Action.HIT: 2>,\n",
       "   'winning_act_outcome': -0.2335}),\n",
       " (<function __main__.test_cond.<locals>.cond(p, d)>,\n",
       "  {'<Action.DOUBLE: 3>': -0.758,\n",
       "   '<Action.HIT: 2>': -0.2675,\n",
       "   '<Action.STAND: 1>': -0.51,\n",
       "   'score_p': 'h13',\n",
       "   'score_d': 'h08',\n",
       "   'winning_act': <Action.HIT: 2>,\n",
       "   'winning_act_outcome': -0.2675}),\n",
       " (<function __main__.test_cond.<locals>.cond(p, d)>,\n",
       "  {'<Action.DOUBLE: 3>': -0.806,\n",
       "   '<Action.HIT: 2>': -0.3485,\n",
       "   '<Action.STAND: 1>': -0.538,\n",
       "   'score_p': 'h13',\n",
       "   'score_d': 'h09',\n",
       "   'winning_act': <Action.HIT: 2>,\n",
       "   'winning_act_outcome': -0.3485}),\n",
       " (<function __main__.test_cond.<locals>.cond(p, d)>,\n",
       "  {'<Action.DOUBLE: 3>': -0.894,\n",
       "   '<Action.HIT: 2>': -0.4325,\n",
       "   '<Action.STAND: 1>': -0.592,\n",
       "   'score_p': 'h13',\n",
       "   'score_d': 'h10',\n",
       "   'winning_act': <Action.HIT: 2>,\n",
       "   'winning_act_outcome': -0.4325}),\n",
       " (<function __main__.test_cond.<locals>.cond(p, d)>,\n",
       "  {'<Action.DOUBLE: 3>': -1.236,\n",
       "   '<Action.HIT: 2>': -0.5725,\n",
       "   '<Action.STAND: 1>': -0.69,\n",
       "   'score_p': 'h14',\n",
       "   'score_d': 's11',\n",
       "   'winning_act': <Action.HIT: 2>,\n",
       "   'winning_act_outcome': -0.5725}),\n",
       " (<function __main__.test_cond.<locals>.cond(p, d)>,\n",
       "  {'<Action.DOUBLE: 3>': -0.776,\n",
       "   '<Action.HIT: 2>': -0.357,\n",
       "   '<Action.STAND: 1>': -0.296,\n",
       "   'score_p': 'h14',\n",
       "   'score_d': 'h02',\n",
       "   'winning_act': <Action.STAND: 1>,\n",
       "   'winning_act_outcome': -0.296}),\n",
       " (<function __main__.test_cond.<locals>.cond(p, d)>,\n",
       "  {'<Action.DOUBLE: 3>': -0.59,\n",
       "   '<Action.HIT: 2>': -0.379,\n",
       "   '<Action.STAND: 1>': -0.21,\n",
       "   'score_p': 'h14',\n",
       "   'score_d': 'h03',\n",
       "   'winning_act': <Action.STAND: 1>,\n",
       "   'winning_act_outcome': -0.21}),\n",
       " (<function __main__.test_cond.<locals>.cond(p, d)>,\n",
       "  {'<Action.DOUBLE: 3>': -0.768,\n",
       "   '<Action.HIT: 2>': -0.312,\n",
       "   '<Action.STAND: 1>': -0.25,\n",
       "   'score_p': 'h14',\n",
       "   'score_d': 'h04',\n",
       "   'winning_act': <Action.STAND: 1>,\n",
       "   'winning_act_outcome': -0.25}),\n",
       " (<function __main__.test_cond.<locals>.cond(p, d)>,\n",
       "  {'<Action.DOUBLE: 3>': -0.654,\n",
       "   '<Action.HIT: 2>': -0.26,\n",
       "   '<Action.STAND: 1>': -0.15,\n",
       "   'score_p': 'h14',\n",
       "   'score_d': 'h05',\n",
       "   'winning_act': <Action.STAND: 1>,\n",
       "   'winning_act_outcome': -0.15}),\n",
       " (<function __main__.test_cond.<locals>.cond(p, d)>,\n",
       "  {'<Action.DOUBLE: 3>': -0.61,\n",
       "   '<Action.HIT: 2>': -0.344,\n",
       "   '<Action.STAND: 1>': -0.218,\n",
       "   'score_p': 'h14',\n",
       "   'score_d': 'h06',\n",
       "   'winning_act': <Action.STAND: 1>,\n",
       "   'winning_act_outcome': -0.218}),\n",
       " (<function __main__.test_cond.<locals>.cond(p, d)>,\n",
       "  {'<Action.DOUBLE: 3>': -0.718,\n",
       "   '<Action.HIT: 2>': -0.2855,\n",
       "   '<Action.STAND: 1>': -0.468,\n",
       "   'score_p': 'h14',\n",
       "   'score_d': 'h07',\n",
       "   'winning_act': <Action.HIT: 2>,\n",
       "   'winning_act_outcome': -0.2855}),\n",
       " (<function __main__.test_cond.<locals>.cond(p, d)>,\n",
       "  {'<Action.DOUBLE: 3>': -0.836,\n",
       "   '<Action.HIT: 2>': -0.353,\n",
       "   '<Action.STAND: 1>': -0.526,\n",
       "   'score_p': 'h14',\n",
       "   'score_d': 'h08',\n",
       "   'winning_act': <Action.HIT: 2>,\n",
       "   'winning_act_outcome': -0.353}),\n",
       " (<function __main__.test_cond.<locals>.cond(p, d)>,\n",
       "  {'<Action.DOUBLE: 3>': -0.858,\n",
       "   '<Action.HIT: 2>': -0.378,\n",
       "   '<Action.STAND: 1>': -0.52,\n",
       "   'score_p': 'h14',\n",
       "   'score_d': 'h09',\n",
       "   'winning_act': <Action.HIT: 2>,\n",
       "   'winning_act_outcome': -0.378}),\n",
       " (<function __main__.test_cond.<locals>.cond(p, d)>,\n",
       "  {'<Action.DOUBLE: 3>': -0.974,\n",
       "   '<Action.HIT: 2>': -0.522,\n",
       "   '<Action.STAND: 1>': -0.568,\n",
       "   'score_p': 'h14',\n",
       "   'score_d': 'h10',\n",
       "   'winning_act': <Action.HIT: 2>,\n",
       "   'winning_act_outcome': -0.522}),\n",
       " (<function __main__.test_cond.<locals>.cond(p, d)>,\n",
       "  {'<Action.DOUBLE: 3>': -1.268,\n",
       "   '<Action.HIT: 2>': -0.6415,\n",
       "   '<Action.STAND: 1>': -0.664,\n",
       "   'score_p': 'h15',\n",
       "   'score_d': 's11',\n",
       "   'winning_act': <Action.HIT: 2>,\n",
       "   'winning_act_outcome': -0.6415}),\n",
       " (<function __main__.test_cond.<locals>.cond(p, d)>,\n",
       "  {'<Action.DOUBLE: 3>': -0.702,\n",
       "   '<Action.HIT: 2>': -0.4115,\n",
       "   '<Action.STAND: 1>': -0.222,\n",
       "   'score_p': 'h15',\n",
       "   'score_d': 'h02',\n",
       "   'winning_act': <Action.STAND: 1>,\n",
       "   'winning_act_outcome': -0.222}),\n",
       " (<function __main__.test_cond.<locals>.cond(p, d)>,\n",
       "  {'<Action.DOUBLE: 3>': -0.826,\n",
       "   '<Action.HIT: 2>': -0.364,\n",
       "   '<Action.STAND: 1>': -0.21,\n",
       "   'score_p': 'h15',\n",
       "   'score_d': 'h03',\n",
       "   'winning_act': <Action.STAND: 1>,\n",
       "   'winning_act_outcome': -0.21}),\n",
       " (<function __main__.test_cond.<locals>.cond(p, d)>,\n",
       "  {'<Action.DOUBLE: 3>': -0.808,\n",
       "   '<Action.HIT: 2>': -0.428,\n",
       "   '<Action.STAND: 1>': -0.236,\n",
       "   'score_p': 'h15',\n",
       "   'score_d': 'h04',\n",
       "   'winning_act': <Action.STAND: 1>,\n",
       "   'winning_act_outcome': -0.236}),\n",
       " (<function __main__.test_cond.<locals>.cond(p, d)>,\n",
       "  {'<Action.DOUBLE: 3>': -0.734,\n",
       "   '<Action.HIT: 2>': -0.35,\n",
       "   '<Action.STAND: 1>': -0.164,\n",
       "   'score_p': 'h15',\n",
       "   'score_d': 'h05',\n",
       "   'winning_act': <Action.STAND: 1>,\n",
       "   'winning_act_outcome': -0.164}),\n",
       " (<function __main__.test_cond.<locals>.cond(p, d)>,\n",
       "  {'<Action.DOUBLE: 3>': -0.734,\n",
       "   '<Action.HIT: 2>': -0.356,\n",
       "   '<Action.STAND: 1>': -0.192,\n",
       "   'score_p': 'h15',\n",
       "   'score_d': 'h06',\n",
       "   'winning_act': <Action.STAND: 1>,\n",
       "   'winning_act_outcome': -0.192}),\n",
       " (<function __main__.test_cond.<locals>.cond(p, d)>,\n",
       "  {'<Action.DOUBLE: 3>': -0.75,\n",
       "   '<Action.HIT: 2>': -0.394,\n",
       "   '<Action.STAND: 1>': -0.45,\n",
       "   'score_p': 'h15',\n",
       "   'score_d': 'h07',\n",
       "   'winning_act': <Action.HIT: 2>,\n",
       "   'winning_act_outcome': -0.394}),\n",
       " (<function __main__.test_cond.<locals>.cond(p, d)>,\n",
       "  {'<Action.DOUBLE: 3>': -0.862,\n",
       "   '<Action.HIT: 2>': -0.4005,\n",
       "   '<Action.STAND: 1>': -0.554,\n",
       "   'score_p': 'h15',\n",
       "   'score_d': 'h08',\n",
       "   'winning_act': <Action.HIT: 2>,\n",
       "   'winning_act_outcome': -0.4005}),\n",
       " (<function __main__.test_cond.<locals>.cond(p, d)>,\n",
       "  {'<Action.DOUBLE: 3>': -0.926,\n",
       "   '<Action.HIT: 2>': -0.453,\n",
       "   '<Action.STAND: 1>': -0.5,\n",
       "   'score_p': 'h15',\n",
       "   'score_d': 'h09',\n",
       "   'winning_act': <Action.HIT: 2>,\n",
       "   'winning_act_outcome': -0.453}),\n",
       " (<function __main__.test_cond.<locals>.cond(p, d)>,\n",
       "  {'<Action.DOUBLE: 3>': -1.12,\n",
       "   '<Action.HIT: 2>': -0.5465,\n",
       "   '<Action.STAND: 1>': -0.586,\n",
       "   'score_p': 'h15',\n",
       "   'score_d': 'h10',\n",
       "   'winning_act': <Action.HIT: 2>,\n",
       "   'winning_act_outcome': -0.5465}),\n",
       " (<function __main__.test_cond.<locals>.cond(p, d)>,\n",
       "  {'<Action.DOUBLE: 3>': -1.364,\n",
       "   '<Action.HIT: 2>': -0.679,\n",
       "   '<Action.STAND: 1>': -0.728,\n",
       "   'score_p': 'h16',\n",
       "   'score_d': 's11',\n",
       "   'winning_act': <Action.HIT: 2>,\n",
       "   'winning_act_outcome': -0.679}),\n",
       " (<function __main__.test_cond.<locals>.cond(p, d)>,\n",
       "  {'<Action.DOUBLE: 3>': -0.886,\n",
       "   '<Action.HIT: 2>': -0.439,\n",
       "   '<Action.STAND: 1>': -0.232,\n",
       "   'score_p': 'h16',\n",
       "   'score_d': 'h02',\n",
       "   'winning_act': <Action.STAND: 1>,\n",
       "   'winning_act_outcome': -0.232}),\n",
       " (<function __main__.test_cond.<locals>.cond(p, d)>,\n",
       "  {'<Action.DOUBLE: 3>': -0.874,\n",
       "   '<Action.HIT: 2>': -0.42,\n",
       "   '<Action.STAND: 1>': -0.248,\n",
       "   'score_p': 'h16',\n",
       "   'score_d': 'h03',\n",
       "   'winning_act': <Action.STAND: 1>,\n",
       "   'winning_act_outcome': -0.248}),\n",
       " (<function __main__.test_cond.<locals>.cond(p, d)>,\n",
       "  {'<Action.DOUBLE: 3>': -0.994,\n",
       "   '<Action.HIT: 2>': -0.463,\n",
       "   '<Action.STAND: 1>': -0.168,\n",
       "   'score_p': 'h16',\n",
       "   'score_d': 'h04',\n",
       "   'winning_act': <Action.STAND: 1>,\n",
       "   'winning_act_outcome': -0.168}),\n",
       " (<function __main__.test_cond.<locals>.cond(p, d)>,\n",
       "  {'<Action.DOUBLE: 3>': -0.85,\n",
       "   '<Action.HIT: 2>': -0.419,\n",
       "   '<Action.STAND: 1>': -0.13,\n",
       "   'score_p': 'h16',\n",
       "   'score_d': 'h05',\n",
       "   'winning_act': <Action.STAND: 1>,\n",
       "   'winning_act_outcome': -0.13}),\n",
       " (<function __main__.test_cond.<locals>.cond(p, d)>,\n",
       "  {'<Action.DOUBLE: 3>': -0.85,\n",
       "   '<Action.HIT: 2>': -0.434,\n",
       "   '<Action.STAND: 1>': -0.124,\n",
       "   'score_p': 'h16',\n",
       "   'score_d': 'h06',\n",
       "   'winning_act': <Action.STAND: 1>,\n",
       "   'winning_act_outcome': -0.124}),\n",
       " (<function __main__.test_cond.<locals>.cond(p, d)>,\n",
       "  {'<Action.DOUBLE: 3>': -0.862,\n",
       "   '<Action.HIT: 2>': -0.382,\n",
       "   '<Action.STAND: 1>': -0.444,\n",
       "   'score_p': 'h16',\n",
       "   'score_d': 'h07',\n",
       "   'winning_act': <Action.HIT: 2>,\n",
       "   'winning_act_outcome': -0.382}),\n",
       " (<function __main__.test_cond.<locals>.cond(p, d)>,\n",
       "  {'<Action.DOUBLE: 3>': -0.944,\n",
       "   '<Action.HIT: 2>': -0.475,\n",
       "   '<Action.STAND: 1>': -0.564,\n",
       "   'score_p': 'h16',\n",
       "   'score_d': 'h08',\n",
       "   'winning_act': <Action.HIT: 2>,\n",
       "   'winning_act_outcome': -0.475}),\n",
       " (<function __main__.test_cond.<locals>.cond(p, d)>,\n",
       "  {'<Action.DOUBLE: 3>': -0.958,\n",
       "   '<Action.HIT: 2>': -0.515,\n",
       "   '<Action.STAND: 1>': -0.54,\n",
       "   'score_p': 'h16',\n",
       "   'score_d': 'h09',\n",
       "   'winning_act': <Action.HIT: 2>,\n",
       "   'winning_act_outcome': -0.515}),\n",
       " (<function __main__.test_cond.<locals>.cond(p, d)>,\n",
       "  {'<Action.DOUBLE: 3>': -1.162,\n",
       "   '<Action.HIT: 2>': -0.602,\n",
       "   '<Action.STAND: 1>': -0.606,\n",
       "   'score_p': 'h16',\n",
       "   'score_d': 'h10',\n",
       "   'winning_act': <Action.HIT: 2>,\n",
       "   'winning_act_outcome': -0.602}),\n",
       " (<function __main__.test_cond.<locals>.cond(p, d)>,\n",
       "  {'<Action.DOUBLE: 3>': -1.366,\n",
       "   '<Action.HIT: 2>': -0.709,\n",
       "   '<Action.STAND: 1>': -0.563,\n",
       "   'score_p': 'h17',\n",
       "   'score_d': 's11',\n",
       "   'winning_act': <Action.STAND: 1>,\n",
       "   'winning_act_outcome': -0.563}),\n",
       " (<function __main__.test_cond.<locals>.cond(p, d)>,\n",
       "  {'<Action.DOUBLE: 3>': -1.076,\n",
       "   '<Action.HIT: 2>': -0.527,\n",
       "   '<Action.STAND: 1>': -0.152,\n",
       "   'score_p': 'h17',\n",
       "   'score_d': 'h02',\n",
       "   'winning_act': <Action.STAND: 1>,\n",
       "   'winning_act_outcome': -0.152}),\n",
       " (<function __main__.test_cond.<locals>.cond(p, d)>,\n",
       "  {'<Action.DOUBLE: 3>': -1.028,\n",
       "   '<Action.HIT: 2>': -0.547,\n",
       "   '<Action.STAND: 1>': -0.061,\n",
       "   'score_p': 'h17',\n",
       "   'score_d': 'h03',\n",
       "   'winning_act': <Action.STAND: 1>,\n",
       "   'winning_act_outcome': -0.061}),\n",
       " (<function __main__.test_cond.<locals>.cond(p, d)>,\n",
       "  {'<Action.DOUBLE: 3>': -1.04,\n",
       "   '<Action.HIT: 2>': -0.583,\n",
       "   '<Action.STAND: 1>': -0.035,\n",
       "   'score_p': 'h17',\n",
       "   'score_d': 'h04',\n",
       "   'winning_act': <Action.STAND: 1>,\n",
       "   'winning_act_outcome': -0.035}),\n",
       " (<function __main__.test_cond.<locals>.cond(p, d)>,\n",
       "  {'<Action.DOUBLE: 3>': -0.964,\n",
       "   '<Action.HIT: 2>': -0.511,\n",
       "   '<Action.STAND: 1>': -0.036,\n",
       "   'score_p': 'h17',\n",
       "   'score_d': 'h05',\n",
       "   'winning_act': <Action.STAND: 1>,\n",
       "   'winning_act_outcome': -0.036}),\n",
       " (<function __main__.test_cond.<locals>.cond(p, d)>,\n",
       "  {'<Action.DOUBLE: 3>': -1.008,\n",
       "   '<Action.HIT: 2>': -0.5,\n",
       "   '<Action.STAND: 1>': -0.002,\n",
       "   'score_p': 'h17',\n",
       "   'score_d': 'h06',\n",
       "   'winning_act': <Action.STAND: 1>,\n",
       "   'winning_act_outcome': -0.002}),\n",
       " (<function __main__.test_cond.<locals>.cond(p, d)>,\n",
       "  {'<Action.DOUBLE: 3>': -1.004,\n",
       "   '<Action.HIT: 2>': -0.453,\n",
       "   '<Action.STAND: 1>': -0.144,\n",
       "   'score_p': 'h17',\n",
       "   'score_d': 'h07',\n",
       "   'winning_act': <Action.STAND: 1>,\n",
       "   'winning_act_outcome': -0.144}),\n",
       " (<function __main__.test_cond.<locals>.cond(p, d)>,\n",
       "  {'<Action.DOUBLE: 3>': -1.04,\n",
       "   '<Action.HIT: 2>': -0.506,\n",
       "   '<Action.STAND: 1>': -0.387,\n",
       "   'score_p': 'h17',\n",
       "   'score_d': 'h08',\n",
       "   'winning_act': <Action.STAND: 1>,\n",
       "   'winning_act_outcome': -0.387}),\n",
       " (<function __main__.test_cond.<locals>.cond(p, d)>,\n",
       "  {'<Action.DOUBLE: 3>': -1.08,\n",
       "   '<Action.HIT: 2>': -0.548,\n",
       "   '<Action.STAND: 1>': -0.419,\n",
       "   'score_p': 'h17',\n",
       "   'score_d': 'h09',\n",
       "   'winning_act': <Action.STAND: 1>,\n",
       "   'winning_act_outcome': -0.419}),\n",
       " (<function __main__.test_cond.<locals>.cond(p, d)>,\n",
       "  {'<Action.DOUBLE: 3>': -1.174,\n",
       "   '<Action.HIT: 2>': -0.616,\n",
       "   '<Action.STAND: 1>': -0.468,\n",
       "   'score_p': 'h17',\n",
       "   'score_d': 'h10',\n",
       "   'winning_act': <Action.STAND: 1>,\n",
       "   'winning_act_outcome': -0.468}),\n",
       " (<function __main__.test_cond.<locals>.cond(p, d)>,\n",
       "  {'<Action.DOUBLE: 3>': -1.43,\n",
       "   '<Action.HIT: 2>': -0.738,\n",
       "   '<Action.STAND: 1>': -0.318,\n",
       "   'score_p': 'h18',\n",
       "   'score_d': 's11',\n",
       "   'winning_act': <Action.STAND: 1>,\n",
       "   'winning_act_outcome': -0.318}),\n",
       " (<function __main__.test_cond.<locals>.cond(p, d)>,\n",
       "  {'<Action.DOUBLE: 3>': -1.298,\n",
       "   '<Action.HIT: 2>': -0.615,\n",
       "   '<Action.STAND: 1>': 0.175,\n",
       "   'score_p': 'h18',\n",
       "   'score_d': 'h02',\n",
       "   'winning_act': <Action.STAND: 1>,\n",
       "   'winning_act_outcome': 0.175}),\n",
       " (<function __main__.test_cond.<locals>.cond(p, d)>,\n",
       "  {'<Action.DOUBLE: 3>': -1.248,\n",
       "   '<Action.HIT: 2>': -0.584,\n",
       "   '<Action.STAND: 1>': 0.164,\n",
       "   'score_p': 'h18',\n",
       "   'score_d': 'h03',\n",
       "   'winning_act': <Action.STAND: 1>,\n",
       "   'winning_act_outcome': 0.164}),\n",
       " (<function __main__.test_cond.<locals>.cond(p, d)>,\n",
       "  {'<Action.DOUBLE: 3>': -1.246,\n",
       "   '<Action.HIT: 2>': -0.616,\n",
       "   '<Action.STAND: 1>': 0.193,\n",
       "   'score_p': 'h18',\n",
       "   'score_d': 'h04',\n",
       "   'winning_act': <Action.STAND: 1>,\n",
       "   'winning_act_outcome': 0.193}),\n",
       " (<function __main__.test_cond.<locals>.cond(p, d)>,\n",
       "  {'<Action.DOUBLE: 3>': -1.226,\n",
       "   '<Action.HIT: 2>': -0.583,\n",
       "   '<Action.STAND: 1>': 0.246,\n",
       "   'score_p': 'h18',\n",
       "   'score_d': 'h05',\n",
       "   'winning_act': <Action.STAND: 1>,\n",
       "   'winning_act_outcome': 0.246}),\n",
       " (<function __main__.test_cond.<locals>.cond(p, d)>,\n",
       "  {'<Action.DOUBLE: 3>': -1.138,\n",
       "   '<Action.HIT: 2>': -0.637,\n",
       "   '<Action.STAND: 1>': 0.285,\n",
       "   'score_p': 'h18',\n",
       "   'score_d': 'h06',\n",
       "   'winning_act': <Action.STAND: 1>,\n",
       "   'winning_act_outcome': 0.285}),\n",
       " (<function __main__.test_cond.<locals>.cond(p, d)>,\n",
       "  {'<Action.DOUBLE: 3>': -1.152,\n",
       "   '<Action.HIT: 2>': -0.582,\n",
       "   '<Action.STAND: 1>': 0.394,\n",
       "   'score_p': 'h18',\n",
       "   'score_d': 'h07',\n",
       "   'winning_act': <Action.STAND: 1>,\n",
       "   'winning_act_outcome': 0.394}),\n",
       " (<function __main__.test_cond.<locals>.cond(p, d)>,\n",
       "  {'<Action.DOUBLE: 3>': -1.268,\n",
       "   '<Action.HIT: 2>': -0.575,\n",
       "   '<Action.STAND: 1>': 0.061,\n",
       "   'score_p': 'h18',\n",
       "   'score_d': 'h08',\n",
       "   'winning_act': <Action.STAND: 1>,\n",
       "   'winning_act_outcome': 0.061}),\n",
       " (<function __main__.test_cond.<locals>.cond(p, d)>,\n",
       "  {'<Action.DOUBLE: 3>': -1.228,\n",
       "   '<Action.HIT: 2>': -0.646,\n",
       "   '<Action.STAND: 1>': -0.193,\n",
       "   'score_p': 'h18',\n",
       "   'score_d': 'h09',\n",
       "   'winning_act': <Action.STAND: 1>,\n",
       "   'winning_act_outcome': -0.193}),\n",
       " (<function __main__.test_cond.<locals>.cond(p, d)>,\n",
       "  {'<Action.DOUBLE: 3>': -1.446,\n",
       "   '<Action.HIT: 2>': -0.688,\n",
       "   '<Action.STAND: 1>': -0.225,\n",
       "   'score_p': 'h18',\n",
       "   'score_d': 'h10',\n",
       "   'winning_act': <Action.STAND: 1>,\n",
       "   'winning_act_outcome': -0.225})]"
      ]
     },
     "execution_count": 39,
     "metadata": {},
     "output_type": "execute_result"
    }
   ],
   "source": [
    "conds = [find_winning_action(HandScore(p), make_hand([d]).score, 1*1000) for p in range(10, 19) for d in range(1, 11)]\n",
    "conds"
   ]
  },
  {
   "cell_type": "code",
   "execution_count": 40,
   "id": "matched-niger",
   "metadata": {
    "ExecuteTime": {
     "end_time": "2021-07-07T23:27:30.379558Z",
     "start_time": "2021-07-07T23:27:30.368570Z"
    }
   },
   "outputs": [
    {
     "data": {
      "text/html": [
       "<div>\n",
       "<style scoped>\n",
       "    .dataframe tbody tr th:only-of-type {\n",
       "        vertical-align: middle;\n",
       "    }\n",
       "\n",
       "    .dataframe tbody tr th {\n",
       "        vertical-align: top;\n",
       "    }\n",
       "\n",
       "    .dataframe thead th {\n",
       "        text-align: right;\n",
       "    }\n",
       "</style>\n",
       "<table border=\"1\" class=\"dataframe\">\n",
       "  <thead>\n",
       "    <tr style=\"text-align: right;\">\n",
       "      <th></th>\n",
       "      <th></th>\n",
       "      <th>&lt;Action.DOUBLE: 3&gt;</th>\n",
       "      <th>&lt;Action.HIT: 2&gt;</th>\n",
       "      <th>&lt;Action.STAND: 1&gt;</th>\n",
       "      <th>winning_act</th>\n",
       "      <th>winning_act_outcome</th>\n",
       "    </tr>\n",
       "    <tr>\n",
       "      <th>score_p</th>\n",
       "      <th>score_d</th>\n",
       "      <th></th>\n",
       "      <th></th>\n",
       "      <th></th>\n",
       "      <th></th>\n",
       "      <th></th>\n",
       "    </tr>\n",
       "  </thead>\n",
       "  <tbody>\n",
       "    <tr>\n",
       "      <th rowspan=\"5\" valign=\"top\">h10</th>\n",
       "      <th>s11</th>\n",
       "      <td>-0.516</td>\n",
       "      <td>-0.1865</td>\n",
       "      <td>-0.716</td>\n",
       "      <td>Action.HIT</td>\n",
       "      <td>-0.1865</td>\n",
       "    </tr>\n",
       "    <tr>\n",
       "      <th>h02</th>\n",
       "      <td>0.422</td>\n",
       "      <td>0.1915</td>\n",
       "      <td>-0.240</td>\n",
       "      <td>Action.DOUBLE</td>\n",
       "      <td>0.4220</td>\n",
       "    </tr>\n",
       "    <tr>\n",
       "      <th>h03</th>\n",
       "      <td>0.398</td>\n",
       "      <td>0.2460</td>\n",
       "      <td>-0.210</td>\n",
       "      <td>Action.DOUBLE</td>\n",
       "      <td>0.3980</td>\n",
       "    </tr>\n",
       "    <tr>\n",
       "      <th>h04</th>\n",
       "      <td>0.380</td>\n",
       "      <td>0.2320</td>\n",
       "      <td>-0.248</td>\n",
       "      <td>Action.DOUBLE</td>\n",
       "      <td>0.3800</td>\n",
       "    </tr>\n",
       "    <tr>\n",
       "      <th>h05</th>\n",
       "      <td>0.542</td>\n",
       "      <td>0.2260</td>\n",
       "      <td>-0.174</td>\n",
       "      <td>Action.DOUBLE</td>\n",
       "      <td>0.5420</td>\n",
       "    </tr>\n",
       "    <tr>\n",
       "      <th>...</th>\n",
       "      <th>...</th>\n",
       "      <td>...</td>\n",
       "      <td>...</td>\n",
       "      <td>...</td>\n",
       "      <td>...</td>\n",
       "      <td>...</td>\n",
       "    </tr>\n",
       "    <tr>\n",
       "      <th rowspan=\"5\" valign=\"top\">h18</th>\n",
       "      <th>h06</th>\n",
       "      <td>-1.138</td>\n",
       "      <td>-0.6370</td>\n",
       "      <td>0.285</td>\n",
       "      <td>Action.STAND</td>\n",
       "      <td>0.2850</td>\n",
       "    </tr>\n",
       "    <tr>\n",
       "      <th>h07</th>\n",
       "      <td>-1.152</td>\n",
       "      <td>-0.5820</td>\n",
       "      <td>0.394</td>\n",
       "      <td>Action.STAND</td>\n",
       "      <td>0.3940</td>\n",
       "    </tr>\n",
       "    <tr>\n",
       "      <th>h08</th>\n",
       "      <td>-1.268</td>\n",
       "      <td>-0.5750</td>\n",
       "      <td>0.061</td>\n",
       "      <td>Action.STAND</td>\n",
       "      <td>0.0610</td>\n",
       "    </tr>\n",
       "    <tr>\n",
       "      <th>h09</th>\n",
       "      <td>-1.228</td>\n",
       "      <td>-0.6460</td>\n",
       "      <td>-0.193</td>\n",
       "      <td>Action.STAND</td>\n",
       "      <td>-0.1930</td>\n",
       "    </tr>\n",
       "    <tr>\n",
       "      <th>h10</th>\n",
       "      <td>-1.446</td>\n",
       "      <td>-0.6880</td>\n",
       "      <td>-0.225</td>\n",
       "      <td>Action.STAND</td>\n",
       "      <td>-0.2250</td>\n",
       "    </tr>\n",
       "  </tbody>\n",
       "</table>\n",
       "<p>90 rows × 5 columns</p>\n",
       "</div>"
      ],
      "text/plain": [
       "                 <Action.DOUBLE: 3>  <Action.HIT: 2>  <Action.STAND: 1>  \\\n",
       "score_p score_d                                                           \n",
       "h10     s11                  -0.516          -0.1865             -0.716   \n",
       "        h02                   0.422           0.1915             -0.240   \n",
       "        h03                   0.398           0.2460             -0.210   \n",
       "        h04                   0.380           0.2320             -0.248   \n",
       "        h05                   0.542           0.2260             -0.174   \n",
       "...                             ...              ...                ...   \n",
       "h18     h06                  -1.138          -0.6370              0.285   \n",
       "        h07                  -1.152          -0.5820              0.394   \n",
       "        h08                  -1.268          -0.5750              0.061   \n",
       "        h09                  -1.228          -0.6460             -0.193   \n",
       "        h10                  -1.446          -0.6880             -0.225   \n",
       "\n",
       "                   winning_act  winning_act_outcome  \n",
       "score_p score_d                                      \n",
       "h10     s11         Action.HIT              -0.1865  \n",
       "        h02      Action.DOUBLE               0.4220  \n",
       "        h03      Action.DOUBLE               0.3980  \n",
       "        h04      Action.DOUBLE               0.3800  \n",
       "        h05      Action.DOUBLE               0.5420  \n",
       "...                        ...                  ...  \n",
       "h18     h06       Action.STAND               0.2850  \n",
       "        h07       Action.STAND               0.3940  \n",
       "        h08       Action.STAND               0.0610  \n",
       "        h09       Action.STAND              -0.1930  \n",
       "        h10       Action.STAND              -0.2250  \n",
       "\n",
       "[90 rows x 5 columns]"
      ]
     },
     "execution_count": 40,
     "metadata": {},
     "output_type": "execute_result"
    }
   ],
   "source": [
    "outputs = pd.DataFrame([data for _, data in conds]).set_index(['score_p', 'score_d'])\n",
    "outputs"
   ]
  },
  {
   "cell_type": "code",
   "execution_count": 41,
   "id": "choice-minneapolis",
   "metadata": {
    "ExecuteTime": {
     "end_time": "2021-07-07T23:27:30.477526Z",
     "start_time": "2021-07-07T23:27:30.380836Z"
    }
   },
   "outputs": [
    {
     "data": {
      "text/plain": [
       "(<function __main__.test_cond.<locals>.cond(p, d)>,\n",
       "                     len                                  mean_outcome\n",
       " outcome_name       LOSE LOSE_DOUBLE PUSH  WIN WIN_DOUBLE             \n",
       " strategy                                                             \n",
       " <Action.DOUBLE: 3>    0         856   22    0        122       -1.468\n",
       " <Action.HIT: 2>     871           0   23  106          0       -0.765\n",
       " <Action.STAND: 1>   600           0  108  292          0       -0.308)"
      ]
     },
     "execution_count": 41,
     "metadata": {},
     "output_type": "execute_result"
    }
   ],
   "source": [
    "test_cond(HandScore(18), HandScore(11, True), 1000)"
   ]
  },
  {
   "cell_type": "code",
   "execution_count": 42,
   "id": "answering-difference",
   "metadata": {
    "ExecuteTime": {
     "end_time": "2021-07-07T23:27:30.660198Z",
     "start_time": "2021-07-07T23:27:30.478510Z"
    }
   },
   "outputs": [
    {
     "data": {
      "text/plain": [
       "<AxesSubplot:xlabel='score_d', ylabel='score_p'>"
      ]
     },
     "execution_count": 42,
     "metadata": {},
     "output_type": "execute_result"
    },
    {
     "data": {
      "image/png": "[encoded data removed]",
      "text/plain": [
       "<Figure size 432x288 with 2 Axes>"
      ]
     },
     "metadata": {
      "needs_background": "light"
     },
     "output_type": "display_data"
    }
   ],
   "source": [
    "# Visualize the winning action by starting condition\n",
    "sns.heatmap(outputs['winning_act'].apply(lambda x: x.value).unstack())\n"
   ]
  },
  {
   "cell_type": "code",
   "execution_count": 43,
   "id": "formal-inspection",
   "metadata": {
    "ExecuteTime": {
     "end_time": "2021-07-07T23:27:30.785064Z",
     "start_time": "2021-07-07T23:27:30.661161Z"
    }
   },
   "outputs": [
    {
     "data": {
      "text/plain": [
       "<AxesSubplot:xlabel='score_d', ylabel='score_p'>"
      ]
     },
     "execution_count": 43,
     "metadata": {},
     "output_type": "execute_result"
    },
    {
     "data": {
      "image/png": "[encoded data removed]",
      "text/plain": [
       "<Figure size 432x288 with 2 Axes>"
      ]
     },
     "metadata": {
      "needs_background": "light"
     },
     "output_type": "display_data"
    }
   ],
   "source": [
    "# Visualize the average outcome by starting condition\n",
    "sns.heatmap(outputs['winning_act_outcome'].unstack())"
   ]
  },
  {
   "cell_type": "code",
   "execution_count": 44,
   "id": "strategic-concern",
   "metadata": {
    "ExecuteTime": {
     "end_time": "2021-07-07T23:27:30.792790Z",
     "start_time": "2021-07-07T23:27:30.786262Z"
    }
   },
   "outputs": [
    {
     "data": {
      "text/plain": [
       "[(<function __main__.test_cond.<locals>.cond(p, d)>, <Action.HIT: 2>),\n",
       " (<function __main__.test_cond.<locals>.cond(p, d)>, <Action.DOUBLE: 3>),\n",
       " (<function __main__.test_cond.<locals>.cond(p, d)>, <Action.DOUBLE: 3>),\n",
       " (<function __main__.test_cond.<locals>.cond(p, d)>, <Action.DOUBLE: 3>),\n",
       " (<function __main__.test_cond.<locals>.cond(p, d)>, <Action.DOUBLE: 3>),\n",
       " (<function __main__.test_cond.<locals>.cond(p, d)>, <Action.DOUBLE: 3>),\n",
       " (<function __main__.test_cond.<locals>.cond(p, d)>, <Action.DOUBLE: 3>),\n",
       " (<function __main__.test_cond.<locals>.cond(p, d)>, <Action.DOUBLE: 3>),\n",
       " (<function __main__.test_cond.<locals>.cond(p, d)>, <Action.HIT: 2>),\n",
       " (<function __main__.test_cond.<locals>.cond(p, d)>, <Action.HIT: 2>),\n",
       " (<function __main__.test_cond.<locals>.cond(p, d)>, <Action.HIT: 2>),\n",
       " (<function __main__.test_cond.<locals>.cond(p, d)>, <Action.DOUBLE: 3>),\n",
       " (<function __main__.test_cond.<locals>.cond(p, d)>, <Action.DOUBLE: 3>),\n",
       " (<function __main__.test_cond.<locals>.cond(p, d)>, <Action.DOUBLE: 3>),\n",
       " (<function __main__.test_cond.<locals>.cond(p, d)>, <Action.DOUBLE: 3>),\n",
       " (<function __main__.test_cond.<locals>.cond(p, d)>, <Action.DOUBLE: 3>),\n",
       " (<function __main__.test_cond.<locals>.cond(p, d)>, <Action.DOUBLE: 3>),\n",
       " (<function __main__.test_cond.<locals>.cond(p, d)>, <Action.DOUBLE: 3>),\n",
       " (<function __main__.test_cond.<locals>.cond(p, d)>, <Action.DOUBLE: 3>),\n",
       " (<function __main__.test_cond.<locals>.cond(p, d)>, <Action.HIT: 2>),\n",
       " (<function __main__.test_cond.<locals>.cond(p, d)>, <Action.HIT: 2>),\n",
       " (<function __main__.test_cond.<locals>.cond(p, d)>, <Action.HIT: 2>),\n",
       " (<function __main__.test_cond.<locals>.cond(p, d)>, <Action.HIT: 2>),\n",
       " (<function __main__.test_cond.<locals>.cond(p, d)>, <Action.STAND: 1>),\n",
       " (<function __main__.test_cond.<locals>.cond(p, d)>, <Action.STAND: 1>),\n",
       " (<function __main__.test_cond.<locals>.cond(p, d)>, <Action.STAND: 1>),\n",
       " (<function __main__.test_cond.<locals>.cond(p, d)>, <Action.HIT: 2>),\n",
       " (<function __main__.test_cond.<locals>.cond(p, d)>, <Action.HIT: 2>),\n",
       " (<function __main__.test_cond.<locals>.cond(p, d)>, <Action.HIT: 2>),\n",
       " (<function __main__.test_cond.<locals>.cond(p, d)>, <Action.HIT: 2>),\n",
       " (<function __main__.test_cond.<locals>.cond(p, d)>, <Action.HIT: 2>),\n",
       " (<function __main__.test_cond.<locals>.cond(p, d)>, <Action.STAND: 1>),\n",
       " (<function __main__.test_cond.<locals>.cond(p, d)>, <Action.STAND: 1>),\n",
       " (<function __main__.test_cond.<locals>.cond(p, d)>, <Action.STAND: 1>),\n",
       " (<function __main__.test_cond.<locals>.cond(p, d)>, <Action.STAND: 1>),\n",
       " (<function __main__.test_cond.<locals>.cond(p, d)>, <Action.STAND: 1>),\n",
       " (<function __main__.test_cond.<locals>.cond(p, d)>, <Action.HIT: 2>),\n",
       " (<function __main__.test_cond.<locals>.cond(p, d)>, <Action.HIT: 2>),\n",
       " (<function __main__.test_cond.<locals>.cond(p, d)>, <Action.HIT: 2>),\n",
       " (<function __main__.test_cond.<locals>.cond(p, d)>, <Action.HIT: 2>),\n",
       " (<function __main__.test_cond.<locals>.cond(p, d)>, <Action.HIT: 2>),\n",
       " (<function __main__.test_cond.<locals>.cond(p, d)>, <Action.STAND: 1>),\n",
       " (<function __main__.test_cond.<locals>.cond(p, d)>, <Action.STAND: 1>),\n",
       " (<function __main__.test_cond.<locals>.cond(p, d)>, <Action.STAND: 1>),\n",
       " (<function __main__.test_cond.<locals>.cond(p, d)>, <Action.STAND: 1>),\n",
       " (<function __main__.test_cond.<locals>.cond(p, d)>, <Action.STAND: 1>),\n",
       " (<function __main__.test_cond.<locals>.cond(p, d)>, <Action.HIT: 2>),\n",
       " (<function __main__.test_cond.<locals>.cond(p, d)>, <Action.HIT: 2>),\n",
       " (<function __main__.test_cond.<locals>.cond(p, d)>, <Action.HIT: 2>),\n",
       " (<function __main__.test_cond.<locals>.cond(p, d)>, <Action.HIT: 2>),\n",
       " (<function __main__.test_cond.<locals>.cond(p, d)>, <Action.HIT: 2>),\n",
       " (<function __main__.test_cond.<locals>.cond(p, d)>, <Action.STAND: 1>),\n",
       " (<function __main__.test_cond.<locals>.cond(p, d)>, <Action.STAND: 1>),\n",
       " (<function __main__.test_cond.<locals>.cond(p, d)>, <Action.STAND: 1>),\n",
       " (<function __main__.test_cond.<locals>.cond(p, d)>, <Action.STAND: 1>),\n",
       " (<function __main__.test_cond.<locals>.cond(p, d)>, <Action.STAND: 1>),\n",
       " (<function __main__.test_cond.<locals>.cond(p, d)>, <Action.HIT: 2>),\n",
       " (<function __main__.test_cond.<locals>.cond(p, d)>, <Action.HIT: 2>),\n",
       " (<function __main__.test_cond.<locals>.cond(p, d)>, <Action.HIT: 2>),\n",
       " (<function __main__.test_cond.<locals>.cond(p, d)>, <Action.HIT: 2>),\n",
       " (<function __main__.test_cond.<locals>.cond(p, d)>, <Action.HIT: 2>),\n",
       " (<function __main__.test_cond.<locals>.cond(p, d)>, <Action.STAND: 1>),\n",
       " (<function __main__.test_cond.<locals>.cond(p, d)>, <Action.STAND: 1>),\n",
       " (<function __main__.test_cond.<locals>.cond(p, d)>, <Action.STAND: 1>),\n",
       " (<function __main__.test_cond.<locals>.cond(p, d)>, <Action.STAND: 1>),\n",
       " (<function __main__.test_cond.<locals>.cond(p, d)>, <Action.STAND: 1>),\n",
       " (<function __main__.test_cond.<locals>.cond(p, d)>, <Action.HIT: 2>),\n",
       " (<function __main__.test_cond.<locals>.cond(p, d)>, <Action.HIT: 2>),\n",
       " (<function __main__.test_cond.<locals>.cond(p, d)>, <Action.HIT: 2>),\n",
       " (<function __main__.test_cond.<locals>.cond(p, d)>, <Action.HIT: 2>),\n",
       " (<function __main__.test_cond.<locals>.cond(p, d)>, <Action.STAND: 1>),\n",
       " (<function __main__.test_cond.<locals>.cond(p, d)>, <Action.STAND: 1>),\n",
       " (<function __main__.test_cond.<locals>.cond(p, d)>, <Action.STAND: 1>),\n",
       " (<function __main__.test_cond.<locals>.cond(p, d)>, <Action.STAND: 1>),\n",
       " (<function __main__.test_cond.<locals>.cond(p, d)>, <Action.STAND: 1>),\n",
       " (<function __main__.test_cond.<locals>.cond(p, d)>, <Action.STAND: 1>),\n",
       " (<function __main__.test_cond.<locals>.cond(p, d)>, <Action.STAND: 1>),\n",
       " (<function __main__.test_cond.<locals>.cond(p, d)>, <Action.STAND: 1>),\n",
       " (<function __main__.test_cond.<locals>.cond(p, d)>, <Action.STAND: 1>),\n",
       " (<function __main__.test_cond.<locals>.cond(p, d)>, <Action.STAND: 1>),\n",
       " (<function __main__.test_cond.<locals>.cond(p, d)>, <Action.STAND: 1>),\n",
       " (<function __main__.test_cond.<locals>.cond(p, d)>, <Action.STAND: 1>),\n",
       " (<function __main__.test_cond.<locals>.cond(p, d)>, <Action.STAND: 1>),\n",
       " (<function __main__.test_cond.<locals>.cond(p, d)>, <Action.STAND: 1>),\n",
       " (<function __main__.test_cond.<locals>.cond(p, d)>, <Action.STAND: 1>),\n",
       " (<function __main__.test_cond.<locals>.cond(p, d)>, <Action.STAND: 1>),\n",
       " (<function __main__.test_cond.<locals>.cond(p, d)>, <Action.STAND: 1>),\n",
       " (<function __main__.test_cond.<locals>.cond(p, d)>, <Action.STAND: 1>),\n",
       " (<function __main__.test_cond.<locals>.cond(p, d)>, <Action.STAND: 1>),\n",
       " (<function __main__.test_cond.<locals>.cond(p, d)>, <Action.STAND: 1>)]"
      ]
     },
     "execution_count": 44,
     "metadata": {},
     "output_type": "execute_result"
    }
   ],
   "source": [
    "[(cond, output['winning_act']) for cond, output in conds]"
   ]
  },
  {
   "cell_type": "code",
   "execution_count": 45,
   "id": "portable-niger",
   "metadata": {
    "ExecuteTime": {
     "end_time": "2021-07-07T23:27:30.795886Z",
     "start_time": "2021-07-07T23:27:30.793799Z"
    }
   },
   "outputs": [],
   "source": [
    "strat_derived = generate_strat_conditional(strat_simple, [(cond, output['winning_act']) for cond, output in conds])\n",
    "strat_derived.name = 'strat_derived'"
   ]
  },
  {
   "cell_type": "code",
   "execution_count": 46,
   "id": "english-distance",
   "metadata": {
    "ExecuteTime": {
     "end_time": "2021-07-07T23:27:30.831479Z",
     "start_time": "2021-07-07T23:27:30.796974Z"
    },
    "scrolled": true
   },
   "outputs": [
    {
     "data": {
      "text/plain": [
       "(        strategy hand_start  dealer_card          hand_end     dealer_hand  \\\n",
       " 0         simple    [13, 1]           10           [13, 1]         [10, 9]   \n",
       " 1  strat_derived    [13, 1]           10           [13, 1]         [10, 9]   \n",
       " 2         simple     [2, 7]            8        [2, 7, 10]   [8, 2, 4, 10]   \n",
       " 3  strat_derived     [2, 7]            8      [2, 7, 6, 3]   [8, 2, 4, 10]   \n",
       " 4         simple     [4, 5]           10      [4, 5, 5, 3]         [10, 9]   \n",
       " 5  strat_derived     [4, 5]           10      [4, 5, 2, 7]         [10, 9]   \n",
       " 6         simple     [9, 7]            1        [9, 7, 13]  [1, 1, 12, 13]   \n",
       " 7  strat_derived     [9, 7]            1        [9, 7, 10]  [1, 1, 12, 13]   \n",
       " 8         simple     [6, 3]           11  [6, 3, 4, 3, 13]         [11, 8]   \n",
       " 9  strat_derived     [6, 3]           11        [6, 3, 13]         [11, 8]   \n",
       " \n",
       "                  outcome  outcome_value outcome_name  \n",
       " 0  HandOutcome.BLACKJACK            1.5    BLACKJACK  \n",
       " 1  HandOutcome.BLACKJACK            1.5    BLACKJACK  \n",
       " 2        HandOutcome.WIN            1.0          WIN  \n",
       " 3        HandOutcome.WIN            1.0          WIN  \n",
       " 4       HandOutcome.LOSE           -1.0         LOSE  \n",
       " 5       HandOutcome.LOSE           -1.0         LOSE  \n",
       " 6       HandOutcome.LOSE           -1.0         LOSE  \n",
       " 7       HandOutcome.LOSE           -1.0         LOSE  \n",
       " 8       HandOutcome.LOSE           -1.0         LOSE  \n",
       " 9        HandOutcome.WIN            1.0          WIN  ,\n",
       "                     len                                      mean_outcome\n",
       " outcome_name  BLACKJACK LOSE LOSE_DOUBLE PUSH WIN WIN_DOUBLE             \n",
       " strategy                                                                 \n",
       " simple                5   45           1    9  36          4        0.045\n",
       " strat_derived         5   47           4    6  36          2       -0.075)"
      ]
     },
     "execution_count": 46,
     "metadata": {},
     "output_type": "execute_result"
    }
   ],
   "source": [
    "sims = run_n_sim_trials([strat_simple, strat_derived], 100)\n",
    "sims.head(10), summarize_totals(sims)"
   ]
  },
  {
   "cell_type": "code",
   "execution_count": 47,
   "id": "valuable-celtic",
   "metadata": {
    "ExecuteTime": {
     "end_time": "2021-07-07T23:27:41.536715Z",
     "start_time": "2021-07-07T23:27:30.832390Z"
    },
    "scrolled": true
   },
   "outputs": [
    {
     "data": {
      "text/plain": [
       "(        strategy hand_start  dealer_card    hand_end    dealer_hand  \\\n",
       " 0         simple     [6, 2]            5   [6, 2, 8]      [5, 9, 7]   \n",
       " 1  strat_derived     [6, 2]            5   [6, 2, 4]      [5, 9, 7]   \n",
       " 2         simple     [2, 9]            8   [2, 9, 3]     [8, 5, 10]   \n",
       " 3  strat_derived     [2, 9]            8  [2, 9, 11]     [8, 5, 10]   \n",
       " 4         simple     [1, 3]            4      [1, 3]   [4, 7, 1, 8]   \n",
       " 5  strat_derived     [1, 3]            4      [1, 3]   [4, 7, 1, 8]   \n",
       " 6         simple     [8, 2]           13  [8, 2, 10]        [13, 1]   \n",
       " 7  strat_derived     [8, 2]           13  [8, 2, 13]        [13, 1]   \n",
       " 8         simple    [12, 7]            2     [12, 7]  [2, 2, 12, 9]   \n",
       " 9  strat_derived    [12, 7]            2     [12, 7]  [2, 2, 12, 9]   \n",
       " \n",
       "                   outcome  outcome_value outcome_name  \n",
       " 0        HandOutcome.LOSE           -1.0         LOSE  \n",
       " 1        HandOutcome.LOSE           -1.0         LOSE  \n",
       " 2  HandOutcome.WIN_DOUBLE            2.0   WIN_DOUBLE  \n",
       " 3  HandOutcome.WIN_DOUBLE            2.0   WIN_DOUBLE  \n",
       " 4        HandOutcome.LOSE           -1.0         LOSE  \n",
       " 5        HandOutcome.LOSE           -1.0         LOSE  \n",
       " 6        HandOutcome.LOSE           -1.0         LOSE  \n",
       " 7        HandOutcome.LOSE           -1.0         LOSE  \n",
       " 8         HandOutcome.WIN            1.0          WIN  \n",
       " 9         HandOutcome.WIN            1.0          WIN  ,\n",
       "                     len                                             \\\n",
       " outcome_name  BLACKJACK   LOSE LOSE_DOUBLE  PUSH    WIN WIN_DOUBLE   \n",
       " strategy                                                             \n",
       " simple             4561  46150        2451  8821  34772       3245   \n",
       " strat_derived      4561  46062        2250  8532  34851       3744   \n",
       " \n",
       "               mean_outcome  \n",
       " outcome_name                \n",
       " strategy                    \n",
       " simple           -0.029485  \n",
       " strat_derived    -0.013815  )"
      ]
     },
     "execution_count": 47,
     "metadata": {},
     "output_type": "execute_result"
    }
   ],
   "source": [
    "sims = run_n_sim_trials([strat_simple, strat_derived], 100*1000)\n",
    "sims.head(10), summarize_totals(sims)"
   ]
  },
  {
   "cell_type": "code",
   "execution_count": 48,
   "id": "timely-bicycle",
   "metadata": {
    "ExecuteTime": {
     "end_time": "2021-07-07T23:27:41.551072Z",
     "start_time": "2021-07-07T23:27:41.537610Z"
    }
   },
   "outputs": [
    {
     "data": {
      "text/html": [
       "<div>\n",
       "<style scoped>\n",
       "    .dataframe tbody tr th:only-of-type {\n",
       "        vertical-align: middle;\n",
       "    }\n",
       "\n",
       "    .dataframe tbody tr th {\n",
       "        vertical-align: top;\n",
       "    }\n",
       "\n",
       "    .dataframe thead th {\n",
       "        text-align: right;\n",
       "    }\n",
       "</style>\n",
       "<table border=\"1\" class=\"dataframe\">\n",
       "  <thead>\n",
       "    <tr style=\"text-align: right;\">\n",
       "      <th></th>\n",
       "      <th>strategy</th>\n",
       "      <th>hand_start</th>\n",
       "      <th>dealer_card</th>\n",
       "      <th>hand_end</th>\n",
       "      <th>dealer_hand</th>\n",
       "      <th>outcome</th>\n",
       "      <th>outcome_value</th>\n",
       "      <th>outcome_name</th>\n",
       "    </tr>\n",
       "  </thead>\n",
       "  <tbody>\n",
       "    <tr>\n",
       "      <th>0</th>\n",
       "      <td>simple</td>\n",
       "      <td>[6, 2]</td>\n",
       "      <td>5</td>\n",
       "      <td>[6, 2, 8]</td>\n",
       "      <td>[5, 9, 7]</td>\n",
       "      <td>HandOutcome.LOSE</td>\n",
       "      <td>-1.0</td>\n",
       "      <td>LOSE</td>\n",
       "    </tr>\n",
       "    <tr>\n",
       "      <th>1</th>\n",
       "      <td>strat_derived</td>\n",
       "      <td>[6, 2]</td>\n",
       "      <td>5</td>\n",
       "      <td>[6, 2, 4]</td>\n",
       "      <td>[5, 9, 7]</td>\n",
       "      <td>HandOutcome.LOSE</td>\n",
       "      <td>-1.0</td>\n",
       "      <td>LOSE</td>\n",
       "    </tr>\n",
       "    <tr>\n",
       "      <th>2</th>\n",
       "      <td>simple</td>\n",
       "      <td>[2, 9]</td>\n",
       "      <td>8</td>\n",
       "      <td>[2, 9, 3]</td>\n",
       "      <td>[8, 5, 10]</td>\n",
       "      <td>HandOutcome.WIN_DOUBLE</td>\n",
       "      <td>2.0</td>\n",
       "      <td>WIN_DOUBLE</td>\n",
       "    </tr>\n",
       "    <tr>\n",
       "      <th>3</th>\n",
       "      <td>strat_derived</td>\n",
       "      <td>[2, 9]</td>\n",
       "      <td>8</td>\n",
       "      <td>[2, 9, 11]</td>\n",
       "      <td>[8, 5, 10]</td>\n",
       "      <td>HandOutcome.WIN_DOUBLE</td>\n",
       "      <td>2.0</td>\n",
       "      <td>WIN_DOUBLE</td>\n",
       "    </tr>\n",
       "    <tr>\n",
       "      <th>4</th>\n",
       "      <td>simple</td>\n",
       "      <td>[1, 3]</td>\n",
       "      <td>4</td>\n",
       "      <td>[1, 3]</td>\n",
       "      <td>[4, 7, 1, 8]</td>\n",
       "      <td>HandOutcome.LOSE</td>\n",
       "      <td>-1.0</td>\n",
       "      <td>LOSE</td>\n",
       "    </tr>\n",
       "    <tr>\n",
       "      <th>...</th>\n",
       "      <td>...</td>\n",
       "      <td>...</td>\n",
       "      <td>...</td>\n",
       "      <td>...</td>\n",
       "      <td>...</td>\n",
       "      <td>...</td>\n",
       "      <td>...</td>\n",
       "      <td>...</td>\n",
       "    </tr>\n",
       "    <tr>\n",
       "      <th>199995</th>\n",
       "      <td>strat_derived</td>\n",
       "      <td>[1, 12]</td>\n",
       "      <td>10</td>\n",
       "      <td>[1, 12]</td>\n",
       "      <td>[10, 3, 7]</td>\n",
       "      <td>HandOutcome.BLACKJACK</td>\n",
       "      <td>1.5</td>\n",
       "      <td>BLACKJACK</td>\n",
       "    </tr>\n",
       "    <tr>\n",
       "      <th>199996</th>\n",
       "      <td>simple</td>\n",
       "      <td>[8, 2]</td>\n",
       "      <td>4</td>\n",
       "      <td>[8, 2, 10]</td>\n",
       "      <td>[4, 4, 3, 3, 10]</td>\n",
       "      <td>HandOutcome.WIN</td>\n",
       "      <td>1.0</td>\n",
       "      <td>WIN</td>\n",
       "    </tr>\n",
       "    <tr>\n",
       "      <th>199997</th>\n",
       "      <td>strat_derived</td>\n",
       "      <td>[8, 2]</td>\n",
       "      <td>4</td>\n",
       "      <td>[8, 2, 13]</td>\n",
       "      <td>[4, 4, 3, 3, 10]</td>\n",
       "      <td>HandOutcome.WIN_DOUBLE</td>\n",
       "      <td>2.0</td>\n",
       "      <td>WIN_DOUBLE</td>\n",
       "    </tr>\n",
       "    <tr>\n",
       "      <th>199998</th>\n",
       "      <td>simple</td>\n",
       "      <td>[6, 5]</td>\n",
       "      <td>8</td>\n",
       "      <td>[6, 5, 2]</td>\n",
       "      <td>[8, 6, 7]</td>\n",
       "      <td>HandOutcome.LOSE_DOUBLE</td>\n",
       "      <td>-2.0</td>\n",
       "      <td>LOSE_DOUBLE</td>\n",
       "    </tr>\n",
       "    <tr>\n",
       "      <th>199999</th>\n",
       "      <td>strat_derived</td>\n",
       "      <td>[6, 5]</td>\n",
       "      <td>8</td>\n",
       "      <td>[6, 5, 10]</td>\n",
       "      <td>[8, 6, 7]</td>\n",
       "      <td>HandOutcome.PUSH</td>\n",
       "      <td>0.0</td>\n",
       "      <td>PUSH</td>\n",
       "    </tr>\n",
       "  </tbody>\n",
       "</table>\n",
       "<p>200000 rows × 8 columns</p>\n",
       "</div>"
      ],
      "text/plain": [
       "             strategy hand_start  dealer_card    hand_end       dealer_hand  \\\n",
       "0              simple     [6, 2]            5   [6, 2, 8]         [5, 9, 7]   \n",
       "1       strat_derived     [6, 2]            5   [6, 2, 4]         [5, 9, 7]   \n",
       "2              simple     [2, 9]            8   [2, 9, 3]        [8, 5, 10]   \n",
       "3       strat_derived     [2, 9]            8  [2, 9, 11]        [8, 5, 10]   \n",
       "4              simple     [1, 3]            4      [1, 3]      [4, 7, 1, 8]   \n",
       "...               ...        ...          ...         ...               ...   \n",
       "199995  strat_derived    [1, 12]           10     [1, 12]        [10, 3, 7]   \n",
       "199996         simple     [8, 2]            4  [8, 2, 10]  [4, 4, 3, 3, 10]   \n",
       "199997  strat_derived     [8, 2]            4  [8, 2, 13]  [4, 4, 3, 3, 10]   \n",
       "199998         simple     [6, 5]            8   [6, 5, 2]         [8, 6, 7]   \n",
       "199999  strat_derived     [6, 5]            8  [6, 5, 10]         [8, 6, 7]   \n",
       "\n",
       "                        outcome  outcome_value outcome_name  \n",
       "0              HandOutcome.LOSE           -1.0         LOSE  \n",
       "1              HandOutcome.LOSE           -1.0         LOSE  \n",
       "2        HandOutcome.WIN_DOUBLE            2.0   WIN_DOUBLE  \n",
       "3        HandOutcome.WIN_DOUBLE            2.0   WIN_DOUBLE  \n",
       "4              HandOutcome.LOSE           -1.0         LOSE  \n",
       "...                         ...            ...          ...  \n",
       "199995    HandOutcome.BLACKJACK            1.5    BLACKJACK  \n",
       "199996          HandOutcome.WIN            1.0          WIN  \n",
       "199997   HandOutcome.WIN_DOUBLE            2.0   WIN_DOUBLE  \n",
       "199998  HandOutcome.LOSE_DOUBLE           -2.0  LOSE_DOUBLE  \n",
       "199999         HandOutcome.PUSH            0.0         PUSH  \n",
       "\n",
       "[200000 rows x 8 columns]"
      ]
     },
     "execution_count": 48,
     "metadata": {},
     "output_type": "execute_result"
    }
   ],
   "source": [
    "sims"
   ]
  },
  {
   "cell_type": "code",
   "execution_count": null,
   "id": "aging-portuguese",
   "metadata": {},
   "outputs": [],
   "source": []
  }
 ],
 "metadata": {
  "kernelspec": {
   "display_name": "Python 3",
   "language": "python",
   "name": "python3"
  },
  "language_info": {
   "codemirror_mode": {
    "name": "ipython",
    "version": 3
   },
   "file_extension": ".py",
   "mimetype": "text/x-python",
   "name": "python",
   "nbconvert_exporter": "python",
   "pygments_lexer": "ipython3",
   "version": "3.8.8"
  }
 },
 "nbformat": 4,
 "nbformat_minor": 5
}
