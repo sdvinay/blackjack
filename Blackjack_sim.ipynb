{
 "cells": [
  {
   "cell_type": "code",
   "execution_count": 1,
   "id": "middle-scenario",
   "metadata": {
    "ExecuteTime": {
     "end_time": "2021-08-03T23:52:19.603031Z",
     "start_time": "2021-08-03T23:52:18.782180Z"
    }
   },
   "outputs": [],
   "source": [
    "import pickle\n",
    "import pandas as pd\n",
    "import matplotlib.pyplot as plt\n",
    "import seaborn as sns\n",
    "\n",
    "\n",
    "import blackjack as bj\n",
    "from blackjack import Hand, HandScore, Action, make_hand\n",
    "import simulator as sim\n",
    "import optimizer as opt\n"
   ]
  },
  {
   "cell_type": "code",
   "execution_count": 2,
   "id": "floating-forge",
   "metadata": {
    "ExecuteTime": {
     "end_time": "2021-08-03T23:52:19.607086Z",
     "start_time": "2021-08-03T23:52:19.604203Z"
    }
   },
   "outputs": [
    {
     "data": {
      "text/plain": [
       "s11"
      ]
     },
     "execution_count": 2,
     "metadata": {},
     "output_type": "execute_result"
    }
   ],
   "source": [
    "h = HandScore(11, True)\n",
    "h"
   ]
  },
  {
   "cell_type": "code",
   "execution_count": 3,
   "id": "pointed-judge",
   "metadata": {
    "ExecuteTime": {
     "end_time": "2021-08-03T23:52:19.610318Z",
     "start_time": "2021-08-03T23:52:19.608356Z"
    }
   },
   "outputs": [
    {
     "data": {
      "text/plain": [
       "s21"
      ]
     },
     "execution_count": 3,
     "metadata": {},
     "output_type": "execute_result"
    }
   ],
   "source": [
    "h.add_card(10)"
   ]
  },
  {
   "cell_type": "code",
   "execution_count": 4,
   "id": "mounted-kernel",
   "metadata": {
    "ExecuteTime": {
     "end_time": "2021-08-03T23:52:19.613366Z",
     "start_time": "2021-08-03T23:52:19.611372Z"
    }
   },
   "outputs": [
    {
     "data": {
      "text/plain": [
       "h21"
      ]
     },
     "execution_count": 4,
     "metadata": {},
     "output_type": "execute_result"
    }
   ],
   "source": [
    "h.add_card(10).add_card(10)"
   ]
  },
  {
   "cell_type": "code",
   "execution_count": 5,
   "id": "static-printer",
   "metadata": {
    "ExecuteTime": {
     "end_time": "2021-08-03T23:52:19.617013Z",
     "start_time": "2021-08-03T23:52:19.614596Z"
    }
   },
   "outputs": [
    {
     "data": {
      "text/plain": [
       "s11"
      ]
     },
     "execution_count": 5,
     "metadata": {},
     "output_type": "execute_result"
    }
   ],
   "source": [
    "h"
   ]
  },
  {
   "cell_type": "code",
   "execution_count": 6,
   "id": "turkish-state",
   "metadata": {
    "ExecuteTime": {
     "end_time": "2021-08-03T23:52:19.620210Z",
     "start_time": "2021-08-03T23:52:19.617942Z"
    }
   },
   "outputs": [
    {
     "data": {
      "text/plain": [
       "s14"
      ]
     },
     "execution_count": 6,
     "metadata": {},
     "output_type": "execute_result"
    }
   ],
   "source": [
    "h.add_card(3)"
   ]
  },
  {
   "cell_type": "code",
   "execution_count": 7,
   "id": "cubic-object",
   "metadata": {
    "ExecuteTime": {
     "end_time": "2021-08-03T23:52:19.623920Z",
     "start_time": "2021-08-03T23:52:19.621143Z"
    }
   },
   "outputs": [
    {
     "data": {
      "text/plain": [
       "h14"
      ]
     },
     "execution_count": 7,
     "metadata": {},
     "output_type": "execute_result"
    }
   ],
   "source": [
    "h.add_card(3).add_card(10)"
   ]
  },
  {
   "cell_type": "code",
   "execution_count": 8,
   "id": "afraid-bristol",
   "metadata": {
    "ExecuteTime": {
     "end_time": "2021-08-03T23:52:19.628808Z",
     "start_time": "2021-08-03T23:52:19.626177Z"
    }
   },
   "outputs": [
    {
     "data": {
      "text/plain": [
       "[h00,\n",
       " h01,\n",
       " h02,\n",
       " h03,\n",
       " h04,\n",
       " h05,\n",
       " h06,\n",
       " h07,\n",
       " h08,\n",
       " h09,\n",
       " h10,\n",
       " h11,\n",
       " h12,\n",
       " h13,\n",
       " h14,\n",
       " h15,\n",
       " h16,\n",
       " h17,\n",
       " h18,\n",
       " h19,\n",
       " h20,\n",
       " h21,\n",
       " h22,\n",
       " s11,\n",
       " s12,\n",
       " s13,\n",
       " s14,\n",
       " s15,\n",
       " s16,\n",
       " s17,\n",
       " s18,\n",
       " s19,\n",
       " s20,\n",
       " s21]"
      ]
     },
     "execution_count": 8,
     "metadata": {},
     "output_type": "execute_result"
    }
   ],
   "source": [
    "all_scores = [HandScore(i, False) for i in range(0, 23)] + [HandScore(i, True) for i in range(11, 22)]\n",
    "all_scores"
   ]
  },
  {
   "cell_type": "code",
   "execution_count": 9,
   "id": "initial-harrison",
   "metadata": {
    "ExecuteTime": {
     "end_time": "2021-08-03T23:52:19.632532Z",
     "start_time": "2021-08-03T23:52:19.630564Z"
    }
   },
   "outputs": [
    {
     "data": {
      "text/plain": [
       "Hand(score=h00, cards=[], doubled=False, drawn=False, surrendered=False)"
      ]
     },
     "execution_count": 9,
     "metadata": {},
     "output_type": "execute_result"
    }
   ],
   "source": [
    "h = Hand()\n",
    "h"
   ]
  },
  {
   "cell_type": "code",
   "execution_count": 10,
   "id": "reduced-cover",
   "metadata": {
    "ExecuteTime": {
     "end_time": "2021-08-03T23:52:19.635455Z",
     "start_time": "2021-08-03T23:52:19.633467Z"
    }
   },
   "outputs": [
    {
     "data": {
      "text/plain": [
       "Hand(score=h06, cards=[6], doubled=False, drawn=False, surrendered=False)"
      ]
     },
     "execution_count": 10,
     "metadata": {},
     "output_type": "execute_result"
    }
   ],
   "source": [
    "h.add_card(6) # start a hand with a 6"
   ]
  },
  {
   "cell_type": "code",
   "execution_count": 11,
   "id": "aging-green",
   "metadata": {
    "ExecuteTime": {
     "end_time": "2021-08-03T23:52:19.639815Z",
     "start_time": "2021-08-03T23:52:19.636799Z"
    }
   },
   "outputs": [
    {
     "data": {
      "text/plain": [
       "Hand(score=h16, cards=[6, 11], doubled=False, drawn=False, surrendered=False)"
      ]
     },
     "execution_count": 11,
     "metadata": {},
     "output_type": "execute_result"
    }
   ],
   "source": [
    "h.add_card(11) # show that J (11) counts as 10 points"
   ]
  },
  {
   "cell_type": "code",
   "execution_count": 12,
   "id": "humanitarian-chair",
   "metadata": {
    "ExecuteTime": {
     "end_time": "2021-08-03T23:52:19.643495Z",
     "start_time": "2021-08-03T23:52:19.641097Z"
    }
   },
   "outputs": [
    {
     "data": {
      "text/plain": [
       "(Hand(score=h22, cards=[6, 11, 7], doubled=False, drawn=False, surrendered=False),\n",
       " True)"
      ]
     },
     "execution_count": 12,
     "metadata": {},
     "output_type": "execute_result"
    }
   ],
   "source": [
    "h.add_card(7), bj.is_busted(h) # bust (show that 23 is counted as 22)"
   ]
  },
  {
   "cell_type": "code",
   "execution_count": 13,
   "id": "accompanied-perspective",
   "metadata": {
    "ExecuteTime": {
     "end_time": "2021-08-03T23:52:19.646969Z",
     "start_time": "2021-08-03T23:52:19.644720Z"
    }
   },
   "outputs": [
    {
     "data": {
      "text/plain": [
       "Hand(score=s11, cards=[1], doubled=False, drawn=False, surrendered=False)"
      ]
     },
     "execution_count": 13,
     "metadata": {},
     "output_type": "execute_result"
    }
   ],
   "source": [
    "# OK, now let's try another hand with aces\n",
    "h = Hand()\n",
    "h.add_card(1) # should be a soft 11"
   ]
  },
  {
   "cell_type": "code",
   "execution_count": 14,
   "id": "exotic-checkout",
   "metadata": {
    "ExecuteTime": {
     "end_time": "2021-08-03T23:52:19.650093Z",
     "start_time": "2021-08-03T23:52:19.647907Z"
    }
   },
   "outputs": [
    {
     "data": {
      "text/plain": [
       "Hand(score=s12, cards=[1, 1], doubled=False, drawn=False, surrendered=False)"
      ]
     },
     "execution_count": 14,
     "metadata": {},
     "output_type": "execute_result"
    }
   ],
   "source": [
    "h.add_card(1) # two aces: should be a soft 12"
   ]
  },
  {
   "cell_type": "code",
   "execution_count": 15,
   "id": "italian-beads",
   "metadata": {
    "ExecuteTime": {
     "end_time": "2021-08-03T23:52:19.653943Z",
     "start_time": "2021-08-03T23:52:19.651111Z"
    }
   },
   "outputs": [
    {
     "data": {
      "text/plain": [
       "Hand(score=h12, cards=[1, 1, 11], doubled=False, drawn=False, surrendered=False)"
      ]
     },
     "execution_count": 15,
     "metadata": {},
     "output_type": "execute_result"
    }
   ],
   "source": [
    "h.add_card(11) # two aces and a J: should be a hard 12"
   ]
  },
  {
   "cell_type": "code",
   "execution_count": 16,
   "id": "neutral-sugar",
   "metadata": {
    "ExecuteTime": {
     "end_time": "2021-08-03T23:52:19.657795Z",
     "start_time": "2021-08-03T23:52:19.655133Z"
    }
   },
   "outputs": [
    {
     "data": {
      "text/plain": [
       "(Hand(score=s21, cards=[1, 10], doubled=False, drawn=False, surrendered=False),\n",
       " True)"
      ]
     },
     "execution_count": 16,
     "metadata": {},
     "output_type": "execute_result"
    }
   ],
   "source": [
    "# OK, now let's try another hand with a blackjack\n",
    "h = Hand()\n",
    "h.add_card(1) # should be a soft 11\n",
    "h.add_card(10)\n",
    "h, bj.is_blackjack(h)"
   ]
  },
  {
   "cell_type": "markdown",
   "id": "dental-kelly",
   "metadata": {},
   "source": [
    "## Now define gameplay and strategy"
   ]
  },
  {
   "cell_type": "code",
   "execution_count": 17,
   "id": "secondary-crown",
   "metadata": {
    "ExecuteTime": {
     "end_time": "2021-08-03T23:52:19.661742Z",
     "start_time": "2021-08-03T23:52:19.659056Z"
    }
   },
   "outputs": [
    {
     "data": {
      "text/plain": [
       "[1, 7, 1, 9, 12, 9, 9, 4, 10, 13]"
      ]
     },
     "execution_count": 17,
     "metadata": {},
     "output_type": "execute_result"
    }
   ],
   "source": [
    "[bj.deal_card() for _ in range(10)]"
   ]
  },
  {
   "cell_type": "code",
   "execution_count": 18,
   "id": "atomic-plaintiff",
   "metadata": {
    "ExecuteTime": {
     "end_time": "2021-08-03T23:52:19.664996Z",
     "start_time": "2021-08-03T23:52:19.662787Z"
    }
   },
   "outputs": [
    {
     "data": {
      "text/plain": [
       "[('strat_nobust',\n",
       "  Hand(score=h16, cards=[6, 12], doubled=False, drawn=False, surrendered=False),\n",
       "  Hand(score=h20, cards=[11, 10], doubled=False, drawn=False, surrendered=False),\n",
       "  <HandOutcome.LOSE: -1>),\n",
       " ('strat_nobust',\n",
       "  Hand(score=h16, cards=[6, 12], doubled=False, drawn=False, surrendered=False),\n",
       "  Hand(score=h20, cards=[11, 10], doubled=False, drawn=False, surrendered=False),\n",
       "  <HandOutcome.LOSE: -1>)]"
      ]
     },
     "execution_count": 18,
     "metadata": {},
     "output_type": "execute_result"
    }
   ],
   "source": [
    "bj.play_one_round([bj.strat_nobust, bj.strat_nobust])"
   ]
  },
  {
   "cell_type": "markdown",
   "id": "looking-jewelry",
   "metadata": {},
   "source": [
    "## Aggregate and summarize the data from the simulations"
   ]
  },
  {
   "cell_type": "code",
   "execution_count": 19,
   "id": "juvenile-joshua",
   "metadata": {
    "ExecuteTime": {
     "end_time": "2021-08-03T23:52:19.668657Z",
     "start_time": "2021-08-03T23:52:19.665905Z"
    }
   },
   "outputs": [
    {
     "data": {
      "text/plain": [
       "[{'strategy': 'strat_nobust',\n",
       "  'hand_start': [2, 8],\n",
       "  'dealer_card': 1,\n",
       "  'hand_end': [2, 8, 12],\n",
       "  'dealer_hand': [1, 10],\n",
       "  'outcome': <HandOutcome.LOSE: -1>},\n",
       " {'strategy': 'strat_dealer',\n",
       "  'hand_start': [2, 8],\n",
       "  'dealer_card': 1,\n",
       "  'hand_end': [2, 8, 10],\n",
       "  'dealer_hand': [1, 10],\n",
       "  'outcome': <HandOutcome.LOSE: -1>}]"
      ]
     },
     "execution_count": 19,
     "metadata": {},
     "output_type": "execute_result"
    }
   ],
   "source": [
    "\n",
    "\n",
    "strat_nobust = bj.strat_nobust\n",
    "strat_dealer = bj.strat_dealer\n",
    "sim.generate_rows_from_round(bj.play_one_round([bj.strat_nobust, bj.strat_dealer]))\n"
   ]
  },
  {
   "cell_type": "code",
   "execution_count": 20,
   "id": "approved-broadway",
   "metadata": {
    "ExecuteTime": {
     "end_time": "2021-08-03T23:52:19.969655Z",
     "start_time": "2021-08-03T23:52:19.669979Z"
    }
   },
   "outputs": [],
   "source": [
    "\n",
    "\n",
    "sim_results = sim.run_n_sim_trials([strat_nobust, strat_dealer], 10000)\n",
    "#%prun -s cumulative sim_results, sim.summarize_totals(sim_results)"
   ]
  },
  {
   "cell_type": "code",
   "execution_count": 21,
   "id": "varied-devil",
   "metadata": {
    "ExecuteTime": {
     "end_time": "2021-08-03T23:52:20.013121Z",
     "start_time": "2021-08-03T23:52:19.970531Z"
    }
   },
   "outputs": [
    {
     "data": {
      "text/plain": [
       "(  strategy hand_start  dealer_card     hand_end       dealer_hand  \\\n",
       " 0   simple     [2, 5]            2   [2, 5, 11]      [2, 7, 6, 5]   \n",
       " 1   simple     [4, 6]            4    [4, 6, 3]        [4, 11, 8]   \n",
       " 2   simple     [3, 7]            8   [3, 7, 12]           [8, 10]   \n",
       " 3   simple    [6, 10]            2  [6, 10, 13]  [2, 4, 4, 3, 12]   \n",
       " 4   simple    [12, 3]           10   [12, 3, 6]       [10, 3, 13]   \n",
       " 5   simple    [9, 12]           12      [9, 12]          [12, 11]   \n",
       " 6   simple   [11, 11]            5     [11, 11]         [5, 3, 9]   \n",
       " 7   simple    [8, 10]            4      [8, 10]        [4, 8, 12]   \n",
       " 8   simple    [12, 8]            8      [12, 8]           [8, 13]   \n",
       " 9   simple   [11, 10]            3     [11, 10]      [3, 4, 3, 8]   \n",
       " \n",
       "             outcome  outcome_value outcome_name  \n",
       " 0  HandOutcome.LOSE           -1.0         LOSE  \n",
       " 1   HandOutcome.WIN            1.0          WIN  \n",
       " 2   HandOutcome.WIN            1.0          WIN  \n",
       " 3  HandOutcome.LOSE           -1.0         LOSE  \n",
       " 4   HandOutcome.WIN            1.0          WIN  \n",
       " 5  HandOutcome.LOSE           -1.0         LOSE  \n",
       " 6   HandOutcome.WIN            1.0          WIN  \n",
       " 7   HandOutcome.WIN            1.0          WIN  \n",
       " 8  HandOutcome.PUSH            0.0         PUSH  \n",
       " 9   HandOutcome.WIN            1.0          WIN  ,\n",
       "                    len                                       mean_outcome\n",
       " outcome_name BLACKJACK LOSE LOSE_DOUBLE PUSH  WIN WIN_DOUBLE             \n",
       " strategy                                                                 \n",
       " simple              48  434          15  100  379         24        0.035)"
      ]
     },
     "execution_count": 21,
     "metadata": {},
     "output_type": "execute_result"
    }
   ],
   "source": [
    "def strat_simple_func(score_p, score_d):\n",
    "    if score_p.points == 11:  return Action.DOUBLE\n",
    "    if score_p.points >= 17:  return Action.STAND\n",
    "    if score_p.points <= 11:  return Action.HIT\n",
    "    if score_d.points in (range(3,7)):  return Action.STAND\n",
    "    else:  return Action.HIT\n",
    "        \n",
    "strat_simple_func.name = 'simple'\n",
    "\n",
    "strat_simple = bj.Strategy_wrapper(strat_simple_func)\n",
    "sims = sim.run_n_sim_trials([strat_simple], 1000)\n",
    "sims.head(10), sim.summarize_totals(sims)"
   ]
  },
  {
   "cell_type": "code",
   "execution_count": 22,
   "id": "confirmed-passing",
   "metadata": {
    "ExecuteTime": {
     "end_time": "2021-08-03T23:52:20.831870Z",
     "start_time": "2021-08-03T23:52:20.014084Z"
    }
   },
   "outputs": [
    {
     "name": "stdout",
     "output_type": "stream",
     "text": [
      " "
     ]
    }
   ],
   "source": [
    "%prun -s cumulative sim.summarize_totals(sim.run_n_sim_trials([strat_dealer, strat_nobust, strat_simple], 10000))\n"
   ]
  },
  {
   "cell_type": "markdown",
   "id": "fluid-writing",
   "metadata": {},
   "source": [
    "## Simulate specific situations to determine strategy"
   ]
  },
  {
   "cell_type": "code",
   "execution_count": 23,
   "id": "otherwise-sheffield",
   "metadata": {
    "ExecuteTime": {
     "end_time": "2021-08-03T23:52:20.837981Z",
     "start_time": "2021-08-03T23:52:20.835763Z"
    }
   },
   "outputs": [
    {
     "data": {
      "text/plain": [
       "(Hand(score=h12, cards=[5, 7], doubled=False, drawn=False, surrendered=False),\n",
       " Hand(score=h02, cards=[2], doubled=False, drawn=False, surrendered=False))"
      ]
     },
     "execution_count": 23,
     "metadata": {},
     "output_type": "execute_result"
    }
   ],
   "source": [
    "# 12 vs deuce\n",
    "\n",
    "hand_p = make_hand([5, 7])\n",
    "hand_d = make_hand([2])\n",
    "\n",
    "hand_p, hand_d"
   ]
  },
  {
   "cell_type": "code",
   "execution_count": 24,
   "id": "gross-kennedy",
   "metadata": {
    "ExecuteTime": {
     "end_time": "2021-08-03T23:52:20.842184Z",
     "start_time": "2021-08-03T23:52:20.839721Z"
    }
   },
   "outputs": [
    {
     "data": {
      "text/plain": [
       "<blackjack.Strategy_wrapper at 0x7f9a932b5520>"
      ]
     },
     "execution_count": 24,
     "metadata": {},
     "output_type": "execute_result"
    }
   ],
   "source": [
    "# Implement a strategy that composes conditions and actions\n",
    "\n",
    "def cond_12_2(score_p, score_d):\n",
    "    return score_p.points == 12 and score_d.points == 2 and not score_p.soft\n",
    "conditions = [(cond_12_2, Action.STAND)]\n",
    "\n",
    "\n",
    "    \n",
    "strat_cond = sim.generate_strat_conditional(strat_simple, conditions)\n",
    "strat_cond"
   ]
  },
  {
   "cell_type": "code",
   "execution_count": 25,
   "id": "virgin-mining",
   "metadata": {
    "ExecuteTime": {
     "end_time": "2021-08-03T23:52:20.846855Z",
     "start_time": "2021-08-03T23:52:20.843742Z"
    }
   },
   "outputs": [
    {
     "data": {
      "text/plain": [
       "[<blackjack.Strategy_wrapper at 0x7f9a80f1fd30>,\n",
       " <blackjack.Strategy_wrapper at 0x7f9a803fcc10>,\n",
       " <blackjack.Strategy_wrapper at 0x7f9a803ddf40>,\n",
       " <blackjack.Strategy_wrapper at 0x7f9a803ddd30>]"
      ]
     },
     "execution_count": 25,
     "metadata": {},
     "output_type": "execute_result"
    }
   ],
   "source": [
    "# Generate a conditional strategy for each action\n",
    "    \n",
    "strats = sim.gen_cond_strategies(strat_simple, cond_12_2, Action)\n",
    "strats"
   ]
  },
  {
   "cell_type": "code",
   "execution_count": 26,
   "id": "acoustic-warrant",
   "metadata": {
    "ExecuteTime": {
     "end_time": "2021-08-03T23:52:20.850679Z",
     "start_time": "2021-08-03T23:52:20.848023Z"
    }
   },
   "outputs": [
    {
     "data": {
      "text/plain": [
       "[('<Action.SURRENDER: 1>',\n",
       "  Hand(score=h12, cards=[5, 7], doubled=False, drawn=False, surrendered=True),\n",
       "  Hand(score=h20, cards=[2, 6, 2, 11], doubled=False, drawn=True, surrendered=False),\n",
       "  <HandOutcome.SURRENDER: -0.5>),\n",
       " ('<Action.STAND: 2>',\n",
       "  Hand(score=h12, cards=[5, 7], doubled=False, drawn=False, surrendered=False),\n",
       "  Hand(score=h20, cards=[2, 6, 2, 11], doubled=False, drawn=True, surrendered=False),\n",
       "  <HandOutcome.LOSE: -1>),\n",
       " ('<Action.HIT: 3>',\n",
       "  Hand(score=h22, cards=[5, 7, 12], doubled=False, drawn=True, surrendered=False),\n",
       "  Hand(score=h20, cards=[2, 6, 2, 11], doubled=False, drawn=True, surrendered=False),\n",
       "  <HandOutcome.LOSE: -1>),\n",
       " ('<Action.DOUBLE: 4>',\n",
       "  Hand(score=h22, cards=[5, 7, 13], doubled=True, drawn=True, surrendered=False),\n",
       "  Hand(score=h20, cards=[2, 6, 2, 11], doubled=False, drawn=True, surrendered=False),\n",
       "  <HandOutcome.LOSE_DOUBLE: -2>)]"
      ]
     },
     "execution_count": 26,
     "metadata": {},
     "output_type": "execute_result"
    }
   ],
   "source": [
    "bj.complete_one_round(strats, hand_p, hand_d, bj.deal_card())"
   ]
  },
  {
   "cell_type": "code",
   "execution_count": 27,
   "id": "economic-greene",
   "metadata": {
    "ExecuteTime": {
     "end_time": "2021-08-03T23:52:21.344173Z",
     "start_time": "2021-08-03T23:52:20.851679Z"
    }
   },
   "outputs": [
    {
     "data": {
      "text/html": [
       "<div>\n",
       "<style scoped>\n",
       "    .dataframe tbody tr th:only-of-type {\n",
       "        vertical-align: middle;\n",
       "    }\n",
       "\n",
       "    .dataframe tbody tr th {\n",
       "        vertical-align: top;\n",
       "    }\n",
       "\n",
       "    .dataframe thead tr th {\n",
       "        text-align: left;\n",
       "    }\n",
       "\n",
       "    .dataframe thead tr:last-of-type th {\n",
       "        text-align: right;\n",
       "    }\n",
       "</style>\n",
       "<table border=\"1\" class=\"dataframe\">\n",
       "  <thead>\n",
       "    <tr>\n",
       "      <th></th>\n",
       "      <th colspan=\"6\" halign=\"left\">len</th>\n",
       "      <th>mean_outcome</th>\n",
       "    </tr>\n",
       "    <tr>\n",
       "      <th>outcome_name</th>\n",
       "      <th>LOSE</th>\n",
       "      <th>LOSE_DOUBLE</th>\n",
       "      <th>PUSH</th>\n",
       "      <th>SURRENDER</th>\n",
       "      <th>WIN</th>\n",
       "      <th>WIN_DOUBLE</th>\n",
       "      <th></th>\n",
       "    </tr>\n",
       "    <tr>\n",
       "      <th>strategy</th>\n",
       "      <th></th>\n",
       "      <th></th>\n",
       "      <th></th>\n",
       "      <th></th>\n",
       "      <th></th>\n",
       "      <th></th>\n",
       "      <th></th>\n",
       "    </tr>\n",
       "  </thead>\n",
       "  <tbody>\n",
       "    <tr>\n",
       "      <th>&lt;Action.DOUBLE: 4&gt;</th>\n",
       "      <td>0</td>\n",
       "      <td>6050</td>\n",
       "      <td>454</td>\n",
       "      <td>0</td>\n",
       "      <td>0</td>\n",
       "      <td>3496</td>\n",
       "      <td>-0.5108</td>\n",
       "    </tr>\n",
       "    <tr>\n",
       "      <th>&lt;Action.HIT: 3&gt;</th>\n",
       "      <td>6076</td>\n",
       "      <td>0</td>\n",
       "      <td>668</td>\n",
       "      <td>0</td>\n",
       "      <td>3256</td>\n",
       "      <td>0</td>\n",
       "      <td>-0.2820</td>\n",
       "    </tr>\n",
       "    <tr>\n",
       "      <th>&lt;Action.STAND: 2&gt;</th>\n",
       "      <td>6382</td>\n",
       "      <td>0</td>\n",
       "      <td>0</td>\n",
       "      <td>0</td>\n",
       "      <td>3618</td>\n",
       "      <td>0</td>\n",
       "      <td>-0.2764</td>\n",
       "    </tr>\n",
       "    <tr>\n",
       "      <th>&lt;Action.SURRENDER: 1&gt;</th>\n",
       "      <td>0</td>\n",
       "      <td>0</td>\n",
       "      <td>0</td>\n",
       "      <td>10000</td>\n",
       "      <td>0</td>\n",
       "      <td>0</td>\n",
       "      <td>-0.5000</td>\n",
       "    </tr>\n",
       "  </tbody>\n",
       "</table>\n",
       "</div>"
      ],
      "text/plain": [
       "                        len                                              \\\n",
       "outcome_name           LOSE LOSE_DOUBLE PUSH SURRENDER   WIN WIN_DOUBLE   \n",
       "strategy                                                                  \n",
       "<Action.DOUBLE: 4>        0        6050  454         0     0       3496   \n",
       "<Action.HIT: 3>        6076           0  668         0  3256          0   \n",
       "<Action.STAND: 2>      6382           0    0         0  3618          0   \n",
       "<Action.SURRENDER: 1>     0           0    0     10000     0          0   \n",
       "\n",
       "                      mean_outcome  \n",
       "outcome_name                        \n",
       "strategy                            \n",
       "<Action.DOUBLE: 4>         -0.5108  \n",
       "<Action.HIT: 3>            -0.2820  \n",
       "<Action.STAND: 2>          -0.2764  \n",
       "<Action.SURRENDER: 1>      -0.5000  "
      ]
     },
     "execution_count": 27,
     "metadata": {},
     "output_type": "execute_result"
    }
   ],
   "source": [
    "\n",
    "\n",
    "sims = sim.run_n_sim_trials_from_state(strats, hand_p, hand_d, 10000)\n",
    "sim.summarize_totals(sims)"
   ]
  },
  {
   "cell_type": "code",
   "execution_count": 28,
   "id": "institutional-grain",
   "metadata": {
    "ExecuteTime": {
     "end_time": "2021-08-03T23:52:21.347299Z",
     "start_time": "2021-08-03T23:52:21.345123Z"
    }
   },
   "outputs": [
    {
     "data": {
      "text/plain": [
       "(Hand(score=s12, cards=[1, 1], doubled=False, drawn=False, surrendered=False),\n",
       " Hand(score=h02, cards=[2], doubled=False, drawn=False, surrendered=False))"
      ]
     },
     "execution_count": 28,
     "metadata": {},
     "output_type": "execute_result"
    }
   ],
   "source": [
    "# Soft 12 vs 2\n",
    "hand_12s = make_hand([1, 1])\n",
    "\n",
    "hand_12s, hand_d"
   ]
  },
  {
   "cell_type": "code",
   "execution_count": 29,
   "id": "legal-uniform",
   "metadata": {
    "ExecuteTime": {
     "end_time": "2021-08-03T23:52:21.350572Z",
     "start_time": "2021-08-03T23:52:21.348161Z"
    }
   },
   "outputs": [
    {
     "data": {
      "text/plain": [
       "[<blackjack.Strategy_wrapper at 0x7f9aa0af7700>,\n",
       " <blackjack.Strategy_wrapper at 0x7f9aa0af7790>,\n",
       " <blackjack.Strategy_wrapper at 0x7f9aa0af7850>,\n",
       " <blackjack.Strategy_wrapper at 0x7f9aa0af78e0>]"
      ]
     },
     "execution_count": 29,
     "metadata": {},
     "output_type": "execute_result"
    }
   ],
   "source": [
    "def cond_12s_2(score_p, score_d):\n",
    "    return score_p == HandScore(12, True) and score_d.points == 2\n",
    "\n",
    "strats = sim.gen_cond_strategies(strat_simple, cond_12s_2, Action)\n",
    "strats"
   ]
  },
  {
   "cell_type": "code",
   "execution_count": 30,
   "id": "british-logging",
   "metadata": {
    "ExecuteTime": {
     "end_time": "2021-08-03T23:52:22.083008Z",
     "start_time": "2021-08-03T23:52:21.351369Z"
    }
   },
   "outputs": [
    {
     "data": {
      "text/html": [
       "<div>\n",
       "<style scoped>\n",
       "    .dataframe tbody tr th:only-of-type {\n",
       "        vertical-align: middle;\n",
       "    }\n",
       "\n",
       "    .dataframe tbody tr th {\n",
       "        vertical-align: top;\n",
       "    }\n",
       "\n",
       "    .dataframe thead tr th {\n",
       "        text-align: left;\n",
       "    }\n",
       "\n",
       "    .dataframe thead tr:last-of-type th {\n",
       "        text-align: right;\n",
       "    }\n",
       "</style>\n",
       "<table border=\"1\" class=\"dataframe\">\n",
       "  <thead>\n",
       "    <tr>\n",
       "      <th></th>\n",
       "      <th colspan=\"6\" halign=\"left\">len</th>\n",
       "      <th>mean_outcome</th>\n",
       "    </tr>\n",
       "    <tr>\n",
       "      <th>outcome_name</th>\n",
       "      <th>LOSE</th>\n",
       "      <th>LOSE_DOUBLE</th>\n",
       "      <th>PUSH</th>\n",
       "      <th>SURRENDER</th>\n",
       "      <th>WIN</th>\n",
       "      <th>WIN_DOUBLE</th>\n",
       "      <th></th>\n",
       "    </tr>\n",
       "    <tr>\n",
       "      <th>strategy</th>\n",
       "      <th></th>\n",
       "      <th></th>\n",
       "      <th></th>\n",
       "      <th></th>\n",
       "      <th></th>\n",
       "      <th></th>\n",
       "      <th></th>\n",
       "    </tr>\n",
       "  </thead>\n",
       "  <tbody>\n",
       "    <tr>\n",
       "      <th>&lt;Action.DOUBLE: 4&gt;</th>\n",
       "      <td>0</td>\n",
       "      <td>6326</td>\n",
       "      <td>0</td>\n",
       "      <td>0</td>\n",
       "      <td>0</td>\n",
       "      <td>3674</td>\n",
       "      <td>-0.5304</td>\n",
       "    </tr>\n",
       "    <tr>\n",
       "      <th>&lt;Action.HIT: 3&gt;</th>\n",
       "      <td>5332</td>\n",
       "      <td>0</td>\n",
       "      <td>771</td>\n",
       "      <td>0</td>\n",
       "      <td>3897</td>\n",
       "      <td>0</td>\n",
       "      <td>-0.1435</td>\n",
       "    </tr>\n",
       "    <tr>\n",
       "      <th>&lt;Action.STAND: 2&gt;</th>\n",
       "      <td>6326</td>\n",
       "      <td>0</td>\n",
       "      <td>0</td>\n",
       "      <td>0</td>\n",
       "      <td>3674</td>\n",
       "      <td>0</td>\n",
       "      <td>-0.2652</td>\n",
       "    </tr>\n",
       "    <tr>\n",
       "      <th>&lt;Action.SURRENDER: 1&gt;</th>\n",
       "      <td>0</td>\n",
       "      <td>0</td>\n",
       "      <td>0</td>\n",
       "      <td>10000</td>\n",
       "      <td>0</td>\n",
       "      <td>0</td>\n",
       "      <td>-0.5000</td>\n",
       "    </tr>\n",
       "    <tr>\n",
       "      <th>simple</th>\n",
       "      <td>5107</td>\n",
       "      <td>0</td>\n",
       "      <td>820</td>\n",
       "      <td>0</td>\n",
       "      <td>4073</td>\n",
       "      <td>0</td>\n",
       "      <td>-0.1034</td>\n",
       "    </tr>\n",
       "  </tbody>\n",
       "</table>\n",
       "</div>"
      ],
      "text/plain": [
       "                        len                                              \\\n",
       "outcome_name           LOSE LOSE_DOUBLE PUSH SURRENDER   WIN WIN_DOUBLE   \n",
       "strategy                                                                  \n",
       "<Action.DOUBLE: 4>        0        6326    0         0     0       3674   \n",
       "<Action.HIT: 3>        5332           0  771         0  3897          0   \n",
       "<Action.STAND: 2>      6326           0    0         0  3674          0   \n",
       "<Action.SURRENDER: 1>     0           0    0     10000     0          0   \n",
       "simple                 5107           0  820         0  4073          0   \n",
       "\n",
       "                      mean_outcome  \n",
       "outcome_name                        \n",
       "strategy                            \n",
       "<Action.DOUBLE: 4>         -0.5304  \n",
       "<Action.HIT: 3>            -0.1435  \n",
       "<Action.STAND: 2>          -0.2652  \n",
       "<Action.SURRENDER: 1>      -0.5000  \n",
       "simple                     -0.1034  "
      ]
     },
     "execution_count": 30,
     "metadata": {},
     "output_type": "execute_result"
    }
   ],
   "source": [
    "sims = sim.run_n_sim_trials_from_state(strats+[strat_simple], hand_12s, hand_d, 10000)\n",
    "sim.summarize_totals(sims)"
   ]
  },
  {
   "cell_type": "code",
   "execution_count": 31,
   "id": "based-subscription",
   "metadata": {
    "ExecuteTime": {
     "end_time": "2021-08-03T23:52:22.413824Z",
     "start_time": "2021-08-03T23:52:22.083811Z"
    }
   },
   "outputs": [
    {
     "data": {
      "text/html": [
       "<div>\n",
       "<style scoped>\n",
       "    .dataframe tbody tr th:only-of-type {\n",
       "        vertical-align: middle;\n",
       "    }\n",
       "\n",
       "    .dataframe tbody tr th {\n",
       "        vertical-align: top;\n",
       "    }\n",
       "\n",
       "    .dataframe thead tr th {\n",
       "        text-align: left;\n",
       "    }\n",
       "\n",
       "    .dataframe thead tr:last-of-type th {\n",
       "        text-align: right;\n",
       "    }\n",
       "</style>\n",
       "<table border=\"1\" class=\"dataframe\">\n",
       "  <thead>\n",
       "    <tr>\n",
       "      <th></th>\n",
       "      <th colspan=\"3\" halign=\"left\">len</th>\n",
       "      <th>mean_outcome</th>\n",
       "    </tr>\n",
       "    <tr>\n",
       "      <th>outcome_name</th>\n",
       "      <th>LOSE</th>\n",
       "      <th>PUSH</th>\n",
       "      <th>WIN</th>\n",
       "      <th></th>\n",
       "    </tr>\n",
       "    <tr>\n",
       "      <th>strategy</th>\n",
       "      <th></th>\n",
       "      <th></th>\n",
       "      <th></th>\n",
       "      <th></th>\n",
       "    </tr>\n",
       "  </thead>\n",
       "  <tbody>\n",
       "    <tr>\n",
       "      <th>simple</th>\n",
       "      <td>6088</td>\n",
       "      <td>674</td>\n",
       "      <td>3238</td>\n",
       "      <td>-0.2850</td>\n",
       "    </tr>\n",
       "    <tr>\n",
       "      <th>strat_cond</th>\n",
       "      <td>6311</td>\n",
       "      <td>0</td>\n",
       "      <td>3689</td>\n",
       "      <td>-0.2622</td>\n",
       "    </tr>\n",
       "  </tbody>\n",
       "</table>\n",
       "</div>"
      ],
      "text/plain": [
       "               len            mean_outcome\n",
       "outcome_name  LOSE PUSH   WIN             \n",
       "strategy                                  \n",
       "simple        6088  674  3238      -0.2850\n",
       "strat_cond    6311    0  3689      -0.2622"
      ]
     },
     "execution_count": 31,
     "metadata": {},
     "output_type": "execute_result"
    }
   ],
   "source": [
    "sim.summarize_totals(sim.run_n_sim_trials_from_state([strat_simple, strat_cond], hand_p, hand_d, 10*1000))"
   ]
  },
  {
   "cell_type": "code",
   "execution_count": 32,
   "id": "vietnamese-spray",
   "metadata": {
    "ExecuteTime": {
     "end_time": "2021-08-03T23:52:23.062985Z",
     "start_time": "2021-08-03T23:52:22.414698Z"
    }
   },
   "outputs": [
    {
     "data": {
      "text/html": [
       "<div>\n",
       "<style scoped>\n",
       "    .dataframe tbody tr th:only-of-type {\n",
       "        vertical-align: middle;\n",
       "    }\n",
       "\n",
       "    .dataframe tbody tr th {\n",
       "        vertical-align: top;\n",
       "    }\n",
       "\n",
       "    .dataframe thead tr th {\n",
       "        text-align: left;\n",
       "    }\n",
       "\n",
       "    .dataframe thead tr:last-of-type th {\n",
       "        text-align: right;\n",
       "    }\n",
       "</style>\n",
       "<table border=\"1\" class=\"dataframe\">\n",
       "  <thead>\n",
       "    <tr>\n",
       "      <th></th>\n",
       "      <th colspan=\"6\" halign=\"left\">len</th>\n",
       "      <th>mean_outcome</th>\n",
       "    </tr>\n",
       "    <tr>\n",
       "      <th>outcome_name</th>\n",
       "      <th>LOSE</th>\n",
       "      <th>LOSE_DOUBLE</th>\n",
       "      <th>PUSH</th>\n",
       "      <th>SURRENDER</th>\n",
       "      <th>WIN</th>\n",
       "      <th>WIN_DOUBLE</th>\n",
       "      <th></th>\n",
       "    </tr>\n",
       "    <tr>\n",
       "      <th>strategy</th>\n",
       "      <th></th>\n",
       "      <th></th>\n",
       "      <th></th>\n",
       "      <th></th>\n",
       "      <th></th>\n",
       "      <th></th>\n",
       "      <th></th>\n",
       "    </tr>\n",
       "  </thead>\n",
       "  <tbody>\n",
       "    <tr>\n",
       "      <th>&lt;Action.DOUBLE: 4&gt;</th>\n",
       "      <td>0</td>\n",
       "      <td>5817</td>\n",
       "      <td>0</td>\n",
       "      <td>0</td>\n",
       "      <td>0</td>\n",
       "      <td>4183</td>\n",
       "      <td>-0.3268</td>\n",
       "    </tr>\n",
       "    <tr>\n",
       "      <th>&lt;Action.HIT: 3&gt;</th>\n",
       "      <td>4901</td>\n",
       "      <td>0</td>\n",
       "      <td>308</td>\n",
       "      <td>0</td>\n",
       "      <td>4791</td>\n",
       "      <td>0</td>\n",
       "      <td>-0.0110</td>\n",
       "    </tr>\n",
       "    <tr>\n",
       "      <th>&lt;Action.STAND: 2&gt;</th>\n",
       "      <td>5817</td>\n",
       "      <td>0</td>\n",
       "      <td>0</td>\n",
       "      <td>0</td>\n",
       "      <td>4183</td>\n",
       "      <td>0</td>\n",
       "      <td>-0.1634</td>\n",
       "    </tr>\n",
       "    <tr>\n",
       "      <th>&lt;Action.SURRENDER: 1&gt;</th>\n",
       "      <td>0</td>\n",
       "      <td>0</td>\n",
       "      <td>0</td>\n",
       "      <td>10000</td>\n",
       "      <td>0</td>\n",
       "      <td>0</td>\n",
       "      <td>-0.5000</td>\n",
       "    </tr>\n",
       "    <tr>\n",
       "      <th>simple</th>\n",
       "      <td>5817</td>\n",
       "      <td>0</td>\n",
       "      <td>0</td>\n",
       "      <td>0</td>\n",
       "      <td>4183</td>\n",
       "      <td>0</td>\n",
       "      <td>-0.1634</td>\n",
       "    </tr>\n",
       "  </tbody>\n",
       "</table>\n",
       "</div>"
      ],
      "text/plain": [
       "                        len                                              \\\n",
       "outcome_name           LOSE LOSE_DOUBLE PUSH SURRENDER   WIN WIN_DOUBLE   \n",
       "strategy                                                                  \n",
       "<Action.DOUBLE: 4>        0        5817    0         0     0       4183   \n",
       "<Action.HIT: 3>        4901           0  308         0  4791          0   \n",
       "<Action.STAND: 2>      5817           0    0         0  4183          0   \n",
       "<Action.SURRENDER: 1>     0           0    0     10000     0          0   \n",
       "simple                 5817           0    0         0  4183          0   \n",
       "\n",
       "                      mean_outcome  \n",
       "outcome_name                        \n",
       "strategy                            \n",
       "<Action.DOUBLE: 4>         -0.3268  \n",
       "<Action.HIT: 3>            -0.0110  \n",
       "<Action.STAND: 2>          -0.1634  \n",
       "<Action.SURRENDER: 1>      -0.5000  \n",
       "simple                     -0.1634  "
      ]
     },
     "execution_count": 32,
     "metadata": {},
     "output_type": "execute_result"
    }
   ],
   "source": [
    "# soft 13 vs 6\n",
    "def cond_13s_6(score_p, score_d):\n",
    "    return score_p == HandScore(13, True) and score_d.points == 6\n",
    "\n",
    "\n",
    "\n",
    "strats = sim.gen_cond_strategies(strat_simple, cond_13s_6, Action)\n",
    "sims = sim.run_n_sim_trials_from_state(strats+[strat_simple], bj.make_hand([1, 2]), bj.make_hand([6]), 10000)\n",
    "sim.summarize_totals(sims)"
   ]
  },
  {
   "cell_type": "code",
   "execution_count": 33,
   "id": "liable-painting",
   "metadata": {
    "ExecuteTime": {
     "end_time": "2021-08-03T23:52:23.639987Z",
     "start_time": "2021-08-03T23:52:23.063859Z"
    }
   },
   "outputs": [
    {
     "data": {
      "text/html": [
       "<div>\n",
       "<style scoped>\n",
       "    .dataframe tbody tr th:only-of-type {\n",
       "        vertical-align: middle;\n",
       "    }\n",
       "\n",
       "    .dataframe tbody tr th {\n",
       "        vertical-align: top;\n",
       "    }\n",
       "\n",
       "    .dataframe thead tr th {\n",
       "        text-align: left;\n",
       "    }\n",
       "\n",
       "    .dataframe thead tr:last-of-type th {\n",
       "        text-align: right;\n",
       "    }\n",
       "</style>\n",
       "<table border=\"1\" class=\"dataframe\">\n",
       "  <thead>\n",
       "    <tr>\n",
       "      <th></th>\n",
       "      <th colspan=\"6\" halign=\"left\">len</th>\n",
       "      <th>mean_outcome</th>\n",
       "    </tr>\n",
       "    <tr>\n",
       "      <th>outcome_name</th>\n",
       "      <th>LOSE</th>\n",
       "      <th>LOSE_DOUBLE</th>\n",
       "      <th>PUSH</th>\n",
       "      <th>SURRENDER</th>\n",
       "      <th>WIN</th>\n",
       "      <th>WIN_DOUBLE</th>\n",
       "      <th></th>\n",
       "    </tr>\n",
       "    <tr>\n",
       "      <th>strategy</th>\n",
       "      <th></th>\n",
       "      <th></th>\n",
       "      <th></th>\n",
       "      <th></th>\n",
       "      <th></th>\n",
       "      <th></th>\n",
       "      <th></th>\n",
       "    </tr>\n",
       "  </thead>\n",
       "  <tbody>\n",
       "    <tr>\n",
       "      <th>&lt;Action.DOUBLE: 4&gt;</th>\n",
       "      <td>0</td>\n",
       "      <td>3237</td>\n",
       "      <td>709</td>\n",
       "      <td>0</td>\n",
       "      <td>0</td>\n",
       "      <td>6054</td>\n",
       "      <td>0.5634</td>\n",
       "    </tr>\n",
       "    <tr>\n",
       "      <th>&lt;Action.HIT: 3&gt;</th>\n",
       "      <td>3179</td>\n",
       "      <td>0</td>\n",
       "      <td>683</td>\n",
       "      <td>0</td>\n",
       "      <td>6138</td>\n",
       "      <td>0</td>\n",
       "      <td>0.2959</td>\n",
       "    </tr>\n",
       "    <tr>\n",
       "      <th>&lt;Action.STAND: 2&gt;</th>\n",
       "      <td>5807</td>\n",
       "      <td>0</td>\n",
       "      <td>0</td>\n",
       "      <td>0</td>\n",
       "      <td>4193</td>\n",
       "      <td>0</td>\n",
       "      <td>-0.1614</td>\n",
       "    </tr>\n",
       "    <tr>\n",
       "      <th>&lt;Action.SURRENDER: 1&gt;</th>\n",
       "      <td>0</td>\n",
       "      <td>0</td>\n",
       "      <td>0</td>\n",
       "      <td>10000</td>\n",
       "      <td>0</td>\n",
       "      <td>0</td>\n",
       "      <td>-0.5000</td>\n",
       "    </tr>\n",
       "    <tr>\n",
       "      <th>simple</th>\n",
       "      <td>3295</td>\n",
       "      <td>0</td>\n",
       "      <td>658</td>\n",
       "      <td>0</td>\n",
       "      <td>6047</td>\n",
       "      <td>0</td>\n",
       "      <td>0.2752</td>\n",
       "    </tr>\n",
       "  </tbody>\n",
       "</table>\n",
       "</div>"
      ],
      "text/plain": [
       "                        len                                              \\\n",
       "outcome_name           LOSE LOSE_DOUBLE PUSH SURRENDER   WIN WIN_DOUBLE   \n",
       "strategy                                                                  \n",
       "<Action.DOUBLE: 4>        0        3237  709         0     0       6054   \n",
       "<Action.HIT: 3>        3179           0  683         0  6138          0   \n",
       "<Action.STAND: 2>      5807           0    0         0  4193          0   \n",
       "<Action.SURRENDER: 1>     0           0    0     10000     0          0   \n",
       "simple                 3295           0  658         0  6047          0   \n",
       "\n",
       "                      mean_outcome  \n",
       "outcome_name                        \n",
       "strategy                            \n",
       "<Action.DOUBLE: 4>          0.5634  \n",
       "<Action.HIT: 3>             0.2959  \n",
       "<Action.STAND: 2>          -0.1614  \n",
       "<Action.SURRENDER: 1>      -0.5000  \n",
       "simple                      0.2752  "
      ]
     },
     "execution_count": 33,
     "metadata": {},
     "output_type": "execute_result"
    }
   ],
   "source": [
    "# 10 v 6\n",
    "def cond_10_6(score_p, score_d):\n",
    "    return score_p.points == 10 and score_d.points == 6\n",
    "\n",
    "strats = sim.gen_cond_strategies(strat_simple, cond_10_6, Action)\n",
    "sims = sim.run_n_sim_trials_from_state(strats+[strat_simple], make_hand([5, 5]), make_hand([6]), 10000)\n",
    "sim.summarize_totals(sims)"
   ]
  },
  {
   "cell_type": "code",
   "execution_count": 34,
   "id": "serious-briefs",
   "metadata": {
    "ExecuteTime": {
     "end_time": "2021-08-03T23:52:24.201682Z",
     "start_time": "2021-08-03T23:52:23.640903Z"
    }
   },
   "outputs": [
    {
     "data": {
      "text/plain": [
       "(<function simulator.test_cond.<locals>.cond(p, d)>,\n",
       "                         len                                              \\\n",
       " outcome_name           LOSE LOSE_DOUBLE PUSH SURRENDER   WIN WIN_DOUBLE   \n",
       " strategy                                                                  \n",
       " <Action.DOUBLE: 4>        0        3193  671         0     0       6136   \n",
       " <Action.HIT: 3>        3177           0  670         0  6153          0   \n",
       " <Action.STAND: 2>      5728           0    0         0  4272          0   \n",
       " <Action.SURRENDER: 1>     0           0    0     10000     0          0   \n",
       " \n",
       "                       mean_outcome  \n",
       " outcome_name                        \n",
       " strategy                            \n",
       " <Action.DOUBLE: 4>          0.5886  \n",
       " <Action.HIT: 3>             0.2976  \n",
       " <Action.STAND: 2>          -0.1456  \n",
       " <Action.SURRENDER: 1>      -0.5000  )"
      ]
     },
     "execution_count": 34,
     "metadata": {},
     "output_type": "execute_result"
    }
   ],
   "source": [
    "sim.test_cond(HandScore(10), HandScore(6), 10000, strat_simple)"
   ]
  },
  {
   "cell_type": "code",
   "execution_count": 35,
   "id": "square-binary",
   "metadata": {
    "ExecuteTime": {
     "end_time": "2021-08-03T23:52:24.225027Z",
     "start_time": "2021-08-03T23:52:24.202597Z"
    }
   },
   "outputs": [
    {
     "data": {
      "text/plain": [
       "(<function simulator.test_cond.<locals>.cond(p, d)>,\n",
       "                        len                                             \\\n",
       " outcome_name          LOSE LOSE_DOUBLE PUSH SURRENDER  WIN WIN_DOUBLE   \n",
       " strategy                                                                \n",
       " <Action.DOUBLE: 4>       0         145    6         0    0         49   \n",
       " <Action.HIT: 3>        150           0    7         0   43          0   \n",
       " <Action.STAND: 2>       58           0   15         0  127          0   \n",
       " <Action.SURRENDER: 1>    0           0    0       200    0          0   \n",
       " \n",
       "                       mean_outcome  \n",
       " outcome_name                        \n",
       " strategy                            \n",
       " <Action.DOUBLE: 4>          -0.960  \n",
       " <Action.HIT: 3>             -0.535  \n",
       " <Action.STAND: 2>            0.345  \n",
       " <Action.SURRENDER: 1>       -0.500  )"
      ]
     },
     "execution_count": 35,
     "metadata": {},
     "output_type": "execute_result"
    }
   ],
   "source": [
    "sim.test_cond(HandScore(18), HandScore(6), 200, strat_simple)"
   ]
  },
  {
   "cell_type": "code",
   "execution_count": 36,
   "id": "recent-harvey",
   "metadata": {
    "ExecuteTime": {
     "end_time": "2021-08-03T23:52:24.249428Z",
     "start_time": "2021-08-03T23:52:24.227078Z"
    }
   },
   "outputs": [
    {
     "data": {
      "text/plain": [
       "(<function simulator.test_cond.<locals>.cond(p, d)>,\n",
       "                        len                                             \\\n",
       " outcome_name          LOSE LOSE_DOUBLE PUSH SURRENDER  WIN WIN_DOUBLE   \n",
       " strategy                                                                \n",
       " <Action.DOUBLE: 4>       0          65   12         0    0        123   \n",
       " <Action.HIT: 3>         69           0   16         0  115          0   \n",
       " <Action.STAND: 2>        0           0   20         0  180          0   \n",
       " <Action.SURRENDER: 1>    0           0    0       200    0          0   \n",
       " \n",
       "                       mean_outcome  \n",
       " outcome_name                        \n",
       " strategy                            \n",
       " <Action.DOUBLE: 4>            0.58  \n",
       " <Action.HIT: 3>               0.23  \n",
       " <Action.STAND: 2>             0.90  \n",
       " <Action.SURRENDER: 1>        -0.50  )"
      ]
     },
     "execution_count": 36,
     "metadata": {},
     "output_type": "execute_result"
    }
   ],
   "source": [
    "sim.test_cond(HandScore(21, True), HandScore(6), 200, strat_simple)"
   ]
  },
  {
   "cell_type": "code",
   "execution_count": 37,
   "id": "manual-anime",
   "metadata": {
    "ExecuteTime": {
     "end_time": "2021-08-03T23:52:24.282101Z",
     "start_time": "2021-08-03T23:52:24.250502Z"
    }
   },
   "outputs": [
    {
     "data": {
      "text/plain": [
       "{'<Action.DOUBLE: 4>': 0.62,\n",
       " '<Action.HIT: 3>': 0.31,\n",
       " '<Action.STAND: 2>': -0.24,\n",
       " '<Action.SURRENDER: 1>': -0.5,\n",
       " 'score_p': 'h10',\n",
       " 'score_d': 'h06',\n",
       " 'winning_act': <Action.DOUBLE: 4>,\n",
       " 'winning_act_outcome': 0.62}"
      ]
     },
     "execution_count": 37,
     "metadata": {},
     "output_type": "execute_result"
    }
   ],
   "source": [
    "\n",
    "sim.find_winning_action(HandScore(10), HandScore(6), 200)"
   ]
  },
  {
   "cell_type": "code",
   "execution_count": 38,
   "id": "supported-herald",
   "metadata": {
    "ExecuteTime": {
     "end_time": "2021-08-03T23:52:24.338123Z",
     "start_time": "2021-08-03T23:52:24.283014Z"
    }
   },
   "outputs": [
    {
     "data": {
      "text/plain": [
       "(<function simulator.test_cond.<locals>.cond(p, d)>,\n",
       "                        len                                             \\\n",
       " outcome_name          LOSE LOSE_DOUBLE PUSH SURRENDER  WIN WIN_DOUBLE   \n",
       " strategy                                                                \n",
       " <Action.DOUBLE: 4>       0         867   24         0    0        109   \n",
       " <Action.HIT: 3>        866           0   30         0  104          0   \n",
       " <Action.STAND: 2>      608           0  119         0  273          0   \n",
       " <Action.SURRENDER: 1>  303           0    0       697    0          0   \n",
       " \n",
       "                       mean_outcome  \n",
       " outcome_name                        \n",
       " strategy                            \n",
       " <Action.DOUBLE: 4>         -1.5160  \n",
       " <Action.HIT: 3>            -0.7620  \n",
       " <Action.STAND: 2>          -0.3350  \n",
       " <Action.SURRENDER: 1>      -0.6515  )"
      ]
     },
     "execution_count": 38,
     "metadata": {},
     "output_type": "execute_result"
    }
   ],
   "source": [
    "sim.test_cond(HandScore(18), HandScore(11, True), 1000)"
   ]
  },
  {
   "cell_type": "code",
   "execution_count": 39,
   "id": "behind-seattle",
   "metadata": {
    "ExecuteTime": {
     "end_time": "2021-08-03T23:52:28.381247Z",
     "start_time": "2021-08-03T23:52:24.338986Z"
    }
   },
   "outputs": [
    {
     "name": "stdout",
     "output_type": "stream",
     "text": [
      " "
     ]
    },
    {
     "data": {
      "text/html": [
       "<div>\n",
       "<style scoped>\n",
       "    .dataframe tbody tr th:only-of-type {\n",
       "        vertical-align: middle;\n",
       "    }\n",
       "\n",
       "    .dataframe tbody tr th {\n",
       "        vertical-align: top;\n",
       "    }\n",
       "\n",
       "    .dataframe thead th {\n",
       "        text-align: right;\n",
       "    }\n",
       "</style>\n",
       "<table border=\"1\" class=\"dataframe\">\n",
       "  <thead>\n",
       "    <tr style=\"text-align: right;\">\n",
       "      <th></th>\n",
       "      <th></th>\n",
       "      <th>&lt;Action.DOUBLE: 4&gt;</th>\n",
       "      <th>&lt;Action.HIT: 3&gt;</th>\n",
       "      <th>&lt;Action.STAND: 2&gt;</th>\n",
       "      <th>&lt;Action.SURRENDER: 1&gt;</th>\n",
       "      <th>winning_act</th>\n",
       "      <th>winning_act_outcome</th>\n",
       "    </tr>\n",
       "    <tr>\n",
       "      <th>score_p</th>\n",
       "      <th>score_d</th>\n",
       "      <th></th>\n",
       "      <th></th>\n",
       "      <th></th>\n",
       "      <th></th>\n",
       "      <th></th>\n",
       "      <th></th>\n",
       "    </tr>\n",
       "  </thead>\n",
       "  <tbody>\n",
       "    <tr>\n",
       "      <th rowspan=\"5\" valign=\"top\">h09</th>\n",
       "      <th>s11</th>\n",
       "      <td>-0.6</td>\n",
       "      <td>-0.325</td>\n",
       "      <td>-0.9</td>\n",
       "      <td>-0.625</td>\n",
       "      <td>Action.HIT</td>\n",
       "      <td>-0.325</td>\n",
       "    </tr>\n",
       "    <tr>\n",
       "      <th>h02</th>\n",
       "      <td>-0.1</td>\n",
       "      <td>0.150</td>\n",
       "      <td>-0.5</td>\n",
       "      <td>-0.500</td>\n",
       "      <td>Action.HIT</td>\n",
       "      <td>0.150</td>\n",
       "    </tr>\n",
       "    <tr>\n",
       "      <th>h03</th>\n",
       "      <td>-0.3</td>\n",
       "      <td>-0.025</td>\n",
       "      <td>-0.5</td>\n",
       "      <td>-0.500</td>\n",
       "      <td>Action.HIT</td>\n",
       "      <td>-0.025</td>\n",
       "    </tr>\n",
       "    <tr>\n",
       "      <th>h04</th>\n",
       "      <td>0.6</td>\n",
       "      <td>0.225</td>\n",
       "      <td>0.0</td>\n",
       "      <td>-0.500</td>\n",
       "      <td>Action.DOUBLE</td>\n",
       "      <td>0.600</td>\n",
       "    </tr>\n",
       "    <tr>\n",
       "      <th>h05</th>\n",
       "      <td>-0.3</td>\n",
       "      <td>-0.250</td>\n",
       "      <td>-0.6</td>\n",
       "      <td>-0.500</td>\n",
       "      <td>Action.HIT</td>\n",
       "      <td>-0.250</td>\n",
       "    </tr>\n",
       "    <tr>\n",
       "      <th>...</th>\n",
       "      <th>...</th>\n",
       "      <td>...</td>\n",
       "      <td>...</td>\n",
       "      <td>...</td>\n",
       "      <td>...</td>\n",
       "      <td>...</td>\n",
       "      <td>...</td>\n",
       "    </tr>\n",
       "    <tr>\n",
       "      <th rowspan=\"5\" valign=\"top\">s21</th>\n",
       "      <th>h06</th>\n",
       "      <td>0.5</td>\n",
       "      <td>0.100</td>\n",
       "      <td>0.9</td>\n",
       "      <td>-0.500</td>\n",
       "      <td>Action.STAND</td>\n",
       "      <td>0.900</td>\n",
       "    </tr>\n",
       "    <tr>\n",
       "      <th>h07</th>\n",
       "      <td>0.6</td>\n",
       "      <td>0.075</td>\n",
       "      <td>0.9</td>\n",
       "      <td>-0.500</td>\n",
       "      <td>Action.STAND</td>\n",
       "      <td>0.900</td>\n",
       "    </tr>\n",
       "    <tr>\n",
       "      <th>h08</th>\n",
       "      <td>0.2</td>\n",
       "      <td>0.100</td>\n",
       "      <td>1.0</td>\n",
       "      <td>-0.500</td>\n",
       "      <td>Action.STAND</td>\n",
       "      <td>1.000</td>\n",
       "    </tr>\n",
       "    <tr>\n",
       "      <th>h09</th>\n",
       "      <td>0.0</td>\n",
       "      <td>-0.100</td>\n",
       "      <td>0.8</td>\n",
       "      <td>-0.500</td>\n",
       "      <td>Action.STAND</td>\n",
       "      <td>0.800</td>\n",
       "    </tr>\n",
       "    <tr>\n",
       "      <th>h10</th>\n",
       "      <td>0.5</td>\n",
       "      <td>0.250</td>\n",
       "      <td>1.0</td>\n",
       "      <td>-0.500</td>\n",
       "      <td>Action.STAND</td>\n",
       "      <td>1.000</td>\n",
       "    </tr>\n",
       "  </tbody>\n",
       "</table>\n",
       "<p>250 rows × 6 columns</p>\n",
       "</div>"
      ],
      "text/plain": [
       "                 <Action.DOUBLE: 4>  <Action.HIT: 3>  <Action.STAND: 2>  \\\n",
       "score_p score_d                                                           \n",
       "h09     s11                    -0.6           -0.325               -0.9   \n",
       "        h02                    -0.1            0.150               -0.5   \n",
       "        h03                    -0.3           -0.025               -0.5   \n",
       "        h04                     0.6            0.225                0.0   \n",
       "        h05                    -0.3           -0.250               -0.6   \n",
       "...                             ...              ...                ...   \n",
       "s21     h06                     0.5            0.100                0.9   \n",
       "        h07                     0.6            0.075                0.9   \n",
       "        h08                     0.2            0.100                1.0   \n",
       "        h09                     0.0           -0.100                0.8   \n",
       "        h10                     0.5            0.250                1.0   \n",
       "\n",
       "                 <Action.SURRENDER: 1>    winning_act  winning_act_outcome  \n",
       "score_p score_d                                                             \n",
       "h09     s11                     -0.625     Action.HIT               -0.325  \n",
       "        h02                     -0.500     Action.HIT                0.150  \n",
       "        h03                     -0.500     Action.HIT               -0.025  \n",
       "        h04                     -0.500  Action.DOUBLE                0.600  \n",
       "        h05                     -0.500     Action.HIT               -0.250  \n",
       "...                                ...            ...                  ...  \n",
       "s21     h06                     -0.500   Action.STAND                0.900  \n",
       "        h07                     -0.500   Action.STAND                0.900  \n",
       "        h08                     -0.500   Action.STAND                1.000  \n",
       "        h09                     -0.500   Action.STAND                0.800  \n",
       "        h10                     -0.500   Action.STAND                1.000  \n",
       "\n",
       "[250 rows x 6 columns]"
      ]
     },
     "execution_count": 39,
     "metadata": {},
     "output_type": "execute_result"
    }
   ],
   "source": [
    "%prun -s cumulative conds = sim.compute_instructions(20)\n",
    "pd.DataFrame(conds).set_index(['score_p', 'score_d'])"
   ]
  },
  {
   "cell_type": "code",
   "execution_count": 40,
   "id": "challenging-producer",
   "metadata": {
    "ExecuteTime": {
     "end_time": "2021-08-03T23:52:34.068893Z",
     "start_time": "2021-08-03T23:52:28.383725Z"
    }
   },
   "outputs": [
    {
     "name": "stdout",
     "output_type": "stream",
     "text": [
      " "
     ]
    }
   ],
   "source": [
    "\n",
    "%prun -s cumulative sim.compute_instructions(100, strat_simple)"
   ]
  },
  {
   "cell_type": "code",
   "execution_count": 41,
   "id": "foster-december",
   "metadata": {
    "ExecuteTime": {
     "end_time": "2021-08-03T23:52:37.717572Z",
     "start_time": "2021-08-03T23:52:34.070420Z"
    },
    "scrolled": true
   },
   "outputs": [
    {
     "name": "stdout",
     "output_type": "stream",
     "text": [
      " "
     ]
    },
    {
     "data": {
      "image/png": "[encoded data removed]",
      "text/plain": [
       "<Figure size 432x288 with 4 Axes>"
      ]
     },
     "metadata": {
      "needs_background": "light"
     },
     "output_type": "display_data"
    }
   ],
   "source": [
    "\n",
    "\n",
    "%prun -s cumulative opt.run_iteration(1, strat_simple, None)"
   ]
  },
  {
   "cell_type": "code",
   "execution_count": 42,
   "id": "typical-murder",
   "metadata": {
    "ExecuteTime": {
     "end_time": "2021-08-03T23:52:37.778033Z",
     "start_time": "2021-08-03T23:52:37.719430Z"
    }
   },
   "outputs": [
    {
     "data": {
      "text/plain": [
       "(   strategy hand_start  dealer_card       hand_end   dealer_hand  \\\n",
       " 0    simple     [2, 6]            2   [2, 6, 7, 2]   [2, 10, 11]   \n",
       " 1  memoized     [2, 6]            2  [2, 6, 5, 13]   [2, 10, 11]   \n",
       " 2    simple     [6, 8]           10      [6, 8, 4]       [10, 1]   \n",
       " 3  memoized     [6, 8]           10      [6, 8, 3]       [10, 1]   \n",
       " 4    simple     [9, 2]            3     [9, 2, 10]   [3, 13, 12]   \n",
       " 5  memoized     [9, 2]            3      [9, 2, 3]   [3, 13, 12]   \n",
       " 6    simple    [3, 10]            1     [3, 10, 6]  [1, 5, 4, 1]   \n",
       " 7  memoized    [3, 10]            1  [3, 10, 1, 3]  [1, 5, 4, 1]   \n",
       " 8    simple    [10, 6]            7     [10, 6, 7]       [7, 10]   \n",
       " 9  memoized    [10, 6]            7     [10, 6, 1]       [7, 10]   \n",
       " \n",
       "                   outcome  outcome_value outcome_name  \n",
       " 0         HandOutcome.WIN            1.0          WIN  \n",
       " 1        HandOutcome.LOSE           -1.0         LOSE  \n",
       " 2        HandOutcome.LOSE           -1.0         LOSE  \n",
       " 3        HandOutcome.LOSE           -1.0         LOSE  \n",
       " 4  HandOutcome.WIN_DOUBLE            2.0   WIN_DOUBLE  \n",
       " 5  HandOutcome.WIN_DOUBLE            2.0   WIN_DOUBLE  \n",
       " 6        HandOutcome.LOSE           -1.0         LOSE  \n",
       " 7        HandOutcome.LOSE           -1.0         LOSE  \n",
       " 8        HandOutcome.LOSE           -1.0         LOSE  \n",
       " 9        HandOutcome.PUSH            0.0         PUSH  ,\n",
       "                    len                                       mean_outcome\n",
       " outcome_name BLACKJACK LOSE LOSE_DOUBLE PUSH  WIN WIN_DOUBLE             \n",
       " strategy                                                                 \n",
       " memoized            52  457          15   86  370         20        0.001\n",
       " simple              52  450          10   85  375         28        0.039)"
      ]
     },
     "execution_count": 42,
     "metadata": {},
     "output_type": "execute_result"
    }
   ],
   "source": [
    "# Memoized strategy\n",
    "# Rather than generic conditions, just use an array indexed on player and dealer scores\n",
    "# Since that's how we're generating our strategy anyway (one square at a time)\n",
    "\n",
    "instructions = {(repr(HandScore(13, True)), repr(HandScore(6))): Action.HIT}\n",
    "strat_memoized = opt.gen_strat_memoized(instructions, strat_simple)\n",
    "\n",
    "sims = sim.run_n_sim_trials([strat_simple, strat_memoized], 1000)\n",
    "sims.head(10), sim.summarize_totals(sims)"
   ]
  },
  {
   "cell_type": "code",
   "execution_count": 43,
   "id": "imposed-cinema",
   "metadata": {
    "ExecuteTime": {
     "end_time": "2021-08-04T00:05:27.013981Z",
     "start_time": "2021-08-03T23:52:37.779120Z"
    }
   },
   "outputs": [
    {
     "name": "stdout",
     "output_type": "stream",
     "text": [
      "Starting iteration 0\n",
      "Starting iteration 1\n",
      "('h09', 'h02') Action.DOUBLE Action.HIT\n",
      "('h09', 'h04') Action.HIT Action.DOUBLE\n",
      "('h09', 'h07') Action.HIT Action.DOUBLE\n",
      "('h10', 'h10') Action.HIT Action.DOUBLE\n",
      "('h11', 'h08') Action.DOUBLE Action.HIT\n",
      "('h11', 'h10') Action.HIT Action.DOUBLE\n",
      "('h12', 'h05') Action.HIT Action.STAND\n",
      "('h12', 'h06') Action.HIT Action.STAND\n",
      "('h13', 's11') Action.SURRENDER Action.HIT\n",
      "('h13', 'h03') Action.STAND Action.HIT\n",
      "('h13', 'h05') Action.STAND Action.DOUBLE\n",
      "('h13', 'h06') Action.HIT Action.STAND\n",
      "('h14', 's11') Action.HIT Action.STAND\n",
      "('h14', 'h03') Action.STAND Action.HIT\n",
      "('h14', 'h10') Action.HIT Action.SURRENDER\n",
      "('h15', 's11') Action.SURRENDER Action.HIT\n",
      "('h15', 'h04') Action.STAND Action.HIT\n",
      "('h15', 'h07') Action.HIT Action.STAND\n",
      "('h15', 'h08') Action.HIT Action.STAND\n",
      "('h16', 'h02') Action.STAND Action.HIT\n",
      "('h16', 'h08') Action.HIT Action.SURRENDER\n",
      "('h16', 'h10') Action.HIT Action.STAND\n",
      "('s11', 'h07') Action.HIT Action.DOUBLE\n",
      "('s11', 'h08') Action.HIT Action.DOUBLE\n",
      "('s11', 'h09') Action.DOUBLE Action.HIT\n",
      "('s12', 'h10') Action.HIT Action.SURRENDER\n",
      "('s14', 'h07') Action.HIT Action.STAND\n",
      "('s16', 'h06') Action.DOUBLE Action.HIT\n",
      "('s17', 'h03') Action.HIT Action.STAND\n",
      "('s17', 'h06') Action.STAND Action.DOUBLE\n",
      "('s17', 'h07') Action.HIT Action.STAND\n",
      "('s18', 's11') Action.STAND Action.HIT\n",
      "('s18', 'h03') Action.STAND Action.HIT\n",
      "('s18', 'h05') Action.HIT Action.STAND\n",
      "('s18', 'h09') Action.STAND Action.HIT\n",
      "('s19', 'h02') Action.STAND Action.DOUBLE\n",
      "('s19', 'h03') Action.STAND Action.DOUBLE\n",
      "('s19', 'h09') Action.STAND Action.HIT\n",
      "Starting iteration 2\n",
      "('h09', 'h02') Action.HIT Action.DOUBLE\n",
      "('h09', 'h03') Action.HIT Action.DOUBLE\n",
      "('h09', 'h04') Action.DOUBLE Action.HIT\n",
      "('h09', 'h08') Action.DOUBLE Action.HIT\n",
      "('h10', 'h10') Action.DOUBLE Action.HIT\n",
      "('h12', 'h03') Action.STAND Action.HIT\n",
      "('h12', 'h05') Action.STAND Action.HIT\n",
      "('h13', 's11') Action.HIT Action.SURRENDER\n",
      "('h13', 'h02') Action.HIT Action.STAND\n",
      "('h13', 'h03') Action.HIT Action.STAND\n",
      "('h13', 'h06') Action.STAND Action.HIT\n",
      "('h13', 'h08') Action.HIT Action.DOUBLE\n",
      "('h14', 'h10') Action.STAND Action.HIT\n",
      "('h15', 'h09') Action.SURRENDER Action.HIT\n",
      "('h16', 'h09') Action.HIT Action.SURRENDER\n",
      "('h16', 'h10') Action.SURRENDER Action.HIT\n",
      "('s11', 'h07') Action.DOUBLE Action.HIT\n",
      "('s11', 'h08') Action.DOUBLE Action.HIT\n",
      "('s11', 'h10') Action.HIT Action.DOUBLE\n",
      "('s16', 'h06') Action.HIT Action.DOUBLE\n",
      "('s17', 'h06') Action.HIT Action.STAND\n",
      "('s18', 'h05') Action.STAND Action.HIT\n",
      "('s18', 'h09') Action.HIT Action.STAND\n",
      "Starting iteration 3\n",
      "('h09', 'h02') Action.DOUBLE Action.HIT\n",
      "('h09', 'h04') Action.HIT Action.DOUBLE\n",
      "('h09', 'h08') Action.HIT Action.DOUBLE\n",
      "('h10', 'h09') Action.HIT Action.DOUBLE\n",
      "('h10', 'h10') Action.HIT Action.DOUBLE\n",
      "('h11', 'h09') Action.HIT Action.DOUBLE\n",
      "('h12', 'h03') Action.HIT Action.STAND\n",
      "('h12', 'h04') Action.STAND Action.HIT\n",
      "('h13', 'h03') Action.STAND Action.HIT\n",
      "('h13', 'h10') Action.SURRENDER Action.HIT\n",
      "('h14', 'h10') Action.HIT Action.STAND\n",
      "('h15', 'h10') Action.SURRENDER Action.HIT\n",
      "('h16', 's11') Action.STAND Action.SURRENDER\n",
      "('h16', 'h09') Action.SURRENDER Action.HIT\n",
      "('s11', 'h07') Action.HIT Action.DOUBLE\n",
      "('s11', 'h08') Action.HIT Action.DOUBLE\n",
      "('s17', 'h02') Action.STAND Action.HIT\n",
      "('s17', 'h04') Action.STAND Action.HIT\n",
      "('s17', 'h06') Action.STAND Action.HIT\n",
      "('s18', 'h09') Action.STAND Action.HIT\n",
      "('s18', 'h10') Action.HIT Action.STAND\n",
      "Starting iteration 4\n",
      "('h09', 'h03') Action.DOUBLE Action.HIT\n",
      "('h09', 'h04') Action.DOUBLE Action.HIT\n",
      "('h09', 'h07') Action.DOUBLE Action.HIT\n",
      "('h10', 'h08') Action.HIT Action.DOUBLE\n",
      "('h10', 'h09') Action.DOUBLE Action.HIT\n",
      "('h11', 'h09') Action.DOUBLE Action.HIT\n",
      "('h12', 'h03') Action.STAND Action.HIT\n",
      "('h12', 'h04') Action.HIT Action.STAND\n",
      "('h13', 'h10') Action.HIT Action.SURRENDER\n",
      "('h15', 's11') Action.HIT Action.SURRENDER\n",
      "('h15', 'h09') Action.HIT Action.SURRENDER\n",
      "('h16', 's11') Action.SURRENDER Action.STAND\n",
      "('h16', 'h09') Action.HIT Action.SURRENDER\n",
      "('s17', 'h02') Action.HIT Action.STAND\n",
      "('s17', 'h04') Action.HIT Action.STAND\n",
      "('s18', 'h09') Action.HIT Action.STAND\n",
      "('s18', 'h10') Action.STAND Action.HIT\n",
      "Starting iteration 5\n",
      "('h09', 'h03') Action.HIT Action.DOUBLE\n",
      "('h09', 'h04') Action.HIT Action.DOUBLE\n",
      "('h09', 'h07') Action.HIT Action.DOUBLE\n",
      "('h10', 'h08') Action.DOUBLE Action.HIT\n",
      "('h10', 'h09') Action.HIT Action.DOUBLE\n",
      "('h11', 'h10') Action.DOUBLE Action.HIT\n",
      "('h12', 'h02') Action.STAND Action.HIT\n",
      "('h12', 'h03') Action.HIT Action.STAND\n",
      "('h12', 'h04') Action.STAND Action.HIT\n",
      "('h13', 'h02') Action.STAND Action.HIT\n",
      "('h16', 's11') Action.HIT Action.SURRENDER\n",
      "('h16', 'h08') Action.STAND Action.HIT\n",
      "('h16', 'h09') Action.SURRENDER Action.HIT\n",
      "('s11', 'h07') Action.DOUBLE Action.HIT\n",
      "('s11', 'h08') Action.DOUBLE Action.HIT\n",
      "('s11', 'h09') Action.HIT Action.DOUBLE\n",
      "('s11', 'h10') Action.DOUBLE Action.HIT\n",
      "('s17', 'h06') Action.HIT Action.STAND\n",
      "Starting iteration 6\n",
      "('h09', 'h02') Action.HIT Action.DOUBLE\n",
      "('h09', 'h03') Action.DOUBLE Action.HIT\n",
      "('h09', 'h04') Action.DOUBLE Action.HIT\n",
      "('h10', 'h09') Action.DOUBLE Action.HIT\n",
      "('h11', 'h10') Action.HIT Action.DOUBLE\n",
      "('h12', 'h02') Action.HIT Action.STAND\n",
      "('h12', 'h06') Action.STAND Action.HIT\n",
      "('h16', 'h08') Action.HIT Action.STAND\n",
      "('s11', 'h09') Action.DOUBLE Action.HIT\n",
      "('s11', 'h10') Action.HIT Action.DOUBLE\n",
      "Starting iteration 7\n",
      "('h15', 'h10') Action.HIT Action.SURRENDER\n",
      "('h16', 's11') Action.SURRENDER Action.HIT\n",
      "('s11', 'h09') Action.HIT Action.DOUBLE\n",
      "Starting iteration 8\n",
      "('h09', 'h03') Action.HIT Action.DOUBLE\n",
      "('h15', 'h10') Action.SURRENDER Action.HIT\n",
      "('h16', 's11') Action.HIT Action.SURRENDER\n",
      "('s11', 'h09') Action.DOUBLE Action.HIT\n",
      "('s18', 'h09') Action.STAND Action.HIT\n",
      "Starting iteration 9\n",
      "('h09', 'h03') Action.DOUBLE Action.HIT\n",
      "('h15', 'h10') Action.HIT Action.SURRENDER\n",
      "('s11', 'h09') Action.HIT Action.DOUBLE\n",
      "('s18', 'h09') Action.HIT Action.STAND\n"
     ]
    },
    {
     "data": {
      "text/plain": [
       "[<blackjack.Strategy_wrapper at 0x7f9a81124880>,\n",
       " <optimizer.Strat_memoized at 0x7f9a93b7bdc0>,\n",
       " <optimizer.Strat_memoized at 0x7f9a934631c0>,\n",
       " <optimizer.Strat_memoized at 0x7f9a80a1bca0>,\n",
       " <optimizer.Strat_memoized at 0x7f9a80a137f0>,\n",
       " <optimizer.Strat_memoized at 0x7f9a9361cc10>,\n",
       " <optimizer.Strat_memoized at 0x7f9a93459e20>,\n",
       " <optimizer.Strat_memoized at 0x7f9a80ed02e0>,\n",
       " <optimizer.Strat_memoized at 0x7f9a80bd3ac0>,\n",
       " <optimizer.Strat_memoized at 0x7f9a93a42160>,\n",
       " <optimizer.Strat_memoized at 0x7f9a8135d820>]"
      ]
     },
     "execution_count": 43,
     "metadata": {},
     "output_type": "execute_result"
    },
    {
     "data": {
      "image/png": "[encoded data removed]",
      "text/plain": [
       "<Figure size 432x288 with 4 Axes>"
      ]
     },
     "metadata": {
      "needs_background": "light"
     },
     "output_type": "display_data"
    },
    {
     "data": {
      "image/png": "[encoded data removed]",
      "text/plain": [
       "<Figure size 432x288 with 4 Axes>"
      ]
     },
     "metadata": {
      "needs_background": "light"
     },
     "output_type": "display_data"
    },
    {
     "data": {
      "image/png": "[encoded data removed]",
      "text/plain": [
       "<Figure size 432x288 with 4 Axes>"
      ]
     },
     "metadata": {
      "needs_background": "light"
     },
     "output_type": "display_data"
    },
    {
     "data": {
      "image/png": "[encoded data removed]",
      "text/plain": [
       "<Figure size 432x288 with 4 Axes>"
      ]
     },
     "metadata": {
      "needs_background": "light"
     },
     "output_type": "display_data"
    },
    {
     "data": {
      "image/png": "[encoded data removed]",
      "text/plain": [
       "<Figure size 432x288 with 4 Axes>"
      ]
     },
     "metadata": {
      "needs_background": "light"
     },
     "output_type": "display_data"
    },
    {
     "data": {
      "image/png": "[encoded data removed]",
      "text/plain": [
       "<Figure size 432x288 with 4 Axes>"
      ]
     },
     "metadata": {
      "needs_background": "light"
     },
     "output_type": "display_data"
    },
    {
     "data": {
      "image/png": "[encoded data removed]",
      "text/plain": [
       "<Figure size 432x288 with 4 Axes>"
      ]
     },
     "metadata": {
      "needs_background": "light"
     },
     "output_type": "display_data"
    },
    {
     "data": {
      "image/png": "[encoded data removed]",
      "text/plain": [
       "<Figure size 432x288 with 4 Axes>"
      ]
     },
     "metadata": {
      "needs_background": "light"
     },
     "output_type": "display_data"
    },
    {
     "data": {
      "image/png": "[encoded data removed]",
      "text/plain": [
       "<Figure size 432x288 with 4 Axes>"
      ]
     },
     "metadata": {
      "needs_background": "light"
     },
     "output_type": "display_data"
    },
    {
     "data": {
      "image/png": "[encoded data removed]",
      "text/plain": [
       "<Figure size 432x288 with 4 Axes>"
      ]
     },
     "metadata": {
      "needs_background": "light"
     },
     "output_type": "display_data"
    }
   ],
   "source": [
    "\n",
    "\n",
    "strategies = opt.derive_iterative_strategies(strat_simple, 10)\n",
    "strategies"
   ]
  },
  {
   "cell_type": "code",
   "execution_count": 44,
   "id": "continent-little",
   "metadata": {
    "ExecuteTime": {
     "end_time": "2021-08-04T00:05:27.018979Z",
     "start_time": "2021-08-04T00:05:27.014887Z"
    }
   },
   "outputs": [],
   "source": [
    "with open('strategies.pickle', 'wb') as handle:\n",
    "    pickle.dump(strategies, handle, protocol=pickle.HIGHEST_PROTOCOL)"
   ]
  },
  {
   "cell_type": "code",
   "execution_count": 45,
   "id": "lucky-account",
   "metadata": {
    "ExecuteTime": {
     "end_time": "2021-08-04T00:08:29.037133Z",
     "start_time": "2021-08-04T00:05:27.019745Z"
    }
   },
   "outputs": [
    {
     "data": {
      "text/plain": [
       "(  strategy hand_start  dealer_card        hand_end dealer_hand  \\\n",
       " 0   simple    [13, 2]            1   [13, 2, 4, 6]     [1, 13]   \n",
       " 1  iter(1)    [13, 2]            1      [13, 2, 9]     [1, 13]   \n",
       " 2  iter(2)    [13, 2]            1      [13, 2, 4]     [1, 13]   \n",
       " 3  iter(3)    [13, 2]            1      [13, 2, 3]     [1, 13]   \n",
       " 4  iter(4)    [13, 2]            1      [13, 2, 3]     [1, 13]   \n",
       " 5  iter(5)    [13, 2]            1      [13, 2, 6]     [1, 13]   \n",
       " 6  iter(6)    [13, 2]            1      [13, 2, 5]     [1, 13]   \n",
       " 7  iter(7)    [13, 2]            1   [13, 2, 4, 4]     [1, 13]   \n",
       " 8  iter(8)    [13, 2]            1      [13, 2, 5]     [1, 13]   \n",
       " 9  iter(9)    [13, 2]            1  [13, 2, 1, 10]     [1, 13]   \n",
       " \n",
       "             outcome  outcome_value outcome_name  \n",
       " 0  HandOutcome.LOSE           -1.0         LOSE  \n",
       " 1  HandOutcome.LOSE           -1.0         LOSE  \n",
       " 2  HandOutcome.LOSE           -1.0         LOSE  \n",
       " 3  HandOutcome.LOSE           -1.0         LOSE  \n",
       " 4  HandOutcome.LOSE           -1.0         LOSE  \n",
       " 5  HandOutcome.LOSE           -1.0         LOSE  \n",
       " 6  HandOutcome.LOSE           -1.0         LOSE  \n",
       " 7  HandOutcome.LOSE           -1.0         LOSE  \n",
       " 8  HandOutcome.LOSE           -1.0         LOSE  \n",
       " 9  HandOutcome.LOSE           -1.0         LOSE  ,\n",
       "                    len                                               \\\n",
       " outcome_name BLACKJACK    LOSE LOSE_DOUBLE   PUSH SURRENDER     WIN   \n",
       " strategy                                                              \n",
       " iter(1)          45346  402090       45491  79444     59813  314308   \n",
       " iter(10)         45346  424010       23585  82744     47542  339547   \n",
       " iter(2)          45346  435228       28313  85045     28221  338519   \n",
       " iter(3)          45346  414472       29607  80383     57041  331386   \n",
       " iter(4)          45346  372348       19620  77894    127506  325038   \n",
       " iter(5)          45346  401194       24867  81377     78485  330790   \n",
       " iter(6)          45346  398434       27917  79684     79048  328623   \n",
       " iter(7)          45346  400446       23525  80027     81197  332207   \n",
       " iter(8)          45346  419125       23315  81945     54839  338086   \n",
       " iter(9)          45346  401852       22460  80077     81060  333464   \n",
       " simple           45346  467103       18936  86983         0  356416   \n",
       " \n",
       "                         mean_outcome  \n",
       " outcome_name WIN_DOUBLE               \n",
       " strategy                              \n",
       " iter(1)           53508    -0.033635  \n",
       " iter(10)          37226    -0.012933  \n",
       " iter(2)           39328    -0.020771  \n",
       " iter(3)           41765    -0.019272  \n",
       " iter(4)           32248    -0.017788  \n",
       " iter(5)           37941    -0.015480  \n",
       " iter(6)           40948    -0.015254  \n",
       " iter(7)           37252    -0.013364  \n",
       " iter(8)           37344    -0.012382  \n",
       " iter(9)           35741    -0.014337  \n",
       " simple            25216    -0.030108  )"
      ]
     },
     "execution_count": 45,
     "metadata": {},
     "output_type": "execute_result"
    }
   ],
   "source": [
    "sims = sim.run_n_sim_trials(strategies, 1000*1000)\n",
    "sims.head(10), sim.summarize_totals(sims)"
   ]
  },
  {
   "cell_type": "code",
   "execution_count": null,
   "id": "earned-latin",
   "metadata": {},
   "outputs": [],
   "source": []
  }
 ],
 "metadata": {
  "kernelspec": {
   "display_name": "Python 3",
   "language": "python",
   "name": "python3"
  },
  "language_info": {
   "codemirror_mode": {
    "name": "ipython",
    "version": 3
   },
   "file_extension": ".py",
   "mimetype": "text/x-python",
   "name": "python",
   "nbconvert_exporter": "python",
   "pygments_lexer": "ipython3",
   "version": "3.8.8"
  }
 },
 "nbformat": 4,
 "nbformat_minor": 5
}
