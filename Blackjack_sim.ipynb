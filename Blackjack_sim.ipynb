{
 "cells": [
  {
   "cell_type": "code",
   "execution_count": 1,
   "id": "middle-scenario",
   "metadata": {
    "ExecuteTime": {
     "end_time": "2021-07-25T02:22:00.321102Z",
     "start_time": "2021-07-25T02:21:59.489300Z"
    }
   },
   "outputs": [],
   "source": [
    "import pickle\n",
    "import pandas as pd\n",
    "import matplotlib.pyplot as plt\n",
    "import seaborn as sns\n",
    "\n",
    "\n",
    "import blackjack as bj\n",
    "from blackjack import Hand, HandScore, Action, make_hand\n",
    "import simulator as sim\n",
    "import optimizer as opt"
   ]
  },
  {
   "cell_type": "code",
   "execution_count": 2,
   "id": "floating-forge",
   "metadata": {
    "ExecuteTime": {
     "end_time": "2021-07-25T02:22:00.325004Z",
     "start_time": "2021-07-25T02:22:00.322200Z"
    }
   },
   "outputs": [
    {
     "data": {
      "text/plain": [
       "s11"
      ]
     },
     "execution_count": 2,
     "metadata": {},
     "output_type": "execute_result"
    }
   ],
   "source": [
    "h = HandScore(11, True)\n",
    "h"
   ]
  },
  {
   "cell_type": "code",
   "execution_count": 3,
   "id": "pointed-judge",
   "metadata": {
    "ExecuteTime": {
     "end_time": "2021-07-25T02:22:00.328147Z",
     "start_time": "2021-07-25T02:22:00.326203Z"
    }
   },
   "outputs": [
    {
     "data": {
      "text/plain": [
       "s21"
      ]
     },
     "execution_count": 3,
     "metadata": {},
     "output_type": "execute_result"
    }
   ],
   "source": [
    "h.add_card(10)"
   ]
  },
  {
   "cell_type": "code",
   "execution_count": 4,
   "id": "mounted-kernel",
   "metadata": {
    "ExecuteTime": {
     "end_time": "2021-07-25T02:22:00.331193Z",
     "start_time": "2021-07-25T02:22:00.329269Z"
    }
   },
   "outputs": [
    {
     "data": {
      "text/plain": [
       "h21"
      ]
     },
     "execution_count": 4,
     "metadata": {},
     "output_type": "execute_result"
    }
   ],
   "source": [
    "h.add_card(10).add_card(10)"
   ]
  },
  {
   "cell_type": "code",
   "execution_count": 5,
   "id": "static-printer",
   "metadata": {
    "ExecuteTime": {
     "end_time": "2021-07-25T02:22:00.333827Z",
     "start_time": "2021-07-25T02:22:00.331954Z"
    }
   },
   "outputs": [
    {
     "data": {
      "text/plain": [
       "s11"
      ]
     },
     "execution_count": 5,
     "metadata": {},
     "output_type": "execute_result"
    }
   ],
   "source": [
    "h"
   ]
  },
  {
   "cell_type": "code",
   "execution_count": 6,
   "id": "turkish-state",
   "metadata": {
    "ExecuteTime": {
     "end_time": "2021-07-25T02:22:00.336474Z",
     "start_time": "2021-07-25T02:22:00.334621Z"
    }
   },
   "outputs": [
    {
     "data": {
      "text/plain": [
       "s14"
      ]
     },
     "execution_count": 6,
     "metadata": {},
     "output_type": "execute_result"
    }
   ],
   "source": [
    "h.add_card(3)"
   ]
  },
  {
   "cell_type": "code",
   "execution_count": 7,
   "id": "cubic-object",
   "metadata": {
    "ExecuteTime": {
     "end_time": "2021-07-25T02:22:00.339105Z",
     "start_time": "2021-07-25T02:22:00.337261Z"
    }
   },
   "outputs": [
    {
     "data": {
      "text/plain": [
       "h14"
      ]
     },
     "execution_count": 7,
     "metadata": {},
     "output_type": "execute_result"
    }
   ],
   "source": [
    "h.add_card(3).add_card(10)"
   ]
  },
  {
   "cell_type": "code",
   "execution_count": 8,
   "id": "afraid-bristol",
   "metadata": {
    "ExecuteTime": {
     "end_time": "2021-07-25T02:22:00.343638Z",
     "start_time": "2021-07-25T02:22:00.341027Z"
    }
   },
   "outputs": [
    {
     "data": {
      "text/plain": [
       "[h00,\n",
       " h01,\n",
       " h02,\n",
       " h03,\n",
       " h04,\n",
       " h05,\n",
       " h06,\n",
       " h07,\n",
       " h08,\n",
       " h09,\n",
       " h10,\n",
       " h11,\n",
       " h12,\n",
       " h13,\n",
       " h14,\n",
       " h15,\n",
       " h16,\n",
       " h17,\n",
       " h18,\n",
       " h19,\n",
       " h20,\n",
       " h21,\n",
       " h22,\n",
       " s11,\n",
       " s12,\n",
       " s13,\n",
       " s14,\n",
       " s15,\n",
       " s16,\n",
       " s17,\n",
       " s18,\n",
       " s19,\n",
       " s20,\n",
       " s21]"
      ]
     },
     "execution_count": 8,
     "metadata": {},
     "output_type": "execute_result"
    }
   ],
   "source": [
    "all_scores = [HandScore(i, False) for i in range(0, 23)] + [HandScore(i, True) for i in range(11, 22)]\n",
    "all_scores"
   ]
  },
  {
   "cell_type": "code",
   "execution_count": 9,
   "id": "initial-harrison",
   "metadata": {
    "ExecuteTime": {
     "end_time": "2021-07-25T02:22:00.347027Z",
     "start_time": "2021-07-25T02:22:00.345121Z"
    }
   },
   "outputs": [
    {
     "data": {
      "text/plain": [
       "Hand(score=h00, cards=[], doubled=False, drawn=False)"
      ]
     },
     "execution_count": 9,
     "metadata": {},
     "output_type": "execute_result"
    }
   ],
   "source": [
    "h = Hand()\n",
    "h"
   ]
  },
  {
   "cell_type": "code",
   "execution_count": 10,
   "id": "reduced-cover",
   "metadata": {
    "ExecuteTime": {
     "end_time": "2021-07-25T02:22:00.352595Z",
     "start_time": "2021-07-25T02:22:00.349463Z"
    }
   },
   "outputs": [
    {
     "data": {
      "text/plain": [
       "Hand(score=h06, cards=[6], doubled=False, drawn=False)"
      ]
     },
     "execution_count": 10,
     "metadata": {},
     "output_type": "execute_result"
    }
   ],
   "source": [
    "h.add_card(6) # start a hand with a 6"
   ]
  },
  {
   "cell_type": "code",
   "execution_count": 11,
   "id": "aging-green",
   "metadata": {
    "ExecuteTime": {
     "end_time": "2021-07-25T02:22:00.356355Z",
     "start_time": "2021-07-25T02:22:00.354131Z"
    }
   },
   "outputs": [
    {
     "data": {
      "text/plain": [
       "Hand(score=h16, cards=[6, 11], doubled=False, drawn=False)"
      ]
     },
     "execution_count": 11,
     "metadata": {},
     "output_type": "execute_result"
    }
   ],
   "source": [
    "h.add_card(11) # show that J (11) counts as 10 points"
   ]
  },
  {
   "cell_type": "code",
   "execution_count": 12,
   "id": "humanitarian-chair",
   "metadata": {
    "ExecuteTime": {
     "end_time": "2021-07-25T02:22:00.359694Z",
     "start_time": "2021-07-25T02:22:00.357440Z"
    }
   },
   "outputs": [
    {
     "data": {
      "text/plain": [
       "(Hand(score=h22, cards=[6, 11, 7], doubled=False, drawn=False), True)"
      ]
     },
     "execution_count": 12,
     "metadata": {},
     "output_type": "execute_result"
    }
   ],
   "source": [
    "h.add_card(7), bj.is_busted(h) # bust (show that 23 is counted as 22)"
   ]
  },
  {
   "cell_type": "code",
   "execution_count": 13,
   "id": "accompanied-perspective",
   "metadata": {
    "ExecuteTime": {
     "end_time": "2021-07-25T02:22:00.362904Z",
     "start_time": "2021-07-25T02:22:00.360716Z"
    }
   },
   "outputs": [
    {
     "data": {
      "text/plain": [
       "Hand(score=s11, cards=[1], doubled=False, drawn=False)"
      ]
     },
     "execution_count": 13,
     "metadata": {},
     "output_type": "execute_result"
    }
   ],
   "source": [
    "# OK, now let's try another hand with aces\n",
    "h = Hand()\n",
    "h.add_card(1) # should be a soft 11"
   ]
  },
  {
   "cell_type": "code",
   "execution_count": 14,
   "id": "exotic-checkout",
   "metadata": {
    "ExecuteTime": {
     "end_time": "2021-07-25T02:22:00.365861Z",
     "start_time": "2021-07-25T02:22:00.363818Z"
    }
   },
   "outputs": [
    {
     "data": {
      "text/plain": [
       "Hand(score=s12, cards=[1, 1], doubled=False, drawn=False)"
      ]
     },
     "execution_count": 14,
     "metadata": {},
     "output_type": "execute_result"
    }
   ],
   "source": [
    "h.add_card(1) # two aces: should be a soft 12"
   ]
  },
  {
   "cell_type": "code",
   "execution_count": 15,
   "id": "italian-beads",
   "metadata": {
    "ExecuteTime": {
     "end_time": "2021-07-25T02:22:00.369199Z",
     "start_time": "2021-07-25T02:22:00.366870Z"
    }
   },
   "outputs": [
    {
     "data": {
      "text/plain": [
       "Hand(score=h12, cards=[1, 1, 11], doubled=False, drawn=False)"
      ]
     },
     "execution_count": 15,
     "metadata": {},
     "output_type": "execute_result"
    }
   ],
   "source": [
    "h.add_card(11) # two aces and a J: should be a hard 12"
   ]
  },
  {
   "cell_type": "code",
   "execution_count": 16,
   "id": "neutral-sugar",
   "metadata": {
    "ExecuteTime": {
     "end_time": "2021-07-25T02:22:00.373321Z",
     "start_time": "2021-07-25T02:22:00.370558Z"
    }
   },
   "outputs": [
    {
     "data": {
      "text/plain": [
       "(Hand(score=s21, cards=[1, 10], doubled=False, drawn=False), True)"
      ]
     },
     "execution_count": 16,
     "metadata": {},
     "output_type": "execute_result"
    }
   ],
   "source": [
    "# OK, now let's try another hand with a blackjack\n",
    "h = Hand()\n",
    "h.add_card(1) # should be a soft 11\n",
    "h.add_card(10)\n",
    "h, bj.is_blackjack(h)"
   ]
  },
  {
   "cell_type": "markdown",
   "id": "dental-kelly",
   "metadata": {},
   "source": [
    "## Now define gameplay and strategy"
   ]
  },
  {
   "cell_type": "code",
   "execution_count": 17,
   "id": "secondary-crown",
   "metadata": {
    "ExecuteTime": {
     "end_time": "2021-07-25T02:22:00.377058Z",
     "start_time": "2021-07-25T02:22:00.374579Z"
    }
   },
   "outputs": [
    {
     "data": {
      "text/plain": [
       "[12, 2, 4, 9, 13, 8, 2, 3, 10, 4]"
      ]
     },
     "execution_count": 17,
     "metadata": {},
     "output_type": "execute_result"
    }
   ],
   "source": [
    "[bj.deal_card() for _ in range(10)]"
   ]
  },
  {
   "cell_type": "code",
   "execution_count": 18,
   "id": "atomic-plaintiff",
   "metadata": {
    "ExecuteTime": {
     "end_time": "2021-07-25T02:22:00.380518Z",
     "start_time": "2021-07-25T02:22:00.377940Z"
    }
   },
   "outputs": [
    {
     "data": {
      "text/plain": [
       "[('strat_nobust',\n",
       "  Hand(score=h17, cards=[9, 8], doubled=False, drawn=False),\n",
       "  Hand(score=h17, cards=[2, 9, 4, 2], doubled=False, drawn=True),\n",
       "  <HandOutcome.PUSH: 0>),\n",
       " ('strat_nobust',\n",
       "  Hand(score=h17, cards=[9, 8], doubled=False, drawn=False),\n",
       "  Hand(score=h17, cards=[2, 9, 4, 2], doubled=False, drawn=True),\n",
       "  <HandOutcome.PUSH: 0>)]"
      ]
     },
     "execution_count": 18,
     "metadata": {},
     "output_type": "execute_result"
    }
   ],
   "source": [
    "bj.play_one_round([bj.strat_nobust, bj.strat_nobust])"
   ]
  },
  {
   "cell_type": "markdown",
   "id": "looking-jewelry",
   "metadata": {},
   "source": [
    "## Aggregate and summarize the data from the simulations"
   ]
  },
  {
   "cell_type": "code",
   "execution_count": 19,
   "id": "juvenile-joshua",
   "metadata": {
    "ExecuteTime": {
     "end_time": "2021-07-25T02:22:00.385467Z",
     "start_time": "2021-07-25T02:22:00.381522Z"
    }
   },
   "outputs": [
    {
     "data": {
      "text/plain": [
       "[{'strategy': 'strat_nobust',\n",
       "  'hand_start': [3, 8],\n",
       "  'dealer_card': 12,\n",
       "  'hand_end': [3, 8, 12],\n",
       "  'dealer_hand': [12, 4, 4],\n",
       "  'outcome': <HandOutcome.WIN: 1>},\n",
       " {'strategy': 'strat_dealer',\n",
       "  'hand_start': [3, 8],\n",
       "  'dealer_card': 12,\n",
       "  'hand_end': [3, 8, 12],\n",
       "  'dealer_hand': [12, 4, 4],\n",
       "  'outcome': <HandOutcome.WIN: 1>}]"
      ]
     },
     "execution_count": 19,
     "metadata": {},
     "output_type": "execute_result"
    }
   ],
   "source": [
    "\n",
    "\n",
    "strat_nobust = bj.strat_nobust\n",
    "strat_dealer = bj.strat_dealer\n",
    "sim.generate_rows_from_round(bj.play_one_round([bj.strat_nobust, bj.strat_dealer]))\n"
   ]
  },
  {
   "cell_type": "code",
   "execution_count": 20,
   "id": "approved-broadway",
   "metadata": {
    "ExecuteTime": {
     "end_time": "2021-07-25T02:22:00.684228Z",
     "start_time": "2021-07-25T02:22:00.387866Z"
    }
   },
   "outputs": [],
   "source": [
    "\n",
    "\n",
    "sim_results = sim.run_n_sim_trials([strat_nobust, strat_dealer], 10000)\n",
    "#%prun -s cumulative sim_results, sim.summarize_totals(sim_results)"
   ]
  },
  {
   "cell_type": "code",
   "execution_count": 21,
   "id": "varied-devil",
   "metadata": {
    "ExecuteTime": {
     "end_time": "2021-07-25T02:22:00.726333Z",
     "start_time": "2021-07-25T02:22:00.685160Z"
    }
   },
   "outputs": [
    {
     "data": {
      "text/plain": [
       "(  strategy hand_start  dealer_card          hand_end     dealer_hand  \\\n",
       " 0   simple     [8, 2]           11        [8, 2, 11]        [11, 13]   \n",
       " 1   simple    [6, 13]            5           [6, 13]       [5, 7, 9]   \n",
       " 2   simple     [4, 7]            7         [4, 7, 1]      [7, 2, 11]   \n",
       " 3   simple     [5, 2]            8        [5, 2, 11]       [8, 2, 9]   \n",
       " 4   simple     [4, 1]           12  [4, 1, 2, 9, 13]      [12, 5, 3]   \n",
       " 5   simple   [12, 10]            7          [12, 10]       [7, 6, 5]   \n",
       " 6   simple    [5, 11]           13        [5, 11, 7]      [13, 5, 4]   \n",
       " 7   simple     [3, 8]            9         [3, 8, 7]    [9, 3, 3, 9]   \n",
       " 8   simple     [4, 4]           11      [4, 4, 7, 3]  [11, 5, 1, 10]   \n",
       " 9   simple   [10, 10]           13          [10, 10]      [13, 6, 6]   \n",
       " \n",
       "                    outcome  outcome_value outcome_name  \n",
       " 0         HandOutcome.PUSH            0.0         PUSH  \n",
       " 1         HandOutcome.LOSE           -1.0         LOSE  \n",
       " 2  HandOutcome.LOSE_DOUBLE           -2.0  LOSE_DOUBLE  \n",
       " 3         HandOutcome.LOSE           -1.0         LOSE  \n",
       " 4         HandOutcome.LOSE           -1.0         LOSE  \n",
       " 5          HandOutcome.WIN            1.0          WIN  \n",
       " 6         HandOutcome.LOSE           -1.0         LOSE  \n",
       " 7   HandOutcome.WIN_DOUBLE            2.0   WIN_DOUBLE  \n",
       " 8          HandOutcome.WIN            1.0          WIN  \n",
       " 9          HandOutcome.WIN            1.0          WIN  ,\n",
       "                    len                                       mean_outcome\n",
       " outcome_name BLACKJACK LOSE LOSE_DOUBLE PUSH  WIN WIN_DOUBLE             \n",
       " strategy                                                                 \n",
       " simple              45  465          26   86  357         21      -0.0505)"
      ]
     },
     "execution_count": 21,
     "metadata": {},
     "output_type": "execute_result"
    }
   ],
   "source": [
    "def strat_simple_func(score_p, score_d):\n",
    "    if score_p.points == 11:  return Action.DOUBLE\n",
    "    if score_p.points >= 17:  return Action.STAND\n",
    "    if score_p.points <= 11:  return Action.HIT\n",
    "    if score_d.points in (range(3,7)):  return Action.STAND\n",
    "    else:  return Action.HIT\n",
    "        \n",
    "strat_simple_func.name = 'simple'\n",
    "\n",
    "strat_simple = bj.Strategy_wrapper(strat_simple_func)\n",
    "sims = sim.run_n_sim_trials([strat_simple], 1000)\n",
    "sims.head(10), sim.summarize_totals(sims)"
   ]
  },
  {
   "cell_type": "code",
   "execution_count": 22,
   "id": "confirmed-passing",
   "metadata": {
    "ExecuteTime": {
     "end_time": "2021-07-25T02:22:01.546363Z",
     "start_time": "2021-07-25T02:22:00.727390Z"
    }
   },
   "outputs": [
    {
     "name": "stdout",
     "output_type": "stream",
     "text": [
      " "
     ]
    }
   ],
   "source": [
    "%prun -s cumulative sim.summarize_totals(sim.run_n_sim_trials([strat_dealer, strat_nobust, strat_simple], 10000))\n"
   ]
  },
  {
   "cell_type": "markdown",
   "id": "fluid-writing",
   "metadata": {},
   "source": [
    "## Simulate specific situations to determine strategy"
   ]
  },
  {
   "cell_type": "code",
   "execution_count": 23,
   "id": "otherwise-sheffield",
   "metadata": {
    "ExecuteTime": {
     "end_time": "2021-07-25T02:22:01.552664Z",
     "start_time": "2021-07-25T02:22:01.550324Z"
    }
   },
   "outputs": [
    {
     "data": {
      "text/plain": [
       "(Hand(score=h12, cards=[5, 7], doubled=False, drawn=False),\n",
       " Hand(score=h02, cards=[2], doubled=False, drawn=False))"
      ]
     },
     "execution_count": 23,
     "metadata": {},
     "output_type": "execute_result"
    }
   ],
   "source": [
    "# 12 vs deuce\n",
    "\n",
    "hand_p = make_hand([5, 7])\n",
    "hand_d = make_hand([2])\n",
    "\n",
    "hand_p, hand_d"
   ]
  },
  {
   "cell_type": "code",
   "execution_count": 24,
   "id": "gross-kennedy",
   "metadata": {
    "ExecuteTime": {
     "end_time": "2021-07-25T02:22:01.556823Z",
     "start_time": "2021-07-25T02:22:01.554421Z"
    }
   },
   "outputs": [
    {
     "data": {
      "text/plain": [
       "<blackjack.Strategy_wrapper at 0x7ff2db2308e0>"
      ]
     },
     "execution_count": 24,
     "metadata": {},
     "output_type": "execute_result"
    }
   ],
   "source": [
    "# Implement a strategy that composes conditions and actions\n",
    "\n",
    "def cond_12_2(score_p, score_d):\n",
    "    return score_p.points == 12 and score_d.points == 2 and not score_p.soft\n",
    "conditions = [(cond_12_2, Action.STAND)]\n",
    "\n",
    "\n",
    "    \n",
    "strat_cond = sim.generate_strat_conditional(strat_simple, conditions)\n",
    "strat_cond"
   ]
  },
  {
   "cell_type": "code",
   "execution_count": 25,
   "id": "virgin-mining",
   "metadata": {
    "ExecuteTime": {
     "end_time": "2021-07-25T02:22:01.559702Z",
     "start_time": "2021-07-25T02:22:01.557638Z"
    }
   },
   "outputs": [
    {
     "data": {
      "text/plain": [
       "[<blackjack.Strategy_wrapper at 0x7ff2a91e65e0>,\n",
       " <blackjack.Strategy_wrapper at 0x7ff2a91e6790>,\n",
       " <blackjack.Strategy_wrapper at 0x7ff2a91e6b50>]"
      ]
     },
     "execution_count": 25,
     "metadata": {},
     "output_type": "execute_result"
    }
   ],
   "source": [
    "# Generate a conditional strategy for each action\n",
    "    \n",
    "strats = sim.gen_cond_strategies(strat_simple, cond_12_2, [Action.HIT, Action.STAND, Action.DOUBLE])\n",
    "strats"
   ]
  },
  {
   "cell_type": "code",
   "execution_count": 26,
   "id": "acoustic-warrant",
   "metadata": {
    "ExecuteTime": {
     "end_time": "2021-07-25T02:22:01.562707Z",
     "start_time": "2021-07-25T02:22:01.560458Z"
    }
   },
   "outputs": [
    {
     "data": {
      "text/plain": [
       "[('<Action.HIT: 2>',\n",
       "  Hand(score=h22, cards=[5, 7, 13], doubled=False, drawn=True),\n",
       "  Hand(score=h19, cards=[2, 6, 3, 8], doubled=False, drawn=True),\n",
       "  <HandOutcome.LOSE: -1>),\n",
       " ('<Action.STAND: 1>',\n",
       "  Hand(score=h12, cards=[5, 7], doubled=False, drawn=False),\n",
       "  Hand(score=h19, cards=[2, 6, 3, 8], doubled=False, drawn=True),\n",
       "  <HandOutcome.LOSE: -1>),\n",
       " ('<Action.DOUBLE: 3>',\n",
       "  Hand(score=h19, cards=[5, 7, 7], doubled=True, drawn=True),\n",
       "  Hand(score=h19, cards=[2, 6, 3, 8], doubled=False, drawn=True),\n",
       "  <HandOutcome.PUSH: 0>)]"
      ]
     },
     "execution_count": 26,
     "metadata": {},
     "output_type": "execute_result"
    }
   ],
   "source": [
    "bj.complete_one_round(strats, hand_p, hand_d, bj.deal_card())"
   ]
  },
  {
   "cell_type": "code",
   "execution_count": 27,
   "id": "economic-greene",
   "metadata": {
    "ExecuteTime": {
     "end_time": "2021-07-25T02:22:01.978678Z",
     "start_time": "2021-07-25T02:22:01.563492Z"
    }
   },
   "outputs": [
    {
     "data": {
      "text/html": [
       "<div>\n",
       "<style scoped>\n",
       "    .dataframe tbody tr th:only-of-type {\n",
       "        vertical-align: middle;\n",
       "    }\n",
       "\n",
       "    .dataframe tbody tr th {\n",
       "        vertical-align: top;\n",
       "    }\n",
       "\n",
       "    .dataframe thead tr th {\n",
       "        text-align: left;\n",
       "    }\n",
       "\n",
       "    .dataframe thead tr:last-of-type th {\n",
       "        text-align: right;\n",
       "    }\n",
       "</style>\n",
       "<table border=\"1\" class=\"dataframe\">\n",
       "  <thead>\n",
       "    <tr>\n",
       "      <th></th>\n",
       "      <th colspan=\"5\" halign=\"left\">len</th>\n",
       "      <th>mean_outcome</th>\n",
       "    </tr>\n",
       "    <tr>\n",
       "      <th>outcome_name</th>\n",
       "      <th>LOSE</th>\n",
       "      <th>LOSE_DOUBLE</th>\n",
       "      <th>PUSH</th>\n",
       "      <th>WIN</th>\n",
       "      <th>WIN_DOUBLE</th>\n",
       "      <th></th>\n",
       "    </tr>\n",
       "    <tr>\n",
       "      <th>strategy</th>\n",
       "      <th></th>\n",
       "      <th></th>\n",
       "      <th></th>\n",
       "      <th></th>\n",
       "      <th></th>\n",
       "      <th></th>\n",
       "    </tr>\n",
       "  </thead>\n",
       "  <tbody>\n",
       "    <tr>\n",
       "      <th>&lt;Action.DOUBLE: 3&gt;</th>\n",
       "      <td>0</td>\n",
       "      <td>5894</td>\n",
       "      <td>469</td>\n",
       "      <td>0</td>\n",
       "      <td>3637</td>\n",
       "      <td>-0.4514</td>\n",
       "    </tr>\n",
       "    <tr>\n",
       "      <th>&lt;Action.HIT: 2&gt;</th>\n",
       "      <td>6022</td>\n",
       "      <td>0</td>\n",
       "      <td>654</td>\n",
       "      <td>3324</td>\n",
       "      <td>0</td>\n",
       "      <td>-0.2698</td>\n",
       "    </tr>\n",
       "    <tr>\n",
       "      <th>&lt;Action.STAND: 1&gt;</th>\n",
       "      <td>6244</td>\n",
       "      <td>0</td>\n",
       "      <td>0</td>\n",
       "      <td>3756</td>\n",
       "      <td>0</td>\n",
       "      <td>-0.2488</td>\n",
       "    </tr>\n",
       "  </tbody>\n",
       "</table>\n",
       "</div>"
      ],
      "text/plain": [
       "                     len                                   mean_outcome\n",
       "outcome_name        LOSE LOSE_DOUBLE PUSH   WIN WIN_DOUBLE             \n",
       "strategy                                                               \n",
       "<Action.DOUBLE: 3>     0        5894  469     0       3637      -0.4514\n",
       "<Action.HIT: 2>     6022           0  654  3324          0      -0.2698\n",
       "<Action.STAND: 1>   6244           0    0  3756          0      -0.2488"
      ]
     },
     "execution_count": 27,
     "metadata": {},
     "output_type": "execute_result"
    }
   ],
   "source": [
    "\n",
    "\n",
    "sims = sim.run_n_sim_trials_from_state(strats, hand_p, hand_d, 10000)\n",
    "sim.summarize_totals(sims)"
   ]
  },
  {
   "cell_type": "code",
   "execution_count": 28,
   "id": "institutional-grain",
   "metadata": {
    "ExecuteTime": {
     "end_time": "2021-07-25T02:22:01.981760Z",
     "start_time": "2021-07-25T02:22:01.979600Z"
    }
   },
   "outputs": [
    {
     "data": {
      "text/plain": [
       "(Hand(score=s12, cards=[1, 1], doubled=False, drawn=False),\n",
       " Hand(score=h02, cards=[2], doubled=False, drawn=False))"
      ]
     },
     "execution_count": 28,
     "metadata": {},
     "output_type": "execute_result"
    }
   ],
   "source": [
    "# Soft 12 vs 2\n",
    "hand_12s = make_hand([1, 1])\n",
    "\n",
    "hand_12s, hand_d"
   ]
  },
  {
   "cell_type": "code",
   "execution_count": 29,
   "id": "legal-uniform",
   "metadata": {
    "ExecuteTime": {
     "end_time": "2021-07-25T02:22:01.986263Z",
     "start_time": "2021-07-25T02:22:01.982619Z"
    }
   },
   "outputs": [
    {
     "data": {
      "text/plain": [
       "[<blackjack.Strategy_wrapper at 0x7ff2db250df0>,\n",
       " <blackjack.Strategy_wrapper at 0x7ff2db250e20>,\n",
       " <blackjack.Strategy_wrapper at 0x7ff2b8ba20d0>]"
      ]
     },
     "execution_count": 29,
     "metadata": {},
     "output_type": "execute_result"
    }
   ],
   "source": [
    "def cond_12s_2(score_p, score_d):\n",
    "    return score_p == HandScore(12, True) and score_d.points == 2\n",
    "\n",
    "strats = sim.gen_cond_strategies(strat_simple, cond_12s_2, [Action.HIT, Action.STAND, Action.DOUBLE])\n",
    "strats"
   ]
  },
  {
   "cell_type": "code",
   "execution_count": 30,
   "id": "british-logging",
   "metadata": {
    "ExecuteTime": {
     "end_time": "2021-07-25T02:22:02.650824Z",
     "start_time": "2021-07-25T02:22:01.987863Z"
    }
   },
   "outputs": [
    {
     "data": {
      "text/html": [
       "<div>\n",
       "<style scoped>\n",
       "    .dataframe tbody tr th:only-of-type {\n",
       "        vertical-align: middle;\n",
       "    }\n",
       "\n",
       "    .dataframe tbody tr th {\n",
       "        vertical-align: top;\n",
       "    }\n",
       "\n",
       "    .dataframe thead tr th {\n",
       "        text-align: left;\n",
       "    }\n",
       "\n",
       "    .dataframe thead tr:last-of-type th {\n",
       "        text-align: right;\n",
       "    }\n",
       "</style>\n",
       "<table border=\"1\" class=\"dataframe\">\n",
       "  <thead>\n",
       "    <tr>\n",
       "      <th></th>\n",
       "      <th colspan=\"5\" halign=\"left\">len</th>\n",
       "      <th>mean_outcome</th>\n",
       "    </tr>\n",
       "    <tr>\n",
       "      <th>outcome_name</th>\n",
       "      <th>LOSE</th>\n",
       "      <th>LOSE_DOUBLE</th>\n",
       "      <th>PUSH</th>\n",
       "      <th>WIN</th>\n",
       "      <th>WIN_DOUBLE</th>\n",
       "      <th></th>\n",
       "    </tr>\n",
       "    <tr>\n",
       "      <th>strategy</th>\n",
       "      <th></th>\n",
       "      <th></th>\n",
       "      <th></th>\n",
       "      <th></th>\n",
       "      <th></th>\n",
       "      <th></th>\n",
       "    </tr>\n",
       "  </thead>\n",
       "  <tbody>\n",
       "    <tr>\n",
       "      <th>&lt;Action.DOUBLE: 3&gt;</th>\n",
       "      <td>0</td>\n",
       "      <td>6391</td>\n",
       "      <td>0</td>\n",
       "      <td>0</td>\n",
       "      <td>3609</td>\n",
       "      <td>-0.5564</td>\n",
       "    </tr>\n",
       "    <tr>\n",
       "      <th>&lt;Action.HIT: 2&gt;</th>\n",
       "      <td>5343</td>\n",
       "      <td>0</td>\n",
       "      <td>827</td>\n",
       "      <td>3830</td>\n",
       "      <td>0</td>\n",
       "      <td>-0.1513</td>\n",
       "    </tr>\n",
       "    <tr>\n",
       "      <th>&lt;Action.STAND: 1&gt;</th>\n",
       "      <td>6391</td>\n",
       "      <td>0</td>\n",
       "      <td>0</td>\n",
       "      <td>3609</td>\n",
       "      <td>0</td>\n",
       "      <td>-0.2782</td>\n",
       "    </tr>\n",
       "    <tr>\n",
       "      <th>simple</th>\n",
       "      <td>5306</td>\n",
       "      <td>0</td>\n",
       "      <td>818</td>\n",
       "      <td>3876</td>\n",
       "      <td>0</td>\n",
       "      <td>-0.1430</td>\n",
       "    </tr>\n",
       "  </tbody>\n",
       "</table>\n",
       "</div>"
      ],
      "text/plain": [
       "                     len                                   mean_outcome\n",
       "outcome_name        LOSE LOSE_DOUBLE PUSH   WIN WIN_DOUBLE             \n",
       "strategy                                                               \n",
       "<Action.DOUBLE: 3>     0        6391    0     0       3609      -0.5564\n",
       "<Action.HIT: 2>     5343           0  827  3830          0      -0.1513\n",
       "<Action.STAND: 1>   6391           0    0  3609          0      -0.2782\n",
       "simple              5306           0  818  3876          0      -0.1430"
      ]
     },
     "execution_count": 30,
     "metadata": {},
     "output_type": "execute_result"
    }
   ],
   "source": [
    "sims = sim.run_n_sim_trials_from_state(strats+[strat_simple], hand_12s, hand_d, 10000)\n",
    "sim.summarize_totals(sims)"
   ]
  },
  {
   "cell_type": "code",
   "execution_count": 31,
   "id": "based-subscription",
   "metadata": {
    "ExecuteTime": {
     "end_time": "2021-07-25T02:22:02.936592Z",
     "start_time": "2021-07-25T02:22:02.651687Z"
    }
   },
   "outputs": [
    {
     "data": {
      "text/html": [
       "<div>\n",
       "<style scoped>\n",
       "    .dataframe tbody tr th:only-of-type {\n",
       "        vertical-align: middle;\n",
       "    }\n",
       "\n",
       "    .dataframe tbody tr th {\n",
       "        vertical-align: top;\n",
       "    }\n",
       "\n",
       "    .dataframe thead tr th {\n",
       "        text-align: left;\n",
       "    }\n",
       "\n",
       "    .dataframe thead tr:last-of-type th {\n",
       "        text-align: right;\n",
       "    }\n",
       "</style>\n",
       "<table border=\"1\" class=\"dataframe\">\n",
       "  <thead>\n",
       "    <tr>\n",
       "      <th></th>\n",
       "      <th colspan=\"3\" halign=\"left\">len</th>\n",
       "      <th>mean_outcome</th>\n",
       "    </tr>\n",
       "    <tr>\n",
       "      <th>outcome_name</th>\n",
       "      <th>LOSE</th>\n",
       "      <th>PUSH</th>\n",
       "      <th>WIN</th>\n",
       "      <th></th>\n",
       "    </tr>\n",
       "    <tr>\n",
       "      <th>strategy</th>\n",
       "      <th></th>\n",
       "      <th></th>\n",
       "      <th></th>\n",
       "      <th></th>\n",
       "    </tr>\n",
       "  </thead>\n",
       "  <tbody>\n",
       "    <tr>\n",
       "      <th>simple</th>\n",
       "      <td>6072</td>\n",
       "      <td>670</td>\n",
       "      <td>3258</td>\n",
       "      <td>-0.2814</td>\n",
       "    </tr>\n",
       "    <tr>\n",
       "      <th>strat_cond</th>\n",
       "      <td>6298</td>\n",
       "      <td>0</td>\n",
       "      <td>3702</td>\n",
       "      <td>-0.2596</td>\n",
       "    </tr>\n",
       "  </tbody>\n",
       "</table>\n",
       "</div>"
      ],
      "text/plain": [
       "               len            mean_outcome\n",
       "outcome_name  LOSE PUSH   WIN             \n",
       "strategy                                  \n",
       "simple        6072  670  3258      -0.2814\n",
       "strat_cond    6298    0  3702      -0.2596"
      ]
     },
     "execution_count": 31,
     "metadata": {},
     "output_type": "execute_result"
    }
   ],
   "source": [
    "sim.summarize_totals(sim.run_n_sim_trials_from_state([strat_simple, strat_cond], hand_p, hand_d, 10*1000))"
   ]
  },
  {
   "cell_type": "code",
   "execution_count": 32,
   "id": "vietnamese-spray",
   "metadata": {
    "ExecuteTime": {
     "end_time": "2021-07-25T02:22:03.502631Z",
     "start_time": "2021-07-25T02:22:02.937493Z"
    }
   },
   "outputs": [
    {
     "data": {
      "text/html": [
       "<div>\n",
       "<style scoped>\n",
       "    .dataframe tbody tr th:only-of-type {\n",
       "        vertical-align: middle;\n",
       "    }\n",
       "\n",
       "    .dataframe tbody tr th {\n",
       "        vertical-align: top;\n",
       "    }\n",
       "\n",
       "    .dataframe thead tr th {\n",
       "        text-align: left;\n",
       "    }\n",
       "\n",
       "    .dataframe thead tr:last-of-type th {\n",
       "        text-align: right;\n",
       "    }\n",
       "</style>\n",
       "<table border=\"1\" class=\"dataframe\">\n",
       "  <thead>\n",
       "    <tr>\n",
       "      <th></th>\n",
       "      <th colspan=\"5\" halign=\"left\">len</th>\n",
       "      <th>mean_outcome</th>\n",
       "    </tr>\n",
       "    <tr>\n",
       "      <th>outcome_name</th>\n",
       "      <th>LOSE</th>\n",
       "      <th>LOSE_DOUBLE</th>\n",
       "      <th>PUSH</th>\n",
       "      <th>WIN</th>\n",
       "      <th>WIN_DOUBLE</th>\n",
       "      <th></th>\n",
       "    </tr>\n",
       "    <tr>\n",
       "      <th>strategy</th>\n",
       "      <th></th>\n",
       "      <th></th>\n",
       "      <th></th>\n",
       "      <th></th>\n",
       "      <th></th>\n",
       "      <th></th>\n",
       "    </tr>\n",
       "  </thead>\n",
       "  <tbody>\n",
       "    <tr>\n",
       "      <th>&lt;Action.DOUBLE: 3&gt;</th>\n",
       "      <td>0</td>\n",
       "      <td>5750</td>\n",
       "      <td>0</td>\n",
       "      <td>0</td>\n",
       "      <td>4250</td>\n",
       "      <td>-0.3000</td>\n",
       "    </tr>\n",
       "    <tr>\n",
       "      <th>&lt;Action.HIT: 2&gt;</th>\n",
       "      <td>4833</td>\n",
       "      <td>0</td>\n",
       "      <td>268</td>\n",
       "      <td>4899</td>\n",
       "      <td>0</td>\n",
       "      <td>0.0066</td>\n",
       "    </tr>\n",
       "    <tr>\n",
       "      <th>&lt;Action.STAND: 1&gt;</th>\n",
       "      <td>5750</td>\n",
       "      <td>0</td>\n",
       "      <td>0</td>\n",
       "      <td>4250</td>\n",
       "      <td>0</td>\n",
       "      <td>-0.1500</td>\n",
       "    </tr>\n",
       "    <tr>\n",
       "      <th>simple</th>\n",
       "      <td>5750</td>\n",
       "      <td>0</td>\n",
       "      <td>0</td>\n",
       "      <td>4250</td>\n",
       "      <td>0</td>\n",
       "      <td>-0.1500</td>\n",
       "    </tr>\n",
       "  </tbody>\n",
       "</table>\n",
       "</div>"
      ],
      "text/plain": [
       "                     len                                   mean_outcome\n",
       "outcome_name        LOSE LOSE_DOUBLE PUSH   WIN WIN_DOUBLE             \n",
       "strategy                                                               \n",
       "<Action.DOUBLE: 3>     0        5750    0     0       4250      -0.3000\n",
       "<Action.HIT: 2>     4833           0  268  4899          0       0.0066\n",
       "<Action.STAND: 1>   5750           0    0  4250          0      -0.1500\n",
       "simple              5750           0    0  4250          0      -0.1500"
      ]
     },
     "execution_count": 32,
     "metadata": {},
     "output_type": "execute_result"
    }
   ],
   "source": [
    "# soft 13 vs 6\n",
    "def cond_13s_6(score_p, score_d):\n",
    "    return score_p == HandScore(13, True) and score_d.points == 6\n",
    "\n",
    "\n",
    "\n",
    "strats = sim.gen_cond_strategies(strat_simple, cond_13s_6, [Action.HIT, Action.STAND, Action.DOUBLE])\n",
    "sims = sim.run_n_sim_trials_from_state(strats+[strat_simple], bj.make_hand([1, 2]), bj.make_hand([6]), 10000)\n",
    "sim.summarize_totals(sims)"
   ]
  },
  {
   "cell_type": "code",
   "execution_count": 33,
   "id": "liable-painting",
   "metadata": {
    "ExecuteTime": {
     "end_time": "2021-07-25T02:22:04.006566Z",
     "start_time": "2021-07-25T02:22:03.503483Z"
    }
   },
   "outputs": [
    {
     "data": {
      "text/html": [
       "<div>\n",
       "<style scoped>\n",
       "    .dataframe tbody tr th:only-of-type {\n",
       "        vertical-align: middle;\n",
       "    }\n",
       "\n",
       "    .dataframe tbody tr th {\n",
       "        vertical-align: top;\n",
       "    }\n",
       "\n",
       "    .dataframe thead tr th {\n",
       "        text-align: left;\n",
       "    }\n",
       "\n",
       "    .dataframe thead tr:last-of-type th {\n",
       "        text-align: right;\n",
       "    }\n",
       "</style>\n",
       "<table border=\"1\" class=\"dataframe\">\n",
       "  <thead>\n",
       "    <tr>\n",
       "      <th></th>\n",
       "      <th colspan=\"5\" halign=\"left\">len</th>\n",
       "      <th>mean_outcome</th>\n",
       "    </tr>\n",
       "    <tr>\n",
       "      <th>outcome_name</th>\n",
       "      <th>LOSE</th>\n",
       "      <th>LOSE_DOUBLE</th>\n",
       "      <th>PUSH</th>\n",
       "      <th>WIN</th>\n",
       "      <th>WIN_DOUBLE</th>\n",
       "      <th></th>\n",
       "    </tr>\n",
       "    <tr>\n",
       "      <th>strategy</th>\n",
       "      <th></th>\n",
       "      <th></th>\n",
       "      <th></th>\n",
       "      <th></th>\n",
       "      <th></th>\n",
       "      <th></th>\n",
       "    </tr>\n",
       "  </thead>\n",
       "  <tbody>\n",
       "    <tr>\n",
       "      <th>&lt;Action.DOUBLE: 3&gt;</th>\n",
       "      <td>0</td>\n",
       "      <td>3246</td>\n",
       "      <td>655</td>\n",
       "      <td>0</td>\n",
       "      <td>6099</td>\n",
       "      <td>0.5706</td>\n",
       "    </tr>\n",
       "    <tr>\n",
       "      <th>&lt;Action.HIT: 2&gt;</th>\n",
       "      <td>3205</td>\n",
       "      <td>0</td>\n",
       "      <td>645</td>\n",
       "      <td>6150</td>\n",
       "      <td>0</td>\n",
       "      <td>0.2945</td>\n",
       "    </tr>\n",
       "    <tr>\n",
       "      <th>&lt;Action.STAND: 1&gt;</th>\n",
       "      <td>5790</td>\n",
       "      <td>0</td>\n",
       "      <td>0</td>\n",
       "      <td>4210</td>\n",
       "      <td>0</td>\n",
       "      <td>-0.1580</td>\n",
       "    </tr>\n",
       "    <tr>\n",
       "      <th>simple</th>\n",
       "      <td>3195</td>\n",
       "      <td>0</td>\n",
       "      <td>646</td>\n",
       "      <td>6159</td>\n",
       "      <td>0</td>\n",
       "      <td>0.2964</td>\n",
       "    </tr>\n",
       "  </tbody>\n",
       "</table>\n",
       "</div>"
      ],
      "text/plain": [
       "                     len                                   mean_outcome\n",
       "outcome_name        LOSE LOSE_DOUBLE PUSH   WIN WIN_DOUBLE             \n",
       "strategy                                                               \n",
       "<Action.DOUBLE: 3>     0        3246  655     0       6099       0.5706\n",
       "<Action.HIT: 2>     3205           0  645  6150          0       0.2945\n",
       "<Action.STAND: 1>   5790           0    0  4210          0      -0.1580\n",
       "simple              3195           0  646  6159          0       0.2964"
      ]
     },
     "execution_count": 33,
     "metadata": {},
     "output_type": "execute_result"
    }
   ],
   "source": [
    "# 10 v 6\n",
    "def cond_10_6(score_p, score_d):\n",
    "    return score_p.points == 10 and score_d.points == 6\n",
    "\n",
    "strats = sim.gen_cond_strategies(strat_simple, cond_10_6, [Action.HIT, Action.STAND, Action.DOUBLE])\n",
    "sims = sim.run_n_sim_trials_from_state(strats+[strat_simple], make_hand([5, 5]), make_hand([6]), 10000)\n",
    "sim.summarize_totals(sims)"
   ]
  },
  {
   "cell_type": "code",
   "execution_count": 34,
   "id": "serious-briefs",
   "metadata": {
    "ExecuteTime": {
     "end_time": "2021-07-25T02:22:04.429813Z",
     "start_time": "2021-07-25T02:22:04.007452Z"
    }
   },
   "outputs": [
    {
     "data": {
      "text/plain": [
       "(<function simulator.test_cond.<locals>.cond(p, d)>,\n",
       "                      len                                   mean_outcome\n",
       " outcome_name        LOSE LOSE_DOUBLE PUSH   WIN WIN_DOUBLE             \n",
       " strategy                                                               \n",
       " <Action.DOUBLE: 3>     0        3184  688     0       6128       0.5888\n",
       " <Action.HIT: 2>     3206           0  685  6109          0       0.2903\n",
       " <Action.STAND: 1>   5737           0    0  4263          0      -0.1474)"
      ]
     },
     "execution_count": 34,
     "metadata": {},
     "output_type": "execute_result"
    }
   ],
   "source": [
    "sim.test_cond(HandScore(10), HandScore(6), 10000, strat_simple)"
   ]
  },
  {
   "cell_type": "code",
   "execution_count": 35,
   "id": "square-binary",
   "metadata": {
    "ExecuteTime": {
     "end_time": "2021-07-25T02:22:04.450225Z",
     "start_time": "2021-07-25T02:22:04.430745Z"
    }
   },
   "outputs": [
    {
     "data": {
      "text/plain": [
       "(<function simulator.test_cond.<locals>.cond(p, d)>,\n",
       "                     len                                  mean_outcome\n",
       " outcome_name       LOSE LOSE_DOUBLE PUSH  WIN WIN_DOUBLE             \n",
       " strategy                                                             \n",
       " <Action.DOUBLE: 3>    0         155    8    0         37       -1.180\n",
       " <Action.HIT: 2>     157           0    7   36          0       -0.605\n",
       " <Action.STAND: 1>    61           0   30  109          0        0.240)"
      ]
     },
     "execution_count": 35,
     "metadata": {},
     "output_type": "execute_result"
    }
   ],
   "source": [
    "sim.test_cond(HandScore(18), HandScore(6), 200, strat_simple)"
   ]
  },
  {
   "cell_type": "code",
   "execution_count": 36,
   "id": "recent-harvey",
   "metadata": {
    "ExecuteTime": {
     "end_time": "2021-07-25T02:22:04.472505Z",
     "start_time": "2021-07-25T02:22:04.451104Z"
    }
   },
   "outputs": [
    {
     "data": {
      "text/plain": [
       "(<function simulator.test_cond.<locals>.cond(p, d)>,\n",
       "                     len                                  mean_outcome\n",
       " outcome_name       LOSE LOSE_DOUBLE PUSH  WIN WIN_DOUBLE             \n",
       " strategy                                                             \n",
       " <Action.DOUBLE: 3>    0          64   14    0        122         0.58\n",
       " <Action.HIT: 2>      60           0   16  124          0         0.32\n",
       " <Action.STAND: 1>     0           0   18  182          0         0.91)"
      ]
     },
     "execution_count": 36,
     "metadata": {},
     "output_type": "execute_result"
    }
   ],
   "source": [
    "sim.test_cond(HandScore(21, True), HandScore(6), 200, strat_simple)"
   ]
  },
  {
   "cell_type": "code",
   "execution_count": 37,
   "id": "manual-anime",
   "metadata": {
    "ExecuteTime": {
     "end_time": "2021-07-25T02:22:04.499984Z",
     "start_time": "2021-07-25T02:22:04.473462Z"
    }
   },
   "outputs": [
    {
     "data": {
      "text/plain": [
       "{'<Action.DOUBLE: 3>': 0.55,\n",
       " '<Action.HIT: 2>': 0.355,\n",
       " '<Action.STAND: 1>': -0.11,\n",
       " 'score_p': 'h10',\n",
       " 'score_d': 'h06',\n",
       " 'winning_act': <Action.DOUBLE: 3>,\n",
       " 'winning_act_outcome': 0.55}"
      ]
     },
     "execution_count": 37,
     "metadata": {},
     "output_type": "execute_result"
    }
   ],
   "source": [
    "\n",
    "sim.find_winning_action(HandScore(10), HandScore(6), 200)"
   ]
  },
  {
   "cell_type": "code",
   "execution_count": 38,
   "id": "supported-herald",
   "metadata": {
    "ExecuteTime": {
     "end_time": "2021-07-25T02:22:04.592722Z",
     "start_time": "2021-07-25T02:22:04.500917Z"
    }
   },
   "outputs": [
    {
     "data": {
      "text/plain": [
       "(<function simulator.test_cond.<locals>.cond(p, d)>,\n",
       "                     len                                  mean_outcome\n",
       " outcome_name       LOSE LOSE_DOUBLE PUSH  WIN WIN_DOUBLE             \n",
       " strategy                                                             \n",
       " <Action.DOUBLE: 3>    0         843   25    0        132       -1.422\n",
       " <Action.HIT: 2>     858           0   18  124          0       -0.734\n",
       " <Action.STAND: 1>   592           0  128  280          0       -0.312)"
      ]
     },
     "execution_count": 38,
     "metadata": {},
     "output_type": "execute_result"
    }
   ],
   "source": [
    "sim.test_cond(HandScore(18), HandScore(11, True), 1000)"
   ]
  },
  {
   "cell_type": "code",
   "execution_count": 39,
   "id": "behind-seattle",
   "metadata": {
    "ExecuteTime": {
     "end_time": "2021-07-25T02:22:08.483658Z",
     "start_time": "2021-07-25T02:22:04.593955Z"
    }
   },
   "outputs": [
    {
     "name": "stdout",
     "output_type": "stream",
     "text": [
      " "
     ]
    },
    {
     "data": {
      "text/html": [
       "<div>\n",
       "<style scoped>\n",
       "    .dataframe tbody tr th:only-of-type {\n",
       "        vertical-align: middle;\n",
       "    }\n",
       "\n",
       "    .dataframe tbody tr th {\n",
       "        vertical-align: top;\n",
       "    }\n",
       "\n",
       "    .dataframe thead th {\n",
       "        text-align: right;\n",
       "    }\n",
       "</style>\n",
       "<table border=\"1\" class=\"dataframe\">\n",
       "  <thead>\n",
       "    <tr style=\"text-align: right;\">\n",
       "      <th></th>\n",
       "      <th></th>\n",
       "      <th>&lt;Action.DOUBLE: 3&gt;</th>\n",
       "      <th>&lt;Action.HIT: 2&gt;</th>\n",
       "      <th>&lt;Action.STAND: 1&gt;</th>\n",
       "      <th>winning_act</th>\n",
       "      <th>winning_act_outcome</th>\n",
       "    </tr>\n",
       "    <tr>\n",
       "      <th>score_p</th>\n",
       "      <th>score_d</th>\n",
       "      <th></th>\n",
       "      <th></th>\n",
       "      <th></th>\n",
       "      <th></th>\n",
       "      <th></th>\n",
       "    </tr>\n",
       "  </thead>\n",
       "  <tbody>\n",
       "    <tr>\n",
       "      <th rowspan=\"5\" valign=\"top\">h09</th>\n",
       "      <th>s11</th>\n",
       "      <td>-0.5</td>\n",
       "      <td>0.225</td>\n",
       "      <td>-0.50</td>\n",
       "      <td>Action.HIT</td>\n",
       "      <td>0.225</td>\n",
       "    </tr>\n",
       "    <tr>\n",
       "      <th>h02</th>\n",
       "      <td>0.5</td>\n",
       "      <td>0.300</td>\n",
       "      <td>-0.10</td>\n",
       "      <td>Action.DOUBLE</td>\n",
       "      <td>0.500</td>\n",
       "    </tr>\n",
       "    <tr>\n",
       "      <th>h03</th>\n",
       "      <td>0.6</td>\n",
       "      <td>0.200</td>\n",
       "      <td>-0.30</td>\n",
       "      <td>Action.DOUBLE</td>\n",
       "      <td>0.600</td>\n",
       "    </tr>\n",
       "    <tr>\n",
       "      <th>h04</th>\n",
       "      <td>0.2</td>\n",
       "      <td>0.250</td>\n",
       "      <td>-0.10</td>\n",
       "      <td>Action.HIT</td>\n",
       "      <td>0.250</td>\n",
       "    </tr>\n",
       "    <tr>\n",
       "      <th>h05</th>\n",
       "      <td>0.4</td>\n",
       "      <td>0.375</td>\n",
       "      <td>-0.10</td>\n",
       "      <td>Action.DOUBLE</td>\n",
       "      <td>0.400</td>\n",
       "    </tr>\n",
       "    <tr>\n",
       "      <th>...</th>\n",
       "      <th>...</th>\n",
       "      <td>...</td>\n",
       "      <td>...</td>\n",
       "      <td>...</td>\n",
       "      <td>...</td>\n",
       "      <td>...</td>\n",
       "    </tr>\n",
       "    <tr>\n",
       "      <th rowspan=\"5\" valign=\"top\">s21</th>\n",
       "      <th>h06</th>\n",
       "      <td>0.1</td>\n",
       "      <td>0.050</td>\n",
       "      <td>0.85</td>\n",
       "      <td>Action.STAND</td>\n",
       "      <td>0.850</td>\n",
       "    </tr>\n",
       "    <tr>\n",
       "      <th>h07</th>\n",
       "      <td>0.2</td>\n",
       "      <td>0.300</td>\n",
       "      <td>0.90</td>\n",
       "      <td>Action.STAND</td>\n",
       "      <td>0.900</td>\n",
       "    </tr>\n",
       "    <tr>\n",
       "      <th>h08</th>\n",
       "      <td>0.2</td>\n",
       "      <td>0.050</td>\n",
       "      <td>0.85</td>\n",
       "      <td>Action.STAND</td>\n",
       "      <td>0.850</td>\n",
       "    </tr>\n",
       "    <tr>\n",
       "      <th>h09</th>\n",
       "      <td>0.9</td>\n",
       "      <td>0.500</td>\n",
       "      <td>0.95</td>\n",
       "      <td>Action.STAND</td>\n",
       "      <td>0.950</td>\n",
       "    </tr>\n",
       "    <tr>\n",
       "      <th>h10</th>\n",
       "      <td>-0.5</td>\n",
       "      <td>-0.175</td>\n",
       "      <td>0.75</td>\n",
       "      <td>Action.STAND</td>\n",
       "      <td>0.750</td>\n",
       "    </tr>\n",
       "  </tbody>\n",
       "</table>\n",
       "<p>250 rows × 5 columns</p>\n",
       "</div>"
      ],
      "text/plain": [
       "                 <Action.DOUBLE: 3>  <Action.HIT: 2>  <Action.STAND: 1>  \\\n",
       "score_p score_d                                                           \n",
       "h09     s11                    -0.5            0.225              -0.50   \n",
       "        h02                     0.5            0.300              -0.10   \n",
       "        h03                     0.6            0.200              -0.30   \n",
       "        h04                     0.2            0.250              -0.10   \n",
       "        h05                     0.4            0.375              -0.10   \n",
       "...                             ...              ...                ...   \n",
       "s21     h06                     0.1            0.050               0.85   \n",
       "        h07                     0.2            0.300               0.90   \n",
       "        h08                     0.2            0.050               0.85   \n",
       "        h09                     0.9            0.500               0.95   \n",
       "        h10                    -0.5           -0.175               0.75   \n",
       "\n",
       "                   winning_act  winning_act_outcome  \n",
       "score_p score_d                                      \n",
       "h09     s11         Action.HIT                0.225  \n",
       "        h02      Action.DOUBLE                0.500  \n",
       "        h03      Action.DOUBLE                0.600  \n",
       "        h04         Action.HIT                0.250  \n",
       "        h05      Action.DOUBLE                0.400  \n",
       "...                        ...                  ...  \n",
       "s21     h06       Action.STAND                0.850  \n",
       "        h07       Action.STAND                0.900  \n",
       "        h08       Action.STAND                0.850  \n",
       "        h09       Action.STAND                0.950  \n",
       "        h10       Action.STAND                0.750  \n",
       "\n",
       "[250 rows x 5 columns]"
      ]
     },
     "execution_count": 39,
     "metadata": {},
     "output_type": "execute_result"
    }
   ],
   "source": [
    "%prun -s cumulative conds = sim.compute_instructions(20)\n",
    "pd.DataFrame(conds).set_index(['score_p', 'score_d'])"
   ]
  },
  {
   "cell_type": "code",
   "execution_count": 40,
   "id": "challenging-producer",
   "metadata": {
    "ExecuteTime": {
     "end_time": "2021-07-25T02:22:13.864349Z",
     "start_time": "2021-07-25T02:22:08.486586Z"
    }
   },
   "outputs": [
    {
     "name": "stdout",
     "output_type": "stream",
     "text": [
      " "
     ]
    }
   ],
   "source": [
    "\n",
    "%prun -s cumulative sim.compute_instructions(100, strat_simple)"
   ]
  },
  {
   "cell_type": "code",
   "execution_count": 41,
   "id": "foster-december",
   "metadata": {
    "ExecuteTime": {
     "end_time": "2021-07-25T02:22:17.353883Z",
     "start_time": "2021-07-25T02:22:13.865683Z"
    },
    "scrolled": true
   },
   "outputs": [
    {
     "name": "stdout",
     "output_type": "stream",
     "text": [
      " "
     ]
    },
    {
     "data": {
      "image/png": "[encoded data removed]",
      "text/plain": [
       "<Figure size 432x288 with 4 Axes>"
      ]
     },
     "metadata": {
      "needs_background": "light"
     },
     "output_type": "display_data"
    }
   ],
   "source": [
    "\n",
    "\n",
    "%prun -s cumulative opt.run_iteration(1, strat_simple, None)"
   ]
  },
  {
   "cell_type": "code",
   "execution_count": 42,
   "id": "typical-murder",
   "metadata": {
    "ExecuteTime": {
     "end_time": "2021-07-25T02:22:17.415978Z",
     "start_time": "2021-07-25T02:22:17.355792Z"
    }
   },
   "outputs": [
    {
     "data": {
      "text/plain": [
       "(   strategy hand_start  dealer_card         hand_end    dealer_hand  \\\n",
       " 0    simple    [12, 7]           12          [12, 7]       [12, 10]   \n",
       " 1  memoized    [12, 7]           12          [12, 7]       [12, 10]   \n",
       " 2    simple    [4, 10]            1       [4, 10, 9]  [1, 4, 13, 3]   \n",
       " 3  memoized    [4, 10]            1      [4, 10, 13]  [1, 4, 13, 3]   \n",
       " 4    simple    [10, 7]            6          [10, 7]      [6, 4, 1]   \n",
       " 5  memoized    [10, 7]            6          [10, 7]      [6, 4, 1]   \n",
       " 6    simple     [1, 4]            2  [1, 4, 6, 2, 9]     [2, 7, 13]   \n",
       " 7  memoized     [1, 4]            2    [1, 4, 13, 9]     [2, 7, 13]   \n",
       " 8    simple    [4, 13]           13       [4, 13, 9]     [13, 6, 1]   \n",
       " 9  memoized    [4, 13]           13       [4, 13, 8]     [13, 6, 1]   \n",
       " \n",
       "             outcome  outcome_value outcome_name  \n",
       " 0  HandOutcome.LOSE           -1.0         LOSE  \n",
       " 1  HandOutcome.LOSE           -1.0         LOSE  \n",
       " 2  HandOutcome.LOSE           -1.0         LOSE  \n",
       " 3  HandOutcome.LOSE           -1.0         LOSE  \n",
       " 4  HandOutcome.LOSE           -1.0         LOSE  \n",
       " 5  HandOutcome.LOSE           -1.0         LOSE  \n",
       " 6  HandOutcome.LOSE           -1.0         LOSE  \n",
       " 7  HandOutcome.LOSE           -1.0         LOSE  \n",
       " 8  HandOutcome.LOSE           -1.0         LOSE  \n",
       " 9  HandOutcome.LOSE           -1.0         LOSE  ,\n",
       "                    len                                       mean_outcome\n",
       " outcome_name BLACKJACK LOSE LOSE_DOUBLE PUSH  WIN WIN_DOUBLE             \n",
       " strategy                                                                 \n",
       " memoized            41  467          18   85  364         25      -0.0275\n",
       " simple              41  485          21   95  335         23      -0.0845)"
      ]
     },
     "execution_count": 42,
     "metadata": {},
     "output_type": "execute_result"
    }
   ],
   "source": [
    "# Memoized strategy\n",
    "# Rather than generic conditions, just use an array indexed on player and dealer scores\n",
    "# Since that's how we're generating our strategy anyway (one square at a time)\n",
    "\n",
    "instructions = {(repr(HandScore(13, True)), repr(HandScore(6))): Action.HIT}\n",
    "strat_memoized = opt.gen_strat_memoized(instructions, strat_simple)\n",
    "\n",
    "sims = sim.run_n_sim_trials([strat_simple, strat_memoized], 1000)\n",
    "sims.head(10), sim.summarize_totals(sims)"
   ]
  },
  {
   "cell_type": "code",
   "execution_count": 43,
   "id": "imposed-cinema",
   "metadata": {
    "ExecuteTime": {
     "end_time": "2021-07-25T02:31:45.086989Z",
     "start_time": "2021-07-25T02:22:17.417199Z"
    }
   },
   "outputs": [
    {
     "name": "stdout",
     "output_type": "stream",
     "text": [
      "Starting iteration 0\n",
      "Starting iteration 1\n",
      "('h09', 'h02') Action.DOUBLE Action.HIT\n",
      "('h09', 'h03') Action.HIT Action.DOUBLE\n",
      "('h09', 'h06') Action.DOUBLE Action.HIT\n",
      "('h09', 'h08') Action.HIT Action.DOUBLE\n",
      "('h10', 'h03') Action.HIT Action.DOUBLE\n",
      "('h10', 'h08') Action.DOUBLE Action.HIT\n",
      "('h10', 'h10') Action.DOUBLE Action.HIT\n",
      "('h11', 'h04') Action.DOUBLE Action.HIT\n",
      "('h11', 'h08') Action.HIT Action.DOUBLE\n",
      "('h11', 'h09') Action.HIT Action.DOUBLE\n",
      "('h12', 'h03') Action.STAND Action.DOUBLE\n",
      "('h12', 'h05') Action.HIT Action.STAND\n",
      "('h12', 'h06') Action.STAND Action.HIT\n",
      "('h13', 'h02') Action.STAND Action.HIT\n",
      "('h13', 'h03') Action.STAND Action.DOUBLE\n",
      "('h13', 'h04') Action.HIT Action.STAND\n",
      "('h13', 'h06') Action.STAND Action.HIT\n",
      "('h13', 'h10') Action.STAND Action.HIT\n",
      "('h14', 'h02') Action.STAND Action.DOUBLE\n",
      "('h14', 'h05') Action.HIT Action.STAND\n",
      "('h14', 'h09') Action.HIT Action.STAND\n",
      "('h14', 'h10') Action.HIT Action.STAND\n",
      "('h15', 's11') Action.HIT Action.STAND\n",
      "('h15', 'h07') Action.STAND Action.HIT\n",
      "('h15', 'h10') Action.HIT Action.STAND\n",
      "('h16', 's11') Action.STAND Action.HIT\n",
      "('h16', 'h02') Action.STAND Action.HIT\n",
      "('h17', 'h10') Action.STAND Action.HIT\n",
      "('s11', 'h03') Action.DOUBLE Action.HIT\n",
      "('s14', 'h10') Action.HIT Action.STAND\n",
      "('s17', 'h03') Action.HIT Action.DOUBLE\n",
      "('s17', 'h04') Action.STAND Action.HIT\n",
      "('s17', 'h06') Action.STAND Action.HIT\n",
      "('s18', 's11') Action.STAND Action.HIT\n",
      "('s18', 'h06') Action.STAND Action.DOUBLE\n",
      "('s19', 'h02') Action.STAND Action.DOUBLE\n",
      "('s19', 'h03') Action.STAND Action.DOUBLE\n",
      "Starting iteration 2\n",
      "('h09', 'h03') Action.DOUBLE Action.HIT\n",
      "('h09', 'h04') Action.HIT Action.DOUBLE\n",
      "('h10', 'h03') Action.DOUBLE Action.HIT\n",
      "('h10', 'h05') Action.DOUBLE Action.HIT\n",
      "('h10', 'h08') Action.HIT Action.DOUBLE\n",
      "('h10', 'h09') Action.HIT Action.DOUBLE\n",
      "('h10', 'h10') Action.HIT Action.DOUBLE\n",
      "('h11', 'h10') Action.DOUBLE Action.HIT\n",
      "('h12', 'h02') Action.HIT Action.STAND\n",
      "('h12', 'h03') Action.HIT Action.STAND\n",
      "('h12', 'h04') Action.DOUBLE Action.STAND\n",
      "('h12', 'h05') Action.STAND Action.HIT\n",
      "('h12', 'h06') Action.HIT Action.STAND\n",
      "('h13', 'h02') Action.HIT Action.STAND\n",
      "('h13', 'h04') Action.STAND Action.HIT\n",
      "('h13', 'h10') Action.HIT Action.STAND\n",
      "('h14', 'h05') Action.STAND Action.HIT\n",
      "('h14', 'h09') Action.STAND Action.HIT\n",
      "('h14', 'h10') Action.STAND Action.HIT\n",
      "('h15', 'h10') Action.STAND Action.HIT\n",
      "('h16', 's11') Action.HIT Action.STAND\n",
      "('h16', 'h07') Action.HIT Action.STAND\n",
      "('h16', 'h08') Action.HIT Action.STAND\n",
      "('s11', 'h07') Action.HIT Action.DOUBLE\n",
      "('s11', 'h09') Action.DOUBLE Action.HIT\n",
      "('s11', 'h10') Action.DOUBLE Action.HIT\n",
      "('s17', 'h04') Action.HIT Action.STAND\n",
      "('s17', 'h06') Action.HIT Action.STAND\n",
      "('s18', 'h09') Action.HIT Action.STAND\n",
      "('s18', 'h10') Action.STAND Action.HIT\n",
      "Starting iteration 3\n",
      "('h09', 'h03') Action.HIT Action.DOUBLE\n",
      "('h09', 'h04') Action.DOUBLE Action.HIT\n",
      "('h09', 'h08') Action.DOUBLE Action.HIT\n",
      "('h10', 'h07') Action.HIT Action.DOUBLE\n",
      "('h10', 'h09') Action.DOUBLE Action.HIT\n",
      "('h11', 'h08') Action.DOUBLE Action.HIT\n",
      "('h11', 'h10') Action.HIT Action.DOUBLE\n",
      "('h12', 'h02') Action.STAND Action.HIT\n",
      "('h12', 'h04') Action.STAND Action.DOUBLE\n",
      "('h13', 'h02') Action.STAND Action.HIT\n",
      "('h14', 'h09') Action.HIT Action.STAND\n",
      "('h14', 'h10') Action.HIT Action.STAND\n",
      "('h15', 'h07') Action.HIT Action.STAND\n",
      "('h15', 'h10') Action.HIT Action.STAND\n",
      "('h16', 'h09') Action.STAND Action.HIT\n",
      "('h16', 'h10') Action.STAND Action.HIT\n",
      "('s11', 'h07') Action.DOUBLE Action.HIT\n",
      "('s11', 'h08') Action.HIT Action.DOUBLE\n",
      "('s11', 'h10') Action.HIT Action.DOUBLE\n",
      "('s18', 'h09') Action.STAND Action.HIT\n",
      "Starting iteration 4\n",
      "('h09', 'h02') Action.HIT Action.DOUBLE\n",
      "('h09', 'h08') Action.HIT Action.DOUBLE\n",
      "('h10', 'h07') Action.DOUBLE Action.HIT\n",
      "('h10', 'h08') Action.DOUBLE Action.HIT\n",
      "('h10', 'h09') Action.HIT Action.DOUBLE\n",
      "('h11', 'h09') Action.DOUBLE Action.HIT\n",
      "('h12', 'h02') Action.HIT Action.STAND\n",
      "('h12', 'h06') Action.STAND Action.HIT\n",
      "('h16', 'h09') Action.HIT Action.STAND\n",
      "('h16', 'h10') Action.HIT Action.STAND\n",
      "('s11', 'h08') Action.DOUBLE Action.HIT\n",
      "('s11', 'h09') Action.HIT Action.DOUBLE\n",
      "('s18', 's11') Action.HIT Action.STAND\n",
      "('s18', 'h09') Action.HIT Action.STAND\n",
      "Starting iteration 5\n",
      "('h10', 'h09') Action.DOUBLE Action.HIT\n",
      "('h11', 'h09') Action.HIT Action.DOUBLE\n",
      "('h12', 'h06') Action.HIT Action.STAND\n",
      "('h13', 'h03') Action.HIT Action.STAND\n",
      "('h16', 'h10') Action.STAND Action.HIT\n",
      "('s11', 'h08') Action.HIT Action.DOUBLE\n",
      "('s18', 's11') Action.STAND Action.HIT\n",
      "('s18', 'h09') Action.STAND Action.HIT\n",
      "Starting iteration 6\n",
      "('h11', 'h09') Action.DOUBLE Action.HIT\n",
      "('h12', 'h06') Action.STAND Action.HIT\n",
      "('h13', 'h03') Action.STAND Action.HIT\n",
      "('h15', 'h10') Action.STAND Action.HIT\n",
      "('h16', 'h10') Action.HIT Action.STAND\n",
      "('s11', 'h08') Action.DOUBLE Action.HIT\n",
      "('s18', 'h09') Action.HIT Action.STAND\n",
      "Starting iteration 7\n",
      "('h09', 'h03') Action.DOUBLE Action.HIT\n",
      "('h10', 'h09') Action.HIT Action.DOUBLE\n",
      "('h15', 'h10') Action.HIT Action.STAND\n",
      "('h16', 'h10') Action.STAND Action.HIT\n",
      "Starting iteration 8\n",
      "('h10', 'h09') Action.DOUBLE Action.HIT\n",
      "('s18', 'h09') Action.STAND Action.HIT\n",
      "Starting iteration 9\n",
      "('s18', 'h09') Action.HIT Action.STAND\n"
     ]
    },
    {
     "data": {
      "text/plain": [
       "[<blackjack.Strategy_wrapper at 0x7ff2a85df550>,\n",
       " <optimizer.Strat_memoized at 0x7ff2a838d820>,\n",
       " <optimizer.Strat_memoized at 0x7ff2a82747f0>,\n",
       " <optimizer.Strat_memoized at 0x7ff2c82db700>,\n",
       " <optimizer.Strat_memoized at 0x7ff2c83d6220>,\n",
       " <optimizer.Strat_memoized at 0x7ff2a80980a0>,\n",
       " <optimizer.Strat_memoized at 0x7ff2c867f310>,\n",
       " <optimizer.Strat_memoized at 0x7ff2b8b0d0a0>,\n",
       " <optimizer.Strat_memoized at 0x7ff2a824a1f0>,\n",
       " <optimizer.Strat_memoized at 0x7ff2a8f8a550>,\n",
       " <optimizer.Strat_memoized at 0x7ff2a957dfd0>]"
      ]
     },
     "execution_count": 43,
     "metadata": {},
     "output_type": "execute_result"
    },
    {
     "data": {
      "image/png": "[encoded data removed]",
      "text/plain": [
       "<Figure size 432x288 with 4 Axes>"
      ]
     },
     "metadata": {
      "needs_background": "light"
     },
     "output_type": "display_data"
    },
    {
     "data": {
      "image/png": "[encoded data removed]",
      "text/plain": [
       "<Figure size 432x288 with 4 Axes>"
      ]
     },
     "metadata": {
      "needs_background": "light"
     },
     "output_type": "display_data"
    },
    {
     "data": {
      "image/png": "[encoded data removed]",
      "text/plain": [
       "<Figure size 432x288 with 4 Axes>"
      ]
     },
     "metadata": {
      "needs_background": "light"
     },
     "output_type": "display_data"
    },
    {
     "data": {
      "image/png": "[encoded data removed]",
      "text/plain": [
       "<Figure size 432x288 with 4 Axes>"
      ]
     },
     "metadata": {
      "needs_background": "light"
     },
     "output_type": "display_data"
    },
    {
     "data": {
      "image/png": "[encoded data removed]",
      "text/plain": [
       "<Figure size 432x288 with 4 Axes>"
      ]
     },
     "metadata": {
      "needs_background": "light"
     },
     "output_type": "display_data"
    },
    {
     "data": {
      "image/png": "[encoded data removed]",
      "text/plain": [
       "<Figure size 432x288 with 4 Axes>"
      ]
     },
     "metadata": {
      "needs_background": "light"
     },
     "output_type": "display_data"
    },
    {
     "data": {
      "image/png": "[encoded data removed]",
      "text/plain": [
       "<Figure size 432x288 with 4 Axes>"
      ]
     },
     "metadata": {
      "needs_background": "light"
     },
     "output_type": "display_data"
    },
    {
     "data": {
      "image/png": "[encoded data removed]",
      "text/plain": [
       "<Figure size 432x288 with 4 Axes>"
      ]
     },
     "metadata": {
      "needs_background": "light"
     },
     "output_type": "display_data"
    },
    {
     "data": {
      "image/png": "[encoded data removed]",
      "text/plain": [
       "<Figure size 432x288 with 4 Axes>"
      ]
     },
     "metadata": {
      "needs_background": "light"
     },
     "output_type": "display_data"
    },
    {
     "data": {
      "image/png": "[encoded data removed]",
      "text/plain": [
       "<Figure size 432x288 with 4 Axes>"
      ]
     },
     "metadata": {
      "needs_background": "light"
     },
     "output_type": "display_data"
    }
   ],
   "source": [
    "\n",
    "\n",
    "strategies = opt.derive_iterative_strategies(strat_simple, 10)\n",
    "strategies"
   ]
  },
  {
   "cell_type": "code",
   "execution_count": 47,
   "id": "continent-little",
   "metadata": {
    "ExecuteTime": {
     "end_time": "2021-07-25T02:35:24.689490Z",
     "start_time": "2021-07-25T02:35:24.677785Z"
    }
   },
   "outputs": [],
   "source": [
    "with open('strategies.pickle', 'wb') as handle:\n",
    "    pickle.dump(strategies, handle, protocol=pickle.HIGHEST_PROTOCOL)"
   ]
  },
  {
   "cell_type": "code",
   "execution_count": 44,
   "id": "lucky-account",
   "metadata": {
    "ExecuteTime": {
     "end_time": "2021-07-25T02:35:24.667697Z",
     "start_time": "2021-07-25T02:31:45.088012Z"
    }
   },
   "outputs": [
    {
     "data": {
      "text/plain": [
       "(  strategy hand_start  dealer_card    hand_end    dealer_hand  \\\n",
       " 0   simple     [3, 8]            2  [3, 8, 13]  [2, 2, 5, 12]   \n",
       " 1  iter(1)     [3, 8]            2   [3, 8, 1]  [2, 2, 5, 12]   \n",
       " 2  iter(2)     [3, 8]            2   [3, 8, 1]  [2, 2, 5, 12]   \n",
       " 3  iter(3)     [3, 8]            2  [3, 8, 10]  [2, 2, 5, 12]   \n",
       " 4  iter(4)     [3, 8]            2  [3, 8, 13]  [2, 2, 5, 12]   \n",
       " 5  iter(5)     [3, 8]            2   [3, 8, 3]  [2, 2, 5, 12]   \n",
       " 6  iter(6)     [3, 8]            2   [3, 8, 4]  [2, 2, 5, 12]   \n",
       " 7  iter(7)     [3, 8]            2   [3, 8, 9]  [2, 2, 5, 12]   \n",
       " 8  iter(8)     [3, 8]            2  [3, 8, 13]  [2, 2, 5, 12]   \n",
       " 9  iter(9)     [3, 8]            2   [3, 8, 2]  [2, 2, 5, 12]   \n",
       " \n",
       "                    outcome  outcome_value outcome_name  \n",
       " 0   HandOutcome.WIN_DOUBLE            2.0   WIN_DOUBLE  \n",
       " 1  HandOutcome.LOSE_DOUBLE           -2.0  LOSE_DOUBLE  \n",
       " 2  HandOutcome.LOSE_DOUBLE           -2.0  LOSE_DOUBLE  \n",
       " 3   HandOutcome.WIN_DOUBLE            2.0   WIN_DOUBLE  \n",
       " 4   HandOutcome.WIN_DOUBLE            2.0   WIN_DOUBLE  \n",
       " 5  HandOutcome.LOSE_DOUBLE           -2.0  LOSE_DOUBLE  \n",
       " 6  HandOutcome.LOSE_DOUBLE           -2.0  LOSE_DOUBLE  \n",
       " 7   HandOutcome.WIN_DOUBLE            2.0   WIN_DOUBLE  \n",
       " 8   HandOutcome.WIN_DOUBLE            2.0   WIN_DOUBLE  \n",
       " 9  HandOutcome.LOSE_DOUBLE           -2.0  LOSE_DOUBLE  ,\n",
       "                    len                                                \\\n",
       " outcome_name BLACKJACK    LOSE LOSE_DOUBLE   PUSH     WIN WIN_DOUBLE   \n",
       " strategy                                                               \n",
       " iter(1)          45052  462375       33615  77691  341874      39393   \n",
       " iter(10)         45052  460888       23612  83235  350006      37207   \n",
       " iter(2)          45052  465337       24571  81277  349353      34410   \n",
       " iter(3)          45052  459331       28963  81304  346125      39225   \n",
       " iter(4)          45052  463547       21034  82676  354557      33134   \n",
       " iter(5)          45052  462623       20951  85526  351618      34230   \n",
       " iter(6)          45052  463325       20960  84245  352598      33820   \n",
       " iter(7)          45052  462722       22523  82954  351082      35667   \n",
       " iter(8)          45052  461498       22179  83364  352345      35562   \n",
       " iter(9)          45052  460344       23447  83455  350446      37256   \n",
       " simple           45052  467045       18853  87041  356650      25359   \n",
       " \n",
       "              mean_outcome  \n",
       " outcome_name               \n",
       " strategy                   \n",
       " iter(1)         -0.041367  \n",
       " iter(10)        -0.016114  \n",
       " iter(2)         -0.028728  \n",
       " iter(3)         -0.025104  \n",
       " iter(4)         -0.017212  \n",
       " iter(5)         -0.016869  \n",
       " iter(6)         -0.017429  \n",
       " iter(7)         -0.017774  \n",
       " iter(8)         -0.014809  \n",
       " iter(9)         -0.014702  \n",
       " simple          -0.029805  )"
      ]
     },
     "execution_count": 44,
     "metadata": {},
     "output_type": "execute_result"
    }
   ],
   "source": [
    "sims = sim.run_n_sim_trials(strategies, 1000*1000)\n",
    "sims.head(10), sim.summarize_totals(sims)"
   ]
  },
  {
   "cell_type": "code",
   "execution_count": null,
   "id": "earned-latin",
   "metadata": {},
   "outputs": [],
   "source": []
  }
 ],
 "metadata": {
  "kernelspec": {
   "display_name": "Python 3",
   "language": "python",
   "name": "python3"
  },
  "language_info": {
   "codemirror_mode": {
    "name": "ipython",
    "version": 3
   },
   "file_extension": ".py",
   "mimetype": "text/x-python",
   "name": "python",
   "nbconvert_exporter": "python",
   "pygments_lexer": "ipython3",
   "version": "3.8.8"
  }
 },
 "nbformat": 4,
 "nbformat_minor": 5
}
