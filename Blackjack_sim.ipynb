{
 "cells": [
  {
   "cell_type": "code",
   "execution_count": 1,
   "id": "middle-scenario",
   "metadata": {
    "ExecuteTime": {
     "end_time": "2021-07-24T00:35:42.999608Z",
     "start_time": "2021-07-24T00:35:42.169071Z"
    }
   },
   "outputs": [],
   "source": [
    "import pandas as pd\n",
    "import matplotlib.pyplot as plt\n",
    "import seaborn as sns\n",
    "\n",
    "\n",
    "import blackjack as bj\n",
    "from blackjack import Hand, HandScore, Action, make_hand\n",
    "import simulator as sim"
   ]
  },
  {
   "cell_type": "code",
   "execution_count": 2,
   "id": "floating-forge",
   "metadata": {
    "ExecuteTime": {
     "end_time": "2021-07-24T00:35:43.003737Z",
     "start_time": "2021-07-24T00:35:43.000806Z"
    }
   },
   "outputs": [
    {
     "data": {
      "text/plain": [
       "s11"
      ]
     },
     "execution_count": 2,
     "metadata": {},
     "output_type": "execute_result"
    }
   ],
   "source": [
    "h = HandScore(11, True)\n",
    "h"
   ]
  },
  {
   "cell_type": "code",
   "execution_count": 3,
   "id": "pointed-judge",
   "metadata": {
    "ExecuteTime": {
     "end_time": "2021-07-24T00:35:43.006947Z",
     "start_time": "2021-07-24T00:35:43.004948Z"
    }
   },
   "outputs": [
    {
     "data": {
      "text/plain": [
       "s21"
      ]
     },
     "execution_count": 3,
     "metadata": {},
     "output_type": "execute_result"
    }
   ],
   "source": [
    "h.add_card(10)"
   ]
  },
  {
   "cell_type": "code",
   "execution_count": 4,
   "id": "mounted-kernel",
   "metadata": {
    "ExecuteTime": {
     "end_time": "2021-07-24T00:35:43.011062Z",
     "start_time": "2021-07-24T00:35:43.008035Z"
    }
   },
   "outputs": [
    {
     "data": {
      "text/plain": [
       "h21"
      ]
     },
     "execution_count": 4,
     "metadata": {},
     "output_type": "execute_result"
    }
   ],
   "source": [
    "h.add_card(10).add_card(10)"
   ]
  },
  {
   "cell_type": "code",
   "execution_count": 5,
   "id": "static-printer",
   "metadata": {
    "ExecuteTime": {
     "end_time": "2021-07-24T00:35:43.015242Z",
     "start_time": "2021-07-24T00:35:43.012550Z"
    }
   },
   "outputs": [
    {
     "data": {
      "text/plain": [
       "s11"
      ]
     },
     "execution_count": 5,
     "metadata": {},
     "output_type": "execute_result"
    }
   ],
   "source": [
    "h"
   ]
  },
  {
   "cell_type": "code",
   "execution_count": 6,
   "id": "turkish-state",
   "metadata": {
    "ExecuteTime": {
     "end_time": "2021-07-24T00:35:43.019169Z",
     "start_time": "2021-07-24T00:35:43.016322Z"
    }
   },
   "outputs": [
    {
     "data": {
      "text/plain": [
       "s14"
      ]
     },
     "execution_count": 6,
     "metadata": {},
     "output_type": "execute_result"
    }
   ],
   "source": [
    "h.add_card(3)"
   ]
  },
  {
   "cell_type": "code",
   "execution_count": 7,
   "id": "cubic-object",
   "metadata": {
    "ExecuteTime": {
     "end_time": "2021-07-24T00:35:43.022523Z",
     "start_time": "2021-07-24T00:35:43.020234Z"
    }
   },
   "outputs": [
    {
     "data": {
      "text/plain": [
       "h14"
      ]
     },
     "execution_count": 7,
     "metadata": {},
     "output_type": "execute_result"
    }
   ],
   "source": [
    "h.add_card(3).add_card(10)"
   ]
  },
  {
   "cell_type": "code",
   "execution_count": 8,
   "id": "afraid-bristol",
   "metadata": {
    "ExecuteTime": {
     "end_time": "2021-07-24T00:35:43.027693Z",
     "start_time": "2021-07-24T00:35:43.024859Z"
    }
   },
   "outputs": [
    {
     "data": {
      "text/plain": [
       "[h00,\n",
       " h01,\n",
       " h02,\n",
       " h03,\n",
       " h04,\n",
       " h05,\n",
       " h06,\n",
       " h07,\n",
       " h08,\n",
       " h09,\n",
       " h10,\n",
       " h11,\n",
       " h12,\n",
       " h13,\n",
       " h14,\n",
       " h15,\n",
       " h16,\n",
       " h17,\n",
       " h18,\n",
       " h19,\n",
       " h20,\n",
       " h21,\n",
       " h22,\n",
       " s11,\n",
       " s12,\n",
       " s13,\n",
       " s14,\n",
       " s15,\n",
       " s16,\n",
       " s17,\n",
       " s18,\n",
       " s19,\n",
       " s20,\n",
       " s21]"
      ]
     },
     "execution_count": 8,
     "metadata": {},
     "output_type": "execute_result"
    }
   ],
   "source": [
    "all_scores = [HandScore(i, False) for i in range(0, 23)] + [HandScore(i, True) for i in range(11, 22)]\n",
    "all_scores"
   ]
  },
  {
   "cell_type": "code",
   "execution_count": 9,
   "id": "initial-harrison",
   "metadata": {
    "ExecuteTime": {
     "end_time": "2021-07-24T00:35:43.032051Z",
     "start_time": "2021-07-24T00:35:43.029685Z"
    }
   },
   "outputs": [
    {
     "data": {
      "text/plain": [
       "Hand(score=h00, cards=[], doubled=False, drawn=False)"
      ]
     },
     "execution_count": 9,
     "metadata": {},
     "output_type": "execute_result"
    }
   ],
   "source": [
    "h = Hand()\n",
    "h"
   ]
  },
  {
   "cell_type": "code",
   "execution_count": 10,
   "id": "reduced-cover",
   "metadata": {
    "ExecuteTime": {
     "end_time": "2021-07-24T00:35:43.036406Z",
     "start_time": "2021-07-24T00:35:43.033915Z"
    }
   },
   "outputs": [
    {
     "data": {
      "text/plain": [
       "Hand(score=h06, cards=[6], doubled=False, drawn=False)"
      ]
     },
     "execution_count": 10,
     "metadata": {},
     "output_type": "execute_result"
    }
   ],
   "source": [
    "h.add_card(6) # start a hand with a 6"
   ]
  },
  {
   "cell_type": "code",
   "execution_count": 11,
   "id": "aging-green",
   "metadata": {
    "ExecuteTime": {
     "end_time": "2021-07-24T00:35:43.039878Z",
     "start_time": "2021-07-24T00:35:43.037402Z"
    }
   },
   "outputs": [
    {
     "data": {
      "text/plain": [
       "Hand(score=h16, cards=[6, 11], doubled=False, drawn=False)"
      ]
     },
     "execution_count": 11,
     "metadata": {},
     "output_type": "execute_result"
    }
   ],
   "source": [
    "h.add_card(11) # show that J (11) counts as 10 points"
   ]
  },
  {
   "cell_type": "code",
   "execution_count": 12,
   "id": "humanitarian-chair",
   "metadata": {
    "ExecuteTime": {
     "end_time": "2021-07-24T00:35:43.043472Z",
     "start_time": "2021-07-24T00:35:43.041058Z"
    }
   },
   "outputs": [
    {
     "data": {
      "text/plain": [
       "(Hand(score=h22, cards=[6, 11, 7], doubled=False, drawn=False), True)"
      ]
     },
     "execution_count": 12,
     "metadata": {},
     "output_type": "execute_result"
    }
   ],
   "source": [
    "h.add_card(7), bj.is_busted(h) # bust (show that 23 is counted as 22)"
   ]
  },
  {
   "cell_type": "code",
   "execution_count": 13,
   "id": "accompanied-perspective",
   "metadata": {
    "ExecuteTime": {
     "end_time": "2021-07-24T00:35:43.047634Z",
     "start_time": "2021-07-24T00:35:43.045123Z"
    }
   },
   "outputs": [
    {
     "data": {
      "text/plain": [
       "Hand(score=s11, cards=[1], doubled=False, drawn=False)"
      ]
     },
     "execution_count": 13,
     "metadata": {},
     "output_type": "execute_result"
    }
   ],
   "source": [
    "# OK, now let's try another hand with aces\n",
    "h = Hand()\n",
    "h.add_card(1) # should be a soft 11"
   ]
  },
  {
   "cell_type": "code",
   "execution_count": 14,
   "id": "exotic-checkout",
   "metadata": {
    "ExecuteTime": {
     "end_time": "2021-07-24T00:35:43.054595Z",
     "start_time": "2021-07-24T00:35:43.049648Z"
    }
   },
   "outputs": [
    {
     "data": {
      "text/plain": [
       "Hand(score=s12, cards=[1, 1], doubled=False, drawn=False)"
      ]
     },
     "execution_count": 14,
     "metadata": {},
     "output_type": "execute_result"
    }
   ],
   "source": [
    "h.add_card(1) # two aces: should be a soft 12"
   ]
  },
  {
   "cell_type": "code",
   "execution_count": 15,
   "id": "italian-beads",
   "metadata": {
    "ExecuteTime": {
     "end_time": "2021-07-24T00:35:43.058149Z",
     "start_time": "2021-07-24T00:35:43.055580Z"
    }
   },
   "outputs": [
    {
     "data": {
      "text/plain": [
       "Hand(score=h12, cards=[1, 1, 11], doubled=False, drawn=False)"
      ]
     },
     "execution_count": 15,
     "metadata": {},
     "output_type": "execute_result"
    }
   ],
   "source": [
    "h.add_card(11) # two aces and a J: should be a hard 12"
   ]
  },
  {
   "cell_type": "code",
   "execution_count": 16,
   "id": "neutral-sugar",
   "metadata": {
    "ExecuteTime": {
     "end_time": "2021-07-24T00:35:43.062803Z",
     "start_time": "2021-07-24T00:35:43.059142Z"
    }
   },
   "outputs": [
    {
     "data": {
      "text/plain": [
       "(Hand(score=s21, cards=[1, 10], doubled=False, drawn=False), True)"
      ]
     },
     "execution_count": 16,
     "metadata": {},
     "output_type": "execute_result"
    }
   ],
   "source": [
    "# OK, now let's try another hand with a blackjack\n",
    "h = Hand()\n",
    "h.add_card(1) # should be a soft 11\n",
    "h.add_card(10)\n",
    "h, bj.is_blackjack(h)"
   ]
  },
  {
   "cell_type": "markdown",
   "id": "dental-kelly",
   "metadata": {},
   "source": [
    "## Now define gameplay and strategy"
   ]
  },
  {
   "cell_type": "code",
   "execution_count": 17,
   "id": "secondary-crown",
   "metadata": {
    "ExecuteTime": {
     "end_time": "2021-07-24T00:35:43.066564Z",
     "start_time": "2021-07-24T00:35:43.063891Z"
    }
   },
   "outputs": [
    {
     "data": {
      "text/plain": [
       "[13, 8, 6, 3, 11, 3, 6, 11, 4, 5]"
      ]
     },
     "execution_count": 17,
     "metadata": {},
     "output_type": "execute_result"
    }
   ],
   "source": [
    "[bj.deal_card() for _ in range(10)]"
   ]
  },
  {
   "cell_type": "code",
   "execution_count": 18,
   "id": "atomic-plaintiff",
   "metadata": {
    "ExecuteTime": {
     "end_time": "2021-07-24T00:35:43.070379Z",
     "start_time": "2021-07-24T00:35:43.067675Z"
    }
   },
   "outputs": [
    {
     "data": {
      "text/plain": [
       "[('strat_nobust',\n",
       "  Hand(score=h17, cards=[13, 7], doubled=False, drawn=False),\n",
       "  Hand(score=h22, cards=[6, 10, 13], doubled=False, drawn=True),\n",
       "  <HandOutcome.WIN: 1>),\n",
       " ('strat_nobust',\n",
       "  Hand(score=h17, cards=[13, 7], doubled=False, drawn=False),\n",
       "  Hand(score=h22, cards=[6, 10, 13], doubled=False, drawn=True),\n",
       "  <HandOutcome.WIN: 1>)]"
      ]
     },
     "execution_count": 18,
     "metadata": {},
     "output_type": "execute_result"
    }
   ],
   "source": [
    "bj.play_one_round([bj.strat_nobust, bj.strat_nobust])"
   ]
  },
  {
   "cell_type": "markdown",
   "id": "looking-jewelry",
   "metadata": {},
   "source": [
    "## Aggregate and summarize the data from the simulations"
   ]
  },
  {
   "cell_type": "code",
   "execution_count": 19,
   "id": "juvenile-joshua",
   "metadata": {
    "ExecuteTime": {
     "end_time": "2021-07-24T00:35:43.075635Z",
     "start_time": "2021-07-24T00:35:43.071541Z"
    }
   },
   "outputs": [
    {
     "data": {
      "text/plain": [
       "[{'strategy': 'strat_nobust',\n",
       "  'hand_start': [7, 10],\n",
       "  'dealer_card': 10,\n",
       "  'hand_end': [7, 10],\n",
       "  'dealer_hand': [10, 4, 6],\n",
       "  'outcome': <HandOutcome.LOSE: -1>},\n",
       " {'strategy': 'strat_dealer',\n",
       "  'hand_start': [7, 10],\n",
       "  'dealer_card': 10,\n",
       "  'hand_end': [7, 10],\n",
       "  'dealer_hand': [10, 4, 6],\n",
       "  'outcome': <HandOutcome.LOSE: -1>}]"
      ]
     },
     "execution_count": 19,
     "metadata": {},
     "output_type": "execute_result"
    }
   ],
   "source": [
    "\n",
    "\n",
    "strat_nobust = bj.strat_nobust\n",
    "strat_dealer = bj.strat_dealer\n",
    "sim.generate_rows_from_round(bj.play_one_round([bj.strat_nobust, bj.strat_dealer]))\n"
   ]
  },
  {
   "cell_type": "code",
   "execution_count": 20,
   "id": "approved-broadway",
   "metadata": {
    "ExecuteTime": {
     "end_time": "2021-07-24T00:35:43.374725Z",
     "start_time": "2021-07-24T00:35:43.076924Z"
    }
   },
   "outputs": [],
   "source": [
    "\n",
    "\n",
    "sim_results = sim.run_n_sim_trials([strat_nobust, strat_dealer], 10000)\n",
    "#%prun -s cumulative sim_results, sim.summarize_totals(sim_results)"
   ]
  },
  {
   "cell_type": "code",
   "execution_count": 21,
   "id": "varied-devil",
   "metadata": {
    "ExecuteTime": {
     "end_time": "2021-07-24T00:35:43.428284Z",
     "start_time": "2021-07-24T00:35:43.375942Z"
    }
   },
   "outputs": [
    {
     "data": {
      "text/plain": [
       "(  strategy hand_start  dealer_card     hand_end    dealer_hand  \\\n",
       " 0   simple   [11, 11]            1     [11, 11]  [1, 4, 13, 4]   \n",
       " 1   simple    [8, 12]            2      [8, 12]     [2, 8, 11]   \n",
       " 2   simple   [13, 13]            1     [13, 13]         [1, 9]   \n",
       " 3   simple   [12, 13]            2     [12, 13]  [2, 10, 2, 3]   \n",
       " 4   simple    [10, 2]            3      [10, 2]  [3, 9, 4, 12]   \n",
       " 5   simple    [1, 10]            1      [1, 10]  [1, 2, 6, 10]   \n",
       " 6   simple     [8, 9]           11       [8, 9]     [11, 2, 6]   \n",
       " 7   simple    [13, 1]            9      [13, 1]         [9, 8]   \n",
       " 8   simple    [12, 4]           12  [12, 4, 10]       [12, 13]   \n",
       " 9   simple     [6, 5]           13    [6, 5, 6]     [13, 6, 1]   \n",
       " \n",
       "                  outcome  outcome_value outcome_name  \n",
       " 0        HandOutcome.WIN            1.0          WIN  \n",
       " 1       HandOutcome.LOSE           -1.0         LOSE  \n",
       " 2       HandOutcome.PUSH            0.0         PUSH  \n",
       " 3        HandOutcome.WIN            1.0          WIN  \n",
       " 4        HandOutcome.WIN            1.0          WIN  \n",
       " 5  HandOutcome.BLACKJACK            1.5    BLACKJACK  \n",
       " 6       HandOutcome.LOSE           -1.0         LOSE  \n",
       " 7  HandOutcome.BLACKJACK            1.5    BLACKJACK  \n",
       " 8       HandOutcome.LOSE           -1.0         LOSE  \n",
       " 9       HandOutcome.PUSH            0.0         PUSH  ,\n",
       "                    len                                       mean_outcome\n",
       " outcome_name BLACKJACK LOSE LOSE_DOUBLE PUSH  WIN WIN_DOUBLE             \n",
       " strategy                                                                 \n",
       " simple              58  443          17   92  367         23        0.023)"
      ]
     },
     "execution_count": 21,
     "metadata": {},
     "output_type": "execute_result"
    }
   ],
   "source": [
    "def strat_simple(score_p, score_d):\n",
    "    if score_p.points == 11:  return Action.DOUBLE\n",
    "    if score_p.points >= 17:  return Action.STAND\n",
    "    if score_p.points <= 11:  return Action.HIT\n",
    "    if score_d.points in (range(3,7)):  return Action.STAND\n",
    "    else:  return Action.HIT\n",
    "        \n",
    "strat_simple.name = 'simple'\n",
    "\n",
    "\n",
    "sims = sim.run_n_sim_trials([strat_simple], 1000)\n",
    "sims.head(10), sim.summarize_totals(sims)"
   ]
  },
  {
   "cell_type": "code",
   "execution_count": 22,
   "id": "confirmed-passing",
   "metadata": {
    "ExecuteTime": {
     "end_time": "2021-07-24T00:35:44.276027Z",
     "start_time": "2021-07-24T00:35:43.429739Z"
    }
   },
   "outputs": [
    {
     "name": "stdout",
     "output_type": "stream",
     "text": [
      " "
     ]
    }
   ],
   "source": [
    "%prun -s cumulative sim.summarize_totals(sim.run_n_sim_trials([strat_dealer, strat_nobust, strat_simple], 10000))\n"
   ]
  },
  {
   "cell_type": "markdown",
   "id": "fluid-writing",
   "metadata": {},
   "source": [
    "## Simulate specific situations to determine strategy"
   ]
  },
  {
   "cell_type": "code",
   "execution_count": 23,
   "id": "otherwise-sheffield",
   "metadata": {
    "ExecuteTime": {
     "end_time": "2021-07-24T00:35:44.282080Z",
     "start_time": "2021-07-24T00:35:44.280013Z"
    }
   },
   "outputs": [
    {
     "data": {
      "text/plain": [
       "(Hand(score=h12, cards=[5, 7], doubled=False, drawn=False),\n",
       " Hand(score=h02, cards=[2], doubled=False, drawn=False))"
      ]
     },
     "execution_count": 23,
     "metadata": {},
     "output_type": "execute_result"
    }
   ],
   "source": [
    "# 12 vs deuce\n",
    "\n",
    "hand_p = make_hand([5, 7])\n",
    "hand_d = make_hand([2])\n",
    "\n",
    "hand_p, hand_d"
   ]
  },
  {
   "cell_type": "code",
   "execution_count": 24,
   "id": "gross-kennedy",
   "metadata": {
    "ExecuteTime": {
     "end_time": "2021-07-24T00:35:44.286189Z",
     "start_time": "2021-07-24T00:35:44.283755Z"
    }
   },
   "outputs": [
    {
     "data": {
      "text/plain": [
       "<function simulator.generate_strat_conditional.<locals>.strat_cond(score_p, score_d)>"
      ]
     },
     "execution_count": 24,
     "metadata": {},
     "output_type": "execute_result"
    }
   ],
   "source": [
    "# Implement a strategy that composes conditions and actions\n",
    "\n",
    "def cond_12_2(score_p, score_d):\n",
    "    return score_p.points == 12 and score_d.points == 2 and not score_p.soft\n",
    "conditions = [(cond_12_2, Action.STAND)]\n",
    "\n",
    "\n",
    "    \n",
    "strat_cond = sim.generate_strat_conditional(strat_simple, conditions)\n",
    "strat_cond"
   ]
  },
  {
   "cell_type": "code",
   "execution_count": 25,
   "id": "virgin-mining",
   "metadata": {
    "ExecuteTime": {
     "end_time": "2021-07-24T00:35:44.289156Z",
     "start_time": "2021-07-24T00:35:44.287028Z"
    }
   },
   "outputs": [
    {
     "data": {
      "text/plain": [
       "[<function simulator.generate_strat_conditional.<locals>.strat_cond(score_p, score_d)>,\n",
       " <function simulator.generate_strat_conditional.<locals>.strat_cond(score_p, score_d)>,\n",
       " <function simulator.generate_strat_conditional.<locals>.strat_cond(score_p, score_d)>]"
      ]
     },
     "execution_count": 25,
     "metadata": {},
     "output_type": "execute_result"
    }
   ],
   "source": [
    "# Generate a conditional strategy for each action\n",
    "    \n",
    "strats = sim.gen_cond_strategies(strat_simple, cond_12_2, [Action.HIT, Action.STAND, Action.DOUBLE])\n",
    "strats"
   ]
  },
  {
   "cell_type": "code",
   "execution_count": 26,
   "id": "acoustic-warrant",
   "metadata": {
    "ExecuteTime": {
     "end_time": "2021-07-24T00:35:44.292105Z",
     "start_time": "2021-07-24T00:35:44.289892Z"
    }
   },
   "outputs": [
    {
     "data": {
      "text/plain": [
       "[('<Action.HIT: 2>',\n",
       "  Hand(score=h21, cards=[5, 7, 9], doubled=False, drawn=True),\n",
       "  Hand(score=h17, cards=[2, 13, 5], doubled=False, drawn=True),\n",
       "  <HandOutcome.WIN: 1>),\n",
       " ('<Action.STAND: 1>',\n",
       "  Hand(score=h12, cards=[5, 7], doubled=False, drawn=False),\n",
       "  Hand(score=h17, cards=[2, 13, 5], doubled=False, drawn=True),\n",
       "  <HandOutcome.LOSE: -1>),\n",
       " ('<Action.DOUBLE: 3>',\n",
       "  Hand(score=h22, cards=[5, 7, 13], doubled=True, drawn=True),\n",
       "  Hand(score=h17, cards=[2, 13, 5], doubled=False, drawn=True),\n",
       "  <HandOutcome.LOSE_DOUBLE: -2>)]"
      ]
     },
     "execution_count": 26,
     "metadata": {},
     "output_type": "execute_result"
    }
   ],
   "source": [
    "bj.complete_one_round(strats, hand_p, hand_d, bj.deal_card())"
   ]
  },
  {
   "cell_type": "code",
   "execution_count": 27,
   "id": "economic-greene",
   "metadata": {
    "ExecuteTime": {
     "end_time": "2021-07-24T00:35:44.716716Z",
     "start_time": "2021-07-24T00:35:44.292939Z"
    }
   },
   "outputs": [
    {
     "data": {
      "text/html": [
       "<div>\n",
       "<style scoped>\n",
       "    .dataframe tbody tr th:only-of-type {\n",
       "        vertical-align: middle;\n",
       "    }\n",
       "\n",
       "    .dataframe tbody tr th {\n",
       "        vertical-align: top;\n",
       "    }\n",
       "\n",
       "    .dataframe thead tr th {\n",
       "        text-align: left;\n",
       "    }\n",
       "\n",
       "    .dataframe thead tr:last-of-type th {\n",
       "        text-align: right;\n",
       "    }\n",
       "</style>\n",
       "<table border=\"1\" class=\"dataframe\">\n",
       "  <thead>\n",
       "    <tr>\n",
       "      <th></th>\n",
       "      <th colspan=\"5\" halign=\"left\">len</th>\n",
       "      <th>mean_outcome</th>\n",
       "    </tr>\n",
       "    <tr>\n",
       "      <th>outcome_name</th>\n",
       "      <th>LOSE</th>\n",
       "      <th>LOSE_DOUBLE</th>\n",
       "      <th>PUSH</th>\n",
       "      <th>WIN</th>\n",
       "      <th>WIN_DOUBLE</th>\n",
       "      <th></th>\n",
       "    </tr>\n",
       "    <tr>\n",
       "      <th>strategy</th>\n",
       "      <th></th>\n",
       "      <th></th>\n",
       "      <th></th>\n",
       "      <th></th>\n",
       "      <th></th>\n",
       "      <th></th>\n",
       "    </tr>\n",
       "  </thead>\n",
       "  <tbody>\n",
       "    <tr>\n",
       "      <th>&lt;Action.DOUBLE: 3&gt;</th>\n",
       "      <td>0</td>\n",
       "      <td>5984</td>\n",
       "      <td>473</td>\n",
       "      <td>0</td>\n",
       "      <td>3543</td>\n",
       "      <td>-0.4882</td>\n",
       "    </tr>\n",
       "    <tr>\n",
       "      <th>&lt;Action.HIT: 2&gt;</th>\n",
       "      <td>5965</td>\n",
       "      <td>0</td>\n",
       "      <td>677</td>\n",
       "      <td>3358</td>\n",
       "      <td>0</td>\n",
       "      <td>-0.2607</td>\n",
       "    </tr>\n",
       "    <tr>\n",
       "      <th>&lt;Action.STAND: 1&gt;</th>\n",
       "      <td>6337</td>\n",
       "      <td>0</td>\n",
       "      <td>0</td>\n",
       "      <td>3663</td>\n",
       "      <td>0</td>\n",
       "      <td>-0.2674</td>\n",
       "    </tr>\n",
       "  </tbody>\n",
       "</table>\n",
       "</div>"
      ],
      "text/plain": [
       "                     len                                   mean_outcome\n",
       "outcome_name        LOSE LOSE_DOUBLE PUSH   WIN WIN_DOUBLE             \n",
       "strategy                                                               \n",
       "<Action.DOUBLE: 3>     0        5984  473     0       3543      -0.4882\n",
       "<Action.HIT: 2>     5965           0  677  3358          0      -0.2607\n",
       "<Action.STAND: 1>   6337           0    0  3663          0      -0.2674"
      ]
     },
     "execution_count": 27,
     "metadata": {},
     "output_type": "execute_result"
    }
   ],
   "source": [
    "\n",
    "\n",
    "sims = sim.run_n_sim_trials_from_state(strats, hand_p, hand_d, 10000)\n",
    "sim.summarize_totals(sims)"
   ]
  },
  {
   "cell_type": "code",
   "execution_count": 28,
   "id": "institutional-grain",
   "metadata": {
    "ExecuteTime": {
     "end_time": "2021-07-24T00:35:44.719839Z",
     "start_time": "2021-07-24T00:35:44.717676Z"
    }
   },
   "outputs": [
    {
     "data": {
      "text/plain": [
       "(Hand(score=s12, cards=[1, 1], doubled=False, drawn=False),\n",
       " Hand(score=h02, cards=[2], doubled=False, drawn=False))"
      ]
     },
     "execution_count": 28,
     "metadata": {},
     "output_type": "execute_result"
    }
   ],
   "source": [
    "# Soft 12 vs 2\n",
    "hand_12s = make_hand([1, 1])\n",
    "\n",
    "hand_12s, hand_d"
   ]
  },
  {
   "cell_type": "code",
   "execution_count": 29,
   "id": "legal-uniform",
   "metadata": {
    "ExecuteTime": {
     "end_time": "2021-07-24T00:35:44.723381Z",
     "start_time": "2021-07-24T00:35:44.720701Z"
    }
   },
   "outputs": [
    {
     "data": {
      "text/plain": [
       "[<function simulator.generate_strat_conditional.<locals>.strat_cond(score_p, score_d)>,\n",
       " <function simulator.generate_strat_conditional.<locals>.strat_cond(score_p, score_d)>,\n",
       " <function simulator.generate_strat_conditional.<locals>.strat_cond(score_p, score_d)>]"
      ]
     },
     "execution_count": 29,
     "metadata": {},
     "output_type": "execute_result"
    }
   ],
   "source": [
    "def cond_12s_2(score_p, score_d):\n",
    "    return score_p == HandScore(12, True) and score_d.points == 2\n",
    "\n",
    "strats = sim.gen_cond_strategies(strat_simple, cond_12s_2, [Action.HIT, Action.STAND, Action.DOUBLE])\n",
    "strats"
   ]
  },
  {
   "cell_type": "code",
   "execution_count": 30,
   "id": "british-logging",
   "metadata": {
    "ExecuteTime": {
     "end_time": "2021-07-24T00:35:45.415626Z",
     "start_time": "2021-07-24T00:35:44.724176Z"
    }
   },
   "outputs": [
    {
     "data": {
      "text/html": [
       "<div>\n",
       "<style scoped>\n",
       "    .dataframe tbody tr th:only-of-type {\n",
       "        vertical-align: middle;\n",
       "    }\n",
       "\n",
       "    .dataframe tbody tr th {\n",
       "        vertical-align: top;\n",
       "    }\n",
       "\n",
       "    .dataframe thead tr th {\n",
       "        text-align: left;\n",
       "    }\n",
       "\n",
       "    .dataframe thead tr:last-of-type th {\n",
       "        text-align: right;\n",
       "    }\n",
       "</style>\n",
       "<table border=\"1\" class=\"dataframe\">\n",
       "  <thead>\n",
       "    <tr>\n",
       "      <th></th>\n",
       "      <th colspan=\"5\" halign=\"left\">len</th>\n",
       "      <th>mean_outcome</th>\n",
       "    </tr>\n",
       "    <tr>\n",
       "      <th>outcome_name</th>\n",
       "      <th>LOSE</th>\n",
       "      <th>LOSE_DOUBLE</th>\n",
       "      <th>PUSH</th>\n",
       "      <th>WIN</th>\n",
       "      <th>WIN_DOUBLE</th>\n",
       "      <th></th>\n",
       "    </tr>\n",
       "    <tr>\n",
       "      <th>strategy</th>\n",
       "      <th></th>\n",
       "      <th></th>\n",
       "      <th></th>\n",
       "      <th></th>\n",
       "      <th></th>\n",
       "      <th></th>\n",
       "    </tr>\n",
       "  </thead>\n",
       "  <tbody>\n",
       "    <tr>\n",
       "      <th>&lt;Action.DOUBLE: 3&gt;</th>\n",
       "      <td>0</td>\n",
       "      <td>6326</td>\n",
       "      <td>0</td>\n",
       "      <td>0</td>\n",
       "      <td>3674</td>\n",
       "      <td>-0.5304</td>\n",
       "    </tr>\n",
       "    <tr>\n",
       "      <th>&lt;Action.HIT: 2&gt;</th>\n",
       "      <td>5252</td>\n",
       "      <td>0</td>\n",
       "      <td>786</td>\n",
       "      <td>3962</td>\n",
       "      <td>0</td>\n",
       "      <td>-0.1290</td>\n",
       "    </tr>\n",
       "    <tr>\n",
       "      <th>&lt;Action.STAND: 1&gt;</th>\n",
       "      <td>6326</td>\n",
       "      <td>0</td>\n",
       "      <td>0</td>\n",
       "      <td>3674</td>\n",
       "      <td>0</td>\n",
       "      <td>-0.2652</td>\n",
       "    </tr>\n",
       "    <tr>\n",
       "      <th>simple</th>\n",
       "      <td>5225</td>\n",
       "      <td>0</td>\n",
       "      <td>831</td>\n",
       "      <td>3944</td>\n",
       "      <td>0</td>\n",
       "      <td>-0.1281</td>\n",
       "    </tr>\n",
       "  </tbody>\n",
       "</table>\n",
       "</div>"
      ],
      "text/plain": [
       "                     len                                   mean_outcome\n",
       "outcome_name        LOSE LOSE_DOUBLE PUSH   WIN WIN_DOUBLE             \n",
       "strategy                                                               \n",
       "<Action.DOUBLE: 3>     0        6326    0     0       3674      -0.5304\n",
       "<Action.HIT: 2>     5252           0  786  3962          0      -0.1290\n",
       "<Action.STAND: 1>   6326           0    0  3674          0      -0.2652\n",
       "simple              5225           0  831  3944          0      -0.1281"
      ]
     },
     "execution_count": 30,
     "metadata": {},
     "output_type": "execute_result"
    }
   ],
   "source": [
    "sims = sim.run_n_sim_trials_from_state(strats+[strat_simple], hand_12s, hand_d, 10000)\n",
    "sim.summarize_totals(sims)"
   ]
  },
  {
   "cell_type": "code",
   "execution_count": 31,
   "id": "based-subscription",
   "metadata": {
    "ExecuteTime": {
     "end_time": "2021-07-24T00:35:45.708989Z",
     "start_time": "2021-07-24T00:35:45.416579Z"
    }
   },
   "outputs": [
    {
     "data": {
      "text/html": [
       "<div>\n",
       "<style scoped>\n",
       "    .dataframe tbody tr th:only-of-type {\n",
       "        vertical-align: middle;\n",
       "    }\n",
       "\n",
       "    .dataframe tbody tr th {\n",
       "        vertical-align: top;\n",
       "    }\n",
       "\n",
       "    .dataframe thead tr th {\n",
       "        text-align: left;\n",
       "    }\n",
       "\n",
       "    .dataframe thead tr:last-of-type th {\n",
       "        text-align: right;\n",
       "    }\n",
       "</style>\n",
       "<table border=\"1\" class=\"dataframe\">\n",
       "  <thead>\n",
       "    <tr>\n",
       "      <th></th>\n",
       "      <th colspan=\"3\" halign=\"left\">len</th>\n",
       "      <th>mean_outcome</th>\n",
       "    </tr>\n",
       "    <tr>\n",
       "      <th>outcome_name</th>\n",
       "      <th>LOSE</th>\n",
       "      <th>PUSH</th>\n",
       "      <th>WIN</th>\n",
       "      <th></th>\n",
       "    </tr>\n",
       "    <tr>\n",
       "      <th>strategy</th>\n",
       "      <th></th>\n",
       "      <th></th>\n",
       "      <th></th>\n",
       "      <th></th>\n",
       "    </tr>\n",
       "  </thead>\n",
       "  <tbody>\n",
       "    <tr>\n",
       "      <th>simple</th>\n",
       "      <td>6111</td>\n",
       "      <td>677</td>\n",
       "      <td>3212</td>\n",
       "      <td>-0.2899</td>\n",
       "    </tr>\n",
       "    <tr>\n",
       "      <th>strat_cond</th>\n",
       "      <td>6421</td>\n",
       "      <td>0</td>\n",
       "      <td>3579</td>\n",
       "      <td>-0.2842</td>\n",
       "    </tr>\n",
       "  </tbody>\n",
       "</table>\n",
       "</div>"
      ],
      "text/plain": [
       "               len            mean_outcome\n",
       "outcome_name  LOSE PUSH   WIN             \n",
       "strategy                                  \n",
       "simple        6111  677  3212      -0.2899\n",
       "strat_cond    6421    0  3579      -0.2842"
      ]
     },
     "execution_count": 31,
     "metadata": {},
     "output_type": "execute_result"
    }
   ],
   "source": [
    "sim.summarize_totals(sim.run_n_sim_trials_from_state([strat_simple, strat_cond], hand_p, hand_d, 10*1000))"
   ]
  },
  {
   "cell_type": "code",
   "execution_count": 32,
   "id": "vietnamese-spray",
   "metadata": {
    "ExecuteTime": {
     "end_time": "2021-07-24T00:35:46.277526Z",
     "start_time": "2021-07-24T00:35:45.710014Z"
    }
   },
   "outputs": [
    {
     "data": {
      "text/html": [
       "<div>\n",
       "<style scoped>\n",
       "    .dataframe tbody tr th:only-of-type {\n",
       "        vertical-align: middle;\n",
       "    }\n",
       "\n",
       "    .dataframe tbody tr th {\n",
       "        vertical-align: top;\n",
       "    }\n",
       "\n",
       "    .dataframe thead tr th {\n",
       "        text-align: left;\n",
       "    }\n",
       "\n",
       "    .dataframe thead tr:last-of-type th {\n",
       "        text-align: right;\n",
       "    }\n",
       "</style>\n",
       "<table border=\"1\" class=\"dataframe\">\n",
       "  <thead>\n",
       "    <tr>\n",
       "      <th></th>\n",
       "      <th colspan=\"5\" halign=\"left\">len</th>\n",
       "      <th>mean_outcome</th>\n",
       "    </tr>\n",
       "    <tr>\n",
       "      <th>outcome_name</th>\n",
       "      <th>LOSE</th>\n",
       "      <th>LOSE_DOUBLE</th>\n",
       "      <th>PUSH</th>\n",
       "      <th>WIN</th>\n",
       "      <th>WIN_DOUBLE</th>\n",
       "      <th></th>\n",
       "    </tr>\n",
       "    <tr>\n",
       "      <th>strategy</th>\n",
       "      <th></th>\n",
       "      <th></th>\n",
       "      <th></th>\n",
       "      <th></th>\n",
       "      <th></th>\n",
       "      <th></th>\n",
       "    </tr>\n",
       "  </thead>\n",
       "  <tbody>\n",
       "    <tr>\n",
       "      <th>&lt;Action.DOUBLE: 3&gt;</th>\n",
       "      <td>0</td>\n",
       "      <td>5767</td>\n",
       "      <td>0</td>\n",
       "      <td>0</td>\n",
       "      <td>4233</td>\n",
       "      <td>-0.3068</td>\n",
       "    </tr>\n",
       "    <tr>\n",
       "      <th>&lt;Action.HIT: 2&gt;</th>\n",
       "      <td>4852</td>\n",
       "      <td>0</td>\n",
       "      <td>306</td>\n",
       "      <td>4842</td>\n",
       "      <td>0</td>\n",
       "      <td>-0.0010</td>\n",
       "    </tr>\n",
       "    <tr>\n",
       "      <th>&lt;Action.STAND: 1&gt;</th>\n",
       "      <td>5767</td>\n",
       "      <td>0</td>\n",
       "      <td>0</td>\n",
       "      <td>4233</td>\n",
       "      <td>0</td>\n",
       "      <td>-0.1534</td>\n",
       "    </tr>\n",
       "    <tr>\n",
       "      <th>simple</th>\n",
       "      <td>5767</td>\n",
       "      <td>0</td>\n",
       "      <td>0</td>\n",
       "      <td>4233</td>\n",
       "      <td>0</td>\n",
       "      <td>-0.1534</td>\n",
       "    </tr>\n",
       "  </tbody>\n",
       "</table>\n",
       "</div>"
      ],
      "text/plain": [
       "                     len                                   mean_outcome\n",
       "outcome_name        LOSE LOSE_DOUBLE PUSH   WIN WIN_DOUBLE             \n",
       "strategy                                                               \n",
       "<Action.DOUBLE: 3>     0        5767    0     0       4233      -0.3068\n",
       "<Action.HIT: 2>     4852           0  306  4842          0      -0.0010\n",
       "<Action.STAND: 1>   5767           0    0  4233          0      -0.1534\n",
       "simple              5767           0    0  4233          0      -0.1534"
      ]
     },
     "execution_count": 32,
     "metadata": {},
     "output_type": "execute_result"
    }
   ],
   "source": [
    "# soft 13 vs 6\n",
    "def cond_13s_6(score_p, score_d):\n",
    "    return score_p == HandScore(13, True) and score_d.points == 6\n",
    "\n",
    "\n",
    "\n",
    "strats = sim.gen_cond_strategies(strat_simple, cond_13s_6, [Action.HIT, Action.STAND, Action.DOUBLE])\n",
    "sims = sim.run_n_sim_trials_from_state(strats+[strat_simple], bj.make_hand([1, 2]), bj.make_hand([6]), 10000)\n",
    "sim.summarize_totals(sims)"
   ]
  },
  {
   "cell_type": "code",
   "execution_count": 33,
   "id": "liable-painting",
   "metadata": {
    "ExecuteTime": {
     "end_time": "2021-07-24T00:35:46.785482Z",
     "start_time": "2021-07-24T00:35:46.278487Z"
    }
   },
   "outputs": [
    {
     "data": {
      "text/html": [
       "<div>\n",
       "<style scoped>\n",
       "    .dataframe tbody tr th:only-of-type {\n",
       "        vertical-align: middle;\n",
       "    }\n",
       "\n",
       "    .dataframe tbody tr th {\n",
       "        vertical-align: top;\n",
       "    }\n",
       "\n",
       "    .dataframe thead tr th {\n",
       "        text-align: left;\n",
       "    }\n",
       "\n",
       "    .dataframe thead tr:last-of-type th {\n",
       "        text-align: right;\n",
       "    }\n",
       "</style>\n",
       "<table border=\"1\" class=\"dataframe\">\n",
       "  <thead>\n",
       "    <tr>\n",
       "      <th></th>\n",
       "      <th colspan=\"5\" halign=\"left\">len</th>\n",
       "      <th>mean_outcome</th>\n",
       "    </tr>\n",
       "    <tr>\n",
       "      <th>outcome_name</th>\n",
       "      <th>LOSE</th>\n",
       "      <th>LOSE_DOUBLE</th>\n",
       "      <th>PUSH</th>\n",
       "      <th>WIN</th>\n",
       "      <th>WIN_DOUBLE</th>\n",
       "      <th></th>\n",
       "    </tr>\n",
       "    <tr>\n",
       "      <th>strategy</th>\n",
       "      <th></th>\n",
       "      <th></th>\n",
       "      <th></th>\n",
       "      <th></th>\n",
       "      <th></th>\n",
       "      <th></th>\n",
       "    </tr>\n",
       "  </thead>\n",
       "  <tbody>\n",
       "    <tr>\n",
       "      <th>&lt;Action.DOUBLE: 3&gt;</th>\n",
       "      <td>0</td>\n",
       "      <td>3171</td>\n",
       "      <td>671</td>\n",
       "      <td>0</td>\n",
       "      <td>6158</td>\n",
       "      <td>0.5974</td>\n",
       "    </tr>\n",
       "    <tr>\n",
       "      <th>&lt;Action.HIT: 2&gt;</th>\n",
       "      <td>3226</td>\n",
       "      <td>0</td>\n",
       "      <td>659</td>\n",
       "      <td>6115</td>\n",
       "      <td>0</td>\n",
       "      <td>0.2889</td>\n",
       "    </tr>\n",
       "    <tr>\n",
       "      <th>&lt;Action.STAND: 1&gt;</th>\n",
       "      <td>5799</td>\n",
       "      <td>0</td>\n",
       "      <td>0</td>\n",
       "      <td>4201</td>\n",
       "      <td>0</td>\n",
       "      <td>-0.1598</td>\n",
       "    </tr>\n",
       "    <tr>\n",
       "      <th>simple</th>\n",
       "      <td>3228</td>\n",
       "      <td>0</td>\n",
       "      <td>636</td>\n",
       "      <td>6136</td>\n",
       "      <td>0</td>\n",
       "      <td>0.2908</td>\n",
       "    </tr>\n",
       "  </tbody>\n",
       "</table>\n",
       "</div>"
      ],
      "text/plain": [
       "                     len                                   mean_outcome\n",
       "outcome_name        LOSE LOSE_DOUBLE PUSH   WIN WIN_DOUBLE             \n",
       "strategy                                                               \n",
       "<Action.DOUBLE: 3>     0        3171  671     0       6158       0.5974\n",
       "<Action.HIT: 2>     3226           0  659  6115          0       0.2889\n",
       "<Action.STAND: 1>   5799           0    0  4201          0      -0.1598\n",
       "simple              3228           0  636  6136          0       0.2908"
      ]
     },
     "execution_count": 33,
     "metadata": {},
     "output_type": "execute_result"
    }
   ],
   "source": [
    "# 10 v 6\n",
    "def cond_10_6(score_p, score_d):\n",
    "    return score_p.points == 10 and score_d.points == 6\n",
    "\n",
    "strats = sim.gen_cond_strategies(strat_simple, cond_10_6, [Action.HIT, Action.STAND, Action.DOUBLE])\n",
    "sims = sim.run_n_sim_trials_from_state(strats+[strat_simple], make_hand([5, 5]), make_hand([6]), 10000)\n",
    "sim.summarize_totals(sims)"
   ]
  },
  {
   "cell_type": "code",
   "execution_count": 34,
   "id": "serious-briefs",
   "metadata": {
    "ExecuteTime": {
     "end_time": "2021-07-24T00:35:47.203140Z",
     "start_time": "2021-07-24T00:35:46.786372Z"
    }
   },
   "outputs": [
    {
     "data": {
      "text/plain": [
       "(<function simulator.test_cond.<locals>.cond(p, d)>,\n",
       "                      len                                   mean_outcome\n",
       " outcome_name        LOSE LOSE_DOUBLE PUSH   WIN WIN_DOUBLE             \n",
       " strategy                                                               \n",
       " <Action.DOUBLE: 3>     0        3258  703     0       6039       0.5562\n",
       " <Action.HIT: 2>     3240           0  733  6027          0       0.2787\n",
       " <Action.STAND: 1>   5807           0    0  4193          0      -0.1614)"
      ]
     },
     "execution_count": 34,
     "metadata": {},
     "output_type": "execute_result"
    }
   ],
   "source": [
    "sim.test_cond(HandScore(10), HandScore(6), 10000, strat_simple)"
   ]
  },
  {
   "cell_type": "code",
   "execution_count": 35,
   "id": "square-binary",
   "metadata": {
    "ExecuteTime": {
     "end_time": "2021-07-24T00:35:47.224308Z",
     "start_time": "2021-07-24T00:35:47.204099Z"
    }
   },
   "outputs": [
    {
     "data": {
      "text/plain": [
       "(<function simulator.test_cond.<locals>.cond(p, d)>,\n",
       "                     len                                  mean_outcome\n",
       " outcome_name       LOSE LOSE_DOUBLE PUSH  WIN WIN_DOUBLE             \n",
       " strategy                                                             \n",
       " <Action.DOUBLE: 3>    0         148    7    0         45       -1.030\n",
       " <Action.HIT: 2>     158           0    5   37          0       -0.605\n",
       " <Action.STAND: 1>    66           0   22  112          0        0.230)"
      ]
     },
     "execution_count": 35,
     "metadata": {},
     "output_type": "execute_result"
    }
   ],
   "source": [
    "sim.test_cond(HandScore(18), HandScore(6), 200, strat_simple)"
   ]
  },
  {
   "cell_type": "code",
   "execution_count": 36,
   "id": "recent-harvey",
   "metadata": {
    "ExecuteTime": {
     "end_time": "2021-07-24T00:35:47.247161Z",
     "start_time": "2021-07-24T00:35:47.225338Z"
    }
   },
   "outputs": [
    {
     "data": {
      "text/plain": [
       "(<function simulator.test_cond.<locals>.cond(p, d)>,\n",
       "                     len                                  mean_outcome\n",
       " outcome_name       LOSE LOSE_DOUBLE PUSH  WIN WIN_DOUBLE             \n",
       " strategy                                                             \n",
       " <Action.DOUBLE: 3>    0          76   10    0        114        0.380\n",
       " <Action.HIT: 2>      61           0   17  122          0        0.305\n",
       " <Action.STAND: 1>     0           0   18  182          0        0.910)"
      ]
     },
     "execution_count": 36,
     "metadata": {},
     "output_type": "execute_result"
    }
   ],
   "source": [
    "sim.test_cond(HandScore(21, True), HandScore(6), 200, strat_simple)"
   ]
  },
  {
   "cell_type": "code",
   "execution_count": 37,
   "id": "manual-anime",
   "metadata": {
    "ExecuteTime": {
     "end_time": "2021-07-24T00:35:47.275636Z",
     "start_time": "2021-07-24T00:35:47.248246Z"
    }
   },
   "outputs": [
    {
     "data": {
      "text/plain": [
       "{'<Action.DOUBLE: 3>': 0.75,\n",
       " '<Action.HIT: 2>': 0.325,\n",
       " '<Action.STAND: 1>': -0.16,\n",
       " 'score_p': 'h10',\n",
       " 'score_d': 'h06',\n",
       " 'winning_act': <Action.DOUBLE: 3>,\n",
       " 'winning_act_outcome': 0.75}"
      ]
     },
     "execution_count": 37,
     "metadata": {},
     "output_type": "execute_result"
    }
   ],
   "source": [
    "\n",
    "sim.find_winning_action(HandScore(10), HandScore(6), 200)"
   ]
  },
  {
   "cell_type": "code",
   "execution_count": 38,
   "id": "supported-herald",
   "metadata": {
    "ExecuteTime": {
     "end_time": "2021-07-24T00:35:47.323795Z",
     "start_time": "2021-07-24T00:35:47.276627Z"
    }
   },
   "outputs": [
    {
     "data": {
      "text/plain": [
       "(<function simulator.test_cond.<locals>.cond(p, d)>,\n",
       "                     len                                  mean_outcome\n",
       " outcome_name       LOSE LOSE_DOUBLE PUSH  WIN WIN_DOUBLE             \n",
       " strategy                                                             \n",
       " <Action.DOUBLE: 3>    0         863   27    0        110       -1.506\n",
       " <Action.HIT: 2>     863           0   18  119          0       -0.744\n",
       " <Action.STAND: 1>   603           0  126  271          0       -0.332)"
      ]
     },
     "execution_count": 38,
     "metadata": {},
     "output_type": "execute_result"
    }
   ],
   "source": [
    "sim.test_cond(HandScore(18), HandScore(11, True), 1000)"
   ]
  },
  {
   "cell_type": "code",
   "execution_count": 39,
   "id": "behind-seattle",
   "metadata": {
    "ExecuteTime": {
     "end_time": "2021-07-24T00:35:51.306154Z",
     "start_time": "2021-07-24T00:35:47.324907Z"
    }
   },
   "outputs": [
    {
     "name": "stdout",
     "output_type": "stream",
     "text": [
      " "
     ]
    },
    {
     "data": {
      "text/html": [
       "<div>\n",
       "<style scoped>\n",
       "    .dataframe tbody tr th:only-of-type {\n",
       "        vertical-align: middle;\n",
       "    }\n",
       "\n",
       "    .dataframe tbody tr th {\n",
       "        vertical-align: top;\n",
       "    }\n",
       "\n",
       "    .dataframe thead th {\n",
       "        text-align: right;\n",
       "    }\n",
       "</style>\n",
       "<table border=\"1\" class=\"dataframe\">\n",
       "  <thead>\n",
       "    <tr style=\"text-align: right;\">\n",
       "      <th></th>\n",
       "      <th></th>\n",
       "      <th>&lt;Action.DOUBLE: 3&gt;</th>\n",
       "      <th>&lt;Action.HIT: 2&gt;</th>\n",
       "      <th>&lt;Action.STAND: 1&gt;</th>\n",
       "      <th>winning_act</th>\n",
       "      <th>winning_act_outcome</th>\n",
       "    </tr>\n",
       "    <tr>\n",
       "      <th>score_p</th>\n",
       "      <th>score_d</th>\n",
       "      <th></th>\n",
       "      <th></th>\n",
       "      <th></th>\n",
       "      <th></th>\n",
       "      <th></th>\n",
       "    </tr>\n",
       "  </thead>\n",
       "  <tbody>\n",
       "    <tr>\n",
       "      <th rowspan=\"5\" valign=\"top\">h09</th>\n",
       "      <th>s11</th>\n",
       "      <td>-0.3</td>\n",
       "      <td>0.150</td>\n",
       "      <td>-0.60</td>\n",
       "      <td>Action.HIT</td>\n",
       "      <td>0.15</td>\n",
       "    </tr>\n",
       "    <tr>\n",
       "      <th>h02</th>\n",
       "      <td>0.5</td>\n",
       "      <td>0.300</td>\n",
       "      <td>-0.10</td>\n",
       "      <td>Action.DOUBLE</td>\n",
       "      <td>0.50</td>\n",
       "    </tr>\n",
       "    <tr>\n",
       "      <th>h03</th>\n",
       "      <td>0.5</td>\n",
       "      <td>0.300</td>\n",
       "      <td>0.00</td>\n",
       "      <td>Action.DOUBLE</td>\n",
       "      <td>0.50</td>\n",
       "    </tr>\n",
       "    <tr>\n",
       "      <th>h04</th>\n",
       "      <td>0.0</td>\n",
       "      <td>-0.200</td>\n",
       "      <td>-0.60</td>\n",
       "      <td>Action.DOUBLE</td>\n",
       "      <td>0.00</td>\n",
       "    </tr>\n",
       "    <tr>\n",
       "      <th>h05</th>\n",
       "      <td>0.6</td>\n",
       "      <td>0.550</td>\n",
       "      <td>0.10</td>\n",
       "      <td>Action.DOUBLE</td>\n",
       "      <td>0.60</td>\n",
       "    </tr>\n",
       "    <tr>\n",
       "      <th>...</th>\n",
       "      <th>...</th>\n",
       "      <td>...</td>\n",
       "      <td>...</td>\n",
       "      <td>...</td>\n",
       "      <td>...</td>\n",
       "      <td>...</td>\n",
       "    </tr>\n",
       "    <tr>\n",
       "      <th rowspan=\"5\" valign=\"top\">s21</th>\n",
       "      <th>h06</th>\n",
       "      <td>0.4</td>\n",
       "      <td>0.150</td>\n",
       "      <td>0.95</td>\n",
       "      <td>Action.STAND</td>\n",
       "      <td>0.95</td>\n",
       "    </tr>\n",
       "    <tr>\n",
       "      <th>h07</th>\n",
       "      <td>0.6</td>\n",
       "      <td>0.400</td>\n",
       "      <td>0.95</td>\n",
       "      <td>Action.STAND</td>\n",
       "      <td>0.95</td>\n",
       "    </tr>\n",
       "    <tr>\n",
       "      <th>h08</th>\n",
       "      <td>0.3</td>\n",
       "      <td>0.375</td>\n",
       "      <td>0.95</td>\n",
       "      <td>Action.STAND</td>\n",
       "      <td>0.95</td>\n",
       "    </tr>\n",
       "    <tr>\n",
       "      <th>h09</th>\n",
       "      <td>-0.2</td>\n",
       "      <td>0.375</td>\n",
       "      <td>1.00</td>\n",
       "      <td>Action.STAND</td>\n",
       "      <td>1.00</td>\n",
       "    </tr>\n",
       "    <tr>\n",
       "      <th>h10</th>\n",
       "      <td>0.0</td>\n",
       "      <td>0.300</td>\n",
       "      <td>0.85</td>\n",
       "      <td>Action.STAND</td>\n",
       "      <td>0.85</td>\n",
       "    </tr>\n",
       "  </tbody>\n",
       "</table>\n",
       "<p>250 rows × 5 columns</p>\n",
       "</div>"
      ],
      "text/plain": [
       "                 <Action.DOUBLE: 3>  <Action.HIT: 2>  <Action.STAND: 1>  \\\n",
       "score_p score_d                                                           \n",
       "h09     s11                    -0.3            0.150              -0.60   \n",
       "        h02                     0.5            0.300              -0.10   \n",
       "        h03                     0.5            0.300               0.00   \n",
       "        h04                     0.0           -0.200              -0.60   \n",
       "        h05                     0.6            0.550               0.10   \n",
       "...                             ...              ...                ...   \n",
       "s21     h06                     0.4            0.150               0.95   \n",
       "        h07                     0.6            0.400               0.95   \n",
       "        h08                     0.3            0.375               0.95   \n",
       "        h09                    -0.2            0.375               1.00   \n",
       "        h10                     0.0            0.300               0.85   \n",
       "\n",
       "                   winning_act  winning_act_outcome  \n",
       "score_p score_d                                      \n",
       "h09     s11         Action.HIT                 0.15  \n",
       "        h02      Action.DOUBLE                 0.50  \n",
       "        h03      Action.DOUBLE                 0.50  \n",
       "        h04      Action.DOUBLE                 0.00  \n",
       "        h05      Action.DOUBLE                 0.60  \n",
       "...                        ...                  ...  \n",
       "s21     h06       Action.STAND                 0.95  \n",
       "        h07       Action.STAND                 0.95  \n",
       "        h08       Action.STAND                 0.95  \n",
       "        h09       Action.STAND                 1.00  \n",
       "        h10       Action.STAND                 0.85  \n",
       "\n",
       "[250 rows x 5 columns]"
      ]
     },
     "execution_count": 39,
     "metadata": {},
     "output_type": "execute_result"
    }
   ],
   "source": [
    "%prun -s cumulative conds = sim.compute_instructions(20)\n",
    "pd.DataFrame(conds).set_index(['score_p', 'score_d'])"
   ]
  },
  {
   "cell_type": "code",
   "execution_count": 40,
   "id": "challenging-producer",
   "metadata": {
    "ExecuteTime": {
     "end_time": "2021-07-24T00:35:56.757551Z",
     "start_time": "2021-07-24T00:35:51.309181Z"
    }
   },
   "outputs": [
    {
     "name": "stdout",
     "output_type": "stream",
     "text": [
      " "
     ]
    }
   ],
   "source": [
    "\n",
    "%prun -s cumulative sim.compute_instructions(100, strat_simple)"
   ]
  },
  {
   "cell_type": "code",
   "execution_count": 41,
   "id": "foster-december",
   "metadata": {
    "ExecuteTime": {
     "end_time": "2021-07-24T00:35:56.762353Z",
     "start_time": "2021-07-24T00:35:56.759040Z"
    }
   },
   "outputs": [],
   "source": [
    "def run_iteration(n, strat_base, previous_instructions):\n",
    "    comput = sim.compute_instructions(n, strat_base)\n",
    "    outputs = pd.DataFrame(comput).set_index(['score_p', 'score_d'])\n",
    "    \n",
    "    instructions = {(output['score_p'], output['score_d']): output['winning_act'] for output in comput}\n",
    "    \n",
    "    fig = plt.figure()\n",
    "    # Visualize the winning action by starting condition\n",
    "    sns.heatmap(outputs['winning_act'].apply(lambda x: x.value).unstack(), ax=fig.add_subplot(1, 2, 1))\n",
    "    \n",
    "    # Visualize the average outcome by starting condition\n",
    "    sns.heatmap(outputs['winning_act_outcome'].unstack(), ax=fig.add_subplot(1, 2, 2))\n",
    "    \n",
    "    if previous_instructions:\n",
    "        for k in instructions:\n",
    "            if instructions[k] != previous_instructions[k]:\n",
    "                print(k, instructions[k], previous_instructions[k])\n",
    "    \n",
    "    return instructions\n",
    "\n",
    "#%prun -s cumulative run_iteration(1, strat_simple, None)"
   ]
  },
  {
   "cell_type": "code",
   "execution_count": 42,
   "id": "typical-murder",
   "metadata": {
    "ExecuteTime": {
     "end_time": "2021-07-24T00:35:56.824669Z",
     "start_time": "2021-07-24T00:35:56.763771Z"
    }
   },
   "outputs": [
    {
     "data": {
      "text/plain": [
       "(   strategy hand_start  dealer_card      hand_end    dealer_hand  \\\n",
       " 0    simple     [6, 2]            7    [6, 2, 13]  [7, 5, 3, 11]   \n",
       " 1  memoized     [6, 2]            7    [6, 2, 12]  [7, 5, 3, 11]   \n",
       " 2    simple     [4, 6]            5     [4, 6, 5]   [5, 8, 3, 3]   \n",
       " 3  memoized     [4, 6]            5     [4, 6, 5]   [5, 8, 3, 3]   \n",
       " 4    simple    [12, 6]            6       [12, 6]     [6, 9, 11]   \n",
       " 5  memoized    [12, 6]            6       [12, 6]     [6, 9, 11]   \n",
       " 6    simple     [8, 8]            1    [8, 8, 12]        [1, 12]   \n",
       " 7  memoized     [8, 8]            1     [8, 8, 6]        [1, 12]   \n",
       " 8    simple     [7, 6]            8    [7, 6, 13]     [8, 5, 13]   \n",
       " 9  memoized     [7, 6]            8  [7, 6, 3, 1]     [8, 5, 13]   \n",
       " \n",
       "             outcome  outcome_value outcome_name  \n",
       " 0   HandOutcome.WIN            1.0          WIN  \n",
       " 1   HandOutcome.WIN            1.0          WIN  \n",
       " 2  HandOutcome.LOSE           -1.0         LOSE  \n",
       " 3  HandOutcome.LOSE           -1.0         LOSE  \n",
       " 4   HandOutcome.WIN            1.0          WIN  \n",
       " 5   HandOutcome.WIN            1.0          WIN  \n",
       " 6  HandOutcome.LOSE           -1.0         LOSE  \n",
       " 7  HandOutcome.LOSE           -1.0         LOSE  \n",
       " 8  HandOutcome.LOSE           -1.0         LOSE  \n",
       " 9   HandOutcome.WIN            1.0          WIN  ,\n",
       "                    len                                       mean_outcome\n",
       " outcome_name BLACKJACK LOSE LOSE_DOUBLE PUSH  WIN WIN_DOUBLE             \n",
       " strategy                                                                 \n",
       " memoized            44  458          17   81  378         22       -0.004\n",
       " simple              44  473          19   78  365         21       -0.038)"
      ]
     },
     "execution_count": 42,
     "metadata": {},
     "output_type": "execute_result"
    }
   ],
   "source": [
    "# Memoized strategy\n",
    "# Rather than generic conditions, just use an array indexed on player and dealer scores\n",
    "# Since that's how we're generating our strategy anyway (one square at a time)\n",
    "\n",
    "def gen_strat_memoized(instructions, strat_base):\n",
    "    def strat_memoized(score_p, score_d):\n",
    "        k = (repr(score_p), repr(score_d))\n",
    "        if k in instructions:\n",
    "            return instructions[k]\n",
    "        else:\n",
    "            return strat_base(score_p, score_d)\n",
    "    strat_memoized.name = 'memoized'\n",
    "    return strat_memoized\n",
    "\n",
    "instructions = {(repr(HandScore(13, True)), repr(HandScore(6))): Action.HIT}\n",
    "strat_memoized = gen_strat_memoized(instructions, strat_simple)\n",
    "\n",
    "sims = sim.run_n_sim_trials([strat_simple, strat_memoized], 1000)\n",
    "sims.head(10), sim.summarize_totals(sims)"
   ]
  },
  {
   "cell_type": "code",
   "execution_count": 43,
   "id": "imposed-cinema",
   "metadata": {
    "ExecuteTime": {
     "end_time": "2021-07-24T00:37:09.643290Z",
     "start_time": "2021-07-24T00:35:56.826082Z"
    }
   },
   "outputs": [
    {
     "name": "stdout",
     "output_type": "stream",
     "text": [
      "0\n",
      "1\n",
      "('h09', 'h02') Action.DOUBLE Action.HIT\n",
      "('h09', 'h07') Action.DOUBLE Action.HIT\n",
      "('h10', 'h03') Action.DOUBLE Action.HIT\n",
      "('h10', 'h06') Action.DOUBLE Action.HIT\n",
      "('h10', 'h08') Action.DOUBLE Action.HIT\n",
      "('h10', 'h10') Action.HIT Action.DOUBLE\n",
      "('h11', 's11') Action.HIT Action.DOUBLE\n",
      "('h11', 'h09') Action.DOUBLE Action.HIT\n",
      "('h12', 'h02') Action.HIT Action.STAND\n",
      "('h12', 'h03') Action.HIT Action.STAND\n",
      "('h12', 'h05') Action.STAND Action.HIT\n",
      "('h13', 'h02') Action.STAND Action.HIT\n",
      "('h13', 'h03') Action.HIT Action.STAND\n",
      "('h13', 'h05') Action.HIT Action.DOUBLE\n",
      "('h13', 'h06') Action.STAND Action.HIT\n",
      "('h13', 'h09') Action.HIT Action.STAND\n",
      "('h13', 'h10') Action.HIT Action.STAND\n",
      "('h14', 's11') Action.HIT Action.STAND\n",
      "('h14', 'h02') Action.STAND Action.HIT\n",
      "('h14', 'h03') Action.STAND Action.HIT\n",
      "('h14', 'h04') Action.HIT Action.STAND\n",
      "('h14', 'h05') Action.STAND Action.DOUBLE\n",
      "('h14', 'h06') Action.STAND Action.HIT\n",
      "('h14', 'h07') Action.STAND Action.HIT\n",
      "('h14', 'h08') Action.HIT Action.STAND\n",
      "('h14', 'h09') Action.HIT Action.STAND\n",
      "('h14', 'h10') Action.HIT Action.STAND\n",
      "('h15', 's11') Action.HIT Action.STAND\n",
      "('h15', 'h03') Action.STAND Action.HIT\n",
      "('h15', 'h04') Action.STAND Action.DOUBLE\n",
      "('h16', 's11') Action.HIT Action.STAND\n",
      "('h16', 'h09') Action.HIT Action.STAND\n",
      "('h16', 'h10') Action.STAND Action.HIT\n",
      "('h17', 's11') Action.STAND Action.HIT\n",
      "('s11', 'h02') Action.DOUBLE Action.HIT\n",
      "('s11', 'h07') Action.DOUBLE Action.HIT\n",
      "('s11', 'h09') Action.HIT Action.DOUBLE\n",
      "('s11', 'h10') Action.HIT Action.DOUBLE\n",
      "('s14', 'h02') Action.HIT Action.STAND\n",
      "('s17', 'h05') Action.STAND Action.HIT\n",
      "('s17', 'h06') Action.STAND Action.HIT\n",
      "('s17', 'h10') Action.STAND Action.HIT\n",
      "('s18', 'h03') Action.STAND Action.DOUBLE\n",
      "('s18', 'h07') Action.STAND Action.HIT\n",
      "('s18', 'h09') Action.HIT Action.STAND\n",
      "('s18', 'h10') Action.STAND Action.HIT\n",
      "('s19', 'h02') Action.STAND Action.DOUBLE\n",
      "('s19', 'h06') Action.STAND Action.DOUBLE\n",
      "('s21', 'h05') Action.STAND Action.DOUBLE\n",
      "2\n",
      "('h09', 'h02') Action.HIT Action.DOUBLE\n",
      "('h11', 'h07') Action.HIT Action.DOUBLE\n",
      "('h11', 'h10') Action.DOUBLE Action.HIT\n",
      "('h13', 'h03') Action.STAND Action.HIT\n",
      "('h13', 'h05') Action.STAND Action.HIT\n",
      "('h14', 'h04') Action.STAND Action.HIT\n",
      "('h14', 'h07') Action.HIT Action.STAND\n",
      "('h15', 'h07') Action.STAND Action.HIT\n",
      "('h15', 'h09') Action.HIT Action.STAND\n",
      "('h16', 'h10') Action.HIT Action.STAND\n",
      "('s11', 'h07') Action.HIT Action.DOUBLE\n",
      "('s11', 'h09') Action.DOUBLE Action.HIT\n",
      "('s11', 'h10') Action.DOUBLE Action.HIT\n",
      "('s17', 'h05') Action.HIT Action.STAND\n",
      "('s17', 'h06') Action.HIT Action.STAND\n",
      "('s17', 'h10') Action.HIT Action.STAND\n",
      "('s18', 's11') Action.HIT Action.STAND\n",
      "3\n",
      "('h09', 'h02') Action.DOUBLE Action.HIT\n",
      "('h09', 'h03') Action.DOUBLE Action.HIT\n",
      "('h09', 'h07') Action.HIT Action.DOUBLE\n",
      "('h11', 'h07') Action.DOUBLE Action.HIT\n",
      "('h12', 'h06') Action.STAND Action.HIT\n",
      "('h15', 'h07') Action.HIT Action.STAND\n",
      "('h16', 'h10') Action.STAND Action.HIT\n",
      "('s11', 'h07') Action.DOUBLE Action.HIT\n",
      "('s11', 'h09') Action.HIT Action.DOUBLE\n",
      "('s11', 'h10') Action.HIT Action.DOUBLE\n",
      "('s18', 's11') Action.STAND Action.HIT\n",
      "('s18', 'h09') Action.STAND Action.HIT\n",
      "4\n",
      "('h09', 'h02') Action.HIT Action.DOUBLE\n",
      "('h11', 'h10') Action.HIT Action.DOUBLE\n",
      "('h16', 'h10') Action.HIT Action.STAND\n",
      "('s11', 'h09') Action.DOUBLE Action.HIT\n"
     ]
    },
    {
     "data": {
      "text/plain": [
       "[<function __main__.strat_simple(score_p, score_d)>,\n",
       " <function __main__.gen_strat_memoized.<locals>.strat_memoized(score_p, score_d)>,\n",
       " <function __main__.gen_strat_memoized.<locals>.strat_memoized(score_p, score_d)>,\n",
       " <function __main__.gen_strat_memoized.<locals>.strat_memoized(score_p, score_d)>,\n",
       " <function __main__.gen_strat_memoized.<locals>.strat_memoized(score_p, score_d)>,\n",
       " <function __main__.gen_strat_memoized.<locals>.strat_memoized(score_p, score_d)>]"
      ]
     },
     "execution_count": 43,
     "metadata": {},
     "output_type": "execute_result"
    },
    {
     "data": {
      "image/png": "[encoded data removed]",
      "text/plain": [
       "<Figure size 432x288 with 4 Axes>"
      ]
     },
     "metadata": {
      "needs_background": "light"
     },
     "output_type": "display_data"
    },
    {
     "data": {
      "image/png": "[encoded data removed]",
      "text/plain": [
       "<Figure size 432x288 with 4 Axes>"
      ]
     },
     "metadata": {
      "needs_background": "light"
     },
     "output_type": "display_data"
    },
    {
     "data": {
      "image/png": "[encoded data removed]",
      "text/plain": [
       "<Figure size 432x288 with 4 Axes>"
      ]
     },
     "metadata": {
      "needs_background": "light"
     },
     "output_type": "display_data"
    },
    {
     "data": {
      "image/png": "[encoded data removed]",
      "text/plain": [
       "<Figure size 432x288 with 4 Axes>"
      ]
     },
     "metadata": {
      "needs_background": "light"
     },
     "output_type": "display_data"
    },
    {
     "data": {
      "image/png": "[encoded data removed]",
      "text/plain": [
       "<Figure size 432x288 with 4 Axes>"
      ]
     },
     "metadata": {
      "needs_background": "light"
     },
     "output_type": "display_data"
    }
   ],
   "source": [
    "n = 50\n",
    "strat_base = strat_simple\n",
    "previous_instructions = None\n",
    "strategies = [strat_simple]\n",
    "\n",
    "for i in range(5):\n",
    "    print(i)\n",
    "    instructions = run_iteration(n, strat_base, previous_instructions)\n",
    "    strat_new  = gen_strat_memoized(instructions, strat_base)\n",
    "    strat_new.name = f'iter({i+1})'\n",
    "    strategies.append(strat_new)\n",
    "    previous_instructions = instructions\n",
    "    strat_base = strat_new\n",
    "    n = n*3\n",
    "\n",
    "strategies"
   ]
  },
  {
   "cell_type": "code",
   "execution_count": 44,
   "id": "lucky-account",
   "metadata": {
    "ExecuteTime": {
     "end_time": "2021-07-24T00:39:05.008064Z",
     "start_time": "2021-07-24T00:37:09.644234Z"
    }
   },
   "outputs": [
    {
     "data": {
      "text/plain": [
       "(  strategy hand_start  dealer_card       hand_end dealer_hand  \\\n",
       " 0   simple     [5, 7]           13   [5, 7, 1, 7]     [13, 8]   \n",
       " 1  iter(1)     [5, 7]           13     [5, 7, 13]     [13, 8]   \n",
       " 2  iter(2)     [5, 7]           13     [5, 7, 10]     [13, 8]   \n",
       " 3  iter(3)     [5, 7]           13   [5, 7, 1, 6]     [13, 8]   \n",
       " 4  iter(4)     [5, 7]           13     [5, 7, 12]     [13, 8]   \n",
       " 5  iter(5)     [5, 7]           13  [5, 7, 1, 10]     [13, 8]   \n",
       " 6   simple   [12, 12]            9       [12, 12]  [9, 5, 11]   \n",
       " 7  iter(1)   [12, 12]            9       [12, 12]  [9, 5, 11]   \n",
       " 8  iter(2)   [12, 12]            9       [12, 12]  [9, 5, 11]   \n",
       " 9  iter(3)   [12, 12]            9       [12, 12]  [9, 5, 11]   \n",
       " \n",
       "             outcome  outcome_value outcome_name  \n",
       " 0   HandOutcome.WIN            1.0          WIN  \n",
       " 1  HandOutcome.LOSE           -1.0         LOSE  \n",
       " 2  HandOutcome.LOSE           -1.0         LOSE  \n",
       " 3   HandOutcome.WIN            1.0          WIN  \n",
       " 4  HandOutcome.LOSE           -1.0         LOSE  \n",
       " 5  HandOutcome.LOSE           -1.0         LOSE  \n",
       " 6   HandOutcome.WIN            1.0          WIN  \n",
       " 7   HandOutcome.WIN            1.0          WIN  \n",
       " 8   HandOutcome.WIN            1.0          WIN  \n",
       " 9   HandOutcome.WIN            1.0          WIN  ,\n",
       "                    len                                                \\\n",
       " outcome_name BLACKJACK    LOSE LOSE_DOUBLE   PUSH     WIN WIN_DOUBLE   \n",
       " strategy                                                               \n",
       " iter(1)          40983  461087       39400  79108  335484      43938   \n",
       " iter(2)          44690  461563       24921  83801  346511      38514   \n",
       " iter(3)          44690  454603       29247  85065  344371      42024   \n",
       " iter(4)          44690  453089       31527  82902  342299      45493   \n",
       " iter(5)          44690  459967       23401  85280  349332      37330   \n",
       " simple           44690  467147       18786  86909  356942      25526   \n",
       " \n",
       "              mean_outcome  \n",
       " outcome_name               \n",
       " strategy                   \n",
       " iter(1)         -0.055052  \n",
       " iter(2)         -0.020831  \n",
       " iter(3)         -0.017643  \n",
       " iter(4)         -0.015823  \n",
       " iter(5)         -0.015742  \n",
       " simple          -0.029690  )"
      ]
     },
     "execution_count": 44,
     "metadata": {},
     "output_type": "execute_result"
    }
   ],
   "source": [
    "sims = sim.run_n_sim_trials(strategies, 1000*1000)\n",
    "sims.head(10), sim.summarize_totals(sims)"
   ]
  },
  {
   "cell_type": "code",
   "execution_count": null,
   "id": "periodic-huntington",
   "metadata": {},
   "outputs": [],
   "source": []
  }
 ],
 "metadata": {
  "kernelspec": {
   "display_name": "Python 3",
   "language": "python",
   "name": "python3"
  },
  "language_info": {
   "codemirror_mode": {
    "name": "ipython",
    "version": 3
   },
   "file_extension": ".py",
   "mimetype": "text/x-python",
   "name": "python",
   "nbconvert_exporter": "python",
   "pygments_lexer": "ipython3",
   "version": "3.8.8"
  }
 },
 "nbformat": 4,
 "nbformat_minor": 5
}
