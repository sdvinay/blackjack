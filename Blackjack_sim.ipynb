{
 "cells": [
  {
   "cell_type": "code",
   "execution_count": 1,
   "id": "middle-scenario",
   "metadata": {
    "ExecuteTime": {
     "end_time": "2021-08-07T04:23:54.035889Z",
     "start_time": "2021-08-07T04:23:53.418514Z"
    }
   },
   "outputs": [],
   "source": [
    "import pickle\n",
    "import pandas as pd\n",
    "import matplotlib.pyplot as plt\n",
    "import seaborn as sns\n",
    "\n",
    "\n",
    "import blackjack as bj\n",
    "from blackjack import Hand, HandScore, Action, make_hand\n",
    "import simulator as sim\n",
    "import optimizer as opt\n"
   ]
  },
  {
   "cell_type": "code",
   "execution_count": 2,
   "id": "floating-forge",
   "metadata": {
    "ExecuteTime": {
     "end_time": "2021-08-07T04:23:54.040030Z",
     "start_time": "2021-08-07T04:23:54.037019Z"
    }
   },
   "outputs": [
    {
     "data": {
      "text/plain": [
       "s11"
      ]
     },
     "execution_count": 2,
     "metadata": {},
     "output_type": "execute_result"
    }
   ],
   "source": [
    "h = HandScore(11, True)\n",
    "h"
   ]
  },
  {
   "cell_type": "code",
   "execution_count": 3,
   "id": "pointed-judge",
   "metadata": {
    "ExecuteTime": {
     "end_time": "2021-08-07T04:23:54.044229Z",
     "start_time": "2021-08-07T04:23:54.041799Z"
    }
   },
   "outputs": [
    {
     "data": {
      "text/plain": [
       "s21"
      ]
     },
     "execution_count": 3,
     "metadata": {},
     "output_type": "execute_result"
    }
   ],
   "source": [
    "h.add_card(10)"
   ]
  },
  {
   "cell_type": "code",
   "execution_count": 4,
   "id": "mounted-kernel",
   "metadata": {
    "ExecuteTime": {
     "end_time": "2021-08-07T04:23:54.047945Z",
     "start_time": "2021-08-07T04:23:54.045469Z"
    }
   },
   "outputs": [
    {
     "data": {
      "text/plain": [
       "h21"
      ]
     },
     "execution_count": 4,
     "metadata": {},
     "output_type": "execute_result"
    }
   ],
   "source": [
    "h.add_card(10).add_card(10)"
   ]
  },
  {
   "cell_type": "code",
   "execution_count": 5,
   "id": "static-printer",
   "metadata": {
    "ExecuteTime": {
     "end_time": "2021-08-07T04:23:54.051184Z",
     "start_time": "2021-08-07T04:23:54.049012Z"
    }
   },
   "outputs": [
    {
     "data": {
      "text/plain": [
       "s11"
      ]
     },
     "execution_count": 5,
     "metadata": {},
     "output_type": "execute_result"
    }
   ],
   "source": [
    "h"
   ]
  },
  {
   "cell_type": "code",
   "execution_count": 6,
   "id": "turkish-state",
   "metadata": {
    "ExecuteTime": {
     "end_time": "2021-08-07T04:23:54.054336Z",
     "start_time": "2021-08-07T04:23:54.052135Z"
    }
   },
   "outputs": [
    {
     "data": {
      "text/plain": [
       "s14"
      ]
     },
     "execution_count": 6,
     "metadata": {},
     "output_type": "execute_result"
    }
   ],
   "source": [
    "h.add_card(3)"
   ]
  },
  {
   "cell_type": "code",
   "execution_count": 7,
   "id": "cubic-object",
   "metadata": {
    "ExecuteTime": {
     "end_time": "2021-08-07T04:23:54.058345Z",
     "start_time": "2021-08-07T04:23:54.055339Z"
    }
   },
   "outputs": [
    {
     "data": {
      "text/plain": [
       "h14"
      ]
     },
     "execution_count": 7,
     "metadata": {},
     "output_type": "execute_result"
    }
   ],
   "source": [
    "h.add_card(3).add_card(10)"
   ]
  },
  {
   "cell_type": "code",
   "execution_count": 8,
   "id": "afraid-bristol",
   "metadata": {
    "ExecuteTime": {
     "end_time": "2021-08-07T04:23:54.063386Z",
     "start_time": "2021-08-07T04:23:54.060474Z"
    }
   },
   "outputs": [
    {
     "data": {
      "text/plain": [
       "[h00,\n",
       " h01,\n",
       " h02,\n",
       " h03,\n",
       " h04,\n",
       " h05,\n",
       " h06,\n",
       " h07,\n",
       " h08,\n",
       " h09,\n",
       " h10,\n",
       " h11,\n",
       " h12,\n",
       " h13,\n",
       " h14,\n",
       " h15,\n",
       " h16,\n",
       " h17,\n",
       " h18,\n",
       " h19,\n",
       " h20,\n",
       " h21,\n",
       " h22,\n",
       " s11,\n",
       " s12,\n",
       " s13,\n",
       " s14,\n",
       " s15,\n",
       " s16,\n",
       " s17,\n",
       " s18,\n",
       " s19,\n",
       " s20,\n",
       " s21]"
      ]
     },
     "execution_count": 8,
     "metadata": {},
     "output_type": "execute_result"
    }
   ],
   "source": [
    "all_scores = [HandScore(i, False) for i in range(0, 23)] + [HandScore(i, True) for i in range(11, 22)]\n",
    "all_scores"
   ]
  },
  {
   "cell_type": "code",
   "execution_count": 9,
   "id": "initial-harrison",
   "metadata": {
    "ExecuteTime": {
     "end_time": "2021-08-07T04:23:54.067044Z",
     "start_time": "2021-08-07T04:23:54.065047Z"
    }
   },
   "outputs": [
    {
     "data": {
      "text/plain": [
       "Hand(score=h00, cards=[], doubled=False, drawn=False, surrendered=False)"
      ]
     },
     "execution_count": 9,
     "metadata": {},
     "output_type": "execute_result"
    }
   ],
   "source": [
    "h = Hand()\n",
    "h"
   ]
  },
  {
   "cell_type": "code",
   "execution_count": 10,
   "id": "reduced-cover",
   "metadata": {
    "ExecuteTime": {
     "end_time": "2021-08-07T04:23:54.070534Z",
     "start_time": "2021-08-07T04:23:54.067988Z"
    }
   },
   "outputs": [
    {
     "data": {
      "text/plain": [
       "Hand(score=h06, cards=[6], doubled=False, drawn=False, surrendered=False)"
      ]
     },
     "execution_count": 10,
     "metadata": {},
     "output_type": "execute_result"
    }
   ],
   "source": [
    "h.add_card(6) # start a hand with a 6"
   ]
  },
  {
   "cell_type": "code",
   "execution_count": 11,
   "id": "aging-green",
   "metadata": {
    "ExecuteTime": {
     "end_time": "2021-08-07T04:23:54.074946Z",
     "start_time": "2021-08-07T04:23:54.071981Z"
    }
   },
   "outputs": [
    {
     "data": {
      "text/plain": [
       "Hand(score=h16, cards=[6, 11], doubled=False, drawn=False, surrendered=False)"
      ]
     },
     "execution_count": 11,
     "metadata": {},
     "output_type": "execute_result"
    }
   ],
   "source": [
    "h.add_card(11) # show that J (11) counts as 10 points"
   ]
  },
  {
   "cell_type": "code",
   "execution_count": 12,
   "id": "humanitarian-chair",
   "metadata": {
    "ExecuteTime": {
     "end_time": "2021-08-07T04:23:54.078310Z",
     "start_time": "2021-08-07T04:23:54.076036Z"
    }
   },
   "outputs": [
    {
     "data": {
      "text/plain": [
       "(Hand(score=h22, cards=[6, 11, 7], doubled=False, drawn=False, surrendered=False),\n",
       " True)"
      ]
     },
     "execution_count": 12,
     "metadata": {},
     "output_type": "execute_result"
    }
   ],
   "source": [
    "h.add_card(7), bj.is_busted(h) # bust (show that 23 is counted as 22)"
   ]
  },
  {
   "cell_type": "code",
   "execution_count": 13,
   "id": "accompanied-perspective",
   "metadata": {
    "ExecuteTime": {
     "end_time": "2021-08-07T04:23:54.081376Z",
     "start_time": "2021-08-07T04:23:54.079198Z"
    }
   },
   "outputs": [
    {
     "data": {
      "text/plain": [
       "Hand(score=s11, cards=[1], doubled=False, drawn=False, surrendered=False)"
      ]
     },
     "execution_count": 13,
     "metadata": {},
     "output_type": "execute_result"
    }
   ],
   "source": [
    "# OK, now let's try another hand with aces\n",
    "h = Hand()\n",
    "h.add_card(1) # should be a soft 11"
   ]
  },
  {
   "cell_type": "code",
   "execution_count": 14,
   "id": "exotic-checkout",
   "metadata": {
    "ExecuteTime": {
     "end_time": "2021-08-07T04:23:54.084549Z",
     "start_time": "2021-08-07T04:23:54.082296Z"
    }
   },
   "outputs": [
    {
     "data": {
      "text/plain": [
       "Hand(score=s12, cards=[1, 1], doubled=False, drawn=False, surrendered=False)"
      ]
     },
     "execution_count": 14,
     "metadata": {},
     "output_type": "execute_result"
    }
   ],
   "source": [
    "h.add_card(1) # two aces: should be a soft 12"
   ]
  },
  {
   "cell_type": "code",
   "execution_count": 15,
   "id": "italian-beads",
   "metadata": {
    "ExecuteTime": {
     "end_time": "2021-08-07T04:23:54.088374Z",
     "start_time": "2021-08-07T04:23:54.085508Z"
    }
   },
   "outputs": [
    {
     "data": {
      "text/plain": [
       "Hand(score=h12, cards=[1, 1, 11], doubled=False, drawn=False, surrendered=False)"
      ]
     },
     "execution_count": 15,
     "metadata": {},
     "output_type": "execute_result"
    }
   ],
   "source": [
    "h.add_card(11) # two aces and a J: should be a hard 12"
   ]
  },
  {
   "cell_type": "code",
   "execution_count": 16,
   "id": "neutral-sugar",
   "metadata": {
    "ExecuteTime": {
     "end_time": "2021-08-07T04:23:54.092508Z",
     "start_time": "2021-08-07T04:23:54.089636Z"
    }
   },
   "outputs": [
    {
     "data": {
      "text/plain": [
       "(Hand(score=s21, cards=[1, 10], doubled=False, drawn=False, surrendered=False),\n",
       " True)"
      ]
     },
     "execution_count": 16,
     "metadata": {},
     "output_type": "execute_result"
    }
   ],
   "source": [
    "# OK, now let's try another hand with a blackjack\n",
    "h = Hand()\n",
    "h.add_card(1) # should be a soft 11\n",
    "h.add_card(10)\n",
    "h, bj.is_blackjack(h)"
   ]
  },
  {
   "cell_type": "markdown",
   "id": "dental-kelly",
   "metadata": {},
   "source": [
    "## Now define gameplay and strategy"
   ]
  },
  {
   "cell_type": "code",
   "execution_count": 17,
   "id": "secondary-crown",
   "metadata": {
    "ExecuteTime": {
     "end_time": "2021-08-07T04:23:54.096133Z",
     "start_time": "2021-08-07T04:23:54.093465Z"
    }
   },
   "outputs": [
    {
     "data": {
      "text/plain": [
       "[6, 7, 10, 6, 1, 8, 13, 13, 5, 6]"
      ]
     },
     "execution_count": 17,
     "metadata": {},
     "output_type": "execute_result"
    }
   ],
   "source": [
    "shoe = bj.Shoe()\n",
    "[shoe.deal() for _ in range(10)]"
   ]
  },
  {
   "cell_type": "code",
   "execution_count": 18,
   "id": "atomic-plaintiff",
   "metadata": {
    "ExecuteTime": {
     "end_time": "2021-08-07T04:23:54.099476Z",
     "start_time": "2021-08-07T04:23:54.096992Z"
    }
   },
   "outputs": [
    {
     "data": {
      "text/plain": [
       "[('strat_nobust_func',\n",
       "  Hand(score=h14, cards=[8, 2, 4], doubled=False, drawn=True, surrendered=False),\n",
       "  Hand(score=h22, cards=[10, 4, 8], doubled=False, drawn=True, surrendered=False),\n",
       "  <HandOutcome.WIN: 1>),\n",
       " ('strat_nobust_func',\n",
       "  Hand(score=h20, cards=[8, 2, 13], doubled=False, drawn=True, surrendered=False),\n",
       "  Hand(score=h22, cards=[10, 4, 8], doubled=False, drawn=True, surrendered=False),\n",
       "  <HandOutcome.WIN: 1>)]"
      ]
     },
     "execution_count": 18,
     "metadata": {},
     "output_type": "execute_result"
    }
   ],
   "source": [
    "bj.play_one_round([bj.strat_nobust, bj.strat_nobust])"
   ]
  },
  {
   "cell_type": "markdown",
   "id": "looking-jewelry",
   "metadata": {},
   "source": [
    "## Aggregate and summarize the data from the simulations"
   ]
  },
  {
   "cell_type": "code",
   "execution_count": 19,
   "id": "juvenile-joshua",
   "metadata": {
    "ExecuteTime": {
     "end_time": "2021-08-07T04:23:54.103449Z",
     "start_time": "2021-08-07T04:23:54.100463Z"
    }
   },
   "outputs": [
    {
     "data": {
      "text/plain": [
       "[{'strategy': 'strat_nobust_func',\n",
       "  'hand_start': [7, 7],\n",
       "  'dealer_card': 3,\n",
       "  'hand_end': [7, 7],\n",
       "  'dealer_hand': [3, 4, 9, 6],\n",
       "  'outcome': <HandOutcome.WIN: 1>},\n",
       " {'strategy': 'strat_dealer_func',\n",
       "  'hand_start': [7, 7],\n",
       "  'dealer_card': 3,\n",
       "  'hand_end': [7, 7, 2, 9],\n",
       "  'dealer_hand': [3, 4, 9, 6],\n",
       "  'outcome': <HandOutcome.LOSE: -1>}]"
      ]
     },
     "execution_count": 19,
     "metadata": {},
     "output_type": "execute_result"
    }
   ],
   "source": [
    "\n",
    "\n",
    "strat_nobust = bj.strat_nobust\n",
    "strat_dealer = bj.strat_dealer\n",
    "sim.generate_rows_from_round(bj.play_one_round([bj.strat_nobust, bj.strat_dealer]))\n"
   ]
  },
  {
   "cell_type": "code",
   "execution_count": 20,
   "id": "approved-broadway",
   "metadata": {
    "ExecuteTime": {
     "end_time": "2021-08-07T04:23:54.352142Z",
     "start_time": "2021-08-07T04:23:54.104623Z"
    }
   },
   "outputs": [],
   "source": [
    "\n",
    "\n",
    "sim_results = sim.run_n_sim_trials([strat_nobust, strat_dealer], 10000)\n",
    "#%prun -s cumulative sim_results, sim.summarize_totals(sim_results)"
   ]
  },
  {
   "cell_type": "code",
   "execution_count": 21,
   "id": "varied-devil",
   "metadata": {
    "ExecuteTime": {
     "end_time": "2021-08-07T04:23:54.392643Z",
     "start_time": "2021-08-07T04:23:54.353072Z"
    }
   },
   "outputs": [
    {
     "data": {
      "text/plain": [
       "(            strategy hand_start  dealer_card          hand_end  \\\n",
       " 0  strat_simple_func    [6, 12]            9        [6, 12, 1]   \n",
       " 1  strat_simple_func     [7, 4]            3         [7, 4, 8]   \n",
       " 2  strat_simple_func     [6, 4]            2        [6, 4, 12]   \n",
       " 3  strat_simple_func     [3, 2]            1  [3, 2, 1, 10, 4]   \n",
       " 4  strat_simple_func     [5, 1]           11   [5, 1, 3, 6, 6]   \n",
       " 5  strat_simple_func     [5, 1]           12   [5, 1, 6, 1, 6]   \n",
       " 6  strat_simple_func     [2, 5]           11     [2, 5, 5, 13]   \n",
       " 7  strat_simple_func    [8, 12]            8           [8, 12]   \n",
       " 8  strat_simple_func     [6, 3]            2      [6, 3, 7, 2]   \n",
       " 9  strat_simple_func    [13, 7]           13           [13, 7]   \n",
       " \n",
       "        dealer_hand                 outcome  outcome_value outcome_name  \n",
       " 0        [9, 6, 7]         HandOutcome.WIN            1.0          WIN  \n",
       " 1  [3, 3, 4, 5, 7]  HandOutcome.WIN_DOUBLE            2.0   WIN_DOUBLE  \n",
       " 2       [2, 13, 9]        HandOutcome.LOSE           -1.0         LOSE  \n",
       " 3           [1, 9]        HandOutcome.PUSH            0.0         PUSH  \n",
       " 4          [11, 1]        HandOutcome.LOSE           -1.0         LOSE  \n",
       " 5          [12, 7]         HandOutcome.WIN            1.0          WIN  \n",
       " 6       [11, 5, 4]        HandOutcome.LOSE           -1.0         LOSE  \n",
       " 7          [8, 10]        HandOutcome.PUSH            0.0         PUSH  \n",
       " 8   [2, 3, 11, 10]         HandOutcome.WIN            1.0          WIN  \n",
       " 9         [13, 13]        HandOutcome.LOSE           -1.0         LOSE  ,\n",
       "                         len                                       mean_outcome\n",
       " outcome_name      BLACKJACK LOSE LOSE_DOUBLE PUSH  WIN WIN_DOUBLE             \n",
       " strategy                                                                      \n",
       " strat_simple_func        40  467          27   83  359         24       -0.054)"
      ]
     },
     "execution_count": 21,
     "metadata": {},
     "output_type": "execute_result"
    }
   ],
   "source": [
    "def strat_simple_func(score_p, score_d):\n",
    "    if score_p.points == 11:  return Action.DOUBLE\n",
    "    if score_p.points >= 17:  return Action.STAND\n",
    "    if score_p.points <= 11:  return Action.HIT\n",
    "    if score_d.points in (range(3,7)):  return Action.STAND\n",
    "    else:  return Action.HIT\n",
    "        \n",
    "strat_simple_func.name = 'simple'\n",
    "\n",
    "strat_simple = bj.Strategy_wrapper(strat_simple_func)\n",
    "sims = sim.run_n_sim_trials([strat_simple], 1000)\n",
    "sims.head(10), sim.summarize_totals(sims)"
   ]
  },
  {
   "cell_type": "code",
   "execution_count": 22,
   "id": "confirmed-passing",
   "metadata": {
    "ExecuteTime": {
     "end_time": "2021-08-07T04:23:55.054106Z",
     "start_time": "2021-08-07T04:23:54.393596Z"
    }
   },
   "outputs": [
    {
     "name": "stdout",
     "output_type": "stream",
     "text": [
      " "
     ]
    }
   ],
   "source": [
    "%prun -s cumulative sim.summarize_totals(sim.run_n_sim_trials([strat_dealer, strat_nobust, strat_simple], 10000))\n"
   ]
  },
  {
   "cell_type": "markdown",
   "id": "fluid-writing",
   "metadata": {},
   "source": [
    "## Simulate specific situations to determine strategy"
   ]
  },
  {
   "cell_type": "code",
   "execution_count": 23,
   "id": "otherwise-sheffield",
   "metadata": {
    "ExecuteTime": {
     "end_time": "2021-08-07T04:23:55.060227Z",
     "start_time": "2021-08-07T04:23:55.058092Z"
    }
   },
   "outputs": [
    {
     "data": {
      "text/plain": [
       "(Hand(score=h12, cards=[5, 7], doubled=False, drawn=False, surrendered=False),\n",
       " Hand(score=h02, cards=[2], doubled=False, drawn=False, surrendered=False))"
      ]
     },
     "execution_count": 23,
     "metadata": {},
     "output_type": "execute_result"
    }
   ],
   "source": [
    "# 12 vs deuce\n",
    "\n",
    "hand_p = make_hand([5, 7])\n",
    "hand_d = make_hand([2])\n",
    "\n",
    "hand_p, hand_d"
   ]
  },
  {
   "cell_type": "code",
   "execution_count": 24,
   "id": "gross-kennedy",
   "metadata": {
    "ExecuteTime": {
     "end_time": "2021-08-07T04:23:55.065542Z",
     "start_time": "2021-08-07T04:23:55.061931Z"
    }
   },
   "outputs": [
    {
     "data": {
      "text/plain": [
       "strat_cond"
      ]
     },
     "execution_count": 24,
     "metadata": {},
     "output_type": "execute_result"
    }
   ],
   "source": [
    "# Implement a strategy that composes conditions and actions\n",
    "\n",
    "def cond_12_2(score_p, score_d):\n",
    "    return score_p.points == 12 and score_d.points == 2 and not score_p.soft\n",
    "conditions = [(cond_12_2, Action.STAND)]\n",
    "\n",
    "\n",
    "    \n",
    "strat_cond = sim.generate_strat_conditional(strat_simple, conditions)\n",
    "strat_cond"
   ]
  },
  {
   "cell_type": "code",
   "execution_count": 25,
   "id": "virgin-mining",
   "metadata": {
    "ExecuteTime": {
     "end_time": "2021-08-07T04:23:55.069137Z",
     "start_time": "2021-08-07T04:23:55.066855Z"
    }
   },
   "outputs": [
    {
     "data": {
      "text/plain": [
       "[<Action.SURRENDER: 1>, <Action.STAND: 2>, <Action.HIT: 3>, <Action.DOUBLE: 4>]"
      ]
     },
     "execution_count": 25,
     "metadata": {},
     "output_type": "execute_result"
    }
   ],
   "source": [
    "# Generate a conditional strategy for each action\n",
    "    \n",
    "strats = sim.gen_cond_strategies(strat_simple, cond_12_2, Action)\n",
    "strats"
   ]
  },
  {
   "cell_type": "code",
   "execution_count": 26,
   "id": "acoustic-warrant",
   "metadata": {
    "ExecuteTime": {
     "end_time": "2021-08-07T04:23:55.072694Z",
     "start_time": "2021-08-07T04:23:55.070026Z"
    }
   },
   "outputs": [
    {
     "data": {
      "text/plain": [
       "[('<Action.SURRENDER: 1>',\n",
       "  Hand(score=h12, cards=[5, 7], doubled=False, drawn=False, surrendered=True),\n",
       "  Hand(score=h20, cards=[2, 5, 3, 10], doubled=False, drawn=True, surrendered=False),\n",
       "  <HandOutcome.SURRENDER: -0.5>),\n",
       " ('<Action.STAND: 2>',\n",
       "  Hand(score=h12, cards=[5, 7], doubled=False, drawn=False, surrendered=False),\n",
       "  Hand(score=h20, cards=[2, 5, 3, 10], doubled=False, drawn=True, surrendered=False),\n",
       "  <HandOutcome.LOSE: -1>),\n",
       " ('<Action.HIT: 3>',\n",
       "  Hand(score=h18, cards=[5, 7, 6], doubled=False, drawn=True, surrendered=False),\n",
       "  Hand(score=h20, cards=[2, 5, 3, 10], doubled=False, drawn=True, surrendered=False),\n",
       "  <HandOutcome.LOSE: -1>),\n",
       " ('<Action.DOUBLE: 4>',\n",
       "  Hand(score=h17, cards=[5, 7, 5], doubled=True, drawn=True, surrendered=False),\n",
       "  Hand(score=h20, cards=[2, 5, 3, 10], doubled=False, drawn=True, surrendered=False),\n",
       "  <HandOutcome.LOSE_DOUBLE: -2>)]"
      ]
     },
     "execution_count": 26,
     "metadata": {},
     "output_type": "execute_result"
    }
   ],
   "source": [
    "bj.complete_one_round(strats, hand_p, hand_d, bj.Shoe().deal(), bj.Shoe())"
   ]
  },
  {
   "cell_type": "code",
   "execution_count": 27,
   "id": "economic-greene",
   "metadata": {
    "ExecuteTime": {
     "end_time": "2021-08-07T04:23:55.470072Z",
     "start_time": "2021-08-07T04:23:55.073915Z"
    }
   },
   "outputs": [
    {
     "data": {
      "text/html": [
       "<div>\n",
       "<style scoped>\n",
       "    .dataframe tbody tr th:only-of-type {\n",
       "        vertical-align: middle;\n",
       "    }\n",
       "\n",
       "    .dataframe tbody tr th {\n",
       "        vertical-align: top;\n",
       "    }\n",
       "\n",
       "    .dataframe thead tr th {\n",
       "        text-align: left;\n",
       "    }\n",
       "\n",
       "    .dataframe thead tr:last-of-type th {\n",
       "        text-align: right;\n",
       "    }\n",
       "</style>\n",
       "<table border=\"1\" class=\"dataframe\">\n",
       "  <thead>\n",
       "    <tr>\n",
       "      <th></th>\n",
       "      <th colspan=\"6\" halign=\"left\">len</th>\n",
       "      <th>mean_outcome</th>\n",
       "    </tr>\n",
       "    <tr>\n",
       "      <th>outcome_name</th>\n",
       "      <th>LOSE</th>\n",
       "      <th>LOSE_DOUBLE</th>\n",
       "      <th>PUSH</th>\n",
       "      <th>SURRENDER</th>\n",
       "      <th>WIN</th>\n",
       "      <th>WIN_DOUBLE</th>\n",
       "      <th></th>\n",
       "    </tr>\n",
       "    <tr>\n",
       "      <th>strategy</th>\n",
       "      <th></th>\n",
       "      <th></th>\n",
       "      <th></th>\n",
       "      <th></th>\n",
       "      <th></th>\n",
       "      <th></th>\n",
       "      <th></th>\n",
       "    </tr>\n",
       "  </thead>\n",
       "  <tbody>\n",
       "    <tr>\n",
       "      <th>&lt;Action.DOUBLE: 4&gt;</th>\n",
       "      <td>0</td>\n",
       "      <td>5970</td>\n",
       "      <td>521</td>\n",
       "      <td>0</td>\n",
       "      <td>0</td>\n",
       "      <td>3509</td>\n",
       "      <td>-0.4922</td>\n",
       "    </tr>\n",
       "    <tr>\n",
       "      <th>&lt;Action.HIT: 3&gt;</th>\n",
       "      <td>6041</td>\n",
       "      <td>0</td>\n",
       "      <td>654</td>\n",
       "      <td>0</td>\n",
       "      <td>3305</td>\n",
       "      <td>0</td>\n",
       "      <td>-0.2736</td>\n",
       "    </tr>\n",
       "    <tr>\n",
       "      <th>&lt;Action.STAND: 2&gt;</th>\n",
       "      <td>6426</td>\n",
       "      <td>0</td>\n",
       "      <td>0</td>\n",
       "      <td>0</td>\n",
       "      <td>3574</td>\n",
       "      <td>0</td>\n",
       "      <td>-0.2852</td>\n",
       "    </tr>\n",
       "    <tr>\n",
       "      <th>&lt;Action.SURRENDER: 1&gt;</th>\n",
       "      <td>0</td>\n",
       "      <td>0</td>\n",
       "      <td>0</td>\n",
       "      <td>10000</td>\n",
       "      <td>0</td>\n",
       "      <td>0</td>\n",
       "      <td>-0.5000</td>\n",
       "    </tr>\n",
       "  </tbody>\n",
       "</table>\n",
       "</div>"
      ],
      "text/plain": [
       "                        len                                              \\\n",
       "outcome_name           LOSE LOSE_DOUBLE PUSH SURRENDER   WIN WIN_DOUBLE   \n",
       "strategy                                                                  \n",
       "<Action.DOUBLE: 4>        0        5970  521         0     0       3509   \n",
       "<Action.HIT: 3>        6041           0  654         0  3305          0   \n",
       "<Action.STAND: 2>      6426           0    0         0  3574          0   \n",
       "<Action.SURRENDER: 1>     0           0    0     10000     0          0   \n",
       "\n",
       "                      mean_outcome  \n",
       "outcome_name                        \n",
       "strategy                            \n",
       "<Action.DOUBLE: 4>         -0.4922  \n",
       "<Action.HIT: 3>            -0.2736  \n",
       "<Action.STAND: 2>          -0.2852  \n",
       "<Action.SURRENDER: 1>      -0.5000  "
      ]
     },
     "execution_count": 27,
     "metadata": {},
     "output_type": "execute_result"
    }
   ],
   "source": [
    "\n",
    "\n",
    "sims = sim.run_n_sim_trials_from_state(strats, hand_p, hand_d, 10000)\n",
    "sim.summarize_totals(sims)"
   ]
  },
  {
   "cell_type": "code",
   "execution_count": 28,
   "id": "institutional-grain",
   "metadata": {
    "ExecuteTime": {
     "end_time": "2021-08-07T04:23:55.473360Z",
     "start_time": "2021-08-07T04:23:55.470975Z"
    }
   },
   "outputs": [
    {
     "data": {
      "text/plain": [
       "(Hand(score=s12, cards=[1, 1], doubled=False, drawn=False, surrendered=False),\n",
       " Hand(score=h02, cards=[2], doubled=False, drawn=False, surrendered=False))"
      ]
     },
     "execution_count": 28,
     "metadata": {},
     "output_type": "execute_result"
    }
   ],
   "source": [
    "# Soft 12 vs 2\n",
    "hand_12s = make_hand([1, 1])\n",
    "\n",
    "hand_12s, hand_d"
   ]
  },
  {
   "cell_type": "code",
   "execution_count": 29,
   "id": "legal-uniform",
   "metadata": {
    "ExecuteTime": {
     "end_time": "2021-08-07T04:23:55.476983Z",
     "start_time": "2021-08-07T04:23:55.474333Z"
    }
   },
   "outputs": [
    {
     "data": {
      "text/plain": [
       "[<Action.SURRENDER: 1>, <Action.STAND: 2>, <Action.HIT: 3>, <Action.DOUBLE: 4>]"
      ]
     },
     "execution_count": 29,
     "metadata": {},
     "output_type": "execute_result"
    }
   ],
   "source": [
    "def cond_12s_2(score_p, score_d):\n",
    "    return score_p == HandScore(12, True) and score_d.points == 2\n",
    "\n",
    "strats = sim.gen_cond_strategies(strat_simple, cond_12s_2, Action)\n",
    "strats"
   ]
  },
  {
   "cell_type": "code",
   "execution_count": 30,
   "id": "british-logging",
   "metadata": {
    "ExecuteTime": {
     "end_time": "2021-08-07T04:23:56.136417Z",
     "start_time": "2021-08-07T04:23:55.477918Z"
    }
   },
   "outputs": [
    {
     "data": {
      "text/html": [
       "<div>\n",
       "<style scoped>\n",
       "    .dataframe tbody tr th:only-of-type {\n",
       "        vertical-align: middle;\n",
       "    }\n",
       "\n",
       "    .dataframe tbody tr th {\n",
       "        vertical-align: top;\n",
       "    }\n",
       "\n",
       "    .dataframe thead tr th {\n",
       "        text-align: left;\n",
       "    }\n",
       "\n",
       "    .dataframe thead tr:last-of-type th {\n",
       "        text-align: right;\n",
       "    }\n",
       "</style>\n",
       "<table border=\"1\" class=\"dataframe\">\n",
       "  <thead>\n",
       "    <tr>\n",
       "      <th></th>\n",
       "      <th colspan=\"6\" halign=\"left\">len</th>\n",
       "      <th>mean_outcome</th>\n",
       "    </tr>\n",
       "    <tr>\n",
       "      <th>outcome_name</th>\n",
       "      <th>LOSE</th>\n",
       "      <th>LOSE_DOUBLE</th>\n",
       "      <th>PUSH</th>\n",
       "      <th>SURRENDER</th>\n",
       "      <th>WIN</th>\n",
       "      <th>WIN_DOUBLE</th>\n",
       "      <th></th>\n",
       "    </tr>\n",
       "    <tr>\n",
       "      <th>strategy</th>\n",
       "      <th></th>\n",
       "      <th></th>\n",
       "      <th></th>\n",
       "      <th></th>\n",
       "      <th></th>\n",
       "      <th></th>\n",
       "      <th></th>\n",
       "    </tr>\n",
       "  </thead>\n",
       "  <tbody>\n",
       "    <tr>\n",
       "      <th>&lt;Action.DOUBLE: 4&gt;</th>\n",
       "      <td>0</td>\n",
       "      <td>6403</td>\n",
       "      <td>0</td>\n",
       "      <td>0</td>\n",
       "      <td>0</td>\n",
       "      <td>3597</td>\n",
       "      <td>-0.5612</td>\n",
       "    </tr>\n",
       "    <tr>\n",
       "      <th>&lt;Action.HIT: 3&gt;</th>\n",
       "      <td>5255</td>\n",
       "      <td>0</td>\n",
       "      <td>827</td>\n",
       "      <td>0</td>\n",
       "      <td>3918</td>\n",
       "      <td>0</td>\n",
       "      <td>-0.1337</td>\n",
       "    </tr>\n",
       "    <tr>\n",
       "      <th>&lt;Action.STAND: 2&gt;</th>\n",
       "      <td>6403</td>\n",
       "      <td>0</td>\n",
       "      <td>0</td>\n",
       "      <td>0</td>\n",
       "      <td>3597</td>\n",
       "      <td>0</td>\n",
       "      <td>-0.2806</td>\n",
       "    </tr>\n",
       "    <tr>\n",
       "      <th>&lt;Action.SURRENDER: 1&gt;</th>\n",
       "      <td>0</td>\n",
       "      <td>0</td>\n",
       "      <td>0</td>\n",
       "      <td>10000</td>\n",
       "      <td>0</td>\n",
       "      <td>0</td>\n",
       "      <td>-0.5000</td>\n",
       "    </tr>\n",
       "    <tr>\n",
       "      <th>strat_simple_func</th>\n",
       "      <td>5249</td>\n",
       "      <td>0</td>\n",
       "      <td>840</td>\n",
       "      <td>0</td>\n",
       "      <td>3911</td>\n",
       "      <td>0</td>\n",
       "      <td>-0.1338</td>\n",
       "    </tr>\n",
       "  </tbody>\n",
       "</table>\n",
       "</div>"
      ],
      "text/plain": [
       "                        len                                              \\\n",
       "outcome_name           LOSE LOSE_DOUBLE PUSH SURRENDER   WIN WIN_DOUBLE   \n",
       "strategy                                                                  \n",
       "<Action.DOUBLE: 4>        0        6403    0         0     0       3597   \n",
       "<Action.HIT: 3>        5255           0  827         0  3918          0   \n",
       "<Action.STAND: 2>      6403           0    0         0  3597          0   \n",
       "<Action.SURRENDER: 1>     0           0    0     10000     0          0   \n",
       "strat_simple_func      5249           0  840         0  3911          0   \n",
       "\n",
       "                      mean_outcome  \n",
       "outcome_name                        \n",
       "strategy                            \n",
       "<Action.DOUBLE: 4>         -0.5612  \n",
       "<Action.HIT: 3>            -0.1337  \n",
       "<Action.STAND: 2>          -0.2806  \n",
       "<Action.SURRENDER: 1>      -0.5000  \n",
       "strat_simple_func          -0.1338  "
      ]
     },
     "execution_count": 30,
     "metadata": {},
     "output_type": "execute_result"
    }
   ],
   "source": [
    "sims = sim.run_n_sim_trials_from_state(strats+[strat_simple], hand_12s, hand_d, 10000)\n",
    "sim.summarize_totals(sims)"
   ]
  },
  {
   "cell_type": "code",
   "execution_count": 31,
   "id": "based-subscription",
   "metadata": {
    "ExecuteTime": {
     "end_time": "2021-08-07T04:23:56.423577Z",
     "start_time": "2021-08-07T04:23:56.137289Z"
    }
   },
   "outputs": [
    {
     "data": {
      "text/html": [
       "<div>\n",
       "<style scoped>\n",
       "    .dataframe tbody tr th:only-of-type {\n",
       "        vertical-align: middle;\n",
       "    }\n",
       "\n",
       "    .dataframe tbody tr th {\n",
       "        vertical-align: top;\n",
       "    }\n",
       "\n",
       "    .dataframe thead tr th {\n",
       "        text-align: left;\n",
       "    }\n",
       "\n",
       "    .dataframe thead tr:last-of-type th {\n",
       "        text-align: right;\n",
       "    }\n",
       "</style>\n",
       "<table border=\"1\" class=\"dataframe\">\n",
       "  <thead>\n",
       "    <tr>\n",
       "      <th></th>\n",
       "      <th colspan=\"3\" halign=\"left\">len</th>\n",
       "      <th>mean_outcome</th>\n",
       "    </tr>\n",
       "    <tr>\n",
       "      <th>outcome_name</th>\n",
       "      <th>LOSE</th>\n",
       "      <th>PUSH</th>\n",
       "      <th>WIN</th>\n",
       "      <th></th>\n",
       "    </tr>\n",
       "    <tr>\n",
       "      <th>strategy</th>\n",
       "      <th></th>\n",
       "      <th></th>\n",
       "      <th></th>\n",
       "      <th></th>\n",
       "    </tr>\n",
       "  </thead>\n",
       "  <tbody>\n",
       "    <tr>\n",
       "      <th>strat_cond</th>\n",
       "      <td>6388</td>\n",
       "      <td>0</td>\n",
       "      <td>3612</td>\n",
       "      <td>-0.2776</td>\n",
       "    </tr>\n",
       "    <tr>\n",
       "      <th>strat_simple_func</th>\n",
       "      <td>6051</td>\n",
       "      <td>668</td>\n",
       "      <td>3281</td>\n",
       "      <td>-0.2770</td>\n",
       "    </tr>\n",
       "  </tbody>\n",
       "</table>\n",
       "</div>"
      ],
      "text/plain": [
       "                    len            mean_outcome\n",
       "outcome_name       LOSE PUSH   WIN             \n",
       "strategy                                       \n",
       "strat_cond         6388    0  3612      -0.2776\n",
       "strat_simple_func  6051  668  3281      -0.2770"
      ]
     },
     "execution_count": 31,
     "metadata": {},
     "output_type": "execute_result"
    }
   ],
   "source": [
    "sim.summarize_totals(sim.run_n_sim_trials_from_state([strat_simple, strat_cond], hand_p, hand_d, 10*1000))"
   ]
  },
  {
   "cell_type": "code",
   "execution_count": 32,
   "id": "vietnamese-spray",
   "metadata": {
    "ExecuteTime": {
     "end_time": "2021-08-07T04:23:56.982448Z",
     "start_time": "2021-08-07T04:23:56.424455Z"
    }
   },
   "outputs": [
    {
     "data": {
      "text/html": [
       "<div>\n",
       "<style scoped>\n",
       "    .dataframe tbody tr th:only-of-type {\n",
       "        vertical-align: middle;\n",
       "    }\n",
       "\n",
       "    .dataframe tbody tr th {\n",
       "        vertical-align: top;\n",
       "    }\n",
       "\n",
       "    .dataframe thead tr th {\n",
       "        text-align: left;\n",
       "    }\n",
       "\n",
       "    .dataframe thead tr:last-of-type th {\n",
       "        text-align: right;\n",
       "    }\n",
       "</style>\n",
       "<table border=\"1\" class=\"dataframe\">\n",
       "  <thead>\n",
       "    <tr>\n",
       "      <th></th>\n",
       "      <th colspan=\"6\" halign=\"left\">len</th>\n",
       "      <th>mean_outcome</th>\n",
       "    </tr>\n",
       "    <tr>\n",
       "      <th>outcome_name</th>\n",
       "      <th>LOSE</th>\n",
       "      <th>LOSE_DOUBLE</th>\n",
       "      <th>PUSH</th>\n",
       "      <th>SURRENDER</th>\n",
       "      <th>WIN</th>\n",
       "      <th>WIN_DOUBLE</th>\n",
       "      <th></th>\n",
       "    </tr>\n",
       "    <tr>\n",
       "      <th>strategy</th>\n",
       "      <th></th>\n",
       "      <th></th>\n",
       "      <th></th>\n",
       "      <th></th>\n",
       "      <th></th>\n",
       "      <th></th>\n",
       "      <th></th>\n",
       "    </tr>\n",
       "  </thead>\n",
       "  <tbody>\n",
       "    <tr>\n",
       "      <th>&lt;Action.DOUBLE: 4&gt;</th>\n",
       "      <td>0</td>\n",
       "      <td>5791</td>\n",
       "      <td>0</td>\n",
       "      <td>0</td>\n",
       "      <td>0</td>\n",
       "      <td>4209</td>\n",
       "      <td>-0.3164</td>\n",
       "    </tr>\n",
       "    <tr>\n",
       "      <th>&lt;Action.HIT: 3&gt;</th>\n",
       "      <td>4902</td>\n",
       "      <td>0</td>\n",
       "      <td>299</td>\n",
       "      <td>0</td>\n",
       "      <td>4799</td>\n",
       "      <td>0</td>\n",
       "      <td>-0.0103</td>\n",
       "    </tr>\n",
       "    <tr>\n",
       "      <th>&lt;Action.STAND: 2&gt;</th>\n",
       "      <td>5791</td>\n",
       "      <td>0</td>\n",
       "      <td>0</td>\n",
       "      <td>0</td>\n",
       "      <td>4209</td>\n",
       "      <td>0</td>\n",
       "      <td>-0.1582</td>\n",
       "    </tr>\n",
       "    <tr>\n",
       "      <th>&lt;Action.SURRENDER: 1&gt;</th>\n",
       "      <td>0</td>\n",
       "      <td>0</td>\n",
       "      <td>0</td>\n",
       "      <td>10000</td>\n",
       "      <td>0</td>\n",
       "      <td>0</td>\n",
       "      <td>-0.5000</td>\n",
       "    </tr>\n",
       "    <tr>\n",
       "      <th>strat_simple_func</th>\n",
       "      <td>5791</td>\n",
       "      <td>0</td>\n",
       "      <td>0</td>\n",
       "      <td>0</td>\n",
       "      <td>4209</td>\n",
       "      <td>0</td>\n",
       "      <td>-0.1582</td>\n",
       "    </tr>\n",
       "  </tbody>\n",
       "</table>\n",
       "</div>"
      ],
      "text/plain": [
       "                        len                                              \\\n",
       "outcome_name           LOSE LOSE_DOUBLE PUSH SURRENDER   WIN WIN_DOUBLE   \n",
       "strategy                                                                  \n",
       "<Action.DOUBLE: 4>        0        5791    0         0     0       4209   \n",
       "<Action.HIT: 3>        4902           0  299         0  4799          0   \n",
       "<Action.STAND: 2>      5791           0    0         0  4209          0   \n",
       "<Action.SURRENDER: 1>     0           0    0     10000     0          0   \n",
       "strat_simple_func      5791           0    0         0  4209          0   \n",
       "\n",
       "                      mean_outcome  \n",
       "outcome_name                        \n",
       "strategy                            \n",
       "<Action.DOUBLE: 4>         -0.3164  \n",
       "<Action.HIT: 3>            -0.0103  \n",
       "<Action.STAND: 2>          -0.1582  \n",
       "<Action.SURRENDER: 1>      -0.5000  \n",
       "strat_simple_func          -0.1582  "
      ]
     },
     "execution_count": 32,
     "metadata": {},
     "output_type": "execute_result"
    }
   ],
   "source": [
    "# soft 13 vs 6\n",
    "def cond_13s_6(score_p, score_d):\n",
    "    return score_p == HandScore(13, True) and score_d.points == 6\n",
    "\n",
    "\n",
    "\n",
    "strats = sim.gen_cond_strategies(strat_simple, cond_13s_6, Action)\n",
    "sims = sim.run_n_sim_trials_from_state(strats+[strat_simple], bj.make_hand([1, 2]), bj.make_hand([6]), 10000)\n",
    "sim.summarize_totals(sims)"
   ]
  },
  {
   "cell_type": "code",
   "execution_count": 33,
   "id": "liable-painting",
   "metadata": {
    "ExecuteTime": {
     "end_time": "2021-08-07T04:23:57.473440Z",
     "start_time": "2021-08-07T04:23:56.983348Z"
    }
   },
   "outputs": [
    {
     "data": {
      "text/html": [
       "<div>\n",
       "<style scoped>\n",
       "    .dataframe tbody tr th:only-of-type {\n",
       "        vertical-align: middle;\n",
       "    }\n",
       "\n",
       "    .dataframe tbody tr th {\n",
       "        vertical-align: top;\n",
       "    }\n",
       "\n",
       "    .dataframe thead tr th {\n",
       "        text-align: left;\n",
       "    }\n",
       "\n",
       "    .dataframe thead tr:last-of-type th {\n",
       "        text-align: right;\n",
       "    }\n",
       "</style>\n",
       "<table border=\"1\" class=\"dataframe\">\n",
       "  <thead>\n",
       "    <tr>\n",
       "      <th></th>\n",
       "      <th colspan=\"6\" halign=\"left\">len</th>\n",
       "      <th>mean_outcome</th>\n",
       "    </tr>\n",
       "    <tr>\n",
       "      <th>outcome_name</th>\n",
       "      <th>LOSE</th>\n",
       "      <th>LOSE_DOUBLE</th>\n",
       "      <th>PUSH</th>\n",
       "      <th>SURRENDER</th>\n",
       "      <th>WIN</th>\n",
       "      <th>WIN_DOUBLE</th>\n",
       "      <th></th>\n",
       "    </tr>\n",
       "    <tr>\n",
       "      <th>strategy</th>\n",
       "      <th></th>\n",
       "      <th></th>\n",
       "      <th></th>\n",
       "      <th></th>\n",
       "      <th></th>\n",
       "      <th></th>\n",
       "      <th></th>\n",
       "    </tr>\n",
       "  </thead>\n",
       "  <tbody>\n",
       "    <tr>\n",
       "      <th>&lt;Action.DOUBLE: 4&gt;</th>\n",
       "      <td>0</td>\n",
       "      <td>3164</td>\n",
       "      <td>698</td>\n",
       "      <td>0</td>\n",
       "      <td>0</td>\n",
       "      <td>6138</td>\n",
       "      <td>0.5948</td>\n",
       "    </tr>\n",
       "    <tr>\n",
       "      <th>&lt;Action.HIT: 3&gt;</th>\n",
       "      <td>3239</td>\n",
       "      <td>0</td>\n",
       "      <td>708</td>\n",
       "      <td>0</td>\n",
       "      <td>6053</td>\n",
       "      <td>0</td>\n",
       "      <td>0.2814</td>\n",
       "    </tr>\n",
       "    <tr>\n",
       "      <th>&lt;Action.STAND: 2&gt;</th>\n",
       "      <td>5776</td>\n",
       "      <td>0</td>\n",
       "      <td>0</td>\n",
       "      <td>0</td>\n",
       "      <td>4224</td>\n",
       "      <td>0</td>\n",
       "      <td>-0.1552</td>\n",
       "    </tr>\n",
       "    <tr>\n",
       "      <th>&lt;Action.SURRENDER: 1&gt;</th>\n",
       "      <td>0</td>\n",
       "      <td>0</td>\n",
       "      <td>0</td>\n",
       "      <td>10000</td>\n",
       "      <td>0</td>\n",
       "      <td>0</td>\n",
       "      <td>-0.5000</td>\n",
       "    </tr>\n",
       "    <tr>\n",
       "      <th>strat_simple_func</th>\n",
       "      <td>3191</td>\n",
       "      <td>0</td>\n",
       "      <td>682</td>\n",
       "      <td>0</td>\n",
       "      <td>6127</td>\n",
       "      <td>0</td>\n",
       "      <td>0.2936</td>\n",
       "    </tr>\n",
       "  </tbody>\n",
       "</table>\n",
       "</div>"
      ],
      "text/plain": [
       "                        len                                              \\\n",
       "outcome_name           LOSE LOSE_DOUBLE PUSH SURRENDER   WIN WIN_DOUBLE   \n",
       "strategy                                                                  \n",
       "<Action.DOUBLE: 4>        0        3164  698         0     0       6138   \n",
       "<Action.HIT: 3>        3239           0  708         0  6053          0   \n",
       "<Action.STAND: 2>      5776           0    0         0  4224          0   \n",
       "<Action.SURRENDER: 1>     0           0    0     10000     0          0   \n",
       "strat_simple_func      3191           0  682         0  6127          0   \n",
       "\n",
       "                      mean_outcome  \n",
       "outcome_name                        \n",
       "strategy                            \n",
       "<Action.DOUBLE: 4>          0.5948  \n",
       "<Action.HIT: 3>             0.2814  \n",
       "<Action.STAND: 2>          -0.1552  \n",
       "<Action.SURRENDER: 1>      -0.5000  \n",
       "strat_simple_func           0.2936  "
      ]
     },
     "execution_count": 33,
     "metadata": {},
     "output_type": "execute_result"
    }
   ],
   "source": [
    "# 10 v 6\n",
    "def cond_10_6(score_p, score_d):\n",
    "    return score_p.points == 10 and score_d.points == 6\n",
    "\n",
    "strats = sim.gen_cond_strategies(strat_simple, cond_10_6, Action)\n",
    "sims = sim.run_n_sim_trials_from_state(strats+[strat_simple], make_hand([5, 5]), make_hand([6]), 10000)\n",
    "sim.summarize_totals(sims)"
   ]
  },
  {
   "cell_type": "code",
   "execution_count": 34,
   "id": "serious-briefs",
   "metadata": {
    "ExecuteTime": {
     "end_time": "2021-08-07T04:23:57.949360Z",
     "start_time": "2021-08-07T04:23:57.474393Z"
    }
   },
   "outputs": [
    {
     "data": {
      "text/plain": [
       "(<function simulator.test_cond.<locals>.cond(p, d)>,\n",
       "                         len                                              \\\n",
       " outcome_name           LOSE LOSE_DOUBLE PUSH SURRENDER   WIN WIN_DOUBLE   \n",
       " strategy                                                                  \n",
       " <Action.DOUBLE: 4>        0        3212  659         0     0       6129   \n",
       " <Action.HIT: 3>        3161           0  676         0  6163          0   \n",
       " <Action.STAND: 2>      5704           0    0         0  4296          0   \n",
       " <Action.SURRENDER: 1>     0           0    0     10000     0          0   \n",
       " \n",
       "                       mean_outcome  \n",
       " outcome_name                        \n",
       " strategy                            \n",
       " <Action.DOUBLE: 4>          0.5834  \n",
       " <Action.HIT: 3>             0.3002  \n",
       " <Action.STAND: 2>          -0.1408  \n",
       " <Action.SURRENDER: 1>      -0.5000  )"
      ]
     },
     "execution_count": 34,
     "metadata": {},
     "output_type": "execute_result"
    }
   ],
   "source": [
    "sim.test_cond(HandScore(10), HandScore(6), 10000, strat_simple)"
   ]
  },
  {
   "cell_type": "code",
   "execution_count": 35,
   "id": "square-binary",
   "metadata": {
    "ExecuteTime": {
     "end_time": "2021-08-07T04:23:57.970056Z",
     "start_time": "2021-08-07T04:23:57.950252Z"
    }
   },
   "outputs": [
    {
     "data": {
      "text/plain": [
       "(<function simulator.test_cond.<locals>.cond(p, d)>,\n",
       "                        len                                            \\\n",
       " outcome_name          LOSE LOSE_DOUBLE PUSH SURRENDER WIN WIN_DOUBLE   \n",
       " strategy                                                               \n",
       " <Action.DOUBLE: 4>       0         159    7         0   0         34   \n",
       " <Action.HIT: 3>        162           0    5         0  33          0   \n",
       " <Action.STAND: 2>       72           0   29         0  99          0   \n",
       " <Action.SURRENDER: 1>    0           0    0       200   0          0   \n",
       " \n",
       "                       mean_outcome  \n",
       " outcome_name                        \n",
       " strategy                            \n",
       " <Action.DOUBLE: 4>          -1.250  \n",
       " <Action.HIT: 3>             -0.645  \n",
       " <Action.STAND: 2>            0.135  \n",
       " <Action.SURRENDER: 1>       -0.500  )"
      ]
     },
     "execution_count": 35,
     "metadata": {},
     "output_type": "execute_result"
    }
   ],
   "source": [
    "sim.test_cond(HandScore(18), HandScore(6), 200, strat_simple)"
   ]
  },
  {
   "cell_type": "code",
   "execution_count": 36,
   "id": "recent-harvey",
   "metadata": {
    "ExecuteTime": {
     "end_time": "2021-08-07T04:23:57.991441Z",
     "start_time": "2021-08-07T04:23:57.970896Z"
    }
   },
   "outputs": [
    {
     "data": {
      "text/plain": [
       "(<function simulator.test_cond.<locals>.cond(p, d)>,\n",
       "                             len                                        \\\n",
       " outcome_name          BLACKJACK LOSE LOSE_DOUBLE PUSH  WIN WIN_DOUBLE   \n",
       " strategy                                                                \n",
       " <Action.DOUBLE: 4>            0    0          74   13    0        113   \n",
       " <Action.HIT: 3>               0   58           0   15  127          0   \n",
       " <Action.STAND: 2>           200    0           0    0    0          0   \n",
       " <Action.SURRENDER: 1>       200    0           0    0    0          0   \n",
       " \n",
       "                       mean_outcome  \n",
       " outcome_name                        \n",
       " strategy                            \n",
       " <Action.DOUBLE: 4>           0.390  \n",
       " <Action.HIT: 3>              0.345  \n",
       " <Action.STAND: 2>            1.500  \n",
       " <Action.SURRENDER: 1>        1.500  )"
      ]
     },
     "execution_count": 36,
     "metadata": {},
     "output_type": "execute_result"
    }
   ],
   "source": [
    "sim.test_cond(HandScore(21, True), HandScore(6), 200, strat_simple)"
   ]
  },
  {
   "cell_type": "code",
   "execution_count": 37,
   "id": "manual-anime",
   "metadata": {
    "ExecuteTime": {
     "end_time": "2021-08-07T04:23:58.027972Z",
     "start_time": "2021-08-07T04:23:57.993530Z"
    }
   },
   "outputs": [
    {
     "data": {
      "text/plain": [
       "{'<Action.DOUBLE: 4>': 0.81,\n",
       " '<Action.HIT: 3>': 0.445,\n",
       " '<Action.STAND: 2>': -0.04,\n",
       " '<Action.SURRENDER: 1>': -0.5,\n",
       " 'score_p': 'h10',\n",
       " 'score_d': 'h06',\n",
       " 'winning_act': <Action.DOUBLE: 4>,\n",
       " 'winning_act_outcome': 0.81}"
      ]
     },
     "execution_count": 37,
     "metadata": {},
     "output_type": "execute_result"
    }
   ],
   "source": [
    "\n",
    "sim.find_winning_action(HandScore(10), HandScore(6), 200)"
   ]
  },
  {
   "cell_type": "code",
   "execution_count": 38,
   "id": "supported-herald",
   "metadata": {
    "ExecuteTime": {
     "end_time": "2021-08-07T04:23:58.075176Z",
     "start_time": "2021-08-07T04:23:58.028942Z"
    }
   },
   "outputs": [
    {
     "data": {
      "text/plain": [
       "(<function simulator.test_cond.<locals>.cond(p, d)>,\n",
       "                        len                                             \\\n",
       " outcome_name          LOSE LOSE_DOUBLE PUSH SURRENDER  WIN WIN_DOUBLE   \n",
       " strategy                                                                \n",
       " <Action.DOUBLE: 4>       0         874   18         0    0        108   \n",
       " <Action.HIT: 3>        854           0   30         0  116          0   \n",
       " <Action.STAND: 2>      614           0  113         0  273          0   \n",
       " <Action.SURRENDER: 1>  331           0    0       669    0          0   \n",
       " \n",
       "                       mean_outcome  \n",
       " outcome_name                        \n",
       " strategy                            \n",
       " <Action.DOUBLE: 4>         -1.5320  \n",
       " <Action.HIT: 3>            -0.7380  \n",
       " <Action.STAND: 2>          -0.3410  \n",
       " <Action.SURRENDER: 1>      -0.6655  )"
      ]
     },
     "execution_count": 38,
     "metadata": {},
     "output_type": "execute_result"
    }
   ],
   "source": [
    "sim.test_cond(HandScore(18), HandScore(11, True), 1000)"
   ]
  },
  {
   "cell_type": "code",
   "execution_count": 39,
   "id": "behind-seattle",
   "metadata": {
    "ExecuteTime": {
     "end_time": "2021-08-07T04:24:01.931163Z",
     "start_time": "2021-08-07T04:23:58.076112Z"
    }
   },
   "outputs": [
    {
     "name": "stdout",
     "output_type": "stream",
     "text": [
      " "
     ]
    },
    {
     "data": {
      "text/html": [
       "<div>\n",
       "<style scoped>\n",
       "    .dataframe tbody tr th:only-of-type {\n",
       "        vertical-align: middle;\n",
       "    }\n",
       "\n",
       "    .dataframe tbody tr th {\n",
       "        vertical-align: top;\n",
       "    }\n",
       "\n",
       "    .dataframe thead th {\n",
       "        text-align: right;\n",
       "    }\n",
       "</style>\n",
       "<table border=\"1\" class=\"dataframe\">\n",
       "  <thead>\n",
       "    <tr style=\"text-align: right;\">\n",
       "      <th></th>\n",
       "      <th></th>\n",
       "      <th>&lt;Action.DOUBLE: 4&gt;</th>\n",
       "      <th>&lt;Action.HIT: 3&gt;</th>\n",
       "      <th>&lt;Action.STAND: 2&gt;</th>\n",
       "      <th>&lt;Action.SURRENDER: 1&gt;</th>\n",
       "      <th>winning_act</th>\n",
       "      <th>winning_act_outcome</th>\n",
       "    </tr>\n",
       "    <tr>\n",
       "      <th>score_p</th>\n",
       "      <th>score_d</th>\n",
       "      <th></th>\n",
       "      <th></th>\n",
       "      <th></th>\n",
       "      <th></th>\n",
       "      <th></th>\n",
       "      <th></th>\n",
       "    </tr>\n",
       "  </thead>\n",
       "  <tbody>\n",
       "    <tr>\n",
       "      <th rowspan=\"5\" valign=\"top\">h09</th>\n",
       "      <th>s11</th>\n",
       "      <td>-1.1</td>\n",
       "      <td>-0.60</td>\n",
       "      <td>-0.70</td>\n",
       "      <td>-0.775</td>\n",
       "      <td>Action.HIT</td>\n",
       "      <td>-0.60</td>\n",
       "    </tr>\n",
       "    <tr>\n",
       "      <th>h02</th>\n",
       "      <td>-0.6</td>\n",
       "      <td>0.30</td>\n",
       "      <td>-0.70</td>\n",
       "      <td>-0.500</td>\n",
       "      <td>Action.HIT</td>\n",
       "      <td>0.30</td>\n",
       "    </tr>\n",
       "    <tr>\n",
       "      <th>h03</th>\n",
       "      <td>0.2</td>\n",
       "      <td>-0.05</td>\n",
       "      <td>-0.20</td>\n",
       "      <td>-0.500</td>\n",
       "      <td>Action.DOUBLE</td>\n",
       "      <td>0.20</td>\n",
       "    </tr>\n",
       "    <tr>\n",
       "      <th>h04</th>\n",
       "      <td>0.6</td>\n",
       "      <td>0.35</td>\n",
       "      <td>-0.30</td>\n",
       "      <td>-0.500</td>\n",
       "      <td>Action.DOUBLE</td>\n",
       "      <td>0.60</td>\n",
       "    </tr>\n",
       "    <tr>\n",
       "      <th>h05</th>\n",
       "      <td>0.4</td>\n",
       "      <td>0.40</td>\n",
       "      <td>-0.20</td>\n",
       "      <td>-0.500</td>\n",
       "      <td>Action.DOUBLE</td>\n",
       "      <td>0.40</td>\n",
       "    </tr>\n",
       "    <tr>\n",
       "      <th>...</th>\n",
       "      <th>...</th>\n",
       "      <td>...</td>\n",
       "      <td>...</td>\n",
       "      <td>...</td>\n",
       "      <td>...</td>\n",
       "      <td>...</td>\n",
       "      <td>...</td>\n",
       "    </tr>\n",
       "    <tr>\n",
       "      <th rowspan=\"5\" valign=\"top\">s21</th>\n",
       "      <th>h06</th>\n",
       "      <td>0.8</td>\n",
       "      <td>0.70</td>\n",
       "      <td>1.50</td>\n",
       "      <td>1.500</td>\n",
       "      <td>Action.STAND</td>\n",
       "      <td>1.50</td>\n",
       "    </tr>\n",
       "    <tr>\n",
       "      <th>h07</th>\n",
       "      <td>-0.2</td>\n",
       "      <td>0.10</td>\n",
       "      <td>1.50</td>\n",
       "      <td>1.500</td>\n",
       "      <td>Action.STAND</td>\n",
       "      <td>1.50</td>\n",
       "    </tr>\n",
       "    <tr>\n",
       "      <th>h08</th>\n",
       "      <td>0.3</td>\n",
       "      <td>0.15</td>\n",
       "      <td>1.50</td>\n",
       "      <td>1.500</td>\n",
       "      <td>Action.STAND</td>\n",
       "      <td>1.50</td>\n",
       "    </tr>\n",
       "    <tr>\n",
       "      <th>h09</th>\n",
       "      <td>-0.1</td>\n",
       "      <td>0.15</td>\n",
       "      <td>1.50</td>\n",
       "      <td>1.500</td>\n",
       "      <td>Action.STAND</td>\n",
       "      <td>1.50</td>\n",
       "    </tr>\n",
       "    <tr>\n",
       "      <th>h10</th>\n",
       "      <td>-0.1</td>\n",
       "      <td>0.00</td>\n",
       "      <td>1.35</td>\n",
       "      <td>1.350</td>\n",
       "      <td>Action.STAND</td>\n",
       "      <td>1.35</td>\n",
       "    </tr>\n",
       "  </tbody>\n",
       "</table>\n",
       "<p>250 rows × 6 columns</p>\n",
       "</div>"
      ],
      "text/plain": [
       "                 <Action.DOUBLE: 4>  <Action.HIT: 3>  <Action.STAND: 2>  \\\n",
       "score_p score_d                                                           \n",
       "h09     s11                    -1.1            -0.60              -0.70   \n",
       "        h02                    -0.6             0.30              -0.70   \n",
       "        h03                     0.2            -0.05              -0.20   \n",
       "        h04                     0.6             0.35              -0.30   \n",
       "        h05                     0.4             0.40              -0.20   \n",
       "...                             ...              ...                ...   \n",
       "s21     h06                     0.8             0.70               1.50   \n",
       "        h07                    -0.2             0.10               1.50   \n",
       "        h08                     0.3             0.15               1.50   \n",
       "        h09                    -0.1             0.15               1.50   \n",
       "        h10                    -0.1             0.00               1.35   \n",
       "\n",
       "                 <Action.SURRENDER: 1>    winning_act  winning_act_outcome  \n",
       "score_p score_d                                                             \n",
       "h09     s11                     -0.775     Action.HIT                -0.60  \n",
       "        h02                     -0.500     Action.HIT                 0.30  \n",
       "        h03                     -0.500  Action.DOUBLE                 0.20  \n",
       "        h04                     -0.500  Action.DOUBLE                 0.60  \n",
       "        h05                     -0.500  Action.DOUBLE                 0.40  \n",
       "...                                ...            ...                  ...  \n",
       "s21     h06                      1.500   Action.STAND                 1.50  \n",
       "        h07                      1.500   Action.STAND                 1.50  \n",
       "        h08                      1.500   Action.STAND                 1.50  \n",
       "        h09                      1.500   Action.STAND                 1.50  \n",
       "        h10                      1.350   Action.STAND                 1.35  \n",
       "\n",
       "[250 rows x 6 columns]"
      ]
     },
     "execution_count": 39,
     "metadata": {},
     "output_type": "execute_result"
    }
   ],
   "source": [
    "%prun -s cumulative conds = sim.compute_instructions(20)\n",
    "pd.DataFrame(conds).set_index(['score_p', 'score_d'])"
   ]
  },
  {
   "cell_type": "code",
   "execution_count": 40,
   "id": "challenging-producer",
   "metadata": {
    "ExecuteTime": {
     "end_time": "2021-08-07T04:24:07.053576Z",
     "start_time": "2021-08-07T04:24:01.933546Z"
    }
   },
   "outputs": [
    {
     "name": "stdout",
     "output_type": "stream",
     "text": [
      " "
     ]
    }
   ],
   "source": [
    "\n",
    "%prun -s cumulative sim.compute_instructions(100, strat_simple)"
   ]
  },
  {
   "cell_type": "code",
   "execution_count": 41,
   "id": "foster-december",
   "metadata": {
    "ExecuteTime": {
     "end_time": "2021-08-07T04:24:10.661974Z",
     "start_time": "2021-08-07T04:24:07.054965Z"
    },
    "scrolled": true
   },
   "outputs": [
    {
     "name": "stdout",
     "output_type": "stream",
     "text": [
      " "
     ]
    },
    {
     "data": {
      "image/png": "[encoded data removed]",
      "text/plain": [
       "<Figure size 432x288 with 4 Axes>"
      ]
     },
     "metadata": {
      "needs_background": "light"
     },
     "output_type": "display_data"
    }
   ],
   "source": [
    "\n",
    "\n",
    "%prun -s cumulative opt.run_iteration(1, strat_simple, None)"
   ]
  },
  {
   "cell_type": "code",
   "execution_count": 42,
   "id": "typical-murder",
   "metadata": {
    "ExecuteTime": {
     "end_time": "2021-08-07T04:24:10.721524Z",
     "start_time": "2021-08-07T04:24:10.665033Z"
    }
   },
   "outputs": [
    {
     "data": {
      "text/plain": [
       "(            strategy hand_start  dealer_card     hand_end    dealer_hand  \\\n",
       " 0  strat_simple_func    [13, 1]            2      [13, 1]   [2, 7, 5, 4]   \n",
       " 1           memoized    [13, 1]            2      [13, 1]   [2, 7, 5, 4]   \n",
       " 2  strat_simple_func    [3, 12]            8   [3, 12, 9]        [8, 13]   \n",
       " 3           memoized    [3, 12]            8  [3, 12, 13]        [8, 13]   \n",
       " 4  strat_simple_func     [7, 3]            3    [7, 3, 4]  [3, 2, 3, 13]   \n",
       " 5           memoized     [7, 3]            3    [7, 3, 9]  [3, 2, 3, 13]   \n",
       " 6  strat_simple_func     [1, 8]           10       [1, 8]     [10, 3, 9]   \n",
       " 7           memoized     [1, 8]           10       [1, 8]     [10, 3, 9]   \n",
       " 8  strat_simple_func    [9, 12]            7      [9, 12]  [7, 3, 5, 13]   \n",
       " 9           memoized    [9, 12]            7      [9, 12]  [7, 3, 5, 13]   \n",
       " \n",
       "                  outcome  outcome_value outcome_name  \n",
       " 0  HandOutcome.BLACKJACK            1.5    BLACKJACK  \n",
       " 1  HandOutcome.BLACKJACK            1.5    BLACKJACK  \n",
       " 2       HandOutcome.LOSE           -1.0         LOSE  \n",
       " 3       HandOutcome.LOSE           -1.0         LOSE  \n",
       " 4       HandOutcome.LOSE           -1.0         LOSE  \n",
       " 5        HandOutcome.WIN            1.0          WIN  \n",
       " 6        HandOutcome.WIN            1.0          WIN  \n",
       " 7        HandOutcome.WIN            1.0          WIN  \n",
       " 8        HandOutcome.WIN            1.0          WIN  \n",
       " 9        HandOutcome.WIN            1.0          WIN  ,\n",
       "                         len                                       mean_outcome\n",
       " outcome_name      BLACKJACK LOSE LOSE_DOUBLE PUSH  WIN WIN_DOUBLE             \n",
       " strategy                                                                      \n",
       " memoized                 56  459          15  101  344         25       -0.011\n",
       " strat_simple_func        56  452          25   97  353         17       -0.031)"
      ]
     },
     "execution_count": 42,
     "metadata": {},
     "output_type": "execute_result"
    }
   ],
   "source": [
    "# Memoized strategy\n",
    "# Rather than generic conditions, just use an array indexed on player and dealer scores\n",
    "# Since that's how we're generating our strategy anyway (one square at a time)\n",
    "\n",
    "instructions = {(repr(HandScore(13, True)), repr(HandScore(6))): Action.HIT}\n",
    "strat_memoized = opt.gen_strat_memoized(instructions, strat_simple)\n",
    "\n",
    "sims = sim.run_n_sim_trials([strat_simple, strat_memoized], 1000)\n",
    "sims.head(10), sim.summarize_totals(sims)"
   ]
  },
  {
   "cell_type": "code",
   "execution_count": 43,
   "id": "imposed-cinema",
   "metadata": {
    "ExecuteTime": {
     "end_time": "2021-08-07T04:33:48.584013Z",
     "start_time": "2021-08-07T04:24:10.722561Z"
    }
   },
   "outputs": [
    {
     "name": "stdout",
     "output_type": "stream",
     "text": [
      "Starting iteration 0\n",
      "Starting iteration 1\n",
      "('h09', 'h04') Action.HIT Action.DOUBLE\n",
      "('h09', 'h05') Action.HIT Action.DOUBLE\n",
      "('h10', 'h02') Action.HIT Action.DOUBLE\n",
      "('h10', 'h10') Action.HIT Action.DOUBLE\n",
      "('h11', 'h07') Action.DOUBLE Action.HIT\n",
      "('h11', 'h09') Action.DOUBLE Action.HIT\n",
      "('h12', 'h02') Action.STAND Action.DOUBLE\n",
      "('h12', 'h04') Action.STAND Action.DOUBLE\n",
      "('h12', 'h06') Action.DOUBLE Action.STAND\n",
      "('h13', 'h03') Action.STAND Action.HIT\n",
      "('h13', 'h04') Action.HIT Action.DOUBLE\n",
      "('h13', 'h06') Action.STAND Action.HIT\n",
      "('h14', 'h08') Action.HIT Action.SURRENDER\n",
      "('h14', 'h10') Action.STAND Action.HIT\n",
      "('h15', 's11') Action.STAND Action.HIT\n",
      "('h15', 'h06') Action.STAND Action.HIT\n",
      "('h15', 'h09') Action.STAND Action.SURRENDER\n",
      "('h16', 's11') Action.SURRENDER Action.STAND\n",
      "('h16', 'h07') Action.HIT Action.STAND\n",
      "('h16', 'h08') Action.HIT Action.SURRENDER\n",
      "('h16', 'h09') Action.SURRENDER Action.STAND\n",
      "('h16', 'h10') Action.HIT Action.SURRENDER\n",
      "('h17', 's11') Action.STAND Action.SURRENDER\n",
      "('h17', 'h10') Action.STAND Action.SURRENDER\n",
      "('s11', 'h06') Action.DOUBLE Action.HIT\n",
      "('s11', 'h09') Action.HIT Action.DOUBLE\n",
      "('s11', 'h10') Action.HIT Action.DOUBLE\n",
      "('s14', 'h02') Action.HIT Action.STAND\n",
      "('s15', 'h06') Action.HIT Action.DOUBLE\n",
      "('s15', 'h09') Action.HIT Action.SURRENDER\n",
      "('s17', 's11') Action.HIT Action.STAND\n",
      "('s17', 'h02') Action.HIT Action.STAND\n",
      "('s17', 'h03') Action.HIT Action.STAND\n",
      "('s17', 'h04') Action.HIT Action.STAND\n",
      "('s17', 'h06') Action.STAND Action.HIT\n",
      "('s17', 'h09') Action.HIT Action.STAND\n",
      "('s18', 's11') Action.HIT Action.STAND\n",
      "('s18', 'h02') Action.HIT Action.STAND\n",
      "('s18', 'h05') Action.STAND Action.HIT\n",
      "('s19', 'h05') Action.STAND Action.DOUBLE\n",
      "Starting iteration 2\n",
      "('h09', 'h03') Action.HIT Action.DOUBLE\n",
      "('h09', 'h04') Action.DOUBLE Action.HIT\n",
      "('h09', 'h07') Action.HIT Action.DOUBLE\n",
      "('h10', 'h02') Action.DOUBLE Action.HIT\n",
      "('h10', 'h08') Action.DOUBLE Action.HIT\n",
      "('h10', 'h09') Action.HIT Action.DOUBLE\n",
      "('h11', 'h07') Action.HIT Action.DOUBLE\n",
      "('h11', 'h09') Action.HIT Action.DOUBLE\n",
      "('h11', 'h10') Action.DOUBLE Action.HIT\n",
      "('h12', 'h02') Action.HIT Action.STAND\n",
      "('h12', 'h03') Action.HIT Action.STAND\n",
      "('h12', 'h04') Action.HIT Action.STAND\n",
      "('h12', 'h05') Action.STAND Action.HIT\n",
      "('h12', 'h06') Action.HIT Action.DOUBLE\n",
      "('h12', 'h07') Action.DOUBLE Action.HIT\n",
      "('h13', 'h03') Action.HIT Action.STAND\n",
      "('h13', 'h04') Action.STAND Action.HIT\n",
      "('h14', 'h09') Action.HIT Action.SURRENDER\n",
      "('h14', 'h10') Action.HIT Action.STAND\n",
      "('h15', 's11') Action.HIT Action.STAND\n",
      "('h15', 'h08') Action.SURRENDER Action.HIT\n",
      "('h15', 'h09') Action.HIT Action.STAND\n",
      "('h16', 's11') Action.HIT Action.SURRENDER\n",
      "('h16', 'h08') Action.STAND Action.HIT\n",
      "('h17', 'h08') Action.HIT Action.STAND\n",
      "('h17', 'h09') Action.SURRENDER Action.STAND\n",
      "('s11', 'h07') Action.DOUBLE Action.HIT\n",
      "('s18', 's11') Action.STAND Action.HIT\n",
      "('s18', 'h02') Action.STAND Action.HIT\n",
      "('s18', 'h06') Action.DOUBLE Action.STAND\n",
      "('s20', 'h02') Action.STAND Action.DOUBLE\n",
      "Starting iteration 3\n",
      "('h09', 'h03') Action.DOUBLE Action.HIT\n",
      "('h09', 'h05') Action.DOUBLE Action.HIT\n",
      "('h10', 'h07') Action.DOUBLE Action.HIT\n",
      "('h10', 'h09') Action.DOUBLE Action.HIT\n",
      "('h11', 'h07') Action.DOUBLE Action.HIT\n",
      "('h11', 'h09') Action.DOUBLE Action.HIT\n",
      "('h11', 'h10') Action.HIT Action.DOUBLE\n",
      "('h12', 'h02') Action.STAND Action.HIT\n",
      "('h12', 'h03') Action.STAND Action.HIT\n",
      "('h12', 'h06') Action.STAND Action.HIT\n",
      "('h12', 'h07') Action.HIT Action.DOUBLE\n",
      "('h13', 'h03') Action.STAND Action.HIT\n",
      "('h14', 's11') Action.HIT Action.SURRENDER\n",
      "('h14', 'h02') Action.HIT Action.STAND\n",
      "('h15', 'h08') Action.HIT Action.SURRENDER\n",
      "('h15', 'h10') Action.STAND Action.HIT\n",
      "('h16', 'h07') Action.STAND Action.HIT\n",
      "('h16', 'h08') Action.SURRENDER Action.STAND\n",
      "('h16', 'h09') Action.HIT Action.SURRENDER\n",
      "('h16', 'h10') Action.SURRENDER Action.HIT\n",
      "('h17', 'h08') Action.STAND Action.HIT\n",
      "('h17', 'h09') Action.STAND Action.SURRENDER\n",
      "('h17', 'h10') Action.HIT Action.STAND\n",
      "('s11', 'h07') Action.HIT Action.DOUBLE\n",
      "('s11', 'h08') Action.HIT Action.DOUBLE\n",
      "('s11', 'h09') Action.DOUBLE Action.HIT\n",
      "('s18', 's11') Action.HIT Action.STAND\n",
      "('s18', 'h06') Action.STAND Action.DOUBLE\n",
      "Starting iteration 4\n",
      "('h09', 'h05') Action.HIT Action.DOUBLE\n",
      "('h10', 'h10') Action.DOUBLE Action.HIT\n",
      "('h12', 'h03') Action.HIT Action.STAND\n",
      "('h12', 'h04') Action.STAND Action.HIT\n",
      "('h14', 'h02') Action.STAND Action.HIT\n",
      "('h15', 'h10') Action.SURRENDER Action.STAND\n",
      "('h16', 'h08') Action.STAND Action.SURRENDER\n",
      "('h16', 'h09') Action.STAND Action.HIT\n",
      "('h17', 'h10') Action.STAND Action.HIT\n",
      "('s11', 'h07') Action.DOUBLE Action.HIT\n",
      "('s17', 'h06') Action.HIT Action.STAND\n",
      "('s18', 's11') Action.STAND Action.HIT\n",
      "Starting iteration 5\n",
      "('h09', 'h05') Action.DOUBLE Action.HIT\n",
      "('h10', 'h10') Action.HIT Action.DOUBLE\n",
      "('h12', 'h02') Action.HIT Action.STAND\n",
      "('h12', 'h06') Action.HIT Action.STAND\n",
      "('h16', 's11') Action.SURRENDER Action.HIT\n",
      "('h16', 'h07') Action.HIT Action.STAND\n",
      "('h16', 'h08') Action.HIT Action.STAND\n",
      "('h16', 'h09') Action.SURRENDER Action.STAND\n",
      "('s11', 'h08') Action.DOUBLE Action.HIT\n",
      "('s11', 'h09') Action.HIT Action.DOUBLE\n",
      "Starting iteration 6\n",
      "('h09', 'h02') Action.HIT Action.DOUBLE\n",
      "('h10', 'h09') Action.HIT Action.DOUBLE\n",
      "('h12', 'h04') Action.HIT Action.STAND\n",
      "('h16', 's11') Action.HIT Action.SURRENDER\n",
      "('h16', 'h09') Action.HIT Action.SURRENDER\n",
      "Starting iteration 7\n",
      "('h09', 'h02') Action.DOUBLE Action.HIT\n",
      "('h10', 'h09') Action.DOUBLE Action.HIT\n",
      "('h12', 'h04') Action.STAND Action.HIT\n",
      "('h12', 'h06') Action.STAND Action.HIT\n",
      "('h15', 'h10') Action.HIT Action.SURRENDER\n",
      "('h16', 'h09') Action.SURRENDER Action.HIT\n",
      "Starting iteration 8\n",
      "('h09', 'h02') Action.HIT Action.DOUBLE\n",
      "('h12', 'h04') Action.HIT Action.STAND\n",
      "('h12', 'h06') Action.HIT Action.STAND\n",
      "Starting iteration 9\n",
      "('h12', 'h06') Action.STAND Action.HIT\n",
      "('h15', 'h10') Action.SURRENDER Action.HIT\n"
     ]
    },
    {
     "data": {
      "text/plain": [
       "[strat_simple_func,\n",
       " iter(1),\n",
       " iter(2),\n",
       " iter(3),\n",
       " iter(4),\n",
       " iter(5),\n",
       " iter(6),\n",
       " iter(7),\n",
       " iter(8),\n",
       " iter(9),\n",
       " iter(10)]"
      ]
     },
     "execution_count": 43,
     "metadata": {},
     "output_type": "execute_result"
    },
    {
     "data": {
      "image/png": "[encoded data removed]",
      "text/plain": [
       "<Figure size 432x288 with 4 Axes>"
      ]
     },
     "metadata": {
      "needs_background": "light"
     },
     "output_type": "display_data"
    },
    {
     "data": {
      "image/png": "[encoded data removed]",
      "text/plain": [
       "<Figure size 432x288 with 4 Axes>"
      ]
     },
     "metadata": {
      "needs_background": "light"
     },
     "output_type": "display_data"
    },
    {
     "data": {
      "image/png": "[encoded data removed]",
      "text/plain": [
       "<Figure size 432x288 with 4 Axes>"
      ]
     },
     "metadata": {
      "needs_background": "light"
     },
     "output_type": "display_data"
    },
    {
     "data": {
      "image/png": "[encoded data removed]",
      "text/plain": [
       "<Figure size 432x288 with 4 Axes>"
      ]
     },
     "metadata": {
      "needs_background": "light"
     },
     "output_type": "display_data"
    },
    {
     "data": {
      "image/png": "[encoded data removed]",
      "text/plain": [
       "<Figure size 432x288 with 4 Axes>"
      ]
     },
     "metadata": {
      "needs_background": "light"
     },
     "output_type": "display_data"
    },
    {
     "data": {
      "image/png": "[encoded data removed]",
      "text/plain": [
       "<Figure size 432x288 with 4 Axes>"
      ]
     },
     "metadata": {
      "needs_background": "light"
     },
     "output_type": "display_data"
    },
    {
     "data": {
      "image/png": "[encoded data removed]",
      "text/plain": [
       "<Figure size 432x288 with 4 Axes>"
      ]
     },
     "metadata": {
      "needs_background": "light"
     },
     "output_type": "display_data"
    },
    {
     "data": {
      "image/png": "[encoded data removed]",
      "text/plain": [
       "<Figure size 432x288 with 4 Axes>"
      ]
     },
     "metadata": {
      "needs_background": "light"
     },
     "output_type": "display_data"
    },
    {
     "data": {
      "image/png": "[encoded data removed]",
      "text/plain": [
       "<Figure size 432x288 with 4 Axes>"
      ]
     },
     "metadata": {
      "needs_background": "light"
     },
     "output_type": "display_data"
    },
    {
     "data": {
      "image/png": "[encoded data removed]",
      "text/plain": [
       "<Figure size 432x288 with 4 Axes>"
      ]
     },
     "metadata": {
      "needs_background": "light"
     },
     "output_type": "display_data"
    }
   ],
   "source": [
    "\n",
    "\n",
    "strategies = opt.derive_iterative_strategies(strat_simple, 10)\n",
    "strategies"
   ]
  },
  {
   "cell_type": "code",
   "execution_count": 44,
   "id": "continent-little",
   "metadata": {
    "ExecuteTime": {
     "end_time": "2021-08-07T04:33:48.588389Z",
     "start_time": "2021-08-07T04:33:48.584999Z"
    }
   },
   "outputs": [],
   "source": [
    "with open('strategies.pickle', 'wb') as handle:\n",
    "    pickle.dump(strategies, handle, protocol=pickle.HIGHEST_PROTOCOL)"
   ]
  },
  {
   "cell_type": "code",
   "execution_count": 45,
   "id": "lucky-account",
   "metadata": {
    "ExecuteTime": {
     "end_time": "2021-08-07T04:36:25.391860Z",
     "start_time": "2021-08-07T04:33:48.589216Z"
    }
   },
   "outputs": [
    {
     "data": {
      "text/plain": [
       "(            strategy hand_start  dealer_card     hand_end    dealer_hand  \\\n",
       " 0  strat_simple_func    [5, 11]            9   [5, 11, 7]  [9, 2, 1, 12]   \n",
       " 1            iter(1)    [5, 11]            9      [5, 11]  [9, 2, 1, 12]   \n",
       " 2            iter(2)    [5, 11]            9      [5, 11]  [9, 2, 1, 12]   \n",
       " 3            iter(3)    [5, 11]            9   [5, 11, 5]  [9, 2, 1, 12]   \n",
       " 4            iter(4)    [5, 11]            9   [5, 11, 3]  [9, 2, 1, 12]   \n",
       " 5            iter(5)    [5, 11]            9   [5, 11, 1]  [9, 2, 1, 12]   \n",
       " 6            iter(6)    [5, 11]            9   [5, 11, 3]  [9, 2, 1, 12]   \n",
       " 7            iter(7)    [5, 11]            9  [5, 11, 11]  [9, 2, 1, 12]   \n",
       " 8            iter(8)    [5, 11]            9   [5, 11, 5]  [9, 2, 1, 12]   \n",
       " 9            iter(9)    [5, 11]            9   [5, 11, 4]  [9, 2, 1, 12]   \n",
       " \n",
       "                  outcome  outcome_value outcome_name  \n",
       " 0       HandOutcome.LOSE           -1.0         LOSE  \n",
       " 1  HandOutcome.SURRENDER           -0.5    SURRENDER  \n",
       " 2        HandOutcome.WIN            1.0          WIN  \n",
       " 3        HandOutcome.WIN            1.0          WIN  \n",
       " 4        HandOutcome.WIN            1.0          WIN  \n",
       " 5        HandOutcome.WIN            1.0          WIN  \n",
       " 6        HandOutcome.WIN            1.0          WIN  \n",
       " 7       HandOutcome.LOSE           -1.0         LOSE  \n",
       " 8        HandOutcome.WIN            1.0          WIN  \n",
       " 9        HandOutcome.WIN            1.0          WIN  ,\n",
       "                         len                                               \\\n",
       " outcome_name      BLACKJACK    LOSE LOSE_DOUBLE   PUSH SURRENDER     WIN   \n",
       " strategy                                                                   \n",
       " iter(1)               44749  364335       40051  75385    119527  310134   \n",
       " iter(10)              44749  400276       23360  80627     80534  333221   \n",
       " iter(2)               44749  441575       24192  80278     30396  343820   \n",
       " iter(3)               44749  430515       28412  82365     36160  339518   \n",
       " iter(4)               44749  432463       24683  77509     43980  338130   \n",
       " iter(5)               44749  405036       29512  78474     68680  331445   \n",
       " iter(6)               44749  394065       24510  80016     87574  330373   \n",
       " iter(7)               44749  408005       22159  81692     71230  336660   \n",
       " iter(8)               44749  423395       24648  82138     47219  339202   \n",
       " iter(9)               44749  423717       23447  83125     47143  340701   \n",
       " strat_simple_func     44749  465915       18870  87064         0  358198   \n",
       " \n",
       "                              mean_outcome  \n",
       " outcome_name      WIN_DOUBLE               \n",
       " strategy                                   \n",
       " iter(1)                45819    -0.035305  \n",
       " iter(10)               37233    -0.012453  \n",
       " iter(2)                34990    -0.024234  \n",
       " iter(3)                38281    -0.022215  \n",
       " iter(4)                38486    -0.021594  \n",
       " iter(5)                42104    -0.015624  \n",
       " iter(6)                38713    -0.011950  \n",
       " iter(7)                35505    -0.013144  \n",
       " iter(8)                38649    -0.012677  \n",
       " iter(9)                37118    -0.012122  \n",
       " strat_simple_func      25204    -0.027925  )"
      ]
     },
     "execution_count": 45,
     "metadata": {},
     "output_type": "execute_result"
    }
   ],
   "source": [
    "sims = sim.run_n_sim_trials(strategies, 1000*1000)\n",
    "sims.head(10), sim.summarize_totals(sims)"
   ]
  },
  {
   "cell_type": "code",
   "execution_count": null,
   "id": "earned-latin",
   "metadata": {},
   "outputs": [],
   "source": []
  }
 ],
 "metadata": {
  "kernelspec": {
   "display_name": "Python 3",
   "language": "python",
   "name": "python3"
  },
  "language_info": {
   "codemirror_mode": {
    "name": "ipython",
    "version": 3
   },
   "file_extension": ".py",
   "mimetype": "text/x-python",
   "name": "python",
   "nbconvert_exporter": "python",
   "pygments_lexer": "ipython3",
   "version": "3.8.8"
  }
 },
 "nbformat": 4,
 "nbformat_minor": 5
}
