{
 "cells": [
  {
   "cell_type": "code",
   "execution_count": 1,
   "id": "middle-scenario",
   "metadata": {
    "ExecuteTime": {
     "end_time": "2021-06-28T02:44:11.402366Z",
     "start_time": "2021-06-28T02:44:11.128206Z"
    }
   },
   "outputs": [],
   "source": [
    "from dataclasses import dataclass, field\n",
    "from enum import Enum, auto\n",
    "import random\n",
    "import pandas as pd"
   ]
  },
  {
   "cell_type": "code",
   "execution_count": 2,
   "id": "annoying-pepper",
   "metadata": {
    "ExecuteTime": {
     "end_time": "2021-06-28T02:44:11.404879Z",
     "start_time": "2021-06-28T02:44:11.403474Z"
    }
   },
   "outputs": [],
   "source": [
    "# cards are numbers from 1 to 13\n",
    "# the score is capped at 10"
   ]
  },
  {
   "cell_type": "markdown",
   "id": "unknown-squad",
   "metadata": {},
   "source": [
    "## Define a Hand class and functions on it"
   ]
  },
  {
   "cell_type": "code",
   "execution_count": 3,
   "id": "compound-summit",
   "metadata": {
    "ExecuteTime": {
     "end_time": "2021-06-28T02:44:11.408421Z",
     "start_time": "2021-06-28T02:44:11.406156Z"
    }
   },
   "outputs": [],
   "source": [
    "@dataclass\n",
    "class Hand:\n",
    "    \"\"\"Class for representing a blackjack hand.\"\"\"\n",
    "    score: int = 0\n",
    "    soft: bool = False\n",
    "    cards: [int] = field(default_factory=list)\n"
   ]
  },
  {
   "cell_type": "code",
   "execution_count": 4,
   "id": "educational-height",
   "metadata": {
    "ExecuteTime": {
     "end_time": "2021-06-28T02:44:11.411278Z",
     "start_time": "2021-06-28T02:44:11.409564Z"
    }
   },
   "outputs": [],
   "source": [
    "# For now, assume aces are always 1 TODO\n",
    "def add_card(hand, card):\n",
    "    new_score = min(hand.score+min(10, card), 22) # cap busted hands at 22\n",
    "    hand.score = new_score\n",
    "    hand.cards += [card]\n",
    "    return hand"
   ]
  },
  {
   "cell_type": "code",
   "execution_count": 5,
   "id": "wicked-delhi",
   "metadata": {
    "ExecuteTime": {
     "end_time": "2021-06-28T02:44:11.413529Z",
     "start_time": "2021-06-28T02:44:11.412125Z"
    }
   },
   "outputs": [],
   "source": [
    "def is_busted(hand):\n",
    "    return hand.score > 21"
   ]
  },
  {
   "cell_type": "code",
   "execution_count": 6,
   "id": "initial-harrison",
   "metadata": {
    "ExecuteTime": {
     "end_time": "2021-06-28T02:44:11.420147Z",
     "start_time": "2021-06-28T02:44:11.414791Z"
    }
   },
   "outputs": [
    {
     "data": {
      "text/plain": [
       "Hand(score=0, soft=False, cards=[])"
      ]
     },
     "execution_count": 6,
     "metadata": {},
     "output_type": "execute_result"
    }
   ],
   "source": [
    "h = Hand()\n",
    "h"
   ]
  },
  {
   "cell_type": "code",
   "execution_count": 7,
   "id": "instructional-champagne",
   "metadata": {
    "ExecuteTime": {
     "end_time": "2021-06-28T02:44:11.424418Z",
     "start_time": "2021-06-28T02:44:11.421107Z"
    }
   },
   "outputs": [
    {
     "data": {
      "text/plain": [
       "Hand(score=6, soft=False, cards=[6])"
      ]
     },
     "execution_count": 7,
     "metadata": {},
     "output_type": "execute_result"
    }
   ],
   "source": [
    "add_card(h, 6) # start a hand with a 6"
   ]
  },
  {
   "cell_type": "code",
   "execution_count": 8,
   "id": "selected-vegetarian",
   "metadata": {
    "ExecuteTime": {
     "end_time": "2021-06-28T02:44:11.429264Z",
     "start_time": "2021-06-28T02:44:11.427204Z"
    }
   },
   "outputs": [
    {
     "data": {
      "text/plain": [
       "Hand(score=16, soft=False, cards=[6, 11])"
      ]
     },
     "execution_count": 8,
     "metadata": {},
     "output_type": "execute_result"
    }
   ],
   "source": [
    "add_card(h, 11) # show that J (11) counts as 10 points"
   ]
  },
  {
   "cell_type": "code",
   "execution_count": 9,
   "id": "flexible-witness",
   "metadata": {
    "ExecuteTime": {
     "end_time": "2021-06-28T02:44:11.433388Z",
     "start_time": "2021-06-28T02:44:11.431213Z"
    }
   },
   "outputs": [
    {
     "data": {
      "text/plain": [
       "(Hand(score=22, soft=False, cards=[6, 11, 7]), True)"
      ]
     },
     "execution_count": 9,
     "metadata": {},
     "output_type": "execute_result"
    }
   ],
   "source": [
    "add_card(h, 7), is_busted(h) # bust (show that 23 is counted as 22)"
   ]
  },
  {
   "cell_type": "markdown",
   "id": "twelve-controversy",
   "metadata": {},
   "source": [
    "## Now define gameplay and strategy"
   ]
  },
  {
   "cell_type": "code",
   "execution_count": 10,
   "id": "artistic-theology",
   "metadata": {
    "ExecuteTime": {
     "end_time": "2021-06-28T02:44:11.436510Z",
     "start_time": "2021-06-28T02:44:11.434311Z"
    }
   },
   "outputs": [],
   "source": [
    "\n",
    "# TODO I might want a Flag class later, to provide a set of possible Actions\n",
    "class Action(Enum):\n",
    "    STAND = auto()\n",
    "    HIT = auto()\n",
    "    #DOUBLE = auto()\n",
    "    #SPLIT = auto()\n",
    "    \n",
    "    "
   ]
  },
  {
   "cell_type": "code",
   "execution_count": 11,
   "id": "experimental-roulette",
   "metadata": {
    "ExecuteTime": {
     "end_time": "2021-06-28T02:44:11.440175Z",
     "start_time": "2021-06-28T02:44:11.437634Z"
    }
   },
   "outputs": [],
   "source": [
    "# Most simple/conservative strategy imaginable:\n",
    "def strat_nobust(hand, dealer):\n",
    "    if hand.score > 11:\n",
    "        return Action.STAND\n",
    "    else:\n",
    "        return Action.HIT\n",
    "        "
   ]
  },
  {
   "cell_type": "code",
   "execution_count": 12,
   "id": "falling-clone",
   "metadata": {
    "ExecuteTime": {
     "end_time": "2021-06-28T02:44:11.444083Z",
     "start_time": "2021-06-28T02:44:11.442113Z"
    }
   },
   "outputs": [],
   "source": [
    "# Dealer strategy\n",
    "def strat_dealer(hand, dealer):\n",
    "    if hand.score < 17:\n",
    "        return Action.HIT\n",
    "    # TODO handle soft hands\n",
    "    else:\n",
    "        return Action.STAND\n",
    "        "
   ]
  },
  {
   "cell_type": "code",
   "execution_count": 13,
   "id": "adjustable-orchestra",
   "metadata": {
    "ExecuteTime": {
     "end_time": "2021-06-28T02:44:11.446656Z",
     "start_time": "2021-06-28T02:44:11.445107Z"
    }
   },
   "outputs": [],
   "source": [
    "class HandOutcome(Enum):\n",
    "    WIN = 1\n",
    "    LOSE = -1\n",
    "    PUSH = 0"
   ]
  },
  {
   "cell_type": "code",
   "execution_count": 14,
   "id": "thorough-reader",
   "metadata": {
    "ExecuteTime": {
     "end_time": "2021-06-28T02:44:11.449257Z",
     "start_time": "2021-06-28T02:44:11.447583Z"
    }
   },
   "outputs": [],
   "source": [
    "# Deck; completely random (i.e., infinite) for now\n",
    "\n",
    "\n",
    "def deal_card():\n",
    "    return random.randrange(13)+1"
   ]
  },
  {
   "cell_type": "code",
   "execution_count": 15,
   "id": "mature-nashville",
   "metadata": {
    "ExecuteTime": {
     "end_time": "2021-06-28T02:44:11.452787Z",
     "start_time": "2021-06-28T02:44:11.450227Z"
    }
   },
   "outputs": [
    {
     "data": {
      "text/plain": [
       "[9, 11, 10, 11, 4, 7, 7, 1, 3, 10]"
      ]
     },
     "execution_count": 15,
     "metadata": {},
     "output_type": "execute_result"
    }
   ],
   "source": [
    "[deal_card() for _ in range(10)]"
   ]
  },
  {
   "cell_type": "code",
   "execution_count": 16,
   "id": "established-programming",
   "metadata": {
    "ExecuteTime": {
     "end_time": "2021-06-28T02:44:11.456266Z",
     "start_time": "2021-06-28T02:44:11.453726Z"
    }
   },
   "outputs": [],
   "source": [
    "# return the final hand after playing\n",
    "def player_play_hand(strategy, hand, dealer, deck): \n",
    "    while True:\n",
    "        decision = strategy(hand, dealer)\n",
    "        if decision == Action.STAND:\n",
    "            return hand\n",
    "        if decision == Action.HIT:\n",
    "            add_card(hand, deck())\n",
    "            if is_busted(hand):\n",
    "                return hand\n",
    "\n"
   ]
  },
  {
   "cell_type": "code",
   "execution_count": 17,
   "id": "devoted-shareware",
   "metadata": {
    "ExecuteTime": {
     "end_time": "2021-06-28T02:44:11.461130Z",
     "start_time": "2021-06-28T02:44:11.458126Z"
    }
   },
   "outputs": [],
   "source": [
    "def player_hand_outcome(player_hand, dealer_hand):\n",
    "    # TODO blackjack outcome\n",
    "    if is_busted(player_hand):\n",
    "        return HandOutcome.LOSE\n",
    "    if is_busted(dealer_hand):\n",
    "        return HandOutcome.WIN\n",
    "    if player_hand.score > dealer_hand.score:\n",
    "        return HandOutcome.WIN\n",
    "    if player_hand.score == dealer_hand.score:\n",
    "        return HandOutcome.PUSH\n",
    "    if player_hand.score < dealer_hand.score:\n",
    "        return HandOutcome.LOSE\n"
   ]
  },
  {
   "cell_type": "code",
   "execution_count": 18,
   "id": "israeli-decline",
   "metadata": {
    "ExecuteTime": {
     "end_time": "2021-06-28T02:44:11.465590Z",
     "start_time": "2021-06-28T02:44:11.462086Z"
    }
   },
   "outputs": [
    {
     "data": {
      "text/plain": [
       "(Hand(score=14, soft=False, cards=[10, 4]),\n",
       " Hand(score=21, soft=False, cards=[1, 12, 13]),\n",
       " <HandOutcome.LOSE: -1>)"
      ]
     },
     "execution_count": 18,
     "metadata": {},
     "output_type": "execute_result"
    }
   ],
   "source": [
    "# One player and a dealer\n",
    "# Player has a strategy\n",
    "# Each gets dealt cards and plays according to strategy\n",
    "# Emit all the data, and figure the rest out later\n",
    "\n",
    "def play_one_hand(strat):\n",
    "    hand_p = Hand()\n",
    "    hand_d = Hand()\n",
    "\n",
    "    add_card(hand_p, deal_card())\n",
    "    add_card(hand_d, deal_card())\n",
    "    add_card(hand_p, deal_card())\n",
    "    dealer_hole_card = deal_card()\n",
    "    \n",
    "    # player\n",
    "    player_play_hand(strat, hand_p, hand_d, deal_card)\n",
    "    # dealer\n",
    "    player_play_hand(strat_dealer, add_card(hand_d, dealer_hole_card), None, deal_card)\n",
    "    \n",
    "    return (hand_p, hand_d, player_hand_outcome(hand_p, hand_d))\n",
    "\n",
    "\n",
    "play_one_hand(strat_nobust)"
   ]
  },
  {
   "cell_type": "markdown",
   "id": "earlier-flexibility",
   "metadata": {},
   "source": [
    "## Aggregate and summarize the data from the simulations"
   ]
  },
  {
   "cell_type": "code",
   "execution_count": 19,
   "id": "enclosed-despite",
   "metadata": {
    "ExecuteTime": {
     "end_time": "2021-06-28T02:44:11.469736Z",
     "start_time": "2021-06-28T02:44:11.466427Z"
    }
   },
   "outputs": [
    {
     "data": {
      "text/plain": [
       "{'hand_start': [12, 11],\n",
       " 'dealer_card': 12,\n",
       " 'hand_end': [12, 11],\n",
       " 'dealer_hand': [12, 8],\n",
       " 'outcome': <HandOutcome.WIN: 1>}"
      ]
     },
     "execution_count": 19,
     "metadata": {},
     "output_type": "execute_result"
    }
   ],
   "source": [
    "\n",
    "def generate_row_from_hand(h):\n",
    "    (hand_p, hand_d, outcome) = h\n",
    "    return {'hand_start': hand_p.cards[:2], 'dealer_card': hand_d.cards[0], 'hand_end': hand_p.cards, 'dealer_hand': hand_d.cards, 'outcome': outcome}\n",
    "\n",
    "generate_row_from_hand(play_one_hand(strat_nobust))"
   ]
  },
  {
   "cell_type": "code",
   "execution_count": 20,
   "id": "breeding-patio",
   "metadata": {
    "ExecuteTime": {
     "end_time": "2021-06-28T02:44:11.494356Z",
     "start_time": "2021-06-28T02:44:11.470660Z"
    }
   },
   "outputs": [
    {
     "data": {
      "text/plain": [
       "(    hand_start  dealer_card        hand_end      dealer_hand           outcome\n",
       " 0       [5, 4]            5      [5, 4, 13]    [5, 6, 5, 10]   HandOutcome.WIN\n",
       " 1      [13, 5]            2      [13, 5, 3]  [2, 4, 5, 3, 4]  HandOutcome.PUSH\n",
       " 2      [4, 11]            7      [4, 11, 4]        [7, 6, 7]  HandOutcome.LOSE\n",
       " 3       [9, 8]            6          [9, 8]       [6, 1, 10]  HandOutcome.PUSH\n",
       " 4       [8, 4]            7      [8, 4, 11]          [7, 13]  HandOutcome.LOSE\n",
       " ..         ...          ...             ...              ...               ...\n",
       " 995   [12, 12]            6        [12, 12]        [6, 4, 7]   HandOutcome.WIN\n",
       " 996     [3, 1]           13    [3, 1, 8, 9]       [13, 5, 9]   HandOutcome.WIN\n",
       " 997    [13, 3]            4      [13, 3, 6]     [4, 4, 8, 4]  HandOutcome.LOSE\n",
       " 998     [1, 5]            3  [1, 5, 13, 13]       [3, 5, 12]  HandOutcome.LOSE\n",
       " 999     [8, 9]            6          [8, 9]       [6, 8, 11]   HandOutcome.WIN\n",
       " \n",
       " [1000 rows x 5 columns],\n",
       " (HandOutcome.LOSE    494\n",
       "  HandOutcome.WIN     414\n",
       "  HandOutcome.PUSH     92\n",
       "  Name: outcome, dtype: int64,\n",
       "  -0.08))"
      ]
     },
     "execution_count": 20,
     "metadata": {},
     "output_type": "execute_result"
    }
   ],
   "source": [
    "def run_n_sim_trials(strat, n):\n",
    "    sims = pd.DataFrame([generate_row_from_hand(play_one_hand(strat)) for _ in range(n)])\n",
    "    return sims\n",
    "\n",
    "def summarize_totals(sims):\n",
    "    return sims['outcome'].value_counts(), sims['outcome'].apply(lambda x: x.value).mean()\n",
    "\n",
    "sims = run_n_sim_trials(strat_dealer, 1000)\n",
    "sims, summarize_totals(sims)"
   ]
  },
  {
   "cell_type": "code",
   "execution_count": 21,
   "id": "present-colon",
   "metadata": {
    "ExecuteTime": {
     "end_time": "2021-06-28T02:44:11.515356Z",
     "start_time": "2021-06-28T02:44:11.495381Z"
    }
   },
   "outputs": [
    {
     "data": {
      "text/plain": [
       "(    hand_start  dealer_card         hand_end    dealer_hand           outcome\n",
       " 0      [9, 12]           10          [9, 12]    [10, 4, 12]   HandOutcome.WIN\n",
       " 1       [2, 3]            7    [2, 3, 4, 12]     [7, 3, 10]  HandOutcome.LOSE\n",
       " 2      [2, 13]           12       [2, 13, 5]       [12, 11]  HandOutcome.LOSE\n",
       " 3       [8, 8]            6           [8, 8]      [6, 5, 8]  HandOutcome.LOSE\n",
       " 4      [10, 6]           13       [10, 6, 3]     [13, 4, 6]  HandOutcome.LOSE\n",
       " ..         ...          ...              ...            ...               ...\n",
       " 995     [5, 8]           10        [5, 8, 4]  [10, 3, 1, 9]   HandOutcome.WIN\n",
       " 996   [11, 13]           13         [11, 13]       [13, 10]  HandOutcome.PUSH\n",
       " 997   [10, 11]            3         [10, 11]     [3, 11, 7]  HandOutcome.PUSH\n",
       " 998     [1, 5]            7  [1, 5, 2, 8, 3]     [7, 7, 10]   HandOutcome.WIN\n",
       " 999     [7, 6]           12     [7, 6, 3, 7]       [12, 11]  HandOutcome.LOSE\n",
       " \n",
       " [1000 rows x 5 columns],\n",
       " (HandOutcome.LOSE    470\n",
       "  HandOutcome.WIN     438\n",
       "  HandOutcome.PUSH     92\n",
       "  Name: outcome, dtype: int64,\n",
       "  -0.032))"
      ]
     },
     "execution_count": 21,
     "metadata": {},
     "output_type": "execute_result"
    }
   ],
   "source": [
    "def strat_simple(hand, dealer):\n",
    "    if hand.score >= 17:  return Action.STAND\n",
    "    if hand.score <= 11:  return Action.HIT\n",
    "    if dealer.score in (range(3,7)):  return Action.STAND\n",
    "    else:  return Action.HIT\n",
    "        \n",
    "sims = run_n_sim_trials(strat_simple, 1000)\n",
    "sims, summarize_totals(sims)"
   ]
  },
  {
   "cell_type": "code",
   "execution_count": 22,
   "id": "floppy-tanzania",
   "metadata": {
    "ExecuteTime": {
     "end_time": "2021-06-28T02:44:45.996813Z",
     "start_time": "2021-06-28T02:44:11.516308Z"
    }
   },
   "outputs": [
    {
     "name": "stdout",
     "output_type": "stream",
     "text": [
      "(HandOutcome.LOSE    500155\n",
      "HandOutcome.WIN     400893\n",
      "HandOutcome.PUSH     98952\n",
      "Name: outcome, dtype: int64, -0.099262)\n",
      "(HandOutcome.LOSE    512519\n",
      "HandOutcome.WIN     424405\n",
      "HandOutcome.PUSH     63076\n",
      "Name: outcome, dtype: int64, -0.088114)\n",
      "(HandOutcome.LOSE    488093\n",
      "HandOutcome.WIN     422665\n",
      "HandOutcome.PUSH     89242\n",
      "Name: outcome, dtype: int64, -0.065428)\n"
     ]
    }
   ],
   "source": [
    "for strat in [strat_dealer, strat_nobust, strat_simple]:\n",
    "    print(summarize_totals(run_n_sim_trials(strat, 1000000)))\n"
   ]
  },
  {
   "cell_type": "code",
   "execution_count": null,
   "id": "republican-snake",
   "metadata": {},
   "outputs": [],
   "source": []
  }
 ],
 "metadata": {
  "kernelspec": {
   "display_name": "Python 3",
   "language": "python",
   "name": "python3"
  },
  "language_info": {
   "codemirror_mode": {
    "name": "ipython",
    "version": 3
   },
   "file_extension": ".py",
   "mimetype": "text/x-python",
   "name": "python",
   "nbconvert_exporter": "python",
   "pygments_lexer": "ipython3",
   "version": "3.8.8"
  }
 },
 "nbformat": 4,
 "nbformat_minor": 5
}
