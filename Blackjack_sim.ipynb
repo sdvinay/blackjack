{
 "cells": [
  {
   "cell_type": "code",
   "execution_count": 1,
   "id": "middle-scenario",
   "metadata": {
    "ExecuteTime": {
     "end_time": "2021-07-24T00:52:47.074899Z",
     "start_time": "2021-07-24T00:52:46.397780Z"
    }
   },
   "outputs": [],
   "source": [
    "import pandas as pd\n",
    "import matplotlib.pyplot as plt\n",
    "import seaborn as sns\n",
    "\n",
    "\n",
    "import blackjack as bj\n",
    "from blackjack import Hand, HandScore, Action, make_hand\n",
    "import simulator as sim"
   ]
  },
  {
   "cell_type": "code",
   "execution_count": 2,
   "id": "floating-forge",
   "metadata": {
    "ExecuteTime": {
     "end_time": "2021-07-24T00:52:47.079611Z",
     "start_time": "2021-07-24T00:52:47.076179Z"
    }
   },
   "outputs": [
    {
     "data": {
      "text/plain": [
       "s11"
      ]
     },
     "execution_count": 2,
     "metadata": {},
     "output_type": "execute_result"
    }
   ],
   "source": [
    "h = HandScore(11, True)\n",
    "h"
   ]
  },
  {
   "cell_type": "code",
   "execution_count": 3,
   "id": "pointed-judge",
   "metadata": {
    "ExecuteTime": {
     "end_time": "2021-07-24T00:52:47.084166Z",
     "start_time": "2021-07-24T00:52:47.081776Z"
    }
   },
   "outputs": [
    {
     "data": {
      "text/plain": [
       "s21"
      ]
     },
     "execution_count": 3,
     "metadata": {},
     "output_type": "execute_result"
    }
   ],
   "source": [
    "h.add_card(10)"
   ]
  },
  {
   "cell_type": "code",
   "execution_count": 4,
   "id": "mounted-kernel",
   "metadata": {
    "ExecuteTime": {
     "end_time": "2021-07-24T00:52:47.088015Z",
     "start_time": "2021-07-24T00:52:47.085545Z"
    }
   },
   "outputs": [
    {
     "data": {
      "text/plain": [
       "h21"
      ]
     },
     "execution_count": 4,
     "metadata": {},
     "output_type": "execute_result"
    }
   ],
   "source": [
    "h.add_card(10).add_card(10)"
   ]
  },
  {
   "cell_type": "code",
   "execution_count": 5,
   "id": "static-printer",
   "metadata": {
    "ExecuteTime": {
     "end_time": "2021-07-24T00:52:47.091990Z",
     "start_time": "2021-07-24T00:52:47.089163Z"
    }
   },
   "outputs": [
    {
     "data": {
      "text/plain": [
       "s11"
      ]
     },
     "execution_count": 5,
     "metadata": {},
     "output_type": "execute_result"
    }
   ],
   "source": [
    "h"
   ]
  },
  {
   "cell_type": "code",
   "execution_count": 6,
   "id": "turkish-state",
   "metadata": {
    "ExecuteTime": {
     "end_time": "2021-07-24T00:52:47.095645Z",
     "start_time": "2021-07-24T00:52:47.093124Z"
    }
   },
   "outputs": [
    {
     "data": {
      "text/plain": [
       "s14"
      ]
     },
     "execution_count": 6,
     "metadata": {},
     "output_type": "execute_result"
    }
   ],
   "source": [
    "h.add_card(3)"
   ]
  },
  {
   "cell_type": "code",
   "execution_count": 7,
   "id": "cubic-object",
   "metadata": {
    "ExecuteTime": {
     "end_time": "2021-07-24T00:52:47.098994Z",
     "start_time": "2021-07-24T00:52:47.096661Z"
    }
   },
   "outputs": [
    {
     "data": {
      "text/plain": [
       "h14"
      ]
     },
     "execution_count": 7,
     "metadata": {},
     "output_type": "execute_result"
    }
   ],
   "source": [
    "h.add_card(3).add_card(10)"
   ]
  },
  {
   "cell_type": "code",
   "execution_count": 8,
   "id": "afraid-bristol",
   "metadata": {
    "ExecuteTime": {
     "end_time": "2021-07-24T00:52:47.104262Z",
     "start_time": "2021-07-24T00:52:47.101324Z"
    }
   },
   "outputs": [
    {
     "data": {
      "text/plain": [
       "[h00,\n",
       " h01,\n",
       " h02,\n",
       " h03,\n",
       " h04,\n",
       " h05,\n",
       " h06,\n",
       " h07,\n",
       " h08,\n",
       " h09,\n",
       " h10,\n",
       " h11,\n",
       " h12,\n",
       " h13,\n",
       " h14,\n",
       " h15,\n",
       " h16,\n",
       " h17,\n",
       " h18,\n",
       " h19,\n",
       " h20,\n",
       " h21,\n",
       " h22,\n",
       " s11,\n",
       " s12,\n",
       " s13,\n",
       " s14,\n",
       " s15,\n",
       " s16,\n",
       " s17,\n",
       " s18,\n",
       " s19,\n",
       " s20,\n",
       " s21]"
      ]
     },
     "execution_count": 8,
     "metadata": {},
     "output_type": "execute_result"
    }
   ],
   "source": [
    "all_scores = [HandScore(i, False) for i in range(0, 23)] + [HandScore(i, True) for i in range(11, 22)]\n",
    "all_scores"
   ]
  },
  {
   "cell_type": "code",
   "execution_count": 9,
   "id": "initial-harrison",
   "metadata": {
    "ExecuteTime": {
     "end_time": "2021-07-24T00:52:47.109509Z",
     "start_time": "2021-07-24T00:52:47.106714Z"
    }
   },
   "outputs": [
    {
     "data": {
      "text/plain": [
       "Hand(score=h00, cards=[], doubled=False, drawn=False)"
      ]
     },
     "execution_count": 9,
     "metadata": {},
     "output_type": "execute_result"
    }
   ],
   "source": [
    "h = Hand()\n",
    "h"
   ]
  },
  {
   "cell_type": "code",
   "execution_count": 10,
   "id": "reduced-cover",
   "metadata": {
    "ExecuteTime": {
     "end_time": "2021-07-24T00:52:47.113512Z",
     "start_time": "2021-07-24T00:52:47.110880Z"
    }
   },
   "outputs": [
    {
     "data": {
      "text/plain": [
       "Hand(score=h06, cards=[6], doubled=False, drawn=False)"
      ]
     },
     "execution_count": 10,
     "metadata": {},
     "output_type": "execute_result"
    }
   ],
   "source": [
    "h.add_card(6) # start a hand with a 6"
   ]
  },
  {
   "cell_type": "code",
   "execution_count": 11,
   "id": "aging-green",
   "metadata": {
    "ExecuteTime": {
     "end_time": "2021-07-24T00:52:47.116837Z",
     "start_time": "2021-07-24T00:52:47.114436Z"
    }
   },
   "outputs": [
    {
     "data": {
      "text/plain": [
       "Hand(score=h16, cards=[6, 11], doubled=False, drawn=False)"
      ]
     },
     "execution_count": 11,
     "metadata": {},
     "output_type": "execute_result"
    }
   ],
   "source": [
    "h.add_card(11) # show that J (11) counts as 10 points"
   ]
  },
  {
   "cell_type": "code",
   "execution_count": 12,
   "id": "humanitarian-chair",
   "metadata": {
    "ExecuteTime": {
     "end_time": "2021-07-24T00:52:47.120199Z",
     "start_time": "2021-07-24T00:52:47.117812Z"
    }
   },
   "outputs": [
    {
     "data": {
      "text/plain": [
       "(Hand(score=h22, cards=[6, 11, 7], doubled=False, drawn=False), True)"
      ]
     },
     "execution_count": 12,
     "metadata": {},
     "output_type": "execute_result"
    }
   ],
   "source": [
    "h.add_card(7), bj.is_busted(h) # bust (show that 23 is counted as 22)"
   ]
  },
  {
   "cell_type": "code",
   "execution_count": 13,
   "id": "accompanied-perspective",
   "metadata": {
    "ExecuteTime": {
     "end_time": "2021-07-24T00:52:47.124443Z",
     "start_time": "2021-07-24T00:52:47.121268Z"
    }
   },
   "outputs": [
    {
     "data": {
      "text/plain": [
       "Hand(score=s11, cards=[1], doubled=False, drawn=False)"
      ]
     },
     "execution_count": 13,
     "metadata": {},
     "output_type": "execute_result"
    }
   ],
   "source": [
    "# OK, now let's try another hand with aces\n",
    "h = Hand()\n",
    "h.add_card(1) # should be a soft 11"
   ]
  },
  {
   "cell_type": "code",
   "execution_count": 14,
   "id": "exotic-checkout",
   "metadata": {
    "ExecuteTime": {
     "end_time": "2021-07-24T00:52:47.128641Z",
     "start_time": "2021-07-24T00:52:47.125620Z"
    }
   },
   "outputs": [
    {
     "data": {
      "text/plain": [
       "Hand(score=s12, cards=[1, 1], doubled=False, drawn=False)"
      ]
     },
     "execution_count": 14,
     "metadata": {},
     "output_type": "execute_result"
    }
   ],
   "source": [
    "h.add_card(1) # two aces: should be a soft 12"
   ]
  },
  {
   "cell_type": "code",
   "execution_count": 15,
   "id": "italian-beads",
   "metadata": {
    "ExecuteTime": {
     "end_time": "2021-07-24T00:52:47.132438Z",
     "start_time": "2021-07-24T00:52:47.129627Z"
    }
   },
   "outputs": [
    {
     "data": {
      "text/plain": [
       "Hand(score=h12, cards=[1, 1, 11], doubled=False, drawn=False)"
      ]
     },
     "execution_count": 15,
     "metadata": {},
     "output_type": "execute_result"
    }
   ],
   "source": [
    "h.add_card(11) # two aces and a J: should be a hard 12"
   ]
  },
  {
   "cell_type": "code",
   "execution_count": 16,
   "id": "neutral-sugar",
   "metadata": {
    "ExecuteTime": {
     "end_time": "2021-07-24T00:52:47.136218Z",
     "start_time": "2021-07-24T00:52:47.133499Z"
    }
   },
   "outputs": [
    {
     "data": {
      "text/plain": [
       "(Hand(score=s21, cards=[1, 10], doubled=False, drawn=False), True)"
      ]
     },
     "execution_count": 16,
     "metadata": {},
     "output_type": "execute_result"
    }
   ],
   "source": [
    "# OK, now let's try another hand with a blackjack\n",
    "h = Hand()\n",
    "h.add_card(1) # should be a soft 11\n",
    "h.add_card(10)\n",
    "h, bj.is_blackjack(h)"
   ]
  },
  {
   "cell_type": "markdown",
   "id": "dental-kelly",
   "metadata": {},
   "source": [
    "## Now define gameplay and strategy"
   ]
  },
  {
   "cell_type": "code",
   "execution_count": 17,
   "id": "secondary-crown",
   "metadata": {
    "ExecuteTime": {
     "end_time": "2021-07-24T00:52:47.141774Z",
     "start_time": "2021-07-24T00:52:47.137250Z"
    }
   },
   "outputs": [
    {
     "data": {
      "text/plain": [
       "[4, 4, 9, 5, 1, 6, 13, 11, 8, 1]"
      ]
     },
     "execution_count": 17,
     "metadata": {},
     "output_type": "execute_result"
    }
   ],
   "source": [
    "[bj.deal_card() for _ in range(10)]"
   ]
  },
  {
   "cell_type": "code",
   "execution_count": 18,
   "id": "atomic-plaintiff",
   "metadata": {
    "ExecuteTime": {
     "end_time": "2021-07-24T00:52:47.145613Z",
     "start_time": "2021-07-24T00:52:47.142802Z"
    }
   },
   "outputs": [
    {
     "data": {
      "text/plain": [
       "[('strat_nobust',\n",
       "  Hand(score=h13, cards=[4, 9], doubled=False, drawn=False),\n",
       "  Hand(score=h21, cards=[6, 6, 9], doubled=False, drawn=True),\n",
       "  <HandOutcome.LOSE: -1>),\n",
       " ('strat_nobust',\n",
       "  Hand(score=h13, cards=[4, 9], doubled=False, drawn=False),\n",
       "  Hand(score=h21, cards=[6, 6, 9], doubled=False, drawn=True),\n",
       "  <HandOutcome.LOSE: -1>)]"
      ]
     },
     "execution_count": 18,
     "metadata": {},
     "output_type": "execute_result"
    }
   ],
   "source": [
    "bj.play_one_round([bj.strat_nobust, bj.strat_nobust])"
   ]
  },
  {
   "cell_type": "markdown",
   "id": "looking-jewelry",
   "metadata": {},
   "source": [
    "## Aggregate and summarize the data from the simulations"
   ]
  },
  {
   "cell_type": "code",
   "execution_count": 19,
   "id": "juvenile-joshua",
   "metadata": {
    "ExecuteTime": {
     "end_time": "2021-07-24T00:52:47.149595Z",
     "start_time": "2021-07-24T00:52:47.146625Z"
    }
   },
   "outputs": [
    {
     "data": {
      "text/plain": [
       "[{'strategy': 'strat_nobust',\n",
       "  'hand_start': [10, 1],\n",
       "  'dealer_card': 1,\n",
       "  'hand_end': [10, 1],\n",
       "  'dealer_hand': [1, 11],\n",
       "  'outcome': <HandOutcome.PUSH: 0>},\n",
       " {'strategy': 'strat_dealer',\n",
       "  'hand_start': [10, 1],\n",
       "  'dealer_card': 1,\n",
       "  'hand_end': [10, 1],\n",
       "  'dealer_hand': [1, 11],\n",
       "  'outcome': <HandOutcome.PUSH: 0>}]"
      ]
     },
     "execution_count": 19,
     "metadata": {},
     "output_type": "execute_result"
    }
   ],
   "source": [
    "\n",
    "\n",
    "strat_nobust = bj.strat_nobust\n",
    "strat_dealer = bj.strat_dealer\n",
    "sim.generate_rows_from_round(bj.play_one_round([bj.strat_nobust, bj.strat_dealer]))\n"
   ]
  },
  {
   "cell_type": "code",
   "execution_count": 20,
   "id": "approved-broadway",
   "metadata": {
    "ExecuteTime": {
     "end_time": "2021-07-24T00:52:47.453284Z",
     "start_time": "2021-07-24T00:52:47.150529Z"
    }
   },
   "outputs": [],
   "source": [
    "\n",
    "\n",
    "sim_results = sim.run_n_sim_trials([strat_nobust, strat_dealer], 10000)\n",
    "#%prun -s cumulative sim_results, sim.summarize_totals(sim_results)"
   ]
  },
  {
   "cell_type": "code",
   "execution_count": 21,
   "id": "varied-devil",
   "metadata": {
    "ExecuteTime": {
     "end_time": "2021-07-24T00:52:47.500061Z",
     "start_time": "2021-07-24T00:52:47.454614Z"
    }
   },
   "outputs": [
    {
     "data": {
      "text/plain": [
       "(  strategy hand_start  dealer_card         hand_end       dealer_hand  \\\n",
       " 0   simple     [6, 1]            8           [6, 1]           [8, 10]   \n",
       " 1   simple    [10, 5]           11       [10, 5, 6]       [11, 5, 11]   \n",
       " 2   simple    [13, 2]            7   [13, 2, 3, 12]        [7, 5, 10]   \n",
       " 3   simple     [1, 1]           10  [1, 1, 5, 9, 5]           [10, 7]   \n",
       " 4   simple   [10, 13]           10         [10, 13]           [10, 9]   \n",
       " 5   simple     [5, 8]           10     [5, 8, 3, 5]       [10, 2, 10]   \n",
       " 6   simple    [8, 11]            3          [8, 11]  [3, 2, 3, 7, 13]   \n",
       " 7   simple     [1, 3]           10    [1, 3, 12, 8]        [10, 5, 8]   \n",
       " 8   simple   [13, 11]            7         [13, 11]           [7, 12]   \n",
       " 9   simple    [13, 5]            2      [13, 5, 13]     [2, 6, 3, 10]   \n",
       " \n",
       "             outcome  outcome_value outcome_name  \n",
       " 0  HandOutcome.LOSE           -1.0         LOSE  \n",
       " 1   HandOutcome.WIN            1.0          WIN  \n",
       " 2  HandOutcome.LOSE           -1.0         LOSE  \n",
       " 3   HandOutcome.WIN            1.0          WIN  \n",
       " 4   HandOutcome.WIN            1.0          WIN  \n",
       " 5   HandOutcome.WIN            1.0          WIN  \n",
       " 6   HandOutcome.WIN            1.0          WIN  \n",
       " 7  HandOutcome.LOSE           -1.0         LOSE  \n",
       " 8   HandOutcome.WIN            1.0          WIN  \n",
       " 9  HandOutcome.LOSE           -1.0         LOSE  ,\n",
       "                    len                                       mean_outcome\n",
       " outcome_name BLACKJACK LOSE LOSE_DOUBLE PUSH  WIN WIN_DOUBLE             \n",
       " strategy                                                                 \n",
       " simple              45  444          15   88  389         19       0.0205)"
      ]
     },
     "execution_count": 21,
     "metadata": {},
     "output_type": "execute_result"
    }
   ],
   "source": [
    "def strat_simple_func(score_p, score_d):\n",
    "    if score_p.points == 11:  return Action.DOUBLE\n",
    "    if score_p.points >= 17:  return Action.STAND\n",
    "    if score_p.points <= 11:  return Action.HIT\n",
    "    if score_d.points in (range(3,7)):  return Action.STAND\n",
    "    else:  return Action.HIT\n",
    "        \n",
    "strat_simple_func.name = 'simple'\n",
    "\n",
    "strat_simple = bj.Strategy_wrapper(strat_simple_func)\n",
    "sims = sim.run_n_sim_trials([strat_simple], 1000)\n",
    "sims.head(10), sim.summarize_totals(sims)"
   ]
  },
  {
   "cell_type": "code",
   "execution_count": 22,
   "id": "confirmed-passing",
   "metadata": {
    "ExecuteTime": {
     "end_time": "2021-07-24T00:52:48.339291Z",
     "start_time": "2021-07-24T00:52:47.501105Z"
    }
   },
   "outputs": [
    {
     "name": "stdout",
     "output_type": "stream",
     "text": [
      " "
     ]
    }
   ],
   "source": [
    "%prun -s cumulative sim.summarize_totals(sim.run_n_sim_trials([strat_dealer, strat_nobust, strat_simple], 10000))\n"
   ]
  },
  {
   "cell_type": "markdown",
   "id": "fluid-writing",
   "metadata": {},
   "source": [
    "## Simulate specific situations to determine strategy"
   ]
  },
  {
   "cell_type": "code",
   "execution_count": 23,
   "id": "otherwise-sheffield",
   "metadata": {
    "ExecuteTime": {
     "end_time": "2021-07-24T00:52:48.345461Z",
     "start_time": "2021-07-24T00:52:48.343267Z"
    }
   },
   "outputs": [
    {
     "data": {
      "text/plain": [
       "(Hand(score=h12, cards=[5, 7], doubled=False, drawn=False),\n",
       " Hand(score=h02, cards=[2], doubled=False, drawn=False))"
      ]
     },
     "execution_count": 23,
     "metadata": {},
     "output_type": "execute_result"
    }
   ],
   "source": [
    "# 12 vs deuce\n",
    "\n",
    "hand_p = make_hand([5, 7])\n",
    "hand_d = make_hand([2])\n",
    "\n",
    "hand_p, hand_d"
   ]
  },
  {
   "cell_type": "code",
   "execution_count": 24,
   "id": "gross-kennedy",
   "metadata": {
    "ExecuteTime": {
     "end_time": "2021-07-24T00:52:48.351129Z",
     "start_time": "2021-07-24T00:52:48.347146Z"
    }
   },
   "outputs": [
    {
     "data": {
      "text/plain": [
       "<blackjack.Strategy_wrapper at 0x7f8492ba1190>"
      ]
     },
     "execution_count": 24,
     "metadata": {},
     "output_type": "execute_result"
    }
   ],
   "source": [
    "# Implement a strategy that composes conditions and actions\n",
    "\n",
    "def cond_12_2(score_p, score_d):\n",
    "    return score_p.points == 12 and score_d.points == 2 and not score_p.soft\n",
    "conditions = [(cond_12_2, Action.STAND)]\n",
    "\n",
    "\n",
    "    \n",
    "strat_cond = sim.generate_strat_conditional(strat_simple, conditions)\n",
    "strat_cond"
   ]
  },
  {
   "cell_type": "code",
   "execution_count": 25,
   "id": "virgin-mining",
   "metadata": {
    "ExecuteTime": {
     "end_time": "2021-07-24T00:52:48.355926Z",
     "start_time": "2021-07-24T00:52:48.352439Z"
    }
   },
   "outputs": [
    {
     "data": {
      "text/plain": [
       "[<blackjack.Strategy_wrapper at 0x7f849149c5e0>,\n",
       " <blackjack.Strategy_wrapper at 0x7f8492bb7a00>,\n",
       " <blackjack.Strategy_wrapper at 0x7f8492bb78b0>]"
      ]
     },
     "execution_count": 25,
     "metadata": {},
     "output_type": "execute_result"
    }
   ],
   "source": [
    "# Generate a conditional strategy for each action\n",
    "    \n",
    "strats = sim.gen_cond_strategies(strat_simple, cond_12_2, [Action.HIT, Action.STAND, Action.DOUBLE])\n",
    "strats"
   ]
  },
  {
   "cell_type": "code",
   "execution_count": 26,
   "id": "acoustic-warrant",
   "metadata": {
    "ExecuteTime": {
     "end_time": "2021-07-24T00:52:48.359714Z",
     "start_time": "2021-07-24T00:52:48.356932Z"
    }
   },
   "outputs": [
    {
     "data": {
      "text/plain": [
       "[('<Action.HIT: 2>',\n",
       "  Hand(score=h17, cards=[5, 7, 5], doubled=False, drawn=True),\n",
       "  Hand(score=h21, cards=[2, 12, 9], doubled=False, drawn=True),\n",
       "  <HandOutcome.LOSE: -1>),\n",
       " ('<Action.STAND: 1>',\n",
       "  Hand(score=h12, cards=[5, 7], doubled=False, drawn=False),\n",
       "  Hand(score=h21, cards=[2, 12, 9], doubled=False, drawn=True),\n",
       "  <HandOutcome.LOSE: -1>),\n",
       " ('<Action.DOUBLE: 3>',\n",
       "  Hand(score=h15, cards=[5, 7, 3], doubled=True, drawn=True),\n",
       "  Hand(score=h21, cards=[2, 12, 9], doubled=False, drawn=True),\n",
       "  <HandOutcome.LOSE_DOUBLE: -2>)]"
      ]
     },
     "execution_count": 26,
     "metadata": {},
     "output_type": "execute_result"
    }
   ],
   "source": [
    "bj.complete_one_round(strats, hand_p, hand_d, bj.deal_card())"
   ]
  },
  {
   "cell_type": "code",
   "execution_count": 27,
   "id": "economic-greene",
   "metadata": {
    "ExecuteTime": {
     "end_time": "2021-07-24T00:52:48.775700Z",
     "start_time": "2021-07-24T00:52:48.360888Z"
    }
   },
   "outputs": [
    {
     "data": {
      "text/html": [
       "<div>\n",
       "<style scoped>\n",
       "    .dataframe tbody tr th:only-of-type {\n",
       "        vertical-align: middle;\n",
       "    }\n",
       "\n",
       "    .dataframe tbody tr th {\n",
       "        vertical-align: top;\n",
       "    }\n",
       "\n",
       "    .dataframe thead tr th {\n",
       "        text-align: left;\n",
       "    }\n",
       "\n",
       "    .dataframe thead tr:last-of-type th {\n",
       "        text-align: right;\n",
       "    }\n",
       "</style>\n",
       "<table border=\"1\" class=\"dataframe\">\n",
       "  <thead>\n",
       "    <tr>\n",
       "      <th></th>\n",
       "      <th colspan=\"5\" halign=\"left\">len</th>\n",
       "      <th>mean_outcome</th>\n",
       "    </tr>\n",
       "    <tr>\n",
       "      <th>outcome_name</th>\n",
       "      <th>LOSE</th>\n",
       "      <th>LOSE_DOUBLE</th>\n",
       "      <th>PUSH</th>\n",
       "      <th>WIN</th>\n",
       "      <th>WIN_DOUBLE</th>\n",
       "      <th></th>\n",
       "    </tr>\n",
       "    <tr>\n",
       "      <th>strategy</th>\n",
       "      <th></th>\n",
       "      <th></th>\n",
       "      <th></th>\n",
       "      <th></th>\n",
       "      <th></th>\n",
       "      <th></th>\n",
       "    </tr>\n",
       "  </thead>\n",
       "  <tbody>\n",
       "    <tr>\n",
       "      <th>&lt;Action.DOUBLE: 3&gt;</th>\n",
       "      <td>0</td>\n",
       "      <td>6011</td>\n",
       "      <td>484</td>\n",
       "      <td>0</td>\n",
       "      <td>3505</td>\n",
       "      <td>-0.5012</td>\n",
       "    </tr>\n",
       "    <tr>\n",
       "      <th>&lt;Action.HIT: 2&gt;</th>\n",
       "      <td>6054</td>\n",
       "      <td>0</td>\n",
       "      <td>672</td>\n",
       "      <td>3274</td>\n",
       "      <td>0</td>\n",
       "      <td>-0.2780</td>\n",
       "    </tr>\n",
       "    <tr>\n",
       "      <th>&lt;Action.STAND: 1&gt;</th>\n",
       "      <td>6395</td>\n",
       "      <td>0</td>\n",
       "      <td>0</td>\n",
       "      <td>3605</td>\n",
       "      <td>0</td>\n",
       "      <td>-0.2790</td>\n",
       "    </tr>\n",
       "  </tbody>\n",
       "</table>\n",
       "</div>"
      ],
      "text/plain": [
       "                     len                                   mean_outcome\n",
       "outcome_name        LOSE LOSE_DOUBLE PUSH   WIN WIN_DOUBLE             \n",
       "strategy                                                               \n",
       "<Action.DOUBLE: 3>     0        6011  484     0       3505      -0.5012\n",
       "<Action.HIT: 2>     6054           0  672  3274          0      -0.2780\n",
       "<Action.STAND: 1>   6395           0    0  3605          0      -0.2790"
      ]
     },
     "execution_count": 27,
     "metadata": {},
     "output_type": "execute_result"
    }
   ],
   "source": [
    "\n",
    "\n",
    "sims = sim.run_n_sim_trials_from_state(strats, hand_p, hand_d, 10000)\n",
    "sim.summarize_totals(sims)"
   ]
  },
  {
   "cell_type": "code",
   "execution_count": 28,
   "id": "institutional-grain",
   "metadata": {
    "ExecuteTime": {
     "end_time": "2021-07-24T00:52:48.780571Z",
     "start_time": "2021-07-24T00:52:48.776758Z"
    }
   },
   "outputs": [
    {
     "data": {
      "text/plain": [
       "(Hand(score=s12, cards=[1, 1], doubled=False, drawn=False),\n",
       " Hand(score=h02, cards=[2], doubled=False, drawn=False))"
      ]
     },
     "execution_count": 28,
     "metadata": {},
     "output_type": "execute_result"
    }
   ],
   "source": [
    "# Soft 12 vs 2\n",
    "hand_12s = make_hand([1, 1])\n",
    "\n",
    "hand_12s, hand_d"
   ]
  },
  {
   "cell_type": "code",
   "execution_count": 29,
   "id": "legal-uniform",
   "metadata": {
    "ExecuteTime": {
     "end_time": "2021-07-24T00:52:48.784662Z",
     "start_time": "2021-07-24T00:52:48.781578Z"
    }
   },
   "outputs": [
    {
     "data": {
      "text/plain": [
       "[<blackjack.Strategy_wrapper at 0x7f8492fcba00>,\n",
       " <blackjack.Strategy_wrapper at 0x7f8492fcbaf0>,\n",
       " <blackjack.Strategy_wrapper at 0x7f8492fcbbb0>]"
      ]
     },
     "execution_count": 29,
     "metadata": {},
     "output_type": "execute_result"
    }
   ],
   "source": [
    "def cond_12s_2(score_p, score_d):\n",
    "    return score_p == HandScore(12, True) and score_d.points == 2\n",
    "\n",
    "strats = sim.gen_cond_strategies(strat_simple, cond_12s_2, [Action.HIT, Action.STAND, Action.DOUBLE])\n",
    "strats"
   ]
  },
  {
   "cell_type": "code",
   "execution_count": 30,
   "id": "british-logging",
   "metadata": {
    "ExecuteTime": {
     "end_time": "2021-07-24T00:52:49.470690Z",
     "start_time": "2021-07-24T00:52:48.785661Z"
    }
   },
   "outputs": [
    {
     "data": {
      "text/html": [
       "<div>\n",
       "<style scoped>\n",
       "    .dataframe tbody tr th:only-of-type {\n",
       "        vertical-align: middle;\n",
       "    }\n",
       "\n",
       "    .dataframe tbody tr th {\n",
       "        vertical-align: top;\n",
       "    }\n",
       "\n",
       "    .dataframe thead tr th {\n",
       "        text-align: left;\n",
       "    }\n",
       "\n",
       "    .dataframe thead tr:last-of-type th {\n",
       "        text-align: right;\n",
       "    }\n",
       "</style>\n",
       "<table border=\"1\" class=\"dataframe\">\n",
       "  <thead>\n",
       "    <tr>\n",
       "      <th></th>\n",
       "      <th colspan=\"5\" halign=\"left\">len</th>\n",
       "      <th>mean_outcome</th>\n",
       "    </tr>\n",
       "    <tr>\n",
       "      <th>outcome_name</th>\n",
       "      <th>LOSE</th>\n",
       "      <th>LOSE_DOUBLE</th>\n",
       "      <th>PUSH</th>\n",
       "      <th>WIN</th>\n",
       "      <th>WIN_DOUBLE</th>\n",
       "      <th></th>\n",
       "    </tr>\n",
       "    <tr>\n",
       "      <th>strategy</th>\n",
       "      <th></th>\n",
       "      <th></th>\n",
       "      <th></th>\n",
       "      <th></th>\n",
       "      <th></th>\n",
       "      <th></th>\n",
       "    </tr>\n",
       "  </thead>\n",
       "  <tbody>\n",
       "    <tr>\n",
       "      <th>&lt;Action.DOUBLE: 3&gt;</th>\n",
       "      <td>0</td>\n",
       "      <td>6387</td>\n",
       "      <td>0</td>\n",
       "      <td>0</td>\n",
       "      <td>3613</td>\n",
       "      <td>-0.5548</td>\n",
       "    </tr>\n",
       "    <tr>\n",
       "      <th>&lt;Action.HIT: 2&gt;</th>\n",
       "      <td>5261</td>\n",
       "      <td>0</td>\n",
       "      <td>801</td>\n",
       "      <td>3938</td>\n",
       "      <td>0</td>\n",
       "      <td>-0.1323</td>\n",
       "    </tr>\n",
       "    <tr>\n",
       "      <th>&lt;Action.STAND: 1&gt;</th>\n",
       "      <td>6387</td>\n",
       "      <td>0</td>\n",
       "      <td>0</td>\n",
       "      <td>3613</td>\n",
       "      <td>0</td>\n",
       "      <td>-0.2774</td>\n",
       "    </tr>\n",
       "    <tr>\n",
       "      <th>simple</th>\n",
       "      <td>5197</td>\n",
       "      <td>0</td>\n",
       "      <td>820</td>\n",
       "      <td>3983</td>\n",
       "      <td>0</td>\n",
       "      <td>-0.1214</td>\n",
       "    </tr>\n",
       "  </tbody>\n",
       "</table>\n",
       "</div>"
      ],
      "text/plain": [
       "                     len                                   mean_outcome\n",
       "outcome_name        LOSE LOSE_DOUBLE PUSH   WIN WIN_DOUBLE             \n",
       "strategy                                                               \n",
       "<Action.DOUBLE: 3>     0        6387    0     0       3613      -0.5548\n",
       "<Action.HIT: 2>     5261           0  801  3938          0      -0.1323\n",
       "<Action.STAND: 1>   6387           0    0  3613          0      -0.2774\n",
       "simple              5197           0  820  3983          0      -0.1214"
      ]
     },
     "execution_count": 30,
     "metadata": {},
     "output_type": "execute_result"
    }
   ],
   "source": [
    "sims = sim.run_n_sim_trials_from_state(strats+[strat_simple], hand_12s, hand_d, 10000)\n",
    "sim.summarize_totals(sims)"
   ]
  },
  {
   "cell_type": "code",
   "execution_count": 31,
   "id": "based-subscription",
   "metadata": {
    "ExecuteTime": {
     "end_time": "2021-07-24T00:52:49.765919Z",
     "start_time": "2021-07-24T00:52:49.472524Z"
    }
   },
   "outputs": [
    {
     "data": {
      "text/html": [
       "<div>\n",
       "<style scoped>\n",
       "    .dataframe tbody tr th:only-of-type {\n",
       "        vertical-align: middle;\n",
       "    }\n",
       "\n",
       "    .dataframe tbody tr th {\n",
       "        vertical-align: top;\n",
       "    }\n",
       "\n",
       "    .dataframe thead tr th {\n",
       "        text-align: left;\n",
       "    }\n",
       "\n",
       "    .dataframe thead tr:last-of-type th {\n",
       "        text-align: right;\n",
       "    }\n",
       "</style>\n",
       "<table border=\"1\" class=\"dataframe\">\n",
       "  <thead>\n",
       "    <tr>\n",
       "      <th></th>\n",
       "      <th colspan=\"3\" halign=\"left\">len</th>\n",
       "      <th>mean_outcome</th>\n",
       "    </tr>\n",
       "    <tr>\n",
       "      <th>outcome_name</th>\n",
       "      <th>LOSE</th>\n",
       "      <th>PUSH</th>\n",
       "      <th>WIN</th>\n",
       "      <th></th>\n",
       "    </tr>\n",
       "    <tr>\n",
       "      <th>strategy</th>\n",
       "      <th></th>\n",
       "      <th></th>\n",
       "      <th></th>\n",
       "      <th></th>\n",
       "    </tr>\n",
       "  </thead>\n",
       "  <tbody>\n",
       "    <tr>\n",
       "      <th>simple</th>\n",
       "      <td>6073</td>\n",
       "      <td>639</td>\n",
       "      <td>3288</td>\n",
       "      <td>-0.2785</td>\n",
       "    </tr>\n",
       "    <tr>\n",
       "      <th>strat_cond</th>\n",
       "      <td>6304</td>\n",
       "      <td>0</td>\n",
       "      <td>3696</td>\n",
       "      <td>-0.2608</td>\n",
       "    </tr>\n",
       "  </tbody>\n",
       "</table>\n",
       "</div>"
      ],
      "text/plain": [
       "               len            mean_outcome\n",
       "outcome_name  LOSE PUSH   WIN             \n",
       "strategy                                  \n",
       "simple        6073  639  3288      -0.2785\n",
       "strat_cond    6304    0  3696      -0.2608"
      ]
     },
     "execution_count": 31,
     "metadata": {},
     "output_type": "execute_result"
    }
   ],
   "source": [
    "sim.summarize_totals(sim.run_n_sim_trials_from_state([strat_simple, strat_cond], hand_p, hand_d, 10*1000))"
   ]
  },
  {
   "cell_type": "code",
   "execution_count": 32,
   "id": "vietnamese-spray",
   "metadata": {
    "ExecuteTime": {
     "end_time": "2021-07-24T00:52:50.346444Z",
     "start_time": "2021-07-24T00:52:49.766822Z"
    }
   },
   "outputs": [
    {
     "data": {
      "text/html": [
       "<div>\n",
       "<style scoped>\n",
       "    .dataframe tbody tr th:only-of-type {\n",
       "        vertical-align: middle;\n",
       "    }\n",
       "\n",
       "    .dataframe tbody tr th {\n",
       "        vertical-align: top;\n",
       "    }\n",
       "\n",
       "    .dataframe thead tr th {\n",
       "        text-align: left;\n",
       "    }\n",
       "\n",
       "    .dataframe thead tr:last-of-type th {\n",
       "        text-align: right;\n",
       "    }\n",
       "</style>\n",
       "<table border=\"1\" class=\"dataframe\">\n",
       "  <thead>\n",
       "    <tr>\n",
       "      <th></th>\n",
       "      <th colspan=\"5\" halign=\"left\">len</th>\n",
       "      <th>mean_outcome</th>\n",
       "    </tr>\n",
       "    <tr>\n",
       "      <th>outcome_name</th>\n",
       "      <th>LOSE</th>\n",
       "      <th>LOSE_DOUBLE</th>\n",
       "      <th>PUSH</th>\n",
       "      <th>WIN</th>\n",
       "      <th>WIN_DOUBLE</th>\n",
       "      <th></th>\n",
       "    </tr>\n",
       "    <tr>\n",
       "      <th>strategy</th>\n",
       "      <th></th>\n",
       "      <th></th>\n",
       "      <th></th>\n",
       "      <th></th>\n",
       "      <th></th>\n",
       "      <th></th>\n",
       "    </tr>\n",
       "  </thead>\n",
       "  <tbody>\n",
       "    <tr>\n",
       "      <th>&lt;Action.DOUBLE: 3&gt;</th>\n",
       "      <td>0</td>\n",
       "      <td>5817</td>\n",
       "      <td>0</td>\n",
       "      <td>0</td>\n",
       "      <td>4183</td>\n",
       "      <td>-0.3268</td>\n",
       "    </tr>\n",
       "    <tr>\n",
       "      <th>&lt;Action.HIT: 2&gt;</th>\n",
       "      <td>4891</td>\n",
       "      <td>0</td>\n",
       "      <td>299</td>\n",
       "      <td>4810</td>\n",
       "      <td>0</td>\n",
       "      <td>-0.0081</td>\n",
       "    </tr>\n",
       "    <tr>\n",
       "      <th>&lt;Action.STAND: 1&gt;</th>\n",
       "      <td>5817</td>\n",
       "      <td>0</td>\n",
       "      <td>0</td>\n",
       "      <td>4183</td>\n",
       "      <td>0</td>\n",
       "      <td>-0.1634</td>\n",
       "    </tr>\n",
       "    <tr>\n",
       "      <th>simple</th>\n",
       "      <td>5817</td>\n",
       "      <td>0</td>\n",
       "      <td>0</td>\n",
       "      <td>4183</td>\n",
       "      <td>0</td>\n",
       "      <td>-0.1634</td>\n",
       "    </tr>\n",
       "  </tbody>\n",
       "</table>\n",
       "</div>"
      ],
      "text/plain": [
       "                     len                                   mean_outcome\n",
       "outcome_name        LOSE LOSE_DOUBLE PUSH   WIN WIN_DOUBLE             \n",
       "strategy                                                               \n",
       "<Action.DOUBLE: 3>     0        5817    0     0       4183      -0.3268\n",
       "<Action.HIT: 2>     4891           0  299  4810          0      -0.0081\n",
       "<Action.STAND: 1>   5817           0    0  4183          0      -0.1634\n",
       "simple              5817           0    0  4183          0      -0.1634"
      ]
     },
     "execution_count": 32,
     "metadata": {},
     "output_type": "execute_result"
    }
   ],
   "source": [
    "# soft 13 vs 6\n",
    "def cond_13s_6(score_p, score_d):\n",
    "    return score_p == HandScore(13, True) and score_d.points == 6\n",
    "\n",
    "\n",
    "\n",
    "strats = sim.gen_cond_strategies(strat_simple, cond_13s_6, [Action.HIT, Action.STAND, Action.DOUBLE])\n",
    "sims = sim.run_n_sim_trials_from_state(strats+[strat_simple], bj.make_hand([1, 2]), bj.make_hand([6]), 10000)\n",
    "sim.summarize_totals(sims)"
   ]
  },
  {
   "cell_type": "code",
   "execution_count": 33,
   "id": "liable-painting",
   "metadata": {
    "ExecuteTime": {
     "end_time": "2021-07-24T00:52:50.868429Z",
     "start_time": "2021-07-24T00:52:50.347370Z"
    }
   },
   "outputs": [
    {
     "data": {
      "text/html": [
       "<div>\n",
       "<style scoped>\n",
       "    .dataframe tbody tr th:only-of-type {\n",
       "        vertical-align: middle;\n",
       "    }\n",
       "\n",
       "    .dataframe tbody tr th {\n",
       "        vertical-align: top;\n",
       "    }\n",
       "\n",
       "    .dataframe thead tr th {\n",
       "        text-align: left;\n",
       "    }\n",
       "\n",
       "    .dataframe thead tr:last-of-type th {\n",
       "        text-align: right;\n",
       "    }\n",
       "</style>\n",
       "<table border=\"1\" class=\"dataframe\">\n",
       "  <thead>\n",
       "    <tr>\n",
       "      <th></th>\n",
       "      <th colspan=\"5\" halign=\"left\">len</th>\n",
       "      <th>mean_outcome</th>\n",
       "    </tr>\n",
       "    <tr>\n",
       "      <th>outcome_name</th>\n",
       "      <th>LOSE</th>\n",
       "      <th>LOSE_DOUBLE</th>\n",
       "      <th>PUSH</th>\n",
       "      <th>WIN</th>\n",
       "      <th>WIN_DOUBLE</th>\n",
       "      <th></th>\n",
       "    </tr>\n",
       "    <tr>\n",
       "      <th>strategy</th>\n",
       "      <th></th>\n",
       "      <th></th>\n",
       "      <th></th>\n",
       "      <th></th>\n",
       "      <th></th>\n",
       "      <th></th>\n",
       "    </tr>\n",
       "  </thead>\n",
       "  <tbody>\n",
       "    <tr>\n",
       "      <th>&lt;Action.DOUBLE: 3&gt;</th>\n",
       "      <td>0</td>\n",
       "      <td>3232</td>\n",
       "      <td>637</td>\n",
       "      <td>0</td>\n",
       "      <td>6131</td>\n",
       "      <td>0.5798</td>\n",
       "    </tr>\n",
       "    <tr>\n",
       "      <th>&lt;Action.HIT: 2&gt;</th>\n",
       "      <td>3185</td>\n",
       "      <td>0</td>\n",
       "      <td>676</td>\n",
       "      <td>6139</td>\n",
       "      <td>0</td>\n",
       "      <td>0.2954</td>\n",
       "    </tr>\n",
       "    <tr>\n",
       "      <th>&lt;Action.STAND: 1&gt;</th>\n",
       "      <td>5778</td>\n",
       "      <td>0</td>\n",
       "      <td>0</td>\n",
       "      <td>4222</td>\n",
       "      <td>0</td>\n",
       "      <td>-0.1556</td>\n",
       "    </tr>\n",
       "    <tr>\n",
       "      <th>simple</th>\n",
       "      <td>3217</td>\n",
       "      <td>0</td>\n",
       "      <td>647</td>\n",
       "      <td>6136</td>\n",
       "      <td>0</td>\n",
       "      <td>0.2919</td>\n",
       "    </tr>\n",
       "  </tbody>\n",
       "</table>\n",
       "</div>"
      ],
      "text/plain": [
       "                     len                                   mean_outcome\n",
       "outcome_name        LOSE LOSE_DOUBLE PUSH   WIN WIN_DOUBLE             \n",
       "strategy                                                               \n",
       "<Action.DOUBLE: 3>     0        3232  637     0       6131       0.5798\n",
       "<Action.HIT: 2>     3185           0  676  6139          0       0.2954\n",
       "<Action.STAND: 1>   5778           0    0  4222          0      -0.1556\n",
       "simple              3217           0  647  6136          0       0.2919"
      ]
     },
     "execution_count": 33,
     "metadata": {},
     "output_type": "execute_result"
    }
   ],
   "source": [
    "# 10 v 6\n",
    "def cond_10_6(score_p, score_d):\n",
    "    return score_p.points == 10 and score_d.points == 6\n",
    "\n",
    "strats = sim.gen_cond_strategies(strat_simple, cond_10_6, [Action.HIT, Action.STAND, Action.DOUBLE])\n",
    "sims = sim.run_n_sim_trials_from_state(strats+[strat_simple], make_hand([5, 5]), make_hand([6]), 10000)\n",
    "sim.summarize_totals(sims)"
   ]
  },
  {
   "cell_type": "code",
   "execution_count": 34,
   "id": "serious-briefs",
   "metadata": {
    "ExecuteTime": {
     "end_time": "2021-07-24T00:52:51.308371Z",
     "start_time": "2021-07-24T00:52:50.869547Z"
    }
   },
   "outputs": [
    {
     "data": {
      "text/plain": [
       "(<function simulator.test_cond.<locals>.cond(p, d)>,\n",
       "                      len                                   mean_outcome\n",
       " outcome_name        LOSE LOSE_DOUBLE PUSH   WIN WIN_DOUBLE             \n",
       " strategy                                                               \n",
       " <Action.DOUBLE: 3>     0        3183  696     0       6121       0.5876\n",
       " <Action.HIT: 2>     3146           0  663  6191          0       0.3045\n",
       " <Action.STAND: 1>   5713           0    0  4287          0      -0.1426)"
      ]
     },
     "execution_count": 34,
     "metadata": {},
     "output_type": "execute_result"
    }
   ],
   "source": [
    "sim.test_cond(HandScore(10), HandScore(6), 10000, strat_simple)"
   ]
  },
  {
   "cell_type": "code",
   "execution_count": 35,
   "id": "square-binary",
   "metadata": {
    "ExecuteTime": {
     "end_time": "2021-07-24T00:52:51.329518Z",
     "start_time": "2021-07-24T00:52:51.309265Z"
    }
   },
   "outputs": [
    {
     "data": {
      "text/plain": [
       "(<function simulator.test_cond.<locals>.cond(p, d)>,\n",
       "                     len                                  mean_outcome\n",
       " outcome_name       LOSE LOSE_DOUBLE PUSH  WIN WIN_DOUBLE             \n",
       " strategy                                                             \n",
       " <Action.DOUBLE: 3>    0         160    2    0         38       -1.220\n",
       " <Action.HIT: 2>     159           0    3   38          0       -0.605\n",
       " <Action.STAND: 1>    58           0   16  126          0        0.340)"
      ]
     },
     "execution_count": 35,
     "metadata": {},
     "output_type": "execute_result"
    }
   ],
   "source": [
    "sim.test_cond(HandScore(18), HandScore(6), 200, strat_simple)"
   ]
  },
  {
   "cell_type": "code",
   "execution_count": 36,
   "id": "recent-harvey",
   "metadata": {
    "ExecuteTime": {
     "end_time": "2021-07-24T00:52:51.352403Z",
     "start_time": "2021-07-24T00:52:51.330485Z"
    }
   },
   "outputs": [
    {
     "data": {
      "text/plain": [
       "(<function simulator.test_cond.<locals>.cond(p, d)>,\n",
       "                     len                                  mean_outcome\n",
       " outcome_name       LOSE LOSE_DOUBLE PUSH  WIN WIN_DOUBLE             \n",
       " strategy                                                             \n",
       " <Action.DOUBLE: 3>    0          58   12    0        130         0.72\n",
       " <Action.HIT: 2>      58           0   16  126          0         0.34\n",
       " <Action.STAND: 1>     0           0   16  184          0         0.92)"
      ]
     },
     "execution_count": 36,
     "metadata": {},
     "output_type": "execute_result"
    }
   ],
   "source": [
    "sim.test_cond(HandScore(21, True), HandScore(6), 200, strat_simple)"
   ]
  },
  {
   "cell_type": "code",
   "execution_count": 37,
   "id": "manual-anime",
   "metadata": {
    "ExecuteTime": {
     "end_time": "2021-07-24T00:52:51.381155Z",
     "start_time": "2021-07-24T00:52:51.353434Z"
    }
   },
   "outputs": [
    {
     "data": {
      "text/plain": [
       "{'<Action.DOUBLE: 3>': 0.53,\n",
       " '<Action.HIT: 2>': 0.265,\n",
       " '<Action.STAND: 1>': -0.14,\n",
       " 'score_p': 'h10',\n",
       " 'score_d': 'h06',\n",
       " 'winning_act': <Action.DOUBLE: 3>,\n",
       " 'winning_act_outcome': 0.53}"
      ]
     },
     "execution_count": 37,
     "metadata": {},
     "output_type": "execute_result"
    }
   ],
   "source": [
    "\n",
    "sim.find_winning_action(HandScore(10), HandScore(6), 200)"
   ]
  },
  {
   "cell_type": "code",
   "execution_count": 38,
   "id": "supported-herald",
   "metadata": {
    "ExecuteTime": {
     "end_time": "2021-07-24T00:52:51.483323Z",
     "start_time": "2021-07-24T00:52:51.382074Z"
    }
   },
   "outputs": [
    {
     "data": {
      "text/plain": [
       "(<function simulator.test_cond.<locals>.cond(p, d)>,\n",
       "                     len                                  mean_outcome\n",
       " outcome_name       LOSE LOSE_DOUBLE PUSH  WIN WIN_DOUBLE             \n",
       " strategy                                                             \n",
       " <Action.DOUBLE: 3>    0         853   19    0        128       -1.450\n",
       " <Action.HIT: 2>     843           0   19  138          0       -0.705\n",
       " <Action.STAND: 1>   581           0  127  292          0       -0.289)"
      ]
     },
     "execution_count": 38,
     "metadata": {},
     "output_type": "execute_result"
    }
   ],
   "source": [
    "sim.test_cond(HandScore(18), HandScore(11, True), 1000)"
   ]
  },
  {
   "cell_type": "code",
   "execution_count": 39,
   "id": "behind-seattle",
   "metadata": {
    "ExecuteTime": {
     "end_time": "2021-07-24T00:52:55.572831Z",
     "start_time": "2021-07-24T00:52:51.484653Z"
    }
   },
   "outputs": [
    {
     "name": "stdout",
     "output_type": "stream",
     "text": [
      " "
     ]
    },
    {
     "data": {
      "text/html": [
       "<div>\n",
       "<style scoped>\n",
       "    .dataframe tbody tr th:only-of-type {\n",
       "        vertical-align: middle;\n",
       "    }\n",
       "\n",
       "    .dataframe tbody tr th {\n",
       "        vertical-align: top;\n",
       "    }\n",
       "\n",
       "    .dataframe thead th {\n",
       "        text-align: right;\n",
       "    }\n",
       "</style>\n",
       "<table border=\"1\" class=\"dataframe\">\n",
       "  <thead>\n",
       "    <tr style=\"text-align: right;\">\n",
       "      <th></th>\n",
       "      <th></th>\n",
       "      <th>&lt;Action.DOUBLE: 3&gt;</th>\n",
       "      <th>&lt;Action.HIT: 2&gt;</th>\n",
       "      <th>&lt;Action.STAND: 1&gt;</th>\n",
       "      <th>winning_act</th>\n",
       "      <th>winning_act_outcome</th>\n",
       "    </tr>\n",
       "    <tr>\n",
       "      <th>score_p</th>\n",
       "      <th>score_d</th>\n",
       "      <th></th>\n",
       "      <th></th>\n",
       "      <th></th>\n",
       "      <th></th>\n",
       "      <th></th>\n",
       "    </tr>\n",
       "  </thead>\n",
       "  <tbody>\n",
       "    <tr>\n",
       "      <th rowspan=\"5\" valign=\"top\">h09</th>\n",
       "      <th>s11</th>\n",
       "      <td>-1.3</td>\n",
       "      <td>-0.550</td>\n",
       "      <td>-0.90</td>\n",
       "      <td>Action.HIT</td>\n",
       "      <td>-0.550</td>\n",
       "    </tr>\n",
       "    <tr>\n",
       "      <th>h02</th>\n",
       "      <td>0.0</td>\n",
       "      <td>0.175</td>\n",
       "      <td>-0.20</td>\n",
       "      <td>Action.HIT</td>\n",
       "      <td>0.175</td>\n",
       "    </tr>\n",
       "    <tr>\n",
       "      <th>h03</th>\n",
       "      <td>0.5</td>\n",
       "      <td>0.150</td>\n",
       "      <td>-0.20</td>\n",
       "      <td>Action.DOUBLE</td>\n",
       "      <td>0.500</td>\n",
       "    </tr>\n",
       "    <tr>\n",
       "      <th>h04</th>\n",
       "      <td>0.0</td>\n",
       "      <td>-0.100</td>\n",
       "      <td>-0.50</td>\n",
       "      <td>Action.DOUBLE</td>\n",
       "      <td>0.000</td>\n",
       "    </tr>\n",
       "    <tr>\n",
       "      <th>h05</th>\n",
       "      <td>0.5</td>\n",
       "      <td>0.200</td>\n",
       "      <td>-0.10</td>\n",
       "      <td>Action.DOUBLE</td>\n",
       "      <td>0.500</td>\n",
       "    </tr>\n",
       "    <tr>\n",
       "      <th>...</th>\n",
       "      <th>...</th>\n",
       "      <td>...</td>\n",
       "      <td>...</td>\n",
       "      <td>...</td>\n",
       "      <td>...</td>\n",
       "      <td>...</td>\n",
       "    </tr>\n",
       "    <tr>\n",
       "      <th rowspan=\"5\" valign=\"top\">s21</th>\n",
       "      <th>h06</th>\n",
       "      <td>0.7</td>\n",
       "      <td>0.100</td>\n",
       "      <td>0.95</td>\n",
       "      <td>Action.STAND</td>\n",
       "      <td>0.950</td>\n",
       "    </tr>\n",
       "    <tr>\n",
       "      <th>h07</th>\n",
       "      <td>0.8</td>\n",
       "      <td>0.300</td>\n",
       "      <td>1.00</td>\n",
       "      <td>Action.STAND</td>\n",
       "      <td>1.000</td>\n",
       "    </tr>\n",
       "    <tr>\n",
       "      <th>h08</th>\n",
       "      <td>0.2</td>\n",
       "      <td>-0.050</td>\n",
       "      <td>0.95</td>\n",
       "      <td>Action.STAND</td>\n",
       "      <td>0.950</td>\n",
       "    </tr>\n",
       "    <tr>\n",
       "      <th>h09</th>\n",
       "      <td>0.1</td>\n",
       "      <td>-0.050</td>\n",
       "      <td>0.95</td>\n",
       "      <td>Action.STAND</td>\n",
       "      <td>0.950</td>\n",
       "    </tr>\n",
       "    <tr>\n",
       "      <th>h10</th>\n",
       "      <td>0.0</td>\n",
       "      <td>-0.025</td>\n",
       "      <td>0.85</td>\n",
       "      <td>Action.STAND</td>\n",
       "      <td>0.850</td>\n",
       "    </tr>\n",
       "  </tbody>\n",
       "</table>\n",
       "<p>250 rows × 5 columns</p>\n",
       "</div>"
      ],
      "text/plain": [
       "                 <Action.DOUBLE: 3>  <Action.HIT: 2>  <Action.STAND: 1>  \\\n",
       "score_p score_d                                                           \n",
       "h09     s11                    -1.3           -0.550              -0.90   \n",
       "        h02                     0.0            0.175              -0.20   \n",
       "        h03                     0.5            0.150              -0.20   \n",
       "        h04                     0.0           -0.100              -0.50   \n",
       "        h05                     0.5            0.200              -0.10   \n",
       "...                             ...              ...                ...   \n",
       "s21     h06                     0.7            0.100               0.95   \n",
       "        h07                     0.8            0.300               1.00   \n",
       "        h08                     0.2           -0.050               0.95   \n",
       "        h09                     0.1           -0.050               0.95   \n",
       "        h10                     0.0           -0.025               0.85   \n",
       "\n",
       "                   winning_act  winning_act_outcome  \n",
       "score_p score_d                                      \n",
       "h09     s11         Action.HIT               -0.550  \n",
       "        h02         Action.HIT                0.175  \n",
       "        h03      Action.DOUBLE                0.500  \n",
       "        h04      Action.DOUBLE                0.000  \n",
       "        h05      Action.DOUBLE                0.500  \n",
       "...                        ...                  ...  \n",
       "s21     h06       Action.STAND                0.950  \n",
       "        h07       Action.STAND                1.000  \n",
       "        h08       Action.STAND                0.950  \n",
       "        h09       Action.STAND                0.950  \n",
       "        h10       Action.STAND                0.850  \n",
       "\n",
       "[250 rows x 5 columns]"
      ]
     },
     "execution_count": 39,
     "metadata": {},
     "output_type": "execute_result"
    }
   ],
   "source": [
    "%prun -s cumulative conds = sim.compute_instructions(20)\n",
    "pd.DataFrame(conds).set_index(['score_p', 'score_d'])"
   ]
  },
  {
   "cell_type": "code",
   "execution_count": 40,
   "id": "challenging-producer",
   "metadata": {
    "ExecuteTime": {
     "end_time": "2021-07-24T00:53:01.166728Z",
     "start_time": "2021-07-24T00:52:55.576724Z"
    }
   },
   "outputs": [
    {
     "name": "stdout",
     "output_type": "stream",
     "text": [
      " "
     ]
    }
   ],
   "source": [
    "\n",
    "%prun -s cumulative sim.compute_instructions(100, strat_simple)"
   ]
  },
  {
   "cell_type": "code",
   "execution_count": 41,
   "id": "foster-december",
   "metadata": {
    "ExecuteTime": {
     "end_time": "2021-07-24T00:53:01.171268Z",
     "start_time": "2021-07-24T00:53:01.168082Z"
    }
   },
   "outputs": [],
   "source": [
    "def run_iteration(n, strat_base, previous_instructions):\n",
    "    comput = sim.compute_instructions(n, strat_base)\n",
    "    outputs = pd.DataFrame(comput).set_index(['score_p', 'score_d'])\n",
    "    \n",
    "    instructions = {(output['score_p'], output['score_d']): output['winning_act'] for output in comput}\n",
    "    \n",
    "    fig = plt.figure()\n",
    "    # Visualize the winning action by starting condition\n",
    "    sns.heatmap(outputs['winning_act'].apply(lambda x: x.value).unstack(), ax=fig.add_subplot(1, 2, 1))\n",
    "    \n",
    "    # Visualize the average outcome by starting condition\n",
    "    sns.heatmap(outputs['winning_act_outcome'].unstack(), ax=fig.add_subplot(1, 2, 2))\n",
    "    \n",
    "    if previous_instructions:\n",
    "        for k in instructions:\n",
    "            if instructions[k] != previous_instructions[k]:\n",
    "                print(k, instructions[k], previous_instructions[k])\n",
    "    \n",
    "    return instructions\n",
    "\n",
    "#%prun -s cumulative run_iteration(1, strat_simple, None)"
   ]
  },
  {
   "cell_type": "code",
   "execution_count": 42,
   "id": "typical-murder",
   "metadata": {
    "ExecuteTime": {
     "end_time": "2021-07-24T00:53:01.231243Z",
     "start_time": "2021-07-24T00:53:01.172269Z"
    }
   },
   "outputs": [
    {
     "data": {
      "text/plain": [
       "(   strategy hand_start  dealer_card     hand_end dealer_hand  \\\n",
       " 0    simple    [4, 11]            8   [4, 11, 4]     [8, 13]   \n",
       " 1  memoized    [4, 11]            8  [4, 11, 13]     [8, 13]   \n",
       " 2    simple     [5, 4]            6   [5, 4, 10]  [6, 12, 5]   \n",
       " 3  memoized     [5, 4]            6    [5, 4, 5]  [6, 12, 5]   \n",
       " 4    simple    [4, 13]            7   [4, 13, 9]   [7, 7, 8]   \n",
       " 5  memoized    [4, 13]            7  [4, 13, 11]   [7, 7, 8]   \n",
       " 6    simple     [8, 7]            1    [8, 7, 5]     [1, 11]   \n",
       " 7  memoized     [8, 7]            1   [8, 7, 11]     [1, 11]   \n",
       " 8    simple     [6, 6]            4       [6, 6]  [4, 9, 12]   \n",
       " 9  memoized     [6, 6]            4       [6, 6]  [4, 9, 12]   \n",
       " \n",
       "             outcome  outcome_value outcome_name  \n",
       " 0  HandOutcome.PUSH            0.0         PUSH  \n",
       " 1  HandOutcome.LOSE           -1.0         LOSE  \n",
       " 2  HandOutcome.LOSE           -1.0         LOSE  \n",
       " 3  HandOutcome.LOSE           -1.0         LOSE  \n",
       " 4  HandOutcome.LOSE           -1.0         LOSE  \n",
       " 5  HandOutcome.LOSE           -1.0         LOSE  \n",
       " 6  HandOutcome.LOSE           -1.0         LOSE  \n",
       " 7  HandOutcome.LOSE           -1.0         LOSE  \n",
       " 8   HandOutcome.WIN            1.0          WIN  \n",
       " 9   HandOutcome.WIN            1.0          WIN  ,\n",
       "                    len                                       mean_outcome\n",
       " outcome_name BLACKJACK LOSE LOSE_DOUBLE PUSH  WIN WIN_DOUBLE             \n",
       " strategy                                                                 \n",
       " memoized            50  456          17   90  366         21       -0.007\n",
       " simple              50  453          17   99  361         20       -0.011)"
      ]
     },
     "execution_count": 42,
     "metadata": {},
     "output_type": "execute_result"
    }
   ],
   "source": [
    "# Memoized strategy\n",
    "# Rather than generic conditions, just use an array indexed on player and dealer scores\n",
    "# Since that's how we're generating our strategy anyway (one square at a time)\n",
    "\n",
    "def gen_strat_memoized(instructions, strat_base):\n",
    "    def strat_memoized(score_p, score_d):\n",
    "        k = (repr(score_p), repr(score_d))\n",
    "        if k in instructions:\n",
    "            return instructions[k]\n",
    "        else:\n",
    "            return strat_base.decide(score_p, score_d)\n",
    "    strat_memoized.name = 'memoized'\n",
    "    return bj.Strategy_wrapper(strat_memoized)\n",
    "\n",
    "instructions = {(repr(HandScore(13, True)), repr(HandScore(6))): Action.HIT}\n",
    "strat_memoized = gen_strat_memoized(instructions, strat_simple)\n",
    "\n",
    "sims = sim.run_n_sim_trials([strat_simple, strat_memoized], 1000)\n",
    "sims.head(10), sim.summarize_totals(sims)"
   ]
  },
  {
   "cell_type": "code",
   "execution_count": 43,
   "id": "imposed-cinema",
   "metadata": {
    "ExecuteTime": {
     "end_time": "2021-07-24T00:54:16.085787Z",
     "start_time": "2021-07-24T00:53:01.232385Z"
    }
   },
   "outputs": [
    {
     "name": "stdout",
     "output_type": "stream",
     "text": [
      "0\n",
      "1\n",
      "('h09', 'h02') Action.DOUBLE Action.HIT\n",
      "('h09', 'h03') Action.DOUBLE Action.HIT\n",
      "('h09', 'h06') Action.DOUBLE Action.HIT\n",
      "('h09', 'h07') Action.DOUBLE Action.HIT\n",
      "('h10', 's11') Action.HIT Action.DOUBLE\n",
      "('h10', 'h03') Action.HIT Action.DOUBLE\n",
      "('h10', 'h07') Action.DOUBLE Action.HIT\n",
      "('h10', 'h10') Action.DOUBLE Action.HIT\n",
      "('h11', 's11') Action.HIT Action.DOUBLE\n",
      "('h11', 'h06') Action.DOUBLE Action.HIT\n",
      "('h11', 'h09') Action.DOUBLE Action.HIT\n",
      "('h11', 'h10') Action.DOUBLE Action.HIT\n",
      "('h12', 'h03') Action.STAND Action.HIT\n",
      "('h13', 'h02') Action.STAND Action.HIT\n",
      "('h13', 'h04') Action.STAND Action.HIT\n",
      "('h13', 'h05') Action.HIT Action.STAND\n",
      "('h14', 'h02') Action.STAND Action.HIT\n",
      "('h14', 'h05') Action.STAND Action.HIT\n",
      "('h15', 'h06') Action.STAND Action.HIT\n",
      "('h15', 'h07') Action.STAND Action.HIT\n",
      "('h15', 'h09') Action.HIT Action.STAND\n",
      "('h15', 'h10') Action.HIT Action.STAND\n",
      "('h16', 's11') Action.STAND Action.HIT\n",
      "('h16', 'h07') Action.HIT Action.STAND\n",
      "('h16', 'h08') Action.HIT Action.STAND\n",
      "('h16', 'h10') Action.STAND Action.HIT\n",
      "('h17', 's11') Action.STAND Action.HIT\n",
      "('h17', 'h08') Action.STAND Action.HIT\n",
      "('s11', 'h08') Action.DOUBLE Action.HIT\n",
      "('s11', 'h09') Action.DOUBLE Action.HIT\n",
      "('s11', 'h10') Action.HIT Action.DOUBLE\n",
      "('s13', 'h02') Action.HIT Action.STAND\n",
      "('s14', 'h04') Action.HIT Action.DOUBLE\n",
      "('s14', 'h06') Action.HIT Action.DOUBLE\n",
      "('s15', 'h10') Action.HIT Action.STAND\n",
      "('s16', 'h02') Action.HIT Action.STAND\n",
      "('s17', 'h02') Action.HIT Action.DOUBLE\n",
      "('s17', 'h03') Action.HIT Action.STAND\n",
      "('s17', 'h05') Action.HIT Action.STAND\n",
      "('s17', 'h06') Action.HIT Action.DOUBLE\n",
      "('s17', 'h10') Action.HIT Action.STAND\n",
      "('s18', 's11') Action.STAND Action.HIT\n",
      "('s18', 'h05') Action.STAND Action.DOUBLE\n",
      "('s18', 'h10') Action.HIT Action.STAND\n",
      "('s19', 'h02') Action.STAND Action.DOUBLE\n",
      "('s20', 'h06') Action.STAND Action.DOUBLE\n",
      "2\n",
      "('h09', 'h07') Action.HIT Action.DOUBLE\n",
      "('h10', 'h03') Action.DOUBLE Action.HIT\n",
      "('h10', 'h09') Action.DOUBLE Action.HIT\n",
      "('h10', 'h10') Action.HIT Action.DOUBLE\n",
      "('h11', 'h09') Action.HIT Action.DOUBLE\n",
      "('h11', 'h10') Action.HIT Action.DOUBLE\n",
      "('h12', 'h02') Action.STAND Action.HIT\n",
      "('h12', 'h04') Action.HIT Action.STAND\n",
      "('h12', 'h05') Action.HIT Action.STAND\n",
      "('h12', 'h06') Action.STAND Action.DOUBLE\n",
      "('h13', 'h02') Action.HIT Action.STAND\n",
      "('h13', 'h05') Action.STAND Action.HIT\n",
      "('h15', 'h07') Action.HIT Action.STAND\n",
      "('h16', 'h10') Action.HIT Action.STAND\n",
      "('s11', 'h08') Action.HIT Action.DOUBLE\n",
      "('s11', 'h10') Action.DOUBLE Action.HIT\n",
      "('s17', 'h07') Action.STAND Action.HIT\n",
      "('s18', 'h10') Action.STAND Action.HIT\n",
      "3\n",
      "('h10', 'h09') Action.HIT Action.DOUBLE\n",
      "('h11', 'h09') Action.DOUBLE Action.HIT\n",
      "('h11', 'h10') Action.DOUBLE Action.HIT\n",
      "('h12', 'h02') Action.HIT Action.STAND\n",
      "('h12', 'h03') Action.HIT Action.STAND\n",
      "('h12', 'h05') Action.STAND Action.HIT\n",
      "('h13', 'h02') Action.STAND Action.HIT\n",
      "('h16', 's11') Action.HIT Action.STAND\n",
      "('h16', 'h10') Action.STAND Action.HIT\n",
      "('s11', 'h08') Action.DOUBLE Action.HIT\n",
      "('s11', 'h09') Action.HIT Action.DOUBLE\n",
      "('s11', 'h10') Action.HIT Action.DOUBLE\n",
      "('s17', 'h07') Action.HIT Action.STAND\n",
      "4\n",
      "('h09', 'h02') Action.HIT Action.DOUBLE\n",
      "('h10', 'h09') Action.DOUBLE Action.HIT\n",
      "('h11', 'h10') Action.HIT Action.DOUBLE\n",
      "('h12', 'h06') Action.HIT Action.STAND\n",
      "('h16', 'h10') Action.HIT Action.STAND\n"
     ]
    },
    {
     "data": {
      "text/plain": [
       "[<blackjack.Strategy_wrapper at 0x7f8493587d90>,\n",
       " <blackjack.Strategy_wrapper at 0x7f8492d47f70>,\n",
       " <blackjack.Strategy_wrapper at 0x7f849322d5b0>,\n",
       " <blackjack.Strategy_wrapper at 0x7f8493017f70>,\n",
       " <blackjack.Strategy_wrapper at 0x7f8492c5d760>,\n",
       " <blackjack.Strategy_wrapper at 0x7f8480e22730>]"
      ]
     },
     "execution_count": 43,
     "metadata": {},
     "output_type": "execute_result"
    },
    {
     "data": {
      "image/png": "[encoded data removed]",
      "text/plain": [
       "<Figure size 432x288 with 4 Axes>"
      ]
     },
     "metadata": {
      "needs_background": "light"
     },
     "output_type": "display_data"
    },
    {
     "data": {
      "image/png": "[encoded data removed]",
      "text/plain": [
       "<Figure size 432x288 with 4 Axes>"
      ]
     },
     "metadata": {
      "needs_background": "light"
     },
     "output_type": "display_data"
    },
    {
     "data": {
      "image/png": "[encoded data removed]",
      "text/plain": [
       "<Figure size 432x288 with 4 Axes>"
      ]
     },
     "metadata": {
      "needs_background": "light"
     },
     "output_type": "display_data"
    },
    {
     "data": {
      "image/png": "[encoded data removed]",
      "text/plain": [
       "<Figure size 432x288 with 4 Axes>"
      ]
     },
     "metadata": {
      "needs_background": "light"
     },
     "output_type": "display_data"
    },
    {
     "data": {
      "image/png": "[encoded data removed]",
      "text/plain": [
       "<Figure size 432x288 with 4 Axes>"
      ]
     },
     "metadata": {
      "needs_background": "light"
     },
     "output_type": "display_data"
    }
   ],
   "source": [
    "n = 50\n",
    "strat_base = strat_simple\n",
    "previous_instructions = None\n",
    "strategies = [strat_simple]\n",
    "\n",
    "for i in range(5):\n",
    "    print(i)\n",
    "    instructions = run_iteration(n, strat_base, previous_instructions)\n",
    "    strat_new  = gen_strat_memoized(instructions, strat_base)\n",
    "    strat_new.name = f'iter({i+1})'\n",
    "    strategies.append(strat_new)\n",
    "    previous_instructions = instructions\n",
    "    strat_base = strat_new\n",
    "    n = n*3\n",
    "\n",
    "strategies"
   ]
  },
  {
   "cell_type": "code",
   "execution_count": 44,
   "id": "lucky-account",
   "metadata": {
    "ExecuteTime": {
     "end_time": "2021-07-24T00:56:02.393146Z",
     "start_time": "2021-07-24T00:54:16.086763Z"
    }
   },
   "outputs": [
    {
     "data": {
      "text/plain": [
       "(  strategy hand_start  dealer_card        hand_end dealer_hand  \\\n",
       " 0   simple    [11, 4]            7      [11, 4, 6]  [7, 9, 10]   \n",
       " 1  iter(1)    [11, 4]            7      [11, 4, 4]  [7, 9, 10]   \n",
       " 2  iter(2)    [11, 4]            7      [11, 4, 3]  [7, 9, 10]   \n",
       " 3  iter(3)    [11, 4]            7      [11, 4, 7]  [7, 9, 10]   \n",
       " 4  iter(4)    [11, 4]            7      [11, 4, 9]  [7, 9, 10]   \n",
       " 5  iter(5)    [11, 4]            7      [11, 4, 4]  [7, 9, 10]   \n",
       " 6   simple    [4, 12]            9     [4, 12, 13]     [9, 13]   \n",
       " 7  iter(1)    [4, 12]            9  [4, 12, 2, 13]     [9, 13]   \n",
       " 8  iter(2)    [4, 12]            9      [4, 12, 3]     [9, 13]   \n",
       " 9  iter(3)    [4, 12]            9      [4, 12, 5]     [9, 13]   \n",
       " \n",
       "             outcome  outcome_value outcome_name  \n",
       " 0   HandOutcome.WIN            1.0          WIN  \n",
       " 1   HandOutcome.WIN            1.0          WIN  \n",
       " 2   HandOutcome.WIN            1.0          WIN  \n",
       " 3   HandOutcome.WIN            1.0          WIN  \n",
       " 4  HandOutcome.LOSE           -1.0         LOSE  \n",
       " 5   HandOutcome.WIN            1.0          WIN  \n",
       " 6  HandOutcome.LOSE           -1.0         LOSE  \n",
       " 7  HandOutcome.LOSE           -1.0         LOSE  \n",
       " 8  HandOutcome.LOSE           -1.0         LOSE  \n",
       " 9  HandOutcome.PUSH            0.0         PUSH  ,\n",
       "                    len                                                \\\n",
       " outcome_name BLACKJACK    LOSE LOSE_DOUBLE   PUSH     WIN WIN_DOUBLE   \n",
       " strategy                                                               \n",
       " iter(1)          45149  464395       27290  81514  346950      34702   \n",
       " iter(2)          45149  447197       39955  82080  334757      50862   \n",
       " iter(3)          45149  460844       23201  85889  348135      36782   \n",
       " iter(4)          45149  454506       29939  83547  342936      43923   \n",
       " iter(5)          45149  459490       23733  86322  348159      37147   \n",
       " simple           45149  467609       18771  87532  355913      25026   \n",
       " \n",
       "              mean_outcome  \n",
       " outcome_name               \n",
       " strategy                   \n",
       " iter(1)         -0.034897  \n",
       " iter(2)         -0.022902  \n",
       " iter(3)         -0.017823  \n",
       " iter(4)         -0.015879  \n",
       " iter(5)         -0.016779  \n",
       " simple          -0.031462  )"
      ]
     },
     "execution_count": 44,
     "metadata": {},
     "output_type": "execute_result"
    }
   ],
   "source": [
    "sims = sim.run_n_sim_trials(strategies, 1000*1000)\n",
    "sims.head(10), sim.summarize_totals(sims)"
   ]
  },
  {
   "cell_type": "code",
   "execution_count": null,
   "id": "periodic-huntington",
   "metadata": {},
   "outputs": [],
   "source": []
  }
 ],
 "metadata": {
  "kernelspec": {
   "display_name": "Python 3",
   "language": "python",
   "name": "python3"
  },
  "language_info": {
   "codemirror_mode": {
    "name": "ipython",
    "version": 3
   },
   "file_extension": ".py",
   "mimetype": "text/x-python",
   "name": "python",
   "nbconvert_exporter": "python",
   "pygments_lexer": "ipython3",
   "version": "3.8.8"
  }
 },
 "nbformat": 4,
 "nbformat_minor": 5
}
