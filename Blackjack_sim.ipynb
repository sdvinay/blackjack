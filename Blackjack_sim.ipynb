{
 "cells": [
  {
   "cell_type": "code",
   "execution_count": 1,
   "id": "middle-scenario",
   "metadata": {
    "ExecuteTime": {
     "end_time": "2021-07-07T22:43:27.854733Z",
     "start_time": "2021-07-07T22:43:27.252947Z"
    }
   },
   "outputs": [],
   "source": [
    "from dataclasses import dataclass, field\n",
    "import copy\n",
    "from enum import Enum, auto\n",
    "import random\n",
    "import pandas as pd\n",
    "import seaborn as sns\n",
    "\n",
    "\n",
    "import blackjack as bj\n",
    "from blackjack import Hand, make_hand, HandScore, add_card"
   ]
  },
  {
   "cell_type": "code",
   "execution_count": 2,
   "id": "timely-guidance",
   "metadata": {
    "ExecuteTime": {
     "end_time": "2021-07-07T22:43:27.859231Z",
     "start_time": "2021-07-07T22:43:27.855947Z"
    }
   },
   "outputs": [
    {
     "data": {
      "text/plain": [
       "s11"
      ]
     },
     "execution_count": 2,
     "metadata": {},
     "output_type": "execute_result"
    }
   ],
   "source": [
    "h = HandScore(11, True)\n",
    "h"
   ]
  },
  {
   "cell_type": "code",
   "execution_count": 3,
   "id": "crazy-muscle",
   "metadata": {
    "ExecuteTime": {
     "end_time": "2021-07-07T22:43:27.864606Z",
     "start_time": "2021-07-07T22:43:27.862326Z"
    }
   },
   "outputs": [
    {
     "data": {
      "text/plain": [
       "s21"
      ]
     },
     "execution_count": 3,
     "metadata": {},
     "output_type": "execute_result"
    }
   ],
   "source": [
    "h.add_card(10)"
   ]
  },
  {
   "cell_type": "code",
   "execution_count": 4,
   "id": "written-funds",
   "metadata": {
    "ExecuteTime": {
     "end_time": "2021-07-07T22:43:27.868681Z",
     "start_time": "2021-07-07T22:43:27.865836Z"
    }
   },
   "outputs": [
    {
     "data": {
      "text/plain": [
       "h21"
      ]
     },
     "execution_count": 4,
     "metadata": {},
     "output_type": "execute_result"
    }
   ],
   "source": [
    "h.add_card(10).add_card(10)"
   ]
  },
  {
   "cell_type": "code",
   "execution_count": 5,
   "id": "attended-channel",
   "metadata": {
    "ExecuteTime": {
     "end_time": "2021-07-07T22:43:27.872789Z",
     "start_time": "2021-07-07T22:43:27.870113Z"
    }
   },
   "outputs": [
    {
     "data": {
      "text/plain": [
       "s11"
      ]
     },
     "execution_count": 5,
     "metadata": {},
     "output_type": "execute_result"
    }
   ],
   "source": [
    "h"
   ]
  },
  {
   "cell_type": "code",
   "execution_count": 6,
   "id": "unlimited-outside",
   "metadata": {
    "ExecuteTime": {
     "end_time": "2021-07-07T22:43:27.876237Z",
     "start_time": "2021-07-07T22:43:27.873822Z"
    }
   },
   "outputs": [
    {
     "data": {
      "text/plain": [
       "s14"
      ]
     },
     "execution_count": 6,
     "metadata": {},
     "output_type": "execute_result"
    }
   ],
   "source": [
    "h.add_card(3)"
   ]
  },
  {
   "cell_type": "code",
   "execution_count": 7,
   "id": "thermal-hospital",
   "metadata": {
    "ExecuteTime": {
     "end_time": "2021-07-07T22:43:27.880479Z",
     "start_time": "2021-07-07T22:43:27.878484Z"
    }
   },
   "outputs": [
    {
     "data": {
      "text/plain": [
       "h14"
      ]
     },
     "execution_count": 7,
     "metadata": {},
     "output_type": "execute_result"
    }
   ],
   "source": [
    "h.add_card(3).add_card(10)"
   ]
  },
  {
   "cell_type": "code",
   "execution_count": 8,
   "id": "compound-bride",
   "metadata": {
    "ExecuteTime": {
     "end_time": "2021-07-07T22:43:27.886584Z",
     "start_time": "2021-07-07T22:43:27.882514Z"
    }
   },
   "outputs": [
    {
     "data": {
      "text/plain": [
       "[h00,\n",
       " h01,\n",
       " h02,\n",
       " h03,\n",
       " h04,\n",
       " h05,\n",
       " h06,\n",
       " h07,\n",
       " h08,\n",
       " h09,\n",
       " h10,\n",
       " h11,\n",
       " h12,\n",
       " h13,\n",
       " h14,\n",
       " h15,\n",
       " h16,\n",
       " h17,\n",
       " h18,\n",
       " h19,\n",
       " h20,\n",
       " h21,\n",
       " h22,\n",
       " s11,\n",
       " s12,\n",
       " s13,\n",
       " s14,\n",
       " s15,\n",
       " s16,\n",
       " s17,\n",
       " s18,\n",
       " s19,\n",
       " s20,\n",
       " s21]"
      ]
     },
     "execution_count": 8,
     "metadata": {},
     "output_type": "execute_result"
    }
   ],
   "source": [
    "all_scores = [HandScore(i, False) for i in range(0, 23)] + [HandScore(i, True) for i in range(11, 22)]\n",
    "all_scores"
   ]
  },
  {
   "cell_type": "code",
   "execution_count": 9,
   "id": "initial-harrison",
   "metadata": {
    "ExecuteTime": {
     "end_time": "2021-07-07T22:43:27.890097Z",
     "start_time": "2021-07-07T22:43:27.887864Z"
    }
   },
   "outputs": [
    {
     "data": {
      "text/plain": [
       "Hand(score=h00, cards=[], doubled=False)"
      ]
     },
     "execution_count": 9,
     "metadata": {},
     "output_type": "execute_result"
    }
   ],
   "source": [
    "h = Hand()\n",
    "h"
   ]
  },
  {
   "cell_type": "code",
   "execution_count": 10,
   "id": "reduced-cover",
   "metadata": {
    "ExecuteTime": {
     "end_time": "2021-07-07T22:43:27.893179Z",
     "start_time": "2021-07-07T22:43:27.890961Z"
    }
   },
   "outputs": [
    {
     "data": {
      "text/plain": [
       "Hand(score=h06, cards=[6], doubled=False)"
      ]
     },
     "execution_count": 10,
     "metadata": {},
     "output_type": "execute_result"
    }
   ],
   "source": [
    "h.add_card(6) # start a hand with a 6"
   ]
  },
  {
   "cell_type": "code",
   "execution_count": 11,
   "id": "aging-green",
   "metadata": {
    "ExecuteTime": {
     "end_time": "2021-07-07T22:43:27.896337Z",
     "start_time": "2021-07-07T22:43:27.894106Z"
    }
   },
   "outputs": [
    {
     "data": {
      "text/plain": [
       "Hand(score=h16, cards=[6, 11], doubled=False)"
      ]
     },
     "execution_count": 11,
     "metadata": {},
     "output_type": "execute_result"
    }
   ],
   "source": [
    "h.add_card(11) # show that J (11) counts as 10 points"
   ]
  },
  {
   "cell_type": "code",
   "execution_count": 12,
   "id": "humanitarian-chair",
   "metadata": {
    "ExecuteTime": {
     "end_time": "2021-07-07T22:43:27.900299Z",
     "start_time": "2021-07-07T22:43:27.897220Z"
    }
   },
   "outputs": [
    {
     "data": {
      "text/plain": [
       "(Hand(score=h22, cards=[6, 11, 7], doubled=False), True)"
      ]
     },
     "execution_count": 12,
     "metadata": {},
     "output_type": "execute_result"
    }
   ],
   "source": [
    "h.add_card(7), bj.is_busted(h) # bust (show that 23 is counted as 22)"
   ]
  },
  {
   "cell_type": "code",
   "execution_count": 13,
   "id": "accompanied-perspective",
   "metadata": {
    "ExecuteTime": {
     "end_time": "2021-07-07T22:43:27.904949Z",
     "start_time": "2021-07-07T22:43:27.901499Z"
    }
   },
   "outputs": [
    {
     "data": {
      "text/plain": [
       "Hand(score=s11, cards=[1], doubled=False)"
      ]
     },
     "execution_count": 13,
     "metadata": {},
     "output_type": "execute_result"
    }
   ],
   "source": [
    "# OK, now let's try another hand with aces\n",
    "h = Hand()\n",
    "h.add_card(1) # should be a soft 11"
   ]
  },
  {
   "cell_type": "code",
   "execution_count": 14,
   "id": "exotic-checkout",
   "metadata": {
    "ExecuteTime": {
     "end_time": "2021-07-07T22:43:27.908623Z",
     "start_time": "2021-07-07T22:43:27.906001Z"
    }
   },
   "outputs": [
    {
     "data": {
      "text/plain": [
       "Hand(score=s12, cards=[1, 1], doubled=False)"
      ]
     },
     "execution_count": 14,
     "metadata": {},
     "output_type": "execute_result"
    }
   ],
   "source": [
    "h.add_card(1) # two aces: should be a soft 12"
   ]
  },
  {
   "cell_type": "code",
   "execution_count": 15,
   "id": "italian-beads",
   "metadata": {
    "ExecuteTime": {
     "end_time": "2021-07-07T22:43:27.911985Z",
     "start_time": "2021-07-07T22:43:27.909528Z"
    }
   },
   "outputs": [
    {
     "data": {
      "text/plain": [
       "Hand(score=h12, cards=[1, 1, 11], doubled=False)"
      ]
     },
     "execution_count": 15,
     "metadata": {},
     "output_type": "execute_result"
    }
   ],
   "source": [
    "h.add_card(11) # two aces and a J: should be a hard 12"
   ]
  },
  {
   "cell_type": "code",
   "execution_count": 16,
   "id": "neutral-sugar",
   "metadata": {
    "ExecuteTime": {
     "end_time": "2021-07-07T22:43:27.916351Z",
     "start_time": "2021-07-07T22:43:27.912954Z"
    }
   },
   "outputs": [
    {
     "data": {
      "text/plain": [
       "(Hand(score=s21, cards=[1, 10], doubled=False), True)"
      ]
     },
     "execution_count": 16,
     "metadata": {},
     "output_type": "execute_result"
    }
   ],
   "source": [
    "# OK, now let's try another hand with a blackjack\n",
    "h = Hand()\n",
    "h.add_card(1) # should be a soft 11\n",
    "h.add_card(10)\n",
    "h, bj.is_blackjack(h)"
   ]
  },
  {
   "cell_type": "markdown",
   "id": "dental-kelly",
   "metadata": {},
   "source": [
    "## Now define gameplay and strategy"
   ]
  },
  {
   "cell_type": "code",
   "execution_count": 17,
   "id": "alternative-blast",
   "metadata": {
    "ExecuteTime": {
     "end_time": "2021-07-07T22:43:27.920683Z",
     "start_time": "2021-07-07T22:43:27.917772Z"
    }
   },
   "outputs": [],
   "source": [
    "\n",
    "# TODO I might want a Flag class later, to provide a set of possible Actions\n",
    "class Action(Enum):\n",
    "    STAND = auto()\n",
    "    HIT = auto()\n",
    "    DOUBLE = auto()\n",
    "    #SPLIT = auto()\n",
    "    \n",
    "    "
   ]
  },
  {
   "cell_type": "code",
   "execution_count": 18,
   "id": "experimental-roulette",
   "metadata": {
    "ExecuteTime": {
     "end_time": "2021-07-07T22:43:27.923802Z",
     "start_time": "2021-07-07T22:43:27.921878Z"
    }
   },
   "outputs": [],
   "source": [
    "# Most simple/conservative strategy imaginable:\n",
    "def strat_nobust(score_p, _):\n",
    "    if score_p.points > 11:\n",
    "        return Action.STAND\n",
    "    else:\n",
    "        return Action.HIT\n",
    "        \n",
    "strat_nobust.name = 'strat_nobust'"
   ]
  },
  {
   "cell_type": "code",
   "execution_count": 19,
   "id": "constitutional-audit",
   "metadata": {
    "ExecuteTime": {
     "end_time": "2021-07-07T22:43:27.926815Z",
     "start_time": "2021-07-07T22:43:27.924714Z"
    }
   },
   "outputs": [],
   "source": [
    "# Dealer strategy\n",
    "def strat_dealer(score_p, _):\n",
    "    if score_p.points < 17:\n",
    "        return Action.HIT\n",
    "    if score_p.points == 16 and score_p.soft:\n",
    "        return Action.HIT\n",
    "    else:\n",
    "        return Action.STAND\n",
    "    \n",
    "strat_dealer.name='strat_dealer'\n",
    "        "
   ]
  },
  {
   "cell_type": "code",
   "execution_count": 20,
   "id": "illegal-eclipse",
   "metadata": {
    "ExecuteTime": {
     "end_time": "2021-07-07T22:43:27.929729Z",
     "start_time": "2021-07-07T22:43:27.927851Z"
    }
   },
   "outputs": [],
   "source": [
    "class HandOutcome(Enum):\n",
    "    WIN = 1\n",
    "    LOSE = -1\n",
    "    WIN_DOUBLE = 2\n",
    "    LOSE_DOUBLE = -2\n",
    "    PUSH = 0\n",
    "    BLACKJACK = 1.5"
   ]
  },
  {
   "cell_type": "code",
   "execution_count": 21,
   "id": "rubber-cartoon",
   "metadata": {
    "ExecuteTime": {
     "end_time": "2021-07-07T22:43:27.932343Z",
     "start_time": "2021-07-07T22:43:27.930671Z"
    }
   },
   "outputs": [],
   "source": [
    "# Deck; completely random (i.e., infinite) for now\n",
    "\n",
    "\n",
    "def deal_card():\n",
    "    return random.randrange(13)+1"
   ]
  },
  {
   "cell_type": "code",
   "execution_count": 22,
   "id": "secondary-crown",
   "metadata": {
    "ExecuteTime": {
     "end_time": "2021-07-07T22:43:27.939534Z",
     "start_time": "2021-07-07T22:43:27.937260Z"
    }
   },
   "outputs": [
    {
     "data": {
      "text/plain": [
       "[2, 3, 2, 5, 7, 2, 7, 2, 4, 6]"
      ]
     },
     "execution_count": 22,
     "metadata": {},
     "output_type": "execute_result"
    }
   ],
   "source": [
    "[deal_card() for _ in range(10)]"
   ]
  },
  {
   "cell_type": "code",
   "execution_count": 23,
   "id": "adopted-miami",
   "metadata": {
    "ExecuteTime": {
     "end_time": "2021-07-07T22:43:27.944357Z",
     "start_time": "2021-07-07T22:43:27.941879Z"
    }
   },
   "outputs": [],
   "source": [
    "# return the final hand after playing\n",
    "def player_play_hand(strategy, hand_p, hand_d, deck):\n",
    "    while True:\n",
    "        decision = strategy(hand_p.score, hand_d.score)\n",
    "        if decision == Action.STAND:\n",
    "            return hand_p\n",
    "        if decision == Action.HIT:\n",
    "            hand_p.add_card(deck())\n",
    "            if bj.is_busted(hand_p):\n",
    "                return hand_p\n",
    "        if decision == Action.DOUBLE:\n",
    "            hand_p.doubled = True\n",
    "            hand_p.add_card(deck())\n",
    "            return hand_p\n",
    "\n"
   ]
  },
  {
   "cell_type": "code",
   "execution_count": 24,
   "id": "recent-notion",
   "metadata": {
    "ExecuteTime": {
     "end_time": "2021-07-07T22:43:27.949218Z",
     "start_time": "2021-07-07T22:43:27.945303Z"
    }
   },
   "outputs": [],
   "source": [
    "def player_hand_outcome(player_hand, dealer_hand):\n",
    "    # First compute the initial outcome, then double it if necessary for a double-down\n",
    "    def initial_outcome():\n",
    "        if bj.is_blackjack(player_hand):\n",
    "            if bj.is_blackjack(dealer_hand):\n",
    "                return HandOutcome.PUSH\n",
    "            else:\n",
    "                return HandOutcome.BLACKJACK\n",
    "        if bj.is_busted(player_hand) or bj.is_blackjack(dealer_hand):\n",
    "            return HandOutcome.LOSE\n",
    "        if bj.is_busted(dealer_hand):\n",
    "            return HandOutcome.WIN\n",
    "        if player_hand.score.points > dealer_hand.score.points:\n",
    "            return HandOutcome.WIN\n",
    "        if player_hand.score.points == dealer_hand.score.points:\n",
    "            return HandOutcome.PUSH\n",
    "        if player_hand.score.points < dealer_hand.score.points:\n",
    "            return HandOutcome.LOSE\n",
    "\n",
    "    outcome = initial_outcome()\n",
    "\n",
    "    outcome_doubler = {HandOutcome.WIN: HandOutcome.WIN_DOUBLE, HandOutcome.LOSE: HandOutcome.LOSE_DOUBLE}\n",
    "\n",
    "    if player_hand.doubled:\n",
    "        outcome = outcome_doubler.get(outcome) or outcome\n",
    "    return outcome\n",
    "        \n"
   ]
  },
  {
   "cell_type": "code",
   "execution_count": 25,
   "id": "violent-quality",
   "metadata": {
    "ExecuteTime": {
     "end_time": "2021-07-07T22:43:27.953435Z",
     "start_time": "2021-07-07T22:43:27.950609Z"
    }
   },
   "outputs": [],
   "source": [
    "def get_strat_name(strat):\n",
    "    if hasattr(strat, 'name'):\n",
    "        return strat.name\n",
    "    return repr(strat)"
   ]
  },
  {
   "cell_type": "code",
   "execution_count": 26,
   "id": "atomic-plaintiff",
   "metadata": {
    "ExecuteTime": {
     "end_time": "2021-07-07T22:43:27.959724Z",
     "start_time": "2021-07-07T22:43:27.954533Z"
    }
   },
   "outputs": [
    {
     "data": {
      "text/plain": [
       "[('strat_nobust',\n",
       "  Hand(score=h13, cards=[8, 2, 3], doubled=False),\n",
       "  Hand(score=h20, cards=[11, 13], doubled=False),\n",
       "  <HandOutcome.LOSE: -1>),\n",
       " ('strat_nobust',\n",
       "  Hand(score=h20, cards=[8, 2, 11], doubled=False),\n",
       "  Hand(score=h20, cards=[11, 13], doubled=False),\n",
       "  <HandOutcome.PUSH: 0>)]"
      ]
     },
     "execution_count": 26,
     "metadata": {},
     "output_type": "execute_result"
    }
   ],
   "source": [
    "# Goal is to evaluate strategies, so make comparisons simple\n",
    "\n",
    "# For each round:\n",
    "# Multiple players all play with a copy of the same starting hand\n",
    "# Each player has a strategy that they play\n",
    "# Dealer plays dealer strategy\n",
    "\n",
    "# For now, we're using an infinite deck and strategies without knowledge, so\n",
    "# the interaction of players/strategies should be a wash\n",
    "\n",
    "def deal_one_round():\n",
    "    hand_p = Hand()\n",
    "    hand_d = Hand()\n",
    "\n",
    "    hand_p.add_card(deal_card())\n",
    "    hand_d.add_card(deal_card())\n",
    "    hand_p.add_card(deal_card())\n",
    "    \n",
    "    dealer_hole_card = deal_card()\n",
    "    \n",
    "    return hand_p, hand_d, dealer_hole_card\n",
    "\n",
    "\n",
    "# Play multiple strategies on one starting point\n",
    "def complete_one_round(strats, player_hand, dealer_hand, dealer_hole_card):\n",
    "    hand_p = copy.deepcopy(player_hand)\n",
    "    hand_d = copy.deepcopy(dealer_hand)\n",
    "    \n",
    "    # represent each player as a hand and a strategy\n",
    "    players = [(player_play_hand(strat, copy.deepcopy(hand_p), hand_d, deal_card), get_strat_name(strat)) for strat in strats]\n",
    "    \n",
    "    # dealer\n",
    "    player_play_hand(strat_dealer, hand_d.add_card(dealer_hole_card), Hand(), deal_card)\n",
    "    \n",
    "    return [(strat, hand_p, hand_d, player_hand_outcome(hand_p, hand_d)) for (hand_p, strat) in players]\n",
    "\n",
    "    \n",
    "def play_one_round(strats):\n",
    "    hand_p, hand_d, dealer_hole_card = deal_one_round()\n",
    "    return complete_one_round(strats, hand_p, hand_d, dealer_hole_card)\n",
    "\n",
    "play_one_round([strat_nobust, strat_nobust])"
   ]
  },
  {
   "cell_type": "markdown",
   "id": "looking-jewelry",
   "metadata": {},
   "source": [
    "## Aggregate and summarize the data from the simulations"
   ]
  },
  {
   "cell_type": "code",
   "execution_count": 27,
   "id": "juvenile-joshua",
   "metadata": {
    "ExecuteTime": {
     "end_time": "2021-07-07T22:43:27.964584Z",
     "start_time": "2021-07-07T22:43:27.960647Z"
    }
   },
   "outputs": [
    {
     "data": {
      "text/plain": [
       "[{'strategy': 'strat_nobust',\n",
       "  'hand_start': [3, 9],\n",
       "  'dealer_card': 4,\n",
       "  'hand_end': [3, 9],\n",
       "  'dealer_hand': [4, 13, 11],\n",
       "  'outcome': <HandOutcome.WIN: 1>},\n",
       " {'strategy': 'strat_dealer',\n",
       "  'hand_start': [3, 9],\n",
       "  'dealer_card': 4,\n",
       "  'hand_end': [3, 9, 3, 9],\n",
       "  'dealer_hand': [4, 13, 11],\n",
       "  'outcome': <HandOutcome.LOSE: -1>}]"
      ]
     },
     "execution_count": 27,
     "metadata": {},
     "output_type": "execute_result"
    }
   ],
   "source": [
    "\n",
    "def generate_row_from_player(player):\n",
    "    (strat, hand_p, hand_d, outcome) = player\n",
    "    return {'strategy': strat, 'hand_start': hand_p.cards[:2], 'dealer_card': hand_d.cards[0], 'hand_end': hand_p.cards, 'dealer_hand': hand_d.cards, 'outcome': outcome}\n",
    "\n",
    "def generate_rows_from_round(r):\n",
    "    return [generate_row_from_player(player) for player in r]\n",
    "\n",
    "\n",
    "generate_rows_from_round(play_one_round([strat_nobust, strat_dealer]))\n"
   ]
  },
  {
   "cell_type": "code",
   "execution_count": 28,
   "id": "approved-broadway",
   "metadata": {
    "ExecuteTime": {
     "end_time": "2021-07-07T22:43:28.062188Z",
     "start_time": "2021-07-07T22:43:27.966576Z"
    }
   },
   "outputs": [
    {
     "data": {
      "text/plain": [
       "(          strategy hand_start  dealer_card    hand_end   dealer_hand  \\\n",
       " 0     strat_nobust   [13, 10]            2    [13, 10]  [2, 9, 3, 9]   \n",
       " 1     strat_dealer   [13, 10]            2    [13, 10]  [2, 9, 3, 9]   \n",
       " 2     strat_nobust    [10, 1]            7     [10, 1]    [7, 5, 10]   \n",
       " 3     strat_dealer    [10, 1]            7     [10, 1]    [7, 5, 10]   \n",
       " 4     strat_nobust     [9, 4]           11      [9, 4]    [11, 3, 9]   \n",
       " ...            ...        ...          ...         ...           ...   \n",
       " 1995  strat_dealer   [12, 11]            7    [12, 11]  [7, 5, 3, 2]   \n",
       " 1996  strat_nobust    [13, 9]            5     [13, 9]    [5, 12, 2]   \n",
       " 1997  strat_dealer    [13, 9]            5     [13, 9]    [5, 12, 2]   \n",
       " 1998  strat_nobust     [8, 7]           11      [8, 7]      [11, 13]   \n",
       " 1999  strat_dealer     [8, 7]           11  [8, 7, 10]      [11, 13]   \n",
       " \n",
       "                     outcome  outcome_value outcome_name  \n",
       " 0           HandOutcome.WIN            1.0          WIN  \n",
       " 1           HandOutcome.WIN            1.0          WIN  \n",
       " 2     HandOutcome.BLACKJACK            1.5    BLACKJACK  \n",
       " 3     HandOutcome.BLACKJACK            1.5    BLACKJACK  \n",
       " 4           HandOutcome.WIN            1.0          WIN  \n",
       " ...                     ...            ...          ...  \n",
       " 1995        HandOutcome.WIN            1.0          WIN  \n",
       " 1996        HandOutcome.WIN            1.0          WIN  \n",
       " 1997        HandOutcome.WIN            1.0          WIN  \n",
       " 1998       HandOutcome.LOSE           -1.0         LOSE  \n",
       " 1999       HandOutcome.LOSE           -1.0         LOSE  \n",
       " \n",
       " [2000 rows x 8 columns],\n",
       "                    len                mean_outcome\n",
       " outcome_name BLACKJACK LOSE PUSH  WIN             \n",
       " strategy                                          \n",
       " strat_dealer        34  502  110  354       -0.097\n",
       " strat_nobust        34  512   79  375       -0.086)"
      ]
     },
     "execution_count": 28,
     "metadata": {},
     "output_type": "execute_result"
    }
   ],
   "source": [
    "def run_n_sim_trials(strats, n):\n",
    "    sims = [generate_rows_from_round(play_one_round(strats)) for _ in range(n)]\n",
    "    results = pd.DataFrame([player for round in sims for player in round])\n",
    "    results['outcome_value'] = results['outcome'].apply(lambda x: x.value)\n",
    "    results['outcome_name'] = results['outcome'].apply(lambda x: str(x)[12:])\n",
    "    return results\n",
    "\n",
    "def summarize_totals(sims):\n",
    "    def outcome_name(x): return x.head(1) # The function name will be used as the column name\n",
    "    outcome_counts = sims.groupby(['strategy', 'outcome_value'])['outcome_name'].agg([len, outcome_name])\n",
    "    outcome_summary = outcome_counts.reset_index().set_index('strategy').drop(['outcome_value'], axis=1).pivot(columns=['outcome_name'])\n",
    "\n",
    "    # The empty cells are NaNs; fill the NaNs and convert back to int\n",
    "    for col in outcome_summary.columns:\n",
    "        outcome_summary[col] = outcome_summary[col].fillna(0).apply(int)\n",
    "        \n",
    "    outcome_summary['mean_outcome'] = sims.groupby('strategy')['outcome_value'].mean()\n",
    "    \n",
    "    return outcome_summary\n",
    "\n",
    "\n",
    "sim_results = run_n_sim_trials([strat_nobust, strat_dealer], 1000)\n",
    "sim_results, summarize_totals(sim_results)"
   ]
  },
  {
   "cell_type": "code",
   "execution_count": 29,
   "id": "varied-devil",
   "metadata": {
    "ExecuteTime": {
     "end_time": "2021-07-07T22:43:28.133498Z",
     "start_time": "2021-07-07T22:43:28.063124Z"
    }
   },
   "outputs": [
    {
     "data": {
      "text/plain": [
       "(  strategy hand_start  dealer_card       hand_end          dealer_hand  \\\n",
       " 0   simple    [2, 12]            2  [2, 12, 2, 8]  [2, 1, 4, 4, 1, 13]   \n",
       " 1   simple     [9, 5]            7      [9, 5, 6]              [7, 10]   \n",
       " 2   simple     [9, 2]            2      [9, 2, 4]        [2, 7, 3, 10]   \n",
       " 3   simple     [6, 9]           10   [6, 9, 1, 5]           [10, 2, 8]   \n",
       " 4   simple    [3, 13]           13    [3, 13, 13]          [13, 6, 13]   \n",
       " 5   simple     [9, 9]            1         [9, 9]        [1, 3, 11, 3]   \n",
       " 6   simple    [10, 9]            6        [10, 9]            [6, 4, 9]   \n",
       " 7   simple    [12, 3]            6        [12, 3]           [6, 2, 11]   \n",
       " 8   simple     [7, 8]           13     [7, 8, 12]              [13, 7]   \n",
       " 9   simple    [1, 11]           13        [1, 11]             [13, 10]   \n",
       " \n",
       "                   outcome  outcome_value outcome_name  \n",
       " 0        HandOutcome.LOSE           -1.0         LOSE  \n",
       " 1         HandOutcome.WIN            1.0          WIN  \n",
       " 2  HandOutcome.WIN_DOUBLE            2.0   WIN_DOUBLE  \n",
       " 3         HandOutcome.WIN            1.0          WIN  \n",
       " 4        HandOutcome.LOSE           -1.0         LOSE  \n",
       " 5         HandOutcome.WIN            1.0          WIN  \n",
       " 6        HandOutcome.PUSH            0.0         PUSH  \n",
       " 7        HandOutcome.LOSE           -1.0         LOSE  \n",
       " 8        HandOutcome.LOSE           -1.0         LOSE  \n",
       " 9   HandOutcome.BLACKJACK            1.5    BLACKJACK  ,\n",
       "                    len                                       mean_outcome\n",
       " outcome_name BLACKJACK LOSE LOSE_DOUBLE PUSH  WIN WIN_DOUBLE             \n",
       " strategy                                                                 \n",
       " simple              64  449          21   77  359         30        0.024)"
      ]
     },
     "execution_count": 29,
     "metadata": {},
     "output_type": "execute_result"
    }
   ],
   "source": [
    "def strat_simple(score_p, score_d):\n",
    "    if score_p.points == 11:  return Action.DOUBLE\n",
    "    if score_p.points >= 17:  return Action.STAND\n",
    "    if score_p.points <= 11:  return Action.HIT\n",
    "    if score_d.points in (range(3,7)):  return Action.STAND\n",
    "    else:  return Action.HIT\n",
    "        \n",
    "strat_simple.name = 'simple'\n",
    "\n",
    "\n",
    "sims = run_n_sim_trials([strat_simple], 1000)\n",
    "sims.head(10), summarize_totals(sims)"
   ]
  },
  {
   "cell_type": "code",
   "execution_count": 30,
   "id": "confirmed-passing",
   "metadata": {
    "ExecuteTime": {
     "end_time": "2021-07-07T22:43:29.067560Z",
     "start_time": "2021-07-07T22:43:28.134488Z"
    }
   },
   "outputs": [
    {
     "data": {
      "text/html": [
       "<div>\n",
       "<style scoped>\n",
       "    .dataframe tbody tr th:only-of-type {\n",
       "        vertical-align: middle;\n",
       "    }\n",
       "\n",
       "    .dataframe tbody tr th {\n",
       "        vertical-align: top;\n",
       "    }\n",
       "\n",
       "    .dataframe thead tr th {\n",
       "        text-align: left;\n",
       "    }\n",
       "\n",
       "    .dataframe thead tr:last-of-type th {\n",
       "        text-align: right;\n",
       "    }\n",
       "</style>\n",
       "<table border=\"1\" class=\"dataframe\">\n",
       "  <thead>\n",
       "    <tr>\n",
       "      <th></th>\n",
       "      <th colspan=\"6\" halign=\"left\">len</th>\n",
       "      <th>mean_outcome</th>\n",
       "    </tr>\n",
       "    <tr>\n",
       "      <th>outcome_name</th>\n",
       "      <th>BLACKJACK</th>\n",
       "      <th>LOSE</th>\n",
       "      <th>LOSE_DOUBLE</th>\n",
       "      <th>PUSH</th>\n",
       "      <th>WIN</th>\n",
       "      <th>WIN_DOUBLE</th>\n",
       "      <th></th>\n",
       "    </tr>\n",
       "    <tr>\n",
       "      <th>strategy</th>\n",
       "      <th></th>\n",
       "      <th></th>\n",
       "      <th></th>\n",
       "      <th></th>\n",
       "      <th></th>\n",
       "      <th></th>\n",
       "      <th></th>\n",
       "    </tr>\n",
       "  </thead>\n",
       "  <tbody>\n",
       "    <tr>\n",
       "      <th>simple</th>\n",
       "      <td>446</td>\n",
       "      <td>4535</td>\n",
       "      <td>262</td>\n",
       "      <td>922</td>\n",
       "      <td>3483</td>\n",
       "      <td>352</td>\n",
       "      <td>-0.0203</td>\n",
       "    </tr>\n",
       "    <tr>\n",
       "      <th>strat_dealer</th>\n",
       "      <td>446</td>\n",
       "      <td>4905</td>\n",
       "      <td>0</td>\n",
       "      <td>1025</td>\n",
       "      <td>3624</td>\n",
       "      <td>0</td>\n",
       "      <td>-0.0612</td>\n",
       "    </tr>\n",
       "    <tr>\n",
       "      <th>strat_nobust</th>\n",
       "      <td>446</td>\n",
       "      <td>5122</td>\n",
       "      <td>0</td>\n",
       "      <td>683</td>\n",
       "      <td>3749</td>\n",
       "      <td>0</td>\n",
       "      <td>-0.0704</td>\n",
       "    </tr>\n",
       "  </tbody>\n",
       "</table>\n",
       "</div>"
      ],
      "text/plain": [
       "                   len                                          mean_outcome\n",
       "outcome_name BLACKJACK  LOSE LOSE_DOUBLE  PUSH   WIN WIN_DOUBLE             \n",
       "strategy                                                                    \n",
       "simple             446  4535         262   922  3483        352      -0.0203\n",
       "strat_dealer       446  4905           0  1025  3624          0      -0.0612\n",
       "strat_nobust       446  5122           0   683  3749          0      -0.0704"
      ]
     },
     "execution_count": 30,
     "metadata": {},
     "output_type": "execute_result"
    }
   ],
   "source": [
    "summarize_totals(run_n_sim_trials([strat_dealer, strat_nobust, strat_simple], 10000))\n"
   ]
  },
  {
   "cell_type": "markdown",
   "id": "fluid-writing",
   "metadata": {},
   "source": [
    "## Simulate specific situations to determine strategy"
   ]
  },
  {
   "cell_type": "code",
   "execution_count": 31,
   "id": "otherwise-sheffield",
   "metadata": {
    "ExecuteTime": {
     "end_time": "2021-07-07T22:43:29.070691Z",
     "start_time": "2021-07-07T22:43:29.068467Z"
    }
   },
   "outputs": [
    {
     "data": {
      "text/plain": [
       "(Hand(score=h12, cards=[5, 7], doubled=False),\n",
       " Hand(score=h02, cards=[2], doubled=False))"
      ]
     },
     "execution_count": 31,
     "metadata": {},
     "output_type": "execute_result"
    }
   ],
   "source": [
    "# 12 vs deuce\n",
    "\n",
    "hand_p = make_hand([5, 7])\n",
    "hand_d = make_hand([2])\n",
    "\n",
    "hand_p, hand_d"
   ]
  },
  {
   "cell_type": "code",
   "execution_count": 32,
   "id": "gross-kennedy",
   "metadata": {
    "ExecuteTime": {
     "end_time": "2021-07-07T22:43:29.073935Z",
     "start_time": "2021-07-07T22:43:29.071534Z"
    }
   },
   "outputs": [],
   "source": [
    "# Implement a strategy that composes conditions and actions\n",
    "\n",
    "def cond_12_2(score_p, score_d):\n",
    "    return score_p.points == 12 and score_d.points == 2 and not score_p.soft\n",
    "conditions = [(cond_12_2, Action.STAND)]\n",
    "\n",
    "def generate_strat_conditional(strat_base, conditions):\n",
    "    def strat_cond(score_p, score_d):\n",
    "        for (condition, action) in conditions:\n",
    "            if condition(score_p, score_d): return action\n",
    "        return strat_base(score_p, score_d)\n",
    "    strat_cond.name = 'strat_cond'\n",
    "    return strat_cond\n",
    "    \n",
    "strat_cond = generate_strat_conditional(strat_simple, conditions)"
   ]
  },
  {
   "cell_type": "code",
   "execution_count": 33,
   "id": "virgin-mining",
   "metadata": {
    "ExecuteTime": {
     "end_time": "2021-07-07T22:43:29.078331Z",
     "start_time": "2021-07-07T22:43:29.074748Z"
    }
   },
   "outputs": [
    {
     "data": {
      "text/plain": [
       "[<function __main__.generate_strat_conditional.<locals>.strat_cond(score_p, score_d)>,\n",
       " <function __main__.generate_strat_conditional.<locals>.strat_cond(score_p, score_d)>,\n",
       " <function __main__.generate_strat_conditional.<locals>.strat_cond(score_p, score_d)>]"
      ]
     },
     "execution_count": 33,
     "metadata": {},
     "output_type": "execute_result"
    }
   ],
   "source": [
    "def gen_cond_strategies(strat_base, condition, actions):\n",
    "    def gen_strat_action(strat_base, condition, action):\n",
    "        strat = generate_strat_conditional(strat_base, [(condition, action)])\n",
    "        strat.name = repr(action)\n",
    "        return strat\n",
    "    \n",
    "    strats = [gen_strat_action(strat_base, condition, a) for a in actions]\n",
    "    return strats\n",
    "    \n",
    "\n",
    "\n",
    "\n",
    "strats = gen_cond_strategies(strat_simple, cond_12_2, [Action.HIT, Action.STAND, Action.DOUBLE])\n",
    "strats"
   ]
  },
  {
   "cell_type": "code",
   "execution_count": 34,
   "id": "acoustic-warrant",
   "metadata": {
    "ExecuteTime": {
     "end_time": "2021-07-07T22:43:29.083077Z",
     "start_time": "2021-07-07T22:43:29.079432Z"
    }
   },
   "outputs": [
    {
     "data": {
      "text/plain": [
       "[('<Action.HIT: 2>',\n",
       "  Hand(score=h22, cards=[5, 7, 10], doubled=False),\n",
       "  Hand(score=h18, cards=[2, 11, 2, 4], doubled=False),\n",
       "  <HandOutcome.LOSE: -1>),\n",
       " ('<Action.STAND: 1>',\n",
       "  Hand(score=h12, cards=[5, 7], doubled=False),\n",
       "  Hand(score=h18, cards=[2, 11, 2, 4], doubled=False),\n",
       "  <HandOutcome.LOSE: -1>),\n",
       " ('<Action.DOUBLE: 3>',\n",
       "  Hand(score=h15, cards=[5, 7, 3], doubled=True),\n",
       "  Hand(score=h18, cards=[2, 11, 2, 4], doubled=False),\n",
       "  <HandOutcome.LOSE_DOUBLE: -2>)]"
      ]
     },
     "execution_count": 34,
     "metadata": {},
     "output_type": "execute_result"
    }
   ],
   "source": [
    "complete_one_round(strats, hand_p, hand_d, deal_card())"
   ]
  },
  {
   "cell_type": "code",
   "execution_count": 35,
   "id": "economic-greene",
   "metadata": {
    "ExecuteTime": {
     "end_time": "2021-07-07T22:43:29.993662Z",
     "start_time": "2021-07-07T22:43:29.084400Z"
    }
   },
   "outputs": [
    {
     "data": {
      "text/html": [
       "<div>\n",
       "<style scoped>\n",
       "    .dataframe tbody tr th:only-of-type {\n",
       "        vertical-align: middle;\n",
       "    }\n",
       "\n",
       "    .dataframe tbody tr th {\n",
       "        vertical-align: top;\n",
       "    }\n",
       "\n",
       "    .dataframe thead tr th {\n",
       "        text-align: left;\n",
       "    }\n",
       "\n",
       "    .dataframe thead tr:last-of-type th {\n",
       "        text-align: right;\n",
       "    }\n",
       "</style>\n",
       "<table border=\"1\" class=\"dataframe\">\n",
       "  <thead>\n",
       "    <tr>\n",
       "      <th></th>\n",
       "      <th colspan=\"5\" halign=\"left\">len</th>\n",
       "      <th>mean_outcome</th>\n",
       "    </tr>\n",
       "    <tr>\n",
       "      <th>outcome_name</th>\n",
       "      <th>LOSE</th>\n",
       "      <th>LOSE_DOUBLE</th>\n",
       "      <th>PUSH</th>\n",
       "      <th>WIN</th>\n",
       "      <th>WIN_DOUBLE</th>\n",
       "      <th></th>\n",
       "    </tr>\n",
       "    <tr>\n",
       "      <th>strategy</th>\n",
       "      <th></th>\n",
       "      <th></th>\n",
       "      <th></th>\n",
       "      <th></th>\n",
       "      <th></th>\n",
       "      <th></th>\n",
       "    </tr>\n",
       "  </thead>\n",
       "  <tbody>\n",
       "    <tr>\n",
       "      <th>&lt;Action.DOUBLE: 3&gt;</th>\n",
       "      <td>0</td>\n",
       "      <td>5989</td>\n",
       "      <td>491</td>\n",
       "      <td>0</td>\n",
       "      <td>3520</td>\n",
       "      <td>-0.4938</td>\n",
       "    </tr>\n",
       "    <tr>\n",
       "      <th>&lt;Action.HIT: 2&gt;</th>\n",
       "      <td>6048</td>\n",
       "      <td>0</td>\n",
       "      <td>677</td>\n",
       "      <td>3275</td>\n",
       "      <td>0</td>\n",
       "      <td>-0.2773</td>\n",
       "    </tr>\n",
       "    <tr>\n",
       "      <th>&lt;Action.STAND: 1&gt;</th>\n",
       "      <td>6419</td>\n",
       "      <td>0</td>\n",
       "      <td>0</td>\n",
       "      <td>3581</td>\n",
       "      <td>0</td>\n",
       "      <td>-0.2838</td>\n",
       "    </tr>\n",
       "  </tbody>\n",
       "</table>\n",
       "</div>"
      ],
      "text/plain": [
       "                     len                                   mean_outcome\n",
       "outcome_name        LOSE LOSE_DOUBLE PUSH   WIN WIN_DOUBLE             \n",
       "strategy                                                               \n",
       "<Action.DOUBLE: 3>     0        5989  491     0       3520      -0.4938\n",
       "<Action.HIT: 2>     6048           0  677  3275          0      -0.2773\n",
       "<Action.STAND: 1>   6419           0    0  3581          0      -0.2838"
      ]
     },
     "execution_count": 35,
     "metadata": {},
     "output_type": "execute_result"
    }
   ],
   "source": [
    "# TODO reduce duplication with run_n_sim_trials\n",
    "def run_n_sim_trials_from_state(strats, hand_p, hand_d, n):\n",
    "    sims = [generate_rows_from_round(complete_one_round(strats, hand_p, hand_d, deal_card())) for _ in range(n)]\n",
    "    results = pd.DataFrame([player for round in sims for player in round])\n",
    "    results['outcome_value'] = results['outcome'].apply(lambda x: x.value)\n",
    "    results['outcome_name'] = results['outcome'].apply(lambda x: str(x)[12:])\n",
    "    return results\n",
    "\n",
    "sims = run_n_sim_trials_from_state(strats, hand_p, hand_d, 10000)\n",
    "summarize_totals(sims)"
   ]
  },
  {
   "cell_type": "code",
   "execution_count": 36,
   "id": "institutional-grain",
   "metadata": {
    "ExecuteTime": {
     "end_time": "2021-07-07T22:43:29.996726Z",
     "start_time": "2021-07-07T22:43:29.994551Z"
    }
   },
   "outputs": [
    {
     "data": {
      "text/plain": [
       "(Hand(score=s12, cards=[1, 1], doubled=False),\n",
       " Hand(score=h02, cards=[2], doubled=False))"
      ]
     },
     "execution_count": 36,
     "metadata": {},
     "output_type": "execute_result"
    }
   ],
   "source": [
    "# Soft 12 vs 2\n",
    "hand_12s = make_hand([1, 1])\n",
    "\n",
    "hand_12s, hand_d"
   ]
  },
  {
   "cell_type": "code",
   "execution_count": 37,
   "id": "legal-uniform",
   "metadata": {
    "ExecuteTime": {
     "end_time": "2021-07-07T22:43:30.000182Z",
     "start_time": "2021-07-07T22:43:29.997623Z"
    }
   },
   "outputs": [
    {
     "data": {
      "text/plain": [
       "[<function __main__.generate_strat_conditional.<locals>.strat_cond(score_p, score_d)>,\n",
       " <function __main__.generate_strat_conditional.<locals>.strat_cond(score_p, score_d)>,\n",
       " <function __main__.generate_strat_conditional.<locals>.strat_cond(score_p, score_d)>]"
      ]
     },
     "execution_count": 37,
     "metadata": {},
     "output_type": "execute_result"
    }
   ],
   "source": [
    "def cond_12s_2(score_p, score_d):\n",
    "    return score_p == HandScore(12, True) and score_d.points == 2\n",
    "\n",
    "strats = gen_cond_strategies(strat_simple, cond_12s_2, [Action.HIT, Action.STAND, Action.DOUBLE])\n",
    "strats"
   ]
  },
  {
   "cell_type": "code",
   "execution_count": 38,
   "id": "british-logging",
   "metadata": {
    "ExecuteTime": {
     "end_time": "2021-07-07T22:43:31.257374Z",
     "start_time": "2021-07-07T22:43:30.001255Z"
    }
   },
   "outputs": [
    {
     "data": {
      "text/html": [
       "<div>\n",
       "<style scoped>\n",
       "    .dataframe tbody tr th:only-of-type {\n",
       "        vertical-align: middle;\n",
       "    }\n",
       "\n",
       "    .dataframe tbody tr th {\n",
       "        vertical-align: top;\n",
       "    }\n",
       "\n",
       "    .dataframe thead tr th {\n",
       "        text-align: left;\n",
       "    }\n",
       "\n",
       "    .dataframe thead tr:last-of-type th {\n",
       "        text-align: right;\n",
       "    }\n",
       "</style>\n",
       "<table border=\"1\" class=\"dataframe\">\n",
       "  <thead>\n",
       "    <tr>\n",
       "      <th></th>\n",
       "      <th colspan=\"5\" halign=\"left\">len</th>\n",
       "      <th>mean_outcome</th>\n",
       "    </tr>\n",
       "    <tr>\n",
       "      <th>outcome_name</th>\n",
       "      <th>LOSE</th>\n",
       "      <th>LOSE_DOUBLE</th>\n",
       "      <th>PUSH</th>\n",
       "      <th>WIN</th>\n",
       "      <th>WIN_DOUBLE</th>\n",
       "      <th></th>\n",
       "    </tr>\n",
       "    <tr>\n",
       "      <th>strategy</th>\n",
       "      <th></th>\n",
       "      <th></th>\n",
       "      <th></th>\n",
       "      <th></th>\n",
       "      <th></th>\n",
       "      <th></th>\n",
       "    </tr>\n",
       "  </thead>\n",
       "  <tbody>\n",
       "    <tr>\n",
       "      <th>&lt;Action.DOUBLE: 3&gt;</th>\n",
       "      <td>0</td>\n",
       "      <td>6388</td>\n",
       "      <td>0</td>\n",
       "      <td>0</td>\n",
       "      <td>3612</td>\n",
       "      <td>-0.5552</td>\n",
       "    </tr>\n",
       "    <tr>\n",
       "      <th>&lt;Action.HIT: 2&gt;</th>\n",
       "      <td>4888</td>\n",
       "      <td>440</td>\n",
       "      <td>824</td>\n",
       "      <td>3096</td>\n",
       "      <td>752</td>\n",
       "      <td>-0.1168</td>\n",
       "    </tr>\n",
       "    <tr>\n",
       "      <th>&lt;Action.STAND: 1&gt;</th>\n",
       "      <td>6388</td>\n",
       "      <td>0</td>\n",
       "      <td>0</td>\n",
       "      <td>3612</td>\n",
       "      <td>0</td>\n",
       "      <td>-0.2776</td>\n",
       "    </tr>\n",
       "    <tr>\n",
       "      <th>simple</th>\n",
       "      <td>4905</td>\n",
       "      <td>440</td>\n",
       "      <td>804</td>\n",
       "      <td>3154</td>\n",
       "      <td>697</td>\n",
       "      <td>-0.1237</td>\n",
       "    </tr>\n",
       "  </tbody>\n",
       "</table>\n",
       "</div>"
      ],
      "text/plain": [
       "                     len                                   mean_outcome\n",
       "outcome_name        LOSE LOSE_DOUBLE PUSH   WIN WIN_DOUBLE             \n",
       "strategy                                                               \n",
       "<Action.DOUBLE: 3>     0        6388    0     0       3612      -0.5552\n",
       "<Action.HIT: 2>     4888         440  824  3096        752      -0.1168\n",
       "<Action.STAND: 1>   6388           0    0  3612          0      -0.2776\n",
       "simple              4905         440  804  3154        697      -0.1237"
      ]
     },
     "execution_count": 38,
     "metadata": {},
     "output_type": "execute_result"
    }
   ],
   "source": [
    "sims = run_n_sim_trials_from_state(strats+[strat_simple], hand_12s, hand_d, 10000)\n",
    "summarize_totals(sims)"
   ]
  },
  {
   "cell_type": "code",
   "execution_count": 39,
   "id": "based-subscription",
   "metadata": {
    "ExecuteTime": {
     "end_time": "2021-07-07T22:43:31.991056Z",
     "start_time": "2021-07-07T22:43:31.258312Z"
    }
   },
   "outputs": [
    {
     "data": {
      "text/html": [
       "<div>\n",
       "<style scoped>\n",
       "    .dataframe tbody tr th:only-of-type {\n",
       "        vertical-align: middle;\n",
       "    }\n",
       "\n",
       "    .dataframe tbody tr th {\n",
       "        vertical-align: top;\n",
       "    }\n",
       "\n",
       "    .dataframe thead tr th {\n",
       "        text-align: left;\n",
       "    }\n",
       "\n",
       "    .dataframe thead tr:last-of-type th {\n",
       "        text-align: right;\n",
       "    }\n",
       "</style>\n",
       "<table border=\"1\" class=\"dataframe\">\n",
       "  <thead>\n",
       "    <tr>\n",
       "      <th></th>\n",
       "      <th colspan=\"3\" halign=\"left\">len</th>\n",
       "      <th>mean_outcome</th>\n",
       "    </tr>\n",
       "    <tr>\n",
       "      <th>outcome_name</th>\n",
       "      <th>LOSE</th>\n",
       "      <th>PUSH</th>\n",
       "      <th>WIN</th>\n",
       "      <th></th>\n",
       "    </tr>\n",
       "    <tr>\n",
       "      <th>strategy</th>\n",
       "      <th></th>\n",
       "      <th></th>\n",
       "      <th></th>\n",
       "      <th></th>\n",
       "    </tr>\n",
       "  </thead>\n",
       "  <tbody>\n",
       "    <tr>\n",
       "      <th>simple</th>\n",
       "      <td>6093</td>\n",
       "      <td>659</td>\n",
       "      <td>3248</td>\n",
       "      <td>-0.2845</td>\n",
       "    </tr>\n",
       "    <tr>\n",
       "      <th>strat_cond</th>\n",
       "      <td>6346</td>\n",
       "      <td>0</td>\n",
       "      <td>3654</td>\n",
       "      <td>-0.2692</td>\n",
       "    </tr>\n",
       "  </tbody>\n",
       "</table>\n",
       "</div>"
      ],
      "text/plain": [
       "               len            mean_outcome\n",
       "outcome_name  LOSE PUSH   WIN             \n",
       "strategy                                  \n",
       "simple        6093  659  3248      -0.2845\n",
       "strat_cond    6346    0  3654      -0.2692"
      ]
     },
     "execution_count": 39,
     "metadata": {},
     "output_type": "execute_result"
    }
   ],
   "source": [
    "summarize_totals(run_n_sim_trials_from_state([strat_simple, strat_cond], hand_p, hand_d, 10*1000))"
   ]
  },
  {
   "cell_type": "code",
   "execution_count": 40,
   "id": "vietnamese-spray",
   "metadata": {
    "ExecuteTime": {
     "end_time": "2021-07-07T22:43:33.112987Z",
     "start_time": "2021-07-07T22:43:31.991979Z"
    }
   },
   "outputs": [
    {
     "data": {
      "text/html": [
       "<div>\n",
       "<style scoped>\n",
       "    .dataframe tbody tr th:only-of-type {\n",
       "        vertical-align: middle;\n",
       "    }\n",
       "\n",
       "    .dataframe tbody tr th {\n",
       "        vertical-align: top;\n",
       "    }\n",
       "\n",
       "    .dataframe thead tr th {\n",
       "        text-align: left;\n",
       "    }\n",
       "\n",
       "    .dataframe thead tr:last-of-type th {\n",
       "        text-align: right;\n",
       "    }\n",
       "</style>\n",
       "<table border=\"1\" class=\"dataframe\">\n",
       "  <thead>\n",
       "    <tr>\n",
       "      <th></th>\n",
       "      <th colspan=\"5\" halign=\"left\">len</th>\n",
       "      <th>mean_outcome</th>\n",
       "    </tr>\n",
       "    <tr>\n",
       "      <th>outcome_name</th>\n",
       "      <th>LOSE</th>\n",
       "      <th>LOSE_DOUBLE</th>\n",
       "      <th>PUSH</th>\n",
       "      <th>WIN</th>\n",
       "      <th>WIN_DOUBLE</th>\n",
       "      <th></th>\n",
       "    </tr>\n",
       "    <tr>\n",
       "      <th>strategy</th>\n",
       "      <th></th>\n",
       "      <th></th>\n",
       "      <th></th>\n",
       "      <th></th>\n",
       "      <th></th>\n",
       "      <th></th>\n",
       "    </tr>\n",
       "  </thead>\n",
       "  <tbody>\n",
       "    <tr>\n",
       "      <th>&lt;Action.DOUBLE: 3&gt;</th>\n",
       "      <td>0</td>\n",
       "      <td>5760</td>\n",
       "      <td>0</td>\n",
       "      <td>0</td>\n",
       "      <td>4240</td>\n",
       "      <td>-0.3040</td>\n",
       "    </tr>\n",
       "    <tr>\n",
       "      <th>&lt;Action.HIT: 2&gt;</th>\n",
       "      <td>4519</td>\n",
       "      <td>346</td>\n",
       "      <td>296</td>\n",
       "      <td>4148</td>\n",
       "      <td>691</td>\n",
       "      <td>0.0319</td>\n",
       "    </tr>\n",
       "    <tr>\n",
       "      <th>&lt;Action.STAND: 1&gt;</th>\n",
       "      <td>5760</td>\n",
       "      <td>0</td>\n",
       "      <td>0</td>\n",
       "      <td>4240</td>\n",
       "      <td>0</td>\n",
       "      <td>-0.1520</td>\n",
       "    </tr>\n",
       "    <tr>\n",
       "      <th>simple</th>\n",
       "      <td>5760</td>\n",
       "      <td>0</td>\n",
       "      <td>0</td>\n",
       "      <td>4240</td>\n",
       "      <td>0</td>\n",
       "      <td>-0.1520</td>\n",
       "    </tr>\n",
       "  </tbody>\n",
       "</table>\n",
       "</div>"
      ],
      "text/plain": [
       "                     len                                   mean_outcome\n",
       "outcome_name        LOSE LOSE_DOUBLE PUSH   WIN WIN_DOUBLE             \n",
       "strategy                                                               \n",
       "<Action.DOUBLE: 3>     0        5760    0     0       4240      -0.3040\n",
       "<Action.HIT: 2>     4519         346  296  4148        691       0.0319\n",
       "<Action.STAND: 1>   5760           0    0  4240          0      -0.1520\n",
       "simple              5760           0    0  4240          0      -0.1520"
      ]
     },
     "execution_count": 40,
     "metadata": {},
     "output_type": "execute_result"
    }
   ],
   "source": [
    "# soft 13 vs 6\n",
    "def cond_13s_6(score_p, score_d):\n",
    "    return score_p == HandScore(13, True) and score_d.points == 6\n",
    "\n",
    "\n",
    "\n",
    "strats = gen_cond_strategies(strat_simple, cond_13s_6, [Action.HIT, Action.STAND, Action.DOUBLE])\n",
    "sims = run_n_sim_trials_from_state(strats+[strat_simple], bj.make_hand([1, 2]), bj.make_hand([6]), 10000)\n",
    "summarize_totals(sims)"
   ]
  },
  {
   "cell_type": "code",
   "execution_count": 41,
   "id": "liable-painting",
   "metadata": {
    "ExecuteTime": {
     "end_time": "2021-07-07T22:43:34.262229Z",
     "start_time": "2021-07-07T22:43:33.113886Z"
    }
   },
   "outputs": [
    {
     "data": {
      "text/html": [
       "<div>\n",
       "<style scoped>\n",
       "    .dataframe tbody tr th:only-of-type {\n",
       "        vertical-align: middle;\n",
       "    }\n",
       "\n",
       "    .dataframe tbody tr th {\n",
       "        vertical-align: top;\n",
       "    }\n",
       "\n",
       "    .dataframe thead tr th {\n",
       "        text-align: left;\n",
       "    }\n",
       "\n",
       "    .dataframe thead tr:last-of-type th {\n",
       "        text-align: right;\n",
       "    }\n",
       "</style>\n",
       "<table border=\"1\" class=\"dataframe\">\n",
       "  <thead>\n",
       "    <tr>\n",
       "      <th></th>\n",
       "      <th colspan=\"5\" halign=\"left\">len</th>\n",
       "      <th>mean_outcome</th>\n",
       "    </tr>\n",
       "    <tr>\n",
       "      <th>outcome_name</th>\n",
       "      <th>LOSE</th>\n",
       "      <th>LOSE_DOUBLE</th>\n",
       "      <th>PUSH</th>\n",
       "      <th>WIN</th>\n",
       "      <th>WIN_DOUBLE</th>\n",
       "      <th></th>\n",
       "    </tr>\n",
       "    <tr>\n",
       "      <th>strategy</th>\n",
       "      <th></th>\n",
       "      <th></th>\n",
       "      <th></th>\n",
       "      <th></th>\n",
       "      <th></th>\n",
       "      <th></th>\n",
       "    </tr>\n",
       "  </thead>\n",
       "  <tbody>\n",
       "    <tr>\n",
       "      <th>&lt;Action.DOUBLE: 3&gt;</th>\n",
       "      <td>0</td>\n",
       "      <td>3290</td>\n",
       "      <td>656</td>\n",
       "      <td>0</td>\n",
       "      <td>6054</td>\n",
       "      <td>0.5528</td>\n",
       "    </tr>\n",
       "    <tr>\n",
       "      <th>&lt;Action.HIT: 2&gt;</th>\n",
       "      <td>3248</td>\n",
       "      <td>0</td>\n",
       "      <td>655</td>\n",
       "      <td>6097</td>\n",
       "      <td>0</td>\n",
       "      <td>0.2849</td>\n",
       "    </tr>\n",
       "    <tr>\n",
       "      <th>&lt;Action.STAND: 1&gt;</th>\n",
       "      <td>5803</td>\n",
       "      <td>0</td>\n",
       "      <td>0</td>\n",
       "      <td>4197</td>\n",
       "      <td>0</td>\n",
       "      <td>-0.1606</td>\n",
       "    </tr>\n",
       "    <tr>\n",
       "      <th>simple</th>\n",
       "      <td>3193</td>\n",
       "      <td>0</td>\n",
       "      <td>681</td>\n",
       "      <td>6126</td>\n",
       "      <td>0</td>\n",
       "      <td>0.2933</td>\n",
       "    </tr>\n",
       "  </tbody>\n",
       "</table>\n",
       "</div>"
      ],
      "text/plain": [
       "                     len                                   mean_outcome\n",
       "outcome_name        LOSE LOSE_DOUBLE PUSH   WIN WIN_DOUBLE             \n",
       "strategy                                                               \n",
       "<Action.DOUBLE: 3>     0        3290  656     0       6054       0.5528\n",
       "<Action.HIT: 2>     3248           0  655  6097          0       0.2849\n",
       "<Action.STAND: 1>   5803           0    0  4197          0      -0.1606\n",
       "simple              3193           0  681  6126          0       0.2933"
      ]
     },
     "execution_count": 41,
     "metadata": {},
     "output_type": "execute_result"
    }
   ],
   "source": [
    "# 10 v 6\n",
    "def cond_10_6(score_p, score_d):\n",
    "    return score_p.points == 10 and score_d.points == 6\n",
    "\n",
    "strats = gen_cond_strategies(strat_simple, cond_10_6, [Action.HIT, Action.STAND, Action.DOUBLE])\n",
    "sims = run_n_sim_trials_from_state(strats+[strat_simple], make_hand([5, 5]), make_hand([6]), 10000)\n",
    "summarize_totals(sims)"
   ]
  },
  {
   "cell_type": "code",
   "execution_count": 42,
   "id": "serious-briefs",
   "metadata": {
    "ExecuteTime": {
     "end_time": "2021-07-07T22:43:35.161943Z",
     "start_time": "2021-07-07T22:43:34.263167Z"
    }
   },
   "outputs": [
    {
     "data": {
      "text/plain": [
       "(<function __main__.test_cond.<locals>.cond(p, d)>,\n",
       "                      len                                   mean_outcome\n",
       " outcome_name        LOSE LOSE_DOUBLE PUSH   WIN WIN_DOUBLE             \n",
       " strategy                                                               \n",
       " <Action.DOUBLE: 3>     0        3242  651     0       6107       0.5730\n",
       " <Action.HIT: 2>     3216           0  683  6101          0       0.2885\n",
       " <Action.STAND: 1>   5797           0    0  4203          0      -0.1594)"
      ]
     },
     "execution_count": 42,
     "metadata": {},
     "output_type": "execute_result"
    }
   ],
   "source": [
    "ACTIONS = [Action.HIT, Action.STAND, Action.DOUBLE]\n",
    "\n",
    "def test_cond(score_p, score_d, n):\n",
    "    def cond(p, d):\n",
    "        return p == score_p and d == score_d\n",
    "    strats = gen_cond_strategies(strat_simple, cond, ACTIONS)\n",
    "    hand = Hand(score_p) # This will only work for 10 through 18 \n",
    "    sims = run_n_sim_trials_from_state(strats, hand, make_hand([score_d.points]), n)\n",
    "    return cond, summarize_totals(sims)\n",
    "\n",
    "test_cond(HandScore(10), HandScore(6), 10000)"
   ]
  },
  {
   "cell_type": "code",
   "execution_count": 43,
   "id": "focused-student",
   "metadata": {
    "ExecuteTime": {
     "end_time": "2021-07-07T22:43:35.195925Z",
     "start_time": "2021-07-07T22:43:35.163682Z"
    }
   },
   "outputs": [
    {
     "data": {
      "text/plain": [
       "(<function __main__.test_cond.<locals>.cond(p, d)>,\n",
       "                     len                                  mean_outcome\n",
       " outcome_name       LOSE LOSE_DOUBLE PUSH  WIN WIN_DOUBLE             \n",
       " strategy                                                             \n",
       " <Action.DOUBLE: 3>    0         159    4    0         37       -1.220\n",
       " <Action.HIT: 2>     149           0    3   48          0       -0.505\n",
       " <Action.STAND: 1>    58           0   22  120          0        0.310)"
      ]
     },
     "execution_count": 43,
     "metadata": {},
     "output_type": "execute_result"
    }
   ],
   "source": [
    "test_cond(HandScore(18), HandScore(6), 200)"
   ]
  },
  {
   "cell_type": "code",
   "execution_count": 44,
   "id": "gross-chocolate",
   "metadata": {
    "ExecuteTime": {
     "end_time": "2021-07-07T22:43:35.229932Z",
     "start_time": "2021-07-07T22:43:35.196845Z"
    }
   },
   "outputs": [
    {
     "data": {
      "text/plain": [
       "(<function __main__.test_cond.<locals>.cond(p, d)>,\n",
       "                     len                                  mean_outcome\n",
       " outcome_name       LOSE LOSE_DOUBLE PUSH  WIN WIN_DOUBLE             \n",
       " strategy                                                             \n",
       " <Action.DOUBLE: 3>    0          60   13    0        127         0.67\n",
       " <Action.HIT: 2>      64           0   16  120          0         0.28\n",
       " <Action.STAND: 1>     0           0   12  188          0         0.94)"
      ]
     },
     "execution_count": 44,
     "metadata": {},
     "output_type": "execute_result"
    }
   ],
   "source": [
    "test_cond(HandScore(21, True), HandScore(6), 200)"
   ]
  },
  {
   "cell_type": "code",
   "execution_count": null,
   "id": "welsh-sacrifice",
   "metadata": {},
   "outputs": [],
   "source": []
  },
  {
   "cell_type": "code",
   "execution_count": 45,
   "id": "hawaiian-warehouse",
   "metadata": {
    "ExecuteTime": {
     "end_time": "2021-07-07T22:43:35.233781Z",
     "start_time": "2021-07-07T22:43:35.230950Z"
    }
   },
   "outputs": [
    {
     "data": {
      "text/plain": [
       "[h00,\n",
       " h01,\n",
       " h02,\n",
       " h03,\n",
       " h04,\n",
       " h05,\n",
       " h06,\n",
       " h07,\n",
       " h08,\n",
       " h09,\n",
       " h10,\n",
       " h11,\n",
       " h12,\n",
       " h13,\n",
       " h14,\n",
       " h15,\n",
       " h16,\n",
       " h17,\n",
       " h18,\n",
       " h19,\n",
       " h20,\n",
       " h21,\n",
       " h22,\n",
       " s11,\n",
       " s12,\n",
       " s13,\n",
       " s14,\n",
       " s15,\n",
       " s16,\n",
       " s17,\n",
       " s18,\n",
       " s19,\n",
       " s20,\n",
       " s21]"
      ]
     },
     "execution_count": 45,
     "metadata": {},
     "output_type": "execute_result"
    }
   ],
   "source": [
    "all_scores"
   ]
  },
  {
   "cell_type": "code",
   "execution_count": 46,
   "id": "manual-anime",
   "metadata": {
    "ExecuteTime": {
     "end_time": "2021-07-07T22:43:35.272585Z",
     "start_time": "2021-07-07T22:43:35.234750Z"
    }
   },
   "outputs": [
    {
     "data": {
      "text/plain": [
       "(<function __main__.test_cond.<locals>.cond(p, d)>,\n",
       " {'<Action.DOUBLE: 3>': 0.74,\n",
       "  '<Action.HIT: 2>': 0.33,\n",
       "  '<Action.STAND: 1>': -0.09,\n",
       "  'score_p': 'h10',\n",
       "  'score_d': 'h06',\n",
       "  'winning_act': <Action.DOUBLE: 3>,\n",
       "  'winning_act_outcome': 0.74})"
      ]
     },
     "execution_count": 46,
     "metadata": {},
     "output_type": "execute_result"
    }
   ],
   "source": [
    "def find_winning_action(score_p, score_d, n):\n",
    "    cond, summary = test_cond(score_p, score_d, n)\n",
    "    outcomes = summary['mean_outcome']\n",
    "    # Find the winning strategy\n",
    "    winner = outcomes[outcomes==outcomes.max()].index[0]\n",
    "    winning_act = [a for a in ACTIONS if repr(a)==winner][0]\n",
    "\n",
    "    # Convert results to a dict\n",
    "    run = outcomes.to_dict()\n",
    "    run['score_p'] = repr(score_p)\n",
    "    run['score_d'] = repr(score_d)\n",
    "    run['winning_act'] = winning_act\n",
    "    run['winning_act_outcome'] = outcomes.max()\n",
    "\n",
    "    return (cond, run)\n",
    "\n",
    "find_winning_action(HandScore(10), HandScore(6), 200)"
   ]
  },
  {
   "cell_type": "code",
   "execution_count": 47,
   "id": "behind-seattle",
   "metadata": {
    "ExecuteTime": {
     "end_time": "2021-07-07T22:43:35.898209Z",
     "start_time": "2021-07-07T22:43:35.273865Z"
    }
   },
   "outputs": [
    {
     "data": {
      "text/html": [
       "<div>\n",
       "<style scoped>\n",
       "    .dataframe tbody tr th:only-of-type {\n",
       "        vertical-align: middle;\n",
       "    }\n",
       "\n",
       "    .dataframe tbody tr th {\n",
       "        vertical-align: top;\n",
       "    }\n",
       "\n",
       "    .dataframe thead th {\n",
       "        text-align: right;\n",
       "    }\n",
       "</style>\n",
       "<table border=\"1\" class=\"dataframe\">\n",
       "  <thead>\n",
       "    <tr style=\"text-align: right;\">\n",
       "      <th></th>\n",
       "      <th></th>\n",
       "      <th>&lt;Action.DOUBLE: 3&gt;</th>\n",
       "      <th>&lt;Action.HIT: 2&gt;</th>\n",
       "      <th>&lt;Action.STAND: 1&gt;</th>\n",
       "      <th>winning_act</th>\n",
       "      <th>winning_act_outcome</th>\n",
       "    </tr>\n",
       "    <tr>\n",
       "      <th>score_p</th>\n",
       "      <th>score_d</th>\n",
       "      <th></th>\n",
       "      <th></th>\n",
       "      <th></th>\n",
       "      <th></th>\n",
       "      <th></th>\n",
       "    </tr>\n",
       "  </thead>\n",
       "  <tbody>\n",
       "    <tr>\n",
       "      <th rowspan=\"2\" valign=\"top\">h00</th>\n",
       "      <th>s11</th>\n",
       "      <td>-0.30</td>\n",
       "      <td>-0.40</td>\n",
       "      <td>0.35</td>\n",
       "      <td>Action.STAND</td>\n",
       "      <td>0.35</td>\n",
       "    </tr>\n",
       "    <tr>\n",
       "      <th>h02</th>\n",
       "      <td>-0.80</td>\n",
       "      <td>0.05</td>\n",
       "      <td>-0.40</td>\n",
       "      <td>Action.HIT</td>\n",
       "      <td>0.05</td>\n",
       "    </tr>\n",
       "    <tr>\n",
       "      <th rowspan=\"2\" valign=\"top\">h01</th>\n",
       "      <th>s11</th>\n",
       "      <td>0.05</td>\n",
       "      <td>-0.55</td>\n",
       "      <td>-0.05</td>\n",
       "      <td>Action.DOUBLE</td>\n",
       "      <td>0.05</td>\n",
       "    </tr>\n",
       "    <tr>\n",
       "      <th>h02</th>\n",
       "      <td>-1.20</td>\n",
       "      <td>0.65</td>\n",
       "      <td>-0.60</td>\n",
       "      <td>Action.HIT</td>\n",
       "      <td>0.65</td>\n",
       "    </tr>\n",
       "    <tr>\n",
       "      <th>h02</th>\n",
       "      <th>s11</th>\n",
       "      <td>-0.25</td>\n",
       "      <td>-0.25</td>\n",
       "      <td>-0.65</td>\n",
       "      <td>Action.DOUBLE</td>\n",
       "      <td>-0.25</td>\n",
       "    </tr>\n",
       "    <tr>\n",
       "      <th>...</th>\n",
       "      <th>...</th>\n",
       "      <td>...</td>\n",
       "      <td>...</td>\n",
       "      <td>...</td>\n",
       "      <td>...</td>\n",
       "      <td>...</td>\n",
       "    </tr>\n",
       "    <tr>\n",
       "      <th>s19</th>\n",
       "      <th>h02</th>\n",
       "      <td>0.20</td>\n",
       "      <td>0.10</td>\n",
       "      <td>0.20</td>\n",
       "      <td>Action.DOUBLE</td>\n",
       "      <td>0.20</td>\n",
       "    </tr>\n",
       "    <tr>\n",
       "      <th rowspan=\"2\" valign=\"top\">s20</th>\n",
       "      <th>s11</th>\n",
       "      <td>0.70</td>\n",
       "      <td>0.70</td>\n",
       "      <td>0.70</td>\n",
       "      <td>Action.DOUBLE</td>\n",
       "      <td>0.70</td>\n",
       "    </tr>\n",
       "    <tr>\n",
       "      <th>h02</th>\n",
       "      <td>0.60</td>\n",
       "      <td>0.45</td>\n",
       "      <td>0.80</td>\n",
       "      <td>Action.STAND</td>\n",
       "      <td>0.80</td>\n",
       "    </tr>\n",
       "    <tr>\n",
       "      <th rowspan=\"2\" valign=\"top\">s21</th>\n",
       "      <th>s11</th>\n",
       "      <td>1.00</td>\n",
       "      <td>1.00</td>\n",
       "      <td>1.00</td>\n",
       "      <td>Action.DOUBLE</td>\n",
       "      <td>1.00</td>\n",
       "    </tr>\n",
       "    <tr>\n",
       "      <th>h02</th>\n",
       "      <td>0.40</td>\n",
       "      <td>0.15</td>\n",
       "      <td>0.70</td>\n",
       "      <td>Action.STAND</td>\n",
       "      <td>0.70</td>\n",
       "    </tr>\n",
       "  </tbody>\n",
       "</table>\n",
       "<p>68 rows × 5 columns</p>\n",
       "</div>"
      ],
      "text/plain": [
       "                 <Action.DOUBLE: 3>  <Action.HIT: 2>  <Action.STAND: 1>  \\\n",
       "score_p score_d                                                           \n",
       "h00     s11                   -0.30            -0.40               0.35   \n",
       "        h02                   -0.80             0.05              -0.40   \n",
       "h01     s11                    0.05            -0.55              -0.05   \n",
       "        h02                   -1.20             0.65              -0.60   \n",
       "h02     s11                   -0.25            -0.25              -0.65   \n",
       "...                             ...              ...                ...   \n",
       "s19     h02                    0.20             0.10               0.20   \n",
       "s20     s11                    0.70             0.70               0.70   \n",
       "        h02                    0.60             0.45               0.80   \n",
       "s21     s11                    1.00             1.00               1.00   \n",
       "        h02                    0.40             0.15               0.70   \n",
       "\n",
       "                   winning_act  winning_act_outcome  \n",
       "score_p score_d                                      \n",
       "h00     s11       Action.STAND                 0.35  \n",
       "        h02         Action.HIT                 0.05  \n",
       "h01     s11      Action.DOUBLE                 0.05  \n",
       "        h02         Action.HIT                 0.65  \n",
       "h02     s11      Action.DOUBLE                -0.25  \n",
       "...                        ...                  ...  \n",
       "s19     h02      Action.DOUBLE                 0.20  \n",
       "s20     s11      Action.DOUBLE                 0.70  \n",
       "        h02       Action.STAND                 0.80  \n",
       "s21     s11      Action.DOUBLE                 1.00  \n",
       "        h02       Action.STAND                 0.70  \n",
       "\n",
       "[68 rows x 5 columns]"
      ]
     },
     "execution_count": 47,
     "metadata": {},
     "output_type": "execute_result"
    }
   ],
   "source": [
    "conds = [find_winning_action(p, make_hand([d]).score, 10) for p in all_scores for d in range(1, 3)]\n",
    "pd.DataFrame([data for _, data in conds]).set_index(['score_p', 'score_d'])"
   ]
  },
  {
   "cell_type": "code",
   "execution_count": null,
   "id": "divine-stress",
   "metadata": {},
   "outputs": [],
   "source": []
  },
  {
   "cell_type": "code",
   "execution_count": 48,
   "id": "signal-wagon",
   "metadata": {
    "ExecuteTime": {
     "end_time": "2021-07-07T22:43:44.459643Z",
     "start_time": "2021-07-07T22:43:35.899072Z"
    }
   },
   "outputs": [
    {
     "data": {
      "text/plain": [
       "[(<function __main__.test_cond.<locals>.cond(p, d)>,\n",
       "  {'<Action.DOUBLE: 3>': -0.0095,\n",
       "   '<Action.HIT: 2>': -0.0185,\n",
       "   '<Action.STAND: 1>': -0.0395,\n",
       "   'score_p': 'h10',\n",
       "   'score_d': 's11',\n",
       "   'winning_act': <Action.DOUBLE: 3>,\n",
       "   'winning_act_outcome': -0.0095}),\n",
       " (<function __main__.test_cond.<locals>.cond(p, d)>,\n",
       "  {'<Action.DOUBLE: 3>': 0.3,\n",
       "   '<Action.HIT: 2>': 0.181,\n",
       "   '<Action.STAND: 1>': -0.266,\n",
       "   'score_p': 'h10',\n",
       "   'score_d': 'h02',\n",
       "   'winning_act': <Action.DOUBLE: 3>,\n",
       "   'winning_act_outcome': 0.3}),\n",
       " (<function __main__.test_cond.<locals>.cond(p, d)>,\n",
       "  {'<Action.DOUBLE: 3>': 0.44,\n",
       "   '<Action.HIT: 2>': 0.229,\n",
       "   '<Action.STAND: 1>': -0.25,\n",
       "   'score_p': 'h10',\n",
       "   'score_d': 'h03',\n",
       "   'winning_act': <Action.DOUBLE: 3>,\n",
       "   'winning_act_outcome': 0.44}),\n",
       " (<function __main__.test_cond.<locals>.cond(p, d)>,\n",
       "  {'<Action.DOUBLE: 3>': 0.51,\n",
       "   '<Action.HIT: 2>': 0.232,\n",
       "   '<Action.STAND: 1>': -0.192,\n",
       "   'score_p': 'h10',\n",
       "   'score_d': 'h04',\n",
       "   'winning_act': <Action.DOUBLE: 3>,\n",
       "   'winning_act_outcome': 0.51}),\n",
       " (<function __main__.test_cond.<locals>.cond(p, d)>,\n",
       "  {'<Action.DOUBLE: 3>': 0.482,\n",
       "   '<Action.HIT: 2>': 0.243,\n",
       "   '<Action.STAND: 1>': -0.162,\n",
       "   'score_p': 'h10',\n",
       "   'score_d': 'h05',\n",
       "   'winning_act': <Action.DOUBLE: 3>,\n",
       "   'winning_act_outcome': 0.482}),\n",
       " (<function __main__.test_cond.<locals>.cond(p, d)>,\n",
       "  {'<Action.DOUBLE: 3>': 0.462,\n",
       "   '<Action.HIT: 2>': 0.233,\n",
       "   '<Action.STAND: 1>': -0.234,\n",
       "   'score_p': 'h10',\n",
       "   'score_d': 'h06',\n",
       "   'winning_act': <Action.DOUBLE: 3>,\n",
       "   'winning_act_outcome': 0.462}),\n",
       " (<function __main__.test_cond.<locals>.cond(p, d)>,\n",
       "  {'<Action.DOUBLE: 3>': 0.442,\n",
       "   '<Action.HIT: 2>': 0.2365,\n",
       "   '<Action.STAND: 1>': -0.476,\n",
       "   'score_p': 'h10',\n",
       "   'score_d': 'h07',\n",
       "   'winning_act': <Action.DOUBLE: 3>,\n",
       "   'winning_act_outcome': 0.442}),\n",
       " (<function __main__.test_cond.<locals>.cond(p, d)>,\n",
       "  {'<Action.DOUBLE: 3>': 0.342,\n",
       "   '<Action.HIT: 2>': 0.215,\n",
       "   '<Action.STAND: 1>': -0.514,\n",
       "   'score_p': 'h10',\n",
       "   'score_d': 'h08',\n",
       "   'winning_act': <Action.DOUBLE: 3>,\n",
       "   'winning_act_outcome': 0.342}),\n",
       " (<function __main__.test_cond.<locals>.cond(p, d)>,\n",
       "  {'<Action.DOUBLE: 3>': 0.166,\n",
       "   '<Action.HIT: 2>': 0.1445,\n",
       "   '<Action.STAND: 1>': -0.508,\n",
       "   'score_p': 'h10',\n",
       "   'score_d': 'h09',\n",
       "   'winning_act': <Action.DOUBLE: 3>,\n",
       "   'winning_act_outcome': 0.166}),\n",
       " (<function __main__.test_cond.<locals>.cond(p, d)>,\n",
       "  {'<Action.DOUBLE: 3>': -0.236,\n",
       "   '<Action.HIT: 2>': -0.0255,\n",
       "   '<Action.STAND: 1>': -0.584,\n",
       "   'score_p': 'h10',\n",
       "   'score_d': 'h10',\n",
       "   'winning_act': <Action.HIT: 2>,\n",
       "   'winning_act_outcome': -0.0255}),\n",
       " (<function __main__.test_cond.<locals>.cond(p, d)>,\n",
       "  {'<Action.DOUBLE: 3>': -0.092,\n",
       "   '<Action.HIT: 2>': 0.054,\n",
       "   '<Action.STAND: 1>': 0.058,\n",
       "   'score_p': 'h11',\n",
       "   'score_d': 's11',\n",
       "   'winning_act': <Action.STAND: 1>,\n",
       "   'winning_act_outcome': 0.058}),\n",
       " (<function __main__.test_cond.<locals>.cond(p, d)>,\n",
       "  {'<Action.DOUBLE: 3>': 0.42,\n",
       "   '<Action.HIT: 2>': 0.2015,\n",
       "   '<Action.STAND: 1>': -0.344,\n",
       "   'score_p': 'h11',\n",
       "   'score_d': 'h02',\n",
       "   'winning_act': <Action.DOUBLE: 3>,\n",
       "   'winning_act_outcome': 0.42}),\n",
       " (<function __main__.test_cond.<locals>.cond(p, d)>,\n",
       "  {'<Action.DOUBLE: 3>': 0.606,\n",
       "   '<Action.HIT: 2>': 0.273,\n",
       "   '<Action.STAND: 1>': -0.24,\n",
       "   'score_p': 'h11',\n",
       "   'score_d': 'h03',\n",
       "   'winning_act': <Action.DOUBLE: 3>,\n",
       "   'winning_act_outcome': 0.606}),\n",
       " (<function __main__.test_cond.<locals>.cond(p, d)>,\n",
       "  {'<Action.DOUBLE: 3>': 0.61,\n",
       "   '<Action.HIT: 2>': 0.291,\n",
       "   '<Action.STAND: 1>': -0.176,\n",
       "   'score_p': 'h11',\n",
       "   'score_d': 'h04',\n",
       "   'winning_act': <Action.DOUBLE: 3>,\n",
       "   'winning_act_outcome': 0.61}),\n",
       " (<function __main__.test_cond.<locals>.cond(p, d)>,\n",
       "  {'<Action.DOUBLE: 3>': 0.664,\n",
       "   '<Action.HIT: 2>': 0.34,\n",
       "   '<Action.STAND: 1>': -0.128,\n",
       "   'score_p': 'h11',\n",
       "   'score_d': 'h05',\n",
       "   'winning_act': <Action.DOUBLE: 3>,\n",
       "   'winning_act_outcome': 0.664}),\n",
       " (<function __main__.test_cond.<locals>.cond(p, d)>,\n",
       "  {'<Action.DOUBLE: 3>': 0.646,\n",
       "   '<Action.HIT: 2>': 0.335,\n",
       "   '<Action.STAND: 1>': -0.156,\n",
       "   'score_p': 'h11',\n",
       "   'score_d': 'h06',\n",
       "   'winning_act': <Action.DOUBLE: 3>,\n",
       "   'winning_act_outcome': 0.646}),\n",
       " (<function __main__.test_cond.<locals>.cond(p, d)>,\n",
       "  {'<Action.DOUBLE: 3>': 0.49,\n",
       "   '<Action.HIT: 2>': 0.2985,\n",
       "   '<Action.STAND: 1>': -0.456,\n",
       "   'score_p': 'h11',\n",
       "   'score_d': 'h07',\n",
       "   'winning_act': <Action.DOUBLE: 3>,\n",
       "   'winning_act_outcome': 0.49}),\n",
       " (<function __main__.test_cond.<locals>.cond(p, d)>,\n",
       "  {'<Action.DOUBLE: 3>': 0.236,\n",
       "   '<Action.HIT: 2>': 0.259,\n",
       "   '<Action.STAND: 1>': -0.558,\n",
       "   'score_p': 'h11',\n",
       "   'score_d': 'h08',\n",
       "   'winning_act': <Action.HIT: 2>,\n",
       "   'winning_act_outcome': 0.259}),\n",
       " (<function __main__.test_cond.<locals>.cond(p, d)>,\n",
       "  {'<Action.DOUBLE: 3>': 0.172,\n",
       "   '<Action.HIT: 2>': 0.209,\n",
       "   '<Action.STAND: 1>': -0.53,\n",
       "   'score_p': 'h11',\n",
       "   'score_d': 'h09',\n",
       "   'winning_act': <Action.HIT: 2>,\n",
       "   'winning_act_outcome': 0.209}),\n",
       " (<function __main__.test_cond.<locals>.cond(p, d)>,\n",
       "  {'<Action.DOUBLE: 3>': -0.098,\n",
       "   '<Action.HIT: 2>': 0.044,\n",
       "   '<Action.STAND: 1>': -0.61,\n",
       "   'score_p': 'h11',\n",
       "   'score_d': 'h10',\n",
       "   'winning_act': <Action.HIT: 2>,\n",
       "   'winning_act_outcome': 0.044}),\n",
       " (<function __main__.test_cond.<locals>.cond(p, d)>,\n",
       "  {'<Action.DOUBLE: 3>': -0.3845,\n",
       "   '<Action.HIT: 2>': -0.426,\n",
       "   '<Action.STAND: 1>': -0.434,\n",
       "   'score_p': 'h12',\n",
       "   'score_d': 's11',\n",
       "   'winning_act': <Action.DOUBLE: 3>,\n",
       "   'winning_act_outcome': -0.3845}),\n",
       " (<function __main__.test_cond.<locals>.cond(p, d)>,\n",
       "  {'<Action.DOUBLE: 3>': -0.556,\n",
       "   '<Action.HIT: 2>': -0.3165,\n",
       "   '<Action.STAND: 1>': -0.292,\n",
       "   'score_p': 'h12',\n",
       "   'score_d': 'h02',\n",
       "   'winning_act': <Action.STAND: 1>,\n",
       "   'winning_act_outcome': -0.292}),\n",
       " (<function __main__.test_cond.<locals>.cond(p, d)>,\n",
       "  {'<Action.DOUBLE: 3>': -0.452,\n",
       "   '<Action.HIT: 2>': -0.26,\n",
       "   '<Action.STAND: 1>': -0.258,\n",
       "   'score_p': 'h12',\n",
       "   'score_d': 'h03',\n",
       "   'winning_act': <Action.STAND: 1>,\n",
       "   'winning_act_outcome': -0.258}),\n",
       " (<function __main__.test_cond.<locals>.cond(p, d)>,\n",
       "  {'<Action.DOUBLE: 3>': -0.374,\n",
       "   '<Action.HIT: 2>': -0.191,\n",
       "   '<Action.STAND: 1>': -0.198,\n",
       "   'score_p': 'h12',\n",
       "   'score_d': 'h04',\n",
       "   'winning_act': <Action.HIT: 2>,\n",
       "   'winning_act_outcome': -0.191}),\n",
       " (<function __main__.test_cond.<locals>.cond(p, d)>,\n",
       "  {'<Action.DOUBLE: 3>': -0.306,\n",
       "   '<Action.HIT: 2>': -0.135,\n",
       "   '<Action.STAND: 1>': -0.172,\n",
       "   'score_p': 'h12',\n",
       "   'score_d': 'h05',\n",
       "   'winning_act': <Action.HIT: 2>,\n",
       "   'winning_act_outcome': -0.135}),\n",
       " (<function __main__.test_cond.<locals>.cond(p, d)>,\n",
       "  {'<Action.DOUBLE: 3>': -0.398,\n",
       "   '<Action.HIT: 2>': -0.117,\n",
       "   '<Action.STAND: 1>': -0.138,\n",
       "   'score_p': 'h12',\n",
       "   'score_d': 'h06',\n",
       "   'winning_act': <Action.HIT: 2>,\n",
       "   'winning_act_outcome': -0.117}),\n",
       " (<function __main__.test_cond.<locals>.cond(p, d)>,\n",
       "  {'<Action.DOUBLE: 3>': -0.574,\n",
       "   '<Action.HIT: 2>': -0.212,\n",
       "   '<Action.STAND: 1>': -0.484,\n",
       "   'score_p': 'h12',\n",
       "   'score_d': 'h07',\n",
       "   'winning_act': <Action.HIT: 2>,\n",
       "   'winning_act_outcome': -0.212}),\n",
       " (<function __main__.test_cond.<locals>.cond(p, d)>,\n",
       "  {'<Action.DOUBLE: 3>': -0.752,\n",
       "   '<Action.HIT: 2>': -0.249,\n",
       "   '<Action.STAND: 1>': -0.532,\n",
       "   'score_p': 'h12',\n",
       "   'score_d': 'h08',\n",
       "   'winning_act': <Action.HIT: 2>,\n",
       "   'winning_act_outcome': -0.249}),\n",
       " (<function __main__.test_cond.<locals>.cond(p, d)>,\n",
       "  {'<Action.DOUBLE: 3>': -0.652,\n",
       "   '<Action.HIT: 2>': -0.2995,\n",
       "   '<Action.STAND: 1>': -0.514,\n",
       "   'score_p': 'h12',\n",
       "   'score_d': 'h09',\n",
       "   'winning_act': <Action.HIT: 2>,\n",
       "   'winning_act_outcome': -0.2995}),\n",
       " (<function __main__.test_cond.<locals>.cond(p, d)>,\n",
       "  {'<Action.DOUBLE: 3>': -0.906,\n",
       "   '<Action.HIT: 2>': -0.4035,\n",
       "   '<Action.STAND: 1>': -0.56,\n",
       "   'score_p': 'h12',\n",
       "   'score_d': 'h10',\n",
       "   'winning_act': <Action.HIT: 2>,\n",
       "   'winning_act_outcome': -0.4035}),\n",
       " (<function __main__.test_cond.<locals>.cond(p, d)>,\n",
       "  {'<Action.DOUBLE: 3>': -0.515,\n",
       "   '<Action.HIT: 2>': -0.4375,\n",
       "   '<Action.STAND: 1>': -0.495,\n",
       "   'score_p': 'h13',\n",
       "   'score_d': 's11',\n",
       "   'winning_act': <Action.HIT: 2>,\n",
       "   'winning_act_outcome': -0.4375}),\n",
       " (<function __main__.test_cond.<locals>.cond(p, d)>,\n",
       "  {'<Action.DOUBLE: 3>': -0.564,\n",
       "   '<Action.HIT: 2>': -0.3555,\n",
       "   '<Action.STAND: 1>': -0.304,\n",
       "   'score_p': 'h13',\n",
       "   'score_d': 'h02',\n",
       "   'winning_act': <Action.STAND: 1>,\n",
       "   'winning_act_outcome': -0.304}),\n",
       " (<function __main__.test_cond.<locals>.cond(p, d)>,\n",
       "  {'<Action.DOUBLE: 3>': -0.682,\n",
       "   '<Action.HIT: 2>': -0.288,\n",
       "   '<Action.STAND: 1>': -0.238,\n",
       "   'score_p': 'h13',\n",
       "   'score_d': 'h03',\n",
       "   'winning_act': <Action.STAND: 1>,\n",
       "   'winning_act_outcome': -0.238}),\n",
       " (<function __main__.test_cond.<locals>.cond(p, d)>,\n",
       "  {'<Action.DOUBLE: 3>': -0.478,\n",
       "   '<Action.HIT: 2>': -0.253,\n",
       "   '<Action.STAND: 1>': -0.194,\n",
       "   'score_p': 'h13',\n",
       "   'score_d': 'h04',\n",
       "   'winning_act': <Action.STAND: 1>,\n",
       "   'winning_act_outcome': -0.194}),\n",
       " (<function __main__.test_cond.<locals>.cond(p, d)>,\n",
       "  {'<Action.DOUBLE: 3>': -0.514,\n",
       "   '<Action.HIT: 2>': -0.274,\n",
       "   '<Action.STAND: 1>': -0.178,\n",
       "   'score_p': 'h13',\n",
       "   'score_d': 'h05',\n",
       "   'winning_act': <Action.STAND: 1>,\n",
       "   'winning_act_outcome': -0.178}),\n",
       " (<function __main__.test_cond.<locals>.cond(p, d)>,\n",
       "  {'<Action.DOUBLE: 3>': -0.472,\n",
       "   '<Action.HIT: 2>': -0.216,\n",
       "   '<Action.STAND: 1>': -0.18,\n",
       "   'score_p': 'h13',\n",
       "   'score_d': 'h06',\n",
       "   'winning_act': <Action.STAND: 1>,\n",
       "   'winning_act_outcome': -0.18}),\n",
       " (<function __main__.test_cond.<locals>.cond(p, d)>,\n",
       "  {'<Action.DOUBLE: 3>': -0.504,\n",
       "   '<Action.HIT: 2>': -0.262,\n",
       "   '<Action.STAND: 1>': -0.444,\n",
       "   'score_p': 'h13',\n",
       "   'score_d': 'h07',\n",
       "   'winning_act': <Action.HIT: 2>,\n",
       "   'winning_act_outcome': -0.262}),\n",
       " (<function __main__.test_cond.<locals>.cond(p, d)>,\n",
       "  {'<Action.DOUBLE: 3>': -0.674,\n",
       "   '<Action.HIT: 2>': -0.2985,\n",
       "   '<Action.STAND: 1>': -0.506,\n",
       "   'score_p': 'h13',\n",
       "   'score_d': 'h08',\n",
       "   'winning_act': <Action.HIT: 2>,\n",
       "   'winning_act_outcome': -0.2985}),\n",
       " (<function __main__.test_cond.<locals>.cond(p, d)>,\n",
       "  {'<Action.DOUBLE: 3>': -0.804,\n",
       "   '<Action.HIT: 2>': -0.401,\n",
       "   '<Action.STAND: 1>': -0.558,\n",
       "   'score_p': 'h13',\n",
       "   'score_d': 'h09',\n",
       "   'winning_act': <Action.HIT: 2>,\n",
       "   'winning_act_outcome': -0.401}),\n",
       " (<function __main__.test_cond.<locals>.cond(p, d)>,\n",
       "  {'<Action.DOUBLE: 3>': -1.02,\n",
       "   '<Action.HIT: 2>': -0.4765,\n",
       "   '<Action.STAND: 1>': -0.596,\n",
       "   'score_p': 'h13',\n",
       "   'score_d': 'h10',\n",
       "   'winning_act': <Action.HIT: 2>,\n",
       "   'winning_act_outcome': -0.4765}),\n",
       " (<function __main__.test_cond.<locals>.cond(p, d)>,\n",
       "  {'<Action.DOUBLE: 3>': -0.517,\n",
       "   '<Action.HIT: 2>': -0.515,\n",
       "   '<Action.STAND: 1>': -0.452,\n",
       "   'score_p': 'h14',\n",
       "   'score_d': 's11',\n",
       "   'winning_act': <Action.STAND: 1>,\n",
       "   'winning_act_outcome': -0.452}),\n",
       " (<function __main__.test_cond.<locals>.cond(p, d)>,\n",
       "  {'<Action.DOUBLE: 3>': -0.632,\n",
       "   '<Action.HIT: 2>': -0.3715,\n",
       "   '<Action.STAND: 1>': -0.26,\n",
       "   'score_p': 'h14',\n",
       "   'score_d': 'h02',\n",
       "   'winning_act': <Action.STAND: 1>,\n",
       "   'winning_act_outcome': -0.26}),\n",
       " (<function __main__.test_cond.<locals>.cond(p, d)>,\n",
       "  {'<Action.DOUBLE: 3>': -0.724,\n",
       "   '<Action.HIT: 2>': -0.331,\n",
       "   '<Action.STAND: 1>': -0.206,\n",
       "   'score_p': 'h14',\n",
       "   'score_d': 'h03',\n",
       "   'winning_act': <Action.STAND: 1>,\n",
       "   'winning_act_outcome': -0.206}),\n",
       " (<function __main__.test_cond.<locals>.cond(p, d)>,\n",
       "  {'<Action.DOUBLE: 3>': -0.698,\n",
       "   '<Action.HIT: 2>': -0.333,\n",
       "   '<Action.STAND: 1>': -0.264,\n",
       "   'score_p': 'h14',\n",
       "   'score_d': 'h04',\n",
       "   'winning_act': <Action.STAND: 1>,\n",
       "   'winning_act_outcome': -0.264}),\n",
       " (<function __main__.test_cond.<locals>.cond(p, d)>,\n",
       "  {'<Action.DOUBLE: 3>': -0.662,\n",
       "   '<Action.HIT: 2>': -0.341,\n",
       "   '<Action.STAND: 1>': -0.214,\n",
       "   'score_p': 'h14',\n",
       "   'score_d': 'h05',\n",
       "   'winning_act': <Action.STAND: 1>,\n",
       "   'winning_act_outcome': -0.214}),\n",
       " (<function __main__.test_cond.<locals>.cond(p, d)>,\n",
       "  {'<Action.DOUBLE: 3>': -0.624,\n",
       "   '<Action.HIT: 2>': -0.336,\n",
       "   '<Action.STAND: 1>': -0.178,\n",
       "   'score_p': 'h14',\n",
       "   'score_d': 'h06',\n",
       "   'winning_act': <Action.STAND: 1>,\n",
       "   'winning_act_outcome': -0.178}),\n",
       " (<function __main__.test_cond.<locals>.cond(p, d)>,\n",
       "  {'<Action.DOUBLE: 3>': -0.704,\n",
       "   '<Action.HIT: 2>': -0.328,\n",
       "   '<Action.STAND: 1>': -0.514,\n",
       "   'score_p': 'h14',\n",
       "   'score_d': 'h07',\n",
       "   'winning_act': <Action.HIT: 2>,\n",
       "   'winning_act_outcome': -0.328}),\n",
       " (<function __main__.test_cond.<locals>.cond(p, d)>,\n",
       "  {'<Action.DOUBLE: 3>': -0.788,\n",
       "   '<Action.HIT: 2>': -0.3885,\n",
       "   '<Action.STAND: 1>': -0.5,\n",
       "   'score_p': 'h14',\n",
       "   'score_d': 'h08',\n",
       "   'winning_act': <Action.HIT: 2>,\n",
       "   'winning_act_outcome': -0.3885}),\n",
       " (<function __main__.test_cond.<locals>.cond(p, d)>,\n",
       "  {'<Action.DOUBLE: 3>': -0.856,\n",
       "   '<Action.HIT: 2>': -0.43,\n",
       "   '<Action.STAND: 1>': -0.504,\n",
       "   'score_p': 'h14',\n",
       "   'score_d': 'h09',\n",
       "   'winning_act': <Action.HIT: 2>,\n",
       "   'winning_act_outcome': -0.43}),\n",
       " (<function __main__.test_cond.<locals>.cond(p, d)>,\n",
       "  {'<Action.DOUBLE: 3>': -1.022,\n",
       "   '<Action.HIT: 2>': -0.5085,\n",
       "   '<Action.STAND: 1>': -0.556,\n",
       "   'score_p': 'h14',\n",
       "   'score_d': 'h10',\n",
       "   'winning_act': <Action.HIT: 2>,\n",
       "   'winning_act_outcome': -0.5085}),\n",
       " (<function __main__.test_cond.<locals>.cond(p, d)>,\n",
       "  {'<Action.DOUBLE: 3>': -0.499,\n",
       "   '<Action.HIT: 2>': -0.535,\n",
       "   '<Action.STAND: 1>': -0.471,\n",
       "   'score_p': 'h15',\n",
       "   'score_d': 's11',\n",
       "   'winning_act': <Action.STAND: 1>,\n",
       "   'winning_act_outcome': -0.471}),\n",
       " (<function __main__.test_cond.<locals>.cond(p, d)>,\n",
       "  {'<Action.DOUBLE: 3>': -0.884,\n",
       "   '<Action.HIT: 2>': -0.388,\n",
       "   '<Action.STAND: 1>': -0.234,\n",
       "   'score_p': 'h15',\n",
       "   'score_d': 'h02',\n",
       "   'winning_act': <Action.STAND: 1>,\n",
       "   'winning_act_outcome': -0.234}),\n",
       " (<function __main__.test_cond.<locals>.cond(p, d)>,\n",
       "  {'<Action.DOUBLE: 3>': -0.792,\n",
       "   '<Action.HIT: 2>': -0.422,\n",
       "   '<Action.STAND: 1>': -0.22,\n",
       "   'score_p': 'h15',\n",
       "   'score_d': 'h03',\n",
       "   'winning_act': <Action.STAND: 1>,\n",
       "   'winning_act_outcome': -0.22}),\n",
       " (<function __main__.test_cond.<locals>.cond(p, d)>,\n",
       "  {'<Action.DOUBLE: 3>': -0.764,\n",
       "   '<Action.HIT: 2>': -0.383,\n",
       "   '<Action.STAND: 1>': -0.226,\n",
       "   'score_p': 'h15',\n",
       "   'score_d': 'h04',\n",
       "   'winning_act': <Action.STAND: 1>,\n",
       "   'winning_act_outcome': -0.226}),\n",
       " (<function __main__.test_cond.<locals>.cond(p, d)>,\n",
       "  {'<Action.DOUBLE: 3>': -0.792,\n",
       "   '<Action.HIT: 2>': -0.378,\n",
       "   '<Action.STAND: 1>': -0.196,\n",
       "   'score_p': 'h15',\n",
       "   'score_d': 'h05',\n",
       "   'winning_act': <Action.STAND: 1>,\n",
       "   'winning_act_outcome': -0.196}),\n",
       " (<function __main__.test_cond.<locals>.cond(p, d)>,\n",
       "  {'<Action.DOUBLE: 3>': -0.756,\n",
       "   '<Action.HIT: 2>': -0.402,\n",
       "   '<Action.STAND: 1>': -0.16,\n",
       "   'score_p': 'h15',\n",
       "   'score_d': 'h06',\n",
       "   'winning_act': <Action.STAND: 1>,\n",
       "   'winning_act_outcome': -0.16}),\n",
       " (<function __main__.test_cond.<locals>.cond(p, d)>,\n",
       "  {'<Action.DOUBLE: 3>': -0.674,\n",
       "   '<Action.HIT: 2>': -0.4065,\n",
       "   '<Action.STAND: 1>': -0.494,\n",
       "   'score_p': 'h15',\n",
       "   'score_d': 'h07',\n",
       "   'winning_act': <Action.HIT: 2>,\n",
       "   'winning_act_outcome': -0.4065}),\n",
       " (<function __main__.test_cond.<locals>.cond(p, d)>,\n",
       "  {'<Action.DOUBLE: 3>': -0.784,\n",
       "   '<Action.HIT: 2>': -0.4195,\n",
       "   '<Action.STAND: 1>': -0.546,\n",
       "   'score_p': 'h15',\n",
       "   'score_d': 'h08',\n",
       "   'winning_act': <Action.HIT: 2>,\n",
       "   'winning_act_outcome': -0.4195}),\n",
       " (<function __main__.test_cond.<locals>.cond(p, d)>,\n",
       "  {'<Action.DOUBLE: 3>': -1.036,\n",
       "   '<Action.HIT: 2>': -0.473,\n",
       "   '<Action.STAND: 1>': -0.544,\n",
       "   'score_p': 'h15',\n",
       "   'score_d': 'h09',\n",
       "   'winning_act': <Action.HIT: 2>,\n",
       "   'winning_act_outcome': -0.473}),\n",
       " (<function __main__.test_cond.<locals>.cond(p, d)>,\n",
       "  {'<Action.DOUBLE: 3>': -1.132,\n",
       "   '<Action.HIT: 2>': -0.584,\n",
       "   '<Action.STAND: 1>': -0.574,\n",
       "   'score_p': 'h15',\n",
       "   'score_d': 'h10',\n",
       "   'winning_act': <Action.STAND: 1>,\n",
       "   'winning_act_outcome': -0.574}),\n",
       " (<function __main__.test_cond.<locals>.cond(p, d)>,\n",
       "  {'<Action.DOUBLE: 3>': -0.592,\n",
       "   '<Action.HIT: 2>': -0.602,\n",
       "   '<Action.STAND: 1>': -0.571,\n",
       "   'score_p': 'h16',\n",
       "   'score_d': 's11',\n",
       "   'winning_act': <Action.STAND: 1>,\n",
       "   'winning_act_outcome': -0.571}),\n",
       " (<function __main__.test_cond.<locals>.cond(p, d)>,\n",
       "  {'<Action.DOUBLE: 3>': -0.99,\n",
       "   '<Action.HIT: 2>': -0.436,\n",
       "   '<Action.STAND: 1>': -0.294,\n",
       "   'score_p': 'h16',\n",
       "   'score_d': 'h02',\n",
       "   'winning_act': <Action.STAND: 1>,\n",
       "   'winning_act_outcome': -0.294}),\n",
       " (<function __main__.test_cond.<locals>.cond(p, d)>,\n",
       "  {'<Action.DOUBLE: 3>': -0.852,\n",
       "   '<Action.HIT: 2>': -0.449,\n",
       "   '<Action.STAND: 1>': -0.272,\n",
       "   'score_p': 'h16',\n",
       "   'score_d': 'h03',\n",
       "   'winning_act': <Action.STAND: 1>,\n",
       "   'winning_act_outcome': -0.272}),\n",
       " (<function __main__.test_cond.<locals>.cond(p, d)>,\n",
       "  {'<Action.DOUBLE: 3>': -0.962,\n",
       "   '<Action.HIT: 2>': -0.487,\n",
       "   '<Action.STAND: 1>': -0.182,\n",
       "   'score_p': 'h16',\n",
       "   'score_d': 'h04',\n",
       "   'winning_act': <Action.STAND: 1>,\n",
       "   'winning_act_outcome': -0.182}),\n",
       " (<function __main__.test_cond.<locals>.cond(p, d)>,\n",
       "  {'<Action.DOUBLE: 3>': -0.854,\n",
       "   '<Action.HIT: 2>': -0.477,\n",
       "   '<Action.STAND: 1>': -0.172,\n",
       "   'score_p': 'h16',\n",
       "   'score_d': 'h05',\n",
       "   'winning_act': <Action.STAND: 1>,\n",
       "   'winning_act_outcome': -0.172}),\n",
       " (<function __main__.test_cond.<locals>.cond(p, d)>,\n",
       "  {'<Action.DOUBLE: 3>': -0.808,\n",
       "   '<Action.HIT: 2>': -0.44,\n",
       "   '<Action.STAND: 1>': -0.188,\n",
       "   'score_p': 'h16',\n",
       "   'score_d': 'h06',\n",
       "   'winning_act': <Action.STAND: 1>,\n",
       "   'winning_act_outcome': -0.188}),\n",
       " (<function __main__.test_cond.<locals>.cond(p, d)>,\n",
       "  {'<Action.DOUBLE: 3>': -0.784,\n",
       "   '<Action.HIT: 2>': -0.435,\n",
       "   '<Action.STAND: 1>': -0.482,\n",
       "   'score_p': 'h16',\n",
       "   'score_d': 'h07',\n",
       "   'winning_act': <Action.HIT: 2>,\n",
       "   'winning_act_outcome': -0.435}),\n",
       " (<function __main__.test_cond.<locals>.cond(p, d)>,\n",
       "  {'<Action.DOUBLE: 3>': -0.92,\n",
       "   '<Action.HIT: 2>': -0.467,\n",
       "   '<Action.STAND: 1>': -0.534,\n",
       "   'score_p': 'h16',\n",
       "   'score_d': 'h08',\n",
       "   'winning_act': <Action.HIT: 2>,\n",
       "   'winning_act_outcome': -0.467}),\n",
       " (<function __main__.test_cond.<locals>.cond(p, d)>,\n",
       "  {'<Action.DOUBLE: 3>': -1.04,\n",
       "   '<Action.HIT: 2>': -0.478,\n",
       "   '<Action.STAND: 1>': -0.532,\n",
       "   'score_p': 'h16',\n",
       "   'score_d': 'h09',\n",
       "   'winning_act': <Action.HIT: 2>,\n",
       "   'winning_act_outcome': -0.478}),\n",
       " (<function __main__.test_cond.<locals>.cond(p, d)>,\n",
       "  {'<Action.DOUBLE: 3>': -1.3,\n",
       "   '<Action.HIT: 2>': -0.558,\n",
       "   '<Action.STAND: 1>': -0.642,\n",
       "   'score_p': 'h16',\n",
       "   'score_d': 'h10',\n",
       "   'winning_act': <Action.HIT: 2>,\n",
       "   'winning_act_outcome': -0.558}),\n",
       " (<function __main__.test_cond.<locals>.cond(p, d)>,\n",
       "  {'<Action.DOUBLE: 3>': -0.464,\n",
       "   '<Action.HIT: 2>': -0.464,\n",
       "   '<Action.STAND: 1>': -0.464,\n",
       "   'score_p': 'h17',\n",
       "   'score_d': 's11',\n",
       "   'winning_act': <Action.DOUBLE: 3>,\n",
       "   'winning_act_outcome': -0.464}),\n",
       " (<function __main__.test_cond.<locals>.cond(p, d)>,\n",
       "  {'<Action.DOUBLE: 3>': -1.066,\n",
       "   '<Action.HIT: 2>': -0.492,\n",
       "   '<Action.STAND: 1>': -0.116,\n",
       "   'score_p': 'h17',\n",
       "   'score_d': 'h02',\n",
       "   'winning_act': <Action.STAND: 1>,\n",
       "   'winning_act_outcome': -0.116}),\n",
       " (<function __main__.test_cond.<locals>.cond(p, d)>,\n",
       "  {'<Action.DOUBLE: 3>': -1.108,\n",
       "   '<Action.HIT: 2>': -0.507,\n",
       "   '<Action.STAND: 1>': -0.122,\n",
       "   'score_p': 'h17',\n",
       "   'score_d': 'h03',\n",
       "   'winning_act': <Action.STAND: 1>,\n",
       "   'winning_act_outcome': -0.122}),\n",
       " (<function __main__.test_cond.<locals>.cond(p, d)>,\n",
       "  {'<Action.DOUBLE: 3>': -1.004,\n",
       "   '<Action.HIT: 2>': -0.533,\n",
       "   '<Action.STAND: 1>': -0.067,\n",
       "   'score_p': 'h17',\n",
       "   'score_d': 'h04',\n",
       "   'winning_act': <Action.STAND: 1>,\n",
       "   'winning_act_outcome': -0.067}),\n",
       " (<function __main__.test_cond.<locals>.cond(p, d)>,\n",
       "  {'<Action.DOUBLE: 3>': -1.08,\n",
       "   '<Action.HIT: 2>': -0.451,\n",
       "   '<Action.STAND: 1>': -0.047,\n",
       "   'score_p': 'h17',\n",
       "   'score_d': 'h05',\n",
       "   'winning_act': <Action.STAND: 1>,\n",
       "   'winning_act_outcome': -0.047}),\n",
       " (<function __main__.test_cond.<locals>.cond(p, d)>,\n",
       "  {'<Action.DOUBLE: 3>': -1.074,\n",
       "   '<Action.HIT: 2>': -0.531,\n",
       "   '<Action.STAND: 1>': -0.078,\n",
       "   'score_p': 'h17',\n",
       "   'score_d': 'h06',\n",
       "   'winning_act': <Action.STAND: 1>,\n",
       "   'winning_act_outcome': -0.078}),\n",
       " (<function __main__.test_cond.<locals>.cond(p, d)>,\n",
       "  {'<Action.DOUBLE: 3>': -0.926,\n",
       "   '<Action.HIT: 2>': -0.502,\n",
       "   '<Action.STAND: 1>': -0.112,\n",
       "   'score_p': 'h17',\n",
       "   'score_d': 'h07',\n",
       "   'winning_act': <Action.STAND: 1>,\n",
       "   'winning_act_outcome': -0.112}),\n",
       " (<function __main__.test_cond.<locals>.cond(p, d)>,\n",
       "  {'<Action.DOUBLE: 3>': -0.976,\n",
       "   '<Action.HIT: 2>': -0.502,\n",
       "   '<Action.STAND: 1>': -0.438,\n",
       "   'score_p': 'h17',\n",
       "   'score_d': 'h08',\n",
       "   'winning_act': <Action.STAND: 1>,\n",
       "   'winning_act_outcome': -0.438}),\n",
       " (<function __main__.test_cond.<locals>.cond(p, d)>,\n",
       "  {'<Action.DOUBLE: 3>': -1.176,\n",
       "   '<Action.HIT: 2>': -0.553,\n",
       "   '<Action.STAND: 1>': -0.401,\n",
       "   'score_p': 'h17',\n",
       "   'score_d': 'h09',\n",
       "   'winning_act': <Action.STAND: 1>,\n",
       "   'winning_act_outcome': -0.401}),\n",
       " (<function __main__.test_cond.<locals>.cond(p, d)>,\n",
       "  {'<Action.DOUBLE: 3>': -1.184,\n",
       "   '<Action.HIT: 2>': -0.646,\n",
       "   '<Action.STAND: 1>': -0.502,\n",
       "   'score_p': 'h17',\n",
       "   'score_d': 'h10',\n",
       "   'winning_act': <Action.STAND: 1>,\n",
       "   'winning_act_outcome': -0.502}),\n",
       " (<function __main__.test_cond.<locals>.cond(p, d)>,\n",
       "  {'<Action.DOUBLE: 3>': -0.242,\n",
       "   '<Action.HIT: 2>': -0.242,\n",
       "   '<Action.STAND: 1>': -0.242,\n",
       "   'score_p': 'h18',\n",
       "   'score_d': 's11',\n",
       "   'winning_act': <Action.DOUBLE: 3>,\n",
       "   'winning_act_outcome': -0.242}),\n",
       " (<function __main__.test_cond.<locals>.cond(p, d)>,\n",
       "  {'<Action.DOUBLE: 3>': -1.2,\n",
       "   '<Action.HIT: 2>': -0.649,\n",
       "   '<Action.STAND: 1>': 0.137,\n",
       "   'score_p': 'h18',\n",
       "   'score_d': 'h02',\n",
       "   'winning_act': <Action.STAND: 1>,\n",
       "   'winning_act_outcome': 0.137}),\n",
       " (<function __main__.test_cond.<locals>.cond(p, d)>,\n",
       "  {'<Action.DOUBLE: 3>': -1.198,\n",
       "   '<Action.HIT: 2>': -0.628,\n",
       "   '<Action.STAND: 1>': 0.132,\n",
       "   'score_p': 'h18',\n",
       "   'score_d': 'h03',\n",
       "   'winning_act': <Action.STAND: 1>,\n",
       "   'winning_act_outcome': 0.132}),\n",
       " (<function __main__.test_cond.<locals>.cond(p, d)>,\n",
       "  {'<Action.DOUBLE: 3>': -1.292,\n",
       "   '<Action.HIT: 2>': -0.595,\n",
       "   '<Action.STAND: 1>': 0.153,\n",
       "   'score_p': 'h18',\n",
       "   'score_d': 'h04',\n",
       "   'winning_act': <Action.STAND: 1>,\n",
       "   'winning_act_outcome': 0.153}),\n",
       " (<function __main__.test_cond.<locals>.cond(p, d)>,\n",
       "  {'<Action.DOUBLE: 3>': -1.244,\n",
       "   '<Action.HIT: 2>': -0.681,\n",
       "   '<Action.STAND: 1>': 0.201,\n",
       "   'score_p': 'h18',\n",
       "   'score_d': 'h05',\n",
       "   'winning_act': <Action.STAND: 1>,\n",
       "   'winning_act_outcome': 0.201}),\n",
       " (<function __main__.test_cond.<locals>.cond(p, d)>,\n",
       "  {'<Action.DOUBLE: 3>': -1.184,\n",
       "   '<Action.HIT: 2>': -0.609,\n",
       "   '<Action.STAND: 1>': 0.333,\n",
       "   'score_p': 'h18',\n",
       "   'score_d': 'h06',\n",
       "   'winning_act': <Action.STAND: 1>,\n",
       "   'winning_act_outcome': 0.333}),\n",
       " (<function __main__.test_cond.<locals>.cond(p, d)>,\n",
       "  {'<Action.DOUBLE: 3>': -1.102,\n",
       "   '<Action.HIT: 2>': -0.59,\n",
       "   '<Action.STAND: 1>': 0.382,\n",
       "   'score_p': 'h18',\n",
       "   'score_d': 'h07',\n",
       "   'winning_act': <Action.STAND: 1>,\n",
       "   'winning_act_outcome': 0.382}),\n",
       " (<function __main__.test_cond.<locals>.cond(p, d)>,\n",
       "  {'<Action.DOUBLE: 3>': -1.15,\n",
       "   '<Action.HIT: 2>': -0.584,\n",
       "   '<Action.STAND: 1>': 0.157,\n",
       "   'score_p': 'h18',\n",
       "   'score_d': 'h08',\n",
       "   'winning_act': <Action.STAND: 1>,\n",
       "   'winning_act_outcome': 0.157}),\n",
       " (<function __main__.test_cond.<locals>.cond(p, d)>,\n",
       "  {'<Action.DOUBLE: 3>': -1.218,\n",
       "   '<Action.HIT: 2>': -0.652,\n",
       "   '<Action.STAND: 1>': -0.203,\n",
       "   'score_p': 'h18',\n",
       "   'score_d': 'h09',\n",
       "   'winning_act': <Action.STAND: 1>,\n",
       "   'winning_act_outcome': -0.203}),\n",
       " (<function __main__.test_cond.<locals>.cond(p, d)>,\n",
       "  {'<Action.DOUBLE: 3>': -1.406,\n",
       "   '<Action.HIT: 2>': -0.711,\n",
       "   '<Action.STAND: 1>': -0.263,\n",
       "   'score_p': 'h18',\n",
       "   'score_d': 'h10',\n",
       "   'winning_act': <Action.STAND: 1>,\n",
       "   'winning_act_outcome': -0.263})]"
      ]
     },
     "execution_count": 48,
     "metadata": {},
     "output_type": "execute_result"
    }
   ],
   "source": [
    "conds = [find_winning_action(HandScore(p), make_hand([d]).score, 1*1000) for p in range(10, 19) for d in range(1, 11)]\n",
    "conds"
   ]
  },
  {
   "cell_type": "code",
   "execution_count": 49,
   "id": "matched-niger",
   "metadata": {
    "ExecuteTime": {
     "end_time": "2021-07-07T22:43:44.471125Z",
     "start_time": "2021-07-07T22:43:44.460542Z"
    }
   },
   "outputs": [
    {
     "data": {
      "text/html": [
       "<div>\n",
       "<style scoped>\n",
       "    .dataframe tbody tr th:only-of-type {\n",
       "        vertical-align: middle;\n",
       "    }\n",
       "\n",
       "    .dataframe tbody tr th {\n",
       "        vertical-align: top;\n",
       "    }\n",
       "\n",
       "    .dataframe thead th {\n",
       "        text-align: right;\n",
       "    }\n",
       "</style>\n",
       "<table border=\"1\" class=\"dataframe\">\n",
       "  <thead>\n",
       "    <tr style=\"text-align: right;\">\n",
       "      <th></th>\n",
       "      <th></th>\n",
       "      <th>&lt;Action.DOUBLE: 3&gt;</th>\n",
       "      <th>&lt;Action.HIT: 2&gt;</th>\n",
       "      <th>&lt;Action.STAND: 1&gt;</th>\n",
       "      <th>winning_act</th>\n",
       "      <th>winning_act_outcome</th>\n",
       "    </tr>\n",
       "    <tr>\n",
       "      <th>score_p</th>\n",
       "      <th>score_d</th>\n",
       "      <th></th>\n",
       "      <th></th>\n",
       "      <th></th>\n",
       "      <th></th>\n",
       "      <th></th>\n",
       "    </tr>\n",
       "  </thead>\n",
       "  <tbody>\n",
       "    <tr>\n",
       "      <th rowspan=\"5\" valign=\"top\">h10</th>\n",
       "      <th>s11</th>\n",
       "      <td>-0.0095</td>\n",
       "      <td>-0.0185</td>\n",
       "      <td>-0.0395</td>\n",
       "      <td>Action.DOUBLE</td>\n",
       "      <td>-0.0095</td>\n",
       "    </tr>\n",
       "    <tr>\n",
       "      <th>h02</th>\n",
       "      <td>0.3000</td>\n",
       "      <td>0.1810</td>\n",
       "      <td>-0.2660</td>\n",
       "      <td>Action.DOUBLE</td>\n",
       "      <td>0.3000</td>\n",
       "    </tr>\n",
       "    <tr>\n",
       "      <th>h03</th>\n",
       "      <td>0.4400</td>\n",
       "      <td>0.2290</td>\n",
       "      <td>-0.2500</td>\n",
       "      <td>Action.DOUBLE</td>\n",
       "      <td>0.4400</td>\n",
       "    </tr>\n",
       "    <tr>\n",
       "      <th>h04</th>\n",
       "      <td>0.5100</td>\n",
       "      <td>0.2320</td>\n",
       "      <td>-0.1920</td>\n",
       "      <td>Action.DOUBLE</td>\n",
       "      <td>0.5100</td>\n",
       "    </tr>\n",
       "    <tr>\n",
       "      <th>h05</th>\n",
       "      <td>0.4820</td>\n",
       "      <td>0.2430</td>\n",
       "      <td>-0.1620</td>\n",
       "      <td>Action.DOUBLE</td>\n",
       "      <td>0.4820</td>\n",
       "    </tr>\n",
       "    <tr>\n",
       "      <th>...</th>\n",
       "      <th>...</th>\n",
       "      <td>...</td>\n",
       "      <td>...</td>\n",
       "      <td>...</td>\n",
       "      <td>...</td>\n",
       "      <td>...</td>\n",
       "    </tr>\n",
       "    <tr>\n",
       "      <th rowspan=\"5\" valign=\"top\">h18</th>\n",
       "      <th>h06</th>\n",
       "      <td>-1.1840</td>\n",
       "      <td>-0.6090</td>\n",
       "      <td>0.3330</td>\n",
       "      <td>Action.STAND</td>\n",
       "      <td>0.3330</td>\n",
       "    </tr>\n",
       "    <tr>\n",
       "      <th>h07</th>\n",
       "      <td>-1.1020</td>\n",
       "      <td>-0.5900</td>\n",
       "      <td>0.3820</td>\n",
       "      <td>Action.STAND</td>\n",
       "      <td>0.3820</td>\n",
       "    </tr>\n",
       "    <tr>\n",
       "      <th>h08</th>\n",
       "      <td>-1.1500</td>\n",
       "      <td>-0.5840</td>\n",
       "      <td>0.1570</td>\n",
       "      <td>Action.STAND</td>\n",
       "      <td>0.1570</td>\n",
       "    </tr>\n",
       "    <tr>\n",
       "      <th>h09</th>\n",
       "      <td>-1.2180</td>\n",
       "      <td>-0.6520</td>\n",
       "      <td>-0.2030</td>\n",
       "      <td>Action.STAND</td>\n",
       "      <td>-0.2030</td>\n",
       "    </tr>\n",
       "    <tr>\n",
       "      <th>h10</th>\n",
       "      <td>-1.4060</td>\n",
       "      <td>-0.7110</td>\n",
       "      <td>-0.2630</td>\n",
       "      <td>Action.STAND</td>\n",
       "      <td>-0.2630</td>\n",
       "    </tr>\n",
       "  </tbody>\n",
       "</table>\n",
       "<p>90 rows × 5 columns</p>\n",
       "</div>"
      ],
      "text/plain": [
       "                 <Action.DOUBLE: 3>  <Action.HIT: 2>  <Action.STAND: 1>  \\\n",
       "score_p score_d                                                           \n",
       "h10     s11                 -0.0095          -0.0185            -0.0395   \n",
       "        h02                  0.3000           0.1810            -0.2660   \n",
       "        h03                  0.4400           0.2290            -0.2500   \n",
       "        h04                  0.5100           0.2320            -0.1920   \n",
       "        h05                  0.4820           0.2430            -0.1620   \n",
       "...                             ...              ...                ...   \n",
       "h18     h06                 -1.1840          -0.6090             0.3330   \n",
       "        h07                 -1.1020          -0.5900             0.3820   \n",
       "        h08                 -1.1500          -0.5840             0.1570   \n",
       "        h09                 -1.2180          -0.6520            -0.2030   \n",
       "        h10                 -1.4060          -0.7110            -0.2630   \n",
       "\n",
       "                   winning_act  winning_act_outcome  \n",
       "score_p score_d                                      \n",
       "h10     s11      Action.DOUBLE              -0.0095  \n",
       "        h02      Action.DOUBLE               0.3000  \n",
       "        h03      Action.DOUBLE               0.4400  \n",
       "        h04      Action.DOUBLE               0.5100  \n",
       "        h05      Action.DOUBLE               0.4820  \n",
       "...                        ...                  ...  \n",
       "h18     h06       Action.STAND               0.3330  \n",
       "        h07       Action.STAND               0.3820  \n",
       "        h08       Action.STAND               0.1570  \n",
       "        h09       Action.STAND              -0.2030  \n",
       "        h10       Action.STAND              -0.2630  \n",
       "\n",
       "[90 rows x 5 columns]"
      ]
     },
     "execution_count": 49,
     "metadata": {},
     "output_type": "execute_result"
    }
   ],
   "source": [
    "outputs = pd.DataFrame([data for _, data in conds]).set_index(['score_p', 'score_d'])\n",
    "outputs"
   ]
  },
  {
   "cell_type": "code",
   "execution_count": 50,
   "id": "danish-decline",
   "metadata": {
    "ExecuteTime": {
     "end_time": "2021-07-07T22:43:44.619437Z",
     "start_time": "2021-07-07T22:43:44.472626Z"
    }
   },
   "outputs": [
    {
     "data": {
      "text/plain": [
       "<AxesSubplot:xlabel='score_d', ylabel='score_p'>"
      ]
     },
     "execution_count": 50,
     "metadata": {},
     "output_type": "execute_result"
    },
    {
     "data": {
      "image/png": "[encoded data removed]",
      "text/plain": [
       "<Figure size 432x288 with 2 Axes>"
      ]
     },
     "metadata": {
      "needs_background": "light"
     },
     "output_type": "display_data"
    }
   ],
   "source": [
    "# Visualize the winning action by starting condition\n",
    "sns.heatmap(outputs['winning_act'].apply(lambda x: x.value).unstack())\n"
   ]
  },
  {
   "cell_type": "code",
   "execution_count": 51,
   "id": "continuous-seller",
   "metadata": {
    "ExecuteTime": {
     "end_time": "2021-07-07T22:43:44.784055Z",
     "start_time": "2021-07-07T22:43:44.620594Z"
    }
   },
   "outputs": [
    {
     "data": {
      "text/plain": [
       "<AxesSubplot:xlabel='score_d', ylabel='score_p'>"
      ]
     },
     "execution_count": 51,
     "metadata": {},
     "output_type": "execute_result"
    },
    {
     "data": {
      "image/png": "[encoded data removed]",
      "text/plain": [
       "<Figure size 432x288 with 2 Axes>"
      ]
     },
     "metadata": {
      "needs_background": "light"
     },
     "output_type": "display_data"
    }
   ],
   "source": [
    "# Visualize the average outcome by starting condition\n",
    "sns.heatmap(outputs['winning_act_outcome'].unstack())"
   ]
  },
  {
   "cell_type": "code",
   "execution_count": 52,
   "id": "active-hearing",
   "metadata": {
    "ExecuteTime": {
     "end_time": "2021-07-07T22:43:44.790788Z",
     "start_time": "2021-07-07T22:43:44.785115Z"
    }
   },
   "outputs": [
    {
     "data": {
      "text/plain": [
       "[(<function __main__.test_cond.<locals>.cond(p, d)>, <Action.DOUBLE: 3>),\n",
       " (<function __main__.test_cond.<locals>.cond(p, d)>, <Action.DOUBLE: 3>),\n",
       " (<function __main__.test_cond.<locals>.cond(p, d)>, <Action.DOUBLE: 3>),\n",
       " (<function __main__.test_cond.<locals>.cond(p, d)>, <Action.DOUBLE: 3>),\n",
       " (<function __main__.test_cond.<locals>.cond(p, d)>, <Action.DOUBLE: 3>),\n",
       " (<function __main__.test_cond.<locals>.cond(p, d)>, <Action.DOUBLE: 3>),\n",
       " (<function __main__.test_cond.<locals>.cond(p, d)>, <Action.DOUBLE: 3>),\n",
       " (<function __main__.test_cond.<locals>.cond(p, d)>, <Action.DOUBLE: 3>),\n",
       " (<function __main__.test_cond.<locals>.cond(p, d)>, <Action.DOUBLE: 3>),\n",
       " (<function __main__.test_cond.<locals>.cond(p, d)>, <Action.HIT: 2>),\n",
       " (<function __main__.test_cond.<locals>.cond(p, d)>, <Action.STAND: 1>),\n",
       " (<function __main__.test_cond.<locals>.cond(p, d)>, <Action.DOUBLE: 3>),\n",
       " (<function __main__.test_cond.<locals>.cond(p, d)>, <Action.DOUBLE: 3>),\n",
       " (<function __main__.test_cond.<locals>.cond(p, d)>, <Action.DOUBLE: 3>),\n",
       " (<function __main__.test_cond.<locals>.cond(p, d)>, <Action.DOUBLE: 3>),\n",
       " (<function __main__.test_cond.<locals>.cond(p, d)>, <Action.DOUBLE: 3>),\n",
       " (<function __main__.test_cond.<locals>.cond(p, d)>, <Action.DOUBLE: 3>),\n",
       " (<function __main__.test_cond.<locals>.cond(p, d)>, <Action.HIT: 2>),\n",
       " (<function __main__.test_cond.<locals>.cond(p, d)>, <Action.HIT: 2>),\n",
       " (<function __main__.test_cond.<locals>.cond(p, d)>, <Action.HIT: 2>),\n",
       " (<function __main__.test_cond.<locals>.cond(p, d)>, <Action.DOUBLE: 3>),\n",
       " (<function __main__.test_cond.<locals>.cond(p, d)>, <Action.STAND: 1>),\n",
       " (<function __main__.test_cond.<locals>.cond(p, d)>, <Action.STAND: 1>),\n",
       " (<function __main__.test_cond.<locals>.cond(p, d)>, <Action.HIT: 2>),\n",
       " (<function __main__.test_cond.<locals>.cond(p, d)>, <Action.HIT: 2>),\n",
       " (<function __main__.test_cond.<locals>.cond(p, d)>, <Action.HIT: 2>),\n",
       " (<function __main__.test_cond.<locals>.cond(p, d)>, <Action.HIT: 2>),\n",
       " (<function __main__.test_cond.<locals>.cond(p, d)>, <Action.HIT: 2>),\n",
       " (<function __main__.test_cond.<locals>.cond(p, d)>, <Action.HIT: 2>),\n",
       " (<function __main__.test_cond.<locals>.cond(p, d)>, <Action.HIT: 2>),\n",
       " (<function __main__.test_cond.<locals>.cond(p, d)>, <Action.HIT: 2>),\n",
       " (<function __main__.test_cond.<locals>.cond(p, d)>, <Action.STAND: 1>),\n",
       " (<function __main__.test_cond.<locals>.cond(p, d)>, <Action.STAND: 1>),\n",
       " (<function __main__.test_cond.<locals>.cond(p, d)>, <Action.STAND: 1>),\n",
       " (<function __main__.test_cond.<locals>.cond(p, d)>, <Action.STAND: 1>),\n",
       " (<function __main__.test_cond.<locals>.cond(p, d)>, <Action.STAND: 1>),\n",
       " (<function __main__.test_cond.<locals>.cond(p, d)>, <Action.HIT: 2>),\n",
       " (<function __main__.test_cond.<locals>.cond(p, d)>, <Action.HIT: 2>),\n",
       " (<function __main__.test_cond.<locals>.cond(p, d)>, <Action.HIT: 2>),\n",
       " (<function __main__.test_cond.<locals>.cond(p, d)>, <Action.HIT: 2>),\n",
       " (<function __main__.test_cond.<locals>.cond(p, d)>, <Action.STAND: 1>),\n",
       " (<function __main__.test_cond.<locals>.cond(p, d)>, <Action.STAND: 1>),\n",
       " (<function __main__.test_cond.<locals>.cond(p, d)>, <Action.STAND: 1>),\n",
       " (<function __main__.test_cond.<locals>.cond(p, d)>, <Action.STAND: 1>),\n",
       " (<function __main__.test_cond.<locals>.cond(p, d)>, <Action.STAND: 1>),\n",
       " (<function __main__.test_cond.<locals>.cond(p, d)>, <Action.STAND: 1>),\n",
       " (<function __main__.test_cond.<locals>.cond(p, d)>, <Action.HIT: 2>),\n",
       " (<function __main__.test_cond.<locals>.cond(p, d)>, <Action.HIT: 2>),\n",
       " (<function __main__.test_cond.<locals>.cond(p, d)>, <Action.HIT: 2>),\n",
       " (<function __main__.test_cond.<locals>.cond(p, d)>, <Action.HIT: 2>),\n",
       " (<function __main__.test_cond.<locals>.cond(p, d)>, <Action.STAND: 1>),\n",
       " (<function __main__.test_cond.<locals>.cond(p, d)>, <Action.STAND: 1>),\n",
       " (<function __main__.test_cond.<locals>.cond(p, d)>, <Action.STAND: 1>),\n",
       " (<function __main__.test_cond.<locals>.cond(p, d)>, <Action.STAND: 1>),\n",
       " (<function __main__.test_cond.<locals>.cond(p, d)>, <Action.STAND: 1>),\n",
       " (<function __main__.test_cond.<locals>.cond(p, d)>, <Action.STAND: 1>),\n",
       " (<function __main__.test_cond.<locals>.cond(p, d)>, <Action.HIT: 2>),\n",
       " (<function __main__.test_cond.<locals>.cond(p, d)>, <Action.HIT: 2>),\n",
       " (<function __main__.test_cond.<locals>.cond(p, d)>, <Action.HIT: 2>),\n",
       " (<function __main__.test_cond.<locals>.cond(p, d)>, <Action.STAND: 1>),\n",
       " (<function __main__.test_cond.<locals>.cond(p, d)>, <Action.STAND: 1>),\n",
       " (<function __main__.test_cond.<locals>.cond(p, d)>, <Action.STAND: 1>),\n",
       " (<function __main__.test_cond.<locals>.cond(p, d)>, <Action.STAND: 1>),\n",
       " (<function __main__.test_cond.<locals>.cond(p, d)>, <Action.STAND: 1>),\n",
       " (<function __main__.test_cond.<locals>.cond(p, d)>, <Action.STAND: 1>),\n",
       " (<function __main__.test_cond.<locals>.cond(p, d)>, <Action.STAND: 1>),\n",
       " (<function __main__.test_cond.<locals>.cond(p, d)>, <Action.HIT: 2>),\n",
       " (<function __main__.test_cond.<locals>.cond(p, d)>, <Action.HIT: 2>),\n",
       " (<function __main__.test_cond.<locals>.cond(p, d)>, <Action.HIT: 2>),\n",
       " (<function __main__.test_cond.<locals>.cond(p, d)>, <Action.HIT: 2>),\n",
       " (<function __main__.test_cond.<locals>.cond(p, d)>, <Action.DOUBLE: 3>),\n",
       " (<function __main__.test_cond.<locals>.cond(p, d)>, <Action.STAND: 1>),\n",
       " (<function __main__.test_cond.<locals>.cond(p, d)>, <Action.STAND: 1>),\n",
       " (<function __main__.test_cond.<locals>.cond(p, d)>, <Action.STAND: 1>),\n",
       " (<function __main__.test_cond.<locals>.cond(p, d)>, <Action.STAND: 1>),\n",
       " (<function __main__.test_cond.<locals>.cond(p, d)>, <Action.STAND: 1>),\n",
       " (<function __main__.test_cond.<locals>.cond(p, d)>, <Action.STAND: 1>),\n",
       " (<function __main__.test_cond.<locals>.cond(p, d)>, <Action.STAND: 1>),\n",
       " (<function __main__.test_cond.<locals>.cond(p, d)>, <Action.STAND: 1>),\n",
       " (<function __main__.test_cond.<locals>.cond(p, d)>, <Action.STAND: 1>),\n",
       " (<function __main__.test_cond.<locals>.cond(p, d)>, <Action.DOUBLE: 3>),\n",
       " (<function __main__.test_cond.<locals>.cond(p, d)>, <Action.STAND: 1>),\n",
       " (<function __main__.test_cond.<locals>.cond(p, d)>, <Action.STAND: 1>),\n",
       " (<function __main__.test_cond.<locals>.cond(p, d)>, <Action.STAND: 1>),\n",
       " (<function __main__.test_cond.<locals>.cond(p, d)>, <Action.STAND: 1>),\n",
       " (<function __main__.test_cond.<locals>.cond(p, d)>, <Action.STAND: 1>),\n",
       " (<function __main__.test_cond.<locals>.cond(p, d)>, <Action.STAND: 1>),\n",
       " (<function __main__.test_cond.<locals>.cond(p, d)>, <Action.STAND: 1>),\n",
       " (<function __main__.test_cond.<locals>.cond(p, d)>, <Action.STAND: 1>),\n",
       " (<function __main__.test_cond.<locals>.cond(p, d)>, <Action.STAND: 1>)]"
      ]
     },
     "execution_count": 52,
     "metadata": {},
     "output_type": "execute_result"
    }
   ],
   "source": [
    "[(cond, output['winning_act']) for cond, output in conds]"
   ]
  },
  {
   "cell_type": "code",
   "execution_count": 53,
   "id": "portable-niger",
   "metadata": {
    "ExecuteTime": {
     "end_time": "2021-07-07T22:43:44.793651Z",
     "start_time": "2021-07-07T22:43:44.791713Z"
    }
   },
   "outputs": [],
   "source": [
    "strat_derived = generate_strat_conditional(strat_simple, [(cond, output['winning_act']) for cond, output in conds])\n",
    "strat_derived.name = 'strat_derived'"
   ]
  },
  {
   "cell_type": "code",
   "execution_count": 54,
   "id": "english-distance",
   "metadata": {
    "ExecuteTime": {
     "end_time": "2021-07-07T22:43:44.828686Z",
     "start_time": "2021-07-07T22:43:44.794534Z"
    },
    "scrolled": true
   },
   "outputs": [
    {
     "data": {
      "text/plain": [
       "(        strategy hand_start  dealer_card      hand_end      dealer_hand  \\\n",
       " 0         simple     [2, 6]            8    [2, 6, 12]          [8, 10]   \n",
       " 1  strat_derived     [2, 6]            8  [2, 6, 7, 2]          [8, 10]   \n",
       " 2         simple     [2, 9]            1     [2, 9, 8]  [1, 1, 2, 8, 9]   \n",
       " 3  strat_derived     [2, 9]            1        [2, 9]  [1, 1, 2, 8, 9]   \n",
       " 4         simple     [2, 3]            1  [2, 3, 9, 4]     [1, 1, 6, 1]   \n",
       " 5  strat_derived     [2, 3]            1     [2, 3, 6]     [1, 1, 6, 1]   \n",
       " 6         simple     [3, 8]            7     [3, 8, 5]     [7, 2, 4, 8]   \n",
       " 7  strat_derived     [3, 8]            7     [3, 8, 6]     [7, 2, 4, 8]   \n",
       " 8         simple    [10, 5]           11   [10, 5, 10]          [11, 8]   \n",
       " 9  strat_derived    [10, 5]           11       [10, 5]          [11, 8]   \n",
       " \n",
       "                    outcome  outcome_value outcome_name  \n",
       " 0         HandOutcome.PUSH            0.0         PUSH  \n",
       " 1         HandOutcome.LOSE           -1.0         LOSE  \n",
       " 2  HandOutcome.LOSE_DOUBLE           -2.0  LOSE_DOUBLE  \n",
       " 3         HandOutcome.LOSE           -1.0         LOSE  \n",
       " 4         HandOutcome.LOSE           -1.0         LOSE  \n",
       " 5         HandOutcome.LOSE           -1.0         LOSE  \n",
       " 6  HandOutcome.LOSE_DOUBLE           -2.0  LOSE_DOUBLE  \n",
       " 7  HandOutcome.LOSE_DOUBLE           -2.0  LOSE_DOUBLE  \n",
       " 8         HandOutcome.LOSE           -1.0         LOSE  \n",
       " 9         HandOutcome.LOSE           -1.0         LOSE  ,\n",
       "                     len                                      mean_outcome\n",
       " outcome_name  BLACKJACK LOSE LOSE_DOUBLE PUSH WIN WIN_DOUBLE             \n",
       " strategy                                                                 \n",
       " simple                2   46           4   11  32          5        -0.09\n",
       " strat_derived         2   49           6   10  32          1        -0.24)"
      ]
     },
     "execution_count": 54,
     "metadata": {},
     "output_type": "execute_result"
    }
   ],
   "source": [
    "sims = run_n_sim_trials([strat_simple, strat_derived], 100)\n",
    "sims.head(10), summarize_totals(sims)"
   ]
  },
  {
   "cell_type": "code",
   "execution_count": 55,
   "id": "billion-algebra",
   "metadata": {
    "ExecuteTime": {
     "end_time": "2021-07-07T22:43:55.542520Z",
     "start_time": "2021-07-07T22:43:44.830137Z"
    },
    "scrolled": true
   },
   "outputs": [
    {
     "data": {
      "text/plain": [
       "(        strategy hand_start  dealer_card       hand_end   dealer_hand  \\\n",
       " 0         simple    [12, 2]            1    [12, 2, 10]  [1, 3, 9, 7]   \n",
       " 1  strat_derived    [12, 2]            1     [12, 2, 1]  [1, 3, 9, 7]   \n",
       " 2         simple     [2, 9]            8      [2, 9, 8]       [8, 13]   \n",
       " 3  strat_derived     [2, 9]            8   [2, 9, 5, 7]       [8, 13]   \n",
       " 4         simple    [5, 11]            6        [5, 11]     [6, 6, 9]   \n",
       " 5  strat_derived    [5, 11]            6        [5, 11]     [6, 6, 9]   \n",
       " 6         simple     [8, 1]            8         [8, 1]       [8, 12]   \n",
       " 7  strat_derived     [8, 1]            8         [8, 1]       [8, 12]   \n",
       " 8         simple     [2, 7]           11  [2, 7, 5, 11]    [11, 5, 3]   \n",
       " 9  strat_derived     [2, 7]           11  [2, 7, 3, 10]    [11, 5, 3]   \n",
       " \n",
       "                    outcome  outcome_value outcome_name  \n",
       " 0         HandOutcome.LOSE           -1.0         LOSE  \n",
       " 1  HandOutcome.LOSE_DOUBLE           -2.0  LOSE_DOUBLE  \n",
       " 2   HandOutcome.WIN_DOUBLE            2.0   WIN_DOUBLE  \n",
       " 3         HandOutcome.LOSE           -1.0         LOSE  \n",
       " 4         HandOutcome.LOSE           -1.0         LOSE  \n",
       " 5         HandOutcome.LOSE           -1.0         LOSE  \n",
       " 6          HandOutcome.WIN            1.0          WIN  \n",
       " 7          HandOutcome.WIN            1.0          WIN  \n",
       " 8         HandOutcome.LOSE           -1.0         LOSE  \n",
       " 9         HandOutcome.LOSE           -1.0         LOSE  ,\n",
       "                     len                                             \\\n",
       " outcome_name  BLACKJACK   LOSE LOSE_DOUBLE  PUSH    WIN WIN_DOUBLE   \n",
       " strategy                                                             \n",
       " simple             4539  46211        2495  8745  34732       3278   \n",
       " strat_derived      4539  45290        3911  8169  34075       4016   \n",
       " \n",
       "               mean_outcome  \n",
       " outcome_name                \n",
       " strategy                    \n",
       " simple           -0.031045  \n",
       " strat_derived    -0.041965  )"
      ]
     },
     "execution_count": 55,
     "metadata": {},
     "output_type": "execute_result"
    }
   ],
   "source": [
    "sims = run_n_sim_trials([strat_simple, strat_derived], 100*1000)\n",
    "sims.head(10), summarize_totals(sims)"
   ]
  },
  {
   "cell_type": "code",
   "execution_count": 56,
   "id": "timely-bicycle",
   "metadata": {
    "ExecuteTime": {
     "end_time": "2021-07-07T22:43:55.557251Z",
     "start_time": "2021-07-07T22:43:55.543385Z"
    }
   },
   "outputs": [
    {
     "data": {
      "text/html": [
       "<div>\n",
       "<style scoped>\n",
       "    .dataframe tbody tr th:only-of-type {\n",
       "        vertical-align: middle;\n",
       "    }\n",
       "\n",
       "    .dataframe tbody tr th {\n",
       "        vertical-align: top;\n",
       "    }\n",
       "\n",
       "    .dataframe thead th {\n",
       "        text-align: right;\n",
       "    }\n",
       "</style>\n",
       "<table border=\"1\" class=\"dataframe\">\n",
       "  <thead>\n",
       "    <tr style=\"text-align: right;\">\n",
       "      <th></th>\n",
       "      <th>strategy</th>\n",
       "      <th>hand_start</th>\n",
       "      <th>dealer_card</th>\n",
       "      <th>hand_end</th>\n",
       "      <th>dealer_hand</th>\n",
       "      <th>outcome</th>\n",
       "      <th>outcome_value</th>\n",
       "      <th>outcome_name</th>\n",
       "    </tr>\n",
       "  </thead>\n",
       "  <tbody>\n",
       "    <tr>\n",
       "      <th>0</th>\n",
       "      <td>simple</td>\n",
       "      <td>[12, 2]</td>\n",
       "      <td>1</td>\n",
       "      <td>[12, 2, 10]</td>\n",
       "      <td>[1, 3, 9, 7]</td>\n",
       "      <td>HandOutcome.LOSE</td>\n",
       "      <td>-1.0</td>\n",
       "      <td>LOSE</td>\n",
       "    </tr>\n",
       "    <tr>\n",
       "      <th>1</th>\n",
       "      <td>strat_derived</td>\n",
       "      <td>[12, 2]</td>\n",
       "      <td>1</td>\n",
       "      <td>[12, 2, 1]</td>\n",
       "      <td>[1, 3, 9, 7]</td>\n",
       "      <td>HandOutcome.LOSE_DOUBLE</td>\n",
       "      <td>-2.0</td>\n",
       "      <td>LOSE_DOUBLE</td>\n",
       "    </tr>\n",
       "    <tr>\n",
       "      <th>2</th>\n",
       "      <td>simple</td>\n",
       "      <td>[2, 9]</td>\n",
       "      <td>8</td>\n",
       "      <td>[2, 9, 8]</td>\n",
       "      <td>[8, 13]</td>\n",
       "      <td>HandOutcome.WIN_DOUBLE</td>\n",
       "      <td>2.0</td>\n",
       "      <td>WIN_DOUBLE</td>\n",
       "    </tr>\n",
       "    <tr>\n",
       "      <th>3</th>\n",
       "      <td>strat_derived</td>\n",
       "      <td>[2, 9]</td>\n",
       "      <td>8</td>\n",
       "      <td>[2, 9, 5, 7]</td>\n",
       "      <td>[8, 13]</td>\n",
       "      <td>HandOutcome.LOSE</td>\n",
       "      <td>-1.0</td>\n",
       "      <td>LOSE</td>\n",
       "    </tr>\n",
       "    <tr>\n",
       "      <th>4</th>\n",
       "      <td>simple</td>\n",
       "      <td>[5, 11]</td>\n",
       "      <td>6</td>\n",
       "      <td>[5, 11]</td>\n",
       "      <td>[6, 6, 9]</td>\n",
       "      <td>HandOutcome.LOSE</td>\n",
       "      <td>-1.0</td>\n",
       "      <td>LOSE</td>\n",
       "    </tr>\n",
       "    <tr>\n",
       "      <th>...</th>\n",
       "      <td>...</td>\n",
       "      <td>...</td>\n",
       "      <td>...</td>\n",
       "      <td>...</td>\n",
       "      <td>...</td>\n",
       "      <td>...</td>\n",
       "      <td>...</td>\n",
       "      <td>...</td>\n",
       "    </tr>\n",
       "    <tr>\n",
       "      <th>199995</th>\n",
       "      <td>strat_derived</td>\n",
       "      <td>[9, 7]</td>\n",
       "      <td>4</td>\n",
       "      <td>[9, 7]</td>\n",
       "      <td>[4, 6, 3, 13]</td>\n",
       "      <td>HandOutcome.WIN</td>\n",
       "      <td>1.0</td>\n",
       "      <td>WIN</td>\n",
       "    </tr>\n",
       "    <tr>\n",
       "      <th>199996</th>\n",
       "      <td>simple</td>\n",
       "      <td>[12, 7]</td>\n",
       "      <td>7</td>\n",
       "      <td>[12, 7]</td>\n",
       "      <td>[7, 12]</td>\n",
       "      <td>HandOutcome.PUSH</td>\n",
       "      <td>0.0</td>\n",
       "      <td>PUSH</td>\n",
       "    </tr>\n",
       "    <tr>\n",
       "      <th>199997</th>\n",
       "      <td>strat_derived</td>\n",
       "      <td>[12, 7]</td>\n",
       "      <td>7</td>\n",
       "      <td>[12, 7]</td>\n",
       "      <td>[7, 12]</td>\n",
       "      <td>HandOutcome.PUSH</td>\n",
       "      <td>0.0</td>\n",
       "      <td>PUSH</td>\n",
       "    </tr>\n",
       "    <tr>\n",
       "      <th>199998</th>\n",
       "      <td>simple</td>\n",
       "      <td>[5, 2]</td>\n",
       "      <td>10</td>\n",
       "      <td>[5, 2, 2, 12]</td>\n",
       "      <td>[10, 12]</td>\n",
       "      <td>HandOutcome.LOSE</td>\n",
       "      <td>-1.0</td>\n",
       "      <td>LOSE</td>\n",
       "    </tr>\n",
       "    <tr>\n",
       "      <th>199999</th>\n",
       "      <td>strat_derived</td>\n",
       "      <td>[5, 2]</td>\n",
       "      <td>10</td>\n",
       "      <td>[5, 2, 13]</td>\n",
       "      <td>[10, 12]</td>\n",
       "      <td>HandOutcome.LOSE</td>\n",
       "      <td>-1.0</td>\n",
       "      <td>LOSE</td>\n",
       "    </tr>\n",
       "  </tbody>\n",
       "</table>\n",
       "<p>200000 rows × 8 columns</p>\n",
       "</div>"
      ],
      "text/plain": [
       "             strategy hand_start  dealer_card       hand_end    dealer_hand  \\\n",
       "0              simple    [12, 2]            1    [12, 2, 10]   [1, 3, 9, 7]   \n",
       "1       strat_derived    [12, 2]            1     [12, 2, 1]   [1, 3, 9, 7]   \n",
       "2              simple     [2, 9]            8      [2, 9, 8]        [8, 13]   \n",
       "3       strat_derived     [2, 9]            8   [2, 9, 5, 7]        [8, 13]   \n",
       "4              simple    [5, 11]            6        [5, 11]      [6, 6, 9]   \n",
       "...               ...        ...          ...            ...            ...   \n",
       "199995  strat_derived     [9, 7]            4         [9, 7]  [4, 6, 3, 13]   \n",
       "199996         simple    [12, 7]            7        [12, 7]        [7, 12]   \n",
       "199997  strat_derived    [12, 7]            7        [12, 7]        [7, 12]   \n",
       "199998         simple     [5, 2]           10  [5, 2, 2, 12]       [10, 12]   \n",
       "199999  strat_derived     [5, 2]           10     [5, 2, 13]       [10, 12]   \n",
       "\n",
       "                        outcome  outcome_value outcome_name  \n",
       "0              HandOutcome.LOSE           -1.0         LOSE  \n",
       "1       HandOutcome.LOSE_DOUBLE           -2.0  LOSE_DOUBLE  \n",
       "2        HandOutcome.WIN_DOUBLE            2.0   WIN_DOUBLE  \n",
       "3              HandOutcome.LOSE           -1.0         LOSE  \n",
       "4              HandOutcome.LOSE           -1.0         LOSE  \n",
       "...                         ...            ...          ...  \n",
       "199995          HandOutcome.WIN            1.0          WIN  \n",
       "199996         HandOutcome.PUSH            0.0         PUSH  \n",
       "199997         HandOutcome.PUSH            0.0         PUSH  \n",
       "199998         HandOutcome.LOSE           -1.0         LOSE  \n",
       "199999         HandOutcome.LOSE           -1.0         LOSE  \n",
       "\n",
       "[200000 rows x 8 columns]"
      ]
     },
     "execution_count": 56,
     "metadata": {},
     "output_type": "execute_result"
    }
   ],
   "source": [
    "sims"
   ]
  },
  {
   "cell_type": "code",
   "execution_count": null,
   "id": "statewide-danger",
   "metadata": {},
   "outputs": [],
   "source": []
  }
 ],
 "metadata": {
  "kernelspec": {
   "display_name": "Python 3",
   "language": "python",
   "name": "python3"
  },
  "language_info": {
   "codemirror_mode": {
    "name": "ipython",
    "version": 3
   },
   "file_extension": ".py",
   "mimetype": "text/x-python",
   "name": "python",
   "nbconvert_exporter": "python",
   "pygments_lexer": "ipython3",
   "version": "3.8.8"
  }
 },
 "nbformat": 4,
 "nbformat_minor": 5
}
