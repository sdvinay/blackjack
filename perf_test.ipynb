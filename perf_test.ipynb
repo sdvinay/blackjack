{
 "cells": [
  {
   "cell_type": "code",
   "execution_count": 1,
   "id": "hindu-preference",
   "metadata": {
    "ExecuteTime": {
     "end_time": "2021-07-24T00:34:59.271848Z",
     "start_time": "2021-07-24T00:34:59.268995Z"
    }
   },
   "outputs": [],
   "source": [
    "# perf test the blackjack sim"
   ]
  },
  {
   "cell_type": "code",
   "execution_count": 2,
   "id": "corresponding-lighter",
   "metadata": {
    "ExecuteTime": {
     "end_time": "2021-07-24T00:34:59.920239Z",
     "start_time": "2021-07-24T00:34:59.276930Z"
    }
   },
   "outputs": [],
   "source": [
    "import pandas as pd\n",
    "import matplotlib.pyplot as plt\n",
    "import seaborn as sns\n",
    "\n",
    "\n",
    "import blackjack as bj\n",
    "from blackjack import Hand, HandScore, Action, make_hand\n",
    "import simulator as sim"
   ]
  },
  {
   "cell_type": "code",
   "execution_count": 3,
   "id": "lovely-evaluation",
   "metadata": {
    "ExecuteTime": {
     "end_time": "2021-07-24T00:34:59.924599Z",
     "start_time": "2021-07-24T00:34:59.921697Z"
    }
   },
   "outputs": [],
   "source": [
    "def strat_simple(score_p, score_d):\n",
    "    if score_p.points == 11:  return Action.DOUBLE\n",
    "    if score_p.points >= 17:  return Action.STAND\n",
    "    if score_p.points <= 11:  return Action.HIT\n",
    "    if score_d.points in (range(3,7)):  return Action.STAND\n",
    "    else:  return Action.HIT\n",
    "        \n",
    "strat_simple.name = 'simple'"
   ]
  },
  {
   "cell_type": "code",
   "execution_count": 4,
   "id": "dominican-inspector",
   "metadata": {
    "ExecuteTime": {
     "end_time": "2021-07-24T00:35:07.684535Z",
     "start_time": "2021-07-24T00:34:59.926577Z"
    }
   },
   "outputs": [
    {
     "name": "stdout",
     "output_type": "stream",
     "text": [
      " "
     ]
    },
    {
     "data": {
      "text/plain": [
       "(  strategy hand_start  dealer_card    hand_end    dealer_hand  \\\n",
       " 0   simple   [13, 10]            1    [13, 10]   [1, 4, 9, 6]   \n",
       " 1   simple   [13, 10]            1    [13, 10]   [1, 4, 9, 6]   \n",
       " 2   simple   [13, 10]            1    [13, 10]   [1, 4, 9, 6]   \n",
       " 3   simple     [6, 7]           10  [6, 7, 10]       [10, 10]   \n",
       " 4   simple     [6, 7]           10   [6, 7, 7]       [10, 10]   \n",
       " 5   simple     [6, 7]           10   [6, 7, 4]       [10, 10]   \n",
       " 6   simple   [11, 12]            4    [11, 12]     [4, 3, 11]   \n",
       " 7   simple   [11, 12]            4    [11, 12]     [4, 3, 11]   \n",
       " 8   simple   [11, 12]            4    [11, 12]     [4, 3, 11]   \n",
       " 9   simple     [3, 4]            3   [3, 4, 8]  [3, 5, 3, 11]   \n",
       " \n",
       "             outcome  outcome_value outcome_name  \n",
       " 0  HandOutcome.PUSH            0.0         PUSH  \n",
       " 1  HandOutcome.PUSH            0.0         PUSH  \n",
       " 2  HandOutcome.PUSH            0.0         PUSH  \n",
       " 3  HandOutcome.LOSE           -1.0         LOSE  \n",
       " 4  HandOutcome.PUSH            0.0         PUSH  \n",
       " 5  HandOutcome.LOSE           -1.0         LOSE  \n",
       " 6   HandOutcome.WIN            1.0          WIN  \n",
       " 7   HandOutcome.WIN            1.0          WIN  \n",
       " 8   HandOutcome.WIN            1.0          WIN  \n",
       " 9  HandOutcome.LOSE           -1.0         LOSE  ,\n",
       "                    len                                                \\\n",
       " outcome_name BLACKJACK    LOSE LOSE_DOUBLE   PUSH     WIN WIN_DOUBLE   \n",
       " strategy                                                               \n",
       " simple           13632  140070        5585  26241  106805       7667   \n",
       " \n",
       "              mean_outcome  \n",
       " outcome_name               \n",
       " strategy                   \n",
       " simple          -0.028843  )"
      ]
     },
     "execution_count": 4,
     "metadata": {},
     "output_type": "execute_result"
    }
   ],
   "source": [
    "%prun -s cumulative sims = sim.run_n_sim_trials([strat_simple, strat_simple, strat_simple], 100*1000)\n",
    "sims.head(10), sim.summarize_totals(sims)"
   ]
  },
  {
   "cell_type": "code",
   "execution_count": null,
   "id": "incorporate-australia",
   "metadata": {},
   "outputs": [],
   "source": []
  }
 ],
 "metadata": {
  "kernelspec": {
   "display_name": "Python 3",
   "language": "python",
   "name": "python3"
  },
  "language_info": {
   "codemirror_mode": {
    "name": "ipython",
    "version": 3
   },
   "file_extension": ".py",
   "mimetype": "text/x-python",
   "name": "python",
   "nbconvert_exporter": "python",
   "pygments_lexer": "ipython3",
   "version": "3.8.8"
  }
 },
 "nbformat": 4,
 "nbformat_minor": 5
}
