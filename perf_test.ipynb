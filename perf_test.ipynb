{
 "cells": [
  {
   "cell_type": "code",
   "execution_count": 1,
   "id": "hindu-preference",
   "metadata": {
    "ExecuteTime": {
     "end_time": "2021-07-24T00:50:06.877832Z",
     "start_time": "2021-07-24T00:50:06.872923Z"
    }
   },
   "outputs": [],
   "source": [
    "# perf test the blackjack sim"
   ]
  },
  {
   "cell_type": "code",
   "execution_count": 2,
   "id": "corresponding-lighter",
   "metadata": {
    "ExecuteTime": {
     "end_time": "2021-07-24T00:50:07.751702Z",
     "start_time": "2021-07-24T00:50:06.880805Z"
    }
   },
   "outputs": [],
   "source": [
    "import pandas as pd\n",
    "import matplotlib.pyplot as plt\n",
    "import seaborn as sns\n",
    "\n",
    "\n",
    "import blackjack as bj\n",
    "from blackjack import Hand, HandScore, Action, make_hand\n",
    "import simulator as sim"
   ]
  },
  {
   "cell_type": "code",
   "execution_count": 3,
   "id": "lovely-evaluation",
   "metadata": {
    "ExecuteTime": {
     "end_time": "2021-07-24T00:50:07.755465Z",
     "start_time": "2021-07-24T00:50:07.753154Z"
    }
   },
   "outputs": [],
   "source": [
    "def strat_simple_func(score_p, score_d):\n",
    "    if score_p.points == 11:  return Action.DOUBLE\n",
    "    if score_p.points >= 17:  return Action.STAND\n",
    "    if score_p.points <= 11:  return Action.HIT\n",
    "    if score_d.points in (range(3,7)):  return Action.STAND\n",
    "    else:  return Action.HIT\n",
    "        \n",
    "strat_simple_func.name = 'simple'\n",
    "\n",
    "strat_simple = bj.Strategy_wrapper(strat_simple_func)"
   ]
  },
  {
   "cell_type": "code",
   "execution_count": 4,
   "id": "dominican-inspector",
   "metadata": {
    "ExecuteTime": {
     "end_time": "2021-07-24T00:50:15.655641Z",
     "start_time": "2021-07-24T00:50:07.756447Z"
    }
   },
   "outputs": [
    {
     "name": "stdout",
     "output_type": "stream",
     "text": [
      " "
     ]
    },
    {
     "data": {
      "text/plain": [
       "(  strategy hand_start  dealer_card           hand_end     dealer_hand  \\\n",
       " 0   simple     [5, 3]            2       [5, 3, 7, 5]  [2, 10, 2, 12]   \n",
       " 1   simple     [5, 3]            2          [5, 3, 1]  [2, 10, 2, 12]   \n",
       " 2   simple     [5, 3]            2       [5, 3, 5, 5]  [2, 10, 2, 12]   \n",
       " 3   simple     [9, 6]            2          [9, 6, 7]   [2, 10, 1, 9]   \n",
       " 4   simple     [9, 6]            2          [9, 6, 3]   [2, 10, 1, 9]   \n",
       " 5   simple     [9, 6]            2         [9, 6, 10]   [2, 10, 1, 9]   \n",
       " 6   simple    [13, 2]           11         [13, 2, 9]        [11, 11]   \n",
       " 7   simple    [13, 2]           11         [13, 2, 6]        [11, 11]   \n",
       " 8   simple    [13, 2]           11  [13, 2, 1, 2, 13]        [11, 11]   \n",
       " 9   simple     [3, 3]            8      [3, 3, 10, 8]      [8, 2, 13]   \n",
       " \n",
       "             outcome  outcome_value outcome_name  \n",
       " 0   HandOutcome.WIN            1.0          WIN  \n",
       " 1   HandOutcome.WIN            1.0          WIN  \n",
       " 2   HandOutcome.WIN            1.0          WIN  \n",
       " 3  HandOutcome.LOSE           -1.0         LOSE  \n",
       " 4   HandOutcome.WIN            1.0          WIN  \n",
       " 5  HandOutcome.LOSE           -1.0         LOSE  \n",
       " 6   HandOutcome.WIN            1.0          WIN  \n",
       " 7  HandOutcome.LOSE           -1.0         LOSE  \n",
       " 8  HandOutcome.LOSE           -1.0         LOSE  \n",
       " 9  HandOutcome.LOSE           -1.0         LOSE  ,\n",
       "                    len                                                \\\n",
       " outcome_name BLACKJACK    LOSE LOSE_DOUBLE   PUSH     WIN WIN_DOUBLE   \n",
       " strategy                                                               \n",
       " simple           13845  139718        5526  26166  107315       7430   \n",
       " \n",
       "              mean_outcome  \n",
       " outcome_name               \n",
       " strategy                   \n",
       " simple          -0.026092  )"
      ]
     },
     "execution_count": 4,
     "metadata": {},
     "output_type": "execute_result"
    }
   ],
   "source": [
    "%prun -s cumulative sims = sim.run_n_sim_trials([strat_simple, strat_simple, strat_simple], 100*1000)\n",
    "sims.head(10), sim.summarize_totals(sims)"
   ]
  }
 ],
 "metadata": {
  "kernelspec": {
   "display_name": "Python 3",
   "language": "python",
   "name": "python3"
  },
  "language_info": {
   "codemirror_mode": {
    "name": "ipython",
    "version": 3
   },
   "file_extension": ".py",
   "mimetype": "text/x-python",
   "name": "python",
   "nbconvert_exporter": "python",
   "pygments_lexer": "ipython3",
   "version": "3.8.8"
  }
 },
 "nbformat": 4,
 "nbformat_minor": 5
}
