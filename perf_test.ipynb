{
 "cells": [
  {
   "cell_type": "code",
   "execution_count": 1,
   "id": "hindu-preference",
   "metadata": {
    "ExecuteTime": {
     "end_time": "2021-07-21T16:18:18.175681Z",
     "start_time": "2021-07-21T16:18:18.172924Z"
    }
   },
   "outputs": [],
   "source": [
    "# perf test the blackjack sim"
   ]
  },
  {
   "cell_type": "code",
   "execution_count": 2,
   "id": "corresponding-lighter",
   "metadata": {
    "ExecuteTime": {
     "end_time": "2021-07-21T16:18:19.011543Z",
     "start_time": "2021-07-21T16:18:18.177752Z"
    }
   },
   "outputs": [],
   "source": [
    "import pandas as pd\n",
    "import matplotlib.pyplot as plt\n",
    "import seaborn as sns\n",
    "\n",
    "\n",
    "import blackjack as bj\n",
    "from blackjack import Hand, HandScore, Action, make_hand\n",
    "import simulator as sim"
   ]
  },
  {
   "cell_type": "code",
   "execution_count": 3,
   "id": "lovely-evaluation",
   "metadata": {
    "ExecuteTime": {
     "end_time": "2021-07-21T16:18:19.015137Z",
     "start_time": "2021-07-21T16:18:19.012954Z"
    }
   },
   "outputs": [],
   "source": [
    "def strat_simple(score_p, score_d):\n",
    "    if score_p.points == 11:  return Action.DOUBLE\n",
    "    if score_p.points >= 17:  return Action.STAND\n",
    "    if score_p.points <= 11:  return Action.HIT\n",
    "    if score_d.points in (range(3,7)):  return Action.STAND\n",
    "    else:  return Action.HIT\n",
    "        \n",
    "strat_simple.name = 'simple'"
   ]
  },
  {
   "cell_type": "code",
   "execution_count": 4,
   "id": "dominican-inspector",
   "metadata": {
    "ExecuteTime": {
     "end_time": "2021-07-21T16:18:26.566451Z",
     "start_time": "2021-07-21T16:18:19.016141Z"
    }
   },
   "outputs": [
    {
     "name": "stdout",
     "output_type": "stream",
     "text": [
      " "
     ]
    },
    {
     "data": {
      "text/plain": [
       "(  strategy hand_start  dealer_card    hand_end   dealer_hand  \\\n",
       " 0   simple   [13, 10]            4    [13, 10]     [4, 6, 9]   \n",
       " 1   simple   [13, 10]            4    [13, 10]     [4, 6, 9]   \n",
       " 2   simple   [13, 10]            4    [13, 10]     [4, 6, 9]   \n",
       " 3   simple    [5, 12]           10  [5, 12, 4]      [10, 13]   \n",
       " 4   simple    [5, 12]           10  [5, 12, 3]      [10, 13]   \n",
       " 5   simple    [5, 12]           10  [5, 12, 8]      [10, 13]   \n",
       " 6   simple    [13, 3]            5     [13, 3]  [5, 1, 8, 5]   \n",
       " 7   simple    [13, 3]            5     [13, 3]  [5, 1, 8, 5]   \n",
       " 8   simple    [13, 3]            5     [13, 3]  [5, 1, 8, 5]   \n",
       " 9   simple    [11, 5]            6     [11, 5]     [6, 9, 8]   \n",
       " \n",
       "             outcome  outcome_value outcome_name  \n",
       " 0   HandOutcome.WIN            1.0          WIN  \n",
       " 1   HandOutcome.WIN            1.0          WIN  \n",
       " 2   HandOutcome.WIN            1.0          WIN  \n",
       " 3  HandOutcome.LOSE           -1.0         LOSE  \n",
       " 4  HandOutcome.LOSE           -1.0         LOSE  \n",
       " 5  HandOutcome.LOSE           -1.0         LOSE  \n",
       " 6  HandOutcome.LOSE           -1.0         LOSE  \n",
       " 7  HandOutcome.LOSE           -1.0         LOSE  \n",
       " 8  HandOutcome.LOSE           -1.0         LOSE  \n",
       " 9   HandOutcome.WIN            1.0          WIN  ,\n",
       "                    len                        mean_outcome\n",
       " outcome_name BLACKJACK    LOSE   PUSH     WIN             \n",
       " strategy                                                  \n",
       " simple           13173  145668  26376  114783    -0.037085)"
      ]
     },
     "execution_count": 4,
     "metadata": {},
     "output_type": "execute_result"
    }
   ],
   "source": [
    "%prun -s cumulative sims = sim.run_n_sim_trials([strat_simple, strat_simple, strat_simple], 100*1000)\n",
    "sims.head(10), sim.summarize_totals(sims)"
   ]
  },
  {
   "cell_type": "code",
   "execution_count": null,
   "id": "incorporate-australia",
   "metadata": {},
   "outputs": [],
   "source": []
  }
 ],
 "metadata": {
  "kernelspec": {
   "display_name": "Python 3",
   "language": "python",
   "name": "python3"
  },
  "language_info": {
   "codemirror_mode": {
    "name": "ipython",
    "version": 3
   },
   "file_extension": ".py",
   "mimetype": "text/x-python",
   "name": "python",
   "nbconvert_exporter": "python",
   "pygments_lexer": "ipython3",
   "version": "3.8.8"
  }
 },
 "nbformat": 4,
 "nbformat_minor": 5
}
