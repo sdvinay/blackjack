{
 "cells": [
  {
   "cell_type": "code",
   "execution_count": 1,
   "id": "satellite-rebate",
   "metadata": {
    "ExecuteTime": {
     "end_time": "2021-07-21T01:56:20.482203Z",
     "start_time": "2021-07-21T01:56:20.479576Z"
    }
   },
   "outputs": [],
   "source": [
    "# perf test the blackjack sim"
   ]
  },
  {
   "cell_type": "code",
   "execution_count": 2,
   "id": "impaired-edgar",
   "metadata": {
    "ExecuteTime": {
     "end_time": "2021-07-21T01:56:21.279582Z",
     "start_time": "2021-07-21T01:56:20.484117Z"
    }
   },
   "outputs": [],
   "source": [
    "import pandas as pd\n",
    "import matplotlib.pyplot as plt\n",
    "import seaborn as sns\n",
    "\n",
    "\n",
    "import blackjack as bj\n",
    "from blackjack import Hand, HandScore, Action, make_hand\n",
    "import simulator as sim"
   ]
  },
  {
   "cell_type": "code",
   "execution_count": 3,
   "id": "superb-green",
   "metadata": {
    "ExecuteTime": {
     "end_time": "2021-07-21T01:56:21.283176Z",
     "start_time": "2021-07-21T01:56:21.280986Z"
    }
   },
   "outputs": [],
   "source": [
    "def strat_simple(score_p, score_d):\n",
    "    if score_p.points == 11:  return Action.DOUBLE\n",
    "    if score_p.points >= 17:  return Action.STAND\n",
    "    if score_p.points <= 11:  return Action.HIT\n",
    "    if score_d.points in (range(3,7)):  return Action.STAND\n",
    "    else:  return Action.HIT\n",
    "        \n",
    "strat_simple.name = 'simple'"
   ]
  },
  {
   "cell_type": "code",
   "execution_count": 5,
   "id": "thermal-future",
   "metadata": {
    "ExecuteTime": {
     "end_time": "2021-07-21T16:08:19.610036Z",
     "start_time": "2021-07-21T16:08:11.591470Z"
    }
   },
   "outputs": [
    {
     "name": "stdout",
     "output_type": "stream",
     "text": [
      " "
     ]
    },
    {
     "data": {
      "text/plain": [
       "(  strategy hand_start  dealer_card      hand_end    dealer_hand  \\\n",
       " 0   simple     [8, 4]           10     [8, 4, 6]       [10, 11]   \n",
       " 1   simple     [8, 4]           10     [8, 4, 6]       [10, 11]   \n",
       " 2   simple     [8, 4]           10     [8, 4, 9]       [10, 11]   \n",
       " 3   simple     [4, 6]            1  [4, 6, 5, 6]   [1, 5, 3, 8]   \n",
       " 4   simple     [4, 6]            1  [4, 6, 5, 7]   [1, 5, 3, 8]   \n",
       " 5   simple     [4, 6]            1     [4, 6, 1]   [1, 5, 3, 8]   \n",
       " 6   simple   [13, 11]            3      [13, 11]  [3, 2, 2, 10]   \n",
       " 7   simple   [13, 11]            3      [13, 11]  [3, 2, 2, 10]   \n",
       " 8   simple   [13, 11]            3      [13, 11]  [3, 2, 2, 10]   \n",
       " 9   simple    [13, 8]            2       [13, 8]  [2, 3, 9, 10]   \n",
       " \n",
       "             outcome  outcome_value outcome_name  \n",
       " 0  HandOutcome.LOSE           -1.0         LOSE  \n",
       " 1  HandOutcome.LOSE           -1.0         LOSE  \n",
       " 2   HandOutcome.WIN            1.0          WIN  \n",
       " 3   HandOutcome.WIN            1.0          WIN  \n",
       " 4  HandOutcome.LOSE           -1.0         LOSE  \n",
       " 5   HandOutcome.WIN            1.0          WIN  \n",
       " 6   HandOutcome.WIN            1.0          WIN  \n",
       " 7   HandOutcome.WIN            1.0          WIN  \n",
       " 8   HandOutcome.WIN            1.0          WIN  \n",
       " 9   HandOutcome.WIN            1.0          WIN  ,\n",
       "                    len                        mean_outcome\n",
       " outcome_name BLACKJACK    LOSE   PUSH     WIN             \n",
       " strategy                                                  \n",
       " simple           13377  145950  26131  114542    -0.037808)"
      ]
     },
     "execution_count": 5,
     "metadata": {},
     "output_type": "execute_result"
    }
   ],
   "source": [
    "%prun -s cumulative sims = sim.run_n_sim_trials([strat_simple, strat_simple, strat_simple], 100*1000)\n",
    "sims.head(10), sim.summarize_totals(sims)"
   ]
  },
  {
   "cell_type": "code",
   "execution_count": null,
   "id": "informative-breast",
   "metadata": {},
   "outputs": [],
   "source": []
  }
 ],
 "metadata": {
  "kernelspec": {
   "display_name": "Python 3",
   "language": "python",
   "name": "python3"
  },
  "language_info": {
   "codemirror_mode": {
    "name": "ipython",
    "version": 3
   },
   "file_extension": ".py",
   "mimetype": "text/x-python",
   "name": "python",
   "nbconvert_exporter": "python",
   "pygments_lexer": "ipython3",
   "version": "3.8.8"
  }
 },
 "nbformat": 4,
 "nbformat_minor": 5
}
