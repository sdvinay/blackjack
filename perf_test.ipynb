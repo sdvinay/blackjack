{
 "cells": [
  {
   "cell_type": "code",
   "execution_count": 1,
   "id": "hindu-preference",
   "metadata": {
    "ExecuteTime": {
     "end_time": "2021-08-07T04:47:09.446171Z",
     "start_time": "2021-08-07T04:47:09.442412Z"
    }
   },
   "outputs": [],
   "source": [
    "# perf test the blackjack sim"
   ]
  },
  {
   "cell_type": "code",
   "execution_count": 2,
   "id": "corresponding-lighter",
   "metadata": {
    "ExecuteTime": {
     "end_time": "2021-08-07T04:47:10.299728Z",
     "start_time": "2021-08-07T04:47:09.454146Z"
    }
   },
   "outputs": [],
   "source": [
    "import pandas as pd\n",
    "import matplotlib.pyplot as plt\n",
    "import seaborn as sns\n",
    "import pickle\n",
    "\n",
    "import blackjack as bj\n",
    "from blackjack import Hand, HandScore, Action, make_hand\n",
    "import simulator as sim"
   ]
  },
  {
   "cell_type": "code",
   "execution_count": 3,
   "id": "lovely-evaluation",
   "metadata": {
    "ExecuteTime": {
     "end_time": "2021-08-07T04:47:10.303356Z",
     "start_time": "2021-08-07T04:47:10.300899Z"
    }
   },
   "outputs": [],
   "source": [
    "\n",
    "def strat_simple_func(score_p, score_d):\n",
    "    if score_p.points == 11:  return Action.DOUBLE\n",
    "    if score_p.points >= 17:  return Action.STAND\n",
    "    if score_p.points <= 11:  return Action.HIT\n",
    "    if score_d.points in (range(3,7)):  return Action.STAND\n",
    "    else:  return Action.HIT\n",
    "\n",
    "strat_simple_func.name = 'simple'\n",
    "\n",
    "strat_simple = bj.Strategy_wrapper(strat_simple_func)\n",
    "\n",
    "\n",
    "strats = [strat_simple, strat_simple, strat_simple]"
   ]
  },
  {
   "cell_type": "code",
   "execution_count": 4,
   "id": "ranging-prescription",
   "metadata": {
    "ExecuteTime": {
     "end_time": "2021-08-07T04:47:10.309242Z",
     "start_time": "2021-08-07T04:47:10.304686Z"
    }
   },
   "outputs": [
    {
     "data": {
      "text/plain": [
       "[strat_simple_func,\n",
       " iter(1),\n",
       " iter(2),\n",
       " iter(3),\n",
       " iter(4),\n",
       " iter(5),\n",
       " iter(6),\n",
       " iter(7),\n",
       " iter(8),\n",
       " iter(9),\n",
       " iter(10)]"
      ]
     },
     "execution_count": 4,
     "metadata": {},
     "output_type": "execute_result"
    }
   ],
   "source": [
    "# open strategies from pickle (hopefully output from the optimizer)\n",
    "\n",
    "\n",
    "with open('strategies.pickle', 'rb') as handle:\n",
    "    strats = pickle.load(handle)\n",
    "    \n",
    "strats"
   ]
  },
  {
   "cell_type": "code",
   "execution_count": 5,
   "id": "dominican-inspector",
   "metadata": {
    "ExecuteTime": {
     "end_time": "2021-08-07T04:47:12.195358Z",
     "start_time": "2021-08-07T04:47:10.310201Z"
    }
   },
   "outputs": [
    {
     "name": "stdout",
     "output_type": "stream",
     "text": [
      " "
     ]
    },
    {
     "data": {
      "text/plain": [
       "(            strategy hand_start  dealer_card     hand_end dealer_hand  \\\n",
       " 0  strat_simple_func    [11, 6]            1  [11, 6, 13]      [1, 8]   \n",
       " 1            iter(1)    [11, 6]            1      [11, 6]      [1, 8]   \n",
       " 2            iter(2)    [11, 6]            1      [11, 6]      [1, 8]   \n",
       " 3            iter(3)    [11, 6]            1   [11, 6, 4]      [1, 8]   \n",
       " 4            iter(4)    [11, 6]            1  [11, 6, 13]      [1, 8]   \n",
       " 5            iter(5)    [11, 6]            1   [11, 6, 1]      [1, 8]   \n",
       " 6            iter(6)    [11, 6]            1      [11, 6]      [1, 8]   \n",
       " 7            iter(7)    [11, 6]            1   [11, 6, 1]      [1, 8]   \n",
       " 8            iter(8)    [11, 6]            1  [11, 6, 11]      [1, 8]   \n",
       " 9            iter(9)    [11, 6]            1   [11, 6, 4]      [1, 8]   \n",
       " \n",
       "                  outcome  outcome_value outcome_name  \n",
       " 0       HandOutcome.LOSE           -1.0         LOSE  \n",
       " 1       HandOutcome.LOSE           -1.0         LOSE  \n",
       " 2  HandOutcome.SURRENDER           -0.5    SURRENDER  \n",
       " 3        HandOutcome.WIN            1.0          WIN  \n",
       " 4       HandOutcome.LOSE           -1.0         LOSE  \n",
       " 5       HandOutcome.LOSE           -1.0         LOSE  \n",
       " 6  HandOutcome.SURRENDER           -0.5    SURRENDER  \n",
       " 7       HandOutcome.LOSE           -1.0         LOSE  \n",
       " 8       HandOutcome.LOSE           -1.0         LOSE  \n",
       " 9        HandOutcome.WIN            1.0          WIN  ,\n",
       "                         len                                                    \\\n",
       " outcome_name      BLACKJACK  LOSE LOSE_DOUBLE PUSH SURRENDER   WIN WIN_DOUBLE   \n",
       " strategy                                                                        \n",
       " iter(1)                 444  3692         374  735      1217  3065        473   \n",
       " iter(10)                444  4033         237  825       780  3304        377   \n",
       " iter(2)                 444  4457         221  811       282  3417        368   \n",
       " iter(3)                 444  4365         267  812       356  3365        391   \n",
       " iter(4)                 444  4347         239  775       448  3346        401   \n",
       " iter(5)                 444  4108         302  801       695  3235        415   \n",
       " iter(6)                 444  3980         231  808       841  3291        405   \n",
       " iter(7)                 444  4114         230  837       699  3328        348   \n",
       " iter(8)                 444  4305         243  806       447  3353        402   \n",
       " iter(9)                 444  4298         226  848       476  3324        384   \n",
       " strat_simple_func       444  4692         174  906         0  3527        257   \n",
       " \n",
       "                   mean_outcome  \n",
       " outcome_name                    \n",
       " strategy                        \n",
       " iter(1)               -0.03715  \n",
       " iter(10)              -0.01730  \n",
       " iter(2)               -0.02210  \n",
       " iter(3)               -0.02640  \n",
       " iter(4)               -0.02350  \n",
       " iter(5)               -0.03285  \n",
       " iter(6)               -0.00955  \n",
       " iter(7)               -0.02335  \n",
       " iter(8)               -0.01915  \n",
       " iter(9)               -0.02300  \n",
       " strat_simple_func     -0.03330  )"
      ]
     },
     "execution_count": 5,
     "metadata": {},
     "output_type": "execute_result"
    }
   ],
   "source": [
    "%prun -s cumulative sims = sim.run_n_sim_trials(strats, 10*1000)\n",
    "sims.head(10), sim.summarize_totals(sims)"
   ]
  },
  {
   "cell_type": "code",
   "execution_count": 6,
   "id": "jewish-cameroon",
   "metadata": {
    "ExecuteTime": {
     "end_time": "2021-08-07T04:47:12.207525Z",
     "start_time": "2021-08-07T04:47:12.196496Z"
    }
   },
   "outputs": [
    {
     "data": {
      "text/plain": [
       "{('h09', 's11'): <Action.HIT: 3>,\n",
       " ('h09', 'h02'): <Action.HIT: 3>,\n",
       " ('h09', 'h03'): <Action.DOUBLE: 4>,\n",
       " ('h09', 'h04'): <Action.DOUBLE: 4>,\n",
       " ('h09', 'h05'): <Action.DOUBLE: 4>,\n",
       " ('h09', 'h06'): <Action.DOUBLE: 4>,\n",
       " ('h09', 'h07'): <Action.HIT: 3>,\n",
       " ('h09', 'h08'): <Action.HIT: 3>,\n",
       " ('h09', 'h09'): <Action.HIT: 3>,\n",
       " ('h09', 'h10'): <Action.HIT: 3>,\n",
       " ('h10', 's11'): <Action.HIT: 3>,\n",
       " ('h10', 'h02'): <Action.DOUBLE: 4>,\n",
       " ('h10', 'h03'): <Action.DOUBLE: 4>,\n",
       " ('h10', 'h04'): <Action.DOUBLE: 4>,\n",
       " ('h10', 'h05'): <Action.DOUBLE: 4>,\n",
       " ('h10', 'h06'): <Action.DOUBLE: 4>,\n",
       " ('h10', 'h07'): <Action.DOUBLE: 4>,\n",
       " ('h10', 'h08'): <Action.DOUBLE: 4>,\n",
       " ('h10', 'h09'): <Action.DOUBLE: 4>,\n",
       " ('h10', 'h10'): <Action.HIT: 3>,\n",
       " ('h11', 's11'): <Action.HIT: 3>,\n",
       " ('h11', 'h02'): <Action.DOUBLE: 4>,\n",
       " ('h11', 'h03'): <Action.DOUBLE: 4>,\n",
       " ('h11', 'h04'): <Action.DOUBLE: 4>,\n",
       " ('h11', 'h05'): <Action.DOUBLE: 4>,\n",
       " ('h11', 'h06'): <Action.DOUBLE: 4>,\n",
       " ('h11', 'h07'): <Action.DOUBLE: 4>,\n",
       " ('h11', 'h08'): <Action.DOUBLE: 4>,\n",
       " ('h11', 'h09'): <Action.DOUBLE: 4>,\n",
       " ('h11', 'h10'): <Action.HIT: 3>,\n",
       " ('h12', 's11'): <Action.HIT: 3>,\n",
       " ('h12', 'h02'): <Action.HIT: 3>,\n",
       " ('h12', 'h03'): <Action.HIT: 3>,\n",
       " ('h12', 'h04'): <Action.HIT: 3>,\n",
       " ('h12', 'h05'): <Action.STAND: 2>,\n",
       " ('h12', 'h06'): <Action.STAND: 2>,\n",
       " ('h12', 'h07'): <Action.HIT: 3>,\n",
       " ('h12', 'h08'): <Action.HIT: 3>,\n",
       " ('h12', 'h09'): <Action.HIT: 3>,\n",
       " ('h12', 'h10'): <Action.HIT: 3>,\n",
       " ('h13', 's11'): <Action.HIT: 3>,\n",
       " ('h13', 'h02'): <Action.STAND: 2>,\n",
       " ('h13', 'h03'): <Action.STAND: 2>,\n",
       " ('h13', 'h04'): <Action.STAND: 2>,\n",
       " ('h13', 'h05'): <Action.STAND: 2>,\n",
       " ('h13', 'h06'): <Action.STAND: 2>,\n",
       " ('h13', 'h07'): <Action.HIT: 3>,\n",
       " ('h13', 'h08'): <Action.HIT: 3>,\n",
       " ('h13', 'h09'): <Action.HIT: 3>,\n",
       " ('h13', 'h10'): <Action.HIT: 3>,\n",
       " ('h14', 's11'): <Action.HIT: 3>,\n",
       " ('h14', 'h02'): <Action.STAND: 2>,\n",
       " ('h14', 'h03'): <Action.STAND: 2>,\n",
       " ('h14', 'h04'): <Action.STAND: 2>,\n",
       " ('h14', 'h05'): <Action.STAND: 2>,\n",
       " ('h14', 'h06'): <Action.STAND: 2>,\n",
       " ('h14', 'h07'): <Action.HIT: 3>,\n",
       " ('h14', 'h08'): <Action.HIT: 3>,\n",
       " ('h14', 'h09'): <Action.HIT: 3>,\n",
       " ('h14', 'h10'): <Action.HIT: 3>,\n",
       " ('h15', 's11'): <Action.HIT: 3>,\n",
       " ('h15', 'h02'): <Action.STAND: 2>,\n",
       " ('h15', 'h03'): <Action.STAND: 2>,\n",
       " ('h15', 'h04'): <Action.STAND: 2>,\n",
       " ('h15', 'h05'): <Action.STAND: 2>,\n",
       " ('h15', 'h06'): <Action.STAND: 2>,\n",
       " ('h15', 'h07'): <Action.HIT: 3>,\n",
       " ('h15', 'h08'): <Action.HIT: 3>,\n",
       " ('h15', 'h09'): <Action.HIT: 3>,\n",
       " ('h15', 'h10'): <Action.SURRENDER: 1>,\n",
       " ('h16', 's11'): <Action.HIT: 3>,\n",
       " ('h16', 'h02'): <Action.STAND: 2>,\n",
       " ('h16', 'h03'): <Action.STAND: 2>,\n",
       " ('h16', 'h04'): <Action.STAND: 2>,\n",
       " ('h16', 'h05'): <Action.STAND: 2>,\n",
       " ('h16', 'h06'): <Action.STAND: 2>,\n",
       " ('h16', 'h07'): <Action.HIT: 3>,\n",
       " ('h16', 'h08'): <Action.HIT: 3>,\n",
       " ('h16', 'h09'): <Action.SURRENDER: 1>,\n",
       " ('h16', 'h10'): <Action.SURRENDER: 1>,\n",
       " ('h17', 's11'): <Action.STAND: 2>,\n",
       " ('h17', 'h02'): <Action.STAND: 2>,\n",
       " ('h17', 'h03'): <Action.STAND: 2>,\n",
       " ('h17', 'h04'): <Action.STAND: 2>,\n",
       " ('h17', 'h05'): <Action.STAND: 2>,\n",
       " ('h17', 'h06'): <Action.STAND: 2>,\n",
       " ('h17', 'h07'): <Action.STAND: 2>,\n",
       " ('h17', 'h08'): <Action.STAND: 2>,\n",
       " ('h17', 'h09'): <Action.STAND: 2>,\n",
       " ('h17', 'h10'): <Action.STAND: 2>,\n",
       " ('h18', 's11'): <Action.STAND: 2>,\n",
       " ('h18', 'h02'): <Action.STAND: 2>,\n",
       " ('h18', 'h03'): <Action.STAND: 2>,\n",
       " ('h18', 'h04'): <Action.STAND: 2>,\n",
       " ('h18', 'h05'): <Action.STAND: 2>,\n",
       " ('h18', 'h06'): <Action.STAND: 2>,\n",
       " ('h18', 'h07'): <Action.STAND: 2>,\n",
       " ('h18', 'h08'): <Action.STAND: 2>,\n",
       " ('h18', 'h09'): <Action.STAND: 2>,\n",
       " ('h18', 'h10'): <Action.STAND: 2>,\n",
       " ('h19', 's11'): <Action.STAND: 2>,\n",
       " ('h19', 'h02'): <Action.STAND: 2>,\n",
       " ('h19', 'h03'): <Action.STAND: 2>,\n",
       " ('h19', 'h04'): <Action.STAND: 2>,\n",
       " ('h19', 'h05'): <Action.STAND: 2>,\n",
       " ('h19', 'h06'): <Action.STAND: 2>,\n",
       " ('h19', 'h07'): <Action.STAND: 2>,\n",
       " ('h19', 'h08'): <Action.STAND: 2>,\n",
       " ('h19', 'h09'): <Action.STAND: 2>,\n",
       " ('h19', 'h10'): <Action.STAND: 2>,\n",
       " ('h20', 's11'): <Action.STAND: 2>,\n",
       " ('h20', 'h02'): <Action.STAND: 2>,\n",
       " ('h20', 'h03'): <Action.STAND: 2>,\n",
       " ('h20', 'h04'): <Action.STAND: 2>,\n",
       " ('h20', 'h05'): <Action.STAND: 2>,\n",
       " ('h20', 'h06'): <Action.STAND: 2>,\n",
       " ('h20', 'h07'): <Action.STAND: 2>,\n",
       " ('h20', 'h08'): <Action.STAND: 2>,\n",
       " ('h20', 'h09'): <Action.STAND: 2>,\n",
       " ('h20', 'h10'): <Action.STAND: 2>,\n",
       " ('h21', 's11'): <Action.STAND: 2>,\n",
       " ('h21', 'h02'): <Action.STAND: 2>,\n",
       " ('h21', 'h03'): <Action.STAND: 2>,\n",
       " ('h21', 'h04'): <Action.STAND: 2>,\n",
       " ('h21', 'h05'): <Action.STAND: 2>,\n",
       " ('h21', 'h06'): <Action.STAND: 2>,\n",
       " ('h21', 'h07'): <Action.STAND: 2>,\n",
       " ('h21', 'h08'): <Action.STAND: 2>,\n",
       " ('h21', 'h09'): <Action.STAND: 2>,\n",
       " ('h21', 'h10'): <Action.STAND: 2>,\n",
       " ('h22', 's11'): <Action.HIT: 3>,\n",
       " ('h22', 'h02'): <Action.HIT: 3>,\n",
       " ('h22', 'h03'): <Action.HIT: 3>,\n",
       " ('h22', 'h04'): <Action.HIT: 3>,\n",
       " ('h22', 'h05'): <Action.HIT: 3>,\n",
       " ('h22', 'h06'): <Action.HIT: 3>,\n",
       " ('h22', 'h07'): <Action.HIT: 3>,\n",
       " ('h22', 'h08'): <Action.HIT: 3>,\n",
       " ('h22', 'h09'): <Action.HIT: 3>,\n",
       " ('h22', 'h10'): <Action.HIT: 3>,\n",
       " ('s11', 's11'): <Action.HIT: 3>,\n",
       " ('s11', 'h02'): <Action.DOUBLE: 4>,\n",
       " ('s11', 'h03'): <Action.DOUBLE: 4>,\n",
       " ('s11', 'h04'): <Action.DOUBLE: 4>,\n",
       " ('s11', 'h05'): <Action.DOUBLE: 4>,\n",
       " ('s11', 'h06'): <Action.DOUBLE: 4>,\n",
       " ('s11', 'h07'): <Action.DOUBLE: 4>,\n",
       " ('s11', 'h08'): <Action.DOUBLE: 4>,\n",
       " ('s11', 'h09'): <Action.HIT: 3>,\n",
       " ('s11', 'h10'): <Action.HIT: 3>,\n",
       " ('s12', 's11'): <Action.HIT: 3>,\n",
       " ('s12', 'h02'): <Action.HIT: 3>,\n",
       " ('s12', 'h03'): <Action.HIT: 3>,\n",
       " ('s12', 'h04'): <Action.HIT: 3>,\n",
       " ('s12', 'h05'): <Action.HIT: 3>,\n",
       " ('s12', 'h06'): <Action.HIT: 3>,\n",
       " ('s12', 'h07'): <Action.HIT: 3>,\n",
       " ('s12', 'h08'): <Action.HIT: 3>,\n",
       " ('s12', 'h09'): <Action.HIT: 3>,\n",
       " ('s12', 'h10'): <Action.HIT: 3>,\n",
       " ('s13', 's11'): <Action.HIT: 3>,\n",
       " ('s13', 'h02'): <Action.HIT: 3>,\n",
       " ('s13', 'h03'): <Action.HIT: 3>,\n",
       " ('s13', 'h04'): <Action.HIT: 3>,\n",
       " ('s13', 'h05'): <Action.HIT: 3>,\n",
       " ('s13', 'h06'): <Action.HIT: 3>,\n",
       " ('s13', 'h07'): <Action.HIT: 3>,\n",
       " ('s13', 'h08'): <Action.HIT: 3>,\n",
       " ('s13', 'h09'): <Action.HIT: 3>,\n",
       " ('s13', 'h10'): <Action.HIT: 3>,\n",
       " ('s14', 's11'): <Action.HIT: 3>,\n",
       " ('s14', 'h02'): <Action.HIT: 3>,\n",
       " ('s14', 'h03'): <Action.HIT: 3>,\n",
       " ('s14', 'h04'): <Action.HIT: 3>,\n",
       " ('s14', 'h05'): <Action.HIT: 3>,\n",
       " ('s14', 'h06'): <Action.HIT: 3>,\n",
       " ('s14', 'h07'): <Action.HIT: 3>,\n",
       " ('s14', 'h08'): <Action.HIT: 3>,\n",
       " ('s14', 'h09'): <Action.HIT: 3>,\n",
       " ('s14', 'h10'): <Action.HIT: 3>,\n",
       " ('s15', 's11'): <Action.HIT: 3>,\n",
       " ('s15', 'h02'): <Action.HIT: 3>,\n",
       " ('s15', 'h03'): <Action.HIT: 3>,\n",
       " ('s15', 'h04'): <Action.HIT: 3>,\n",
       " ('s15', 'h05'): <Action.HIT: 3>,\n",
       " ('s15', 'h06'): <Action.HIT: 3>,\n",
       " ('s15', 'h07'): <Action.HIT: 3>,\n",
       " ('s15', 'h08'): <Action.HIT: 3>,\n",
       " ('s15', 'h09'): <Action.HIT: 3>,\n",
       " ('s15', 'h10'): <Action.HIT: 3>,\n",
       " ('s16', 's11'): <Action.HIT: 3>,\n",
       " ('s16', 'h02'): <Action.HIT: 3>,\n",
       " ('s16', 'h03'): <Action.HIT: 3>,\n",
       " ('s16', 'h04'): <Action.HIT: 3>,\n",
       " ('s16', 'h05'): <Action.HIT: 3>,\n",
       " ('s16', 'h06'): <Action.HIT: 3>,\n",
       " ('s16', 'h07'): <Action.HIT: 3>,\n",
       " ('s16', 'h08'): <Action.HIT: 3>,\n",
       " ('s16', 'h09'): <Action.HIT: 3>,\n",
       " ('s16', 'h10'): <Action.HIT: 3>,\n",
       " ('s17', 's11'): <Action.HIT: 3>,\n",
       " ('s17', 'h02'): <Action.HIT: 3>,\n",
       " ('s17', 'h03'): <Action.HIT: 3>,\n",
       " ('s17', 'h04'): <Action.HIT: 3>,\n",
       " ('s17', 'h05'): <Action.HIT: 3>,\n",
       " ('s17', 'h06'): <Action.HIT: 3>,\n",
       " ('s17', 'h07'): <Action.HIT: 3>,\n",
       " ('s17', 'h08'): <Action.HIT: 3>,\n",
       " ('s17', 'h09'): <Action.HIT: 3>,\n",
       " ('s17', 'h10'): <Action.HIT: 3>,\n",
       " ('s18', 's11'): <Action.STAND: 2>,\n",
       " ('s18', 'h02'): <Action.STAND: 2>,\n",
       " ('s18', 'h03'): <Action.STAND: 2>,\n",
       " ('s18', 'h04'): <Action.STAND: 2>,\n",
       " ('s18', 'h05'): <Action.STAND: 2>,\n",
       " ('s18', 'h06'): <Action.STAND: 2>,\n",
       " ('s18', 'h07'): <Action.STAND: 2>,\n",
       " ('s18', 'h08'): <Action.STAND: 2>,\n",
       " ('s18', 'h09'): <Action.STAND: 2>,\n",
       " ('s18', 'h10'): <Action.STAND: 2>,\n",
       " ('s19', 's11'): <Action.STAND: 2>,\n",
       " ('s19', 'h02'): <Action.STAND: 2>,\n",
       " ('s19', 'h03'): <Action.STAND: 2>,\n",
       " ('s19', 'h04'): <Action.STAND: 2>,\n",
       " ('s19', 'h05'): <Action.STAND: 2>,\n",
       " ('s19', 'h06'): <Action.STAND: 2>,\n",
       " ('s19', 'h07'): <Action.STAND: 2>,\n",
       " ('s19', 'h08'): <Action.STAND: 2>,\n",
       " ('s19', 'h09'): <Action.STAND: 2>,\n",
       " ('s19', 'h10'): <Action.STAND: 2>,\n",
       " ('s20', 's11'): <Action.STAND: 2>,\n",
       " ('s20', 'h02'): <Action.STAND: 2>,\n",
       " ('s20', 'h03'): <Action.STAND: 2>,\n",
       " ('s20', 'h04'): <Action.STAND: 2>,\n",
       " ('s20', 'h05'): <Action.STAND: 2>,\n",
       " ('s20', 'h06'): <Action.STAND: 2>,\n",
       " ('s20', 'h07'): <Action.STAND: 2>,\n",
       " ('s20', 'h08'): <Action.STAND: 2>,\n",
       " ('s20', 'h09'): <Action.STAND: 2>,\n",
       " ('s20', 'h10'): <Action.STAND: 2>,\n",
       " ('s21', 's11'): <Action.STAND: 2>,\n",
       " ('s21', 'h02'): <Action.STAND: 2>,\n",
       " ('s21', 'h03'): <Action.STAND: 2>,\n",
       " ('s21', 'h04'): <Action.STAND: 2>,\n",
       " ('s21', 'h05'): <Action.STAND: 2>,\n",
       " ('s21', 'h06'): <Action.STAND: 2>,\n",
       " ('s21', 'h07'): <Action.STAND: 2>,\n",
       " ('s21', 'h08'): <Action.STAND: 2>,\n",
       " ('s21', 'h09'): <Action.STAND: 2>,\n",
       " ('s21', 'h10'): <Action.STAND: 2>}"
      ]
     },
     "execution_count": 6,
     "metadata": {},
     "output_type": "execute_result"
    }
   ],
   "source": [
    "strats[-1].instructions"
   ]
  },
  {
   "cell_type": "code",
   "execution_count": 7,
   "id": "welsh-tower",
   "metadata": {
    "ExecuteTime": {
     "end_time": "2021-08-07T04:47:12.211431Z",
     "start_time": "2021-08-07T04:47:12.209123Z"
    }
   },
   "outputs": [
    {
     "data": {
      "text/plain": [
       "'strat_dealer_func'"
      ]
     },
     "execution_count": 7,
     "metadata": {},
     "output_type": "execute_result"
    }
   ],
   "source": [
    "bj.strat_dealer_func.__name__"
   ]
  },
  {
   "cell_type": "code",
   "execution_count": null,
   "id": "suburban-amplifier",
   "metadata": {},
   "outputs": [],
   "source": []
  }
 ],
 "metadata": {
  "kernelspec": {
   "display_name": "Python 3",
   "language": "python",
   "name": "python3"
  },
  "language_info": {
   "codemirror_mode": {
    "name": "ipython",
    "version": 3
   },
   "file_extension": ".py",
   "mimetype": "text/x-python",
   "name": "python",
   "nbconvert_exporter": "python",
   "pygments_lexer": "ipython3",
   "version": "3.8.8"
  }
 },
 "nbformat": 4,
 "nbformat_minor": 5
}
