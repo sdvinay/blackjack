{
    "cells": [
        {
            "cell_type": "markdown",
            "source": [
                "# Test the Stateful Shoe (and some initial card counting)"
            ],
            "metadata": {}
        },
        {
            "cell_type": "code",
            "execution_count": 1,
            "source": [
                "import blackjack as bj\n",
                "import shoe\n",
                "from typing import Sequence"
            ],
            "outputs": [],
            "metadata": {}
        },
        {
            "cell_type": "code",
            "execution_count": 2,
            "source": [
                "s = shoe.StatefulShoe()\n",
                "s.deal()"
            ],
            "outputs": [
                {
                    "output_type": "execute_result",
                    "data": {
                        "text/plain": [
                            "9"
                        ]
                    },
                    "metadata": {},
                    "execution_count": 2
                }
            ],
            "metadata": {}
        },
        {
            "cell_type": "code",
            "execution_count": 3,
            "source": [
                "s.deal()"
            ],
            "outputs": [
                {
                    "output_type": "execute_result",
                    "data": {
                        "text/plain": [
                            "9"
                        ]
                    },
                    "metadata": {},
                    "execution_count": 3
                }
            ],
            "metadata": {}
        },
        {
            "cell_type": "code",
            "execution_count": 4,
            "source": [
                "len(s.shoe.cards)"
            ],
            "outputs": [
                {
                    "output_type": "execute_result",
                    "data": {
                        "text/plain": [
                            "414"
                        ]
                    },
                    "metadata": {},
                    "execution_count": 4
                }
            ],
            "metadata": {}
        },
        {
            "cell_type": "markdown",
            "source": [
                "## Now some basic card counting"
            ],
            "metadata": {}
        },
        {
            "cell_type": "code",
            "execution_count": 5,
            "source": [
                "# Create a dict representing our scoring system\n",
                "# Ugly expression but it creates the dict we want for fast lookups\n",
                "card_values = {**{i:-1 for i in range(2,7)}, **{1:1}, **{i:1 for i in range(10,14)}, **{i:0 for i in range(7,10)}}\n",
                "card_values\n"
            ],
            "outputs": [
                {
                    "output_type": "execute_result",
                    "data": {
                        "text/plain": [
                            "{2: -1,\n",
                            " 3: -1,\n",
                            " 4: -1,\n",
                            " 5: -1,\n",
                            " 6: -1,\n",
                            " 1: 1,\n",
                            " 10: 1,\n",
                            " 11: 1,\n",
                            " 12: 1,\n",
                            " 13: 1,\n",
                            " 7: 0,\n",
                            " 8: 0,\n",
                            " 9: 0}"
                        ]
                    },
                    "metadata": {},
                    "execution_count": 5
                }
            ],
            "metadata": {}
        },
        {
            "cell_type": "code",
            "execution_count": 6,
            "source": [
                "\n",
                "def compute_basic_count(cards: Sequence[bj.Card]) -> int:\n",
                "    return sum([card_values[c] for c in cards])"
            ],
            "outputs": [],
            "metadata": {}
        },
        {
            "cell_type": "code",
            "execution_count": 7,
            "source": [
                "compute_basic_count(s.shoe.cards)"
            ],
            "outputs": [
                {
                    "output_type": "execute_result",
                    "data": {
                        "text/plain": [
                            "0"
                        ]
                    },
                    "metadata": {},
                    "execution_count": 7
                }
            ],
            "metadata": {}
        },
        {
            "cell_type": "code",
            "execution_count": 8,
            "source": [
                "def compute_true_count(cards: Sequence[bj.Card]) -> int:\n",
                "    raw_count = compute_basic_count(cards)\n",
                "    return raw_count/len(cards)*52"
            ],
            "outputs": [],
            "metadata": {}
        },
        {
            "cell_type": "code",
            "execution_count": 9,
            "source": [
                "compute_true_count(s.shoe.cards)"
            ],
            "outputs": [
                {
                    "output_type": "execute_result",
                    "data": {
                        "text/plain": [
                            "0.0"
                        ]
                    },
                    "metadata": {},
                    "execution_count": 9
                }
            ],
            "metadata": {}
        },
        {
            "cell_type": "code",
            "execution_count": 10,
            "source": [
                "for i in range(10000):\n",
                "    #print (s.deal(), compute_true_count(s.shoe.cards))\n",
                "    s.deal()\n",
                "    if len(s.shoe.cards) < 152:\n",
                "        print('shuffle', compute_true_count(s.shoe.cards))\n",
                "        s.shuffle()"
            ],
            "outputs": [
                {
                    "output_type": "stream",
                    "name": "stdout",
                    "text": [
                        "shuffle 0.6887417218543046\n",
                        "shuffle 0.0\n",
                        "shuffle -2.7549668874172184\n",
                        "shuffle -4.47682119205298\n",
                        "shuffle 1.7218543046357617\n",
                        "shuffle 3.4437086092715234\n",
                        "shuffle 2.410596026490066\n",
                        "shuffle 2.7549668874172184\n",
                        "shuffle 5.1655629139072845\n",
                        "shuffle 1.033112582781457\n",
                        "shuffle 5.85430463576159\n",
                        "shuffle -1.3774834437086092\n",
                        "shuffle -2.410596026490066\n",
                        "shuffle -3.0993377483443707\n",
                        "shuffle -3.7880794701986753\n",
                        "shuffle -1.033112582781457\n",
                        "shuffle -1.3774834437086092\n",
                        "shuffle -5.85430463576159\n",
                        "shuffle 1.033112582781457\n",
                        "shuffle -0.6887417218543046\n",
                        "shuffle 3.4437086092715234\n",
                        "shuffle -1.3774834437086092\n",
                        "shuffle 0.0\n",
                        "shuffle -4.47682119205298\n",
                        "shuffle 4.821192052980132\n",
                        "shuffle -1.7218543046357617\n",
                        "shuffle 2.7549668874172184\n",
                        "shuffle 0.0\n",
                        "shuffle -4.47682119205298\n",
                        "shuffle 0.3443708609271523\n",
                        "shuffle 3.0993377483443707\n",
                        "shuffle 0.6887417218543046\n",
                        "shuffle -1.3774834437086092\n",
                        "shuffle -0.3443708609271523\n",
                        "shuffle 2.066225165562914\n",
                        "shuffle 0.6887417218543046\n",
                        "shuffle 3.4437086092715234\n"
                    ]
                }
            ],
            "metadata": {}
        },
        {
            "cell_type": "code",
            "execution_count": null,
            "source": [],
            "outputs": [],
            "metadata": {}
        }
    ],
    "metadata": {
        "orig_nbformat": 4,
        "language_info": {
            "name": "python",
            "version": "3.8.8",
            "mimetype": "text/x-python",
            "codemirror_mode": {
                "name": "ipython",
                "version": 3
            },
            "pygments_lexer": "ipython3",
            "nbconvert_exporter": "python",
            "file_extension": ".py"
        },
        "kernelspec": {
            "name": "python3",
            "display_name": "Python 3.8.8 64-bit ('base': conda)"
        },
        "interpreter": {
            "hash": "344443636c3027c5042750c9c609acdda283a9c43681b128a8c1053e7ad2aa7d"
        }
    },
    "nbformat": 4,
    "nbformat_minor": 2
}